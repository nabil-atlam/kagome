{
 "cells": [
  {
   "cell_type": "code",
   "execution_count": 218,
   "metadata": {},
   "outputs": [
    {
     "name": "stderr",
     "output_type": "stream",
     "text": [
      "WARNING: replacing module KagomeTransport.\n",
      "WARNING: using Kagome_Hamiltonian.real_basis in module Main conflicts with an existing identifier.\n"
     ]
    }
   ],
   "source": [
    "include(\"../src/KagomeTransport.jl\");\n",
    "using .KagomeTransport.Kagome_Hamiltonian;\n",
    "using LinearAlgebra;\n",
    "using Symbolics;\n",
    "using Symbolics:build_function"
   ]
  },
  {
   "cell_type": "code",
   "execution_count": 219,
   "metadata": {},
   "outputs": [
    {
     "data": {
      "text/plain": [
       "ϕ3 (generic function with 1 method)"
      ]
     },
     "metadata": {},
     "output_type": "display_data"
    }
   ],
   "source": [
    "# Start with the simple nearest neighbor model with no spin-orbit coupling. Compute the velocity matrices \n",
    "@inline function ϕ1(k1, k2)\n",
    "    1.0 + exp(im * k1)\n",
    "end\n",
    "\n",
    "@inline function ϕ2(k1, k2)\n",
    "    1.0 + exp(im * k2)\n",
    "end\n",
    "\n",
    "@inline function ϕ3(k1, k2)\n",
    "    1.0 + exp(im * (k2 - k1))\n",
    "end"
   ]
  },
  {
   "cell_type": "code",
   "execution_count": 220,
   "metadata": {},
   "outputs": [],
   "source": [
    "# Here, we use symbolic expressions to derive the orbital velocities \n",
    "@variables k1 real = true\n",
    "@variables k2 real = true \n",
    "@variables kx real = true\n",
    "@variables ky real = true ;\n"
   ]
  },
  {
   "cell_type": "code",
   "execution_count": 221,
   "metadata": {},
   "outputs": [
    {
     "name": "stdout",
     "output_type": "stream",
     "text": [
      "k1 = -kx\n",
      "k2 = -0.5kx - 0.8660254037844386ky\n"
     ]
    }
   ],
   "source": [
    "kred = real_basis * [kx, ky]\n",
    "k1 = kred[1]; k2 = kred[2]\n",
    "print(\"k1\", \" = \", k1, \"\\n\")\n",
    "print(\"k2\", \" = \", k2, \"\\n\")"
   ]
  },
  {
   "cell_type": "code",
   "execution_count": 222,
   "metadata": {},
   "outputs": [],
   "source": [
    "Φ1 = 1.0 + exp(im * k1)\n",
    "Φ2 = 1.0 + exp(im * k2)\n",
    "Φ3 = 1.0 + exp(-im * (k1 - k2));"
   ]
  },
  {
   "cell_type": "code",
   "execution_count": 223,
   "metadata": {},
   "outputs": [],
   "source": [
    "# Symbolic Differentiation \n",
    "Dx = Differential(kx); Dy = Differential(ky);"
   ]
  },
  {
   "cell_type": "code",
   "execution_count": 224,
   "metadata": {},
   "outputs": [],
   "source": [
    "dΦ1dkx = simplify(expand_derivatives(Dx(Φ1)))\n",
    "dΦ1dky = simplify(expand_derivatives(Dy(Φ1)))\n",
    "\n",
    "dΦ2dkx = simplify(expand_derivatives(Dx(Φ2)))\n",
    "dΦ2dky = simplify(expand_derivatives(Dy(Φ2)))\n",
    "\n",
    "dΦ3dkx = simplify(expand_derivatives(Dx(Φ3)))\n",
    "dΦ3dky = simplify(expand_derivatives(Dy(Φ3)));\n"
   ]
  },
  {
   "cell_type": "code",
   "execution_count": 225,
   "metadata": {},
   "outputs": [
    {
     "name": "stdout",
     "output_type": "stream",
     "text": [
      "dΦ1dkx = sin(-kx) - im*cos(-kx)\n",
      "\n",
      "dΦ1dky = 0\n",
      "\n",
      "dΦ2dkx = 0.5sin(-0.5kx - 0.8660254037844386ky) - 0.5im*cos(-0.5kx - 0.8660254037844386ky)\n",
      "\n",
      "dΦ2dky = 0.8660254037844386sin(-0.5kx - 0.8660254037844386ky) - 0.8660254037844386im*cos(-0.5kx - 0.8660254037844386ky)\n",
      "\n",
      "dΦ3dkx = -0.5sin(0.5kx - 0.8660254037844386ky) + 0.5im*cos(0.5kx - 0.8660254037844386ky)\n",
      "\n",
      "dΦ3dky = 0.8660254037844386sin(0.5kx - 0.8660254037844386ky) - 0.8660254037844386im*cos(0.5kx - 0.8660254037844386ky)\n",
      "\n"
     ]
    }
   ],
   "source": [
    "println(\"dΦ1dkx = \", dΦ1dkx, \"\\n\")\n",
    "println(\"dΦ1dky = \", dΦ1dky, \"\\n\")\n",
    "\n",
    "println(\"dΦ2dkx = \", dΦ2dkx, \"\\n\")\n",
    "println(\"dΦ2dky = \", dΦ2dky, \"\\n\")\n",
    "\n",
    "println(\"dΦ3dkx = \", dΦ3dkx, \"\\n\")\n",
    "println(\"dΦ3dky = \", dΦ3dky, \"\\n\")"
   ]
  }
 ],
 "metadata": {
  "kernelspec": {
   "display_name": "Julia 1.11.2",
   "language": "julia",
   "name": "julia-1.11"
  },
  "language_info": {
   "file_extension": ".jl",
   "mimetype": "application/julia",
   "name": "julia",
   "version": "1.11.2"
  }
 },
 "nbformat": 4,
 "nbformat_minor": 2
}
