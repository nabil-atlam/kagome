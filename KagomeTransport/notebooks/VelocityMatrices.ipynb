{
 "cells": [
  {
   "cell_type": "code",
   "execution_count": 1,
   "metadata": {},
   "outputs": [],
   "source": [
    "include(\"../src/KagomeTransport.jl\");\n",
    "using .KagomeTransport.Kagome_Hamiltonian;\n",
    "using LinearAlgebra;\n",
    "using Symbolics;\n",
    "using Symbolics:build_function"
   ]
  },
  {
   "cell_type": "code",
   "execution_count": 2,
   "metadata": {},
   "outputs": [
    {
     "data": {
      "text/plain": [
       "ϕ3 (generic function with 1 method)"
      ]
     },
     "metadata": {},
     "output_type": "display_data"
    }
   ],
   "source": [
    "# Start with the simple nearest neighbor model with no spin-orbit coupling. Compute the velocity matrices \n",
    "@inline function ϕ1(k1, k2)\n",
    "    1.0 + exp(im * k1)\n",
    "end\n",
    "\n",
    "@inline function ϕ2(k1, k2)\n",
    "    1.0 + exp(im * k2)\n",
    "end\n",
    "\n",
    "@inline function ϕ3(k1, k2)\n",
    "    1.0 + exp(im * (k2 - k1))\n",
    "end"
   ]
  },
  {
   "cell_type": "code",
   "execution_count": 3,
   "metadata": {},
   "outputs": [],
   "source": [
    "# Here, we use symbolic expressions to derive the orbital velocities \n",
    "@variables k1 real = true\n",
    "@variables k2 real = true \n",
    "@variables kx real = true\n",
    "@variables ky real = true ;\n"
   ]
  },
  {
   "cell_type": "code",
   "execution_count": 4,
   "metadata": {},
   "outputs": [
    {
     "name": "stdout",
     "output_type": "stream",
     "text": [
      "k1 = kx\n",
      "k2 = 0.5kx + 0.8660254037844386ky\n"
     ]
    }
   ],
   "source": [
    "kred = real_basis * [kx, ky]\n",
    "k1 = kred[1]; k2 = kred[2]\n",
    "print(\"k1\", \" = \", k1, \"\\n\")\n",
    "print(\"k2\", \" = \", k2, \"\\n\")"
   ]
  },
  {
   "cell_type": "code",
   "execution_count": 11,
   "metadata": {},
   "outputs": [],
   "source": [
    "Φ1nn = 1.0 + exp(im * k1)\n",
    "Φ2nn = 1.0 + exp(im * k2)\n",
    "Φ3nn = 1.0 + exp(-im * (k1 - k2));\n",
    "\n",
    "Φ1nnn = exp(im * (k1 - k2)) + exp(im * k2);\n",
    "Φ2nnn = exp(-im * (k1 - k2)) + exp(im * k1);\n",
    "Φ3nnn = exp(-im * k1) + exp(im * k2);"
   ]
  },
  {
   "cell_type": "code",
   "execution_count": 12,
   "metadata": {},
   "outputs": [
    {
     "name": "stdout",
     "output_type": "stream",
     "text": [
      "Φ1nn = 1.0 + cos(kx) + im*sin(kx)\n",
      "\n",
      "Φ2nn = 1.0 + cos(0.5kx + 0.8660254037844386ky) + im*sin(0.5kx + 0.8660254037844386ky)\n",
      "\n",
      "Φ3nn = 1.0 + cos(-0.5kx + 0.8660254037844386ky) + im*sin(-0.5kx + 0.8660254037844386ky)\n",
      "\n",
      "\n",
      "Φ1nnn = cos(0.5kx + 0.8660254037844386ky) + cos(0.5kx - 0.8660254037844386ky) + im*(sin(0.5kx + 0.8660254037844386ky) + sin(0.5kx - 0.8660254037844386ky))\n",
      "\n",
      "Φ2nnn = cos(kx) + cos(-0.5kx + 0.8660254037844386ky) + im*(sin(-0.5kx + 0.8660254037844386ky) + sin(kx))\n",
      "\n",
      "Φ3nnn = cos(-kx) + cos(0.5kx + 0.8660254037844386ky) + im*(sin(-kx) + sin(0.5kx + 0.8660254037844386ky))\n",
      "\n"
     ]
    }
   ],
   "source": [
    "println(\"Φ1nn = \", Φ1nn, \"\\n\")\n",
    "println(\"Φ2nn = \", Φ2nn, \"\\n\")\n",
    "println(\"Φ3nn = \", Φ3nn, \"\\n\")\n",
    "\n",
    "print(\"\\n\")\n",
    "\n",
    "println(\"Φ1nnn = \", Φ1nnn, \"\\n\")\n",
    "println(\"Φ2nnn = \", Φ2nnn, \"\\n\")\n",
    "println(\"Φ3nnn = \", Φ3nnn, \"\\n\")\n",
    "\n"
   ]
  },
  {
   "cell_type": "code",
   "execution_count": 7,
   "metadata": {},
   "outputs": [],
   "source": [
    "# Symbolic Differentiation \n",
    "Dx = Differential(kx); Dy = Differential(ky);"
   ]
  },
  {
   "cell_type": "code",
   "execution_count": 8,
   "metadata": {},
   "outputs": [],
   "source": [
    "dΦ1dkx = simplify(expand_derivatives(Dx(Φ1)))\n",
    "dΦ1dky = simplify(expand_derivatives(Dy(Φ1)))\n",
    "\n",
    "dΦ2dkx = simplify(expand_derivatives(Dx(Φ2)))\n",
    "dΦ2dky = simplify(expand_derivatives(Dy(Φ2)))\n",
    "\n",
    "dΦ3dkx = simplify(expand_derivatives(Dx(Φ3)))\n",
    "dΦ3dky = simplify(expand_derivatives(Dy(Φ3)));\n"
   ]
  },
  {
   "cell_type": "code",
   "execution_count": 9,
   "metadata": {},
   "outputs": [
    {
     "name": "stdout",
     "output_type": "stream",
     "text": [
      "dΦ1dkx = -sin(kx) + im*cos(kx)\n",
      "\n",
      "dΦ1dky = 0\n",
      "\n",
      "dΦ2dkx = -0.5sin(0.5kx + 0.8660254037844386ky) + 0.5im*cos(0.5kx + 0.8660254037844386ky)\n",
      "\n",
      "dΦ2dky = -0.8660254037844386sin(0.5kx + 0.8660254037844386ky) + 0.8660254037844386im*cos(0.5kx + 0.8660254037844386ky)\n",
      "\n",
      "dΦ3dkx = 0.5sin(-0.5kx + 0.8660254037844386ky) - 0.5im*cos(-0.5kx + 0.8660254037844386ky)\n",
      "\n",
      "dΦ3dky = -0.8660254037844386sin(-0.5kx + 0.8660254037844386ky) + 0.8660254037844386im*cos(-0.5kx + 0.8660254037844386ky)\n",
      "\n"
     ]
    }
   ],
   "source": [
    "println(\"dΦ1dkx = \", dΦ1dkx, \"\\n\")\n",
    "println(\"dΦ1dky = \", dΦ1dky, \"\\n\")\n",
    "\n",
    "println(\"dΦ2dkx = \", dΦ2dkx, \"\\n\")\n",
    "println(\"dΦ2dky = \", dΦ2dky, \"\\n\")\n",
    "\n",
    "println(\"dΦ3dkx = \", dΦ3dkx, \"\\n\")\n",
    "println(\"dΦ3dky = \", dΦ3dky, \"\\n\")"
   ]
  },
  {
   "cell_type": "code",
   "execution_count": 10,
   "metadata": {},
   "outputs": [
    {
     "data": {
      "text/plain": [
       "fdΦ3dky (generic function with 1 method)"
      ]
     },
     "metadata": {},
     "output_type": "display_data"
    }
   ],
   "source": [
    "# Remark:  k2  = -1/2 kx - 1 / 2 sqrt(3) ky          -0.5 * kx - 0.5 * sqrt(3.0) * ky\n",
    "#       : -k3  =  1/2 kx - 1 / 2 sqrt(3) ky           0.5 * kx - 0.5 * sqrt(3.0) * ky\n",
    "\n",
    "@inline function fdΦ1dkx(kx, ky)\n",
    "    -1.0 * (sin(kx) + im * cos(kx))\n",
    "end\n",
    "\n",
    "@inline function fdΦ1dky(kx, ky)\n",
    "    0.0\n",
    "end\n",
    "\n",
    "\n",
    "\n",
    "@inline function fdΦ2dkx(kx, ky)\n",
    "    0.5 * (sin(-0.5 * kx - 0.5 * sqrt(3.0) * ky) + im * cos(-0.5 * kx - 0.5 * sqrt(3.0) * ky))\n",
    "end\n",
    "\n",
    "@inline function fdΦ2dky(kx, ky)\n",
    "    0.5 * sqrt(3.0) * (sin(-0.5 * kx - 0.5 * sqrt(3.0) * ky) - im * cos(-0.5 * kx - 0.5 * sqrt(3.0) * ky))\n",
    "end\n",
    "\n",
    "\n",
    "\n",
    "@inline function fdΦ3dkx(kx, ky)\n",
    "    0.5 * (-sin(0.5 * kx - 0.5 * sqrt(3.0) * ky) + im * cos(0.5 * kx - 0.5 * sqrt(3.0) * ky))\n",
    "end\n",
    "\n",
    "@inline function fdΦ3dky(kx, ky)\n",
    "    0.5 * sqrt(3.0) * (sin(0.5 * kx - 0.5 * sqrt(3.0) * ky) - im * cos(0.5 * kx - 0.5 * sqrt(3.0) * ky))\n",
    "end\n",
    "\n"
   ]
  }
 ],
 "metadata": {
  "kernelspec": {
   "display_name": "Julia 1.11.2",
   "language": "julia",
   "name": "julia-1.11"
  },
  "language_info": {
   "file_extension": ".jl",
   "mimetype": "application/julia",
   "name": "julia",
   "version": "1.11.2"
  }
 },
 "nbformat": 4,
 "nbformat_minor": 2
}
