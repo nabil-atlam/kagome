{
 "cells": [
  {
   "cell_type": "code",
   "execution_count": 1,
   "metadata": {},
   "outputs": [],
   "source": [
    "include(\"../src/KagomeTransport.jl\");\n",
    "using .KagomeTransport.Kagome_Hamiltonian;\n",
    "using LinearAlgebra;\n",
    "using Symbolics;\n",
    "using Symbolics:build_function"
   ]
  },
  {
   "cell_type": "code",
   "execution_count": 2,
   "metadata": {},
   "outputs": [
    {
     "data": {
      "text/plain": [
       "ϕ3 (generic function with 1 method)"
      ]
     },
     "metadata": {},
     "output_type": "display_data"
    }
   ],
   "source": [
    "# Start with the simple nearest neighbor model with no spin-orbit coupling. Compute the velocity matrices \n",
    "@inline function ϕ1(k1, k2)\n",
    "    1.0 + exp(im * k1)\n",
    "end\n",
    "\n",
    "@inline function ϕ2(k1, k2)\n",
    "    1.0 + exp(im * k2)\n",
    "end\n",
    "\n",
    "@inline function ϕ3(k1, k2)\n",
    "    1.0 + exp(im * (k2 - k1))\n",
    "end"
   ]
  },
  {
   "cell_type": "code",
   "execution_count": 3,
   "metadata": {},
   "outputs": [],
   "source": [
    "# Here, we use symbolic expressions to derive the orbital velocities \n",
    "@variables k1 real = true\n",
    "@variables k2 real = true \n",
    "@variables kx real = true\n",
    "@variables ky real = true ;\n"
   ]
  },
  {
   "cell_type": "code",
   "execution_count": 4,
   "metadata": {},
   "outputs": [
    {
     "name": "stdout",
     "output_type": "stream",
     "text": [
      "k1 = kx\n",
      "k2 = 0.5kx + 0.8660254037844386ky\n"
     ]
    }
   ],
   "source": [
    "kred = real_basis * [kx, ky]\n",
    "k1 = kred[1]; k2 = kred[2]\n",
    "print(\"k1\", \" = \", k1, \"\\n\")\n",
    "print(\"k2\", \" = \", k2, \"\\n\")"
   ]
  },
  {
   "cell_type": "code",
   "execution_count": 5,
   "metadata": {},
   "outputs": [],
   "source": [
    "Φ1nn = 1.0 + exp(im * k1)\n",
    "Φ2nn = 1.0 + exp(im * k2)\n",
    "Φ3nn = 1.0 + exp(-im * (k1 - k2));\n",
    "\n",
    "Φ1nnn = exp(im * (k1 - k2)) + exp(im * k2);\n",
    "Φ2nnn = exp(-im * (k1 - k2)) + exp(im * k1);\n",
    "Φ3nnn = exp(-im * k1) + exp(im * k2);"
   ]
  },
  {
   "cell_type": "code",
   "execution_count": 6,
   "metadata": {},
   "outputs": [
    {
     "name": "stdout",
     "output_type": "stream",
     "text": [
      "Φ1nn = 1.0 + cos(kx) + im*sin(kx)\n",
      "\n",
      "Φ2nn = 1.0 + cos(0.5kx + 0.8660254037844386ky) + im*sin(0.5kx + 0.8660254037844386ky)\n",
      "\n",
      "Φ3nn = 1.0 + cos(-0.5kx + 0.8660254037844386ky) + im*sin(-0.5kx + 0.8660254037844386ky)\n",
      "\n",
      "\n",
      "Φ1nnn = cos(0.5kx + 0.8660254037844386ky) + cos(0.5kx - 0.8660254037844386ky) + im*(sin(0.5kx + 0.8660254037844386ky) + sin(0.5kx - 0.8660254037844386ky))\n",
      "\n",
      "Φ2nnn = cos(kx) + cos(-0.5kx + 0.8660254037844386ky) + im*(sin(-0.5kx + 0.8660254037844386ky) + sin(kx))\n",
      "\n",
      "Φ3nnn = cos(-kx) + cos(0.5kx + 0.8660254037844386ky) + im*(sin(-kx) + sin(0.5kx + 0.8660254037844386ky))\n",
      "\n"
     ]
    }
   ],
   "source": [
    "println(\"Φ1nn = \", Φ1nn, \"\\n\")\n",
    "println(\"Φ2nn = \", Φ2nn, \"\\n\")\n",
    "println(\"Φ3nn = \", Φ3nn, \"\\n\")\n",
    "\n",
    "print(\"\\n\")\n",
    "\n",
    "println(\"Φ1nnn = \", Φ1nnn, \"\\n\")\n",
    "println(\"Φ2nnn = \", Φ2nnn, \"\\n\")\n",
    "println(\"Φ3nnn = \", Φ3nnn, \"\\n\")\n",
    "\n"
   ]
  },
  {
   "cell_type": "code",
   "execution_count": 7,
   "metadata": {},
   "outputs": [],
   "source": [
    "# Symbolic Differentiation \n",
    "Dx = Differential(kx); Dy = Differential(ky);"
   ]
  },
  {
   "cell_type": "code",
   "execution_count": 8,
   "metadata": {},
   "outputs": [],
   "source": [
    "dΦ1dkxnn = simplify(expand_derivatives(Dx(Φ1nn)))\n",
    "dΦ1dkynn = simplify(expand_derivatives(Dy(Φ1nn)))\n",
    "\n",
    "dΦ2dkxnn = simplify(expand_derivatives(Dx(Φ2nn)))\n",
    "dΦ2dkynn = simplify(expand_derivatives(Dy(Φ2nn)))\n",
    "\n",
    "dΦ3dkxnn = simplify(expand_derivatives(Dx(Φ3nn)))\n",
    "dΦ3dkynn = simplify(expand_derivatives(Dy(Φ3nn)));\n",
    "\n",
    "dΦ1dkxnnn = simplify(expand_derivatives(Dx(Φ1nnn)))\n",
    "dΦ1dkynnn = simplify(expand_derivatives(Dy(Φ1nnn)))\n",
    "\n",
    "dΦ2dkxnnn = simplify(expand_derivatives(Dx(Φ2nnn)))\n",
    "dΦ2dkynnn = simplify(expand_derivatives(Dy(Φ2nnn)))\n",
    "\n",
    "dΦ3dkxnnn = simplify(expand_derivatives(Dx(Φ3nnn)))\n",
    "dΦ3dkynnn = simplify(expand_derivatives(Dy(Φ3nnn)));\n",
    "\n"
   ]
  },
  {
   "cell_type": "code",
   "execution_count": 9,
   "metadata": {},
   "outputs": [
    {
     "name": "stdout",
     "output_type": "stream",
     "text": [
      "dΦ1dkxnn = -sin(kx) + im*cos(kx)\n",
      "\n",
      "dΦ1dkynn = 0\n",
      "\n",
      "dΦ2dkxnn = -0.5sin(0.5kx + 0.8660254037844386ky) + 0.5im*cos(0.5kx + 0.8660254037844386ky)\n",
      "\n",
      "dΦ2dkynn = -0.8660254037844386sin(0.5kx + 0.8660254037844386ky) + 0.8660254037844386im*cos(0.5kx + 0.8660254037844386ky)\n",
      "\n",
      "dΦ3dkxnn = 0.5sin(-0.5kx + 0.8660254037844386ky) - 0.5im*cos(-0.5kx + 0.8660254037844386ky)\n",
      "\n",
      "dΦ3dkynn = -0.8660254037844386sin(-0.5kx + 0.8660254037844386ky) + 0.8660254037844386im*cos(-0.5kx + 0.8660254037844386ky)\n",
      "\n",
      "\n",
      "dΦ1dkxnnn = -0.5(sin(0.5kx + 0.8660254037844386ky) + sin(0.5kx - 0.8660254037844386ky)) + 0.5im*(cos(0.5kx + 0.8660254037844386ky) + cos(0.5kx - 0.8660254037844386ky))\n",
      "\n",
      "dΦ1dkynnn = -0.8660254037844386sin(0.5kx + 0.8660254037844386ky) + 0.8660254037844386sin(0.5kx - 0.8660254037844386ky) + im*(0.8660254037844386cos(0.5kx + 0.8660254037844386ky) - 0.8660254037844386cos(0.5kx - 0.8660254037844386ky))\n",
      "\n",
      "dΦ2dkxnnn = 0.5sin(-0.5kx + 0.8660254037844386ky) - sin(kx) + im*(cos(kx) - 0.5cos(-0.5kx + 0.8660254037844386ky))\n",
      "\n",
      "dΦ2dkynnn = -0.8660254037844386sin(-0.5kx + 0.8660254037844386ky) + 0.8660254037844386im*cos(-0.5kx + 0.8660254037844386ky)\n",
      "\n",
      "dΦ3dkxnnn = sin(-kx) - 0.5sin(0.5kx + 0.8660254037844386ky) + im*(-cos(-kx) + 0.5cos(0.5kx + 0.8660254037844386ky))\n",
      "\n",
      "dΦ3dkynnn = -0.8660254037844386sin(0.5kx + 0.8660254037844386ky) + 0.8660254037844386im*cos(0.5kx + 0.8660254037844386ky)\n",
      "\n"
     ]
    }
   ],
   "source": [
    "println(\"dΦ1dkxnn = \", dΦ1dkxnn, \"\\n\")\n",
    "println(\"dΦ1dkynn = \", dΦ1dkynn, \"\\n\")\n",
    "\n",
    "println(\"dΦ2dkxnn = \", dΦ2dkxnn, \"\\n\")\n",
    "println(\"dΦ2dkynn = \", dΦ2dkynn, \"\\n\")\n",
    "\n",
    "println(\"dΦ3dkxnn = \", dΦ3dkxnn, \"\\n\")\n",
    "println(\"dΦ3dkynn = \", dΦ3dkynn, \"\\n\")\n",
    "\n",
    "print(\"\\n\")\n",
    "\n",
    "println(\"dΦ1dkxnnn = \", dΦ1dkxnnn, \"\\n\")\n",
    "println(\"dΦ1dkynnn = \", dΦ1dkynnn, \"\\n\")\n",
    "\n",
    "println(\"dΦ2dkxnnn = \", dΦ2dkxnnn, \"\\n\")\n",
    "println(\"dΦ2dkynnn = \", dΦ2dkynnn, \"\\n\")\n",
    "\n",
    "println(\"dΦ3dkxnnn = \", dΦ3dkxnnn, \"\\n\")\n",
    "println(\"dΦ3dkynnn = \", dΦ3dkynnn, \"\\n\")"
   ]
  },
  {
   "cell_type": "code",
   "execution_count": 10,
   "metadata": {},
   "outputs": [
    {
     "data": {
      "text/plain": [
       "fdΦ3dky (generic function with 1 method)"
      ]
     },
     "metadata": {},
     "output_type": "display_data"
    }
   ],
   "source": [
    "# Remark:  k2  = -1/2 kx - 1 / 2 sqrt(3) ky          -0.5 * kx - 0.5 * sqrt(3.0) * ky\n",
    "#       : -k3  =  1/2 kx - 1 / 2 sqrt(3) ky           0.5 * kx - 0.5 * sqrt(3.0) * ky\n",
    "\n",
    "@inline function fdΦ1dkx(kx, ky)\n",
    "    -1.0 * (sin(kx) + im * cos(kx))\n",
    "end\n",
    "\n",
    "@inline function fdΦ1dky(kx, ky)\n",
    "    0.0\n",
    "end\n",
    "\n",
    "\n",
    "\n",
    "@inline function fdΦ2dkx(kx, ky)\n",
    "    0.5 * (sin(-0.5 * kx - 0.5 * sqrt(3.0) * ky) + im * cos(-0.5 * kx - 0.5 * sqrt(3.0) * ky))\n",
    "end\n",
    "\n",
    "@inline function fdΦ2dky(kx, ky)\n",
    "    0.5 * sqrt(3.0) * (sin(-0.5 * kx - 0.5 * sqrt(3.0) * ky) - im * cos(-0.5 * kx - 0.5 * sqrt(3.0) * ky))\n",
    "end\n",
    "\n",
    "\n",
    "\n",
    "@inline function fdΦ3dkx(kx, ky)\n",
    "    0.5 * (-sin(0.5 * kx - 0.5 * sqrt(3.0) * ky) + im * cos(0.5 * kx - 0.5 * sqrt(3.0) * ky))\n",
    "end\n",
    "\n",
    "@inline function fdΦ3dky(kx, ky)\n",
    "    0.5 * sqrt(3.0) * (sin(0.5 * kx - 0.5 * sqrt(3.0) * ky) - im * cos(0.5 * kx - 0.5 * sqrt(3.0) * ky))\n",
    "end\n",
    "\n"
   ]
  }
 ],
 "metadata": {
  "kernelspec": {
   "display_name": "Julia 1.11.2",
   "language": "julia",
   "name": "julia-1.11"
  },
  "language_info": {
   "file_extension": ".jl",
   "mimetype": "application/julia",
   "name": "julia",
   "version": "1.11.2"
  }
 },
 "nbformat": 4,
 "nbformat_minor": 2
}
