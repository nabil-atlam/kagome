{
 "cells": [
  {
   "cell_type": "markdown",
   "metadata": {},
   "source": [
    "### Model\n",
    "\n",
    "\\textbf{Monolayer kagome models with broken $C_3$ symmetry} We begin by presenting a model for the kagome lattice that explicitly breaks $C_3$ symmetry. This Symmetry breaking is crucial for realizing a nontrivial quantum-metric based nonlinear response in these systems. \n",
    "The lattice constants are defined as $\\mathbf{t}_1 = -\\begin{pmatrix}\\frac{1}{2} && \\frac{\\sqrt{3}}{2} \\end{pmatrix}$ and $\\mathbf{t}_2 = \\begin{pmatrix}1 && 0 \\end{pmatrix}$. Additionally, we denote $\\mathbf{t}_3 = \\mathbf{t}_1 - \\mathbf{t}_2$ and $k_i = \\mathbf{k}\\cdot \\mathbf{t}_i$. The hopping processes occur within corner-sharing upward triangles, $\\Delta$, and downward inverted triangles, $\\nabla$. The Hamiltonian is expressed as follows: \n",
    "\n",
    "$$\\mathcal{H}_{\\text{1 Layer}; 0} = - \\begin{pmatrix}\n",
    "        0 && t^{\\Delta}_{1} + t^{\\nabla}_{1}e^{-ik_1} && t^{\\Delta}_{3} + t^{\\nabla}_{3}e^{ik_3}\\\\\n",
    "        t^{\\Delta}_{1} + t^{\\nabla}_{1}e^{ik_1} && 0 && t^{\\Delta}_{2} + t^{\\nabla}_{2}e^{-ik_2}\\\\\n",
    "        t^{\\Delta}_{3} + t^{\\nabla}_{3}e^{-ik_3} && t^{\\Delta}_{2} + t^{\\nabla}_{2}e^{ik_2} && 0\n",
    "    \\end{pmatrix}$$\n",
    "\n",
    "To incorporate spin-orbit coupling, the hopping parameters $t^{\\Delta/ \\nabla}_{i}$ are replaced by $2 \\times 2$ matrices in spin space. Specifically, we substitute $t^{\\Delta/ \\nabla}_{i} \\rightarrow \\mathcal{M}^{\\Delta/ \\nabla}_{i} = t^{\\Delta/ \\nabla}_{i} + i \\ \\lambda^{\\Delta/ \\nabla}_{i} \\mathbf{\\sigma}\\cdot \\hat{\\mathbf{d}_i}$ where, $\\hat{\\mathbf{d}_i}$ are unit vectors, and $t^{\\Delta / \\nabla}_{i}$ and $\\lambda^{\\Delta / \\nabla}_{i}$ are nearest neighbor hopping amplitudes and spin-orbit coupling strengths respectively. The vectors $\\hat{\\mathbf{d}_i}$ are determined by the specific nature of the SOC and are chosen such that the spin component coupled to orbital motion is perpendicular to the direction of motion. For the kagome lattice, we have: \n",
    "\n",
    "\n",
    "\\begin{align}\n",
    "\\mathbf{\\hat{d}_1} &= \\cos \\theta \\begin{pmatrix}0 && 0 && 1 \\end{pmatrix} + \\sin \\theta \\begin{pmatrix}\\frac{\\sqrt{3}}{2} && -\\frac{1}{2} && 0 \\end{pmatrix} \\notag \\\\\n",
    "\\mathbf{\\hat{d}_2} &= \\cos \\theta \\begin{pmatrix}0 && 0 && 1 \\end{pmatrix} + \\sin \\theta \\begin{pmatrix}0 && 1 && 0 \\end{pmatrix} \\notag \\\\\n",
    "\\mathbf{\\hat{d}_3} &= \\cos \\theta \\begin{pmatrix}0 && 0 && 1 \\end{pmatrix} + \\sin \\theta \\begin{pmatrix}\\frac{-\\sqrt{3}}{2} && -\\frac{1}{2} && 0 \\end{pmatrix}\n",
    "\\end{align}\n",
    "\n",
    "Taking SOC into account, the Bloch Hamiltonian for a single layer takes the form of a $6 \\times 6$ matrix: \n",
    "\n",
    "\\resizebox{\\columnwidth}{!}{\n",
    "\\begin{equation}\n",
    "    \\mathcal{H}_{\\text{1 Layer}; \\text{SOC}} = \n",
    "    - \\begin{pmatrix}\n",
    "        0 && \\mathcal{M}^{\\Delta \\dagger}_{1} + \\mathcal{M}^{\\nabla \\dagger}_{1}e^{-ik_1} && \\mathcal{M}^{\\Delta}_{3} + \\mathcal{M}^{\\nabla}_{3}e^{ik_3}\\\\\n",
    "        \\mathcal{M}^{\\Delta}_{1} + \\mathcal{M}^{\\nabla}_{1}e^{ik_1} && 0 && \\mathcal{M}^{\\Delta \\dagger}_{2} + \\mathcal{M}^{\\nabla \\dagger}_{2}e^{-ik_2}\\\\\n",
    "        \\mathcal{M}^{\\Delta \\dagger}_{3} + \\mathcal{M}^{\\nabla \\dagger}_{3}e^{-ik_3} && \\mathcal{M}^{\\Delta}_{2} + \\mathcal{M}^{\\nabla}_{2}e^{ik_2} && 0\n",
    "        \\end{pmatrix}\n",
    "\\end{equation}\n",
    "}\n"
   ]
  },
  {
   "cell_type": "code",
   "execution_count": 3,
   "metadata": {},
   "outputs": [],
   "source": [
    "using LinearAlgebra\n",
    "using Makie \n",
    "using CairoMakie \n",
    "using Brillouin\n",
    "using Printf\n",
    "using PlotlyJS\n",
    "using Symbolics\n",
    "using StaticArrays"
   ]
  },
  {
   "cell_type": "code",
   "execution_count": 4,
   "metadata": {},
   "outputs": [
    {
     "name": "stdout",
     "output_type": "stream",
     "text": [
      "--- Plotting the Wigner-Seitz cell in real space. \n",
      "\n",
      "--- Vertices of the real Wigner-Seitz cell (in reduced coordinates): \n",
      "  0.666667   0.333333 \n",
      "  0.333333  -0.333333 \n",
      " -0.333333  -0.666667 \n",
      " -0.666667  -0.333333 \n",
      " -0.333333   0.333333 \n",
      "  0.333333   0.666667 \n",
      "\n",
      "--- Plotting the Wigner-Seitz cell in reciprocal space. \n",
      "\n",
      "--- Vertices of the reciprocal space Wigner-Seitz cell (in reduced coordinates): \n",
      " -0.666667   0.333333 \n",
      " -0.333333   0.666667 \n",
      "  0.333333   0.333333 \n",
      "  0.666667  -0.333333 \n",
      "  0.333333  -0.666667 \n",
      " -0.333333  -0.333333 \n",
      "\n",
      "--- Vertices of the reciprocal space Wigner-Seitz cell (in cartesian coordinates): \n",
      "  2.094395   3.627599 \n",
      "  4.188790  -0.000000 \n",
      "  2.094395  -3.627599 \n",
      " -2.094395  -3.627599 \n",
      " -4.188790   0.000000 \n",
      " -2.094395   3.627599 \n",
      "\n"
     ]
    },
    {
     "data": {
      "application/vnd.plotly.v1+json": {
       "config": {
        "displaylogo": false,
        "editable": false,
        "responsive": true,
        "scrollZoom": true,
        "showLink": false,
        "staticPlot": false
       },
       "data": [
        {
         "hoverinfo": "text+x+y",
         "hovertext": "Cell",
         "line": {
          "color": "rgb(47,54,64)",
          "width": 3
         },
         "mode": "lines",
         "type": "scatter",
         "x": [
          -0.4999999999999999,
          0,
          0.4999999999999998,
          0.4999999999999999,
          0,
          -0.4999999999999998,
          -0.4999999999999999
         ],
         "y": [
          -0.2886751345948128,
          -0.5773502691896257,
          -0.288675134594813,
          0.2886751345948128,
          0.5773502691896257,
          0.288675134594813,
          -0.2886751345948128
         ]
        },
        {
         "hoverinfo": "text",
         "hovertext": "<b>v</b><sub>1</sub>",
         "line": {
          "color": "rgb(212,216,227)",
          "width": 5
         },
         "mode": "lines",
         "type": "scatter",
         "x": [
          0,
          -0.2375
         ],
         "y": [
          0,
          -0.41136206679760834
         ]
        },
        {
         "hoverinfo": "text",
         "hovertext": "<b>v</b><sub>2</sub>",
         "line": {
          "color": "rgb(212,216,227)",
          "width": 5
         },
         "mode": "lines",
         "type": "scatter",
         "x": [
          0,
          0.4749999999999998
         ],
         "y": [
          0,
          -1.0547118733938984e-16
         ]
        },
        {
         "hoverinfo": "text+x+y",
         "hovertext": "<b>v</b><sub>1</sub>",
         "line": {
          "color": "rgb(39,60,117)",
          "width": 6
         },
         "mode": "lines",
         "type": "scatter",
         "x": [
          -0.2625,
          -0.5
         ],
         "y": [
          -0.45466333698683026,
          -0.8660254037844386
         ]
        },
        {
         "hoverinfo": "text+x+y",
         "hovertext": "<b>v</b><sub>2</sub>",
         "line": {
          "color": "rgb(39,60,117)",
          "width": 6
         },
         "mode": "lines",
         "type": "scatter",
         "x": [
          0.5249999999999998,
          0.9999999999999999
         ],
         "y": [
          -1.1657341758564142e-16,
          -2.220446049250313e-16
         ]
        },
        {
         "hoverinfo": "text",
         "hovertext": "<b>x</b>",
         "line": {
          "color": "rgb(242,215,208)",
          "width": 5
         },
         "mode": "lines",
         "type": "scatter",
         "x": [
          0,
          0.4749999999999998
         ],
         "y": [
          0,
          0
         ]
        },
        {
         "hoverinfo": "text",
         "hovertext": "<b>y</b>",
         "line": {
          "color": "rgb(242,215,208)",
          "width": 5
         },
         "mode": "lines",
         "type": "scatter",
         "x": [
          0,
          0
         ],
         "y": [
          0,
          0.5523502691896257
         ]
        },
        {
         "hoverinfo": "text",
         "hovertext": "<b>x</b>",
         "line": {
          "color": "rgb(194,54,22)",
          "width": 6
         },
         "mode": "lines",
         "type": "scatter",
         "x": [
          0.5249999999999998,
          0.6999999999999998
         ],
         "y": [
          0,
          0
         ]
        },
        {
         "hoverinfo": "text",
         "hovertext": "<b>y</b>",
         "line": {
          "color": "rgb(194,54,22)",
          "width": 6
         },
         "mode": "lines",
         "type": "scatter",
         "x": [
          0,
          0
         ],
         "y": [
          0.6023502691896258,
          0.7773502691896257
         ]
        }
       ],
       "frames": [],
       "layout": {
        "annotations": [
         {
          "arrowcolor": "rgb(39,60,117)",
          "arrowhead": 2,
          "arrowsize": 0.5,
          "arrowwidth": 6,
          "ax": -0.475,
          "axref": "x",
          "ay": -0.8227241335952167,
          "ayref": "y",
          "showarrow": true,
          "x": -0.525,
          "xref": "ax",
          "y": -0.9093266739736605,
          "yref": "ay"
         },
         {
          "arrowcolor": "rgb(39,60,117)",
          "arrowhead": 2,
          "arrowsize": 0.5,
          "arrowwidth": 6,
          "ax": 0.9499999999999998,
          "axref": "x",
          "ay": -2.1094237467877973e-16,
          "ayref": "y",
          "showarrow": true,
          "x": 1.0499999999999998,
          "xref": "ax",
          "y": -2.331468351712829e-16,
          "yref": "ay"
         },
         {
          "arrowcolor": "rgb(194,54,22)",
          "arrowhead": 2,
          "arrowsize": 0.5,
          "arrowwidth": 6,
          "ax": 0.6499999999999998,
          "axref": "x",
          "ay": 0,
          "ayref": "y",
          "showarrow": true,
          "x": 0.7499999999999999,
          "xref": "ax",
          "y": 0,
          "yref": "ay"
         },
         {
          "arrowcolor": "rgb(194,54,22)",
          "arrowhead": 2,
          "arrowsize": 0.5,
          "arrowwidth": 6,
          "ax": 0,
          "axref": "x",
          "ay": 0.7273502691896256,
          "ayref": "y",
          "showarrow": true,
          "x": 0,
          "xref": "ax",
          "y": 0.8273502691896257,
          "yref": "ay"
         }
        ],
        "aspectmode": "data",
        "autosize": false,
        "hovermode": "closest",
        "margin": {
         "b": 50,
         "l": 50,
         "r": 50,
         "t": 60
        },
        "paper_bgcolor": "rgba(255, 255, 255, 1)",
        "plot_bgcolor": "rgba(255, 255, 255, 1)",
        "showlegend": false,
        "template": {
         "data": {
          "bar": [
           {
            "error_x": {
             "color": "#2a3f5f"
            },
            "error_y": {
             "color": "#2a3f5f"
            },
            "marker": {
             "line": {
              "color": "#E5ECF6",
              "width": 0.5
             }
            },
            "type": "bar"
           }
          ],
          "barpolar": [
           {
            "marker": {
             "line": {
              "color": "#E5ECF6",
              "width": 0.5
             }
            },
            "type": "barpolar"
           }
          ],
          "carpet": [
           {
            "aaxis": {
             "endlinecolor": "#2a3f5f",
             "gridcolor": "white",
             "linecolor": "white",
             "minorgridcolor": "white",
             "startlinecolor": "#2a3f5f"
            },
            "baxis": {
             "endlinecolor": "#2a3f5f",
             "gridcolor": "white",
             "linecolor": "white",
             "minorgridcolor": "white",
             "startlinecolor": "#2a3f5f"
            },
            "type": "carpet"
           }
          ],
          "choropleth": [
           {
            "colorbar": {
             "outlinewidth": 0,
             "ticks": ""
            },
            "type": "choropleth"
           }
          ],
          "contour": [
           {
            "colorbar": {
             "outlinewidth": 0,
             "ticks": ""
            },
            "colorscale": [
             [
              0,
              "#0d0887"
             ],
             [
              0.1111111111111111,
              "#46039f"
             ],
             [
              0.2222222222222222,
              "#7201a8"
             ],
             [
              0.3333333333333333,
              "#9c179e"
             ],
             [
              0.4444444444444444,
              "#bd3786"
             ],
             [
              0.5555555555555556,
              "#d8576b"
             ],
             [
              0.6666666666666666,
              "#ed7953"
             ],
             [
              0.7777777777777778,
              "#fb9f3a"
             ],
             [
              0.8888888888888888,
              "#fdca26"
             ],
             [
              1,
              "#f0f921"
             ]
            ],
            "type": "contour"
           }
          ],
          "contourcarpet": [
           {
            "colorbar": {
             "outlinewidth": 0,
             "ticks": ""
            },
            "type": "contourcarpet"
           }
          ],
          "heatmap": [
           {
            "colorbar": {
             "outlinewidth": 0,
             "ticks": ""
            },
            "colorscale": [
             [
              0,
              "#0d0887"
             ],
             [
              0.1111111111111111,
              "#46039f"
             ],
             [
              0.2222222222222222,
              "#7201a8"
             ],
             [
              0.3333333333333333,
              "#9c179e"
             ],
             [
              0.4444444444444444,
              "#bd3786"
             ],
             [
              0.5555555555555556,
              "#d8576b"
             ],
             [
              0.6666666666666666,
              "#ed7953"
             ],
             [
              0.7777777777777778,
              "#fb9f3a"
             ],
             [
              0.8888888888888888,
              "#fdca26"
             ],
             [
              1,
              "#f0f921"
             ]
            ],
            "type": "heatmap"
           }
          ],
          "heatmapgl": [
           {
            "colorbar": {
             "outlinewidth": 0,
             "ticks": ""
            },
            "colorscale": [
             [
              0,
              "#0d0887"
             ],
             [
              0.1111111111111111,
              "#46039f"
             ],
             [
              0.2222222222222222,
              "#7201a8"
             ],
             [
              0.3333333333333333,
              "#9c179e"
             ],
             [
              0.4444444444444444,
              "#bd3786"
             ],
             [
              0.5555555555555556,
              "#d8576b"
             ],
             [
              0.6666666666666666,
              "#ed7953"
             ],
             [
              0.7777777777777778,
              "#fb9f3a"
             ],
             [
              0.8888888888888888,
              "#fdca26"
             ],
             [
              1,
              "#f0f921"
             ]
            ],
            "type": "heatmapgl"
           }
          ],
          "histogram": [
           {
            "marker": {
             "colorbar": {
              "outlinewidth": 0,
              "ticks": ""
             }
            },
            "type": "histogram"
           }
          ],
          "histogram2d": [
           {
            "colorbar": {
             "outlinewidth": 0,
             "ticks": ""
            },
            "colorscale": [
             [
              0,
              "#0d0887"
             ],
             [
              0.1111111111111111,
              "#46039f"
             ],
             [
              0.2222222222222222,
              "#7201a8"
             ],
             [
              0.3333333333333333,
              "#9c179e"
             ],
             [
              0.4444444444444444,
              "#bd3786"
             ],
             [
              0.5555555555555556,
              "#d8576b"
             ],
             [
              0.6666666666666666,
              "#ed7953"
             ],
             [
              0.7777777777777778,
              "#fb9f3a"
             ],
             [
              0.8888888888888888,
              "#fdca26"
             ],
             [
              1,
              "#f0f921"
             ]
            ],
            "type": "histogram2d"
           }
          ],
          "histogram2dcontour": [
           {
            "colorbar": {
             "outlinewidth": 0,
             "ticks": ""
            },
            "colorscale": [
             [
              0,
              "#0d0887"
             ],
             [
              0.1111111111111111,
              "#46039f"
             ],
             [
              0.2222222222222222,
              "#7201a8"
             ],
             [
              0.3333333333333333,
              "#9c179e"
             ],
             [
              0.4444444444444444,
              "#bd3786"
             ],
             [
              0.5555555555555556,
              "#d8576b"
             ],
             [
              0.6666666666666666,
              "#ed7953"
             ],
             [
              0.7777777777777778,
              "#fb9f3a"
             ],
             [
              0.8888888888888888,
              "#fdca26"
             ],
             [
              1,
              "#f0f921"
             ]
            ],
            "type": "histogram2dcontour"
           }
          ],
          "mesh3d": [
           {
            "colorbar": {
             "outlinewidth": 0,
             "ticks": ""
            },
            "type": "mesh3d"
           }
          ],
          "parcoords": [
           {
            "line": {
             "colorbar": {
              "outlinewidth": 0,
              "ticks": ""
             }
            },
            "type": "parcoords"
           }
          ],
          "pie": [
           {
            "automargin": true,
            "type": "pie"
           }
          ],
          "scatter": [
           {
            "marker": {
             "colorbar": {
              "outlinewidth": 0,
              "ticks": ""
             }
            },
            "type": "scatter"
           }
          ],
          "scatter3d": [
           {
            "line": {
             "colorbar": {
              "outlinewidth": 0,
              "ticks": ""
             }
            },
            "marker": {
             "colorbar": {
              "outlinewidth": 0,
              "ticks": ""
             }
            },
            "type": "scatter3d"
           }
          ],
          "scattercarpet": [
           {
            "marker": {
             "colorbar": {
              "outlinewidth": 0,
              "ticks": ""
             }
            },
            "type": "scattercarpet"
           }
          ],
          "scattergeo": [
           {
            "marker": {
             "colorbar": {
              "outlinewidth": 0,
              "ticks": ""
             }
            },
            "type": "scattergeo"
           }
          ],
          "scattergl": [
           {
            "marker": {
             "colorbar": {
              "outlinewidth": 0,
              "ticks": ""
             }
            },
            "type": "scattergl"
           }
          ],
          "scattermapbox": [
           {
            "marker": {
             "colorbar": {
              "outlinewidth": 0,
              "ticks": ""
             }
            },
            "type": "scattermapbox"
           }
          ],
          "scatterpolar": [
           {
            "marker": {
             "colorbar": {
              "outlinewidth": 0,
              "ticks": ""
             }
            },
            "type": "scatterpolar"
           }
          ],
          "scatterpolargl": [
           {
            "marker": {
             "colorbar": {
              "outlinewidth": 0,
              "ticks": ""
             }
            },
            "type": "scatterpolargl"
           }
          ],
          "scatterternary": [
           {
            "marker": {
             "colorbar": {
              "outlinewidth": 0,
              "ticks": ""
             }
            },
            "type": "scatterternary"
           }
          ],
          "surface": [
           {
            "colorbar": {
             "outlinewidth": 0,
             "ticks": ""
            },
            "colorscale": [
             [
              0,
              "#0d0887"
             ],
             [
              0.1111111111111111,
              "#46039f"
             ],
             [
              0.2222222222222222,
              "#7201a8"
             ],
             [
              0.3333333333333333,
              "#9c179e"
             ],
             [
              0.4444444444444444,
              "#bd3786"
             ],
             [
              0.5555555555555556,
              "#d8576b"
             ],
             [
              0.6666666666666666,
              "#ed7953"
             ],
             [
              0.7777777777777778,
              "#fb9f3a"
             ],
             [
              0.8888888888888888,
              "#fdca26"
             ],
             [
              1,
              "#f0f921"
             ]
            ],
            "type": "surface"
           }
          ],
          "table": [
           {
            "cells": {
             "fill": {
              "color": "#EBF0F8"
             },
             "line": {
              "color": "white"
             }
            },
            "header": {
             "fill": {
              "color": "#C8D4E3"
             },
             "line": {
              "color": "white"
             }
            },
            "type": "table"
           }
          ]
         },
         "layout": {
          "annotationdefaults": {
           "arrowcolor": "#2a3f5f",
           "arrowhead": 0,
           "arrowwidth": 1
          },
          "autotypenumbers": "strict",
          "coloraxis": {
           "colorbar": {
            "outlinewidth": 0,
            "ticks": ""
           }
          },
          "colorscale": {
           "diverging": [
            [
             0,
             "#8e0152"
            ],
            [
             0.1,
             "#c51b7d"
            ],
            [
             0.2,
             "#de77ae"
            ],
            [
             0.3,
             "#f1b6da"
            ],
            [
             0.4,
             "#fde0ef"
            ],
            [
             0.5,
             "#f7f7f7"
            ],
            [
             0.6,
             "#e6f5d0"
            ],
            [
             0.7,
             "#b8e186"
            ],
            [
             0.8,
             "#7fbc41"
            ],
            [
             0.9,
             "#4d9221"
            ],
            [
             1,
             "#276419"
            ]
           ],
           "sequential": [
            [
             0,
             "#0d0887"
            ],
            [
             0.1111111111111111,
             "#46039f"
            ],
            [
             0.2222222222222222,
             "#7201a8"
            ],
            [
             0.3333333333333333,
             "#9c179e"
            ],
            [
             0.4444444444444444,
             "#bd3786"
            ],
            [
             0.5555555555555556,
             "#d8576b"
            ],
            [
             0.6666666666666666,
             "#ed7953"
            ],
            [
             0.7777777777777778,
             "#fb9f3a"
            ],
            [
             0.8888888888888888,
             "#fdca26"
            ],
            [
             1,
             "#f0f921"
            ]
           ],
           "sequentialminus": [
            [
             0,
             "#0d0887"
            ],
            [
             0.1111111111111111,
             "#46039f"
            ],
            [
             0.2222222222222222,
             "#7201a8"
            ],
            [
             0.3333333333333333,
             "#9c179e"
            ],
            [
             0.4444444444444444,
             "#bd3786"
            ],
            [
             0.5555555555555556,
             "#d8576b"
            ],
            [
             0.6666666666666666,
             "#ed7953"
            ],
            [
             0.7777777777777778,
             "#fb9f3a"
            ],
            [
             0.8888888888888888,
             "#fdca26"
            ],
            [
             1,
             "#f0f921"
            ]
           ]
          },
          "colorway": [
           "#636efa",
           "#EF553B",
           "#00cc96",
           "#ab63fa",
           "#FFA15A",
           "#19d3f3",
           "#FF6692",
           "#B6E880",
           "#FF97FF",
           "#FECB52"
          ],
          "font": {
           "color": "#2a3f5f"
          },
          "geo": {
           "bgcolor": "white",
           "lakecolor": "white",
           "landcolor": "#E5ECF6",
           "showlakes": true,
           "showland": true,
           "subunitcolor": "white"
          },
          "hoverlabel": {
           "align": "left"
          },
          "hovermode": "closest",
          "mapbox": {
           "style": "light"
          },
          "paper_bgcolor": "white",
          "plot_bgcolor": "#E5ECF6",
          "polar": {
           "angularaxis": {
            "gridcolor": "white",
            "linecolor": "white",
            "ticks": ""
           },
           "bgcolor": "#E5ECF6",
           "radialaxis": {
            "gridcolor": "white",
            "linecolor": "white",
            "ticks": ""
           }
          },
          "scene": {
           "xaxis": {
            "backgroundcolor": "#E5ECF6",
            "gridcolor": "white",
            "gridwidth": 2,
            "linecolor": "white",
            "showbackground": true,
            "ticks": "",
            "zerolinecolor": "white"
           },
           "yaxis": {
            "backgroundcolor": "#E5ECF6",
            "gridcolor": "white",
            "gridwidth": 2,
            "linecolor": "white",
            "showbackground": true,
            "ticks": "",
            "zerolinecolor": "white"
           },
           "zaxis": {
            "backgroundcolor": "#E5ECF6",
            "gridcolor": "white",
            "gridwidth": 2,
            "linecolor": "white",
            "showbackground": true,
            "ticks": "",
            "zerolinecolor": "white"
           }
          },
          "shapedefaults": {
           "line": {
            "color": "#2a3f5f"
           }
          },
          "ternary": {
           "aaxis": {
            "gridcolor": "white",
            "linecolor": "white",
            "ticks": ""
           },
           "baxis": {
            "gridcolor": "white",
            "linecolor": "white",
            "ticks": ""
           },
           "bgcolor": "#E5ECF6",
           "caxis": {
            "gridcolor": "white",
            "linecolor": "white",
            "ticks": ""
           }
          },
          "title": {
           "x": 0.05
          },
          "xaxis": {
           "automargin": true,
           "gridcolor": "white",
           "linecolor": "white",
           "ticks": "",
           "title": {
            "standoff": 15
           },
           "zerolinecolor": "white",
           "zerolinewidth": 2
          },
          "yaxis": {
           "automargin": true,
           "gridcolor": "white",
           "linecolor": "white",
           "ticks": "",
           "title": {
            "standoff": 15
           },
           "zerolinecolor": "white",
           "zerolinewidth": 2
          }
         }
        },
        "xaxis": {
         "range": [
          -1.0666666666666667,
          1.0666666666666667
         ],
         "showbackground": false,
         "showgrid": false,
         "tickvals": [],
         "title": {
          "text": ""
         },
         "zeroline": false
        },
        "yaxis": {
         "range": [
          -0.9326920704511052,
          0.9326920704511052
         ],
         "scaleanchor": "x",
         "scaleratio": 1,
         "showbackground": false,
         "showgrid": false,
         "tickvals": [],
         "title": {
          "text": ""
         },
         "zeroline": false
        }
       }
      },
      "image/png": "[encoded data removed]",
      "image/svg+xml": [
       "<svg class=\"main-svg\" xmlns=\"http://www.w3.org/2000/svg\" xmlns:xlink=\"http://www.w3.org/1999/xlink\" width=\"700\" height=\"500\" style=\"\" viewBox=\"0 0 700 500\"><rect x=\"0\" y=\"0\" width=\"700\" height=\"500\" style=\"fill: rgb(255, 255, 255); fill-opacity: 1;\"/><defs id=\"defs-8336b4\"><g class=\"clips\"><clipPath id=\"clip8336b4xyplot\" class=\"plotclip\"><rect width=\"600\" height=\"390\"/></clipPath><clipPath class=\"axesclip\" id=\"clip8336b4x\"><rect x=\"50\" y=\"0\" width=\"600\" height=\"500\"/></clipPath><clipPath class=\"axesclip\" id=\"clip8336b4y\"><rect x=\"0\" y=\"60\" width=\"700\" height=\"390\"/></clipPath><clipPath class=\"axesclip\" id=\"clip8336b4xy\"><rect x=\"50\" y=\"60\" width=\"600\" height=\"390\"/></clipPath></g><g class=\"gradients\"/><g class=\"patterns\"/></defs><g class=\"bglayer\"/><g class=\"layer-below\"><g class=\"imagelayer\"/><g class=\"shapelayer\"/></g><g class=\"cartesianlayer\"><g class=\"subplot xy\"><g class=\"layer-subplot\"><g class=\"shapelayer\"/><g class=\"imagelayer\"/></g><g class=\"gridlayer\"><g class=\"x\"/><g class=\"y\"/></g><g class=\"zerolinelayer\"/><path class=\"xlines-below\"/><path class=\"ylines-below\"/><g class=\"overlines-below\"/><g class=\"xaxislayer-below\"/><g class=\"yaxislayer-below\"/><g class=\"overaxes-below\"/><g class=\"plot\" transform=\"translate(50,60)\" clip-path=\"url(#clip8336b4xyplot)\"><g class=\"scatterlayer mlayer\"><g class=\"trace scatter trace0dcd5a\" style=\"stroke-miterlimit: 2; opacity: 1;\"><g class=\"fills\"/><g class=\"errorbars\"/><g class=\"lines\"><path class=\"js-line\" d=\"M195.46,255.35L300,315.71L404.54,255.35L404.54,134.65L300,74.29L195.46,134.65L195.46,255.35\" style=\"vector-effect: non-scaling-stroke; fill: none; stroke: rgb(47, 54, 64); stroke-opacity: 1; stroke-width: 3px; opacity: 1;\"/></g><g class=\"points\"/><g class=\"text\"/></g><g class=\"trace scatter tracedeac86\" style=\"stroke-miterlimit: 2; opacity: 1;\"><g class=\"fills\"/><g class=\"errorbars\"/><g class=\"lines\"><path class=\"js-line\" d=\"M300,195L250.35,281\" style=\"vector-effect: non-scaling-stroke; fill: none; stroke: rgb(212, 216, 227); stroke-opacity: 1; stroke-width: 5px; opacity: 1;\"/></g><g class=\"points\"/><g class=\"text\"/></g><g class=\"trace scatter trace48e97a\" style=\"stroke-miterlimit: 2; opacity: 1;\"><g class=\"fills\"/><g class=\"errorbars\"/><g class=\"lines\"><path class=\"js-line\" d=\"M300,195L399.31,195\" style=\"vector-effect: non-scaling-stroke; fill: none; stroke: rgb(212, 216, 227); stroke-opacity: 1; stroke-width: 5px; opacity: 1;\"/></g><g class=\"points\"/><g class=\"text\"/></g><g class=\"trace scatter tracec217bc\" style=\"stroke-miterlimit: 2; opacity: 1;\"><g class=\"fills\"/><g class=\"errorbars\"/><g class=\"lines\"><path class=\"js-line\" d=\"M245.12,290.06L195.46,376.06\" style=\"vector-effect: non-scaling-stroke; fill: none; stroke: rgb(39, 60, 117); stroke-opacity: 1; stroke-width: 6px; opacity: 1;\"/></g><g class=\"points\"/><g class=\"text\"/></g><g class=\"trace scatter tracef2fa88\" style=\"stroke-miterlimit: 2; opacity: 1;\"><g class=\"fills\"/><g class=\"errorbars\"/><g class=\"lines\"><path class=\"js-line\" d=\"M409.76,195L509.07,195\" style=\"vector-effect: non-scaling-stroke; fill: none; stroke: rgb(39, 60, 117); stroke-opacity: 1; stroke-width: 6px; opacity: 1;\"/></g><g class=\"points\"/><g class=\"text\"/></g><g class=\"trace scatter tracebcd058\" style=\"stroke-miterlimit: 2; opacity: 1;\"><g class=\"fills\"/><g class=\"errorbars\"/><g class=\"lines\"><path class=\"js-line\" d=\"M300,195L399.31,195\" style=\"vector-effect: non-scaling-stroke; fill: none; stroke: rgb(242, 215, 208); stroke-opacity: 1; stroke-width: 5px; opacity: 1;\"/></g><g class=\"points\"/><g class=\"text\"/></g><g class=\"trace scatter trace353f13\" style=\"stroke-miterlimit: 2; opacity: 1;\"><g class=\"fills\"/><g class=\"errorbars\"/><g class=\"lines\"><path class=\"js-line\" d=\"M300,195L300,79.52\" style=\"vector-effect: non-scaling-stroke; fill: none; stroke: rgb(242, 215, 208); stroke-opacity: 1; stroke-width: 5px; opacity: 1;\"/></g><g class=\"points\"/><g class=\"text\"/></g><g class=\"trace scatter tracedae1c4\" style=\"stroke-miterlimit: 2; opacity: 1;\"><g class=\"fills\"/><g class=\"errorbars\"/><g class=\"lines\"><path class=\"js-line\" d=\"M409.76,195L446.35,195\" style=\"vector-effect: non-scaling-stroke; fill: none; stroke: rgb(194, 54, 22); stroke-opacity: 1; stroke-width: 6px; opacity: 1;\"/></g><g class=\"points\"/><g class=\"text\"/></g><g class=\"trace scatter traceef4565\" style=\"stroke-miterlimit: 2; opacity: 1;\"><g class=\"fills\"/><g class=\"errorbars\"/><g class=\"lines\"><path class=\"js-line\" d=\"M300,69.07L300,32.48\" style=\"vector-effect: non-scaling-stroke; fill: none; stroke: rgb(194, 54, 22); stroke-opacity: 1; stroke-width: 6px; opacity: 1;\"/></g><g class=\"points\"/><g class=\"text\"/></g></g></g><g class=\"overplot\"/><path class=\"xlines-above crisp\" d=\"M0,0\" style=\"fill: none;\"/><path class=\"ylines-above crisp\" d=\"M0,0\" style=\"fill: none;\"/><g class=\"overlines-above\"/><g class=\"xaxislayer-above\"/><g class=\"yaxislayer-above\"/><g class=\"overaxes-above\"/></g></g><g class=\"polarlayer\"/><g class=\"ternarylayer\"/><g class=\"geolayer\"/><g class=\"funnelarealayer\"/><g class=\"pielayer\"/><g class=\"iciclelayer\"/><g class=\"treemaplayer\"/><g class=\"sunburstlayer\"/><g class=\"glimages\"/><defs id=\"topdefs-8336b4\"><g class=\"clips\"/></defs><g class=\"layer-above\"><g class=\"imagelayer\"/><g class=\"shapelayer\"/></g><g class=\"infolayer\"><g class=\"g-gtitle\"/><g class=\"g-xtitle\"/><g class=\"g-ytitle\"/><g class=\"annotation\" data-index=\"0\" style=\"opacity: 1;\"><g class=\"annotation-text-g\" transform=\"rotate(0,250.69,427.01)\"><g class=\"cursor-pointer\" transform=\"translate(247,417)\"><rect class=\"bg\" x=\"0.5\" y=\"0.5\" width=\"6\" height=\"20\" style=\"stroke-width: 1px; stroke: rgb(0, 0, 0); stroke-opacity: 0; fill: rgb(0, 0, 0); fill-opacity: 0;\"/><text class=\"annotation-text\" text-anchor=\"middle\" x=\"3.5625\" y=\"15\" style=\"font-family: 'Open Sans', verdana, arial, sans-serif; font-size: 12px; fill: rgb(42, 63, 95); fill-opacity: 1; white-space: pre;\"> </text></g></g><g class=\"annotation-arrow-g\" style=\"opacity: 1;\"><path d=\"M247.69,432.20617224880385L240.24,445.11\" style=\"stroke-width: 6px; stroke: rgb(39, 60, 117); stroke-opacity: 1; stroke-dasharray: 0px, 0px, 11px, 14.9px;\"/><path d=\"M-3.7,-2.5V2.5L1.3,0Z\" transform=\"translate(242.19000244140625,441.73248291015625)rotate(119.99969619879586)scale(3)\" style=\"fill: rgb(39, 60, 117); stroke-width: 0;\"/></g></g><g class=\"annotation\" data-index=\"1\" style=\"opacity: 1;\"><g class=\"annotation-text-g\" transform=\"rotate(0,548.62,255)\"><g class=\"cursor-pointer\" transform=\"translate(545,245)\"><rect class=\"bg\" x=\"0.5\" y=\"0.5\" width=\"6\" height=\"20\" style=\"stroke-width: 1px; stroke: rgb(0, 0, 0); stroke-opacity: 0; fill: rgb(0, 0, 0); fill-opacity: 0;\"/><text class=\"annotation-text\" text-anchor=\"middle\" x=\"3.5625\" y=\"15\" style=\"font-family: 'Open Sans', verdana, arial, sans-serif; font-size: 12px; fill: rgb(42, 63, 95); fill-opacity: 1; white-space: pre;\"> </text></g></g><g class=\"annotation-arrow-g\" style=\"opacity: 1;\"><path d=\"M551.62,255L569.53,255\" style=\"stroke-width: 6px; stroke: rgb(39, 60, 117); stroke-opacity: 1; stroke-dasharray: 0px, 0px, 14.01px, 17.91px;\"/><path d=\"M-3.7,-2.5V2.5L1.3,0Z\" transform=\"translate(565.6300048828125,255)scale(3)\" style=\"fill: rgb(39, 60, 117); stroke-width: 0;\"/></g></g><g class=\"annotation\" data-index=\"2\" style=\"opacity: 1;\"><g class=\"annotation-text-g\" transform=\"rotate(0,485.9,255)\"><g class=\"cursor-pointer\" transform=\"translate(482,245)\"><rect class=\"bg\" x=\"0.5\" y=\"0.5\" width=\"6\" height=\"20\" style=\"stroke-width: 1px; stroke: rgb(0, 0, 0); stroke-opacity: 0; fill: rgb(0, 0, 0); fill-opacity: 0;\"/><text class=\"annotation-text\" text-anchor=\"middle\" x=\"3.5625\" y=\"15\" style=\"font-family: 'Open Sans', verdana, arial, sans-serif; font-size: 12px; fill: rgb(42, 63, 95); fill-opacity: 1; white-space: pre;\"> </text></g></g><g class=\"annotation-arrow-g\" style=\"opacity: 1;\"><path d=\"M488.9,255L506.8,255\" style=\"stroke-width: 6px; stroke: rgb(194, 54, 22); stroke-opacity: 1; stroke-dasharray: 0px, 0px, 14px, 17.9px;\"/><path d=\"M-3.7,-2.5V2.5L1.3,0Z\" transform=\"translate(502.8999938964844,255)scale(3)\" style=\"fill: rgb(194, 54, 22); stroke-width: 0;\"/></g></g><g class=\"annotation\" data-index=\"3\" style=\"opacity: 1;\"><g class=\"annotation-text-g\" transform=\"rotate(0,350,102.93)\"><g class=\"cursor-pointer\" transform=\"translate(347,92)\"><rect class=\"bg\" x=\"0.5\" y=\"0.5\" width=\"6\" height=\"20\" style=\"stroke-width: 1px; stroke: rgb(0, 0, 0); stroke-opacity: 0; fill: rgb(0, 0, 0); fill-opacity: 0;\"/><text class=\"annotation-text\" text-anchor=\"middle\" x=\"3.5625\" y=\"15\" style=\"font-family: 'Open Sans', verdana, arial, sans-serif; font-size: 12px; fill: rgb(42, 63, 95); fill-opacity: 1; white-space: pre;\"> </text></g></g><g class=\"annotation-arrow-g\" style=\"opacity: 1;\"><path d=\"M350,92.93L350,82.02\" style=\"stroke-width: 6px; stroke: rgb(194, 54, 22); stroke-opacity: 1; stroke-dasharray: 0px, 0px, 7.01px, 10.91px;\"/><path d=\"M-3.7,-2.5V2.5L1.3,0Z\" transform=\"translate(350,85.91999816894531)rotate(-90)scale(3)\" style=\"fill: rgb(194, 54, 22); stroke-width: 0;\"/></g></g></g></svg>"
      ],
      "text/html": [
       "<div\n",
       "    class=\"webio-mountpoint\"\n",
       "    data-webio-mountpoint=\"3505516261965751476\"\n",
       ">\n",
       "    <script>\n",
       "    (function(){\n",
       "    // Some integrations (namely, IJulia/Jupyter) use an alternate render pathway than\n",
       "    // just putting the html on the page. If WebIO isn't defined, then it's pretty likely\n",
       "    // that we're in one of those situations and the integration just isn't installed\n",
       "    // correctly.\n",
       "    if (typeof window.WebIO === \"undefined\") {\n",
       "        document\n",
       "            .querySelector('[data-webio-mountpoint=\"3505516261965751476\"]')\n",
       "            .innerHTML = (\n",
       "                '<div style=\"padding: 1em; background-color: #f8d6da; border: 1px solid #f5c6cb; font-weight: bold;\">' +\n",
       "                '<p><strong>WebIO not detected.</strong></p>' +\n",
       "                '<p>Please read ' +\n",
       "                '<a href=\"https://juliagizmos.github.io/WebIO.jl/latest/troubleshooting/not-detected/\" target=\"_blank\">the troubleshooting guide</a> ' +\n",
       "                'for more information on how to resolve this issue.</p>' +\n",
       "                '<p><a href=\"https://juliagizmos.github.io/WebIO.jl/latest/troubleshooting/not-detected/\" target=\"_blank\">https://juliagizmos.github.io/WebIO.jl/latest/troubleshooting/not-detected/</a></p>' +\n",
       "                '</div>'\n",
       "            );\n",
       "        return;\n",
       "    }\n",
       "    WebIO.mount(\n",
       "        document.querySelector('[data-webio-mountpoint=\"3505516261965751476\"]'),\n",
       "        {\"props\":{},\"nodeType\":\"Scope\",\"type\":\"node\",\"instanceArgs\":{\"imports\":{\"data\":[{\"name\":\"Plotly\",\"type\":\"js\",\"url\":\"\\/assetserver\\/b267c3137400db01c304fe886fe6f707be7fdb37-plotly.min.js\"},{\"name\":null,\"type\":\"js\",\"url\":\"\\/assetserver\\/020f2e8a4619f2ae880fff9315e6547eef1aff0b-plotly_webio.bundle.js\"}],\"type\":\"async_block\"},\"id\":\"3185253796723514362\",\"handlers\":{\"_toImage\":[\"(function (options){return this.Plotly.toImage(this.plotElem,options).then((function (data){return WebIO.setval({\\\"name\\\":\\\"image\\\",\\\"scope\\\":\\\"3185253796723514362\\\",\\\"id\\\":\\\"5\\\",\\\"type\\\":\\\"observable\\\"},data)}))})\"],\"__get_gd_contents\":[\"(function (prop){prop==\\\"data\\\" ? (WebIO.setval({\\\"name\\\":\\\"__gd_contents\\\",\\\"scope\\\":\\\"3185253796723514362\\\",\\\"id\\\":\\\"6\\\",\\\"type\\\":\\\"observable\\\"},this.plotElem.data)) : undefined; return prop==\\\"layout\\\" ? (WebIO.setval({\\\"name\\\":\\\"__gd_contents\\\",\\\"scope\\\":\\\"3185253796723514362\\\",\\\"id\\\":\\\"6\\\",\\\"type\\\":\\\"observable\\\"},this.plotElem.layout)) : undefined})\"],\"_downloadImage\":[\"(function (options){return this.Plotly.downloadImage(this.plotElem,options)})\"],\"_commands\":[\"(function (args){var fn=args.shift(); var elem=this.plotElem; var Plotly=this.Plotly; args.unshift(elem); return Plotly[fn].apply(this,args)})\"]},\"systemjs_options\":null,\"mount_callbacks\":[\"function () {\\n    var handler = ((function (Plotly,PlotlyWebIO){PlotlyWebIO.init(WebIO); var gd=this.dom.querySelector(\\\"#plot-1301e6db-6508-410e-9039-34e171027e2b\\\"); this.plotElem=gd; this.Plotly=Plotly; (window.Blink!==undefined) ? (gd.style.width=\\\"100%\\\", gd.style.height=\\\"100vh\\\", gd.style.marginLeft=\\\"0%\\\", gd.style.marginTop=\\\"0vh\\\") : undefined; window.onresize=(function (){return Plotly.Plots.resize(gd)}); Plotly.newPlot(gd,[{\\\"mode\\\":\\\"lines\\\",\\\"line\\\":{\\\"color\\\":\\\"rgb(47,54,64)\\\",\\\"width\\\":3},\\\"hovertext\\\":\\\"Cell\\\",\\\"y\\\":[-0.2886751345948128,-0.5773502691896257,-0.288675134594813,0.2886751345948128,0.5773502691896257,0.288675134594813,-0.2886751345948128],\\\"type\\\":\\\"scatter\\\",\\\"hoverinfo\\\":\\\"text+x+y\\\",\\\"x\\\":[-0.4999999999999999,0.0,0.4999999999999998,0.4999999999999999,0.0,-0.4999999999999998,-0.4999999999999999]},{\\\"mode\\\":\\\"lines\\\",\\\"line\\\":{\\\"color\\\":\\\"rgb(212,216,227)\\\",\\\"width\\\":5},\\\"hovertext\\\":\\\"<b>v<\\/b><sub>1<\\/sub>\\\",\\\"y\\\":[-0.0,-0.41136206679760834],\\\"type\\\":\\\"scatter\\\",\\\"hoverinfo\\\":\\\"text\\\",\\\"x\\\":[-0.0,-0.2375]},{\\\"mode\\\":\\\"lines\\\",\\\"line\\\":{\\\"color\\\":\\\"rgb(212,216,227)\\\",\\\"width\\\":5},\\\"hovertext\\\":\\\"<b>v<\\/b><sub>2<\\/sub>\\\",\\\"y\\\":[-0.0,-1.0547118733938984e-16],\\\"type\\\":\\\"scatter\\\",\\\"hoverinfo\\\":\\\"text\\\",\\\"x\\\":[0.0,0.4749999999999998]},{\\\"mode\\\":\\\"lines\\\",\\\"line\\\":{\\\"color\\\":\\\"rgb(39,60,117)\\\",\\\"width\\\":6},\\\"hovertext\\\":\\\"<b>v<\\/b><sub>1<\\/sub>\\\",\\\"y\\\":[-0.45466333698683026,-0.8660254037844386],\\\"type\\\":\\\"scatter\\\",\\\"hoverinfo\\\":\\\"text+x+y\\\",\\\"x\\\":[-0.2625,-0.5]},{\\\"mode\\\":\\\"lines\\\",\\\"line\\\":{\\\"color\\\":\\\"rgb(39,60,117)\\\",\\\"width\\\":6},\\\"hovertext\\\":\\\"<b>v<\\/b><sub>2<\\/sub>\\\",\\\"y\\\":[-1.1657341758564142e-16,-2.220446049250313e-16],\\\"type\\\":\\\"scatter\\\",\\\"hoverinfo\\\":\\\"text+x+y\\\",\\\"x\\\":[0.5249999999999998,0.9999999999999999]},{\\\"mode\\\":\\\"lines\\\",\\\"line\\\":{\\\"color\\\":\\\"rgb(242,215,208)\\\",\\\"width\\\":5},\\\"hovertext\\\":\\\"<b>x<\\/b>\\\",\\\"y\\\":[0.0,0.0],\\\"type\\\":\\\"scatter\\\",\\\"hoverinfo\\\":\\\"text\\\",\\\"x\\\":[0.0,0.4749999999999998]},{\\\"mode\\\":\\\"lines\\\",\\\"line\\\":{\\\"color\\\":\\\"rgb(242,215,208)\\\",\\\"width\\\":5},\\\"hovertext\\\":\\\"<b>y<\\/b>\\\",\\\"y\\\":[0.0,0.5523502691896257],\\\"type\\\":\\\"scatter\\\",\\\"hoverinfo\\\":\\\"text\\\",\\\"x\\\":[0.0,0.0]},{\\\"mode\\\":\\\"lines\\\",\\\"line\\\":{\\\"color\\\":\\\"rgb(194,54,22)\\\",\\\"width\\\":6},\\\"hovertext\\\":\\\"<b>x<\\/b>\\\",\\\"y\\\":[0.0,0.0],\\\"type\\\":\\\"scatter\\\",\\\"hoverinfo\\\":\\\"text\\\",\\\"x\\\":[0.5249999999999998,0.6999999999999998]},{\\\"mode\\\":\\\"lines\\\",\\\"line\\\":{\\\"color\\\":\\\"rgb(194,54,22)\\\",\\\"width\\\":6},\\\"hovertext\\\":\\\"<b>y<\\/b>\\\",\\\"y\\\":[0.6023502691896258,0.7773502691896257],\\\"type\\\":\\\"scatter\\\",\\\"hoverinfo\\\":\\\"text\\\",\\\"x\\\":[0.0,0.0]}],{\\\"showlegend\\\":false,\\\"xaxis\\\":{\\\"showgrid\\\":false,\\\"zeroline\\\":false,\\\"tickvals\\\":[],\\\"title\\\":{\\\"text\\\":\\\"\\\"},\\\"showbackground\\\":false,\\\"range\\\":[-1.0666666666666667,1.0666666666666667]},\\\"hovermode\\\":\\\"closest\\\",\\\"paper_bgcolor\\\":\\\"rgba(255, 255, 255, 1)\\\",\\\"template\\\":{\\\"layout\\\":{\\\"coloraxis\\\":{\\\"colorbar\\\":{\\\"ticks\\\":\\\"\\\",\\\"outlinewidth\\\":0}},\\\"xaxis\\\":{\\\"gridcolor\\\":\\\"white\\\",\\\"zerolinewidth\\\":2,\\\"title\\\":{\\\"standoff\\\":15},\\\"ticks\\\":\\\"\\\",\\\"zerolinecolor\\\":\\\"white\\\",\\\"automargin\\\":true,\\\"linecolor\\\":\\\"white\\\"},\\\"hovermode\\\":\\\"closest\\\",\\\"paper_bgcolor\\\":\\\"white\\\",\\\"geo\\\":{\\\"showlakes\\\":true,\\\"showland\\\":true,\\\"landcolor\\\":\\\"#E5ECF6\\\",\\\"bgcolor\\\":\\\"white\\\",\\\"subunitcolor\\\":\\\"white\\\",\\\"lakecolor\\\":\\\"white\\\"},\\\"colorscale\\\":{\\\"sequential\\\":[[0.0,\\\"#0d0887\\\"],[0.1111111111111111,\\\"#46039f\\\"],[0.2222222222222222,\\\"#7201a8\\\"],[0.3333333333333333,\\\"#9c179e\\\"],[0.4444444444444444,\\\"#bd3786\\\"],[0.5555555555555556,\\\"#d8576b\\\"],[0.6666666666666666,\\\"#ed7953\\\"],[0.7777777777777778,\\\"#fb9f3a\\\"],[0.8888888888888888,\\\"#fdca26\\\"],[1.0,\\\"#f0f921\\\"]],\\\"diverging\\\":[[0,\\\"#8e0152\\\"],[0.1,\\\"#c51b7d\\\"],[0.2,\\\"#de77ae\\\"],[0.3,\\\"#f1b6da\\\"],[0.4,\\\"#fde0ef\\\"],[0.5,\\\"#f7f7f7\\\"],[0.6,\\\"#e6f5d0\\\"],[0.7,\\\"#b8e186\\\"],[0.8,\\\"#7fbc41\\\"],[0.9,\\\"#4d9221\\\"],[1,\\\"#276419\\\"]],\\\"sequentialminus\\\":[[0.0,\\\"#0d0887\\\"],[0.1111111111111111,\\\"#46039f\\\"],[0.2222222222222222,\\\"#7201a8\\\"],[0.3333333333333333,\\\"#9c179e\\\"],[0.4444444444444444,\\\"#bd3786\\\"],[0.5555555555555556,\\\"#d8576b\\\"],[0.6666666666666666,\\\"#ed7953\\\"],[0.7777777777777778,\\\"#fb9f3a\\\"],[0.8888888888888888,\\\"#fdca26\\\"],[1.0,\\\"#f0f921\\\"]]},\\\"yaxis\\\":{\\\"gridcolor\\\":\\\"white\\\",\\\"zerolinewidth\\\":2,\\\"title\\\":{\\\"standoff\\\":15},\\\"ticks\\\":\\\"\\\",\\\"zerolinecolor\\\":\\\"white\\\",\\\"automargin\\\":true,\\\"linecolor\\\":\\\"white\\\"},\\\"shapedefaults\\\":{\\\"line\\\":{\\\"color\\\":\\\"#2a3f5f\\\"}},\\\"hoverlabel\\\":{\\\"align\\\":\\\"left\\\"},\\\"mapbox\\\":{\\\"style\\\":\\\"light\\\"},\\\"polar\\\":{\\\"angularaxis\\\":{\\\"gridcolor\\\":\\\"white\\\",\\\"ticks\\\":\\\"\\\",\\\"linecolor\\\":\\\"white\\\"},\\\"bgcolor\\\":\\\"#E5ECF6\\\",\\\"radialaxis\\\":{\\\"gridcolor\\\":\\\"white\\\",\\\"ticks\\\":\\\"\\\",\\\"linecolor\\\":\\\"white\\\"}},\\\"autotypenumbers\\\":\\\"strict\\\",\\\"font\\\":{\\\"color\\\":\\\"#2a3f5f\\\"},\\\"ternary\\\":{\\\"baxis\\\":{\\\"gridcolor\\\":\\\"white\\\",\\\"ticks\\\":\\\"\\\",\\\"linecolor\\\":\\\"white\\\"},\\\"bgcolor\\\":\\\"#E5ECF6\\\",\\\"caxis\\\":{\\\"gridcolor\\\":\\\"white\\\",\\\"ticks\\\":\\\"\\\",\\\"linecolor\\\":\\\"white\\\"},\\\"aaxis\\\":{\\\"gridcolor\\\":\\\"white\\\",\\\"ticks\\\":\\\"\\\",\\\"linecolor\\\":\\\"white\\\"}},\\\"annotationdefaults\\\":{\\\"arrowhead\\\":0,\\\"arrowwidth\\\":1,\\\"arrowcolor\\\":\\\"#2a3f5f\\\"},\\\"plot_bgcolor\\\":\\\"#E5ECF6\\\",\\\"title\\\":{\\\"x\\\":0.05},\\\"scene\\\":{\\\"xaxis\\\":{\\\"gridcolor\\\":\\\"white\\\",\\\"gridwidth\\\":2,\\\"backgroundcolor\\\":\\\"#E5ECF6\\\",\\\"ticks\\\":\\\"\\\",\\\"showbackground\\\":true,\\\"zerolinecolor\\\":\\\"white\\\",\\\"linecolor\\\":\\\"white\\\"},\\\"zaxis\\\":{\\\"gridcolor\\\":\\\"white\\\",\\\"gridwidth\\\":2,\\\"backgroundcolor\\\":\\\"#E5ECF6\\\",\\\"ticks\\\":\\\"\\\",\\\"showbackground\\\":true,\\\"zerolinecolor\\\":\\\"white\\\",\\\"linecolor\\\":\\\"white\\\"},\\\"yaxis\\\":{\\\"gridcolor\\\":\\\"white\\\",\\\"gridwidth\\\":2,\\\"backgroundcolor\\\":\\\"#E5ECF6\\\",\\\"ticks\\\":\\\"\\\",\\\"showbackground\\\":true,\\\"zerolinecolor\\\":\\\"white\\\",\\\"linecolor\\\":\\\"white\\\"}},\\\"colorway\\\":[\\\"#636efa\\\",\\\"#EF553B\\\",\\\"#00cc96\\\",\\\"#ab63fa\\\",\\\"#FFA15A\\\",\\\"#19d3f3\\\",\\\"#FF6692\\\",\\\"#B6E880\\\",\\\"#FF97FF\\\",\\\"#FECB52\\\"]},\\\"data\\\":{\\\"barpolar\\\":[{\\\"type\\\":\\\"barpolar\\\",\\\"marker\\\":{\\\"line\\\":{\\\"color\\\":\\\"#E5ECF6\\\",\\\"width\\\":0.5}}}],\\\"carpet\\\":[{\\\"aaxis\\\":{\\\"gridcolor\\\":\\\"white\\\",\\\"endlinecolor\\\":\\\"#2a3f5f\\\",\\\"minorgridcolor\\\":\\\"white\\\",\\\"startlinecolor\\\":\\\"#2a3f5f\\\",\\\"linecolor\\\":\\\"white\\\"},\\\"type\\\":\\\"carpet\\\",\\\"baxis\\\":{\\\"gridcolor\\\":\\\"white\\\",\\\"endlinecolor\\\":\\\"#2a3f5f\\\",\\\"minorgridcolor\\\":\\\"white\\\",\\\"startlinecolor\\\":\\\"#2a3f5f\\\",\\\"linecolor\\\":\\\"white\\\"}}],\\\"scatterpolar\\\":[{\\\"type\\\":\\\"scatterpolar\\\",\\\"marker\\\":{\\\"colorbar\\\":{\\\"ticks\\\":\\\"\\\",\\\"outlinewidth\\\":0}}}],\\\"parcoords\\\":[{\\\"line\\\":{\\\"colorbar\\\":{\\\"ticks\\\":\\\"\\\",\\\"outlinewidth\\\":0}},\\\"type\\\":\\\"parcoords\\\"}],\\\"scatter\\\":[{\\\"type\\\":\\\"scatter\\\",\\\"marker\\\":{\\\"colorbar\\\":{\\\"ticks\\\":\\\"\\\",\\\"outlinewidth\\\":0}}}],\\\"histogram2dcontour\\\":[{\\\"colorbar\\\":{\\\"ticks\\\":\\\"\\\",\\\"outlinewidth\\\":0},\\\"type\\\":\\\"histogram2dcontour\\\",\\\"colorscale\\\":[[0.0,\\\"#0d0887\\\"],[0.1111111111111111,\\\"#46039f\\\"],[0.2222222222222222,\\\"#7201a8\\\"],[0.3333333333333333,\\\"#9c179e\\\"],[0.4444444444444444,\\\"#bd3786\\\"],[0.5555555555555556,\\\"#d8576b\\\"],[0.6666666666666666,\\\"#ed7953\\\"],[0.7777777777777778,\\\"#fb9f3a\\\"],[0.8888888888888888,\\\"#fdca26\\\"],[1.0,\\\"#f0f921\\\"]]}],\\\"contour\\\":[{\\\"colorbar\\\":{\\\"ticks\\\":\\\"\\\",\\\"outlinewidth\\\":0},\\\"type\\\":\\\"contour\\\",\\\"colorscale\\\":[[0.0,\\\"#0d0887\\\"],[0.1111111111111111,\\\"#46039f\\\"],[0.2222222222222222,\\\"#7201a8\\\"],[0.3333333333333333,\\\"#9c179e\\\"],[0.4444444444444444,\\\"#bd3786\\\"],[0.5555555555555556,\\\"#d8576b\\\"],[0.6666666666666666,\\\"#ed7953\\\"],[0.7777777777777778,\\\"#fb9f3a\\\"],[0.8888888888888888,\\\"#fdca26\\\"],[1.0,\\\"#f0f921\\\"]]}],\\\"scattercarpet\\\":[{\\\"type\\\":\\\"scattercarpet\\\",\\\"marker\\\":{\\\"colorbar\\\":{\\\"ticks\\\":\\\"\\\",\\\"outlinewidth\\\":0}}}],\\\"mesh3d\\\":[{\\\"colorbar\\\":{\\\"ticks\\\":\\\"\\\",\\\"outlinewidth\\\":0},\\\"type\\\":\\\"mesh3d\\\"}],\\\"surface\\\":[{\\\"colorbar\\\":{\\\"ticks\\\":\\\"\\\",\\\"outlinewidth\\\":0},\\\"type\\\":\\\"surface\\\",\\\"colorscale\\\":[[0.0,\\\"#0d0887\\\"],[0.1111111111111111,\\\"#46039f\\\"],[0.2222222222222222,\\\"#7201a8\\\"],[0.3333333333333333,\\\"#9c179e\\\"],[0.4444444444444444,\\\"#bd3786\\\"],[0.5555555555555556,\\\"#d8576b\\\"],[0.6666666666666666,\\\"#ed7953\\\"],[0.7777777777777778,\\\"#fb9f3a\\\"],[0.8888888888888888,\\\"#fdca26\\\"],[1.0,\\\"#f0f921\\\"]]}],\\\"scattermapbox\\\":[{\\\"type\\\":\\\"scattermapbox\\\",\\\"marker\\\":{\\\"colorbar\\\":{\\\"ticks\\\":\\\"\\\",\\\"outlinewidth\\\":0}}}],\\\"scattergeo\\\":[{\\\"type\\\":\\\"scattergeo\\\",\\\"marker\\\":{\\\"colorbar\\\":{\\\"ticks\\\":\\\"\\\",\\\"outlinewidth\\\":0}}}],\\\"histogram\\\":[{\\\"type\\\":\\\"histogram\\\",\\\"marker\\\":{\\\"colorbar\\\":{\\\"ticks\\\":\\\"\\\",\\\"outlinewidth\\\":0}}}],\\\"pie\\\":[{\\\"type\\\":\\\"pie\\\",\\\"automargin\\\":true}],\\\"choropleth\\\":[{\\\"colorbar\\\":{\\\"ticks\\\":\\\"\\\",\\\"outlinewidth\\\":0},\\\"type\\\":\\\"choropleth\\\"}],\\\"heatmapgl\\\":[{\\\"colorbar\\\":{\\\"ticks\\\":\\\"\\\",\\\"outlinewidth\\\":0},\\\"type\\\":\\\"heatmapgl\\\",\\\"colorscale\\\":[[0.0,\\\"#0d0887\\\"],[0.1111111111111111,\\\"#46039f\\\"],[0.2222222222222222,\\\"#7201a8\\\"],[0.3333333333333333,\\\"#9c179e\\\"],[0.4444444444444444,\\\"#bd3786\\\"],[0.5555555555555556,\\\"#d8576b\\\"],[0.6666666666666666,\\\"#ed7953\\\"],[0.7777777777777778,\\\"#fb9f3a\\\"],[0.8888888888888888,\\\"#fdca26\\\"],[1.0,\\\"#f0f921\\\"]]}],\\\"bar\\\":[{\\\"type\\\":\\\"bar\\\",\\\"error_y\\\":{\\\"color\\\":\\\"#2a3f5f\\\"},\\\"error_x\\\":{\\\"color\\\":\\\"#2a3f5f\\\"},\\\"marker\\\":{\\\"line\\\":{\\\"color\\\":\\\"#E5ECF6\\\",\\\"width\\\":0.5}}}],\\\"heatmap\\\":[{\\\"colorbar\\\":{\\\"ticks\\\":\\\"\\\",\\\"outlinewidth\\\":0},\\\"type\\\":\\\"heatmap\\\",\\\"colorscale\\\":[[0.0,\\\"#0d0887\\\"],[0.1111111111111111,\\\"#46039f\\\"],[0.2222222222222222,\\\"#7201a8\\\"],[0.3333333333333333,\\\"#9c179e\\\"],[0.4444444444444444,\\\"#bd3786\\\"],[0.5555555555555556,\\\"#d8576b\\\"],[0.6666666666666666,\\\"#ed7953\\\"],[0.7777777777777778,\\\"#fb9f3a\\\"],[0.8888888888888888,\\\"#fdca26\\\"],[1.0,\\\"#f0f921\\\"]]}],\\\"contourcarpet\\\":[{\\\"colorbar\\\":{\\\"ticks\\\":\\\"\\\",\\\"outlinewidth\\\":0},\\\"type\\\":\\\"contourcarpet\\\"}],\\\"table\\\":[{\\\"type\\\":\\\"table\\\",\\\"header\\\":{\\\"line\\\":{\\\"color\\\":\\\"white\\\"},\\\"fill\\\":{\\\"color\\\":\\\"#C8D4E3\\\"}},\\\"cells\\\":{\\\"line\\\":{\\\"color\\\":\\\"white\\\"},\\\"fill\\\":{\\\"color\\\":\\\"#EBF0F8\\\"}}}],\\\"scatter3d\\\":[{\\\"line\\\":{\\\"colorbar\\\":{\\\"ticks\\\":\\\"\\\",\\\"outlinewidth\\\":0}},\\\"type\\\":\\\"scatter3d\\\",\\\"marker\\\":{\\\"colorbar\\\":{\\\"ticks\\\":\\\"\\\",\\\"outlinewidth\\\":0}}}],\\\"scattergl\\\":[{\\\"type\\\":\\\"scattergl\\\",\\\"marker\\\":{\\\"colorbar\\\":{\\\"ticks\\\":\\\"\\\",\\\"outlinewidth\\\":0}}}],\\\"histogram2d\\\":[{\\\"colorbar\\\":{\\\"ticks\\\":\\\"\\\",\\\"outlinewidth\\\":0},\\\"type\\\":\\\"histogram2d\\\",\\\"colorscale\\\":[[0.0,\\\"#0d0887\\\"],[0.1111111111111111,\\\"#46039f\\\"],[0.2222222222222222,\\\"#7201a8\\\"],[0.3333333333333333,\\\"#9c179e\\\"],[0.4444444444444444,\\\"#bd3786\\\"],[0.5555555555555556,\\\"#d8576b\\\"],[0.6666666666666666,\\\"#ed7953\\\"],[0.7777777777777778,\\\"#fb9f3a\\\"],[0.8888888888888888,\\\"#fdca26\\\"],[1.0,\\\"#f0f921\\\"]]}],\\\"scatterternary\\\":[{\\\"type\\\":\\\"scatterternary\\\",\\\"marker\\\":{\\\"colorbar\\\":{\\\"ticks\\\":\\\"\\\",\\\"outlinewidth\\\":0}}}],\\\"scatterpolargl\\\":[{\\\"type\\\":\\\"scatterpolargl\\\",\\\"marker\\\":{\\\"colorbar\\\":{\\\"ticks\\\":\\\"\\\",\\\"outlinewidth\\\":0}}}]}},\\\"yaxis\\\":{\\\"showgrid\\\":false,\\\"zeroline\\\":false,\\\"tickvals\\\":[],\\\"scaleanchor\\\":\\\"x\\\",\\\"scaleratio\\\":1,\\\"title\\\":{\\\"text\\\":\\\"\\\"},\\\"showbackground\\\":false,\\\"range\\\":[-0.9326920704511052,0.9326920704511052]},\\\"autosize\\\":false,\\\"annotations\\\":[{\\\"arrowcolor\\\":\\\"rgb(39,60,117)\\\",\\\"showarrow\\\":true,\\\"yref\\\":\\\"ay\\\",\\\"arrowsize\\\":0.5,\\\"arrowhead\\\":2,\\\"axref\\\":\\\"x\\\",\\\"y\\\":-0.9093266739736605,\\\"ax\\\":-0.475,\\\"ay\\\":-0.8227241335952167,\\\"ayref\\\":\\\"y\\\",\\\"arrowwidth\\\":6,\\\"xref\\\":\\\"ax\\\",\\\"x\\\":-0.525},{\\\"arrowcolor\\\":\\\"rgb(39,60,117)\\\",\\\"showarrow\\\":true,\\\"yref\\\":\\\"ay\\\",\\\"arrowsize\\\":0.5,\\\"arrowhead\\\":2,\\\"axref\\\":\\\"x\\\",\\\"y\\\":-2.331468351712829e-16,\\\"ax\\\":0.9499999999999998,\\\"ay\\\":-2.1094237467877973e-16,\\\"ayref\\\":\\\"y\\\",\\\"arrowwidth\\\":6,\\\"xref\\\":\\\"ax\\\",\\\"x\\\":1.0499999999999998},{\\\"arrowcolor\\\":\\\"rgb(194,54,22)\\\",\\\"showarrow\\\":true,\\\"yref\\\":\\\"ay\\\",\\\"arrowsize\\\":0.5,\\\"arrowhead\\\":2,\\\"axref\\\":\\\"x\\\",\\\"y\\\":0.0,\\\"ax\\\":0.6499999999999998,\\\"ay\\\":0.0,\\\"ayref\\\":\\\"y\\\",\\\"arrowwidth\\\":6,\\\"xref\\\":\\\"ax\\\",\\\"x\\\":0.7499999999999999},{\\\"arrowcolor\\\":\\\"rgb(194,54,22)\\\",\\\"showarrow\\\":true,\\\"yref\\\":\\\"ay\\\",\\\"arrowsize\\\":0.5,\\\"arrowhead\\\":2,\\\"axref\\\":\\\"x\\\",\\\"y\\\":0.8273502691896257,\\\"ax\\\":0.0,\\\"ay\\\":0.7273502691896256,\\\"ayref\\\":\\\"y\\\",\\\"arrowwidth\\\":6,\\\"xref\\\":\\\"ax\\\",\\\"x\\\":0.0}],\\\"plot_bgcolor\\\":\\\"rgba(255, 255, 255, 1)\\\",\\\"margin\\\":{\\\"l\\\":50,\\\"b\\\":50,\\\"r\\\":50,\\\"t\\\":60},\\\"aspectmode\\\":\\\"data\\\"},{\\\"displaylogo\\\":false,\\\"showLink\\\":false,\\\"editable\\\":false,\\\"responsive\\\":true,\\\"staticPlot\\\":false,\\\"scrollZoom\\\":true}); gd.on(\\\"plotly_hover\\\",(function (data){var filtered_data=WebIO.PlotlyCommands.filterEventData(gd,data,\\\"hover\\\"); return !(filtered_data.isnil) ? (WebIO.setval({\\\"name\\\":\\\"hover\\\",\\\"scope\\\":\\\"3185253796723514362\\\",\\\"id\\\":\\\"1\\\",\\\"type\\\":\\\"observable\\\"},filtered_data.out)) : undefined})); gd.on(\\\"plotly_unhover\\\",(function (){return WebIO.setval({\\\"name\\\":\\\"hover\\\",\\\"scope\\\":\\\"3185253796723514362\\\",\\\"id\\\":\\\"1\\\",\\\"type\\\":\\\"observable\\\"},{})})); gd.on(\\\"plotly_selected\\\",(function (data){var filtered_data=WebIO.PlotlyCommands.filterEventData(gd,data,\\\"selected\\\"); return !(filtered_data.isnil) ? (WebIO.setval({\\\"name\\\":\\\"selected\\\",\\\"scope\\\":\\\"3185253796723514362\\\",\\\"id\\\":\\\"2\\\",\\\"type\\\":\\\"observable\\\"},filtered_data.out)) : undefined})); gd.on(\\\"plotly_deselect\\\",(function (){return WebIO.setval({\\\"name\\\":\\\"selected\\\",\\\"scope\\\":\\\"3185253796723514362\\\",\\\"id\\\":\\\"2\\\",\\\"type\\\":\\\"observable\\\"},{})})); gd.on(\\\"plotly_relayout\\\",(function (data){var filtered_data=WebIO.PlotlyCommands.filterEventData(gd,data,\\\"relayout\\\"); return !(filtered_data.isnil) ? (WebIO.setval({\\\"name\\\":\\\"relayout\\\",\\\"scope\\\":\\\"3185253796723514362\\\",\\\"id\\\":\\\"4\\\",\\\"type\\\":\\\"observable\\\"},filtered_data.out)) : undefined})); return gd.on(\\\"plotly_click\\\",(function (data){var filtered_data=WebIO.PlotlyCommands.filterEventData(gd,data,\\\"click\\\"); return !(filtered_data.isnil) ? (WebIO.setval({\\\"name\\\":\\\"click\\\",\\\"scope\\\":\\\"3185253796723514362\\\",\\\"id\\\":\\\"3\\\",\\\"type\\\":\\\"observable\\\"},filtered_data.out)) : undefined}))}));\\n    (WebIO.importBlock({\\\"data\\\":[{\\\"name\\\":\\\"Plotly\\\",\\\"type\\\":\\\"js\\\",\\\"url\\\":\\\"\\/assetserver\\/b267c3137400db01c304fe886fe6f707be7fdb37-plotly.min.js\\\"},{\\\"name\\\":null,\\\"type\\\":\\\"js\\\",\\\"url\\\":\\\"\\/assetserver\\/020f2e8a4619f2ae880fff9315e6547eef1aff0b-plotly_webio.bundle.js\\\"}],\\\"type\\\":\\\"async_block\\\"})).then((imports) => handler.apply(this, imports));\\n}\\n\"],\"observables\":{\"_toImage\":{\"sync\":false,\"id\":\"8\",\"value\":{}},\"hover\":{\"sync\":false,\"id\":\"1\",\"value\":{}},\"selected\":{\"sync\":false,\"id\":\"2\",\"value\":{}},\"__gd_contents\":{\"sync\":false,\"id\":\"6\",\"value\":{}},\"click\":{\"sync\":false,\"id\":\"3\",\"value\":{}},\"image\":{\"sync\":true,\"id\":\"5\",\"value\":\"\"},\"__get_gd_contents\":{\"sync\":false,\"id\":\"10\",\"value\":\"\"},\"_downloadImage\":{\"sync\":false,\"id\":\"9\",\"value\":{}},\"relayout\":{\"sync\":false,\"id\":\"4\",\"value\":{}},\"_commands\":{\"sync\":false,\"id\":\"7\",\"value\":[]}}},\"children\":[{\"props\":{\"id\":\"plot-1301e6db-6508-410e-9039-34e171027e2b\"},\"nodeType\":\"DOM\",\"type\":\"node\",\"instanceArgs\":{\"namespace\":\"html\",\"tag\":\"div\"},\"children\":[]}]},\n",
       "        window,\n",
       "    );\n",
       "    })()\n",
       "    </script>\n",
       "</div>\n"
      ],
      "text/plain": [
       "data: [\n",
       "  \"scatter with fields hoverinfo, hovertext, line, mode, type, x, and y\",\n",
       "  \"scatter with fields hoverinfo, hovertext, line, mode, type, x, and y\",\n",
       "  \"scatter with fields hoverinfo, hovertext, line, mode, type, x, and y\",\n",
       "  \"scatter with fields hoverinfo, hovertext, line, mode, type, x, and y\",\n",
       "  \"scatter with fields hoverinfo, hovertext, line, mode, type, x, and y\",\n",
       "  \"scatter with fields hoverinfo, hovertext, line, mode, type, x, and y\",\n",
       "  \"scatter with fields hoverinfo, hovertext, line, mode, type, x, and y\",\n",
       "  \"scatter with fields hoverinfo, hovertext, line, mode, type, x, and y\",\n",
       "  \"scatter with fields hoverinfo, hovertext, line, mode, type, x, and y\"\n",
       "]\n",
       "\n",
       "layout: \"layout with fields annotations, aspectmode, autosize, hovermode, margin, paper_bgcolor, plot_bgcolor, showlegend, template, xaxis, and yaxis\"\n",
       "\n"
      ]
     },
     "metadata": {},
     "output_type": "display_data"
    },
    {
     "data": {
      "application/vnd.plotly.v1+json": {
       "config": {
        "displaylogo": false,
        "editable": false,
        "responsive": true,
        "scrollZoom": true,
        "showLink": false,
        "staticPlot": false
       },
       "data": [
        {
         "hoverinfo": "text+x+y",
         "hovertext": "Cell",
         "line": {
          "color": "rgb(47,54,64)",
          "width": 3
         },
         "mode": "lines",
         "type": "scatter",
         "x": [
          2.0943951023931953,
          4.1887902047863905,
          2.094395102393197,
          -2.0943951023931953,
          -4.1887902047863905,
          -2.094395102393197,
          2.0943951023931953
         ],
         "y": [
          -3.627598728468435,
          -8.881784197001252e-16,
          3.627598728468435,
          3.627598728468435,
          8.881784197001252e-16,
          -3.627598728468435,
          -3.627598728468435
         ]
        },
        {
         "hoverinfo": "text",
         "hovertext": "<b>v</b><sub>1</sub>",
         "line": {
          "color": "rgb(212,216,227)",
          "width": 5
         },
         "mode": "lines",
         "type": "scatter",
         "x": [
          0,
          -7.652142901648538e-16
         ],
         "y": [
          0,
          -3.446218792045013
         ]
        },
        {
         "hoverinfo": "text",
         "hovertext": "<b>v</b><sub>2</sub>",
         "line": {
          "color": "rgb(212,216,227)",
          "width": 5
         },
         "mode": "lines",
         "type": "scatter",
         "x": [
          0,
          2.984513020910303
         ],
         "y": [
          0,
          -1.723109396022507
         ]
        },
        {
         "hoverinfo": "text+x+y",
         "hovertext": "<b>v</b><sub>1</sub>",
         "line": {
          "color": "rgb(39,60,117)",
          "width": 6
         },
         "mode": "lines",
         "type": "scatter",
         "x": [
          -8.457631628137857e-16,
          -1.6109774529786396e-15
         ],
         "y": [
          -3.8089786648918564,
          -7.2551974569368705
         ]
        },
        {
         "hoverinfo": "text+x+y",
         "hovertext": "<b>v</b><sub>2</sub>",
         "line": {
          "color": "rgb(39,60,117)",
          "width": 6
         },
         "mode": "lines",
         "type": "scatter",
         "x": [
          3.2986722862692823,
          6.283185307179586
         ],
         "y": [
          -1.9044893324459287,
          -3.627598728468436
         ]
        },
        {
         "hoverinfo": "text",
         "hovertext": "<b>x</b>",
         "line": {
          "color": "rgb(242,215,208)",
          "width": 5
         },
         "mode": "lines",
         "type": "scatter",
         "x": [
          0,
          4.007410268362968
         ],
         "y": [
          0,
          0
         ]
        },
        {
         "hoverinfo": "text",
         "hovertext": "<b>y</b>",
         "line": {
          "color": "rgb(242,215,208)",
          "width": 5
         },
         "mode": "lines",
         "type": "scatter",
         "x": [
          0,
          0
         ],
         "y": [
          0,
          3.446218792045013
         ]
        },
        {
         "hoverinfo": "text",
         "hovertext": "<b>x</b>",
         "line": {
          "color": "rgb(194,54,22)",
          "width": 6
         },
         "mode": "lines",
         "type": "scatter",
         "x": [
          4.370170141209813,
          5.639829696173765
         ],
         "y": [
          0,
          0
         ]
        },
        {
         "hoverinfo": "text",
         "hovertext": "<b>y</b>",
         "line": {
          "color": "rgb(194,54,22)",
          "width": 6
         },
         "mode": "lines",
         "type": "scatter",
         "x": [
          0,
          0
         ],
         "y": [
          3.8089786648918564,
          5.078638219855809
         ]
        }
       ],
       "frames": [],
       "layout": {
        "annotations": [
         {
          "arrowcolor": "rgb(39,60,117)",
          "arrowhead": 2,
          "arrowsize": 0.5,
          "arrowwidth": 6,
          "ax": -1.5304285803297077e-15,
          "axref": "x",
          "ay": -6.892437584090027,
          "ayref": "y",
          "showarrow": true,
          "x": -1.6915263256275716e-15,
          "xref": "ax",
          "y": -7.617957329783714,
          "yref": "ay"
         },
         {
          "arrowcolor": "rgb(39,60,117)",
          "arrowhead": 2,
          "arrowsize": 0.5,
          "arrowwidth": 6,
          "ax": 5.969026041820607,
          "axref": "x",
          "ay": -3.4462187920450145,
          "ayref": "y",
          "showarrow": true,
          "x": 6.5973445725385655,
          "xref": "ax",
          "y": -3.8089786648918578,
          "yref": "ay"
         },
         {
          "arrowcolor": "rgb(194,54,22)",
          "arrowhead": 2,
          "arrowsize": 0.5,
          "arrowwidth": 6,
          "ax": 5.277069823326921,
          "axref": "x",
          "ay": 0,
          "ayref": "y",
          "showarrow": true,
          "x": 6.002589569020608,
          "xref": "ax",
          "y": 0,
          "yref": "ay"
         },
         {
          "arrowcolor": "rgb(194,54,22)",
          "arrowhead": 2,
          "arrowsize": 0.5,
          "arrowwidth": 6,
          "ax": 0,
          "axref": "x",
          "ay": 4.715878347008966,
          "ayref": "y",
          "showarrow": true,
          "x": 0,
          "xref": "ax",
          "y": 5.441398092702652,
          "yref": "ay"
         }
        ],
        "aspectmode": "data",
        "autosize": false,
        "hovermode": "closest",
        "margin": {
         "b": 50,
         "l": 50,
         "r": 50,
         "t": 60
        },
        "paper_bgcolor": "rgba(255, 255, 255, 1)",
        "plot_bgcolor": "rgba(255, 255, 255, 1)",
        "showlegend": false,
        "template": {
         "data": {
          "bar": [
           {
            "error_x": {
             "color": "#2a3f5f"
            },
            "error_y": {
             "color": "#2a3f5f"
            },
            "marker": {
             "line": {
              "color": "#E5ECF6",
              "width": 0.5
             }
            },
            "type": "bar"
           }
          ],
          "barpolar": [
           {
            "marker": {
             "line": {
              "color": "#E5ECF6",
              "width": 0.5
             }
            },
            "type": "barpolar"
           }
          ],
          "carpet": [
           {
            "aaxis": {
             "endlinecolor": "#2a3f5f",
             "gridcolor": "white",
             "linecolor": "white",
             "minorgridcolor": "white",
             "startlinecolor": "#2a3f5f"
            },
            "baxis": {
             "endlinecolor": "#2a3f5f",
             "gridcolor": "white",
             "linecolor": "white",
             "minorgridcolor": "white",
             "startlinecolor": "#2a3f5f"
            },
            "type": "carpet"
           }
          ],
          "choropleth": [
           {
            "colorbar": {
             "outlinewidth": 0,
             "ticks": ""
            },
            "type": "choropleth"
           }
          ],
          "contour": [
           {
            "colorbar": {
             "outlinewidth": 0,
             "ticks": ""
            },
            "colorscale": [
             [
              0,
              "#0d0887"
             ],
             [
              0.1111111111111111,
              "#46039f"
             ],
             [
              0.2222222222222222,
              "#7201a8"
             ],
             [
              0.3333333333333333,
              "#9c179e"
             ],
             [
              0.4444444444444444,
              "#bd3786"
             ],
             [
              0.5555555555555556,
              "#d8576b"
             ],
             [
              0.6666666666666666,
              "#ed7953"
             ],
             [
              0.7777777777777778,
              "#fb9f3a"
             ],
             [
              0.8888888888888888,
              "#fdca26"
             ],
             [
              1,
              "#f0f921"
             ]
            ],
            "type": "contour"
           }
          ],
          "contourcarpet": [
           {
            "colorbar": {
             "outlinewidth": 0,
             "ticks": ""
            },
            "type": "contourcarpet"
           }
          ],
          "heatmap": [
           {
            "colorbar": {
             "outlinewidth": 0,
             "ticks": ""
            },
            "colorscale": [
             [
              0,
              "#0d0887"
             ],
             [
              0.1111111111111111,
              "#46039f"
             ],
             [
              0.2222222222222222,
              "#7201a8"
             ],
             [
              0.3333333333333333,
              "#9c179e"
             ],
             [
              0.4444444444444444,
              "#bd3786"
             ],
             [
              0.5555555555555556,
              "#d8576b"
             ],
             [
              0.6666666666666666,
              "#ed7953"
             ],
             [
              0.7777777777777778,
              "#fb9f3a"
             ],
             [
              0.8888888888888888,
              "#fdca26"
             ],
             [
              1,
              "#f0f921"
             ]
            ],
            "type": "heatmap"
           }
          ],
          "heatmapgl": [
           {
            "colorbar": {
             "outlinewidth": 0,
             "ticks": ""
            },
            "colorscale": [
             [
              0,
              "#0d0887"
             ],
             [
              0.1111111111111111,
              "#46039f"
             ],
             [
              0.2222222222222222,
              "#7201a8"
             ],
             [
              0.3333333333333333,
              "#9c179e"
             ],
             [
              0.4444444444444444,
              "#bd3786"
             ],
             [
              0.5555555555555556,
              "#d8576b"
             ],
             [
              0.6666666666666666,
              "#ed7953"
             ],
             [
              0.7777777777777778,
              "#fb9f3a"
             ],
             [
              0.8888888888888888,
              "#fdca26"
             ],
             [
              1,
              "#f0f921"
             ]
            ],
            "type": "heatmapgl"
           }
          ],
          "histogram": [
           {
            "marker": {
             "colorbar": {
              "outlinewidth": 0,
              "ticks": ""
             }
            },
            "type": "histogram"
           }
          ],
          "histogram2d": [
           {
            "colorbar": {
             "outlinewidth": 0,
             "ticks": ""
            },
            "colorscale": [
             [
              0,
              "#0d0887"
             ],
             [
              0.1111111111111111,
              "#46039f"
             ],
             [
              0.2222222222222222,
              "#7201a8"
             ],
             [
              0.3333333333333333,
              "#9c179e"
             ],
             [
              0.4444444444444444,
              "#bd3786"
             ],
             [
              0.5555555555555556,
              "#d8576b"
             ],
             [
              0.6666666666666666,
              "#ed7953"
             ],
             [
              0.7777777777777778,
              "#fb9f3a"
             ],
             [
              0.8888888888888888,
              "#fdca26"
             ],
             [
              1,
              "#f0f921"
             ]
            ],
            "type": "histogram2d"
           }
          ],
          "histogram2dcontour": [
           {
            "colorbar": {
             "outlinewidth": 0,
             "ticks": ""
            },
            "colorscale": [
             [
              0,
              "#0d0887"
             ],
             [
              0.1111111111111111,
              "#46039f"
             ],
             [
              0.2222222222222222,
              "#7201a8"
             ],
             [
              0.3333333333333333,
              "#9c179e"
             ],
             [
              0.4444444444444444,
              "#bd3786"
             ],
             [
              0.5555555555555556,
              "#d8576b"
             ],
             [
              0.6666666666666666,
              "#ed7953"
             ],
             [
              0.7777777777777778,
              "#fb9f3a"
             ],
             [
              0.8888888888888888,
              "#fdca26"
             ],
             [
              1,
              "#f0f921"
             ]
            ],
            "type": "histogram2dcontour"
           }
          ],
          "mesh3d": [
           {
            "colorbar": {
             "outlinewidth": 0,
             "ticks": ""
            },
            "type": "mesh3d"
           }
          ],
          "parcoords": [
           {
            "line": {
             "colorbar": {
              "outlinewidth": 0,
              "ticks": ""
             }
            },
            "type": "parcoords"
           }
          ],
          "pie": [
           {
            "automargin": true,
            "type": "pie"
           }
          ],
          "scatter": [
           {
            "marker": {
             "colorbar": {
              "outlinewidth": 0,
              "ticks": ""
             }
            },
            "type": "scatter"
           }
          ],
          "scatter3d": [
           {
            "line": {
             "colorbar": {
              "outlinewidth": 0,
              "ticks": ""
             }
            },
            "marker": {
             "colorbar": {
              "outlinewidth": 0,
              "ticks": ""
             }
            },
            "type": "scatter3d"
           }
          ],
          "scattercarpet": [
           {
            "marker": {
             "colorbar": {
              "outlinewidth": 0,
              "ticks": ""
             }
            },
            "type": "scattercarpet"
           }
          ],
          "scattergeo": [
           {
            "marker": {
             "colorbar": {
              "outlinewidth": 0,
              "ticks": ""
             }
            },
            "type": "scattergeo"
           }
          ],
          "scattergl": [
           {
            "marker": {
             "colorbar": {
              "outlinewidth": 0,
              "ticks": ""
             }
            },
            "type": "scattergl"
           }
          ],
          "scattermapbox": [
           {
            "marker": {
             "colorbar": {
              "outlinewidth": 0,
              "ticks": ""
             }
            },
            "type": "scattermapbox"
           }
          ],
          "scatterpolar": [
           {
            "marker": {
             "colorbar": {
              "outlinewidth": 0,
              "ticks": ""
             }
            },
            "type": "scatterpolar"
           }
          ],
          "scatterpolargl": [
           {
            "marker": {
             "colorbar": {
              "outlinewidth": 0,
              "ticks": ""
             }
            },
            "type": "scatterpolargl"
           }
          ],
          "scatterternary": [
           {
            "marker": {
             "colorbar": {
              "outlinewidth": 0,
              "ticks": ""
             }
            },
            "type": "scatterternary"
           }
          ],
          "surface": [
           {
            "colorbar": {
             "outlinewidth": 0,
             "ticks": ""
            },
            "colorscale": [
             [
              0,
              "#0d0887"
             ],
             [
              0.1111111111111111,
              "#46039f"
             ],
             [
              0.2222222222222222,
              "#7201a8"
             ],
             [
              0.3333333333333333,
              "#9c179e"
             ],
             [
              0.4444444444444444,
              "#bd3786"
             ],
             [
              0.5555555555555556,
              "#d8576b"
             ],
             [
              0.6666666666666666,
              "#ed7953"
             ],
             [
              0.7777777777777778,
              "#fb9f3a"
             ],
             [
              0.8888888888888888,
              "#fdca26"
             ],
             [
              1,
              "#f0f921"
             ]
            ],
            "type": "surface"
           }
          ],
          "table": [
           {
            "cells": {
             "fill": {
              "color": "#EBF0F8"
             },
             "line": {
              "color": "white"
             }
            },
            "header": {
             "fill": {
              "color": "#C8D4E3"
             },
             "line": {
              "color": "white"
             }
            },
            "type": "table"
           }
          ]
         },
         "layout": {
          "annotationdefaults": {
           "arrowcolor": "#2a3f5f",
           "arrowhead": 0,
           "arrowwidth": 1
          },
          "autotypenumbers": "strict",
          "coloraxis": {
           "colorbar": {
            "outlinewidth": 0,
            "ticks": ""
           }
          },
          "colorscale": {
           "diverging": [
            [
             0,
             "#8e0152"
            ],
            [
             0.1,
             "#c51b7d"
            ],
            [
             0.2,
             "#de77ae"
            ],
            [
             0.3,
             "#f1b6da"
            ],
            [
             0.4,
             "#fde0ef"
            ],
            [
             0.5,
             "#f7f7f7"
            ],
            [
             0.6,
             "#e6f5d0"
            ],
            [
             0.7,
             "#b8e186"
            ],
            [
             0.8,
             "#7fbc41"
            ],
            [
             0.9,
             "#4d9221"
            ],
            [
             1,
             "#276419"
            ]
           ],
           "sequential": [
            [
             0,
             "#0d0887"
            ],
            [
             0.1111111111111111,
             "#46039f"
            ],
            [
             0.2222222222222222,
             "#7201a8"
            ],
            [
             0.3333333333333333,
             "#9c179e"
            ],
            [
             0.4444444444444444,
             "#bd3786"
            ],
            [
             0.5555555555555556,
             "#d8576b"
            ],
            [
             0.6666666666666666,
             "#ed7953"
            ],
            [
             0.7777777777777778,
             "#fb9f3a"
            ],
            [
             0.8888888888888888,
             "#fdca26"
            ],
            [
             1,
             "#f0f921"
            ]
           ],
           "sequentialminus": [
            [
             0,
             "#0d0887"
            ],
            [
             0.1111111111111111,
             "#46039f"
            ],
            [
             0.2222222222222222,
             "#7201a8"
            ],
            [
             0.3333333333333333,
             "#9c179e"
            ],
            [
             0.4444444444444444,
             "#bd3786"
            ],
            [
             0.5555555555555556,
             "#d8576b"
            ],
            [
             0.6666666666666666,
             "#ed7953"
            ],
            [
             0.7777777777777778,
             "#fb9f3a"
            ],
            [
             0.8888888888888888,
             "#fdca26"
            ],
            [
             1,
             "#f0f921"
            ]
           ]
          },
          "colorway": [
           "#636efa",
           "#EF553B",
           "#00cc96",
           "#ab63fa",
           "#FFA15A",
           "#19d3f3",
           "#FF6692",
           "#B6E880",
           "#FF97FF",
           "#FECB52"
          ],
          "font": {
           "color": "#2a3f5f"
          },
          "geo": {
           "bgcolor": "white",
           "lakecolor": "white",
           "landcolor": "#E5ECF6",
           "showlakes": true,
           "showland": true,
           "subunitcolor": "white"
          },
          "hoverlabel": {
           "align": "left"
          },
          "hovermode": "closest",
          "mapbox": {
           "style": "light"
          },
          "paper_bgcolor": "white",
          "plot_bgcolor": "#E5ECF6",
          "polar": {
           "angularaxis": {
            "gridcolor": "white",
            "linecolor": "white",
            "ticks": ""
           },
           "bgcolor": "#E5ECF6",
           "radialaxis": {
            "gridcolor": "white",
            "linecolor": "white",
            "ticks": ""
           }
          },
          "scene": {
           "xaxis": {
            "backgroundcolor": "#E5ECF6",
            "gridcolor": "white",
            "gridwidth": 2,
            "linecolor": "white",
            "showbackground": true,
            "ticks": "",
            "zerolinecolor": "white"
           },
           "yaxis": {
            "backgroundcolor": "#E5ECF6",
            "gridcolor": "white",
            "gridwidth": 2,
            "linecolor": "white",
            "showbackground": true,
            "ticks": "",
            "zerolinecolor": "white"
           },
           "zaxis": {
            "backgroundcolor": "#E5ECF6",
            "gridcolor": "white",
            "gridwidth": 2,
            "linecolor": "white",
            "showbackground": true,
            "ticks": "",
            "zerolinecolor": "white"
           }
          },
          "shapedefaults": {
           "line": {
            "color": "#2a3f5f"
           }
          },
          "ternary": {
           "aaxis": {
            "gridcolor": "white",
            "linecolor": "white",
            "ticks": ""
           },
           "baxis": {
            "gridcolor": "white",
            "linecolor": "white",
            "ticks": ""
           },
           "bgcolor": "#E5ECF6",
           "caxis": {
            "gridcolor": "white",
            "linecolor": "white",
            "ticks": ""
           }
          },
          "title": {
           "x": 0.05
          },
          "xaxis": {
           "automargin": true,
           "gridcolor": "white",
           "linecolor": "white",
           "ticks": "",
           "title": {
            "standoff": 15
           },
           "zerolinecolor": "white",
           "zerolinewidth": 2
          },
          "yaxis": {
           "automargin": true,
           "gridcolor": "white",
           "linecolor": "white",
           "ticks": "",
           "title": {
            "standoff": 15
           },
           "zerolinecolor": "white",
           "zerolinewidth": 2
          }
         }
        },
        "xaxis": {
         "range": [
          -6.766865137642045,
          6.766865137642045
         ],
         "showbackground": false,
         "showgrid": false,
         "tickvals": [],
         "title": {
          "text": ""
         },
         "zeroline": false
        },
        "yaxis": {
         "range": [
          -7.738877287399329,
          7.738877287399329
         ],
         "scaleanchor": "x",
         "scaleratio": 1,
         "showbackground": false,
         "showgrid": false,
         "tickvals": [],
         "title": {
          "text": ""
         },
         "zeroline": false
        }
       }
      },
      "image/png": "[encoded data removed]",
      "image/svg+xml": [
       "<svg class=\"main-svg\" xmlns=\"http://www.w3.org/2000/svg\" xmlns:xlink=\"http://www.w3.org/1999/xlink\" width=\"700\" height=\"500\" style=\"\" viewBox=\"0 0 700 500\"><rect x=\"0\" y=\"0\" width=\"700\" height=\"500\" style=\"fill: rgb(255, 255, 255); fill-opacity: 1;\"/><defs id=\"defs-f76cf6\"><g class=\"clips\"><clipPath id=\"clipf76cf6xyplot\" class=\"plotclip\"><rect width=\"600\" height=\"390\"/></clipPath><clipPath class=\"axesclip\" id=\"clipf76cf6x\"><rect x=\"50\" y=\"0\" width=\"600\" height=\"500\"/></clipPath><clipPath class=\"axesclip\" id=\"clipf76cf6y\"><rect x=\"0\" y=\"60\" width=\"700\" height=\"390\"/></clipPath><clipPath class=\"axesclip\" id=\"clipf76cf6xy\"><rect x=\"50\" y=\"60\" width=\"600\" height=\"390\"/></clipPath></g><g class=\"gradients\"/><g class=\"patterns\"/></defs><g class=\"bglayer\"/><g class=\"layer-below\"><g class=\"imagelayer\"/><g class=\"shapelayer\"/></g><g class=\"cartesianlayer\"><g class=\"subplot xy\"><g class=\"layer-subplot\"><g class=\"shapelayer\"/><g class=\"imagelayer\"/></g><g class=\"gridlayer\"><g class=\"x\"/><g class=\"y\"/></g><g class=\"zerolinelayer\"/><path class=\"xlines-below\"/><path class=\"ylines-below\"/><g class=\"overlines-below\"/><g class=\"xaxislayer-below\"/><g class=\"yaxislayer-below\"/><g class=\"overaxes-below\"/><g class=\"plot\" transform=\"translate(50,60)\" clip-path=\"url(#clipf76cf6xyplot)\"><g class=\"scatterlayer mlayer\"><g class=\"trace scatter trace8f77fe\" style=\"stroke-miterlimit: 2; opacity: 1;\"><g class=\"fills\"/><g class=\"errorbars\"/><g class=\"lines\"><path class=\"js-line\" d=\"M352.77,286.41L405.55,195L352.77,103.59L247.23,103.59L194.45,195L247.23,286.41L352.77,286.41\" style=\"vector-effect: non-scaling-stroke; fill: none; stroke: rgb(47, 54, 64); stroke-opacity: 1; stroke-width: 3px; opacity: 1;\"/></g><g class=\"points\"/><g class=\"text\"/></g><g class=\"trace scatter trace536d37\" style=\"stroke-miterlimit: 2; opacity: 1;\"><g class=\"fills\"/><g class=\"errorbars\"/><g class=\"lines\"><path class=\"js-line\" d=\"M300,195L300,281.84\" style=\"vector-effect: non-scaling-stroke; fill: none; stroke: rgb(212, 216, 227); stroke-opacity: 1; stroke-width: 5px; opacity: 1;\"/></g><g class=\"points\"/><g class=\"text\"/></g><g class=\"trace scatter trace56ca1d\" style=\"stroke-miterlimit: 2; opacity: 1;\"><g class=\"fills\"/><g class=\"errorbars\"/><g class=\"lines\"><path class=\"js-line\" d=\"M300,195L375.2,238.42\" style=\"vector-effect: non-scaling-stroke; fill: none; stroke: rgb(212, 216, 227); stroke-opacity: 1; stroke-width: 5px; opacity: 1;\"/></g><g class=\"points\"/><g class=\"text\"/></g><g class=\"trace scatter trace1c61c3\" style=\"stroke-miterlimit: 2; opacity: 1;\"><g class=\"fills\"/><g class=\"errorbars\"/><g class=\"lines\"><path class=\"js-line\" d=\"M300,290.98L300,377.81\" style=\"vector-effect: non-scaling-stroke; fill: none; stroke: rgb(39, 60, 117); stroke-opacity: 1; stroke-width: 6px; opacity: 1;\"/></g><g class=\"points\"/><g class=\"text\"/></g><g class=\"trace scatter traceb1bf78\" style=\"stroke-miterlimit: 2; opacity: 1;\"><g class=\"fills\"/><g class=\"errorbars\"/><g class=\"lines\"><path class=\"js-line\" d=\"M383.12,242.99L458.32,286.41\" style=\"vector-effect: non-scaling-stroke; fill: none; stroke: rgb(39, 60, 117); stroke-opacity: 1; stroke-width: 6px; opacity: 1;\"/></g><g class=\"points\"/><g class=\"text\"/></g><g class=\"trace scatter trace48fc36\" style=\"stroke-miterlimit: 2; opacity: 1;\"><g class=\"fills\"/><g class=\"errorbars\"/><g class=\"lines\"><path class=\"js-line\" d=\"M300,195L400.98,195\" style=\"vector-effect: non-scaling-stroke; fill: none; stroke: rgb(242, 215, 208); stroke-opacity: 1; stroke-width: 5px; opacity: 1;\"/></g><g class=\"points\"/><g class=\"text\"/></g><g class=\"trace scatter trace6c6f83\" style=\"stroke-miterlimit: 2; opacity: 1;\"><g class=\"fills\"/><g class=\"errorbars\"/><g class=\"lines\"><path class=\"js-line\" d=\"M300,195L300,108.16\" style=\"vector-effect: non-scaling-stroke; fill: none; stroke: rgb(242, 215, 208); stroke-opacity: 1; stroke-width: 5px; opacity: 1;\"/></g><g class=\"points\"/><g class=\"text\"/></g><g class=\"trace scatter trace2a23ca\" style=\"stroke-miterlimit: 2; opacity: 1;\"><g class=\"fills\"/><g class=\"errorbars\"/><g class=\"lines\"><path class=\"js-line\" d=\"M410.12,195L442.11,195\" style=\"vector-effect: non-scaling-stroke; fill: none; stroke: rgb(194, 54, 22); stroke-opacity: 1; stroke-width: 6px; opacity: 1;\"/></g><g class=\"points\"/><g class=\"text\"/></g><g class=\"trace scatter trace97fd6d\" style=\"stroke-miterlimit: 2; opacity: 1;\"><g class=\"fills\"/><g class=\"errorbars\"/><g class=\"lines\"><path class=\"js-line\" d=\"M300,99.02L300,67.03\" style=\"vector-effect: non-scaling-stroke; fill: none; stroke: rgb(194, 54, 22); stroke-opacity: 1; stroke-width: 6px; opacity: 1;\"/></g><g class=\"points\"/><g class=\"text\"/></g></g></g><g class=\"overplot\"/><path class=\"xlines-above crisp\" d=\"M0,0\" style=\"fill: none;\"/><path class=\"ylines-above crisp\" d=\"M0,0\" style=\"fill: none;\"/><g class=\"overlines-above\"/><g class=\"xaxislayer-above\"/><g class=\"yaxislayer-above\"/><g class=\"overaxes-above\"/></g></g><g class=\"polarlayer\"/><g class=\"ternarylayer\"/><g class=\"geolayer\"/><g class=\"funnelarealayer\"/><g class=\"pielayer\"/><g class=\"iciclelayer\"/><g class=\"treemaplayer\"/><g class=\"sunburstlayer\"/><g class=\"glimages\"/><defs id=\"topdefs-f76cf6\"><g class=\"clips\"/></defs><g class=\"layer-above\"><g class=\"imagelayer\"/><g class=\"shapelayer\"/></g><g class=\"infolayer\"><g class=\"g-gtitle\"/><g class=\"g-xtitle\"/><g class=\"g-ytitle\"/><g class=\"annotation\" data-index=\"0\" style=\"opacity: 1;\"><g class=\"annotation-text-g\" transform=\"rotate(0,350,428.67)\"><g class=\"cursor-pointer\" transform=\"translate(347,418)\"><rect class=\"bg\" x=\"0.5\" y=\"0.5\" width=\"6\" height=\"20\" style=\"stroke-width: 1px; stroke: rgb(0, 0, 0); stroke-opacity: 0; fill: rgb(0, 0, 0); fill-opacity: 0;\"/><text class=\"annotation-text\" text-anchor=\"middle\" x=\"3.5625\" y=\"15\" style=\"font-family: 'Open Sans', verdana, arial, sans-serif; font-size: 12px; fill: rgb(42, 63, 95); fill-opacity: 1; white-space: pre;\"> </text></g></g><g class=\"annotation-arrow-g\" style=\"opacity: 1;\"><path d=\"M350,438.67L350,446.95\" style=\"stroke-width: 6px; stroke: rgb(39, 60, 117); stroke-opacity: 1; stroke-dasharray: 0px, 0px, 4.38px, 8.28px;\"/><path d=\"M-3.7,-2.5V2.5L1.3,0Z\" transform=\"translate(350,443.0500183105469)rotate(90)scale(3)\" style=\"fill: rgb(39, 60, 117); stroke-width: 0;\"/></g></g><g class=\"annotation\" data-index=\"1\" style=\"opacity: 1;\"><g class=\"annotation-text-g\" transform=\"rotate(0,500.4,341.84)\"><g class=\"cursor-pointer\" transform=\"translate(497,331)\"><rect class=\"bg\" x=\"0.5\" y=\"0.5\" width=\"6\" height=\"20\" style=\"stroke-width: 1px; stroke: rgb(0, 0, 0); stroke-opacity: 0; fill: rgb(0, 0, 0); fill-opacity: 0;\"/><text class=\"annotation-text\" text-anchor=\"middle\" x=\"3.5625\" y=\"15\" style=\"font-family: 'Open Sans', verdana, arial, sans-serif; font-size: 12px; fill: rgb(42, 63, 95); fill-opacity: 1; white-space: pre;\"> </text></g></g><g class=\"annotation-arrow-g\" style=\"opacity: 1;\"><path d=\"M503.4,343.5710606060606L516.24,350.98\" style=\"stroke-width: 6px; stroke: rgb(39, 60, 117); stroke-opacity: 1; stroke-dasharray: 0px, 0px, 10.9242px, 14.8242px;\"/><path d=\"M-3.7,-2.5V2.5L1.3,0Z\" transform=\"translate(512.8619995117188,349.0308532714844)rotate(29.992124779489266)scale(3)\" style=\"fill: rgb(39, 60, 117); stroke-width: 0;\"/></g></g><g class=\"annotation\" data-index=\"2\" style=\"opacity: 1;\"><g class=\"annotation-text-g\" transform=\"rotate(0,482.97,255)\"><g class=\"cursor-pointer\" transform=\"translate(479,245)\"><rect class=\"bg\" x=\"0.5\" y=\"0.5\" width=\"6\" height=\"20\" style=\"stroke-width: 1px; stroke: rgb(0, 0, 0); stroke-opacity: 0; fill: rgb(0, 0, 0); fill-opacity: 0;\"/><text class=\"annotation-text\" text-anchor=\"middle\" x=\"3.5625\" y=\"15\" style=\"font-family: 'Open Sans', verdana, arial, sans-serif; font-size: 12px; fill: rgb(42, 63, 95); fill-opacity: 1; white-space: pre;\"> </text></g></g><g class=\"annotation-arrow-g\" style=\"opacity: 1;\"><path d=\"M485.97,255L501.25,255\" style=\"stroke-width: 6px; stroke: rgb(194, 54, 22); stroke-opacity: 1; stroke-dasharray: 0px, 0px, 11.38px, 15.28px;\"/><path d=\"M-3.7,-2.5V2.5L1.3,0Z\" transform=\"translate(497.3500061035156,255)scale(3)\" style=\"fill: rgb(194, 54, 22); stroke-width: 0;\"/></g></g><g class=\"annotation\" data-index=\"3\" style=\"opacity: 1;\"><g class=\"annotation-text-g\" transform=\"rotate(0,350,136.17000000000002)\"><g class=\"cursor-pointer\" transform=\"translate(347,126)\"><rect class=\"bg\" x=\"0.5\" y=\"0.5\" width=\"6\" height=\"20\" style=\"stroke-width: 1px; stroke: rgb(0, 0, 0); stroke-opacity: 0; fill: rgb(0, 0, 0); fill-opacity: 0;\"/><text class=\"annotation-text\" text-anchor=\"middle\" x=\"3.5625\" y=\"15\" style=\"font-family: 'Open Sans', verdana, arial, sans-serif; font-size: 12px; fill: rgb(42, 63, 95); fill-opacity: 1; white-space: pre;\"> </text></g></g><g class=\"annotation-arrow-g\" style=\"opacity: 1;\"><path d=\"M350,126.17000000000002L350,117.89\" style=\"stroke-width: 6px; stroke: rgb(194, 54, 22); stroke-opacity: 1; stroke-dasharray: 0px, 0px, 4.38px, 8.28px;\"/><path d=\"M-3.7,-2.5V2.5L1.3,0Z\" transform=\"translate(350,121.79000091552734)rotate(-90)scale(3)\" style=\"fill: rgb(194, 54, 22); stroke-width: 0;\"/></g></g></g></svg>"
      ],
      "text/html": [
       "<div\n",
       "    class=\"webio-mountpoint\"\n",
       "    data-webio-mountpoint=\"13092461602202176557\"\n",
       ">\n",
       "    <script>\n",
       "    (function(){\n",
       "    // Some integrations (namely, IJulia/Jupyter) use an alternate render pathway than\n",
       "    // just putting the html on the page. If WebIO isn't defined, then it's pretty likely\n",
       "    // that we're in one of those situations and the integration just isn't installed\n",
       "    // correctly.\n",
       "    if (typeof window.WebIO === \"undefined\") {\n",
       "        document\n",
       "            .querySelector('[data-webio-mountpoint=\"13092461602202176557\"]')\n",
       "            .innerHTML = (\n",
       "                '<div style=\"padding: 1em; background-color: #f8d6da; border: 1px solid #f5c6cb; font-weight: bold;\">' +\n",
       "                '<p><strong>WebIO not detected.</strong></p>' +\n",
       "                '<p>Please read ' +\n",
       "                '<a href=\"https://juliagizmos.github.io/WebIO.jl/latest/troubleshooting/not-detected/\" target=\"_blank\">the troubleshooting guide</a> ' +\n",
       "                'for more information on how to resolve this issue.</p>' +\n",
       "                '<p><a href=\"https://juliagizmos.github.io/WebIO.jl/latest/troubleshooting/not-detected/\" target=\"_blank\">https://juliagizmos.github.io/WebIO.jl/latest/troubleshooting/not-detected/</a></p>' +\n",
       "                '</div>'\n",
       "            );\n",
       "        return;\n",
       "    }\n",
       "    WebIO.mount(\n",
       "        document.querySelector('[data-webio-mountpoint=\"13092461602202176557\"]'),\n",
       "        {\"props\":{},\"nodeType\":\"Scope\",\"type\":\"node\",\"instanceArgs\":{\"imports\":{\"data\":[{\"name\":\"Plotly\",\"type\":\"js\",\"url\":\"\\/assetserver\\/b267c3137400db01c304fe886fe6f707be7fdb37-plotly.min.js\"},{\"name\":null,\"type\":\"js\",\"url\":\"\\/assetserver\\/020f2e8a4619f2ae880fff9315e6547eef1aff0b-plotly_webio.bundle.js\"}],\"type\":\"async_block\"},\"id\":\"6156732364951393495\",\"handlers\":{\"_toImage\":[\"(function (options){return this.Plotly.toImage(this.plotElem,options).then((function (data){return WebIO.setval({\\\"name\\\":\\\"image\\\",\\\"scope\\\":\\\"6156732364951393495\\\",\\\"id\\\":\\\"15\\\",\\\"type\\\":\\\"observable\\\"},data)}))})\"],\"__get_gd_contents\":[\"(function (prop){prop==\\\"data\\\" ? (WebIO.setval({\\\"name\\\":\\\"__gd_contents\\\",\\\"scope\\\":\\\"6156732364951393495\\\",\\\"id\\\":\\\"16\\\",\\\"type\\\":\\\"observable\\\"},this.plotElem.data)) : undefined; return prop==\\\"layout\\\" ? (WebIO.setval({\\\"name\\\":\\\"__gd_contents\\\",\\\"scope\\\":\\\"6156732364951393495\\\",\\\"id\\\":\\\"16\\\",\\\"type\\\":\\\"observable\\\"},this.plotElem.layout)) : undefined})\"],\"_downloadImage\":[\"(function (options){return this.Plotly.downloadImage(this.plotElem,options)})\"],\"_commands\":[\"(function (args){var fn=args.shift(); var elem=this.plotElem; var Plotly=this.Plotly; args.unshift(elem); return Plotly[fn].apply(this,args)})\"]},\"systemjs_options\":null,\"mount_callbacks\":[\"function () {\\n    var handler = ((function (Plotly,PlotlyWebIO){PlotlyWebIO.init(WebIO); var gd=this.dom.querySelector(\\\"#plot-23d983e9-3328-4592-82c5-e210c53b3add\\\"); this.plotElem=gd; this.Plotly=Plotly; (window.Blink!==undefined) ? (gd.style.width=\\\"100%\\\", gd.style.height=\\\"100vh\\\", gd.style.marginLeft=\\\"0%\\\", gd.style.marginTop=\\\"0vh\\\") : undefined; window.onresize=(function (){return Plotly.Plots.resize(gd)}); Plotly.newPlot(gd,[{\\\"mode\\\":\\\"lines\\\",\\\"line\\\":{\\\"color\\\":\\\"rgb(47,54,64)\\\",\\\"width\\\":3},\\\"hovertext\\\":\\\"Cell\\\",\\\"y\\\":[-3.627598728468435,-8.881784197001252e-16,3.627598728468435,3.627598728468435,8.881784197001252e-16,-3.627598728468435,-3.627598728468435],\\\"type\\\":\\\"scatter\\\",\\\"hoverinfo\\\":\\\"text+x+y\\\",\\\"x\\\":[2.0943951023931953,4.1887902047863905,2.094395102393197,-2.0943951023931953,-4.1887902047863905,-2.094395102393197,2.0943951023931953]},{\\\"mode\\\":\\\"lines\\\",\\\"line\\\":{\\\"color\\\":\\\"rgb(212,216,227)\\\",\\\"width\\\":5},\\\"hovertext\\\":\\\"<b>v<\\/b><sub>1<\\/sub>\\\",\\\"y\\\":[-0.0,-3.446218792045013],\\\"type\\\":\\\"scatter\\\",\\\"hoverinfo\\\":\\\"text\\\",\\\"x\\\":[-0.0,-7.652142901648538e-16]},{\\\"mode\\\":\\\"lines\\\",\\\"line\\\":{\\\"color\\\":\\\"rgb(212,216,227)\\\",\\\"width\\\":5},\\\"hovertext\\\":\\\"<b>v<\\/b><sub>2<\\/sub>\\\",\\\"y\\\":[-0.0,-1.723109396022507],\\\"type\\\":\\\"scatter\\\",\\\"hoverinfo\\\":\\\"text\\\",\\\"x\\\":[0.0,2.984513020910303]},{\\\"mode\\\":\\\"lines\\\",\\\"line\\\":{\\\"color\\\":\\\"rgb(39,60,117)\\\",\\\"width\\\":6},\\\"hovertext\\\":\\\"<b>v<\\/b><sub>1<\\/sub>\\\",\\\"y\\\":[-3.8089786648918564,-7.2551974569368705],\\\"type\\\":\\\"scatter\\\",\\\"hoverinfo\\\":\\\"text+x+y\\\",\\\"x\\\":[-8.457631628137857e-16,-1.6109774529786396e-15]},{\\\"mode\\\":\\\"lines\\\",\\\"line\\\":{\\\"color\\\":\\\"rgb(39,60,117)\\\",\\\"width\\\":6},\\\"hovertext\\\":\\\"<b>v<\\/b><sub>2<\\/sub>\\\",\\\"y\\\":[-1.9044893324459287,-3.627598728468436],\\\"type\\\":\\\"scatter\\\",\\\"hoverinfo\\\":\\\"text+x+y\\\",\\\"x\\\":[3.2986722862692823,6.283185307179586]},{\\\"mode\\\":\\\"lines\\\",\\\"line\\\":{\\\"color\\\":\\\"rgb(242,215,208)\\\",\\\"width\\\":5},\\\"hovertext\\\":\\\"<b>x<\\/b>\\\",\\\"y\\\":[0.0,0.0],\\\"type\\\":\\\"scatter\\\",\\\"hoverinfo\\\":\\\"text\\\",\\\"x\\\":[0.0,4.007410268362968]},{\\\"mode\\\":\\\"lines\\\",\\\"line\\\":{\\\"color\\\":\\\"rgb(242,215,208)\\\",\\\"width\\\":5},\\\"hovertext\\\":\\\"<b>y<\\/b>\\\",\\\"y\\\":[0.0,3.446218792045013],\\\"type\\\":\\\"scatter\\\",\\\"hoverinfo\\\":\\\"text\\\",\\\"x\\\":[0.0,0.0]},{\\\"mode\\\":\\\"lines\\\",\\\"line\\\":{\\\"color\\\":\\\"rgb(194,54,22)\\\",\\\"width\\\":6},\\\"hovertext\\\":\\\"<b>x<\\/b>\\\",\\\"y\\\":[0.0,0.0],\\\"type\\\":\\\"scatter\\\",\\\"hoverinfo\\\":\\\"text\\\",\\\"x\\\":[4.370170141209813,5.639829696173765]},{\\\"mode\\\":\\\"lines\\\",\\\"line\\\":{\\\"color\\\":\\\"rgb(194,54,22)\\\",\\\"width\\\":6},\\\"hovertext\\\":\\\"<b>y<\\/b>\\\",\\\"y\\\":[3.8089786648918564,5.078638219855809],\\\"type\\\":\\\"scatter\\\",\\\"hoverinfo\\\":\\\"text\\\",\\\"x\\\":[0.0,0.0]}],{\\\"showlegend\\\":false,\\\"xaxis\\\":{\\\"showgrid\\\":false,\\\"zeroline\\\":false,\\\"tickvals\\\":[],\\\"title\\\":{\\\"text\\\":\\\"\\\"},\\\"showbackground\\\":false,\\\"range\\\":[-6.766865137642045,6.766865137642045]},\\\"hovermode\\\":\\\"closest\\\",\\\"paper_bgcolor\\\":\\\"rgba(255, 255, 255, 1)\\\",\\\"template\\\":{\\\"layout\\\":{\\\"coloraxis\\\":{\\\"colorbar\\\":{\\\"ticks\\\":\\\"\\\",\\\"outlinewidth\\\":0}},\\\"xaxis\\\":{\\\"gridcolor\\\":\\\"white\\\",\\\"zerolinewidth\\\":2,\\\"title\\\":{\\\"standoff\\\":15},\\\"ticks\\\":\\\"\\\",\\\"zerolinecolor\\\":\\\"white\\\",\\\"automargin\\\":true,\\\"linecolor\\\":\\\"white\\\"},\\\"hovermode\\\":\\\"closest\\\",\\\"paper_bgcolor\\\":\\\"white\\\",\\\"geo\\\":{\\\"showlakes\\\":true,\\\"showland\\\":true,\\\"landcolor\\\":\\\"#E5ECF6\\\",\\\"bgcolor\\\":\\\"white\\\",\\\"subunitcolor\\\":\\\"white\\\",\\\"lakecolor\\\":\\\"white\\\"},\\\"colorscale\\\":{\\\"sequential\\\":[[0.0,\\\"#0d0887\\\"],[0.1111111111111111,\\\"#46039f\\\"],[0.2222222222222222,\\\"#7201a8\\\"],[0.3333333333333333,\\\"#9c179e\\\"],[0.4444444444444444,\\\"#bd3786\\\"],[0.5555555555555556,\\\"#d8576b\\\"],[0.6666666666666666,\\\"#ed7953\\\"],[0.7777777777777778,\\\"#fb9f3a\\\"],[0.8888888888888888,\\\"#fdca26\\\"],[1.0,\\\"#f0f921\\\"]],\\\"diverging\\\":[[0,\\\"#8e0152\\\"],[0.1,\\\"#c51b7d\\\"],[0.2,\\\"#de77ae\\\"],[0.3,\\\"#f1b6da\\\"],[0.4,\\\"#fde0ef\\\"],[0.5,\\\"#f7f7f7\\\"],[0.6,\\\"#e6f5d0\\\"],[0.7,\\\"#b8e186\\\"],[0.8,\\\"#7fbc41\\\"],[0.9,\\\"#4d9221\\\"],[1,\\\"#276419\\\"]],\\\"sequentialminus\\\":[[0.0,\\\"#0d0887\\\"],[0.1111111111111111,\\\"#46039f\\\"],[0.2222222222222222,\\\"#7201a8\\\"],[0.3333333333333333,\\\"#9c179e\\\"],[0.4444444444444444,\\\"#bd3786\\\"],[0.5555555555555556,\\\"#d8576b\\\"],[0.6666666666666666,\\\"#ed7953\\\"],[0.7777777777777778,\\\"#fb9f3a\\\"],[0.8888888888888888,\\\"#fdca26\\\"],[1.0,\\\"#f0f921\\\"]]},\\\"yaxis\\\":{\\\"gridcolor\\\":\\\"white\\\",\\\"zerolinewidth\\\":2,\\\"title\\\":{\\\"standoff\\\":15},\\\"ticks\\\":\\\"\\\",\\\"zerolinecolor\\\":\\\"white\\\",\\\"automargin\\\":true,\\\"linecolor\\\":\\\"white\\\"},\\\"shapedefaults\\\":{\\\"line\\\":{\\\"color\\\":\\\"#2a3f5f\\\"}},\\\"hoverlabel\\\":{\\\"align\\\":\\\"left\\\"},\\\"mapbox\\\":{\\\"style\\\":\\\"light\\\"},\\\"polar\\\":{\\\"angularaxis\\\":{\\\"gridcolor\\\":\\\"white\\\",\\\"ticks\\\":\\\"\\\",\\\"linecolor\\\":\\\"white\\\"},\\\"bgcolor\\\":\\\"#E5ECF6\\\",\\\"radialaxis\\\":{\\\"gridcolor\\\":\\\"white\\\",\\\"ticks\\\":\\\"\\\",\\\"linecolor\\\":\\\"white\\\"}},\\\"autotypenumbers\\\":\\\"strict\\\",\\\"font\\\":{\\\"color\\\":\\\"#2a3f5f\\\"},\\\"ternary\\\":{\\\"baxis\\\":{\\\"gridcolor\\\":\\\"white\\\",\\\"ticks\\\":\\\"\\\",\\\"linecolor\\\":\\\"white\\\"},\\\"bgcolor\\\":\\\"#E5ECF6\\\",\\\"caxis\\\":{\\\"gridcolor\\\":\\\"white\\\",\\\"ticks\\\":\\\"\\\",\\\"linecolor\\\":\\\"white\\\"},\\\"aaxis\\\":{\\\"gridcolor\\\":\\\"white\\\",\\\"ticks\\\":\\\"\\\",\\\"linecolor\\\":\\\"white\\\"}},\\\"annotationdefaults\\\":{\\\"arrowhead\\\":0,\\\"arrowwidth\\\":1,\\\"arrowcolor\\\":\\\"#2a3f5f\\\"},\\\"plot_bgcolor\\\":\\\"#E5ECF6\\\",\\\"title\\\":{\\\"x\\\":0.05},\\\"scene\\\":{\\\"xaxis\\\":{\\\"gridcolor\\\":\\\"white\\\",\\\"gridwidth\\\":2,\\\"backgroundcolor\\\":\\\"#E5ECF6\\\",\\\"ticks\\\":\\\"\\\",\\\"showbackground\\\":true,\\\"zerolinecolor\\\":\\\"white\\\",\\\"linecolor\\\":\\\"white\\\"},\\\"zaxis\\\":{\\\"gridcolor\\\":\\\"white\\\",\\\"gridwidth\\\":2,\\\"backgroundcolor\\\":\\\"#E5ECF6\\\",\\\"ticks\\\":\\\"\\\",\\\"showbackground\\\":true,\\\"zerolinecolor\\\":\\\"white\\\",\\\"linecolor\\\":\\\"white\\\"},\\\"yaxis\\\":{\\\"gridcolor\\\":\\\"white\\\",\\\"gridwidth\\\":2,\\\"backgroundcolor\\\":\\\"#E5ECF6\\\",\\\"ticks\\\":\\\"\\\",\\\"showbackground\\\":true,\\\"zerolinecolor\\\":\\\"white\\\",\\\"linecolor\\\":\\\"white\\\"}},\\\"colorway\\\":[\\\"#636efa\\\",\\\"#EF553B\\\",\\\"#00cc96\\\",\\\"#ab63fa\\\",\\\"#FFA15A\\\",\\\"#19d3f3\\\",\\\"#FF6692\\\",\\\"#B6E880\\\",\\\"#FF97FF\\\",\\\"#FECB52\\\"]},\\\"data\\\":{\\\"barpolar\\\":[{\\\"type\\\":\\\"barpolar\\\",\\\"marker\\\":{\\\"line\\\":{\\\"color\\\":\\\"#E5ECF6\\\",\\\"width\\\":0.5}}}],\\\"carpet\\\":[{\\\"aaxis\\\":{\\\"gridcolor\\\":\\\"white\\\",\\\"endlinecolor\\\":\\\"#2a3f5f\\\",\\\"minorgridcolor\\\":\\\"white\\\",\\\"startlinecolor\\\":\\\"#2a3f5f\\\",\\\"linecolor\\\":\\\"white\\\"},\\\"type\\\":\\\"carpet\\\",\\\"baxis\\\":{\\\"gridcolor\\\":\\\"white\\\",\\\"endlinecolor\\\":\\\"#2a3f5f\\\",\\\"minorgridcolor\\\":\\\"white\\\",\\\"startlinecolor\\\":\\\"#2a3f5f\\\",\\\"linecolor\\\":\\\"white\\\"}}],\\\"scatterpolar\\\":[{\\\"type\\\":\\\"scatterpolar\\\",\\\"marker\\\":{\\\"colorbar\\\":{\\\"ticks\\\":\\\"\\\",\\\"outlinewidth\\\":0}}}],\\\"parcoords\\\":[{\\\"line\\\":{\\\"colorbar\\\":{\\\"ticks\\\":\\\"\\\",\\\"outlinewidth\\\":0}},\\\"type\\\":\\\"parcoords\\\"}],\\\"scatter\\\":[{\\\"type\\\":\\\"scatter\\\",\\\"marker\\\":{\\\"colorbar\\\":{\\\"ticks\\\":\\\"\\\",\\\"outlinewidth\\\":0}}}],\\\"histogram2dcontour\\\":[{\\\"colorbar\\\":{\\\"ticks\\\":\\\"\\\",\\\"outlinewidth\\\":0},\\\"type\\\":\\\"histogram2dcontour\\\",\\\"colorscale\\\":[[0.0,\\\"#0d0887\\\"],[0.1111111111111111,\\\"#46039f\\\"],[0.2222222222222222,\\\"#7201a8\\\"],[0.3333333333333333,\\\"#9c179e\\\"],[0.4444444444444444,\\\"#bd3786\\\"],[0.5555555555555556,\\\"#d8576b\\\"],[0.6666666666666666,\\\"#ed7953\\\"],[0.7777777777777778,\\\"#fb9f3a\\\"],[0.8888888888888888,\\\"#fdca26\\\"],[1.0,\\\"#f0f921\\\"]]}],\\\"contour\\\":[{\\\"colorbar\\\":{\\\"ticks\\\":\\\"\\\",\\\"outlinewidth\\\":0},\\\"type\\\":\\\"contour\\\",\\\"colorscale\\\":[[0.0,\\\"#0d0887\\\"],[0.1111111111111111,\\\"#46039f\\\"],[0.2222222222222222,\\\"#7201a8\\\"],[0.3333333333333333,\\\"#9c179e\\\"],[0.4444444444444444,\\\"#bd3786\\\"],[0.5555555555555556,\\\"#d8576b\\\"],[0.6666666666666666,\\\"#ed7953\\\"],[0.7777777777777778,\\\"#fb9f3a\\\"],[0.8888888888888888,\\\"#fdca26\\\"],[1.0,\\\"#f0f921\\\"]]}],\\\"scattercarpet\\\":[{\\\"type\\\":\\\"scattercarpet\\\",\\\"marker\\\":{\\\"colorbar\\\":{\\\"ticks\\\":\\\"\\\",\\\"outlinewidth\\\":0}}}],\\\"mesh3d\\\":[{\\\"colorbar\\\":{\\\"ticks\\\":\\\"\\\",\\\"outlinewidth\\\":0},\\\"type\\\":\\\"mesh3d\\\"}],\\\"surface\\\":[{\\\"colorbar\\\":{\\\"ticks\\\":\\\"\\\",\\\"outlinewidth\\\":0},\\\"type\\\":\\\"surface\\\",\\\"colorscale\\\":[[0.0,\\\"#0d0887\\\"],[0.1111111111111111,\\\"#46039f\\\"],[0.2222222222222222,\\\"#7201a8\\\"],[0.3333333333333333,\\\"#9c179e\\\"],[0.4444444444444444,\\\"#bd3786\\\"],[0.5555555555555556,\\\"#d8576b\\\"],[0.6666666666666666,\\\"#ed7953\\\"],[0.7777777777777778,\\\"#fb9f3a\\\"],[0.8888888888888888,\\\"#fdca26\\\"],[1.0,\\\"#f0f921\\\"]]}],\\\"scattermapbox\\\":[{\\\"type\\\":\\\"scattermapbox\\\",\\\"marker\\\":{\\\"colorbar\\\":{\\\"ticks\\\":\\\"\\\",\\\"outlinewidth\\\":0}}}],\\\"scattergeo\\\":[{\\\"type\\\":\\\"scattergeo\\\",\\\"marker\\\":{\\\"colorbar\\\":{\\\"ticks\\\":\\\"\\\",\\\"outlinewidth\\\":0}}}],\\\"histogram\\\":[{\\\"type\\\":\\\"histogram\\\",\\\"marker\\\":{\\\"colorbar\\\":{\\\"ticks\\\":\\\"\\\",\\\"outlinewidth\\\":0}}}],\\\"pie\\\":[{\\\"type\\\":\\\"pie\\\",\\\"automargin\\\":true}],\\\"choropleth\\\":[{\\\"colorbar\\\":{\\\"ticks\\\":\\\"\\\",\\\"outlinewidth\\\":0},\\\"type\\\":\\\"choropleth\\\"}],\\\"heatmapgl\\\":[{\\\"colorbar\\\":{\\\"ticks\\\":\\\"\\\",\\\"outlinewidth\\\":0},\\\"type\\\":\\\"heatmapgl\\\",\\\"colorscale\\\":[[0.0,\\\"#0d0887\\\"],[0.1111111111111111,\\\"#46039f\\\"],[0.2222222222222222,\\\"#7201a8\\\"],[0.3333333333333333,\\\"#9c179e\\\"],[0.4444444444444444,\\\"#bd3786\\\"],[0.5555555555555556,\\\"#d8576b\\\"],[0.6666666666666666,\\\"#ed7953\\\"],[0.7777777777777778,\\\"#fb9f3a\\\"],[0.8888888888888888,\\\"#fdca26\\\"],[1.0,\\\"#f0f921\\\"]]}],\\\"bar\\\":[{\\\"type\\\":\\\"bar\\\",\\\"error_y\\\":{\\\"color\\\":\\\"#2a3f5f\\\"},\\\"error_x\\\":{\\\"color\\\":\\\"#2a3f5f\\\"},\\\"marker\\\":{\\\"line\\\":{\\\"color\\\":\\\"#E5ECF6\\\",\\\"width\\\":0.5}}}],\\\"heatmap\\\":[{\\\"colorbar\\\":{\\\"ticks\\\":\\\"\\\",\\\"outlinewidth\\\":0},\\\"type\\\":\\\"heatmap\\\",\\\"colorscale\\\":[[0.0,\\\"#0d0887\\\"],[0.1111111111111111,\\\"#46039f\\\"],[0.2222222222222222,\\\"#7201a8\\\"],[0.3333333333333333,\\\"#9c179e\\\"],[0.4444444444444444,\\\"#bd3786\\\"],[0.5555555555555556,\\\"#d8576b\\\"],[0.6666666666666666,\\\"#ed7953\\\"],[0.7777777777777778,\\\"#fb9f3a\\\"],[0.8888888888888888,\\\"#fdca26\\\"],[1.0,\\\"#f0f921\\\"]]}],\\\"contourcarpet\\\":[{\\\"colorbar\\\":{\\\"ticks\\\":\\\"\\\",\\\"outlinewidth\\\":0},\\\"type\\\":\\\"contourcarpet\\\"}],\\\"table\\\":[{\\\"type\\\":\\\"table\\\",\\\"header\\\":{\\\"line\\\":{\\\"color\\\":\\\"white\\\"},\\\"fill\\\":{\\\"color\\\":\\\"#C8D4E3\\\"}},\\\"cells\\\":{\\\"line\\\":{\\\"color\\\":\\\"white\\\"},\\\"fill\\\":{\\\"color\\\":\\\"#EBF0F8\\\"}}}],\\\"scatter3d\\\":[{\\\"line\\\":{\\\"colorbar\\\":{\\\"ticks\\\":\\\"\\\",\\\"outlinewidth\\\":0}},\\\"type\\\":\\\"scatter3d\\\",\\\"marker\\\":{\\\"colorbar\\\":{\\\"ticks\\\":\\\"\\\",\\\"outlinewidth\\\":0}}}],\\\"scattergl\\\":[{\\\"type\\\":\\\"scattergl\\\",\\\"marker\\\":{\\\"colorbar\\\":{\\\"ticks\\\":\\\"\\\",\\\"outlinewidth\\\":0}}}],\\\"histogram2d\\\":[{\\\"colorbar\\\":{\\\"ticks\\\":\\\"\\\",\\\"outlinewidth\\\":0},\\\"type\\\":\\\"histogram2d\\\",\\\"colorscale\\\":[[0.0,\\\"#0d0887\\\"],[0.1111111111111111,\\\"#46039f\\\"],[0.2222222222222222,\\\"#7201a8\\\"],[0.3333333333333333,\\\"#9c179e\\\"],[0.4444444444444444,\\\"#bd3786\\\"],[0.5555555555555556,\\\"#d8576b\\\"],[0.6666666666666666,\\\"#ed7953\\\"],[0.7777777777777778,\\\"#fb9f3a\\\"],[0.8888888888888888,\\\"#fdca26\\\"],[1.0,\\\"#f0f921\\\"]]}],\\\"scatterternary\\\":[{\\\"type\\\":\\\"scatterternary\\\",\\\"marker\\\":{\\\"colorbar\\\":{\\\"ticks\\\":\\\"\\\",\\\"outlinewidth\\\":0}}}],\\\"scatterpolargl\\\":[{\\\"type\\\":\\\"scatterpolargl\\\",\\\"marker\\\":{\\\"colorbar\\\":{\\\"ticks\\\":\\\"\\\",\\\"outlinewidth\\\":0}}}]}},\\\"yaxis\\\":{\\\"showgrid\\\":false,\\\"zeroline\\\":false,\\\"tickvals\\\":[],\\\"scaleanchor\\\":\\\"x\\\",\\\"scaleratio\\\":1,\\\"title\\\":{\\\"text\\\":\\\"\\\"},\\\"showbackground\\\":false,\\\"range\\\":[-7.738877287399329,7.738877287399329]},\\\"autosize\\\":false,\\\"annotations\\\":[{\\\"arrowcolor\\\":\\\"rgb(39,60,117)\\\",\\\"showarrow\\\":true,\\\"yref\\\":\\\"ay\\\",\\\"arrowsize\\\":0.5,\\\"arrowhead\\\":2,\\\"axref\\\":\\\"x\\\",\\\"y\\\":-7.617957329783714,\\\"ax\\\":-1.5304285803297077e-15,\\\"ay\\\":-6.892437584090027,\\\"ayref\\\":\\\"y\\\",\\\"arrowwidth\\\":6,\\\"xref\\\":\\\"ax\\\",\\\"x\\\":-1.6915263256275716e-15},{\\\"arrowcolor\\\":\\\"rgb(39,60,117)\\\",\\\"showarrow\\\":true,\\\"yref\\\":\\\"ay\\\",\\\"arrowsize\\\":0.5,\\\"arrowhead\\\":2,\\\"axref\\\":\\\"x\\\",\\\"y\\\":-3.8089786648918578,\\\"ax\\\":5.969026041820607,\\\"ay\\\":-3.4462187920450145,\\\"ayref\\\":\\\"y\\\",\\\"arrowwidth\\\":6,\\\"xref\\\":\\\"ax\\\",\\\"x\\\":6.5973445725385655},{\\\"arrowcolor\\\":\\\"rgb(194,54,22)\\\",\\\"showarrow\\\":true,\\\"yref\\\":\\\"ay\\\",\\\"arrowsize\\\":0.5,\\\"arrowhead\\\":2,\\\"axref\\\":\\\"x\\\",\\\"y\\\":0.0,\\\"ax\\\":5.277069823326921,\\\"ay\\\":0.0,\\\"ayref\\\":\\\"y\\\",\\\"arrowwidth\\\":6,\\\"xref\\\":\\\"ax\\\",\\\"x\\\":6.002589569020608},{\\\"arrowcolor\\\":\\\"rgb(194,54,22)\\\",\\\"showarrow\\\":true,\\\"yref\\\":\\\"ay\\\",\\\"arrowsize\\\":0.5,\\\"arrowhead\\\":2,\\\"axref\\\":\\\"x\\\",\\\"y\\\":5.441398092702652,\\\"ax\\\":0.0,\\\"ay\\\":4.715878347008966,\\\"ayref\\\":\\\"y\\\",\\\"arrowwidth\\\":6,\\\"xref\\\":\\\"ax\\\",\\\"x\\\":0.0}],\\\"plot_bgcolor\\\":\\\"rgba(255, 255, 255, 1)\\\",\\\"margin\\\":{\\\"l\\\":50,\\\"b\\\":50,\\\"r\\\":50,\\\"t\\\":60},\\\"aspectmode\\\":\\\"data\\\"},{\\\"displaylogo\\\":false,\\\"showLink\\\":false,\\\"editable\\\":false,\\\"responsive\\\":true,\\\"staticPlot\\\":false,\\\"scrollZoom\\\":true}); gd.on(\\\"plotly_hover\\\",(function (data){var filtered_data=WebIO.PlotlyCommands.filterEventData(gd,data,\\\"hover\\\"); return !(filtered_data.isnil) ? (WebIO.setval({\\\"name\\\":\\\"hover\\\",\\\"scope\\\":\\\"6156732364951393495\\\",\\\"id\\\":\\\"11\\\",\\\"type\\\":\\\"observable\\\"},filtered_data.out)) : undefined})); gd.on(\\\"plotly_unhover\\\",(function (){return WebIO.setval({\\\"name\\\":\\\"hover\\\",\\\"scope\\\":\\\"6156732364951393495\\\",\\\"id\\\":\\\"11\\\",\\\"type\\\":\\\"observable\\\"},{})})); gd.on(\\\"plotly_selected\\\",(function (data){var filtered_data=WebIO.PlotlyCommands.filterEventData(gd,data,\\\"selected\\\"); return !(filtered_data.isnil) ? (WebIO.setval({\\\"name\\\":\\\"selected\\\",\\\"scope\\\":\\\"6156732364951393495\\\",\\\"id\\\":\\\"12\\\",\\\"type\\\":\\\"observable\\\"},filtered_data.out)) : undefined})); gd.on(\\\"plotly_deselect\\\",(function (){return WebIO.setval({\\\"name\\\":\\\"selected\\\",\\\"scope\\\":\\\"6156732364951393495\\\",\\\"id\\\":\\\"12\\\",\\\"type\\\":\\\"observable\\\"},{})})); gd.on(\\\"plotly_relayout\\\",(function (data){var filtered_data=WebIO.PlotlyCommands.filterEventData(gd,data,\\\"relayout\\\"); return !(filtered_data.isnil) ? (WebIO.setval({\\\"name\\\":\\\"relayout\\\",\\\"scope\\\":\\\"6156732364951393495\\\",\\\"id\\\":\\\"14\\\",\\\"type\\\":\\\"observable\\\"},filtered_data.out)) : undefined})); return gd.on(\\\"plotly_click\\\",(function (data){var filtered_data=WebIO.PlotlyCommands.filterEventData(gd,data,\\\"click\\\"); return !(filtered_data.isnil) ? (WebIO.setval({\\\"name\\\":\\\"click\\\",\\\"scope\\\":\\\"6156732364951393495\\\",\\\"id\\\":\\\"13\\\",\\\"type\\\":\\\"observable\\\"},filtered_data.out)) : undefined}))}));\\n    (WebIO.importBlock({\\\"data\\\":[{\\\"name\\\":\\\"Plotly\\\",\\\"type\\\":\\\"js\\\",\\\"url\\\":\\\"\\/assetserver\\/b267c3137400db01c304fe886fe6f707be7fdb37-plotly.min.js\\\"},{\\\"name\\\":null,\\\"type\\\":\\\"js\\\",\\\"url\\\":\\\"\\/assetserver\\/020f2e8a4619f2ae880fff9315e6547eef1aff0b-plotly_webio.bundle.js\\\"}],\\\"type\\\":\\\"async_block\\\"})).then((imports) => handler.apply(this, imports));\\n}\\n\"],\"observables\":{\"_toImage\":{\"sync\":false,\"id\":\"18\",\"value\":{}},\"hover\":{\"sync\":false,\"id\":\"11\",\"value\":{}},\"selected\":{\"sync\":false,\"id\":\"12\",\"value\":{}},\"__gd_contents\":{\"sync\":false,\"id\":\"16\",\"value\":{}},\"click\":{\"sync\":false,\"id\":\"13\",\"value\":{}},\"image\":{\"sync\":true,\"id\":\"15\",\"value\":\"\"},\"__get_gd_contents\":{\"sync\":false,\"id\":\"20\",\"value\":\"\"},\"_downloadImage\":{\"sync\":false,\"id\":\"19\",\"value\":{}},\"relayout\":{\"sync\":false,\"id\":\"14\",\"value\":{}},\"_commands\":{\"sync\":false,\"id\":\"17\",\"value\":[]}}},\"children\":[{\"props\":{\"id\":\"plot-23d983e9-3328-4592-82c5-e210c53b3add\"},\"nodeType\":\"DOM\",\"type\":\"node\",\"instanceArgs\":{\"namespace\":\"html\",\"tag\":\"div\"},\"children\":[]}]},\n",
       "        window,\n",
       "    );\n",
       "    })()\n",
       "    </script>\n",
       "</div>\n"
      ],
      "text/plain": [
       "data: [\n",
       "  \"scatter with fields hoverinfo, hovertext, line, mode, type, x, and y\",\n",
       "  \"scatter with fields hoverinfo, hovertext, line, mode, type, x, and y\",\n",
       "  \"scatter with fields hoverinfo, hovertext, line, mode, type, x, and y\",\n",
       "  \"scatter with fields hoverinfo, hovertext, line, mode, type, x, and y\",\n",
       "  \"scatter with fields hoverinfo, hovertext, line, mode, type, x, and y\",\n",
       "  \"scatter with fields hoverinfo, hovertext, line, mode, type, x, and y\",\n",
       "  \"scatter with fields hoverinfo, hovertext, line, mode, type, x, and y\",\n",
       "  \"scatter with fields hoverinfo, hovertext, line, mode, type, x, and y\",\n",
       "  \"scatter with fields hoverinfo, hovertext, line, mode, type, x, and y\"\n",
       "]\n",
       "\n",
       "layout: \"layout with fields annotations, aspectmode, autosize, hovermode, margin, paper_bgcolor, plot_bgcolor, showlegend, template, xaxis, and yaxis\"\n",
       "\n"
      ]
     },
     "metadata": {},
     "output_type": "display_data"
    }
   ],
   "source": [
    "# Useful C_3 rotation\n",
    "global const C_3::Matrix{Float64} = [cos(2.0*pi/3.0) -sin(2.0*pi/3.0); sin(2.0*pi/3.0) cos(2.0*pi/3.0)]\n",
    "\n",
    "# Useful C_6 rotation\n",
    "global const C_6::Matrix{Float64} = [cos(pi/3.0) -sin(pi/3.0); sin(pi/3.0) cos(pi/3.0)]\n",
    "\n",
    "\n",
    "# Reciprocal and Direct Lattice   R1 and R2 are the basis vectors in the real space ! \n",
    "global const R1::Vector{Float64} = [-0.5, -0.5 * sqrt(3.0)]\n",
    "global const R2::Vector{Float64} = C_3 * R1\n",
    "global const R3::Vector{Float64} = C_3 * R2;\n",
    "\n",
    "# Now, the reciprocal lattice \n",
    "global const R::Matrix{Float64} = [R1 R2]';\n",
    "global const G::Matrix{Float64} = 2.0 * pi * inv(R');\n",
    "\n",
    "let\n",
    "    print(\"--- Plotting the Wigner-Seitz cell in real space. \\n\")\n",
    "    print(\"\\n\")\n",
    "\n",
    "    As = [R[i, :] for i ∈ 1 : size(R, 1)]\n",
    "    real_wignerseitz = wignerseitz(As)\n",
    "\n",
    "    vertices = real_wignerseitz.verts\n",
    "\n",
    "    print(\"--- Vertices of the real Wigner-Seitz cell (in reduced coordinates): \\n\")\n",
    "    for v ∈ vertices\n",
    "        @printf(\"%10f %10f \\n\", v[1], v[2])\n",
    "    end\n",
    "    print(\"\\n\")\n",
    "\n",
    "    pbzb = PlotlyJS.plot(real_wignerseitz)\n",
    "    display(pbzb)\n",
    "\n",
    "end\n",
    "\n",
    "let\n",
    "    print(\"--- Plotting the Wigner-Seitz cell in reciprocal space. \\n\")\n",
    "    print(\"\\n\")\n",
    "\n",
    "    G1 = G[1, :]; G2 = G[2, :]\n",
    "    Gs = [G[i, :] for i ∈ 1 : size(G, 1)]\n",
    "    recip_wignerseitz = wignerseitz(Gs)\n",
    "\n",
    "    vertices = recip_wignerseitz.verts\n",
    "\n",
    "    # Here, we want the cartesian coordinates of the corners (vertices of the FBZ). We also need the cartesian coordinates of the M point \n",
    "    global cart_v::Vector{Vector{Float64}} = similar(vertices)\n",
    "    for i ∈ 1:size(cart_v, 1)\n",
    "        red_v = vertices[i]\n",
    "        cart_v[i] = red_v[1] * G1 + red_v[2] * G2\n",
    "    end\n",
    "\n",
    "    print(\"--- Vertices of the reciprocal space Wigner-Seitz cell (in reduced coordinates): \\n\")\n",
    "    for v ∈ vertices\n",
    "        @printf(\"%10f %10f \\n\", v[1], v[2])\n",
    "    end\n",
    "    print(\"\\n\")\n",
    "\n",
    "    print(\"--- Vertices of the reciprocal space Wigner-Seitz cell (in cartesian coordinates): \\n\")\n",
    "    for v ∈ cart_v\n",
    "        @printf(\"%10f %10f \\n\", v[1], v[2])\n",
    "    end\n",
    "    print(\"\\n\")\n",
    "\n",
    "    pbzb = PlotlyJS.plot(recip_wignerseitz)\n",
    "    display(pbzb)\n",
    "\n",
    "end"
   ]
  },
  {
   "cell_type": "code",
   "execution_count": null,
   "metadata": {},
   "outputs": [],
   "source": [
    "global const cK::SVector{2, Float64} = SVector{2, Float64}(cart_v[2])\n",
    "global const cK_I::SVector{2, Float64} = @SVector [2.094395, 3.627599]\n",
    "# Now, the K-Points \n",
    "global const high_symmetry_points = Dict{String, SVector{2, Float64}}(\n",
    "    \"K\"=> cK, \n",
    "    \"M\"=> (cK + cK_I) / 2.0,\n",
    "    \"Γ\"=> [0.0, 0.0] \n",
    ")\n"
   ]
  },
  {
   "cell_type": "code",
   "execution_count": 8,
   "metadata": {},
   "outputs": [
    {
     "name": "stderr",
     "output_type": "stream",
     "text": [
      "WARNING: redefinition of constant Main.σ₀. This may fail, cause incorrect answers, or produce other errors.\n",
      "WARNING: redefinition of constant Main.σ₁. This may fail, cause incorrect answers, or produce other errors.\n",
      "WARNING: redefinition of constant Main.σ₂. This may fail, cause incorrect answers, or produce other errors.\n",
      "WARNING: redefinition of constant Main.σ₃. This may fail, cause incorrect answers, or produce other errors.\n"
     ]
    }
   ],
   "source": [
    "global const σ₀::Matrix{ComplexF64} = @SMatrix [1.0 0.0; 0.0 1.0]\n",
    "global const σ₁::Matrix{ComplexF64} = @SMatrix [0.0 1.0; 1.0 0.0]\n",
    "global const σ₂::Matrix{ComplexF64} = @SMatrix [0.0 -im; im 0.0]\n",
    "global const σ₃::Matrix{ComplexF64} = @SMatrix [1.0 0.0; 0.0 -1.0]\n",
    "\n",
    "struct ParamsSOCModel\n",
    "\n",
    "    # we will use unicode characters to name the variables \n",
    "\n",
    "    # Parameters for the upright triangle \n",
    "    \n",
    "    # Orbital Hoppings \n",
    "    t1Δ::Float64\n",
    "    t2Δ::Float64\n",
    "    t3Δ::Float64\n",
    "\n",
    "    # Spin orbit coupling \n",
    "    λ1Δ::Float64\n",
    "    λ2Δ::Float64\n",
    "    λ3Δ::Float64\n",
    "    \n",
    "\n",
    "    # Parameters for the upside down triangle \n",
    "    \n",
    "    # Orbital Hoppings \n",
    "    t1∇::Float64\n",
    "    t2∇::Float64\n",
    "    t3∇::Float64\n",
    "    #  Spin orbit coupling \n",
    "    λ1∇::Float64\n",
    "    λ2∇::Float64\n",
    "    λ3∇::Float64\n",
    "\n",
    "    # theta \n",
    "    θ::Float64\n",
    "\n",
    "end\n",
    "\n"
   ]
  },
  {
   "cell_type": "code",
   "execution_count": 11,
   "metadata": {},
   "outputs": [
    {
     "data": {
      "text/plain": [
       "#73 (generic function with 1 method)"
      ]
     },
     "metadata": {},
     "output_type": "display_data"
    }
   ],
   "source": [
    "global const T1u  = @SArray ComplexF64[0.0 1.0 0.0; 0.0 0.0 0.0; 0.0 0.0 0.0]\n",
    "global const T2u  = @SArray ComplexF64[0.0 0.0 1.0; 0.0 0.0 0.0; 0.0 0.0 0.0]\n",
    "global const T3u  = @SArray ComplexF64[0.0 0.0 0.0; 0.0 0.0 1.0; 0.0 0.0 0.0];\n",
    "\n",
    "\n",
    "@inline d̂₁ = θ -> SVector{3, Float64}(cos(θ) * sqrt(3.0)/2.0, -0.5 * cos(θ), sin(θ))\n",
    "@inline d̂₂ = θ -> SVector{3, Float64}(0.0, cos(θ), sin(θ))\n",
    "@inline d̂₃ = θ -> SVector{3, Float64}(cos(θ) * sqrt(3.0)/2.0, 0.5 * cos(θ), sin(θ))\n",
    "\n",
    "@inline M₁ = (θ, t, λ) -> SMatrix{2, 2, ComplexF64}((t * σ₀ +\n",
    "             im * (d̂₁(θ)[1] * σ₁ + d̂₁(θ)[2] * σ₂ + d̂₁(θ)[3] * σ₃)))\n",
    "\n",
    "@inline M₂ = (θ, t, λ) -> SMatrix{2, 2, ComplexF64}((t * σ₀ +\n",
    "             im * (d̂₂(θ)[1] * σ₁ + d̂₂(θ)[2] * σ₂ + d̂₂(θ)[3] * σ₃)))\n",
    "\n",
    "@inline M₃ = (θ, t, λ) -> SMatrix{2, 2, ComplexF64}((t * σ₀ +\n",
    "             im * (d̂₃(θ)[1] * σ₁ + d̂₃(θ)[2] * σ₂ + d̂₃(θ)[3] * σ₃)))\n",
    "\n",
    "\n"
   ]
  }
 ],
 "metadata": {
  "kernelspec": {
   "display_name": "Julia 1.11.4",
   "language": "julia",
   "name": "julia-1.11"
  },
  "language_info": {
   "file_extension": ".jl",
   "mimetype": "application/julia",
   "name": "julia",
   "version": "1.11.4"
  }
 },
 "nbformat": 4,
 "nbformat_minor": 2
}
