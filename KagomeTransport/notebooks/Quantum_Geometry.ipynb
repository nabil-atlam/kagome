{
 "cells": [
  {
   "cell_type": "code",
   "execution_count": 6,
   "metadata": {},
   "outputs": [
    {
     "name": "stderr",
     "output_type": "stream",
     "text": [
      "WARNING: replacing module KagomeTransport.\n",
      "WARNING: using Kagome_Hamiltonian.Params in module Main conflicts with an existing identifier.\n"
     ]
    }
   ],
   "source": [
    "include(\"../src/KagomeTransport.jl\");\n",
    "using .KagomeTransport.Kagome_Hamiltonian;\n",
    "using LinearAlgebra;\n",
    "using StaticArrays;\n"
   ]
  },
  {
   "cell_type": "code",
   "execution_count": 8,
   "metadata": {},
   "outputs": [
    {
     "data": {
      "text/plain": [
       "Complex_Metric_xy"
      ]
     },
     "metadata": {},
     "output_type": "display_data"
    }
   ],
   "source": [
    "\"\"\"\n",
    "Calculate the xy comp. of the complex quantum metric (both the real quantum geometry and berry curvature of the bands at a single point in the BZ)\n",
    "z1, z2 ∈ U(1) = S^1, so they are complex numbers of modulus one. \n",
    "They are related to the k variables using zi = e^{2 pi i ki}\n",
    "This Function is for the monolayer Kagome model \n",
    "\"\"\"\n",
    "function Complex_Metric_xy(z1::ComplexF64, z2::ComplexF64, H::Matrix{ComplexF64}, p::Params, Vx, Vy,\n",
    "    T1u::SMatrix{ComplexF64}, T2u::SMatrix{ComplexF64}, T3u::SMatrix{ComplexF64},\n",
    "    Num_Bands::Int)\n",
    "\n",
    "    (E, U) = eigen(Hermitian(H(z1, z2, p, T1u, T2u, T3u)))\n",
    "\n",
    "    ωmn = E' .- E\n",
    "    ωmn[ωmn .== 0] .= 1e-15\n",
    "    \n",
    "    Vxb = U' * Vx(z1, z2, p, T1u, T2u, T3u) * U\n",
    "    Vyb = U' * Vy(z1, z2, p, T1u, T2u, T3u) * U\n",
    "    \n",
    "    setindex!.(Ref(Vxb), 0.0 + im * 0.0, 1:Num_Bands, 1:Num_Bands)\n",
    "    setindex!.(Ref(Vyb), 0.0 + im * 0.0, 1:Num_Bands, 1:Num_Bands)\n",
    "\n",
    "    Xmn_x = -im * (Vxb ./ ωmn); Xmn_y = -im * (Vyb ./ ωmn);\n",
    "    Xmn_x * Xmn_y\n",
    "end\n"
   ]
  }
 ],
 "metadata": {
  "kernelspec": {
   "display_name": "Julia 1.11.2",
   "language": "julia",
   "name": "julia-1.11"
  },
  "language_info": {
   "file_extension": ".jl",
   "mimetype": "application/julia",
   "name": "julia",
   "version": "1.11.2"
  }
 },
 "nbformat": 4,
 "nbformat_minor": 2
}
