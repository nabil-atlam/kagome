{
 "cells": [
  {
   "cell_type": "code",
   "execution_count": 1,
   "metadata": {},
   "outputs": [],
   "source": [
    "include(\"../src/KagomeTransport.jl\");\n",
    "using .KagomeTransport.Kagome_Hamiltonian;\n",
    "using LinearAlgebra;\n",
    "using StaticArrays;\n"
   ]
  },
  {
   "cell_type": "code",
   "execution_count": 5,
   "metadata": {},
   "outputs": [
    {
     "data": {
      "text/plain": [
       "Complex_Metric_xy"
      ]
     },
     "metadata": {},
     "output_type": "display_data"
    }
   ],
   "source": [
    "\"\"\"\n",
    "Calculate the xy comp. of the complex quantum metric (both the real quantum geometry and berry curvature of the bands at a single point in the BZ)\n",
    "\"\"\"\n",
    "@inline function Complex_Metric_xy(;\n",
    "    E::Vector{Float64}, \n",
    "    U::Matrix{ComplexF64}, \n",
    "    Vxb::Matrix{ComplexF64}, \n",
    "    Vyb::Matrix{ComplexF64},\n",
    "    Num_Bands::Int64)\n",
    "    \n",
    "    ωmn = E' .- E\n",
    "    ωmn[ωmn .== 0] .= 1e-15\n",
    "    \n",
    "    setindex!.(Ref(Vxb), 0.0 + im * 0.0, 1:Num_Bands, 1:Num_Bands)\n",
    "    setindex!.(Ref(Vyb), 0.0 + im * 0.0, 1:Num_Bands, 1:Num_Bands)\n",
    "\n",
    "    Xmn_x = -im * (Vxb ./ ωmn); Xmn_y = -im * (Vyb ./ ωmn);\n",
    "    Xmn_x * Xmn_y'\n",
    "end\n",
    "\n"
   ]
  },
  {
   "cell_type": "code",
   "execution_count": 3,
   "metadata": {},
   "outputs": [],
   "source": [
    "# Preliminary calculation of the Berry curvature \n",
    "let npts_perdim = 300, lim = 1.0\n",
    "    \n",
    "    # construction of the grid \n",
    "    rng = LinRange(-lim * pi, lim * pi, npts_perdim)\n",
    "    grid = Matrix{Vector{Float64}}(undef, npts_perdim, npts_perdim)\n",
    "    for (n, kx) ∈ enumerate(rng)\n",
    "        for (m, ky) ∈ enumerate(rng)\n",
    "            grid[n, m] = [kx, ky]\n",
    "        end\n",
    "    end    \n",
    "    \n",
    "end\n"
   ]
  },
  {
   "cell_type": "code",
   "execution_count": 4,
   "metadata": {},
   "outputs": [
    {
     "data": {
      "text/plain": [
       "Eigen{ComplexF64, Float64, Matrix{ComplexF64}, Vector{Float64}}\n",
       "values:\n",
       "3-element Vector{Float64}:\n",
       " -1.9999999999999998\n",
       " -1.9999999999999964\n",
       "  3.9999999999999996\n",
       "vectors:\n",
       "3×3 Matrix{ComplexF64}:\n",
       "  0.707107+0.0im  -0.408248+0.0im  -0.57735+0.0im\n",
       " -0.707107+0.0im  -0.408248+0.0im  -0.57735+0.0im\n",
       "       0.0+0.0im   0.816497+0.0im  -0.57735-0.0im"
      ]
     },
     "metadata": {},
     "output_type": "display_data"
    }
   ],
   "source": [
    "p = Params()\n",
    "(E, U) = eigensystem3c([0.0, 0.0], p)"
   ]
  }
 ],
 "metadata": {
  "kernelspec": {
   "display_name": "Julia 1.11.2",
   "language": "julia",
   "name": "julia-1.11"
  },
  "language_info": {
   "file_extension": ".jl",
   "mimetype": "application/julia",
   "name": "julia",
   "version": "1.11.2"
  }
 },
 "nbformat": 4,
 "nbformat_minor": 2
}
