{
 "cells": [
  {
   "cell_type": "code",
   "execution_count": 1,
   "metadata": {},
   "outputs": [
    {
     "ename": "LoadError",
     "evalue": "LoadError: ParseError:\n# Error @ /home/nabil/work/projects/kagome/KagomeTransport/src/HamiltonianConstructors.jl:289:5\n\nend \n#   └ ── Expected `end`\nin expression starting at /home/nabil/work/projects/kagome/KagomeTransport/src/HamiltonianConstructors.jl:289\nin expression starting at /home/nabil/work/projects/kagome/KagomeTransport/src/KagomeTransport.jl:1",
     "output_type": "error",
     "traceback": [
      "LoadError: ParseError:\n",
      "# Error @ /home/nabil/work/projects/kagome/KagomeTransport/src/HamiltonianConstructors.jl:289:5\n",
      "\n",
      "end \n",
      "#   └ ── Expected `end`\n",
      "in expression starting at /home/nabil/work/projects/kagome/KagomeTransport/src/HamiltonianConstructors.jl:289\n",
      "in expression starting at /home/nabil/work/projects/kagome/KagomeTransport/src/KagomeTransport.jl:1\n",
      "\n",
      "Stacktrace:\n",
      " [1] top-level scope\n",
      "   @ ~/work/projects/kagome/KagomeTransport/src/HamiltonianConstructors.jl:289"
     ]
    }
   ],
   "source": [
    "include(\"../src/KagomeTransport.jl\");\n",
    "using .KagomeTransport.Kagome_Hamiltonian;\n",
    "using LinearAlgebra;\n",
    "using StaticArrays;\n"
   ]
  },
  {
   "cell_type": "code",
   "execution_count": 2,
   "metadata": {},
   "outputs": [
    {
     "ename": "UndefVarError",
     "evalue": "UndefVarError: `Params` not defined in `Main`\nSuggestion: check for spelling errors or missing imports.",
     "output_type": "error",
     "traceback": [
      "UndefVarError: `Params` not defined in `Main`\n",
      "Suggestion: check for spelling errors or missing imports.\n",
      "\n",
      "Stacktrace:\n",
      " [1] top-level scope\n",
      "   @ ~/work/projects/kagome/KagomeTransport/notebooks/jl_notebook_cell_df34fa98e69747e1a8f8a730347b8e2f_W1sZmlsZQ==.jl:22"
     ]
    }
   ],
   "source": [
    "\"\"\"\n",
    "Calculate the xy comp. of the complex quantum metric (both the real quantum geometry and berry curvature of the bands at a single point in the BZ)\n",
    "\"\"\"\n",
    "@inline function Complex_Metric_xy(;\n",
    "    E::Vector{Float64}, \n",
    "    U::Matrix{ComplexF64}, \n",
    "    Vxb::Matrix{ComplexF64}, \n",
    "    Vyb::Matrix{ComplexF64},\n",
    "    Num_Bands::Int64)\n",
    "    \n",
    "    ωmn = E' .- E\n",
    "    ωmn[ωmn .== 0] .= 1e-15\n",
    "    \n",
    "    setindex!.(Ref(Vxb), 0.0 + im * 0.0, 1:Num_Bands, 1:Num_Bands)\n",
    "    setindex!.(Ref(Vyb), 0.0 + im * 0.0, 1:Num_Bands, 1:Num_Bands)\n",
    "\n",
    "    Xmn_x = -im * (Vxb ./ ωmn); Xmn_y = -im * (Vyb ./ ωmn);\n",
    "    Xmn_x * Xmn_y'\n",
    "end\n",
    "\n",
    "\n",
    "@inline function Complex_Metric_xy(;\n",
    "    k::Vector{Float64}, p::Params, Num_Bands::Int64 = 3)\n",
    "\n",
    "    (E, U) = eigensystem3c(k, p)\n",
    "    ωmn = E' .- E\n",
    "    ωmn[ωmn .== 0] .= 1e-15\n",
    "\n",
    "    Velx_band::Matrix{Float64} = U' * Velx(k[1], k[2], p) * U\n",
    "    Vely_band::Matrix{Float64} = U' * Vely(k[1], k[2], p) * U\n",
    "    \n",
    "    setindex!.(Ref(Velx_band), 0.0 + im * 0.0, 1:Num_Bands, 1:Num_Bands)\n",
    "    setindex!.(Ref(Vely_band), 0.0 + im * 0.0, 1:Num_Bands, 1:Num_Bands)\n",
    "\n",
    "    Xmn_x = -im * (Velx_band ./ ωmn); Xmn_y = -im * (Vely_band ./ ωmn);\n",
    "    Xmn_x * Xmn_y'\n",
    "end\n",
    "\n",
    "\n"
   ]
  },
  {
   "cell_type": "code",
   "execution_count": 3,
   "metadata": {},
   "outputs": [
    {
     "ename": "UndefVarError",
     "evalue": "UndefVarError: `p` not defined in `Main`\nSuggestion: check for spelling errors or missing imports.",
     "output_type": "error",
     "traceback": [
      "UndefVarError: `p` not defined in `Main`\n",
      "Suggestion: check for spelling errors or missing imports.\n",
      "\n",
      "Stacktrace:\n",
      " [1] top-level scope\n",
      "   @ ~/work/projects/kagome/KagomeTransport/notebooks/jl_notebook_cell_df34fa98e69747e1a8f8a730347b8e2f_W2sZmlsZQ==.jl:13"
     ]
    }
   ],
   "source": [
    "# Preliminary calculation of the Berry curvature \n",
    "let npts_perdim = 300, lim = 1.0\n",
    "    \n",
    "    # construction of the grid \n",
    "    rng = LinRange(-lim * pi, lim * pi, npts_perdim)\n",
    "    grid = Matrix{Vector{Float64}}(undef, npts_perdim, npts_perdim)\n",
    "    for (n, kx) ∈ enumerate(rng)\n",
    "        for (m, ky) ∈ enumerate(rng)\n",
    "            grid[n, m] = [kx, ky]\n",
    "        end\n",
    "    end    \n",
    "    res = Matrix{Vector{Float64}}(undef, npts_perdim, npts_perdim)\n",
    "    res .= Complex_Metric_xy(k = grid, p = Ref(p))\n",
    "end\n"
   ]
  },
  {
   "cell_type": "code",
   "execution_count": 4,
   "metadata": {},
   "outputs": [
    {
     "ename": "UndefVarError",
     "evalue": "UndefVarError: `Params` not defined in `Main`\nSuggestion: check for spelling errors or missing imports.",
     "output_type": "error",
     "traceback": [
      "UndefVarError: `Params` not defined in `Main`\n",
      "Suggestion: check for spelling errors or missing imports.\n",
      "\n",
      "Stacktrace:\n",
      " [1] top-level scope\n",
      "   @ ~/work/projects/kagome/KagomeTransport/notebooks/jl_notebook_cell_df34fa98e69747e1a8f8a730347b8e2f_W3sZmlsZQ==.jl:1"
     ]
    }
   ],
   "source": [
    "p = Params()\n",
    "Complex_Metric_xy(k = [0.0, 0.0], p = p , Num_Bands = 3)"
   ]
  }
 ],
 "metadata": {
  "kernelspec": {
   "display_name": "Julia 1.11.2",
   "language": "julia",
   "name": "julia-1.11"
  },
  "language_info": {
   "file_extension": ".jl",
   "mimetype": "application/julia",
   "name": "julia",
   "version": "1.11.2"
  }
 },
 "nbformat": 4,
 "nbformat_minor": 2
}
