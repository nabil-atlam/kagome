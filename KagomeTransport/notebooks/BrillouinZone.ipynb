{
 "cells": [
  {
   "cell_type": "code",
   "execution_count": 49,
   "metadata": {},
   "outputs": [
    {
     "name": "stderr",
     "output_type": "stream",
     "text": [
      "WARNING: replacing module KagomeTransport.\n",
      "WARNING: using Kagome_Hamiltonian.H3 in module Main conflicts with an existing identifier.\n",
      "WARNING: using Kagome_Hamiltonian.evals3 in module Main conflicts with an existing identifier.\n",
      "WARNING: using Kagome_Hamiltonian.real_basis in module Main conflicts with an existing identifier.\n",
      "WARNING: using Kagome_Hamiltonian.recip_basis in module Main conflicts with an existing identifier.\n",
      "WARNING: using Kagome_Hamiltonian.Params in module Main conflicts with an existing identifier.\n"
     ]
    }
   ],
   "source": [
    "include(\"../src/KagomeTransport.jl\")\n",
    "\n",
    "using LinearAlgebra\n",
    "using StaticArrays\n",
    "using Brillouin\n",
    "using PlotlyJS\n",
    "using .KagomeTransport.Kagome_Hamiltonian\n",
    "using Printf\n",
    "using LaTeXStrings"
   ]
  },
  {
   "cell_type": "code",
   "execution_count": 50,
   "metadata": {},
   "outputs": [],
   "source": [
    "assets_dir = \"../assets/\";"
   ]
  },
  {
   "cell_type": "code",
   "execution_count": 51,
   "metadata": {},
   "outputs": [
    {
     "data": {
      "text/plain": [
       "make_reduced (generic function with 1 method)"
      ]
     },
     "metadata": {},
     "output_type": "display_data"
    }
   ],
   "source": [
    "function make_cartesian(vecs, basis)\n",
    "    \"\"\"\n",
    "    Calculates for each v in vectors, v1 * basis[1, :] + v2 * basis[2, :]\n",
    "        This transforms from the reduced coordinates (w.r.t basis) to the cartesian coordinates \n",
    "    \"\"\"\n",
    "    cvecs = similar(vecs)\n",
    "    for (i, v) in enumerate(vecs)\n",
    "        cvecs[i] = basis' * v\n",
    "    end\n",
    "    cvecs\n",
    "end\n",
    "\n",
    "function make_reduced(cvecs, basis)\n",
    "    \"\"\"\n",
    "    Calculates for each v in vectors, v1 * basis[1, :] + v2 * basis[2, :]\n",
    "        This transforms from the reduced coordinates (w.r.t basis) to the cartesian coordinates \n",
    "    \"\"\"\n",
    "    rvecs = similar(cvecs)\n",
    "    for (i, v) in enumerate(cvecs)\n",
    "        rvecs[i] = inv(basis') * v\n",
    "    end\n",
    "    rvecs\n",
    "end"
   ]
  },
  {
   "cell_type": "code",
   "execution_count": 52,
   "metadata": {},
   "outputs": [
    {
     "name": "stdout",
     "output_type": "stream",
     "text": [
      "--- Plotting the Wigner-Seitz cell in real space. \n",
      "\n",
      "--- Vertices of the real Wigner-Seitz cell (in reduced coordinates): \n",
      "  0.333333   0.333333 \n",
      " -0.333333   0.666667 \n",
      " -0.666667   0.333333 \n",
      " -0.333333  -0.333333 \n",
      "  0.333333  -0.666667 \n",
      "  0.666667  -0.333333 \n",
      "\n",
      "--- Vertices of the real Wigner-Seitz cell (in cartesian coordinates): \n",
      "  0.500000   0.288675 \n",
      "  0.000000   0.577350 \n",
      " -0.500000   0.288675 \n",
      " -0.500000  -0.288675 \n",
      "  0.000000  -0.577350 \n",
      "  0.500000  -0.288675 \n"
     ]
    },
    {
     "data": {
      "application/vnd.plotly.v1+json": {
       "config": {
        "displaylogo": false,
        "editable": false,
        "responsive": true,
        "scrollZoom": true,
        "showLink": false,
        "staticPlot": false
       },
       "data": [
        {
         "hoverinfo": "text+x+y",
         "hovertext": "Cell",
         "line": {
          "color": "rgb(47,54,64)",
          "width": 3
         },
         "mode": "lines",
         "type": "scatter",
         "x": [
          0,
          -0.5,
          -0.5,
          0,
          0.5,
          0.5,
          0
         ],
         "y": [
          0.5773502691896257,
          0.28867513459481287,
          -0.28867513459481287,
          -0.5773502691896257,
          -0.28867513459481287,
          0.28867513459481287,
          0.5773502691896257
         ]
        },
        {
         "hoverinfo": "text",
         "hovertext": "<b>v</b><sub>1</sub>",
         "line": {
          "color": "rgb(212,216,227)",
          "width": 5
         },
         "mode": "lines",
         "type": "scatter",
         "x": [
          0,
          0.475
         ],
         "y": [
          0,
          0
         ]
        },
        {
         "hoverinfo": "text",
         "hovertext": "<b>v</b><sub>2</sub>",
         "line": {
          "color": "rgb(212,216,227)",
          "width": 5
         },
         "mode": "lines",
         "type": "scatter",
         "x": [
          0,
          0.2375
         ],
         "y": [
          0,
          0.41136206679760834
         ]
        },
        {
         "hoverinfo": "text+x+y",
         "hovertext": "<b>v</b><sub>1</sub>",
         "line": {
          "color": "rgb(39,60,117)",
          "width": 6
         },
         "mode": "lines",
         "type": "scatter",
         "x": [
          0.525,
          1
         ],
         "y": [
          0,
          0
         ]
        },
        {
         "hoverinfo": "text+x+y",
         "hovertext": "<b>v</b><sub>2</sub>",
         "line": {
          "color": "rgb(39,60,117)",
          "width": 6
         },
         "mode": "lines",
         "type": "scatter",
         "x": [
          0.2625,
          0.5
         ],
         "y": [
          0.45466333698683026,
          0.8660254037844386
         ]
        },
        {
         "hoverinfo": "text",
         "hovertext": "<b>x</b>",
         "line": {
          "color": "rgb(242,215,208)",
          "width": 5
         },
         "mode": "lines",
         "type": "scatter",
         "x": [
          0,
          0.475
         ],
         "y": [
          0,
          0
         ]
        },
        {
         "hoverinfo": "text",
         "hovertext": "<b>y</b>",
         "line": {
          "color": "rgb(242,215,208)",
          "width": 5
         },
         "mode": "lines",
         "type": "scatter",
         "x": [
          0,
          0
         ],
         "y": [
          0,
          0.5523502691896257
         ]
        },
        {
         "hoverinfo": "text",
         "hovertext": "<b>x</b>",
         "line": {
          "color": "rgb(194,54,22)",
          "width": 6
         },
         "mode": "lines",
         "type": "scatter",
         "x": [
          0.525,
          0.7
         ],
         "y": [
          0,
          0
         ]
        },
        {
         "hoverinfo": "text",
         "hovertext": "<b>y</b>",
         "line": {
          "color": "rgb(194,54,22)",
          "width": 6
         },
         "mode": "lines",
         "type": "scatter",
         "x": [
          0,
          0
         ],
         "y": [
          0.6023502691896258,
          0.7773502691896257
         ]
        }
       ],
       "frames": [],
       "layout": {
        "annotations": [
         {
          "arrowcolor": "rgb(39,60,117)",
          "arrowhead": 2,
          "arrowsize": 0.5,
          "arrowwidth": 6,
          "ax": 0.95,
          "axref": "x",
          "ay": 0,
          "ayref": "y",
          "showarrow": true,
          "x": 1.05,
          "xref": "ax",
          "y": 0,
          "yref": "ay"
         },
         {
          "arrowcolor": "rgb(39,60,117)",
          "arrowhead": 2,
          "arrowsize": 0.5,
          "arrowwidth": 6,
          "ax": 0.475,
          "axref": "x",
          "ay": 0.8227241335952167,
          "ayref": "y",
          "showarrow": true,
          "x": 0.525,
          "xref": "ax",
          "y": 0.9093266739736605,
          "yref": "ay"
         },
         {
          "arrowcolor": "rgb(194,54,22)",
          "arrowhead": 2,
          "arrowsize": 0.5,
          "arrowwidth": 6,
          "ax": 0.6499999999999999,
          "axref": "x",
          "ay": 0,
          "ayref": "y",
          "showarrow": true,
          "x": 0.75,
          "xref": "ax",
          "y": 0,
          "yref": "ay"
         },
         {
          "arrowcolor": "rgb(194,54,22)",
          "arrowhead": 2,
          "arrowsize": 0.5,
          "arrowwidth": 6,
          "ax": 0,
          "axref": "x",
          "ay": 0.7273502691896256,
          "ayref": "y",
          "showarrow": true,
          "x": 0,
          "xref": "ax",
          "y": 0.8273502691896257,
          "yref": "ay"
         }
        ],
        "aspectmode": "data",
        "autosize": false,
        "hovermode": "closest",
        "margin": {
         "b": 50,
         "l": 50,
         "r": 50,
         "t": 60
        },
        "paper_bgcolor": "rgba(255, 255, 255, 1)",
        "plot_bgcolor": "rgba(255, 255, 255, 1)",
        "showlegend": false,
        "template": {
         "data": {
          "bar": [
           {
            "error_x": {
             "color": "#2a3f5f"
            },
            "error_y": {
             "color": "#2a3f5f"
            },
            "marker": {
             "line": {
              "color": "#E5ECF6",
              "width": 0.5
             }
            },
            "type": "bar"
           }
          ],
          "barpolar": [
           {
            "marker": {
             "line": {
              "color": "#E5ECF6",
              "width": 0.5
             }
            },
            "type": "barpolar"
           }
          ],
          "carpet": [
           {
            "aaxis": {
             "endlinecolor": "#2a3f5f",
             "gridcolor": "white",
             "linecolor": "white",
             "minorgridcolor": "white",
             "startlinecolor": "#2a3f5f"
            },
            "baxis": {
             "endlinecolor": "#2a3f5f",
             "gridcolor": "white",
             "linecolor": "white",
             "minorgridcolor": "white",
             "startlinecolor": "#2a3f5f"
            },
            "type": "carpet"
           }
          ],
          "choropleth": [
           {
            "colorbar": {
             "outlinewidth": 0,
             "ticks": ""
            },
            "type": "choropleth"
           }
          ],
          "contour": [
           {
            "colorbar": {
             "outlinewidth": 0,
             "ticks": ""
            },
            "colorscale": [
             [
              0,
              "#0d0887"
             ],
             [
              0.1111111111111111,
              "#46039f"
             ],
             [
              0.2222222222222222,
              "#7201a8"
             ],
             [
              0.3333333333333333,
              "#9c179e"
             ],
             [
              0.4444444444444444,
              "#bd3786"
             ],
             [
              0.5555555555555556,
              "#d8576b"
             ],
             [
              0.6666666666666666,
              "#ed7953"
             ],
             [
              0.7777777777777778,
              "#fb9f3a"
             ],
             [
              0.8888888888888888,
              "#fdca26"
             ],
             [
              1,
              "#f0f921"
             ]
            ],
            "type": "contour"
           }
          ],
          "contourcarpet": [
           {
            "colorbar": {
             "outlinewidth": 0,
             "ticks": ""
            },
            "type": "contourcarpet"
           }
          ],
          "heatmap": [
           {
            "colorbar": {
             "outlinewidth": 0,
             "ticks": ""
            },
            "colorscale": [
             [
              0,
              "#0d0887"
             ],
             [
              0.1111111111111111,
              "#46039f"
             ],
             [
              0.2222222222222222,
              "#7201a8"
             ],
             [
              0.3333333333333333,
              "#9c179e"
             ],
             [
              0.4444444444444444,
              "#bd3786"
             ],
             [
              0.5555555555555556,
              "#d8576b"
             ],
             [
              0.6666666666666666,
              "#ed7953"
             ],
             [
              0.7777777777777778,
              "#fb9f3a"
             ],
             [
              0.8888888888888888,
              "#fdca26"
             ],
             [
              1,
              "#f0f921"
             ]
            ],
            "type": "heatmap"
           }
          ],
          "heatmapgl": [
           {
            "colorbar": {
             "outlinewidth": 0,
             "ticks": ""
            },
            "colorscale": [
             [
              0,
              "#0d0887"
             ],
             [
              0.1111111111111111,
              "#46039f"
             ],
             [
              0.2222222222222222,
              "#7201a8"
             ],
             [
              0.3333333333333333,
              "#9c179e"
             ],
             [
              0.4444444444444444,
              "#bd3786"
             ],
             [
              0.5555555555555556,
              "#d8576b"
             ],
             [
              0.6666666666666666,
              "#ed7953"
             ],
             [
              0.7777777777777778,
              "#fb9f3a"
             ],
             [
              0.8888888888888888,
              "#fdca26"
             ],
             [
              1,
              "#f0f921"
             ]
            ],
            "type": "heatmapgl"
           }
          ],
          "histogram": [
           {
            "marker": {
             "colorbar": {
              "outlinewidth": 0,
              "ticks": ""
             }
            },
            "type": "histogram"
           }
          ],
          "histogram2d": [
           {
            "colorbar": {
             "outlinewidth": 0,
             "ticks": ""
            },
            "colorscale": [
             [
              0,
              "#0d0887"
             ],
             [
              0.1111111111111111,
              "#46039f"
             ],
             [
              0.2222222222222222,
              "#7201a8"
             ],
             [
              0.3333333333333333,
              "#9c179e"
             ],
             [
              0.4444444444444444,
              "#bd3786"
             ],
             [
              0.5555555555555556,
              "#d8576b"
             ],
             [
              0.6666666666666666,
              "#ed7953"
             ],
             [
              0.7777777777777778,
              "#fb9f3a"
             ],
             [
              0.8888888888888888,
              "#fdca26"
             ],
             [
              1,
              "#f0f921"
             ]
            ],
            "type": "histogram2d"
           }
          ],
          "histogram2dcontour": [
           {
            "colorbar": {
             "outlinewidth": 0,
             "ticks": ""
            },
            "colorscale": [
             [
              0,
              "#0d0887"
             ],
             [
              0.1111111111111111,
              "#46039f"
             ],
             [
              0.2222222222222222,
              "#7201a8"
             ],
             [
              0.3333333333333333,
              "#9c179e"
             ],
             [
              0.4444444444444444,
              "#bd3786"
             ],
             [
              0.5555555555555556,
              "#d8576b"
             ],
             [
              0.6666666666666666,
              "#ed7953"
             ],
             [
              0.7777777777777778,
              "#fb9f3a"
             ],
             [
              0.8888888888888888,
              "#fdca26"
             ],
             [
              1,
              "#f0f921"
             ]
            ],
            "type": "histogram2dcontour"
           }
          ],
          "mesh3d": [
           {
            "colorbar": {
             "outlinewidth": 0,
             "ticks": ""
            },
            "type": "mesh3d"
           }
          ],
          "parcoords": [
           {
            "line": {
             "colorbar": {
              "outlinewidth": 0,
              "ticks": ""
             }
            },
            "type": "parcoords"
           }
          ],
          "pie": [
           {
            "automargin": true,
            "type": "pie"
           }
          ],
          "scatter": [
           {
            "marker": {
             "colorbar": {
              "outlinewidth": 0,
              "ticks": ""
             }
            },
            "type": "scatter"
           }
          ],
          "scatter3d": [
           {
            "line": {
             "colorbar": {
              "outlinewidth": 0,
              "ticks": ""
             }
            },
            "marker": {
             "colorbar": {
              "outlinewidth": 0,
              "ticks": ""
             }
            },
            "type": "scatter3d"
           }
          ],
          "scattercarpet": [
           {
            "marker": {
             "colorbar": {
              "outlinewidth": 0,
              "ticks": ""
             }
            },
            "type": "scattercarpet"
           }
          ],
          "scattergeo": [
           {
            "marker": {
             "colorbar": {
              "outlinewidth": 0,
              "ticks": ""
             }
            },
            "type": "scattergeo"
           }
          ],
          "scattergl": [
           {
            "marker": {
             "colorbar": {
              "outlinewidth": 0,
              "ticks": ""
             }
            },
            "type": "scattergl"
           }
          ],
          "scattermapbox": [
           {
            "marker": {
             "colorbar": {
              "outlinewidth": 0,
              "ticks": ""
             }
            },
            "type": "scattermapbox"
           }
          ],
          "scatterpolar": [
           {
            "marker": {
             "colorbar": {
              "outlinewidth": 0,
              "ticks": ""
             }
            },
            "type": "scatterpolar"
           }
          ],
          "scatterpolargl": [
           {
            "marker": {
             "colorbar": {
              "outlinewidth": 0,
              "ticks": ""
             }
            },
            "type": "scatterpolargl"
           }
          ],
          "scatterternary": [
           {
            "marker": {
             "colorbar": {
              "outlinewidth": 0,
              "ticks": ""
             }
            },
            "type": "scatterternary"
           }
          ],
          "surface": [
           {
            "colorbar": {
             "outlinewidth": 0,
             "ticks": ""
            },
            "colorscale": [
             [
              0,
              "#0d0887"
             ],
             [
              0.1111111111111111,
              "#46039f"
             ],
             [
              0.2222222222222222,
              "#7201a8"
             ],
             [
              0.3333333333333333,
              "#9c179e"
             ],
             [
              0.4444444444444444,
              "#bd3786"
             ],
             [
              0.5555555555555556,
              "#d8576b"
             ],
             [
              0.6666666666666666,
              "#ed7953"
             ],
             [
              0.7777777777777778,
              "#fb9f3a"
             ],
             [
              0.8888888888888888,
              "#fdca26"
             ],
             [
              1,
              "#f0f921"
             ]
            ],
            "type": "surface"
           }
          ],
          "table": [
           {
            "cells": {
             "fill": {
              "color": "#EBF0F8"
             },
             "line": {
              "color": "white"
             }
            },
            "header": {
             "fill": {
              "color": "#C8D4E3"
             },
             "line": {
              "color": "white"
             }
            },
            "type": "table"
           }
          ]
         },
         "layout": {
          "annotationdefaults": {
           "arrowcolor": "#2a3f5f",
           "arrowhead": 0,
           "arrowwidth": 1
          },
          "autotypenumbers": "strict",
          "coloraxis": {
           "colorbar": {
            "outlinewidth": 0,
            "ticks": ""
           }
          },
          "colorscale": {
           "diverging": [
            [
             0,
             "#8e0152"
            ],
            [
             0.1,
             "#c51b7d"
            ],
            [
             0.2,
             "#de77ae"
            ],
            [
             0.3,
             "#f1b6da"
            ],
            [
             0.4,
             "#fde0ef"
            ],
            [
             0.5,
             "#f7f7f7"
            ],
            [
             0.6,
             "#e6f5d0"
            ],
            [
             0.7,
             "#b8e186"
            ],
            [
             0.8,
             "#7fbc41"
            ],
            [
             0.9,
             "#4d9221"
            ],
            [
             1,
             "#276419"
            ]
           ],
           "sequential": [
            [
             0,
             "#0d0887"
            ],
            [
             0.1111111111111111,
             "#46039f"
            ],
            [
             0.2222222222222222,
             "#7201a8"
            ],
            [
             0.3333333333333333,
             "#9c179e"
            ],
            [
             0.4444444444444444,
             "#bd3786"
            ],
            [
             0.5555555555555556,
             "#d8576b"
            ],
            [
             0.6666666666666666,
             "#ed7953"
            ],
            [
             0.7777777777777778,
             "#fb9f3a"
            ],
            [
             0.8888888888888888,
             "#fdca26"
            ],
            [
             1,
             "#f0f921"
            ]
           ],
           "sequentialminus": [
            [
             0,
             "#0d0887"
            ],
            [
             0.1111111111111111,
             "#46039f"
            ],
            [
             0.2222222222222222,
             "#7201a8"
            ],
            [
             0.3333333333333333,
             "#9c179e"
            ],
            [
             0.4444444444444444,
             "#bd3786"
            ],
            [
             0.5555555555555556,
             "#d8576b"
            ],
            [
             0.6666666666666666,
             "#ed7953"
            ],
            [
             0.7777777777777778,
             "#fb9f3a"
            ],
            [
             0.8888888888888888,
             "#fdca26"
            ],
            [
             1,
             "#f0f921"
            ]
           ]
          },
          "colorway": [
           "#636efa",
           "#EF553B",
           "#00cc96",
           "#ab63fa",
           "#FFA15A",
           "#19d3f3",
           "#FF6692",
           "#B6E880",
           "#FF97FF",
           "#FECB52"
          ],
          "font": {
           "color": "#2a3f5f"
          },
          "geo": {
           "bgcolor": "white",
           "lakecolor": "white",
           "landcolor": "#E5ECF6",
           "showlakes": true,
           "showland": true,
           "subunitcolor": "white"
          },
          "hoverlabel": {
           "align": "left"
          },
          "hovermode": "closest",
          "mapbox": {
           "style": "light"
          },
          "paper_bgcolor": "white",
          "plot_bgcolor": "#E5ECF6",
          "polar": {
           "angularaxis": {
            "gridcolor": "white",
            "linecolor": "white",
            "ticks": ""
           },
           "bgcolor": "#E5ECF6",
           "radialaxis": {
            "gridcolor": "white",
            "linecolor": "white",
            "ticks": ""
           }
          },
          "scene": {
           "xaxis": {
            "backgroundcolor": "#E5ECF6",
            "gridcolor": "white",
            "gridwidth": 2,
            "linecolor": "white",
            "showbackground": true,
            "ticks": "",
            "zerolinecolor": "white"
           },
           "yaxis": {
            "backgroundcolor": "#E5ECF6",
            "gridcolor": "white",
            "gridwidth": 2,
            "linecolor": "white",
            "showbackground": true,
            "ticks": "",
            "zerolinecolor": "white"
           },
           "zaxis": {
            "backgroundcolor": "#E5ECF6",
            "gridcolor": "white",
            "gridwidth": 2,
            "linecolor": "white",
            "showbackground": true,
            "ticks": "",
            "zerolinecolor": "white"
           }
          },
          "shapedefaults": {
           "line": {
            "color": "#2a3f5f"
           }
          },
          "ternary": {
           "aaxis": {
            "gridcolor": "white",
            "linecolor": "white",
            "ticks": ""
           },
           "baxis": {
            "gridcolor": "white",
            "linecolor": "white",
            "ticks": ""
           },
           "bgcolor": "#E5ECF6",
           "caxis": {
            "gridcolor": "white",
            "linecolor": "white",
            "ticks": ""
           }
          },
          "title": {
           "x": 0.05
          },
          "xaxis": {
           "automargin": true,
           "gridcolor": "white",
           "linecolor": "white",
           "ticks": "",
           "title": {
            "standoff": 15
           },
           "zerolinecolor": "white",
           "zerolinewidth": 2
          },
          "yaxis": {
           "automargin": true,
           "gridcolor": "white",
           "linecolor": "white",
           "ticks": "",
           "title": {
            "standoff": 15
           },
           "zerolinecolor": "white",
           "zerolinewidth": 2
          }
         }
        },
        "xaxis": {
         "range": [
          -1.0666666666666667,
          1.0666666666666667
         ],
         "showbackground": false,
         "showgrid": false,
         "tickvals": [],
         "title": {
          "text": ""
         },
         "zeroline": false
        },
        "yaxis": {
         "range": [
          -0.9326920704511052,
          0.9326920704511052
         ],
         "scaleanchor": "x",
         "scaleratio": 1,
         "showbackground": false,
         "showgrid": false,
         "tickvals": [],
         "title": {
          "text": ""
         },
         "zeroline": false
        }
       }
      },
      "image/png": "[encoded data removed]",
      "image/svg+xml": [
       "<svg class=\"main-svg\" xmlns=\"http://www.w3.org/2000/svg\" xmlns:xlink=\"http://www.w3.org/1999/xlink\" width=\"700\" height=\"500\" style=\"\" viewBox=\"0 0 700 500\"><rect x=\"0\" y=\"0\" width=\"700\" height=\"500\" style=\"fill: rgb(255, 255, 255); fill-opacity: 1;\"/><defs id=\"defs-a1b80d\"><g class=\"clips\"><clipPath id=\"clipa1b80dxyplot\" class=\"plotclip\"><rect width=\"600\" height=\"390\"/></clipPath><clipPath class=\"axesclip\" id=\"clipa1b80dx\"><rect x=\"50\" y=\"0\" width=\"600\" height=\"500\"/></clipPath><clipPath class=\"axesclip\" id=\"clipa1b80dy\"><rect x=\"0\" y=\"60\" width=\"700\" height=\"390\"/></clipPath><clipPath class=\"axesclip\" id=\"clipa1b80dxy\"><rect x=\"50\" y=\"60\" width=\"600\" height=\"390\"/></clipPath></g><g class=\"gradients\"/><g class=\"patterns\"/></defs><g class=\"bglayer\"/><g class=\"layer-below\"><g class=\"imagelayer\"/><g class=\"shapelayer\"/></g><g class=\"cartesianlayer\"><g class=\"subplot xy\"><g class=\"layer-subplot\"><g class=\"shapelayer\"/><g class=\"imagelayer\"/></g><g class=\"gridlayer\"><g class=\"x\"/><g class=\"y\"/></g><g class=\"zerolinelayer\"/><path class=\"xlines-below\"/><path class=\"ylines-below\"/><g class=\"overlines-below\"/><g class=\"xaxislayer-below\"/><g class=\"yaxislayer-below\"/><g class=\"overaxes-below\"/><g class=\"plot\" transform=\"translate(50,60)\" clip-path=\"url(#clipa1b80dxyplot)\"><g class=\"scatterlayer mlayer\"><g class=\"trace scatter trace89777d\" style=\"stroke-miterlimit: 2; opacity: 1;\"><g class=\"fills\"/><g class=\"errorbars\"/><g class=\"lines\"><path class=\"js-line\" d=\"M300,74.29L195.46,134.65L195.46,255.35L300,315.71L404.54,255.35L404.54,134.65L300,74.29\" style=\"vector-effect: non-scaling-stroke; fill: none; stroke: rgb(47, 54, 64); stroke-opacity: 1; stroke-width: 3px; opacity: 1;\"/></g><g class=\"points\"/><g class=\"text\"/></g><g class=\"trace scatter trace987032\" style=\"stroke-miterlimit: 2; opacity: 1;\"><g class=\"fills\"/><g class=\"errorbars\"/><g class=\"lines\"><path class=\"js-line\" d=\"M300,195L399.31,195\" style=\"vector-effect: non-scaling-stroke; fill: none; stroke: rgb(212, 216, 227); stroke-opacity: 1; stroke-width: 5px; opacity: 1;\"/></g><g class=\"points\"/><g class=\"text\"/></g><g class=\"trace scatter traceb1985b\" style=\"stroke-miterlimit: 2; opacity: 1;\"><g class=\"fills\"/><g class=\"errorbars\"/><g class=\"lines\"><path class=\"js-line\" d=\"M300,195L349.65,109\" style=\"vector-effect: non-scaling-stroke; fill: none; stroke: rgb(212, 216, 227); stroke-opacity: 1; stroke-width: 5px; opacity: 1;\"/></g><g class=\"points\"/><g class=\"text\"/></g><g class=\"trace scatter trace022ffe\" style=\"stroke-miterlimit: 2; opacity: 1;\"><g class=\"fills\"/><g class=\"errorbars\"/><g class=\"lines\"><path class=\"js-line\" d=\"M409.76,195L509.07,195\" style=\"vector-effect: non-scaling-stroke; fill: none; stroke: rgb(39, 60, 117); stroke-opacity: 1; stroke-width: 6px; opacity: 1;\"/></g><g class=\"points\"/><g class=\"text\"/></g><g class=\"trace scatter trace042f6f\" style=\"stroke-miterlimit: 2; opacity: 1;\"><g class=\"fills\"/><g class=\"errorbars\"/><g class=\"lines\"><path class=\"js-line\" d=\"M354.88,99.94L404.54,13.94\" style=\"vector-effect: non-scaling-stroke; fill: none; stroke: rgb(39, 60, 117); stroke-opacity: 1; stroke-width: 6px; opacity: 1;\"/></g><g class=\"points\"/><g class=\"text\"/></g><g class=\"trace scatter trace533458\" style=\"stroke-miterlimit: 2; opacity: 1;\"><g class=\"fills\"/><g class=\"errorbars\"/><g class=\"lines\"><path class=\"js-line\" d=\"M300,195L399.31,195\" style=\"vector-effect: non-scaling-stroke; fill: none; stroke: rgb(242, 215, 208); stroke-opacity: 1; stroke-width: 5px; opacity: 1;\"/></g><g class=\"points\"/><g class=\"text\"/></g><g class=\"trace scatter trace8b53f5\" style=\"stroke-miterlimit: 2; opacity: 1;\"><g class=\"fills\"/><g class=\"errorbars\"/><g class=\"lines\"><path class=\"js-line\" d=\"M300,195L300,79.52\" style=\"vector-effect: non-scaling-stroke; fill: none; stroke: rgb(242, 215, 208); stroke-opacity: 1; stroke-width: 5px; opacity: 1;\"/></g><g class=\"points\"/><g class=\"text\"/></g><g class=\"trace scatter tracee7f258\" style=\"stroke-miterlimit: 2; opacity: 1;\"><g class=\"fills\"/><g class=\"errorbars\"/><g class=\"lines\"><path class=\"js-line\" d=\"M409.76,195L446.35,195\" style=\"vector-effect: non-scaling-stroke; fill: none; stroke: rgb(194, 54, 22); stroke-opacity: 1; stroke-width: 6px; opacity: 1;\"/></g><g class=\"points\"/><g class=\"text\"/></g><g class=\"trace scatter trace97ae7e\" style=\"stroke-miterlimit: 2; opacity: 1;\"><g class=\"fills\"/><g class=\"errorbars\"/><g class=\"lines\"><path class=\"js-line\" d=\"M300,69.07L300,32.48\" style=\"vector-effect: non-scaling-stroke; fill: none; stroke: rgb(194, 54, 22); stroke-opacity: 1; stroke-width: 6px; opacity: 1;\"/></g><g class=\"points\"/><g class=\"text\"/></g></g></g><g class=\"overplot\"/><path class=\"xlines-above crisp\" d=\"M0,0\" style=\"fill: none;\"/><path class=\"ylines-above crisp\" d=\"M0,0\" style=\"fill: none;\"/><g class=\"overlines-above\"/><g class=\"xaxislayer-above\"/><g class=\"yaxislayer-above\"/><g class=\"overaxes-above\"/></g></g><g class=\"polarlayer\"/><g class=\"ternarylayer\"/><g class=\"geolayer\"/><g class=\"funnelarealayer\"/><g class=\"pielayer\"/><g class=\"iciclelayer\"/><g class=\"treemaplayer\"/><g class=\"sunburstlayer\"/><g class=\"glimages\"/><defs id=\"topdefs-a1b80d\"><g class=\"clips\"/></defs><g class=\"layer-above\"><g class=\"imagelayer\"/><g class=\"shapelayer\"/></g><g class=\"infolayer\"><g class=\"g-gtitle\"/><g class=\"g-xtitle\"/><g class=\"g-ytitle\"/><g class=\"annotation\" data-index=\"0\" style=\"opacity: 1;\"><g class=\"annotation-text-g\" transform=\"rotate(0,548.62,255)\"><g class=\"cursor-pointer\" transform=\"translate(545,245)\"><rect class=\"bg\" x=\"0.5\" y=\"0.5\" width=\"6\" height=\"20\" style=\"stroke-width: 1px; stroke: rgb(0, 0, 0); stroke-opacity: 0; fill: rgb(0, 0, 0); fill-opacity: 0;\"/><text class=\"annotation-text\" text-anchor=\"middle\" x=\"3.5625\" y=\"15\" style=\"font-family: 'Open Sans', verdana, arial, sans-serif; font-size: 12px; fill: rgb(42, 63, 95); fill-opacity: 1; white-space: pre;\"> </text></g></g><g class=\"annotation-arrow-g\" style=\"opacity: 1;\"><path d=\"M551.62,255L569.53,255\" style=\"stroke-width: 6px; stroke: rgb(39, 60, 117); stroke-opacity: 1; stroke-dasharray: 0px, 0px, 14.01px, 17.91px;\"/><path d=\"M-3.7,-2.5V2.5L1.3,0Z\" transform=\"translate(565.6300048828125,255)scale(3)\" style=\"fill: rgb(39, 60, 117); stroke-width: 0;\"/></g></g><g class=\"annotation\" data-index=\"1\" style=\"opacity: 1;\"><g class=\"annotation-text-g\" transform=\"rotate(0,449.31,82.99)\"><g class=\"cursor-pointer\" transform=\"translate(446,72)\"><rect class=\"bg\" x=\"0.5\" y=\"0.5\" width=\"6\" height=\"20\" style=\"stroke-width: 1px; stroke: rgb(0, 0, 0); stroke-opacity: 0; fill: rgb(0, 0, 0); fill-opacity: 0;\"/><text class=\"annotation-text\" text-anchor=\"middle\" x=\"3.5625\" y=\"15\" style=\"font-family: 'Open Sans', verdana, arial, sans-serif; font-size: 12px; fill: rgb(42, 63, 95); fill-opacity: 1; white-space: pre;\"> </text></g></g><g class=\"annotation-arrow-g\" style=\"opacity: 1;\"><path d=\"M452.31,77.79382775119616L459.76,64.89\" style=\"stroke-width: 6px; stroke: rgb(39, 60, 117); stroke-opacity: 1; stroke-dasharray: 0px, 0px, 11.0001px, 14.9001px;\"/><path d=\"M-3.7,-2.5V2.5L1.3,0Z\" transform=\"translate(457.8100280761719,68.26750183105469)rotate(-60.00568992268059)scale(3)\" style=\"fill: rgb(39, 60, 117); stroke-width: 0;\"/></g></g><g class=\"annotation\" data-index=\"2\" style=\"opacity: 1;\"><g class=\"annotation-text-g\" transform=\"rotate(0,485.9,255)\"><g class=\"cursor-pointer\" transform=\"translate(482,245)\"><rect class=\"bg\" x=\"0.5\" y=\"0.5\" width=\"6\" height=\"20\" style=\"stroke-width: 1px; stroke: rgb(0, 0, 0); stroke-opacity: 0; fill: rgb(0, 0, 0); fill-opacity: 0;\"/><text class=\"annotation-text\" text-anchor=\"middle\" x=\"3.5625\" y=\"15\" style=\"font-family: 'Open Sans', verdana, arial, sans-serif; font-size: 12px; fill: rgb(42, 63, 95); fill-opacity: 1; white-space: pre;\"> </text></g></g><g class=\"annotation-arrow-g\" style=\"opacity: 1;\"><path d=\"M488.9,255L506.8,255\" style=\"stroke-width: 6px; stroke: rgb(194, 54, 22); stroke-opacity: 1; stroke-dasharray: 0px, 0px, 14px, 17.9px;\"/><path d=\"M-3.7,-2.5V2.5L1.3,0Z\" transform=\"translate(502.8999938964844,255)scale(3)\" style=\"fill: rgb(194, 54, 22); stroke-width: 0;\"/></g></g><g class=\"annotation\" data-index=\"3\" style=\"opacity: 1;\"><g class=\"annotation-text-g\" transform=\"rotate(0,350,102.93)\"><g class=\"cursor-pointer\" transform=\"translate(347,92)\"><rect class=\"bg\" x=\"0.5\" y=\"0.5\" width=\"6\" height=\"20\" style=\"stroke-width: 1px; stroke: rgb(0, 0, 0); stroke-opacity: 0; fill: rgb(0, 0, 0); fill-opacity: 0;\"/><text class=\"annotation-text\" text-anchor=\"middle\" x=\"3.5625\" y=\"15\" style=\"font-family: 'Open Sans', verdana, arial, sans-serif; font-size: 12px; fill: rgb(42, 63, 95); fill-opacity: 1; white-space: pre;\"> </text></g></g><g class=\"annotation-arrow-g\" style=\"opacity: 1;\"><path d=\"M350,92.93L350,82.02\" style=\"stroke-width: 6px; stroke: rgb(194, 54, 22); stroke-opacity: 1; stroke-dasharray: 0px, 0px, 7.01px, 10.91px;\"/><path d=\"M-3.7,-2.5V2.5L1.3,0Z\" transform=\"translate(350,85.91999816894531)rotate(-90)scale(3)\" style=\"fill: rgb(194, 54, 22); stroke-width: 0;\"/></g></g></g></svg>"
      ],
      "text/html": [
       "<div\n",
       "    class=\"webio-mountpoint\"\n",
       "    data-webio-mountpoint=\"1853683717490502636\"\n",
       ">\n",
       "    <script>\n",
       "    (function(){\n",
       "    // Some integrations (namely, IJulia/Jupyter) use an alternate render pathway than\n",
       "    // just putting the html on the page. If WebIO isn't defined, then it's pretty likely\n",
       "    // that we're in one of those situations and the integration just isn't installed\n",
       "    // correctly.\n",
       "    if (typeof window.WebIO === \"undefined\") {\n",
       "        document\n",
       "            .querySelector('[data-webio-mountpoint=\"1853683717490502636\"]')\n",
       "            .innerHTML = (\n",
       "                '<div style=\"padding: 1em; background-color: #f8d6da; border: 1px solid #f5c6cb; font-weight: bold;\">' +\n",
       "                '<p><strong>WebIO not detected.</strong></p>' +\n",
       "                '<p>Please read ' +\n",
       "                '<a href=\"https://juliagizmos.github.io/WebIO.jl/latest/troubleshooting/not-detected/\" target=\"_blank\">the troubleshooting guide</a> ' +\n",
       "                'for more information on how to resolve this issue.</p>' +\n",
       "                '<p><a href=\"https://juliagizmos.github.io/WebIO.jl/latest/troubleshooting/not-detected/\" target=\"_blank\">https://juliagizmos.github.io/WebIO.jl/latest/troubleshooting/not-detected/</a></p>' +\n",
       "                '</div>'\n",
       "            );\n",
       "        return;\n",
       "    }\n",
       "    WebIO.mount(\n",
       "        document.querySelector('[data-webio-mountpoint=\"1853683717490502636\"]'),\n",
       "        {\"props\":{},\"nodeType\":\"Scope\",\"type\":\"node\",\"instanceArgs\":{\"imports\":{\"data\":[{\"name\":\"Plotly\",\"type\":\"js\",\"url\":\"\\/assetserver\\/b267c3137400db01c304fe886fe6f707be7fdb37-plotly.min.js\"},{\"name\":null,\"type\":\"js\",\"url\":\"\\/assetserver\\/020f2e8a4619f2ae880fff9315e6547eef1aff0b-plotly_webio.bundle.js\"}],\"type\":\"async_block\"},\"id\":\"10854693378211351120\",\"handlers\":{\"_toImage\":[\"(function (options){return this.Plotly.toImage(this.plotElem,options).then((function (data){return WebIO.setval({\\\"name\\\":\\\"image\\\",\\\"scope\\\":\\\"10854693378211351120\\\",\\\"id\\\":\\\"125\\\",\\\"type\\\":\\\"observable\\\"},data)}))})\"],\"__get_gd_contents\":[\"(function (prop){prop==\\\"data\\\" ? (WebIO.setval({\\\"name\\\":\\\"__gd_contents\\\",\\\"scope\\\":\\\"10854693378211351120\\\",\\\"id\\\":\\\"126\\\",\\\"type\\\":\\\"observable\\\"},this.plotElem.data)) : undefined; return prop==\\\"layout\\\" ? (WebIO.setval({\\\"name\\\":\\\"__gd_contents\\\",\\\"scope\\\":\\\"10854693378211351120\\\",\\\"id\\\":\\\"126\\\",\\\"type\\\":\\\"observable\\\"},this.plotElem.layout)) : undefined})\"],\"_downloadImage\":[\"(function (options){return this.Plotly.downloadImage(this.plotElem,options)})\"],\"_commands\":[\"(function (args){var fn=args.shift(); var elem=this.plotElem; var Plotly=this.Plotly; args.unshift(elem); return Plotly[fn].apply(this,args)})\"]},\"systemjs_options\":null,\"mount_callbacks\":[\"function () {\\n    var handler = ((function (Plotly,PlotlyWebIO){PlotlyWebIO.init(WebIO); var gd=this.dom.querySelector(\\\"#plot-1c94e7ee-f334-4d35-abd7-f7b5c61feebb\\\"); this.plotElem=gd; this.Plotly=Plotly; (window.Blink!==undefined) ? (gd.style.width=\\\"100%\\\", gd.style.height=\\\"100vh\\\", gd.style.marginLeft=\\\"0%\\\", gd.style.marginTop=\\\"0vh\\\") : undefined; window.onresize=(function (){return Plotly.Plots.resize(gd)}); Plotly.newPlot(gd,[{\\\"mode\\\":\\\"lines\\\",\\\"line\\\":{\\\"color\\\":\\\"rgb(47,54,64)\\\",\\\"width\\\":3},\\\"hovertext\\\":\\\"Cell\\\",\\\"y\\\":[0.5773502691896257,0.28867513459481287,-0.28867513459481287,-0.5773502691896257,-0.28867513459481287,0.28867513459481287,0.5773502691896257],\\\"type\\\":\\\"scatter\\\",\\\"hoverinfo\\\":\\\"text+x+y\\\",\\\"x\\\":[0.0,-0.5,-0.5,0.0,0.5,0.5,0.0]},{\\\"mode\\\":\\\"lines\\\",\\\"line\\\":{\\\"color\\\":\\\"rgb(212,216,227)\\\",\\\"width\\\":5},\\\"hovertext\\\":\\\"<b>v<\\/b><sub>1<\\/sub>\\\",\\\"y\\\":[0.0,0.0],\\\"type\\\":\\\"scatter\\\",\\\"hoverinfo\\\":\\\"text\\\",\\\"x\\\":[0.0,0.475]},{\\\"mode\\\":\\\"lines\\\",\\\"line\\\":{\\\"color\\\":\\\"rgb(212,216,227)\\\",\\\"width\\\":5},\\\"hovertext\\\":\\\"<b>v<\\/b><sub>2<\\/sub>\\\",\\\"y\\\":[0.0,0.41136206679760834],\\\"type\\\":\\\"scatter\\\",\\\"hoverinfo\\\":\\\"text\\\",\\\"x\\\":[0.0,0.2375]},{\\\"mode\\\":\\\"lines\\\",\\\"line\\\":{\\\"color\\\":\\\"rgb(39,60,117)\\\",\\\"width\\\":6},\\\"hovertext\\\":\\\"<b>v<\\/b><sub>1<\\/sub>\\\",\\\"y\\\":[0.0,0.0],\\\"type\\\":\\\"scatter\\\",\\\"hoverinfo\\\":\\\"text+x+y\\\",\\\"x\\\":[0.525,1.0]},{\\\"mode\\\":\\\"lines\\\",\\\"line\\\":{\\\"color\\\":\\\"rgb(39,60,117)\\\",\\\"width\\\":6},\\\"hovertext\\\":\\\"<b>v<\\/b><sub>2<\\/sub>\\\",\\\"y\\\":[0.45466333698683026,0.8660254037844386],\\\"type\\\":\\\"scatter\\\",\\\"hoverinfo\\\":\\\"text+x+y\\\",\\\"x\\\":[0.2625,0.5]},{\\\"mode\\\":\\\"lines\\\",\\\"line\\\":{\\\"color\\\":\\\"rgb(242,215,208)\\\",\\\"width\\\":5},\\\"hovertext\\\":\\\"<b>x<\\/b>\\\",\\\"y\\\":[0.0,0.0],\\\"type\\\":\\\"scatter\\\",\\\"hoverinfo\\\":\\\"text\\\",\\\"x\\\":[0.0,0.475]},{\\\"mode\\\":\\\"lines\\\",\\\"line\\\":{\\\"color\\\":\\\"rgb(242,215,208)\\\",\\\"width\\\":5},\\\"hovertext\\\":\\\"<b>y<\\/b>\\\",\\\"y\\\":[0.0,0.5523502691896257],\\\"type\\\":\\\"scatter\\\",\\\"hoverinfo\\\":\\\"text\\\",\\\"x\\\":[0.0,0.0]},{\\\"mode\\\":\\\"lines\\\",\\\"line\\\":{\\\"color\\\":\\\"rgb(194,54,22)\\\",\\\"width\\\":6},\\\"hovertext\\\":\\\"<b>x<\\/b>\\\",\\\"y\\\":[0.0,0.0],\\\"type\\\":\\\"scatter\\\",\\\"hoverinfo\\\":\\\"text\\\",\\\"x\\\":[0.525,0.7]},{\\\"mode\\\":\\\"lines\\\",\\\"line\\\":{\\\"color\\\":\\\"rgb(194,54,22)\\\",\\\"width\\\":6},\\\"hovertext\\\":\\\"<b>y<\\/b>\\\",\\\"y\\\":[0.6023502691896258,0.7773502691896257],\\\"type\\\":\\\"scatter\\\",\\\"hoverinfo\\\":\\\"text\\\",\\\"x\\\":[0.0,0.0]}],{\\\"showlegend\\\":false,\\\"xaxis\\\":{\\\"showgrid\\\":false,\\\"zeroline\\\":false,\\\"tickvals\\\":[],\\\"title\\\":{\\\"text\\\":\\\"\\\"},\\\"showbackground\\\":false,\\\"range\\\":[-1.0666666666666667,1.0666666666666667]},\\\"hovermode\\\":\\\"closest\\\",\\\"paper_bgcolor\\\":\\\"rgba(255, 255, 255, 1)\\\",\\\"template\\\":{\\\"layout\\\":{\\\"coloraxis\\\":{\\\"colorbar\\\":{\\\"ticks\\\":\\\"\\\",\\\"outlinewidth\\\":0}},\\\"xaxis\\\":{\\\"gridcolor\\\":\\\"white\\\",\\\"zerolinewidth\\\":2,\\\"title\\\":{\\\"standoff\\\":15},\\\"ticks\\\":\\\"\\\",\\\"zerolinecolor\\\":\\\"white\\\",\\\"automargin\\\":true,\\\"linecolor\\\":\\\"white\\\"},\\\"hovermode\\\":\\\"closest\\\",\\\"paper_bgcolor\\\":\\\"white\\\",\\\"geo\\\":{\\\"showlakes\\\":true,\\\"showland\\\":true,\\\"landcolor\\\":\\\"#E5ECF6\\\",\\\"bgcolor\\\":\\\"white\\\",\\\"subunitcolor\\\":\\\"white\\\",\\\"lakecolor\\\":\\\"white\\\"},\\\"colorscale\\\":{\\\"sequential\\\":[[0.0,\\\"#0d0887\\\"],[0.1111111111111111,\\\"#46039f\\\"],[0.2222222222222222,\\\"#7201a8\\\"],[0.3333333333333333,\\\"#9c179e\\\"],[0.4444444444444444,\\\"#bd3786\\\"],[0.5555555555555556,\\\"#d8576b\\\"],[0.6666666666666666,\\\"#ed7953\\\"],[0.7777777777777778,\\\"#fb9f3a\\\"],[0.8888888888888888,\\\"#fdca26\\\"],[1.0,\\\"#f0f921\\\"]],\\\"diverging\\\":[[0,\\\"#8e0152\\\"],[0.1,\\\"#c51b7d\\\"],[0.2,\\\"#de77ae\\\"],[0.3,\\\"#f1b6da\\\"],[0.4,\\\"#fde0ef\\\"],[0.5,\\\"#f7f7f7\\\"],[0.6,\\\"#e6f5d0\\\"],[0.7,\\\"#b8e186\\\"],[0.8,\\\"#7fbc41\\\"],[0.9,\\\"#4d9221\\\"],[1,\\\"#276419\\\"]],\\\"sequentialminus\\\":[[0.0,\\\"#0d0887\\\"],[0.1111111111111111,\\\"#46039f\\\"],[0.2222222222222222,\\\"#7201a8\\\"],[0.3333333333333333,\\\"#9c179e\\\"],[0.4444444444444444,\\\"#bd3786\\\"],[0.5555555555555556,\\\"#d8576b\\\"],[0.6666666666666666,\\\"#ed7953\\\"],[0.7777777777777778,\\\"#fb9f3a\\\"],[0.8888888888888888,\\\"#fdca26\\\"],[1.0,\\\"#f0f921\\\"]]},\\\"yaxis\\\":{\\\"gridcolor\\\":\\\"white\\\",\\\"zerolinewidth\\\":2,\\\"title\\\":{\\\"standoff\\\":15},\\\"ticks\\\":\\\"\\\",\\\"zerolinecolor\\\":\\\"white\\\",\\\"automargin\\\":true,\\\"linecolor\\\":\\\"white\\\"},\\\"shapedefaults\\\":{\\\"line\\\":{\\\"color\\\":\\\"#2a3f5f\\\"}},\\\"hoverlabel\\\":{\\\"align\\\":\\\"left\\\"},\\\"mapbox\\\":{\\\"style\\\":\\\"light\\\"},\\\"polar\\\":{\\\"angularaxis\\\":{\\\"gridcolor\\\":\\\"white\\\",\\\"ticks\\\":\\\"\\\",\\\"linecolor\\\":\\\"white\\\"},\\\"bgcolor\\\":\\\"#E5ECF6\\\",\\\"radialaxis\\\":{\\\"gridcolor\\\":\\\"white\\\",\\\"ticks\\\":\\\"\\\",\\\"linecolor\\\":\\\"white\\\"}},\\\"autotypenumbers\\\":\\\"strict\\\",\\\"font\\\":{\\\"color\\\":\\\"#2a3f5f\\\"},\\\"ternary\\\":{\\\"baxis\\\":{\\\"gridcolor\\\":\\\"white\\\",\\\"ticks\\\":\\\"\\\",\\\"linecolor\\\":\\\"white\\\"},\\\"bgcolor\\\":\\\"#E5ECF6\\\",\\\"caxis\\\":{\\\"gridcolor\\\":\\\"white\\\",\\\"ticks\\\":\\\"\\\",\\\"linecolor\\\":\\\"white\\\"},\\\"aaxis\\\":{\\\"gridcolor\\\":\\\"white\\\",\\\"ticks\\\":\\\"\\\",\\\"linecolor\\\":\\\"white\\\"}},\\\"annotationdefaults\\\":{\\\"arrowhead\\\":0,\\\"arrowwidth\\\":1,\\\"arrowcolor\\\":\\\"#2a3f5f\\\"},\\\"plot_bgcolor\\\":\\\"#E5ECF6\\\",\\\"title\\\":{\\\"x\\\":0.05},\\\"scene\\\":{\\\"xaxis\\\":{\\\"gridcolor\\\":\\\"white\\\",\\\"gridwidth\\\":2,\\\"backgroundcolor\\\":\\\"#E5ECF6\\\",\\\"ticks\\\":\\\"\\\",\\\"showbackground\\\":true,\\\"zerolinecolor\\\":\\\"white\\\",\\\"linecolor\\\":\\\"white\\\"},\\\"zaxis\\\":{\\\"gridcolor\\\":\\\"white\\\",\\\"gridwidth\\\":2,\\\"backgroundcolor\\\":\\\"#E5ECF6\\\",\\\"ticks\\\":\\\"\\\",\\\"showbackground\\\":true,\\\"zerolinecolor\\\":\\\"white\\\",\\\"linecolor\\\":\\\"white\\\"},\\\"yaxis\\\":{\\\"gridcolor\\\":\\\"white\\\",\\\"gridwidth\\\":2,\\\"backgroundcolor\\\":\\\"#E5ECF6\\\",\\\"ticks\\\":\\\"\\\",\\\"showbackground\\\":true,\\\"zerolinecolor\\\":\\\"white\\\",\\\"linecolor\\\":\\\"white\\\"}},\\\"colorway\\\":[\\\"#636efa\\\",\\\"#EF553B\\\",\\\"#00cc96\\\",\\\"#ab63fa\\\",\\\"#FFA15A\\\",\\\"#19d3f3\\\",\\\"#FF6692\\\",\\\"#B6E880\\\",\\\"#FF97FF\\\",\\\"#FECB52\\\"]},\\\"data\\\":{\\\"barpolar\\\":[{\\\"type\\\":\\\"barpolar\\\",\\\"marker\\\":{\\\"line\\\":{\\\"color\\\":\\\"#E5ECF6\\\",\\\"width\\\":0.5}}}],\\\"carpet\\\":[{\\\"aaxis\\\":{\\\"gridcolor\\\":\\\"white\\\",\\\"endlinecolor\\\":\\\"#2a3f5f\\\",\\\"minorgridcolor\\\":\\\"white\\\",\\\"startlinecolor\\\":\\\"#2a3f5f\\\",\\\"linecolor\\\":\\\"white\\\"},\\\"type\\\":\\\"carpet\\\",\\\"baxis\\\":{\\\"gridcolor\\\":\\\"white\\\",\\\"endlinecolor\\\":\\\"#2a3f5f\\\",\\\"minorgridcolor\\\":\\\"white\\\",\\\"startlinecolor\\\":\\\"#2a3f5f\\\",\\\"linecolor\\\":\\\"white\\\"}}],\\\"scatterpolar\\\":[{\\\"type\\\":\\\"scatterpolar\\\",\\\"marker\\\":{\\\"colorbar\\\":{\\\"ticks\\\":\\\"\\\",\\\"outlinewidth\\\":0}}}],\\\"parcoords\\\":[{\\\"line\\\":{\\\"colorbar\\\":{\\\"ticks\\\":\\\"\\\",\\\"outlinewidth\\\":0}},\\\"type\\\":\\\"parcoords\\\"}],\\\"scatter\\\":[{\\\"type\\\":\\\"scatter\\\",\\\"marker\\\":{\\\"colorbar\\\":{\\\"ticks\\\":\\\"\\\",\\\"outlinewidth\\\":0}}}],\\\"histogram2dcontour\\\":[{\\\"colorbar\\\":{\\\"ticks\\\":\\\"\\\",\\\"outlinewidth\\\":0},\\\"type\\\":\\\"histogram2dcontour\\\",\\\"colorscale\\\":[[0.0,\\\"#0d0887\\\"],[0.1111111111111111,\\\"#46039f\\\"],[0.2222222222222222,\\\"#7201a8\\\"],[0.3333333333333333,\\\"#9c179e\\\"],[0.4444444444444444,\\\"#bd3786\\\"],[0.5555555555555556,\\\"#d8576b\\\"],[0.6666666666666666,\\\"#ed7953\\\"],[0.7777777777777778,\\\"#fb9f3a\\\"],[0.8888888888888888,\\\"#fdca26\\\"],[1.0,\\\"#f0f921\\\"]]}],\\\"contour\\\":[{\\\"colorbar\\\":{\\\"ticks\\\":\\\"\\\",\\\"outlinewidth\\\":0},\\\"type\\\":\\\"contour\\\",\\\"colorscale\\\":[[0.0,\\\"#0d0887\\\"],[0.1111111111111111,\\\"#46039f\\\"],[0.2222222222222222,\\\"#7201a8\\\"],[0.3333333333333333,\\\"#9c179e\\\"],[0.4444444444444444,\\\"#bd3786\\\"],[0.5555555555555556,\\\"#d8576b\\\"],[0.6666666666666666,\\\"#ed7953\\\"],[0.7777777777777778,\\\"#fb9f3a\\\"],[0.8888888888888888,\\\"#fdca26\\\"],[1.0,\\\"#f0f921\\\"]]}],\\\"scattercarpet\\\":[{\\\"type\\\":\\\"scattercarpet\\\",\\\"marker\\\":{\\\"colorbar\\\":{\\\"ticks\\\":\\\"\\\",\\\"outlinewidth\\\":0}}}],\\\"mesh3d\\\":[{\\\"colorbar\\\":{\\\"ticks\\\":\\\"\\\",\\\"outlinewidth\\\":0},\\\"type\\\":\\\"mesh3d\\\"}],\\\"surface\\\":[{\\\"colorbar\\\":{\\\"ticks\\\":\\\"\\\",\\\"outlinewidth\\\":0},\\\"type\\\":\\\"surface\\\",\\\"colorscale\\\":[[0.0,\\\"#0d0887\\\"],[0.1111111111111111,\\\"#46039f\\\"],[0.2222222222222222,\\\"#7201a8\\\"],[0.3333333333333333,\\\"#9c179e\\\"],[0.4444444444444444,\\\"#bd3786\\\"],[0.5555555555555556,\\\"#d8576b\\\"],[0.6666666666666666,\\\"#ed7953\\\"],[0.7777777777777778,\\\"#fb9f3a\\\"],[0.8888888888888888,\\\"#fdca26\\\"],[1.0,\\\"#f0f921\\\"]]}],\\\"scattermapbox\\\":[{\\\"type\\\":\\\"scattermapbox\\\",\\\"marker\\\":{\\\"colorbar\\\":{\\\"ticks\\\":\\\"\\\",\\\"outlinewidth\\\":0}}}],\\\"scattergeo\\\":[{\\\"type\\\":\\\"scattergeo\\\",\\\"marker\\\":{\\\"colorbar\\\":{\\\"ticks\\\":\\\"\\\",\\\"outlinewidth\\\":0}}}],\\\"histogram\\\":[{\\\"type\\\":\\\"histogram\\\",\\\"marker\\\":{\\\"colorbar\\\":{\\\"ticks\\\":\\\"\\\",\\\"outlinewidth\\\":0}}}],\\\"pie\\\":[{\\\"type\\\":\\\"pie\\\",\\\"automargin\\\":true}],\\\"choropleth\\\":[{\\\"colorbar\\\":{\\\"ticks\\\":\\\"\\\",\\\"outlinewidth\\\":0},\\\"type\\\":\\\"choropleth\\\"}],\\\"heatmapgl\\\":[{\\\"colorbar\\\":{\\\"ticks\\\":\\\"\\\",\\\"outlinewidth\\\":0},\\\"type\\\":\\\"heatmapgl\\\",\\\"colorscale\\\":[[0.0,\\\"#0d0887\\\"],[0.1111111111111111,\\\"#46039f\\\"],[0.2222222222222222,\\\"#7201a8\\\"],[0.3333333333333333,\\\"#9c179e\\\"],[0.4444444444444444,\\\"#bd3786\\\"],[0.5555555555555556,\\\"#d8576b\\\"],[0.6666666666666666,\\\"#ed7953\\\"],[0.7777777777777778,\\\"#fb9f3a\\\"],[0.8888888888888888,\\\"#fdca26\\\"],[1.0,\\\"#f0f921\\\"]]}],\\\"bar\\\":[{\\\"type\\\":\\\"bar\\\",\\\"error_y\\\":{\\\"color\\\":\\\"#2a3f5f\\\"},\\\"error_x\\\":{\\\"color\\\":\\\"#2a3f5f\\\"},\\\"marker\\\":{\\\"line\\\":{\\\"color\\\":\\\"#E5ECF6\\\",\\\"width\\\":0.5}}}],\\\"heatmap\\\":[{\\\"colorbar\\\":{\\\"ticks\\\":\\\"\\\",\\\"outlinewidth\\\":0},\\\"type\\\":\\\"heatmap\\\",\\\"colorscale\\\":[[0.0,\\\"#0d0887\\\"],[0.1111111111111111,\\\"#46039f\\\"],[0.2222222222222222,\\\"#7201a8\\\"],[0.3333333333333333,\\\"#9c179e\\\"],[0.4444444444444444,\\\"#bd3786\\\"],[0.5555555555555556,\\\"#d8576b\\\"],[0.6666666666666666,\\\"#ed7953\\\"],[0.7777777777777778,\\\"#fb9f3a\\\"],[0.8888888888888888,\\\"#fdca26\\\"],[1.0,\\\"#f0f921\\\"]]}],\\\"contourcarpet\\\":[{\\\"colorbar\\\":{\\\"ticks\\\":\\\"\\\",\\\"outlinewidth\\\":0},\\\"type\\\":\\\"contourcarpet\\\"}],\\\"table\\\":[{\\\"type\\\":\\\"table\\\",\\\"header\\\":{\\\"line\\\":{\\\"color\\\":\\\"white\\\"},\\\"fill\\\":{\\\"color\\\":\\\"#C8D4E3\\\"}},\\\"cells\\\":{\\\"line\\\":{\\\"color\\\":\\\"white\\\"},\\\"fill\\\":{\\\"color\\\":\\\"#EBF0F8\\\"}}}],\\\"scatter3d\\\":[{\\\"line\\\":{\\\"colorbar\\\":{\\\"ticks\\\":\\\"\\\",\\\"outlinewidth\\\":0}},\\\"type\\\":\\\"scatter3d\\\",\\\"marker\\\":{\\\"colorbar\\\":{\\\"ticks\\\":\\\"\\\",\\\"outlinewidth\\\":0}}}],\\\"scattergl\\\":[{\\\"type\\\":\\\"scattergl\\\",\\\"marker\\\":{\\\"colorbar\\\":{\\\"ticks\\\":\\\"\\\",\\\"outlinewidth\\\":0}}}],\\\"histogram2d\\\":[{\\\"colorbar\\\":{\\\"ticks\\\":\\\"\\\",\\\"outlinewidth\\\":0},\\\"type\\\":\\\"histogram2d\\\",\\\"colorscale\\\":[[0.0,\\\"#0d0887\\\"],[0.1111111111111111,\\\"#46039f\\\"],[0.2222222222222222,\\\"#7201a8\\\"],[0.3333333333333333,\\\"#9c179e\\\"],[0.4444444444444444,\\\"#bd3786\\\"],[0.5555555555555556,\\\"#d8576b\\\"],[0.6666666666666666,\\\"#ed7953\\\"],[0.7777777777777778,\\\"#fb9f3a\\\"],[0.8888888888888888,\\\"#fdca26\\\"],[1.0,\\\"#f0f921\\\"]]}],\\\"scatterternary\\\":[{\\\"type\\\":\\\"scatterternary\\\",\\\"marker\\\":{\\\"colorbar\\\":{\\\"ticks\\\":\\\"\\\",\\\"outlinewidth\\\":0}}}],\\\"scatterpolargl\\\":[{\\\"type\\\":\\\"scatterpolargl\\\",\\\"marker\\\":{\\\"colorbar\\\":{\\\"ticks\\\":\\\"\\\",\\\"outlinewidth\\\":0}}}]}},\\\"yaxis\\\":{\\\"showgrid\\\":false,\\\"zeroline\\\":false,\\\"tickvals\\\":[],\\\"scaleanchor\\\":\\\"x\\\",\\\"scaleratio\\\":1,\\\"title\\\":{\\\"text\\\":\\\"\\\"},\\\"showbackground\\\":false,\\\"range\\\":[-0.9326920704511052,0.9326920704511052]},\\\"autosize\\\":false,\\\"annotations\\\":[{\\\"arrowcolor\\\":\\\"rgb(39,60,117)\\\",\\\"showarrow\\\":true,\\\"yref\\\":\\\"ay\\\",\\\"arrowsize\\\":0.5,\\\"arrowhead\\\":2,\\\"axref\\\":\\\"x\\\",\\\"y\\\":0.0,\\\"ax\\\":0.95,\\\"ay\\\":0.0,\\\"ayref\\\":\\\"y\\\",\\\"arrowwidth\\\":6,\\\"xref\\\":\\\"ax\\\",\\\"x\\\":1.05},{\\\"arrowcolor\\\":\\\"rgb(39,60,117)\\\",\\\"showarrow\\\":true,\\\"yref\\\":\\\"ay\\\",\\\"arrowsize\\\":0.5,\\\"arrowhead\\\":2,\\\"axref\\\":\\\"x\\\",\\\"y\\\":0.9093266739736605,\\\"ax\\\":0.475,\\\"ay\\\":0.8227241335952167,\\\"ayref\\\":\\\"y\\\",\\\"arrowwidth\\\":6,\\\"xref\\\":\\\"ax\\\",\\\"x\\\":0.525},{\\\"arrowcolor\\\":\\\"rgb(194,54,22)\\\",\\\"showarrow\\\":true,\\\"yref\\\":\\\"ay\\\",\\\"arrowsize\\\":0.5,\\\"arrowhead\\\":2,\\\"axref\\\":\\\"x\\\",\\\"y\\\":0.0,\\\"ax\\\":0.6499999999999999,\\\"ay\\\":0.0,\\\"ayref\\\":\\\"y\\\",\\\"arrowwidth\\\":6,\\\"xref\\\":\\\"ax\\\",\\\"x\\\":0.75},{\\\"arrowcolor\\\":\\\"rgb(194,54,22)\\\",\\\"showarrow\\\":true,\\\"yref\\\":\\\"ay\\\",\\\"arrowsize\\\":0.5,\\\"arrowhead\\\":2,\\\"axref\\\":\\\"x\\\",\\\"y\\\":0.8273502691896257,\\\"ax\\\":0.0,\\\"ay\\\":0.7273502691896256,\\\"ayref\\\":\\\"y\\\",\\\"arrowwidth\\\":6,\\\"xref\\\":\\\"ax\\\",\\\"x\\\":0.0}],\\\"plot_bgcolor\\\":\\\"rgba(255, 255, 255, 1)\\\",\\\"margin\\\":{\\\"l\\\":50,\\\"b\\\":50,\\\"r\\\":50,\\\"t\\\":60},\\\"aspectmode\\\":\\\"data\\\"},{\\\"displaylogo\\\":false,\\\"showLink\\\":false,\\\"editable\\\":false,\\\"responsive\\\":true,\\\"staticPlot\\\":false,\\\"scrollZoom\\\":true}); gd.on(\\\"plotly_hover\\\",(function (data){var filtered_data=WebIO.PlotlyCommands.filterEventData(gd,data,\\\"hover\\\"); return !(filtered_data.isnil) ? (WebIO.setval({\\\"name\\\":\\\"hover\\\",\\\"scope\\\":\\\"10854693378211351120\\\",\\\"id\\\":\\\"121\\\",\\\"type\\\":\\\"observable\\\"},filtered_data.out)) : undefined})); gd.on(\\\"plotly_unhover\\\",(function (){return WebIO.setval({\\\"name\\\":\\\"hover\\\",\\\"scope\\\":\\\"10854693378211351120\\\",\\\"id\\\":\\\"121\\\",\\\"type\\\":\\\"observable\\\"},{})})); gd.on(\\\"plotly_selected\\\",(function (data){var filtered_data=WebIO.PlotlyCommands.filterEventData(gd,data,\\\"selected\\\"); return !(filtered_data.isnil) ? (WebIO.setval({\\\"name\\\":\\\"selected\\\",\\\"scope\\\":\\\"10854693378211351120\\\",\\\"id\\\":\\\"122\\\",\\\"type\\\":\\\"observable\\\"},filtered_data.out)) : undefined})); gd.on(\\\"plotly_deselect\\\",(function (){return WebIO.setval({\\\"name\\\":\\\"selected\\\",\\\"scope\\\":\\\"10854693378211351120\\\",\\\"id\\\":\\\"122\\\",\\\"type\\\":\\\"observable\\\"},{})})); gd.on(\\\"plotly_relayout\\\",(function (data){var filtered_data=WebIO.PlotlyCommands.filterEventData(gd,data,\\\"relayout\\\"); return !(filtered_data.isnil) ? (WebIO.setval({\\\"name\\\":\\\"relayout\\\",\\\"scope\\\":\\\"10854693378211351120\\\",\\\"id\\\":\\\"124\\\",\\\"type\\\":\\\"observable\\\"},filtered_data.out)) : undefined})); return gd.on(\\\"plotly_click\\\",(function (data){var filtered_data=WebIO.PlotlyCommands.filterEventData(gd,data,\\\"click\\\"); return !(filtered_data.isnil) ? (WebIO.setval({\\\"name\\\":\\\"click\\\",\\\"scope\\\":\\\"10854693378211351120\\\",\\\"id\\\":\\\"123\\\",\\\"type\\\":\\\"observable\\\"},filtered_data.out)) : undefined}))}));\\n    (WebIO.importBlock({\\\"data\\\":[{\\\"name\\\":\\\"Plotly\\\",\\\"type\\\":\\\"js\\\",\\\"url\\\":\\\"\\/assetserver\\/b267c3137400db01c304fe886fe6f707be7fdb37-plotly.min.js\\\"},{\\\"name\\\":null,\\\"type\\\":\\\"js\\\",\\\"url\\\":\\\"\\/assetserver\\/020f2e8a4619f2ae880fff9315e6547eef1aff0b-plotly_webio.bundle.js\\\"}],\\\"type\\\":\\\"async_block\\\"})).then((imports) => handler.apply(this, imports));\\n}\\n\"],\"observables\":{\"_toImage\":{\"sync\":false,\"id\":\"128\",\"value\":{}},\"hover\":{\"sync\":false,\"id\":\"121\",\"value\":{}},\"selected\":{\"sync\":false,\"id\":\"122\",\"value\":{}},\"__gd_contents\":{\"sync\":false,\"id\":\"126\",\"value\":{}},\"click\":{\"sync\":false,\"id\":\"123\",\"value\":{}},\"image\":{\"sync\":true,\"id\":\"125\",\"value\":\"\"},\"__get_gd_contents\":{\"sync\":false,\"id\":\"130\",\"value\":\"\"},\"_downloadImage\":{\"sync\":false,\"id\":\"129\",\"value\":{}},\"relayout\":{\"sync\":false,\"id\":\"124\",\"value\":{}},\"_commands\":{\"sync\":false,\"id\":\"127\",\"value\":[]}}},\"children\":[{\"props\":{\"id\":\"plot-1c94e7ee-f334-4d35-abd7-f7b5c61feebb\"},\"nodeType\":\"DOM\",\"type\":\"node\",\"instanceArgs\":{\"namespace\":\"html\",\"tag\":\"div\"},\"children\":[]}]},\n",
       "        window,\n",
       "    );\n",
       "    })()\n",
       "    </script>\n",
       "</div>\n"
      ],
      "text/plain": [
       "data: [\n",
       "  \"scatter with fields hoverinfo, hovertext, line, mode, type, x, and y\",\n",
       "  \"scatter with fields hoverinfo, hovertext, line, mode, type, x, and y\",\n",
       "  \"scatter with fields hoverinfo, hovertext, line, mode, type, x, and y\",\n",
       "  \"scatter with fields hoverinfo, hovertext, line, mode, type, x, and y\",\n",
       "  \"scatter with fields hoverinfo, hovertext, line, mode, type, x, and y\",\n",
       "  \"scatter with fields hoverinfo, hovertext, line, mode, type, x, and y\",\n",
       "  \"scatter with fields hoverinfo, hovertext, line, mode, type, x, and y\",\n",
       "  \"scatter with fields hoverinfo, hovertext, line, mode, type, x, and y\",\n",
       "  \"scatter with fields hoverinfo, hovertext, line, mode, type, x, and y\"\n",
       "]\n",
       "\n",
       "layout: \"layout with fields annotations, aspectmode, autosize, hovermode, margin, paper_bgcolor, plot_bgcolor, showlegend, template, xaxis, and yaxis\"\n",
       "\n"
      ]
     },
     "metadata": {},
     "output_type": "display_data"
    }
   ],
   "source": [
    "let\n",
    "    print(\"--- Plotting the Wigner-Seitz cell in real space. \\n\")\n",
    "    print(\"\\n\")\n",
    "\n",
    "    As = [real_basis[i, :] for i ∈ 1 : size(real_basis, 1)]\n",
    "    real_wignerseitz = wignerseitz(As)\n",
    "\n",
    "    vertices = real_wignerseitz.verts\n",
    "\n",
    "    print(\"--- Vertices of the real Wigner-Seitz cell (in reduced coordinates): \\n\")\n",
    "    for v ∈ vertices\n",
    "        @printf(\"%10f %10f \\n\", v[1], v[2])\n",
    "    end\n",
    "\n",
    "    cvecs = make_cartesian(vertices, As)\n",
    "\n",
    "    print(\"\\n\")\n",
    "    print(\"--- Vertices of the real Wigner-Seitz cell (in cartesian coordinates): \\n\")\n",
    "    for v ∈ cvecs\n",
    "        @printf(\"%10f %10f \\n\", v[1], v[2])\n",
    "    end\n",
    "\n",
    "    pbzb = plot(real_wignerseitz)\n",
    "    savefig(pbzb, assets_dir * \"real_pbzb.png\")\n",
    "    display(pbzb)\n",
    "\n",
    "end"
   ]
  },
  {
   "cell_type": "code",
   "execution_count": 53,
   "metadata": {},
   "outputs": [
    {
     "name": "stdout",
     "output_type": "stream",
     "text": [
      "--- Plotting the Wigner-Seitz cell in reciprocal space. \n",
      "\n",
      "--- Vertices of the reciprocal Wigner-Seitz cell (in reduced coordinates): \n",
      " -0.333333   0.333333 \n",
      " -0.666667  -0.333333 \n",
      " -0.333333  -0.666667 \n",
      "  0.333333  -0.333333 \n",
      "  0.666667   0.333333 \n",
      "  0.333333   0.666667 \n",
      "\n",
      "--- Vertices of the reciprocal Wigner-Seitz cell (in cartesian coordinates): \n",
      " -0.333333   0.577350 \n",
      " -0.666667   0.000000 \n",
      " -0.333333  -0.577350 \n",
      "  0.333333  -0.577350 \n",
      "  0.666667   0.000000 \n",
      "  0.333333   0.577350 \n"
     ]
    },
    {
     "data": {
      "application/vnd.plotly.v1+json": {
       "config": {
        "displaylogo": false,
        "editable": false,
        "responsive": true,
        "scrollZoom": true,
        "showLink": false,
        "staticPlot": false
       },
       "data": [
        {
         "hoverinfo": "text+x+y",
         "hovertext": "Cell",
         "line": {
          "color": "rgb(47,54,64)",
          "width": 3
         },
         "mode": "lines",
         "type": "scatter",
         "x": [
          -0.6666666666666667,
          -0.33333333333333326,
          0.33333333333333337,
          0.6666666666666667,
          0.33333333333333326,
          -0.33333333333333326,
          -0.6666666666666667
         ],
         "y": [
          0,
          -0.5773502691896258,
          -0.5773502691896258,
          0,
          0.5773502691896258,
          0.5773502691896258,
          0
         ]
        },
        {
         "hoverinfo": "text",
         "hovertext": "<b>v</b><sub>1</sub>",
         "line": {
          "color": "rgb(212,216,227)",
          "width": 5
         },
         "mode": "lines",
         "type": "scatter",
         "x": [
          0,
          0.475
         ],
         "y": [
          0,
          -0.2742413778650723
         ]
        },
        {
         "hoverinfo": "text",
         "hovertext": "<b>v</b><sub>2</sub>",
         "line": {
          "color": "rgb(212,216,227)",
          "width": 5
         },
         "mode": "lines",
         "type": "scatter",
         "x": [
          0,
          0
         ],
         "y": [
          0,
          0.5484827557301446
         ]
        },
        {
         "hoverinfo": "text+x+y",
         "hovertext": "<b>v</b><sub>1</sub>",
         "line": {
          "color": "rgb(39,60,117)",
          "width": 6
         },
         "mode": "lines",
         "type": "scatter",
         "x": [
          0.525,
          1
         ],
         "y": [
          -0.30310889132455354,
          -0.5773502691896258
         ]
        },
        {
         "hoverinfo": "text+x+y",
         "hovertext": "<b>v</b><sub>2</sub>",
         "line": {
          "color": "rgb(39,60,117)",
          "width": 6
         },
         "mode": "lines",
         "type": "scatter",
         "x": [
          0,
          0
         ],
         "y": [
          0.6062177826491071,
          1.1547005383792517
         ]
        },
        {
         "hoverinfo": "text",
         "hovertext": "<b>x</b>",
         "line": {
          "color": "rgb(242,215,208)",
          "width": 5
         },
         "mode": "lines",
         "type": "scatter",
         "x": [
          0,
          0.6377991532071855
         ],
         "y": [
          0,
          0
         ]
        },
        {
         "hoverinfo": "text",
         "hovertext": "<b>y</b>",
         "line": {
          "color": "rgb(242,215,208)",
          "width": 5
         },
         "mode": "lines",
         "type": "scatter",
         "x": [
          0,
          0
         ],
         "y": [
          0,
          0.5484827557301446
         ]
        },
        {
         "hoverinfo": "text",
         "hovertext": "<b>x</b>",
         "line": {
          "color": "rgb(194,54,22)",
          "width": 6
         },
         "mode": "lines",
         "type": "scatter",
         "x": [
          0.695534180126148,
          0.8976067743425171
         ],
         "y": [
          0,
          0
         ]
        },
        {
         "hoverinfo": "text",
         "hovertext": "<b>y</b>",
         "line": {
          "color": "rgb(194,54,22)",
          "width": 6
         },
         "mode": "lines",
         "type": "scatter",
         "x": [
          0,
          0
         ],
         "y": [
          0.6062177826491071,
          0.8082903768654762
         ]
        }
       ],
       "frames": [],
       "layout": {
        "annotations": [
         {
          "arrowcolor": "rgb(39,60,117)",
          "arrowhead": 2,
          "arrowsize": 0.5,
          "arrowwidth": 6,
          "ax": 0.95,
          "axref": "x",
          "ay": -0.5484827557301446,
          "ayref": "y",
          "showarrow": true,
          "x": 1.05,
          "xref": "ax",
          "y": -0.6062177826491071,
          "yref": "ay"
         },
         {
          "arrowcolor": "rgb(39,60,117)",
          "arrowhead": 2,
          "arrowsize": 0.5,
          "arrowwidth": 6,
          "ax": 0,
          "axref": "x",
          "ay": 1.0969655114602892,
          "ayref": "y",
          "showarrow": true,
          "x": 0,
          "xref": "ax",
          "y": 1.2124355652982142,
          "yref": "ay"
         },
         {
          "arrowcolor": "rgb(194,54,22)",
          "arrowhead": 2,
          "arrowsize": 0.5,
          "arrowwidth": 6,
          "ax": 0.8398717474235545,
          "axref": "x",
          "ay": 0,
          "ayref": "y",
          "showarrow": true,
          "x": 0.9553418012614797,
          "xref": "ax",
          "y": 0,
          "yref": "ay"
         },
         {
          "arrowcolor": "rgb(194,54,22)",
          "arrowhead": 2,
          "arrowsize": 0.5,
          "arrowwidth": 6,
          "ax": 0,
          "axref": "x",
          "ay": 0.7505553499465136,
          "ayref": "y",
          "showarrow": true,
          "x": 0,
          "xref": "ax",
          "y": 0.8660254037844388,
          "yref": "ay"
         }
        ],
        "aspectmode": "data",
        "autosize": false,
        "hovermode": "closest",
        "margin": {
         "b": 50,
         "l": 50,
         "r": 50,
         "t": 60
        },
        "paper_bgcolor": "rgba(255, 255, 255, 1)",
        "plot_bgcolor": "rgba(255, 255, 255, 1)",
        "showlegend": false,
        "template": {
         "data": {
          "bar": [
           {
            "error_x": {
             "color": "#2a3f5f"
            },
            "error_y": {
             "color": "#2a3f5f"
            },
            "marker": {
             "line": {
              "color": "#E5ECF6",
              "width": 0.5
             }
            },
            "type": "bar"
           }
          ],
          "barpolar": [
           {
            "marker": {
             "line": {
              "color": "#E5ECF6",
              "width": 0.5
             }
            },
            "type": "barpolar"
           }
          ],
          "carpet": [
           {
            "aaxis": {
             "endlinecolor": "#2a3f5f",
             "gridcolor": "white",
             "linecolor": "white",
             "minorgridcolor": "white",
             "startlinecolor": "#2a3f5f"
            },
            "baxis": {
             "endlinecolor": "#2a3f5f",
             "gridcolor": "white",
             "linecolor": "white",
             "minorgridcolor": "white",
             "startlinecolor": "#2a3f5f"
            },
            "type": "carpet"
           }
          ],
          "choropleth": [
           {
            "colorbar": {
             "outlinewidth": 0,
             "ticks": ""
            },
            "type": "choropleth"
           }
          ],
          "contour": [
           {
            "colorbar": {
             "outlinewidth": 0,
             "ticks": ""
            },
            "colorscale": [
             [
              0,
              "#0d0887"
             ],
             [
              0.1111111111111111,
              "#46039f"
             ],
             [
              0.2222222222222222,
              "#7201a8"
             ],
             [
              0.3333333333333333,
              "#9c179e"
             ],
             [
              0.4444444444444444,
              "#bd3786"
             ],
             [
              0.5555555555555556,
              "#d8576b"
             ],
             [
              0.6666666666666666,
              "#ed7953"
             ],
             [
              0.7777777777777778,
              "#fb9f3a"
             ],
             [
              0.8888888888888888,
              "#fdca26"
             ],
             [
              1,
              "#f0f921"
             ]
            ],
            "type": "contour"
           }
          ],
          "contourcarpet": [
           {
            "colorbar": {
             "outlinewidth": 0,
             "ticks": ""
            },
            "type": "contourcarpet"
           }
          ],
          "heatmap": [
           {
            "colorbar": {
             "outlinewidth": 0,
             "ticks": ""
            },
            "colorscale": [
             [
              0,
              "#0d0887"
             ],
             [
              0.1111111111111111,
              "#46039f"
             ],
             [
              0.2222222222222222,
              "#7201a8"
             ],
             [
              0.3333333333333333,
              "#9c179e"
             ],
             [
              0.4444444444444444,
              "#bd3786"
             ],
             [
              0.5555555555555556,
              "#d8576b"
             ],
             [
              0.6666666666666666,
              "#ed7953"
             ],
             [
              0.7777777777777778,
              "#fb9f3a"
             ],
             [
              0.8888888888888888,
              "#fdca26"
             ],
             [
              1,
              "#f0f921"
             ]
            ],
            "type": "heatmap"
           }
          ],
          "heatmapgl": [
           {
            "colorbar": {
             "outlinewidth": 0,
             "ticks": ""
            },
            "colorscale": [
             [
              0,
              "#0d0887"
             ],
             [
              0.1111111111111111,
              "#46039f"
             ],
             [
              0.2222222222222222,
              "#7201a8"
             ],
             [
              0.3333333333333333,
              "#9c179e"
             ],
             [
              0.4444444444444444,
              "#bd3786"
             ],
             [
              0.5555555555555556,
              "#d8576b"
             ],
             [
              0.6666666666666666,
              "#ed7953"
             ],
             [
              0.7777777777777778,
              "#fb9f3a"
             ],
             [
              0.8888888888888888,
              "#fdca26"
             ],
             [
              1,
              "#f0f921"
             ]
            ],
            "type": "heatmapgl"
           }
          ],
          "histogram": [
           {
            "marker": {
             "colorbar": {
              "outlinewidth": 0,
              "ticks": ""
             }
            },
            "type": "histogram"
           }
          ],
          "histogram2d": [
           {
            "colorbar": {
             "outlinewidth": 0,
             "ticks": ""
            },
            "colorscale": [
             [
              0,
              "#0d0887"
             ],
             [
              0.1111111111111111,
              "#46039f"
             ],
             [
              0.2222222222222222,
              "#7201a8"
             ],
             [
              0.3333333333333333,
              "#9c179e"
             ],
             [
              0.4444444444444444,
              "#bd3786"
             ],
             [
              0.5555555555555556,
              "#d8576b"
             ],
             [
              0.6666666666666666,
              "#ed7953"
             ],
             [
              0.7777777777777778,
              "#fb9f3a"
             ],
             [
              0.8888888888888888,
              "#fdca26"
             ],
             [
              1,
              "#f0f921"
             ]
            ],
            "type": "histogram2d"
           }
          ],
          "histogram2dcontour": [
           {
            "colorbar": {
             "outlinewidth": 0,
             "ticks": ""
            },
            "colorscale": [
             [
              0,
              "#0d0887"
             ],
             [
              0.1111111111111111,
              "#46039f"
             ],
             [
              0.2222222222222222,
              "#7201a8"
             ],
             [
              0.3333333333333333,
              "#9c179e"
             ],
             [
              0.4444444444444444,
              "#bd3786"
             ],
             [
              0.5555555555555556,
              "#d8576b"
             ],
             [
              0.6666666666666666,
              "#ed7953"
             ],
             [
              0.7777777777777778,
              "#fb9f3a"
             ],
             [
              0.8888888888888888,
              "#fdca26"
             ],
             [
              1,
              "#f0f921"
             ]
            ],
            "type": "histogram2dcontour"
           }
          ],
          "mesh3d": [
           {
            "colorbar": {
             "outlinewidth": 0,
             "ticks": ""
            },
            "type": "mesh3d"
           }
          ],
          "parcoords": [
           {
            "line": {
             "colorbar": {
              "outlinewidth": 0,
              "ticks": ""
             }
            },
            "type": "parcoords"
           }
          ],
          "pie": [
           {
            "automargin": true,
            "type": "pie"
           }
          ],
          "scatter": [
           {
            "marker": {
             "colorbar": {
              "outlinewidth": 0,
              "ticks": ""
             }
            },
            "type": "scatter"
           }
          ],
          "scatter3d": [
           {
            "line": {
             "colorbar": {
              "outlinewidth": 0,
              "ticks": ""
             }
            },
            "marker": {
             "colorbar": {
              "outlinewidth": 0,
              "ticks": ""
             }
            },
            "type": "scatter3d"
           }
          ],
          "scattercarpet": [
           {
            "marker": {
             "colorbar": {
              "outlinewidth": 0,
              "ticks": ""
             }
            },
            "type": "scattercarpet"
           }
          ],
          "scattergeo": [
           {
            "marker": {
             "colorbar": {
              "outlinewidth": 0,
              "ticks": ""
             }
            },
            "type": "scattergeo"
           }
          ],
          "scattergl": [
           {
            "marker": {
             "colorbar": {
              "outlinewidth": 0,
              "ticks": ""
             }
            },
            "type": "scattergl"
           }
          ],
          "scattermapbox": [
           {
            "marker": {
             "colorbar": {
              "outlinewidth": 0,
              "ticks": ""
             }
            },
            "type": "scattermapbox"
           }
          ],
          "scatterpolar": [
           {
            "marker": {
             "colorbar": {
              "outlinewidth": 0,
              "ticks": ""
             }
            },
            "type": "scatterpolar"
           }
          ],
          "scatterpolargl": [
           {
            "marker": {
             "colorbar": {
              "outlinewidth": 0,
              "ticks": ""
             }
            },
            "type": "scatterpolargl"
           }
          ],
          "scatterternary": [
           {
            "marker": {
             "colorbar": {
              "outlinewidth": 0,
              "ticks": ""
             }
            },
            "type": "scatterternary"
           }
          ],
          "surface": [
           {
            "colorbar": {
             "outlinewidth": 0,
             "ticks": ""
            },
            "colorscale": [
             [
              0,
              "#0d0887"
             ],
             [
              0.1111111111111111,
              "#46039f"
             ],
             [
              0.2222222222222222,
              "#7201a8"
             ],
             [
              0.3333333333333333,
              "#9c179e"
             ],
             [
              0.4444444444444444,
              "#bd3786"
             ],
             [
              0.5555555555555556,
              "#d8576b"
             ],
             [
              0.6666666666666666,
              "#ed7953"
             ],
             [
              0.7777777777777778,
              "#fb9f3a"
             ],
             [
              0.8888888888888888,
              "#fdca26"
             ],
             [
              1,
              "#f0f921"
             ]
            ],
            "type": "surface"
           }
          ],
          "table": [
           {
            "cells": {
             "fill": {
              "color": "#EBF0F8"
             },
             "line": {
              "color": "white"
             }
            },
            "header": {
             "fill": {
              "color": "#C8D4E3"
             },
             "line": {
              "color": "white"
             }
            },
            "type": "table"
           }
          ]
         },
         "layout": {
          "annotationdefaults": {
           "arrowcolor": "#2a3f5f",
           "arrowhead": 0,
           "arrowwidth": 1
          },
          "autotypenumbers": "strict",
          "coloraxis": {
           "colorbar": {
            "outlinewidth": 0,
            "ticks": ""
           }
          },
          "colorscale": {
           "diverging": [
            [
             0,
             "#8e0152"
            ],
            [
             0.1,
             "#c51b7d"
            ],
            [
             0.2,
             "#de77ae"
            ],
            [
             0.3,
             "#f1b6da"
            ],
            [
             0.4,
             "#fde0ef"
            ],
            [
             0.5,
             "#f7f7f7"
            ],
            [
             0.6,
             "#e6f5d0"
            ],
            [
             0.7,
             "#b8e186"
            ],
            [
             0.8,
             "#7fbc41"
            ],
            [
             0.9,
             "#4d9221"
            ],
            [
             1,
             "#276419"
            ]
           ],
           "sequential": [
            [
             0,
             "#0d0887"
            ],
            [
             0.1111111111111111,
             "#46039f"
            ],
            [
             0.2222222222222222,
             "#7201a8"
            ],
            [
             0.3333333333333333,
             "#9c179e"
            ],
            [
             0.4444444444444444,
             "#bd3786"
            ],
            [
             0.5555555555555556,
             "#d8576b"
            ],
            [
             0.6666666666666666,
             "#ed7953"
            ],
            [
             0.7777777777777778,
             "#fb9f3a"
            ],
            [
             0.8888888888888888,
             "#fdca26"
            ],
            [
             1,
             "#f0f921"
            ]
           ],
           "sequentialminus": [
            [
             0,
             "#0d0887"
            ],
            [
             0.1111111111111111,
             "#46039f"
            ],
            [
             0.2222222222222222,
             "#7201a8"
            ],
            [
             0.3333333333333333,
             "#9c179e"
            ],
            [
             0.4444444444444444,
             "#bd3786"
            ],
            [
             0.5555555555555556,
             "#d8576b"
            ],
            [
             0.6666666666666666,
             "#ed7953"
            ],
            [
             0.7777777777777778,
             "#fb9f3a"
            ],
            [
             0.8888888888888888,
             "#fdca26"
            ],
            [
             1,
             "#f0f921"
            ]
           ]
          },
          "colorway": [
           "#636efa",
           "#EF553B",
           "#00cc96",
           "#ab63fa",
           "#FFA15A",
           "#19d3f3",
           "#FF6692",
           "#B6E880",
           "#FF97FF",
           "#FECB52"
          ],
          "font": {
           "color": "#2a3f5f"
          },
          "geo": {
           "bgcolor": "white",
           "lakecolor": "white",
           "landcolor": "#E5ECF6",
           "showlakes": true,
           "showland": true,
           "subunitcolor": "white"
          },
          "hoverlabel": {
           "align": "left"
          },
          "hovermode": "closest",
          "mapbox": {
           "style": "light"
          },
          "paper_bgcolor": "white",
          "plot_bgcolor": "#E5ECF6",
          "polar": {
           "angularaxis": {
            "gridcolor": "white",
            "linecolor": "white",
            "ticks": ""
           },
           "bgcolor": "#E5ECF6",
           "radialaxis": {
            "gridcolor": "white",
            "linecolor": "white",
            "ticks": ""
           }
          },
          "scene": {
           "xaxis": {
            "backgroundcolor": "#E5ECF6",
            "gridcolor": "white",
            "gridwidth": 2,
            "linecolor": "white",
            "showbackground": true,
            "ticks": "",
            "zerolinecolor": "white"
           },
           "yaxis": {
            "backgroundcolor": "#E5ECF6",
            "gridcolor": "white",
            "gridwidth": 2,
            "linecolor": "white",
            "showbackground": true,
            "ticks": "",
            "zerolinecolor": "white"
           },
           "zaxis": {
            "backgroundcolor": "#E5ECF6",
            "gridcolor": "white",
            "gridwidth": 2,
            "linecolor": "white",
            "showbackground": true,
            "ticks": "",
            "zerolinecolor": "white"
           }
          },
          "shapedefaults": {
           "line": {
            "color": "#2a3f5f"
           }
          },
          "ternary": {
           "aaxis": {
            "gridcolor": "white",
            "linecolor": "white",
            "ticks": ""
           },
           "baxis": {
            "gridcolor": "white",
            "linecolor": "white",
            "ticks": ""
           },
           "bgcolor": "#E5ECF6",
           "caxis": {
            "gridcolor": "white",
            "linecolor": "white",
            "ticks": ""
           }
          },
          "title": {
           "x": 0.05
          },
          "xaxis": {
           "automargin": true,
           "gridcolor": "white",
           "linecolor": "white",
           "ticks": "",
           "title": {
            "standoff": 15
           },
           "zerolinecolor": "white",
           "zerolinewidth": 2
          },
          "yaxis": {
           "automargin": true,
           "gridcolor": "white",
           "linecolor": "white",
           "ticks": "",
           "title": {
            "standoff": 15
           },
           "zerolinecolor": "white",
           "zerolinewidth": 2
          }
         }
        },
        "xaxis": {
         "range": [
          -1.0769800358919501,
          1.0769800358919501
         ],
         "showbackground": false,
         "showgrid": false,
         "tickvals": [],
         "title": {
          "text": ""
         },
         "zeroline": false
        },
        "yaxis": {
         "range": [
          -1.2316805742712018,
          1.2316805742712018
         ],
         "scaleanchor": "x",
         "scaleratio": 1,
         "showbackground": false,
         "showgrid": false,
         "tickvals": [],
         "title": {
          "text": ""
         },
         "zeroline": false
        }
       }
      },
      "image/png": "[encoded data removed]",
      "image/svg+xml": [
       "<svg class=\"main-svg\" xmlns=\"http://www.w3.org/2000/svg\" xmlns:xlink=\"http://www.w3.org/1999/xlink\" width=\"700\" height=\"500\" style=\"\" viewBox=\"0 0 700 500\"><rect x=\"0\" y=\"0\" width=\"700\" height=\"500\" style=\"fill: rgb(255, 255, 255); fill-opacity: 1;\"/><defs id=\"defs-b6c8fe\"><g class=\"clips\"><clipPath id=\"clipb6c8fexyplot\" class=\"plotclip\"><rect width=\"600\" height=\"390\"/></clipPath><clipPath class=\"axesclip\" id=\"clipb6c8fex\"><rect x=\"50\" y=\"0\" width=\"600\" height=\"500\"/></clipPath><clipPath class=\"axesclip\" id=\"clipb6c8fey\"><rect x=\"0\" y=\"60\" width=\"700\" height=\"390\"/></clipPath><clipPath class=\"axesclip\" id=\"clipb6c8fexy\"><rect x=\"50\" y=\"60\" width=\"600\" height=\"390\"/></clipPath></g><g class=\"gradients\"/><g class=\"patterns\"/></defs><g class=\"bglayer\"/><g class=\"layer-below\"><g class=\"imagelayer\"/><g class=\"shapelayer\"/></g><g class=\"cartesianlayer\"><g class=\"subplot xy\"><g class=\"layer-subplot\"><g class=\"shapelayer\"/><g class=\"imagelayer\"/></g><g class=\"gridlayer\"><g class=\"x\"/><g class=\"y\"/></g><g class=\"zerolinelayer\"/><path class=\"xlines-below\"/><path class=\"ylines-below\"/><g class=\"overlines-below\"/><g class=\"xaxislayer-below\"/><g class=\"yaxislayer-below\"/><g class=\"overaxes-below\"/><g class=\"plot\" transform=\"translate(50,60)\" clip-path=\"url(#clipb6c8fexyplot)\"><g class=\"scatterlayer mlayer\"><g class=\"trace scatter trace9ef364\" style=\"stroke-miterlimit: 2; opacity: 1;\"><g class=\"fills\"/><g class=\"errorbars\"/><g class=\"lines\"><path class=\"js-line\" d=\"M194.45,195L247.23,286.41L352.77,286.41L405.55,195L352.77,103.59L247.23,103.59L194.45,195\" style=\"vector-effect: non-scaling-stroke; fill: none; stroke: rgb(47, 54, 64); stroke-opacity: 1; stroke-width: 3px; opacity: 1;\"/></g><g class=\"points\"/><g class=\"text\"/></g><g class=\"trace scatter tracead4ff9\" style=\"stroke-miterlimit: 2; opacity: 1;\"><g class=\"fills\"/><g class=\"errorbars\"/><g class=\"lines\"><path class=\"js-line\" d=\"M300,195L375.2,238.42\" style=\"vector-effect: non-scaling-stroke; fill: none; stroke: rgb(212, 216, 227); stroke-opacity: 1; stroke-width: 5px; opacity: 1;\"/></g><g class=\"points\"/><g class=\"text\"/></g><g class=\"trace scatter tracec52120\" style=\"stroke-miterlimit: 2; opacity: 1;\"><g class=\"fills\"/><g class=\"errorbars\"/><g class=\"lines\"><path class=\"js-line\" d=\"M300,195L300,108.16\" style=\"vector-effect: non-scaling-stroke; fill: none; stroke: rgb(212, 216, 227); stroke-opacity: 1; stroke-width: 5px; opacity: 1;\"/></g><g class=\"points\"/><g class=\"text\"/></g><g class=\"trace scatter trace3e83cf\" style=\"stroke-miterlimit: 2; opacity: 1;\"><g class=\"fills\"/><g class=\"errorbars\"/><g class=\"lines\"><path class=\"js-line\" d=\"M383.12,242.99L458.32,286.41\" style=\"vector-effect: non-scaling-stroke; fill: none; stroke: rgb(39, 60, 117); stroke-opacity: 1; stroke-width: 6px; opacity: 1;\"/></g><g class=\"points\"/><g class=\"text\"/></g><g class=\"trace scatter tracec08c10\" style=\"stroke-miterlimit: 2; opacity: 1;\"><g class=\"fills\"/><g class=\"errorbars\"/><g class=\"lines\"><path class=\"js-line\" d=\"M300,99.02L300,12.19\" style=\"vector-effect: non-scaling-stroke; fill: none; stroke: rgb(39, 60, 117); stroke-opacity: 1; stroke-width: 6px; opacity: 1;\"/></g><g class=\"points\"/><g class=\"text\"/></g><g class=\"trace scatter trace069b41\" style=\"stroke-miterlimit: 2; opacity: 1;\"><g class=\"fills\"/><g class=\"errorbars\"/><g class=\"lines\"><path class=\"js-line\" d=\"M300,195L400.98,195\" style=\"vector-effect: non-scaling-stroke; fill: none; stroke: rgb(242, 215, 208); stroke-opacity: 1; stroke-width: 5px; opacity: 1;\"/></g><g class=\"points\"/><g class=\"text\"/></g><g class=\"trace scatter tracec4d0fa\" style=\"stroke-miterlimit: 2; opacity: 1;\"><g class=\"fills\"/><g class=\"errorbars\"/><g class=\"lines\"><path class=\"js-line\" d=\"M300,195L300,108.16\" style=\"vector-effect: non-scaling-stroke; fill: none; stroke: rgb(242, 215, 208); stroke-opacity: 1; stroke-width: 5px; opacity: 1;\"/></g><g class=\"points\"/><g class=\"text\"/></g><g class=\"trace scatter trace73bb3f\" style=\"stroke-miterlimit: 2; opacity: 1;\"><g class=\"fills\"/><g class=\"errorbars\"/><g class=\"lines\"><path class=\"js-line\" d=\"M410.12,195L442.11,195\" style=\"vector-effect: non-scaling-stroke; fill: none; stroke: rgb(194, 54, 22); stroke-opacity: 1; stroke-width: 6px; opacity: 1;\"/></g><g class=\"points\"/><g class=\"text\"/></g><g class=\"trace scatter trace1e0c67\" style=\"stroke-miterlimit: 2; opacity: 1;\"><g class=\"fills\"/><g class=\"errorbars\"/><g class=\"lines\"><path class=\"js-line\" d=\"M300,99.02L300,67.03\" style=\"vector-effect: non-scaling-stroke; fill: none; stroke: rgb(194, 54, 22); stroke-opacity: 1; stroke-width: 6px; opacity: 1;\"/></g><g class=\"points\"/><g class=\"text\"/></g></g></g><g class=\"overplot\"/><path class=\"xlines-above crisp\" d=\"M0,0\" style=\"fill: none;\"/><path class=\"ylines-above crisp\" d=\"M0,0\" style=\"fill: none;\"/><g class=\"overlines-above\"/><g class=\"xaxislayer-above\"/><g class=\"yaxislayer-above\"/><g class=\"overaxes-above\"/></g></g><g class=\"polarlayer\"/><g class=\"ternarylayer\"/><g class=\"geolayer\"/><g class=\"funnelarealayer\"/><g class=\"pielayer\"/><g class=\"iciclelayer\"/><g class=\"treemaplayer\"/><g class=\"sunburstlayer\"/><g class=\"glimages\"/><defs id=\"topdefs-b6c8fe\"><g class=\"clips\"/></defs><g class=\"layer-above\"><g class=\"imagelayer\"/><g class=\"shapelayer\"/></g><g class=\"infolayer\"><g class=\"g-gtitle\"/><g class=\"g-xtitle\"/><g class=\"g-ytitle\"/><g class=\"annotation\" data-index=\"0\" style=\"opacity: 1;\"><g class=\"annotation-text-g\" transform=\"rotate(0,500.4,341.84)\"><g class=\"cursor-pointer\" transform=\"translate(497,331)\"><rect class=\"bg\" x=\"0.5\" y=\"0.5\" width=\"6\" height=\"20\" style=\"stroke-width: 1px; stroke: rgb(0, 0, 0); stroke-opacity: 0; fill: rgb(0, 0, 0); fill-opacity: 0;\"/><text class=\"annotation-text\" text-anchor=\"middle\" x=\"3.5625\" y=\"15\" style=\"font-family: 'Open Sans', verdana, arial, sans-serif; font-size: 12px; fill: rgb(42, 63, 95); fill-opacity: 1; white-space: pre;\"> </text></g></g><g class=\"annotation-arrow-g\" style=\"opacity: 1;\"><path d=\"M503.4,343.5710606060606L516.24,350.98\" style=\"stroke-width: 6px; stroke: rgb(39, 60, 117); stroke-opacity: 1; stroke-dasharray: 0px, 0px, 10.9242px, 14.8242px;\"/><path d=\"M-3.7,-2.5V2.5L1.3,0Z\" transform=\"translate(512.8619995117188,349.0308532714844)rotate(29.992124779489266)scale(3)\" style=\"fill: rgb(39, 60, 117); stroke-width: 0;\"/></g></g><g class=\"annotation\" data-index=\"1\" style=\"opacity: 1;\"><g class=\"annotation-text-g\" transform=\"rotate(0,350,81.33)\"><g class=\"cursor-pointer\" transform=\"translate(347,71)\"><rect class=\"bg\" x=\"0.5\" y=\"0.5\" width=\"6\" height=\"20\" style=\"stroke-width: 1px; stroke: rgb(0, 0, 0); stroke-opacity: 0; fill: rgb(0, 0, 0); fill-opacity: 0;\"/><text class=\"annotation-text\" text-anchor=\"middle\" x=\"3.5625\" y=\"15\" style=\"font-family: 'Open Sans', verdana, arial, sans-serif; font-size: 12px; fill: rgb(42, 63, 95); fill-opacity: 1; white-space: pre;\"> </text></g></g><g class=\"annotation-arrow-g\" style=\"opacity: 1;\"><path d=\"M350,71.33L350,63.05\" style=\"stroke-width: 6px; stroke: rgb(39, 60, 117); stroke-opacity: 1; stroke-dasharray: 0px, 0px, 4.38px, 8.28px;\"/><path d=\"M-3.7,-2.5V2.5L1.3,0Z\" transform=\"translate(350,66.94999694824219)rotate(-90)scale(3)\" style=\"fill: rgb(39, 60, 117); stroke-width: 0;\"/></g></g><g class=\"annotation\" data-index=\"2\" style=\"opacity: 1;\"><g class=\"annotation-text-g\" transform=\"rotate(0,482.97,255)\"><g class=\"cursor-pointer\" transform=\"translate(479,245)\"><rect class=\"bg\" x=\"0.5\" y=\"0.5\" width=\"6\" height=\"20\" style=\"stroke-width: 1px; stroke: rgb(0, 0, 0); stroke-opacity: 0; fill: rgb(0, 0, 0); fill-opacity: 0;\"/><text class=\"annotation-text\" text-anchor=\"middle\" x=\"3.5625\" y=\"15\" style=\"font-family: 'Open Sans', verdana, arial, sans-serif; font-size: 12px; fill: rgb(42, 63, 95); fill-opacity: 1; white-space: pre;\"> </text></g></g><g class=\"annotation-arrow-g\" style=\"opacity: 1;\"><path d=\"M485.97,255L501.25,255\" style=\"stroke-width: 6px; stroke: rgb(194, 54, 22); stroke-opacity: 1; stroke-dasharray: 0px, 0px, 11.38px, 15.28px;\"/><path d=\"M-3.7,-2.5V2.5L1.3,0Z\" transform=\"translate(497.3500061035156,255)scale(3)\" style=\"fill: rgb(194, 54, 22); stroke-width: 0;\"/></g></g><g class=\"annotation\" data-index=\"3\" style=\"opacity: 1;\"><g class=\"annotation-text-g\" transform=\"rotate(0,350,136.17000000000002)\"><g class=\"cursor-pointer\" transform=\"translate(347,126)\"><rect class=\"bg\" x=\"0.5\" y=\"0.5\" width=\"6\" height=\"20\" style=\"stroke-width: 1px; stroke: rgb(0, 0, 0); stroke-opacity: 0; fill: rgb(0, 0, 0); fill-opacity: 0;\"/><text class=\"annotation-text\" text-anchor=\"middle\" x=\"3.5625\" y=\"15\" style=\"font-family: 'Open Sans', verdana, arial, sans-serif; font-size: 12px; fill: rgb(42, 63, 95); fill-opacity: 1; white-space: pre;\"> </text></g></g><g class=\"annotation-arrow-g\" style=\"opacity: 1;\"><path d=\"M350,126.17000000000002L350,117.89\" style=\"stroke-width: 6px; stroke: rgb(194, 54, 22); stroke-opacity: 1; stroke-dasharray: 0px, 0px, 4.38px, 8.28px;\"/><path d=\"M-3.7,-2.5V2.5L1.3,0Z\" transform=\"translate(350,121.79000091552734)rotate(-90)scale(3)\" style=\"fill: rgb(194, 54, 22); stroke-width: 0;\"/></g></g></g></svg>"
      ],
      "text/html": [
       "<div\n",
       "    class=\"webio-mountpoint\"\n",
       "    data-webio-mountpoint=\"2886641313816965584\"\n",
       ">\n",
       "    <script>\n",
       "    (function(){\n",
       "    // Some integrations (namely, IJulia/Jupyter) use an alternate render pathway than\n",
       "    // just putting the html on the page. If WebIO isn't defined, then it's pretty likely\n",
       "    // that we're in one of those situations and the integration just isn't installed\n",
       "    // correctly.\n",
       "    if (typeof window.WebIO === \"undefined\") {\n",
       "        document\n",
       "            .querySelector('[data-webio-mountpoint=\"2886641313816965584\"]')\n",
       "            .innerHTML = (\n",
       "                '<div style=\"padding: 1em; background-color: #f8d6da; border: 1px solid #f5c6cb; font-weight: bold;\">' +\n",
       "                '<p><strong>WebIO not detected.</strong></p>' +\n",
       "                '<p>Please read ' +\n",
       "                '<a href=\"https://juliagizmos.github.io/WebIO.jl/latest/troubleshooting/not-detected/\" target=\"_blank\">the troubleshooting guide</a> ' +\n",
       "                'for more information on how to resolve this issue.</p>' +\n",
       "                '<p><a href=\"https://juliagizmos.github.io/WebIO.jl/latest/troubleshooting/not-detected/\" target=\"_blank\">https://juliagizmos.github.io/WebIO.jl/latest/troubleshooting/not-detected/</a></p>' +\n",
       "                '</div>'\n",
       "            );\n",
       "        return;\n",
       "    }\n",
       "    WebIO.mount(\n",
       "        document.querySelector('[data-webio-mountpoint=\"2886641313816965584\"]'),\n",
       "        {\"props\":{},\"nodeType\":\"Scope\",\"type\":\"node\",\"instanceArgs\":{\"imports\":{\"data\":[{\"name\":\"Plotly\",\"type\":\"js\",\"url\":\"\\/assetserver\\/b267c3137400db01c304fe886fe6f707be7fdb37-plotly.min.js\"},{\"name\":null,\"type\":\"js\",\"url\":\"\\/assetserver\\/020f2e8a4619f2ae880fff9315e6547eef1aff0b-plotly_webio.bundle.js\"}],\"type\":\"async_block\"},\"id\":\"2522915378476745081\",\"handlers\":{\"_toImage\":[\"(function (options){return this.Plotly.toImage(this.plotElem,options).then((function (data){return WebIO.setval({\\\"name\\\":\\\"image\\\",\\\"scope\\\":\\\"2522915378476745081\\\",\\\"id\\\":\\\"135\\\",\\\"type\\\":\\\"observable\\\"},data)}))})\"],\"__get_gd_contents\":[\"(function (prop){prop==\\\"data\\\" ? (WebIO.setval({\\\"name\\\":\\\"__gd_contents\\\",\\\"scope\\\":\\\"2522915378476745081\\\",\\\"id\\\":\\\"136\\\",\\\"type\\\":\\\"observable\\\"},this.plotElem.data)) : undefined; return prop==\\\"layout\\\" ? (WebIO.setval({\\\"name\\\":\\\"__gd_contents\\\",\\\"scope\\\":\\\"2522915378476745081\\\",\\\"id\\\":\\\"136\\\",\\\"type\\\":\\\"observable\\\"},this.plotElem.layout)) : undefined})\"],\"_downloadImage\":[\"(function (options){return this.Plotly.downloadImage(this.plotElem,options)})\"],\"_commands\":[\"(function (args){var fn=args.shift(); var elem=this.plotElem; var Plotly=this.Plotly; args.unshift(elem); return Plotly[fn].apply(this,args)})\"]},\"systemjs_options\":null,\"mount_callbacks\":[\"function () {\\n    var handler = ((function (Plotly,PlotlyWebIO){PlotlyWebIO.init(WebIO); var gd=this.dom.querySelector(\\\"#plot-6cbfa45b-320b-4cb4-a607-8c4e5dffcd7a\\\"); this.plotElem=gd; this.Plotly=Plotly; (window.Blink!==undefined) ? (gd.style.width=\\\"100%\\\", gd.style.height=\\\"100vh\\\", gd.style.marginLeft=\\\"0%\\\", gd.style.marginTop=\\\"0vh\\\") : undefined; window.onresize=(function (){return Plotly.Plots.resize(gd)}); Plotly.newPlot(gd,[{\\\"mode\\\":\\\"lines\\\",\\\"line\\\":{\\\"color\\\":\\\"rgb(47,54,64)\\\",\\\"width\\\":3},\\\"hovertext\\\":\\\"Cell\\\",\\\"y\\\":[0.0,-0.5773502691896258,-0.5773502691896258,0.0,0.5773502691896258,0.5773502691896258,0.0],\\\"type\\\":\\\"scatter\\\",\\\"hoverinfo\\\":\\\"text+x+y\\\",\\\"x\\\":[-0.6666666666666667,-0.33333333333333326,0.33333333333333337,0.6666666666666667,0.33333333333333326,-0.33333333333333326,-0.6666666666666667]},{\\\"mode\\\":\\\"lines\\\",\\\"line\\\":{\\\"color\\\":\\\"rgb(212,216,227)\\\",\\\"width\\\":5},\\\"hovertext\\\":\\\"<b>v<\\/b><sub>1<\\/sub>\\\",\\\"y\\\":[-0.0,-0.2742413778650723],\\\"type\\\":\\\"scatter\\\",\\\"hoverinfo\\\":\\\"text\\\",\\\"x\\\":[0.0,0.475]},{\\\"mode\\\":\\\"lines\\\",\\\"line\\\":{\\\"color\\\":\\\"rgb(212,216,227)\\\",\\\"width\\\":5},\\\"hovertext\\\":\\\"<b>v<\\/b><sub>2<\\/sub>\\\",\\\"y\\\":[0.0,0.5484827557301446],\\\"type\\\":\\\"scatter\\\",\\\"hoverinfo\\\":\\\"text\\\",\\\"x\\\":[-0.0,0.0]},{\\\"mode\\\":\\\"lines\\\",\\\"line\\\":{\\\"color\\\":\\\"rgb(39,60,117)\\\",\\\"width\\\":6},\\\"hovertext\\\":\\\"<b>v<\\/b><sub>1<\\/sub>\\\",\\\"y\\\":[-0.30310889132455354,-0.5773502691896258],\\\"type\\\":\\\"scatter\\\",\\\"hoverinfo\\\":\\\"text+x+y\\\",\\\"x\\\":[0.525,1.0]},{\\\"mode\\\":\\\"lines\\\",\\\"line\\\":{\\\"color\\\":\\\"rgb(39,60,117)\\\",\\\"width\\\":6},\\\"hovertext\\\":\\\"<b>v<\\/b><sub>2<\\/sub>\\\",\\\"y\\\":[0.6062177826491071,1.1547005383792517],\\\"type\\\":\\\"scatter\\\",\\\"hoverinfo\\\":\\\"text+x+y\\\",\\\"x\\\":[-0.0,0.0]},{\\\"mode\\\":\\\"lines\\\",\\\"line\\\":{\\\"color\\\":\\\"rgb(242,215,208)\\\",\\\"width\\\":5},\\\"hovertext\\\":\\\"<b>x<\\/b>\\\",\\\"y\\\":[0.0,0.0],\\\"type\\\":\\\"scatter\\\",\\\"hoverinfo\\\":\\\"text\\\",\\\"x\\\":[0.0,0.6377991532071855]},{\\\"mode\\\":\\\"lines\\\",\\\"line\\\":{\\\"color\\\":\\\"rgb(242,215,208)\\\",\\\"width\\\":5},\\\"hovertext\\\":\\\"<b>y<\\/b>\\\",\\\"y\\\":[0.0,0.5484827557301446],\\\"type\\\":\\\"scatter\\\",\\\"hoverinfo\\\":\\\"text\\\",\\\"x\\\":[0.0,0.0]},{\\\"mode\\\":\\\"lines\\\",\\\"line\\\":{\\\"color\\\":\\\"rgb(194,54,22)\\\",\\\"width\\\":6},\\\"hovertext\\\":\\\"<b>x<\\/b>\\\",\\\"y\\\":[0.0,0.0],\\\"type\\\":\\\"scatter\\\",\\\"hoverinfo\\\":\\\"text\\\",\\\"x\\\":[0.695534180126148,0.8976067743425171]},{\\\"mode\\\":\\\"lines\\\",\\\"line\\\":{\\\"color\\\":\\\"rgb(194,54,22)\\\",\\\"width\\\":6},\\\"hovertext\\\":\\\"<b>y<\\/b>\\\",\\\"y\\\":[0.6062177826491071,0.8082903768654762],\\\"type\\\":\\\"scatter\\\",\\\"hoverinfo\\\":\\\"text\\\",\\\"x\\\":[0.0,0.0]}],{\\\"showlegend\\\":false,\\\"xaxis\\\":{\\\"showgrid\\\":false,\\\"zeroline\\\":false,\\\"tickvals\\\":[],\\\"title\\\":{\\\"text\\\":\\\"\\\"},\\\"showbackground\\\":false,\\\"range\\\":[-1.0769800358919501,1.0769800358919501]},\\\"hovermode\\\":\\\"closest\\\",\\\"paper_bgcolor\\\":\\\"rgba(255, 255, 255, 1)\\\",\\\"template\\\":{\\\"layout\\\":{\\\"coloraxis\\\":{\\\"colorbar\\\":{\\\"ticks\\\":\\\"\\\",\\\"outlinewidth\\\":0}},\\\"xaxis\\\":{\\\"gridcolor\\\":\\\"white\\\",\\\"zerolinewidth\\\":2,\\\"title\\\":{\\\"standoff\\\":15},\\\"ticks\\\":\\\"\\\",\\\"zerolinecolor\\\":\\\"white\\\",\\\"automargin\\\":true,\\\"linecolor\\\":\\\"white\\\"},\\\"hovermode\\\":\\\"closest\\\",\\\"paper_bgcolor\\\":\\\"white\\\",\\\"geo\\\":{\\\"showlakes\\\":true,\\\"showland\\\":true,\\\"landcolor\\\":\\\"#E5ECF6\\\",\\\"bgcolor\\\":\\\"white\\\",\\\"subunitcolor\\\":\\\"white\\\",\\\"lakecolor\\\":\\\"white\\\"},\\\"colorscale\\\":{\\\"sequential\\\":[[0.0,\\\"#0d0887\\\"],[0.1111111111111111,\\\"#46039f\\\"],[0.2222222222222222,\\\"#7201a8\\\"],[0.3333333333333333,\\\"#9c179e\\\"],[0.4444444444444444,\\\"#bd3786\\\"],[0.5555555555555556,\\\"#d8576b\\\"],[0.6666666666666666,\\\"#ed7953\\\"],[0.7777777777777778,\\\"#fb9f3a\\\"],[0.8888888888888888,\\\"#fdca26\\\"],[1.0,\\\"#f0f921\\\"]],\\\"diverging\\\":[[0,\\\"#8e0152\\\"],[0.1,\\\"#c51b7d\\\"],[0.2,\\\"#de77ae\\\"],[0.3,\\\"#f1b6da\\\"],[0.4,\\\"#fde0ef\\\"],[0.5,\\\"#f7f7f7\\\"],[0.6,\\\"#e6f5d0\\\"],[0.7,\\\"#b8e186\\\"],[0.8,\\\"#7fbc41\\\"],[0.9,\\\"#4d9221\\\"],[1,\\\"#276419\\\"]],\\\"sequentialminus\\\":[[0.0,\\\"#0d0887\\\"],[0.1111111111111111,\\\"#46039f\\\"],[0.2222222222222222,\\\"#7201a8\\\"],[0.3333333333333333,\\\"#9c179e\\\"],[0.4444444444444444,\\\"#bd3786\\\"],[0.5555555555555556,\\\"#d8576b\\\"],[0.6666666666666666,\\\"#ed7953\\\"],[0.7777777777777778,\\\"#fb9f3a\\\"],[0.8888888888888888,\\\"#fdca26\\\"],[1.0,\\\"#f0f921\\\"]]},\\\"yaxis\\\":{\\\"gridcolor\\\":\\\"white\\\",\\\"zerolinewidth\\\":2,\\\"title\\\":{\\\"standoff\\\":15},\\\"ticks\\\":\\\"\\\",\\\"zerolinecolor\\\":\\\"white\\\",\\\"automargin\\\":true,\\\"linecolor\\\":\\\"white\\\"},\\\"shapedefaults\\\":{\\\"line\\\":{\\\"color\\\":\\\"#2a3f5f\\\"}},\\\"hoverlabel\\\":{\\\"align\\\":\\\"left\\\"},\\\"mapbox\\\":{\\\"style\\\":\\\"light\\\"},\\\"polar\\\":{\\\"angularaxis\\\":{\\\"gridcolor\\\":\\\"white\\\",\\\"ticks\\\":\\\"\\\",\\\"linecolor\\\":\\\"white\\\"},\\\"bgcolor\\\":\\\"#E5ECF6\\\",\\\"radialaxis\\\":{\\\"gridcolor\\\":\\\"white\\\",\\\"ticks\\\":\\\"\\\",\\\"linecolor\\\":\\\"white\\\"}},\\\"autotypenumbers\\\":\\\"strict\\\",\\\"font\\\":{\\\"color\\\":\\\"#2a3f5f\\\"},\\\"ternary\\\":{\\\"baxis\\\":{\\\"gridcolor\\\":\\\"white\\\",\\\"ticks\\\":\\\"\\\",\\\"linecolor\\\":\\\"white\\\"},\\\"bgcolor\\\":\\\"#E5ECF6\\\",\\\"caxis\\\":{\\\"gridcolor\\\":\\\"white\\\",\\\"ticks\\\":\\\"\\\",\\\"linecolor\\\":\\\"white\\\"},\\\"aaxis\\\":{\\\"gridcolor\\\":\\\"white\\\",\\\"ticks\\\":\\\"\\\",\\\"linecolor\\\":\\\"white\\\"}},\\\"annotationdefaults\\\":{\\\"arrowhead\\\":0,\\\"arrowwidth\\\":1,\\\"arrowcolor\\\":\\\"#2a3f5f\\\"},\\\"plot_bgcolor\\\":\\\"#E5ECF6\\\",\\\"title\\\":{\\\"x\\\":0.05},\\\"scene\\\":{\\\"xaxis\\\":{\\\"gridcolor\\\":\\\"white\\\",\\\"gridwidth\\\":2,\\\"backgroundcolor\\\":\\\"#E5ECF6\\\",\\\"ticks\\\":\\\"\\\",\\\"showbackground\\\":true,\\\"zerolinecolor\\\":\\\"white\\\",\\\"linecolor\\\":\\\"white\\\"},\\\"zaxis\\\":{\\\"gridcolor\\\":\\\"white\\\",\\\"gridwidth\\\":2,\\\"backgroundcolor\\\":\\\"#E5ECF6\\\",\\\"ticks\\\":\\\"\\\",\\\"showbackground\\\":true,\\\"zerolinecolor\\\":\\\"white\\\",\\\"linecolor\\\":\\\"white\\\"},\\\"yaxis\\\":{\\\"gridcolor\\\":\\\"white\\\",\\\"gridwidth\\\":2,\\\"backgroundcolor\\\":\\\"#E5ECF6\\\",\\\"ticks\\\":\\\"\\\",\\\"showbackground\\\":true,\\\"zerolinecolor\\\":\\\"white\\\",\\\"linecolor\\\":\\\"white\\\"}},\\\"colorway\\\":[\\\"#636efa\\\",\\\"#EF553B\\\",\\\"#00cc96\\\",\\\"#ab63fa\\\",\\\"#FFA15A\\\",\\\"#19d3f3\\\",\\\"#FF6692\\\",\\\"#B6E880\\\",\\\"#FF97FF\\\",\\\"#FECB52\\\"]},\\\"data\\\":{\\\"barpolar\\\":[{\\\"type\\\":\\\"barpolar\\\",\\\"marker\\\":{\\\"line\\\":{\\\"color\\\":\\\"#E5ECF6\\\",\\\"width\\\":0.5}}}],\\\"carpet\\\":[{\\\"aaxis\\\":{\\\"gridcolor\\\":\\\"white\\\",\\\"endlinecolor\\\":\\\"#2a3f5f\\\",\\\"minorgridcolor\\\":\\\"white\\\",\\\"startlinecolor\\\":\\\"#2a3f5f\\\",\\\"linecolor\\\":\\\"white\\\"},\\\"type\\\":\\\"carpet\\\",\\\"baxis\\\":{\\\"gridcolor\\\":\\\"white\\\",\\\"endlinecolor\\\":\\\"#2a3f5f\\\",\\\"minorgridcolor\\\":\\\"white\\\",\\\"startlinecolor\\\":\\\"#2a3f5f\\\",\\\"linecolor\\\":\\\"white\\\"}}],\\\"scatterpolar\\\":[{\\\"type\\\":\\\"scatterpolar\\\",\\\"marker\\\":{\\\"colorbar\\\":{\\\"ticks\\\":\\\"\\\",\\\"outlinewidth\\\":0}}}],\\\"parcoords\\\":[{\\\"line\\\":{\\\"colorbar\\\":{\\\"ticks\\\":\\\"\\\",\\\"outlinewidth\\\":0}},\\\"type\\\":\\\"parcoords\\\"}],\\\"scatter\\\":[{\\\"type\\\":\\\"scatter\\\",\\\"marker\\\":{\\\"colorbar\\\":{\\\"ticks\\\":\\\"\\\",\\\"outlinewidth\\\":0}}}],\\\"histogram2dcontour\\\":[{\\\"colorbar\\\":{\\\"ticks\\\":\\\"\\\",\\\"outlinewidth\\\":0},\\\"type\\\":\\\"histogram2dcontour\\\",\\\"colorscale\\\":[[0.0,\\\"#0d0887\\\"],[0.1111111111111111,\\\"#46039f\\\"],[0.2222222222222222,\\\"#7201a8\\\"],[0.3333333333333333,\\\"#9c179e\\\"],[0.4444444444444444,\\\"#bd3786\\\"],[0.5555555555555556,\\\"#d8576b\\\"],[0.6666666666666666,\\\"#ed7953\\\"],[0.7777777777777778,\\\"#fb9f3a\\\"],[0.8888888888888888,\\\"#fdca26\\\"],[1.0,\\\"#f0f921\\\"]]}],\\\"contour\\\":[{\\\"colorbar\\\":{\\\"ticks\\\":\\\"\\\",\\\"outlinewidth\\\":0},\\\"type\\\":\\\"contour\\\",\\\"colorscale\\\":[[0.0,\\\"#0d0887\\\"],[0.1111111111111111,\\\"#46039f\\\"],[0.2222222222222222,\\\"#7201a8\\\"],[0.3333333333333333,\\\"#9c179e\\\"],[0.4444444444444444,\\\"#bd3786\\\"],[0.5555555555555556,\\\"#d8576b\\\"],[0.6666666666666666,\\\"#ed7953\\\"],[0.7777777777777778,\\\"#fb9f3a\\\"],[0.8888888888888888,\\\"#fdca26\\\"],[1.0,\\\"#f0f921\\\"]]}],\\\"scattercarpet\\\":[{\\\"type\\\":\\\"scattercarpet\\\",\\\"marker\\\":{\\\"colorbar\\\":{\\\"ticks\\\":\\\"\\\",\\\"outlinewidth\\\":0}}}],\\\"mesh3d\\\":[{\\\"colorbar\\\":{\\\"ticks\\\":\\\"\\\",\\\"outlinewidth\\\":0},\\\"type\\\":\\\"mesh3d\\\"}],\\\"surface\\\":[{\\\"colorbar\\\":{\\\"ticks\\\":\\\"\\\",\\\"outlinewidth\\\":0},\\\"type\\\":\\\"surface\\\",\\\"colorscale\\\":[[0.0,\\\"#0d0887\\\"],[0.1111111111111111,\\\"#46039f\\\"],[0.2222222222222222,\\\"#7201a8\\\"],[0.3333333333333333,\\\"#9c179e\\\"],[0.4444444444444444,\\\"#bd3786\\\"],[0.5555555555555556,\\\"#d8576b\\\"],[0.6666666666666666,\\\"#ed7953\\\"],[0.7777777777777778,\\\"#fb9f3a\\\"],[0.8888888888888888,\\\"#fdca26\\\"],[1.0,\\\"#f0f921\\\"]]}],\\\"scattermapbox\\\":[{\\\"type\\\":\\\"scattermapbox\\\",\\\"marker\\\":{\\\"colorbar\\\":{\\\"ticks\\\":\\\"\\\",\\\"outlinewidth\\\":0}}}],\\\"scattergeo\\\":[{\\\"type\\\":\\\"scattergeo\\\",\\\"marker\\\":{\\\"colorbar\\\":{\\\"ticks\\\":\\\"\\\",\\\"outlinewidth\\\":0}}}],\\\"histogram\\\":[{\\\"type\\\":\\\"histogram\\\",\\\"marker\\\":{\\\"colorbar\\\":{\\\"ticks\\\":\\\"\\\",\\\"outlinewidth\\\":0}}}],\\\"pie\\\":[{\\\"type\\\":\\\"pie\\\",\\\"automargin\\\":true}],\\\"choropleth\\\":[{\\\"colorbar\\\":{\\\"ticks\\\":\\\"\\\",\\\"outlinewidth\\\":0},\\\"type\\\":\\\"choropleth\\\"}],\\\"heatmapgl\\\":[{\\\"colorbar\\\":{\\\"ticks\\\":\\\"\\\",\\\"outlinewidth\\\":0},\\\"type\\\":\\\"heatmapgl\\\",\\\"colorscale\\\":[[0.0,\\\"#0d0887\\\"],[0.1111111111111111,\\\"#46039f\\\"],[0.2222222222222222,\\\"#7201a8\\\"],[0.3333333333333333,\\\"#9c179e\\\"],[0.4444444444444444,\\\"#bd3786\\\"],[0.5555555555555556,\\\"#d8576b\\\"],[0.6666666666666666,\\\"#ed7953\\\"],[0.7777777777777778,\\\"#fb9f3a\\\"],[0.8888888888888888,\\\"#fdca26\\\"],[1.0,\\\"#f0f921\\\"]]}],\\\"bar\\\":[{\\\"type\\\":\\\"bar\\\",\\\"error_y\\\":{\\\"color\\\":\\\"#2a3f5f\\\"},\\\"error_x\\\":{\\\"color\\\":\\\"#2a3f5f\\\"},\\\"marker\\\":{\\\"line\\\":{\\\"color\\\":\\\"#E5ECF6\\\",\\\"width\\\":0.5}}}],\\\"heatmap\\\":[{\\\"colorbar\\\":{\\\"ticks\\\":\\\"\\\",\\\"outlinewidth\\\":0},\\\"type\\\":\\\"heatmap\\\",\\\"colorscale\\\":[[0.0,\\\"#0d0887\\\"],[0.1111111111111111,\\\"#46039f\\\"],[0.2222222222222222,\\\"#7201a8\\\"],[0.3333333333333333,\\\"#9c179e\\\"],[0.4444444444444444,\\\"#bd3786\\\"],[0.5555555555555556,\\\"#d8576b\\\"],[0.6666666666666666,\\\"#ed7953\\\"],[0.7777777777777778,\\\"#fb9f3a\\\"],[0.8888888888888888,\\\"#fdca26\\\"],[1.0,\\\"#f0f921\\\"]]}],\\\"contourcarpet\\\":[{\\\"colorbar\\\":{\\\"ticks\\\":\\\"\\\",\\\"outlinewidth\\\":0},\\\"type\\\":\\\"contourcarpet\\\"}],\\\"table\\\":[{\\\"type\\\":\\\"table\\\",\\\"header\\\":{\\\"line\\\":{\\\"color\\\":\\\"white\\\"},\\\"fill\\\":{\\\"color\\\":\\\"#C8D4E3\\\"}},\\\"cells\\\":{\\\"line\\\":{\\\"color\\\":\\\"white\\\"},\\\"fill\\\":{\\\"color\\\":\\\"#EBF0F8\\\"}}}],\\\"scatter3d\\\":[{\\\"line\\\":{\\\"colorbar\\\":{\\\"ticks\\\":\\\"\\\",\\\"outlinewidth\\\":0}},\\\"type\\\":\\\"scatter3d\\\",\\\"marker\\\":{\\\"colorbar\\\":{\\\"ticks\\\":\\\"\\\",\\\"outlinewidth\\\":0}}}],\\\"scattergl\\\":[{\\\"type\\\":\\\"scattergl\\\",\\\"marker\\\":{\\\"colorbar\\\":{\\\"ticks\\\":\\\"\\\",\\\"outlinewidth\\\":0}}}],\\\"histogram2d\\\":[{\\\"colorbar\\\":{\\\"ticks\\\":\\\"\\\",\\\"outlinewidth\\\":0},\\\"type\\\":\\\"histogram2d\\\",\\\"colorscale\\\":[[0.0,\\\"#0d0887\\\"],[0.1111111111111111,\\\"#46039f\\\"],[0.2222222222222222,\\\"#7201a8\\\"],[0.3333333333333333,\\\"#9c179e\\\"],[0.4444444444444444,\\\"#bd3786\\\"],[0.5555555555555556,\\\"#d8576b\\\"],[0.6666666666666666,\\\"#ed7953\\\"],[0.7777777777777778,\\\"#fb9f3a\\\"],[0.8888888888888888,\\\"#fdca26\\\"],[1.0,\\\"#f0f921\\\"]]}],\\\"scatterternary\\\":[{\\\"type\\\":\\\"scatterternary\\\",\\\"marker\\\":{\\\"colorbar\\\":{\\\"ticks\\\":\\\"\\\",\\\"outlinewidth\\\":0}}}],\\\"scatterpolargl\\\":[{\\\"type\\\":\\\"scatterpolargl\\\",\\\"marker\\\":{\\\"colorbar\\\":{\\\"ticks\\\":\\\"\\\",\\\"outlinewidth\\\":0}}}]}},\\\"yaxis\\\":{\\\"showgrid\\\":false,\\\"zeroline\\\":false,\\\"tickvals\\\":[],\\\"scaleanchor\\\":\\\"x\\\",\\\"scaleratio\\\":1,\\\"title\\\":{\\\"text\\\":\\\"\\\"},\\\"showbackground\\\":false,\\\"range\\\":[-1.2316805742712018,1.2316805742712018]},\\\"autosize\\\":false,\\\"annotations\\\":[{\\\"arrowcolor\\\":\\\"rgb(39,60,117)\\\",\\\"showarrow\\\":true,\\\"yref\\\":\\\"ay\\\",\\\"arrowsize\\\":0.5,\\\"arrowhead\\\":2,\\\"axref\\\":\\\"x\\\",\\\"y\\\":-0.6062177826491071,\\\"ax\\\":0.95,\\\"ay\\\":-0.5484827557301446,\\\"ayref\\\":\\\"y\\\",\\\"arrowwidth\\\":6,\\\"xref\\\":\\\"ax\\\",\\\"x\\\":1.05},{\\\"arrowcolor\\\":\\\"rgb(39,60,117)\\\",\\\"showarrow\\\":true,\\\"yref\\\":\\\"ay\\\",\\\"arrowsize\\\":0.5,\\\"arrowhead\\\":2,\\\"axref\\\":\\\"x\\\",\\\"y\\\":1.2124355652982142,\\\"ax\\\":0.0,\\\"ay\\\":1.0969655114602892,\\\"ayref\\\":\\\"y\\\",\\\"arrowwidth\\\":6,\\\"xref\\\":\\\"ax\\\",\\\"x\\\":-0.0},{\\\"arrowcolor\\\":\\\"rgb(194,54,22)\\\",\\\"showarrow\\\":true,\\\"yref\\\":\\\"ay\\\",\\\"arrowsize\\\":0.5,\\\"arrowhead\\\":2,\\\"axref\\\":\\\"x\\\",\\\"y\\\":0.0,\\\"ax\\\":0.8398717474235545,\\\"ay\\\":0.0,\\\"ayref\\\":\\\"y\\\",\\\"arrowwidth\\\":6,\\\"xref\\\":\\\"ax\\\",\\\"x\\\":0.9553418012614797},{\\\"arrowcolor\\\":\\\"rgb(194,54,22)\\\",\\\"showarrow\\\":true,\\\"yref\\\":\\\"ay\\\",\\\"arrowsize\\\":0.5,\\\"arrowhead\\\":2,\\\"axref\\\":\\\"x\\\",\\\"y\\\":0.8660254037844388,\\\"ax\\\":0.0,\\\"ay\\\":0.7505553499465136,\\\"ayref\\\":\\\"y\\\",\\\"arrowwidth\\\":6,\\\"xref\\\":\\\"ax\\\",\\\"x\\\":0.0}],\\\"plot_bgcolor\\\":\\\"rgba(255, 255, 255, 1)\\\",\\\"margin\\\":{\\\"l\\\":50,\\\"b\\\":50,\\\"r\\\":50,\\\"t\\\":60},\\\"aspectmode\\\":\\\"data\\\"},{\\\"displaylogo\\\":false,\\\"showLink\\\":false,\\\"editable\\\":false,\\\"responsive\\\":true,\\\"staticPlot\\\":false,\\\"scrollZoom\\\":true}); gd.on(\\\"plotly_hover\\\",(function (data){var filtered_data=WebIO.PlotlyCommands.filterEventData(gd,data,\\\"hover\\\"); return !(filtered_data.isnil) ? (WebIO.setval({\\\"name\\\":\\\"hover\\\",\\\"scope\\\":\\\"2522915378476745081\\\",\\\"id\\\":\\\"131\\\",\\\"type\\\":\\\"observable\\\"},filtered_data.out)) : undefined})); gd.on(\\\"plotly_unhover\\\",(function (){return WebIO.setval({\\\"name\\\":\\\"hover\\\",\\\"scope\\\":\\\"2522915378476745081\\\",\\\"id\\\":\\\"131\\\",\\\"type\\\":\\\"observable\\\"},{})})); gd.on(\\\"plotly_selected\\\",(function (data){var filtered_data=WebIO.PlotlyCommands.filterEventData(gd,data,\\\"selected\\\"); return !(filtered_data.isnil) ? (WebIO.setval({\\\"name\\\":\\\"selected\\\",\\\"scope\\\":\\\"2522915378476745081\\\",\\\"id\\\":\\\"132\\\",\\\"type\\\":\\\"observable\\\"},filtered_data.out)) : undefined})); gd.on(\\\"plotly_deselect\\\",(function (){return WebIO.setval({\\\"name\\\":\\\"selected\\\",\\\"scope\\\":\\\"2522915378476745081\\\",\\\"id\\\":\\\"132\\\",\\\"type\\\":\\\"observable\\\"},{})})); gd.on(\\\"plotly_relayout\\\",(function (data){var filtered_data=WebIO.PlotlyCommands.filterEventData(gd,data,\\\"relayout\\\"); return !(filtered_data.isnil) ? (WebIO.setval({\\\"name\\\":\\\"relayout\\\",\\\"scope\\\":\\\"2522915378476745081\\\",\\\"id\\\":\\\"134\\\",\\\"type\\\":\\\"observable\\\"},filtered_data.out)) : undefined})); return gd.on(\\\"plotly_click\\\",(function (data){var filtered_data=WebIO.PlotlyCommands.filterEventData(gd,data,\\\"click\\\"); return !(filtered_data.isnil) ? (WebIO.setval({\\\"name\\\":\\\"click\\\",\\\"scope\\\":\\\"2522915378476745081\\\",\\\"id\\\":\\\"133\\\",\\\"type\\\":\\\"observable\\\"},filtered_data.out)) : undefined}))}));\\n    (WebIO.importBlock({\\\"data\\\":[{\\\"name\\\":\\\"Plotly\\\",\\\"type\\\":\\\"js\\\",\\\"url\\\":\\\"\\/assetserver\\/b267c3137400db01c304fe886fe6f707be7fdb37-plotly.min.js\\\"},{\\\"name\\\":null,\\\"type\\\":\\\"js\\\",\\\"url\\\":\\\"\\/assetserver\\/020f2e8a4619f2ae880fff9315e6547eef1aff0b-plotly_webio.bundle.js\\\"}],\\\"type\\\":\\\"async_block\\\"})).then((imports) => handler.apply(this, imports));\\n}\\n\"],\"observables\":{\"_toImage\":{\"sync\":false,\"id\":\"138\",\"value\":{}},\"hover\":{\"sync\":false,\"id\":\"131\",\"value\":{}},\"selected\":{\"sync\":false,\"id\":\"132\",\"value\":{}},\"__gd_contents\":{\"sync\":false,\"id\":\"136\",\"value\":{}},\"click\":{\"sync\":false,\"id\":\"133\",\"value\":{}},\"image\":{\"sync\":true,\"id\":\"135\",\"value\":\"\"},\"__get_gd_contents\":{\"sync\":false,\"id\":\"140\",\"value\":\"\"},\"_downloadImage\":{\"sync\":false,\"id\":\"139\",\"value\":{}},\"relayout\":{\"sync\":false,\"id\":\"134\",\"value\":{}},\"_commands\":{\"sync\":false,\"id\":\"137\",\"value\":[]}}},\"children\":[{\"props\":{\"id\":\"plot-6cbfa45b-320b-4cb4-a607-8c4e5dffcd7a\"},\"nodeType\":\"DOM\",\"type\":\"node\",\"instanceArgs\":{\"namespace\":\"html\",\"tag\":\"div\"},\"children\":[]}]},\n",
       "        window,\n",
       "    );\n",
       "    })()\n",
       "    </script>\n",
       "</div>\n"
      ],
      "text/plain": [
       "data: [\n",
       "  \"scatter with fields hoverinfo, hovertext, line, mode, type, x, and y\",\n",
       "  \"scatter with fields hoverinfo, hovertext, line, mode, type, x, and y\",\n",
       "  \"scatter with fields hoverinfo, hovertext, line, mode, type, x, and y\",\n",
       "  \"scatter with fields hoverinfo, hovertext, line, mode, type, x, and y\",\n",
       "  \"scatter with fields hoverinfo, hovertext, line, mode, type, x, and y\",\n",
       "  \"scatter with fields hoverinfo, hovertext, line, mode, type, x, and y\",\n",
       "  \"scatter with fields hoverinfo, hovertext, line, mode, type, x, and y\",\n",
       "  \"scatter with fields hoverinfo, hovertext, line, mode, type, x, and y\",\n",
       "  \"scatter with fields hoverinfo, hovertext, line, mode, type, x, and y\"\n",
       "]\n",
       "\n",
       "layout: \"layout with fields annotations, aspectmode, autosize, hovermode, margin, paper_bgcolor, plot_bgcolor, showlegend, template, xaxis, and yaxis\"\n",
       "\n"
      ]
     },
     "metadata": {},
     "output_type": "display_data"
    }
   ],
   "source": [
    "let \n",
    "    print(\"--- Plotting the Wigner-Seitz cell in reciprocal space. \\n\")\n",
    "    print(\"\\n\")\n",
    "\n",
    "    Bs = [recip_basis[i, :] for i ∈ 1 : size(recip_basis, 1)]\n",
    "    recip_wignerseitz = wignerseitz(Bs)\n",
    "\n",
    "    vertices = recip_wignerseitz.verts\n",
    "    print(\"--- Vertices of the reciprocal Wigner-Seitz cell (in reduced coordinates): \\n\")\n",
    "    for v ∈ vertices\n",
    "        @printf(\"%10f %10f \\n\", v[1], v[2])\n",
    "    end\n",
    "\n",
    "\n",
    "    cvecs = make_cartesian(vertices, Bs)\n",
    "\n",
    "    print(\"\\n\")\n",
    "    print(\"--- Vertices of the reciprocal Wigner-Seitz cell (in cartesian coordinates): \\n\")\n",
    "    for v ∈ cvecs\n",
    "        @printf(\"%10f %10f \\n\", v[1], v[2])\n",
    "    end\n",
    "\n",
    "\n",
    "    pbzb = plot(recip_wignerseitz)\n",
    "    savefig(pbzb, assets_dir * \"recip_pbzb.png\")\n",
    "    display(pbzb)\n",
    "end"
   ]
  },
  {
   "cell_type": "code",
   "execution_count": 54,
   "metadata": {},
   "outputs": [
    {
     "name": "stderr",
     "output_type": "stream",
     "text": [
      "WARNING: redefinition of constant Main.high_symmetry_points. This may fail, cause incorrect answers, or produce other errors.\n"
     ]
    },
    {
     "data": {
      "text/plain": [
       "Dict{String, Vector{Float64}} with 3 entries:\n",
       "  \"M\" => [0.5, 0.288675]\n",
       "  \"Γ\" => [0.0, 0.0]\n",
       "  \"K\" => [0.666667, 0.0]"
      ]
     },
     "metadata": {},
     "output_type": "display_data"
    }
   ],
   "source": [
    "# Now, the K-Points \n",
    "global const high_symmetry_points = Dict{String, Vector{Float64}}(\n",
    "    \"K\"=> [0.6666667, 0.0], \n",
    "    \"M\"=> ([0.3333333, 0.577350] + [0.666666667, 0.0]) / 2.0,\n",
    "    \"Γ\"=> [0.0, 0.0] \n",
    ")"
   ]
  },
  {
   "cell_type": "code",
   "execution_count": 55,
   "metadata": {},
   "outputs": [
    {
     "name": "stderr",
     "output_type": "stream",
     "text": [
      "WARNING: redefinition of constant Main.kpath_nodes. This may fail, cause incorrect answers, or produce other errors.\n"
     ]
    }
   ],
   "source": [
    "global const kpath_nodes::Vector{Vector{Float64}} = [high_symmetry_points[\"Γ\"], \n",
    "                    high_symmetry_points[\"K\"], \n",
    "                    high_symmetry_points[\"M\"], \n",
    "                    high_symmetry_points[\"Γ\"]];\n"
   ]
  },
  {
   "cell_type": "code",
   "execution_count": 56,
   "metadata": {},
   "outputs": [
    {
     "name": "stderr",
     "output_type": "stream",
     "text": [
      "WARNING: redefinition of constant Main.C_6. This may fail, cause incorrect answers, or produce other errors.\n",
      "WARNING: redefinition of constant Main.corners. This may fail, cause incorrect answers, or produce other errors.\n"
     ]
    },
    {
     "data": {
      "text/plain": [
       "6-element Vector{Vector{Float64}}:\n",
       " [0.6666667, 0.0]\n",
       " [0.33333335000000003, -0.5773502980571391]\n",
       " [-0.3333333499999998, -0.5773502980571392]\n",
       " [-0.6666667, -2.220446049250313e-16]\n",
       " [-0.3333333500000002, 0.577350298057139]\n",
       " [0.33333334999999964, 0.5773502980571393]"
      ]
     },
     "metadata": {},
     "output_type": "display_data"
    }
   ],
   "source": [
    "# Using the cartesian point \"K\", apply C_6 symmetry repeatedly to generate the FBZ again\n",
    "global const C_6::Matrix{Float64} = [cos(pi/3) sin(pi/3); -sin(pi/3) cos(pi/3)]\n",
    "\n",
    "# Apply matrix n number of times \n",
    "function apply(m, v, n)\n",
    "    res = v\n",
    "    for i ∈ 1 : n\n",
    "        res = m * res\n",
    "    end\n",
    "    return res\n",
    "end\n",
    "\n",
    "function make_fbz_corners()\n",
    "    corners = Vector{Vector{Float64}}(undef, 6)\n",
    "    K = high_symmetry_points[\"K\"]\n",
    "    for n ∈ 0 : 5\n",
    "        corners[n + 1] = apply(C_6, K, n)\n",
    "    end\n",
    "    return corners\n",
    "end \n",
    "global const corners::Vector{Vector{Float64}} = make_fbz_corners()\n"
   ]
  },
  {
   "cell_type": "code",
   "execution_count": 57,
   "metadata": {},
   "outputs": [
    {
     "data": {
      "text/plain": [
       "plot_kpath_fbz (generic function with 1 method)"
      ]
     },
     "metadata": {},
     "output_type": "display_data"
    }
   ],
   "source": [
    "function plot_kpath_fbz(verts, kpath)\n",
    "    \"\"\" \n",
    "    Plots the kpath together with the FBZ \n",
    "    \"\"\"\n",
    "    push!(verts, verts[1])\n",
    "\n",
    "    # first vertices \n",
    "    verts_x = map(v -> v[1], verts)\n",
    "    verts_y = map(v -> v[2], verts)\n",
    "\n",
    "    path_x = map(v -> v[1], kpath)\n",
    "    path_y = map(v -> v[2], kpath)\n",
    "\n",
    "    # this will just draw the points at the specified coordinates. Need to construct layout object \n",
    "    corners_l = scatter(x = verts_x, y = verts_y, mode = \"lines\", opacity = 0.4, line = attr(color = \"darkblue\", width = 3))\n",
    "    path_l = scatter(x = path_x, y = path_y, mode = \"lines\", line = attr(color = \"darkgreen\", width = 4))\n",
    "\n",
    "    lo = Layout(title = \"Path in the FBZ\",\n",
    "                xaxis_showgrid = false,\n",
    "                yaxis_showgrid = false,\n",
    "                plot_bgcolor=\"rgba(0,0,0,0)\",\n",
    "                xaxis = attr(showline = false, showgrid = false, zeroline = false, showticklabels = false, scaleanchor = \"y\"),\n",
    "                yaxis = attr(showline = false, showgrid = false, zeroline = false, showticklabels = false, scaleanchor = \"x\"),\n",
    "                width = 510, \n",
    "                height = 510,\n",
    "                showlegend = false)\n",
    "    plot([corners_l, path_l], lo)\n",
    "    \n",
    "end"
   ]
  },
  {
   "cell_type": "code",
   "execution_count": 58,
   "metadata": {},
   "outputs": [
    {
     "data": {
      "application/vnd.plotly.v1+json": {
       "config": {
        "editable": false,
        "responsive": true,
        "scrollZoom": true,
        "showLink": false,
        "staticPlot": false
       },
       "data": [
        {
         "line": {
          "color": "darkblue",
          "width": 3
         },
         "mode": "lines",
         "opacity": 0.4,
         "type": "scatter",
         "x": [
          0.6666667,
          0.33333335000000003,
          -0.3333333499999998,
          -0.6666667,
          -0.3333333500000002,
          0.33333334999999964,
          0.6666667
         ],
         "y": [
          0,
          -0.5773502980571391,
          -0.5773502980571392,
          -2.220446049250313e-16,
          0.577350298057139,
          0.5773502980571393,
          0
         ]
        },
        {
         "line": {
          "color": "darkgreen",
          "width": 4
         },
         "mode": "lines",
         "type": "scatter",
         "x": [
          0,
          0.6666667,
          0.49999998349999997,
          0
         ],
         "y": [
          0,
          0,
          0.288675,
          0
         ]
        }
       ],
       "frames": [],
       "layout": {
        "height": 510,
        "margin": {
         "b": 50,
         "l": 50,
         "r": 50,
         "t": 60
        },
        "plot_bgcolor": "rgba(0,0,0,0)",
        "showlegend": false,
        "template": {
         "data": {
          "bar": [
           {
            "error_x": {
             "color": "#2a3f5f"
            },
            "error_y": {
             "color": "#2a3f5f"
            },
            "marker": {
             "line": {
              "color": "#E5ECF6",
              "width": 0.5
             }
            },
            "type": "bar"
           }
          ],
          "barpolar": [
           {
            "marker": {
             "line": {
              "color": "#E5ECF6",
              "width": 0.5
             }
            },
            "type": "barpolar"
           }
          ],
          "carpet": [
           {
            "aaxis": {
             "endlinecolor": "#2a3f5f",
             "gridcolor": "white",
             "linecolor": "white",
             "minorgridcolor": "white",
             "startlinecolor": "#2a3f5f"
            },
            "baxis": {
             "endlinecolor": "#2a3f5f",
             "gridcolor": "white",
             "linecolor": "white",
             "minorgridcolor": "white",
             "startlinecolor": "#2a3f5f"
            },
            "type": "carpet"
           }
          ],
          "choropleth": [
           {
            "colorbar": {
             "outlinewidth": 0,
             "ticks": ""
            },
            "type": "choropleth"
           }
          ],
          "contour": [
           {
            "colorbar": {
             "outlinewidth": 0,
             "ticks": ""
            },
            "colorscale": [
             [
              0,
              "#0d0887"
             ],
             [
              0.1111111111111111,
              "#46039f"
             ],
             [
              0.2222222222222222,
              "#7201a8"
             ],
             [
              0.3333333333333333,
              "#9c179e"
             ],
             [
              0.4444444444444444,
              "#bd3786"
             ],
             [
              0.5555555555555556,
              "#d8576b"
             ],
             [
              0.6666666666666666,
              "#ed7953"
             ],
             [
              0.7777777777777778,
              "#fb9f3a"
             ],
             [
              0.8888888888888888,
              "#fdca26"
             ],
             [
              1,
              "#f0f921"
             ]
            ],
            "type": "contour"
           }
          ],
          "contourcarpet": [
           {
            "colorbar": {
             "outlinewidth": 0,
             "ticks": ""
            },
            "type": "contourcarpet"
           }
          ],
          "heatmap": [
           {
            "colorbar": {
             "outlinewidth": 0,
             "ticks": ""
            },
            "colorscale": [
             [
              0,
              "#0d0887"
             ],
             [
              0.1111111111111111,
              "#46039f"
             ],
             [
              0.2222222222222222,
              "#7201a8"
             ],
             [
              0.3333333333333333,
              "#9c179e"
             ],
             [
              0.4444444444444444,
              "#bd3786"
             ],
             [
              0.5555555555555556,
              "#d8576b"
             ],
             [
              0.6666666666666666,
              "#ed7953"
             ],
             [
              0.7777777777777778,
              "#fb9f3a"
             ],
             [
              0.8888888888888888,
              "#fdca26"
             ],
             [
              1,
              "#f0f921"
             ]
            ],
            "type": "heatmap"
           }
          ],
          "heatmapgl": [
           {
            "colorbar": {
             "outlinewidth": 0,
             "ticks": ""
            },
            "colorscale": [
             [
              0,
              "#0d0887"
             ],
             [
              0.1111111111111111,
              "#46039f"
             ],
             [
              0.2222222222222222,
              "#7201a8"
             ],
             [
              0.3333333333333333,
              "#9c179e"
             ],
             [
              0.4444444444444444,
              "#bd3786"
             ],
             [
              0.5555555555555556,
              "#d8576b"
             ],
             [
              0.6666666666666666,
              "#ed7953"
             ],
             [
              0.7777777777777778,
              "#fb9f3a"
             ],
             [
              0.8888888888888888,
              "#fdca26"
             ],
             [
              1,
              "#f0f921"
             ]
            ],
            "type": "heatmapgl"
           }
          ],
          "histogram": [
           {
            "marker": {
             "colorbar": {
              "outlinewidth": 0,
              "ticks": ""
             }
            },
            "type": "histogram"
           }
          ],
          "histogram2d": [
           {
            "colorbar": {
             "outlinewidth": 0,
             "ticks": ""
            },
            "colorscale": [
             [
              0,
              "#0d0887"
             ],
             [
              0.1111111111111111,
              "#46039f"
             ],
             [
              0.2222222222222222,
              "#7201a8"
             ],
             [
              0.3333333333333333,
              "#9c179e"
             ],
             [
              0.4444444444444444,
              "#bd3786"
             ],
             [
              0.5555555555555556,
              "#d8576b"
             ],
             [
              0.6666666666666666,
              "#ed7953"
             ],
             [
              0.7777777777777778,
              "#fb9f3a"
             ],
             [
              0.8888888888888888,
              "#fdca26"
             ],
             [
              1,
              "#f0f921"
             ]
            ],
            "type": "histogram2d"
           }
          ],
          "histogram2dcontour": [
           {
            "colorbar": {
             "outlinewidth": 0,
             "ticks": ""
            },
            "colorscale": [
             [
              0,
              "#0d0887"
             ],
             [
              0.1111111111111111,
              "#46039f"
             ],
             [
              0.2222222222222222,
              "#7201a8"
             ],
             [
              0.3333333333333333,
              "#9c179e"
             ],
             [
              0.4444444444444444,
              "#bd3786"
             ],
             [
              0.5555555555555556,
              "#d8576b"
             ],
             [
              0.6666666666666666,
              "#ed7953"
             ],
             [
              0.7777777777777778,
              "#fb9f3a"
             ],
             [
              0.8888888888888888,
              "#fdca26"
             ],
             [
              1,
              "#f0f921"
             ]
            ],
            "type": "histogram2dcontour"
           }
          ],
          "mesh3d": [
           {
            "colorbar": {
             "outlinewidth": 0,
             "ticks": ""
            },
            "type": "mesh3d"
           }
          ],
          "parcoords": [
           {
            "line": {
             "colorbar": {
              "outlinewidth": 0,
              "ticks": ""
             }
            },
            "type": "parcoords"
           }
          ],
          "pie": [
           {
            "automargin": true,
            "type": "pie"
           }
          ],
          "scatter": [
           {
            "marker": {
             "colorbar": {
              "outlinewidth": 0,
              "ticks": ""
             }
            },
            "type": "scatter"
           }
          ],
          "scatter3d": [
           {
            "line": {
             "colorbar": {
              "outlinewidth": 0,
              "ticks": ""
             }
            },
            "marker": {
             "colorbar": {
              "outlinewidth": 0,
              "ticks": ""
             }
            },
            "type": "scatter3d"
           }
          ],
          "scattercarpet": [
           {
            "marker": {
             "colorbar": {
              "outlinewidth": 0,
              "ticks": ""
             }
            },
            "type": "scattercarpet"
           }
          ],
          "scattergeo": [
           {
            "marker": {
             "colorbar": {
              "outlinewidth": 0,
              "ticks": ""
             }
            },
            "type": "scattergeo"
           }
          ],
          "scattergl": [
           {
            "marker": {
             "colorbar": {
              "outlinewidth": 0,
              "ticks": ""
             }
            },
            "type": "scattergl"
           }
          ],
          "scattermapbox": [
           {
            "marker": {
             "colorbar": {
              "outlinewidth": 0,
              "ticks": ""
             }
            },
            "type": "scattermapbox"
           }
          ],
          "scatterpolar": [
           {
            "marker": {
             "colorbar": {
              "outlinewidth": 0,
              "ticks": ""
             }
            },
            "type": "scatterpolar"
           }
          ],
          "scatterpolargl": [
           {
            "marker": {
             "colorbar": {
              "outlinewidth": 0,
              "ticks": ""
             }
            },
            "type": "scatterpolargl"
           }
          ],
          "scatterternary": [
           {
            "marker": {
             "colorbar": {
              "outlinewidth": 0,
              "ticks": ""
             }
            },
            "type": "scatterternary"
           }
          ],
          "surface": [
           {
            "colorbar": {
             "outlinewidth": 0,
             "ticks": ""
            },
            "colorscale": [
             [
              0,
              "#0d0887"
             ],
             [
              0.1111111111111111,
              "#46039f"
             ],
             [
              0.2222222222222222,
              "#7201a8"
             ],
             [
              0.3333333333333333,
              "#9c179e"
             ],
             [
              0.4444444444444444,
              "#bd3786"
             ],
             [
              0.5555555555555556,
              "#d8576b"
             ],
             [
              0.6666666666666666,
              "#ed7953"
             ],
             [
              0.7777777777777778,
              "#fb9f3a"
             ],
             [
              0.8888888888888888,
              "#fdca26"
             ],
             [
              1,
              "#f0f921"
             ]
            ],
            "type": "surface"
           }
          ],
          "table": [
           {
            "cells": {
             "fill": {
              "color": "#EBF0F8"
             },
             "line": {
              "color": "white"
             }
            },
            "header": {
             "fill": {
              "color": "#C8D4E3"
             },
             "line": {
              "color": "white"
             }
            },
            "type": "table"
           }
          ]
         },
         "layout": {
          "annotationdefaults": {
           "arrowcolor": "#2a3f5f",
           "arrowhead": 0,
           "arrowwidth": 1
          },
          "autotypenumbers": "strict",
          "coloraxis": {
           "colorbar": {
            "outlinewidth": 0,
            "ticks": ""
           }
          },
          "colorscale": {
           "diverging": [
            [
             0,
             "#8e0152"
            ],
            [
             0.1,
             "#c51b7d"
            ],
            [
             0.2,
             "#de77ae"
            ],
            [
             0.3,
             "#f1b6da"
            ],
            [
             0.4,
             "#fde0ef"
            ],
            [
             0.5,
             "#f7f7f7"
            ],
            [
             0.6,
             "#e6f5d0"
            ],
            [
             0.7,
             "#b8e186"
            ],
            [
             0.8,
             "#7fbc41"
            ],
            [
             0.9,
             "#4d9221"
            ],
            [
             1,
             "#276419"
            ]
           ],
           "sequential": [
            [
             0,
             "#0d0887"
            ],
            [
             0.1111111111111111,
             "#46039f"
            ],
            [
             0.2222222222222222,
             "#7201a8"
            ],
            [
             0.3333333333333333,
             "#9c179e"
            ],
            [
             0.4444444444444444,
             "#bd3786"
            ],
            [
             0.5555555555555556,
             "#d8576b"
            ],
            [
             0.6666666666666666,
             "#ed7953"
            ],
            [
             0.7777777777777778,
             "#fb9f3a"
            ],
            [
             0.8888888888888888,
             "#fdca26"
            ],
            [
             1,
             "#f0f921"
            ]
           ],
           "sequentialminus": [
            [
             0,
             "#0d0887"
            ],
            [
             0.1111111111111111,
             "#46039f"
            ],
            [
             0.2222222222222222,
             "#7201a8"
            ],
            [
             0.3333333333333333,
             "#9c179e"
            ],
            [
             0.4444444444444444,
             "#bd3786"
            ],
            [
             0.5555555555555556,
             "#d8576b"
            ],
            [
             0.6666666666666666,
             "#ed7953"
            ],
            [
             0.7777777777777778,
             "#fb9f3a"
            ],
            [
             0.8888888888888888,
             "#fdca26"
            ],
            [
             1,
             "#f0f921"
            ]
           ]
          },
          "colorway": [
           "#636efa",
           "#EF553B",
           "#00cc96",
           "#ab63fa",
           "#FFA15A",
           "#19d3f3",
           "#FF6692",
           "#B6E880",
           "#FF97FF",
           "#FECB52"
          ],
          "font": {
           "color": "#2a3f5f"
          },
          "geo": {
           "bgcolor": "white",
           "lakecolor": "white",
           "landcolor": "#E5ECF6",
           "showlakes": true,
           "showland": true,
           "subunitcolor": "white"
          },
          "hoverlabel": {
           "align": "left"
          },
          "hovermode": "closest",
          "mapbox": {
           "style": "light"
          },
          "paper_bgcolor": "white",
          "plot_bgcolor": "#E5ECF6",
          "polar": {
           "angularaxis": {
            "gridcolor": "white",
            "linecolor": "white",
            "ticks": ""
           },
           "bgcolor": "#E5ECF6",
           "radialaxis": {
            "gridcolor": "white",
            "linecolor": "white",
            "ticks": ""
           }
          },
          "scene": {
           "xaxis": {
            "backgroundcolor": "#E5ECF6",
            "gridcolor": "white",
            "gridwidth": 2,
            "linecolor": "white",
            "showbackground": true,
            "ticks": "",
            "zerolinecolor": "white"
           },
           "yaxis": {
            "backgroundcolor": "#E5ECF6",
            "gridcolor": "white",
            "gridwidth": 2,
            "linecolor": "white",
            "showbackground": true,
            "ticks": "",
            "zerolinecolor": "white"
           },
           "zaxis": {
            "backgroundcolor": "#E5ECF6",
            "gridcolor": "white",
            "gridwidth": 2,
            "linecolor": "white",
            "showbackground": true,
            "ticks": "",
            "zerolinecolor": "white"
           }
          },
          "shapedefaults": {
           "line": {
            "color": "#2a3f5f"
           }
          },
          "ternary": {
           "aaxis": {
            "gridcolor": "white",
            "linecolor": "white",
            "ticks": ""
           },
           "baxis": {
            "gridcolor": "white",
            "linecolor": "white",
            "ticks": ""
           },
           "bgcolor": "#E5ECF6",
           "caxis": {
            "gridcolor": "white",
            "linecolor": "white",
            "ticks": ""
           }
          },
          "title": {
           "x": 0.05
          },
          "xaxis": {
           "automargin": true,
           "gridcolor": "white",
           "linecolor": "white",
           "ticks": "",
           "title": {
            "standoff": 15
           },
           "zerolinecolor": "white",
           "zerolinewidth": 2
          },
          "yaxis": {
           "automargin": true,
           "gridcolor": "white",
           "linecolor": "white",
           "ticks": "",
           "title": {
            "standoff": 15
           },
           "zerolinecolor": "white",
           "zerolinewidth": 2
          }
         }
        },
        "title": "Path in the FBZ",
        "width": 510,
        "xaxis": {
         "scaleanchor": "y",
         "showgrid": false,
         "showline": false,
         "showticklabels": false,
         "zeroline": false
        },
        "yaxis": {
         "scaleanchor": "x",
         "showgrid": false,
         "showline": false,
         "showticklabels": false,
         "zeroline": false
        }
       }
      },
      "image/png": "[encoded data removed]",
      "image/svg+xml": [
       "<svg class=\"main-svg\" xmlns=\"http://www.w3.org/2000/svg\" xmlns:xlink=\"http://www.w3.org/1999/xlink\" width=\"700\" height=\"500\" style=\"\" viewBox=\"0 0 700 500\"><rect x=\"0\" y=\"0\" width=\"700\" height=\"500\" style=\"fill: rgb(255, 255, 255); fill-opacity: 1;\"/><defs id=\"defs-56ce66\"><g class=\"clips\"><clipPath id=\"clip56ce66xyplot\" class=\"plotclip\"><rect width=\"600\" height=\"390\"/></clipPath><clipPath class=\"axesclip\" id=\"clip56ce66x\"><rect x=\"50\" y=\"0\" width=\"600\" height=\"500\"/></clipPath><clipPath class=\"axesclip\" id=\"clip56ce66y\"><rect x=\"0\" y=\"60\" width=\"700\" height=\"390\"/></clipPath><clipPath class=\"axesclip\" id=\"clip56ce66xy\"><rect x=\"50\" y=\"60\" width=\"600\" height=\"390\"/></clipPath></g><g class=\"gradients\"/><g class=\"patterns\"/></defs><g class=\"bglayer\"><rect class=\"bg\" x=\"50\" y=\"60\" width=\"600\" height=\"390\" style=\"fill: rgb(0, 0, 0); fill-opacity: 0; stroke-width: 0;\"/></g><g class=\"layer-below\"><g class=\"imagelayer\"/><g class=\"shapelayer\"/></g><g class=\"cartesianlayer\"><g class=\"subplot xy\"><g class=\"layer-subplot\"><g class=\"shapelayer\"/><g class=\"imagelayer\"/></g><g class=\"gridlayer\"><g class=\"x\"/><g class=\"y\"/></g><g class=\"zerolinelayer\"/><path class=\"xlines-below\"/><path class=\"ylines-below\"/><g class=\"overlines-below\"/><g class=\"xaxislayer-below\"/><g class=\"yaxislayer-below\"/><g class=\"overaxes-below\"/><g class=\"plot\" transform=\"translate(50,60)\" clip-path=\"url(#clip56ce66xyplot)\"><g class=\"scatterlayer mlayer\"><g class=\"trace scatter traceb1f875\" style=\"stroke-miterlimit: 2; opacity: 0.4;\"><g class=\"fills\"/><g class=\"errorbars\"/><g class=\"lines\"><path class=\"js-line\" d=\"M502.65,195L401.32,370.5L198.68,370.5L97.35,195L198.68,19.5L401.32,19.5L502.65,195\" style=\"vector-effect: non-scaling-stroke; fill: none; stroke: rgb(0, 0, 139); stroke-opacity: 1; stroke-width: 3px; opacity: 1;\"/></g><g class=\"points\"/><g class=\"text\"/></g><g class=\"trace scatter tracebe5edc\" style=\"stroke-miterlimit: 2; opacity: 1;\"><g class=\"fills\"/><g class=\"errorbars\"/><g class=\"lines\"><path class=\"js-line\" d=\"M300,195L502.65,195L451.99,107.25L300,195\" style=\"vector-effect: non-scaling-stroke; fill: none; stroke: rgb(0, 100, 0); stroke-opacity: 1; stroke-width: 4px; opacity: 1;\"/></g><g class=\"points\"/><g class=\"text\"/></g></g></g><g class=\"overplot\"/><path class=\"xlines-above crisp\" d=\"M0,0\" style=\"fill: none;\"/><path class=\"ylines-above crisp\" d=\"M0,0\" style=\"fill: none;\"/><g class=\"overlines-above\"/><g class=\"xaxislayer-above\"/><g class=\"yaxislayer-above\"/><g class=\"overaxes-above\"/></g></g><g class=\"polarlayer\"/><g class=\"ternarylayer\"/><g class=\"geolayer\"/><g class=\"funnelarealayer\"/><g class=\"pielayer\"/><g class=\"iciclelayer\"/><g class=\"treemaplayer\"/><g class=\"sunburstlayer\"/><g class=\"glimages\"/><defs id=\"topdefs-56ce66\"><g class=\"clips\"/></defs><g class=\"layer-above\"><g class=\"imagelayer\"/><g class=\"shapelayer\"/></g><g class=\"infolayer\"><g class=\"g-gtitle\"><text class=\"gtitle\" x=\"35\" y=\"30\" text-anchor=\"start\" dy=\"0em\" style=\"font-family: 'Open Sans', verdana, arial, sans-serif; font-size: 17px; fill: rgb(42, 63, 95); opacity: 1; font-weight: normal; white-space: pre;\">Path in the FBZ</text></g><g class=\"g-xtitle\"/><g class=\"g-ytitle\"/></g></svg>"
      ],
      "text/html": [
       "<div\n",
       "    class=\"webio-mountpoint\"\n",
       "    data-webio-mountpoint=\"18019055822064533947\"\n",
       ">\n",
       "    <script>\n",
       "    (function(){\n",
       "    // Some integrations (namely, IJulia/Jupyter) use an alternate render pathway than\n",
       "    // just putting the html on the page. If WebIO isn't defined, then it's pretty likely\n",
       "    // that we're in one of those situations and the integration just isn't installed\n",
       "    // correctly.\n",
       "    if (typeof window.WebIO === \"undefined\") {\n",
       "        document\n",
       "            .querySelector('[data-webio-mountpoint=\"18019055822064533947\"]')\n",
       "            .innerHTML = (\n",
       "                '<div style=\"padding: 1em; background-color: #f8d6da; border: 1px solid #f5c6cb; font-weight: bold;\">' +\n",
       "                '<p><strong>WebIO not detected.</strong></p>' +\n",
       "                '<p>Please read ' +\n",
       "                '<a href=\"https://juliagizmos.github.io/WebIO.jl/latest/troubleshooting/not-detected/\" target=\"_blank\">the troubleshooting guide</a> ' +\n",
       "                'for more information on how to resolve this issue.</p>' +\n",
       "                '<p><a href=\"https://juliagizmos.github.io/WebIO.jl/latest/troubleshooting/not-detected/\" target=\"_blank\">https://juliagizmos.github.io/WebIO.jl/latest/troubleshooting/not-detected/</a></p>' +\n",
       "                '</div>'\n",
       "            );\n",
       "        return;\n",
       "    }\n",
       "    WebIO.mount(\n",
       "        document.querySelector('[data-webio-mountpoint=\"18019055822064533947\"]'),\n",
       "        {\"props\":{},\"nodeType\":\"Scope\",\"type\":\"node\",\"instanceArgs\":{\"imports\":{\"data\":[{\"name\":\"Plotly\",\"type\":\"js\",\"url\":\"\\/assetserver\\/b267c3137400db01c304fe886fe6f707be7fdb37-plotly.min.js\"},{\"name\":null,\"type\":\"js\",\"url\":\"\\/assetserver\\/020f2e8a4619f2ae880fff9315e6547eef1aff0b-plotly_webio.bundle.js\"}],\"type\":\"async_block\"},\"id\":\"6702480697639755439\",\"handlers\":{\"_toImage\":[\"(function (options){return this.Plotly.toImage(this.plotElem,options).then((function (data){return WebIO.setval({\\\"name\\\":\\\"image\\\",\\\"scope\\\":\\\"6702480697639755439\\\",\\\"id\\\":\\\"145\\\",\\\"type\\\":\\\"observable\\\"},data)}))})\"],\"__get_gd_contents\":[\"(function (prop){prop==\\\"data\\\" ? (WebIO.setval({\\\"name\\\":\\\"__gd_contents\\\",\\\"scope\\\":\\\"6702480697639755439\\\",\\\"id\\\":\\\"146\\\",\\\"type\\\":\\\"observable\\\"},this.plotElem.data)) : undefined; return prop==\\\"layout\\\" ? (WebIO.setval({\\\"name\\\":\\\"__gd_contents\\\",\\\"scope\\\":\\\"6702480697639755439\\\",\\\"id\\\":\\\"146\\\",\\\"type\\\":\\\"observable\\\"},this.plotElem.layout)) : undefined})\"],\"_downloadImage\":[\"(function (options){return this.Plotly.downloadImage(this.plotElem,options)})\"],\"_commands\":[\"(function (args){var fn=args.shift(); var elem=this.plotElem; var Plotly=this.Plotly; args.unshift(elem); return Plotly[fn].apply(this,args)})\"]},\"systemjs_options\":null,\"mount_callbacks\":[\"function () {\\n    var handler = ((function (Plotly,PlotlyWebIO){PlotlyWebIO.init(WebIO); var gd=this.dom.querySelector(\\\"#plot-a4029e58-61db-4c6e-bb22-45839ba02e6a\\\"); this.plotElem=gd; this.Plotly=Plotly; (window.Blink!==undefined) ? (gd.style.width=\\\"100%\\\", gd.style.height=\\\"100vh\\\", gd.style.marginLeft=\\\"0%\\\", gd.style.marginTop=\\\"0vh\\\") : undefined; window.onresize=(function (){return Plotly.Plots.resize(gd)}); Plotly.newPlot(gd,[{\\\"mode\\\":\\\"lines\\\",\\\"line\\\":{\\\"color\\\":\\\"darkblue\\\",\\\"width\\\":3},\\\"y\\\":[0.0,-0.5773502980571391,-0.5773502980571392,-2.220446049250313e-16,0.577350298057139,0.5773502980571393,0.0],\\\"type\\\":\\\"scatter\\\",\\\"opacity\\\":0.4,\\\"x\\\":[0.6666667,0.33333335000000003,-0.3333333499999998,-0.6666667,-0.3333333500000002,0.33333334999999964,0.6666667]},{\\\"mode\\\":\\\"lines\\\",\\\"line\\\":{\\\"color\\\":\\\"darkgreen\\\",\\\"width\\\":4},\\\"y\\\":[0.0,0.0,0.288675,0.0],\\\"type\\\":\\\"scatter\\\",\\\"x\\\":[0.0,0.6666667,0.49999998349999997,0.0]}],{\\\"showlegend\\\":false,\\\"xaxis\\\":{\\\"showgrid\\\":false,\\\"showline\\\":false,\\\"showticklabels\\\":false,\\\"zeroline\\\":false,\\\"scaleanchor\\\":\\\"y\\\"},\\\"template\\\":{\\\"layout\\\":{\\\"coloraxis\\\":{\\\"colorbar\\\":{\\\"ticks\\\":\\\"\\\",\\\"outlinewidth\\\":0}},\\\"xaxis\\\":{\\\"gridcolor\\\":\\\"white\\\",\\\"zerolinewidth\\\":2,\\\"title\\\":{\\\"standoff\\\":15},\\\"ticks\\\":\\\"\\\",\\\"zerolinecolor\\\":\\\"white\\\",\\\"automargin\\\":true,\\\"linecolor\\\":\\\"white\\\"},\\\"hovermode\\\":\\\"closest\\\",\\\"paper_bgcolor\\\":\\\"white\\\",\\\"geo\\\":{\\\"showlakes\\\":true,\\\"showland\\\":true,\\\"landcolor\\\":\\\"#E5ECF6\\\",\\\"bgcolor\\\":\\\"white\\\",\\\"subunitcolor\\\":\\\"white\\\",\\\"lakecolor\\\":\\\"white\\\"},\\\"colorscale\\\":{\\\"sequential\\\":[[0.0,\\\"#0d0887\\\"],[0.1111111111111111,\\\"#46039f\\\"],[0.2222222222222222,\\\"#7201a8\\\"],[0.3333333333333333,\\\"#9c179e\\\"],[0.4444444444444444,\\\"#bd3786\\\"],[0.5555555555555556,\\\"#d8576b\\\"],[0.6666666666666666,\\\"#ed7953\\\"],[0.7777777777777778,\\\"#fb9f3a\\\"],[0.8888888888888888,\\\"#fdca26\\\"],[1.0,\\\"#f0f921\\\"]],\\\"diverging\\\":[[0,\\\"#8e0152\\\"],[0.1,\\\"#c51b7d\\\"],[0.2,\\\"#de77ae\\\"],[0.3,\\\"#f1b6da\\\"],[0.4,\\\"#fde0ef\\\"],[0.5,\\\"#f7f7f7\\\"],[0.6,\\\"#e6f5d0\\\"],[0.7,\\\"#b8e186\\\"],[0.8,\\\"#7fbc41\\\"],[0.9,\\\"#4d9221\\\"],[1,\\\"#276419\\\"]],\\\"sequentialminus\\\":[[0.0,\\\"#0d0887\\\"],[0.1111111111111111,\\\"#46039f\\\"],[0.2222222222222222,\\\"#7201a8\\\"],[0.3333333333333333,\\\"#9c179e\\\"],[0.4444444444444444,\\\"#bd3786\\\"],[0.5555555555555556,\\\"#d8576b\\\"],[0.6666666666666666,\\\"#ed7953\\\"],[0.7777777777777778,\\\"#fb9f3a\\\"],[0.8888888888888888,\\\"#fdca26\\\"],[1.0,\\\"#f0f921\\\"]]},\\\"yaxis\\\":{\\\"gridcolor\\\":\\\"white\\\",\\\"zerolinewidth\\\":2,\\\"title\\\":{\\\"standoff\\\":15},\\\"ticks\\\":\\\"\\\",\\\"zerolinecolor\\\":\\\"white\\\",\\\"automargin\\\":true,\\\"linecolor\\\":\\\"white\\\"},\\\"shapedefaults\\\":{\\\"line\\\":{\\\"color\\\":\\\"#2a3f5f\\\"}},\\\"hoverlabel\\\":{\\\"align\\\":\\\"left\\\"},\\\"mapbox\\\":{\\\"style\\\":\\\"light\\\"},\\\"polar\\\":{\\\"angularaxis\\\":{\\\"gridcolor\\\":\\\"white\\\",\\\"ticks\\\":\\\"\\\",\\\"linecolor\\\":\\\"white\\\"},\\\"bgcolor\\\":\\\"#E5ECF6\\\",\\\"radialaxis\\\":{\\\"gridcolor\\\":\\\"white\\\",\\\"ticks\\\":\\\"\\\",\\\"linecolor\\\":\\\"white\\\"}},\\\"autotypenumbers\\\":\\\"strict\\\",\\\"font\\\":{\\\"color\\\":\\\"#2a3f5f\\\"},\\\"ternary\\\":{\\\"baxis\\\":{\\\"gridcolor\\\":\\\"white\\\",\\\"ticks\\\":\\\"\\\",\\\"linecolor\\\":\\\"white\\\"},\\\"bgcolor\\\":\\\"#E5ECF6\\\",\\\"caxis\\\":{\\\"gridcolor\\\":\\\"white\\\",\\\"ticks\\\":\\\"\\\",\\\"linecolor\\\":\\\"white\\\"},\\\"aaxis\\\":{\\\"gridcolor\\\":\\\"white\\\",\\\"ticks\\\":\\\"\\\",\\\"linecolor\\\":\\\"white\\\"}},\\\"annotationdefaults\\\":{\\\"arrowhead\\\":0,\\\"arrowwidth\\\":1,\\\"arrowcolor\\\":\\\"#2a3f5f\\\"},\\\"plot_bgcolor\\\":\\\"#E5ECF6\\\",\\\"title\\\":{\\\"x\\\":0.05},\\\"scene\\\":{\\\"xaxis\\\":{\\\"gridcolor\\\":\\\"white\\\",\\\"gridwidth\\\":2,\\\"backgroundcolor\\\":\\\"#E5ECF6\\\",\\\"ticks\\\":\\\"\\\",\\\"showbackground\\\":true,\\\"zerolinecolor\\\":\\\"white\\\",\\\"linecolor\\\":\\\"white\\\"},\\\"zaxis\\\":{\\\"gridcolor\\\":\\\"white\\\",\\\"gridwidth\\\":2,\\\"backgroundcolor\\\":\\\"#E5ECF6\\\",\\\"ticks\\\":\\\"\\\",\\\"showbackground\\\":true,\\\"zerolinecolor\\\":\\\"white\\\",\\\"linecolor\\\":\\\"white\\\"},\\\"yaxis\\\":{\\\"gridcolor\\\":\\\"white\\\",\\\"gridwidth\\\":2,\\\"backgroundcolor\\\":\\\"#E5ECF6\\\",\\\"ticks\\\":\\\"\\\",\\\"showbackground\\\":true,\\\"zerolinecolor\\\":\\\"white\\\",\\\"linecolor\\\":\\\"white\\\"}},\\\"colorway\\\":[\\\"#636efa\\\",\\\"#EF553B\\\",\\\"#00cc96\\\",\\\"#ab63fa\\\",\\\"#FFA15A\\\",\\\"#19d3f3\\\",\\\"#FF6692\\\",\\\"#B6E880\\\",\\\"#FF97FF\\\",\\\"#FECB52\\\"]},\\\"data\\\":{\\\"barpolar\\\":[{\\\"type\\\":\\\"barpolar\\\",\\\"marker\\\":{\\\"line\\\":{\\\"color\\\":\\\"#E5ECF6\\\",\\\"width\\\":0.5}}}],\\\"carpet\\\":[{\\\"aaxis\\\":{\\\"gridcolor\\\":\\\"white\\\",\\\"endlinecolor\\\":\\\"#2a3f5f\\\",\\\"minorgridcolor\\\":\\\"white\\\",\\\"startlinecolor\\\":\\\"#2a3f5f\\\",\\\"linecolor\\\":\\\"white\\\"},\\\"type\\\":\\\"carpet\\\",\\\"baxis\\\":{\\\"gridcolor\\\":\\\"white\\\",\\\"endlinecolor\\\":\\\"#2a3f5f\\\",\\\"minorgridcolor\\\":\\\"white\\\",\\\"startlinecolor\\\":\\\"#2a3f5f\\\",\\\"linecolor\\\":\\\"white\\\"}}],\\\"scatterpolar\\\":[{\\\"type\\\":\\\"scatterpolar\\\",\\\"marker\\\":{\\\"colorbar\\\":{\\\"ticks\\\":\\\"\\\",\\\"outlinewidth\\\":0}}}],\\\"parcoords\\\":[{\\\"line\\\":{\\\"colorbar\\\":{\\\"ticks\\\":\\\"\\\",\\\"outlinewidth\\\":0}},\\\"type\\\":\\\"parcoords\\\"}],\\\"scatter\\\":[{\\\"type\\\":\\\"scatter\\\",\\\"marker\\\":{\\\"colorbar\\\":{\\\"ticks\\\":\\\"\\\",\\\"outlinewidth\\\":0}}}],\\\"histogram2dcontour\\\":[{\\\"colorbar\\\":{\\\"ticks\\\":\\\"\\\",\\\"outlinewidth\\\":0},\\\"type\\\":\\\"histogram2dcontour\\\",\\\"colorscale\\\":[[0.0,\\\"#0d0887\\\"],[0.1111111111111111,\\\"#46039f\\\"],[0.2222222222222222,\\\"#7201a8\\\"],[0.3333333333333333,\\\"#9c179e\\\"],[0.4444444444444444,\\\"#bd3786\\\"],[0.5555555555555556,\\\"#d8576b\\\"],[0.6666666666666666,\\\"#ed7953\\\"],[0.7777777777777778,\\\"#fb9f3a\\\"],[0.8888888888888888,\\\"#fdca26\\\"],[1.0,\\\"#f0f921\\\"]]}],\\\"contour\\\":[{\\\"colorbar\\\":{\\\"ticks\\\":\\\"\\\",\\\"outlinewidth\\\":0},\\\"type\\\":\\\"contour\\\",\\\"colorscale\\\":[[0.0,\\\"#0d0887\\\"],[0.1111111111111111,\\\"#46039f\\\"],[0.2222222222222222,\\\"#7201a8\\\"],[0.3333333333333333,\\\"#9c179e\\\"],[0.4444444444444444,\\\"#bd3786\\\"],[0.5555555555555556,\\\"#d8576b\\\"],[0.6666666666666666,\\\"#ed7953\\\"],[0.7777777777777778,\\\"#fb9f3a\\\"],[0.8888888888888888,\\\"#fdca26\\\"],[1.0,\\\"#f0f921\\\"]]}],\\\"scattercarpet\\\":[{\\\"type\\\":\\\"scattercarpet\\\",\\\"marker\\\":{\\\"colorbar\\\":{\\\"ticks\\\":\\\"\\\",\\\"outlinewidth\\\":0}}}],\\\"mesh3d\\\":[{\\\"colorbar\\\":{\\\"ticks\\\":\\\"\\\",\\\"outlinewidth\\\":0},\\\"type\\\":\\\"mesh3d\\\"}],\\\"surface\\\":[{\\\"colorbar\\\":{\\\"ticks\\\":\\\"\\\",\\\"outlinewidth\\\":0},\\\"type\\\":\\\"surface\\\",\\\"colorscale\\\":[[0.0,\\\"#0d0887\\\"],[0.1111111111111111,\\\"#46039f\\\"],[0.2222222222222222,\\\"#7201a8\\\"],[0.3333333333333333,\\\"#9c179e\\\"],[0.4444444444444444,\\\"#bd3786\\\"],[0.5555555555555556,\\\"#d8576b\\\"],[0.6666666666666666,\\\"#ed7953\\\"],[0.7777777777777778,\\\"#fb9f3a\\\"],[0.8888888888888888,\\\"#fdca26\\\"],[1.0,\\\"#f0f921\\\"]]}],\\\"scattermapbox\\\":[{\\\"type\\\":\\\"scattermapbox\\\",\\\"marker\\\":{\\\"colorbar\\\":{\\\"ticks\\\":\\\"\\\",\\\"outlinewidth\\\":0}}}],\\\"scattergeo\\\":[{\\\"type\\\":\\\"scattergeo\\\",\\\"marker\\\":{\\\"colorbar\\\":{\\\"ticks\\\":\\\"\\\",\\\"outlinewidth\\\":0}}}],\\\"histogram\\\":[{\\\"type\\\":\\\"histogram\\\",\\\"marker\\\":{\\\"colorbar\\\":{\\\"ticks\\\":\\\"\\\",\\\"outlinewidth\\\":0}}}],\\\"pie\\\":[{\\\"type\\\":\\\"pie\\\",\\\"automargin\\\":true}],\\\"choropleth\\\":[{\\\"colorbar\\\":{\\\"ticks\\\":\\\"\\\",\\\"outlinewidth\\\":0},\\\"type\\\":\\\"choropleth\\\"}],\\\"heatmapgl\\\":[{\\\"colorbar\\\":{\\\"ticks\\\":\\\"\\\",\\\"outlinewidth\\\":0},\\\"type\\\":\\\"heatmapgl\\\",\\\"colorscale\\\":[[0.0,\\\"#0d0887\\\"],[0.1111111111111111,\\\"#46039f\\\"],[0.2222222222222222,\\\"#7201a8\\\"],[0.3333333333333333,\\\"#9c179e\\\"],[0.4444444444444444,\\\"#bd3786\\\"],[0.5555555555555556,\\\"#d8576b\\\"],[0.6666666666666666,\\\"#ed7953\\\"],[0.7777777777777778,\\\"#fb9f3a\\\"],[0.8888888888888888,\\\"#fdca26\\\"],[1.0,\\\"#f0f921\\\"]]}],\\\"bar\\\":[{\\\"type\\\":\\\"bar\\\",\\\"error_y\\\":{\\\"color\\\":\\\"#2a3f5f\\\"},\\\"error_x\\\":{\\\"color\\\":\\\"#2a3f5f\\\"},\\\"marker\\\":{\\\"line\\\":{\\\"color\\\":\\\"#E5ECF6\\\",\\\"width\\\":0.5}}}],\\\"heatmap\\\":[{\\\"colorbar\\\":{\\\"ticks\\\":\\\"\\\",\\\"outlinewidth\\\":0},\\\"type\\\":\\\"heatmap\\\",\\\"colorscale\\\":[[0.0,\\\"#0d0887\\\"],[0.1111111111111111,\\\"#46039f\\\"],[0.2222222222222222,\\\"#7201a8\\\"],[0.3333333333333333,\\\"#9c179e\\\"],[0.4444444444444444,\\\"#bd3786\\\"],[0.5555555555555556,\\\"#d8576b\\\"],[0.6666666666666666,\\\"#ed7953\\\"],[0.7777777777777778,\\\"#fb9f3a\\\"],[0.8888888888888888,\\\"#fdca26\\\"],[1.0,\\\"#f0f921\\\"]]}],\\\"contourcarpet\\\":[{\\\"colorbar\\\":{\\\"ticks\\\":\\\"\\\",\\\"outlinewidth\\\":0},\\\"type\\\":\\\"contourcarpet\\\"}],\\\"table\\\":[{\\\"type\\\":\\\"table\\\",\\\"header\\\":{\\\"line\\\":{\\\"color\\\":\\\"white\\\"},\\\"fill\\\":{\\\"color\\\":\\\"#C8D4E3\\\"}},\\\"cells\\\":{\\\"line\\\":{\\\"color\\\":\\\"white\\\"},\\\"fill\\\":{\\\"color\\\":\\\"#EBF0F8\\\"}}}],\\\"scatter3d\\\":[{\\\"line\\\":{\\\"colorbar\\\":{\\\"ticks\\\":\\\"\\\",\\\"outlinewidth\\\":0}},\\\"type\\\":\\\"scatter3d\\\",\\\"marker\\\":{\\\"colorbar\\\":{\\\"ticks\\\":\\\"\\\",\\\"outlinewidth\\\":0}}}],\\\"scattergl\\\":[{\\\"type\\\":\\\"scattergl\\\",\\\"marker\\\":{\\\"colorbar\\\":{\\\"ticks\\\":\\\"\\\",\\\"outlinewidth\\\":0}}}],\\\"histogram2d\\\":[{\\\"colorbar\\\":{\\\"ticks\\\":\\\"\\\",\\\"outlinewidth\\\":0},\\\"type\\\":\\\"histogram2d\\\",\\\"colorscale\\\":[[0.0,\\\"#0d0887\\\"],[0.1111111111111111,\\\"#46039f\\\"],[0.2222222222222222,\\\"#7201a8\\\"],[0.3333333333333333,\\\"#9c179e\\\"],[0.4444444444444444,\\\"#bd3786\\\"],[0.5555555555555556,\\\"#d8576b\\\"],[0.6666666666666666,\\\"#ed7953\\\"],[0.7777777777777778,\\\"#fb9f3a\\\"],[0.8888888888888888,\\\"#fdca26\\\"],[1.0,\\\"#f0f921\\\"]]}],\\\"scatterternary\\\":[{\\\"type\\\":\\\"scatterternary\\\",\\\"marker\\\":{\\\"colorbar\\\":{\\\"ticks\\\":\\\"\\\",\\\"outlinewidth\\\":0}}}],\\\"scatterpolargl\\\":[{\\\"type\\\":\\\"scatterpolargl\\\",\\\"marker\\\":{\\\"colorbar\\\":{\\\"ticks\\\":\\\"\\\",\\\"outlinewidth\\\":0}}}]}},\\\"height\\\":510,\\\"margin\\\":{\\\"l\\\":50,\\\"b\\\":50,\\\"r\\\":50,\\\"t\\\":60},\\\"title\\\":\\\"Path in the FBZ\\\",\\\"yaxis\\\":{\\\"showgrid\\\":false,\\\"showline\\\":false,\\\"showticklabels\\\":false,\\\"zeroline\\\":false,\\\"scaleanchor\\\":\\\"x\\\"},\\\"plot_bgcolor\\\":\\\"rgba(0,0,0,0)\\\",\\\"width\\\":510},{\\\"showLink\\\":false,\\\"editable\\\":false,\\\"responsive\\\":true,\\\"staticPlot\\\":false,\\\"scrollZoom\\\":true}); gd.on(\\\"plotly_hover\\\",(function (data){var filtered_data=WebIO.PlotlyCommands.filterEventData(gd,data,\\\"hover\\\"); return !(filtered_data.isnil) ? (WebIO.setval({\\\"name\\\":\\\"hover\\\",\\\"scope\\\":\\\"6702480697639755439\\\",\\\"id\\\":\\\"141\\\",\\\"type\\\":\\\"observable\\\"},filtered_data.out)) : undefined})); gd.on(\\\"plotly_unhover\\\",(function (){return WebIO.setval({\\\"name\\\":\\\"hover\\\",\\\"scope\\\":\\\"6702480697639755439\\\",\\\"id\\\":\\\"141\\\",\\\"type\\\":\\\"observable\\\"},{})})); gd.on(\\\"plotly_selected\\\",(function (data){var filtered_data=WebIO.PlotlyCommands.filterEventData(gd,data,\\\"selected\\\"); return !(filtered_data.isnil) ? (WebIO.setval({\\\"name\\\":\\\"selected\\\",\\\"scope\\\":\\\"6702480697639755439\\\",\\\"id\\\":\\\"142\\\",\\\"type\\\":\\\"observable\\\"},filtered_data.out)) : undefined})); gd.on(\\\"plotly_deselect\\\",(function (){return WebIO.setval({\\\"name\\\":\\\"selected\\\",\\\"scope\\\":\\\"6702480697639755439\\\",\\\"id\\\":\\\"142\\\",\\\"type\\\":\\\"observable\\\"},{})})); gd.on(\\\"plotly_relayout\\\",(function (data){var filtered_data=WebIO.PlotlyCommands.filterEventData(gd,data,\\\"relayout\\\"); return !(filtered_data.isnil) ? (WebIO.setval({\\\"name\\\":\\\"relayout\\\",\\\"scope\\\":\\\"6702480697639755439\\\",\\\"id\\\":\\\"144\\\",\\\"type\\\":\\\"observable\\\"},filtered_data.out)) : undefined})); return gd.on(\\\"plotly_click\\\",(function (data){var filtered_data=WebIO.PlotlyCommands.filterEventData(gd,data,\\\"click\\\"); return !(filtered_data.isnil) ? (WebIO.setval({\\\"name\\\":\\\"click\\\",\\\"scope\\\":\\\"6702480697639755439\\\",\\\"id\\\":\\\"143\\\",\\\"type\\\":\\\"observable\\\"},filtered_data.out)) : undefined}))}));\\n    (WebIO.importBlock({\\\"data\\\":[{\\\"name\\\":\\\"Plotly\\\",\\\"type\\\":\\\"js\\\",\\\"url\\\":\\\"\\/assetserver\\/b267c3137400db01c304fe886fe6f707be7fdb37-plotly.min.js\\\"},{\\\"name\\\":null,\\\"type\\\":\\\"js\\\",\\\"url\\\":\\\"\\/assetserver\\/020f2e8a4619f2ae880fff9315e6547eef1aff0b-plotly_webio.bundle.js\\\"}],\\\"type\\\":\\\"async_block\\\"})).then((imports) => handler.apply(this, imports));\\n}\\n\"],\"observables\":{\"_toImage\":{\"sync\":false,\"id\":\"148\",\"value\":{}},\"hover\":{\"sync\":false,\"id\":\"141\",\"value\":{}},\"selected\":{\"sync\":false,\"id\":\"142\",\"value\":{}},\"__gd_contents\":{\"sync\":false,\"id\":\"146\",\"value\":{}},\"click\":{\"sync\":false,\"id\":\"143\",\"value\":{}},\"image\":{\"sync\":true,\"id\":\"145\",\"value\":\"\"},\"__get_gd_contents\":{\"sync\":false,\"id\":\"150\",\"value\":\"\"},\"_downloadImage\":{\"sync\":false,\"id\":\"149\",\"value\":{}},\"relayout\":{\"sync\":false,\"id\":\"144\",\"value\":{}},\"_commands\":{\"sync\":false,\"id\":\"147\",\"value\":[]}}},\"children\":[{\"props\":{\"id\":\"plot-a4029e58-61db-4c6e-bb22-45839ba02e6a\"},\"nodeType\":\"DOM\",\"type\":\"node\",\"instanceArgs\":{\"namespace\":\"html\",\"tag\":\"div\"},\"children\":[]}]},\n",
       "        window,\n",
       "    );\n",
       "    })()\n",
       "    </script>\n",
       "</div>\n"
      ],
      "text/plain": [
       "data: [\n",
       "  \"scatter with fields line, mode, opacity, type, x, and y\",\n",
       "  \"scatter with fields line, mode, type, x, and y\"\n",
       "]\n",
       "\n",
       "layout: \"layout with fields height, margin, plot_bgcolor, showlegend, template, title, width, xaxis, and yaxis\"\n",
       "\n"
      ]
     },
     "metadata": {},
     "output_type": "display_data"
    }
   ],
   "source": [
    "plot_kpath_fbz(corners, kpath_nodes)"
   ]
  },
  {
   "cell_type": "code",
   "execution_count": 59,
   "metadata": {},
   "outputs": [
    {
     "name": "stderr",
     "output_type": "stream",
     "text": [
      "WARNING: redefinition of constant Main.kpath_fbz. This may fail, cause incorrect answers, or produce other errors.\n",
      "WARNING: redefinition of constant Main.kpath_fbz_reduced. This may fail, cause incorrect answers, or produce other errors.\n"
     ]
    }
   ],
   "source": [
    "# Now, construct the K-Path using linear interpolation. Will directly use the function provided in the Brillouin.jl package \n",
    "global const npts_kpath::Int64 = 500\n",
    "global const kpath_fbz::Vector{Vector{Float64}} = interpolate(kpath_nodes, npts_kpath);\n",
    "global const kpath_fbz_reduced::Vector{Vector{Float64}} = make_reduced(kpath_fbz, recip_basis);"
   ]
  },
  {
   "cell_type": "markdown",
   "metadata": {},
   "source": [
    "# In the next part of this notebook, we plot the band structure for the monolayer Kagome model. #"
   ]
  },
  {
   "cell_type": "code",
   "execution_count": 60,
   "metadata": {},
   "outputs": [
    {
     "data": {
      "text/plain": [
       "plot_simple_kagome_bands (generic function with 2 methods)"
      ]
     },
     "metadata": {},
     "output_type": "display_data"
    }
   ],
   "source": [
    "function plot_simple_kagome_bands()\n",
    "    p = Params()\n",
    "    eks = evals3.(kpath_fbz_reduced, Ref(p))\n",
    "    xs = 1 : size(kpath_fbz_reduced, 1)\n",
    "    t1 = scatter(x = xs, y = map(e->e[1], eks))\n",
    "    t2 = scatter(x = xs, y = map(e->e[2], eks))\n",
    "    t3 = scatter(x = xs, y = map(e->e[3], eks))\n",
    "    plot([t1, t2, t3])\n",
    "end"
   ]
  },
  {
   "cell_type": "code",
   "execution_count": 61,
   "metadata": {},
   "outputs": [
    {
     "data": {
      "application/vnd.plotly.v1+json": {
       "config": {
        "editable": false,
        "responsive": true,
        "scrollZoom": true,
        "showLink": false,
        "staticPlot": false
       },
       "data": [
        {
         "type": "scatter",
         "x": [
          1,
          2,
          3,
          4,
          5,
          6,
          7,
          8,
          9,
          10,
          11,
          12,
          13,
          14,
          15,
          16,
          17,
          18,
          19,
          20,
          21,
          22,
          23,
          24,
          25,
          26,
          27,
          28,
          29,
          30,
          31,
          32,
          33,
          34,
          35,
          36,
          37,
          38,
          39,
          40,
          41,
          42,
          43,
          44,
          45,
          46,
          47,
          48,
          49,
          50,
          51,
          52,
          53,
          54,
          55,
          56,
          57,
          58,
          59,
          60,
          61,
          62,
          63,
          64,
          65,
          66,
          67,
          68,
          69,
          70,
          71,
          72,
          73,
          74,
          75,
          76,
          77,
          78,
          79,
          80,
          81,
          82,
          83,
          84,
          85,
          86,
          87,
          88,
          89,
          90,
          91,
          92,
          93,
          94,
          95,
          96,
          97,
          98,
          99,
          100,
          101,
          102,
          103,
          104,
          105,
          106,
          107,
          108,
          109,
          110,
          111,
          112,
          113,
          114,
          115,
          116,
          117,
          118,
          119,
          120,
          121,
          122,
          123,
          124,
          125,
          126,
          127,
          128,
          129,
          130,
          131,
          132,
          133,
          134,
          135,
          136,
          137,
          138,
          139,
          140,
          141,
          142,
          143,
          144,
          145,
          146,
          147,
          148,
          149,
          150,
          151,
          152,
          153,
          154,
          155,
          156,
          157,
          158,
          159,
          160,
          161,
          162,
          163,
          164,
          165,
          166,
          167,
          168,
          169,
          170,
          171,
          172,
          173,
          174,
          175,
          176,
          177,
          178,
          179,
          180,
          181,
          182,
          183,
          184,
          185,
          186,
          187,
          188,
          189,
          190,
          191,
          192,
          193,
          194,
          195,
          196,
          197,
          198,
          199,
          200,
          201,
          202,
          203,
          204,
          205,
          206,
          207,
          208,
          209,
          210,
          211,
          212,
          213,
          214,
          215,
          216,
          217,
          218,
          219,
          220,
          221,
          222,
          223,
          224,
          225,
          226,
          227,
          228,
          229,
          230,
          231,
          232,
          233,
          234,
          235,
          236,
          237,
          238,
          239,
          240,
          241,
          242,
          243,
          244,
          245,
          246,
          247,
          248,
          249,
          250,
          251,
          252,
          253,
          254,
          255,
          256,
          257,
          258,
          259,
          260,
          261,
          262,
          263,
          264,
          265,
          266,
          267,
          268,
          269,
          270,
          271,
          272,
          273,
          274,
          275,
          276,
          277,
          278,
          279,
          280,
          281,
          282,
          283,
          284,
          285,
          286,
          287,
          288,
          289,
          290,
          291,
          292,
          293,
          294,
          295,
          296,
          297,
          298,
          299,
          300,
          301,
          302,
          303,
          304,
          305,
          306,
          307,
          308,
          309,
          310,
          311,
          312,
          313,
          314,
          315,
          316,
          317,
          318,
          319,
          320,
          321,
          322,
          323,
          324,
          325,
          326,
          327,
          328,
          329,
          330,
          331,
          332,
          333,
          334,
          335,
          336,
          337,
          338,
          339,
          340,
          341,
          342,
          343,
          344,
          345,
          346,
          347,
          348,
          349,
          350,
          351,
          352,
          353,
          354,
          355,
          356,
          357,
          358,
          359,
          360,
          361,
          362,
          363,
          364,
          365,
          366,
          367,
          368,
          369,
          370,
          371,
          372,
          373,
          374,
          375,
          376,
          377,
          378,
          379,
          380,
          381,
          382,
          383,
          384,
          385,
          386,
          387,
          388,
          389,
          390,
          391,
          392,
          393,
          394,
          395,
          396,
          397,
          398,
          399,
          400,
          401,
          402,
          403,
          404,
          405,
          406,
          407,
          408,
          409,
          410,
          411,
          412,
          413,
          414,
          415,
          416,
          417,
          418,
          419,
          420,
          421,
          422,
          423,
          424,
          425,
          426,
          427,
          428,
          429,
          430,
          431,
          432,
          433,
          434,
          435,
          436,
          437,
          438,
          439,
          440,
          441,
          442,
          443,
          444,
          445,
          446,
          447,
          448,
          449,
          450,
          451,
          452,
          453,
          454,
          455,
          456,
          457,
          458,
          459,
          460,
          461,
          462,
          463,
          464,
          465,
          466,
          467,
          468,
          469,
          470,
          471,
          472,
          473,
          474,
          475,
          476,
          477,
          478,
          479,
          480,
          481,
          482,
          483,
          484,
          485,
          486,
          487,
          488,
          489,
          490,
          491,
          492,
          493,
          494,
          495,
          496,
          497,
          498,
          499,
          500
         ],
         "y": [
          -2.000000000000001,
          -2,
          -2,
          -2.0000000000000004,
          -1.9999999999999998,
          -2.000000000000001,
          -2.0000000000000004,
          -2.000000000000001,
          -2,
          -2.000000000000001,
          -2,
          -2,
          -2.0000000000000004,
          -2.0000000000000004,
          -2.000000000000001,
          -2.000000000000001,
          -2,
          -2,
          -2.0000000000000004,
          -2.000000000000001,
          -2,
          -2.0000000000000004,
          -1.9999999999999998,
          -2.000000000000001,
          -2.000000000000001,
          -2,
          -2.000000000000001,
          -2,
          -2.000000000000001,
          -2,
          -2.000000000000001,
          -2.0000000000000004,
          -1.9999999999999998,
          -2,
          -1.9999999999999998,
          -2.000000000000001,
          -2,
          -2,
          -2.0000000000000004,
          -1.9999999999999998,
          -2.000000000000001,
          -2.000000000000001,
          -2.0000000000000004,
          -2,
          -2,
          -2.0000000000000004,
          -2.0000000000000004,
          -2.000000000000001,
          -2.000000000000001,
          -2.000000000000001,
          -2,
          -2.0000000000000004,
          -2.000000000000001,
          -1.9999999999999996,
          -2.000000000000001,
          -2,
          -2.0000000000000004,
          -2,
          -2.0000000000000004,
          -1.9999999999999998,
          -2.0000000000000004,
          -2.0000000000000004,
          -2.000000000000001,
          -2.0000000000000004,
          -2,
          -2.0000000000000004,
          -2.0000000000000004,
          -2.0000000000000004,
          -2.0000000000000004,
          -2,
          -2.000000000000001,
          -2,
          -2.0000000000000004,
          -2.0000000000000004,
          -2,
          -2,
          -2,
          -2.000000000000001,
          -2,
          -2.0000000000000013,
          -1.9999999999999998,
          -2.000000000000001,
          -2.0000000000000004,
          -2,
          -1.9999999999999996,
          -2,
          -2.0000000000000004,
          -2.0000000000000004,
          -2.0000000000000004,
          -2.000000000000001,
          -1.9999999999999998,
          -2,
          -1.9999999999999996,
          -2,
          -2.0000000000000004,
          -2.0000000000000004,
          -1.9999999999999993,
          -1.9999999999999998,
          -1.9999999999999998,
          -2,
          -1.9999999999999998,
          -1.9999999999999998,
          -1.9999999999999993,
          -2.000000000000001,
          -2.0000000000000004,
          -1.9999999999999998,
          -2.000000000000001,
          -2.000000000000001,
          -2,
          -2.000000000000001,
          -2,
          -2.0000000000000004,
          -1.9999999999999998,
          -2,
          -2.000000000000001,
          -2.0000000000000004,
          -2.0000000000000004,
          -2,
          -2,
          -2,
          -1.9999999999999998,
          -2,
          -1.9999999999999998,
          -2.0000000000000004,
          -1.9999999999999993,
          -2,
          -2.0000000000000004,
          -2.000000000000001,
          -1.9999999999999998,
          -2,
          -2.0000000000000004,
          -2.0000000000000004,
          -2,
          -1.9999999999999996,
          -2,
          -1.9999999999999996,
          -1.9999999999999998,
          -2,
          -2,
          -2,
          -2,
          -2,
          -2.000000000000001,
          -2,
          -2,
          -2.0000000000000004,
          -2.0000000000000004,
          -2.0000000000000004,
          -2,
          -2.000000000000001,
          -1.9999999999999998,
          -2.0000000000000004,
          -2,
          -2,
          -2,
          -1.9999999999999998,
          -1.9999999999999998,
          -2,
          -2,
          -2,
          -2,
          -2,
          -2,
          -2,
          -2,
          -2,
          -2,
          -2.0000000000000004,
          -2,
          -2,
          -2,
          -2,
          -2,
          -2,
          -2,
          -2,
          -2,
          -2,
          -2,
          -2,
          -2,
          -2,
          -2,
          -2.000000000000001,
          -2.0000000000000004,
          -2,
          -2,
          -2,
          -2,
          -2,
          -1.9999999999999996,
          -2,
          -2,
          -2,
          -2,
          -2,
          -2,
          -2,
          -2,
          -2,
          -2,
          -2,
          -2.0000000000000004,
          -2,
          -2,
          -2,
          -2,
          -2,
          -2,
          -2,
          -2,
          -2,
          -1.9999999999999998,
          -1.9999999999999996,
          -2,
          -2.0000000000000004,
          -2.0000000000000004,
          -1.9999999999999996,
          -2,
          -2.0000000000000004,
          -1.9999999999999991,
          -2.0000000000000004,
          -2,
          -2.0000000000000004,
          -1.9999999999999996,
          -1.9999999999999998,
          -1.9999999999999996,
          -1.9999999999999998,
          -2.000000000000001,
          -2,
          -2,
          -1.9999999999999993,
          -2,
          -2,
          -1.9999999999999996,
          -1.9999999999999996,
          -2,
          -1.9999999999999996,
          -2,
          -1.9999999999999996,
          -1.9999999999999993,
          -2,
          -2,
          -2,
          -2,
          -1.9999999999999998,
          -2.0000000000000004,
          -1.9999999999999996,
          -1.9999999999999996,
          -1.9999999999999996,
          -2.0000000000000004,
          -2,
          -1.9999999999999996,
          -1.9999999999999991,
          -2,
          -2,
          -2,
          -2,
          -2,
          -1.9999999999999998,
          -2,
          -1.9999999999999998,
          -1.9999999999999991,
          -2.0000000000000004,
          -2,
          -1.9999999999999993,
          -2,
          -1.9999999999999998,
          -1.9999999999999998,
          -1.9999999999999996,
          -2,
          -1.9999999999999996,
          -2.0000000000000004,
          -1.9999999999999996,
          -2,
          -2,
          -1.9999999999999998,
          -1.9999999999999998,
          -1.9999999999999996,
          -2,
          -2.0000000000000004,
          -2.0000000000000004,
          -2.0000000000000004,
          -1.9999999999999998,
          -2.0000000000000004,
          -1.9999999999999996,
          -2.0000000000000004,
          -2,
          -2,
          -2,
          -2.0000000000000004,
          -2,
          -2,
          -2.000000000000001,
          -2,
          -2.0000000000000004,
          -1.9999999999999996,
          -2,
          -2.000000000000001,
          -2.0000000000000004,
          -1.9999999999999993,
          -2,
          -2.0000000000000013,
          -1.9999999999999998,
          -2,
          -1.9999999999999998,
          -2.0000000000000004,
          -1.9999999999999998,
          -2,
          -1.9999999999999991,
          -2,
          -2,
          -2,
          -2.000000000000001,
          -2,
          -2.000000000000001,
          -1.9999999999999993,
          -2.0000000000000004,
          -2,
          -1.9999999999999998,
          -2.0000000000000004,
          -2.0000000000000004,
          -1.9999999999999996,
          -2,
          -2,
          -1.9999999999999998,
          -1.9999999999999998,
          -2.0000000000000004,
          -2.0000000000000004,
          -1.9999999999999998,
          -2,
          -1.9999999999999998,
          -1.9999999999999998,
          -2,
          -1.9999999999999998,
          -2,
          -1.9999999999999996,
          -1.9999999999999998,
          -2,
          -2,
          -2,
          -2,
          -2.000000000000001,
          -2,
          -1.9999999999999998,
          -2.0000000000000004,
          -2.0000000000000004,
          -2,
          -2.0000000000000004,
          -2,
          -1.9999999999999998,
          -2.0000000000000004,
          -1.9999999999999998,
          -2,
          -1.9999999999999996,
          -2,
          -1.9999999999999998,
          -1.9999999999999998,
          -2,
          -1.9999999999999996,
          -2,
          -2,
          -1.9999999999999996,
          -2,
          -2.0000000000000004,
          -2,
          -1.9999999999999996,
          -2.0000000000000004,
          -1.9999999999999998,
          -1.9999999999999993,
          -2.0000000000000004,
          -2,
          -1.9999999999999996,
          -2.0000000000000004,
          -2.0000000000000004,
          -2,
          -2,
          -2.0000000000000004,
          -1.9999999999999998,
          -2,
          -2,
          -2,
          -1.9999999999999998,
          -2.0000000000000004,
          -2,
          -2.000000000000001,
          -1.9999999999999998,
          -1.9999999999999996,
          -1.9999999999999998,
          -1.9999999999999993,
          -2.0000000000000004,
          -2,
          -2.0000000000000004,
          -2,
          -2,
          -1.9999999999999996,
          -2.0000000000000004,
          -2.0000000000000004,
          -1.9999999999999998,
          -1.9999999999999996,
          -1.9999999999999998,
          -1.9999999999999996,
          -2,
          -2.0000000000000004,
          -2,
          -2.0000000000000004,
          -1.9999999999999998,
          -2.0000000000000004,
          -2.0000000000000004,
          -1.9999999999999993,
          -2.0000000000000004,
          -1.9999999999999998,
          -2.0000000000000004,
          -2.0000000000000004,
          -1.9999999999999996,
          -1.9999999999999993,
          -1.9999999999999996,
          -2.0000000000000004,
          -2,
          -2.0000000000000004,
          -2,
          -2.0000000000000004,
          -1.9999999999999996,
          -1.9999999999999996,
          -2.0000000000000004,
          -2,
          -1.9999999999999996,
          -2.000000000000001,
          -1.9999999999999993,
          -2,
          -2.0000000000000004,
          -1.9999999999999996,
          -2.000000000000001,
          -2.0000000000000004,
          -2.0000000000000004,
          -2.0000000000000004,
          -1.9999999999999996,
          -1.9999999999999996,
          -1.9999999999999993,
          -1.9999999999999998,
          -1.9999999999999993,
          -1.9999999999999996,
          -2.0000000000000013,
          -2,
          -1.9999999999999998,
          -1.9999999999999998,
          -1.9999999999999998,
          -1.9999999999999991,
          -2,
          -2.0000000000000004,
          -1.9999999999999998,
          -1.9999999999999998,
          -1.9999999999999987,
          -2.0000000000000004,
          -1.9999999999999993,
          -2,
          -1.999999999999999,
          -2.000000000000001,
          -2.0000000000000004,
          -2,
          -1.9999999999999996,
          -2.0000000000000004,
          -1.9999999999999996,
          -1.9999999999999993,
          -2.0000000000000004,
          -1.9999999999999998,
          -1.9999999999999998,
          -1.9999999999999998,
          -2,
          -2.000000000000001,
          -1.9999999999999998,
          -2.0000000000000004,
          -2.0000000000000004,
          -2.0000000000000004,
          -2.000000000000001,
          -2,
          -1.9999999999999998,
          -1.9999999999999998,
          -2,
          -2.0000000000000004,
          -2,
          -2,
          -2,
          -1.999999999999999,
          -2.0000000000000004,
          -1.9999999999999996,
          -2,
          -1.9999999999999998,
          -1.9999999999999993,
          -2,
          -2.0000000000000004,
          -2.0000000000000004,
          -1.9999999999999998,
          -1.9999999999999996,
          -2,
          -2.0000000000000004,
          -1.9999999999999993,
          -1.9999999999999998,
          -1.9999999999999996,
          -2.000000000000001
         ]
        },
        {
         "type": "scatter",
         "x": [
          1,
          2,
          3,
          4,
          5,
          6,
          7,
          8,
          9,
          10,
          11,
          12,
          13,
          14,
          15,
          16,
          17,
          18,
          19,
          20,
          21,
          22,
          23,
          24,
          25,
          26,
          27,
          28,
          29,
          30,
          31,
          32,
          33,
          34,
          35,
          36,
          37,
          38,
          39,
          40,
          41,
          42,
          43,
          44,
          45,
          46,
          47,
          48,
          49,
          50,
          51,
          52,
          53,
          54,
          55,
          56,
          57,
          58,
          59,
          60,
          61,
          62,
          63,
          64,
          65,
          66,
          67,
          68,
          69,
          70,
          71,
          72,
          73,
          74,
          75,
          76,
          77,
          78,
          79,
          80,
          81,
          82,
          83,
          84,
          85,
          86,
          87,
          88,
          89,
          90,
          91,
          92,
          93,
          94,
          95,
          96,
          97,
          98,
          99,
          100,
          101,
          102,
          103,
          104,
          105,
          106,
          107,
          108,
          109,
          110,
          111,
          112,
          113,
          114,
          115,
          116,
          117,
          118,
          119,
          120,
          121,
          122,
          123,
          124,
          125,
          126,
          127,
          128,
          129,
          130,
          131,
          132,
          133,
          134,
          135,
          136,
          137,
          138,
          139,
          140,
          141,
          142,
          143,
          144,
          145,
          146,
          147,
          148,
          149,
          150,
          151,
          152,
          153,
          154,
          155,
          156,
          157,
          158,
          159,
          160,
          161,
          162,
          163,
          164,
          165,
          166,
          167,
          168,
          169,
          170,
          171,
          172,
          173,
          174,
          175,
          176,
          177,
          178,
          179,
          180,
          181,
          182,
          183,
          184,
          185,
          186,
          187,
          188,
          189,
          190,
          191,
          192,
          193,
          194,
          195,
          196,
          197,
          198,
          199,
          200,
          201,
          202,
          203,
          204,
          205,
          206,
          207,
          208,
          209,
          210,
          211,
          212,
          213,
          214,
          215,
          216,
          217,
          218,
          219,
          220,
          221,
          222,
          223,
          224,
          225,
          226,
          227,
          228,
          229,
          230,
          231,
          232,
          233,
          234,
          235,
          236,
          237,
          238,
          239,
          240,
          241,
          242,
          243,
          244,
          245,
          246,
          247,
          248,
          249,
          250,
          251,
          252,
          253,
          254,
          255,
          256,
          257,
          258,
          259,
          260,
          261,
          262,
          263,
          264,
          265,
          266,
          267,
          268,
          269,
          270,
          271,
          272,
          273,
          274,
          275,
          276,
          277,
          278,
          279,
          280,
          281,
          282,
          283,
          284,
          285,
          286,
          287,
          288,
          289,
          290,
          291,
          292,
          293,
          294,
          295,
          296,
          297,
          298,
          299,
          300,
          301,
          302,
          303,
          304,
          305,
          306,
          307,
          308,
          309,
          310,
          311,
          312,
          313,
          314,
          315,
          316,
          317,
          318,
          319,
          320,
          321,
          322,
          323,
          324,
          325,
          326,
          327,
          328,
          329,
          330,
          331,
          332,
          333,
          334,
          335,
          336,
          337,
          338,
          339,
          340,
          341,
          342,
          343,
          344,
          345,
          346,
          347,
          348,
          349,
          350,
          351,
          352,
          353,
          354,
          355,
          356,
          357,
          358,
          359,
          360,
          361,
          362,
          363,
          364,
          365,
          366,
          367,
          368,
          369,
          370,
          371,
          372,
          373,
          374,
          375,
          376,
          377,
          378,
          379,
          380,
          381,
          382,
          383,
          384,
          385,
          386,
          387,
          388,
          389,
          390,
          391,
          392,
          393,
          394,
          395,
          396,
          397,
          398,
          399,
          400,
          401,
          402,
          403,
          404,
          405,
          406,
          407,
          408,
          409,
          410,
          411,
          412,
          413,
          414,
          415,
          416,
          417,
          418,
          419,
          420,
          421,
          422,
          423,
          424,
          425,
          426,
          427,
          428,
          429,
          430,
          431,
          432,
          433,
          434,
          435,
          436,
          437,
          438,
          439,
          440,
          441,
          442,
          443,
          444,
          445,
          446,
          447,
          448,
          449,
          450,
          451,
          452,
          453,
          454,
          455,
          456,
          457,
          458,
          459,
          460,
          461,
          462,
          463,
          464,
          465,
          466,
          467,
          468,
          469,
          470,
          471,
          472,
          473,
          474,
          475,
          476,
          477,
          478,
          479,
          480,
          481,
          482,
          483,
          484,
          485,
          486,
          487,
          488,
          489,
          490,
          491,
          492,
          493,
          494,
          495,
          496,
          497,
          498,
          499,
          500
         ],
         "y": [
          -2,
          -1.9999014744666956,
          -1.9996059075740604,
          -1.999113328442982,
          -1.9984237856050775,
          -1.99753734699793,
          -1.9964540999583726,
          -1.9951741512138947,
          -1.9936976268721331,
          -1.9920246724084336,
          -1.9901554526515288,
          -1.9880901517672913,
          -1.985828973240592,
          -1.9833721398552504,
          -1.9807198936720862,
          -1.9778724960050702,
          -1.9748302273955753,
          -1.9715933875847407,
          -1.9681622954839313,
          -1.9645372891433268,
          -1.9607187257186136,
          -1.9567069814357867,
          -1.952502451554091,
          -1.948105550327076,
          -1.9435167109617817,
          -1.938736385576051,
          -1.9337650451539927,
          -1.9286031794995746,
          -1.9232512971883606,
          -1.9177099255174128,
          -1.9119796104533278,
          -1.906060916578454,
          -1.8999544270352624,
          -1.893660743468889,
          -1.8871804859678705,
          -1.8805142930030256,
          -1.8736628213645745,
          -1.8666267460974157,
          -1.8594067604346145,
          -1.8520035757291091,
          -1.8444179213836231,
          -1.8366505447787966,
          -1.8287022111995468,
          -1.820573703759684,
          -1.8122658233247375,
          -1.8037793884330549,
          -1.7951152352151627,
          -1.7862742173113761,
          -1.7772572057877012,
          -1.7680650890500051,
          -1.75869877275649,
          -1.7491591797284665,
          -1.7394472498594253,
          -1.7295639400224347,
          -1.719510223975868,
          -1.7092870922674606,
          -1.6988955521367148,
          -1.6883366274156653,
          -1.6776113584280004,
          -1.666720801886568,
          -1.6556660307892581,
          -1.6444481343132904,
          -1.6330682177078941,
          -1.6215274021854276,
          -1.6098268248108898,
          -1.5979676383899077,
          -1.5859510113551498,
          -1.5737781276512026,
          -1.5614501866179238,
          -1.5489684028722785,
          -1.536334006188667,
          -1.5235482413777617,
          -1.5106123681638575,
          -1.4975276610607622,
          -1.484295409246222,
          -1.4709169164349036,
          -1.4573935007499441,
          -1.4437264945930899,
          -1.429917244513408,
          -1.4159671110746277,
          -1.4018774687210862,
          -1.3876497056423105,
          -1.373285223636245,
          -1.3587854379711397,
          -1.3441517772461131,
          -1.3293856832503885,
          -1.3144886108212535,
          -1.2994620277007138,
          -1.2843074143908844,
          -1.2690262640081251,
          -1.2536200821359262,
          -1.2380903866765718,
          -1.2224387077015901,
          -1.2066665873009996,
          -1.1907755794313748,
          -1.1747672497627362,
          -1.158643175524307,
          -1.142404945349099,
          -1.1260541591173994,
          -1.1095924277991422,
          -1.0930213732951848,
          -1.0763426282775093,
          -1.059557836028364,
          -1.042668650278356,
          -1.0256767350435183,
          -1.008583764461362,
          -0.9913914226259288,
          -0.9741014034218672,
          -0.9567154103575413,
          -0.9392351563971866,
          -0.9216623637921477,
          -0.9039987639111917,
          -0.8862460970699129,
          -0.868406112359281,
          -0.8504805674733029,
          -0.8324712285358489,
          -0.8143798699266418,
          -0.7962082741064372,
          -0.777958231441404,
          -0.7596315400267297,
          -0.7412300055094576,
          -0.7227554409105914,
          -0.7042096664464605,
          -0.6855945093493833,
          -0.6669118036876425,
          -0.648163390184775,
          -0.6293511160382204,
          -0.6104768347373226,
          -0.5915424058807117,
          -0.5725496949930875,
          -0.5535005733414216,
          -0.5343969177505818,
          -0.5152406104184246,
          -0.49603353873034517,
          -0.4767775950733244,
          -0.45747467664948216,
          -0.4381266852891481,
          -0.41873552726349117,
          -0.39930311309669686,
          -0.3798313573777339,
          -0.3603221785717201,
          -0.34077749883090025,
          -0.32119924380527,
          -0.30158934245284597,
          -0.28194972684961783,
          -0.2622823319991865,
          -0.2425890956421184,
          -0.22287195806502824,
          -0.20313286190941104,
          -0.18337375198024142,
          -0.16359657505436487,
          -0.14380327968868434,
          -0.12399581602818066,
          -0.10417613561377581,
          -0.08434619119005182,
          -0.06450793651285802,
          -0.04466332615681745,
          -0.024814315322746694,
          -0.0049628596450270734,
          0.014889085001086544,
          0.03473956269215983,
          0.05458661764929218,
          0.07442829443080945,
          0.09426263812492497,
          0.11408769454234857,
          0.1339015104088237,
          0.153702133557575,
          0.17348761312164784,
          0.1932559997261154,
          0.21300534568014706,
          0.2327337051688972,
          0.2524391344452275,
          0.2721196920212103,
          0.29177343885941265,
          0.3113984385639479,
          0.33099275757125435,
          0.3505544653405994,
          0.37008163454429455,
          0.3895723412575798,
          0.40902466514818103,
          0.4284366896655145,
          0.44780650222951035,
          0.4671321944190574,
          0.48641186216002485,
          0.505643605912866,
          0.5248255308597728,
          0.5439557470913594,
          0.5630323697928697,
          0.5820535194298778,
          0.6010173219334722,
          0.6199219088848974,
          0.638765417699641,
          0.6575459918109497,
          0.6762617808527424,
          0.6949109408419217,
          0.713491634360057,
          0.732002030734406,
          0.7504403062182973,
          0.768804644170805,
          0.787093235235738,
          0.8053042775199081,
          0.8234359767706626,
          0.8414865465526628,
          0.8594542084238951,
          0.8773371921108905,
          0.8951337356831442,
          0.9128420857267124,
          0.9304604975169589,
          0.9479872351904686,
          0.9654205719160641,
          0.982758790064948,
          0.9999998186200697,
          0.9827758346374926,
          0.9656527578388772,
          0.9486325634573811,
          0.9317169444244063,
          0.9149075832695146,
          0.8982061519531992,
          0.8816143117005887,
          0.8651337128362225,
          0.8487659946199013,
          0.8325127850836315,
          0.8163757008696964,
          0.8003563470698561,
          0.7844563170656893,
          0.7686771923701116,
          0.7530205424700691,
          0.7374879246704239,
          0.7220808839390572,
          0.706800952753196,
          0.6916496509469868,
          0.6766284855603222,
          0.6617389506889415,
          0.6469825273358158,
          0.6323606832638445,
          0.6178748728498586,
          0.6035265369399604,
          0.5893171027062107,
          0.5752479835046685,
          0.5613205787348139,
          0.547536273700357,
          0.5338964394714416,
          0.5204024327482756,
          0.507055595726183,
          0.49385725596210023,
          0.4808087262425317,
          0.467911304452971,
          0.4551662734488045,
          0.44257490092771246,
          0.43013843930357326,
          0.41785812558189744,
          0.40573518123677743,
          0.39377081208940107,
          0.38196620818811133,
          0.37032254369003303,
          0.35884097674428844,
          0.3475226493767988,
          0.33636868737669257,
          0.3253802001843277,
          0.3145582807809374,
          0.3039040055799194,
          0.2934184343197663,
          0.2831026099586595,
          0.2729575585707311,
          0.26298428924399997,
          0.253183793980006,
          0.2435570475951397,
          0.23410500762367853,
          0.22482861422254652,
          0.21572879007779813,
          0.206806440312848,
          0.1980624523984341,
          0.18949769606435268,
          0.18111302321294026,
          0.17290926783435,
          0.16488724592358805,
          0.157047755399353,
          0.1493915760246709,
          0.1419194693293368,
          0.13463217853416448,
          0.12753042847706325,
          0.12061492554094144,
          0.1138863575834459,
          0.10734539386854058,
          0.10099268499994357,
          0.09482886285640502,
          0.08885454052886571,
          0.08307031225946948,
          0.07747675338245841,
          0.07207442026694749,
          0.0668638502615817,
          0.06184556164109123,
          0.057020053554741545,
          0.05238780597668119,
          0.04794927965819973,
          0.043704916081907075,
          0.03965513741781079,
          0.03580034648133257,
          0.03214092669323665,
          0.028677242041490414,
          0.0254096370450706,
          0.022338436719684107,
          0.01946394654544703,
          0.016786452436490046,
          0.0143062207125364,
          0.012023498072396305,
          0.009938511569435815,
          0.008051468588991265,
          0.006362556827745114,
          0.004871944275047779,
          0.0035797791962217107,
          0.0024861901177980344,
          0.0015912858147454773,
          0.0008951552996468931,
          0.00039786781384117446,
          0.00009947282054322654,
          -8.140571359215114e-14,
          -0.00029467633152808115,
          -0.0011780677333988916,
          -0.0026483582879167564,
          -0.004702539281111473,
          -0.007336435501516164,
          -0.01054474128726507,
          -0.014321065585352066,
          -0.018657985123931464,
          -0.023547104667227314,
          -0.02897912322642049,
          -0.0349439050399733,
          -0.04143055411306917,
          -0.04842749111617134,
          -0.05592253148394227,
          -0.06390296362364911,
          -0.0723556262317046,
          -0.08126698382289566,
          -0.09062319969380717,
          -0.10041020566489195,
          -0.11061376806988071,
          -0.12121954958288161,
          -0.13221316658921872,
          -0.1435802419131747,
          -0.15530645281269995,
          -0.1673775742364435,
          -0.17977951741174097,
          -0.19249836389343228,
          -0.20552039525277566,
          -0.2188321186242541,
          -0.23242028835635092,
          -0.24627192403164683,
          -0.2603743251329636,
          -0.2747150826368471,
          -0.2892820878145649,
          -0.30406353851513496,
          -0.31904794319555596,
          -0.33422412295129006,
          -0.349581211786001,
          -0.36510865534407416,
          -0.3807962083132703,
          -0.39663393068829356,
          -0.4126121830696141,
          -0.42872162115573353,
          -0.4449531895715145,
          -0.461298115160388,
          -0.47774789985425636,
          -0.49429431322187567,
          -0.5109293847843673,
          -0.5276453961754576,
          -0.5444348732137776,
          -0.5612905779454145,
          -0.5782055007065201,
          -0.5951728522482982,
          -0.6121860559600071,
          -0.6292387402196399,
          -0.6463247308966846,
          -0.6634380440267014,
          -0.6805728786733826,
          -0.6977236099901898,
          -0.7148847824905761,
          -0.7320511035330971,
          -0.7492174370254431,
          -0.7663787973494229,
          -0.7835303435072795,
          -0.8006673734882869,
          -0.817785318853404,
          -0.8348797395347772,
          -0.8519463188461002,
          -0.8689808586991569,
          -0.8859792750213921,
          -0.9029375933689477,
          -0.9198519447293031,
          -0.9367185615074455,
          -0.9535337736893705,
          -0.9702940051766276,
          -0.9869957702856049,
          -1.0036356704052767,
          -1.0202103908071884,
          -1.0367166976015432,
          -1.053151434833379,
          -1.0695115217129343,
          -1.0857939499744813,
          -1.1019957813580477,
          -1.1181141452086079,
          -1.1341462361875352,
          -1.1500893120912463,
          -1.165940691772193,
          -1.1816977531574921,
          -1.197357931360726,
          -1.2129187168825604,
          -1.2283776538960622,
          -1.2437323386127457,
          -1.2589804177255444,
          -1.2741195869250743,
          -1.2891475894857425,
          -1.3040622149183656,
          -1.318861297686138,
          -1.3335427159809496,
          -1.348104390557161,
          -1.362544283620102,
          -1.3768603977666787,
          -1.3910507749756005,
          -1.4051134956448665,
          -1.4190466776742379,
          -1.4328484755905575,
          -1.4465170797138998,
          -1.460050715362539,
          -1.4734476420949654,
          -1.486706152987134,
          -1.4998245739432885,
          -1.5128012630387793,
          -1.5256346098933298,
          -1.5383230350733603,
          -1.5508649895219324,
          -1.5632589540150827,
          -1.575503438643236,
          -1.587596982316583,
          -1.5995381522932437,
          -1.6113255437292,
          -1.6229577792489422,
          -1.6344335085358808,
          -1.6457514079416193,
          -1.656910180113182,
          -1.6679085536373939,
          -1.6787452827015963,
          -1.6894191467699808,
          -1.6999289502747787,
          -1.7102735223216647,
          -1.720451716408694,
          -1.7304624101581898,
          -1.740304505060952,
          -1.749976926232256,
          -1.7594786221791043,
          -1.7688085645782106,
          -1.777965748064239,
          -1.78694919002786,
          -1.7957579304231244,
          -1.8043910315838279,
          -1.812847578048376,
          -1.8211266763928315,
          -1.8292274550717693,
          -1.837149064266578,
          -1.8448906757409043,
          -1.852451482702913,
          -1.859830699674074,
          -1.8670275623641925,
          -1.874041327552407,
          -1.880871272973909,
          -1.8875166972121344,
          -1.893976919596201,
          -1.900251280103356,
          -1.906339139266252,
          -1.9122398780848122,
          -1.9179528979425442,
          -1.923477620527076,
          -1.9288134877547676,
          -1.9339599616992393,
          -1.9389165245236442,
          -1.943682678416557,
          -1.9482579455313291,
          -1.9526418679287851,
          -1.956834007523132,
          -1.9608339460309743,
          -1.9646412849233008,
          -1.9682556453803774,
          -1.9716766682494125,
          -1.9749040140049208,
          -1.9779373627116859,
          -1.9807764139902757,
          -1.983420886984976,
          -1.985870520334142,
          -1.988125072142843,
          -1.9901843199577707,
          -1.9920480607443698,
          -1.9937161108660932,
          -1.9951883060657871,
          -1.9964645014491402,
          -1.9975445714701618,
          -1.9984284099186531,
          -1.9991159299096677,
          -1.9996070638749057,
          -1.999901763556047,
          -2
         ]
        },
        {
         "type": "scatter",
         "x": [
          1,
          2,
          3,
          4,
          5,
          6,
          7,
          8,
          9,
          10,
          11,
          12,
          13,
          14,
          15,
          16,
          17,
          18,
          19,
          20,
          21,
          22,
          23,
          24,
          25,
          26,
          27,
          28,
          29,
          30,
          31,
          32,
          33,
          34,
          35,
          36,
          37,
          38,
          39,
          40,
          41,
          42,
          43,
          44,
          45,
          46,
          47,
          48,
          49,
          50,
          51,
          52,
          53,
          54,
          55,
          56,
          57,
          58,
          59,
          60,
          61,
          62,
          63,
          64,
          65,
          66,
          67,
          68,
          69,
          70,
          71,
          72,
          73,
          74,
          75,
          76,
          77,
          78,
          79,
          80,
          81,
          82,
          83,
          84,
          85,
          86,
          87,
          88,
          89,
          90,
          91,
          92,
          93,
          94,
          95,
          96,
          97,
          98,
          99,
          100,
          101,
          102,
          103,
          104,
          105,
          106,
          107,
          108,
          109,
          110,
          111,
          112,
          113,
          114,
          115,
          116,
          117,
          118,
          119,
          120,
          121,
          122,
          123,
          124,
          125,
          126,
          127,
          128,
          129,
          130,
          131,
          132,
          133,
          134,
          135,
          136,
          137,
          138,
          139,
          140,
          141,
          142,
          143,
          144,
          145,
          146,
          147,
          148,
          149,
          150,
          151,
          152,
          153,
          154,
          155,
          156,
          157,
          158,
          159,
          160,
          161,
          162,
          163,
          164,
          165,
          166,
          167,
          168,
          169,
          170,
          171,
          172,
          173,
          174,
          175,
          176,
          177,
          178,
          179,
          180,
          181,
          182,
          183,
          184,
          185,
          186,
          187,
          188,
          189,
          190,
          191,
          192,
          193,
          194,
          195,
          196,
          197,
          198,
          199,
          200,
          201,
          202,
          203,
          204,
          205,
          206,
          207,
          208,
          209,
          210,
          211,
          212,
          213,
          214,
          215,
          216,
          217,
          218,
          219,
          220,
          221,
          222,
          223,
          224,
          225,
          226,
          227,
          228,
          229,
          230,
          231,
          232,
          233,
          234,
          235,
          236,
          237,
          238,
          239,
          240,
          241,
          242,
          243,
          244,
          245,
          246,
          247,
          248,
          249,
          250,
          251,
          252,
          253,
          254,
          255,
          256,
          257,
          258,
          259,
          260,
          261,
          262,
          263,
          264,
          265,
          266,
          267,
          268,
          269,
          270,
          271,
          272,
          273,
          274,
          275,
          276,
          277,
          278,
          279,
          280,
          281,
          282,
          283,
          284,
          285,
          286,
          287,
          288,
          289,
          290,
          291,
          292,
          293,
          294,
          295,
          296,
          297,
          298,
          299,
          300,
          301,
          302,
          303,
          304,
          305,
          306,
          307,
          308,
          309,
          310,
          311,
          312,
          313,
          314,
          315,
          316,
          317,
          318,
          319,
          320,
          321,
          322,
          323,
          324,
          325,
          326,
          327,
          328,
          329,
          330,
          331,
          332,
          333,
          334,
          335,
          336,
          337,
          338,
          339,
          340,
          341,
          342,
          343,
          344,
          345,
          346,
          347,
          348,
          349,
          350,
          351,
          352,
          353,
          354,
          355,
          356,
          357,
          358,
          359,
          360,
          361,
          362,
          363,
          364,
          365,
          366,
          367,
          368,
          369,
          370,
          371,
          372,
          373,
          374,
          375,
          376,
          377,
          378,
          379,
          380,
          381,
          382,
          383,
          384,
          385,
          386,
          387,
          388,
          389,
          390,
          391,
          392,
          393,
          394,
          395,
          396,
          397,
          398,
          399,
          400,
          401,
          402,
          403,
          404,
          405,
          406,
          407,
          408,
          409,
          410,
          411,
          412,
          413,
          414,
          415,
          416,
          417,
          418,
          419,
          420,
          421,
          422,
          423,
          424,
          425,
          426,
          427,
          428,
          429,
          430,
          431,
          432,
          433,
          434,
          435,
          436,
          437,
          438,
          439,
          440,
          441,
          442,
          443,
          444,
          445,
          446,
          447,
          448,
          449,
          450,
          451,
          452,
          453,
          454,
          455,
          456,
          457,
          458,
          459,
          460,
          461,
          462,
          463,
          464,
          465,
          466,
          467,
          468,
          469,
          470,
          471,
          472,
          473,
          474,
          475,
          476,
          477,
          478,
          479,
          480,
          481,
          482,
          483,
          484,
          485,
          486,
          487,
          488,
          489,
          490,
          491,
          492,
          493,
          494,
          495,
          496,
          497,
          498,
          499,
          500
         ],
         "y": [
          3.9999999999999996,
          3.9999014744666948,
          3.9996059075740593,
          3.9991133284429807,
          3.9984237856050786,
          3.9975373469979294,
          3.996454099958371,
          3.9951741512138943,
          3.993697626872134,
          3.9920246724084345,
          3.9901554526515293,
          3.9880901517672913,
          3.9858289732405914,
          3.98337213985525,
          3.9807198936720853,
          3.9778724960050695,
          3.9748302273955765,
          3.97159338758474,
          3.9681622954839297,
          3.964537289143327,
          3.960718725718613,
          3.9567069814357865,
          3.952502451554092,
          3.9481055503270763,
          3.943516710961781,
          3.9387363855760515,
          3.9337650451539927,
          3.928603179499575,
          3.9232512971883606,
          3.9177099255174133,
          3.9119796104533275,
          3.906060916578454,
          3.8999544270352624,
          3.893660743468891,
          3.8871804859678702,
          3.880514293003025,
          3.873662821364575,
          3.8666267460974155,
          3.859406760434614,
          3.85200357572911,
          3.8444179213836227,
          3.8366505447787946,
          3.828702211199547,
          3.8205737037596834,
          3.8122658233247364,
          3.803779388433055,
          3.7951152352151625,
          3.7862742173113766,
          3.777257205787701,
          3.768065089050003,
          3.75869877275649,
          3.7491591797284674,
          3.7394472498594244,
          3.729563940022435,
          3.7195102239758677,
          3.70928709226746,
          3.698895552136715,
          3.688336627415665,
          3.6776113584280012,
          3.6667208018865685,
          3.6556660307892583,
          3.64444813431329,
          3.633068217707895,
          3.6215274021854276,
          3.60982682481089,
          3.5979676383899086,
          3.5859510113551494,
          3.5737781276512024,
          3.5614501866179236,
          3.548968402872278,
          3.5363340061886674,
          3.5235482413777612,
          3.5106123681638577,
          3.4975276610607624,
          3.484295409246222,
          3.470916916434904,
          3.4573935007499452,
          3.44372649459309,
          3.4299172445134083,
          3.415967111074627,
          3.4018774687210867,
          3.3876497056423105,
          3.3732852236362447,
          3.3587854379711404,
          3.344151777246113,
          3.3293856832503885,
          3.314488610821254,
          3.299462027700714,
          3.2843074143908852,
          3.269026264008125,
          3.253620082135927,
          3.2380903866765722,
          3.22243870770159,
          3.206666587300999,
          3.190775579431374,
          3.1747672497627364,
          3.1586431755243067,
          3.1424049453490985,
          3.126054159117399,
          3.109592427799142,
          3.0930213732951852,
          3.0763426282775095,
          3.0595578360283637,
          3.0426686502783555,
          3.0256767350435183,
          3.0085837644613616,
          2.991391422625929,
          2.9741014034218676,
          2.956715410357541,
          2.939235156397186,
          2.921662363792149,
          2.903998763911192,
          2.886246097069913,
          2.8684061123592812,
          2.850480567473303,
          2.8324712285358493,
          2.814379869926642,
          2.7962082741064376,
          2.7779582314414046,
          2.7596315400267297,
          2.7412300055094576,
          2.722755440910591,
          2.7042096664464603,
          2.685594509349383,
          2.6669118036876425,
          2.648163390184775,
          2.62935111603822,
          2.610476834737322,
          2.5915424058807117,
          2.5725496949930875,
          2.553500573341422,
          2.5343969177505823,
          2.5152406104184246,
          2.4960335387303454,
          2.4767775950733246,
          2.4574746766494817,
          2.4381266852891477,
          2.4187355272634914,
          2.399303113096697,
          2.379831357377734,
          2.36032217857172,
          2.3407774988309002,
          2.321199243805271,
          2.301589342452846,
          2.281949726849618,
          2.2622823319991863,
          2.242589095642119,
          2.2228719580650287,
          2.2031328619094115,
          2.183373751980242,
          2.163596575054365,
          2.1438032796886843,
          2.123995816028181,
          2.104176135613776,
          2.0843461911900523,
          2.0645079365128582,
          2.044663326156817,
          2.0248143153227467,
          2.004962859645027,
          1.9851109149989132,
          1.96526043730784,
          1.9454133823507078,
          1.9255717055691908,
          1.905737361875075,
          1.8859123054576514,
          1.8660984895911765,
          1.846297866442425,
          1.8265123868783526,
          1.8067440002738846,
          1.7869946543198532,
          1.767266294831103,
          1.7475608655547727,
          1.7278803079787897,
          1.7082265611405871,
          1.6886015614360521,
          1.6690072424287459,
          1.6494455346594006,
          1.6299183654557055,
          1.6104276587424202,
          1.5909753348518192,
          1.5715633103344855,
          1.5521934977704896,
          1.5328678055809426,
          1.5135881378399756,
          1.4943563940871347,
          1.475174469140227,
          1.4560442529086406,
          1.4369676302071306,
          1.4179464805701225,
          1.3989826780665284,
          1.380078091115103,
          1.3612345823003587,
          1.3424540081890501,
          1.3237382191472578,
          1.3050890591580786,
          1.2865083656399434,
          1.267997969265594,
          1.2495596937817028,
          1.2311953558291946,
          1.2129067647642617,
          1.194695722480092,
          1.1765640232293375,
          1.1585134534473371,
          1.140545791576105,
          1.1226628078891094,
          1.1048662643168556,
          1.0871579142732877,
          1.0695395024830412,
          1.0520127648095317,
          1.0345794280839358,
          1.0172412099350518,
          1.0000001813799306,
          1.0172241653625076,
          1.0343472421611226,
          1.0513674365426187,
          1.068283055575594,
          1.0850924167304852,
          1.1017938480468008,
          1.1183856882994119,
          1.1348662871637774,
          1.1512340053800985,
          1.1674872149163686,
          1.1836242991303039,
          1.1996436529301437,
          1.2155436829343107,
          1.2313228076298879,
          1.2469794575299302,
          1.262512075329576,
          1.277919116060943,
          1.2931990472468042,
          1.308350349053013,
          1.3233715144396772,
          1.338261049311058,
          1.3530174726641842,
          1.3676393167361554,
          1.3821251271501414,
          1.3964734630600397,
          1.4106828972937888,
          1.4247520164953316,
          1.4386794212651859,
          1.4524637262996427,
          1.4661035605285584,
          1.4795975672517248,
          1.4929444042738171,
          1.5061427440378998,
          1.5191912737574684,
          1.5320886955470296,
          1.5448337265511956,
          1.557425099072288,
          1.5698615606964266,
          1.5821418744181028,
          1.5942648187632231,
          1.6062291879105983,
          1.6180337918118886,
          1.6296774563099672,
          1.6411590232557118,
          1.652477350623201,
          1.663631312623307,
          1.6746197998156724,
          1.6854417192190625,
          1.6960959944200809,
          1.7065815656802337,
          1.71689739004134,
          1.727042441429269,
          1.7370157107560003,
          1.7468162060199939,
          1.7564429524048601,
          1.7658949923763212,
          1.7751713857774534,
          1.7842712099222018,
          1.7931935596871527,
          1.801937547601566,
          1.8105023039356478,
          1.8188869767870595,
          1.8270907321656498,
          1.835112754076412,
          1.842952244600647,
          1.8506084239753287,
          1.858080530670663,
          1.8653678214658358,
          1.8724695715229371,
          1.879385074459059,
          1.8861136424165548,
          1.8926546061314589,
          1.8990073150000568,
          1.9051711371435949,
          1.9111454594711341,
          1.9169296877405309,
          1.9225232466175417,
          1.9279255797330528,
          1.9331361497384187,
          1.9381544383589084,
          1.9429799464452586,
          1.9476121940233198,
          1.9520507203418,
          1.9562950839180933,
          1.9603448625821889,
          1.964199653518667,
          1.9678590733067647,
          1.9713227579585098,
          1.974590362954929,
          1.9776615632803156,
          1.9805360534545544,
          1.9832135475635098,
          1.9856937792874638,
          1.987976501927604,
          1.9900614884305643,
          1.9919485314110084,
          1.993637443172255,
          1.995128055724951,
          1.9964202208037782,
          1.9975138098822016,
          1.9984087141852545,
          1.999104844700354,
          1.9996021321861592,
          1.9999005271794572,
          2.000000000000081,
          2.0002946763315284,
          2.001178067733399,
          2.0026483582879164,
          2.0047025392811113,
          2.0073364355015166,
          2.010544741287265,
          2.014321065585352,
          2.0186579851239315,
          2.0235471046672275,
          2.0289791232264207,
          2.0349439050399734,
          2.0414305541130697,
          2.048427491116171,
          2.055922531483942,
          2.063902963623649,
          2.0723556262317047,
          2.0812669838228954,
          2.090623199693807,
          2.100410205664893,
          2.1106137680698804,
          2.1212195495828814,
          2.132213166589219,
          2.143580241913175,
          2.1553064528126997,
          2.1673775742364434,
          2.1797795174117414,
          2.192498363893433,
          2.2055203952527753,
          2.218832118624255,
          2.2324202883563515,
          2.246271924031647,
          2.2603743251329638,
          2.274715082636848,
          2.289282087814565,
          2.304063538515136,
          2.3190479431955557,
          2.33422412295129,
          2.3495812117860004,
          2.3651086553440748,
          2.3807962083132708,
          2.396633930688293,
          2.4126121830696134,
          2.4287216211557334,
          2.444953189571514,
          2.4612981151603877,
          2.477747899854257,
          2.4942943132218756,
          2.510929384784367,
          2.5276453961754575,
          2.5444348732137767,
          2.5612905779454143,
          2.5782055007065203,
          2.595172852248297,
          2.6121860559600067,
          2.6292387402196398,
          2.6463247308966835,
          2.6634380440267025,
          2.6805728786733836,
          2.6977236099901907,
          2.714884782490577,
          2.7320511035330965,
          2.7492174370254427,
          2.7663787973494225,
          2.783530343507279,
          2.8006673734882868,
          2.817785318853403,
          2.8348797395347773,
          2.8519463188461014,
          2.8689808586991576,
          2.8859792750213917,
          2.9029375933689465,
          2.9198519447293023,
          2.936718561507445,
          2.9535337736893705,
          2.970294005176628,
          2.9869957702856054,
          3.0036356704052767,
          3.0202103908071884,
          3.0367166976015434,
          3.0531514348333797,
          3.0695115217129327,
          3.085793949974481,
          3.1019957813580468,
          3.1181141452086085,
          3.1341462361875347,
          3.1500893120912457,
          3.1659406917721937,
          3.1816977531574917,
          3.1973579313607257,
          3.2129187168825597,
          3.228377653896061,
          3.2437323386127472,
          3.2589804177255446,
          3.2741195869250737,
          3.2891475894857427,
          3.3040622149183667,
          3.318861297686139,
          3.33354271598095,
          3.348104390557161,
          3.362544283620103,
          3.3768603977666776,
          3.3910507749756,
          3.4051134956448657,
          3.419046677674236,
          3.432848475590559,
          3.4465170797138986,
          3.4600507153625397,
          3.473447642094966,
          3.486706152987134,
          3.4998245739432905,
          3.512801263038779,
          3.525634609893329,
          3.5383230350733585,
          3.5508649895219326,
          3.5632589540150823,
          3.575503438643236,
          3.5875969823165823,
          3.5995381522932424,
          3.6113255437292002,
          3.6229577792489414,
          3.63443350853588,
          3.645751407941619,
          3.6569101801131816,
          3.6679085536373917,
          3.6787452827015974,
          3.6894191467699806,
          3.69992895027478,
          3.710273522321665,
          3.7204517164086943,
          3.7304624101581902,
          3.7403045050609514,
          3.749976926232256,
          3.7594786221791043,
          3.768808564578211,
          3.7779657480642403,
          3.786949190027861,
          3.7957579304231235,
          3.804391031583828,
          3.812847578048376,
          3.8211266763928324,
          3.8292274550717686,
          3.8371490642665766,
          3.8448906757409036,
          3.85245148270291,
          3.8598306996740726,
          3.8670275623641936,
          3.8740413275524075,
          3.880871272973908,
          3.887516697212134,
          3.8939769195962013,
          3.9002512801033564,
          3.906339139266251,
          3.9122398780848116,
          3.9179528979425458,
          3.923477620527076,
          3.928813487754768,
          3.933959961699239,
          3.9389165245236435,
          3.943682678416558,
          3.94825794553133,
          3.9526418679287856,
          3.956834007523133,
          3.960833946030973,
          3.9646412849232977,
          3.968255645380377,
          3.971676668249412,
          3.9749040140049203,
          3.9779373627116863,
          3.980776413990276,
          3.983420886984976,
          3.9858705203341422,
          3.988125072142841,
          3.9901843199577707,
          3.99204806074437,
          3.9937161108660906,
          3.9951883060657867,
          3.996464501449141,
          3.9975445714701605,
          3.9984284099186533,
          3.999115929909668,
          3.999607063874907,
          3.9999017635560468,
          3.9999999999999996
         ]
        }
       ],
       "frames": [],
       "layout": {
        "margin": {
         "b": 50,
         "l": 50,
         "r": 50,
         "t": 60
        },
        "template": {
         "data": {
          "bar": [
           {
            "error_x": {
             "color": "#2a3f5f"
            },
            "error_y": {
             "color": "#2a3f5f"
            },
            "marker": {
             "line": {
              "color": "#E5ECF6",
              "width": 0.5
             }
            },
            "type": "bar"
           }
          ],
          "barpolar": [
           {
            "marker": {
             "line": {
              "color": "#E5ECF6",
              "width": 0.5
             }
            },
            "type": "barpolar"
           }
          ],
          "carpet": [
           {
            "aaxis": {
             "endlinecolor": "#2a3f5f",
             "gridcolor": "white",
             "linecolor": "white",
             "minorgridcolor": "white",
             "startlinecolor": "#2a3f5f"
            },
            "baxis": {
             "endlinecolor": "#2a3f5f",
             "gridcolor": "white",
             "linecolor": "white",
             "minorgridcolor": "white",
             "startlinecolor": "#2a3f5f"
            },
            "type": "carpet"
           }
          ],
          "choropleth": [
           {
            "colorbar": {
             "outlinewidth": 0,
             "ticks": ""
            },
            "type": "choropleth"
           }
          ],
          "contour": [
           {
            "colorbar": {
             "outlinewidth": 0,
             "ticks": ""
            },
            "colorscale": [
             [
              0,
              "#0d0887"
             ],
             [
              0.1111111111111111,
              "#46039f"
             ],
             [
              0.2222222222222222,
              "#7201a8"
             ],
             [
              0.3333333333333333,
              "#9c179e"
             ],
             [
              0.4444444444444444,
              "#bd3786"
             ],
             [
              0.5555555555555556,
              "#d8576b"
             ],
             [
              0.6666666666666666,
              "#ed7953"
             ],
             [
              0.7777777777777778,
              "#fb9f3a"
             ],
             [
              0.8888888888888888,
              "#fdca26"
             ],
             [
              1,
              "#f0f921"
             ]
            ],
            "type": "contour"
           }
          ],
          "contourcarpet": [
           {
            "colorbar": {
             "outlinewidth": 0,
             "ticks": ""
            },
            "type": "contourcarpet"
           }
          ],
          "heatmap": [
           {
            "colorbar": {
             "outlinewidth": 0,
             "ticks": ""
            },
            "colorscale": [
             [
              0,
              "#0d0887"
             ],
             [
              0.1111111111111111,
              "#46039f"
             ],
             [
              0.2222222222222222,
              "#7201a8"
             ],
             [
              0.3333333333333333,
              "#9c179e"
             ],
             [
              0.4444444444444444,
              "#bd3786"
             ],
             [
              0.5555555555555556,
              "#d8576b"
             ],
             [
              0.6666666666666666,
              "#ed7953"
             ],
             [
              0.7777777777777778,
              "#fb9f3a"
             ],
             [
              0.8888888888888888,
              "#fdca26"
             ],
             [
              1,
              "#f0f921"
             ]
            ],
            "type": "heatmap"
           }
          ],
          "heatmapgl": [
           {
            "colorbar": {
             "outlinewidth": 0,
             "ticks": ""
            },
            "colorscale": [
             [
              0,
              "#0d0887"
             ],
             [
              0.1111111111111111,
              "#46039f"
             ],
             [
              0.2222222222222222,
              "#7201a8"
             ],
             [
              0.3333333333333333,
              "#9c179e"
             ],
             [
              0.4444444444444444,
              "#bd3786"
             ],
             [
              0.5555555555555556,
              "#d8576b"
             ],
             [
              0.6666666666666666,
              "#ed7953"
             ],
             [
              0.7777777777777778,
              "#fb9f3a"
             ],
             [
              0.8888888888888888,
              "#fdca26"
             ],
             [
              1,
              "#f0f921"
             ]
            ],
            "type": "heatmapgl"
           }
          ],
          "histogram": [
           {
            "marker": {
             "colorbar": {
              "outlinewidth": 0,
              "ticks": ""
             }
            },
            "type": "histogram"
           }
          ],
          "histogram2d": [
           {
            "colorbar": {
             "outlinewidth": 0,
             "ticks": ""
            },
            "colorscale": [
             [
              0,
              "#0d0887"
             ],
             [
              0.1111111111111111,
              "#46039f"
             ],
             [
              0.2222222222222222,
              "#7201a8"
             ],
             [
              0.3333333333333333,
              "#9c179e"
             ],
             [
              0.4444444444444444,
              "#bd3786"
             ],
             [
              0.5555555555555556,
              "#d8576b"
             ],
             [
              0.6666666666666666,
              "#ed7953"
             ],
             [
              0.7777777777777778,
              "#fb9f3a"
             ],
             [
              0.8888888888888888,
              "#fdca26"
             ],
             [
              1,
              "#f0f921"
             ]
            ],
            "type": "histogram2d"
           }
          ],
          "histogram2dcontour": [
           {
            "colorbar": {
             "outlinewidth": 0,
             "ticks": ""
            },
            "colorscale": [
             [
              0,
              "#0d0887"
             ],
             [
              0.1111111111111111,
              "#46039f"
             ],
             [
              0.2222222222222222,
              "#7201a8"
             ],
             [
              0.3333333333333333,
              "#9c179e"
             ],
             [
              0.4444444444444444,
              "#bd3786"
             ],
             [
              0.5555555555555556,
              "#d8576b"
             ],
             [
              0.6666666666666666,
              "#ed7953"
             ],
             [
              0.7777777777777778,
              "#fb9f3a"
             ],
             [
              0.8888888888888888,
              "#fdca26"
             ],
             [
              1,
              "#f0f921"
             ]
            ],
            "type": "histogram2dcontour"
           }
          ],
          "mesh3d": [
           {
            "colorbar": {
             "outlinewidth": 0,
             "ticks": ""
            },
            "type": "mesh3d"
           }
          ],
          "parcoords": [
           {
            "line": {
             "colorbar": {
              "outlinewidth": 0,
              "ticks": ""
             }
            },
            "type": "parcoords"
           }
          ],
          "pie": [
           {
            "automargin": true,
            "type": "pie"
           }
          ],
          "scatter": [
           {
            "marker": {
             "colorbar": {
              "outlinewidth": 0,
              "ticks": ""
             }
            },
            "type": "scatter"
           }
          ],
          "scatter3d": [
           {
            "line": {
             "colorbar": {
              "outlinewidth": 0,
              "ticks": ""
             }
            },
            "marker": {
             "colorbar": {
              "outlinewidth": 0,
              "ticks": ""
             }
            },
            "type": "scatter3d"
           }
          ],
          "scattercarpet": [
           {
            "marker": {
             "colorbar": {
              "outlinewidth": 0,
              "ticks": ""
             }
            },
            "type": "scattercarpet"
           }
          ],
          "scattergeo": [
           {
            "marker": {
             "colorbar": {
              "outlinewidth": 0,
              "ticks": ""
             }
            },
            "type": "scattergeo"
           }
          ],
          "scattergl": [
           {
            "marker": {
             "colorbar": {
              "outlinewidth": 0,
              "ticks": ""
             }
            },
            "type": "scattergl"
           }
          ],
          "scattermapbox": [
           {
            "marker": {
             "colorbar": {
              "outlinewidth": 0,
              "ticks": ""
             }
            },
            "type": "scattermapbox"
           }
          ],
          "scatterpolar": [
           {
            "marker": {
             "colorbar": {
              "outlinewidth": 0,
              "ticks": ""
             }
            },
            "type": "scatterpolar"
           }
          ],
          "scatterpolargl": [
           {
            "marker": {
             "colorbar": {
              "outlinewidth": 0,
              "ticks": ""
             }
            },
            "type": "scatterpolargl"
           }
          ],
          "scatterternary": [
           {
            "marker": {
             "colorbar": {
              "outlinewidth": 0,
              "ticks": ""
             }
            },
            "type": "scatterternary"
           }
          ],
          "surface": [
           {
            "colorbar": {
             "outlinewidth": 0,
             "ticks": ""
            },
            "colorscale": [
             [
              0,
              "#0d0887"
             ],
             [
              0.1111111111111111,
              "#46039f"
             ],
             [
              0.2222222222222222,
              "#7201a8"
             ],
             [
              0.3333333333333333,
              "#9c179e"
             ],
             [
              0.4444444444444444,
              "#bd3786"
             ],
             [
              0.5555555555555556,
              "#d8576b"
             ],
             [
              0.6666666666666666,
              "#ed7953"
             ],
             [
              0.7777777777777778,
              "#fb9f3a"
             ],
             [
              0.8888888888888888,
              "#fdca26"
             ],
             [
              1,
              "#f0f921"
             ]
            ],
            "type": "surface"
           }
          ],
          "table": [
           {
            "cells": {
             "fill": {
              "color": "#EBF0F8"
             },
             "line": {
              "color": "white"
             }
            },
            "header": {
             "fill": {
              "color": "#C8D4E3"
             },
             "line": {
              "color": "white"
             }
            },
            "type": "table"
           }
          ]
         },
         "layout": {
          "annotationdefaults": {
           "arrowcolor": "#2a3f5f",
           "arrowhead": 0,
           "arrowwidth": 1
          },
          "autotypenumbers": "strict",
          "coloraxis": {
           "colorbar": {
            "outlinewidth": 0,
            "ticks": ""
           }
          },
          "colorscale": {
           "diverging": [
            [
             0,
             "#8e0152"
            ],
            [
             0.1,
             "#c51b7d"
            ],
            [
             0.2,
             "#de77ae"
            ],
            [
             0.3,
             "#f1b6da"
            ],
            [
             0.4,
             "#fde0ef"
            ],
            [
             0.5,
             "#f7f7f7"
            ],
            [
             0.6,
             "#e6f5d0"
            ],
            [
             0.7,
             "#b8e186"
            ],
            [
             0.8,
             "#7fbc41"
            ],
            [
             0.9,
             "#4d9221"
            ],
            [
             1,
             "#276419"
            ]
           ],
           "sequential": [
            [
             0,
             "#0d0887"
            ],
            [
             0.1111111111111111,
             "#46039f"
            ],
            [
             0.2222222222222222,
             "#7201a8"
            ],
            [
             0.3333333333333333,
             "#9c179e"
            ],
            [
             0.4444444444444444,
             "#bd3786"
            ],
            [
             0.5555555555555556,
             "#d8576b"
            ],
            [
             0.6666666666666666,
             "#ed7953"
            ],
            [
             0.7777777777777778,
             "#fb9f3a"
            ],
            [
             0.8888888888888888,
             "#fdca26"
            ],
            [
             1,
             "#f0f921"
            ]
           ],
           "sequentialminus": [
            [
             0,
             "#0d0887"
            ],
            [
             0.1111111111111111,
             "#46039f"
            ],
            [
             0.2222222222222222,
             "#7201a8"
            ],
            [
             0.3333333333333333,
             "#9c179e"
            ],
            [
             0.4444444444444444,
             "#bd3786"
            ],
            [
             0.5555555555555556,
             "#d8576b"
            ],
            [
             0.6666666666666666,
             "#ed7953"
            ],
            [
             0.7777777777777778,
             "#fb9f3a"
            ],
            [
             0.8888888888888888,
             "#fdca26"
            ],
            [
             1,
             "#f0f921"
            ]
           ]
          },
          "colorway": [
           "#636efa",
           "#EF553B",
           "#00cc96",
           "#ab63fa",
           "#FFA15A",
           "#19d3f3",
           "#FF6692",
           "#B6E880",
           "#FF97FF",
           "#FECB52"
          ],
          "font": {
           "color": "#2a3f5f"
          },
          "geo": {
           "bgcolor": "white",
           "lakecolor": "white",
           "landcolor": "#E5ECF6",
           "showlakes": true,
           "showland": true,
           "subunitcolor": "white"
          },
          "hoverlabel": {
           "align": "left"
          },
          "hovermode": "closest",
          "mapbox": {
           "style": "light"
          },
          "paper_bgcolor": "white",
          "plot_bgcolor": "#E5ECF6",
          "polar": {
           "angularaxis": {
            "gridcolor": "white",
            "linecolor": "white",
            "ticks": ""
           },
           "bgcolor": "#E5ECF6",
           "radialaxis": {
            "gridcolor": "white",
            "linecolor": "white",
            "ticks": ""
           }
          },
          "scene": {
           "xaxis": {
            "backgroundcolor": "#E5ECF6",
            "gridcolor": "white",
            "gridwidth": 2,
            "linecolor": "white",
            "showbackground": true,
            "ticks": "",
            "zerolinecolor": "white"
           },
           "yaxis": {
            "backgroundcolor": "#E5ECF6",
            "gridcolor": "white",
            "gridwidth": 2,
            "linecolor": "white",
            "showbackground": true,
            "ticks": "",
            "zerolinecolor": "white"
           },
           "zaxis": {
            "backgroundcolor": "#E5ECF6",
            "gridcolor": "white",
            "gridwidth": 2,
            "linecolor": "white",
            "showbackground": true,
            "ticks": "",
            "zerolinecolor": "white"
           }
          },
          "shapedefaults": {
           "line": {
            "color": "#2a3f5f"
           }
          },
          "ternary": {
           "aaxis": {
            "gridcolor": "white",
            "linecolor": "white",
            "ticks": ""
           },
           "baxis": {
            "gridcolor": "white",
            "linecolor": "white",
            "ticks": ""
           },
           "bgcolor": "#E5ECF6",
           "caxis": {
            "gridcolor": "white",
            "linecolor": "white",
            "ticks": ""
           }
          },
          "title": {
           "x": 0.05
          },
          "xaxis": {
           "automargin": true,
           "gridcolor": "white",
           "linecolor": "white",
           "ticks": "",
           "title": {
            "standoff": 15
           },
           "zerolinecolor": "white",
           "zerolinewidth": 2
          },
          "yaxis": {
           "automargin": true,
           "gridcolor": "white",
           "linecolor": "white",
           "ticks": "",
           "title": {
            "standoff": 15
           },
           "zerolinecolor": "white",
           "zerolinewidth": 2
          }
         }
        }
       }
      },
      "image/png": "[encoded data removed]",
      "image/svg+xml": [
       "<svg class=\"main-svg\" xmlns=\"http://www.w3.org/2000/svg\" xmlns:xlink=\"http://www.w3.org/1999/xlink\" width=\"700\" height=\"500\" style=\"\" viewBox=\"0 0 700 500\"><rect x=\"0\" y=\"0\" width=\"700\" height=\"500\" style=\"fill: rgb(255, 255, 255); fill-opacity: 1;\"/><defs id=\"defs-3c9c0f\"><g class=\"clips\"><clipPath id=\"clip3c9c0fxyplot\" class=\"plotclip\"><rect width=\"543\" height=\"390\"/></clipPath><clipPath class=\"axesclip\" id=\"clip3c9c0fx\"><rect x=\"50\" y=\"0\" width=\"543\" height=\"500\"/></clipPath><clipPath class=\"axesclip\" id=\"clip3c9c0fy\"><rect x=\"0\" y=\"60\" width=\"700\" height=\"390\"/></clipPath><clipPath class=\"axesclip\" id=\"clip3c9c0fxy\"><rect x=\"50\" y=\"60\" width=\"543\" height=\"390\"/></clipPath></g><g class=\"gradients\"/><g class=\"patterns\"/></defs><g class=\"bglayer\"><rect class=\"bg\" x=\"50\" y=\"60\" width=\"543\" height=\"390\" style=\"fill: rgb(229, 236, 246); fill-opacity: 1; stroke-width: 0;\"/></g><g class=\"layer-below\"><g class=\"imagelayer\"/><g class=\"shapelayer\"/></g><g class=\"cartesianlayer\"><g class=\"subplot xy\"><g class=\"layer-subplot\"><g class=\"shapelayer\"/><g class=\"imagelayer\"/></g><g class=\"gridlayer\"><g class=\"x\"><path class=\"xgrid crisp\" transform=\"translate(157.73000000000002,0)\" d=\"M0,60v390\" style=\"stroke: rgb(255, 255, 255); stroke-opacity: 1; stroke-width: 1px;\"/><path class=\"xgrid crisp\" transform=\"translate(266.55,0)\" d=\"M0,60v390\" style=\"stroke: rgb(255, 255, 255); stroke-opacity: 1; stroke-width: 1px;\"/><path class=\"xgrid crisp\" transform=\"translate(375.36,0)\" d=\"M0,60v390\" style=\"stroke: rgb(255, 255, 255); stroke-opacity: 1; stroke-width: 1px;\"/><path class=\"xgrid crisp\" transform=\"translate(484.18,0)\" d=\"M0,60v390\" style=\"stroke: rgb(255, 255, 255); stroke-opacity: 1; stroke-width: 1px;\"/></g><g class=\"y\"><path class=\"ygrid crisp\" transform=\"translate(0,430.5)\" d=\"M50,0h543\" style=\"stroke: rgb(255, 255, 255); stroke-opacity: 1; stroke-width: 1px;\"/><path class=\"ygrid crisp\" transform=\"translate(0,372)\" d=\"M50,0h543\" style=\"stroke: rgb(255, 255, 255); stroke-opacity: 1; stroke-width: 1px;\"/><path class=\"ygrid crisp\" transform=\"translate(0,255)\" d=\"M50,0h543\" style=\"stroke: rgb(255, 255, 255); stroke-opacity: 1; stroke-width: 1px;\"/><path class=\"ygrid crisp\" transform=\"translate(0,196.5)\" d=\"M50,0h543\" style=\"stroke: rgb(255, 255, 255); stroke-opacity: 1; stroke-width: 1px;\"/><path class=\"ygrid crisp\" transform=\"translate(0,138)\" d=\"M50,0h543\" style=\"stroke: rgb(255, 255, 255); stroke-opacity: 1; stroke-width: 1px;\"/><path class=\"ygrid crisp\" transform=\"translate(0,79.5)\" d=\"M50,0h543\" style=\"stroke: rgb(255, 255, 255); stroke-opacity: 1; stroke-width: 1px;\"/></g></g><g class=\"zerolinelayer\"><path class=\"yzl zl crisp\" transform=\"translate(0,313.5)\" d=\"M50,0h543\" style=\"stroke: rgb(255, 255, 255); stroke-opacity: 1; stroke-width: 2px;\"/></g><path class=\"xlines-below\"/><path class=\"ylines-below\"/><g class=\"overlines-below\"/><g class=\"xaxislayer-below\"/><g class=\"yaxislayer-below\"/><g class=\"overaxes-below\"/><g class=\"plot\" transform=\"translate(50,60)\" clip-path=\"url(#clip3c9c0fxyplot)\"><g class=\"scatterlayer mlayer\"><g class=\"trace scatter trace5c58ef\" style=\"stroke-miterlimit: 2; opacity: 1;\"><g class=\"fills\"/><g class=\"errorbars\"/><g class=\"lines\"><path class=\"js-line\" d=\"M0,370.5L543,370.5\" style=\"vector-effect: non-scaling-stroke; fill: none; stroke: rgb(99, 110, 250); stroke-opacity: 1; stroke-width: 2px; opacity: 1;\"/></g><g class=\"points\"/><g class=\"text\"/></g><g class=\"trace scatter trace5c7e74\" style=\"stroke-miterlimit: 2; opacity: 1;\"><g class=\"fills\"/><g class=\"errorbars\"/><g class=\"lines\"><path class=\"js-line\" d=\"M0,370.5L13.06,369.67L14.15,369.53L27.2,366.92L28.29,366.63L42.44,361.84L43.53,361.4L57.67,354.68L58.76,354.09L72.91,345.57L74,344.84L90.32,332.99L91.41,332.13L109.91,316.47L110.99,315.48L130.58,296.86L131.67,295.78L156.7,269.99L157.79,268.84L214.37,209.6L215.46,208.52L229.61,195L230.69,196.01L250.28,213.04L251.37,213.92L268.78,226.87L269.87,227.61L285.1,236.94L286.19,237.53L299.25,243.85L300.34,244.31L313.39,248.97L314.48,249.28L326.45,252.01L327.54,252.19L339.51,253.41L340.6,253.45L351.48,254.34L352.57,254.59L360.19,257.24L361.27,257.73L369.98,262.59L371.07,263.29L383.04,272.16L384.13,273.05L403.71,290.31L404.8,291.31L442.89,325.36L443.98,326.26L461.39,339.7L462.47,340.47L477.71,350.43L478.8,351.07L492.94,358.55L494.03,359.06L508.18,364.66L509.27,365.02L521.24,368.21L522.32,368.43L535.38,370.22L536.47,370.29L543,370.5\" style=\"vector-effect: non-scaling-stroke; fill: none; stroke: rgb(239, 85, 59); stroke-opacity: 1; stroke-width: 2px; opacity: 1;\"/></g><g class=\"points\"/><g class=\"text\"/></g><g class=\"trace scatter traced9c693\" style=\"stroke-miterlimit: 2; opacity: 1;\"><g class=\"fills\"/><g class=\"errorbars\"/><g class=\"lines\"><path class=\"js-line\" d=\"M0,19.5L13.06,20.33L14.15,20.47L27.2,23.08L28.29,23.37L42.44,28.16L43.53,28.6L57.67,35.32L58.76,35.91L72.91,44.43L74,45.16L90.32,57.01L91.41,57.87L109.91,73.53L110.99,74.52L130.58,93.14L131.67,94.22L156.7,120.01L157.79,121.16L214.37,180.4L215.46,181.48L229.61,195L230.69,193.99L250.28,176.96L251.37,176.08L268.78,163.13L269.87,162.39L285.1,153.06L286.19,152.47L299.25,146.15L300.34,145.69L313.39,141.03L314.48,140.72L326.45,137.99L327.54,137.81L339.51,136.59L340.6,136.55L351.48,135.66L352.57,135.41L360.19,132.76L361.27,132.27L369.98,127.41L371.07,126.71L383.04,117.84L384.13,116.95L403.71,99.69L404.8,98.69L442.89,64.64L443.98,63.74L461.39,50.3L462.47,49.53L477.71,39.57L478.8,38.93L492.94,31.45L494.03,30.94L508.18,25.34L509.27,24.98L521.24,21.79L522.32,21.57L535.38,19.78L536.47,19.71L543,19.5\" style=\"vector-effect: non-scaling-stroke; fill: none; stroke: rgb(0, 204, 150); stroke-opacity: 1; stroke-width: 2px; opacity: 1;\"/></g><g class=\"points\"/><g class=\"text\"/></g></g></g><g class=\"overplot\"/><path class=\"xlines-above crisp\" d=\"M0,0\" style=\"fill: none;\"/><path class=\"ylines-above crisp\" d=\"M0,0\" style=\"fill: none;\"/><g class=\"overlines-above\"/><g class=\"xaxislayer-above\"><g class=\"xtick\"><text text-anchor=\"middle\" x=\"0\" y=\"463\" transform=\"translate(157.73000000000002,0)\" style=\"font-family: 'Open Sans', verdana, arial, sans-serif; font-size: 12px; fill: rgb(42, 63, 95); fill-opacity: 1; white-space: pre; opacity: 1;\">100</text></g><g class=\"xtick\"><text text-anchor=\"middle\" x=\"0\" y=\"463\" style=\"font-family: 'Open Sans', verdana, arial, sans-serif; font-size: 12px; fill: rgb(42, 63, 95); fill-opacity: 1; white-space: pre; opacity: 1;\" transform=\"translate(266.55,0)\">200</text></g><g class=\"xtick\"><text text-anchor=\"middle\" x=\"0\" y=\"463\" style=\"font-family: 'Open Sans', verdana, arial, sans-serif; font-size: 12px; fill: rgb(42, 63, 95); fill-opacity: 1; white-space: pre; opacity: 1;\" transform=\"translate(375.36,0)\">300</text></g><g class=\"xtick\"><text text-anchor=\"middle\" x=\"0\" y=\"463\" style=\"font-family: 'Open Sans', verdana, arial, sans-serif; font-size: 12px; fill: rgb(42, 63, 95); fill-opacity: 1; white-space: pre; opacity: 1;\" transform=\"translate(484.18,0)\">400</text></g><g class=\"xtick\"><text text-anchor=\"middle\" x=\"0\" y=\"463\" style=\"font-family: 'Open Sans', verdana, arial, sans-serif; font-size: 12px; fill: rgb(42, 63, 95); fill-opacity: 1; white-space: pre; opacity: 1;\" transform=\"translate(593,0)\">500</text></g></g><g class=\"yaxislayer-above\"><g class=\"ytick\"><text text-anchor=\"end\" x=\"49\" y=\"4.199999999999999\" transform=\"translate(0,430.5)\" style=\"font-family: 'Open Sans', verdana, arial, sans-serif; font-size: 12px; fill: rgb(42, 63, 95); fill-opacity: 1; white-space: pre; opacity: 1;\">−2</text></g><g class=\"ytick\"><text text-anchor=\"end\" x=\"49\" y=\"4.199999999999999\" style=\"font-family: 'Open Sans', verdana, arial, sans-serif; font-size: 12px; fill: rgb(42, 63, 95); fill-opacity: 1; white-space: pre; opacity: 1;\" transform=\"translate(0,372)\">−1</text></g><g class=\"ytick\"><text text-anchor=\"end\" x=\"49\" y=\"4.199999999999999\" style=\"font-family: 'Open Sans', verdana, arial, sans-serif; font-size: 12px; fill: rgb(42, 63, 95); fill-opacity: 1; white-space: pre; opacity: 1;\" transform=\"translate(0,313.5)\">0</text></g><g class=\"ytick\"><text text-anchor=\"end\" x=\"49\" y=\"4.199999999999999\" style=\"font-family: 'Open Sans', verdana, arial, sans-serif; font-size: 12px; fill: rgb(42, 63, 95); fill-opacity: 1; white-space: pre; opacity: 1;\" transform=\"translate(0,255)\">1</text></g><g class=\"ytick\"><text text-anchor=\"end\" x=\"49\" y=\"4.199999999999999\" style=\"font-family: 'Open Sans', verdana, arial, sans-serif; font-size: 12px; fill: rgb(42, 63, 95); fill-opacity: 1; white-space: pre; opacity: 1;\" transform=\"translate(0,196.5)\">2</text></g><g class=\"ytick\"><text text-anchor=\"end\" x=\"49\" y=\"4.199999999999999\" style=\"font-family: 'Open Sans', verdana, arial, sans-serif; font-size: 12px; fill: rgb(42, 63, 95); fill-opacity: 1; white-space: pre; opacity: 1;\" transform=\"translate(0,138)\">3</text></g><g class=\"ytick\"><text text-anchor=\"end\" x=\"49\" y=\"4.199999999999999\" style=\"font-family: 'Open Sans', verdana, arial, sans-serif; font-size: 12px; fill: rgb(42, 63, 95); fill-opacity: 1; white-space: pre; opacity: 1;\" transform=\"translate(0,79.5)\">4</text></g></g><g class=\"overaxes-above\"/></g></g><g class=\"polarlayer\"/><g class=\"ternarylayer\"/><g class=\"geolayer\"/><g class=\"funnelarealayer\"/><g class=\"pielayer\"/><g class=\"iciclelayer\"/><g class=\"treemaplayer\"/><g class=\"sunburstlayer\"/><g class=\"glimages\"/><defs id=\"topdefs-3c9c0f\"><g class=\"clips\"/><clipPath id=\"legend3c9c0f\"><rect width=\"84\" height=\"67\" x=\"0\" y=\"0\"/></clipPath></defs><g class=\"layer-above\"><g class=\"imagelayer\"/><g class=\"shapelayer\"/></g><g class=\"infolayer\"><g class=\"legend\" pointer-events=\"all\" transform=\"translate(603.86,60)\"><rect class=\"bg\" shape-rendering=\"crispEdges\" width=\"84\" height=\"67\" x=\"0\" y=\"0\" style=\"stroke: rgb(68, 68, 68); stroke-opacity: 1; fill: rgb(255, 255, 255); fill-opacity: 1; stroke-width: 0px;\"/><g class=\"scrollbox\" transform=\"\" clip-path=\"url(#legend3c9c0f)\"><g class=\"groups\"><g class=\"traces\" transform=\"translate(0,14.5)\" style=\"opacity: 1;\"><text class=\"legendtext\" text-anchor=\"start\" x=\"40\" y=\"4.680000000000001\" style=\"font-family: 'Open Sans', verdana, arial, sans-serif; font-size: 12px; fill: rgb(42, 63, 95); fill-opacity: 1; white-space: pre;\">trace 0</text><g class=\"layers\" style=\"opacity: 1;\"><g class=\"legendfill\"/><g class=\"legendlines\"><path class=\"js-line\" d=\"M5,0h30\" style=\"fill: none; stroke: rgb(99, 110, 250); stroke-opacity: 1; stroke-width: 2px;\"/></g><g class=\"legendsymbols\"><g class=\"legendpoints\"/></g></g><rect class=\"legendtoggle\" x=\"0\" y=\"-9.5\" width=\"78.375\" height=\"19\" style=\"fill: rgb(0, 0, 0); fill-opacity: 0;\"/></g><g class=\"traces\" transform=\"translate(0,33.5)\" style=\"opacity: 1;\"><text class=\"legendtext\" text-anchor=\"start\" x=\"40\" y=\"4.680000000000001\" style=\"font-family: 'Open Sans', verdana, arial, sans-serif; font-size: 12px; fill: rgb(42, 63, 95); fill-opacity: 1; white-space: pre;\">trace 1</text><g class=\"layers\" style=\"opacity: 1;\"><g class=\"legendfill\"/><g class=\"legendlines\"><path class=\"js-line\" d=\"M5,0h30\" style=\"fill: none; stroke: rgb(239, 85, 59); stroke-opacity: 1; stroke-width: 2px;\"/></g><g class=\"legendsymbols\"><g class=\"legendpoints\"/></g></g><rect class=\"legendtoggle\" x=\"0\" y=\"-9.5\" width=\"78.375\" height=\"19\" style=\"fill: rgb(0, 0, 0); fill-opacity: 0;\"/></g><g class=\"traces\" transform=\"translate(0,52.5)\" style=\"opacity: 1;\"><text class=\"legendtext\" text-anchor=\"start\" x=\"40\" y=\"4.680000000000001\" style=\"font-family: 'Open Sans', verdana, arial, sans-serif; font-size: 12px; fill: rgb(42, 63, 95); fill-opacity: 1; white-space: pre;\">trace 2</text><g class=\"layers\" style=\"opacity: 1;\"><g class=\"legendfill\"/><g class=\"legendlines\"><path class=\"js-line\" d=\"M5,0h30\" style=\"fill: none; stroke: rgb(0, 204, 150); stroke-opacity: 1; stroke-width: 2px;\"/></g><g class=\"legendsymbols\"><g class=\"legendpoints\"/></g></g><rect class=\"legendtoggle\" x=\"0\" y=\"-9.5\" width=\"78.375\" height=\"19\" style=\"fill: rgb(0, 0, 0); fill-opacity: 0;\"/></g></g></g><rect class=\"scrollbar\" rx=\"20\" ry=\"3\" width=\"0\" height=\"0\" x=\"0\" y=\"0\" style=\"fill: rgb(128, 139, 164); fill-opacity: 1;\"/></g><g class=\"g-gtitle\"/><g class=\"g-xtitle\"/><g class=\"g-ytitle\"/></g></svg>"
      ],
      "text/html": [
       "<div\n",
       "    class=\"webio-mountpoint\"\n",
       "    data-webio-mountpoint=\"9049380154732152380\"\n",
       ">\n",
       "    <script>\n",
       "    (function(){\n",
       "    // Some integrations (namely, IJulia/Jupyter) use an alternate render pathway than\n",
       "    // just putting the html on the page. If WebIO isn't defined, then it's pretty likely\n",
       "    // that we're in one of those situations and the integration just isn't installed\n",
       "    // correctly.\n",
       "    if (typeof window.WebIO === \"undefined\") {\n",
       "        document\n",
       "            .querySelector('[data-webio-mountpoint=\"9049380154732152380\"]')\n",
       "            .innerHTML = (\n",
       "                '<div style=\"padding: 1em; background-color: #f8d6da; border: 1px solid #f5c6cb; font-weight: bold;\">' +\n",
       "                '<p><strong>WebIO not detected.</strong></p>' +\n",
       "                '<p>Please read ' +\n",
       "                '<a href=\"https://juliagizmos.github.io/WebIO.jl/latest/troubleshooting/not-detected/\" target=\"_blank\">the troubleshooting guide</a> ' +\n",
       "                'for more information on how to resolve this issue.</p>' +\n",
       "                '<p><a href=\"https://juliagizmos.github.io/WebIO.jl/latest/troubleshooting/not-detected/\" target=\"_blank\">https://juliagizmos.github.io/WebIO.jl/latest/troubleshooting/not-detected/</a></p>' +\n",
       "                '</div>'\n",
       "            );\n",
       "        return;\n",
       "    }\n",
       "    WebIO.mount(\n",
       "        document.querySelector('[data-webio-mountpoint=\"9049380154732152380\"]'),\n",
       "        {\"props\":{},\"nodeType\":\"Scope\",\"type\":\"node\",\"instanceArgs\":{\"imports\":{\"data\":[{\"name\":\"Plotly\",\"type\":\"js\",\"url\":\"\\/assetserver\\/b267c3137400db01c304fe886fe6f707be7fdb37-plotly.min.js\"},{\"name\":null,\"type\":\"js\",\"url\":\"\\/assetserver\\/020f2e8a4619f2ae880fff9315e6547eef1aff0b-plotly_webio.bundle.js\"}],\"type\":\"async_block\"},\"id\":\"12258969497130775701\",\"handlers\":{\"_toImage\":[\"(function (options){return this.Plotly.toImage(this.plotElem,options).then((function (data){return WebIO.setval({\\\"name\\\":\\\"image\\\",\\\"scope\\\":\\\"12258969497130775701\\\",\\\"id\\\":\\\"155\\\",\\\"type\\\":\\\"observable\\\"},data)}))})\"],\"__get_gd_contents\":[\"(function (prop){prop==\\\"data\\\" ? (WebIO.setval({\\\"name\\\":\\\"__gd_contents\\\",\\\"scope\\\":\\\"12258969497130775701\\\",\\\"id\\\":\\\"156\\\",\\\"type\\\":\\\"observable\\\"},this.plotElem.data)) : undefined; return prop==\\\"layout\\\" ? (WebIO.setval({\\\"name\\\":\\\"__gd_contents\\\",\\\"scope\\\":\\\"12258969497130775701\\\",\\\"id\\\":\\\"156\\\",\\\"type\\\":\\\"observable\\\"},this.plotElem.layout)) : undefined})\"],\"_downloadImage\":[\"(function (options){return this.Plotly.downloadImage(this.plotElem,options)})\"],\"_commands\":[\"(function (args){var fn=args.shift(); var elem=this.plotElem; var Plotly=this.Plotly; args.unshift(elem); return Plotly[fn].apply(this,args)})\"]},\"systemjs_options\":null,\"mount_callbacks\":[\"function () {\\n    var handler = ((function (Plotly,PlotlyWebIO){PlotlyWebIO.init(WebIO); var gd=this.dom.querySelector(\\\"#plot-1fd24596-e8d3-40c6-a9f8-2907ff078677\\\"); this.plotElem=gd; this.Plotly=Plotly; (window.Blink!==undefined) ? (gd.style.width=\\\"100%\\\", gd.style.height=\\\"100vh\\\", gd.style.marginLeft=\\\"0%\\\", gd.style.marginTop=\\\"0vh\\\") : undefined; window.onresize=(function (){return Plotly.Plots.resize(gd)}); Plotly.newPlot(gd,[{\\\"y\\\":[-2.000000000000001,-2.0,-2.0,-2.0000000000000004,-1.9999999999999998,-2.000000000000001,-2.0000000000000004,-2.000000000000001,-2.0,-2.000000000000001,-2.0,-2.0,-2.0000000000000004,-2.0000000000000004,-2.000000000000001,-2.000000000000001,-2.0,-2.0,-2.0000000000000004,-2.000000000000001,-2.0,-2.0000000000000004,-1.9999999999999998,-2.000000000000001,-2.000000000000001,-2.0,-2.000000000000001,-2.0,-2.000000000000001,-2.0,-2.000000000000001,-2.0000000000000004,-1.9999999999999998,-2.0,-1.9999999999999998,-2.000000000000001,-2.0,-2.0,-2.0000000000000004,-1.9999999999999998,-2.000000000000001,-2.000000000000001,-2.0000000000000004,-2.0,-2.0,-2.0000000000000004,-2.0000000000000004,-2.000000000000001,-2.000000000000001,-2.000000000000001,-2.0,-2.0000000000000004,-2.000000000000001,-1.9999999999999996,-2.000000000000001,-2.0,-2.0000000000000004,-2.0,-2.0000000000000004,-1.9999999999999998,-2.0000000000000004,-2.0000000000000004,-2.000000000000001,-2.0000000000000004,-2.0,-2.0000000000000004,-2.0000000000000004,-2.0000000000000004,-2.0000000000000004,-2.0,-2.000000000000001,-2.0,-2.0000000000000004,-2.0000000000000004,-2.0,-2.0,-2.0,-2.000000000000001,-2.0,-2.0000000000000013,-1.9999999999999998,-2.000000000000001,-2.0000000000000004,-2.0,-1.9999999999999996,-2.0,-2.0000000000000004,-2.0000000000000004,-2.0000000000000004,-2.000000000000001,-1.9999999999999998,-2.0,-1.9999999999999996,-2.0,-2.0000000000000004,-2.0000000000000004,-1.9999999999999993,-1.9999999999999998,-1.9999999999999998,-2.0,-1.9999999999999998,-1.9999999999999998,-1.9999999999999993,-2.000000000000001,-2.0000000000000004,-1.9999999999999998,-2.000000000000001,-2.000000000000001,-2.0,-2.000000000000001,-2.0,-2.0000000000000004,-1.9999999999999998,-2.0,-2.000000000000001,-2.0000000000000004,-2.0000000000000004,-2.0,-2.0,-2.0,-1.9999999999999998,-2.0,-1.9999999999999998,-2.0000000000000004,-1.9999999999999993,-2.0,-2.0000000000000004,-2.000000000000001,-1.9999999999999998,-2.0,-2.0000000000000004,-2.0000000000000004,-2.0,-1.9999999999999996,-2.0,-1.9999999999999996,-1.9999999999999998,-2.0,-2.0,-2.0,-2.0,-2.0,-2.000000000000001,-2.0,-2.0,-2.0000000000000004,-2.0000000000000004,-2.0000000000000004,-2.0,-2.000000000000001,-1.9999999999999998,-2.0000000000000004,-2.0,-2.0,-2.0,-1.9999999999999998,-1.9999999999999998,-2.0,-2.0,-2.0,-2.0,-2.0,-2.0,-2.0,-2.0,-2.0,-2.0,-2.0000000000000004,-2.0,-2.0,-2.0,-2.0,-2.0,-2.0,-2.0,-2.0,-2.0,-2.0,-2.0,-2.0,-2.0,-2.0,-2.0,-2.000000000000001,-2.0000000000000004,-2.0,-2.0,-2.0,-2.0,-2.0,-1.9999999999999996,-2.0,-2.0,-2.0,-2.0,-2.0,-2.0,-2.0,-2.0,-2.0,-2.0,-2.0,-2.0000000000000004,-2.0,-2.0,-2.0,-2.0,-2.0,-2.0,-2.0,-2.0,-2.0,-1.9999999999999998,-1.9999999999999996,-2.0,-2.0000000000000004,-2.0000000000000004,-1.9999999999999996,-2.0,-2.0000000000000004,-1.9999999999999991,-2.0000000000000004,-2.0,-2.0000000000000004,-1.9999999999999996,-1.9999999999999998,-1.9999999999999996,-1.9999999999999998,-2.000000000000001,-2.0,-2.0,-1.9999999999999993,-2.0,-2.0,-1.9999999999999996,-1.9999999999999996,-2.0,-1.9999999999999996,-2.0,-1.9999999999999996,-1.9999999999999993,-2.0,-2.0,-2.0,-2.0,-1.9999999999999998,-2.0000000000000004,-1.9999999999999996,-1.9999999999999996,-1.9999999999999996,-2.0000000000000004,-2.0,-1.9999999999999996,-1.9999999999999991,-2.0,-2.0,-2.0,-2.0,-2.0,-1.9999999999999998,-2.0,-1.9999999999999998,-1.9999999999999991,-2.0000000000000004,-2.0,-1.9999999999999993,-2.0,-1.9999999999999998,-1.9999999999999998,-1.9999999999999996,-2.0,-1.9999999999999996,-2.0000000000000004,-1.9999999999999996,-2.0,-2.0,-1.9999999999999998,-1.9999999999999998,-1.9999999999999996,-2.0,-2.0000000000000004,-2.0000000000000004,-2.0000000000000004,-1.9999999999999998,-2.0000000000000004,-1.9999999999999996,-2.0000000000000004,-2.0,-2.0,-2.0,-2.0000000000000004,-2.0,-2.0,-2.000000000000001,-2.0,-2.0000000000000004,-1.9999999999999996,-2.0,-2.000000000000001,-2.0000000000000004,-1.9999999999999993,-2.0,-2.0000000000000013,-1.9999999999999998,-2.0,-1.9999999999999998,-2.0000000000000004,-1.9999999999999998,-2.0,-1.9999999999999991,-2.0,-2.0,-2.0,-2.000000000000001,-2.0,-2.000000000000001,-1.9999999999999993,-2.0000000000000004,-2.0,-1.9999999999999998,-2.0000000000000004,-2.0000000000000004,-1.9999999999999996,-2.0,-2.0,-1.9999999999999998,-1.9999999999999998,-2.0000000000000004,-2.0000000000000004,-1.9999999999999998,-2.0,-1.9999999999999998,-1.9999999999999998,-2.0,-1.9999999999999998,-2.0,-1.9999999999999996,-1.9999999999999998,-2.0,-2.0,-2.0,-2.0,-2.000000000000001,-2.0,-1.9999999999999998,-2.0000000000000004,-2.0000000000000004,-2.0,-2.0000000000000004,-2.0,-1.9999999999999998,-2.0000000000000004,-1.9999999999999998,-2.0,-1.9999999999999996,-2.0,-1.9999999999999998,-1.9999999999999998,-2.0,-1.9999999999999996,-2.0,-2.0,-1.9999999999999996,-2.0,-2.0000000000000004,-2.0,-1.9999999999999996,-2.0000000000000004,-1.9999999999999998,-1.9999999999999993,-2.0000000000000004,-2.0,-1.9999999999999996,-2.0000000000000004,-2.0000000000000004,-2.0,-2.0,-2.0000000000000004,-1.9999999999999998,-2.0,-2.0,-2.0,-1.9999999999999998,-2.0000000000000004,-2.0,-2.000000000000001,-1.9999999999999998,-1.9999999999999996,-1.9999999999999998,-1.9999999999999993,-2.0000000000000004,-2.0,-2.0000000000000004,-2.0,-2.0,-1.9999999999999996,-2.0000000000000004,-2.0000000000000004,-1.9999999999999998,-1.9999999999999996,-1.9999999999999998,-1.9999999999999996,-2.0,-2.0000000000000004,-2.0,-2.0000000000000004,-1.9999999999999998,-2.0000000000000004,-2.0000000000000004,-1.9999999999999993,-2.0000000000000004,-1.9999999999999998,-2.0000000000000004,-2.0000000000000004,-1.9999999999999996,-1.9999999999999993,-1.9999999999999996,-2.0000000000000004,-2.0,-2.0000000000000004,-2.0,-2.0000000000000004,-1.9999999999999996,-1.9999999999999996,-2.0000000000000004,-2.0,-1.9999999999999996,-2.000000000000001,-1.9999999999999993,-2.0,-2.0000000000000004,-1.9999999999999996,-2.000000000000001,-2.0000000000000004,-2.0000000000000004,-2.0000000000000004,-1.9999999999999996,-1.9999999999999996,-1.9999999999999993,-1.9999999999999998,-1.9999999999999993,-1.9999999999999996,-2.0000000000000013,-2.0,-1.9999999999999998,-1.9999999999999998,-1.9999999999999998,-1.9999999999999991,-2.0,-2.0000000000000004,-1.9999999999999998,-1.9999999999999998,-1.9999999999999987,-2.0000000000000004,-1.9999999999999993,-2.0,-1.999999999999999,-2.000000000000001,-2.0000000000000004,-2.0,-1.9999999999999996,-2.0000000000000004,-1.9999999999999996,-1.9999999999999993,-2.0000000000000004,-1.9999999999999998,-1.9999999999999998,-1.9999999999999998,-2.0,-2.000000000000001,-1.9999999999999998,-2.0000000000000004,-2.0000000000000004,-2.0000000000000004,-2.000000000000001,-2.0,-1.9999999999999998,-1.9999999999999998,-2.0,-2.0000000000000004,-2.0,-2.0,-2.0,-1.999999999999999,-2.0000000000000004,-1.9999999999999996,-2.0,-1.9999999999999998,-1.9999999999999993,-2.0,-2.0000000000000004,-2.0000000000000004,-1.9999999999999998,-1.9999999999999996,-2.0,-2.0000000000000004,-1.9999999999999993,-1.9999999999999998,-1.9999999999999996,-2.000000000000001],\\\"type\\\":\\\"scatter\\\",\\\"x\\\":[1,2,3,4,5,6,7,8,9,10,11,12,13,14,15,16,17,18,19,20,21,22,23,24,25,26,27,28,29,30,31,32,33,34,35,36,37,38,39,40,41,42,43,44,45,46,47,48,49,50,51,52,53,54,55,56,57,58,59,60,61,62,63,64,65,66,67,68,69,70,71,72,73,74,75,76,77,78,79,80,81,82,83,84,85,86,87,88,89,90,91,92,93,94,95,96,97,98,99,100,101,102,103,104,105,106,107,108,109,110,111,112,113,114,115,116,117,118,119,120,121,122,123,124,125,126,127,128,129,130,131,132,133,134,135,136,137,138,139,140,141,142,143,144,145,146,147,148,149,150,151,152,153,154,155,156,157,158,159,160,161,162,163,164,165,166,167,168,169,170,171,172,173,174,175,176,177,178,179,180,181,182,183,184,185,186,187,188,189,190,191,192,193,194,195,196,197,198,199,200,201,202,203,204,205,206,207,208,209,210,211,212,213,214,215,216,217,218,219,220,221,222,223,224,225,226,227,228,229,230,231,232,233,234,235,236,237,238,239,240,241,242,243,244,245,246,247,248,249,250,251,252,253,254,255,256,257,258,259,260,261,262,263,264,265,266,267,268,269,270,271,272,273,274,275,276,277,278,279,280,281,282,283,284,285,286,287,288,289,290,291,292,293,294,295,296,297,298,299,300,301,302,303,304,305,306,307,308,309,310,311,312,313,314,315,316,317,318,319,320,321,322,323,324,325,326,327,328,329,330,331,332,333,334,335,336,337,338,339,340,341,342,343,344,345,346,347,348,349,350,351,352,353,354,355,356,357,358,359,360,361,362,363,364,365,366,367,368,369,370,371,372,373,374,375,376,377,378,379,380,381,382,383,384,385,386,387,388,389,390,391,392,393,394,395,396,397,398,399,400,401,402,403,404,405,406,407,408,409,410,411,412,413,414,415,416,417,418,419,420,421,422,423,424,425,426,427,428,429,430,431,432,433,434,435,436,437,438,439,440,441,442,443,444,445,446,447,448,449,450,451,452,453,454,455,456,457,458,459,460,461,462,463,464,465,466,467,468,469,470,471,472,473,474,475,476,477,478,479,480,481,482,483,484,485,486,487,488,489,490,491,492,493,494,495,496,497,498,499,500]},{\\\"y\\\":[-2.0,-1.9999014744666956,-1.9996059075740604,-1.999113328442982,-1.9984237856050775,-1.99753734699793,-1.9964540999583726,-1.9951741512138947,-1.9936976268721331,-1.9920246724084336,-1.9901554526515288,-1.9880901517672913,-1.985828973240592,-1.9833721398552504,-1.9807198936720862,-1.9778724960050702,-1.9748302273955753,-1.9715933875847407,-1.9681622954839313,-1.9645372891433268,-1.9607187257186136,-1.9567069814357867,-1.952502451554091,-1.948105550327076,-1.9435167109617817,-1.938736385576051,-1.9337650451539927,-1.9286031794995746,-1.9232512971883606,-1.9177099255174128,-1.9119796104533278,-1.906060916578454,-1.8999544270352624,-1.893660743468889,-1.8871804859678705,-1.8805142930030256,-1.8736628213645745,-1.8666267460974157,-1.8594067604346145,-1.8520035757291091,-1.8444179213836231,-1.8366505447787966,-1.8287022111995468,-1.820573703759684,-1.8122658233247375,-1.8037793884330549,-1.7951152352151627,-1.7862742173113761,-1.7772572057877012,-1.7680650890500051,-1.75869877275649,-1.7491591797284665,-1.7394472498594253,-1.7295639400224347,-1.719510223975868,-1.7092870922674606,-1.6988955521367148,-1.6883366274156653,-1.6776113584280004,-1.666720801886568,-1.6556660307892581,-1.6444481343132904,-1.6330682177078941,-1.6215274021854276,-1.6098268248108898,-1.5979676383899077,-1.5859510113551498,-1.5737781276512026,-1.5614501866179238,-1.5489684028722785,-1.536334006188667,-1.5235482413777617,-1.5106123681638575,-1.4975276610607622,-1.484295409246222,-1.4709169164349036,-1.4573935007499441,-1.4437264945930899,-1.429917244513408,-1.4159671110746277,-1.4018774687210862,-1.3876497056423105,-1.373285223636245,-1.3587854379711397,-1.3441517772461131,-1.3293856832503885,-1.3144886108212535,-1.2994620277007138,-1.2843074143908844,-1.2690262640081251,-1.2536200821359262,-1.2380903866765718,-1.2224387077015901,-1.2066665873009996,-1.1907755794313748,-1.1747672497627362,-1.158643175524307,-1.142404945349099,-1.1260541591173994,-1.1095924277991422,-1.0930213732951848,-1.0763426282775093,-1.059557836028364,-1.042668650278356,-1.0256767350435183,-1.008583764461362,-0.9913914226259288,-0.9741014034218672,-0.9567154103575413,-0.9392351563971866,-0.9216623637921477,-0.9039987639111917,-0.8862460970699129,-0.868406112359281,-0.8504805674733029,-0.8324712285358489,-0.8143798699266418,-0.7962082741064372,-0.777958231441404,-0.7596315400267297,-0.7412300055094576,-0.7227554409105914,-0.7042096664464605,-0.6855945093493833,-0.6669118036876425,-0.648163390184775,-0.6293511160382204,-0.6104768347373226,-0.5915424058807117,-0.5725496949930875,-0.5535005733414216,-0.5343969177505818,-0.5152406104184246,-0.49603353873034517,-0.4767775950733244,-0.45747467664948216,-0.4381266852891481,-0.41873552726349117,-0.39930311309669686,-0.3798313573777339,-0.3603221785717201,-0.34077749883090025,-0.32119924380527,-0.30158934245284597,-0.28194972684961783,-0.2622823319991865,-0.2425890956421184,-0.22287195806502824,-0.20313286190941104,-0.18337375198024142,-0.16359657505436487,-0.14380327968868434,-0.12399581602818066,-0.10417613561377581,-0.08434619119005182,-0.06450793651285802,-0.04466332615681745,-0.024814315322746694,-0.0049628596450270734,0.014889085001086544,0.03473956269215983,0.05458661764929218,0.07442829443080945,0.09426263812492497,0.11408769454234857,0.1339015104088237,0.153702133557575,0.17348761312164784,0.1932559997261154,0.21300534568014706,0.2327337051688972,0.2524391344452275,0.2721196920212103,0.29177343885941265,0.3113984385639479,0.33099275757125435,0.3505544653405994,0.37008163454429455,0.3895723412575798,0.40902466514818103,0.4284366896655145,0.44780650222951035,0.4671321944190574,0.48641186216002485,0.505643605912866,0.5248255308597728,0.5439557470913594,0.5630323697928697,0.5820535194298778,0.6010173219334722,0.6199219088848974,0.638765417699641,0.6575459918109497,0.6762617808527424,0.6949109408419217,0.713491634360057,0.732002030734406,0.7504403062182973,0.768804644170805,0.787093235235738,0.8053042775199081,0.8234359767706626,0.8414865465526628,0.8594542084238951,0.8773371921108905,0.8951337356831442,0.9128420857267124,0.9304604975169589,0.9479872351904686,0.9654205719160641,0.982758790064948,0.9999998186200697,0.9827758346374926,0.9656527578388772,0.9486325634573811,0.9317169444244063,0.9149075832695146,0.8982061519531992,0.8816143117005887,0.8651337128362225,0.8487659946199013,0.8325127850836315,0.8163757008696964,0.8003563470698561,0.7844563170656893,0.7686771923701116,0.7530205424700691,0.7374879246704239,0.7220808839390572,0.706800952753196,0.6916496509469868,0.6766284855603222,0.6617389506889415,0.6469825273358158,0.6323606832638445,0.6178748728498586,0.6035265369399604,0.5893171027062107,0.5752479835046685,0.5613205787348139,0.547536273700357,0.5338964394714416,0.5204024327482756,0.507055595726183,0.49385725596210023,0.4808087262425317,0.467911304452971,0.4551662734488045,0.44257490092771246,0.43013843930357326,0.41785812558189744,0.40573518123677743,0.39377081208940107,0.38196620818811133,0.37032254369003303,0.35884097674428844,0.3475226493767988,0.33636868737669257,0.3253802001843277,0.3145582807809374,0.3039040055799194,0.2934184343197663,0.2831026099586595,0.2729575585707311,0.26298428924399997,0.253183793980006,0.2435570475951397,0.23410500762367853,0.22482861422254652,0.21572879007779813,0.206806440312848,0.1980624523984341,0.18949769606435268,0.18111302321294026,0.17290926783435,0.16488724592358805,0.157047755399353,0.1493915760246709,0.1419194693293368,0.13463217853416448,0.12753042847706325,0.12061492554094144,0.1138863575834459,0.10734539386854058,0.10099268499994357,0.09482886285640502,0.08885454052886571,0.08307031225946948,0.07747675338245841,0.07207442026694749,0.0668638502615817,0.06184556164109123,0.057020053554741545,0.05238780597668119,0.04794927965819973,0.043704916081907075,0.03965513741781079,0.03580034648133257,0.03214092669323665,0.028677242041490414,0.0254096370450706,0.022338436719684107,0.01946394654544703,0.016786452436490046,0.0143062207125364,0.012023498072396305,0.009938511569435815,0.008051468588991265,0.006362556827745114,0.004871944275047779,0.0035797791962217107,0.0024861901177980344,0.0015912858147454773,0.0008951552996468931,0.00039786781384117446,9.947282054322654e-5,-8.140571359215114e-14,-0.00029467633152808115,-0.0011780677333988916,-0.0026483582879167564,-0.004702539281111473,-0.007336435501516164,-0.01054474128726507,-0.014321065585352066,-0.018657985123931464,-0.023547104667227314,-0.02897912322642049,-0.0349439050399733,-0.04143055411306917,-0.04842749111617134,-0.05592253148394227,-0.06390296362364911,-0.0723556262317046,-0.08126698382289566,-0.09062319969380717,-0.10041020566489195,-0.11061376806988071,-0.12121954958288161,-0.13221316658921872,-0.1435802419131747,-0.15530645281269995,-0.1673775742364435,-0.17977951741174097,-0.19249836389343228,-0.20552039525277566,-0.2188321186242541,-0.23242028835635092,-0.24627192403164683,-0.2603743251329636,-0.2747150826368471,-0.2892820878145649,-0.30406353851513496,-0.31904794319555596,-0.33422412295129006,-0.349581211786001,-0.36510865534407416,-0.3807962083132703,-0.39663393068829356,-0.4126121830696141,-0.42872162115573353,-0.4449531895715145,-0.461298115160388,-0.47774789985425636,-0.49429431322187567,-0.5109293847843673,-0.5276453961754576,-0.5444348732137776,-0.5612905779454145,-0.5782055007065201,-0.5951728522482982,-0.6121860559600071,-0.6292387402196399,-0.6463247308966846,-0.6634380440267014,-0.6805728786733826,-0.6977236099901898,-0.7148847824905761,-0.7320511035330971,-0.7492174370254431,-0.7663787973494229,-0.7835303435072795,-0.8006673734882869,-0.817785318853404,-0.8348797395347772,-0.8519463188461002,-0.8689808586991569,-0.8859792750213921,-0.9029375933689477,-0.9198519447293031,-0.9367185615074455,-0.9535337736893705,-0.9702940051766276,-0.9869957702856049,-1.0036356704052767,-1.0202103908071884,-1.0367166976015432,-1.053151434833379,-1.0695115217129343,-1.0857939499744813,-1.1019957813580477,-1.1181141452086079,-1.1341462361875352,-1.1500893120912463,-1.165940691772193,-1.1816977531574921,-1.197357931360726,-1.2129187168825604,-1.2283776538960622,-1.2437323386127457,-1.2589804177255444,-1.2741195869250743,-1.2891475894857425,-1.3040622149183656,-1.318861297686138,-1.3335427159809496,-1.348104390557161,-1.362544283620102,-1.3768603977666787,-1.3910507749756005,-1.4051134956448665,-1.4190466776742379,-1.4328484755905575,-1.4465170797138998,-1.460050715362539,-1.4734476420949654,-1.486706152987134,-1.4998245739432885,-1.5128012630387793,-1.5256346098933298,-1.5383230350733603,-1.5508649895219324,-1.5632589540150827,-1.575503438643236,-1.587596982316583,-1.5995381522932437,-1.6113255437292,-1.6229577792489422,-1.6344335085358808,-1.6457514079416193,-1.656910180113182,-1.6679085536373939,-1.6787452827015963,-1.6894191467699808,-1.6999289502747787,-1.7102735223216647,-1.720451716408694,-1.7304624101581898,-1.740304505060952,-1.749976926232256,-1.7594786221791043,-1.7688085645782106,-1.777965748064239,-1.78694919002786,-1.7957579304231244,-1.8043910315838279,-1.812847578048376,-1.8211266763928315,-1.8292274550717693,-1.837149064266578,-1.8448906757409043,-1.852451482702913,-1.859830699674074,-1.8670275623641925,-1.874041327552407,-1.880871272973909,-1.8875166972121344,-1.893976919596201,-1.900251280103356,-1.906339139266252,-1.9122398780848122,-1.9179528979425442,-1.923477620527076,-1.9288134877547676,-1.9339599616992393,-1.9389165245236442,-1.943682678416557,-1.9482579455313291,-1.9526418679287851,-1.956834007523132,-1.9608339460309743,-1.9646412849233008,-1.9682556453803774,-1.9716766682494125,-1.9749040140049208,-1.9779373627116859,-1.9807764139902757,-1.983420886984976,-1.985870520334142,-1.988125072142843,-1.9901843199577707,-1.9920480607443698,-1.9937161108660932,-1.9951883060657871,-1.9964645014491402,-1.9975445714701618,-1.9984284099186531,-1.9991159299096677,-1.9996070638749057,-1.999901763556047,-2.0],\\\"type\\\":\\\"scatter\\\",\\\"x\\\":[1,2,3,4,5,6,7,8,9,10,11,12,13,14,15,16,17,18,19,20,21,22,23,24,25,26,27,28,29,30,31,32,33,34,35,36,37,38,39,40,41,42,43,44,45,46,47,48,49,50,51,52,53,54,55,56,57,58,59,60,61,62,63,64,65,66,67,68,69,70,71,72,73,74,75,76,77,78,79,80,81,82,83,84,85,86,87,88,89,90,91,92,93,94,95,96,97,98,99,100,101,102,103,104,105,106,107,108,109,110,111,112,113,114,115,116,117,118,119,120,121,122,123,124,125,126,127,128,129,130,131,132,133,134,135,136,137,138,139,140,141,142,143,144,145,146,147,148,149,150,151,152,153,154,155,156,157,158,159,160,161,162,163,164,165,166,167,168,169,170,171,172,173,174,175,176,177,178,179,180,181,182,183,184,185,186,187,188,189,190,191,192,193,194,195,196,197,198,199,200,201,202,203,204,205,206,207,208,209,210,211,212,213,214,215,216,217,218,219,220,221,222,223,224,225,226,227,228,229,230,231,232,233,234,235,236,237,238,239,240,241,242,243,244,245,246,247,248,249,250,251,252,253,254,255,256,257,258,259,260,261,262,263,264,265,266,267,268,269,270,271,272,273,274,275,276,277,278,279,280,281,282,283,284,285,286,287,288,289,290,291,292,293,294,295,296,297,298,299,300,301,302,303,304,305,306,307,308,309,310,311,312,313,314,315,316,317,318,319,320,321,322,323,324,325,326,327,328,329,330,331,332,333,334,335,336,337,338,339,340,341,342,343,344,345,346,347,348,349,350,351,352,353,354,355,356,357,358,359,360,361,362,363,364,365,366,367,368,369,370,371,372,373,374,375,376,377,378,379,380,381,382,383,384,385,386,387,388,389,390,391,392,393,394,395,396,397,398,399,400,401,402,403,404,405,406,407,408,409,410,411,412,413,414,415,416,417,418,419,420,421,422,423,424,425,426,427,428,429,430,431,432,433,434,435,436,437,438,439,440,441,442,443,444,445,446,447,448,449,450,451,452,453,454,455,456,457,458,459,460,461,462,463,464,465,466,467,468,469,470,471,472,473,474,475,476,477,478,479,480,481,482,483,484,485,486,487,488,489,490,491,492,493,494,495,496,497,498,499,500]},{\\\"y\\\":[3.9999999999999996,3.9999014744666948,3.9996059075740593,3.9991133284429807,3.9984237856050786,3.9975373469979294,3.996454099958371,3.9951741512138943,3.993697626872134,3.9920246724084345,3.9901554526515293,3.9880901517672913,3.9858289732405914,3.98337213985525,3.9807198936720853,3.9778724960050695,3.9748302273955765,3.97159338758474,3.9681622954839297,3.964537289143327,3.960718725718613,3.9567069814357865,3.952502451554092,3.9481055503270763,3.943516710961781,3.9387363855760515,3.9337650451539927,3.928603179499575,3.9232512971883606,3.9177099255174133,3.9119796104533275,3.906060916578454,3.8999544270352624,3.893660743468891,3.8871804859678702,3.880514293003025,3.873662821364575,3.8666267460974155,3.859406760434614,3.85200357572911,3.8444179213836227,3.8366505447787946,3.828702211199547,3.8205737037596834,3.8122658233247364,3.803779388433055,3.7951152352151625,3.7862742173113766,3.777257205787701,3.768065089050003,3.75869877275649,3.7491591797284674,3.7394472498594244,3.729563940022435,3.7195102239758677,3.70928709226746,3.698895552136715,3.688336627415665,3.6776113584280012,3.6667208018865685,3.6556660307892583,3.64444813431329,3.633068217707895,3.6215274021854276,3.60982682481089,3.5979676383899086,3.5859510113551494,3.5737781276512024,3.5614501866179236,3.548968402872278,3.5363340061886674,3.5235482413777612,3.5106123681638577,3.4975276610607624,3.484295409246222,3.470916916434904,3.4573935007499452,3.44372649459309,3.4299172445134083,3.415967111074627,3.4018774687210867,3.3876497056423105,3.3732852236362447,3.3587854379711404,3.344151777246113,3.3293856832503885,3.314488610821254,3.299462027700714,3.2843074143908852,3.269026264008125,3.253620082135927,3.2380903866765722,3.22243870770159,3.206666587300999,3.190775579431374,3.1747672497627364,3.1586431755243067,3.1424049453490985,3.126054159117399,3.109592427799142,3.0930213732951852,3.0763426282775095,3.0595578360283637,3.0426686502783555,3.0256767350435183,3.0085837644613616,2.991391422625929,2.9741014034218676,2.956715410357541,2.939235156397186,2.921662363792149,2.903998763911192,2.886246097069913,2.8684061123592812,2.850480567473303,2.8324712285358493,2.814379869926642,2.7962082741064376,2.7779582314414046,2.7596315400267297,2.7412300055094576,2.722755440910591,2.7042096664464603,2.685594509349383,2.6669118036876425,2.648163390184775,2.62935111603822,2.610476834737322,2.5915424058807117,2.5725496949930875,2.553500573341422,2.5343969177505823,2.5152406104184246,2.4960335387303454,2.4767775950733246,2.4574746766494817,2.4381266852891477,2.4187355272634914,2.399303113096697,2.379831357377734,2.36032217857172,2.3407774988309002,2.321199243805271,2.301589342452846,2.281949726849618,2.2622823319991863,2.242589095642119,2.2228719580650287,2.2031328619094115,2.183373751980242,2.163596575054365,2.1438032796886843,2.123995816028181,2.104176135613776,2.0843461911900523,2.0645079365128582,2.044663326156817,2.0248143153227467,2.004962859645027,1.9851109149989132,1.96526043730784,1.9454133823507078,1.9255717055691908,1.905737361875075,1.8859123054576514,1.8660984895911765,1.846297866442425,1.8265123868783526,1.8067440002738846,1.7869946543198532,1.767266294831103,1.7475608655547727,1.7278803079787897,1.7082265611405871,1.6886015614360521,1.6690072424287459,1.6494455346594006,1.6299183654557055,1.6104276587424202,1.5909753348518192,1.5715633103344855,1.5521934977704896,1.5328678055809426,1.5135881378399756,1.4943563940871347,1.475174469140227,1.4560442529086406,1.4369676302071306,1.4179464805701225,1.3989826780665284,1.380078091115103,1.3612345823003587,1.3424540081890501,1.3237382191472578,1.3050890591580786,1.2865083656399434,1.267997969265594,1.2495596937817028,1.2311953558291946,1.2129067647642617,1.194695722480092,1.1765640232293375,1.1585134534473371,1.140545791576105,1.1226628078891094,1.1048662643168556,1.0871579142732877,1.0695395024830412,1.0520127648095317,1.0345794280839358,1.0172412099350518,1.0000001813799306,1.0172241653625076,1.0343472421611226,1.0513674365426187,1.068283055575594,1.0850924167304852,1.1017938480468008,1.1183856882994119,1.1348662871637774,1.1512340053800985,1.1674872149163686,1.1836242991303039,1.1996436529301437,1.2155436829343107,1.2313228076298879,1.2469794575299302,1.262512075329576,1.277919116060943,1.2931990472468042,1.308350349053013,1.3233715144396772,1.338261049311058,1.3530174726641842,1.3676393167361554,1.3821251271501414,1.3964734630600397,1.4106828972937888,1.4247520164953316,1.4386794212651859,1.4524637262996427,1.4661035605285584,1.4795975672517248,1.4929444042738171,1.5061427440378998,1.5191912737574684,1.5320886955470296,1.5448337265511956,1.557425099072288,1.5698615606964266,1.5821418744181028,1.5942648187632231,1.6062291879105983,1.6180337918118886,1.6296774563099672,1.6411590232557118,1.652477350623201,1.663631312623307,1.6746197998156724,1.6854417192190625,1.6960959944200809,1.7065815656802337,1.71689739004134,1.727042441429269,1.7370157107560003,1.7468162060199939,1.7564429524048601,1.7658949923763212,1.7751713857774534,1.7842712099222018,1.7931935596871527,1.801937547601566,1.8105023039356478,1.8188869767870595,1.8270907321656498,1.835112754076412,1.842952244600647,1.8506084239753287,1.858080530670663,1.8653678214658358,1.8724695715229371,1.879385074459059,1.8861136424165548,1.8926546061314589,1.8990073150000568,1.9051711371435949,1.9111454594711341,1.9169296877405309,1.9225232466175417,1.9279255797330528,1.9331361497384187,1.9381544383589084,1.9429799464452586,1.9476121940233198,1.9520507203418,1.9562950839180933,1.9603448625821889,1.964199653518667,1.9678590733067647,1.9713227579585098,1.974590362954929,1.9776615632803156,1.9805360534545544,1.9832135475635098,1.9856937792874638,1.987976501927604,1.9900614884305643,1.9919485314110084,1.993637443172255,1.995128055724951,1.9964202208037782,1.9975138098822016,1.9984087141852545,1.999104844700354,1.9996021321861592,1.9999005271794572,2.000000000000081,2.0002946763315284,2.001178067733399,2.0026483582879164,2.0047025392811113,2.0073364355015166,2.010544741287265,2.014321065585352,2.0186579851239315,2.0235471046672275,2.0289791232264207,2.0349439050399734,2.0414305541130697,2.048427491116171,2.055922531483942,2.063902963623649,2.0723556262317047,2.0812669838228954,2.090623199693807,2.100410205664893,2.1106137680698804,2.1212195495828814,2.132213166589219,2.143580241913175,2.1553064528126997,2.1673775742364434,2.1797795174117414,2.192498363893433,2.2055203952527753,2.218832118624255,2.2324202883563515,2.246271924031647,2.2603743251329638,2.274715082636848,2.289282087814565,2.304063538515136,2.3190479431955557,2.33422412295129,2.3495812117860004,2.3651086553440748,2.3807962083132708,2.396633930688293,2.4126121830696134,2.4287216211557334,2.444953189571514,2.4612981151603877,2.477747899854257,2.4942943132218756,2.510929384784367,2.5276453961754575,2.5444348732137767,2.5612905779454143,2.5782055007065203,2.595172852248297,2.6121860559600067,2.6292387402196398,2.6463247308966835,2.6634380440267025,2.6805728786733836,2.6977236099901907,2.714884782490577,2.7320511035330965,2.7492174370254427,2.7663787973494225,2.783530343507279,2.8006673734882868,2.817785318853403,2.8348797395347773,2.8519463188461014,2.8689808586991576,2.8859792750213917,2.9029375933689465,2.9198519447293023,2.936718561507445,2.9535337736893705,2.970294005176628,2.9869957702856054,3.0036356704052767,3.0202103908071884,3.0367166976015434,3.0531514348333797,3.0695115217129327,3.085793949974481,3.1019957813580468,3.1181141452086085,3.1341462361875347,3.1500893120912457,3.1659406917721937,3.1816977531574917,3.1973579313607257,3.2129187168825597,3.228377653896061,3.2437323386127472,3.2589804177255446,3.2741195869250737,3.2891475894857427,3.3040622149183667,3.318861297686139,3.33354271598095,3.348104390557161,3.362544283620103,3.3768603977666776,3.3910507749756,3.4051134956448657,3.419046677674236,3.432848475590559,3.4465170797138986,3.4600507153625397,3.473447642094966,3.486706152987134,3.4998245739432905,3.512801263038779,3.525634609893329,3.5383230350733585,3.5508649895219326,3.5632589540150823,3.575503438643236,3.5875969823165823,3.5995381522932424,3.6113255437292002,3.6229577792489414,3.63443350853588,3.645751407941619,3.6569101801131816,3.6679085536373917,3.6787452827015974,3.6894191467699806,3.69992895027478,3.710273522321665,3.7204517164086943,3.7304624101581902,3.7403045050609514,3.749976926232256,3.7594786221791043,3.768808564578211,3.7779657480642403,3.786949190027861,3.7957579304231235,3.804391031583828,3.812847578048376,3.8211266763928324,3.8292274550717686,3.8371490642665766,3.8448906757409036,3.85245148270291,3.8598306996740726,3.8670275623641936,3.8740413275524075,3.880871272973908,3.887516697212134,3.8939769195962013,3.9002512801033564,3.906339139266251,3.9122398780848116,3.9179528979425458,3.923477620527076,3.928813487754768,3.933959961699239,3.9389165245236435,3.943682678416558,3.94825794553133,3.9526418679287856,3.956834007523133,3.960833946030973,3.9646412849232977,3.968255645380377,3.971676668249412,3.9749040140049203,3.9779373627116863,3.980776413990276,3.983420886984976,3.9858705203341422,3.988125072142841,3.9901843199577707,3.99204806074437,3.9937161108660906,3.9951883060657867,3.996464501449141,3.9975445714701605,3.9984284099186533,3.999115929909668,3.999607063874907,3.9999017635560468,3.9999999999999996],\\\"type\\\":\\\"scatter\\\",\\\"x\\\":[1,2,3,4,5,6,7,8,9,10,11,12,13,14,15,16,17,18,19,20,21,22,23,24,25,26,27,28,29,30,31,32,33,34,35,36,37,38,39,40,41,42,43,44,45,46,47,48,49,50,51,52,53,54,55,56,57,58,59,60,61,62,63,64,65,66,67,68,69,70,71,72,73,74,75,76,77,78,79,80,81,82,83,84,85,86,87,88,89,90,91,92,93,94,95,96,97,98,99,100,101,102,103,104,105,106,107,108,109,110,111,112,113,114,115,116,117,118,119,120,121,122,123,124,125,126,127,128,129,130,131,132,133,134,135,136,137,138,139,140,141,142,143,144,145,146,147,148,149,150,151,152,153,154,155,156,157,158,159,160,161,162,163,164,165,166,167,168,169,170,171,172,173,174,175,176,177,178,179,180,181,182,183,184,185,186,187,188,189,190,191,192,193,194,195,196,197,198,199,200,201,202,203,204,205,206,207,208,209,210,211,212,213,214,215,216,217,218,219,220,221,222,223,224,225,226,227,228,229,230,231,232,233,234,235,236,237,238,239,240,241,242,243,244,245,246,247,248,249,250,251,252,253,254,255,256,257,258,259,260,261,262,263,264,265,266,267,268,269,270,271,272,273,274,275,276,277,278,279,280,281,282,283,284,285,286,287,288,289,290,291,292,293,294,295,296,297,298,299,300,301,302,303,304,305,306,307,308,309,310,311,312,313,314,315,316,317,318,319,320,321,322,323,324,325,326,327,328,329,330,331,332,333,334,335,336,337,338,339,340,341,342,343,344,345,346,347,348,349,350,351,352,353,354,355,356,357,358,359,360,361,362,363,364,365,366,367,368,369,370,371,372,373,374,375,376,377,378,379,380,381,382,383,384,385,386,387,388,389,390,391,392,393,394,395,396,397,398,399,400,401,402,403,404,405,406,407,408,409,410,411,412,413,414,415,416,417,418,419,420,421,422,423,424,425,426,427,428,429,430,431,432,433,434,435,436,437,438,439,440,441,442,443,444,445,446,447,448,449,450,451,452,453,454,455,456,457,458,459,460,461,462,463,464,465,466,467,468,469,470,471,472,473,474,475,476,477,478,479,480,481,482,483,484,485,486,487,488,489,490,491,492,493,494,495,496,497,498,499,500]}],{\\\"template\\\":{\\\"layout\\\":{\\\"coloraxis\\\":{\\\"colorbar\\\":{\\\"ticks\\\":\\\"\\\",\\\"outlinewidth\\\":0}},\\\"xaxis\\\":{\\\"gridcolor\\\":\\\"white\\\",\\\"zerolinewidth\\\":2,\\\"title\\\":{\\\"standoff\\\":15},\\\"ticks\\\":\\\"\\\",\\\"zerolinecolor\\\":\\\"white\\\",\\\"automargin\\\":true,\\\"linecolor\\\":\\\"white\\\"},\\\"hovermode\\\":\\\"closest\\\",\\\"paper_bgcolor\\\":\\\"white\\\",\\\"geo\\\":{\\\"showlakes\\\":true,\\\"showland\\\":true,\\\"landcolor\\\":\\\"#E5ECF6\\\",\\\"bgcolor\\\":\\\"white\\\",\\\"subunitcolor\\\":\\\"white\\\",\\\"lakecolor\\\":\\\"white\\\"},\\\"colorscale\\\":{\\\"sequential\\\":[[0.0,\\\"#0d0887\\\"],[0.1111111111111111,\\\"#46039f\\\"],[0.2222222222222222,\\\"#7201a8\\\"],[0.3333333333333333,\\\"#9c179e\\\"],[0.4444444444444444,\\\"#bd3786\\\"],[0.5555555555555556,\\\"#d8576b\\\"],[0.6666666666666666,\\\"#ed7953\\\"],[0.7777777777777778,\\\"#fb9f3a\\\"],[0.8888888888888888,\\\"#fdca26\\\"],[1.0,\\\"#f0f921\\\"]],\\\"diverging\\\":[[0,\\\"#8e0152\\\"],[0.1,\\\"#c51b7d\\\"],[0.2,\\\"#de77ae\\\"],[0.3,\\\"#f1b6da\\\"],[0.4,\\\"#fde0ef\\\"],[0.5,\\\"#f7f7f7\\\"],[0.6,\\\"#e6f5d0\\\"],[0.7,\\\"#b8e186\\\"],[0.8,\\\"#7fbc41\\\"],[0.9,\\\"#4d9221\\\"],[1,\\\"#276419\\\"]],\\\"sequentialminus\\\":[[0.0,\\\"#0d0887\\\"],[0.1111111111111111,\\\"#46039f\\\"],[0.2222222222222222,\\\"#7201a8\\\"],[0.3333333333333333,\\\"#9c179e\\\"],[0.4444444444444444,\\\"#bd3786\\\"],[0.5555555555555556,\\\"#d8576b\\\"],[0.6666666666666666,\\\"#ed7953\\\"],[0.7777777777777778,\\\"#fb9f3a\\\"],[0.8888888888888888,\\\"#fdca26\\\"],[1.0,\\\"#f0f921\\\"]]},\\\"yaxis\\\":{\\\"gridcolor\\\":\\\"white\\\",\\\"zerolinewidth\\\":2,\\\"title\\\":{\\\"standoff\\\":15},\\\"ticks\\\":\\\"\\\",\\\"zerolinecolor\\\":\\\"white\\\",\\\"automargin\\\":true,\\\"linecolor\\\":\\\"white\\\"},\\\"shapedefaults\\\":{\\\"line\\\":{\\\"color\\\":\\\"#2a3f5f\\\"}},\\\"hoverlabel\\\":{\\\"align\\\":\\\"left\\\"},\\\"mapbox\\\":{\\\"style\\\":\\\"light\\\"},\\\"polar\\\":{\\\"angularaxis\\\":{\\\"gridcolor\\\":\\\"white\\\",\\\"ticks\\\":\\\"\\\",\\\"linecolor\\\":\\\"white\\\"},\\\"bgcolor\\\":\\\"#E5ECF6\\\",\\\"radialaxis\\\":{\\\"gridcolor\\\":\\\"white\\\",\\\"ticks\\\":\\\"\\\",\\\"linecolor\\\":\\\"white\\\"}},\\\"autotypenumbers\\\":\\\"strict\\\",\\\"font\\\":{\\\"color\\\":\\\"#2a3f5f\\\"},\\\"ternary\\\":{\\\"baxis\\\":{\\\"gridcolor\\\":\\\"white\\\",\\\"ticks\\\":\\\"\\\",\\\"linecolor\\\":\\\"white\\\"},\\\"bgcolor\\\":\\\"#E5ECF6\\\",\\\"caxis\\\":{\\\"gridcolor\\\":\\\"white\\\",\\\"ticks\\\":\\\"\\\",\\\"linecolor\\\":\\\"white\\\"},\\\"aaxis\\\":{\\\"gridcolor\\\":\\\"white\\\",\\\"ticks\\\":\\\"\\\",\\\"linecolor\\\":\\\"white\\\"}},\\\"annotationdefaults\\\":{\\\"arrowhead\\\":0,\\\"arrowwidth\\\":1,\\\"arrowcolor\\\":\\\"#2a3f5f\\\"},\\\"plot_bgcolor\\\":\\\"#E5ECF6\\\",\\\"title\\\":{\\\"x\\\":0.05},\\\"scene\\\":{\\\"xaxis\\\":{\\\"gridcolor\\\":\\\"white\\\",\\\"gridwidth\\\":2,\\\"backgroundcolor\\\":\\\"#E5ECF6\\\",\\\"ticks\\\":\\\"\\\",\\\"showbackground\\\":true,\\\"zerolinecolor\\\":\\\"white\\\",\\\"linecolor\\\":\\\"white\\\"},\\\"zaxis\\\":{\\\"gridcolor\\\":\\\"white\\\",\\\"gridwidth\\\":2,\\\"backgroundcolor\\\":\\\"#E5ECF6\\\",\\\"ticks\\\":\\\"\\\",\\\"showbackground\\\":true,\\\"zerolinecolor\\\":\\\"white\\\",\\\"linecolor\\\":\\\"white\\\"},\\\"yaxis\\\":{\\\"gridcolor\\\":\\\"white\\\",\\\"gridwidth\\\":2,\\\"backgroundcolor\\\":\\\"#E5ECF6\\\",\\\"ticks\\\":\\\"\\\",\\\"showbackground\\\":true,\\\"zerolinecolor\\\":\\\"white\\\",\\\"linecolor\\\":\\\"white\\\"}},\\\"colorway\\\":[\\\"#636efa\\\",\\\"#EF553B\\\",\\\"#00cc96\\\",\\\"#ab63fa\\\",\\\"#FFA15A\\\",\\\"#19d3f3\\\",\\\"#FF6692\\\",\\\"#B6E880\\\",\\\"#FF97FF\\\",\\\"#FECB52\\\"]},\\\"data\\\":{\\\"barpolar\\\":[{\\\"type\\\":\\\"barpolar\\\",\\\"marker\\\":{\\\"line\\\":{\\\"color\\\":\\\"#E5ECF6\\\",\\\"width\\\":0.5}}}],\\\"carpet\\\":[{\\\"aaxis\\\":{\\\"gridcolor\\\":\\\"white\\\",\\\"endlinecolor\\\":\\\"#2a3f5f\\\",\\\"minorgridcolor\\\":\\\"white\\\",\\\"startlinecolor\\\":\\\"#2a3f5f\\\",\\\"linecolor\\\":\\\"white\\\"},\\\"type\\\":\\\"carpet\\\",\\\"baxis\\\":{\\\"gridcolor\\\":\\\"white\\\",\\\"endlinecolor\\\":\\\"#2a3f5f\\\",\\\"minorgridcolor\\\":\\\"white\\\",\\\"startlinecolor\\\":\\\"#2a3f5f\\\",\\\"linecolor\\\":\\\"white\\\"}}],\\\"scatterpolar\\\":[{\\\"type\\\":\\\"scatterpolar\\\",\\\"marker\\\":{\\\"colorbar\\\":{\\\"ticks\\\":\\\"\\\",\\\"outlinewidth\\\":0}}}],\\\"parcoords\\\":[{\\\"line\\\":{\\\"colorbar\\\":{\\\"ticks\\\":\\\"\\\",\\\"outlinewidth\\\":0}},\\\"type\\\":\\\"parcoords\\\"}],\\\"scatter\\\":[{\\\"type\\\":\\\"scatter\\\",\\\"marker\\\":{\\\"colorbar\\\":{\\\"ticks\\\":\\\"\\\",\\\"outlinewidth\\\":0}}}],\\\"histogram2dcontour\\\":[{\\\"colorbar\\\":{\\\"ticks\\\":\\\"\\\",\\\"outlinewidth\\\":0},\\\"type\\\":\\\"histogram2dcontour\\\",\\\"colorscale\\\":[[0.0,\\\"#0d0887\\\"],[0.1111111111111111,\\\"#46039f\\\"],[0.2222222222222222,\\\"#7201a8\\\"],[0.3333333333333333,\\\"#9c179e\\\"],[0.4444444444444444,\\\"#bd3786\\\"],[0.5555555555555556,\\\"#d8576b\\\"],[0.6666666666666666,\\\"#ed7953\\\"],[0.7777777777777778,\\\"#fb9f3a\\\"],[0.8888888888888888,\\\"#fdca26\\\"],[1.0,\\\"#f0f921\\\"]]}],\\\"contour\\\":[{\\\"colorbar\\\":{\\\"ticks\\\":\\\"\\\",\\\"outlinewidth\\\":0},\\\"type\\\":\\\"contour\\\",\\\"colorscale\\\":[[0.0,\\\"#0d0887\\\"],[0.1111111111111111,\\\"#46039f\\\"],[0.2222222222222222,\\\"#7201a8\\\"],[0.3333333333333333,\\\"#9c179e\\\"],[0.4444444444444444,\\\"#bd3786\\\"],[0.5555555555555556,\\\"#d8576b\\\"],[0.6666666666666666,\\\"#ed7953\\\"],[0.7777777777777778,\\\"#fb9f3a\\\"],[0.8888888888888888,\\\"#fdca26\\\"],[1.0,\\\"#f0f921\\\"]]}],\\\"scattercarpet\\\":[{\\\"type\\\":\\\"scattercarpet\\\",\\\"marker\\\":{\\\"colorbar\\\":{\\\"ticks\\\":\\\"\\\",\\\"outlinewidth\\\":0}}}],\\\"mesh3d\\\":[{\\\"colorbar\\\":{\\\"ticks\\\":\\\"\\\",\\\"outlinewidth\\\":0},\\\"type\\\":\\\"mesh3d\\\"}],\\\"surface\\\":[{\\\"colorbar\\\":{\\\"ticks\\\":\\\"\\\",\\\"outlinewidth\\\":0},\\\"type\\\":\\\"surface\\\",\\\"colorscale\\\":[[0.0,\\\"#0d0887\\\"],[0.1111111111111111,\\\"#46039f\\\"],[0.2222222222222222,\\\"#7201a8\\\"],[0.3333333333333333,\\\"#9c179e\\\"],[0.4444444444444444,\\\"#bd3786\\\"],[0.5555555555555556,\\\"#d8576b\\\"],[0.6666666666666666,\\\"#ed7953\\\"],[0.7777777777777778,\\\"#fb9f3a\\\"],[0.8888888888888888,\\\"#fdca26\\\"],[1.0,\\\"#f0f921\\\"]]}],\\\"scattermapbox\\\":[{\\\"type\\\":\\\"scattermapbox\\\",\\\"marker\\\":{\\\"colorbar\\\":{\\\"ticks\\\":\\\"\\\",\\\"outlinewidth\\\":0}}}],\\\"scattergeo\\\":[{\\\"type\\\":\\\"scattergeo\\\",\\\"marker\\\":{\\\"colorbar\\\":{\\\"ticks\\\":\\\"\\\",\\\"outlinewidth\\\":0}}}],\\\"histogram\\\":[{\\\"type\\\":\\\"histogram\\\",\\\"marker\\\":{\\\"colorbar\\\":{\\\"ticks\\\":\\\"\\\",\\\"outlinewidth\\\":0}}}],\\\"pie\\\":[{\\\"type\\\":\\\"pie\\\",\\\"automargin\\\":true}],\\\"choropleth\\\":[{\\\"colorbar\\\":{\\\"ticks\\\":\\\"\\\",\\\"outlinewidth\\\":0},\\\"type\\\":\\\"choropleth\\\"}],\\\"heatmapgl\\\":[{\\\"colorbar\\\":{\\\"ticks\\\":\\\"\\\",\\\"outlinewidth\\\":0},\\\"type\\\":\\\"heatmapgl\\\",\\\"colorscale\\\":[[0.0,\\\"#0d0887\\\"],[0.1111111111111111,\\\"#46039f\\\"],[0.2222222222222222,\\\"#7201a8\\\"],[0.3333333333333333,\\\"#9c179e\\\"],[0.4444444444444444,\\\"#bd3786\\\"],[0.5555555555555556,\\\"#d8576b\\\"],[0.6666666666666666,\\\"#ed7953\\\"],[0.7777777777777778,\\\"#fb9f3a\\\"],[0.8888888888888888,\\\"#fdca26\\\"],[1.0,\\\"#f0f921\\\"]]}],\\\"bar\\\":[{\\\"type\\\":\\\"bar\\\",\\\"error_y\\\":{\\\"color\\\":\\\"#2a3f5f\\\"},\\\"error_x\\\":{\\\"color\\\":\\\"#2a3f5f\\\"},\\\"marker\\\":{\\\"line\\\":{\\\"color\\\":\\\"#E5ECF6\\\",\\\"width\\\":0.5}}}],\\\"heatmap\\\":[{\\\"colorbar\\\":{\\\"ticks\\\":\\\"\\\",\\\"outlinewidth\\\":0},\\\"type\\\":\\\"heatmap\\\",\\\"colorscale\\\":[[0.0,\\\"#0d0887\\\"],[0.1111111111111111,\\\"#46039f\\\"],[0.2222222222222222,\\\"#7201a8\\\"],[0.3333333333333333,\\\"#9c179e\\\"],[0.4444444444444444,\\\"#bd3786\\\"],[0.5555555555555556,\\\"#d8576b\\\"],[0.6666666666666666,\\\"#ed7953\\\"],[0.7777777777777778,\\\"#fb9f3a\\\"],[0.8888888888888888,\\\"#fdca26\\\"],[1.0,\\\"#f0f921\\\"]]}],\\\"contourcarpet\\\":[{\\\"colorbar\\\":{\\\"ticks\\\":\\\"\\\",\\\"outlinewidth\\\":0},\\\"type\\\":\\\"contourcarpet\\\"}],\\\"table\\\":[{\\\"type\\\":\\\"table\\\",\\\"header\\\":{\\\"line\\\":{\\\"color\\\":\\\"white\\\"},\\\"fill\\\":{\\\"color\\\":\\\"#C8D4E3\\\"}},\\\"cells\\\":{\\\"line\\\":{\\\"color\\\":\\\"white\\\"},\\\"fill\\\":{\\\"color\\\":\\\"#EBF0F8\\\"}}}],\\\"scatter3d\\\":[{\\\"line\\\":{\\\"colorbar\\\":{\\\"ticks\\\":\\\"\\\",\\\"outlinewidth\\\":0}},\\\"type\\\":\\\"scatter3d\\\",\\\"marker\\\":{\\\"colorbar\\\":{\\\"ticks\\\":\\\"\\\",\\\"outlinewidth\\\":0}}}],\\\"scattergl\\\":[{\\\"type\\\":\\\"scattergl\\\",\\\"marker\\\":{\\\"colorbar\\\":{\\\"ticks\\\":\\\"\\\",\\\"outlinewidth\\\":0}}}],\\\"histogram2d\\\":[{\\\"colorbar\\\":{\\\"ticks\\\":\\\"\\\",\\\"outlinewidth\\\":0},\\\"type\\\":\\\"histogram2d\\\",\\\"colorscale\\\":[[0.0,\\\"#0d0887\\\"],[0.1111111111111111,\\\"#46039f\\\"],[0.2222222222222222,\\\"#7201a8\\\"],[0.3333333333333333,\\\"#9c179e\\\"],[0.4444444444444444,\\\"#bd3786\\\"],[0.5555555555555556,\\\"#d8576b\\\"],[0.6666666666666666,\\\"#ed7953\\\"],[0.7777777777777778,\\\"#fb9f3a\\\"],[0.8888888888888888,\\\"#fdca26\\\"],[1.0,\\\"#f0f921\\\"]]}],\\\"scatterternary\\\":[{\\\"type\\\":\\\"scatterternary\\\",\\\"marker\\\":{\\\"colorbar\\\":{\\\"ticks\\\":\\\"\\\",\\\"outlinewidth\\\":0}}}],\\\"scatterpolargl\\\":[{\\\"type\\\":\\\"scatterpolargl\\\",\\\"marker\\\":{\\\"colorbar\\\":{\\\"ticks\\\":\\\"\\\",\\\"outlinewidth\\\":0}}}]}},\\\"margin\\\":{\\\"l\\\":50,\\\"b\\\":50,\\\"r\\\":50,\\\"t\\\":60}},{\\\"showLink\\\":false,\\\"editable\\\":false,\\\"responsive\\\":true,\\\"staticPlot\\\":false,\\\"scrollZoom\\\":true}); gd.on(\\\"plotly_hover\\\",(function (data){var filtered_data=WebIO.PlotlyCommands.filterEventData(gd,data,\\\"hover\\\"); return !(filtered_data.isnil) ? (WebIO.setval({\\\"name\\\":\\\"hover\\\",\\\"scope\\\":\\\"12258969497130775701\\\",\\\"id\\\":\\\"151\\\",\\\"type\\\":\\\"observable\\\"},filtered_data.out)) : undefined})); gd.on(\\\"plotly_unhover\\\",(function (){return WebIO.setval({\\\"name\\\":\\\"hover\\\",\\\"scope\\\":\\\"12258969497130775701\\\",\\\"id\\\":\\\"151\\\",\\\"type\\\":\\\"observable\\\"},{})})); gd.on(\\\"plotly_selected\\\",(function (data){var filtered_data=WebIO.PlotlyCommands.filterEventData(gd,data,\\\"selected\\\"); return !(filtered_data.isnil) ? (WebIO.setval({\\\"name\\\":\\\"selected\\\",\\\"scope\\\":\\\"12258969497130775701\\\",\\\"id\\\":\\\"152\\\",\\\"type\\\":\\\"observable\\\"},filtered_data.out)) : undefined})); gd.on(\\\"plotly_deselect\\\",(function (){return WebIO.setval({\\\"name\\\":\\\"selected\\\",\\\"scope\\\":\\\"12258969497130775701\\\",\\\"id\\\":\\\"152\\\",\\\"type\\\":\\\"observable\\\"},{})})); gd.on(\\\"plotly_relayout\\\",(function (data){var filtered_data=WebIO.PlotlyCommands.filterEventData(gd,data,\\\"relayout\\\"); return !(filtered_data.isnil) ? (WebIO.setval({\\\"name\\\":\\\"relayout\\\",\\\"scope\\\":\\\"12258969497130775701\\\",\\\"id\\\":\\\"154\\\",\\\"type\\\":\\\"observable\\\"},filtered_data.out)) : undefined})); return gd.on(\\\"plotly_click\\\",(function (data){var filtered_data=WebIO.PlotlyCommands.filterEventData(gd,data,\\\"click\\\"); return !(filtered_data.isnil) ? (WebIO.setval({\\\"name\\\":\\\"click\\\",\\\"scope\\\":\\\"12258969497130775701\\\",\\\"id\\\":\\\"153\\\",\\\"type\\\":\\\"observable\\\"},filtered_data.out)) : undefined}))}));\\n    (WebIO.importBlock({\\\"data\\\":[{\\\"name\\\":\\\"Plotly\\\",\\\"type\\\":\\\"js\\\",\\\"url\\\":\\\"\\/assetserver\\/b267c3137400db01c304fe886fe6f707be7fdb37-plotly.min.js\\\"},{\\\"name\\\":null,\\\"type\\\":\\\"js\\\",\\\"url\\\":\\\"\\/assetserver\\/020f2e8a4619f2ae880fff9315e6547eef1aff0b-plotly_webio.bundle.js\\\"}],\\\"type\\\":\\\"async_block\\\"})).then((imports) => handler.apply(this, imports));\\n}\\n\"],\"observables\":{\"_toImage\":{\"sync\":false,\"id\":\"158\",\"value\":{}},\"hover\":{\"sync\":false,\"id\":\"151\",\"value\":{}},\"selected\":{\"sync\":false,\"id\":\"152\",\"value\":{}},\"__gd_contents\":{\"sync\":false,\"id\":\"156\",\"value\":{}},\"click\":{\"sync\":false,\"id\":\"153\",\"value\":{}},\"image\":{\"sync\":true,\"id\":\"155\",\"value\":\"\"},\"__get_gd_contents\":{\"sync\":false,\"id\":\"160\",\"value\":\"\"},\"_downloadImage\":{\"sync\":false,\"id\":\"159\",\"value\":{}},\"relayout\":{\"sync\":false,\"id\":\"154\",\"value\":{}},\"_commands\":{\"sync\":false,\"id\":\"157\",\"value\":[]}}},\"children\":[{\"props\":{\"id\":\"plot-1fd24596-e8d3-40c6-a9f8-2907ff078677\"},\"nodeType\":\"DOM\",\"type\":\"node\",\"instanceArgs\":{\"namespace\":\"html\",\"tag\":\"div\"},\"children\":[]}]},\n",
       "        window,\n",
       "    );\n",
       "    })()\n",
       "    </script>\n",
       "</div>\n"
      ],
      "text/plain": [
       "data: [\n",
       "  \"scatter with fields type, x, and y\",\n",
       "  \"scatter with fields type, x, and y\",\n",
       "  \"scatter with fields type, x, and y\"\n",
       "]\n",
       "\n",
       "layout: \"layout with fields margin and template\"\n",
       "\n"
      ]
     },
     "metadata": {},
     "output_type": "display_data"
    }
   ],
   "source": [
    "plot_simple_kagome_bands()"
   ]
  },
  {
   "cell_type": "code",
   "execution_count": 62,
   "metadata": {},
   "outputs": [],
   "source": []
  },
  {
   "cell_type": "code",
   "execution_count": 63,
   "metadata": {},
   "outputs": [],
   "source": []
  },
  {
   "cell_type": "code",
   "execution_count": 64,
   "metadata": {},
   "outputs": [],
   "source": []
  },
  {
   "cell_type": "code",
   "execution_count": 65,
   "metadata": {},
   "outputs": [],
   "source": []
  },
  {
   "cell_type": "code",
   "execution_count": 66,
   "metadata": {},
   "outputs": [],
   "source": []
  }
 ],
 "metadata": {
  "kernelspec": {
   "display_name": "Julia 1.11.2",
   "language": "julia",
   "name": "julia-1.11"
  },
  "language_info": {
   "file_extension": ".jl",
   "mimetype": "application/julia",
   "name": "julia",
   "version": "1.11.2"
  }
 },
 "nbformat": 4,
 "nbformat_minor": 2
}
