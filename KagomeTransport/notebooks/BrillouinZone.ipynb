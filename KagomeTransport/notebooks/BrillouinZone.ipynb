{
 "cells": [
  {
   "cell_type": "code",
   "execution_count": 176,
   "metadata": {},
   "outputs": [
    {
     "name": "stderr",
     "output_type": "stream",
     "text": [
      "WARNING: replacing module KagomeTransport.\n",
      "WARNING: using Kagome_Hamiltonian.evals3 in module Main conflicts with an existing identifier.\n",
      "WARNING: using Kagome_Hamiltonian.evals3c in module Main conflicts with an existing identifier.\n",
      "WARNING: using Kagome_Hamiltonian.real_basis in module Main conflicts with an existing identifier.\n",
      "WARNING: using Kagome_Hamiltonian.recip_basis in module Main conflicts with an existing identifier.\n",
      "WARNING: using Kagome_Hamiltonian.Params in module Main conflicts with an existing identifier.\n"
     ]
    }
   ],
   "source": [
    "include(\"../src/KagomeTransport.jl\")\n",
    "\n",
    "using LinearAlgebra\n",
    "using StaticArrays\n",
    "using Brillouin\n",
    "using PlotlyJS\n",
    "using .KagomeTransport.Kagome_Hamiltonian\n",
    "using Printf\n",
    "using LaTeXStrings\n",
    "using Makie\n",
    "using GLMakie"
   ]
  },
  {
   "cell_type": "code",
   "execution_count": 177,
   "metadata": {},
   "outputs": [],
   "source": [
    "assets_dir = \"../assets/\";"
   ]
  },
  {
   "cell_type": "code",
   "execution_count": 178,
   "metadata": {},
   "outputs": [
    {
     "data": {
      "text/plain": [
       "red_to_cart (generic function with 1 method)"
      ]
     },
     "metadata": {},
     "output_type": "display_data"
    }
   ],
   "source": [
    "function make_cartesian(vecs, basis)\n",
    "    \"\"\"\n",
    "    Calculates for each v in vectors, v1 * basis[1, :] + v2 * basis[2, :]\n",
    "        This transforms from the reduced coordinates (w.r.t basis) to the cartesian coordinates \n",
    "    \"\"\"\n",
    "    cvecs = similar(vecs)\n",
    "    for (i, v) in enumerate(vecs)\n",
    "        cvecs[i] = basis' * v\n",
    "    end\n",
    "    cvecs\n",
    "end\n",
    "\n",
    "function make_reduced(cvecs, basis)\n",
    "    \"\"\"\n",
    "    Calculates for each v in vectors, v1 * basis[1, :] + v2 * basis[2, :]\n",
    "        This transforms from the reduced coordinates (w.r.t basis) to the cartesian coordinates \n",
    "    \"\"\"\n",
    "    rvecs = similar(cvecs)\n",
    "    for (i, v) in enumerate(cvecs)\n",
    "        rvecs[i] = inv(basis') * v\n",
    "    end\n",
    "    rvecs\n",
    "end\n",
    "\n",
    "\n",
    "function cart_to_red(recbasis, cvec)\n",
    "    inv(recbasis') * cvec\n",
    "end\n",
    "\n",
    "function red_to_cart(recbasis, rvec)\n",
    "    recbasis' * rvec\n",
    "end"
   ]
  },
  {
   "cell_type": "code",
   "execution_count": 179,
   "metadata": {},
   "outputs": [
    {
     "name": "stdout",
     "output_type": "stream",
     "text": [
      "--- Plotting the Wigner-Seitz cell in real space. \n",
      "\n",
      "--- Vertices of the real Wigner-Seitz cell (in reduced coordinates): \n",
      "  0.333333   0.333333 \n",
      " -0.333333   0.666667 \n",
      " -0.666667   0.333333 \n",
      " -0.333333  -0.333333 \n",
      "  0.333333  -0.666667 \n",
      "  0.666667  -0.333333 \n",
      "\n",
      "--- Vertices of the real Wigner-Seitz cell (in cartesian coordinates): \n",
      "  0.500000   0.288675 \n",
      "  0.000000   0.577350 \n",
      " -0.500000   0.288675 \n",
      " -0.500000  -0.288675 \n",
      "  0.000000  -0.577350 \n",
      "  0.500000  -0.288675 \n"
     ]
    },
    {
     "data": {
      "application/vnd.plotly.v1+json": {
       "config": {
        "displaylogo": false,
        "editable": false,
        "responsive": true,
        "scrollZoom": true,
        "showLink": false,
        "staticPlot": false
       },
       "data": [
        {
         "hoverinfo": "text+x+y",
         "hovertext": "Cell",
         "line": {
          "color": "rgb(47,54,64)",
          "width": 3
         },
         "mode": "lines",
         "type": "scatter",
         "x": [
          0,
          -0.5,
          -0.5,
          0,
          0.5,
          0.5,
          0
         ],
         "y": [
          0.5773502691896257,
          0.28867513459481287,
          -0.28867513459481287,
          -0.5773502691896257,
          -0.28867513459481287,
          0.28867513459481287,
          0.5773502691896257
         ]
        },
        {
         "hoverinfo": "text",
         "hovertext": "<b>v</b><sub>1</sub>",
         "line": {
          "color": "rgb(212,216,227)",
          "width": 5
         },
         "mode": "lines",
         "type": "scatter",
         "x": [
          0,
          0.475
         ],
         "y": [
          0,
          0
         ]
        },
        {
         "hoverinfo": "text",
         "hovertext": "<b>v</b><sub>2</sub>",
         "line": {
          "color": "rgb(212,216,227)",
          "width": 5
         },
         "mode": "lines",
         "type": "scatter",
         "x": [
          0,
          0.2375
         ],
         "y": [
          0,
          0.41136206679760834
         ]
        },
        {
         "hoverinfo": "text+x+y",
         "hovertext": "<b>v</b><sub>1</sub>",
         "line": {
          "color": "rgb(39,60,117)",
          "width": 6
         },
         "mode": "lines",
         "type": "scatter",
         "x": [
          0.525,
          1
         ],
         "y": [
          0,
          0
         ]
        },
        {
         "hoverinfo": "text+x+y",
         "hovertext": "<b>v</b><sub>2</sub>",
         "line": {
          "color": "rgb(39,60,117)",
          "width": 6
         },
         "mode": "lines",
         "type": "scatter",
         "x": [
          0.2625,
          0.5
         ],
         "y": [
          0.45466333698683026,
          0.8660254037844386
         ]
        },
        {
         "hoverinfo": "text",
         "hovertext": "<b>x</b>",
         "line": {
          "color": "rgb(242,215,208)",
          "width": 5
         },
         "mode": "lines",
         "type": "scatter",
         "x": [
          0,
          0.475
         ],
         "y": [
          0,
          0
         ]
        },
        {
         "hoverinfo": "text",
         "hovertext": "<b>y</b>",
         "line": {
          "color": "rgb(242,215,208)",
          "width": 5
         },
         "mode": "lines",
         "type": "scatter",
         "x": [
          0,
          0
         ],
         "y": [
          0,
          0.5523502691896257
         ]
        },
        {
         "hoverinfo": "text",
         "hovertext": "<b>x</b>",
         "line": {
          "color": "rgb(194,54,22)",
          "width": 6
         },
         "mode": "lines",
         "type": "scatter",
         "x": [
          0.525,
          0.7
         ],
         "y": [
          0,
          0
         ]
        },
        {
         "hoverinfo": "text",
         "hovertext": "<b>y</b>",
         "line": {
          "color": "rgb(194,54,22)",
          "width": 6
         },
         "mode": "lines",
         "type": "scatter",
         "x": [
          0,
          0
         ],
         "y": [
          0.6023502691896258,
          0.7773502691896257
         ]
        }
       ],
       "frames": [],
       "layout": {
        "annotations": [
         {
          "arrowcolor": "rgb(39,60,117)",
          "arrowhead": 2,
          "arrowsize": 0.5,
          "arrowwidth": 6,
          "ax": 0.95,
          "axref": "x",
          "ay": 0,
          "ayref": "y",
          "showarrow": true,
          "x": 1.05,
          "xref": "ax",
          "y": 0,
          "yref": "ay"
         },
         {
          "arrowcolor": "rgb(39,60,117)",
          "arrowhead": 2,
          "arrowsize": 0.5,
          "arrowwidth": 6,
          "ax": 0.475,
          "axref": "x",
          "ay": 0.8227241335952167,
          "ayref": "y",
          "showarrow": true,
          "x": 0.525,
          "xref": "ax",
          "y": 0.9093266739736605,
          "yref": "ay"
         },
         {
          "arrowcolor": "rgb(194,54,22)",
          "arrowhead": 2,
          "arrowsize": 0.5,
          "arrowwidth": 6,
          "ax": 0.6499999999999999,
          "axref": "x",
          "ay": 0,
          "ayref": "y",
          "showarrow": true,
          "x": 0.75,
          "xref": "ax",
          "y": 0,
          "yref": "ay"
         },
         {
          "arrowcolor": "rgb(194,54,22)",
          "arrowhead": 2,
          "arrowsize": 0.5,
          "arrowwidth": 6,
          "ax": 0,
          "axref": "x",
          "ay": 0.7273502691896256,
          "ayref": "y",
          "showarrow": true,
          "x": 0,
          "xref": "ax",
          "y": 0.8273502691896257,
          "yref": "ay"
         }
        ],
        "aspectmode": "data",
        "autosize": false,
        "hovermode": "closest",
        "margin": {
         "b": 50,
         "l": 50,
         "r": 50,
         "t": 60
        },
        "paper_bgcolor": "rgba(255, 255, 255, 1)",
        "plot_bgcolor": "rgba(255, 255, 255, 1)",
        "showlegend": false,
        "template": {
         "data": {
          "bar": [
           {
            "error_x": {
             "color": "#2a3f5f"
            },
            "error_y": {
             "color": "#2a3f5f"
            },
            "marker": {
             "line": {
              "color": "#E5ECF6",
              "width": 0.5
             }
            },
            "type": "bar"
           }
          ],
          "barpolar": [
           {
            "marker": {
             "line": {
              "color": "#E5ECF6",
              "width": 0.5
             }
            },
            "type": "barpolar"
           }
          ],
          "carpet": [
           {
            "aaxis": {
             "endlinecolor": "#2a3f5f",
             "gridcolor": "white",
             "linecolor": "white",
             "minorgridcolor": "white",
             "startlinecolor": "#2a3f5f"
            },
            "baxis": {
             "endlinecolor": "#2a3f5f",
             "gridcolor": "white",
             "linecolor": "white",
             "minorgridcolor": "white",
             "startlinecolor": "#2a3f5f"
            },
            "type": "carpet"
           }
          ],
          "choropleth": [
           {
            "colorbar": {
             "outlinewidth": 0,
             "ticks": ""
            },
            "type": "choropleth"
           }
          ],
          "contour": [
           {
            "colorbar": {
             "outlinewidth": 0,
             "ticks": ""
            },
            "colorscale": [
             [
              0,
              "#0d0887"
             ],
             [
              0.1111111111111111,
              "#46039f"
             ],
             [
              0.2222222222222222,
              "#7201a8"
             ],
             [
              0.3333333333333333,
              "#9c179e"
             ],
             [
              0.4444444444444444,
              "#bd3786"
             ],
             [
              0.5555555555555556,
              "#d8576b"
             ],
             [
              0.6666666666666666,
              "#ed7953"
             ],
             [
              0.7777777777777778,
              "#fb9f3a"
             ],
             [
              0.8888888888888888,
              "#fdca26"
             ],
             [
              1,
              "#f0f921"
             ]
            ],
            "type": "contour"
           }
          ],
          "contourcarpet": [
           {
            "colorbar": {
             "outlinewidth": 0,
             "ticks": ""
            },
            "type": "contourcarpet"
           }
          ],
          "heatmap": [
           {
            "colorbar": {
             "outlinewidth": 0,
             "ticks": ""
            },
            "colorscale": [
             [
              0,
              "#0d0887"
             ],
             [
              0.1111111111111111,
              "#46039f"
             ],
             [
              0.2222222222222222,
              "#7201a8"
             ],
             [
              0.3333333333333333,
              "#9c179e"
             ],
             [
              0.4444444444444444,
              "#bd3786"
             ],
             [
              0.5555555555555556,
              "#d8576b"
             ],
             [
              0.6666666666666666,
              "#ed7953"
             ],
             [
              0.7777777777777778,
              "#fb9f3a"
             ],
             [
              0.8888888888888888,
              "#fdca26"
             ],
             [
              1,
              "#f0f921"
             ]
            ],
            "type": "heatmap"
           }
          ],
          "heatmapgl": [
           {
            "colorbar": {
             "outlinewidth": 0,
             "ticks": ""
            },
            "colorscale": [
             [
              0,
              "#0d0887"
             ],
             [
              0.1111111111111111,
              "#46039f"
             ],
             [
              0.2222222222222222,
              "#7201a8"
             ],
             [
              0.3333333333333333,
              "#9c179e"
             ],
             [
              0.4444444444444444,
              "#bd3786"
             ],
             [
              0.5555555555555556,
              "#d8576b"
             ],
             [
              0.6666666666666666,
              "#ed7953"
             ],
             [
              0.7777777777777778,
              "#fb9f3a"
             ],
             [
              0.8888888888888888,
              "#fdca26"
             ],
             [
              1,
              "#f0f921"
             ]
            ],
            "type": "heatmapgl"
           }
          ],
          "histogram": [
           {
            "marker": {
             "colorbar": {
              "outlinewidth": 0,
              "ticks": ""
             }
            },
            "type": "histogram"
           }
          ],
          "histogram2d": [
           {
            "colorbar": {
             "outlinewidth": 0,
             "ticks": ""
            },
            "colorscale": [
             [
              0,
              "#0d0887"
             ],
             [
              0.1111111111111111,
              "#46039f"
             ],
             [
              0.2222222222222222,
              "#7201a8"
             ],
             [
              0.3333333333333333,
              "#9c179e"
             ],
             [
              0.4444444444444444,
              "#bd3786"
             ],
             [
              0.5555555555555556,
              "#d8576b"
             ],
             [
              0.6666666666666666,
              "#ed7953"
             ],
             [
              0.7777777777777778,
              "#fb9f3a"
             ],
             [
              0.8888888888888888,
              "#fdca26"
             ],
             [
              1,
              "#f0f921"
             ]
            ],
            "type": "histogram2d"
           }
          ],
          "histogram2dcontour": [
           {
            "colorbar": {
             "outlinewidth": 0,
             "ticks": ""
            },
            "colorscale": [
             [
              0,
              "#0d0887"
             ],
             [
              0.1111111111111111,
              "#46039f"
             ],
             [
              0.2222222222222222,
              "#7201a8"
             ],
             [
              0.3333333333333333,
              "#9c179e"
             ],
             [
              0.4444444444444444,
              "#bd3786"
             ],
             [
              0.5555555555555556,
              "#d8576b"
             ],
             [
              0.6666666666666666,
              "#ed7953"
             ],
             [
              0.7777777777777778,
              "#fb9f3a"
             ],
             [
              0.8888888888888888,
              "#fdca26"
             ],
             [
              1,
              "#f0f921"
             ]
            ],
            "type": "histogram2dcontour"
           }
          ],
          "mesh3d": [
           {
            "colorbar": {
             "outlinewidth": 0,
             "ticks": ""
            },
            "type": "mesh3d"
           }
          ],
          "parcoords": [
           {
            "line": {
             "colorbar": {
              "outlinewidth": 0,
              "ticks": ""
             }
            },
            "type": "parcoords"
           }
          ],
          "pie": [
           {
            "automargin": true,
            "type": "pie"
           }
          ],
          "scatter": [
           {
            "marker": {
             "colorbar": {
              "outlinewidth": 0,
              "ticks": ""
             }
            },
            "type": "scatter"
           }
          ],
          "scatter3d": [
           {
            "line": {
             "colorbar": {
              "outlinewidth": 0,
              "ticks": ""
             }
            },
            "marker": {
             "colorbar": {
              "outlinewidth": 0,
              "ticks": ""
             }
            },
            "type": "scatter3d"
           }
          ],
          "scattercarpet": [
           {
            "marker": {
             "colorbar": {
              "outlinewidth": 0,
              "ticks": ""
             }
            },
            "type": "scattercarpet"
           }
          ],
          "scattergeo": [
           {
            "marker": {
             "colorbar": {
              "outlinewidth": 0,
              "ticks": ""
             }
            },
            "type": "scattergeo"
           }
          ],
          "scattergl": [
           {
            "marker": {
             "colorbar": {
              "outlinewidth": 0,
              "ticks": ""
             }
            },
            "type": "scattergl"
           }
          ],
          "scattermapbox": [
           {
            "marker": {
             "colorbar": {
              "outlinewidth": 0,
              "ticks": ""
             }
            },
            "type": "scattermapbox"
           }
          ],
          "scatterpolar": [
           {
            "marker": {
             "colorbar": {
              "outlinewidth": 0,
              "ticks": ""
             }
            },
            "type": "scatterpolar"
           }
          ],
          "scatterpolargl": [
           {
            "marker": {
             "colorbar": {
              "outlinewidth": 0,
              "ticks": ""
             }
            },
            "type": "scatterpolargl"
           }
          ],
          "scatterternary": [
           {
            "marker": {
             "colorbar": {
              "outlinewidth": 0,
              "ticks": ""
             }
            },
            "type": "scatterternary"
           }
          ],
          "surface": [
           {
            "colorbar": {
             "outlinewidth": 0,
             "ticks": ""
            },
            "colorscale": [
             [
              0,
              "#0d0887"
             ],
             [
              0.1111111111111111,
              "#46039f"
             ],
             [
              0.2222222222222222,
              "#7201a8"
             ],
             [
              0.3333333333333333,
              "#9c179e"
             ],
             [
              0.4444444444444444,
              "#bd3786"
             ],
             [
              0.5555555555555556,
              "#d8576b"
             ],
             [
              0.6666666666666666,
              "#ed7953"
             ],
             [
              0.7777777777777778,
              "#fb9f3a"
             ],
             [
              0.8888888888888888,
              "#fdca26"
             ],
             [
              1,
              "#f0f921"
             ]
            ],
            "type": "surface"
           }
          ],
          "table": [
           {
            "cells": {
             "fill": {
              "color": "#EBF0F8"
             },
             "line": {
              "color": "white"
             }
            },
            "header": {
             "fill": {
              "color": "#C8D4E3"
             },
             "line": {
              "color": "white"
             }
            },
            "type": "table"
           }
          ]
         },
         "layout": {
          "annotationdefaults": {
           "arrowcolor": "#2a3f5f",
           "arrowhead": 0,
           "arrowwidth": 1
          },
          "autotypenumbers": "strict",
          "coloraxis": {
           "colorbar": {
            "outlinewidth": 0,
            "ticks": ""
           }
          },
          "colorscale": {
           "diverging": [
            [
             0,
             "#8e0152"
            ],
            [
             0.1,
             "#c51b7d"
            ],
            [
             0.2,
             "#de77ae"
            ],
            [
             0.3,
             "#f1b6da"
            ],
            [
             0.4,
             "#fde0ef"
            ],
            [
             0.5,
             "#f7f7f7"
            ],
            [
             0.6,
             "#e6f5d0"
            ],
            [
             0.7,
             "#b8e186"
            ],
            [
             0.8,
             "#7fbc41"
            ],
            [
             0.9,
             "#4d9221"
            ],
            [
             1,
             "#276419"
            ]
           ],
           "sequential": [
            [
             0,
             "#0d0887"
            ],
            [
             0.1111111111111111,
             "#46039f"
            ],
            [
             0.2222222222222222,
             "#7201a8"
            ],
            [
             0.3333333333333333,
             "#9c179e"
            ],
            [
             0.4444444444444444,
             "#bd3786"
            ],
            [
             0.5555555555555556,
             "#d8576b"
            ],
            [
             0.6666666666666666,
             "#ed7953"
            ],
            [
             0.7777777777777778,
             "#fb9f3a"
            ],
            [
             0.8888888888888888,
             "#fdca26"
            ],
            [
             1,
             "#f0f921"
            ]
           ],
           "sequentialminus": [
            [
             0,
             "#0d0887"
            ],
            [
             0.1111111111111111,
             "#46039f"
            ],
            [
             0.2222222222222222,
             "#7201a8"
            ],
            [
             0.3333333333333333,
             "#9c179e"
            ],
            [
             0.4444444444444444,
             "#bd3786"
            ],
            [
             0.5555555555555556,
             "#d8576b"
            ],
            [
             0.6666666666666666,
             "#ed7953"
            ],
            [
             0.7777777777777778,
             "#fb9f3a"
            ],
            [
             0.8888888888888888,
             "#fdca26"
            ],
            [
             1,
             "#f0f921"
            ]
           ]
          },
          "colorway": [
           "#636efa",
           "#EF553B",
           "#00cc96",
           "#ab63fa",
           "#FFA15A",
           "#19d3f3",
           "#FF6692",
           "#B6E880",
           "#FF97FF",
           "#FECB52"
          ],
          "font": {
           "color": "#2a3f5f"
          },
          "geo": {
           "bgcolor": "white",
           "lakecolor": "white",
           "landcolor": "#E5ECF6",
           "showlakes": true,
           "showland": true,
           "subunitcolor": "white"
          },
          "hoverlabel": {
           "align": "left"
          },
          "hovermode": "closest",
          "mapbox": {
           "style": "light"
          },
          "paper_bgcolor": "white",
          "plot_bgcolor": "#E5ECF6",
          "polar": {
           "angularaxis": {
            "gridcolor": "white",
            "linecolor": "white",
            "ticks": ""
           },
           "bgcolor": "#E5ECF6",
           "radialaxis": {
            "gridcolor": "white",
            "linecolor": "white",
            "ticks": ""
           }
          },
          "scene": {
           "xaxis": {
            "backgroundcolor": "#E5ECF6",
            "gridcolor": "white",
            "gridwidth": 2,
            "linecolor": "white",
            "showbackground": true,
            "ticks": "",
            "zerolinecolor": "white"
           },
           "yaxis": {
            "backgroundcolor": "#E5ECF6",
            "gridcolor": "white",
            "gridwidth": 2,
            "linecolor": "white",
            "showbackground": true,
            "ticks": "",
            "zerolinecolor": "white"
           },
           "zaxis": {
            "backgroundcolor": "#E5ECF6",
            "gridcolor": "white",
            "gridwidth": 2,
            "linecolor": "white",
            "showbackground": true,
            "ticks": "",
            "zerolinecolor": "white"
           }
          },
          "shapedefaults": {
           "line": {
            "color": "#2a3f5f"
           }
          },
          "ternary": {
           "aaxis": {
            "gridcolor": "white",
            "linecolor": "white",
            "ticks": ""
           },
           "baxis": {
            "gridcolor": "white",
            "linecolor": "white",
            "ticks": ""
           },
           "bgcolor": "#E5ECF6",
           "caxis": {
            "gridcolor": "white",
            "linecolor": "white",
            "ticks": ""
           }
          },
          "title": {
           "x": 0.05
          },
          "xaxis": {
           "automargin": true,
           "gridcolor": "white",
           "linecolor": "white",
           "ticks": "",
           "title": {
            "standoff": 15
           },
           "zerolinecolor": "white",
           "zerolinewidth": 2
          },
          "yaxis": {
           "automargin": true,
           "gridcolor": "white",
           "linecolor": "white",
           "ticks": "",
           "title": {
            "standoff": 15
           },
           "zerolinecolor": "white",
           "zerolinewidth": 2
          }
         }
        },
        "xaxis": {
         "range": [
          -1.0666666666666667,
          1.0666666666666667
         ],
         "showbackground": false,
         "showgrid": false,
         "tickvals": [],
         "title": {
          "text": ""
         },
         "zeroline": false
        },
        "yaxis": {
         "range": [
          -0.9326920704511052,
          0.9326920704511052
         ],
         "scaleanchor": "x",
         "scaleratio": 1,
         "showbackground": false,
         "showgrid": false,
         "tickvals": [],
         "title": {
          "text": ""
         },
         "zeroline": false
        }
       }
      },
      "image/png": "[encoded data removed]",
      "image/svg+xml": [
       "<svg class=\"main-svg\" xmlns=\"http://www.w3.org/2000/svg\" xmlns:xlink=\"http://www.w3.org/1999/xlink\" width=\"700\" height=\"500\" style=\"\" viewBox=\"0 0 700 500\"><rect x=\"0\" y=\"0\" width=\"700\" height=\"500\" style=\"fill: rgb(255, 255, 255); fill-opacity: 1;\"/><defs id=\"defs-3a2e37\"><g class=\"clips\"><clipPath id=\"clip3a2e37xyplot\" class=\"plotclip\"><rect width=\"600\" height=\"390\"/></clipPath><clipPath class=\"axesclip\" id=\"clip3a2e37x\"><rect x=\"50\" y=\"0\" width=\"600\" height=\"500\"/></clipPath><clipPath class=\"axesclip\" id=\"clip3a2e37y\"><rect x=\"0\" y=\"60\" width=\"700\" height=\"390\"/></clipPath><clipPath class=\"axesclip\" id=\"clip3a2e37xy\"><rect x=\"50\" y=\"60\" width=\"600\" height=\"390\"/></clipPath></g><g class=\"gradients\"/><g class=\"patterns\"/></defs><g class=\"bglayer\"/><g class=\"layer-below\"><g class=\"imagelayer\"/><g class=\"shapelayer\"/></g><g class=\"cartesianlayer\"><g class=\"subplot xy\"><g class=\"layer-subplot\"><g class=\"shapelayer\"/><g class=\"imagelayer\"/></g><g class=\"gridlayer\"><g class=\"x\"/><g class=\"y\"/></g><g class=\"zerolinelayer\"/><path class=\"xlines-below\"/><path class=\"ylines-below\"/><g class=\"overlines-below\"/><g class=\"xaxislayer-below\"/><g class=\"yaxislayer-below\"/><g class=\"overaxes-below\"/><g class=\"plot\" transform=\"translate(50,60)\" clip-path=\"url(#clip3a2e37xyplot)\"><g class=\"scatterlayer mlayer\"><g class=\"trace scatter tracef671a7\" style=\"stroke-miterlimit: 2; opacity: 1;\"><g class=\"fills\"/><g class=\"errorbars\"/><g class=\"lines\"><path class=\"js-line\" d=\"M300,74.29L195.46,134.65L195.46,255.35L300,315.71L404.54,255.35L404.54,134.65L300,74.29\" style=\"vector-effect: non-scaling-stroke; fill: none; stroke: rgb(47, 54, 64); stroke-opacity: 1; stroke-width: 3px; opacity: 1;\"/></g><g class=\"points\"/><g class=\"text\"/></g><g class=\"trace scatter traced2f717\" style=\"stroke-miterlimit: 2; opacity: 1;\"><g class=\"fills\"/><g class=\"errorbars\"/><g class=\"lines\"><path class=\"js-line\" d=\"M300,195L399.31,195\" style=\"vector-effect: non-scaling-stroke; fill: none; stroke: rgb(212, 216, 227); stroke-opacity: 1; stroke-width: 5px; opacity: 1;\"/></g><g class=\"points\"/><g class=\"text\"/></g><g class=\"trace scatter trace71a0b1\" style=\"stroke-miterlimit: 2; opacity: 1;\"><g class=\"fills\"/><g class=\"errorbars\"/><g class=\"lines\"><path class=\"js-line\" d=\"M300,195L349.65,109\" style=\"vector-effect: non-scaling-stroke; fill: none; stroke: rgb(212, 216, 227); stroke-opacity: 1; stroke-width: 5px; opacity: 1;\"/></g><g class=\"points\"/><g class=\"text\"/></g><g class=\"trace scatter trace9b5e49\" style=\"stroke-miterlimit: 2; opacity: 1;\"><g class=\"fills\"/><g class=\"errorbars\"/><g class=\"lines\"><path class=\"js-line\" d=\"M409.76,195L509.07,195\" style=\"vector-effect: non-scaling-stroke; fill: none; stroke: rgb(39, 60, 117); stroke-opacity: 1; stroke-width: 6px; opacity: 1;\"/></g><g class=\"points\"/><g class=\"text\"/></g><g class=\"trace scatter trace54b5c4\" style=\"stroke-miterlimit: 2; opacity: 1;\"><g class=\"fills\"/><g class=\"errorbars\"/><g class=\"lines\"><path class=\"js-line\" d=\"M354.88,99.94L404.54,13.94\" style=\"vector-effect: non-scaling-stroke; fill: none; stroke: rgb(39, 60, 117); stroke-opacity: 1; stroke-width: 6px; opacity: 1;\"/></g><g class=\"points\"/><g class=\"text\"/></g><g class=\"trace scatter tracecd217c\" style=\"stroke-miterlimit: 2; opacity: 1;\"><g class=\"fills\"/><g class=\"errorbars\"/><g class=\"lines\"><path class=\"js-line\" d=\"M300,195L399.31,195\" style=\"vector-effect: non-scaling-stroke; fill: none; stroke: rgb(242, 215, 208); stroke-opacity: 1; stroke-width: 5px; opacity: 1;\"/></g><g class=\"points\"/><g class=\"text\"/></g><g class=\"trace scatter trace59253a\" style=\"stroke-miterlimit: 2; opacity: 1;\"><g class=\"fills\"/><g class=\"errorbars\"/><g class=\"lines\"><path class=\"js-line\" d=\"M300,195L300,79.52\" style=\"vector-effect: non-scaling-stroke; fill: none; stroke: rgb(242, 215, 208); stroke-opacity: 1; stroke-width: 5px; opacity: 1;\"/></g><g class=\"points\"/><g class=\"text\"/></g><g class=\"trace scatter trace01536b\" style=\"stroke-miterlimit: 2; opacity: 1;\"><g class=\"fills\"/><g class=\"errorbars\"/><g class=\"lines\"><path class=\"js-line\" d=\"M409.76,195L446.35,195\" style=\"vector-effect: non-scaling-stroke; fill: none; stroke: rgb(194, 54, 22); stroke-opacity: 1; stroke-width: 6px; opacity: 1;\"/></g><g class=\"points\"/><g class=\"text\"/></g><g class=\"trace scatter tracecb4148\" style=\"stroke-miterlimit: 2; opacity: 1;\"><g class=\"fills\"/><g class=\"errorbars\"/><g class=\"lines\"><path class=\"js-line\" d=\"M300,69.07L300,32.48\" style=\"vector-effect: non-scaling-stroke; fill: none; stroke: rgb(194, 54, 22); stroke-opacity: 1; stroke-width: 6px; opacity: 1;\"/></g><g class=\"points\"/><g class=\"text\"/></g></g></g><g class=\"overplot\"/><path class=\"xlines-above crisp\" d=\"M0,0\" style=\"fill: none;\"/><path class=\"ylines-above crisp\" d=\"M0,0\" style=\"fill: none;\"/><g class=\"overlines-above\"/><g class=\"xaxislayer-above\"/><g class=\"yaxislayer-above\"/><g class=\"overaxes-above\"/></g></g><g class=\"polarlayer\"/><g class=\"ternarylayer\"/><g class=\"geolayer\"/><g class=\"funnelarealayer\"/><g class=\"pielayer\"/><g class=\"iciclelayer\"/><g class=\"treemaplayer\"/><g class=\"sunburstlayer\"/><g class=\"glimages\"/><defs id=\"topdefs-3a2e37\"><g class=\"clips\"/></defs><g class=\"layer-above\"><g class=\"imagelayer\"/><g class=\"shapelayer\"/></g><g class=\"infolayer\"><g class=\"g-gtitle\"/><g class=\"g-xtitle\"/><g class=\"g-ytitle\"/><g class=\"annotation\" data-index=\"0\" style=\"opacity: 1;\"><g class=\"annotation-text-g\" transform=\"rotate(0,548.62,255)\"><g class=\"cursor-pointer\" transform=\"translate(545,245)\"><rect class=\"bg\" x=\"0.5\" y=\"0.5\" width=\"6\" height=\"20\" style=\"stroke-width: 1px; stroke: rgb(0, 0, 0); stroke-opacity: 0; fill: rgb(0, 0, 0); fill-opacity: 0;\"/><text class=\"annotation-text\" text-anchor=\"middle\" x=\"3.5625\" y=\"15\" style=\"font-family: 'Open Sans', verdana, arial, sans-serif; font-size: 12px; fill: rgb(42, 63, 95); fill-opacity: 1; white-space: pre;\"> </text></g></g><g class=\"annotation-arrow-g\" style=\"opacity: 1;\"><path d=\"M551.62,255L569.53,255\" style=\"stroke-width: 6px; stroke: rgb(39, 60, 117); stroke-opacity: 1; stroke-dasharray: 0px, 0px, 14.01px, 17.91px;\"/><path d=\"M-3.7,-2.5V2.5L1.3,0Z\" transform=\"translate(565.6300048828125,255)scale(3)\" style=\"fill: rgb(39, 60, 117); stroke-width: 0;\"/></g></g><g class=\"annotation\" data-index=\"1\" style=\"opacity: 1;\"><g class=\"annotation-text-g\" transform=\"rotate(0,449.31,82.99)\"><g class=\"cursor-pointer\" transform=\"translate(446,72)\"><rect class=\"bg\" x=\"0.5\" y=\"0.5\" width=\"6\" height=\"20\" style=\"stroke-width: 1px; stroke: rgb(0, 0, 0); stroke-opacity: 0; fill: rgb(0, 0, 0); fill-opacity: 0;\"/><text class=\"annotation-text\" text-anchor=\"middle\" x=\"3.5625\" y=\"15\" style=\"font-family: 'Open Sans', verdana, arial, sans-serif; font-size: 12px; fill: rgb(42, 63, 95); fill-opacity: 1; white-space: pre;\"> </text></g></g><g class=\"annotation-arrow-g\" style=\"opacity: 1;\"><path d=\"M452.31,77.79382775119616L459.76,64.89\" style=\"stroke-width: 6px; stroke: rgb(39, 60, 117); stroke-opacity: 1; stroke-dasharray: 0px, 0px, 11.0001px, 14.9001px;\"/><path d=\"M-3.7,-2.5V2.5L1.3,0Z\" transform=\"translate(457.8100280761719,68.26750183105469)rotate(-60.00568992268059)scale(3)\" style=\"fill: rgb(39, 60, 117); stroke-width: 0;\"/></g></g><g class=\"annotation\" data-index=\"2\" style=\"opacity: 1;\"><g class=\"annotation-text-g\" transform=\"rotate(0,485.9,255)\"><g class=\"cursor-pointer\" transform=\"translate(482,245)\"><rect class=\"bg\" x=\"0.5\" y=\"0.5\" width=\"6\" height=\"20\" style=\"stroke-width: 1px; stroke: rgb(0, 0, 0); stroke-opacity: 0; fill: rgb(0, 0, 0); fill-opacity: 0;\"/><text class=\"annotation-text\" text-anchor=\"middle\" x=\"3.5625\" y=\"15\" style=\"font-family: 'Open Sans', verdana, arial, sans-serif; font-size: 12px; fill: rgb(42, 63, 95); fill-opacity: 1; white-space: pre;\"> </text></g></g><g class=\"annotation-arrow-g\" style=\"opacity: 1;\"><path d=\"M488.9,255L506.8,255\" style=\"stroke-width: 6px; stroke: rgb(194, 54, 22); stroke-opacity: 1; stroke-dasharray: 0px, 0px, 14px, 17.9px;\"/><path d=\"M-3.7,-2.5V2.5L1.3,0Z\" transform=\"translate(502.8999938964844,255)scale(3)\" style=\"fill: rgb(194, 54, 22); stroke-width: 0;\"/></g></g><g class=\"annotation\" data-index=\"3\" style=\"opacity: 1;\"><g class=\"annotation-text-g\" transform=\"rotate(0,350,102.93)\"><g class=\"cursor-pointer\" transform=\"translate(347,92)\"><rect class=\"bg\" x=\"0.5\" y=\"0.5\" width=\"6\" height=\"20\" style=\"stroke-width: 1px; stroke: rgb(0, 0, 0); stroke-opacity: 0; fill: rgb(0, 0, 0); fill-opacity: 0;\"/><text class=\"annotation-text\" text-anchor=\"middle\" x=\"3.5625\" y=\"15\" style=\"font-family: 'Open Sans', verdana, arial, sans-serif; font-size: 12px; fill: rgb(42, 63, 95); fill-opacity: 1; white-space: pre;\"> </text></g></g><g class=\"annotation-arrow-g\" style=\"opacity: 1;\"><path d=\"M350,92.93L350,82.02\" style=\"stroke-width: 6px; stroke: rgb(194, 54, 22); stroke-opacity: 1; stroke-dasharray: 0px, 0px, 7.01px, 10.91px;\"/><path d=\"M-3.7,-2.5V2.5L1.3,0Z\" transform=\"translate(350,85.91999816894531)rotate(-90)scale(3)\" style=\"fill: rgb(194, 54, 22); stroke-width: 0;\"/></g></g></g></svg>"
      ],
      "text/html": [
       "<div\n",
       "    class=\"webio-mountpoint\"\n",
       "    data-webio-mountpoint=\"17764341468755447411\"\n",
       ">\n",
       "    <script>\n",
       "    (function(){\n",
       "    // Some integrations (namely, IJulia/Jupyter) use an alternate render pathway than\n",
       "    // just putting the html on the page. If WebIO isn't defined, then it's pretty likely\n",
       "    // that we're in one of those situations and the integration just isn't installed\n",
       "    // correctly.\n",
       "    if (typeof window.WebIO === \"undefined\") {\n",
       "        document\n",
       "            .querySelector('[data-webio-mountpoint=\"17764341468755447411\"]')\n",
       "            .innerHTML = (\n",
       "                '<div style=\"padding: 1em; background-color: #f8d6da; border: 1px solid #f5c6cb; font-weight: bold;\">' +\n",
       "                '<p><strong>WebIO not detected.</strong></p>' +\n",
       "                '<p>Please read ' +\n",
       "                '<a href=\"https://juliagizmos.github.io/WebIO.jl/latest/troubleshooting/not-detected/\" target=\"_blank\">the troubleshooting guide</a> ' +\n",
       "                'for more information on how to resolve this issue.</p>' +\n",
       "                '<p><a href=\"https://juliagizmos.github.io/WebIO.jl/latest/troubleshooting/not-detected/\" target=\"_blank\">https://juliagizmos.github.io/WebIO.jl/latest/troubleshooting/not-detected/</a></p>' +\n",
       "                '</div>'\n",
       "            );\n",
       "        return;\n",
       "    }\n",
       "    WebIO.mount(\n",
       "        document.querySelector('[data-webio-mountpoint=\"17764341468755447411\"]'),\n",
       "        {\"props\":{},\"nodeType\":\"Scope\",\"type\":\"node\",\"instanceArgs\":{\"imports\":{\"data\":[{\"name\":\"Plotly\",\"type\":\"js\",\"url\":\"\\/assetserver\\/b267c3137400db01c304fe886fe6f707be7fdb37-plotly.min.js\"},{\"name\":null,\"type\":\"js\",\"url\":\"\\/assetserver\\/020f2e8a4619f2ae880fff9315e6547eef1aff0b-plotly_webio.bundle.js\"}],\"type\":\"async_block\"},\"id\":\"6504400522455492431\",\"handlers\":{\"_toImage\":[\"(function (options){return this.Plotly.toImage(this.plotElem,options).then((function (data){return WebIO.setval({\\\"name\\\":\\\"image\\\",\\\"scope\\\":\\\"6504400522455492431\\\",\\\"id\\\":\\\"229673\\\",\\\"type\\\":\\\"observable\\\"},data)}))})\"],\"__get_gd_contents\":[\"(function (prop){prop==\\\"data\\\" ? (WebIO.setval({\\\"name\\\":\\\"__gd_contents\\\",\\\"scope\\\":\\\"6504400522455492431\\\",\\\"id\\\":\\\"229674\\\",\\\"type\\\":\\\"observable\\\"},this.plotElem.data)) : undefined; return prop==\\\"layout\\\" ? (WebIO.setval({\\\"name\\\":\\\"__gd_contents\\\",\\\"scope\\\":\\\"6504400522455492431\\\",\\\"id\\\":\\\"229674\\\",\\\"type\\\":\\\"observable\\\"},this.plotElem.layout)) : undefined})\"],\"_downloadImage\":[\"(function (options){return this.Plotly.downloadImage(this.plotElem,options)})\"],\"_commands\":[\"(function (args){var fn=args.shift(); var elem=this.plotElem; var Plotly=this.Plotly; args.unshift(elem); return Plotly[fn].apply(this,args)})\"]},\"systemjs_options\":null,\"mount_callbacks\":[\"function () {\\n    var handler = ((function (Plotly,PlotlyWebIO){PlotlyWebIO.init(WebIO); var gd=this.dom.querySelector(\\\"#plot-fb8f3556-71fa-4259-9dcd-e4968cf204a1\\\"); this.plotElem=gd; this.Plotly=Plotly; (window.Blink!==undefined) ? (gd.style.width=\\\"100%\\\", gd.style.height=\\\"100vh\\\", gd.style.marginLeft=\\\"0%\\\", gd.style.marginTop=\\\"0vh\\\") : undefined; window.onresize=(function (){return Plotly.Plots.resize(gd)}); Plotly.newPlot(gd,[{\\\"mode\\\":\\\"lines\\\",\\\"line\\\":{\\\"color\\\":\\\"rgb(47,54,64)\\\",\\\"width\\\":3},\\\"hovertext\\\":\\\"Cell\\\",\\\"y\\\":[0.5773502691896257,0.28867513459481287,-0.28867513459481287,-0.5773502691896257,-0.28867513459481287,0.28867513459481287,0.5773502691896257],\\\"type\\\":\\\"scatter\\\",\\\"hoverinfo\\\":\\\"text+x+y\\\",\\\"x\\\":[0.0,-0.5,-0.5,0.0,0.5,0.5,0.0]},{\\\"mode\\\":\\\"lines\\\",\\\"line\\\":{\\\"color\\\":\\\"rgb(212,216,227)\\\",\\\"width\\\":5},\\\"hovertext\\\":\\\"<b>v<\\/b><sub>1<\\/sub>\\\",\\\"y\\\":[0.0,0.0],\\\"type\\\":\\\"scatter\\\",\\\"hoverinfo\\\":\\\"text\\\",\\\"x\\\":[0.0,0.475]},{\\\"mode\\\":\\\"lines\\\",\\\"line\\\":{\\\"color\\\":\\\"rgb(212,216,227)\\\",\\\"width\\\":5},\\\"hovertext\\\":\\\"<b>v<\\/b><sub>2<\\/sub>\\\",\\\"y\\\":[0.0,0.41136206679760834],\\\"type\\\":\\\"scatter\\\",\\\"hoverinfo\\\":\\\"text\\\",\\\"x\\\":[0.0,0.2375]},{\\\"mode\\\":\\\"lines\\\",\\\"line\\\":{\\\"color\\\":\\\"rgb(39,60,117)\\\",\\\"width\\\":6},\\\"hovertext\\\":\\\"<b>v<\\/b><sub>1<\\/sub>\\\",\\\"y\\\":[0.0,0.0],\\\"type\\\":\\\"scatter\\\",\\\"hoverinfo\\\":\\\"text+x+y\\\",\\\"x\\\":[0.525,1.0]},{\\\"mode\\\":\\\"lines\\\",\\\"line\\\":{\\\"color\\\":\\\"rgb(39,60,117)\\\",\\\"width\\\":6},\\\"hovertext\\\":\\\"<b>v<\\/b><sub>2<\\/sub>\\\",\\\"y\\\":[0.45466333698683026,0.8660254037844386],\\\"type\\\":\\\"scatter\\\",\\\"hoverinfo\\\":\\\"text+x+y\\\",\\\"x\\\":[0.2625,0.5]},{\\\"mode\\\":\\\"lines\\\",\\\"line\\\":{\\\"color\\\":\\\"rgb(242,215,208)\\\",\\\"width\\\":5},\\\"hovertext\\\":\\\"<b>x<\\/b>\\\",\\\"y\\\":[0.0,0.0],\\\"type\\\":\\\"scatter\\\",\\\"hoverinfo\\\":\\\"text\\\",\\\"x\\\":[0.0,0.475]},{\\\"mode\\\":\\\"lines\\\",\\\"line\\\":{\\\"color\\\":\\\"rgb(242,215,208)\\\",\\\"width\\\":5},\\\"hovertext\\\":\\\"<b>y<\\/b>\\\",\\\"y\\\":[0.0,0.5523502691896257],\\\"type\\\":\\\"scatter\\\",\\\"hoverinfo\\\":\\\"text\\\",\\\"x\\\":[0.0,0.0]},{\\\"mode\\\":\\\"lines\\\",\\\"line\\\":{\\\"color\\\":\\\"rgb(194,54,22)\\\",\\\"width\\\":6},\\\"hovertext\\\":\\\"<b>x<\\/b>\\\",\\\"y\\\":[0.0,0.0],\\\"type\\\":\\\"scatter\\\",\\\"hoverinfo\\\":\\\"text\\\",\\\"x\\\":[0.525,0.7]},{\\\"mode\\\":\\\"lines\\\",\\\"line\\\":{\\\"color\\\":\\\"rgb(194,54,22)\\\",\\\"width\\\":6},\\\"hovertext\\\":\\\"<b>y<\\/b>\\\",\\\"y\\\":[0.6023502691896258,0.7773502691896257],\\\"type\\\":\\\"scatter\\\",\\\"hoverinfo\\\":\\\"text\\\",\\\"x\\\":[0.0,0.0]}],{\\\"showlegend\\\":false,\\\"xaxis\\\":{\\\"showgrid\\\":false,\\\"zeroline\\\":false,\\\"tickvals\\\":[],\\\"title\\\":{\\\"text\\\":\\\"\\\"},\\\"showbackground\\\":false,\\\"range\\\":[-1.0666666666666667,1.0666666666666667]},\\\"hovermode\\\":\\\"closest\\\",\\\"paper_bgcolor\\\":\\\"rgba(255, 255, 255, 1)\\\",\\\"template\\\":{\\\"layout\\\":{\\\"coloraxis\\\":{\\\"colorbar\\\":{\\\"ticks\\\":\\\"\\\",\\\"outlinewidth\\\":0}},\\\"xaxis\\\":{\\\"gridcolor\\\":\\\"white\\\",\\\"zerolinewidth\\\":2,\\\"title\\\":{\\\"standoff\\\":15},\\\"ticks\\\":\\\"\\\",\\\"zerolinecolor\\\":\\\"white\\\",\\\"automargin\\\":true,\\\"linecolor\\\":\\\"white\\\"},\\\"hovermode\\\":\\\"closest\\\",\\\"paper_bgcolor\\\":\\\"white\\\",\\\"geo\\\":{\\\"showlakes\\\":true,\\\"showland\\\":true,\\\"landcolor\\\":\\\"#E5ECF6\\\",\\\"bgcolor\\\":\\\"white\\\",\\\"subunitcolor\\\":\\\"white\\\",\\\"lakecolor\\\":\\\"white\\\"},\\\"colorscale\\\":{\\\"sequential\\\":[[0.0,\\\"#0d0887\\\"],[0.1111111111111111,\\\"#46039f\\\"],[0.2222222222222222,\\\"#7201a8\\\"],[0.3333333333333333,\\\"#9c179e\\\"],[0.4444444444444444,\\\"#bd3786\\\"],[0.5555555555555556,\\\"#d8576b\\\"],[0.6666666666666666,\\\"#ed7953\\\"],[0.7777777777777778,\\\"#fb9f3a\\\"],[0.8888888888888888,\\\"#fdca26\\\"],[1.0,\\\"#f0f921\\\"]],\\\"diverging\\\":[[0,\\\"#8e0152\\\"],[0.1,\\\"#c51b7d\\\"],[0.2,\\\"#de77ae\\\"],[0.3,\\\"#f1b6da\\\"],[0.4,\\\"#fde0ef\\\"],[0.5,\\\"#f7f7f7\\\"],[0.6,\\\"#e6f5d0\\\"],[0.7,\\\"#b8e186\\\"],[0.8,\\\"#7fbc41\\\"],[0.9,\\\"#4d9221\\\"],[1,\\\"#276419\\\"]],\\\"sequentialminus\\\":[[0.0,\\\"#0d0887\\\"],[0.1111111111111111,\\\"#46039f\\\"],[0.2222222222222222,\\\"#7201a8\\\"],[0.3333333333333333,\\\"#9c179e\\\"],[0.4444444444444444,\\\"#bd3786\\\"],[0.5555555555555556,\\\"#d8576b\\\"],[0.6666666666666666,\\\"#ed7953\\\"],[0.7777777777777778,\\\"#fb9f3a\\\"],[0.8888888888888888,\\\"#fdca26\\\"],[1.0,\\\"#f0f921\\\"]]},\\\"yaxis\\\":{\\\"gridcolor\\\":\\\"white\\\",\\\"zerolinewidth\\\":2,\\\"title\\\":{\\\"standoff\\\":15},\\\"ticks\\\":\\\"\\\",\\\"zerolinecolor\\\":\\\"white\\\",\\\"automargin\\\":true,\\\"linecolor\\\":\\\"white\\\"},\\\"shapedefaults\\\":{\\\"line\\\":{\\\"color\\\":\\\"#2a3f5f\\\"}},\\\"hoverlabel\\\":{\\\"align\\\":\\\"left\\\"},\\\"mapbox\\\":{\\\"style\\\":\\\"light\\\"},\\\"polar\\\":{\\\"angularaxis\\\":{\\\"gridcolor\\\":\\\"white\\\",\\\"ticks\\\":\\\"\\\",\\\"linecolor\\\":\\\"white\\\"},\\\"bgcolor\\\":\\\"#E5ECF6\\\",\\\"radialaxis\\\":{\\\"gridcolor\\\":\\\"white\\\",\\\"ticks\\\":\\\"\\\",\\\"linecolor\\\":\\\"white\\\"}},\\\"autotypenumbers\\\":\\\"strict\\\",\\\"font\\\":{\\\"color\\\":\\\"#2a3f5f\\\"},\\\"ternary\\\":{\\\"baxis\\\":{\\\"gridcolor\\\":\\\"white\\\",\\\"ticks\\\":\\\"\\\",\\\"linecolor\\\":\\\"white\\\"},\\\"bgcolor\\\":\\\"#E5ECF6\\\",\\\"caxis\\\":{\\\"gridcolor\\\":\\\"white\\\",\\\"ticks\\\":\\\"\\\",\\\"linecolor\\\":\\\"white\\\"},\\\"aaxis\\\":{\\\"gridcolor\\\":\\\"white\\\",\\\"ticks\\\":\\\"\\\",\\\"linecolor\\\":\\\"white\\\"}},\\\"annotationdefaults\\\":{\\\"arrowhead\\\":0,\\\"arrowwidth\\\":1,\\\"arrowcolor\\\":\\\"#2a3f5f\\\"},\\\"plot_bgcolor\\\":\\\"#E5ECF6\\\",\\\"title\\\":{\\\"x\\\":0.05},\\\"scene\\\":{\\\"xaxis\\\":{\\\"gridcolor\\\":\\\"white\\\",\\\"gridwidth\\\":2,\\\"backgroundcolor\\\":\\\"#E5ECF6\\\",\\\"ticks\\\":\\\"\\\",\\\"showbackground\\\":true,\\\"zerolinecolor\\\":\\\"white\\\",\\\"linecolor\\\":\\\"white\\\"},\\\"zaxis\\\":{\\\"gridcolor\\\":\\\"white\\\",\\\"gridwidth\\\":2,\\\"backgroundcolor\\\":\\\"#E5ECF6\\\",\\\"ticks\\\":\\\"\\\",\\\"showbackground\\\":true,\\\"zerolinecolor\\\":\\\"white\\\",\\\"linecolor\\\":\\\"white\\\"},\\\"yaxis\\\":{\\\"gridcolor\\\":\\\"white\\\",\\\"gridwidth\\\":2,\\\"backgroundcolor\\\":\\\"#E5ECF6\\\",\\\"ticks\\\":\\\"\\\",\\\"showbackground\\\":true,\\\"zerolinecolor\\\":\\\"white\\\",\\\"linecolor\\\":\\\"white\\\"}},\\\"colorway\\\":[\\\"#636efa\\\",\\\"#EF553B\\\",\\\"#00cc96\\\",\\\"#ab63fa\\\",\\\"#FFA15A\\\",\\\"#19d3f3\\\",\\\"#FF6692\\\",\\\"#B6E880\\\",\\\"#FF97FF\\\",\\\"#FECB52\\\"]},\\\"data\\\":{\\\"barpolar\\\":[{\\\"type\\\":\\\"barpolar\\\",\\\"marker\\\":{\\\"line\\\":{\\\"color\\\":\\\"#E5ECF6\\\",\\\"width\\\":0.5}}}],\\\"carpet\\\":[{\\\"aaxis\\\":{\\\"gridcolor\\\":\\\"white\\\",\\\"endlinecolor\\\":\\\"#2a3f5f\\\",\\\"minorgridcolor\\\":\\\"white\\\",\\\"startlinecolor\\\":\\\"#2a3f5f\\\",\\\"linecolor\\\":\\\"white\\\"},\\\"type\\\":\\\"carpet\\\",\\\"baxis\\\":{\\\"gridcolor\\\":\\\"white\\\",\\\"endlinecolor\\\":\\\"#2a3f5f\\\",\\\"minorgridcolor\\\":\\\"white\\\",\\\"startlinecolor\\\":\\\"#2a3f5f\\\",\\\"linecolor\\\":\\\"white\\\"}}],\\\"scatterpolar\\\":[{\\\"type\\\":\\\"scatterpolar\\\",\\\"marker\\\":{\\\"colorbar\\\":{\\\"ticks\\\":\\\"\\\",\\\"outlinewidth\\\":0}}}],\\\"parcoords\\\":[{\\\"line\\\":{\\\"colorbar\\\":{\\\"ticks\\\":\\\"\\\",\\\"outlinewidth\\\":0}},\\\"type\\\":\\\"parcoords\\\"}],\\\"scatter\\\":[{\\\"type\\\":\\\"scatter\\\",\\\"marker\\\":{\\\"colorbar\\\":{\\\"ticks\\\":\\\"\\\",\\\"outlinewidth\\\":0}}}],\\\"histogram2dcontour\\\":[{\\\"colorbar\\\":{\\\"ticks\\\":\\\"\\\",\\\"outlinewidth\\\":0},\\\"type\\\":\\\"histogram2dcontour\\\",\\\"colorscale\\\":[[0.0,\\\"#0d0887\\\"],[0.1111111111111111,\\\"#46039f\\\"],[0.2222222222222222,\\\"#7201a8\\\"],[0.3333333333333333,\\\"#9c179e\\\"],[0.4444444444444444,\\\"#bd3786\\\"],[0.5555555555555556,\\\"#d8576b\\\"],[0.6666666666666666,\\\"#ed7953\\\"],[0.7777777777777778,\\\"#fb9f3a\\\"],[0.8888888888888888,\\\"#fdca26\\\"],[1.0,\\\"#f0f921\\\"]]}],\\\"contour\\\":[{\\\"colorbar\\\":{\\\"ticks\\\":\\\"\\\",\\\"outlinewidth\\\":0},\\\"type\\\":\\\"contour\\\",\\\"colorscale\\\":[[0.0,\\\"#0d0887\\\"],[0.1111111111111111,\\\"#46039f\\\"],[0.2222222222222222,\\\"#7201a8\\\"],[0.3333333333333333,\\\"#9c179e\\\"],[0.4444444444444444,\\\"#bd3786\\\"],[0.5555555555555556,\\\"#d8576b\\\"],[0.6666666666666666,\\\"#ed7953\\\"],[0.7777777777777778,\\\"#fb9f3a\\\"],[0.8888888888888888,\\\"#fdca26\\\"],[1.0,\\\"#f0f921\\\"]]}],\\\"scattercarpet\\\":[{\\\"type\\\":\\\"scattercarpet\\\",\\\"marker\\\":{\\\"colorbar\\\":{\\\"ticks\\\":\\\"\\\",\\\"outlinewidth\\\":0}}}],\\\"mesh3d\\\":[{\\\"colorbar\\\":{\\\"ticks\\\":\\\"\\\",\\\"outlinewidth\\\":0},\\\"type\\\":\\\"mesh3d\\\"}],\\\"surface\\\":[{\\\"colorbar\\\":{\\\"ticks\\\":\\\"\\\",\\\"outlinewidth\\\":0},\\\"type\\\":\\\"surface\\\",\\\"colorscale\\\":[[0.0,\\\"#0d0887\\\"],[0.1111111111111111,\\\"#46039f\\\"],[0.2222222222222222,\\\"#7201a8\\\"],[0.3333333333333333,\\\"#9c179e\\\"],[0.4444444444444444,\\\"#bd3786\\\"],[0.5555555555555556,\\\"#d8576b\\\"],[0.6666666666666666,\\\"#ed7953\\\"],[0.7777777777777778,\\\"#fb9f3a\\\"],[0.8888888888888888,\\\"#fdca26\\\"],[1.0,\\\"#f0f921\\\"]]}],\\\"scattermapbox\\\":[{\\\"type\\\":\\\"scattermapbox\\\",\\\"marker\\\":{\\\"colorbar\\\":{\\\"ticks\\\":\\\"\\\",\\\"outlinewidth\\\":0}}}],\\\"scattergeo\\\":[{\\\"type\\\":\\\"scattergeo\\\",\\\"marker\\\":{\\\"colorbar\\\":{\\\"ticks\\\":\\\"\\\",\\\"outlinewidth\\\":0}}}],\\\"histogram\\\":[{\\\"type\\\":\\\"histogram\\\",\\\"marker\\\":{\\\"colorbar\\\":{\\\"ticks\\\":\\\"\\\",\\\"outlinewidth\\\":0}}}],\\\"pie\\\":[{\\\"type\\\":\\\"pie\\\",\\\"automargin\\\":true}],\\\"choropleth\\\":[{\\\"colorbar\\\":{\\\"ticks\\\":\\\"\\\",\\\"outlinewidth\\\":0},\\\"type\\\":\\\"choropleth\\\"}],\\\"heatmapgl\\\":[{\\\"colorbar\\\":{\\\"ticks\\\":\\\"\\\",\\\"outlinewidth\\\":0},\\\"type\\\":\\\"heatmapgl\\\",\\\"colorscale\\\":[[0.0,\\\"#0d0887\\\"],[0.1111111111111111,\\\"#46039f\\\"],[0.2222222222222222,\\\"#7201a8\\\"],[0.3333333333333333,\\\"#9c179e\\\"],[0.4444444444444444,\\\"#bd3786\\\"],[0.5555555555555556,\\\"#d8576b\\\"],[0.6666666666666666,\\\"#ed7953\\\"],[0.7777777777777778,\\\"#fb9f3a\\\"],[0.8888888888888888,\\\"#fdca26\\\"],[1.0,\\\"#f0f921\\\"]]}],\\\"bar\\\":[{\\\"type\\\":\\\"bar\\\",\\\"error_y\\\":{\\\"color\\\":\\\"#2a3f5f\\\"},\\\"error_x\\\":{\\\"color\\\":\\\"#2a3f5f\\\"},\\\"marker\\\":{\\\"line\\\":{\\\"color\\\":\\\"#E5ECF6\\\",\\\"width\\\":0.5}}}],\\\"heatmap\\\":[{\\\"colorbar\\\":{\\\"ticks\\\":\\\"\\\",\\\"outlinewidth\\\":0},\\\"type\\\":\\\"heatmap\\\",\\\"colorscale\\\":[[0.0,\\\"#0d0887\\\"],[0.1111111111111111,\\\"#46039f\\\"],[0.2222222222222222,\\\"#7201a8\\\"],[0.3333333333333333,\\\"#9c179e\\\"],[0.4444444444444444,\\\"#bd3786\\\"],[0.5555555555555556,\\\"#d8576b\\\"],[0.6666666666666666,\\\"#ed7953\\\"],[0.7777777777777778,\\\"#fb9f3a\\\"],[0.8888888888888888,\\\"#fdca26\\\"],[1.0,\\\"#f0f921\\\"]]}],\\\"contourcarpet\\\":[{\\\"colorbar\\\":{\\\"ticks\\\":\\\"\\\",\\\"outlinewidth\\\":0},\\\"type\\\":\\\"contourcarpet\\\"}],\\\"table\\\":[{\\\"type\\\":\\\"table\\\",\\\"header\\\":{\\\"line\\\":{\\\"color\\\":\\\"white\\\"},\\\"fill\\\":{\\\"color\\\":\\\"#C8D4E3\\\"}},\\\"cells\\\":{\\\"line\\\":{\\\"color\\\":\\\"white\\\"},\\\"fill\\\":{\\\"color\\\":\\\"#EBF0F8\\\"}}}],\\\"scatter3d\\\":[{\\\"line\\\":{\\\"colorbar\\\":{\\\"ticks\\\":\\\"\\\",\\\"outlinewidth\\\":0}},\\\"type\\\":\\\"scatter3d\\\",\\\"marker\\\":{\\\"colorbar\\\":{\\\"ticks\\\":\\\"\\\",\\\"outlinewidth\\\":0}}}],\\\"scattergl\\\":[{\\\"type\\\":\\\"scattergl\\\",\\\"marker\\\":{\\\"colorbar\\\":{\\\"ticks\\\":\\\"\\\",\\\"outlinewidth\\\":0}}}],\\\"histogram2d\\\":[{\\\"colorbar\\\":{\\\"ticks\\\":\\\"\\\",\\\"outlinewidth\\\":0},\\\"type\\\":\\\"histogram2d\\\",\\\"colorscale\\\":[[0.0,\\\"#0d0887\\\"],[0.1111111111111111,\\\"#46039f\\\"],[0.2222222222222222,\\\"#7201a8\\\"],[0.3333333333333333,\\\"#9c179e\\\"],[0.4444444444444444,\\\"#bd3786\\\"],[0.5555555555555556,\\\"#d8576b\\\"],[0.6666666666666666,\\\"#ed7953\\\"],[0.7777777777777778,\\\"#fb9f3a\\\"],[0.8888888888888888,\\\"#fdca26\\\"],[1.0,\\\"#f0f921\\\"]]}],\\\"scatterternary\\\":[{\\\"type\\\":\\\"scatterternary\\\",\\\"marker\\\":{\\\"colorbar\\\":{\\\"ticks\\\":\\\"\\\",\\\"outlinewidth\\\":0}}}],\\\"scatterpolargl\\\":[{\\\"type\\\":\\\"scatterpolargl\\\",\\\"marker\\\":{\\\"colorbar\\\":{\\\"ticks\\\":\\\"\\\",\\\"outlinewidth\\\":0}}}]}},\\\"yaxis\\\":{\\\"showgrid\\\":false,\\\"zeroline\\\":false,\\\"tickvals\\\":[],\\\"scaleanchor\\\":\\\"x\\\",\\\"scaleratio\\\":1,\\\"title\\\":{\\\"text\\\":\\\"\\\"},\\\"showbackground\\\":false,\\\"range\\\":[-0.9326920704511052,0.9326920704511052]},\\\"autosize\\\":false,\\\"annotations\\\":[{\\\"arrowcolor\\\":\\\"rgb(39,60,117)\\\",\\\"showarrow\\\":true,\\\"yref\\\":\\\"ay\\\",\\\"arrowsize\\\":0.5,\\\"arrowhead\\\":2,\\\"axref\\\":\\\"x\\\",\\\"y\\\":0.0,\\\"ax\\\":0.95,\\\"ay\\\":0.0,\\\"ayref\\\":\\\"y\\\",\\\"arrowwidth\\\":6,\\\"xref\\\":\\\"ax\\\",\\\"x\\\":1.05},{\\\"arrowcolor\\\":\\\"rgb(39,60,117)\\\",\\\"showarrow\\\":true,\\\"yref\\\":\\\"ay\\\",\\\"arrowsize\\\":0.5,\\\"arrowhead\\\":2,\\\"axref\\\":\\\"x\\\",\\\"y\\\":0.9093266739736605,\\\"ax\\\":0.475,\\\"ay\\\":0.8227241335952167,\\\"ayref\\\":\\\"y\\\",\\\"arrowwidth\\\":6,\\\"xref\\\":\\\"ax\\\",\\\"x\\\":0.525},{\\\"arrowcolor\\\":\\\"rgb(194,54,22)\\\",\\\"showarrow\\\":true,\\\"yref\\\":\\\"ay\\\",\\\"arrowsize\\\":0.5,\\\"arrowhead\\\":2,\\\"axref\\\":\\\"x\\\",\\\"y\\\":0.0,\\\"ax\\\":0.6499999999999999,\\\"ay\\\":0.0,\\\"ayref\\\":\\\"y\\\",\\\"arrowwidth\\\":6,\\\"xref\\\":\\\"ax\\\",\\\"x\\\":0.75},{\\\"arrowcolor\\\":\\\"rgb(194,54,22)\\\",\\\"showarrow\\\":true,\\\"yref\\\":\\\"ay\\\",\\\"arrowsize\\\":0.5,\\\"arrowhead\\\":2,\\\"axref\\\":\\\"x\\\",\\\"y\\\":0.8273502691896257,\\\"ax\\\":0.0,\\\"ay\\\":0.7273502691896256,\\\"ayref\\\":\\\"y\\\",\\\"arrowwidth\\\":6,\\\"xref\\\":\\\"ax\\\",\\\"x\\\":0.0}],\\\"plot_bgcolor\\\":\\\"rgba(255, 255, 255, 1)\\\",\\\"margin\\\":{\\\"l\\\":50,\\\"b\\\":50,\\\"r\\\":50,\\\"t\\\":60},\\\"aspectmode\\\":\\\"data\\\"},{\\\"displaylogo\\\":false,\\\"showLink\\\":false,\\\"editable\\\":false,\\\"responsive\\\":true,\\\"staticPlot\\\":false,\\\"scrollZoom\\\":true}); gd.on(\\\"plotly_hover\\\",(function (data){var filtered_data=WebIO.PlotlyCommands.filterEventData(gd,data,\\\"hover\\\"); return !(filtered_data.isnil) ? (WebIO.setval({\\\"name\\\":\\\"hover\\\",\\\"scope\\\":\\\"6504400522455492431\\\",\\\"id\\\":\\\"229669\\\",\\\"type\\\":\\\"observable\\\"},filtered_data.out)) : undefined})); gd.on(\\\"plotly_unhover\\\",(function (){return WebIO.setval({\\\"name\\\":\\\"hover\\\",\\\"scope\\\":\\\"6504400522455492431\\\",\\\"id\\\":\\\"229669\\\",\\\"type\\\":\\\"observable\\\"},{})})); gd.on(\\\"plotly_selected\\\",(function (data){var filtered_data=WebIO.PlotlyCommands.filterEventData(gd,data,\\\"selected\\\"); return !(filtered_data.isnil) ? (WebIO.setval({\\\"name\\\":\\\"selected\\\",\\\"scope\\\":\\\"6504400522455492431\\\",\\\"id\\\":\\\"229670\\\",\\\"type\\\":\\\"observable\\\"},filtered_data.out)) : undefined})); gd.on(\\\"plotly_deselect\\\",(function (){return WebIO.setval({\\\"name\\\":\\\"selected\\\",\\\"scope\\\":\\\"6504400522455492431\\\",\\\"id\\\":\\\"229670\\\",\\\"type\\\":\\\"observable\\\"},{})})); gd.on(\\\"plotly_relayout\\\",(function (data){var filtered_data=WebIO.PlotlyCommands.filterEventData(gd,data,\\\"relayout\\\"); return !(filtered_data.isnil) ? (WebIO.setval({\\\"name\\\":\\\"relayout\\\",\\\"scope\\\":\\\"6504400522455492431\\\",\\\"id\\\":\\\"229672\\\",\\\"type\\\":\\\"observable\\\"},filtered_data.out)) : undefined})); return gd.on(\\\"plotly_click\\\",(function (data){var filtered_data=WebIO.PlotlyCommands.filterEventData(gd,data,\\\"click\\\"); return !(filtered_data.isnil) ? (WebIO.setval({\\\"name\\\":\\\"click\\\",\\\"scope\\\":\\\"6504400522455492431\\\",\\\"id\\\":\\\"229671\\\",\\\"type\\\":\\\"observable\\\"},filtered_data.out)) : undefined}))}));\\n    (WebIO.importBlock({\\\"data\\\":[{\\\"name\\\":\\\"Plotly\\\",\\\"type\\\":\\\"js\\\",\\\"url\\\":\\\"\\/assetserver\\/b267c3137400db01c304fe886fe6f707be7fdb37-plotly.min.js\\\"},{\\\"name\\\":null,\\\"type\\\":\\\"js\\\",\\\"url\\\":\\\"\\/assetserver\\/020f2e8a4619f2ae880fff9315e6547eef1aff0b-plotly_webio.bundle.js\\\"}],\\\"type\\\":\\\"async_block\\\"})).then((imports) => handler.apply(this, imports));\\n}\\n\"],\"observables\":{\"_toImage\":{\"sync\":false,\"id\":\"229676\",\"value\":{}},\"hover\":{\"sync\":false,\"id\":\"229669\",\"value\":{}},\"selected\":{\"sync\":false,\"id\":\"229670\",\"value\":{}},\"__gd_contents\":{\"sync\":false,\"id\":\"229674\",\"value\":{}},\"click\":{\"sync\":false,\"id\":\"229671\",\"value\":{}},\"image\":{\"sync\":true,\"id\":\"229673\",\"value\":\"\"},\"__get_gd_contents\":{\"sync\":false,\"id\":\"229678\",\"value\":\"\"},\"_downloadImage\":{\"sync\":false,\"id\":\"229677\",\"value\":{}},\"relayout\":{\"sync\":false,\"id\":\"229672\",\"value\":{}},\"_commands\":{\"sync\":false,\"id\":\"229675\",\"value\":[]}}},\"children\":[{\"props\":{\"id\":\"plot-fb8f3556-71fa-4259-9dcd-e4968cf204a1\"},\"nodeType\":\"DOM\",\"type\":\"node\",\"instanceArgs\":{\"namespace\":\"html\",\"tag\":\"div\"},\"children\":[]}]},\n",
       "        window,\n",
       "    );\n",
       "    })()\n",
       "    </script>\n",
       "</div>\n"
      ],
      "text/plain": [
       "data: [\n",
       "  \"scatter with fields hoverinfo, hovertext, line, mode, type, x, and y\",\n",
       "  \"scatter with fields hoverinfo, hovertext, line, mode, type, x, and y\",\n",
       "  \"scatter with fields hoverinfo, hovertext, line, mode, type, x, and y\",\n",
       "  \"scatter with fields hoverinfo, hovertext, line, mode, type, x, and y\",\n",
       "  \"scatter with fields hoverinfo, hovertext, line, mode, type, x, and y\",\n",
       "  \"scatter with fields hoverinfo, hovertext, line, mode, type, x, and y\",\n",
       "  \"scatter with fields hoverinfo, hovertext, line, mode, type, x, and y\",\n",
       "  \"scatter with fields hoverinfo, hovertext, line, mode, type, x, and y\",\n",
       "  \"scatter with fields hoverinfo, hovertext, line, mode, type, x, and y\"\n",
       "]\n",
       "\n",
       "layout: \"layout with fields annotations, aspectmode, autosize, hovermode, margin, paper_bgcolor, plot_bgcolor, showlegend, template, xaxis, and yaxis\"\n",
       "\n"
      ]
     },
     "metadata": {},
     "output_type": "display_data"
    }
   ],
   "source": [
    "let\n",
    "    print(\"--- Plotting the Wigner-Seitz cell in real space. \\n\")\n",
    "    print(\"\\n\")\n",
    "\n",
    "    As = [real_basis[i, :] for i ∈ 1 : size(real_basis, 1)]\n",
    "    real_wignerseitz = wignerseitz(As)\n",
    "\n",
    "    vertices = real_wignerseitz.verts\n",
    "\n",
    "    print(\"--- Vertices of the real Wigner-Seitz cell (in reduced coordinates): \\n\")\n",
    "    for v ∈ vertices\n",
    "        @printf(\"%10f %10f \\n\", v[1], v[2])\n",
    "    end\n",
    "\n",
    "    cvecs = make_cartesian(vertices, As)\n",
    "\n",
    "    print(\"\\n\")\n",
    "    print(\"--- Vertices of the real Wigner-Seitz cell (in cartesian coordinates): \\n\")\n",
    "    for v ∈ cvecs\n",
    "        @printf(\"%10f %10f \\n\", v[1], v[2])\n",
    "    end\n",
    "\n",
    "    pbzb = PlotlyJS.plot(real_wignerseitz)\n",
    "    PlotlyJS.savefig(pbzb, assets_dir * \"real_pbzb.png\")\n",
    "    display(pbzb)\n",
    "\n",
    "end"
   ]
  },
  {
   "cell_type": "code",
   "execution_count": 180,
   "metadata": {},
   "outputs": [
    {
     "name": "stdout",
     "output_type": "stream",
     "text": [
      "--- Plotting the Wigner-Seitz cell in reciprocal space. \n",
      "\n",
      "--- Vertices of the reciprocal Wigner-Seitz cell (in reduced coordinates): \n",
      " -0.333333   0.333333 \n",
      " -0.666667  -0.333333 \n",
      " -0.333333  -0.666667 \n",
      "  0.333333  -0.333333 \n",
      "  0.666667   0.333333 \n",
      "  0.333333   0.666667 \n",
      "\n",
      "--- Vertices of the reciprocal Wigner-Seitz cell (in cartesian coordinates): \n",
      " -0.333333   0.577350 \n",
      " -0.666667   0.000000 \n",
      " -0.333333  -0.577350 \n",
      "  0.333333  -0.577350 \n",
      "  0.666667   0.000000 \n",
      "  0.333333   0.577350 \n"
     ]
    },
    {
     "data": {
      "application/vnd.plotly.v1+json": {
       "config": {
        "displaylogo": false,
        "editable": false,
        "responsive": true,
        "scrollZoom": true,
        "showLink": false,
        "staticPlot": false
       },
       "data": [
        {
         "hoverinfo": "text+x+y",
         "hovertext": "Cell",
         "line": {
          "color": "rgb(47,54,64)",
          "width": 3
         },
         "mode": "lines",
         "type": "scatter",
         "x": [
          -0.6666666666666667,
          -0.33333333333333326,
          0.33333333333333337,
          0.6666666666666667,
          0.33333333333333326,
          -0.33333333333333326,
          -0.6666666666666667
         ],
         "y": [
          0,
          -0.5773502691896258,
          -0.5773502691896258,
          0,
          0.5773502691896258,
          0.5773502691896258,
          0
         ]
        },
        {
         "hoverinfo": "text",
         "hovertext": "<b>v</b><sub>1</sub>",
         "line": {
          "color": "rgb(212,216,227)",
          "width": 5
         },
         "mode": "lines",
         "type": "scatter",
         "x": [
          0,
          0.475
         ],
         "y": [
          0,
          -0.2742413778650723
         ]
        },
        {
         "hoverinfo": "text",
         "hovertext": "<b>v</b><sub>2</sub>",
         "line": {
          "color": "rgb(212,216,227)",
          "width": 5
         },
         "mode": "lines",
         "type": "scatter",
         "x": [
          0,
          0
         ],
         "y": [
          0,
          0.5484827557301446
         ]
        },
        {
         "hoverinfo": "text+x+y",
         "hovertext": "<b>v</b><sub>1</sub>",
         "line": {
          "color": "rgb(39,60,117)",
          "width": 6
         },
         "mode": "lines",
         "type": "scatter",
         "x": [
          0.525,
          1
         ],
         "y": [
          -0.30310889132455354,
          -0.5773502691896258
         ]
        },
        {
         "hoverinfo": "text+x+y",
         "hovertext": "<b>v</b><sub>2</sub>",
         "line": {
          "color": "rgb(39,60,117)",
          "width": 6
         },
         "mode": "lines",
         "type": "scatter",
         "x": [
          0,
          0
         ],
         "y": [
          0.6062177826491071,
          1.1547005383792517
         ]
        },
        {
         "hoverinfo": "text",
         "hovertext": "<b>x</b>",
         "line": {
          "color": "rgb(242,215,208)",
          "width": 5
         },
         "mode": "lines",
         "type": "scatter",
         "x": [
          0,
          0.6377991532071855
         ],
         "y": [
          0,
          0
         ]
        },
        {
         "hoverinfo": "text",
         "hovertext": "<b>y</b>",
         "line": {
          "color": "rgb(242,215,208)",
          "width": 5
         },
         "mode": "lines",
         "type": "scatter",
         "x": [
          0,
          0
         ],
         "y": [
          0,
          0.5484827557301446
         ]
        },
        {
         "hoverinfo": "text",
         "hovertext": "<b>x</b>",
         "line": {
          "color": "rgb(194,54,22)",
          "width": 6
         },
         "mode": "lines",
         "type": "scatter",
         "x": [
          0.695534180126148,
          0.8976067743425171
         ],
         "y": [
          0,
          0
         ]
        },
        {
         "hoverinfo": "text",
         "hovertext": "<b>y</b>",
         "line": {
          "color": "rgb(194,54,22)",
          "width": 6
         },
         "mode": "lines",
         "type": "scatter",
         "x": [
          0,
          0
         ],
         "y": [
          0.6062177826491071,
          0.8082903768654762
         ]
        }
       ],
       "frames": [],
       "layout": {
        "annotations": [
         {
          "arrowcolor": "rgb(39,60,117)",
          "arrowhead": 2,
          "arrowsize": 0.5,
          "arrowwidth": 6,
          "ax": 0.95,
          "axref": "x",
          "ay": -0.5484827557301446,
          "ayref": "y",
          "showarrow": true,
          "x": 1.05,
          "xref": "ax",
          "y": -0.6062177826491071,
          "yref": "ay"
         },
         {
          "arrowcolor": "rgb(39,60,117)",
          "arrowhead": 2,
          "arrowsize": 0.5,
          "arrowwidth": 6,
          "ax": 0,
          "axref": "x",
          "ay": 1.0969655114602892,
          "ayref": "y",
          "showarrow": true,
          "x": 0,
          "xref": "ax",
          "y": 1.2124355652982142,
          "yref": "ay"
         },
         {
          "arrowcolor": "rgb(194,54,22)",
          "arrowhead": 2,
          "arrowsize": 0.5,
          "arrowwidth": 6,
          "ax": 0.8398717474235545,
          "axref": "x",
          "ay": 0,
          "ayref": "y",
          "showarrow": true,
          "x": 0.9553418012614797,
          "xref": "ax",
          "y": 0,
          "yref": "ay"
         },
         {
          "arrowcolor": "rgb(194,54,22)",
          "arrowhead": 2,
          "arrowsize": 0.5,
          "arrowwidth": 6,
          "ax": 0,
          "axref": "x",
          "ay": 0.7505553499465136,
          "ayref": "y",
          "showarrow": true,
          "x": 0,
          "xref": "ax",
          "y": 0.8660254037844388,
          "yref": "ay"
         }
        ],
        "aspectmode": "data",
        "autosize": false,
        "hovermode": "closest",
        "margin": {
         "b": 50,
         "l": 50,
         "r": 50,
         "t": 60
        },
        "paper_bgcolor": "rgba(255, 255, 255, 1)",
        "plot_bgcolor": "rgba(255, 255, 255, 1)",
        "showlegend": false,
        "template": {
         "data": {
          "bar": [
           {
            "error_x": {
             "color": "#2a3f5f"
            },
            "error_y": {
             "color": "#2a3f5f"
            },
            "marker": {
             "line": {
              "color": "#E5ECF6",
              "width": 0.5
             }
            },
            "type": "bar"
           }
          ],
          "barpolar": [
           {
            "marker": {
             "line": {
              "color": "#E5ECF6",
              "width": 0.5
             }
            },
            "type": "barpolar"
           }
          ],
          "carpet": [
           {
            "aaxis": {
             "endlinecolor": "#2a3f5f",
             "gridcolor": "white",
             "linecolor": "white",
             "minorgridcolor": "white",
             "startlinecolor": "#2a3f5f"
            },
            "baxis": {
             "endlinecolor": "#2a3f5f",
             "gridcolor": "white",
             "linecolor": "white",
             "minorgridcolor": "white",
             "startlinecolor": "#2a3f5f"
            },
            "type": "carpet"
           }
          ],
          "choropleth": [
           {
            "colorbar": {
             "outlinewidth": 0,
             "ticks": ""
            },
            "type": "choropleth"
           }
          ],
          "contour": [
           {
            "colorbar": {
             "outlinewidth": 0,
             "ticks": ""
            },
            "colorscale": [
             [
              0,
              "#0d0887"
             ],
             [
              0.1111111111111111,
              "#46039f"
             ],
             [
              0.2222222222222222,
              "#7201a8"
             ],
             [
              0.3333333333333333,
              "#9c179e"
             ],
             [
              0.4444444444444444,
              "#bd3786"
             ],
             [
              0.5555555555555556,
              "#d8576b"
             ],
             [
              0.6666666666666666,
              "#ed7953"
             ],
             [
              0.7777777777777778,
              "#fb9f3a"
             ],
             [
              0.8888888888888888,
              "#fdca26"
             ],
             [
              1,
              "#f0f921"
             ]
            ],
            "type": "contour"
           }
          ],
          "contourcarpet": [
           {
            "colorbar": {
             "outlinewidth": 0,
             "ticks": ""
            },
            "type": "contourcarpet"
           }
          ],
          "heatmap": [
           {
            "colorbar": {
             "outlinewidth": 0,
             "ticks": ""
            },
            "colorscale": [
             [
              0,
              "#0d0887"
             ],
             [
              0.1111111111111111,
              "#46039f"
             ],
             [
              0.2222222222222222,
              "#7201a8"
             ],
             [
              0.3333333333333333,
              "#9c179e"
             ],
             [
              0.4444444444444444,
              "#bd3786"
             ],
             [
              0.5555555555555556,
              "#d8576b"
             ],
             [
              0.6666666666666666,
              "#ed7953"
             ],
             [
              0.7777777777777778,
              "#fb9f3a"
             ],
             [
              0.8888888888888888,
              "#fdca26"
             ],
             [
              1,
              "#f0f921"
             ]
            ],
            "type": "heatmap"
           }
          ],
          "heatmapgl": [
           {
            "colorbar": {
             "outlinewidth": 0,
             "ticks": ""
            },
            "colorscale": [
             [
              0,
              "#0d0887"
             ],
             [
              0.1111111111111111,
              "#46039f"
             ],
             [
              0.2222222222222222,
              "#7201a8"
             ],
             [
              0.3333333333333333,
              "#9c179e"
             ],
             [
              0.4444444444444444,
              "#bd3786"
             ],
             [
              0.5555555555555556,
              "#d8576b"
             ],
             [
              0.6666666666666666,
              "#ed7953"
             ],
             [
              0.7777777777777778,
              "#fb9f3a"
             ],
             [
              0.8888888888888888,
              "#fdca26"
             ],
             [
              1,
              "#f0f921"
             ]
            ],
            "type": "heatmapgl"
           }
          ],
          "histogram": [
           {
            "marker": {
             "colorbar": {
              "outlinewidth": 0,
              "ticks": ""
             }
            },
            "type": "histogram"
           }
          ],
          "histogram2d": [
           {
            "colorbar": {
             "outlinewidth": 0,
             "ticks": ""
            },
            "colorscale": [
             [
              0,
              "#0d0887"
             ],
             [
              0.1111111111111111,
              "#46039f"
             ],
             [
              0.2222222222222222,
              "#7201a8"
             ],
             [
              0.3333333333333333,
              "#9c179e"
             ],
             [
              0.4444444444444444,
              "#bd3786"
             ],
             [
              0.5555555555555556,
              "#d8576b"
             ],
             [
              0.6666666666666666,
              "#ed7953"
             ],
             [
              0.7777777777777778,
              "#fb9f3a"
             ],
             [
              0.8888888888888888,
              "#fdca26"
             ],
             [
              1,
              "#f0f921"
             ]
            ],
            "type": "histogram2d"
           }
          ],
          "histogram2dcontour": [
           {
            "colorbar": {
             "outlinewidth": 0,
             "ticks": ""
            },
            "colorscale": [
             [
              0,
              "#0d0887"
             ],
             [
              0.1111111111111111,
              "#46039f"
             ],
             [
              0.2222222222222222,
              "#7201a8"
             ],
             [
              0.3333333333333333,
              "#9c179e"
             ],
             [
              0.4444444444444444,
              "#bd3786"
             ],
             [
              0.5555555555555556,
              "#d8576b"
             ],
             [
              0.6666666666666666,
              "#ed7953"
             ],
             [
              0.7777777777777778,
              "#fb9f3a"
             ],
             [
              0.8888888888888888,
              "#fdca26"
             ],
             [
              1,
              "#f0f921"
             ]
            ],
            "type": "histogram2dcontour"
           }
          ],
          "mesh3d": [
           {
            "colorbar": {
             "outlinewidth": 0,
             "ticks": ""
            },
            "type": "mesh3d"
           }
          ],
          "parcoords": [
           {
            "line": {
             "colorbar": {
              "outlinewidth": 0,
              "ticks": ""
             }
            },
            "type": "parcoords"
           }
          ],
          "pie": [
           {
            "automargin": true,
            "type": "pie"
           }
          ],
          "scatter": [
           {
            "marker": {
             "colorbar": {
              "outlinewidth": 0,
              "ticks": ""
             }
            },
            "type": "scatter"
           }
          ],
          "scatter3d": [
           {
            "line": {
             "colorbar": {
              "outlinewidth": 0,
              "ticks": ""
             }
            },
            "marker": {
             "colorbar": {
              "outlinewidth": 0,
              "ticks": ""
             }
            },
            "type": "scatter3d"
           }
          ],
          "scattercarpet": [
           {
            "marker": {
             "colorbar": {
              "outlinewidth": 0,
              "ticks": ""
             }
            },
            "type": "scattercarpet"
           }
          ],
          "scattergeo": [
           {
            "marker": {
             "colorbar": {
              "outlinewidth": 0,
              "ticks": ""
             }
            },
            "type": "scattergeo"
           }
          ],
          "scattergl": [
           {
            "marker": {
             "colorbar": {
              "outlinewidth": 0,
              "ticks": ""
             }
            },
            "type": "scattergl"
           }
          ],
          "scattermapbox": [
           {
            "marker": {
             "colorbar": {
              "outlinewidth": 0,
              "ticks": ""
             }
            },
            "type": "scattermapbox"
           }
          ],
          "scatterpolar": [
           {
            "marker": {
             "colorbar": {
              "outlinewidth": 0,
              "ticks": ""
             }
            },
            "type": "scatterpolar"
           }
          ],
          "scatterpolargl": [
           {
            "marker": {
             "colorbar": {
              "outlinewidth": 0,
              "ticks": ""
             }
            },
            "type": "scatterpolargl"
           }
          ],
          "scatterternary": [
           {
            "marker": {
             "colorbar": {
              "outlinewidth": 0,
              "ticks": ""
             }
            },
            "type": "scatterternary"
           }
          ],
          "surface": [
           {
            "colorbar": {
             "outlinewidth": 0,
             "ticks": ""
            },
            "colorscale": [
             [
              0,
              "#0d0887"
             ],
             [
              0.1111111111111111,
              "#46039f"
             ],
             [
              0.2222222222222222,
              "#7201a8"
             ],
             [
              0.3333333333333333,
              "#9c179e"
             ],
             [
              0.4444444444444444,
              "#bd3786"
             ],
             [
              0.5555555555555556,
              "#d8576b"
             ],
             [
              0.6666666666666666,
              "#ed7953"
             ],
             [
              0.7777777777777778,
              "#fb9f3a"
             ],
             [
              0.8888888888888888,
              "#fdca26"
             ],
             [
              1,
              "#f0f921"
             ]
            ],
            "type": "surface"
           }
          ],
          "table": [
           {
            "cells": {
             "fill": {
              "color": "#EBF0F8"
             },
             "line": {
              "color": "white"
             }
            },
            "header": {
             "fill": {
              "color": "#C8D4E3"
             },
             "line": {
              "color": "white"
             }
            },
            "type": "table"
           }
          ]
         },
         "layout": {
          "annotationdefaults": {
           "arrowcolor": "#2a3f5f",
           "arrowhead": 0,
           "arrowwidth": 1
          },
          "autotypenumbers": "strict",
          "coloraxis": {
           "colorbar": {
            "outlinewidth": 0,
            "ticks": ""
           }
          },
          "colorscale": {
           "diverging": [
            [
             0,
             "#8e0152"
            ],
            [
             0.1,
             "#c51b7d"
            ],
            [
             0.2,
             "#de77ae"
            ],
            [
             0.3,
             "#f1b6da"
            ],
            [
             0.4,
             "#fde0ef"
            ],
            [
             0.5,
             "#f7f7f7"
            ],
            [
             0.6,
             "#e6f5d0"
            ],
            [
             0.7,
             "#b8e186"
            ],
            [
             0.8,
             "#7fbc41"
            ],
            [
             0.9,
             "#4d9221"
            ],
            [
             1,
             "#276419"
            ]
           ],
           "sequential": [
            [
             0,
             "#0d0887"
            ],
            [
             0.1111111111111111,
             "#46039f"
            ],
            [
             0.2222222222222222,
             "#7201a8"
            ],
            [
             0.3333333333333333,
             "#9c179e"
            ],
            [
             0.4444444444444444,
             "#bd3786"
            ],
            [
             0.5555555555555556,
             "#d8576b"
            ],
            [
             0.6666666666666666,
             "#ed7953"
            ],
            [
             0.7777777777777778,
             "#fb9f3a"
            ],
            [
             0.8888888888888888,
             "#fdca26"
            ],
            [
             1,
             "#f0f921"
            ]
           ],
           "sequentialminus": [
            [
             0,
             "#0d0887"
            ],
            [
             0.1111111111111111,
             "#46039f"
            ],
            [
             0.2222222222222222,
             "#7201a8"
            ],
            [
             0.3333333333333333,
             "#9c179e"
            ],
            [
             0.4444444444444444,
             "#bd3786"
            ],
            [
             0.5555555555555556,
             "#d8576b"
            ],
            [
             0.6666666666666666,
             "#ed7953"
            ],
            [
             0.7777777777777778,
             "#fb9f3a"
            ],
            [
             0.8888888888888888,
             "#fdca26"
            ],
            [
             1,
             "#f0f921"
            ]
           ]
          },
          "colorway": [
           "#636efa",
           "#EF553B",
           "#00cc96",
           "#ab63fa",
           "#FFA15A",
           "#19d3f3",
           "#FF6692",
           "#B6E880",
           "#FF97FF",
           "#FECB52"
          ],
          "font": {
           "color": "#2a3f5f"
          },
          "geo": {
           "bgcolor": "white",
           "lakecolor": "white",
           "landcolor": "#E5ECF6",
           "showlakes": true,
           "showland": true,
           "subunitcolor": "white"
          },
          "hoverlabel": {
           "align": "left"
          },
          "hovermode": "closest",
          "mapbox": {
           "style": "light"
          },
          "paper_bgcolor": "white",
          "plot_bgcolor": "#E5ECF6",
          "polar": {
           "angularaxis": {
            "gridcolor": "white",
            "linecolor": "white",
            "ticks": ""
           },
           "bgcolor": "#E5ECF6",
           "radialaxis": {
            "gridcolor": "white",
            "linecolor": "white",
            "ticks": ""
           }
          },
          "scene": {
           "xaxis": {
            "backgroundcolor": "#E5ECF6",
            "gridcolor": "white",
            "gridwidth": 2,
            "linecolor": "white",
            "showbackground": true,
            "ticks": "",
            "zerolinecolor": "white"
           },
           "yaxis": {
            "backgroundcolor": "#E5ECF6",
            "gridcolor": "white",
            "gridwidth": 2,
            "linecolor": "white",
            "showbackground": true,
            "ticks": "",
            "zerolinecolor": "white"
           },
           "zaxis": {
            "backgroundcolor": "#E5ECF6",
            "gridcolor": "white",
            "gridwidth": 2,
            "linecolor": "white",
            "showbackground": true,
            "ticks": "",
            "zerolinecolor": "white"
           }
          },
          "shapedefaults": {
           "line": {
            "color": "#2a3f5f"
           }
          },
          "ternary": {
           "aaxis": {
            "gridcolor": "white",
            "linecolor": "white",
            "ticks": ""
           },
           "baxis": {
            "gridcolor": "white",
            "linecolor": "white",
            "ticks": ""
           },
           "bgcolor": "#E5ECF6",
           "caxis": {
            "gridcolor": "white",
            "linecolor": "white",
            "ticks": ""
           }
          },
          "title": {
           "x": 0.05
          },
          "xaxis": {
           "automargin": true,
           "gridcolor": "white",
           "linecolor": "white",
           "ticks": "",
           "title": {
            "standoff": 15
           },
           "zerolinecolor": "white",
           "zerolinewidth": 2
          },
          "yaxis": {
           "automargin": true,
           "gridcolor": "white",
           "linecolor": "white",
           "ticks": "",
           "title": {
            "standoff": 15
           },
           "zerolinecolor": "white",
           "zerolinewidth": 2
          }
         }
        },
        "xaxis": {
         "range": [
          -1.0769800358919501,
          1.0769800358919501
         ],
         "showbackground": false,
         "showgrid": false,
         "tickvals": [],
         "title": {
          "text": ""
         },
         "zeroline": false
        },
        "yaxis": {
         "range": [
          -1.2316805742712018,
          1.2316805742712018
         ],
         "scaleanchor": "x",
         "scaleratio": 1,
         "showbackground": false,
         "showgrid": false,
         "tickvals": [],
         "title": {
          "text": ""
         },
         "zeroline": false
        }
       }
      },
      "image/png": "[encoded data removed]",
      "image/svg+xml": [
       "<svg class=\"main-svg\" xmlns=\"http://www.w3.org/2000/svg\" xmlns:xlink=\"http://www.w3.org/1999/xlink\" width=\"700\" height=\"500\" style=\"\" viewBox=\"0 0 700 500\"><rect x=\"0\" y=\"0\" width=\"700\" height=\"500\" style=\"fill: rgb(255, 255, 255); fill-opacity: 1;\"/><defs id=\"defs-4be9f7\"><g class=\"clips\"><clipPath id=\"clip4be9f7xyplot\" class=\"plotclip\"><rect width=\"600\" height=\"390\"/></clipPath><clipPath class=\"axesclip\" id=\"clip4be9f7x\"><rect x=\"50\" y=\"0\" width=\"600\" height=\"500\"/></clipPath><clipPath class=\"axesclip\" id=\"clip4be9f7y\"><rect x=\"0\" y=\"60\" width=\"700\" height=\"390\"/></clipPath><clipPath class=\"axesclip\" id=\"clip4be9f7xy\"><rect x=\"50\" y=\"60\" width=\"600\" height=\"390\"/></clipPath></g><g class=\"gradients\"/><g class=\"patterns\"/></defs><g class=\"bglayer\"/><g class=\"layer-below\"><g class=\"imagelayer\"/><g class=\"shapelayer\"/></g><g class=\"cartesianlayer\"><g class=\"subplot xy\"><g class=\"layer-subplot\"><g class=\"shapelayer\"/><g class=\"imagelayer\"/></g><g class=\"gridlayer\"><g class=\"x\"/><g class=\"y\"/></g><g class=\"zerolinelayer\"/><path class=\"xlines-below\"/><path class=\"ylines-below\"/><g class=\"overlines-below\"/><g class=\"xaxislayer-below\"/><g class=\"yaxislayer-below\"/><g class=\"overaxes-below\"/><g class=\"plot\" transform=\"translate(50,60)\" clip-path=\"url(#clip4be9f7xyplot)\"><g class=\"scatterlayer mlayer\"><g class=\"trace scatter tracec6e47d\" style=\"stroke-miterlimit: 2; opacity: 1;\"><g class=\"fills\"/><g class=\"errorbars\"/><g class=\"lines\"><path class=\"js-line\" d=\"M194.45,195L247.23,286.41L352.77,286.41L405.55,195L352.77,103.59L247.23,103.59L194.45,195\" style=\"vector-effect: non-scaling-stroke; fill: none; stroke: rgb(47, 54, 64); stroke-opacity: 1; stroke-width: 3px; opacity: 1;\"/></g><g class=\"points\"/><g class=\"text\"/></g><g class=\"trace scatter traceaec55f\" style=\"stroke-miterlimit: 2; opacity: 1;\"><g class=\"fills\"/><g class=\"errorbars\"/><g class=\"lines\"><path class=\"js-line\" d=\"M300,195L375.2,238.42\" style=\"vector-effect: non-scaling-stroke; fill: none; stroke: rgb(212, 216, 227); stroke-opacity: 1; stroke-width: 5px; opacity: 1;\"/></g><g class=\"points\"/><g class=\"text\"/></g><g class=\"trace scatter trace07f94a\" style=\"stroke-miterlimit: 2; opacity: 1;\"><g class=\"fills\"/><g class=\"errorbars\"/><g class=\"lines\"><path class=\"js-line\" d=\"M300,195L300,108.16\" style=\"vector-effect: non-scaling-stroke; fill: none; stroke: rgb(212, 216, 227); stroke-opacity: 1; stroke-width: 5px; opacity: 1;\"/></g><g class=\"points\"/><g class=\"text\"/></g><g class=\"trace scatter trace4e611d\" style=\"stroke-miterlimit: 2; opacity: 1;\"><g class=\"fills\"/><g class=\"errorbars\"/><g class=\"lines\"><path class=\"js-line\" d=\"M383.12,242.99L458.32,286.41\" style=\"vector-effect: non-scaling-stroke; fill: none; stroke: rgb(39, 60, 117); stroke-opacity: 1; stroke-width: 6px; opacity: 1;\"/></g><g class=\"points\"/><g class=\"text\"/></g><g class=\"trace scatter trace04a68d\" style=\"stroke-miterlimit: 2; opacity: 1;\"><g class=\"fills\"/><g class=\"errorbars\"/><g class=\"lines\"><path class=\"js-line\" d=\"M300,99.02L300,12.19\" style=\"vector-effect: non-scaling-stroke; fill: none; stroke: rgb(39, 60, 117); stroke-opacity: 1; stroke-width: 6px; opacity: 1;\"/></g><g class=\"points\"/><g class=\"text\"/></g><g class=\"trace scatter traceabc9b1\" style=\"stroke-miterlimit: 2; opacity: 1;\"><g class=\"fills\"/><g class=\"errorbars\"/><g class=\"lines\"><path class=\"js-line\" d=\"M300,195L400.98,195\" style=\"vector-effect: non-scaling-stroke; fill: none; stroke: rgb(242, 215, 208); stroke-opacity: 1; stroke-width: 5px; opacity: 1;\"/></g><g class=\"points\"/><g class=\"text\"/></g><g class=\"trace scatter tracef54336\" style=\"stroke-miterlimit: 2; opacity: 1;\"><g class=\"fills\"/><g class=\"errorbars\"/><g class=\"lines\"><path class=\"js-line\" d=\"M300,195L300,108.16\" style=\"vector-effect: non-scaling-stroke; fill: none; stroke: rgb(242, 215, 208); stroke-opacity: 1; stroke-width: 5px; opacity: 1;\"/></g><g class=\"points\"/><g class=\"text\"/></g><g class=\"trace scatter trace0ddfcc\" style=\"stroke-miterlimit: 2; opacity: 1;\"><g class=\"fills\"/><g class=\"errorbars\"/><g class=\"lines\"><path class=\"js-line\" d=\"M410.12,195L442.11,195\" style=\"vector-effect: non-scaling-stroke; fill: none; stroke: rgb(194, 54, 22); stroke-opacity: 1; stroke-width: 6px; opacity: 1;\"/></g><g class=\"points\"/><g class=\"text\"/></g><g class=\"trace scatter trace0b3955\" style=\"stroke-miterlimit: 2; opacity: 1;\"><g class=\"fills\"/><g class=\"errorbars\"/><g class=\"lines\"><path class=\"js-line\" d=\"M300,99.02L300,67.03\" style=\"vector-effect: non-scaling-stroke; fill: none; stroke: rgb(194, 54, 22); stroke-opacity: 1; stroke-width: 6px; opacity: 1;\"/></g><g class=\"points\"/><g class=\"text\"/></g></g></g><g class=\"overplot\"/><path class=\"xlines-above crisp\" d=\"M0,0\" style=\"fill: none;\"/><path class=\"ylines-above crisp\" d=\"M0,0\" style=\"fill: none;\"/><g class=\"overlines-above\"/><g class=\"xaxislayer-above\"/><g class=\"yaxislayer-above\"/><g class=\"overaxes-above\"/></g></g><g class=\"polarlayer\"/><g class=\"ternarylayer\"/><g class=\"geolayer\"/><g class=\"funnelarealayer\"/><g class=\"pielayer\"/><g class=\"iciclelayer\"/><g class=\"treemaplayer\"/><g class=\"sunburstlayer\"/><g class=\"glimages\"/><defs id=\"topdefs-4be9f7\"><g class=\"clips\"/></defs><g class=\"layer-above\"><g class=\"imagelayer\"/><g class=\"shapelayer\"/></g><g class=\"infolayer\"><g class=\"g-gtitle\"/><g class=\"g-xtitle\"/><g class=\"g-ytitle\"/><g class=\"annotation\" data-index=\"0\" style=\"opacity: 1;\"><g class=\"annotation-text-g\" transform=\"rotate(0,500.4,341.84)\"><g class=\"cursor-pointer\" transform=\"translate(497,331)\"><rect class=\"bg\" x=\"0.5\" y=\"0.5\" width=\"6\" height=\"20\" style=\"stroke-width: 1px; stroke: rgb(0, 0, 0); stroke-opacity: 0; fill: rgb(0, 0, 0); fill-opacity: 0;\"/><text class=\"annotation-text\" text-anchor=\"middle\" x=\"3.5625\" y=\"15\" style=\"font-family: 'Open Sans', verdana, arial, sans-serif; font-size: 12px; fill: rgb(42, 63, 95); fill-opacity: 1; white-space: pre;\"> </text></g></g><g class=\"annotation-arrow-g\" style=\"opacity: 1;\"><path d=\"M503.4,343.5710606060606L516.24,350.98\" style=\"stroke-width: 6px; stroke: rgb(39, 60, 117); stroke-opacity: 1; stroke-dasharray: 0px, 0px, 10.9242px, 14.8242px;\"/><path d=\"M-3.7,-2.5V2.5L1.3,0Z\" transform=\"translate(512.8619995117188,349.0308532714844)rotate(29.992124779489266)scale(3)\" style=\"fill: rgb(39, 60, 117); stroke-width: 0;\"/></g></g><g class=\"annotation\" data-index=\"1\" style=\"opacity: 1;\"><g class=\"annotation-text-g\" transform=\"rotate(0,350,81.33)\"><g class=\"cursor-pointer\" transform=\"translate(347,71)\"><rect class=\"bg\" x=\"0.5\" y=\"0.5\" width=\"6\" height=\"20\" style=\"stroke-width: 1px; stroke: rgb(0, 0, 0); stroke-opacity: 0; fill: rgb(0, 0, 0); fill-opacity: 0;\"/><text class=\"annotation-text\" text-anchor=\"middle\" x=\"3.5625\" y=\"15\" style=\"font-family: 'Open Sans', verdana, arial, sans-serif; font-size: 12px; fill: rgb(42, 63, 95); fill-opacity: 1; white-space: pre;\"> </text></g></g><g class=\"annotation-arrow-g\" style=\"opacity: 1;\"><path d=\"M350,71.33L350,63.05\" style=\"stroke-width: 6px; stroke: rgb(39, 60, 117); stroke-opacity: 1; stroke-dasharray: 0px, 0px, 4.38px, 8.28px;\"/><path d=\"M-3.7,-2.5V2.5L1.3,0Z\" transform=\"translate(350,66.94999694824219)rotate(-90)scale(3)\" style=\"fill: rgb(39, 60, 117); stroke-width: 0;\"/></g></g><g class=\"annotation\" data-index=\"2\" style=\"opacity: 1;\"><g class=\"annotation-text-g\" transform=\"rotate(0,482.97,255)\"><g class=\"cursor-pointer\" transform=\"translate(479,245)\"><rect class=\"bg\" x=\"0.5\" y=\"0.5\" width=\"6\" height=\"20\" style=\"stroke-width: 1px; stroke: rgb(0, 0, 0); stroke-opacity: 0; fill: rgb(0, 0, 0); fill-opacity: 0;\"/><text class=\"annotation-text\" text-anchor=\"middle\" x=\"3.5625\" y=\"15\" style=\"font-family: 'Open Sans', verdana, arial, sans-serif; font-size: 12px; fill: rgb(42, 63, 95); fill-opacity: 1; white-space: pre;\"> </text></g></g><g class=\"annotation-arrow-g\" style=\"opacity: 1;\"><path d=\"M485.97,255L501.25,255\" style=\"stroke-width: 6px; stroke: rgb(194, 54, 22); stroke-opacity: 1; stroke-dasharray: 0px, 0px, 11.38px, 15.28px;\"/><path d=\"M-3.7,-2.5V2.5L1.3,0Z\" transform=\"translate(497.3500061035156,255)scale(3)\" style=\"fill: rgb(194, 54, 22); stroke-width: 0;\"/></g></g><g class=\"annotation\" data-index=\"3\" style=\"opacity: 1;\"><g class=\"annotation-text-g\" transform=\"rotate(0,350,136.17000000000002)\"><g class=\"cursor-pointer\" transform=\"translate(347,126)\"><rect class=\"bg\" x=\"0.5\" y=\"0.5\" width=\"6\" height=\"20\" style=\"stroke-width: 1px; stroke: rgb(0, 0, 0); stroke-opacity: 0; fill: rgb(0, 0, 0); fill-opacity: 0;\"/><text class=\"annotation-text\" text-anchor=\"middle\" x=\"3.5625\" y=\"15\" style=\"font-family: 'Open Sans', verdana, arial, sans-serif; font-size: 12px; fill: rgb(42, 63, 95); fill-opacity: 1; white-space: pre;\"> </text></g></g><g class=\"annotation-arrow-g\" style=\"opacity: 1;\"><path d=\"M350,126.17000000000002L350,117.89\" style=\"stroke-width: 6px; stroke: rgb(194, 54, 22); stroke-opacity: 1; stroke-dasharray: 0px, 0px, 4.38px, 8.28px;\"/><path d=\"M-3.7,-2.5V2.5L1.3,0Z\" transform=\"translate(350,121.79000091552734)rotate(-90)scale(3)\" style=\"fill: rgb(194, 54, 22); stroke-width: 0;\"/></g></g></g></svg>"
      ],
      "text/html": [
       "<div\n",
       "    class=\"webio-mountpoint\"\n",
       "    data-webio-mountpoint=\"14514087684479001613\"\n",
       ">\n",
       "    <script>\n",
       "    (function(){\n",
       "    // Some integrations (namely, IJulia/Jupyter) use an alternate render pathway than\n",
       "    // just putting the html on the page. If WebIO isn't defined, then it's pretty likely\n",
       "    // that we're in one of those situations and the integration just isn't installed\n",
       "    // correctly.\n",
       "    if (typeof window.WebIO === \"undefined\") {\n",
       "        document\n",
       "            .querySelector('[data-webio-mountpoint=\"14514087684479001613\"]')\n",
       "            .innerHTML = (\n",
       "                '<div style=\"padding: 1em; background-color: #f8d6da; border: 1px solid #f5c6cb; font-weight: bold;\">' +\n",
       "                '<p><strong>WebIO not detected.</strong></p>' +\n",
       "                '<p>Please read ' +\n",
       "                '<a href=\"https://juliagizmos.github.io/WebIO.jl/latest/troubleshooting/not-detected/\" target=\"_blank\">the troubleshooting guide</a> ' +\n",
       "                'for more information on how to resolve this issue.</p>' +\n",
       "                '<p><a href=\"https://juliagizmos.github.io/WebIO.jl/latest/troubleshooting/not-detected/\" target=\"_blank\">https://juliagizmos.github.io/WebIO.jl/latest/troubleshooting/not-detected/</a></p>' +\n",
       "                '</div>'\n",
       "            );\n",
       "        return;\n",
       "    }\n",
       "    WebIO.mount(\n",
       "        document.querySelector('[data-webio-mountpoint=\"14514087684479001613\"]'),\n",
       "        {\"props\":{},\"nodeType\":\"Scope\",\"type\":\"node\",\"instanceArgs\":{\"imports\":{\"data\":[{\"name\":\"Plotly\",\"type\":\"js\",\"url\":\"\\/assetserver\\/b267c3137400db01c304fe886fe6f707be7fdb37-plotly.min.js\"},{\"name\":null,\"type\":\"js\",\"url\":\"\\/assetserver\\/020f2e8a4619f2ae880fff9315e6547eef1aff0b-plotly_webio.bundle.js\"}],\"type\":\"async_block\"},\"id\":\"11193464134640981628\",\"handlers\":{\"_toImage\":[\"(function (options){return this.Plotly.toImage(this.plotElem,options).then((function (data){return WebIO.setval({\\\"name\\\":\\\"image\\\",\\\"scope\\\":\\\"11193464134640981628\\\",\\\"id\\\":\\\"229683\\\",\\\"type\\\":\\\"observable\\\"},data)}))})\"],\"__get_gd_contents\":[\"(function (prop){prop==\\\"data\\\" ? (WebIO.setval({\\\"name\\\":\\\"__gd_contents\\\",\\\"scope\\\":\\\"11193464134640981628\\\",\\\"id\\\":\\\"229684\\\",\\\"type\\\":\\\"observable\\\"},this.plotElem.data)) : undefined; return prop==\\\"layout\\\" ? (WebIO.setval({\\\"name\\\":\\\"__gd_contents\\\",\\\"scope\\\":\\\"11193464134640981628\\\",\\\"id\\\":\\\"229684\\\",\\\"type\\\":\\\"observable\\\"},this.plotElem.layout)) : undefined})\"],\"_downloadImage\":[\"(function (options){return this.Plotly.downloadImage(this.plotElem,options)})\"],\"_commands\":[\"(function (args){var fn=args.shift(); var elem=this.plotElem; var Plotly=this.Plotly; args.unshift(elem); return Plotly[fn].apply(this,args)})\"]},\"systemjs_options\":null,\"mount_callbacks\":[\"function () {\\n    var handler = ((function (Plotly,PlotlyWebIO){PlotlyWebIO.init(WebIO); var gd=this.dom.querySelector(\\\"#plot-0eb2fec0-04d4-4d60-8f12-86efd5fba555\\\"); this.plotElem=gd; this.Plotly=Plotly; (window.Blink!==undefined) ? (gd.style.width=\\\"100%\\\", gd.style.height=\\\"100vh\\\", gd.style.marginLeft=\\\"0%\\\", gd.style.marginTop=\\\"0vh\\\") : undefined; window.onresize=(function (){return Plotly.Plots.resize(gd)}); Plotly.newPlot(gd,[{\\\"mode\\\":\\\"lines\\\",\\\"line\\\":{\\\"color\\\":\\\"rgb(47,54,64)\\\",\\\"width\\\":3},\\\"hovertext\\\":\\\"Cell\\\",\\\"y\\\":[0.0,-0.5773502691896258,-0.5773502691896258,0.0,0.5773502691896258,0.5773502691896258,0.0],\\\"type\\\":\\\"scatter\\\",\\\"hoverinfo\\\":\\\"text+x+y\\\",\\\"x\\\":[-0.6666666666666667,-0.33333333333333326,0.33333333333333337,0.6666666666666667,0.33333333333333326,-0.33333333333333326,-0.6666666666666667]},{\\\"mode\\\":\\\"lines\\\",\\\"line\\\":{\\\"color\\\":\\\"rgb(212,216,227)\\\",\\\"width\\\":5},\\\"hovertext\\\":\\\"<b>v<\\/b><sub>1<\\/sub>\\\",\\\"y\\\":[-0.0,-0.2742413778650723],\\\"type\\\":\\\"scatter\\\",\\\"hoverinfo\\\":\\\"text\\\",\\\"x\\\":[0.0,0.475]},{\\\"mode\\\":\\\"lines\\\",\\\"line\\\":{\\\"color\\\":\\\"rgb(212,216,227)\\\",\\\"width\\\":5},\\\"hovertext\\\":\\\"<b>v<\\/b><sub>2<\\/sub>\\\",\\\"y\\\":[0.0,0.5484827557301446],\\\"type\\\":\\\"scatter\\\",\\\"hoverinfo\\\":\\\"text\\\",\\\"x\\\":[-0.0,0.0]},{\\\"mode\\\":\\\"lines\\\",\\\"line\\\":{\\\"color\\\":\\\"rgb(39,60,117)\\\",\\\"width\\\":6},\\\"hovertext\\\":\\\"<b>v<\\/b><sub>1<\\/sub>\\\",\\\"y\\\":[-0.30310889132455354,-0.5773502691896258],\\\"type\\\":\\\"scatter\\\",\\\"hoverinfo\\\":\\\"text+x+y\\\",\\\"x\\\":[0.525,1.0]},{\\\"mode\\\":\\\"lines\\\",\\\"line\\\":{\\\"color\\\":\\\"rgb(39,60,117)\\\",\\\"width\\\":6},\\\"hovertext\\\":\\\"<b>v<\\/b><sub>2<\\/sub>\\\",\\\"y\\\":[0.6062177826491071,1.1547005383792517],\\\"type\\\":\\\"scatter\\\",\\\"hoverinfo\\\":\\\"text+x+y\\\",\\\"x\\\":[-0.0,0.0]},{\\\"mode\\\":\\\"lines\\\",\\\"line\\\":{\\\"color\\\":\\\"rgb(242,215,208)\\\",\\\"width\\\":5},\\\"hovertext\\\":\\\"<b>x<\\/b>\\\",\\\"y\\\":[0.0,0.0],\\\"type\\\":\\\"scatter\\\",\\\"hoverinfo\\\":\\\"text\\\",\\\"x\\\":[0.0,0.6377991532071855]},{\\\"mode\\\":\\\"lines\\\",\\\"line\\\":{\\\"color\\\":\\\"rgb(242,215,208)\\\",\\\"width\\\":5},\\\"hovertext\\\":\\\"<b>y<\\/b>\\\",\\\"y\\\":[0.0,0.5484827557301446],\\\"type\\\":\\\"scatter\\\",\\\"hoverinfo\\\":\\\"text\\\",\\\"x\\\":[0.0,0.0]},{\\\"mode\\\":\\\"lines\\\",\\\"line\\\":{\\\"color\\\":\\\"rgb(194,54,22)\\\",\\\"width\\\":6},\\\"hovertext\\\":\\\"<b>x<\\/b>\\\",\\\"y\\\":[0.0,0.0],\\\"type\\\":\\\"scatter\\\",\\\"hoverinfo\\\":\\\"text\\\",\\\"x\\\":[0.695534180126148,0.8976067743425171]},{\\\"mode\\\":\\\"lines\\\",\\\"line\\\":{\\\"color\\\":\\\"rgb(194,54,22)\\\",\\\"width\\\":6},\\\"hovertext\\\":\\\"<b>y<\\/b>\\\",\\\"y\\\":[0.6062177826491071,0.8082903768654762],\\\"type\\\":\\\"scatter\\\",\\\"hoverinfo\\\":\\\"text\\\",\\\"x\\\":[0.0,0.0]}],{\\\"showlegend\\\":false,\\\"xaxis\\\":{\\\"showgrid\\\":false,\\\"zeroline\\\":false,\\\"tickvals\\\":[],\\\"title\\\":{\\\"text\\\":\\\"\\\"},\\\"showbackground\\\":false,\\\"range\\\":[-1.0769800358919501,1.0769800358919501]},\\\"hovermode\\\":\\\"closest\\\",\\\"paper_bgcolor\\\":\\\"rgba(255, 255, 255, 1)\\\",\\\"template\\\":{\\\"layout\\\":{\\\"coloraxis\\\":{\\\"colorbar\\\":{\\\"ticks\\\":\\\"\\\",\\\"outlinewidth\\\":0}},\\\"xaxis\\\":{\\\"gridcolor\\\":\\\"white\\\",\\\"zerolinewidth\\\":2,\\\"title\\\":{\\\"standoff\\\":15},\\\"ticks\\\":\\\"\\\",\\\"zerolinecolor\\\":\\\"white\\\",\\\"automargin\\\":true,\\\"linecolor\\\":\\\"white\\\"},\\\"hovermode\\\":\\\"closest\\\",\\\"paper_bgcolor\\\":\\\"white\\\",\\\"geo\\\":{\\\"showlakes\\\":true,\\\"showland\\\":true,\\\"landcolor\\\":\\\"#E5ECF6\\\",\\\"bgcolor\\\":\\\"white\\\",\\\"subunitcolor\\\":\\\"white\\\",\\\"lakecolor\\\":\\\"white\\\"},\\\"colorscale\\\":{\\\"sequential\\\":[[0.0,\\\"#0d0887\\\"],[0.1111111111111111,\\\"#46039f\\\"],[0.2222222222222222,\\\"#7201a8\\\"],[0.3333333333333333,\\\"#9c179e\\\"],[0.4444444444444444,\\\"#bd3786\\\"],[0.5555555555555556,\\\"#d8576b\\\"],[0.6666666666666666,\\\"#ed7953\\\"],[0.7777777777777778,\\\"#fb9f3a\\\"],[0.8888888888888888,\\\"#fdca26\\\"],[1.0,\\\"#f0f921\\\"]],\\\"diverging\\\":[[0,\\\"#8e0152\\\"],[0.1,\\\"#c51b7d\\\"],[0.2,\\\"#de77ae\\\"],[0.3,\\\"#f1b6da\\\"],[0.4,\\\"#fde0ef\\\"],[0.5,\\\"#f7f7f7\\\"],[0.6,\\\"#e6f5d0\\\"],[0.7,\\\"#b8e186\\\"],[0.8,\\\"#7fbc41\\\"],[0.9,\\\"#4d9221\\\"],[1,\\\"#276419\\\"]],\\\"sequentialminus\\\":[[0.0,\\\"#0d0887\\\"],[0.1111111111111111,\\\"#46039f\\\"],[0.2222222222222222,\\\"#7201a8\\\"],[0.3333333333333333,\\\"#9c179e\\\"],[0.4444444444444444,\\\"#bd3786\\\"],[0.5555555555555556,\\\"#d8576b\\\"],[0.6666666666666666,\\\"#ed7953\\\"],[0.7777777777777778,\\\"#fb9f3a\\\"],[0.8888888888888888,\\\"#fdca26\\\"],[1.0,\\\"#f0f921\\\"]]},\\\"yaxis\\\":{\\\"gridcolor\\\":\\\"white\\\",\\\"zerolinewidth\\\":2,\\\"title\\\":{\\\"standoff\\\":15},\\\"ticks\\\":\\\"\\\",\\\"zerolinecolor\\\":\\\"white\\\",\\\"automargin\\\":true,\\\"linecolor\\\":\\\"white\\\"},\\\"shapedefaults\\\":{\\\"line\\\":{\\\"color\\\":\\\"#2a3f5f\\\"}},\\\"hoverlabel\\\":{\\\"align\\\":\\\"left\\\"},\\\"mapbox\\\":{\\\"style\\\":\\\"light\\\"},\\\"polar\\\":{\\\"angularaxis\\\":{\\\"gridcolor\\\":\\\"white\\\",\\\"ticks\\\":\\\"\\\",\\\"linecolor\\\":\\\"white\\\"},\\\"bgcolor\\\":\\\"#E5ECF6\\\",\\\"radialaxis\\\":{\\\"gridcolor\\\":\\\"white\\\",\\\"ticks\\\":\\\"\\\",\\\"linecolor\\\":\\\"white\\\"}},\\\"autotypenumbers\\\":\\\"strict\\\",\\\"font\\\":{\\\"color\\\":\\\"#2a3f5f\\\"},\\\"ternary\\\":{\\\"baxis\\\":{\\\"gridcolor\\\":\\\"white\\\",\\\"ticks\\\":\\\"\\\",\\\"linecolor\\\":\\\"white\\\"},\\\"bgcolor\\\":\\\"#E5ECF6\\\",\\\"caxis\\\":{\\\"gridcolor\\\":\\\"white\\\",\\\"ticks\\\":\\\"\\\",\\\"linecolor\\\":\\\"white\\\"},\\\"aaxis\\\":{\\\"gridcolor\\\":\\\"white\\\",\\\"ticks\\\":\\\"\\\",\\\"linecolor\\\":\\\"white\\\"}},\\\"annotationdefaults\\\":{\\\"arrowhead\\\":0,\\\"arrowwidth\\\":1,\\\"arrowcolor\\\":\\\"#2a3f5f\\\"},\\\"plot_bgcolor\\\":\\\"#E5ECF6\\\",\\\"title\\\":{\\\"x\\\":0.05},\\\"scene\\\":{\\\"xaxis\\\":{\\\"gridcolor\\\":\\\"white\\\",\\\"gridwidth\\\":2,\\\"backgroundcolor\\\":\\\"#E5ECF6\\\",\\\"ticks\\\":\\\"\\\",\\\"showbackground\\\":true,\\\"zerolinecolor\\\":\\\"white\\\",\\\"linecolor\\\":\\\"white\\\"},\\\"zaxis\\\":{\\\"gridcolor\\\":\\\"white\\\",\\\"gridwidth\\\":2,\\\"backgroundcolor\\\":\\\"#E5ECF6\\\",\\\"ticks\\\":\\\"\\\",\\\"showbackground\\\":true,\\\"zerolinecolor\\\":\\\"white\\\",\\\"linecolor\\\":\\\"white\\\"},\\\"yaxis\\\":{\\\"gridcolor\\\":\\\"white\\\",\\\"gridwidth\\\":2,\\\"backgroundcolor\\\":\\\"#E5ECF6\\\",\\\"ticks\\\":\\\"\\\",\\\"showbackground\\\":true,\\\"zerolinecolor\\\":\\\"white\\\",\\\"linecolor\\\":\\\"white\\\"}},\\\"colorway\\\":[\\\"#636efa\\\",\\\"#EF553B\\\",\\\"#00cc96\\\",\\\"#ab63fa\\\",\\\"#FFA15A\\\",\\\"#19d3f3\\\",\\\"#FF6692\\\",\\\"#B6E880\\\",\\\"#FF97FF\\\",\\\"#FECB52\\\"]},\\\"data\\\":{\\\"barpolar\\\":[{\\\"type\\\":\\\"barpolar\\\",\\\"marker\\\":{\\\"line\\\":{\\\"color\\\":\\\"#E5ECF6\\\",\\\"width\\\":0.5}}}],\\\"carpet\\\":[{\\\"aaxis\\\":{\\\"gridcolor\\\":\\\"white\\\",\\\"endlinecolor\\\":\\\"#2a3f5f\\\",\\\"minorgridcolor\\\":\\\"white\\\",\\\"startlinecolor\\\":\\\"#2a3f5f\\\",\\\"linecolor\\\":\\\"white\\\"},\\\"type\\\":\\\"carpet\\\",\\\"baxis\\\":{\\\"gridcolor\\\":\\\"white\\\",\\\"endlinecolor\\\":\\\"#2a3f5f\\\",\\\"minorgridcolor\\\":\\\"white\\\",\\\"startlinecolor\\\":\\\"#2a3f5f\\\",\\\"linecolor\\\":\\\"white\\\"}}],\\\"scatterpolar\\\":[{\\\"type\\\":\\\"scatterpolar\\\",\\\"marker\\\":{\\\"colorbar\\\":{\\\"ticks\\\":\\\"\\\",\\\"outlinewidth\\\":0}}}],\\\"parcoords\\\":[{\\\"line\\\":{\\\"colorbar\\\":{\\\"ticks\\\":\\\"\\\",\\\"outlinewidth\\\":0}},\\\"type\\\":\\\"parcoords\\\"}],\\\"scatter\\\":[{\\\"type\\\":\\\"scatter\\\",\\\"marker\\\":{\\\"colorbar\\\":{\\\"ticks\\\":\\\"\\\",\\\"outlinewidth\\\":0}}}],\\\"histogram2dcontour\\\":[{\\\"colorbar\\\":{\\\"ticks\\\":\\\"\\\",\\\"outlinewidth\\\":0},\\\"type\\\":\\\"histogram2dcontour\\\",\\\"colorscale\\\":[[0.0,\\\"#0d0887\\\"],[0.1111111111111111,\\\"#46039f\\\"],[0.2222222222222222,\\\"#7201a8\\\"],[0.3333333333333333,\\\"#9c179e\\\"],[0.4444444444444444,\\\"#bd3786\\\"],[0.5555555555555556,\\\"#d8576b\\\"],[0.6666666666666666,\\\"#ed7953\\\"],[0.7777777777777778,\\\"#fb9f3a\\\"],[0.8888888888888888,\\\"#fdca26\\\"],[1.0,\\\"#f0f921\\\"]]}],\\\"contour\\\":[{\\\"colorbar\\\":{\\\"ticks\\\":\\\"\\\",\\\"outlinewidth\\\":0},\\\"type\\\":\\\"contour\\\",\\\"colorscale\\\":[[0.0,\\\"#0d0887\\\"],[0.1111111111111111,\\\"#46039f\\\"],[0.2222222222222222,\\\"#7201a8\\\"],[0.3333333333333333,\\\"#9c179e\\\"],[0.4444444444444444,\\\"#bd3786\\\"],[0.5555555555555556,\\\"#d8576b\\\"],[0.6666666666666666,\\\"#ed7953\\\"],[0.7777777777777778,\\\"#fb9f3a\\\"],[0.8888888888888888,\\\"#fdca26\\\"],[1.0,\\\"#f0f921\\\"]]}],\\\"scattercarpet\\\":[{\\\"type\\\":\\\"scattercarpet\\\",\\\"marker\\\":{\\\"colorbar\\\":{\\\"ticks\\\":\\\"\\\",\\\"outlinewidth\\\":0}}}],\\\"mesh3d\\\":[{\\\"colorbar\\\":{\\\"ticks\\\":\\\"\\\",\\\"outlinewidth\\\":0},\\\"type\\\":\\\"mesh3d\\\"}],\\\"surface\\\":[{\\\"colorbar\\\":{\\\"ticks\\\":\\\"\\\",\\\"outlinewidth\\\":0},\\\"type\\\":\\\"surface\\\",\\\"colorscale\\\":[[0.0,\\\"#0d0887\\\"],[0.1111111111111111,\\\"#46039f\\\"],[0.2222222222222222,\\\"#7201a8\\\"],[0.3333333333333333,\\\"#9c179e\\\"],[0.4444444444444444,\\\"#bd3786\\\"],[0.5555555555555556,\\\"#d8576b\\\"],[0.6666666666666666,\\\"#ed7953\\\"],[0.7777777777777778,\\\"#fb9f3a\\\"],[0.8888888888888888,\\\"#fdca26\\\"],[1.0,\\\"#f0f921\\\"]]}],\\\"scattermapbox\\\":[{\\\"type\\\":\\\"scattermapbox\\\",\\\"marker\\\":{\\\"colorbar\\\":{\\\"ticks\\\":\\\"\\\",\\\"outlinewidth\\\":0}}}],\\\"scattergeo\\\":[{\\\"type\\\":\\\"scattergeo\\\",\\\"marker\\\":{\\\"colorbar\\\":{\\\"ticks\\\":\\\"\\\",\\\"outlinewidth\\\":0}}}],\\\"histogram\\\":[{\\\"type\\\":\\\"histogram\\\",\\\"marker\\\":{\\\"colorbar\\\":{\\\"ticks\\\":\\\"\\\",\\\"outlinewidth\\\":0}}}],\\\"pie\\\":[{\\\"type\\\":\\\"pie\\\",\\\"automargin\\\":true}],\\\"choropleth\\\":[{\\\"colorbar\\\":{\\\"ticks\\\":\\\"\\\",\\\"outlinewidth\\\":0},\\\"type\\\":\\\"choropleth\\\"}],\\\"heatmapgl\\\":[{\\\"colorbar\\\":{\\\"ticks\\\":\\\"\\\",\\\"outlinewidth\\\":0},\\\"type\\\":\\\"heatmapgl\\\",\\\"colorscale\\\":[[0.0,\\\"#0d0887\\\"],[0.1111111111111111,\\\"#46039f\\\"],[0.2222222222222222,\\\"#7201a8\\\"],[0.3333333333333333,\\\"#9c179e\\\"],[0.4444444444444444,\\\"#bd3786\\\"],[0.5555555555555556,\\\"#d8576b\\\"],[0.6666666666666666,\\\"#ed7953\\\"],[0.7777777777777778,\\\"#fb9f3a\\\"],[0.8888888888888888,\\\"#fdca26\\\"],[1.0,\\\"#f0f921\\\"]]}],\\\"bar\\\":[{\\\"type\\\":\\\"bar\\\",\\\"error_y\\\":{\\\"color\\\":\\\"#2a3f5f\\\"},\\\"error_x\\\":{\\\"color\\\":\\\"#2a3f5f\\\"},\\\"marker\\\":{\\\"line\\\":{\\\"color\\\":\\\"#E5ECF6\\\",\\\"width\\\":0.5}}}],\\\"heatmap\\\":[{\\\"colorbar\\\":{\\\"ticks\\\":\\\"\\\",\\\"outlinewidth\\\":0},\\\"type\\\":\\\"heatmap\\\",\\\"colorscale\\\":[[0.0,\\\"#0d0887\\\"],[0.1111111111111111,\\\"#46039f\\\"],[0.2222222222222222,\\\"#7201a8\\\"],[0.3333333333333333,\\\"#9c179e\\\"],[0.4444444444444444,\\\"#bd3786\\\"],[0.5555555555555556,\\\"#d8576b\\\"],[0.6666666666666666,\\\"#ed7953\\\"],[0.7777777777777778,\\\"#fb9f3a\\\"],[0.8888888888888888,\\\"#fdca26\\\"],[1.0,\\\"#f0f921\\\"]]}],\\\"contourcarpet\\\":[{\\\"colorbar\\\":{\\\"ticks\\\":\\\"\\\",\\\"outlinewidth\\\":0},\\\"type\\\":\\\"contourcarpet\\\"}],\\\"table\\\":[{\\\"type\\\":\\\"table\\\",\\\"header\\\":{\\\"line\\\":{\\\"color\\\":\\\"white\\\"},\\\"fill\\\":{\\\"color\\\":\\\"#C8D4E3\\\"}},\\\"cells\\\":{\\\"line\\\":{\\\"color\\\":\\\"white\\\"},\\\"fill\\\":{\\\"color\\\":\\\"#EBF0F8\\\"}}}],\\\"scatter3d\\\":[{\\\"line\\\":{\\\"colorbar\\\":{\\\"ticks\\\":\\\"\\\",\\\"outlinewidth\\\":0}},\\\"type\\\":\\\"scatter3d\\\",\\\"marker\\\":{\\\"colorbar\\\":{\\\"ticks\\\":\\\"\\\",\\\"outlinewidth\\\":0}}}],\\\"scattergl\\\":[{\\\"type\\\":\\\"scattergl\\\",\\\"marker\\\":{\\\"colorbar\\\":{\\\"ticks\\\":\\\"\\\",\\\"outlinewidth\\\":0}}}],\\\"histogram2d\\\":[{\\\"colorbar\\\":{\\\"ticks\\\":\\\"\\\",\\\"outlinewidth\\\":0},\\\"type\\\":\\\"histogram2d\\\",\\\"colorscale\\\":[[0.0,\\\"#0d0887\\\"],[0.1111111111111111,\\\"#46039f\\\"],[0.2222222222222222,\\\"#7201a8\\\"],[0.3333333333333333,\\\"#9c179e\\\"],[0.4444444444444444,\\\"#bd3786\\\"],[0.5555555555555556,\\\"#d8576b\\\"],[0.6666666666666666,\\\"#ed7953\\\"],[0.7777777777777778,\\\"#fb9f3a\\\"],[0.8888888888888888,\\\"#fdca26\\\"],[1.0,\\\"#f0f921\\\"]]}],\\\"scatterternary\\\":[{\\\"type\\\":\\\"scatterternary\\\",\\\"marker\\\":{\\\"colorbar\\\":{\\\"ticks\\\":\\\"\\\",\\\"outlinewidth\\\":0}}}],\\\"scatterpolargl\\\":[{\\\"type\\\":\\\"scatterpolargl\\\",\\\"marker\\\":{\\\"colorbar\\\":{\\\"ticks\\\":\\\"\\\",\\\"outlinewidth\\\":0}}}]}},\\\"yaxis\\\":{\\\"showgrid\\\":false,\\\"zeroline\\\":false,\\\"tickvals\\\":[],\\\"scaleanchor\\\":\\\"x\\\",\\\"scaleratio\\\":1,\\\"title\\\":{\\\"text\\\":\\\"\\\"},\\\"showbackground\\\":false,\\\"range\\\":[-1.2316805742712018,1.2316805742712018]},\\\"autosize\\\":false,\\\"annotations\\\":[{\\\"arrowcolor\\\":\\\"rgb(39,60,117)\\\",\\\"showarrow\\\":true,\\\"yref\\\":\\\"ay\\\",\\\"arrowsize\\\":0.5,\\\"arrowhead\\\":2,\\\"axref\\\":\\\"x\\\",\\\"y\\\":-0.6062177826491071,\\\"ax\\\":0.95,\\\"ay\\\":-0.5484827557301446,\\\"ayref\\\":\\\"y\\\",\\\"arrowwidth\\\":6,\\\"xref\\\":\\\"ax\\\",\\\"x\\\":1.05},{\\\"arrowcolor\\\":\\\"rgb(39,60,117)\\\",\\\"showarrow\\\":true,\\\"yref\\\":\\\"ay\\\",\\\"arrowsize\\\":0.5,\\\"arrowhead\\\":2,\\\"axref\\\":\\\"x\\\",\\\"y\\\":1.2124355652982142,\\\"ax\\\":0.0,\\\"ay\\\":1.0969655114602892,\\\"ayref\\\":\\\"y\\\",\\\"arrowwidth\\\":6,\\\"xref\\\":\\\"ax\\\",\\\"x\\\":-0.0},{\\\"arrowcolor\\\":\\\"rgb(194,54,22)\\\",\\\"showarrow\\\":true,\\\"yref\\\":\\\"ay\\\",\\\"arrowsize\\\":0.5,\\\"arrowhead\\\":2,\\\"axref\\\":\\\"x\\\",\\\"y\\\":0.0,\\\"ax\\\":0.8398717474235545,\\\"ay\\\":0.0,\\\"ayref\\\":\\\"y\\\",\\\"arrowwidth\\\":6,\\\"xref\\\":\\\"ax\\\",\\\"x\\\":0.9553418012614797},{\\\"arrowcolor\\\":\\\"rgb(194,54,22)\\\",\\\"showarrow\\\":true,\\\"yref\\\":\\\"ay\\\",\\\"arrowsize\\\":0.5,\\\"arrowhead\\\":2,\\\"axref\\\":\\\"x\\\",\\\"y\\\":0.8660254037844388,\\\"ax\\\":0.0,\\\"ay\\\":0.7505553499465136,\\\"ayref\\\":\\\"y\\\",\\\"arrowwidth\\\":6,\\\"xref\\\":\\\"ax\\\",\\\"x\\\":0.0}],\\\"plot_bgcolor\\\":\\\"rgba(255, 255, 255, 1)\\\",\\\"margin\\\":{\\\"l\\\":50,\\\"b\\\":50,\\\"r\\\":50,\\\"t\\\":60},\\\"aspectmode\\\":\\\"data\\\"},{\\\"displaylogo\\\":false,\\\"showLink\\\":false,\\\"editable\\\":false,\\\"responsive\\\":true,\\\"staticPlot\\\":false,\\\"scrollZoom\\\":true}); gd.on(\\\"plotly_hover\\\",(function (data){var filtered_data=WebIO.PlotlyCommands.filterEventData(gd,data,\\\"hover\\\"); return !(filtered_data.isnil) ? (WebIO.setval({\\\"name\\\":\\\"hover\\\",\\\"scope\\\":\\\"11193464134640981628\\\",\\\"id\\\":\\\"229679\\\",\\\"type\\\":\\\"observable\\\"},filtered_data.out)) : undefined})); gd.on(\\\"plotly_unhover\\\",(function (){return WebIO.setval({\\\"name\\\":\\\"hover\\\",\\\"scope\\\":\\\"11193464134640981628\\\",\\\"id\\\":\\\"229679\\\",\\\"type\\\":\\\"observable\\\"},{})})); gd.on(\\\"plotly_selected\\\",(function (data){var filtered_data=WebIO.PlotlyCommands.filterEventData(gd,data,\\\"selected\\\"); return !(filtered_data.isnil) ? (WebIO.setval({\\\"name\\\":\\\"selected\\\",\\\"scope\\\":\\\"11193464134640981628\\\",\\\"id\\\":\\\"229680\\\",\\\"type\\\":\\\"observable\\\"},filtered_data.out)) : undefined})); gd.on(\\\"plotly_deselect\\\",(function (){return WebIO.setval({\\\"name\\\":\\\"selected\\\",\\\"scope\\\":\\\"11193464134640981628\\\",\\\"id\\\":\\\"229680\\\",\\\"type\\\":\\\"observable\\\"},{})})); gd.on(\\\"plotly_relayout\\\",(function (data){var filtered_data=WebIO.PlotlyCommands.filterEventData(gd,data,\\\"relayout\\\"); return !(filtered_data.isnil) ? (WebIO.setval({\\\"name\\\":\\\"relayout\\\",\\\"scope\\\":\\\"11193464134640981628\\\",\\\"id\\\":\\\"229682\\\",\\\"type\\\":\\\"observable\\\"},filtered_data.out)) : undefined})); return gd.on(\\\"plotly_click\\\",(function (data){var filtered_data=WebIO.PlotlyCommands.filterEventData(gd,data,\\\"click\\\"); return !(filtered_data.isnil) ? (WebIO.setval({\\\"name\\\":\\\"click\\\",\\\"scope\\\":\\\"11193464134640981628\\\",\\\"id\\\":\\\"229681\\\",\\\"type\\\":\\\"observable\\\"},filtered_data.out)) : undefined}))}));\\n    (WebIO.importBlock({\\\"data\\\":[{\\\"name\\\":\\\"Plotly\\\",\\\"type\\\":\\\"js\\\",\\\"url\\\":\\\"\\/assetserver\\/b267c3137400db01c304fe886fe6f707be7fdb37-plotly.min.js\\\"},{\\\"name\\\":null,\\\"type\\\":\\\"js\\\",\\\"url\\\":\\\"\\/assetserver\\/020f2e8a4619f2ae880fff9315e6547eef1aff0b-plotly_webio.bundle.js\\\"}],\\\"type\\\":\\\"async_block\\\"})).then((imports) => handler.apply(this, imports));\\n}\\n\"],\"observables\":{\"_toImage\":{\"sync\":false,\"id\":\"229686\",\"value\":{}},\"hover\":{\"sync\":false,\"id\":\"229679\",\"value\":{}},\"selected\":{\"sync\":false,\"id\":\"229680\",\"value\":{}},\"__gd_contents\":{\"sync\":false,\"id\":\"229684\",\"value\":{}},\"click\":{\"sync\":false,\"id\":\"229681\",\"value\":{}},\"image\":{\"sync\":true,\"id\":\"229683\",\"value\":\"\"},\"__get_gd_contents\":{\"sync\":false,\"id\":\"229688\",\"value\":\"\"},\"_downloadImage\":{\"sync\":false,\"id\":\"229687\",\"value\":{}},\"relayout\":{\"sync\":false,\"id\":\"229682\",\"value\":{}},\"_commands\":{\"sync\":false,\"id\":\"229685\",\"value\":[]}}},\"children\":[{\"props\":{\"id\":\"plot-0eb2fec0-04d4-4d60-8f12-86efd5fba555\"},\"nodeType\":\"DOM\",\"type\":\"node\",\"instanceArgs\":{\"namespace\":\"html\",\"tag\":\"div\"},\"children\":[]}]},\n",
       "        window,\n",
       "    );\n",
       "    })()\n",
       "    </script>\n",
       "</div>\n"
      ],
      "text/plain": [
       "data: [\n",
       "  \"scatter with fields hoverinfo, hovertext, line, mode, type, x, and y\",\n",
       "  \"scatter with fields hoverinfo, hovertext, line, mode, type, x, and y\",\n",
       "  \"scatter with fields hoverinfo, hovertext, line, mode, type, x, and y\",\n",
       "  \"scatter with fields hoverinfo, hovertext, line, mode, type, x, and y\",\n",
       "  \"scatter with fields hoverinfo, hovertext, line, mode, type, x, and y\",\n",
       "  \"scatter with fields hoverinfo, hovertext, line, mode, type, x, and y\",\n",
       "  \"scatter with fields hoverinfo, hovertext, line, mode, type, x, and y\",\n",
       "  \"scatter with fields hoverinfo, hovertext, line, mode, type, x, and y\",\n",
       "  \"scatter with fields hoverinfo, hovertext, line, mode, type, x, and y\"\n",
       "]\n",
       "\n",
       "layout: \"layout with fields annotations, aspectmode, autosize, hovermode, margin, paper_bgcolor, plot_bgcolor, showlegend, template, xaxis, and yaxis\"\n",
       "\n"
      ]
     },
     "metadata": {},
     "output_type": "display_data"
    }
   ],
   "source": [
    "let \n",
    "    print(\"--- Plotting the Wigner-Seitz cell in reciprocal space. \\n\")\n",
    "    print(\"\\n\")\n",
    "\n",
    "    Bs = [recip_basis[i, :] for i ∈ 1 : size(recip_basis, 1)]\n",
    "    recip_wignerseitz = wignerseitz(Bs)\n",
    "\n",
    "    vertices = recip_wignerseitz.verts\n",
    "    print(\"--- Vertices of the reciprocal Wigner-Seitz cell (in reduced coordinates): \\n\")\n",
    "    for v ∈ vertices\n",
    "        @printf(\"%10f %10f \\n\", v[1], v[2])\n",
    "    end\n",
    "\n",
    "\n",
    "    cvecs = make_cartesian(vertices, Bs)\n",
    "\n",
    "    print(\"\\n\")\n",
    "    print(\"--- Vertices of the reciprocal Wigner-Seitz cell (in cartesian coordinates): \\n\")\n",
    "    for v ∈ cvecs\n",
    "        @printf(\"%10f %10f \\n\", v[1], v[2])\n",
    "    end\n",
    "\n",
    "\n",
    "    pbzb = PlotlyJS.plot(recip_wignerseitz)\n",
    "    PlotlyJS.savefig(pbzb, assets_dir * \"recip_pbzb.png\")\n",
    "    display(pbzb)\n",
    "end"
   ]
  },
  {
   "cell_type": "code",
   "execution_count": 181,
   "metadata": {},
   "outputs": [
    {
     "name": "stderr",
     "output_type": "stream",
     "text": [
      "WARNING: redefinition of constant Main.high_symmetry_points. This may fail, cause incorrect answers, or produce other errors.\n"
     ]
    },
    {
     "data": {
      "text/plain": [
       "Dict{String, Vector{Float64}} with 3 entries:\n",
       "  \"M\" => [3.14159, 1.8138]\n",
       "  \"Γ\" => [0.0, 0.0]\n",
       "  \"K\" => [4.18879, 0.0]"
      ]
     },
     "metadata": {},
     "output_type": "display_data"
    }
   ],
   "source": [
    "# Now, the K-Points \n",
    "global const high_symmetry_points = Dict{String, Vector{Float64}}(\n",
    "    \"K\"=> 2.0 * pi * [0.6666667, 0.0], \n",
    "    \"M\"=> 2.0 * pi * ([0.3333333, 0.577350] + [0.666666667, 0.0]) / 2.0,\n",
    "    \"Γ\"=> [0.0, 0.0] \n",
    ")"
   ]
  },
  {
   "cell_type": "code",
   "execution_count": 182,
   "metadata": {},
   "outputs": [
    {
     "name": "stderr",
     "output_type": "stream",
     "text": [
      "WARNING: redefinition of constant Main.kpath_nodes. This may fail, cause incorrect answers, or produce other errors.\n"
     ]
    }
   ],
   "source": [
    "global const kpath_nodes::Vector{Vector{Float64}} = [high_symmetry_points[\"Γ\"], \n",
    "                    high_symmetry_points[\"K\"], \n",
    "                    high_symmetry_points[\"M\"], \n",
    "                    high_symmetry_points[\"Γ\"]];\n"
   ]
  },
  {
   "cell_type": "code",
   "execution_count": 183,
   "metadata": {},
   "outputs": [
    {
     "name": "stderr",
     "output_type": "stream",
     "text": [
      "WARNING: redefinition of constant Main.C_6. This may fail, cause incorrect answers, or produce other errors.\n",
      "WARNING: redefinition of constant Main.corners. This may fail, cause incorrect answers, or produce other errors.\n"
     ]
    },
    {
     "data": {
      "text/plain": [
       "6-element Vector{Vector{Float64}}:\n",
       " [4.188790414225901, 0.0]\n",
       " [2.094395207112951, -3.6275989098483716]\n",
       " [-2.09439520711295, -3.6275989098483725]\n",
       " [-4.188790414225901, -1.3322676295501878e-15]\n",
       " [-2.094395207112952, 3.6275989098483707]\n",
       " [2.0943952071129486, 3.6275989098483734]"
      ]
     },
     "metadata": {},
     "output_type": "display_data"
    }
   ],
   "source": [
    "# Using the cartesian point \"K\", apply C_6 symmetry repeatedly to generate the FBZ again\n",
    "global const C_6::Matrix{Float64} = [cos(pi/3) sin(pi/3); -sin(pi/3) cos(pi/3)]\n",
    "\n",
    "# Apply matrix n number of times \n",
    "function apply(m, v, n)\n",
    "    res = v\n",
    "    for i ∈ 1 : n\n",
    "        res = m * res\n",
    "    end\n",
    "    return res\n",
    "end\n",
    "\n",
    "function make_fbz_corners()\n",
    "    corners = Vector{Vector{Float64}}(undef, 6)\n",
    "    K = high_symmetry_points[\"K\"]\n",
    "    for n ∈ 0 : 5\n",
    "        corners[n + 1] = apply(C_6, K, n)\n",
    "    end\n",
    "    return corners\n",
    "end \n",
    "global const corners::Vector{Vector{Float64}} = make_fbz_corners();\n"
   ]
  },
  {
   "cell_type": "code",
   "execution_count": 184,
   "metadata": {},
   "outputs": [
    {
     "data": {
      "text/plain": [
       "plot_kpath_fbz (generic function with 1 method)"
      ]
     },
     "metadata": {},
     "output_type": "display_data"
    }
   ],
   "source": [
    "function plot_kpath_fbz(verts, kpath)\n",
    "    \"\"\" \n",
    "    Plots the kpath together with the FBZ \n",
    "    \"\"\"\n",
    "    push!(verts, verts[1])\n",
    "\n",
    "    # first vertices \n",
    "    verts_x = map(v -> v[1], verts)\n",
    "    verts_y = map(v -> v[2], verts)\n",
    "\n",
    "    path_x = map(v -> v[1], kpath)\n",
    "    path_y = map(v -> v[2], kpath)\n",
    "\n",
    "    # this will just draw the points at the specified coordinates. Need to construct layout object \n",
    "    corners_l = PlotlyJS.scatter(x = verts_x, y = verts_y, mode = \"lines\", opacity = 0.4, line = attr(color = \"darkblue\", width = 3))\n",
    "    path_l    = PlotlyJS.scatter(x = path_x, y = path_y, mode = \"lines\", line = attr(color = \"darkgreen\", width = 4))\n",
    "\n",
    "    lo = Layout(title = \"Path in the FBZ\",\n",
    "                xaxis_showgrid = false,\n",
    "                yaxis_showgrid = false,\n",
    "                plot_bgcolor=\"rgba(0,0,0,0)\",\n",
    "                xaxis = attr(showline = false, showgrid = false, zeroline = false, showticklabels = false, scaleanchor = \"y\"),\n",
    "                yaxis = attr(showline = false, showgrid = false, zeroline = false, showticklabels = false, scaleanchor = \"x\"),\n",
    "                width = 510, \n",
    "                height = 510,\n",
    "                showlegend = false)\n",
    "    PlotlyJS.plot([corners_l, path_l], lo)\n",
    "    \n",
    "end"
   ]
  },
  {
   "cell_type": "code",
   "execution_count": 185,
   "metadata": {},
   "outputs": [
    {
     "data": {
      "application/vnd.plotly.v1+json": {
       "config": {
        "editable": false,
        "responsive": true,
        "scrollZoom": true,
        "showLink": false,
        "staticPlot": false
       },
       "data": [
        {
         "line": {
          "color": "darkblue",
          "width": 3
         },
         "mode": "lines",
         "opacity": 0.4,
         "type": "scatter",
         "x": [
          4.188790414225901,
          2.094395207112951,
          -2.09439520711295,
          -4.188790414225901,
          -2.094395207112952,
          2.0943952071129486,
          4.188790414225901
         ],
         "y": [
          0,
          -3.6275989098483716,
          -3.6275989098483725,
          -1.3322676295501878e-15,
          3.6275989098483707,
          3.6275989098483734,
          0
         ]
        },
        {
         "line": {
          "color": "darkgreen",
          "width": 4
         },
         "mode": "lines",
         "type": "scatter",
         "x": [
          0,
          4.188790414225901,
          3.1415925499172355,
          0
         ],
         "y": [
          0,
          0,
          1.8137985185500671,
          0
         ]
        }
       ],
       "frames": [],
       "layout": {
        "height": 510,
        "margin": {
         "b": 50,
         "l": 50,
         "r": 50,
         "t": 60
        },
        "plot_bgcolor": "rgba(0,0,0,0)",
        "showlegend": false,
        "template": {
         "data": {
          "bar": [
           {
            "error_x": {
             "color": "#2a3f5f"
            },
            "error_y": {
             "color": "#2a3f5f"
            },
            "marker": {
             "line": {
              "color": "#E5ECF6",
              "width": 0.5
             }
            },
            "type": "bar"
           }
          ],
          "barpolar": [
           {
            "marker": {
             "line": {
              "color": "#E5ECF6",
              "width": 0.5
             }
            },
            "type": "barpolar"
           }
          ],
          "carpet": [
           {
            "aaxis": {
             "endlinecolor": "#2a3f5f",
             "gridcolor": "white",
             "linecolor": "white",
             "minorgridcolor": "white",
             "startlinecolor": "#2a3f5f"
            },
            "baxis": {
             "endlinecolor": "#2a3f5f",
             "gridcolor": "white",
             "linecolor": "white",
             "minorgridcolor": "white",
             "startlinecolor": "#2a3f5f"
            },
            "type": "carpet"
           }
          ],
          "choropleth": [
           {
            "colorbar": {
             "outlinewidth": 0,
             "ticks": ""
            },
            "type": "choropleth"
           }
          ],
          "contour": [
           {
            "colorbar": {
             "outlinewidth": 0,
             "ticks": ""
            },
            "colorscale": [
             [
              0,
              "#0d0887"
             ],
             [
              0.1111111111111111,
              "#46039f"
             ],
             [
              0.2222222222222222,
              "#7201a8"
             ],
             [
              0.3333333333333333,
              "#9c179e"
             ],
             [
              0.4444444444444444,
              "#bd3786"
             ],
             [
              0.5555555555555556,
              "#d8576b"
             ],
             [
              0.6666666666666666,
              "#ed7953"
             ],
             [
              0.7777777777777778,
              "#fb9f3a"
             ],
             [
              0.8888888888888888,
              "#fdca26"
             ],
             [
              1,
              "#f0f921"
             ]
            ],
            "type": "contour"
           }
          ],
          "contourcarpet": [
           {
            "colorbar": {
             "outlinewidth": 0,
             "ticks": ""
            },
            "type": "contourcarpet"
           }
          ],
          "heatmap": [
           {
            "colorbar": {
             "outlinewidth": 0,
             "ticks": ""
            },
            "colorscale": [
             [
              0,
              "#0d0887"
             ],
             [
              0.1111111111111111,
              "#46039f"
             ],
             [
              0.2222222222222222,
              "#7201a8"
             ],
             [
              0.3333333333333333,
              "#9c179e"
             ],
             [
              0.4444444444444444,
              "#bd3786"
             ],
             [
              0.5555555555555556,
              "#d8576b"
             ],
             [
              0.6666666666666666,
              "#ed7953"
             ],
             [
              0.7777777777777778,
              "#fb9f3a"
             ],
             [
              0.8888888888888888,
              "#fdca26"
             ],
             [
              1,
              "#f0f921"
             ]
            ],
            "type": "heatmap"
           }
          ],
          "heatmapgl": [
           {
            "colorbar": {
             "outlinewidth": 0,
             "ticks": ""
            },
            "colorscale": [
             [
              0,
              "#0d0887"
             ],
             [
              0.1111111111111111,
              "#46039f"
             ],
             [
              0.2222222222222222,
              "#7201a8"
             ],
             [
              0.3333333333333333,
              "#9c179e"
             ],
             [
              0.4444444444444444,
              "#bd3786"
             ],
             [
              0.5555555555555556,
              "#d8576b"
             ],
             [
              0.6666666666666666,
              "#ed7953"
             ],
             [
              0.7777777777777778,
              "#fb9f3a"
             ],
             [
              0.8888888888888888,
              "#fdca26"
             ],
             [
              1,
              "#f0f921"
             ]
            ],
            "type": "heatmapgl"
           }
          ],
          "histogram": [
           {
            "marker": {
             "colorbar": {
              "outlinewidth": 0,
              "ticks": ""
             }
            },
            "type": "histogram"
           }
          ],
          "histogram2d": [
           {
            "colorbar": {
             "outlinewidth": 0,
             "ticks": ""
            },
            "colorscale": [
             [
              0,
              "#0d0887"
             ],
             [
              0.1111111111111111,
              "#46039f"
             ],
             [
              0.2222222222222222,
              "#7201a8"
             ],
             [
              0.3333333333333333,
              "#9c179e"
             ],
             [
              0.4444444444444444,
              "#bd3786"
             ],
             [
              0.5555555555555556,
              "#d8576b"
             ],
             [
              0.6666666666666666,
              "#ed7953"
             ],
             [
              0.7777777777777778,
              "#fb9f3a"
             ],
             [
              0.8888888888888888,
              "#fdca26"
             ],
             [
              1,
              "#f0f921"
             ]
            ],
            "type": "histogram2d"
           }
          ],
          "histogram2dcontour": [
           {
            "colorbar": {
             "outlinewidth": 0,
             "ticks": ""
            },
            "colorscale": [
             [
              0,
              "#0d0887"
             ],
             [
              0.1111111111111111,
              "#46039f"
             ],
             [
              0.2222222222222222,
              "#7201a8"
             ],
             [
              0.3333333333333333,
              "#9c179e"
             ],
             [
              0.4444444444444444,
              "#bd3786"
             ],
             [
              0.5555555555555556,
              "#d8576b"
             ],
             [
              0.6666666666666666,
              "#ed7953"
             ],
             [
              0.7777777777777778,
              "#fb9f3a"
             ],
             [
              0.8888888888888888,
              "#fdca26"
             ],
             [
              1,
              "#f0f921"
             ]
            ],
            "type": "histogram2dcontour"
           }
          ],
          "mesh3d": [
           {
            "colorbar": {
             "outlinewidth": 0,
             "ticks": ""
            },
            "type": "mesh3d"
           }
          ],
          "parcoords": [
           {
            "line": {
             "colorbar": {
              "outlinewidth": 0,
              "ticks": ""
             }
            },
            "type": "parcoords"
           }
          ],
          "pie": [
           {
            "automargin": true,
            "type": "pie"
           }
          ],
          "scatter": [
           {
            "marker": {
             "colorbar": {
              "outlinewidth": 0,
              "ticks": ""
             }
            },
            "type": "scatter"
           }
          ],
          "scatter3d": [
           {
            "line": {
             "colorbar": {
              "outlinewidth": 0,
              "ticks": ""
             }
            },
            "marker": {
             "colorbar": {
              "outlinewidth": 0,
              "ticks": ""
             }
            },
            "type": "scatter3d"
           }
          ],
          "scattercarpet": [
           {
            "marker": {
             "colorbar": {
              "outlinewidth": 0,
              "ticks": ""
             }
            },
            "type": "scattercarpet"
           }
          ],
          "scattergeo": [
           {
            "marker": {
             "colorbar": {
              "outlinewidth": 0,
              "ticks": ""
             }
            },
            "type": "scattergeo"
           }
          ],
          "scattergl": [
           {
            "marker": {
             "colorbar": {
              "outlinewidth": 0,
              "ticks": ""
             }
            },
            "type": "scattergl"
           }
          ],
          "scattermapbox": [
           {
            "marker": {
             "colorbar": {
              "outlinewidth": 0,
              "ticks": ""
             }
            },
            "type": "scattermapbox"
           }
          ],
          "scatterpolar": [
           {
            "marker": {
             "colorbar": {
              "outlinewidth": 0,
              "ticks": ""
             }
            },
            "type": "scatterpolar"
           }
          ],
          "scatterpolargl": [
           {
            "marker": {
             "colorbar": {
              "outlinewidth": 0,
              "ticks": ""
             }
            },
            "type": "scatterpolargl"
           }
          ],
          "scatterternary": [
           {
            "marker": {
             "colorbar": {
              "outlinewidth": 0,
              "ticks": ""
             }
            },
            "type": "scatterternary"
           }
          ],
          "surface": [
           {
            "colorbar": {
             "outlinewidth": 0,
             "ticks": ""
            },
            "colorscale": [
             [
              0,
              "#0d0887"
             ],
             [
              0.1111111111111111,
              "#46039f"
             ],
             [
              0.2222222222222222,
              "#7201a8"
             ],
             [
              0.3333333333333333,
              "#9c179e"
             ],
             [
              0.4444444444444444,
              "#bd3786"
             ],
             [
              0.5555555555555556,
              "#d8576b"
             ],
             [
              0.6666666666666666,
              "#ed7953"
             ],
             [
              0.7777777777777778,
              "#fb9f3a"
             ],
             [
              0.8888888888888888,
              "#fdca26"
             ],
             [
              1,
              "#f0f921"
             ]
            ],
            "type": "surface"
           }
          ],
          "table": [
           {
            "cells": {
             "fill": {
              "color": "#EBF0F8"
             },
             "line": {
              "color": "white"
             }
            },
            "header": {
             "fill": {
              "color": "#C8D4E3"
             },
             "line": {
              "color": "white"
             }
            },
            "type": "table"
           }
          ]
         },
         "layout": {
          "annotationdefaults": {
           "arrowcolor": "#2a3f5f",
           "arrowhead": 0,
           "arrowwidth": 1
          },
          "autotypenumbers": "strict",
          "coloraxis": {
           "colorbar": {
            "outlinewidth": 0,
            "ticks": ""
           }
          },
          "colorscale": {
           "diverging": [
            [
             0,
             "#8e0152"
            ],
            [
             0.1,
             "#c51b7d"
            ],
            [
             0.2,
             "#de77ae"
            ],
            [
             0.3,
             "#f1b6da"
            ],
            [
             0.4,
             "#fde0ef"
            ],
            [
             0.5,
             "#f7f7f7"
            ],
            [
             0.6,
             "#e6f5d0"
            ],
            [
             0.7,
             "#b8e186"
            ],
            [
             0.8,
             "#7fbc41"
            ],
            [
             0.9,
             "#4d9221"
            ],
            [
             1,
             "#276419"
            ]
           ],
           "sequential": [
            [
             0,
             "#0d0887"
            ],
            [
             0.1111111111111111,
             "#46039f"
            ],
            [
             0.2222222222222222,
             "#7201a8"
            ],
            [
             0.3333333333333333,
             "#9c179e"
            ],
            [
             0.4444444444444444,
             "#bd3786"
            ],
            [
             0.5555555555555556,
             "#d8576b"
            ],
            [
             0.6666666666666666,
             "#ed7953"
            ],
            [
             0.7777777777777778,
             "#fb9f3a"
            ],
            [
             0.8888888888888888,
             "#fdca26"
            ],
            [
             1,
             "#f0f921"
            ]
           ],
           "sequentialminus": [
            [
             0,
             "#0d0887"
            ],
            [
             0.1111111111111111,
             "#46039f"
            ],
            [
             0.2222222222222222,
             "#7201a8"
            ],
            [
             0.3333333333333333,
             "#9c179e"
            ],
            [
             0.4444444444444444,
             "#bd3786"
            ],
            [
             0.5555555555555556,
             "#d8576b"
            ],
            [
             0.6666666666666666,
             "#ed7953"
            ],
            [
             0.7777777777777778,
             "#fb9f3a"
            ],
            [
             0.8888888888888888,
             "#fdca26"
            ],
            [
             1,
             "#f0f921"
            ]
           ]
          },
          "colorway": [
           "#636efa",
           "#EF553B",
           "#00cc96",
           "#ab63fa",
           "#FFA15A",
           "#19d3f3",
           "#FF6692",
           "#B6E880",
           "#FF97FF",
           "#FECB52"
          ],
          "font": {
           "color": "#2a3f5f"
          },
          "geo": {
           "bgcolor": "white",
           "lakecolor": "white",
           "landcolor": "#E5ECF6",
           "showlakes": true,
           "showland": true,
           "subunitcolor": "white"
          },
          "hoverlabel": {
           "align": "left"
          },
          "hovermode": "closest",
          "mapbox": {
           "style": "light"
          },
          "paper_bgcolor": "white",
          "plot_bgcolor": "#E5ECF6",
          "polar": {
           "angularaxis": {
            "gridcolor": "white",
            "linecolor": "white",
            "ticks": ""
           },
           "bgcolor": "#E5ECF6",
           "radialaxis": {
            "gridcolor": "white",
            "linecolor": "white",
            "ticks": ""
           }
          },
          "scene": {
           "xaxis": {
            "backgroundcolor": "#E5ECF6",
            "gridcolor": "white",
            "gridwidth": 2,
            "linecolor": "white",
            "showbackground": true,
            "ticks": "",
            "zerolinecolor": "white"
           },
           "yaxis": {
            "backgroundcolor": "#E5ECF6",
            "gridcolor": "white",
            "gridwidth": 2,
            "linecolor": "white",
            "showbackground": true,
            "ticks": "",
            "zerolinecolor": "white"
           },
           "zaxis": {
            "backgroundcolor": "#E5ECF6",
            "gridcolor": "white",
            "gridwidth": 2,
            "linecolor": "white",
            "showbackground": true,
            "ticks": "",
            "zerolinecolor": "white"
           }
          },
          "shapedefaults": {
           "line": {
            "color": "#2a3f5f"
           }
          },
          "ternary": {
           "aaxis": {
            "gridcolor": "white",
            "linecolor": "white",
            "ticks": ""
           },
           "baxis": {
            "gridcolor": "white",
            "linecolor": "white",
            "ticks": ""
           },
           "bgcolor": "#E5ECF6",
           "caxis": {
            "gridcolor": "white",
            "linecolor": "white",
            "ticks": ""
           }
          },
          "title": {
           "x": 0.05
          },
          "xaxis": {
           "automargin": true,
           "gridcolor": "white",
           "linecolor": "white",
           "ticks": "",
           "title": {
            "standoff": 15
           },
           "zerolinecolor": "white",
           "zerolinewidth": 2
          },
          "yaxis": {
           "automargin": true,
           "gridcolor": "white",
           "linecolor": "white",
           "ticks": "",
           "title": {
            "standoff": 15
           },
           "zerolinecolor": "white",
           "zerolinewidth": 2
          }
         }
        },
        "title": "Path in the FBZ",
        "width": 510,
        "xaxis": {
         "scaleanchor": "y",
         "showgrid": false,
         "showline": false,
         "showticklabels": false,
         "zeroline": false
        },
        "yaxis": {
         "scaleanchor": "x",
         "showgrid": false,
         "showline": false,
         "showticklabels": false,
         "zeroline": false
        }
       }
      },
      "image/png": "[encoded data removed]",
      "image/svg+xml": [
       "<svg class=\"main-svg\" xmlns=\"http://www.w3.org/2000/svg\" xmlns:xlink=\"http://www.w3.org/1999/xlink\" width=\"700\" height=\"500\" style=\"\" viewBox=\"0 0 700 500\"><rect x=\"0\" y=\"0\" width=\"700\" height=\"500\" style=\"fill: rgb(255, 255, 255); fill-opacity: 1;\"/><defs id=\"defs-184c61\"><g class=\"clips\"><clipPath id=\"clip184c61xyplot\" class=\"plotclip\"><rect width=\"600\" height=\"390\"/></clipPath><clipPath class=\"axesclip\" id=\"clip184c61x\"><rect x=\"50\" y=\"0\" width=\"600\" height=\"500\"/></clipPath><clipPath class=\"axesclip\" id=\"clip184c61y\"><rect x=\"0\" y=\"60\" width=\"700\" height=\"390\"/></clipPath><clipPath class=\"axesclip\" id=\"clip184c61xy\"><rect x=\"50\" y=\"60\" width=\"600\" height=\"390\"/></clipPath></g><g class=\"gradients\"/><g class=\"patterns\"/></defs><g class=\"bglayer\"><rect class=\"bg\" x=\"50\" y=\"60\" width=\"600\" height=\"390\" style=\"fill: rgb(0, 0, 0); fill-opacity: 0; stroke-width: 0;\"/></g><g class=\"layer-below\"><g class=\"imagelayer\"/><g class=\"shapelayer\"/></g><g class=\"cartesianlayer\"><g class=\"subplot xy\"><g class=\"layer-subplot\"><g class=\"shapelayer\"/><g class=\"imagelayer\"/></g><g class=\"gridlayer\"><g class=\"x\"/><g class=\"y\"/></g><g class=\"zerolinelayer\"/><path class=\"xlines-below\"/><path class=\"ylines-below\"/><g class=\"overlines-below\"/><g class=\"xaxislayer-below\"/><g class=\"yaxislayer-below\"/><g class=\"overaxes-below\"/><g class=\"plot\" transform=\"translate(50,60)\" clip-path=\"url(#clip184c61xyplot)\"><g class=\"scatterlayer mlayer\"><g class=\"trace scatter trace627fe8\" style=\"stroke-miterlimit: 2; opacity: 0.4;\"><g class=\"fills\"/><g class=\"errorbars\"/><g class=\"lines\"><path class=\"js-line\" d=\"M502.65,195L401.32,370.5L198.68,370.5L97.35,195L198.68,19.5L401.32,19.5L502.65,195\" style=\"vector-effect: non-scaling-stroke; fill: none; stroke: rgb(0, 0, 139); stroke-opacity: 1; stroke-width: 3px; opacity: 1;\"/></g><g class=\"points\"/><g class=\"text\"/></g><g class=\"trace scatter trace1aef22\" style=\"stroke-miterlimit: 2; opacity: 1;\"><g class=\"fills\"/><g class=\"errorbars\"/><g class=\"lines\"><path class=\"js-line\" d=\"M300,195L502.65,195L451.99,107.25L300,195\" style=\"vector-effect: non-scaling-stroke; fill: none; stroke: rgb(0, 100, 0); stroke-opacity: 1; stroke-width: 4px; opacity: 1;\"/></g><g class=\"points\"/><g class=\"text\"/></g></g></g><g class=\"overplot\"/><path class=\"xlines-above crisp\" d=\"M0,0\" style=\"fill: none;\"/><path class=\"ylines-above crisp\" d=\"M0,0\" style=\"fill: none;\"/><g class=\"overlines-above\"/><g class=\"xaxislayer-above\"/><g class=\"yaxislayer-above\"/><g class=\"overaxes-above\"/></g></g><g class=\"polarlayer\"/><g class=\"ternarylayer\"/><g class=\"geolayer\"/><g class=\"funnelarealayer\"/><g class=\"pielayer\"/><g class=\"iciclelayer\"/><g class=\"treemaplayer\"/><g class=\"sunburstlayer\"/><g class=\"glimages\"/><defs id=\"topdefs-184c61\"><g class=\"clips\"/></defs><g class=\"layer-above\"><g class=\"imagelayer\"/><g class=\"shapelayer\"/></g><g class=\"infolayer\"><g class=\"g-gtitle\"><text class=\"gtitle\" x=\"35\" y=\"30\" text-anchor=\"start\" dy=\"0em\" style=\"font-family: 'Open Sans', verdana, arial, sans-serif; font-size: 17px; fill: rgb(42, 63, 95); opacity: 1; font-weight: normal; white-space: pre;\">Path in the FBZ</text></g><g class=\"g-xtitle\"/><g class=\"g-ytitle\"/></g></svg>"
      ],
      "text/html": [
       "<div\n",
       "    class=\"webio-mountpoint\"\n",
       "    data-webio-mountpoint=\"15681363534122099125\"\n",
       ">\n",
       "    <script>\n",
       "    (function(){\n",
       "    // Some integrations (namely, IJulia/Jupyter) use an alternate render pathway than\n",
       "    // just putting the html on the page. If WebIO isn't defined, then it's pretty likely\n",
       "    // that we're in one of those situations and the integration just isn't installed\n",
       "    // correctly.\n",
       "    if (typeof window.WebIO === \"undefined\") {\n",
       "        document\n",
       "            .querySelector('[data-webio-mountpoint=\"15681363534122099125\"]')\n",
       "            .innerHTML = (\n",
       "                '<div style=\"padding: 1em; background-color: #f8d6da; border: 1px solid #f5c6cb; font-weight: bold;\">' +\n",
       "                '<p><strong>WebIO not detected.</strong></p>' +\n",
       "                '<p>Please read ' +\n",
       "                '<a href=\"https://juliagizmos.github.io/WebIO.jl/latest/troubleshooting/not-detected/\" target=\"_blank\">the troubleshooting guide</a> ' +\n",
       "                'for more information on how to resolve this issue.</p>' +\n",
       "                '<p><a href=\"https://juliagizmos.github.io/WebIO.jl/latest/troubleshooting/not-detected/\" target=\"_blank\">https://juliagizmos.github.io/WebIO.jl/latest/troubleshooting/not-detected/</a></p>' +\n",
       "                '</div>'\n",
       "            );\n",
       "        return;\n",
       "    }\n",
       "    WebIO.mount(\n",
       "        document.querySelector('[data-webio-mountpoint=\"15681363534122099125\"]'),\n",
       "        {\"props\":{},\"nodeType\":\"Scope\",\"type\":\"node\",\"instanceArgs\":{\"imports\":{\"data\":[{\"name\":\"Plotly\",\"type\":\"js\",\"url\":\"\\/assetserver\\/b267c3137400db01c304fe886fe6f707be7fdb37-plotly.min.js\"},{\"name\":null,\"type\":\"js\",\"url\":\"\\/assetserver\\/020f2e8a4619f2ae880fff9315e6547eef1aff0b-plotly_webio.bundle.js\"}],\"type\":\"async_block\"},\"id\":\"3535810622554166656\",\"handlers\":{\"_toImage\":[\"(function (options){return this.Plotly.toImage(this.plotElem,options).then((function (data){return WebIO.setval({\\\"name\\\":\\\"image\\\",\\\"scope\\\":\\\"3535810622554166656\\\",\\\"id\\\":\\\"229693\\\",\\\"type\\\":\\\"observable\\\"},data)}))})\"],\"__get_gd_contents\":[\"(function (prop){prop==\\\"data\\\" ? (WebIO.setval({\\\"name\\\":\\\"__gd_contents\\\",\\\"scope\\\":\\\"3535810622554166656\\\",\\\"id\\\":\\\"229694\\\",\\\"type\\\":\\\"observable\\\"},this.plotElem.data)) : undefined; return prop==\\\"layout\\\" ? (WebIO.setval({\\\"name\\\":\\\"__gd_contents\\\",\\\"scope\\\":\\\"3535810622554166656\\\",\\\"id\\\":\\\"229694\\\",\\\"type\\\":\\\"observable\\\"},this.plotElem.layout)) : undefined})\"],\"_downloadImage\":[\"(function (options){return this.Plotly.downloadImage(this.plotElem,options)})\"],\"_commands\":[\"(function (args){var fn=args.shift(); var elem=this.plotElem; var Plotly=this.Plotly; args.unshift(elem); return Plotly[fn].apply(this,args)})\"]},\"systemjs_options\":null,\"mount_callbacks\":[\"function () {\\n    var handler = ((function (Plotly,PlotlyWebIO){PlotlyWebIO.init(WebIO); var gd=this.dom.querySelector(\\\"#plot-02177848-5c69-4afc-96c4-f5d900074d3c\\\"); this.plotElem=gd; this.Plotly=Plotly; (window.Blink!==undefined) ? (gd.style.width=\\\"100%\\\", gd.style.height=\\\"100vh\\\", gd.style.marginLeft=\\\"0%\\\", gd.style.marginTop=\\\"0vh\\\") : undefined; window.onresize=(function (){return Plotly.Plots.resize(gd)}); Plotly.newPlot(gd,[{\\\"mode\\\":\\\"lines\\\",\\\"line\\\":{\\\"color\\\":\\\"darkblue\\\",\\\"width\\\":3},\\\"y\\\":[0.0,-3.6275989098483716,-3.6275989098483725,-1.3322676295501878e-15,3.6275989098483707,3.6275989098483734,0.0],\\\"type\\\":\\\"scatter\\\",\\\"opacity\\\":0.4,\\\"x\\\":[4.188790414225901,2.094395207112951,-2.09439520711295,-4.188790414225901,-2.094395207112952,2.0943952071129486,4.188790414225901]},{\\\"mode\\\":\\\"lines\\\",\\\"line\\\":{\\\"color\\\":\\\"darkgreen\\\",\\\"width\\\":4},\\\"y\\\":[0.0,0.0,1.8137985185500671,0.0],\\\"type\\\":\\\"scatter\\\",\\\"x\\\":[0.0,4.188790414225901,3.1415925499172355,0.0]}],{\\\"showlegend\\\":false,\\\"xaxis\\\":{\\\"showgrid\\\":false,\\\"showline\\\":false,\\\"showticklabels\\\":false,\\\"zeroline\\\":false,\\\"scaleanchor\\\":\\\"y\\\"},\\\"template\\\":{\\\"layout\\\":{\\\"coloraxis\\\":{\\\"colorbar\\\":{\\\"ticks\\\":\\\"\\\",\\\"outlinewidth\\\":0}},\\\"xaxis\\\":{\\\"gridcolor\\\":\\\"white\\\",\\\"zerolinewidth\\\":2,\\\"title\\\":{\\\"standoff\\\":15},\\\"ticks\\\":\\\"\\\",\\\"zerolinecolor\\\":\\\"white\\\",\\\"automargin\\\":true,\\\"linecolor\\\":\\\"white\\\"},\\\"hovermode\\\":\\\"closest\\\",\\\"paper_bgcolor\\\":\\\"white\\\",\\\"geo\\\":{\\\"showlakes\\\":true,\\\"showland\\\":true,\\\"landcolor\\\":\\\"#E5ECF6\\\",\\\"bgcolor\\\":\\\"white\\\",\\\"subunitcolor\\\":\\\"white\\\",\\\"lakecolor\\\":\\\"white\\\"},\\\"colorscale\\\":{\\\"sequential\\\":[[0.0,\\\"#0d0887\\\"],[0.1111111111111111,\\\"#46039f\\\"],[0.2222222222222222,\\\"#7201a8\\\"],[0.3333333333333333,\\\"#9c179e\\\"],[0.4444444444444444,\\\"#bd3786\\\"],[0.5555555555555556,\\\"#d8576b\\\"],[0.6666666666666666,\\\"#ed7953\\\"],[0.7777777777777778,\\\"#fb9f3a\\\"],[0.8888888888888888,\\\"#fdca26\\\"],[1.0,\\\"#f0f921\\\"]],\\\"diverging\\\":[[0,\\\"#8e0152\\\"],[0.1,\\\"#c51b7d\\\"],[0.2,\\\"#de77ae\\\"],[0.3,\\\"#f1b6da\\\"],[0.4,\\\"#fde0ef\\\"],[0.5,\\\"#f7f7f7\\\"],[0.6,\\\"#e6f5d0\\\"],[0.7,\\\"#b8e186\\\"],[0.8,\\\"#7fbc41\\\"],[0.9,\\\"#4d9221\\\"],[1,\\\"#276419\\\"]],\\\"sequentialminus\\\":[[0.0,\\\"#0d0887\\\"],[0.1111111111111111,\\\"#46039f\\\"],[0.2222222222222222,\\\"#7201a8\\\"],[0.3333333333333333,\\\"#9c179e\\\"],[0.4444444444444444,\\\"#bd3786\\\"],[0.5555555555555556,\\\"#d8576b\\\"],[0.6666666666666666,\\\"#ed7953\\\"],[0.7777777777777778,\\\"#fb9f3a\\\"],[0.8888888888888888,\\\"#fdca26\\\"],[1.0,\\\"#f0f921\\\"]]},\\\"yaxis\\\":{\\\"gridcolor\\\":\\\"white\\\",\\\"zerolinewidth\\\":2,\\\"title\\\":{\\\"standoff\\\":15},\\\"ticks\\\":\\\"\\\",\\\"zerolinecolor\\\":\\\"white\\\",\\\"automargin\\\":true,\\\"linecolor\\\":\\\"white\\\"},\\\"shapedefaults\\\":{\\\"line\\\":{\\\"color\\\":\\\"#2a3f5f\\\"}},\\\"hoverlabel\\\":{\\\"align\\\":\\\"left\\\"},\\\"mapbox\\\":{\\\"style\\\":\\\"light\\\"},\\\"polar\\\":{\\\"angularaxis\\\":{\\\"gridcolor\\\":\\\"white\\\",\\\"ticks\\\":\\\"\\\",\\\"linecolor\\\":\\\"white\\\"},\\\"bgcolor\\\":\\\"#E5ECF6\\\",\\\"radialaxis\\\":{\\\"gridcolor\\\":\\\"white\\\",\\\"ticks\\\":\\\"\\\",\\\"linecolor\\\":\\\"white\\\"}},\\\"autotypenumbers\\\":\\\"strict\\\",\\\"font\\\":{\\\"color\\\":\\\"#2a3f5f\\\"},\\\"ternary\\\":{\\\"baxis\\\":{\\\"gridcolor\\\":\\\"white\\\",\\\"ticks\\\":\\\"\\\",\\\"linecolor\\\":\\\"white\\\"},\\\"bgcolor\\\":\\\"#E5ECF6\\\",\\\"caxis\\\":{\\\"gridcolor\\\":\\\"white\\\",\\\"ticks\\\":\\\"\\\",\\\"linecolor\\\":\\\"white\\\"},\\\"aaxis\\\":{\\\"gridcolor\\\":\\\"white\\\",\\\"ticks\\\":\\\"\\\",\\\"linecolor\\\":\\\"white\\\"}},\\\"annotationdefaults\\\":{\\\"arrowhead\\\":0,\\\"arrowwidth\\\":1,\\\"arrowcolor\\\":\\\"#2a3f5f\\\"},\\\"plot_bgcolor\\\":\\\"#E5ECF6\\\",\\\"title\\\":{\\\"x\\\":0.05},\\\"scene\\\":{\\\"xaxis\\\":{\\\"gridcolor\\\":\\\"white\\\",\\\"gridwidth\\\":2,\\\"backgroundcolor\\\":\\\"#E5ECF6\\\",\\\"ticks\\\":\\\"\\\",\\\"showbackground\\\":true,\\\"zerolinecolor\\\":\\\"white\\\",\\\"linecolor\\\":\\\"white\\\"},\\\"zaxis\\\":{\\\"gridcolor\\\":\\\"white\\\",\\\"gridwidth\\\":2,\\\"backgroundcolor\\\":\\\"#E5ECF6\\\",\\\"ticks\\\":\\\"\\\",\\\"showbackground\\\":true,\\\"zerolinecolor\\\":\\\"white\\\",\\\"linecolor\\\":\\\"white\\\"},\\\"yaxis\\\":{\\\"gridcolor\\\":\\\"white\\\",\\\"gridwidth\\\":2,\\\"backgroundcolor\\\":\\\"#E5ECF6\\\",\\\"ticks\\\":\\\"\\\",\\\"showbackground\\\":true,\\\"zerolinecolor\\\":\\\"white\\\",\\\"linecolor\\\":\\\"white\\\"}},\\\"colorway\\\":[\\\"#636efa\\\",\\\"#EF553B\\\",\\\"#00cc96\\\",\\\"#ab63fa\\\",\\\"#FFA15A\\\",\\\"#19d3f3\\\",\\\"#FF6692\\\",\\\"#B6E880\\\",\\\"#FF97FF\\\",\\\"#FECB52\\\"]},\\\"data\\\":{\\\"barpolar\\\":[{\\\"type\\\":\\\"barpolar\\\",\\\"marker\\\":{\\\"line\\\":{\\\"color\\\":\\\"#E5ECF6\\\",\\\"width\\\":0.5}}}],\\\"carpet\\\":[{\\\"aaxis\\\":{\\\"gridcolor\\\":\\\"white\\\",\\\"endlinecolor\\\":\\\"#2a3f5f\\\",\\\"minorgridcolor\\\":\\\"white\\\",\\\"startlinecolor\\\":\\\"#2a3f5f\\\",\\\"linecolor\\\":\\\"white\\\"},\\\"type\\\":\\\"carpet\\\",\\\"baxis\\\":{\\\"gridcolor\\\":\\\"white\\\",\\\"endlinecolor\\\":\\\"#2a3f5f\\\",\\\"minorgridcolor\\\":\\\"white\\\",\\\"startlinecolor\\\":\\\"#2a3f5f\\\",\\\"linecolor\\\":\\\"white\\\"}}],\\\"scatterpolar\\\":[{\\\"type\\\":\\\"scatterpolar\\\",\\\"marker\\\":{\\\"colorbar\\\":{\\\"ticks\\\":\\\"\\\",\\\"outlinewidth\\\":0}}}],\\\"parcoords\\\":[{\\\"line\\\":{\\\"colorbar\\\":{\\\"ticks\\\":\\\"\\\",\\\"outlinewidth\\\":0}},\\\"type\\\":\\\"parcoords\\\"}],\\\"scatter\\\":[{\\\"type\\\":\\\"scatter\\\",\\\"marker\\\":{\\\"colorbar\\\":{\\\"ticks\\\":\\\"\\\",\\\"outlinewidth\\\":0}}}],\\\"histogram2dcontour\\\":[{\\\"colorbar\\\":{\\\"ticks\\\":\\\"\\\",\\\"outlinewidth\\\":0},\\\"type\\\":\\\"histogram2dcontour\\\",\\\"colorscale\\\":[[0.0,\\\"#0d0887\\\"],[0.1111111111111111,\\\"#46039f\\\"],[0.2222222222222222,\\\"#7201a8\\\"],[0.3333333333333333,\\\"#9c179e\\\"],[0.4444444444444444,\\\"#bd3786\\\"],[0.5555555555555556,\\\"#d8576b\\\"],[0.6666666666666666,\\\"#ed7953\\\"],[0.7777777777777778,\\\"#fb9f3a\\\"],[0.8888888888888888,\\\"#fdca26\\\"],[1.0,\\\"#f0f921\\\"]]}],\\\"contour\\\":[{\\\"colorbar\\\":{\\\"ticks\\\":\\\"\\\",\\\"outlinewidth\\\":0},\\\"type\\\":\\\"contour\\\",\\\"colorscale\\\":[[0.0,\\\"#0d0887\\\"],[0.1111111111111111,\\\"#46039f\\\"],[0.2222222222222222,\\\"#7201a8\\\"],[0.3333333333333333,\\\"#9c179e\\\"],[0.4444444444444444,\\\"#bd3786\\\"],[0.5555555555555556,\\\"#d8576b\\\"],[0.6666666666666666,\\\"#ed7953\\\"],[0.7777777777777778,\\\"#fb9f3a\\\"],[0.8888888888888888,\\\"#fdca26\\\"],[1.0,\\\"#f0f921\\\"]]}],\\\"scattercarpet\\\":[{\\\"type\\\":\\\"scattercarpet\\\",\\\"marker\\\":{\\\"colorbar\\\":{\\\"ticks\\\":\\\"\\\",\\\"outlinewidth\\\":0}}}],\\\"mesh3d\\\":[{\\\"colorbar\\\":{\\\"ticks\\\":\\\"\\\",\\\"outlinewidth\\\":0},\\\"type\\\":\\\"mesh3d\\\"}],\\\"surface\\\":[{\\\"colorbar\\\":{\\\"ticks\\\":\\\"\\\",\\\"outlinewidth\\\":0},\\\"type\\\":\\\"surface\\\",\\\"colorscale\\\":[[0.0,\\\"#0d0887\\\"],[0.1111111111111111,\\\"#46039f\\\"],[0.2222222222222222,\\\"#7201a8\\\"],[0.3333333333333333,\\\"#9c179e\\\"],[0.4444444444444444,\\\"#bd3786\\\"],[0.5555555555555556,\\\"#d8576b\\\"],[0.6666666666666666,\\\"#ed7953\\\"],[0.7777777777777778,\\\"#fb9f3a\\\"],[0.8888888888888888,\\\"#fdca26\\\"],[1.0,\\\"#f0f921\\\"]]}],\\\"scattermapbox\\\":[{\\\"type\\\":\\\"scattermapbox\\\",\\\"marker\\\":{\\\"colorbar\\\":{\\\"ticks\\\":\\\"\\\",\\\"outlinewidth\\\":0}}}],\\\"scattergeo\\\":[{\\\"type\\\":\\\"scattergeo\\\",\\\"marker\\\":{\\\"colorbar\\\":{\\\"ticks\\\":\\\"\\\",\\\"outlinewidth\\\":0}}}],\\\"histogram\\\":[{\\\"type\\\":\\\"histogram\\\",\\\"marker\\\":{\\\"colorbar\\\":{\\\"ticks\\\":\\\"\\\",\\\"outlinewidth\\\":0}}}],\\\"pie\\\":[{\\\"type\\\":\\\"pie\\\",\\\"automargin\\\":true}],\\\"choropleth\\\":[{\\\"colorbar\\\":{\\\"ticks\\\":\\\"\\\",\\\"outlinewidth\\\":0},\\\"type\\\":\\\"choropleth\\\"}],\\\"heatmapgl\\\":[{\\\"colorbar\\\":{\\\"ticks\\\":\\\"\\\",\\\"outlinewidth\\\":0},\\\"type\\\":\\\"heatmapgl\\\",\\\"colorscale\\\":[[0.0,\\\"#0d0887\\\"],[0.1111111111111111,\\\"#46039f\\\"],[0.2222222222222222,\\\"#7201a8\\\"],[0.3333333333333333,\\\"#9c179e\\\"],[0.4444444444444444,\\\"#bd3786\\\"],[0.5555555555555556,\\\"#d8576b\\\"],[0.6666666666666666,\\\"#ed7953\\\"],[0.7777777777777778,\\\"#fb9f3a\\\"],[0.8888888888888888,\\\"#fdca26\\\"],[1.0,\\\"#f0f921\\\"]]}],\\\"bar\\\":[{\\\"type\\\":\\\"bar\\\",\\\"error_y\\\":{\\\"color\\\":\\\"#2a3f5f\\\"},\\\"error_x\\\":{\\\"color\\\":\\\"#2a3f5f\\\"},\\\"marker\\\":{\\\"line\\\":{\\\"color\\\":\\\"#E5ECF6\\\",\\\"width\\\":0.5}}}],\\\"heatmap\\\":[{\\\"colorbar\\\":{\\\"ticks\\\":\\\"\\\",\\\"outlinewidth\\\":0},\\\"type\\\":\\\"heatmap\\\",\\\"colorscale\\\":[[0.0,\\\"#0d0887\\\"],[0.1111111111111111,\\\"#46039f\\\"],[0.2222222222222222,\\\"#7201a8\\\"],[0.3333333333333333,\\\"#9c179e\\\"],[0.4444444444444444,\\\"#bd3786\\\"],[0.5555555555555556,\\\"#d8576b\\\"],[0.6666666666666666,\\\"#ed7953\\\"],[0.7777777777777778,\\\"#fb9f3a\\\"],[0.8888888888888888,\\\"#fdca26\\\"],[1.0,\\\"#f0f921\\\"]]}],\\\"contourcarpet\\\":[{\\\"colorbar\\\":{\\\"ticks\\\":\\\"\\\",\\\"outlinewidth\\\":0},\\\"type\\\":\\\"contourcarpet\\\"}],\\\"table\\\":[{\\\"type\\\":\\\"table\\\",\\\"header\\\":{\\\"line\\\":{\\\"color\\\":\\\"white\\\"},\\\"fill\\\":{\\\"color\\\":\\\"#C8D4E3\\\"}},\\\"cells\\\":{\\\"line\\\":{\\\"color\\\":\\\"white\\\"},\\\"fill\\\":{\\\"color\\\":\\\"#EBF0F8\\\"}}}],\\\"scatter3d\\\":[{\\\"line\\\":{\\\"colorbar\\\":{\\\"ticks\\\":\\\"\\\",\\\"outlinewidth\\\":0}},\\\"type\\\":\\\"scatter3d\\\",\\\"marker\\\":{\\\"colorbar\\\":{\\\"ticks\\\":\\\"\\\",\\\"outlinewidth\\\":0}}}],\\\"scattergl\\\":[{\\\"type\\\":\\\"scattergl\\\",\\\"marker\\\":{\\\"colorbar\\\":{\\\"ticks\\\":\\\"\\\",\\\"outlinewidth\\\":0}}}],\\\"histogram2d\\\":[{\\\"colorbar\\\":{\\\"ticks\\\":\\\"\\\",\\\"outlinewidth\\\":0},\\\"type\\\":\\\"histogram2d\\\",\\\"colorscale\\\":[[0.0,\\\"#0d0887\\\"],[0.1111111111111111,\\\"#46039f\\\"],[0.2222222222222222,\\\"#7201a8\\\"],[0.3333333333333333,\\\"#9c179e\\\"],[0.4444444444444444,\\\"#bd3786\\\"],[0.5555555555555556,\\\"#d8576b\\\"],[0.6666666666666666,\\\"#ed7953\\\"],[0.7777777777777778,\\\"#fb9f3a\\\"],[0.8888888888888888,\\\"#fdca26\\\"],[1.0,\\\"#f0f921\\\"]]}],\\\"scatterternary\\\":[{\\\"type\\\":\\\"scatterternary\\\",\\\"marker\\\":{\\\"colorbar\\\":{\\\"ticks\\\":\\\"\\\",\\\"outlinewidth\\\":0}}}],\\\"scatterpolargl\\\":[{\\\"type\\\":\\\"scatterpolargl\\\",\\\"marker\\\":{\\\"colorbar\\\":{\\\"ticks\\\":\\\"\\\",\\\"outlinewidth\\\":0}}}]}},\\\"height\\\":510,\\\"margin\\\":{\\\"l\\\":50,\\\"b\\\":50,\\\"r\\\":50,\\\"t\\\":60},\\\"title\\\":\\\"Path in the FBZ\\\",\\\"yaxis\\\":{\\\"showgrid\\\":false,\\\"showline\\\":false,\\\"showticklabels\\\":false,\\\"zeroline\\\":false,\\\"scaleanchor\\\":\\\"x\\\"},\\\"plot_bgcolor\\\":\\\"rgba(0,0,0,0)\\\",\\\"width\\\":510},{\\\"showLink\\\":false,\\\"editable\\\":false,\\\"responsive\\\":true,\\\"staticPlot\\\":false,\\\"scrollZoom\\\":true}); gd.on(\\\"plotly_hover\\\",(function (data){var filtered_data=WebIO.PlotlyCommands.filterEventData(gd,data,\\\"hover\\\"); return !(filtered_data.isnil) ? (WebIO.setval({\\\"name\\\":\\\"hover\\\",\\\"scope\\\":\\\"3535810622554166656\\\",\\\"id\\\":\\\"229689\\\",\\\"type\\\":\\\"observable\\\"},filtered_data.out)) : undefined})); gd.on(\\\"plotly_unhover\\\",(function (){return WebIO.setval({\\\"name\\\":\\\"hover\\\",\\\"scope\\\":\\\"3535810622554166656\\\",\\\"id\\\":\\\"229689\\\",\\\"type\\\":\\\"observable\\\"},{})})); gd.on(\\\"plotly_selected\\\",(function (data){var filtered_data=WebIO.PlotlyCommands.filterEventData(gd,data,\\\"selected\\\"); return !(filtered_data.isnil) ? (WebIO.setval({\\\"name\\\":\\\"selected\\\",\\\"scope\\\":\\\"3535810622554166656\\\",\\\"id\\\":\\\"229690\\\",\\\"type\\\":\\\"observable\\\"},filtered_data.out)) : undefined})); gd.on(\\\"plotly_deselect\\\",(function (){return WebIO.setval({\\\"name\\\":\\\"selected\\\",\\\"scope\\\":\\\"3535810622554166656\\\",\\\"id\\\":\\\"229690\\\",\\\"type\\\":\\\"observable\\\"},{})})); gd.on(\\\"plotly_relayout\\\",(function (data){var filtered_data=WebIO.PlotlyCommands.filterEventData(gd,data,\\\"relayout\\\"); return !(filtered_data.isnil) ? (WebIO.setval({\\\"name\\\":\\\"relayout\\\",\\\"scope\\\":\\\"3535810622554166656\\\",\\\"id\\\":\\\"229692\\\",\\\"type\\\":\\\"observable\\\"},filtered_data.out)) : undefined})); return gd.on(\\\"plotly_click\\\",(function (data){var filtered_data=WebIO.PlotlyCommands.filterEventData(gd,data,\\\"click\\\"); return !(filtered_data.isnil) ? (WebIO.setval({\\\"name\\\":\\\"click\\\",\\\"scope\\\":\\\"3535810622554166656\\\",\\\"id\\\":\\\"229691\\\",\\\"type\\\":\\\"observable\\\"},filtered_data.out)) : undefined}))}));\\n    (WebIO.importBlock({\\\"data\\\":[{\\\"name\\\":\\\"Plotly\\\",\\\"type\\\":\\\"js\\\",\\\"url\\\":\\\"\\/assetserver\\/b267c3137400db01c304fe886fe6f707be7fdb37-plotly.min.js\\\"},{\\\"name\\\":null,\\\"type\\\":\\\"js\\\",\\\"url\\\":\\\"\\/assetserver\\/020f2e8a4619f2ae880fff9315e6547eef1aff0b-plotly_webio.bundle.js\\\"}],\\\"type\\\":\\\"async_block\\\"})).then((imports) => handler.apply(this, imports));\\n}\\n\"],\"observables\":{\"_toImage\":{\"sync\":false,\"id\":\"229696\",\"value\":{}},\"hover\":{\"sync\":false,\"id\":\"229689\",\"value\":{}},\"selected\":{\"sync\":false,\"id\":\"229690\",\"value\":{}},\"__gd_contents\":{\"sync\":false,\"id\":\"229694\",\"value\":{}},\"click\":{\"sync\":false,\"id\":\"229691\",\"value\":{}},\"image\":{\"sync\":true,\"id\":\"229693\",\"value\":\"\"},\"__get_gd_contents\":{\"sync\":false,\"id\":\"229698\",\"value\":\"\"},\"_downloadImage\":{\"sync\":false,\"id\":\"229697\",\"value\":{}},\"relayout\":{\"sync\":false,\"id\":\"229692\",\"value\":{}},\"_commands\":{\"sync\":false,\"id\":\"229695\",\"value\":[]}}},\"children\":[{\"props\":{\"id\":\"plot-02177848-5c69-4afc-96c4-f5d900074d3c\"},\"nodeType\":\"DOM\",\"type\":\"node\",\"instanceArgs\":{\"namespace\":\"html\",\"tag\":\"div\"},\"children\":[]}]},\n",
       "        window,\n",
       "    );\n",
       "    })()\n",
       "    </script>\n",
       "</div>\n"
      ],
      "text/plain": [
       "data: [\n",
       "  \"scatter with fields line, mode, opacity, type, x, and y\",\n",
       "  \"scatter with fields line, mode, type, x, and y\"\n",
       "]\n",
       "\n",
       "layout: \"layout with fields height, margin, plot_bgcolor, showlegend, template, title, width, xaxis, and yaxis\"\n",
       "\n"
      ]
     },
     "metadata": {},
     "output_type": "display_data"
    }
   ],
   "source": [
    "plot_kpath_fbz(corners, kpath_nodes)"
   ]
  },
  {
   "cell_type": "code",
   "execution_count": 186,
   "metadata": {},
   "outputs": [
    {
     "name": "stderr",
     "output_type": "stream",
     "text": [
      "WARNING: redefinition of constant Main.kpath_fbz. This may fail, cause incorrect answers, or produce other errors.\n",
      "WARNING: redefinition of constant Main.kpath_fbz_reduced. This may fail, cause incorrect answers, or produce other errors.\n"
     ]
    }
   ],
   "source": [
    "# Now, construct the K-Path using linear interpolation. Will directly use the function provided in the Brillouin.jl package \n",
    "global const npts_kpath::Int64 = 500\n",
    "global const kpath_fbz::Vector{Vector{Float64}} = interpolate(kpath_nodes, npts_kpath);\n",
    "global const kpath_fbz_reduced::Vector{Vector{Float64}} = make_reduced(kpath_fbz, recip_basis);"
   ]
  },
  {
   "cell_type": "markdown",
   "metadata": {},
   "source": [
    "# In the next part of this notebook, we plot the band structure for the monolayer Kagome model. #"
   ]
  },
  {
   "cell_type": "code",
   "execution_count": 187,
   "metadata": {},
   "outputs": [
    {
     "data": {
      "text/plain": [
       "plot_simple_kagome_bands (generic function with 1 method)"
      ]
     },
     "metadata": {},
     "output_type": "display_data"
    }
   ],
   "source": [
    "function plot_simple_kagome_bands(;p, seedname, title = Nothing)\n",
    "    if title == Nothing\n",
    "        title = seedname\n",
    "    end\n",
    "    eks = evals3c.(kpath_fbz, Ref(p))\n",
    "\n",
    "    nps_x = size(kpath_fbz, 1)\n",
    "    xs = 1 : nps_x\n",
    "    \n",
    "    t1 = PlotlyJS.scatter(x = xs, y = map(e->e[1], eks), mode = \"lines\", line = attr(color = \"purple\", width = 4))\n",
    "    t2 = PlotlyJS.scatter(x = xs, y = map(e->e[2], eks), mode = \"lines\", line = attr(color = \"purple\", width = 4))\n",
    "    t3 = PlotlyJS.scatter(x = xs, y = map(e->e[3], eks), mode = \"lines\", line = attr(color = \"purple\", width = 4))\n",
    "    lo = PlotlyJS.Layout(title = title,\n",
    "                xaxis_showgrid = true,\n",
    "                yaxis_showgrid = true,\n",
    "                plot_bgcolor=\"rgba(0,0,0,0)\",\n",
    "                xaxis = attr(showgrid = true, showticklabels = false, linecolor = \"black\", linewidth = 5, showline = true, mirror = true),\n",
    "                yaxis = attr(showgrid = true, showticklabels = true, linecolor = \"black\", linewidth = 5, showline = true, mirror = true),\n",
    "                width = 510, \n",
    "                height = 510,\n",
    "                showlegend = false)\n",
    "    \n",
    "    p = PlotlyJS.plot([t1, t2, t3], lo)\n",
    "    PlotlyJS.savefig(p, assets_dir * seedname * \".png\")\n",
    "    display(p)\n",
    "end"
   ]
  },
  {
   "cell_type": "code",
   "execution_count": 188,
   "metadata": {},
   "outputs": [
    {
     "data": {
      "application/vnd.plotly.v1+json": {
       "config": {
        "editable": false,
        "responsive": true,
        "scrollZoom": true,
        "showLink": false,
        "staticPlot": false
       },
       "data": [
        {
         "line": {
          "color": "purple",
          "width": 4
         },
         "mode": "lines",
         "type": "scatter",
         "x": [
          1,
          2,
          3,
          4,
          5,
          6,
          7,
          8,
          9,
          10,
          11,
          12,
          13,
          14,
          15,
          16,
          17,
          18,
          19,
          20,
          21,
          22,
          23,
          24,
          25,
          26,
          27,
          28,
          29,
          30,
          31,
          32,
          33,
          34,
          35,
          36,
          37,
          38,
          39,
          40,
          41,
          42,
          43,
          44,
          45,
          46,
          47,
          48,
          49,
          50,
          51,
          52,
          53,
          54,
          55,
          56,
          57,
          58,
          59,
          60,
          61,
          62,
          63,
          64,
          65,
          66,
          67,
          68,
          69,
          70,
          71,
          72,
          73,
          74,
          75,
          76,
          77,
          78,
          79,
          80,
          81,
          82,
          83,
          84,
          85,
          86,
          87,
          88,
          89,
          90,
          91,
          92,
          93,
          94,
          95,
          96,
          97,
          98,
          99,
          100,
          101,
          102,
          103,
          104,
          105,
          106,
          107,
          108,
          109,
          110,
          111,
          112,
          113,
          114,
          115,
          116,
          117,
          118,
          119,
          120,
          121,
          122,
          123,
          124,
          125,
          126,
          127,
          128,
          129,
          130,
          131,
          132,
          133,
          134,
          135,
          136,
          137,
          138,
          139,
          140,
          141,
          142,
          143,
          144,
          145,
          146,
          147,
          148,
          149,
          150,
          151,
          152,
          153,
          154,
          155,
          156,
          157,
          158,
          159,
          160,
          161,
          162,
          163,
          164,
          165,
          166,
          167,
          168,
          169,
          170,
          171,
          172,
          173,
          174,
          175,
          176,
          177,
          178,
          179,
          180,
          181,
          182,
          183,
          184,
          185,
          186,
          187,
          188,
          189,
          190,
          191,
          192,
          193,
          194,
          195,
          196,
          197,
          198,
          199,
          200,
          201,
          202,
          203,
          204,
          205,
          206,
          207,
          208,
          209,
          210,
          211,
          212,
          213,
          214,
          215,
          216,
          217,
          218,
          219,
          220,
          221,
          222,
          223,
          224,
          225,
          226,
          227,
          228,
          229,
          230,
          231,
          232,
          233,
          234,
          235,
          236,
          237,
          238,
          239,
          240,
          241,
          242,
          243,
          244,
          245,
          246,
          247,
          248,
          249,
          250,
          251,
          252,
          253,
          254,
          255,
          256,
          257,
          258,
          259,
          260,
          261,
          262,
          263,
          264,
          265,
          266,
          267,
          268,
          269,
          270,
          271,
          272,
          273,
          274,
          275,
          276,
          277,
          278,
          279,
          280,
          281,
          282,
          283,
          284,
          285,
          286,
          287,
          288,
          289,
          290,
          291,
          292,
          293,
          294,
          295,
          296,
          297,
          298,
          299,
          300,
          301,
          302,
          303,
          304,
          305,
          306,
          307,
          308,
          309,
          310,
          311,
          312,
          313,
          314,
          315,
          316,
          317,
          318,
          319,
          320,
          321,
          322,
          323,
          324,
          325,
          326,
          327,
          328,
          329,
          330,
          331,
          332,
          333,
          334,
          335,
          336,
          337,
          338,
          339,
          340,
          341,
          342,
          343,
          344,
          345,
          346,
          347,
          348,
          349,
          350,
          351,
          352,
          353,
          354,
          355,
          356,
          357,
          358,
          359,
          360,
          361,
          362,
          363,
          364,
          365,
          366,
          367,
          368,
          369,
          370,
          371,
          372,
          373,
          374,
          375,
          376,
          377,
          378,
          379,
          380,
          381,
          382,
          383,
          384,
          385,
          386,
          387,
          388,
          389,
          390,
          391,
          392,
          393,
          394,
          395,
          396,
          397,
          398,
          399,
          400,
          401,
          402,
          403,
          404,
          405,
          406,
          407,
          408,
          409,
          410,
          411,
          412,
          413,
          414,
          415,
          416,
          417,
          418,
          419,
          420,
          421,
          422,
          423,
          424,
          425,
          426,
          427,
          428,
          429,
          430,
          431,
          432,
          433,
          434,
          435,
          436,
          437,
          438,
          439,
          440,
          441,
          442,
          443,
          444,
          445,
          446,
          447,
          448,
          449,
          450,
          451,
          452,
          453,
          454,
          455,
          456,
          457,
          458,
          459,
          460,
          461,
          462,
          463,
          464,
          465,
          466,
          467,
          468,
          469,
          470,
          471,
          472,
          473,
          474,
          475,
          476,
          477,
          478,
          479,
          480,
          481,
          482,
          483,
          484,
          485,
          486,
          487,
          488,
          489,
          490,
          491,
          492,
          493,
          494,
          495,
          496,
          497,
          498,
          499,
          500
         ],
         "y": [
          -2.000000000000001,
          -2,
          -2,
          -2.0000000000000004,
          -1.9999999999999998,
          -2.000000000000001,
          -2.0000000000000004,
          -2.000000000000001,
          -2,
          -2.000000000000001,
          -2,
          -2,
          -2.0000000000000004,
          -2.0000000000000004,
          -2.000000000000001,
          -2.000000000000001,
          -2,
          -2,
          -2.0000000000000004,
          -2.000000000000001,
          -2,
          -2.000000000000001,
          -2,
          -2.000000000000001,
          -2.000000000000001,
          -2,
          -2.000000000000001,
          -2,
          -2.000000000000001,
          -2,
          -2.000000000000001,
          -1.9999999999999996,
          -1.9999999999999998,
          -2,
          -1.9999999999999998,
          -2.000000000000001,
          -2,
          -2,
          -2.0000000000000004,
          -1.9999999999999998,
          -2.0000000000000004,
          -2.0000000000000004,
          -2.0000000000000004,
          -2,
          -2,
          -2,
          -2.0000000000000004,
          -2.0000000000000004,
          -2.000000000000001,
          -2.000000000000001,
          -2,
          -2.0000000000000004,
          -2.000000000000001,
          -1.9999999999999996,
          -2.000000000000001,
          -2,
          -2.0000000000000004,
          -2,
          -2.0000000000000004,
          -1.9999999999999998,
          -2.0000000000000004,
          -2.0000000000000004,
          -2.000000000000001,
          -2.0000000000000004,
          -1.9999999999999998,
          -2.0000000000000004,
          -2.0000000000000004,
          -2.0000000000000004,
          -2.000000000000001,
          -2,
          -2.000000000000001,
          -2,
          -2.000000000000001,
          -2.0000000000000004,
          -2,
          -2,
          -2,
          -2.000000000000001,
          -2,
          -2.0000000000000013,
          -1.9999999999999998,
          -2.000000000000001,
          -1.9999999999999998,
          -2,
          -1.9999999999999996,
          -2.000000000000001,
          -2.0000000000000004,
          -2.0000000000000004,
          -2.000000000000001,
          -2.000000000000001,
          -1.9999999999999998,
          -2,
          -1.9999999999999996,
          -2,
          -2.0000000000000004,
          -2,
          -1.9999999999999993,
          -2,
          -1.9999999999999998,
          -1.9999999999999998,
          -2.0000000000000013,
          -1.9999999999999998,
          -1.9999999999999993,
          -2.000000000000001,
          -2.0000000000000004,
          -1.9999999999999998,
          -2.000000000000001,
          -2.000000000000001,
          -1.9999999999999998,
          -2.000000000000001,
          -2,
          -2.0000000000000004,
          -1.9999999999999998,
          -2,
          -2.000000000000001,
          -2.0000000000000004,
          -2.0000000000000004,
          -2,
          -2,
          -2,
          -1.9999999999999998,
          -1.9999999999999998,
          -1.9999999999999998,
          -2,
          -1.9999999999999993,
          -2,
          -2.0000000000000004,
          -2.0000000000000004,
          -1.9999999999999998,
          -2,
          -2,
          -2.0000000000000004,
          -1.9999999999999996,
          -1.9999999999999996,
          -2,
          -2,
          -1.9999999999999998,
          -2,
          -2,
          -2,
          -2,
          -2,
          -2.000000000000001,
          -2,
          -2,
          -1.9999999999999998,
          -2.0000000000000004,
          -2.0000000000000004,
          -2,
          -2,
          -1.9999999999999998,
          -2.0000000000000004,
          -2,
          -2.0000000000000004,
          -2,
          -1.9999999999999998,
          -1.9999999999999998,
          -2,
          -2,
          -2,
          -2,
          -2,
          -2,
          -2,
          -2,
          -2,
          -2,
          -2.0000000000000004,
          -2,
          -2,
          -2,
          -2,
          -2,
          -2,
          -2,
          -2,
          -2,
          -2,
          -2,
          -2,
          -2,
          -2,
          -2,
          -2,
          -2.0000000000000004,
          -2,
          -2,
          -2,
          -2,
          -2,
          -1.9999999999999996,
          -2,
          -2,
          -2,
          -2,
          -2,
          -2,
          -2,
          -2,
          -2,
          -2,
          -2,
          -2.0000000000000004,
          -2,
          -2,
          -2,
          -2,
          -2,
          -2,
          -2,
          -2,
          -2,
          -1.9999999999999998,
          -2,
          -1.9999999999999996,
          -2,
          -2.0000000000000004,
          -1.9999999999999996,
          -2,
          -2.0000000000000004,
          -2.0000000000000004,
          -2,
          -2,
          -2,
          -2.0000000000000004,
          -2,
          -1.9999999999999998,
          -1.9999999999999998,
          -2,
          -2,
          -2,
          -2,
          -2,
          -2,
          -2,
          -1.9999999999999996,
          -2.0000000000000004,
          -2.0000000000000004,
          -1.9999999999999993,
          -1.9999999999999996,
          -1.9999999999999998,
          -2,
          -2,
          -2,
          -2,
          -1.9999999999999998,
          -2,
          -2.0000000000000004,
          -2,
          -2,
          -2,
          -2.0000000000000004,
          -2,
          -2,
          -2.0000000000000004,
          -2,
          -2,
          -1.9999999999999996,
          -2,
          -2,
          -2,
          -2,
          -2,
          -2,
          -2,
          -2,
          -2,
          -1.9999999999999998,
          -2,
          -2,
          -2,
          -1.9999999999999996,
          -2,
          -2.0000000000000004,
          -2,
          -2,
          -2,
          -2,
          -2,
          -2,
          -2.0000000000000004,
          -1.9999999999999998,
          -2.0000000000000004,
          -1.9999999999999998,
          -1.9999999999999998,
          -1.9999999999999996,
          -2.0000000000000004,
          -1.9999999999999998,
          -2,
          -2,
          -1.9999999999999996,
          -2,
          -2,
          -2,
          -2,
          -2.0000000000000004,
          -2.000000000000001,
          -2,
          -2.0000000000000004,
          -2.0000000000000004,
          -1.9999999999999991,
          -2.000000000000001,
          -2.0000000000000013,
          -1.9999999999999998,
          -2,
          -1.9999999999999998,
          -2.0000000000000004,
          -1.9999999999999998,
          -1.9999999999999991,
          -1.9999999999999991,
          -2.0000000000000004,
          -2.000000000000001,
          -2.0000000000000004,
          -2,
          -2,
          -2.0000000000000004,
          -1.9999999999999993,
          -2.0000000000000004,
          -2,
          -1.9999999999999998,
          -2.0000000000000004,
          -2.0000000000000004,
          -1.9999999999999996,
          -2,
          -2.0000000000000004,
          -2,
          -1.9999999999999998,
          -2.0000000000000004,
          -2.0000000000000004,
          -1.9999999999999998,
          -2,
          -1.9999999999999998,
          -1.9999999999999998,
          -2,
          -1.9999999999999998,
          -2,
          -1.9999999999999996,
          -1.9999999999999998,
          -2,
          -2.0000000000000004,
          -1.9999999999999998,
          -1.9999999999999996,
          -2.000000000000001,
          -2,
          -2.000000000000001,
          -2.0000000000000004,
          -2.0000000000000004,
          -2,
          -2,
          -2,
          -2,
          -2.0000000000000004,
          -1.9999999999999998,
          -2,
          -2,
          -2,
          -2,
          -1.9999999999999998,
          -2,
          -2,
          -2,
          -2,
          -2,
          -2,
          -1.9999999999999991,
          -2,
          -1.9999999999999996,
          -2.0000000000000004,
          -1.9999999999999998,
          -1.9999999999999993,
          -1.9999999999999998,
          -2,
          -1.9999999999999996,
          -2.0000000000000004,
          -2.0000000000000004,
          -2,
          -2,
          -2.0000000000000004,
          -2,
          -2,
          -1.9999999999999996,
          -2,
          -1.9999999999999996,
          -2.0000000000000004,
          -2,
          -1.9999999999999998,
          -1.9999999999999993,
          -1.9999999999999998,
          -1.9999999999999998,
          -1.9999999999999993,
          -2.0000000000000004,
          -1.9999999999999998,
          -2.0000000000000004,
          -2,
          -2.0000000000000004,
          -1.9999999999999996,
          -2,
          -2.0000000000000004,
          -2,
          -2,
          -1.9999999999999998,
          -1.9999999999999998,
          -2.0000000000000004,
          -2.000000000000001,
          -2,
          -2,
          -1.9999999999999996,
          -2.0000000000000004,
          -2.0000000000000004,
          -1.9999999999999996,
          -2.0000000000000004,
          -1.9999999999999998,
          -1.9999999999999998,
          -2.0000000000000004,
          -2,
          -1.9999999999999993,
          -1.9999999999999993,
          -2.0000000000000004,
          -1.9999999999999996,
          -1.9999999999999998,
          -2,
          -2.0000000000000004,
          -1.9999999999999996,
          -1.9999999999999996,
          -2,
          -2,
          -1.9999999999999996,
          -2.0000000000000004,
          -1.9999999999999996,
          -1.9999999999999993,
          -2.0000000000000004,
          -2,
          -2.0000000000000004,
          -2,
          -2.0000000000000004,
          -2.0000000000000004,
          -1.9999999999999993,
          -1.9999999999999998,
          -2,
          -1.9999999999999998,
          -1.9999999999999993,
          -1.9999999999999996,
          -2.0000000000000013,
          -2.0000000000000004,
          -1.9999999999999993,
          -2,
          -2,
          -1.9999999999999991,
          -2,
          -2.0000000000000004,
          -1.9999999999999998,
          -1.9999999999999996,
          -1.9999999999999984,
          -2,
          -1.9999999999999993,
          -2.0000000000000004,
          -1.999999999999999,
          -2.000000000000001,
          -2.0000000000000004,
          -2,
          -1.9999999999999998,
          -2.0000000000000004,
          -1.9999999999999996,
          -1.9999999999999993,
          -2.0000000000000004,
          -1.9999999999999998,
          -1.9999999999999998,
          -1.9999999999999998,
          -2,
          -2.0000000000000004,
          -1.9999999999999998,
          -2.0000000000000004,
          -2,
          -2.0000000000000004,
          -2.000000000000001,
          -2.0000000000000004,
          -2,
          -1.9999999999999993,
          -2.0000000000000004,
          -2.0000000000000004,
          -2,
          -2,
          -2,
          -1.9999999999999991,
          -2.0000000000000004,
          -1.9999999999999998,
          -2,
          -2,
          -1.9999999999999993,
          -2.0000000000000004,
          -2.0000000000000004,
          -2.0000000000000004,
          -1.9999999999999998,
          -2,
          -2,
          -2.0000000000000004,
          -1.9999999999999993,
          -1.9999999999999998,
          -1.9999999999999991,
          -2.000000000000001
         ]
        },
        {
         "line": {
          "color": "purple",
          "width": 4
         },
         "mode": "lines",
         "type": "scatter",
         "x": [
          1,
          2,
          3,
          4,
          5,
          6,
          7,
          8,
          9,
          10,
          11,
          12,
          13,
          14,
          15,
          16,
          17,
          18,
          19,
          20,
          21,
          22,
          23,
          24,
          25,
          26,
          27,
          28,
          29,
          30,
          31,
          32,
          33,
          34,
          35,
          36,
          37,
          38,
          39,
          40,
          41,
          42,
          43,
          44,
          45,
          46,
          47,
          48,
          49,
          50,
          51,
          52,
          53,
          54,
          55,
          56,
          57,
          58,
          59,
          60,
          61,
          62,
          63,
          64,
          65,
          66,
          67,
          68,
          69,
          70,
          71,
          72,
          73,
          74,
          75,
          76,
          77,
          78,
          79,
          80,
          81,
          82,
          83,
          84,
          85,
          86,
          87,
          88,
          89,
          90,
          91,
          92,
          93,
          94,
          95,
          96,
          97,
          98,
          99,
          100,
          101,
          102,
          103,
          104,
          105,
          106,
          107,
          108,
          109,
          110,
          111,
          112,
          113,
          114,
          115,
          116,
          117,
          118,
          119,
          120,
          121,
          122,
          123,
          124,
          125,
          126,
          127,
          128,
          129,
          130,
          131,
          132,
          133,
          134,
          135,
          136,
          137,
          138,
          139,
          140,
          141,
          142,
          143,
          144,
          145,
          146,
          147,
          148,
          149,
          150,
          151,
          152,
          153,
          154,
          155,
          156,
          157,
          158,
          159,
          160,
          161,
          162,
          163,
          164,
          165,
          166,
          167,
          168,
          169,
          170,
          171,
          172,
          173,
          174,
          175,
          176,
          177,
          178,
          179,
          180,
          181,
          182,
          183,
          184,
          185,
          186,
          187,
          188,
          189,
          190,
          191,
          192,
          193,
          194,
          195,
          196,
          197,
          198,
          199,
          200,
          201,
          202,
          203,
          204,
          205,
          206,
          207,
          208,
          209,
          210,
          211,
          212,
          213,
          214,
          215,
          216,
          217,
          218,
          219,
          220,
          221,
          222,
          223,
          224,
          225,
          226,
          227,
          228,
          229,
          230,
          231,
          232,
          233,
          234,
          235,
          236,
          237,
          238,
          239,
          240,
          241,
          242,
          243,
          244,
          245,
          246,
          247,
          248,
          249,
          250,
          251,
          252,
          253,
          254,
          255,
          256,
          257,
          258,
          259,
          260,
          261,
          262,
          263,
          264,
          265,
          266,
          267,
          268,
          269,
          270,
          271,
          272,
          273,
          274,
          275,
          276,
          277,
          278,
          279,
          280,
          281,
          282,
          283,
          284,
          285,
          286,
          287,
          288,
          289,
          290,
          291,
          292,
          293,
          294,
          295,
          296,
          297,
          298,
          299,
          300,
          301,
          302,
          303,
          304,
          305,
          306,
          307,
          308,
          309,
          310,
          311,
          312,
          313,
          314,
          315,
          316,
          317,
          318,
          319,
          320,
          321,
          322,
          323,
          324,
          325,
          326,
          327,
          328,
          329,
          330,
          331,
          332,
          333,
          334,
          335,
          336,
          337,
          338,
          339,
          340,
          341,
          342,
          343,
          344,
          345,
          346,
          347,
          348,
          349,
          350,
          351,
          352,
          353,
          354,
          355,
          356,
          357,
          358,
          359,
          360,
          361,
          362,
          363,
          364,
          365,
          366,
          367,
          368,
          369,
          370,
          371,
          372,
          373,
          374,
          375,
          376,
          377,
          378,
          379,
          380,
          381,
          382,
          383,
          384,
          385,
          386,
          387,
          388,
          389,
          390,
          391,
          392,
          393,
          394,
          395,
          396,
          397,
          398,
          399,
          400,
          401,
          402,
          403,
          404,
          405,
          406,
          407,
          408,
          409,
          410,
          411,
          412,
          413,
          414,
          415,
          416,
          417,
          418,
          419,
          420,
          421,
          422,
          423,
          424,
          425,
          426,
          427,
          428,
          429,
          430,
          431,
          432,
          433,
          434,
          435,
          436,
          437,
          438,
          439,
          440,
          441,
          442,
          443,
          444,
          445,
          446,
          447,
          448,
          449,
          450,
          451,
          452,
          453,
          454,
          455,
          456,
          457,
          458,
          459,
          460,
          461,
          462,
          463,
          464,
          465,
          466,
          467,
          468,
          469,
          470,
          471,
          472,
          473,
          474,
          475,
          476,
          477,
          478,
          479,
          480,
          481,
          482,
          483,
          484,
          485,
          486,
          487,
          488,
          489,
          490,
          491,
          492,
          493,
          494,
          495,
          496,
          497,
          498,
          499,
          500
         ],
         "y": [
          -2,
          -1.9999014744666956,
          -1.9996059075740604,
          -1.999113328442982,
          -1.9984237856050775,
          -1.99753734699793,
          -1.9964540999583726,
          -1.9951741512138947,
          -1.9936976268721331,
          -1.9920246724084336,
          -1.9901554526515288,
          -1.9880901517672922,
          -1.985828973240592,
          -1.9833721398552495,
          -1.9807198936720845,
          -1.9778724960050702,
          -1.9748302273955745,
          -1.9715933875847407,
          -1.9681622954839295,
          -1.9645372891433277,
          -1.9607187257186136,
          -1.9567069814357854,
          -1.9525024515540907,
          -1.948105550327076,
          -1.9435167109617808,
          -1.938736385576051,
          -1.9337650451539927,
          -1.9286031794995746,
          -1.9232512971883606,
          -1.9177099255174128,
          -1.9119796104533278,
          -1.9060609165784541,
          -1.8999544270352624,
          -1.89366074346889,
          -1.8871804859678705,
          -1.8805142930030256,
          -1.8736628213645745,
          -1.8666267460974157,
          -1.8594067604346145,
          -1.8520035757291091,
          -1.844417921383624,
          -1.8366505447787949,
          -1.8287022111995468,
          -1.820573703759684,
          -1.8122658233247357,
          -1.8037793884330562,
          -1.7951152352151627,
          -1.786274217311377,
          -1.777257205787702,
          -1.768065089050003,
          -1.758698772756491,
          -1.7491591797284662,
          -1.7394472498594253,
          -1.7295639400224347,
          -1.7195102239758677,
          -1.7092870922674601,
          -1.6988955521367148,
          -1.6883366274156655,
          -1.6776113584280004,
          -1.666720801886568,
          -1.6556660307892581,
          -1.6444481343132904,
          -1.6330682177078941,
          -1.6215274021854276,
          -1.6098268248108891,
          -1.5979676383899077,
          -1.5859510113551498,
          -1.5737781276512026,
          -1.5614501866179236,
          -1.5489684028722785,
          -1.5363340061886677,
          -1.5235482413777617,
          -1.5106123681638572,
          -1.4975276610607626,
          -1.484295409246222,
          -1.4709169164349025,
          -1.4573935007499461,
          -1.4437264945930899,
          -1.429917244513408,
          -1.4159671110746277,
          -1.4018774687210862,
          -1.3876497056423092,
          -1.373285223636245,
          -1.3587854379711397,
          -1.3441517772461136,
          -1.3293856832503885,
          -1.3144886108212535,
          -1.299462027700714,
          -1.2843074143908852,
          -1.2690262640081251,
          -1.2536200821359262,
          -1.2380903866765718,
          -1.2224387077015901,
          -1.2066665873009996,
          -1.1907755794313737,
          -1.1747672497627362,
          -1.158643175524307,
          -1.1424049453490985,
          -1.1260541591173994,
          -1.1095924277991425,
          -1.0930213732951848,
          -1.0763426282775093,
          -1.059557836028364,
          -1.042668650278356,
          -1.0256767350435183,
          -1.008583764461362,
          -0.9913914226259288,
          -0.9741014034218672,
          -0.9567154103575404,
          -0.9392351563971866,
          -0.9216623637921493,
          -0.9039987639111917,
          -0.8862460970699129,
          -0.868406112359281,
          -0.8504805674733029,
          -0.8324712285358489,
          -0.8143798699266418,
          -0.7962082741064372,
          -0.777958231441404,
          -0.7596315400267295,
          -0.7412300055094577,
          -0.7227554409105921,
          -0.7042096664464605,
          -0.6855945093493836,
          -0.6669118036876425,
          -0.6481633901847745,
          -0.6293511160382204,
          -0.6104768347373222,
          -0.5915424058807117,
          -0.5725496949930875,
          -0.5535005733414211,
          -0.5343969177505818,
          -0.5152406104184242,
          -0.49603353873034517,
          -0.47677759507332496,
          -0.45747467664948216,
          -0.4381266852891481,
          -0.41873552726349117,
          -0.39930311309669686,
          -0.3798313573777339,
          -0.3603221785717201,
          -0.34077749883090025,
          -0.32119924380527,
          -0.3015893424528453,
          -0.28194972684961783,
          -0.2622823319991867,
          -0.2425890956421184,
          -0.22287195806502824,
          -0.20313286190941104,
          -0.18337375198024186,
          -0.16359657505436487,
          -0.14380327968868434,
          -0.12399581602818088,
          -0.10417613561377537,
          -0.08434619119005138,
          -0.06450793651285802,
          -0.04466332615681745,
          -0.024814315322747138,
          -0.0049628596450270734,
          0.014889085001086544,
          0.03473956269215983,
          0.054586617649292624,
          0.07442829443080945,
          0.09426263812492497,
          0.11408769454234857,
          0.1339015104088237,
          0.153702133557575,
          0.17348761312164784,
          0.19325599972611587,
          0.21300534568014706,
          0.2327337051688972,
          0.25243913444522814,
          0.2721196920212103,
          0.2917734388594132,
          0.3113984385639479,
          0.3309927575712541,
          0.3505544653405994,
          0.3700816345442943,
          0.3895723412575798,
          0.40902466514818103,
          0.4284366896655136,
          0.4478065022295099,
          0.4671321944190572,
          0.48641186216002374,
          0.505643605912866,
          0.5248255308597728,
          0.5439557470913594,
          0.5630323697928697,
          0.5820535194298775,
          0.6010173219334722,
          0.6199219088848974,
          0.6387654176996409,
          0.6575459918109497,
          0.6762617808527424,
          0.6949109408419223,
          0.713491634360057,
          0.7320020307344068,
          0.7504403062182974,
          0.7688046441708044,
          0.787093235235738,
          0.8053042775199077,
          0.8234359767706627,
          0.8414865465526628,
          0.8594542084238951,
          0.8773371921108905,
          0.8951337356831442,
          0.9128420857267111,
          0.9304604975169585,
          0.9479872351904686,
          0.9654205719160641,
          0.982758790064948,
          0.9999998186200697,
          0.9827758346374926,
          0.9656527578388776,
          0.9486325634573811,
          0.9317169444244059,
          0.9149075832695146,
          0.8982061519531992,
          0.8816143117005887,
          0.8651337128362225,
          0.8487659946199012,
          0.8325127850836315,
          0.8163757008696975,
          0.800356347069856,
          0.784456317065689,
          0.7686771923701119,
          0.7530205424700694,
          0.7374879246704239,
          0.7220808839390569,
          0.706800952753196,
          0.6916496509469868,
          0.6766284855603236,
          0.6617389506889415,
          0.6469825273358158,
          0.6323606832638442,
          0.6178748728498586,
          0.6035265369399604,
          0.5893171027062104,
          0.575247983504668,
          0.5613205787348141,
          0.5475362737003576,
          0.5338964394714414,
          0.5204024327482758,
          0.507055595726183,
          0.49385725596210023,
          0.4808087262425317,
          0.467911304452971,
          0.4551662734488045,
          0.44257490092771123,
          0.43013843930357387,
          0.41785812558189706,
          0.405735181236777,
          0.3937708120894014,
          0.3819662081881112,
          0.37032254369003254,
          0.35884097674428844,
          0.34752264937679866,
          0.3363686873766926,
          0.3253802001843277,
          0.3145582807809374,
          0.3039040055799194,
          0.29341843431976655,
          0.28310260995865977,
          0.27295755857073123,
          0.2629842892439995,
          0.2531837939800061,
          0.2435570475951399,
          0.23410500762367853,
          0.22482861422254646,
          0.21572879007779822,
          0.206806440312848,
          0.1980624523984338,
          0.1894976960643523,
          0.18111302321294087,
          0.1729092678343504,
          0.16488724592358822,
          0.157047755399353,
          0.14939157602467112,
          0.14191946932933686,
          0.13463217853416448,
          0.12753042847706314,
          0.12061492554094089,
          0.1138863575834459,
          0.10734539386854075,
          0.10099268499994307,
          0.09482886285640502,
          0.08885454052886588,
          0.08307031225946937,
          0.07747675338245885,
          0.07207442026694688,
          0.0668638502615812,
          0.06184556164109167,
          0.057020053554741545,
          0.052387805976680746,
          0.04794927965819973,
          0.043704916081906964,
          0.03965513741781118,
          0.03580034648133257,
          0.03214092669323593,
          0.028677242041490414,
          0.02540963704507032,
          0.02233843671968505,
          0.01946394654544703,
          0.01678645243649049,
          0.0143062207125364,
          0.012023498072396305,
          0.009938511569435815,
          0.008051468588991265,
          0.006362556827743934,
          0.004871944275047779,
          0.003579779196222245,
          0.00248619011779877,
          0.0015912858147460324,
          0.0008951552996468953,
          0.00039786781384073015,
          0.00009947282054319098,
          -8.140571359215114e-14,
          -0.00029467633152808115,
          -0.0011780677333988639,
          -0.0026483582879167564,
          -0.004702539281111473,
          -0.007336435501517191,
          -0.010544741287264903,
          -0.014321065585351928,
          -0.018657985123930992,
          -0.023547104667226926,
          -0.028979123226420267,
          -0.034943905039973466,
          -0.04143055411306917,
          -0.04842749111617134,
          -0.055922531483942495,
          -0.06390296362364933,
          -0.07235562623170488,
          -0.08126698382289477,
          -0.09062319969380717,
          -0.10041020566489195,
          -0.11061376806988071,
          -0.12121954958288256,
          -0.13221316658921906,
          -0.1435802419131742,
          -0.15530645281270045,
          -0.1673775742364429,
          -0.17977951741174097,
          -0.19249836389343267,
          -0.20552039525277505,
          -0.2188321186242541,
          -0.23242028835635092,
          -0.24627192403164666,
          -0.2603743251329637,
          -0.2747150826368471,
          -0.2892820878145641,
          -0.30406353851513496,
          -0.31904794319555596,
          -0.33422412295129006,
          -0.3495812117860005,
          -0.36510865534407416,
          -0.38079620831327077,
          -0.39663393068829295,
          -0.41261218306961356,
          -0.4287216211557339,
          -0.4449531895715145,
          -0.46129811516038827,
          -0.4777478998542571,
          -0.4942943132218752,
          -0.5109293847843673,
          -0.5276453961754569,
          -0.5444348732137776,
          -0.5612905779454145,
          -0.5782055007065201,
          -0.5951728522482982,
          -0.6121860559600066,
          -0.6292387402196397,
          -0.6463247308966846,
          -0.6634380440267014,
          -0.6805728786733819,
          -0.6977236099901899,
          -0.7148847824905761,
          -0.7320511035330971,
          -0.749217437025442,
          -0.7663787973494227,
          -0.783530343507279,
          -0.8006673734882869,
          -0.8177853188534036,
          -0.8348797395347775,
          -0.8519463188461002,
          -0.8689808586991573,
          -0.8859792750213912,
          -0.9029375933689471,
          -0.9198519447293031,
          -0.9367185615074455,
          -0.9535337736893701,
          -0.970294005176628,
          -0.9869957702856054,
          -1.0036356704052767,
          -1.0202103908071873,
          -1.0367166976015434,
          -1.053151434833379,
          -1.0695115217129343,
          -1.0857939499744815,
          -1.101995781358048,
          -1.1181141452086072,
          -1.1341462361875347,
          -1.1500893120912468,
          -1.165940691772193,
          -1.1816977531574921,
          -1.1973579313607263,
          -1.2129187168825601,
          -1.2283776538960614,
          -1.2437323386127457,
          -1.258980417725544,
          -1.2741195869250743,
          -1.2891475894857425,
          -1.3040622149183665,
          -1.3188612976861376,
          -1.3335427159809494,
          -1.3481043905571608,
          -1.3625442836201023,
          -1.3768603977666773,
          -1.3910507749756007,
          -1.4051134956448668,
          -1.4190466776742376,
          -1.4328484755905575,
          -1.4465170797138993,
          -1.4600507153625395,
          -1.4734476420949658,
          -1.486706152987134,
          -1.4998245739432885,
          -1.5128012630387793,
          -1.52563460989333,
          -1.5383230350733599,
          -1.5508649895219324,
          -1.563258954015083,
          -1.5755034386432376,
          -1.5875969823165825,
          -1.5995381522932437,
          -1.6113255437292007,
          -1.622957779248941,
          -1.634433508535879,
          -1.6457514079416182,
          -1.656910180113182,
          -1.6679085536373939,
          -1.6787452827015965,
          -1.6894191467699808,
          -1.6999289502747799,
          -1.7102735223216639,
          -1.720451716408693,
          -1.7304624101581907,
          -1.7403045050609518,
          -1.749976926232256,
          -1.7594786221791041,
          -1.7688085645782106,
          -1.7779657480642381,
          -1.786949190027858,
          -1.7957579304231235,
          -1.8043910315838279,
          -1.8128475780483757,
          -1.8211266763928315,
          -1.8292274550717689,
          -1.837149064266578,
          -1.8448906757409038,
          -1.8524514827029135,
          -1.859830699674074,
          -1.8670275623641925,
          -1.874041327552407,
          -1.880871272973909,
          -1.8875166972121344,
          -1.8939769195962008,
          -1.900251280103356,
          -1.906339139266252,
          -1.9122398780848124,
          -1.917952897942544,
          -1.9234776205270756,
          -1.9288134877547667,
          -1.93395996169924,
          -1.9389165245236442,
          -1.9436826784165584,
          -1.9482579455313298,
          -1.952641867928786,
          -1.9568340075231327,
          -1.9608339460309743,
          -1.9646412849233008,
          -1.9682556453803774,
          -1.971676668249413,
          -1.97490401400492,
          -1.9779373627116856,
          -1.9807764139902748,
          -1.983420886984976,
          -1.9858705203341438,
          -1.988125072142843,
          -1.9901843199577711,
          -1.9920480607443698,
          -1.9937161108660932,
          -1.9951883060657871,
          -1.9964645014491413,
          -1.997544571470162,
          -1.9984284099186544,
          -1.9991159299096677,
          -1.9996070638749057,
          -1.9999017635560472,
          -2
         ]
        },
        {
         "line": {
          "color": "purple",
          "width": 4
         },
         "mode": "lines",
         "type": "scatter",
         "x": [
          1,
          2,
          3,
          4,
          5,
          6,
          7,
          8,
          9,
          10,
          11,
          12,
          13,
          14,
          15,
          16,
          17,
          18,
          19,
          20,
          21,
          22,
          23,
          24,
          25,
          26,
          27,
          28,
          29,
          30,
          31,
          32,
          33,
          34,
          35,
          36,
          37,
          38,
          39,
          40,
          41,
          42,
          43,
          44,
          45,
          46,
          47,
          48,
          49,
          50,
          51,
          52,
          53,
          54,
          55,
          56,
          57,
          58,
          59,
          60,
          61,
          62,
          63,
          64,
          65,
          66,
          67,
          68,
          69,
          70,
          71,
          72,
          73,
          74,
          75,
          76,
          77,
          78,
          79,
          80,
          81,
          82,
          83,
          84,
          85,
          86,
          87,
          88,
          89,
          90,
          91,
          92,
          93,
          94,
          95,
          96,
          97,
          98,
          99,
          100,
          101,
          102,
          103,
          104,
          105,
          106,
          107,
          108,
          109,
          110,
          111,
          112,
          113,
          114,
          115,
          116,
          117,
          118,
          119,
          120,
          121,
          122,
          123,
          124,
          125,
          126,
          127,
          128,
          129,
          130,
          131,
          132,
          133,
          134,
          135,
          136,
          137,
          138,
          139,
          140,
          141,
          142,
          143,
          144,
          145,
          146,
          147,
          148,
          149,
          150,
          151,
          152,
          153,
          154,
          155,
          156,
          157,
          158,
          159,
          160,
          161,
          162,
          163,
          164,
          165,
          166,
          167,
          168,
          169,
          170,
          171,
          172,
          173,
          174,
          175,
          176,
          177,
          178,
          179,
          180,
          181,
          182,
          183,
          184,
          185,
          186,
          187,
          188,
          189,
          190,
          191,
          192,
          193,
          194,
          195,
          196,
          197,
          198,
          199,
          200,
          201,
          202,
          203,
          204,
          205,
          206,
          207,
          208,
          209,
          210,
          211,
          212,
          213,
          214,
          215,
          216,
          217,
          218,
          219,
          220,
          221,
          222,
          223,
          224,
          225,
          226,
          227,
          228,
          229,
          230,
          231,
          232,
          233,
          234,
          235,
          236,
          237,
          238,
          239,
          240,
          241,
          242,
          243,
          244,
          245,
          246,
          247,
          248,
          249,
          250,
          251,
          252,
          253,
          254,
          255,
          256,
          257,
          258,
          259,
          260,
          261,
          262,
          263,
          264,
          265,
          266,
          267,
          268,
          269,
          270,
          271,
          272,
          273,
          274,
          275,
          276,
          277,
          278,
          279,
          280,
          281,
          282,
          283,
          284,
          285,
          286,
          287,
          288,
          289,
          290,
          291,
          292,
          293,
          294,
          295,
          296,
          297,
          298,
          299,
          300,
          301,
          302,
          303,
          304,
          305,
          306,
          307,
          308,
          309,
          310,
          311,
          312,
          313,
          314,
          315,
          316,
          317,
          318,
          319,
          320,
          321,
          322,
          323,
          324,
          325,
          326,
          327,
          328,
          329,
          330,
          331,
          332,
          333,
          334,
          335,
          336,
          337,
          338,
          339,
          340,
          341,
          342,
          343,
          344,
          345,
          346,
          347,
          348,
          349,
          350,
          351,
          352,
          353,
          354,
          355,
          356,
          357,
          358,
          359,
          360,
          361,
          362,
          363,
          364,
          365,
          366,
          367,
          368,
          369,
          370,
          371,
          372,
          373,
          374,
          375,
          376,
          377,
          378,
          379,
          380,
          381,
          382,
          383,
          384,
          385,
          386,
          387,
          388,
          389,
          390,
          391,
          392,
          393,
          394,
          395,
          396,
          397,
          398,
          399,
          400,
          401,
          402,
          403,
          404,
          405,
          406,
          407,
          408,
          409,
          410,
          411,
          412,
          413,
          414,
          415,
          416,
          417,
          418,
          419,
          420,
          421,
          422,
          423,
          424,
          425,
          426,
          427,
          428,
          429,
          430,
          431,
          432,
          433,
          434,
          435,
          436,
          437,
          438,
          439,
          440,
          441,
          442,
          443,
          444,
          445,
          446,
          447,
          448,
          449,
          450,
          451,
          452,
          453,
          454,
          455,
          456,
          457,
          458,
          459,
          460,
          461,
          462,
          463,
          464,
          465,
          466,
          467,
          468,
          469,
          470,
          471,
          472,
          473,
          474,
          475,
          476,
          477,
          478,
          479,
          480,
          481,
          482,
          483,
          484,
          485,
          486,
          487,
          488,
          489,
          490,
          491,
          492,
          493,
          494,
          495,
          496,
          497,
          498,
          499,
          500
         ],
         "y": [
          3.9999999999999996,
          3.9999014744666948,
          3.9996059075740593,
          3.9991133284429807,
          3.9984237856050786,
          3.9975373469979294,
          3.996454099958371,
          3.9951741512138943,
          3.993697626872134,
          3.9920246724084345,
          3.9901554526515293,
          3.988090151767291,
          3.9858289732405914,
          3.98337213985525,
          3.9807198936720853,
          3.9778724960050695,
          3.9748302273955765,
          3.97159338758474,
          3.9681622954839297,
          3.964537289143327,
          3.960718725718613,
          3.9567069814357856,
          3.952502451554092,
          3.9481055503270763,
          3.943516710961781,
          3.9387363855760515,
          3.9337650451539927,
          3.928603179499575,
          3.9232512971883606,
          3.9177099255174133,
          3.9119796104533275,
          3.9060609165784554,
          3.8999544270352624,
          3.893660743468891,
          3.8871804859678702,
          3.880514293003025,
          3.873662821364575,
          3.8666267460974155,
          3.859406760434614,
          3.85200357572911,
          3.844417921383623,
          3.836650544778795,
          3.828702211199547,
          3.8205737037596834,
          3.8122658233247364,
          3.803779388433055,
          3.7951152352151625,
          3.7862742173113775,
          3.777257205787701,
          3.768065089050004,
          3.75869877275649,
          3.749159179728467,
          3.7394472498594244,
          3.7295639400224356,
          3.7195102239758677,
          3.7092870922674606,
          3.698895552136715,
          3.688336627415665,
          3.6776113584280012,
          3.6667208018865685,
          3.6556660307892583,
          3.64444813431329,
          3.633068217707895,
          3.6215274021854276,
          3.60982682481089,
          3.5979676383899086,
          3.5859510113551494,
          3.5737781276512024,
          3.5614501866179236,
          3.548968402872278,
          3.5363340061886674,
          3.5235482413777612,
          3.5106123681638572,
          3.497527661060763,
          3.484295409246222,
          3.470916916434904,
          3.4573935007499452,
          3.44372649459309,
          3.4299172445134083,
          3.415967111074627,
          3.4018774687210867,
          3.3876497056423096,
          3.3732852236362447,
          3.3587854379711404,
          3.344151777246113,
          3.329385683250389,
          3.314488610821254,
          3.299462027700714,
          3.2843074143908852,
          3.269026264008125,
          3.253620082135927,
          3.2380903866765722,
          3.22243870770159,
          3.206666587300999,
          3.1907755794313735,
          3.174767249762736,
          3.1586431755243067,
          3.1424049453490994,
          3.126054159117399,
          3.109592427799143,
          3.0930213732951843,
          3.0763426282775095,
          3.0595578360283637,
          3.0426686502783555,
          3.0256767350435183,
          3.0085837644613616,
          2.991391422625929,
          2.9741014034218676,
          2.95671541035754,
          2.939235156397187,
          2.921662363792149,
          2.903998763911192,
          2.886246097069913,
          2.8684061123592812,
          2.850480567473303,
          2.8324712285358493,
          2.814379869926642,
          2.7962082741064376,
          2.7779582314414046,
          2.7596315400267297,
          2.741230005509458,
          2.722755440910592,
          2.7042096664464603,
          2.6855945093493836,
          2.6669118036876425,
          2.6481633901847745,
          2.62935111603822,
          2.6104768347373226,
          2.5915424058807117,
          2.5725496949930875,
          2.5535005733414216,
          2.5343969177505823,
          2.515240610418424,
          2.4960335387303454,
          2.4767775950733255,
          2.457474676649482,
          2.4381266852891477,
          2.4187355272634914,
          2.399303113096697,
          2.379831357377734,
          2.36032217857172,
          2.3407774988309002,
          2.321199243805271,
          2.3015893424528455,
          2.281949726849618,
          2.2622823319991863,
          2.242589095642119,
          2.2228719580650287,
          2.2031328619094115,
          2.183373751980242,
          2.163596575054365,
          2.1438032796886843,
          2.123995816028181,
          2.104176135613776,
          2.0843461911900514,
          2.0645079365128582,
          2.044663326156817,
          2.0248143153227476,
          2.004962859645027,
          1.9851109149989132,
          1.96526043730784,
          1.9454133823507074,
          1.9255717055691908,
          1.905737361875075,
          1.8859123054576514,
          1.8660984895911765,
          1.846297866442425,
          1.8265123868783526,
          1.8067440002738844,
          1.7869946543198532,
          1.767266294831103,
          1.7475608655547719,
          1.7278803079787897,
          1.7082265611405865,
          1.6886015614360521,
          1.669007242428746,
          1.6494455346594006,
          1.6299183654557061,
          1.6104276587424202,
          1.5909753348518192,
          1.5715633103344864,
          1.5521934977704905,
          1.5328678055809433,
          1.513588137839976,
          1.4943563940871347,
          1.475174469140227,
          1.4560442529086406,
          1.4369676302071306,
          1.4179464805701225,
          1.3989826780665275,
          1.380078091115103,
          1.361234582300359,
          1.3424540081890501,
          1.3237382191472578,
          1.3050890591580777,
          1.2865083656399434,
          1.267997969265593,
          1.2495596937817026,
          1.231195355829195,
          1.2129067647642624,
          1.194695722480092,
          1.1765640232293375,
          1.1585134534473371,
          1.140545791576105,
          1.1226628078891094,
          1.1048662643168556,
          1.0871579142732886,
          1.0695395024830419,
          1.0520127648095317,
          1.0345794280839358,
          1.0172412099350518,
          1.0000001813799306,
          1.0172241653625076,
          1.0343472421611222,
          1.051367436542619,
          1.0682830555755944,
          1.0850924167304852,
          1.1017938480468008,
          1.1183856882994119,
          1.1348662871637774,
          1.151234005380099,
          1.1674872149163682,
          1.1836242991303032,
          1.199643652930144,
          1.215543682934311,
          1.2313228076298877,
          1.2469794575299304,
          1.262512075329576,
          1.277919116060943,
          1.2931990472468042,
          1.308350349053013,
          1.3233715144396772,
          1.3382610493110583,
          1.3530174726641842,
          1.3676393167361556,
          1.3821251271501414,
          1.3964734630600395,
          1.4106828972937895,
          1.424752016495332,
          1.4386794212651859,
          1.452463726299643,
          1.4661035605285586,
          1.4795975672517245,
          1.4929444042738171,
          1.5061427440378998,
          1.5191912737574684,
          1.5320886955470292,
          1.5448337265511956,
          1.5574250990722884,
          1.5698615606964261,
          1.582141874418103,
          1.5942648187632231,
          1.6062291879105988,
          1.618033791811889,
          1.6296774563099676,
          1.6411590232557118,
          1.6524773506232013,
          1.6636313126233073,
          1.6746197998156724,
          1.6854417192190632,
          1.6960959944200809,
          1.7065815656802337,
          1.7168973900413402,
          1.7270424414292689,
          1.7370157107560003,
          1.7468162060199939,
          1.75644295240486,
          1.7658949923763212,
          1.775171385777454,
          1.7842712099222018,
          1.7931935596871527,
          1.8019375476015655,
          1.810502303935648,
          1.8188869767870595,
          1.8270907321656493,
          1.835112754076412,
          1.8429522446006472,
          1.8506084239753287,
          1.858080530670663,
          1.8653678214658358,
          1.8724695715229376,
          1.879385074459059,
          1.8861136424165548,
          1.8926546061314593,
          1.8990073150000566,
          1.9051711371435949,
          1.9111454594711341,
          1.9169296877405304,
          1.9225232466175415,
          1.9279255797330532,
          1.9331361497384185,
          1.9381544383589084,
          1.9429799464452586,
          1.9476121940233193,
          1.9520507203418,
          1.9562950839180935,
          1.960344862582189,
          1.964199653518667,
          1.9678590733067647,
          1.9713227579585098,
          1.974590362954929,
          1.9776615632803158,
          1.9805360534545544,
          1.9832135475635098,
          1.9856937792874638,
          1.987976501927604,
          1.9900614884305643,
          1.9919485314110084,
          1.993637443172255,
          1.995128055724951,
          1.9964202208037782,
          1.9975138098822018,
          1.9984087141852545,
          1.9991048447003537,
          1.9996021321861592,
          1.9999005271794572,
          2.000000000000081,
          2.0002946763315284,
          2.001178067733399,
          2.0026483582879164,
          2.0047025392811113,
          2.007336435501518,
          2.0105447412872643,
          2.014321065585352,
          2.0186579851239315,
          2.0235471046672266,
          2.0289791232264207,
          2.034943905039974,
          2.0414305541130697,
          2.048427491116171,
          2.0559225314839424,
          2.0639029636236494,
          2.072355626231705,
          2.0812669838228945,
          2.090623199693807,
          2.100410205664893,
          2.1106137680698804,
          2.1212195495828823,
          2.1322131665892186,
          2.143580241913175,
          2.1553064528127,
          2.1673775742364425,
          2.1797795174117414,
          2.1924983638934323,
          2.2055203952527758,
          2.218832118624255,
          2.2324202883563515,
          2.2462719240316464,
          2.2603743251329638,
          2.274715082636848,
          2.289282087814564,
          2.304063538515136,
          2.3190479431955557,
          2.33422412295129,
          2.3495812117860004,
          2.3651086553440748,
          2.3807962083132703,
          2.3966339306882927,
          2.412612183069614,
          2.428721621155734,
          2.444953189571514,
          2.461298115160389,
          2.4777478998542577,
          2.4942943132218742,
          2.5109293847843666,
          2.5276453961754575,
          2.5444348732137767,
          2.5612905779454143,
          2.5782055007065203,
          2.595172852248297,
          2.612186055960007,
          2.6292387402196398,
          2.6463247308966835,
          2.6634380440267025,
          2.680572878673382,
          2.6977236099901893,
          2.714884782490576,
          2.7320511035330965,
          2.7492174370254423,
          2.7663787973494216,
          2.783530343507279,
          2.8006673734882868,
          2.8177853188534034,
          2.8348797395347773,
          2.8519463188461014,
          2.8689808586991576,
          2.8859792750213917,
          2.9029375933689474,
          2.9198519447293023,
          2.936718561507445,
          2.9535337736893705,
          2.970294005176628,
          2.9869957702856054,
          3.0036356704052767,
          3.020210390807187,
          3.036716697601544,
          3.053151434833378,
          3.0695115217129327,
          3.08579394997448,
          3.1019957813580463,
          3.118114145208609,
          3.1341462361875347,
          3.1500893120912465,
          3.165940691772193,
          3.1816977531574917,
          3.1973579313607257,
          3.2129187168825593,
          3.228377653896061,
          3.2437323386127472,
          3.2589804177255433,
          3.2741195869250737,
          3.2891475894857427,
          3.3040622149183667,
          3.318861297686137,
          3.33354271598095,
          3.348104390557161,
          3.3625442836201023,
          3.3768603977666793,
          3.3910507749756027,
          3.405113495644866,
          3.419046677674236,
          3.432848475590559,
          3.4465170797138986,
          3.4600507153625397,
          3.473447642094966,
          3.486706152987134,
          3.4998245739432905,
          3.5128012630387784,
          3.5256346098933298,
          3.5383230350733594,
          3.5508649895219326,
          3.5632589540150823,
          3.5755034386432367,
          3.5875969823165827,
          3.5995381522932424,
          3.6113255437292002,
          3.622957779248941,
          3.63443350853588,
          3.645751407941618,
          3.6569101801131816,
          3.6679085536373917,
          3.6787452827015974,
          3.6894191467699806,
          3.6999289502747796,
          3.7102735223216654,
          3.720451716408694,
          3.73046241015819,
          3.7403045050609514,
          3.7499769262322564,
          3.7594786221791043,
          3.768808564578211,
          3.777965748064239,
          3.7869491900278596,
          3.7957579304231235,
          3.804391031583828,
          3.8128475780483755,
          3.8211266763928324,
          3.8292274550717678,
          3.8371490642665766,
          3.8448906757409036,
          3.8524514827029104,
          3.8598306996740726,
          3.8670275623641936,
          3.8740413275524075,
          3.880871272973908,
          3.887516697212134,
          3.893976919596201,
          3.9002512801033564,
          3.906339139266251,
          3.912239878084812,
          3.9179528979425458,
          3.923477620527076,
          3.9288134877547685,
          3.933959961699239,
          3.9389165245236435,
          3.9436826784165566,
          3.94825794553133,
          3.9526418679287856,
          3.9568340075231325,
          3.960833946030973,
          3.9646412849232977,
          3.968255645380377,
          3.971676668249412,
          3.97490401400492,
          3.9779373627116863,
          3.9807764139902746,
          3.983420886984976,
          3.985870520334142,
          3.988125072142841,
          3.9901843199577716,
          3.99204806074437,
          3.9937161108660906,
          3.9951883060657867,
          3.9964645014491413,
          3.9975445714701605,
          3.9984284099186542,
          3.999115929909668,
          3.999607063874907,
          3.999901763556047,
          3.9999999999999996
         ]
        }
       ],
       "frames": [],
       "layout": {
        "height": 510,
        "margin": {
         "b": 50,
         "l": 50,
         "r": 50,
         "t": 60
        },
        "plot_bgcolor": "rgba(0,0,0,0)",
        "showlegend": false,
        "template": {
         "data": {
          "bar": [
           {
            "error_x": {
             "color": "#2a3f5f"
            },
            "error_y": {
             "color": "#2a3f5f"
            },
            "marker": {
             "line": {
              "color": "#E5ECF6",
              "width": 0.5
             }
            },
            "type": "bar"
           }
          ],
          "barpolar": [
           {
            "marker": {
             "line": {
              "color": "#E5ECF6",
              "width": 0.5
             }
            },
            "type": "barpolar"
           }
          ],
          "carpet": [
           {
            "aaxis": {
             "endlinecolor": "#2a3f5f",
             "gridcolor": "white",
             "linecolor": "white",
             "minorgridcolor": "white",
             "startlinecolor": "#2a3f5f"
            },
            "baxis": {
             "endlinecolor": "#2a3f5f",
             "gridcolor": "white",
             "linecolor": "white",
             "minorgridcolor": "white",
             "startlinecolor": "#2a3f5f"
            },
            "type": "carpet"
           }
          ],
          "choropleth": [
           {
            "colorbar": {
             "outlinewidth": 0,
             "ticks": ""
            },
            "type": "choropleth"
           }
          ],
          "contour": [
           {
            "colorbar": {
             "outlinewidth": 0,
             "ticks": ""
            },
            "colorscale": [
             [
              0,
              "#0d0887"
             ],
             [
              0.1111111111111111,
              "#46039f"
             ],
             [
              0.2222222222222222,
              "#7201a8"
             ],
             [
              0.3333333333333333,
              "#9c179e"
             ],
             [
              0.4444444444444444,
              "#bd3786"
             ],
             [
              0.5555555555555556,
              "#d8576b"
             ],
             [
              0.6666666666666666,
              "#ed7953"
             ],
             [
              0.7777777777777778,
              "#fb9f3a"
             ],
             [
              0.8888888888888888,
              "#fdca26"
             ],
             [
              1,
              "#f0f921"
             ]
            ],
            "type": "contour"
           }
          ],
          "contourcarpet": [
           {
            "colorbar": {
             "outlinewidth": 0,
             "ticks": ""
            },
            "type": "contourcarpet"
           }
          ],
          "heatmap": [
           {
            "colorbar": {
             "outlinewidth": 0,
             "ticks": ""
            },
            "colorscale": [
             [
              0,
              "#0d0887"
             ],
             [
              0.1111111111111111,
              "#46039f"
             ],
             [
              0.2222222222222222,
              "#7201a8"
             ],
             [
              0.3333333333333333,
              "#9c179e"
             ],
             [
              0.4444444444444444,
              "#bd3786"
             ],
             [
              0.5555555555555556,
              "#d8576b"
             ],
             [
              0.6666666666666666,
              "#ed7953"
             ],
             [
              0.7777777777777778,
              "#fb9f3a"
             ],
             [
              0.8888888888888888,
              "#fdca26"
             ],
             [
              1,
              "#f0f921"
             ]
            ],
            "type": "heatmap"
           }
          ],
          "heatmapgl": [
           {
            "colorbar": {
             "outlinewidth": 0,
             "ticks": ""
            },
            "colorscale": [
             [
              0,
              "#0d0887"
             ],
             [
              0.1111111111111111,
              "#46039f"
             ],
             [
              0.2222222222222222,
              "#7201a8"
             ],
             [
              0.3333333333333333,
              "#9c179e"
             ],
             [
              0.4444444444444444,
              "#bd3786"
             ],
             [
              0.5555555555555556,
              "#d8576b"
             ],
             [
              0.6666666666666666,
              "#ed7953"
             ],
             [
              0.7777777777777778,
              "#fb9f3a"
             ],
             [
              0.8888888888888888,
              "#fdca26"
             ],
             [
              1,
              "#f0f921"
             ]
            ],
            "type": "heatmapgl"
           }
          ],
          "histogram": [
           {
            "marker": {
             "colorbar": {
              "outlinewidth": 0,
              "ticks": ""
             }
            },
            "type": "histogram"
           }
          ],
          "histogram2d": [
           {
            "colorbar": {
             "outlinewidth": 0,
             "ticks": ""
            },
            "colorscale": [
             [
              0,
              "#0d0887"
             ],
             [
              0.1111111111111111,
              "#46039f"
             ],
             [
              0.2222222222222222,
              "#7201a8"
             ],
             [
              0.3333333333333333,
              "#9c179e"
             ],
             [
              0.4444444444444444,
              "#bd3786"
             ],
             [
              0.5555555555555556,
              "#d8576b"
             ],
             [
              0.6666666666666666,
              "#ed7953"
             ],
             [
              0.7777777777777778,
              "#fb9f3a"
             ],
             [
              0.8888888888888888,
              "#fdca26"
             ],
             [
              1,
              "#f0f921"
             ]
            ],
            "type": "histogram2d"
           }
          ],
          "histogram2dcontour": [
           {
            "colorbar": {
             "outlinewidth": 0,
             "ticks": ""
            },
            "colorscale": [
             [
              0,
              "#0d0887"
             ],
             [
              0.1111111111111111,
              "#46039f"
             ],
             [
              0.2222222222222222,
              "#7201a8"
             ],
             [
              0.3333333333333333,
              "#9c179e"
             ],
             [
              0.4444444444444444,
              "#bd3786"
             ],
             [
              0.5555555555555556,
              "#d8576b"
             ],
             [
              0.6666666666666666,
              "#ed7953"
             ],
             [
              0.7777777777777778,
              "#fb9f3a"
             ],
             [
              0.8888888888888888,
              "#fdca26"
             ],
             [
              1,
              "#f0f921"
             ]
            ],
            "type": "histogram2dcontour"
           }
          ],
          "mesh3d": [
           {
            "colorbar": {
             "outlinewidth": 0,
             "ticks": ""
            },
            "type": "mesh3d"
           }
          ],
          "parcoords": [
           {
            "line": {
             "colorbar": {
              "outlinewidth": 0,
              "ticks": ""
             }
            },
            "type": "parcoords"
           }
          ],
          "pie": [
           {
            "automargin": true,
            "type": "pie"
           }
          ],
          "scatter": [
           {
            "marker": {
             "colorbar": {
              "outlinewidth": 0,
              "ticks": ""
             }
            },
            "type": "scatter"
           }
          ],
          "scatter3d": [
           {
            "line": {
             "colorbar": {
              "outlinewidth": 0,
              "ticks": ""
             }
            },
            "marker": {
             "colorbar": {
              "outlinewidth": 0,
              "ticks": ""
             }
            },
            "type": "scatter3d"
           }
          ],
          "scattercarpet": [
           {
            "marker": {
             "colorbar": {
              "outlinewidth": 0,
              "ticks": ""
             }
            },
            "type": "scattercarpet"
           }
          ],
          "scattergeo": [
           {
            "marker": {
             "colorbar": {
              "outlinewidth": 0,
              "ticks": ""
             }
            },
            "type": "scattergeo"
           }
          ],
          "scattergl": [
           {
            "marker": {
             "colorbar": {
              "outlinewidth": 0,
              "ticks": ""
             }
            },
            "type": "scattergl"
           }
          ],
          "scattermapbox": [
           {
            "marker": {
             "colorbar": {
              "outlinewidth": 0,
              "ticks": ""
             }
            },
            "type": "scattermapbox"
           }
          ],
          "scatterpolar": [
           {
            "marker": {
             "colorbar": {
              "outlinewidth": 0,
              "ticks": ""
             }
            },
            "type": "scatterpolar"
           }
          ],
          "scatterpolargl": [
           {
            "marker": {
             "colorbar": {
              "outlinewidth": 0,
              "ticks": ""
             }
            },
            "type": "scatterpolargl"
           }
          ],
          "scatterternary": [
           {
            "marker": {
             "colorbar": {
              "outlinewidth": 0,
              "ticks": ""
             }
            },
            "type": "scatterternary"
           }
          ],
          "surface": [
           {
            "colorbar": {
             "outlinewidth": 0,
             "ticks": ""
            },
            "colorscale": [
             [
              0,
              "#0d0887"
             ],
             [
              0.1111111111111111,
              "#46039f"
             ],
             [
              0.2222222222222222,
              "#7201a8"
             ],
             [
              0.3333333333333333,
              "#9c179e"
             ],
             [
              0.4444444444444444,
              "#bd3786"
             ],
             [
              0.5555555555555556,
              "#d8576b"
             ],
             [
              0.6666666666666666,
              "#ed7953"
             ],
             [
              0.7777777777777778,
              "#fb9f3a"
             ],
             [
              0.8888888888888888,
              "#fdca26"
             ],
             [
              1,
              "#f0f921"
             ]
            ],
            "type": "surface"
           }
          ],
          "table": [
           {
            "cells": {
             "fill": {
              "color": "#EBF0F8"
             },
             "line": {
              "color": "white"
             }
            },
            "header": {
             "fill": {
              "color": "#C8D4E3"
             },
             "line": {
              "color": "white"
             }
            },
            "type": "table"
           }
          ]
         },
         "layout": {
          "annotationdefaults": {
           "arrowcolor": "#2a3f5f",
           "arrowhead": 0,
           "arrowwidth": 1
          },
          "autotypenumbers": "strict",
          "coloraxis": {
           "colorbar": {
            "outlinewidth": 0,
            "ticks": ""
           }
          },
          "colorscale": {
           "diverging": [
            [
             0,
             "#8e0152"
            ],
            [
             0.1,
             "#c51b7d"
            ],
            [
             0.2,
             "#de77ae"
            ],
            [
             0.3,
             "#f1b6da"
            ],
            [
             0.4,
             "#fde0ef"
            ],
            [
             0.5,
             "#f7f7f7"
            ],
            [
             0.6,
             "#e6f5d0"
            ],
            [
             0.7,
             "#b8e186"
            ],
            [
             0.8,
             "#7fbc41"
            ],
            [
             0.9,
             "#4d9221"
            ],
            [
             1,
             "#276419"
            ]
           ],
           "sequential": [
            [
             0,
             "#0d0887"
            ],
            [
             0.1111111111111111,
             "#46039f"
            ],
            [
             0.2222222222222222,
             "#7201a8"
            ],
            [
             0.3333333333333333,
             "#9c179e"
            ],
            [
             0.4444444444444444,
             "#bd3786"
            ],
            [
             0.5555555555555556,
             "#d8576b"
            ],
            [
             0.6666666666666666,
             "#ed7953"
            ],
            [
             0.7777777777777778,
             "#fb9f3a"
            ],
            [
             0.8888888888888888,
             "#fdca26"
            ],
            [
             1,
             "#f0f921"
            ]
           ],
           "sequentialminus": [
            [
             0,
             "#0d0887"
            ],
            [
             0.1111111111111111,
             "#46039f"
            ],
            [
             0.2222222222222222,
             "#7201a8"
            ],
            [
             0.3333333333333333,
             "#9c179e"
            ],
            [
             0.4444444444444444,
             "#bd3786"
            ],
            [
             0.5555555555555556,
             "#d8576b"
            ],
            [
             0.6666666666666666,
             "#ed7953"
            ],
            [
             0.7777777777777778,
             "#fb9f3a"
            ],
            [
             0.8888888888888888,
             "#fdca26"
            ],
            [
             1,
             "#f0f921"
            ]
           ]
          },
          "colorway": [
           "#636efa",
           "#EF553B",
           "#00cc96",
           "#ab63fa",
           "#FFA15A",
           "#19d3f3",
           "#FF6692",
           "#B6E880",
           "#FF97FF",
           "#FECB52"
          ],
          "font": {
           "color": "#2a3f5f"
          },
          "geo": {
           "bgcolor": "white",
           "lakecolor": "white",
           "landcolor": "#E5ECF6",
           "showlakes": true,
           "showland": true,
           "subunitcolor": "white"
          },
          "hoverlabel": {
           "align": "left"
          },
          "hovermode": "closest",
          "mapbox": {
           "style": "light"
          },
          "paper_bgcolor": "white",
          "plot_bgcolor": "#E5ECF6",
          "polar": {
           "angularaxis": {
            "gridcolor": "white",
            "linecolor": "white",
            "ticks": ""
           },
           "bgcolor": "#E5ECF6",
           "radialaxis": {
            "gridcolor": "white",
            "linecolor": "white",
            "ticks": ""
           }
          },
          "scene": {
           "xaxis": {
            "backgroundcolor": "#E5ECF6",
            "gridcolor": "white",
            "gridwidth": 2,
            "linecolor": "white",
            "showbackground": true,
            "ticks": "",
            "zerolinecolor": "white"
           },
           "yaxis": {
            "backgroundcolor": "#E5ECF6",
            "gridcolor": "white",
            "gridwidth": 2,
            "linecolor": "white",
            "showbackground": true,
            "ticks": "",
            "zerolinecolor": "white"
           },
           "zaxis": {
            "backgroundcolor": "#E5ECF6",
            "gridcolor": "white",
            "gridwidth": 2,
            "linecolor": "white",
            "showbackground": true,
            "ticks": "",
            "zerolinecolor": "white"
           }
          },
          "shapedefaults": {
           "line": {
            "color": "#2a3f5f"
           }
          },
          "ternary": {
           "aaxis": {
            "gridcolor": "white",
            "linecolor": "white",
            "ticks": ""
           },
           "baxis": {
            "gridcolor": "white",
            "linecolor": "white",
            "ticks": ""
           },
           "bgcolor": "#E5ECF6",
           "caxis": {
            "gridcolor": "white",
            "linecolor": "white",
            "ticks": ""
           }
          },
          "title": {
           "x": 0.05
          },
          "xaxis": {
           "automargin": true,
           "gridcolor": "white",
           "linecolor": "white",
           "ticks": "",
           "title": {
            "standoff": 15
           },
           "zerolinecolor": "white",
           "zerolinewidth": 2
          },
          "yaxis": {
           "automargin": true,
           "gridcolor": "white",
           "linecolor": "white",
           "ticks": "",
           "title": {
            "standoff": 15
           },
           "zerolinecolor": "white",
           "zerolinewidth": 2
          }
         }
        },
        "title": "Nearest neighbor model without spin-orbit coupling",
        "width": 510,
        "xaxis": {
         "linecolor": "black",
         "linewidth": 5,
         "mirror": true,
         "showgrid": true,
         "showline": true,
         "showticklabels": false
        },
        "yaxis": {
         "linecolor": "black",
         "linewidth": 5,
         "mirror": true,
         "showgrid": true,
         "showline": true,
         "showticklabels": true
        }
       }
      },
      "image/png": "[encoded data removed]",
      "image/svg+xml": [
       "<svg class=\"main-svg\" xmlns=\"http://www.w3.org/2000/svg\" xmlns:xlink=\"http://www.w3.org/1999/xlink\" width=\"700\" height=\"500\" style=\"\" viewBox=\"0 0 700 500\"><rect x=\"0\" y=\"0\" width=\"700\" height=\"500\" style=\"fill: rgb(255, 255, 255); fill-opacity: 1;\"/><defs id=\"defs-c497b6\"><g class=\"clips\"><clipPath id=\"clipc497b6xyplot\" class=\"plotclip\"><rect width=\"600\" height=\"390\"/></clipPath><clipPath class=\"axesclip\" id=\"clipc497b6x\"><rect x=\"50\" y=\"0\" width=\"600\" height=\"500\"/></clipPath><clipPath class=\"axesclip\" id=\"clipc497b6y\"><rect x=\"0\" y=\"60\" width=\"700\" height=\"390\"/></clipPath><clipPath class=\"axesclip\" id=\"clipc497b6xy\"><rect x=\"50\" y=\"60\" width=\"600\" height=\"390\"/></clipPath></g><g class=\"gradients\"/><g class=\"patterns\"/></defs><g class=\"bglayer\"><rect class=\"bg\" x=\"50\" y=\"60\" width=\"600\" height=\"390\" style=\"fill: rgb(0, 0, 0); fill-opacity: 0; stroke-width: 0;\"/></g><g class=\"layer-below\"><g class=\"imagelayer\"/><g class=\"shapelayer\"/></g><g class=\"cartesianlayer\"><g class=\"subplot xy\"><g class=\"layer-subplot\"><g class=\"shapelayer\"/><g class=\"imagelayer\"/></g><g class=\"gridlayer\"><g class=\"x\"><path class=\"xgrid crisp\" transform=\"translate(169.04000000000002,0)\" d=\"M0,60v390\" style=\"stroke: rgb(255, 255, 255); stroke-opacity: 1; stroke-width: 1px;\"/><path class=\"xgrid crisp\" transform=\"translate(289.28,0)\" d=\"M0,60v390\" style=\"stroke: rgb(255, 255, 255); stroke-opacity: 1; stroke-width: 1px;\"/><path class=\"xgrid crisp\" transform=\"translate(409.52,0)\" d=\"M0,60v390\" style=\"stroke: rgb(255, 255, 255); stroke-opacity: 1; stroke-width: 1px;\"/><path class=\"xgrid crisp\" transform=\"translate(529.76,0)\" d=\"M0,60v390\" style=\"stroke: rgb(255, 255, 255); stroke-opacity: 1; stroke-width: 1px;\"/></g><g class=\"y\"><path class=\"ygrid crisp\" transform=\"translate(0,430.5)\" d=\"M50,0h600\" style=\"stroke: rgb(255, 255, 255); stroke-opacity: 1; stroke-width: 1px;\"/><path class=\"ygrid crisp\" transform=\"translate(0,372)\" d=\"M50,0h600\" style=\"stroke: rgb(255, 255, 255); stroke-opacity: 1; stroke-width: 1px;\"/><path class=\"ygrid crisp\" transform=\"translate(0,255)\" d=\"M50,0h600\" style=\"stroke: rgb(255, 255, 255); stroke-opacity: 1; stroke-width: 1px;\"/><path class=\"ygrid crisp\" transform=\"translate(0,196.5)\" d=\"M50,0h600\" style=\"stroke: rgb(255, 255, 255); stroke-opacity: 1; stroke-width: 1px;\"/><path class=\"ygrid crisp\" transform=\"translate(0,138)\" d=\"M50,0h600\" style=\"stroke: rgb(255, 255, 255); stroke-opacity: 1; stroke-width: 1px;\"/><path class=\"ygrid crisp\" transform=\"translate(0,79.5)\" d=\"M50,0h600\" style=\"stroke: rgb(255, 255, 255); stroke-opacity: 1; stroke-width: 1px;\"/></g></g><g class=\"zerolinelayer\"><path class=\"yzl zl crisp\" transform=\"translate(0,313.5)\" d=\"M50,0h600\" style=\"stroke: rgb(255, 255, 255); stroke-opacity: 1; stroke-width: 2px;\"/></g><path class=\"xlines-below\"/><path class=\"ylines-below\"/><g class=\"overlines-below\"/><g class=\"xaxislayer-below\"/><g class=\"yaxislayer-below\"/><g class=\"overaxes-below\"/><g class=\"plot\" transform=\"translate(50,60)\" clip-path=\"url(#clipc497b6xyplot)\"><g class=\"scatterlayer mlayer\"><g class=\"trace scatter trace99d614\" style=\"stroke-miterlimit: 2; opacity: 1;\"><g class=\"fills\"/><g class=\"errorbars\"/><g class=\"lines\"><path class=\"js-line\" d=\"M0,370.5L600,370.5\" style=\"vector-effect: non-scaling-stroke; fill: none; stroke: rgb(128, 0, 128); stroke-opacity: 1; stroke-width: 4px; opacity: 1;\"/></g><g class=\"points\"/><g class=\"text\"/></g><g class=\"trace scatter traceed5240\" style=\"stroke-miterlimit: 2; opacity: 1;\"><g class=\"fills\"/><g class=\"errorbars\"/><g class=\"lines\"><path class=\"js-line\" d=\"M0,370.5L16.83,369.37L18.04,369.21L34.87,365.69L36.07,365.35L52.91,359.52L54.11,359.02L72.14,350.36L73.35,349.7L93.79,337.15L94.99,336.33L115.43,321.28L116.63,320.33L140.68,300.08L141.88,299.01L171.94,271.14L173.15,269.99L244.09,203.22L245.29,202.18L253.71,195L254.91,196.01L278.96,214.79L280.16,215.65L299.4,228.34L300.6,229.06L319.84,239.25L321.04,239.8L337.88,246.44L339.08,246.84L355.91,251.18L357.11,251.41L373.95,253.35L375.15,253.41L389.58,254.59L390.78,254.88L401.6,258.8L402.81,259.37L414.83,266.3L416.03,267.1L432.87,279.53L434.07,280.49L501.4,334.05L502.61,334.88L523.05,347.76L524.25,348.44L543.49,358.04L544.69,358.55L561.52,364.66L562.73,365.02L578.36,368.64L579.56,368.84L595.19,370.41L596.39,370.45L600,370.5\" style=\"vector-effect: non-scaling-stroke; fill: none; stroke: rgb(128, 0, 128); stroke-opacity: 1; stroke-width: 4px; opacity: 1;\"/></g><g class=\"points\"/><g class=\"text\"/></g><g class=\"trace scatter trace984ba6\" style=\"stroke-miterlimit: 2; opacity: 1;\"><g class=\"fills\"/><g class=\"errorbars\"/><g class=\"lines\"><path class=\"js-line\" d=\"M0,19.5L16.83,20.63L18.04,20.79L34.87,24.31L36.07,24.65L52.91,30.48L54.11,30.98L72.14,39.64L73.35,40.3L93.79,52.85L94.99,53.67L115.43,68.72L116.63,69.67L140.68,89.92L141.88,90.99L171.94,118.86L173.15,120.01L244.09,186.78L245.29,187.82L253.71,195L254.91,193.99L278.96,175.21L280.16,174.35L299.4,161.66L300.6,160.94L319.84,150.75L321.04,150.2L337.88,143.56L339.08,143.16L355.91,138.82L357.11,138.59L373.95,136.65L375.15,136.59L389.58,135.41L390.78,135.12L401.6,131.2L402.81,130.63L414.83,123.7L416.03,122.9L432.87,110.47L434.07,109.51L501.4,55.95L502.61,55.12L523.05,42.24L524.25,41.56L543.49,31.96L544.69,31.45L561.52,25.34L562.73,24.98L578.36,21.36L579.56,21.16L595.19,19.59L596.39,19.55L600,19.5\" style=\"vector-effect: non-scaling-stroke; fill: none; stroke: rgb(128, 0, 128); stroke-opacity: 1; stroke-width: 4px; opacity: 1;\"/></g><g class=\"points\"/><g class=\"text\"/></g></g></g><g class=\"overplot\"/><path class=\"xlines-above crisp\" d=\"M45,452.5H655M45,57.5H655\" style=\"fill: none; stroke-width: 5px; stroke: rgb(0, 0, 0); stroke-opacity: 1;\"/><path class=\"ylines-above crisp\" d=\"M47.5,60V450M652.5,60V450\" style=\"fill: none; stroke-width: 5px; stroke: rgb(0, 0, 0); stroke-opacity: 1;\"/><g class=\"overlines-above\"/><g class=\"xaxislayer-above\"/><g class=\"yaxislayer-above\"><g class=\"ytick\"><text text-anchor=\"end\" x=\"42.6\" y=\"4.199999999999999\" transform=\"translate(0,430.5)\" style=\"font-family: 'Open Sans', verdana, arial, sans-serif; font-size: 12px; fill: rgb(42, 63, 95); fill-opacity: 1; white-space: pre; opacity: 1;\">−2</text></g><g class=\"ytick\"><text text-anchor=\"end\" x=\"42.6\" y=\"4.199999999999999\" style=\"font-family: 'Open Sans', verdana, arial, sans-serif; font-size: 12px; fill: rgb(42, 63, 95); fill-opacity: 1; white-space: pre; opacity: 1;\" transform=\"translate(0,372)\">−1</text></g><g class=\"ytick\"><text text-anchor=\"end\" x=\"42.6\" y=\"4.199999999999999\" style=\"font-family: 'Open Sans', verdana, arial, sans-serif; font-size: 12px; fill: rgb(42, 63, 95); fill-opacity: 1; white-space: pre; opacity: 1;\" transform=\"translate(0,313.5)\">0</text></g><g class=\"ytick\"><text text-anchor=\"end\" x=\"42.6\" y=\"4.199999999999999\" style=\"font-family: 'Open Sans', verdana, arial, sans-serif; font-size: 12px; fill: rgb(42, 63, 95); fill-opacity: 1; white-space: pre; opacity: 1;\" transform=\"translate(0,255)\">1</text></g><g class=\"ytick\"><text text-anchor=\"end\" x=\"42.6\" y=\"4.199999999999999\" style=\"font-family: 'Open Sans', verdana, arial, sans-serif; font-size: 12px; fill: rgb(42, 63, 95); fill-opacity: 1; white-space: pre; opacity: 1;\" transform=\"translate(0,196.5)\">2</text></g><g class=\"ytick\"><text text-anchor=\"end\" x=\"42.6\" y=\"4.199999999999999\" style=\"font-family: 'Open Sans', verdana, arial, sans-serif; font-size: 12px; fill: rgb(42, 63, 95); fill-opacity: 1; white-space: pre; opacity: 1;\" transform=\"translate(0,138)\">3</text></g><g class=\"ytick\"><text text-anchor=\"end\" x=\"42.6\" y=\"4.199999999999999\" style=\"font-family: 'Open Sans', verdana, arial, sans-serif; font-size: 12px; fill: rgb(42, 63, 95); fill-opacity: 1; white-space: pre; opacity: 1;\" transform=\"translate(0,79.5)\">4</text></g></g><g class=\"overaxes-above\"/></g></g><g class=\"polarlayer\"/><g class=\"ternarylayer\"/><g class=\"geolayer\"/><g class=\"funnelarealayer\"/><g class=\"pielayer\"/><g class=\"iciclelayer\"/><g class=\"treemaplayer\"/><g class=\"sunburstlayer\"/><g class=\"glimages\"/><defs id=\"topdefs-c497b6\"><g class=\"clips\"/></defs><g class=\"layer-above\"><g class=\"imagelayer\"/><g class=\"shapelayer\"/></g><g class=\"infolayer\"><g class=\"g-gtitle\"><text class=\"gtitle\" x=\"35\" y=\"30\" text-anchor=\"start\" dy=\"0em\" style=\"font-family: 'Open Sans', verdana, arial, sans-serif; font-size: 17px; fill: rgb(42, 63, 95); opacity: 1; font-weight: normal; white-space: pre;\">Nearest neighbor model without spin-orbit coupling</text></g><g class=\"g-xtitle\"/><g class=\"g-ytitle\"/></g></svg>"
      ],
      "text/html": [
       "<div\n",
       "    class=\"webio-mountpoint\"\n",
       "    data-webio-mountpoint=\"13410218375731167427\"\n",
       ">\n",
       "    <script>\n",
       "    (function(){\n",
       "    // Some integrations (namely, IJulia/Jupyter) use an alternate render pathway than\n",
       "    // just putting the html on the page. If WebIO isn't defined, then it's pretty likely\n",
       "    // that we're in one of those situations and the integration just isn't installed\n",
       "    // correctly.\n",
       "    if (typeof window.WebIO === \"undefined\") {\n",
       "        document\n",
       "            .querySelector('[data-webio-mountpoint=\"13410218375731167427\"]')\n",
       "            .innerHTML = (\n",
       "                '<div style=\"padding: 1em; background-color: #f8d6da; border: 1px solid #f5c6cb; font-weight: bold;\">' +\n",
       "                '<p><strong>WebIO not detected.</strong></p>' +\n",
       "                '<p>Please read ' +\n",
       "                '<a href=\"https://juliagizmos.github.io/WebIO.jl/latest/troubleshooting/not-detected/\" target=\"_blank\">the troubleshooting guide</a> ' +\n",
       "                'for more information on how to resolve this issue.</p>' +\n",
       "                '<p><a href=\"https://juliagizmos.github.io/WebIO.jl/latest/troubleshooting/not-detected/\" target=\"_blank\">https://juliagizmos.github.io/WebIO.jl/latest/troubleshooting/not-detected/</a></p>' +\n",
       "                '</div>'\n",
       "            );\n",
       "        return;\n",
       "    }\n",
       "    WebIO.mount(\n",
       "        document.querySelector('[data-webio-mountpoint=\"13410218375731167427\"]'),\n",
       "        {\"props\":{},\"nodeType\":\"Scope\",\"type\":\"node\",\"instanceArgs\":{\"imports\":{\"data\":[{\"name\":\"Plotly\",\"type\":\"js\",\"url\":\"\\/assetserver\\/b267c3137400db01c304fe886fe6f707be7fdb37-plotly.min.js\"},{\"name\":null,\"type\":\"js\",\"url\":\"\\/assetserver\\/020f2e8a4619f2ae880fff9315e6547eef1aff0b-plotly_webio.bundle.js\"}],\"type\":\"async_block\"},\"id\":\"167765584378854338\",\"handlers\":{\"_toImage\":[\"(function (options){return this.Plotly.toImage(this.plotElem,options).then((function (data){return WebIO.setval({\\\"name\\\":\\\"image\\\",\\\"scope\\\":\\\"167765584378854338\\\",\\\"id\\\":\\\"229703\\\",\\\"type\\\":\\\"observable\\\"},data)}))})\"],\"__get_gd_contents\":[\"(function (prop){prop==\\\"data\\\" ? (WebIO.setval({\\\"name\\\":\\\"__gd_contents\\\",\\\"scope\\\":\\\"167765584378854338\\\",\\\"id\\\":\\\"229704\\\",\\\"type\\\":\\\"observable\\\"},this.plotElem.data)) : undefined; return prop==\\\"layout\\\" ? (WebIO.setval({\\\"name\\\":\\\"__gd_contents\\\",\\\"scope\\\":\\\"167765584378854338\\\",\\\"id\\\":\\\"229704\\\",\\\"type\\\":\\\"observable\\\"},this.plotElem.layout)) : undefined})\"],\"_downloadImage\":[\"(function (options){return this.Plotly.downloadImage(this.plotElem,options)})\"],\"_commands\":[\"(function (args){var fn=args.shift(); var elem=this.plotElem; var Plotly=this.Plotly; args.unshift(elem); return Plotly[fn].apply(this,args)})\"]},\"systemjs_options\":null,\"mount_callbacks\":[\"function () {\\n    var handler = ((function (Plotly,PlotlyWebIO){PlotlyWebIO.init(WebIO); var gd=this.dom.querySelector(\\\"#plot-661c95ce-c4fe-41ce-9d41-81963e4df829\\\"); this.plotElem=gd; this.Plotly=Plotly; (window.Blink!==undefined) ? (gd.style.width=\\\"100%\\\", gd.style.height=\\\"100vh\\\", gd.style.marginLeft=\\\"0%\\\", gd.style.marginTop=\\\"0vh\\\") : undefined; window.onresize=(function (){return Plotly.Plots.resize(gd)}); Plotly.newPlot(gd,[{\\\"mode\\\":\\\"lines\\\",\\\"line\\\":{\\\"color\\\":\\\"purple\\\",\\\"width\\\":4},\\\"y\\\":[-2.000000000000001,-2.0,-2.0,-2.0000000000000004,-1.9999999999999998,-2.000000000000001,-2.0000000000000004,-2.000000000000001,-2.0,-2.000000000000001,-2.0,-2.0,-2.0000000000000004,-2.0000000000000004,-2.000000000000001,-2.000000000000001,-2.0,-2.0,-2.0000000000000004,-2.000000000000001,-2.0,-2.000000000000001,-2.0,-2.000000000000001,-2.000000000000001,-2.0,-2.000000000000001,-2.0,-2.000000000000001,-2.0,-2.000000000000001,-1.9999999999999996,-1.9999999999999998,-2.0,-1.9999999999999998,-2.000000000000001,-2.0,-2.0,-2.0000000000000004,-1.9999999999999998,-2.0000000000000004,-2.0000000000000004,-2.0000000000000004,-2.0,-2.0,-2.0,-2.0000000000000004,-2.0000000000000004,-2.000000000000001,-2.000000000000001,-2.0,-2.0000000000000004,-2.000000000000001,-1.9999999999999996,-2.000000000000001,-2.0,-2.0000000000000004,-2.0,-2.0000000000000004,-1.9999999999999998,-2.0000000000000004,-2.0000000000000004,-2.000000000000001,-2.0000000000000004,-1.9999999999999998,-2.0000000000000004,-2.0000000000000004,-2.0000000000000004,-2.000000000000001,-2.0,-2.000000000000001,-2.0,-2.000000000000001,-2.0000000000000004,-2.0,-2.0,-2.0,-2.000000000000001,-2.0,-2.0000000000000013,-1.9999999999999998,-2.000000000000001,-1.9999999999999998,-2.0,-1.9999999999999996,-2.000000000000001,-2.0000000000000004,-2.0000000000000004,-2.000000000000001,-2.000000000000001,-1.9999999999999998,-2.0,-1.9999999999999996,-2.0,-2.0000000000000004,-2.0,-1.9999999999999993,-2.0,-1.9999999999999998,-1.9999999999999998,-2.0000000000000013,-1.9999999999999998,-1.9999999999999993,-2.000000000000001,-2.0000000000000004,-1.9999999999999998,-2.000000000000001,-2.000000000000001,-1.9999999999999998,-2.000000000000001,-2.0,-2.0000000000000004,-1.9999999999999998,-2.0,-2.000000000000001,-2.0000000000000004,-2.0000000000000004,-2.0,-2.0,-2.0,-1.9999999999999998,-1.9999999999999998,-1.9999999999999998,-2.0,-1.9999999999999993,-2.0,-2.0000000000000004,-2.0000000000000004,-1.9999999999999998,-2.0,-2.0,-2.0000000000000004,-1.9999999999999996,-1.9999999999999996,-2.0,-2.0,-1.9999999999999998,-2.0,-2.0,-2.0,-2.0,-2.0,-2.000000000000001,-2.0,-2.0,-1.9999999999999998,-2.0000000000000004,-2.0000000000000004,-2.0,-2.0,-1.9999999999999998,-2.0000000000000004,-2.0,-2.0000000000000004,-2.0,-1.9999999999999998,-1.9999999999999998,-2.0,-2.0,-2.0,-2.0,-2.0,-2.0,-2.0,-2.0,-2.0,-2.0,-2.0000000000000004,-2.0,-2.0,-2.0,-2.0,-2.0,-2.0,-2.0,-2.0,-2.0,-2.0,-2.0,-2.0,-2.0,-2.0,-2.0,-2.0,-2.0000000000000004,-2.0,-2.0,-2.0,-2.0,-2.0,-1.9999999999999996,-2.0,-2.0,-2.0,-2.0,-2.0,-2.0,-2.0,-2.0,-2.0,-2.0,-2.0,-2.0000000000000004,-2.0,-2.0,-2.0,-2.0,-2.0,-2.0,-2.0,-2.0,-2.0,-1.9999999999999998,-2.0,-1.9999999999999996,-2.0,-2.0000000000000004,-1.9999999999999996,-2.0,-2.0000000000000004,-2.0000000000000004,-2.0,-2.0,-2.0,-2.0000000000000004,-2.0,-1.9999999999999998,-1.9999999999999998,-2.0,-2.0,-2.0,-2.0,-2.0,-2.0,-2.0,-1.9999999999999996,-2.0000000000000004,-2.0000000000000004,-1.9999999999999993,-1.9999999999999996,-1.9999999999999998,-2.0,-2.0,-2.0,-2.0,-1.9999999999999998,-2.0,-2.0000000000000004,-2.0,-2.0,-2.0,-2.0000000000000004,-2.0,-2.0,-2.0000000000000004,-2.0,-2.0,-1.9999999999999996,-2.0,-2.0,-2.0,-2.0,-2.0,-2.0,-2.0,-2.0,-2.0,-1.9999999999999998,-2.0,-2.0,-2.0,-1.9999999999999996,-2.0,-2.0000000000000004,-2.0,-2.0,-2.0,-2.0,-2.0,-2.0,-2.0000000000000004,-1.9999999999999998,-2.0000000000000004,-1.9999999999999998,-1.9999999999999998,-1.9999999999999996,-2.0000000000000004,-1.9999999999999998,-2.0,-2.0,-1.9999999999999996,-2.0,-2.0,-2.0,-2.0,-2.0000000000000004,-2.000000000000001,-2.0,-2.0000000000000004,-2.0000000000000004,-1.9999999999999991,-2.000000000000001,-2.0000000000000013,-1.9999999999999998,-2.0,-1.9999999999999998,-2.0000000000000004,-1.9999999999999998,-1.9999999999999991,-1.9999999999999991,-2.0000000000000004,-2.000000000000001,-2.0000000000000004,-2.0,-2.0,-2.0000000000000004,-1.9999999999999993,-2.0000000000000004,-2.0,-1.9999999999999998,-2.0000000000000004,-2.0000000000000004,-1.9999999999999996,-2.0,-2.0000000000000004,-2.0,-1.9999999999999998,-2.0000000000000004,-2.0000000000000004,-1.9999999999999998,-2.0,-1.9999999999999998,-1.9999999999999998,-2.0,-1.9999999999999998,-2.0,-1.9999999999999996,-1.9999999999999998,-2.0,-2.0000000000000004,-1.9999999999999998,-1.9999999999999996,-2.000000000000001,-2.0,-2.000000000000001,-2.0000000000000004,-2.0000000000000004,-2.0,-2.0,-2.0,-2.0,-2.0000000000000004,-1.9999999999999998,-2.0,-2.0,-2.0,-2.0,-1.9999999999999998,-2.0,-2.0,-2.0,-2.0,-2.0,-2.0,-1.9999999999999991,-2.0,-1.9999999999999996,-2.0000000000000004,-1.9999999999999998,-1.9999999999999993,-1.9999999999999998,-2.0,-1.9999999999999996,-2.0000000000000004,-2.0000000000000004,-2.0,-2.0,-2.0000000000000004,-2.0,-2.0,-1.9999999999999996,-2.0,-1.9999999999999996,-2.0000000000000004,-2.0,-1.9999999999999998,-1.9999999999999993,-1.9999999999999998,-1.9999999999999998,-1.9999999999999993,-2.0000000000000004,-1.9999999999999998,-2.0000000000000004,-2.0,-2.0000000000000004,-1.9999999999999996,-2.0,-2.0000000000000004,-2.0,-2.0,-1.9999999999999998,-1.9999999999999998,-2.0000000000000004,-2.000000000000001,-2.0,-2.0,-1.9999999999999996,-2.0000000000000004,-2.0000000000000004,-1.9999999999999996,-2.0000000000000004,-1.9999999999999998,-1.9999999999999998,-2.0000000000000004,-2.0,-1.9999999999999993,-1.9999999999999993,-2.0000000000000004,-1.9999999999999996,-1.9999999999999998,-2.0,-2.0000000000000004,-1.9999999999999996,-1.9999999999999996,-2.0,-2.0,-1.9999999999999996,-2.0000000000000004,-1.9999999999999996,-1.9999999999999993,-2.0000000000000004,-2.0,-2.0000000000000004,-2.0,-2.0000000000000004,-2.0000000000000004,-1.9999999999999993,-1.9999999999999998,-2.0,-1.9999999999999998,-1.9999999999999993,-1.9999999999999996,-2.0000000000000013,-2.0000000000000004,-1.9999999999999993,-2.0,-2.0,-1.9999999999999991,-2.0,-2.0000000000000004,-1.9999999999999998,-1.9999999999999996,-1.9999999999999984,-2.0,-1.9999999999999993,-2.0000000000000004,-1.999999999999999,-2.000000000000001,-2.0000000000000004,-2.0,-1.9999999999999998,-2.0000000000000004,-1.9999999999999996,-1.9999999999999993,-2.0000000000000004,-1.9999999999999998,-1.9999999999999998,-1.9999999999999998,-2.0,-2.0000000000000004,-1.9999999999999998,-2.0000000000000004,-2.0,-2.0000000000000004,-2.000000000000001,-2.0000000000000004,-2.0,-1.9999999999999993,-2.0000000000000004,-2.0000000000000004,-2.0,-2.0,-2.0,-1.9999999999999991,-2.0000000000000004,-1.9999999999999998,-2.0,-2.0,-1.9999999999999993,-2.0000000000000004,-2.0000000000000004,-2.0000000000000004,-1.9999999999999998,-2.0,-2.0,-2.0000000000000004,-1.9999999999999993,-1.9999999999999998,-1.9999999999999991,-2.000000000000001],\\\"type\\\":\\\"scatter\\\",\\\"x\\\":[1,2,3,4,5,6,7,8,9,10,11,12,13,14,15,16,17,18,19,20,21,22,23,24,25,26,27,28,29,30,31,32,33,34,35,36,37,38,39,40,41,42,43,44,45,46,47,48,49,50,51,52,53,54,55,56,57,58,59,60,61,62,63,64,65,66,67,68,69,70,71,72,73,74,75,76,77,78,79,80,81,82,83,84,85,86,87,88,89,90,91,92,93,94,95,96,97,98,99,100,101,102,103,104,105,106,107,108,109,110,111,112,113,114,115,116,117,118,119,120,121,122,123,124,125,126,127,128,129,130,131,132,133,134,135,136,137,138,139,140,141,142,143,144,145,146,147,148,149,150,151,152,153,154,155,156,157,158,159,160,161,162,163,164,165,166,167,168,169,170,171,172,173,174,175,176,177,178,179,180,181,182,183,184,185,186,187,188,189,190,191,192,193,194,195,196,197,198,199,200,201,202,203,204,205,206,207,208,209,210,211,212,213,214,215,216,217,218,219,220,221,222,223,224,225,226,227,228,229,230,231,232,233,234,235,236,237,238,239,240,241,242,243,244,245,246,247,248,249,250,251,252,253,254,255,256,257,258,259,260,261,262,263,264,265,266,267,268,269,270,271,272,273,274,275,276,277,278,279,280,281,282,283,284,285,286,287,288,289,290,291,292,293,294,295,296,297,298,299,300,301,302,303,304,305,306,307,308,309,310,311,312,313,314,315,316,317,318,319,320,321,322,323,324,325,326,327,328,329,330,331,332,333,334,335,336,337,338,339,340,341,342,343,344,345,346,347,348,349,350,351,352,353,354,355,356,357,358,359,360,361,362,363,364,365,366,367,368,369,370,371,372,373,374,375,376,377,378,379,380,381,382,383,384,385,386,387,388,389,390,391,392,393,394,395,396,397,398,399,400,401,402,403,404,405,406,407,408,409,410,411,412,413,414,415,416,417,418,419,420,421,422,423,424,425,426,427,428,429,430,431,432,433,434,435,436,437,438,439,440,441,442,443,444,445,446,447,448,449,450,451,452,453,454,455,456,457,458,459,460,461,462,463,464,465,466,467,468,469,470,471,472,473,474,475,476,477,478,479,480,481,482,483,484,485,486,487,488,489,490,491,492,493,494,495,496,497,498,499,500]},{\\\"mode\\\":\\\"lines\\\",\\\"line\\\":{\\\"color\\\":\\\"purple\\\",\\\"width\\\":4},\\\"y\\\":[-2.0,-1.9999014744666956,-1.9996059075740604,-1.999113328442982,-1.9984237856050775,-1.99753734699793,-1.9964540999583726,-1.9951741512138947,-1.9936976268721331,-1.9920246724084336,-1.9901554526515288,-1.9880901517672922,-1.985828973240592,-1.9833721398552495,-1.9807198936720845,-1.9778724960050702,-1.9748302273955745,-1.9715933875847407,-1.9681622954839295,-1.9645372891433277,-1.9607187257186136,-1.9567069814357854,-1.9525024515540907,-1.948105550327076,-1.9435167109617808,-1.938736385576051,-1.9337650451539927,-1.9286031794995746,-1.9232512971883606,-1.9177099255174128,-1.9119796104533278,-1.9060609165784541,-1.8999544270352624,-1.89366074346889,-1.8871804859678705,-1.8805142930030256,-1.8736628213645745,-1.8666267460974157,-1.8594067604346145,-1.8520035757291091,-1.844417921383624,-1.8366505447787949,-1.8287022111995468,-1.820573703759684,-1.8122658233247357,-1.8037793884330562,-1.7951152352151627,-1.786274217311377,-1.777257205787702,-1.768065089050003,-1.758698772756491,-1.7491591797284662,-1.7394472498594253,-1.7295639400224347,-1.7195102239758677,-1.7092870922674601,-1.6988955521367148,-1.6883366274156655,-1.6776113584280004,-1.666720801886568,-1.6556660307892581,-1.6444481343132904,-1.6330682177078941,-1.6215274021854276,-1.6098268248108891,-1.5979676383899077,-1.5859510113551498,-1.5737781276512026,-1.5614501866179236,-1.5489684028722785,-1.5363340061886677,-1.5235482413777617,-1.5106123681638572,-1.4975276610607626,-1.484295409246222,-1.4709169164349025,-1.4573935007499461,-1.4437264945930899,-1.429917244513408,-1.4159671110746277,-1.4018774687210862,-1.3876497056423092,-1.373285223636245,-1.3587854379711397,-1.3441517772461136,-1.3293856832503885,-1.3144886108212535,-1.299462027700714,-1.2843074143908852,-1.2690262640081251,-1.2536200821359262,-1.2380903866765718,-1.2224387077015901,-1.2066665873009996,-1.1907755794313737,-1.1747672497627362,-1.158643175524307,-1.1424049453490985,-1.1260541591173994,-1.1095924277991425,-1.0930213732951848,-1.0763426282775093,-1.059557836028364,-1.042668650278356,-1.0256767350435183,-1.008583764461362,-0.9913914226259288,-0.9741014034218672,-0.9567154103575404,-0.9392351563971866,-0.9216623637921493,-0.9039987639111917,-0.8862460970699129,-0.868406112359281,-0.8504805674733029,-0.8324712285358489,-0.8143798699266418,-0.7962082741064372,-0.777958231441404,-0.7596315400267295,-0.7412300055094577,-0.7227554409105921,-0.7042096664464605,-0.6855945093493836,-0.6669118036876425,-0.6481633901847745,-0.6293511160382204,-0.6104768347373222,-0.5915424058807117,-0.5725496949930875,-0.5535005733414211,-0.5343969177505818,-0.5152406104184242,-0.49603353873034517,-0.47677759507332496,-0.45747467664948216,-0.4381266852891481,-0.41873552726349117,-0.39930311309669686,-0.3798313573777339,-0.3603221785717201,-0.34077749883090025,-0.32119924380527,-0.3015893424528453,-0.28194972684961783,-0.2622823319991867,-0.2425890956421184,-0.22287195806502824,-0.20313286190941104,-0.18337375198024186,-0.16359657505436487,-0.14380327968868434,-0.12399581602818088,-0.10417613561377537,-0.08434619119005138,-0.06450793651285802,-0.04466332615681745,-0.024814315322747138,-0.0049628596450270734,0.014889085001086544,0.03473956269215983,0.054586617649292624,0.07442829443080945,0.09426263812492497,0.11408769454234857,0.1339015104088237,0.153702133557575,0.17348761312164784,0.19325599972611587,0.21300534568014706,0.2327337051688972,0.25243913444522814,0.2721196920212103,0.2917734388594132,0.3113984385639479,0.3309927575712541,0.3505544653405994,0.3700816345442943,0.3895723412575798,0.40902466514818103,0.4284366896655136,0.4478065022295099,0.4671321944190572,0.48641186216002374,0.505643605912866,0.5248255308597728,0.5439557470913594,0.5630323697928697,0.5820535194298775,0.6010173219334722,0.6199219088848974,0.6387654176996409,0.6575459918109497,0.6762617808527424,0.6949109408419223,0.713491634360057,0.7320020307344068,0.7504403062182974,0.7688046441708044,0.787093235235738,0.8053042775199077,0.8234359767706627,0.8414865465526628,0.8594542084238951,0.8773371921108905,0.8951337356831442,0.9128420857267111,0.9304604975169585,0.9479872351904686,0.9654205719160641,0.982758790064948,0.9999998186200697,0.9827758346374926,0.9656527578388776,0.9486325634573811,0.9317169444244059,0.9149075832695146,0.8982061519531992,0.8816143117005887,0.8651337128362225,0.8487659946199012,0.8325127850836315,0.8163757008696975,0.800356347069856,0.784456317065689,0.7686771923701119,0.7530205424700694,0.7374879246704239,0.7220808839390569,0.706800952753196,0.6916496509469868,0.6766284855603236,0.6617389506889415,0.6469825273358158,0.6323606832638442,0.6178748728498586,0.6035265369399604,0.5893171027062104,0.575247983504668,0.5613205787348141,0.5475362737003576,0.5338964394714414,0.5204024327482758,0.507055595726183,0.49385725596210023,0.4808087262425317,0.467911304452971,0.4551662734488045,0.44257490092771123,0.43013843930357387,0.41785812558189706,0.405735181236777,0.3937708120894014,0.3819662081881112,0.37032254369003254,0.35884097674428844,0.34752264937679866,0.3363686873766926,0.3253802001843277,0.3145582807809374,0.3039040055799194,0.29341843431976655,0.28310260995865977,0.27295755857073123,0.2629842892439995,0.2531837939800061,0.2435570475951399,0.23410500762367853,0.22482861422254646,0.21572879007779822,0.206806440312848,0.1980624523984338,0.1894976960643523,0.18111302321294087,0.1729092678343504,0.16488724592358822,0.157047755399353,0.14939157602467112,0.14191946932933686,0.13463217853416448,0.12753042847706314,0.12061492554094089,0.1138863575834459,0.10734539386854075,0.10099268499994307,0.09482886285640502,0.08885454052886588,0.08307031225946937,0.07747675338245885,0.07207442026694688,0.0668638502615812,0.06184556164109167,0.057020053554741545,0.052387805976680746,0.04794927965819973,0.043704916081906964,0.03965513741781118,0.03580034648133257,0.03214092669323593,0.028677242041490414,0.02540963704507032,0.02233843671968505,0.01946394654544703,0.01678645243649049,0.0143062207125364,0.012023498072396305,0.009938511569435815,0.008051468588991265,0.006362556827743934,0.004871944275047779,0.003579779196222245,0.00248619011779877,0.0015912858147460324,0.0008951552996468953,0.00039786781384073015,9.947282054319098e-5,-8.140571359215114e-14,-0.00029467633152808115,-0.0011780677333988639,-0.0026483582879167564,-0.004702539281111473,-0.007336435501517191,-0.010544741287264903,-0.014321065585351928,-0.018657985123930992,-0.023547104667226926,-0.028979123226420267,-0.034943905039973466,-0.04143055411306917,-0.04842749111617134,-0.055922531483942495,-0.06390296362364933,-0.07235562623170488,-0.08126698382289477,-0.09062319969380717,-0.10041020566489195,-0.11061376806988071,-0.12121954958288256,-0.13221316658921906,-0.1435802419131742,-0.15530645281270045,-0.1673775742364429,-0.17977951741174097,-0.19249836389343267,-0.20552039525277505,-0.2188321186242541,-0.23242028835635092,-0.24627192403164666,-0.2603743251329637,-0.2747150826368471,-0.2892820878145641,-0.30406353851513496,-0.31904794319555596,-0.33422412295129006,-0.3495812117860005,-0.36510865534407416,-0.38079620831327077,-0.39663393068829295,-0.41261218306961356,-0.4287216211557339,-0.4449531895715145,-0.46129811516038827,-0.4777478998542571,-0.4942943132218752,-0.5109293847843673,-0.5276453961754569,-0.5444348732137776,-0.5612905779454145,-0.5782055007065201,-0.5951728522482982,-0.6121860559600066,-0.6292387402196397,-0.6463247308966846,-0.6634380440267014,-0.6805728786733819,-0.6977236099901899,-0.7148847824905761,-0.7320511035330971,-0.749217437025442,-0.7663787973494227,-0.783530343507279,-0.8006673734882869,-0.8177853188534036,-0.8348797395347775,-0.8519463188461002,-0.8689808586991573,-0.8859792750213912,-0.9029375933689471,-0.9198519447293031,-0.9367185615074455,-0.9535337736893701,-0.970294005176628,-0.9869957702856054,-1.0036356704052767,-1.0202103908071873,-1.0367166976015434,-1.053151434833379,-1.0695115217129343,-1.0857939499744815,-1.101995781358048,-1.1181141452086072,-1.1341462361875347,-1.1500893120912468,-1.165940691772193,-1.1816977531574921,-1.1973579313607263,-1.2129187168825601,-1.2283776538960614,-1.2437323386127457,-1.258980417725544,-1.2741195869250743,-1.2891475894857425,-1.3040622149183665,-1.3188612976861376,-1.3335427159809494,-1.3481043905571608,-1.3625442836201023,-1.3768603977666773,-1.3910507749756007,-1.4051134956448668,-1.4190466776742376,-1.4328484755905575,-1.4465170797138993,-1.4600507153625395,-1.4734476420949658,-1.486706152987134,-1.4998245739432885,-1.5128012630387793,-1.52563460989333,-1.5383230350733599,-1.5508649895219324,-1.563258954015083,-1.5755034386432376,-1.5875969823165825,-1.5995381522932437,-1.6113255437292007,-1.622957779248941,-1.634433508535879,-1.6457514079416182,-1.656910180113182,-1.6679085536373939,-1.6787452827015965,-1.6894191467699808,-1.6999289502747799,-1.7102735223216639,-1.720451716408693,-1.7304624101581907,-1.7403045050609518,-1.749976926232256,-1.7594786221791041,-1.7688085645782106,-1.7779657480642381,-1.786949190027858,-1.7957579304231235,-1.8043910315838279,-1.8128475780483757,-1.8211266763928315,-1.8292274550717689,-1.837149064266578,-1.8448906757409038,-1.8524514827029135,-1.859830699674074,-1.8670275623641925,-1.874041327552407,-1.880871272973909,-1.8875166972121344,-1.8939769195962008,-1.900251280103356,-1.906339139266252,-1.9122398780848124,-1.917952897942544,-1.9234776205270756,-1.9288134877547667,-1.93395996169924,-1.9389165245236442,-1.9436826784165584,-1.9482579455313298,-1.952641867928786,-1.9568340075231327,-1.9608339460309743,-1.9646412849233008,-1.9682556453803774,-1.971676668249413,-1.97490401400492,-1.9779373627116856,-1.9807764139902748,-1.983420886984976,-1.9858705203341438,-1.988125072142843,-1.9901843199577711,-1.9920480607443698,-1.9937161108660932,-1.9951883060657871,-1.9964645014491413,-1.997544571470162,-1.9984284099186544,-1.9991159299096677,-1.9996070638749057,-1.9999017635560472,-2.0],\\\"type\\\":\\\"scatter\\\",\\\"x\\\":[1,2,3,4,5,6,7,8,9,10,11,12,13,14,15,16,17,18,19,20,21,22,23,24,25,26,27,28,29,30,31,32,33,34,35,36,37,38,39,40,41,42,43,44,45,46,47,48,49,50,51,52,53,54,55,56,57,58,59,60,61,62,63,64,65,66,67,68,69,70,71,72,73,74,75,76,77,78,79,80,81,82,83,84,85,86,87,88,89,90,91,92,93,94,95,96,97,98,99,100,101,102,103,104,105,106,107,108,109,110,111,112,113,114,115,116,117,118,119,120,121,122,123,124,125,126,127,128,129,130,131,132,133,134,135,136,137,138,139,140,141,142,143,144,145,146,147,148,149,150,151,152,153,154,155,156,157,158,159,160,161,162,163,164,165,166,167,168,169,170,171,172,173,174,175,176,177,178,179,180,181,182,183,184,185,186,187,188,189,190,191,192,193,194,195,196,197,198,199,200,201,202,203,204,205,206,207,208,209,210,211,212,213,214,215,216,217,218,219,220,221,222,223,224,225,226,227,228,229,230,231,232,233,234,235,236,237,238,239,240,241,242,243,244,245,246,247,248,249,250,251,252,253,254,255,256,257,258,259,260,261,262,263,264,265,266,267,268,269,270,271,272,273,274,275,276,277,278,279,280,281,282,283,284,285,286,287,288,289,290,291,292,293,294,295,296,297,298,299,300,301,302,303,304,305,306,307,308,309,310,311,312,313,314,315,316,317,318,319,320,321,322,323,324,325,326,327,328,329,330,331,332,333,334,335,336,337,338,339,340,341,342,343,344,345,346,347,348,349,350,351,352,353,354,355,356,357,358,359,360,361,362,363,364,365,366,367,368,369,370,371,372,373,374,375,376,377,378,379,380,381,382,383,384,385,386,387,388,389,390,391,392,393,394,395,396,397,398,399,400,401,402,403,404,405,406,407,408,409,410,411,412,413,414,415,416,417,418,419,420,421,422,423,424,425,426,427,428,429,430,431,432,433,434,435,436,437,438,439,440,441,442,443,444,445,446,447,448,449,450,451,452,453,454,455,456,457,458,459,460,461,462,463,464,465,466,467,468,469,470,471,472,473,474,475,476,477,478,479,480,481,482,483,484,485,486,487,488,489,490,491,492,493,494,495,496,497,498,499,500]},{\\\"mode\\\":\\\"lines\\\",\\\"line\\\":{\\\"color\\\":\\\"purple\\\",\\\"width\\\":4},\\\"y\\\":[3.9999999999999996,3.9999014744666948,3.9996059075740593,3.9991133284429807,3.9984237856050786,3.9975373469979294,3.996454099958371,3.9951741512138943,3.993697626872134,3.9920246724084345,3.9901554526515293,3.988090151767291,3.9858289732405914,3.98337213985525,3.9807198936720853,3.9778724960050695,3.9748302273955765,3.97159338758474,3.9681622954839297,3.964537289143327,3.960718725718613,3.9567069814357856,3.952502451554092,3.9481055503270763,3.943516710961781,3.9387363855760515,3.9337650451539927,3.928603179499575,3.9232512971883606,3.9177099255174133,3.9119796104533275,3.9060609165784554,3.8999544270352624,3.893660743468891,3.8871804859678702,3.880514293003025,3.873662821364575,3.8666267460974155,3.859406760434614,3.85200357572911,3.844417921383623,3.836650544778795,3.828702211199547,3.8205737037596834,3.8122658233247364,3.803779388433055,3.7951152352151625,3.7862742173113775,3.777257205787701,3.768065089050004,3.75869877275649,3.749159179728467,3.7394472498594244,3.7295639400224356,3.7195102239758677,3.7092870922674606,3.698895552136715,3.688336627415665,3.6776113584280012,3.6667208018865685,3.6556660307892583,3.64444813431329,3.633068217707895,3.6215274021854276,3.60982682481089,3.5979676383899086,3.5859510113551494,3.5737781276512024,3.5614501866179236,3.548968402872278,3.5363340061886674,3.5235482413777612,3.5106123681638572,3.497527661060763,3.484295409246222,3.470916916434904,3.4573935007499452,3.44372649459309,3.4299172445134083,3.415967111074627,3.4018774687210867,3.3876497056423096,3.3732852236362447,3.3587854379711404,3.344151777246113,3.329385683250389,3.314488610821254,3.299462027700714,3.2843074143908852,3.269026264008125,3.253620082135927,3.2380903866765722,3.22243870770159,3.206666587300999,3.1907755794313735,3.174767249762736,3.1586431755243067,3.1424049453490994,3.126054159117399,3.109592427799143,3.0930213732951843,3.0763426282775095,3.0595578360283637,3.0426686502783555,3.0256767350435183,3.0085837644613616,2.991391422625929,2.9741014034218676,2.95671541035754,2.939235156397187,2.921662363792149,2.903998763911192,2.886246097069913,2.8684061123592812,2.850480567473303,2.8324712285358493,2.814379869926642,2.7962082741064376,2.7779582314414046,2.7596315400267297,2.741230005509458,2.722755440910592,2.7042096664464603,2.6855945093493836,2.6669118036876425,2.6481633901847745,2.62935111603822,2.6104768347373226,2.5915424058807117,2.5725496949930875,2.5535005733414216,2.5343969177505823,2.515240610418424,2.4960335387303454,2.4767775950733255,2.457474676649482,2.4381266852891477,2.4187355272634914,2.399303113096697,2.379831357377734,2.36032217857172,2.3407774988309002,2.321199243805271,2.3015893424528455,2.281949726849618,2.2622823319991863,2.242589095642119,2.2228719580650287,2.2031328619094115,2.183373751980242,2.163596575054365,2.1438032796886843,2.123995816028181,2.104176135613776,2.0843461911900514,2.0645079365128582,2.044663326156817,2.0248143153227476,2.004962859645027,1.9851109149989132,1.96526043730784,1.9454133823507074,1.9255717055691908,1.905737361875075,1.8859123054576514,1.8660984895911765,1.846297866442425,1.8265123868783526,1.8067440002738844,1.7869946543198532,1.767266294831103,1.7475608655547719,1.7278803079787897,1.7082265611405865,1.6886015614360521,1.669007242428746,1.6494455346594006,1.6299183654557061,1.6104276587424202,1.5909753348518192,1.5715633103344864,1.5521934977704905,1.5328678055809433,1.513588137839976,1.4943563940871347,1.475174469140227,1.4560442529086406,1.4369676302071306,1.4179464805701225,1.3989826780665275,1.380078091115103,1.361234582300359,1.3424540081890501,1.3237382191472578,1.3050890591580777,1.2865083656399434,1.267997969265593,1.2495596937817026,1.231195355829195,1.2129067647642624,1.194695722480092,1.1765640232293375,1.1585134534473371,1.140545791576105,1.1226628078891094,1.1048662643168556,1.0871579142732886,1.0695395024830419,1.0520127648095317,1.0345794280839358,1.0172412099350518,1.0000001813799306,1.0172241653625076,1.0343472421611222,1.051367436542619,1.0682830555755944,1.0850924167304852,1.1017938480468008,1.1183856882994119,1.1348662871637774,1.151234005380099,1.1674872149163682,1.1836242991303032,1.199643652930144,1.215543682934311,1.2313228076298877,1.2469794575299304,1.262512075329576,1.277919116060943,1.2931990472468042,1.308350349053013,1.3233715144396772,1.3382610493110583,1.3530174726641842,1.3676393167361556,1.3821251271501414,1.3964734630600395,1.4106828972937895,1.424752016495332,1.4386794212651859,1.452463726299643,1.4661035605285586,1.4795975672517245,1.4929444042738171,1.5061427440378998,1.5191912737574684,1.5320886955470292,1.5448337265511956,1.5574250990722884,1.5698615606964261,1.582141874418103,1.5942648187632231,1.6062291879105988,1.618033791811889,1.6296774563099676,1.6411590232557118,1.6524773506232013,1.6636313126233073,1.6746197998156724,1.6854417192190632,1.6960959944200809,1.7065815656802337,1.7168973900413402,1.7270424414292689,1.7370157107560003,1.7468162060199939,1.75644295240486,1.7658949923763212,1.775171385777454,1.7842712099222018,1.7931935596871527,1.8019375476015655,1.810502303935648,1.8188869767870595,1.8270907321656493,1.835112754076412,1.8429522446006472,1.8506084239753287,1.858080530670663,1.8653678214658358,1.8724695715229376,1.879385074459059,1.8861136424165548,1.8926546061314593,1.8990073150000566,1.9051711371435949,1.9111454594711341,1.9169296877405304,1.9225232466175415,1.9279255797330532,1.9331361497384185,1.9381544383589084,1.9429799464452586,1.9476121940233193,1.9520507203418,1.9562950839180935,1.960344862582189,1.964199653518667,1.9678590733067647,1.9713227579585098,1.974590362954929,1.9776615632803158,1.9805360534545544,1.9832135475635098,1.9856937792874638,1.987976501927604,1.9900614884305643,1.9919485314110084,1.993637443172255,1.995128055724951,1.9964202208037782,1.9975138098822018,1.9984087141852545,1.9991048447003537,1.9996021321861592,1.9999005271794572,2.000000000000081,2.0002946763315284,2.001178067733399,2.0026483582879164,2.0047025392811113,2.007336435501518,2.0105447412872643,2.014321065585352,2.0186579851239315,2.0235471046672266,2.0289791232264207,2.034943905039974,2.0414305541130697,2.048427491116171,2.0559225314839424,2.0639029636236494,2.072355626231705,2.0812669838228945,2.090623199693807,2.100410205664893,2.1106137680698804,2.1212195495828823,2.1322131665892186,2.143580241913175,2.1553064528127,2.1673775742364425,2.1797795174117414,2.1924983638934323,2.2055203952527758,2.218832118624255,2.2324202883563515,2.2462719240316464,2.2603743251329638,2.274715082636848,2.289282087814564,2.304063538515136,2.3190479431955557,2.33422412295129,2.3495812117860004,2.3651086553440748,2.3807962083132703,2.3966339306882927,2.412612183069614,2.428721621155734,2.444953189571514,2.461298115160389,2.4777478998542577,2.4942943132218742,2.5109293847843666,2.5276453961754575,2.5444348732137767,2.5612905779454143,2.5782055007065203,2.595172852248297,2.612186055960007,2.6292387402196398,2.6463247308966835,2.6634380440267025,2.680572878673382,2.6977236099901893,2.714884782490576,2.7320511035330965,2.7492174370254423,2.7663787973494216,2.783530343507279,2.8006673734882868,2.8177853188534034,2.8348797395347773,2.8519463188461014,2.8689808586991576,2.8859792750213917,2.9029375933689474,2.9198519447293023,2.936718561507445,2.9535337736893705,2.970294005176628,2.9869957702856054,3.0036356704052767,3.020210390807187,3.036716697601544,3.053151434833378,3.0695115217129327,3.08579394997448,3.1019957813580463,3.118114145208609,3.1341462361875347,3.1500893120912465,3.165940691772193,3.1816977531574917,3.1973579313607257,3.2129187168825593,3.228377653896061,3.2437323386127472,3.2589804177255433,3.2741195869250737,3.2891475894857427,3.3040622149183667,3.318861297686137,3.33354271598095,3.348104390557161,3.3625442836201023,3.3768603977666793,3.3910507749756027,3.405113495644866,3.419046677674236,3.432848475590559,3.4465170797138986,3.4600507153625397,3.473447642094966,3.486706152987134,3.4998245739432905,3.5128012630387784,3.5256346098933298,3.5383230350733594,3.5508649895219326,3.5632589540150823,3.5755034386432367,3.5875969823165827,3.5995381522932424,3.6113255437292002,3.622957779248941,3.63443350853588,3.645751407941618,3.6569101801131816,3.6679085536373917,3.6787452827015974,3.6894191467699806,3.6999289502747796,3.7102735223216654,3.720451716408694,3.73046241015819,3.7403045050609514,3.7499769262322564,3.7594786221791043,3.768808564578211,3.777965748064239,3.7869491900278596,3.7957579304231235,3.804391031583828,3.8128475780483755,3.8211266763928324,3.8292274550717678,3.8371490642665766,3.8448906757409036,3.8524514827029104,3.8598306996740726,3.8670275623641936,3.8740413275524075,3.880871272973908,3.887516697212134,3.893976919596201,3.9002512801033564,3.906339139266251,3.912239878084812,3.9179528979425458,3.923477620527076,3.9288134877547685,3.933959961699239,3.9389165245236435,3.9436826784165566,3.94825794553133,3.9526418679287856,3.9568340075231325,3.960833946030973,3.9646412849232977,3.968255645380377,3.971676668249412,3.97490401400492,3.9779373627116863,3.9807764139902746,3.983420886984976,3.985870520334142,3.988125072142841,3.9901843199577716,3.99204806074437,3.9937161108660906,3.9951883060657867,3.9964645014491413,3.9975445714701605,3.9984284099186542,3.999115929909668,3.999607063874907,3.999901763556047,3.9999999999999996],\\\"type\\\":\\\"scatter\\\",\\\"x\\\":[1,2,3,4,5,6,7,8,9,10,11,12,13,14,15,16,17,18,19,20,21,22,23,24,25,26,27,28,29,30,31,32,33,34,35,36,37,38,39,40,41,42,43,44,45,46,47,48,49,50,51,52,53,54,55,56,57,58,59,60,61,62,63,64,65,66,67,68,69,70,71,72,73,74,75,76,77,78,79,80,81,82,83,84,85,86,87,88,89,90,91,92,93,94,95,96,97,98,99,100,101,102,103,104,105,106,107,108,109,110,111,112,113,114,115,116,117,118,119,120,121,122,123,124,125,126,127,128,129,130,131,132,133,134,135,136,137,138,139,140,141,142,143,144,145,146,147,148,149,150,151,152,153,154,155,156,157,158,159,160,161,162,163,164,165,166,167,168,169,170,171,172,173,174,175,176,177,178,179,180,181,182,183,184,185,186,187,188,189,190,191,192,193,194,195,196,197,198,199,200,201,202,203,204,205,206,207,208,209,210,211,212,213,214,215,216,217,218,219,220,221,222,223,224,225,226,227,228,229,230,231,232,233,234,235,236,237,238,239,240,241,242,243,244,245,246,247,248,249,250,251,252,253,254,255,256,257,258,259,260,261,262,263,264,265,266,267,268,269,270,271,272,273,274,275,276,277,278,279,280,281,282,283,284,285,286,287,288,289,290,291,292,293,294,295,296,297,298,299,300,301,302,303,304,305,306,307,308,309,310,311,312,313,314,315,316,317,318,319,320,321,322,323,324,325,326,327,328,329,330,331,332,333,334,335,336,337,338,339,340,341,342,343,344,345,346,347,348,349,350,351,352,353,354,355,356,357,358,359,360,361,362,363,364,365,366,367,368,369,370,371,372,373,374,375,376,377,378,379,380,381,382,383,384,385,386,387,388,389,390,391,392,393,394,395,396,397,398,399,400,401,402,403,404,405,406,407,408,409,410,411,412,413,414,415,416,417,418,419,420,421,422,423,424,425,426,427,428,429,430,431,432,433,434,435,436,437,438,439,440,441,442,443,444,445,446,447,448,449,450,451,452,453,454,455,456,457,458,459,460,461,462,463,464,465,466,467,468,469,470,471,472,473,474,475,476,477,478,479,480,481,482,483,484,485,486,487,488,489,490,491,492,493,494,495,496,497,498,499,500]}],{\\\"showlegend\\\":false,\\\"xaxis\\\":{\\\"showgrid\\\":true,\\\"showline\\\":true,\\\"showticklabels\\\":false,\\\"linewidth\\\":5,\\\"mirror\\\":true,\\\"linecolor\\\":\\\"black\\\"},\\\"template\\\":{\\\"layout\\\":{\\\"coloraxis\\\":{\\\"colorbar\\\":{\\\"ticks\\\":\\\"\\\",\\\"outlinewidth\\\":0}},\\\"xaxis\\\":{\\\"gridcolor\\\":\\\"white\\\",\\\"zerolinewidth\\\":2,\\\"title\\\":{\\\"standoff\\\":15},\\\"ticks\\\":\\\"\\\",\\\"zerolinecolor\\\":\\\"white\\\",\\\"automargin\\\":true,\\\"linecolor\\\":\\\"white\\\"},\\\"hovermode\\\":\\\"closest\\\",\\\"paper_bgcolor\\\":\\\"white\\\",\\\"geo\\\":{\\\"showlakes\\\":true,\\\"showland\\\":true,\\\"landcolor\\\":\\\"#E5ECF6\\\",\\\"bgcolor\\\":\\\"white\\\",\\\"subunitcolor\\\":\\\"white\\\",\\\"lakecolor\\\":\\\"white\\\"},\\\"colorscale\\\":{\\\"sequential\\\":[[0.0,\\\"#0d0887\\\"],[0.1111111111111111,\\\"#46039f\\\"],[0.2222222222222222,\\\"#7201a8\\\"],[0.3333333333333333,\\\"#9c179e\\\"],[0.4444444444444444,\\\"#bd3786\\\"],[0.5555555555555556,\\\"#d8576b\\\"],[0.6666666666666666,\\\"#ed7953\\\"],[0.7777777777777778,\\\"#fb9f3a\\\"],[0.8888888888888888,\\\"#fdca26\\\"],[1.0,\\\"#f0f921\\\"]],\\\"diverging\\\":[[0,\\\"#8e0152\\\"],[0.1,\\\"#c51b7d\\\"],[0.2,\\\"#de77ae\\\"],[0.3,\\\"#f1b6da\\\"],[0.4,\\\"#fde0ef\\\"],[0.5,\\\"#f7f7f7\\\"],[0.6,\\\"#e6f5d0\\\"],[0.7,\\\"#b8e186\\\"],[0.8,\\\"#7fbc41\\\"],[0.9,\\\"#4d9221\\\"],[1,\\\"#276419\\\"]],\\\"sequentialminus\\\":[[0.0,\\\"#0d0887\\\"],[0.1111111111111111,\\\"#46039f\\\"],[0.2222222222222222,\\\"#7201a8\\\"],[0.3333333333333333,\\\"#9c179e\\\"],[0.4444444444444444,\\\"#bd3786\\\"],[0.5555555555555556,\\\"#d8576b\\\"],[0.6666666666666666,\\\"#ed7953\\\"],[0.7777777777777778,\\\"#fb9f3a\\\"],[0.8888888888888888,\\\"#fdca26\\\"],[1.0,\\\"#f0f921\\\"]]},\\\"yaxis\\\":{\\\"gridcolor\\\":\\\"white\\\",\\\"zerolinewidth\\\":2,\\\"title\\\":{\\\"standoff\\\":15},\\\"ticks\\\":\\\"\\\",\\\"zerolinecolor\\\":\\\"white\\\",\\\"automargin\\\":true,\\\"linecolor\\\":\\\"white\\\"},\\\"shapedefaults\\\":{\\\"line\\\":{\\\"color\\\":\\\"#2a3f5f\\\"}},\\\"hoverlabel\\\":{\\\"align\\\":\\\"left\\\"},\\\"mapbox\\\":{\\\"style\\\":\\\"light\\\"},\\\"polar\\\":{\\\"angularaxis\\\":{\\\"gridcolor\\\":\\\"white\\\",\\\"ticks\\\":\\\"\\\",\\\"linecolor\\\":\\\"white\\\"},\\\"bgcolor\\\":\\\"#E5ECF6\\\",\\\"radialaxis\\\":{\\\"gridcolor\\\":\\\"white\\\",\\\"ticks\\\":\\\"\\\",\\\"linecolor\\\":\\\"white\\\"}},\\\"autotypenumbers\\\":\\\"strict\\\",\\\"font\\\":{\\\"color\\\":\\\"#2a3f5f\\\"},\\\"ternary\\\":{\\\"baxis\\\":{\\\"gridcolor\\\":\\\"white\\\",\\\"ticks\\\":\\\"\\\",\\\"linecolor\\\":\\\"white\\\"},\\\"bgcolor\\\":\\\"#E5ECF6\\\",\\\"caxis\\\":{\\\"gridcolor\\\":\\\"white\\\",\\\"ticks\\\":\\\"\\\",\\\"linecolor\\\":\\\"white\\\"},\\\"aaxis\\\":{\\\"gridcolor\\\":\\\"white\\\",\\\"ticks\\\":\\\"\\\",\\\"linecolor\\\":\\\"white\\\"}},\\\"annotationdefaults\\\":{\\\"arrowhead\\\":0,\\\"arrowwidth\\\":1,\\\"arrowcolor\\\":\\\"#2a3f5f\\\"},\\\"plot_bgcolor\\\":\\\"#E5ECF6\\\",\\\"title\\\":{\\\"x\\\":0.05},\\\"scene\\\":{\\\"xaxis\\\":{\\\"gridcolor\\\":\\\"white\\\",\\\"gridwidth\\\":2,\\\"backgroundcolor\\\":\\\"#E5ECF6\\\",\\\"ticks\\\":\\\"\\\",\\\"showbackground\\\":true,\\\"zerolinecolor\\\":\\\"white\\\",\\\"linecolor\\\":\\\"white\\\"},\\\"zaxis\\\":{\\\"gridcolor\\\":\\\"white\\\",\\\"gridwidth\\\":2,\\\"backgroundcolor\\\":\\\"#E5ECF6\\\",\\\"ticks\\\":\\\"\\\",\\\"showbackground\\\":true,\\\"zerolinecolor\\\":\\\"white\\\",\\\"linecolor\\\":\\\"white\\\"},\\\"yaxis\\\":{\\\"gridcolor\\\":\\\"white\\\",\\\"gridwidth\\\":2,\\\"backgroundcolor\\\":\\\"#E5ECF6\\\",\\\"ticks\\\":\\\"\\\",\\\"showbackground\\\":true,\\\"zerolinecolor\\\":\\\"white\\\",\\\"linecolor\\\":\\\"white\\\"}},\\\"colorway\\\":[\\\"#636efa\\\",\\\"#EF553B\\\",\\\"#00cc96\\\",\\\"#ab63fa\\\",\\\"#FFA15A\\\",\\\"#19d3f3\\\",\\\"#FF6692\\\",\\\"#B6E880\\\",\\\"#FF97FF\\\",\\\"#FECB52\\\"]},\\\"data\\\":{\\\"barpolar\\\":[{\\\"type\\\":\\\"barpolar\\\",\\\"marker\\\":{\\\"line\\\":{\\\"color\\\":\\\"#E5ECF6\\\",\\\"width\\\":0.5}}}],\\\"carpet\\\":[{\\\"aaxis\\\":{\\\"gridcolor\\\":\\\"white\\\",\\\"endlinecolor\\\":\\\"#2a3f5f\\\",\\\"minorgridcolor\\\":\\\"white\\\",\\\"startlinecolor\\\":\\\"#2a3f5f\\\",\\\"linecolor\\\":\\\"white\\\"},\\\"type\\\":\\\"carpet\\\",\\\"baxis\\\":{\\\"gridcolor\\\":\\\"white\\\",\\\"endlinecolor\\\":\\\"#2a3f5f\\\",\\\"minorgridcolor\\\":\\\"white\\\",\\\"startlinecolor\\\":\\\"#2a3f5f\\\",\\\"linecolor\\\":\\\"white\\\"}}],\\\"scatterpolar\\\":[{\\\"type\\\":\\\"scatterpolar\\\",\\\"marker\\\":{\\\"colorbar\\\":{\\\"ticks\\\":\\\"\\\",\\\"outlinewidth\\\":0}}}],\\\"parcoords\\\":[{\\\"line\\\":{\\\"colorbar\\\":{\\\"ticks\\\":\\\"\\\",\\\"outlinewidth\\\":0}},\\\"type\\\":\\\"parcoords\\\"}],\\\"scatter\\\":[{\\\"type\\\":\\\"scatter\\\",\\\"marker\\\":{\\\"colorbar\\\":{\\\"ticks\\\":\\\"\\\",\\\"outlinewidth\\\":0}}}],\\\"histogram2dcontour\\\":[{\\\"colorbar\\\":{\\\"ticks\\\":\\\"\\\",\\\"outlinewidth\\\":0},\\\"type\\\":\\\"histogram2dcontour\\\",\\\"colorscale\\\":[[0.0,\\\"#0d0887\\\"],[0.1111111111111111,\\\"#46039f\\\"],[0.2222222222222222,\\\"#7201a8\\\"],[0.3333333333333333,\\\"#9c179e\\\"],[0.4444444444444444,\\\"#bd3786\\\"],[0.5555555555555556,\\\"#d8576b\\\"],[0.6666666666666666,\\\"#ed7953\\\"],[0.7777777777777778,\\\"#fb9f3a\\\"],[0.8888888888888888,\\\"#fdca26\\\"],[1.0,\\\"#f0f921\\\"]]}],\\\"contour\\\":[{\\\"colorbar\\\":{\\\"ticks\\\":\\\"\\\",\\\"outlinewidth\\\":0},\\\"type\\\":\\\"contour\\\",\\\"colorscale\\\":[[0.0,\\\"#0d0887\\\"],[0.1111111111111111,\\\"#46039f\\\"],[0.2222222222222222,\\\"#7201a8\\\"],[0.3333333333333333,\\\"#9c179e\\\"],[0.4444444444444444,\\\"#bd3786\\\"],[0.5555555555555556,\\\"#d8576b\\\"],[0.6666666666666666,\\\"#ed7953\\\"],[0.7777777777777778,\\\"#fb9f3a\\\"],[0.8888888888888888,\\\"#fdca26\\\"],[1.0,\\\"#f0f921\\\"]]}],\\\"scattercarpet\\\":[{\\\"type\\\":\\\"scattercarpet\\\",\\\"marker\\\":{\\\"colorbar\\\":{\\\"ticks\\\":\\\"\\\",\\\"outlinewidth\\\":0}}}],\\\"mesh3d\\\":[{\\\"colorbar\\\":{\\\"ticks\\\":\\\"\\\",\\\"outlinewidth\\\":0},\\\"type\\\":\\\"mesh3d\\\"}],\\\"surface\\\":[{\\\"colorbar\\\":{\\\"ticks\\\":\\\"\\\",\\\"outlinewidth\\\":0},\\\"type\\\":\\\"surface\\\",\\\"colorscale\\\":[[0.0,\\\"#0d0887\\\"],[0.1111111111111111,\\\"#46039f\\\"],[0.2222222222222222,\\\"#7201a8\\\"],[0.3333333333333333,\\\"#9c179e\\\"],[0.4444444444444444,\\\"#bd3786\\\"],[0.5555555555555556,\\\"#d8576b\\\"],[0.6666666666666666,\\\"#ed7953\\\"],[0.7777777777777778,\\\"#fb9f3a\\\"],[0.8888888888888888,\\\"#fdca26\\\"],[1.0,\\\"#f0f921\\\"]]}],\\\"scattermapbox\\\":[{\\\"type\\\":\\\"scattermapbox\\\",\\\"marker\\\":{\\\"colorbar\\\":{\\\"ticks\\\":\\\"\\\",\\\"outlinewidth\\\":0}}}],\\\"scattergeo\\\":[{\\\"type\\\":\\\"scattergeo\\\",\\\"marker\\\":{\\\"colorbar\\\":{\\\"ticks\\\":\\\"\\\",\\\"outlinewidth\\\":0}}}],\\\"histogram\\\":[{\\\"type\\\":\\\"histogram\\\",\\\"marker\\\":{\\\"colorbar\\\":{\\\"ticks\\\":\\\"\\\",\\\"outlinewidth\\\":0}}}],\\\"pie\\\":[{\\\"type\\\":\\\"pie\\\",\\\"automargin\\\":true}],\\\"choropleth\\\":[{\\\"colorbar\\\":{\\\"ticks\\\":\\\"\\\",\\\"outlinewidth\\\":0},\\\"type\\\":\\\"choropleth\\\"}],\\\"heatmapgl\\\":[{\\\"colorbar\\\":{\\\"ticks\\\":\\\"\\\",\\\"outlinewidth\\\":0},\\\"type\\\":\\\"heatmapgl\\\",\\\"colorscale\\\":[[0.0,\\\"#0d0887\\\"],[0.1111111111111111,\\\"#46039f\\\"],[0.2222222222222222,\\\"#7201a8\\\"],[0.3333333333333333,\\\"#9c179e\\\"],[0.4444444444444444,\\\"#bd3786\\\"],[0.5555555555555556,\\\"#d8576b\\\"],[0.6666666666666666,\\\"#ed7953\\\"],[0.7777777777777778,\\\"#fb9f3a\\\"],[0.8888888888888888,\\\"#fdca26\\\"],[1.0,\\\"#f0f921\\\"]]}],\\\"bar\\\":[{\\\"type\\\":\\\"bar\\\",\\\"error_y\\\":{\\\"color\\\":\\\"#2a3f5f\\\"},\\\"error_x\\\":{\\\"color\\\":\\\"#2a3f5f\\\"},\\\"marker\\\":{\\\"line\\\":{\\\"color\\\":\\\"#E5ECF6\\\",\\\"width\\\":0.5}}}],\\\"heatmap\\\":[{\\\"colorbar\\\":{\\\"ticks\\\":\\\"\\\",\\\"outlinewidth\\\":0},\\\"type\\\":\\\"heatmap\\\",\\\"colorscale\\\":[[0.0,\\\"#0d0887\\\"],[0.1111111111111111,\\\"#46039f\\\"],[0.2222222222222222,\\\"#7201a8\\\"],[0.3333333333333333,\\\"#9c179e\\\"],[0.4444444444444444,\\\"#bd3786\\\"],[0.5555555555555556,\\\"#d8576b\\\"],[0.6666666666666666,\\\"#ed7953\\\"],[0.7777777777777778,\\\"#fb9f3a\\\"],[0.8888888888888888,\\\"#fdca26\\\"],[1.0,\\\"#f0f921\\\"]]}],\\\"contourcarpet\\\":[{\\\"colorbar\\\":{\\\"ticks\\\":\\\"\\\",\\\"outlinewidth\\\":0},\\\"type\\\":\\\"contourcarpet\\\"}],\\\"table\\\":[{\\\"type\\\":\\\"table\\\",\\\"header\\\":{\\\"line\\\":{\\\"color\\\":\\\"white\\\"},\\\"fill\\\":{\\\"color\\\":\\\"#C8D4E3\\\"}},\\\"cells\\\":{\\\"line\\\":{\\\"color\\\":\\\"white\\\"},\\\"fill\\\":{\\\"color\\\":\\\"#EBF0F8\\\"}}}],\\\"scatter3d\\\":[{\\\"line\\\":{\\\"colorbar\\\":{\\\"ticks\\\":\\\"\\\",\\\"outlinewidth\\\":0}},\\\"type\\\":\\\"scatter3d\\\",\\\"marker\\\":{\\\"colorbar\\\":{\\\"ticks\\\":\\\"\\\",\\\"outlinewidth\\\":0}}}],\\\"scattergl\\\":[{\\\"type\\\":\\\"scattergl\\\",\\\"marker\\\":{\\\"colorbar\\\":{\\\"ticks\\\":\\\"\\\",\\\"outlinewidth\\\":0}}}],\\\"histogram2d\\\":[{\\\"colorbar\\\":{\\\"ticks\\\":\\\"\\\",\\\"outlinewidth\\\":0},\\\"type\\\":\\\"histogram2d\\\",\\\"colorscale\\\":[[0.0,\\\"#0d0887\\\"],[0.1111111111111111,\\\"#46039f\\\"],[0.2222222222222222,\\\"#7201a8\\\"],[0.3333333333333333,\\\"#9c179e\\\"],[0.4444444444444444,\\\"#bd3786\\\"],[0.5555555555555556,\\\"#d8576b\\\"],[0.6666666666666666,\\\"#ed7953\\\"],[0.7777777777777778,\\\"#fb9f3a\\\"],[0.8888888888888888,\\\"#fdca26\\\"],[1.0,\\\"#f0f921\\\"]]}],\\\"scatterternary\\\":[{\\\"type\\\":\\\"scatterternary\\\",\\\"marker\\\":{\\\"colorbar\\\":{\\\"ticks\\\":\\\"\\\",\\\"outlinewidth\\\":0}}}],\\\"scatterpolargl\\\":[{\\\"type\\\":\\\"scatterpolargl\\\",\\\"marker\\\":{\\\"colorbar\\\":{\\\"ticks\\\":\\\"\\\",\\\"outlinewidth\\\":0}}}]}},\\\"height\\\":510,\\\"margin\\\":{\\\"l\\\":50,\\\"b\\\":50,\\\"r\\\":50,\\\"t\\\":60},\\\"title\\\":\\\"Nearest neighbor model without spin-orbit coupling\\\",\\\"yaxis\\\":{\\\"showgrid\\\":true,\\\"showline\\\":true,\\\"showticklabels\\\":true,\\\"linewidth\\\":5,\\\"mirror\\\":true,\\\"linecolor\\\":\\\"black\\\"},\\\"plot_bgcolor\\\":\\\"rgba(0,0,0,0)\\\",\\\"width\\\":510},{\\\"showLink\\\":false,\\\"editable\\\":false,\\\"responsive\\\":true,\\\"staticPlot\\\":false,\\\"scrollZoom\\\":true}); gd.on(\\\"plotly_hover\\\",(function (data){var filtered_data=WebIO.PlotlyCommands.filterEventData(gd,data,\\\"hover\\\"); return !(filtered_data.isnil) ? (WebIO.setval({\\\"name\\\":\\\"hover\\\",\\\"scope\\\":\\\"167765584378854338\\\",\\\"id\\\":\\\"229699\\\",\\\"type\\\":\\\"observable\\\"},filtered_data.out)) : undefined})); gd.on(\\\"plotly_unhover\\\",(function (){return WebIO.setval({\\\"name\\\":\\\"hover\\\",\\\"scope\\\":\\\"167765584378854338\\\",\\\"id\\\":\\\"229699\\\",\\\"type\\\":\\\"observable\\\"},{})})); gd.on(\\\"plotly_selected\\\",(function (data){var filtered_data=WebIO.PlotlyCommands.filterEventData(gd,data,\\\"selected\\\"); return !(filtered_data.isnil) ? (WebIO.setval({\\\"name\\\":\\\"selected\\\",\\\"scope\\\":\\\"167765584378854338\\\",\\\"id\\\":\\\"229700\\\",\\\"type\\\":\\\"observable\\\"},filtered_data.out)) : undefined})); gd.on(\\\"plotly_deselect\\\",(function (){return WebIO.setval({\\\"name\\\":\\\"selected\\\",\\\"scope\\\":\\\"167765584378854338\\\",\\\"id\\\":\\\"229700\\\",\\\"type\\\":\\\"observable\\\"},{})})); gd.on(\\\"plotly_relayout\\\",(function (data){var filtered_data=WebIO.PlotlyCommands.filterEventData(gd,data,\\\"relayout\\\"); return !(filtered_data.isnil) ? (WebIO.setval({\\\"name\\\":\\\"relayout\\\",\\\"scope\\\":\\\"167765584378854338\\\",\\\"id\\\":\\\"229702\\\",\\\"type\\\":\\\"observable\\\"},filtered_data.out)) : undefined})); return gd.on(\\\"plotly_click\\\",(function (data){var filtered_data=WebIO.PlotlyCommands.filterEventData(gd,data,\\\"click\\\"); return !(filtered_data.isnil) ? (WebIO.setval({\\\"name\\\":\\\"click\\\",\\\"scope\\\":\\\"167765584378854338\\\",\\\"id\\\":\\\"229701\\\",\\\"type\\\":\\\"observable\\\"},filtered_data.out)) : undefined}))}));\\n    (WebIO.importBlock({\\\"data\\\":[{\\\"name\\\":\\\"Plotly\\\",\\\"type\\\":\\\"js\\\",\\\"url\\\":\\\"\\/assetserver\\/b267c3137400db01c304fe886fe6f707be7fdb37-plotly.min.js\\\"},{\\\"name\\\":null,\\\"type\\\":\\\"js\\\",\\\"url\\\":\\\"\\/assetserver\\/020f2e8a4619f2ae880fff9315e6547eef1aff0b-plotly_webio.bundle.js\\\"}],\\\"type\\\":\\\"async_block\\\"})).then((imports) => handler.apply(this, imports));\\n}\\n\"],\"observables\":{\"_toImage\":{\"sync\":false,\"id\":\"229706\",\"value\":{}},\"hover\":{\"sync\":false,\"id\":\"229699\",\"value\":{}},\"selected\":{\"sync\":false,\"id\":\"229700\",\"value\":{}},\"__gd_contents\":{\"sync\":false,\"id\":\"229704\",\"value\":{}},\"click\":{\"sync\":false,\"id\":\"229701\",\"value\":{}},\"image\":{\"sync\":true,\"id\":\"229703\",\"value\":\"\"},\"__get_gd_contents\":{\"sync\":false,\"id\":\"229708\",\"value\":\"\"},\"_downloadImage\":{\"sync\":false,\"id\":\"229707\",\"value\":{}},\"relayout\":{\"sync\":false,\"id\":\"229702\",\"value\":{}},\"_commands\":{\"sync\":false,\"id\":\"229705\",\"value\":[]}}},\"children\":[{\"props\":{\"id\":\"plot-661c95ce-c4fe-41ce-9d41-81963e4df829\"},\"nodeType\":\"DOM\",\"type\":\"node\",\"instanceArgs\":{\"namespace\":\"html\",\"tag\":\"div\"},\"children\":[]}]},\n",
       "        window,\n",
       "    );\n",
       "    })()\n",
       "    </script>\n",
       "</div>\n"
      ],
      "text/plain": [
       "data: [\n",
       "  \"scatter with fields line, mode, type, x, and y\",\n",
       "  \"scatter with fields line, mode, type, x, and y\",\n",
       "  \"scatter with fields line, mode, type, x, and y\"\n",
       "]\n",
       "\n",
       "layout: \"layout with fields height, margin, plot_bgcolor, showlegend, template, title, width, xaxis, and yaxis\"\n",
       "\n"
      ]
     },
     "metadata": {},
     "output_type": "display_data"
    }
   ],
   "source": [
    "let p::Params = Params()\n",
    "    plot_simple_kagome_bands(p = p, seedname = \"simple\", title = \"Nearest neighbor model without spin-orbit coupling\")\n",
    "end\n"
   ]
  },
  {
   "cell_type": "code",
   "execution_count": 189,
   "metadata": {},
   "outputs": [
    {
     "data": {
      "application/vnd.plotly.v1+json": {
       "config": {
        "editable": false,
        "responsive": true,
        "scrollZoom": true,
        "showLink": false,
        "staticPlot": false
       },
       "data": [
        {
         "line": {
          "color": "purple",
          "width": 4
         },
         "mode": "lines",
         "type": "scatter",
         "x": [
          1,
          2,
          3,
          4,
          5,
          6,
          7,
          8,
          9,
          10,
          11,
          12,
          13,
          14,
          15,
          16,
          17,
          18,
          19,
          20,
          21,
          22,
          23,
          24,
          25,
          26,
          27,
          28,
          29,
          30,
          31,
          32,
          33,
          34,
          35,
          36,
          37,
          38,
          39,
          40,
          41,
          42,
          43,
          44,
          45,
          46,
          47,
          48,
          49,
          50,
          51,
          52,
          53,
          54,
          55,
          56,
          57,
          58,
          59,
          60,
          61,
          62,
          63,
          64,
          65,
          66,
          67,
          68,
          69,
          70,
          71,
          72,
          73,
          74,
          75,
          76,
          77,
          78,
          79,
          80,
          81,
          82,
          83,
          84,
          85,
          86,
          87,
          88,
          89,
          90,
          91,
          92,
          93,
          94,
          95,
          96,
          97,
          98,
          99,
          100,
          101,
          102,
          103,
          104,
          105,
          106,
          107,
          108,
          109,
          110,
          111,
          112,
          113,
          114,
          115,
          116,
          117,
          118,
          119,
          120,
          121,
          122,
          123,
          124,
          125,
          126,
          127,
          128,
          129,
          130,
          131,
          132,
          133,
          134,
          135,
          136,
          137,
          138,
          139,
          140,
          141,
          142,
          143,
          144,
          145,
          146,
          147,
          148,
          149,
          150,
          151,
          152,
          153,
          154,
          155,
          156,
          157,
          158,
          159,
          160,
          161,
          162,
          163,
          164,
          165,
          166,
          167,
          168,
          169,
          170,
          171,
          172,
          173,
          174,
          175,
          176,
          177,
          178,
          179,
          180,
          181,
          182,
          183,
          184,
          185,
          186,
          187,
          188,
          189,
          190,
          191,
          192,
          193,
          194,
          195,
          196,
          197,
          198,
          199,
          200,
          201,
          202,
          203,
          204,
          205,
          206,
          207,
          208,
          209,
          210,
          211,
          212,
          213,
          214,
          215,
          216,
          217,
          218,
          219,
          220,
          221,
          222,
          223,
          224,
          225,
          226,
          227,
          228,
          229,
          230,
          231,
          232,
          233,
          234,
          235,
          236,
          237,
          238,
          239,
          240,
          241,
          242,
          243,
          244,
          245,
          246,
          247,
          248,
          249,
          250,
          251,
          252,
          253,
          254,
          255,
          256,
          257,
          258,
          259,
          260,
          261,
          262,
          263,
          264,
          265,
          266,
          267,
          268,
          269,
          270,
          271,
          272,
          273,
          274,
          275,
          276,
          277,
          278,
          279,
          280,
          281,
          282,
          283,
          284,
          285,
          286,
          287,
          288,
          289,
          290,
          291,
          292,
          293,
          294,
          295,
          296,
          297,
          298,
          299,
          300,
          301,
          302,
          303,
          304,
          305,
          306,
          307,
          308,
          309,
          310,
          311,
          312,
          313,
          314,
          315,
          316,
          317,
          318,
          319,
          320,
          321,
          322,
          323,
          324,
          325,
          326,
          327,
          328,
          329,
          330,
          331,
          332,
          333,
          334,
          335,
          336,
          337,
          338,
          339,
          340,
          341,
          342,
          343,
          344,
          345,
          346,
          347,
          348,
          349,
          350,
          351,
          352,
          353,
          354,
          355,
          356,
          357,
          358,
          359,
          360,
          361,
          362,
          363,
          364,
          365,
          366,
          367,
          368,
          369,
          370,
          371,
          372,
          373,
          374,
          375,
          376,
          377,
          378,
          379,
          380,
          381,
          382,
          383,
          384,
          385,
          386,
          387,
          388,
          389,
          390,
          391,
          392,
          393,
          394,
          395,
          396,
          397,
          398,
          399,
          400,
          401,
          402,
          403,
          404,
          405,
          406,
          407,
          408,
          409,
          410,
          411,
          412,
          413,
          414,
          415,
          416,
          417,
          418,
          419,
          420,
          421,
          422,
          423,
          424,
          425,
          426,
          427,
          428,
          429,
          430,
          431,
          432,
          433,
          434,
          435,
          436,
          437,
          438,
          439,
          440,
          441,
          442,
          443,
          444,
          445,
          446,
          447,
          448,
          449,
          450,
          451,
          452,
          453,
          454,
          455,
          456,
          457,
          458,
          459,
          460,
          461,
          462,
          463,
          464,
          465,
          466,
          467,
          468,
          469,
          470,
          471,
          472,
          473,
          474,
          475,
          476,
          477,
          478,
          479,
          480,
          481,
          482,
          483,
          484,
          485,
          486,
          487,
          488,
          489,
          490,
          491,
          492,
          493,
          494,
          495,
          496,
          497,
          498,
          499,
          500
         ],
         "y": [
          -3.9999999999999996,
          -3.9999014744666948,
          -3.9996059075740593,
          -3.9991133284429807,
          -3.9984237856050786,
          -3.9975373469979294,
          -3.996454099958371,
          -3.9951741512138943,
          -3.993697626872134,
          -3.9920246724084345,
          -3.9901554526515293,
          -3.988090151767291,
          -3.9858289732405914,
          -3.98337213985525,
          -3.9807198936720853,
          -3.9778724960050695,
          -3.9748302273955765,
          -3.97159338758474,
          -3.9681622954839297,
          -3.964537289143327,
          -3.960718725718613,
          -3.9567069814357856,
          -3.952502451554092,
          -3.9481055503270763,
          -3.943516710961781,
          -3.9387363855760515,
          -3.9337650451539927,
          -3.928603179499575,
          -3.9232512971883606,
          -3.9177099255174133,
          -3.9119796104533275,
          -3.9060609165784554,
          -3.8999544270352624,
          -3.893660743468891,
          -3.8871804859678702,
          -3.880514293003025,
          -3.873662821364575,
          -3.8666267460974155,
          -3.859406760434614,
          -3.85200357572911,
          -3.844417921383623,
          -3.836650544778795,
          -3.828702211199547,
          -3.8205737037596834,
          -3.8122658233247364,
          -3.803779388433055,
          -3.7951152352151625,
          -3.7862742173113775,
          -3.777257205787701,
          -3.768065089050004,
          -3.75869877275649,
          -3.749159179728467,
          -3.7394472498594244,
          -3.7295639400224356,
          -3.7195102239758677,
          -3.7092870922674606,
          -3.698895552136715,
          -3.688336627415665,
          -3.6776113584280012,
          -3.6667208018865685,
          -3.6556660307892583,
          -3.64444813431329,
          -3.633068217707895,
          -3.6215274021854276,
          -3.60982682481089,
          -3.5979676383899086,
          -3.5859510113551494,
          -3.5737781276512024,
          -3.5614501866179236,
          -3.548968402872278,
          -3.5363340061886674,
          -3.5235482413777612,
          -3.5106123681638572,
          -3.497527661060763,
          -3.484295409246222,
          -3.470916916434904,
          -3.4573935007499452,
          -3.44372649459309,
          -3.4299172445134083,
          -3.415967111074627,
          -3.4018774687210867,
          -3.3876497056423096,
          -3.3732852236362447,
          -3.3587854379711404,
          -3.344151777246113,
          -3.329385683250389,
          -3.314488610821254,
          -3.299462027700714,
          -3.2843074143908852,
          -3.269026264008125,
          -3.253620082135927,
          -3.2380903866765722,
          -3.22243870770159,
          -3.206666587300999,
          -3.1907755794313735,
          -3.174767249762736,
          -3.1586431755243067,
          -3.1424049453490994,
          -3.126054159117399,
          -3.109592427799143,
          -3.0930213732951843,
          -3.0763426282775095,
          -3.0595578360283637,
          -3.0426686502783555,
          -3.0256767350435183,
          -3.0085837644613616,
          -2.991391422625929,
          -2.9741014034218676,
          -2.95671541035754,
          -2.939235156397187,
          -2.921662363792149,
          -2.903998763911192,
          -2.886246097069913,
          -2.8684061123592812,
          -2.850480567473303,
          -2.8324712285358493,
          -2.814379869926642,
          -2.7962082741064376,
          -2.7779582314414046,
          -2.7596315400267297,
          -2.741230005509458,
          -2.722755440910592,
          -2.7042096664464603,
          -2.6855945093493836,
          -2.6669118036876425,
          -2.6481633901847745,
          -2.62935111603822,
          -2.6104768347373226,
          -2.5915424058807117,
          -2.5725496949930875,
          -2.5535005733414216,
          -2.5343969177505823,
          -2.515240610418424,
          -2.4960335387303454,
          -2.4767775950733255,
          -2.457474676649482,
          -2.4381266852891477,
          -2.4187355272634914,
          -2.399303113096697,
          -2.379831357377734,
          -2.36032217857172,
          -2.3407774988309002,
          -2.321199243805271,
          -2.3015893424528455,
          -2.281949726849618,
          -2.2622823319991863,
          -2.242589095642119,
          -2.2228719580650287,
          -2.2031328619094115,
          -2.183373751980242,
          -2.163596575054365,
          -2.1438032796886843,
          -2.123995816028181,
          -2.104176135613776,
          -2.0843461911900514,
          -2.0645079365128582,
          -2.044663326156817,
          -2.0248143153227476,
          -2.004962859645027,
          -1.9851109149989132,
          -1.96526043730784,
          -1.9454133823507074,
          -1.9255717055691908,
          -1.905737361875075,
          -1.8859123054576514,
          -1.8660984895911765,
          -1.846297866442425,
          -1.8265123868783526,
          -1.8067440002738844,
          -1.7869946543198532,
          -1.767266294831103,
          -1.7475608655547719,
          -1.7278803079787897,
          -1.7082265611405865,
          -1.6886015614360521,
          -1.669007242428746,
          -1.6494455346594006,
          -1.6299183654557061,
          -1.6104276587424202,
          -1.5909753348518192,
          -1.5715633103344864,
          -1.5521934977704905,
          -1.5328678055809433,
          -1.513588137839976,
          -1.4943563940871347,
          -1.475174469140227,
          -1.4560442529086406,
          -1.4369676302071306,
          -1.4179464805701225,
          -1.3989826780665275,
          -1.380078091115103,
          -1.361234582300359,
          -1.3424540081890501,
          -1.3237382191472578,
          -1.3050890591580777,
          -1.2865083656399434,
          -1.267997969265593,
          -1.2495596937817026,
          -1.231195355829195,
          -1.2129067647642624,
          -1.194695722480092,
          -1.1765640232293375,
          -1.1585134534473371,
          -1.140545791576105,
          -1.1226628078891094,
          -1.1048662643168556,
          -1.0871579142732886,
          -1.0695395024830419,
          -1.0520127648095317,
          -1.0345794280839358,
          -1.0172412099350518,
          -1.0000001813799306,
          -1.0172241653625076,
          -1.0343472421611222,
          -1.051367436542619,
          -1.0682830555755944,
          -1.0850924167304852,
          -1.1017938480468008,
          -1.1183856882994119,
          -1.1348662871637774,
          -1.151234005380099,
          -1.1674872149163682,
          -1.1836242991303032,
          -1.199643652930144,
          -1.215543682934311,
          -1.2313228076298877,
          -1.2469794575299304,
          -1.262512075329576,
          -1.277919116060943,
          -1.2931990472468042,
          -1.308350349053013,
          -1.3233715144396772,
          -1.3382610493110583,
          -1.3530174726641842,
          -1.3676393167361556,
          -1.3821251271501414,
          -1.3964734630600395,
          -1.4106828972937895,
          -1.424752016495332,
          -1.4386794212651859,
          -1.452463726299643,
          -1.4661035605285586,
          -1.4795975672517245,
          -1.4929444042738171,
          -1.5061427440378998,
          -1.5191912737574684,
          -1.5320886955470292,
          -1.5448337265511956,
          -1.5574250990722884,
          -1.5698615606964261,
          -1.582141874418103,
          -1.5942648187632231,
          -1.6062291879105988,
          -1.618033791811889,
          -1.6296774563099676,
          -1.6411590232557118,
          -1.6524773506232013,
          -1.6636313126233073,
          -1.6746197998156724,
          -1.6854417192190632,
          -1.6960959944200809,
          -1.7065815656802337,
          -1.7168973900413402,
          -1.7270424414292689,
          -1.7370157107560003,
          -1.7468162060199939,
          -1.75644295240486,
          -1.7658949923763212,
          -1.775171385777454,
          -1.7842712099222018,
          -1.7931935596871527,
          -1.8019375476015655,
          -1.810502303935648,
          -1.8188869767870595,
          -1.8270907321656493,
          -1.835112754076412,
          -1.8429522446006472,
          -1.8506084239753287,
          -1.858080530670663,
          -1.8653678214658358,
          -1.8724695715229376,
          -1.879385074459059,
          -1.8861136424165548,
          -1.8926546061314593,
          -1.8990073150000566,
          -1.9051711371435949,
          -1.9111454594711341,
          -1.9169296877405304,
          -1.9225232466175415,
          -1.9279255797330532,
          -1.9331361497384185,
          -1.9381544383589084,
          -1.9429799464452586,
          -1.9476121940233193,
          -1.9520507203418,
          -1.9562950839180935,
          -1.960344862582189,
          -1.964199653518667,
          -1.9678590733067647,
          -1.9713227579585098,
          -1.974590362954929,
          -1.9776615632803158,
          -1.9805360534545544,
          -1.9832135475635098,
          -1.9856937792874638,
          -1.987976501927604,
          -1.9900614884305643,
          -1.9919485314110084,
          -1.993637443172255,
          -1.995128055724951,
          -1.9964202208037782,
          -1.9975138098822018,
          -1.9984087141852545,
          -1.9991048447003537,
          -1.9996021321861592,
          -1.9999005271794572,
          -2.000000000000081,
          -2.0002946763315284,
          -2.001178067733399,
          -2.0026483582879164,
          -2.0047025392811113,
          -2.007336435501518,
          -2.0105447412872643,
          -2.014321065585352,
          -2.0186579851239315,
          -2.0235471046672266,
          -2.0289791232264207,
          -2.034943905039974,
          -2.0414305541130697,
          -2.048427491116171,
          -2.0559225314839424,
          -2.0639029636236494,
          -2.072355626231705,
          -2.0812669838228945,
          -2.090623199693807,
          -2.100410205664893,
          -2.1106137680698804,
          -2.1212195495828823,
          -2.1322131665892186,
          -2.143580241913175,
          -2.1553064528127,
          -2.1673775742364425,
          -2.1797795174117414,
          -2.1924983638934323,
          -2.2055203952527758,
          -2.218832118624255,
          -2.2324202883563515,
          -2.2462719240316464,
          -2.2603743251329638,
          -2.274715082636848,
          -2.289282087814564,
          -2.304063538515136,
          -2.3190479431955557,
          -2.33422412295129,
          -2.3495812117860004,
          -2.3651086553440748,
          -2.3807962083132703,
          -2.3966339306882927,
          -2.412612183069614,
          -2.428721621155734,
          -2.444953189571514,
          -2.461298115160389,
          -2.4777478998542577,
          -2.4942943132218742,
          -2.5109293847843666,
          -2.5276453961754575,
          -2.5444348732137767,
          -2.5612905779454143,
          -2.5782055007065203,
          -2.595172852248297,
          -2.612186055960007,
          -2.6292387402196398,
          -2.6463247308966835,
          -2.6634380440267025,
          -2.680572878673382,
          -2.6977236099901893,
          -2.714884782490576,
          -2.7320511035330965,
          -2.7492174370254423,
          -2.7663787973494216,
          -2.783530343507279,
          -2.8006673734882868,
          -2.8177853188534034,
          -2.8348797395347773,
          -2.8519463188461014,
          -2.8689808586991576,
          -2.8859792750213917,
          -2.9029375933689474,
          -2.9198519447293023,
          -2.936718561507445,
          -2.9535337736893705,
          -2.970294005176628,
          -2.9869957702856054,
          -3.0036356704052767,
          -3.020210390807187,
          -3.036716697601544,
          -3.053151434833378,
          -3.0695115217129327,
          -3.08579394997448,
          -3.1019957813580463,
          -3.118114145208609,
          -3.1341462361875347,
          -3.1500893120912465,
          -3.165940691772193,
          -3.1816977531574917,
          -3.1973579313607257,
          -3.2129187168825593,
          -3.228377653896061,
          -3.2437323386127472,
          -3.2589804177255433,
          -3.2741195869250737,
          -3.2891475894857427,
          -3.3040622149183667,
          -3.318861297686137,
          -3.33354271598095,
          -3.348104390557161,
          -3.3625442836201023,
          -3.3768603977666793,
          -3.3910507749756027,
          -3.405113495644866,
          -3.419046677674236,
          -3.432848475590559,
          -3.4465170797138986,
          -3.4600507153625397,
          -3.473447642094966,
          -3.486706152987134,
          -3.4998245739432905,
          -3.5128012630387784,
          -3.5256346098933298,
          -3.5383230350733594,
          -3.5508649895219326,
          -3.5632589540150823,
          -3.5755034386432367,
          -3.5875969823165827,
          -3.5995381522932424,
          -3.6113255437292002,
          -3.622957779248941,
          -3.63443350853588,
          -3.645751407941618,
          -3.6569101801131816,
          -3.6679085536373917,
          -3.6787452827015974,
          -3.6894191467699806,
          -3.6999289502747796,
          -3.7102735223216654,
          -3.720451716408694,
          -3.73046241015819,
          -3.7403045050609514,
          -3.7499769262322564,
          -3.7594786221791043,
          -3.768808564578211,
          -3.777965748064239,
          -3.7869491900278596,
          -3.7957579304231235,
          -3.804391031583828,
          -3.8128475780483755,
          -3.8211266763928324,
          -3.8292274550717678,
          -3.8371490642665766,
          -3.8448906757409036,
          -3.8524514827029104,
          -3.8598306996740726,
          -3.8670275623641936,
          -3.8740413275524075,
          -3.880871272973908,
          -3.887516697212134,
          -3.893976919596201,
          -3.9002512801033564,
          -3.906339139266251,
          -3.912239878084812,
          -3.9179528979425458,
          -3.923477620527076,
          -3.9288134877547685,
          -3.933959961699239,
          -3.9389165245236435,
          -3.9436826784165566,
          -3.94825794553133,
          -3.9526418679287856,
          -3.9568340075231325,
          -3.960833946030973,
          -3.9646412849232977,
          -3.968255645380377,
          -3.971676668249412,
          -3.97490401400492,
          -3.9779373627116863,
          -3.9807764139902746,
          -3.983420886984976,
          -3.985870520334142,
          -3.988125072142841,
          -3.9901843199577716,
          -3.99204806074437,
          -3.9937161108660906,
          -3.9951883060657867,
          -3.9964645014491413,
          -3.9975445714701605,
          -3.9984284099186542,
          -3.999115929909668,
          -3.999607063874907,
          -3.999901763556047,
          -3.9999999999999996
         ]
        },
        {
         "line": {
          "color": "purple",
          "width": 4
         },
         "mode": "lines",
         "type": "scatter",
         "x": [
          1,
          2,
          3,
          4,
          5,
          6,
          7,
          8,
          9,
          10,
          11,
          12,
          13,
          14,
          15,
          16,
          17,
          18,
          19,
          20,
          21,
          22,
          23,
          24,
          25,
          26,
          27,
          28,
          29,
          30,
          31,
          32,
          33,
          34,
          35,
          36,
          37,
          38,
          39,
          40,
          41,
          42,
          43,
          44,
          45,
          46,
          47,
          48,
          49,
          50,
          51,
          52,
          53,
          54,
          55,
          56,
          57,
          58,
          59,
          60,
          61,
          62,
          63,
          64,
          65,
          66,
          67,
          68,
          69,
          70,
          71,
          72,
          73,
          74,
          75,
          76,
          77,
          78,
          79,
          80,
          81,
          82,
          83,
          84,
          85,
          86,
          87,
          88,
          89,
          90,
          91,
          92,
          93,
          94,
          95,
          96,
          97,
          98,
          99,
          100,
          101,
          102,
          103,
          104,
          105,
          106,
          107,
          108,
          109,
          110,
          111,
          112,
          113,
          114,
          115,
          116,
          117,
          118,
          119,
          120,
          121,
          122,
          123,
          124,
          125,
          126,
          127,
          128,
          129,
          130,
          131,
          132,
          133,
          134,
          135,
          136,
          137,
          138,
          139,
          140,
          141,
          142,
          143,
          144,
          145,
          146,
          147,
          148,
          149,
          150,
          151,
          152,
          153,
          154,
          155,
          156,
          157,
          158,
          159,
          160,
          161,
          162,
          163,
          164,
          165,
          166,
          167,
          168,
          169,
          170,
          171,
          172,
          173,
          174,
          175,
          176,
          177,
          178,
          179,
          180,
          181,
          182,
          183,
          184,
          185,
          186,
          187,
          188,
          189,
          190,
          191,
          192,
          193,
          194,
          195,
          196,
          197,
          198,
          199,
          200,
          201,
          202,
          203,
          204,
          205,
          206,
          207,
          208,
          209,
          210,
          211,
          212,
          213,
          214,
          215,
          216,
          217,
          218,
          219,
          220,
          221,
          222,
          223,
          224,
          225,
          226,
          227,
          228,
          229,
          230,
          231,
          232,
          233,
          234,
          235,
          236,
          237,
          238,
          239,
          240,
          241,
          242,
          243,
          244,
          245,
          246,
          247,
          248,
          249,
          250,
          251,
          252,
          253,
          254,
          255,
          256,
          257,
          258,
          259,
          260,
          261,
          262,
          263,
          264,
          265,
          266,
          267,
          268,
          269,
          270,
          271,
          272,
          273,
          274,
          275,
          276,
          277,
          278,
          279,
          280,
          281,
          282,
          283,
          284,
          285,
          286,
          287,
          288,
          289,
          290,
          291,
          292,
          293,
          294,
          295,
          296,
          297,
          298,
          299,
          300,
          301,
          302,
          303,
          304,
          305,
          306,
          307,
          308,
          309,
          310,
          311,
          312,
          313,
          314,
          315,
          316,
          317,
          318,
          319,
          320,
          321,
          322,
          323,
          324,
          325,
          326,
          327,
          328,
          329,
          330,
          331,
          332,
          333,
          334,
          335,
          336,
          337,
          338,
          339,
          340,
          341,
          342,
          343,
          344,
          345,
          346,
          347,
          348,
          349,
          350,
          351,
          352,
          353,
          354,
          355,
          356,
          357,
          358,
          359,
          360,
          361,
          362,
          363,
          364,
          365,
          366,
          367,
          368,
          369,
          370,
          371,
          372,
          373,
          374,
          375,
          376,
          377,
          378,
          379,
          380,
          381,
          382,
          383,
          384,
          385,
          386,
          387,
          388,
          389,
          390,
          391,
          392,
          393,
          394,
          395,
          396,
          397,
          398,
          399,
          400,
          401,
          402,
          403,
          404,
          405,
          406,
          407,
          408,
          409,
          410,
          411,
          412,
          413,
          414,
          415,
          416,
          417,
          418,
          419,
          420,
          421,
          422,
          423,
          424,
          425,
          426,
          427,
          428,
          429,
          430,
          431,
          432,
          433,
          434,
          435,
          436,
          437,
          438,
          439,
          440,
          441,
          442,
          443,
          444,
          445,
          446,
          447,
          448,
          449,
          450,
          451,
          452,
          453,
          454,
          455,
          456,
          457,
          458,
          459,
          460,
          461,
          462,
          463,
          464,
          465,
          466,
          467,
          468,
          469,
          470,
          471,
          472,
          473,
          474,
          475,
          476,
          477,
          478,
          479,
          480,
          481,
          482,
          483,
          484,
          485,
          486,
          487,
          488,
          489,
          490,
          491,
          492,
          493,
          494,
          495,
          496,
          497,
          498,
          499,
          500
         ],
         "y": [
          2,
          1.9999014744666956,
          1.9996059075740604,
          1.999113328442982,
          1.9984237856050775,
          1.99753734699793,
          1.9964540999583726,
          1.9951741512138947,
          1.9936976268721331,
          1.9920246724084336,
          1.9901554526515288,
          1.9880901517672922,
          1.985828973240592,
          1.9833721398552495,
          1.9807198936720845,
          1.9778724960050702,
          1.9748302273955745,
          1.9715933875847407,
          1.9681622954839295,
          1.9645372891433277,
          1.9607187257186136,
          1.9567069814357854,
          1.9525024515540907,
          1.948105550327076,
          1.9435167109617808,
          1.938736385576051,
          1.9337650451539927,
          1.9286031794995746,
          1.9232512971883606,
          1.9177099255174128,
          1.9119796104533278,
          1.9060609165784541,
          1.8999544270352624,
          1.89366074346889,
          1.8871804859678705,
          1.8805142930030256,
          1.8736628213645745,
          1.8666267460974157,
          1.8594067604346145,
          1.8520035757291091,
          1.844417921383624,
          1.8366505447787949,
          1.8287022111995468,
          1.820573703759684,
          1.8122658233247357,
          1.8037793884330562,
          1.7951152352151627,
          1.786274217311377,
          1.777257205787702,
          1.768065089050003,
          1.758698772756491,
          1.7491591797284662,
          1.7394472498594253,
          1.7295639400224347,
          1.7195102239758677,
          1.7092870922674601,
          1.6988955521367148,
          1.6883366274156655,
          1.6776113584280004,
          1.666720801886568,
          1.6556660307892581,
          1.6444481343132904,
          1.6330682177078941,
          1.6215274021854276,
          1.6098268248108891,
          1.5979676383899077,
          1.5859510113551498,
          1.5737781276512026,
          1.5614501866179236,
          1.5489684028722785,
          1.5363340061886677,
          1.5235482413777617,
          1.5106123681638572,
          1.4975276610607626,
          1.484295409246222,
          1.4709169164349025,
          1.4573935007499461,
          1.4437264945930899,
          1.429917244513408,
          1.4159671110746277,
          1.4018774687210862,
          1.3876497056423092,
          1.373285223636245,
          1.3587854379711397,
          1.3441517772461136,
          1.3293856832503885,
          1.3144886108212535,
          1.299462027700714,
          1.2843074143908852,
          1.2690262640081251,
          1.2536200821359262,
          1.2380903866765718,
          1.2224387077015901,
          1.2066665873009996,
          1.1907755794313737,
          1.1747672497627362,
          1.158643175524307,
          1.1424049453490985,
          1.1260541591173994,
          1.1095924277991425,
          1.0930213732951848,
          1.0763426282775093,
          1.059557836028364,
          1.042668650278356,
          1.0256767350435183,
          1.008583764461362,
          0.9913914226259288,
          0.9741014034218672,
          0.9567154103575404,
          0.9392351563971866,
          0.9216623637921493,
          0.9039987639111917,
          0.8862460970699129,
          0.868406112359281,
          0.8504805674733029,
          0.8324712285358489,
          0.8143798699266418,
          0.7962082741064372,
          0.777958231441404,
          0.7596315400267295,
          0.7412300055094577,
          0.7227554409105921,
          0.7042096664464605,
          0.6855945093493836,
          0.6669118036876425,
          0.6481633901847745,
          0.6293511160382204,
          0.6104768347373222,
          0.5915424058807117,
          0.5725496949930875,
          0.5535005733414211,
          0.5343969177505818,
          0.5152406104184242,
          0.49603353873034517,
          0.47677759507332496,
          0.45747467664948216,
          0.4381266852891481,
          0.41873552726349117,
          0.39930311309669686,
          0.3798313573777339,
          0.3603221785717201,
          0.34077749883090025,
          0.32119924380527,
          0.3015893424528453,
          0.28194972684961783,
          0.2622823319991867,
          0.2425890956421184,
          0.22287195806502824,
          0.20313286190941104,
          0.18337375198024186,
          0.16359657505436487,
          0.14380327968868434,
          0.12399581602818088,
          0.10417613561377537,
          0.08434619119005138,
          0.06450793651285802,
          0.04466332615681745,
          0.024814315322747138,
          0.0049628596450270734,
          -0.014889085001086544,
          -0.03473956269215983,
          -0.054586617649292624,
          -0.07442829443080945,
          -0.09426263812492497,
          -0.11408769454234857,
          -0.1339015104088237,
          -0.153702133557575,
          -0.17348761312164784,
          -0.19325599972611587,
          -0.21300534568014706,
          -0.2327337051688972,
          -0.25243913444522814,
          -0.2721196920212103,
          -0.2917734388594132,
          -0.3113984385639479,
          -0.3309927575712541,
          -0.3505544653405994,
          -0.3700816345442943,
          -0.3895723412575798,
          -0.40902466514818103,
          -0.4284366896655136,
          -0.4478065022295099,
          -0.4671321944190572,
          -0.48641186216002374,
          -0.505643605912866,
          -0.5248255308597728,
          -0.5439557470913594,
          -0.5630323697928697,
          -0.5820535194298775,
          -0.6010173219334722,
          -0.6199219088848974,
          -0.6387654176996409,
          -0.6575459918109497,
          -0.6762617808527424,
          -0.6949109408419223,
          -0.713491634360057,
          -0.7320020307344068,
          -0.7504403062182974,
          -0.7688046441708044,
          -0.787093235235738,
          -0.8053042775199077,
          -0.8234359767706627,
          -0.8414865465526628,
          -0.8594542084238951,
          -0.8773371921108905,
          -0.8951337356831442,
          -0.9128420857267111,
          -0.9304604975169585,
          -0.9479872351904686,
          -0.9654205719160641,
          -0.982758790064948,
          -0.9999998186200697,
          -0.9827758346374926,
          -0.9656527578388776,
          -0.9486325634573811,
          -0.9317169444244059,
          -0.9149075832695146,
          -0.8982061519531992,
          -0.8816143117005887,
          -0.8651337128362225,
          -0.8487659946199012,
          -0.8325127850836315,
          -0.8163757008696975,
          -0.800356347069856,
          -0.784456317065689,
          -0.7686771923701119,
          -0.7530205424700694,
          -0.7374879246704239,
          -0.7220808839390569,
          -0.706800952753196,
          -0.6916496509469868,
          -0.6766284855603236,
          -0.6617389506889415,
          -0.6469825273358158,
          -0.6323606832638442,
          -0.6178748728498586,
          -0.6035265369399604,
          -0.5893171027062104,
          -0.575247983504668,
          -0.5613205787348141,
          -0.5475362737003576,
          -0.5338964394714414,
          -0.5204024327482758,
          -0.507055595726183,
          -0.49385725596210023,
          -0.4808087262425317,
          -0.467911304452971,
          -0.4551662734488045,
          -0.44257490092771123,
          -0.43013843930357387,
          -0.41785812558189706,
          -0.405735181236777,
          -0.3937708120894014,
          -0.3819662081881112,
          -0.37032254369003254,
          -0.35884097674428844,
          -0.34752264937679866,
          -0.3363686873766926,
          -0.3253802001843277,
          -0.3145582807809374,
          -0.3039040055799194,
          -0.29341843431976655,
          -0.28310260995865977,
          -0.27295755857073123,
          -0.2629842892439995,
          -0.2531837939800061,
          -0.2435570475951399,
          -0.23410500762367853,
          -0.22482861422254646,
          -0.21572879007779822,
          -0.206806440312848,
          -0.1980624523984338,
          -0.1894976960643523,
          -0.18111302321294087,
          -0.1729092678343504,
          -0.16488724592358822,
          -0.157047755399353,
          -0.14939157602467112,
          -0.14191946932933686,
          -0.13463217853416448,
          -0.12753042847706314,
          -0.12061492554094089,
          -0.1138863575834459,
          -0.10734539386854075,
          -0.10099268499994307,
          -0.09482886285640502,
          -0.08885454052886588,
          -0.08307031225946937,
          -0.07747675338245885,
          -0.07207442026694688,
          -0.0668638502615812,
          -0.06184556164109167,
          -0.057020053554741545,
          -0.052387805976680746,
          -0.04794927965819973,
          -0.043704916081906964,
          -0.03965513741781118,
          -0.03580034648133257,
          -0.03214092669323593,
          -0.028677242041490414,
          -0.02540963704507032,
          -0.02233843671968505,
          -0.01946394654544703,
          -0.01678645243649049,
          -0.0143062207125364,
          -0.012023498072396305,
          -0.009938511569435815,
          -0.008051468588991265,
          -0.006362556827743934,
          -0.004871944275047779,
          -0.003579779196222245,
          -0.00248619011779877,
          -0.0015912858147460324,
          -0.0008951552996468953,
          -0.00039786781384073015,
          -0.00009947282054319098,
          8.140571359215114e-14,
          0.00029467633152808115,
          0.0011780677333988639,
          0.0026483582879167564,
          0.004702539281111473,
          0.007336435501517191,
          0.010544741287264903,
          0.014321065585351928,
          0.018657985123930992,
          0.023547104667226926,
          0.028979123226420267,
          0.034943905039973466,
          0.04143055411306917,
          0.04842749111617134,
          0.055922531483942495,
          0.06390296362364933,
          0.07235562623170488,
          0.08126698382289477,
          0.09062319969380717,
          0.10041020566489195,
          0.11061376806988071,
          0.12121954958288256,
          0.13221316658921906,
          0.1435802419131742,
          0.15530645281270045,
          0.1673775742364429,
          0.17977951741174097,
          0.19249836389343267,
          0.20552039525277505,
          0.2188321186242541,
          0.23242028835635092,
          0.24627192403164666,
          0.2603743251329637,
          0.2747150826368471,
          0.2892820878145641,
          0.30406353851513496,
          0.31904794319555596,
          0.33422412295129006,
          0.3495812117860005,
          0.36510865534407416,
          0.38079620831327077,
          0.39663393068829295,
          0.41261218306961356,
          0.4287216211557339,
          0.4449531895715145,
          0.46129811516038827,
          0.4777478998542571,
          0.4942943132218752,
          0.5109293847843673,
          0.5276453961754569,
          0.5444348732137776,
          0.5612905779454145,
          0.5782055007065201,
          0.5951728522482982,
          0.6121860559600066,
          0.6292387402196397,
          0.6463247308966846,
          0.6634380440267014,
          0.6805728786733819,
          0.6977236099901899,
          0.7148847824905761,
          0.7320511035330971,
          0.749217437025442,
          0.7663787973494227,
          0.783530343507279,
          0.8006673734882869,
          0.8177853188534036,
          0.8348797395347775,
          0.8519463188461002,
          0.8689808586991573,
          0.8859792750213912,
          0.9029375933689471,
          0.9198519447293031,
          0.9367185615074455,
          0.9535337736893701,
          0.970294005176628,
          0.9869957702856054,
          1.0036356704052767,
          1.0202103908071873,
          1.0367166976015434,
          1.053151434833379,
          1.0695115217129343,
          1.0857939499744815,
          1.101995781358048,
          1.1181141452086072,
          1.1341462361875347,
          1.1500893120912468,
          1.165940691772193,
          1.1816977531574921,
          1.1973579313607263,
          1.2129187168825601,
          1.2283776538960614,
          1.2437323386127457,
          1.258980417725544,
          1.2741195869250743,
          1.2891475894857425,
          1.3040622149183665,
          1.3188612976861376,
          1.3335427159809494,
          1.3481043905571608,
          1.3625442836201023,
          1.3768603977666773,
          1.3910507749756007,
          1.4051134956448668,
          1.4190466776742376,
          1.4328484755905575,
          1.4465170797138993,
          1.4600507153625395,
          1.4734476420949658,
          1.486706152987134,
          1.4998245739432885,
          1.5128012630387793,
          1.52563460989333,
          1.5383230350733599,
          1.5508649895219324,
          1.563258954015083,
          1.5755034386432376,
          1.5875969823165825,
          1.5995381522932437,
          1.6113255437292007,
          1.622957779248941,
          1.634433508535879,
          1.6457514079416182,
          1.656910180113182,
          1.6679085536373939,
          1.6787452827015965,
          1.6894191467699808,
          1.6999289502747799,
          1.7102735223216639,
          1.720451716408693,
          1.7304624101581907,
          1.7403045050609518,
          1.749976926232256,
          1.7594786221791041,
          1.7688085645782106,
          1.7779657480642381,
          1.786949190027858,
          1.7957579304231235,
          1.8043910315838279,
          1.8128475780483757,
          1.8211266763928315,
          1.8292274550717689,
          1.837149064266578,
          1.8448906757409038,
          1.8524514827029135,
          1.859830699674074,
          1.8670275623641925,
          1.874041327552407,
          1.880871272973909,
          1.8875166972121344,
          1.8939769195962008,
          1.900251280103356,
          1.906339139266252,
          1.9122398780848124,
          1.917952897942544,
          1.9234776205270756,
          1.9288134877547667,
          1.93395996169924,
          1.9389165245236442,
          1.9436826784165584,
          1.9482579455313298,
          1.952641867928786,
          1.9568340075231327,
          1.9608339460309743,
          1.9646412849233008,
          1.9682556453803774,
          1.971676668249413,
          1.97490401400492,
          1.9779373627116856,
          1.9807764139902748,
          1.983420886984976,
          1.9858705203341438,
          1.988125072142843,
          1.9901843199577711,
          1.9920480607443698,
          1.9937161108660932,
          1.9951883060657871,
          1.9964645014491413,
          1.997544571470162,
          1.9984284099186544,
          1.9991159299096677,
          1.9996070638749057,
          1.9999017635560472,
          2
         ]
        },
        {
         "line": {
          "color": "purple",
          "width": 4
         },
         "mode": "lines",
         "type": "scatter",
         "x": [
          1,
          2,
          3,
          4,
          5,
          6,
          7,
          8,
          9,
          10,
          11,
          12,
          13,
          14,
          15,
          16,
          17,
          18,
          19,
          20,
          21,
          22,
          23,
          24,
          25,
          26,
          27,
          28,
          29,
          30,
          31,
          32,
          33,
          34,
          35,
          36,
          37,
          38,
          39,
          40,
          41,
          42,
          43,
          44,
          45,
          46,
          47,
          48,
          49,
          50,
          51,
          52,
          53,
          54,
          55,
          56,
          57,
          58,
          59,
          60,
          61,
          62,
          63,
          64,
          65,
          66,
          67,
          68,
          69,
          70,
          71,
          72,
          73,
          74,
          75,
          76,
          77,
          78,
          79,
          80,
          81,
          82,
          83,
          84,
          85,
          86,
          87,
          88,
          89,
          90,
          91,
          92,
          93,
          94,
          95,
          96,
          97,
          98,
          99,
          100,
          101,
          102,
          103,
          104,
          105,
          106,
          107,
          108,
          109,
          110,
          111,
          112,
          113,
          114,
          115,
          116,
          117,
          118,
          119,
          120,
          121,
          122,
          123,
          124,
          125,
          126,
          127,
          128,
          129,
          130,
          131,
          132,
          133,
          134,
          135,
          136,
          137,
          138,
          139,
          140,
          141,
          142,
          143,
          144,
          145,
          146,
          147,
          148,
          149,
          150,
          151,
          152,
          153,
          154,
          155,
          156,
          157,
          158,
          159,
          160,
          161,
          162,
          163,
          164,
          165,
          166,
          167,
          168,
          169,
          170,
          171,
          172,
          173,
          174,
          175,
          176,
          177,
          178,
          179,
          180,
          181,
          182,
          183,
          184,
          185,
          186,
          187,
          188,
          189,
          190,
          191,
          192,
          193,
          194,
          195,
          196,
          197,
          198,
          199,
          200,
          201,
          202,
          203,
          204,
          205,
          206,
          207,
          208,
          209,
          210,
          211,
          212,
          213,
          214,
          215,
          216,
          217,
          218,
          219,
          220,
          221,
          222,
          223,
          224,
          225,
          226,
          227,
          228,
          229,
          230,
          231,
          232,
          233,
          234,
          235,
          236,
          237,
          238,
          239,
          240,
          241,
          242,
          243,
          244,
          245,
          246,
          247,
          248,
          249,
          250,
          251,
          252,
          253,
          254,
          255,
          256,
          257,
          258,
          259,
          260,
          261,
          262,
          263,
          264,
          265,
          266,
          267,
          268,
          269,
          270,
          271,
          272,
          273,
          274,
          275,
          276,
          277,
          278,
          279,
          280,
          281,
          282,
          283,
          284,
          285,
          286,
          287,
          288,
          289,
          290,
          291,
          292,
          293,
          294,
          295,
          296,
          297,
          298,
          299,
          300,
          301,
          302,
          303,
          304,
          305,
          306,
          307,
          308,
          309,
          310,
          311,
          312,
          313,
          314,
          315,
          316,
          317,
          318,
          319,
          320,
          321,
          322,
          323,
          324,
          325,
          326,
          327,
          328,
          329,
          330,
          331,
          332,
          333,
          334,
          335,
          336,
          337,
          338,
          339,
          340,
          341,
          342,
          343,
          344,
          345,
          346,
          347,
          348,
          349,
          350,
          351,
          352,
          353,
          354,
          355,
          356,
          357,
          358,
          359,
          360,
          361,
          362,
          363,
          364,
          365,
          366,
          367,
          368,
          369,
          370,
          371,
          372,
          373,
          374,
          375,
          376,
          377,
          378,
          379,
          380,
          381,
          382,
          383,
          384,
          385,
          386,
          387,
          388,
          389,
          390,
          391,
          392,
          393,
          394,
          395,
          396,
          397,
          398,
          399,
          400,
          401,
          402,
          403,
          404,
          405,
          406,
          407,
          408,
          409,
          410,
          411,
          412,
          413,
          414,
          415,
          416,
          417,
          418,
          419,
          420,
          421,
          422,
          423,
          424,
          425,
          426,
          427,
          428,
          429,
          430,
          431,
          432,
          433,
          434,
          435,
          436,
          437,
          438,
          439,
          440,
          441,
          442,
          443,
          444,
          445,
          446,
          447,
          448,
          449,
          450,
          451,
          452,
          453,
          454,
          455,
          456,
          457,
          458,
          459,
          460,
          461,
          462,
          463,
          464,
          465,
          466,
          467,
          468,
          469,
          470,
          471,
          472,
          473,
          474,
          475,
          476,
          477,
          478,
          479,
          480,
          481,
          482,
          483,
          484,
          485,
          486,
          487,
          488,
          489,
          490,
          491,
          492,
          493,
          494,
          495,
          496,
          497,
          498,
          499,
          500
         ],
         "y": [
          2.000000000000001,
          2,
          2,
          2.0000000000000004,
          1.9999999999999998,
          2.000000000000001,
          2.0000000000000004,
          2.000000000000001,
          2,
          2.000000000000001,
          2,
          2,
          2.0000000000000004,
          2.0000000000000004,
          2.000000000000001,
          2.000000000000001,
          2,
          2,
          2.0000000000000004,
          2.000000000000001,
          2,
          2.000000000000001,
          2,
          2.000000000000001,
          2.000000000000001,
          2,
          2.000000000000001,
          2,
          2.000000000000001,
          2,
          2.000000000000001,
          1.9999999999999996,
          1.9999999999999998,
          2,
          1.9999999999999998,
          2.000000000000001,
          2,
          2,
          2.0000000000000004,
          1.9999999999999998,
          2.0000000000000004,
          2.0000000000000004,
          2.0000000000000004,
          2,
          2,
          2,
          2.0000000000000004,
          2.0000000000000004,
          2.000000000000001,
          2.000000000000001,
          2,
          2.0000000000000004,
          2.000000000000001,
          1.9999999999999996,
          2.000000000000001,
          2,
          2.0000000000000004,
          2,
          2.0000000000000004,
          1.9999999999999998,
          2.0000000000000004,
          2.0000000000000004,
          2.000000000000001,
          2.0000000000000004,
          1.9999999999999998,
          2.0000000000000004,
          2.0000000000000004,
          2.0000000000000004,
          2.000000000000001,
          2,
          2.000000000000001,
          2,
          2.000000000000001,
          2.0000000000000004,
          2,
          2,
          2,
          2.000000000000001,
          2,
          2.0000000000000013,
          1.9999999999999998,
          2.000000000000001,
          1.9999999999999998,
          2,
          1.9999999999999996,
          2.000000000000001,
          2.0000000000000004,
          2.0000000000000004,
          2.000000000000001,
          2.000000000000001,
          1.9999999999999998,
          2,
          1.9999999999999996,
          2,
          2.0000000000000004,
          2,
          1.9999999999999993,
          2,
          1.9999999999999998,
          1.9999999999999998,
          2.0000000000000013,
          1.9999999999999998,
          1.9999999999999993,
          2.000000000000001,
          2.0000000000000004,
          1.9999999999999998,
          2.000000000000001,
          2.000000000000001,
          1.9999999999999998,
          2.000000000000001,
          2,
          2.0000000000000004,
          1.9999999999999998,
          2,
          2.000000000000001,
          2.0000000000000004,
          2.0000000000000004,
          2,
          2,
          2,
          1.9999999999999998,
          1.9999999999999998,
          1.9999999999999998,
          2,
          1.9999999999999993,
          2,
          2.0000000000000004,
          2.0000000000000004,
          1.9999999999999998,
          2,
          2,
          2.0000000000000004,
          1.9999999999999996,
          1.9999999999999996,
          2,
          2,
          1.9999999999999998,
          2,
          2,
          2,
          2,
          2,
          2.000000000000001,
          2,
          2,
          1.9999999999999998,
          2.0000000000000004,
          2.0000000000000004,
          2,
          2,
          1.9999999999999998,
          2.0000000000000004,
          2,
          2.0000000000000004,
          2,
          1.9999999999999998,
          1.9999999999999998,
          2,
          2,
          2,
          2,
          2,
          2,
          2,
          2,
          2,
          2,
          2.0000000000000004,
          2,
          2,
          2,
          2,
          2,
          2,
          2,
          2,
          2,
          2,
          2,
          2,
          2,
          2,
          2,
          2,
          2.0000000000000004,
          2,
          2,
          2,
          2,
          2,
          1.9999999999999996,
          2,
          2,
          2,
          2,
          2,
          2,
          2,
          2,
          2,
          2,
          2,
          2.0000000000000004,
          2,
          2,
          2,
          2,
          2,
          2,
          2,
          2,
          2,
          1.9999999999999998,
          2,
          1.9999999999999996,
          2,
          2.0000000000000004,
          1.9999999999999996,
          2,
          2.0000000000000004,
          2.0000000000000004,
          2,
          2,
          2,
          2.0000000000000004,
          2,
          1.9999999999999998,
          1.9999999999999998,
          2,
          2,
          2,
          2,
          2,
          2,
          2,
          1.9999999999999996,
          2.0000000000000004,
          2.0000000000000004,
          1.9999999999999993,
          1.9999999999999996,
          1.9999999999999998,
          2,
          2,
          2,
          2,
          1.9999999999999998,
          2,
          2.0000000000000004,
          2,
          2,
          2,
          2.0000000000000004,
          2,
          2,
          2.0000000000000004,
          2,
          2,
          1.9999999999999996,
          2,
          2,
          2,
          2,
          2,
          2,
          2,
          2,
          2,
          1.9999999999999998,
          2,
          2,
          2,
          1.9999999999999996,
          2,
          2.0000000000000004,
          2,
          2,
          2,
          2,
          2,
          2,
          2.0000000000000004,
          1.9999999999999998,
          2.0000000000000004,
          1.9999999999999998,
          1.9999999999999998,
          1.9999999999999996,
          2.0000000000000004,
          1.9999999999999998,
          2,
          2,
          1.9999999999999996,
          2,
          2,
          2,
          2,
          2.0000000000000004,
          2.000000000000001,
          2,
          2.0000000000000004,
          2.0000000000000004,
          1.9999999999999991,
          2.000000000000001,
          2.0000000000000013,
          1.9999999999999998,
          2,
          1.9999999999999998,
          2.0000000000000004,
          1.9999999999999998,
          1.9999999999999991,
          1.9999999999999991,
          2.0000000000000004,
          2.000000000000001,
          2.0000000000000004,
          2,
          2,
          2.0000000000000004,
          1.9999999999999993,
          2.0000000000000004,
          2,
          1.9999999999999998,
          2.0000000000000004,
          2.0000000000000004,
          1.9999999999999996,
          2,
          2.0000000000000004,
          2,
          1.9999999999999998,
          2.0000000000000004,
          2.0000000000000004,
          1.9999999999999998,
          2,
          1.9999999999999998,
          1.9999999999999998,
          2,
          1.9999999999999998,
          2,
          1.9999999999999996,
          1.9999999999999998,
          2,
          2.0000000000000004,
          1.9999999999999998,
          1.9999999999999996,
          2.000000000000001,
          2,
          2.000000000000001,
          2.0000000000000004,
          2.0000000000000004,
          2,
          2,
          2,
          2,
          2.0000000000000004,
          1.9999999999999998,
          2,
          2,
          2,
          2,
          1.9999999999999998,
          2,
          2,
          2,
          2,
          2,
          2,
          1.9999999999999991,
          2,
          1.9999999999999996,
          2.0000000000000004,
          1.9999999999999998,
          1.9999999999999993,
          1.9999999999999998,
          2,
          1.9999999999999996,
          2.0000000000000004,
          2.0000000000000004,
          2,
          2,
          2.0000000000000004,
          2,
          2,
          1.9999999999999996,
          2,
          1.9999999999999996,
          2.0000000000000004,
          2,
          1.9999999999999998,
          1.9999999999999993,
          1.9999999999999998,
          1.9999999999999998,
          1.9999999999999993,
          2.0000000000000004,
          1.9999999999999998,
          2.0000000000000004,
          2,
          2.0000000000000004,
          1.9999999999999996,
          2,
          2.0000000000000004,
          2,
          2,
          1.9999999999999998,
          1.9999999999999998,
          2.0000000000000004,
          2.000000000000001,
          2,
          2,
          1.9999999999999996,
          2.0000000000000004,
          2.0000000000000004,
          1.9999999999999996,
          2.0000000000000004,
          1.9999999999999998,
          1.9999999999999998,
          2.0000000000000004,
          2,
          1.9999999999999993,
          1.9999999999999993,
          2.0000000000000004,
          1.9999999999999996,
          1.9999999999999998,
          2,
          2.0000000000000004,
          1.9999999999999996,
          1.9999999999999996,
          2,
          2,
          1.9999999999999996,
          2.0000000000000004,
          1.9999999999999996,
          1.9999999999999993,
          2.0000000000000004,
          2,
          2.0000000000000004,
          2,
          2.0000000000000004,
          2.0000000000000004,
          1.9999999999999993,
          1.9999999999999998,
          2,
          1.9999999999999998,
          1.9999999999999993,
          1.9999999999999996,
          2.0000000000000013,
          2.0000000000000004,
          1.9999999999999993,
          2,
          2,
          1.9999999999999991,
          2,
          2.0000000000000004,
          1.9999999999999998,
          1.9999999999999996,
          1.9999999999999984,
          2,
          1.9999999999999993,
          2.0000000000000004,
          1.999999999999999,
          2.000000000000001,
          2.0000000000000004,
          2,
          1.9999999999999998,
          2.0000000000000004,
          1.9999999999999996,
          1.9999999999999993,
          2.0000000000000004,
          1.9999999999999998,
          1.9999999999999998,
          1.9999999999999998,
          2,
          2.0000000000000004,
          1.9999999999999998,
          2.0000000000000004,
          2,
          2.0000000000000004,
          2.000000000000001,
          2.0000000000000004,
          2,
          1.9999999999999993,
          2.0000000000000004,
          2.0000000000000004,
          2,
          2,
          2,
          1.9999999999999991,
          2.0000000000000004,
          1.9999999999999998,
          2,
          2,
          1.9999999999999993,
          2.0000000000000004,
          2.0000000000000004,
          2.0000000000000004,
          1.9999999999999998,
          2,
          2,
          2.0000000000000004,
          1.9999999999999993,
          1.9999999999999998,
          1.9999999999999991,
          2.000000000000001
         ]
        }
       ],
       "frames": [],
       "layout": {
        "height": 510,
        "margin": {
         "b": 50,
         "l": 50,
         "r": 50,
         "t": 60
        },
        "plot_bgcolor": "rgba(0,0,0,0)",
        "showlegend": false,
        "template": {
         "data": {
          "bar": [
           {
            "error_x": {
             "color": "#2a3f5f"
            },
            "error_y": {
             "color": "#2a3f5f"
            },
            "marker": {
             "line": {
              "color": "#E5ECF6",
              "width": 0.5
             }
            },
            "type": "bar"
           }
          ],
          "barpolar": [
           {
            "marker": {
             "line": {
              "color": "#E5ECF6",
              "width": 0.5
             }
            },
            "type": "barpolar"
           }
          ],
          "carpet": [
           {
            "aaxis": {
             "endlinecolor": "#2a3f5f",
             "gridcolor": "white",
             "linecolor": "white",
             "minorgridcolor": "white",
             "startlinecolor": "#2a3f5f"
            },
            "baxis": {
             "endlinecolor": "#2a3f5f",
             "gridcolor": "white",
             "linecolor": "white",
             "minorgridcolor": "white",
             "startlinecolor": "#2a3f5f"
            },
            "type": "carpet"
           }
          ],
          "choropleth": [
           {
            "colorbar": {
             "outlinewidth": 0,
             "ticks": ""
            },
            "type": "choropleth"
           }
          ],
          "contour": [
           {
            "colorbar": {
             "outlinewidth": 0,
             "ticks": ""
            },
            "colorscale": [
             [
              0,
              "#0d0887"
             ],
             [
              0.1111111111111111,
              "#46039f"
             ],
             [
              0.2222222222222222,
              "#7201a8"
             ],
             [
              0.3333333333333333,
              "#9c179e"
             ],
             [
              0.4444444444444444,
              "#bd3786"
             ],
             [
              0.5555555555555556,
              "#d8576b"
             ],
             [
              0.6666666666666666,
              "#ed7953"
             ],
             [
              0.7777777777777778,
              "#fb9f3a"
             ],
             [
              0.8888888888888888,
              "#fdca26"
             ],
             [
              1,
              "#f0f921"
             ]
            ],
            "type": "contour"
           }
          ],
          "contourcarpet": [
           {
            "colorbar": {
             "outlinewidth": 0,
             "ticks": ""
            },
            "type": "contourcarpet"
           }
          ],
          "heatmap": [
           {
            "colorbar": {
             "outlinewidth": 0,
             "ticks": ""
            },
            "colorscale": [
             [
              0,
              "#0d0887"
             ],
             [
              0.1111111111111111,
              "#46039f"
             ],
             [
              0.2222222222222222,
              "#7201a8"
             ],
             [
              0.3333333333333333,
              "#9c179e"
             ],
             [
              0.4444444444444444,
              "#bd3786"
             ],
             [
              0.5555555555555556,
              "#d8576b"
             ],
             [
              0.6666666666666666,
              "#ed7953"
             ],
             [
              0.7777777777777778,
              "#fb9f3a"
             ],
             [
              0.8888888888888888,
              "#fdca26"
             ],
             [
              1,
              "#f0f921"
             ]
            ],
            "type": "heatmap"
           }
          ],
          "heatmapgl": [
           {
            "colorbar": {
             "outlinewidth": 0,
             "ticks": ""
            },
            "colorscale": [
             [
              0,
              "#0d0887"
             ],
             [
              0.1111111111111111,
              "#46039f"
             ],
             [
              0.2222222222222222,
              "#7201a8"
             ],
             [
              0.3333333333333333,
              "#9c179e"
             ],
             [
              0.4444444444444444,
              "#bd3786"
             ],
             [
              0.5555555555555556,
              "#d8576b"
             ],
             [
              0.6666666666666666,
              "#ed7953"
             ],
             [
              0.7777777777777778,
              "#fb9f3a"
             ],
             [
              0.8888888888888888,
              "#fdca26"
             ],
             [
              1,
              "#f0f921"
             ]
            ],
            "type": "heatmapgl"
           }
          ],
          "histogram": [
           {
            "marker": {
             "colorbar": {
              "outlinewidth": 0,
              "ticks": ""
             }
            },
            "type": "histogram"
           }
          ],
          "histogram2d": [
           {
            "colorbar": {
             "outlinewidth": 0,
             "ticks": ""
            },
            "colorscale": [
             [
              0,
              "#0d0887"
             ],
             [
              0.1111111111111111,
              "#46039f"
             ],
             [
              0.2222222222222222,
              "#7201a8"
             ],
             [
              0.3333333333333333,
              "#9c179e"
             ],
             [
              0.4444444444444444,
              "#bd3786"
             ],
             [
              0.5555555555555556,
              "#d8576b"
             ],
             [
              0.6666666666666666,
              "#ed7953"
             ],
             [
              0.7777777777777778,
              "#fb9f3a"
             ],
             [
              0.8888888888888888,
              "#fdca26"
             ],
             [
              1,
              "#f0f921"
             ]
            ],
            "type": "histogram2d"
           }
          ],
          "histogram2dcontour": [
           {
            "colorbar": {
             "outlinewidth": 0,
             "ticks": ""
            },
            "colorscale": [
             [
              0,
              "#0d0887"
             ],
             [
              0.1111111111111111,
              "#46039f"
             ],
             [
              0.2222222222222222,
              "#7201a8"
             ],
             [
              0.3333333333333333,
              "#9c179e"
             ],
             [
              0.4444444444444444,
              "#bd3786"
             ],
             [
              0.5555555555555556,
              "#d8576b"
             ],
             [
              0.6666666666666666,
              "#ed7953"
             ],
             [
              0.7777777777777778,
              "#fb9f3a"
             ],
             [
              0.8888888888888888,
              "#fdca26"
             ],
             [
              1,
              "#f0f921"
             ]
            ],
            "type": "histogram2dcontour"
           }
          ],
          "mesh3d": [
           {
            "colorbar": {
             "outlinewidth": 0,
             "ticks": ""
            },
            "type": "mesh3d"
           }
          ],
          "parcoords": [
           {
            "line": {
             "colorbar": {
              "outlinewidth": 0,
              "ticks": ""
             }
            },
            "type": "parcoords"
           }
          ],
          "pie": [
           {
            "automargin": true,
            "type": "pie"
           }
          ],
          "scatter": [
           {
            "marker": {
             "colorbar": {
              "outlinewidth": 0,
              "ticks": ""
             }
            },
            "type": "scatter"
           }
          ],
          "scatter3d": [
           {
            "line": {
             "colorbar": {
              "outlinewidth": 0,
              "ticks": ""
             }
            },
            "marker": {
             "colorbar": {
              "outlinewidth": 0,
              "ticks": ""
             }
            },
            "type": "scatter3d"
           }
          ],
          "scattercarpet": [
           {
            "marker": {
             "colorbar": {
              "outlinewidth": 0,
              "ticks": ""
             }
            },
            "type": "scattercarpet"
           }
          ],
          "scattergeo": [
           {
            "marker": {
             "colorbar": {
              "outlinewidth": 0,
              "ticks": ""
             }
            },
            "type": "scattergeo"
           }
          ],
          "scattergl": [
           {
            "marker": {
             "colorbar": {
              "outlinewidth": 0,
              "ticks": ""
             }
            },
            "type": "scattergl"
           }
          ],
          "scattermapbox": [
           {
            "marker": {
             "colorbar": {
              "outlinewidth": 0,
              "ticks": ""
             }
            },
            "type": "scattermapbox"
           }
          ],
          "scatterpolar": [
           {
            "marker": {
             "colorbar": {
              "outlinewidth": 0,
              "ticks": ""
             }
            },
            "type": "scatterpolar"
           }
          ],
          "scatterpolargl": [
           {
            "marker": {
             "colorbar": {
              "outlinewidth": 0,
              "ticks": ""
             }
            },
            "type": "scatterpolargl"
           }
          ],
          "scatterternary": [
           {
            "marker": {
             "colorbar": {
              "outlinewidth": 0,
              "ticks": ""
             }
            },
            "type": "scatterternary"
           }
          ],
          "surface": [
           {
            "colorbar": {
             "outlinewidth": 0,
             "ticks": ""
            },
            "colorscale": [
             [
              0,
              "#0d0887"
             ],
             [
              0.1111111111111111,
              "#46039f"
             ],
             [
              0.2222222222222222,
              "#7201a8"
             ],
             [
              0.3333333333333333,
              "#9c179e"
             ],
             [
              0.4444444444444444,
              "#bd3786"
             ],
             [
              0.5555555555555556,
              "#d8576b"
             ],
             [
              0.6666666666666666,
              "#ed7953"
             ],
             [
              0.7777777777777778,
              "#fb9f3a"
             ],
             [
              0.8888888888888888,
              "#fdca26"
             ],
             [
              1,
              "#f0f921"
             ]
            ],
            "type": "surface"
           }
          ],
          "table": [
           {
            "cells": {
             "fill": {
              "color": "#EBF0F8"
             },
             "line": {
              "color": "white"
             }
            },
            "header": {
             "fill": {
              "color": "#C8D4E3"
             },
             "line": {
              "color": "white"
             }
            },
            "type": "table"
           }
          ]
         },
         "layout": {
          "annotationdefaults": {
           "arrowcolor": "#2a3f5f",
           "arrowhead": 0,
           "arrowwidth": 1
          },
          "autotypenumbers": "strict",
          "coloraxis": {
           "colorbar": {
            "outlinewidth": 0,
            "ticks": ""
           }
          },
          "colorscale": {
           "diverging": [
            [
             0,
             "#8e0152"
            ],
            [
             0.1,
             "#c51b7d"
            ],
            [
             0.2,
             "#de77ae"
            ],
            [
             0.3,
             "#f1b6da"
            ],
            [
             0.4,
             "#fde0ef"
            ],
            [
             0.5,
             "#f7f7f7"
            ],
            [
             0.6,
             "#e6f5d0"
            ],
            [
             0.7,
             "#b8e186"
            ],
            [
             0.8,
             "#7fbc41"
            ],
            [
             0.9,
             "#4d9221"
            ],
            [
             1,
             "#276419"
            ]
           ],
           "sequential": [
            [
             0,
             "#0d0887"
            ],
            [
             0.1111111111111111,
             "#46039f"
            ],
            [
             0.2222222222222222,
             "#7201a8"
            ],
            [
             0.3333333333333333,
             "#9c179e"
            ],
            [
             0.4444444444444444,
             "#bd3786"
            ],
            [
             0.5555555555555556,
             "#d8576b"
            ],
            [
             0.6666666666666666,
             "#ed7953"
            ],
            [
             0.7777777777777778,
             "#fb9f3a"
            ],
            [
             0.8888888888888888,
             "#fdca26"
            ],
            [
             1,
             "#f0f921"
            ]
           ],
           "sequentialminus": [
            [
             0,
             "#0d0887"
            ],
            [
             0.1111111111111111,
             "#46039f"
            ],
            [
             0.2222222222222222,
             "#7201a8"
            ],
            [
             0.3333333333333333,
             "#9c179e"
            ],
            [
             0.4444444444444444,
             "#bd3786"
            ],
            [
             0.5555555555555556,
             "#d8576b"
            ],
            [
             0.6666666666666666,
             "#ed7953"
            ],
            [
             0.7777777777777778,
             "#fb9f3a"
            ],
            [
             0.8888888888888888,
             "#fdca26"
            ],
            [
             1,
             "#f0f921"
            ]
           ]
          },
          "colorway": [
           "#636efa",
           "#EF553B",
           "#00cc96",
           "#ab63fa",
           "#FFA15A",
           "#19d3f3",
           "#FF6692",
           "#B6E880",
           "#FF97FF",
           "#FECB52"
          ],
          "font": {
           "color": "#2a3f5f"
          },
          "geo": {
           "bgcolor": "white",
           "lakecolor": "white",
           "landcolor": "#E5ECF6",
           "showlakes": true,
           "showland": true,
           "subunitcolor": "white"
          },
          "hoverlabel": {
           "align": "left"
          },
          "hovermode": "closest",
          "mapbox": {
           "style": "light"
          },
          "paper_bgcolor": "white",
          "plot_bgcolor": "#E5ECF6",
          "polar": {
           "angularaxis": {
            "gridcolor": "white",
            "linecolor": "white",
            "ticks": ""
           },
           "bgcolor": "#E5ECF6",
           "radialaxis": {
            "gridcolor": "white",
            "linecolor": "white",
            "ticks": ""
           }
          },
          "scene": {
           "xaxis": {
            "backgroundcolor": "#E5ECF6",
            "gridcolor": "white",
            "gridwidth": 2,
            "linecolor": "white",
            "showbackground": true,
            "ticks": "",
            "zerolinecolor": "white"
           },
           "yaxis": {
            "backgroundcolor": "#E5ECF6",
            "gridcolor": "white",
            "gridwidth": 2,
            "linecolor": "white",
            "showbackground": true,
            "ticks": "",
            "zerolinecolor": "white"
           },
           "zaxis": {
            "backgroundcolor": "#E5ECF6",
            "gridcolor": "white",
            "gridwidth": 2,
            "linecolor": "white",
            "showbackground": true,
            "ticks": "",
            "zerolinecolor": "white"
           }
          },
          "shapedefaults": {
           "line": {
            "color": "#2a3f5f"
           }
          },
          "ternary": {
           "aaxis": {
            "gridcolor": "white",
            "linecolor": "white",
            "ticks": ""
           },
           "baxis": {
            "gridcolor": "white",
            "linecolor": "white",
            "ticks": ""
           },
           "bgcolor": "#E5ECF6",
           "caxis": {
            "gridcolor": "white",
            "linecolor": "white",
            "ticks": ""
           }
          },
          "title": {
           "x": 0.05
          },
          "xaxis": {
           "automargin": true,
           "gridcolor": "white",
           "linecolor": "white",
           "ticks": "",
           "title": {
            "standoff": 15
           },
           "zerolinecolor": "white",
           "zerolinewidth": 2
          },
          "yaxis": {
           "automargin": true,
           "gridcolor": "white",
           "linecolor": "white",
           "ticks": "",
           "title": {
            "standoff": 15
           },
           "zerolinecolor": "white",
           "zerolinewidth": 2
          }
         }
        },
        "title": "Nearest neighbor model with nearest spin-orbit coupling",
        "width": 510,
        "xaxis": {
         "linecolor": "black",
         "linewidth": 5,
         "mirror": true,
         "showgrid": true,
         "showline": true,
         "showticklabels": false
        },
        "yaxis": {
         "linecolor": "black",
         "linewidth": 5,
         "mirror": true,
         "showgrid": true,
         "showline": true,
         "showticklabels": true
        }
       }
      },
      "image/png": "[encoded data removed]",
      "image/svg+xml": [
       "<svg class=\"main-svg\" xmlns=\"http://www.w3.org/2000/svg\" xmlns:xlink=\"http://www.w3.org/1999/xlink\" width=\"700\" height=\"500\" style=\"\" viewBox=\"0 0 700 500\"><rect x=\"0\" y=\"0\" width=\"700\" height=\"500\" style=\"fill: rgb(255, 255, 255); fill-opacity: 1;\"/><defs id=\"defs-69a822\"><g class=\"clips\"><clipPath id=\"clip69a822xyplot\" class=\"plotclip\"><rect width=\"600\" height=\"390\"/></clipPath><clipPath class=\"axesclip\" id=\"clip69a822x\"><rect x=\"50\" y=\"0\" width=\"600\" height=\"500\"/></clipPath><clipPath class=\"axesclip\" id=\"clip69a822y\"><rect x=\"0\" y=\"60\" width=\"700\" height=\"390\"/></clipPath><clipPath class=\"axesclip\" id=\"clip69a822xy\"><rect x=\"50\" y=\"60\" width=\"600\" height=\"390\"/></clipPath></g><g class=\"gradients\"/><g class=\"patterns\"/></defs><g class=\"bglayer\"><rect class=\"bg\" x=\"50\" y=\"60\" width=\"600\" height=\"390\" style=\"fill: rgb(0, 0, 0); fill-opacity: 0; stroke-width: 0;\"/></g><g class=\"layer-below\"><g class=\"imagelayer\"/><g class=\"shapelayer\"/></g><g class=\"cartesianlayer\"><g class=\"subplot xy\"><g class=\"layer-subplot\"><g class=\"shapelayer\"/><g class=\"imagelayer\"/></g><g class=\"gridlayer\"><g class=\"x\"><path class=\"xgrid crisp\" transform=\"translate(169.04000000000002,0)\" d=\"M0,60v390\" style=\"stroke: rgb(255, 255, 255); stroke-opacity: 1; stroke-width: 1px;\"/><path class=\"xgrid crisp\" transform=\"translate(289.28,0)\" d=\"M0,60v390\" style=\"stroke: rgb(255, 255, 255); stroke-opacity: 1; stroke-width: 1px;\"/><path class=\"xgrid crisp\" transform=\"translate(409.52,0)\" d=\"M0,60v390\" style=\"stroke: rgb(255, 255, 255); stroke-opacity: 1; stroke-width: 1px;\"/><path class=\"xgrid crisp\" transform=\"translate(529.76,0)\" d=\"M0,60v390\" style=\"stroke: rgb(255, 255, 255); stroke-opacity: 1; stroke-width: 1px;\"/></g><g class=\"y\"><path class=\"ygrid crisp\" transform=\"translate(0,430.5)\" d=\"M50,0h600\" style=\"stroke: rgb(255, 255, 255); stroke-opacity: 1; stroke-width: 1px;\"/><path class=\"ygrid crisp\" transform=\"translate(0,372)\" d=\"M50,0h600\" style=\"stroke: rgb(255, 255, 255); stroke-opacity: 1; stroke-width: 1px;\"/><path class=\"ygrid crisp\" transform=\"translate(0,313.5)\" d=\"M50,0h600\" style=\"stroke: rgb(255, 255, 255); stroke-opacity: 1; stroke-width: 1px;\"/><path class=\"ygrid crisp\" transform=\"translate(0,255)\" d=\"M50,0h600\" style=\"stroke: rgb(255, 255, 255); stroke-opacity: 1; stroke-width: 1px;\"/><path class=\"ygrid crisp\" transform=\"translate(0,138)\" d=\"M50,0h600\" style=\"stroke: rgb(255, 255, 255); stroke-opacity: 1; stroke-width: 1px;\"/><path class=\"ygrid crisp\" transform=\"translate(0,79.5)\" d=\"M50,0h600\" style=\"stroke: rgb(255, 255, 255); stroke-opacity: 1; stroke-width: 1px;\"/></g></g><g class=\"zerolinelayer\"><path class=\"yzl zl crisp\" transform=\"translate(0,196.5)\" d=\"M50,0h600\" style=\"stroke: rgb(255, 255, 255); stroke-opacity: 1; stroke-width: 2px;\"/></g><path class=\"xlines-below\"/><path class=\"ylines-below\"/><g class=\"overlines-below\"/><g class=\"xaxislayer-below\"/><g class=\"yaxislayer-below\"/><g class=\"overaxes-below\"/><g class=\"plot\" transform=\"translate(50,60)\" clip-path=\"url(#clip69a822xyplot)\"><g class=\"scatterlayer mlayer\"><g class=\"trace scatter trace22bab0\" style=\"stroke-miterlimit: 2; opacity: 1;\"><g class=\"fills\"/><g class=\"errorbars\"/><g class=\"lines\"><path class=\"js-line\" d=\"M0,370.5L16.83,369.37L18.04,369.21L34.87,365.69L36.07,365.35L52.91,359.52L54.11,359.02L72.14,350.36L73.35,349.7L93.79,337.15L94.99,336.33L115.43,321.28L116.63,320.33L140.68,300.08L141.88,299.01L171.94,271.14L173.15,269.99L244.09,203.22L245.29,202.18L253.71,195L254.91,196.01L278.96,214.79L280.16,215.65L299.4,228.34L300.6,229.06L319.84,239.25L321.04,239.8L337.88,246.44L339.08,246.84L355.91,251.18L357.11,251.41L373.95,253.35L375.15,253.41L389.58,254.59L390.78,254.88L401.6,258.8L402.81,259.37L414.83,266.3L416.03,267.1L432.87,279.53L434.07,280.49L501.4,334.05L502.61,334.88L523.05,347.76L524.25,348.44L543.49,358.04L544.69,358.55L561.52,364.66L562.73,365.02L578.36,368.64L579.56,368.84L595.19,370.41L596.39,370.45L600,370.5\" style=\"vector-effect: non-scaling-stroke; fill: none; stroke: rgb(128, 0, 128); stroke-opacity: 1; stroke-width: 4px; opacity: 1;\"/></g><g class=\"points\"/><g class=\"text\"/></g><g class=\"trace scatter traceede51f\" style=\"stroke-miterlimit: 2; opacity: 1;\"><g class=\"fills\"/><g class=\"errorbars\"/><g class=\"lines\"><path class=\"js-line\" d=\"M0,19.5L16.83,20.63L18.04,20.79L34.87,24.31L36.07,24.65L52.91,30.48L54.11,30.98L72.14,39.64L73.35,40.3L93.79,52.85L94.99,53.67L115.43,68.72L116.63,69.67L140.68,89.92L141.88,90.99L171.94,118.86L173.15,120.01L244.09,186.78L245.29,187.82L253.71,195L254.91,193.99L278.96,175.21L280.16,174.35L299.4,161.66L300.6,160.94L319.84,150.75L321.04,150.2L337.88,143.56L339.08,143.16L355.91,138.82L357.11,138.59L373.95,136.65L375.15,136.59L389.58,135.41L390.78,135.12L401.6,131.2L402.81,130.63L414.83,123.7L416.03,122.9L432.87,110.47L434.07,109.51L501.4,55.95L502.61,55.12L523.05,42.24L524.25,41.56L543.49,31.96L544.69,31.45L561.52,25.34L562.73,24.98L578.36,21.36L579.56,21.16L595.19,19.59L596.39,19.55L600,19.5\" style=\"vector-effect: non-scaling-stroke; fill: none; stroke: rgb(128, 0, 128); stroke-opacity: 1; stroke-width: 4px; opacity: 1;\"/></g><g class=\"points\"/><g class=\"text\"/></g><g class=\"trace scatter tracecabddb\" style=\"stroke-miterlimit: 2; opacity: 1;\"><g class=\"fills\"/><g class=\"errorbars\"/><g class=\"lines\"><path class=\"js-line\" d=\"M0,19.5L600,19.5\" style=\"vector-effect: non-scaling-stroke; fill: none; stroke: rgb(128, 0, 128); stroke-opacity: 1; stroke-width: 4px; opacity: 1;\"/></g><g class=\"points\"/><g class=\"text\"/></g></g></g><g class=\"overplot\"/><path class=\"xlines-above crisp\" d=\"M45,452.5H655M45,57.5H655\" style=\"fill: none; stroke-width: 5px; stroke: rgb(0, 0, 0); stroke-opacity: 1;\"/><path class=\"ylines-above crisp\" d=\"M47.5,60V450M652.5,60V450\" style=\"fill: none; stroke-width: 5px; stroke: rgb(0, 0, 0); stroke-opacity: 1;\"/><g class=\"overlines-above\"/><g class=\"xaxislayer-above\"/><g class=\"yaxislayer-above\"><g class=\"ytick\"><text text-anchor=\"end\" x=\"42.6\" y=\"4.199999999999999\" transform=\"translate(0,430.5)\" style=\"font-family: 'Open Sans', verdana, arial, sans-serif; font-size: 12px; fill: rgb(42, 63, 95); fill-opacity: 1; white-space: pre; opacity: 1;\">−4</text></g><g class=\"ytick\"><text text-anchor=\"end\" x=\"42.6\" y=\"4.199999999999999\" style=\"font-family: 'Open Sans', verdana, arial, sans-serif; font-size: 12px; fill: rgb(42, 63, 95); fill-opacity: 1; white-space: pre; opacity: 1;\" transform=\"translate(0,372)\">−3</text></g><g class=\"ytick\"><text text-anchor=\"end\" x=\"42.6\" y=\"4.199999999999999\" style=\"font-family: 'Open Sans', verdana, arial, sans-serif; font-size: 12px; fill: rgb(42, 63, 95); fill-opacity: 1; white-space: pre; opacity: 1;\" transform=\"translate(0,313.5)\">−2</text></g><g class=\"ytick\"><text text-anchor=\"end\" x=\"42.6\" y=\"4.199999999999999\" style=\"font-family: 'Open Sans', verdana, arial, sans-serif; font-size: 12px; fill: rgb(42, 63, 95); fill-opacity: 1; white-space: pre; opacity: 1;\" transform=\"translate(0,255)\">−1</text></g><g class=\"ytick\"><text text-anchor=\"end\" x=\"42.6\" y=\"4.199999999999999\" style=\"font-family: 'Open Sans', verdana, arial, sans-serif; font-size: 12px; fill: rgb(42, 63, 95); fill-opacity: 1; white-space: pre; opacity: 1;\" transform=\"translate(0,196.5)\">0</text></g><g class=\"ytick\"><text text-anchor=\"end\" x=\"42.6\" y=\"4.199999999999999\" style=\"font-family: 'Open Sans', verdana, arial, sans-serif; font-size: 12px; fill: rgb(42, 63, 95); fill-opacity: 1; white-space: pre; opacity: 1;\" transform=\"translate(0,138)\">1</text></g><g class=\"ytick\"><text text-anchor=\"end\" x=\"42.6\" y=\"4.199999999999999\" style=\"font-family: 'Open Sans', verdana, arial, sans-serif; font-size: 12px; fill: rgb(42, 63, 95); fill-opacity: 1; white-space: pre; opacity: 1;\" transform=\"translate(0,79.5)\">2</text></g></g><g class=\"overaxes-above\"/></g></g><g class=\"polarlayer\"/><g class=\"ternarylayer\"/><g class=\"geolayer\"/><g class=\"funnelarealayer\"/><g class=\"pielayer\"/><g class=\"iciclelayer\"/><g class=\"treemaplayer\"/><g class=\"sunburstlayer\"/><g class=\"glimages\"/><defs id=\"topdefs-69a822\"><g class=\"clips\"/></defs><g class=\"layer-above\"><g class=\"imagelayer\"/><g class=\"shapelayer\"/></g><g class=\"infolayer\"><g class=\"g-gtitle\"><text class=\"gtitle\" x=\"35\" y=\"30\" text-anchor=\"start\" dy=\"0em\" style=\"font-family: 'Open Sans', verdana, arial, sans-serif; font-size: 17px; fill: rgb(42, 63, 95); opacity: 1; font-weight: normal; white-space: pre;\">Nearest neighbor model with nearest spin-orbit coupling</text></g><g class=\"g-xtitle\"/><g class=\"g-ytitle\"/></g></svg>"
      ],
      "text/html": [
       "<div\n",
       "    class=\"webio-mountpoint\"\n",
       "    data-webio-mountpoint=\"1714983690613722198\"\n",
       ">\n",
       "    <script>\n",
       "    (function(){\n",
       "    // Some integrations (namely, IJulia/Jupyter) use an alternate render pathway than\n",
       "    // just putting the html on the page. If WebIO isn't defined, then it's pretty likely\n",
       "    // that we're in one of those situations and the integration just isn't installed\n",
       "    // correctly.\n",
       "    if (typeof window.WebIO === \"undefined\") {\n",
       "        document\n",
       "            .querySelector('[data-webio-mountpoint=\"1714983690613722198\"]')\n",
       "            .innerHTML = (\n",
       "                '<div style=\"padding: 1em; background-color: #f8d6da; border: 1px solid #f5c6cb; font-weight: bold;\">' +\n",
       "                '<p><strong>WebIO not detected.</strong></p>' +\n",
       "                '<p>Please read ' +\n",
       "                '<a href=\"https://juliagizmos.github.io/WebIO.jl/latest/troubleshooting/not-detected/\" target=\"_blank\">the troubleshooting guide</a> ' +\n",
       "                'for more information on how to resolve this issue.</p>' +\n",
       "                '<p><a href=\"https://juliagizmos.github.io/WebIO.jl/latest/troubleshooting/not-detected/\" target=\"_blank\">https://juliagizmos.github.io/WebIO.jl/latest/troubleshooting/not-detected/</a></p>' +\n",
       "                '</div>'\n",
       "            );\n",
       "        return;\n",
       "    }\n",
       "    WebIO.mount(\n",
       "        document.querySelector('[data-webio-mountpoint=\"1714983690613722198\"]'),\n",
       "        {\"props\":{},\"nodeType\":\"Scope\",\"type\":\"node\",\"instanceArgs\":{\"imports\":{\"data\":[{\"name\":\"Plotly\",\"type\":\"js\",\"url\":\"\\/assetserver\\/b267c3137400db01c304fe886fe6f707be7fdb37-plotly.min.js\"},{\"name\":null,\"type\":\"js\",\"url\":\"\\/assetserver\\/020f2e8a4619f2ae880fff9315e6547eef1aff0b-plotly_webio.bundle.js\"}],\"type\":\"async_block\"},\"id\":\"7519658255952810282\",\"handlers\":{\"_toImage\":[\"(function (options){return this.Plotly.toImage(this.plotElem,options).then((function (data){return WebIO.setval({\\\"name\\\":\\\"image\\\",\\\"scope\\\":\\\"7519658255952810282\\\",\\\"id\\\":\\\"229713\\\",\\\"type\\\":\\\"observable\\\"},data)}))})\"],\"__get_gd_contents\":[\"(function (prop){prop==\\\"data\\\" ? (WebIO.setval({\\\"name\\\":\\\"__gd_contents\\\",\\\"scope\\\":\\\"7519658255952810282\\\",\\\"id\\\":\\\"229714\\\",\\\"type\\\":\\\"observable\\\"},this.plotElem.data)) : undefined; return prop==\\\"layout\\\" ? (WebIO.setval({\\\"name\\\":\\\"__gd_contents\\\",\\\"scope\\\":\\\"7519658255952810282\\\",\\\"id\\\":\\\"229714\\\",\\\"type\\\":\\\"observable\\\"},this.plotElem.layout)) : undefined})\"],\"_downloadImage\":[\"(function (options){return this.Plotly.downloadImage(this.plotElem,options)})\"],\"_commands\":[\"(function (args){var fn=args.shift(); var elem=this.plotElem; var Plotly=this.Plotly; args.unshift(elem); return Plotly[fn].apply(this,args)})\"]},\"systemjs_options\":null,\"mount_callbacks\":[\"function () {\\n    var handler = ((function (Plotly,PlotlyWebIO){PlotlyWebIO.init(WebIO); var gd=this.dom.querySelector(\\\"#plot-54f31bfc-46e9-4a29-bfe0-55bcf35a8c06\\\"); this.plotElem=gd; this.Plotly=Plotly; (window.Blink!==undefined) ? (gd.style.width=\\\"100%\\\", gd.style.height=\\\"100vh\\\", gd.style.marginLeft=\\\"0%\\\", gd.style.marginTop=\\\"0vh\\\") : undefined; window.onresize=(function (){return Plotly.Plots.resize(gd)}); Plotly.newPlot(gd,[{\\\"mode\\\":\\\"lines\\\",\\\"line\\\":{\\\"color\\\":\\\"purple\\\",\\\"width\\\":4},\\\"y\\\":[-3.9999999999999996,-3.9999014744666948,-3.9996059075740593,-3.9991133284429807,-3.9984237856050786,-3.9975373469979294,-3.996454099958371,-3.9951741512138943,-3.993697626872134,-3.9920246724084345,-3.9901554526515293,-3.988090151767291,-3.9858289732405914,-3.98337213985525,-3.9807198936720853,-3.9778724960050695,-3.9748302273955765,-3.97159338758474,-3.9681622954839297,-3.964537289143327,-3.960718725718613,-3.9567069814357856,-3.952502451554092,-3.9481055503270763,-3.943516710961781,-3.9387363855760515,-3.9337650451539927,-3.928603179499575,-3.9232512971883606,-3.9177099255174133,-3.9119796104533275,-3.9060609165784554,-3.8999544270352624,-3.893660743468891,-3.8871804859678702,-3.880514293003025,-3.873662821364575,-3.8666267460974155,-3.859406760434614,-3.85200357572911,-3.844417921383623,-3.836650544778795,-3.828702211199547,-3.8205737037596834,-3.8122658233247364,-3.803779388433055,-3.7951152352151625,-3.7862742173113775,-3.777257205787701,-3.768065089050004,-3.75869877275649,-3.749159179728467,-3.7394472498594244,-3.7295639400224356,-3.7195102239758677,-3.7092870922674606,-3.698895552136715,-3.688336627415665,-3.6776113584280012,-3.6667208018865685,-3.6556660307892583,-3.64444813431329,-3.633068217707895,-3.6215274021854276,-3.60982682481089,-3.5979676383899086,-3.5859510113551494,-3.5737781276512024,-3.5614501866179236,-3.548968402872278,-3.5363340061886674,-3.5235482413777612,-3.5106123681638572,-3.497527661060763,-3.484295409246222,-3.470916916434904,-3.4573935007499452,-3.44372649459309,-3.4299172445134083,-3.415967111074627,-3.4018774687210867,-3.3876497056423096,-3.3732852236362447,-3.3587854379711404,-3.344151777246113,-3.329385683250389,-3.314488610821254,-3.299462027700714,-3.2843074143908852,-3.269026264008125,-3.253620082135927,-3.2380903866765722,-3.22243870770159,-3.206666587300999,-3.1907755794313735,-3.174767249762736,-3.1586431755243067,-3.1424049453490994,-3.126054159117399,-3.109592427799143,-3.0930213732951843,-3.0763426282775095,-3.0595578360283637,-3.0426686502783555,-3.0256767350435183,-3.0085837644613616,-2.991391422625929,-2.9741014034218676,-2.95671541035754,-2.939235156397187,-2.921662363792149,-2.903998763911192,-2.886246097069913,-2.8684061123592812,-2.850480567473303,-2.8324712285358493,-2.814379869926642,-2.7962082741064376,-2.7779582314414046,-2.7596315400267297,-2.741230005509458,-2.722755440910592,-2.7042096664464603,-2.6855945093493836,-2.6669118036876425,-2.6481633901847745,-2.62935111603822,-2.6104768347373226,-2.5915424058807117,-2.5725496949930875,-2.5535005733414216,-2.5343969177505823,-2.515240610418424,-2.4960335387303454,-2.4767775950733255,-2.457474676649482,-2.4381266852891477,-2.4187355272634914,-2.399303113096697,-2.379831357377734,-2.36032217857172,-2.3407774988309002,-2.321199243805271,-2.3015893424528455,-2.281949726849618,-2.2622823319991863,-2.242589095642119,-2.2228719580650287,-2.2031328619094115,-2.183373751980242,-2.163596575054365,-2.1438032796886843,-2.123995816028181,-2.104176135613776,-2.0843461911900514,-2.0645079365128582,-2.044663326156817,-2.0248143153227476,-2.004962859645027,-1.9851109149989132,-1.96526043730784,-1.9454133823507074,-1.9255717055691908,-1.905737361875075,-1.8859123054576514,-1.8660984895911765,-1.846297866442425,-1.8265123868783526,-1.8067440002738844,-1.7869946543198532,-1.767266294831103,-1.7475608655547719,-1.7278803079787897,-1.7082265611405865,-1.6886015614360521,-1.669007242428746,-1.6494455346594006,-1.6299183654557061,-1.6104276587424202,-1.5909753348518192,-1.5715633103344864,-1.5521934977704905,-1.5328678055809433,-1.513588137839976,-1.4943563940871347,-1.475174469140227,-1.4560442529086406,-1.4369676302071306,-1.4179464805701225,-1.3989826780665275,-1.380078091115103,-1.361234582300359,-1.3424540081890501,-1.3237382191472578,-1.3050890591580777,-1.2865083656399434,-1.267997969265593,-1.2495596937817026,-1.231195355829195,-1.2129067647642624,-1.194695722480092,-1.1765640232293375,-1.1585134534473371,-1.140545791576105,-1.1226628078891094,-1.1048662643168556,-1.0871579142732886,-1.0695395024830419,-1.0520127648095317,-1.0345794280839358,-1.0172412099350518,-1.0000001813799306,-1.0172241653625076,-1.0343472421611222,-1.051367436542619,-1.0682830555755944,-1.0850924167304852,-1.1017938480468008,-1.1183856882994119,-1.1348662871637774,-1.151234005380099,-1.1674872149163682,-1.1836242991303032,-1.199643652930144,-1.215543682934311,-1.2313228076298877,-1.2469794575299304,-1.262512075329576,-1.277919116060943,-1.2931990472468042,-1.308350349053013,-1.3233715144396772,-1.3382610493110583,-1.3530174726641842,-1.3676393167361556,-1.3821251271501414,-1.3964734630600395,-1.4106828972937895,-1.424752016495332,-1.4386794212651859,-1.452463726299643,-1.4661035605285586,-1.4795975672517245,-1.4929444042738171,-1.5061427440378998,-1.5191912737574684,-1.5320886955470292,-1.5448337265511956,-1.5574250990722884,-1.5698615606964261,-1.582141874418103,-1.5942648187632231,-1.6062291879105988,-1.618033791811889,-1.6296774563099676,-1.6411590232557118,-1.6524773506232013,-1.6636313126233073,-1.6746197998156724,-1.6854417192190632,-1.6960959944200809,-1.7065815656802337,-1.7168973900413402,-1.7270424414292689,-1.7370157107560003,-1.7468162060199939,-1.75644295240486,-1.7658949923763212,-1.775171385777454,-1.7842712099222018,-1.7931935596871527,-1.8019375476015655,-1.810502303935648,-1.8188869767870595,-1.8270907321656493,-1.835112754076412,-1.8429522446006472,-1.8506084239753287,-1.858080530670663,-1.8653678214658358,-1.8724695715229376,-1.879385074459059,-1.8861136424165548,-1.8926546061314593,-1.8990073150000566,-1.9051711371435949,-1.9111454594711341,-1.9169296877405304,-1.9225232466175415,-1.9279255797330532,-1.9331361497384185,-1.9381544383589084,-1.9429799464452586,-1.9476121940233193,-1.9520507203418,-1.9562950839180935,-1.960344862582189,-1.964199653518667,-1.9678590733067647,-1.9713227579585098,-1.974590362954929,-1.9776615632803158,-1.9805360534545544,-1.9832135475635098,-1.9856937792874638,-1.987976501927604,-1.9900614884305643,-1.9919485314110084,-1.993637443172255,-1.995128055724951,-1.9964202208037782,-1.9975138098822018,-1.9984087141852545,-1.9991048447003537,-1.9996021321861592,-1.9999005271794572,-2.000000000000081,-2.0002946763315284,-2.001178067733399,-2.0026483582879164,-2.0047025392811113,-2.007336435501518,-2.0105447412872643,-2.014321065585352,-2.0186579851239315,-2.0235471046672266,-2.0289791232264207,-2.034943905039974,-2.0414305541130697,-2.048427491116171,-2.0559225314839424,-2.0639029636236494,-2.072355626231705,-2.0812669838228945,-2.090623199693807,-2.100410205664893,-2.1106137680698804,-2.1212195495828823,-2.1322131665892186,-2.143580241913175,-2.1553064528127,-2.1673775742364425,-2.1797795174117414,-2.1924983638934323,-2.2055203952527758,-2.218832118624255,-2.2324202883563515,-2.2462719240316464,-2.2603743251329638,-2.274715082636848,-2.289282087814564,-2.304063538515136,-2.3190479431955557,-2.33422412295129,-2.3495812117860004,-2.3651086553440748,-2.3807962083132703,-2.3966339306882927,-2.412612183069614,-2.428721621155734,-2.444953189571514,-2.461298115160389,-2.4777478998542577,-2.4942943132218742,-2.5109293847843666,-2.5276453961754575,-2.5444348732137767,-2.5612905779454143,-2.5782055007065203,-2.595172852248297,-2.612186055960007,-2.6292387402196398,-2.6463247308966835,-2.6634380440267025,-2.680572878673382,-2.6977236099901893,-2.714884782490576,-2.7320511035330965,-2.7492174370254423,-2.7663787973494216,-2.783530343507279,-2.8006673734882868,-2.8177853188534034,-2.8348797395347773,-2.8519463188461014,-2.8689808586991576,-2.8859792750213917,-2.9029375933689474,-2.9198519447293023,-2.936718561507445,-2.9535337736893705,-2.970294005176628,-2.9869957702856054,-3.0036356704052767,-3.020210390807187,-3.036716697601544,-3.053151434833378,-3.0695115217129327,-3.08579394997448,-3.1019957813580463,-3.118114145208609,-3.1341462361875347,-3.1500893120912465,-3.165940691772193,-3.1816977531574917,-3.1973579313607257,-3.2129187168825593,-3.228377653896061,-3.2437323386127472,-3.2589804177255433,-3.2741195869250737,-3.2891475894857427,-3.3040622149183667,-3.318861297686137,-3.33354271598095,-3.348104390557161,-3.3625442836201023,-3.3768603977666793,-3.3910507749756027,-3.405113495644866,-3.419046677674236,-3.432848475590559,-3.4465170797138986,-3.4600507153625397,-3.473447642094966,-3.486706152987134,-3.4998245739432905,-3.5128012630387784,-3.5256346098933298,-3.5383230350733594,-3.5508649895219326,-3.5632589540150823,-3.5755034386432367,-3.5875969823165827,-3.5995381522932424,-3.6113255437292002,-3.622957779248941,-3.63443350853588,-3.645751407941618,-3.6569101801131816,-3.6679085536373917,-3.6787452827015974,-3.6894191467699806,-3.6999289502747796,-3.7102735223216654,-3.720451716408694,-3.73046241015819,-3.7403045050609514,-3.7499769262322564,-3.7594786221791043,-3.768808564578211,-3.777965748064239,-3.7869491900278596,-3.7957579304231235,-3.804391031583828,-3.8128475780483755,-3.8211266763928324,-3.8292274550717678,-3.8371490642665766,-3.8448906757409036,-3.8524514827029104,-3.8598306996740726,-3.8670275623641936,-3.8740413275524075,-3.880871272973908,-3.887516697212134,-3.893976919596201,-3.9002512801033564,-3.906339139266251,-3.912239878084812,-3.9179528979425458,-3.923477620527076,-3.9288134877547685,-3.933959961699239,-3.9389165245236435,-3.9436826784165566,-3.94825794553133,-3.9526418679287856,-3.9568340075231325,-3.960833946030973,-3.9646412849232977,-3.968255645380377,-3.971676668249412,-3.97490401400492,-3.9779373627116863,-3.9807764139902746,-3.983420886984976,-3.985870520334142,-3.988125072142841,-3.9901843199577716,-3.99204806074437,-3.9937161108660906,-3.9951883060657867,-3.9964645014491413,-3.9975445714701605,-3.9984284099186542,-3.999115929909668,-3.999607063874907,-3.999901763556047,-3.9999999999999996],\\\"type\\\":\\\"scatter\\\",\\\"x\\\":[1,2,3,4,5,6,7,8,9,10,11,12,13,14,15,16,17,18,19,20,21,22,23,24,25,26,27,28,29,30,31,32,33,34,35,36,37,38,39,40,41,42,43,44,45,46,47,48,49,50,51,52,53,54,55,56,57,58,59,60,61,62,63,64,65,66,67,68,69,70,71,72,73,74,75,76,77,78,79,80,81,82,83,84,85,86,87,88,89,90,91,92,93,94,95,96,97,98,99,100,101,102,103,104,105,106,107,108,109,110,111,112,113,114,115,116,117,118,119,120,121,122,123,124,125,126,127,128,129,130,131,132,133,134,135,136,137,138,139,140,141,142,143,144,145,146,147,148,149,150,151,152,153,154,155,156,157,158,159,160,161,162,163,164,165,166,167,168,169,170,171,172,173,174,175,176,177,178,179,180,181,182,183,184,185,186,187,188,189,190,191,192,193,194,195,196,197,198,199,200,201,202,203,204,205,206,207,208,209,210,211,212,213,214,215,216,217,218,219,220,221,222,223,224,225,226,227,228,229,230,231,232,233,234,235,236,237,238,239,240,241,242,243,244,245,246,247,248,249,250,251,252,253,254,255,256,257,258,259,260,261,262,263,264,265,266,267,268,269,270,271,272,273,274,275,276,277,278,279,280,281,282,283,284,285,286,287,288,289,290,291,292,293,294,295,296,297,298,299,300,301,302,303,304,305,306,307,308,309,310,311,312,313,314,315,316,317,318,319,320,321,322,323,324,325,326,327,328,329,330,331,332,333,334,335,336,337,338,339,340,341,342,343,344,345,346,347,348,349,350,351,352,353,354,355,356,357,358,359,360,361,362,363,364,365,366,367,368,369,370,371,372,373,374,375,376,377,378,379,380,381,382,383,384,385,386,387,388,389,390,391,392,393,394,395,396,397,398,399,400,401,402,403,404,405,406,407,408,409,410,411,412,413,414,415,416,417,418,419,420,421,422,423,424,425,426,427,428,429,430,431,432,433,434,435,436,437,438,439,440,441,442,443,444,445,446,447,448,449,450,451,452,453,454,455,456,457,458,459,460,461,462,463,464,465,466,467,468,469,470,471,472,473,474,475,476,477,478,479,480,481,482,483,484,485,486,487,488,489,490,491,492,493,494,495,496,497,498,499,500]},{\\\"mode\\\":\\\"lines\\\",\\\"line\\\":{\\\"color\\\":\\\"purple\\\",\\\"width\\\":4},\\\"y\\\":[2.0,1.9999014744666956,1.9996059075740604,1.999113328442982,1.9984237856050775,1.99753734699793,1.9964540999583726,1.9951741512138947,1.9936976268721331,1.9920246724084336,1.9901554526515288,1.9880901517672922,1.985828973240592,1.9833721398552495,1.9807198936720845,1.9778724960050702,1.9748302273955745,1.9715933875847407,1.9681622954839295,1.9645372891433277,1.9607187257186136,1.9567069814357854,1.9525024515540907,1.948105550327076,1.9435167109617808,1.938736385576051,1.9337650451539927,1.9286031794995746,1.9232512971883606,1.9177099255174128,1.9119796104533278,1.9060609165784541,1.8999544270352624,1.89366074346889,1.8871804859678705,1.8805142930030256,1.8736628213645745,1.8666267460974157,1.8594067604346145,1.8520035757291091,1.844417921383624,1.8366505447787949,1.8287022111995468,1.820573703759684,1.8122658233247357,1.8037793884330562,1.7951152352151627,1.786274217311377,1.777257205787702,1.768065089050003,1.758698772756491,1.7491591797284662,1.7394472498594253,1.7295639400224347,1.7195102239758677,1.7092870922674601,1.6988955521367148,1.6883366274156655,1.6776113584280004,1.666720801886568,1.6556660307892581,1.6444481343132904,1.6330682177078941,1.6215274021854276,1.6098268248108891,1.5979676383899077,1.5859510113551498,1.5737781276512026,1.5614501866179236,1.5489684028722785,1.5363340061886677,1.5235482413777617,1.5106123681638572,1.4975276610607626,1.484295409246222,1.4709169164349025,1.4573935007499461,1.4437264945930899,1.429917244513408,1.4159671110746277,1.4018774687210862,1.3876497056423092,1.373285223636245,1.3587854379711397,1.3441517772461136,1.3293856832503885,1.3144886108212535,1.299462027700714,1.2843074143908852,1.2690262640081251,1.2536200821359262,1.2380903866765718,1.2224387077015901,1.2066665873009996,1.1907755794313737,1.1747672497627362,1.158643175524307,1.1424049453490985,1.1260541591173994,1.1095924277991425,1.0930213732951848,1.0763426282775093,1.059557836028364,1.042668650278356,1.0256767350435183,1.008583764461362,0.9913914226259288,0.9741014034218672,0.9567154103575404,0.9392351563971866,0.9216623637921493,0.9039987639111917,0.8862460970699129,0.868406112359281,0.8504805674733029,0.8324712285358489,0.8143798699266418,0.7962082741064372,0.777958231441404,0.7596315400267295,0.7412300055094577,0.7227554409105921,0.7042096664464605,0.6855945093493836,0.6669118036876425,0.6481633901847745,0.6293511160382204,0.6104768347373222,0.5915424058807117,0.5725496949930875,0.5535005733414211,0.5343969177505818,0.5152406104184242,0.49603353873034517,0.47677759507332496,0.45747467664948216,0.4381266852891481,0.41873552726349117,0.39930311309669686,0.3798313573777339,0.3603221785717201,0.34077749883090025,0.32119924380527,0.3015893424528453,0.28194972684961783,0.2622823319991867,0.2425890956421184,0.22287195806502824,0.20313286190941104,0.18337375198024186,0.16359657505436487,0.14380327968868434,0.12399581602818088,0.10417613561377537,0.08434619119005138,0.06450793651285802,0.04466332615681745,0.024814315322747138,0.0049628596450270734,-0.014889085001086544,-0.03473956269215983,-0.054586617649292624,-0.07442829443080945,-0.09426263812492497,-0.11408769454234857,-0.1339015104088237,-0.153702133557575,-0.17348761312164784,-0.19325599972611587,-0.21300534568014706,-0.2327337051688972,-0.25243913444522814,-0.2721196920212103,-0.2917734388594132,-0.3113984385639479,-0.3309927575712541,-0.3505544653405994,-0.3700816345442943,-0.3895723412575798,-0.40902466514818103,-0.4284366896655136,-0.4478065022295099,-0.4671321944190572,-0.48641186216002374,-0.505643605912866,-0.5248255308597728,-0.5439557470913594,-0.5630323697928697,-0.5820535194298775,-0.6010173219334722,-0.6199219088848974,-0.6387654176996409,-0.6575459918109497,-0.6762617808527424,-0.6949109408419223,-0.713491634360057,-0.7320020307344068,-0.7504403062182974,-0.7688046441708044,-0.787093235235738,-0.8053042775199077,-0.8234359767706627,-0.8414865465526628,-0.8594542084238951,-0.8773371921108905,-0.8951337356831442,-0.9128420857267111,-0.9304604975169585,-0.9479872351904686,-0.9654205719160641,-0.982758790064948,-0.9999998186200697,-0.9827758346374926,-0.9656527578388776,-0.9486325634573811,-0.9317169444244059,-0.9149075832695146,-0.8982061519531992,-0.8816143117005887,-0.8651337128362225,-0.8487659946199012,-0.8325127850836315,-0.8163757008696975,-0.800356347069856,-0.784456317065689,-0.7686771923701119,-0.7530205424700694,-0.7374879246704239,-0.7220808839390569,-0.706800952753196,-0.6916496509469868,-0.6766284855603236,-0.6617389506889415,-0.6469825273358158,-0.6323606832638442,-0.6178748728498586,-0.6035265369399604,-0.5893171027062104,-0.575247983504668,-0.5613205787348141,-0.5475362737003576,-0.5338964394714414,-0.5204024327482758,-0.507055595726183,-0.49385725596210023,-0.4808087262425317,-0.467911304452971,-0.4551662734488045,-0.44257490092771123,-0.43013843930357387,-0.41785812558189706,-0.405735181236777,-0.3937708120894014,-0.3819662081881112,-0.37032254369003254,-0.35884097674428844,-0.34752264937679866,-0.3363686873766926,-0.3253802001843277,-0.3145582807809374,-0.3039040055799194,-0.29341843431976655,-0.28310260995865977,-0.27295755857073123,-0.2629842892439995,-0.2531837939800061,-0.2435570475951399,-0.23410500762367853,-0.22482861422254646,-0.21572879007779822,-0.206806440312848,-0.1980624523984338,-0.1894976960643523,-0.18111302321294087,-0.1729092678343504,-0.16488724592358822,-0.157047755399353,-0.14939157602467112,-0.14191946932933686,-0.13463217853416448,-0.12753042847706314,-0.12061492554094089,-0.1138863575834459,-0.10734539386854075,-0.10099268499994307,-0.09482886285640502,-0.08885454052886588,-0.08307031225946937,-0.07747675338245885,-0.07207442026694688,-0.0668638502615812,-0.06184556164109167,-0.057020053554741545,-0.052387805976680746,-0.04794927965819973,-0.043704916081906964,-0.03965513741781118,-0.03580034648133257,-0.03214092669323593,-0.028677242041490414,-0.02540963704507032,-0.02233843671968505,-0.01946394654544703,-0.01678645243649049,-0.0143062207125364,-0.012023498072396305,-0.009938511569435815,-0.008051468588991265,-0.006362556827743934,-0.004871944275047779,-0.003579779196222245,-0.00248619011779877,-0.0015912858147460324,-0.0008951552996468953,-0.00039786781384073015,-9.947282054319098e-5,8.140571359215114e-14,0.00029467633152808115,0.0011780677333988639,0.0026483582879167564,0.004702539281111473,0.007336435501517191,0.010544741287264903,0.014321065585351928,0.018657985123930992,0.023547104667226926,0.028979123226420267,0.034943905039973466,0.04143055411306917,0.04842749111617134,0.055922531483942495,0.06390296362364933,0.07235562623170488,0.08126698382289477,0.09062319969380717,0.10041020566489195,0.11061376806988071,0.12121954958288256,0.13221316658921906,0.1435802419131742,0.15530645281270045,0.1673775742364429,0.17977951741174097,0.19249836389343267,0.20552039525277505,0.2188321186242541,0.23242028835635092,0.24627192403164666,0.2603743251329637,0.2747150826368471,0.2892820878145641,0.30406353851513496,0.31904794319555596,0.33422412295129006,0.3495812117860005,0.36510865534407416,0.38079620831327077,0.39663393068829295,0.41261218306961356,0.4287216211557339,0.4449531895715145,0.46129811516038827,0.4777478998542571,0.4942943132218752,0.5109293847843673,0.5276453961754569,0.5444348732137776,0.5612905779454145,0.5782055007065201,0.5951728522482982,0.6121860559600066,0.6292387402196397,0.6463247308966846,0.6634380440267014,0.6805728786733819,0.6977236099901899,0.7148847824905761,0.7320511035330971,0.749217437025442,0.7663787973494227,0.783530343507279,0.8006673734882869,0.8177853188534036,0.8348797395347775,0.8519463188461002,0.8689808586991573,0.8859792750213912,0.9029375933689471,0.9198519447293031,0.9367185615074455,0.9535337736893701,0.970294005176628,0.9869957702856054,1.0036356704052767,1.0202103908071873,1.0367166976015434,1.053151434833379,1.0695115217129343,1.0857939499744815,1.101995781358048,1.1181141452086072,1.1341462361875347,1.1500893120912468,1.165940691772193,1.1816977531574921,1.1973579313607263,1.2129187168825601,1.2283776538960614,1.2437323386127457,1.258980417725544,1.2741195869250743,1.2891475894857425,1.3040622149183665,1.3188612976861376,1.3335427159809494,1.3481043905571608,1.3625442836201023,1.3768603977666773,1.3910507749756007,1.4051134956448668,1.4190466776742376,1.4328484755905575,1.4465170797138993,1.4600507153625395,1.4734476420949658,1.486706152987134,1.4998245739432885,1.5128012630387793,1.52563460989333,1.5383230350733599,1.5508649895219324,1.563258954015083,1.5755034386432376,1.5875969823165825,1.5995381522932437,1.6113255437292007,1.622957779248941,1.634433508535879,1.6457514079416182,1.656910180113182,1.6679085536373939,1.6787452827015965,1.6894191467699808,1.6999289502747799,1.7102735223216639,1.720451716408693,1.7304624101581907,1.7403045050609518,1.749976926232256,1.7594786221791041,1.7688085645782106,1.7779657480642381,1.786949190027858,1.7957579304231235,1.8043910315838279,1.8128475780483757,1.8211266763928315,1.8292274550717689,1.837149064266578,1.8448906757409038,1.8524514827029135,1.859830699674074,1.8670275623641925,1.874041327552407,1.880871272973909,1.8875166972121344,1.8939769195962008,1.900251280103356,1.906339139266252,1.9122398780848124,1.917952897942544,1.9234776205270756,1.9288134877547667,1.93395996169924,1.9389165245236442,1.9436826784165584,1.9482579455313298,1.952641867928786,1.9568340075231327,1.9608339460309743,1.9646412849233008,1.9682556453803774,1.971676668249413,1.97490401400492,1.9779373627116856,1.9807764139902748,1.983420886984976,1.9858705203341438,1.988125072142843,1.9901843199577711,1.9920480607443698,1.9937161108660932,1.9951883060657871,1.9964645014491413,1.997544571470162,1.9984284099186544,1.9991159299096677,1.9996070638749057,1.9999017635560472,2.0],\\\"type\\\":\\\"scatter\\\",\\\"x\\\":[1,2,3,4,5,6,7,8,9,10,11,12,13,14,15,16,17,18,19,20,21,22,23,24,25,26,27,28,29,30,31,32,33,34,35,36,37,38,39,40,41,42,43,44,45,46,47,48,49,50,51,52,53,54,55,56,57,58,59,60,61,62,63,64,65,66,67,68,69,70,71,72,73,74,75,76,77,78,79,80,81,82,83,84,85,86,87,88,89,90,91,92,93,94,95,96,97,98,99,100,101,102,103,104,105,106,107,108,109,110,111,112,113,114,115,116,117,118,119,120,121,122,123,124,125,126,127,128,129,130,131,132,133,134,135,136,137,138,139,140,141,142,143,144,145,146,147,148,149,150,151,152,153,154,155,156,157,158,159,160,161,162,163,164,165,166,167,168,169,170,171,172,173,174,175,176,177,178,179,180,181,182,183,184,185,186,187,188,189,190,191,192,193,194,195,196,197,198,199,200,201,202,203,204,205,206,207,208,209,210,211,212,213,214,215,216,217,218,219,220,221,222,223,224,225,226,227,228,229,230,231,232,233,234,235,236,237,238,239,240,241,242,243,244,245,246,247,248,249,250,251,252,253,254,255,256,257,258,259,260,261,262,263,264,265,266,267,268,269,270,271,272,273,274,275,276,277,278,279,280,281,282,283,284,285,286,287,288,289,290,291,292,293,294,295,296,297,298,299,300,301,302,303,304,305,306,307,308,309,310,311,312,313,314,315,316,317,318,319,320,321,322,323,324,325,326,327,328,329,330,331,332,333,334,335,336,337,338,339,340,341,342,343,344,345,346,347,348,349,350,351,352,353,354,355,356,357,358,359,360,361,362,363,364,365,366,367,368,369,370,371,372,373,374,375,376,377,378,379,380,381,382,383,384,385,386,387,388,389,390,391,392,393,394,395,396,397,398,399,400,401,402,403,404,405,406,407,408,409,410,411,412,413,414,415,416,417,418,419,420,421,422,423,424,425,426,427,428,429,430,431,432,433,434,435,436,437,438,439,440,441,442,443,444,445,446,447,448,449,450,451,452,453,454,455,456,457,458,459,460,461,462,463,464,465,466,467,468,469,470,471,472,473,474,475,476,477,478,479,480,481,482,483,484,485,486,487,488,489,490,491,492,493,494,495,496,497,498,499,500]},{\\\"mode\\\":\\\"lines\\\",\\\"line\\\":{\\\"color\\\":\\\"purple\\\",\\\"width\\\":4},\\\"y\\\":[2.000000000000001,2.0,2.0,2.0000000000000004,1.9999999999999998,2.000000000000001,2.0000000000000004,2.000000000000001,2.0,2.000000000000001,2.0,2.0,2.0000000000000004,2.0000000000000004,2.000000000000001,2.000000000000001,2.0,2.0,2.0000000000000004,2.000000000000001,2.0,2.000000000000001,2.0,2.000000000000001,2.000000000000001,2.0,2.000000000000001,2.0,2.000000000000001,2.0,2.000000000000001,1.9999999999999996,1.9999999999999998,2.0,1.9999999999999998,2.000000000000001,2.0,2.0,2.0000000000000004,1.9999999999999998,2.0000000000000004,2.0000000000000004,2.0000000000000004,2.0,2.0,2.0,2.0000000000000004,2.0000000000000004,2.000000000000001,2.000000000000001,2.0,2.0000000000000004,2.000000000000001,1.9999999999999996,2.000000000000001,2.0,2.0000000000000004,2.0,2.0000000000000004,1.9999999999999998,2.0000000000000004,2.0000000000000004,2.000000000000001,2.0000000000000004,1.9999999999999998,2.0000000000000004,2.0000000000000004,2.0000000000000004,2.000000000000001,2.0,2.000000000000001,2.0,2.000000000000001,2.0000000000000004,2.0,2.0,2.0,2.000000000000001,2.0,2.0000000000000013,1.9999999999999998,2.000000000000001,1.9999999999999998,2.0,1.9999999999999996,2.000000000000001,2.0000000000000004,2.0000000000000004,2.000000000000001,2.000000000000001,1.9999999999999998,2.0,1.9999999999999996,2.0,2.0000000000000004,2.0,1.9999999999999993,2.0,1.9999999999999998,1.9999999999999998,2.0000000000000013,1.9999999999999998,1.9999999999999993,2.000000000000001,2.0000000000000004,1.9999999999999998,2.000000000000001,2.000000000000001,1.9999999999999998,2.000000000000001,2.0,2.0000000000000004,1.9999999999999998,2.0,2.000000000000001,2.0000000000000004,2.0000000000000004,2.0,2.0,2.0,1.9999999999999998,1.9999999999999998,1.9999999999999998,2.0,1.9999999999999993,2.0,2.0000000000000004,2.0000000000000004,1.9999999999999998,2.0,2.0,2.0000000000000004,1.9999999999999996,1.9999999999999996,2.0,2.0,1.9999999999999998,2.0,2.0,2.0,2.0,2.0,2.000000000000001,2.0,2.0,1.9999999999999998,2.0000000000000004,2.0000000000000004,2.0,2.0,1.9999999999999998,2.0000000000000004,2.0,2.0000000000000004,2.0,1.9999999999999998,1.9999999999999998,2.0,2.0,2.0,2.0,2.0,2.0,2.0,2.0,2.0,2.0,2.0000000000000004,2.0,2.0,2.0,2.0,2.0,2.0,2.0,2.0,2.0,2.0,2.0,2.0,2.0,2.0,2.0,2.0,2.0000000000000004,2.0,2.0,2.0,2.0,2.0,1.9999999999999996,2.0,2.0,2.0,2.0,2.0,2.0,2.0,2.0,2.0,2.0,2.0,2.0000000000000004,2.0,2.0,2.0,2.0,2.0,2.0,2.0,2.0,2.0,1.9999999999999998,2.0,1.9999999999999996,2.0,2.0000000000000004,1.9999999999999996,2.0,2.0000000000000004,2.0000000000000004,2.0,2.0,2.0,2.0000000000000004,2.0,1.9999999999999998,1.9999999999999998,2.0,2.0,2.0,2.0,2.0,2.0,2.0,1.9999999999999996,2.0000000000000004,2.0000000000000004,1.9999999999999993,1.9999999999999996,1.9999999999999998,2.0,2.0,2.0,2.0,1.9999999999999998,2.0,2.0000000000000004,2.0,2.0,2.0,2.0000000000000004,2.0,2.0,2.0000000000000004,2.0,2.0,1.9999999999999996,2.0,2.0,2.0,2.0,2.0,2.0,2.0,2.0,2.0,1.9999999999999998,2.0,2.0,2.0,1.9999999999999996,2.0,2.0000000000000004,2.0,2.0,2.0,2.0,2.0,2.0,2.0000000000000004,1.9999999999999998,2.0000000000000004,1.9999999999999998,1.9999999999999998,1.9999999999999996,2.0000000000000004,1.9999999999999998,2.0,2.0,1.9999999999999996,2.0,2.0,2.0,2.0,2.0000000000000004,2.000000000000001,2.0,2.0000000000000004,2.0000000000000004,1.9999999999999991,2.000000000000001,2.0000000000000013,1.9999999999999998,2.0,1.9999999999999998,2.0000000000000004,1.9999999999999998,1.9999999999999991,1.9999999999999991,2.0000000000000004,2.000000000000001,2.0000000000000004,2.0,2.0,2.0000000000000004,1.9999999999999993,2.0000000000000004,2.0,1.9999999999999998,2.0000000000000004,2.0000000000000004,1.9999999999999996,2.0,2.0000000000000004,2.0,1.9999999999999998,2.0000000000000004,2.0000000000000004,1.9999999999999998,2.0,1.9999999999999998,1.9999999999999998,2.0,1.9999999999999998,2.0,1.9999999999999996,1.9999999999999998,2.0,2.0000000000000004,1.9999999999999998,1.9999999999999996,2.000000000000001,2.0,2.000000000000001,2.0000000000000004,2.0000000000000004,2.0,2.0,2.0,2.0,2.0000000000000004,1.9999999999999998,2.0,2.0,2.0,2.0,1.9999999999999998,2.0,2.0,2.0,2.0,2.0,2.0,1.9999999999999991,2.0,1.9999999999999996,2.0000000000000004,1.9999999999999998,1.9999999999999993,1.9999999999999998,2.0,1.9999999999999996,2.0000000000000004,2.0000000000000004,2.0,2.0,2.0000000000000004,2.0,2.0,1.9999999999999996,2.0,1.9999999999999996,2.0000000000000004,2.0,1.9999999999999998,1.9999999999999993,1.9999999999999998,1.9999999999999998,1.9999999999999993,2.0000000000000004,1.9999999999999998,2.0000000000000004,2.0,2.0000000000000004,1.9999999999999996,2.0,2.0000000000000004,2.0,2.0,1.9999999999999998,1.9999999999999998,2.0000000000000004,2.000000000000001,2.0,2.0,1.9999999999999996,2.0000000000000004,2.0000000000000004,1.9999999999999996,2.0000000000000004,1.9999999999999998,1.9999999999999998,2.0000000000000004,2.0,1.9999999999999993,1.9999999999999993,2.0000000000000004,1.9999999999999996,1.9999999999999998,2.0,2.0000000000000004,1.9999999999999996,1.9999999999999996,2.0,2.0,1.9999999999999996,2.0000000000000004,1.9999999999999996,1.9999999999999993,2.0000000000000004,2.0,2.0000000000000004,2.0,2.0000000000000004,2.0000000000000004,1.9999999999999993,1.9999999999999998,2.0,1.9999999999999998,1.9999999999999993,1.9999999999999996,2.0000000000000013,2.0000000000000004,1.9999999999999993,2.0,2.0,1.9999999999999991,2.0,2.0000000000000004,1.9999999999999998,1.9999999999999996,1.9999999999999984,2.0,1.9999999999999993,2.0000000000000004,1.999999999999999,2.000000000000001,2.0000000000000004,2.0,1.9999999999999998,2.0000000000000004,1.9999999999999996,1.9999999999999993,2.0000000000000004,1.9999999999999998,1.9999999999999998,1.9999999999999998,2.0,2.0000000000000004,1.9999999999999998,2.0000000000000004,2.0,2.0000000000000004,2.000000000000001,2.0000000000000004,2.0,1.9999999999999993,2.0000000000000004,2.0000000000000004,2.0,2.0,2.0,1.9999999999999991,2.0000000000000004,1.9999999999999998,2.0,2.0,1.9999999999999993,2.0000000000000004,2.0000000000000004,2.0000000000000004,1.9999999999999998,2.0,2.0,2.0000000000000004,1.9999999999999993,1.9999999999999998,1.9999999999999991,2.000000000000001],\\\"type\\\":\\\"scatter\\\",\\\"x\\\":[1,2,3,4,5,6,7,8,9,10,11,12,13,14,15,16,17,18,19,20,21,22,23,24,25,26,27,28,29,30,31,32,33,34,35,36,37,38,39,40,41,42,43,44,45,46,47,48,49,50,51,52,53,54,55,56,57,58,59,60,61,62,63,64,65,66,67,68,69,70,71,72,73,74,75,76,77,78,79,80,81,82,83,84,85,86,87,88,89,90,91,92,93,94,95,96,97,98,99,100,101,102,103,104,105,106,107,108,109,110,111,112,113,114,115,116,117,118,119,120,121,122,123,124,125,126,127,128,129,130,131,132,133,134,135,136,137,138,139,140,141,142,143,144,145,146,147,148,149,150,151,152,153,154,155,156,157,158,159,160,161,162,163,164,165,166,167,168,169,170,171,172,173,174,175,176,177,178,179,180,181,182,183,184,185,186,187,188,189,190,191,192,193,194,195,196,197,198,199,200,201,202,203,204,205,206,207,208,209,210,211,212,213,214,215,216,217,218,219,220,221,222,223,224,225,226,227,228,229,230,231,232,233,234,235,236,237,238,239,240,241,242,243,244,245,246,247,248,249,250,251,252,253,254,255,256,257,258,259,260,261,262,263,264,265,266,267,268,269,270,271,272,273,274,275,276,277,278,279,280,281,282,283,284,285,286,287,288,289,290,291,292,293,294,295,296,297,298,299,300,301,302,303,304,305,306,307,308,309,310,311,312,313,314,315,316,317,318,319,320,321,322,323,324,325,326,327,328,329,330,331,332,333,334,335,336,337,338,339,340,341,342,343,344,345,346,347,348,349,350,351,352,353,354,355,356,357,358,359,360,361,362,363,364,365,366,367,368,369,370,371,372,373,374,375,376,377,378,379,380,381,382,383,384,385,386,387,388,389,390,391,392,393,394,395,396,397,398,399,400,401,402,403,404,405,406,407,408,409,410,411,412,413,414,415,416,417,418,419,420,421,422,423,424,425,426,427,428,429,430,431,432,433,434,435,436,437,438,439,440,441,442,443,444,445,446,447,448,449,450,451,452,453,454,455,456,457,458,459,460,461,462,463,464,465,466,467,468,469,470,471,472,473,474,475,476,477,478,479,480,481,482,483,484,485,486,487,488,489,490,491,492,493,494,495,496,497,498,499,500]}],{\\\"showlegend\\\":false,\\\"xaxis\\\":{\\\"showgrid\\\":true,\\\"showline\\\":true,\\\"showticklabels\\\":false,\\\"linewidth\\\":5,\\\"mirror\\\":true,\\\"linecolor\\\":\\\"black\\\"},\\\"template\\\":{\\\"layout\\\":{\\\"coloraxis\\\":{\\\"colorbar\\\":{\\\"ticks\\\":\\\"\\\",\\\"outlinewidth\\\":0}},\\\"xaxis\\\":{\\\"gridcolor\\\":\\\"white\\\",\\\"zerolinewidth\\\":2,\\\"title\\\":{\\\"standoff\\\":15},\\\"ticks\\\":\\\"\\\",\\\"zerolinecolor\\\":\\\"white\\\",\\\"automargin\\\":true,\\\"linecolor\\\":\\\"white\\\"},\\\"hovermode\\\":\\\"closest\\\",\\\"paper_bgcolor\\\":\\\"white\\\",\\\"geo\\\":{\\\"showlakes\\\":true,\\\"showland\\\":true,\\\"landcolor\\\":\\\"#E5ECF6\\\",\\\"bgcolor\\\":\\\"white\\\",\\\"subunitcolor\\\":\\\"white\\\",\\\"lakecolor\\\":\\\"white\\\"},\\\"colorscale\\\":{\\\"sequential\\\":[[0.0,\\\"#0d0887\\\"],[0.1111111111111111,\\\"#46039f\\\"],[0.2222222222222222,\\\"#7201a8\\\"],[0.3333333333333333,\\\"#9c179e\\\"],[0.4444444444444444,\\\"#bd3786\\\"],[0.5555555555555556,\\\"#d8576b\\\"],[0.6666666666666666,\\\"#ed7953\\\"],[0.7777777777777778,\\\"#fb9f3a\\\"],[0.8888888888888888,\\\"#fdca26\\\"],[1.0,\\\"#f0f921\\\"]],\\\"diverging\\\":[[0,\\\"#8e0152\\\"],[0.1,\\\"#c51b7d\\\"],[0.2,\\\"#de77ae\\\"],[0.3,\\\"#f1b6da\\\"],[0.4,\\\"#fde0ef\\\"],[0.5,\\\"#f7f7f7\\\"],[0.6,\\\"#e6f5d0\\\"],[0.7,\\\"#b8e186\\\"],[0.8,\\\"#7fbc41\\\"],[0.9,\\\"#4d9221\\\"],[1,\\\"#276419\\\"]],\\\"sequentialminus\\\":[[0.0,\\\"#0d0887\\\"],[0.1111111111111111,\\\"#46039f\\\"],[0.2222222222222222,\\\"#7201a8\\\"],[0.3333333333333333,\\\"#9c179e\\\"],[0.4444444444444444,\\\"#bd3786\\\"],[0.5555555555555556,\\\"#d8576b\\\"],[0.6666666666666666,\\\"#ed7953\\\"],[0.7777777777777778,\\\"#fb9f3a\\\"],[0.8888888888888888,\\\"#fdca26\\\"],[1.0,\\\"#f0f921\\\"]]},\\\"yaxis\\\":{\\\"gridcolor\\\":\\\"white\\\",\\\"zerolinewidth\\\":2,\\\"title\\\":{\\\"standoff\\\":15},\\\"ticks\\\":\\\"\\\",\\\"zerolinecolor\\\":\\\"white\\\",\\\"automargin\\\":true,\\\"linecolor\\\":\\\"white\\\"},\\\"shapedefaults\\\":{\\\"line\\\":{\\\"color\\\":\\\"#2a3f5f\\\"}},\\\"hoverlabel\\\":{\\\"align\\\":\\\"left\\\"},\\\"mapbox\\\":{\\\"style\\\":\\\"light\\\"},\\\"polar\\\":{\\\"angularaxis\\\":{\\\"gridcolor\\\":\\\"white\\\",\\\"ticks\\\":\\\"\\\",\\\"linecolor\\\":\\\"white\\\"},\\\"bgcolor\\\":\\\"#E5ECF6\\\",\\\"radialaxis\\\":{\\\"gridcolor\\\":\\\"white\\\",\\\"ticks\\\":\\\"\\\",\\\"linecolor\\\":\\\"white\\\"}},\\\"autotypenumbers\\\":\\\"strict\\\",\\\"font\\\":{\\\"color\\\":\\\"#2a3f5f\\\"},\\\"ternary\\\":{\\\"baxis\\\":{\\\"gridcolor\\\":\\\"white\\\",\\\"ticks\\\":\\\"\\\",\\\"linecolor\\\":\\\"white\\\"},\\\"bgcolor\\\":\\\"#E5ECF6\\\",\\\"caxis\\\":{\\\"gridcolor\\\":\\\"white\\\",\\\"ticks\\\":\\\"\\\",\\\"linecolor\\\":\\\"white\\\"},\\\"aaxis\\\":{\\\"gridcolor\\\":\\\"white\\\",\\\"ticks\\\":\\\"\\\",\\\"linecolor\\\":\\\"white\\\"}},\\\"annotationdefaults\\\":{\\\"arrowhead\\\":0,\\\"arrowwidth\\\":1,\\\"arrowcolor\\\":\\\"#2a3f5f\\\"},\\\"plot_bgcolor\\\":\\\"#E5ECF6\\\",\\\"title\\\":{\\\"x\\\":0.05},\\\"scene\\\":{\\\"xaxis\\\":{\\\"gridcolor\\\":\\\"white\\\",\\\"gridwidth\\\":2,\\\"backgroundcolor\\\":\\\"#E5ECF6\\\",\\\"ticks\\\":\\\"\\\",\\\"showbackground\\\":true,\\\"zerolinecolor\\\":\\\"white\\\",\\\"linecolor\\\":\\\"white\\\"},\\\"zaxis\\\":{\\\"gridcolor\\\":\\\"white\\\",\\\"gridwidth\\\":2,\\\"backgroundcolor\\\":\\\"#E5ECF6\\\",\\\"ticks\\\":\\\"\\\",\\\"showbackground\\\":true,\\\"zerolinecolor\\\":\\\"white\\\",\\\"linecolor\\\":\\\"white\\\"},\\\"yaxis\\\":{\\\"gridcolor\\\":\\\"white\\\",\\\"gridwidth\\\":2,\\\"backgroundcolor\\\":\\\"#E5ECF6\\\",\\\"ticks\\\":\\\"\\\",\\\"showbackground\\\":true,\\\"zerolinecolor\\\":\\\"white\\\",\\\"linecolor\\\":\\\"white\\\"}},\\\"colorway\\\":[\\\"#636efa\\\",\\\"#EF553B\\\",\\\"#00cc96\\\",\\\"#ab63fa\\\",\\\"#FFA15A\\\",\\\"#19d3f3\\\",\\\"#FF6692\\\",\\\"#B6E880\\\",\\\"#FF97FF\\\",\\\"#FECB52\\\"]},\\\"data\\\":{\\\"barpolar\\\":[{\\\"type\\\":\\\"barpolar\\\",\\\"marker\\\":{\\\"line\\\":{\\\"color\\\":\\\"#E5ECF6\\\",\\\"width\\\":0.5}}}],\\\"carpet\\\":[{\\\"aaxis\\\":{\\\"gridcolor\\\":\\\"white\\\",\\\"endlinecolor\\\":\\\"#2a3f5f\\\",\\\"minorgridcolor\\\":\\\"white\\\",\\\"startlinecolor\\\":\\\"#2a3f5f\\\",\\\"linecolor\\\":\\\"white\\\"},\\\"type\\\":\\\"carpet\\\",\\\"baxis\\\":{\\\"gridcolor\\\":\\\"white\\\",\\\"endlinecolor\\\":\\\"#2a3f5f\\\",\\\"minorgridcolor\\\":\\\"white\\\",\\\"startlinecolor\\\":\\\"#2a3f5f\\\",\\\"linecolor\\\":\\\"white\\\"}}],\\\"scatterpolar\\\":[{\\\"type\\\":\\\"scatterpolar\\\",\\\"marker\\\":{\\\"colorbar\\\":{\\\"ticks\\\":\\\"\\\",\\\"outlinewidth\\\":0}}}],\\\"parcoords\\\":[{\\\"line\\\":{\\\"colorbar\\\":{\\\"ticks\\\":\\\"\\\",\\\"outlinewidth\\\":0}},\\\"type\\\":\\\"parcoords\\\"}],\\\"scatter\\\":[{\\\"type\\\":\\\"scatter\\\",\\\"marker\\\":{\\\"colorbar\\\":{\\\"ticks\\\":\\\"\\\",\\\"outlinewidth\\\":0}}}],\\\"histogram2dcontour\\\":[{\\\"colorbar\\\":{\\\"ticks\\\":\\\"\\\",\\\"outlinewidth\\\":0},\\\"type\\\":\\\"histogram2dcontour\\\",\\\"colorscale\\\":[[0.0,\\\"#0d0887\\\"],[0.1111111111111111,\\\"#46039f\\\"],[0.2222222222222222,\\\"#7201a8\\\"],[0.3333333333333333,\\\"#9c179e\\\"],[0.4444444444444444,\\\"#bd3786\\\"],[0.5555555555555556,\\\"#d8576b\\\"],[0.6666666666666666,\\\"#ed7953\\\"],[0.7777777777777778,\\\"#fb9f3a\\\"],[0.8888888888888888,\\\"#fdca26\\\"],[1.0,\\\"#f0f921\\\"]]}],\\\"contour\\\":[{\\\"colorbar\\\":{\\\"ticks\\\":\\\"\\\",\\\"outlinewidth\\\":0},\\\"type\\\":\\\"contour\\\",\\\"colorscale\\\":[[0.0,\\\"#0d0887\\\"],[0.1111111111111111,\\\"#46039f\\\"],[0.2222222222222222,\\\"#7201a8\\\"],[0.3333333333333333,\\\"#9c179e\\\"],[0.4444444444444444,\\\"#bd3786\\\"],[0.5555555555555556,\\\"#d8576b\\\"],[0.6666666666666666,\\\"#ed7953\\\"],[0.7777777777777778,\\\"#fb9f3a\\\"],[0.8888888888888888,\\\"#fdca26\\\"],[1.0,\\\"#f0f921\\\"]]}],\\\"scattercarpet\\\":[{\\\"type\\\":\\\"scattercarpet\\\",\\\"marker\\\":{\\\"colorbar\\\":{\\\"ticks\\\":\\\"\\\",\\\"outlinewidth\\\":0}}}],\\\"mesh3d\\\":[{\\\"colorbar\\\":{\\\"ticks\\\":\\\"\\\",\\\"outlinewidth\\\":0},\\\"type\\\":\\\"mesh3d\\\"}],\\\"surface\\\":[{\\\"colorbar\\\":{\\\"ticks\\\":\\\"\\\",\\\"outlinewidth\\\":0},\\\"type\\\":\\\"surface\\\",\\\"colorscale\\\":[[0.0,\\\"#0d0887\\\"],[0.1111111111111111,\\\"#46039f\\\"],[0.2222222222222222,\\\"#7201a8\\\"],[0.3333333333333333,\\\"#9c179e\\\"],[0.4444444444444444,\\\"#bd3786\\\"],[0.5555555555555556,\\\"#d8576b\\\"],[0.6666666666666666,\\\"#ed7953\\\"],[0.7777777777777778,\\\"#fb9f3a\\\"],[0.8888888888888888,\\\"#fdca26\\\"],[1.0,\\\"#f0f921\\\"]]}],\\\"scattermapbox\\\":[{\\\"type\\\":\\\"scattermapbox\\\",\\\"marker\\\":{\\\"colorbar\\\":{\\\"ticks\\\":\\\"\\\",\\\"outlinewidth\\\":0}}}],\\\"scattergeo\\\":[{\\\"type\\\":\\\"scattergeo\\\",\\\"marker\\\":{\\\"colorbar\\\":{\\\"ticks\\\":\\\"\\\",\\\"outlinewidth\\\":0}}}],\\\"histogram\\\":[{\\\"type\\\":\\\"histogram\\\",\\\"marker\\\":{\\\"colorbar\\\":{\\\"ticks\\\":\\\"\\\",\\\"outlinewidth\\\":0}}}],\\\"pie\\\":[{\\\"type\\\":\\\"pie\\\",\\\"automargin\\\":true}],\\\"choropleth\\\":[{\\\"colorbar\\\":{\\\"ticks\\\":\\\"\\\",\\\"outlinewidth\\\":0},\\\"type\\\":\\\"choropleth\\\"}],\\\"heatmapgl\\\":[{\\\"colorbar\\\":{\\\"ticks\\\":\\\"\\\",\\\"outlinewidth\\\":0},\\\"type\\\":\\\"heatmapgl\\\",\\\"colorscale\\\":[[0.0,\\\"#0d0887\\\"],[0.1111111111111111,\\\"#46039f\\\"],[0.2222222222222222,\\\"#7201a8\\\"],[0.3333333333333333,\\\"#9c179e\\\"],[0.4444444444444444,\\\"#bd3786\\\"],[0.5555555555555556,\\\"#d8576b\\\"],[0.6666666666666666,\\\"#ed7953\\\"],[0.7777777777777778,\\\"#fb9f3a\\\"],[0.8888888888888888,\\\"#fdca26\\\"],[1.0,\\\"#f0f921\\\"]]}],\\\"bar\\\":[{\\\"type\\\":\\\"bar\\\",\\\"error_y\\\":{\\\"color\\\":\\\"#2a3f5f\\\"},\\\"error_x\\\":{\\\"color\\\":\\\"#2a3f5f\\\"},\\\"marker\\\":{\\\"line\\\":{\\\"color\\\":\\\"#E5ECF6\\\",\\\"width\\\":0.5}}}],\\\"heatmap\\\":[{\\\"colorbar\\\":{\\\"ticks\\\":\\\"\\\",\\\"outlinewidth\\\":0},\\\"type\\\":\\\"heatmap\\\",\\\"colorscale\\\":[[0.0,\\\"#0d0887\\\"],[0.1111111111111111,\\\"#46039f\\\"],[0.2222222222222222,\\\"#7201a8\\\"],[0.3333333333333333,\\\"#9c179e\\\"],[0.4444444444444444,\\\"#bd3786\\\"],[0.5555555555555556,\\\"#d8576b\\\"],[0.6666666666666666,\\\"#ed7953\\\"],[0.7777777777777778,\\\"#fb9f3a\\\"],[0.8888888888888888,\\\"#fdca26\\\"],[1.0,\\\"#f0f921\\\"]]}],\\\"contourcarpet\\\":[{\\\"colorbar\\\":{\\\"ticks\\\":\\\"\\\",\\\"outlinewidth\\\":0},\\\"type\\\":\\\"contourcarpet\\\"}],\\\"table\\\":[{\\\"type\\\":\\\"table\\\",\\\"header\\\":{\\\"line\\\":{\\\"color\\\":\\\"white\\\"},\\\"fill\\\":{\\\"color\\\":\\\"#C8D4E3\\\"}},\\\"cells\\\":{\\\"line\\\":{\\\"color\\\":\\\"white\\\"},\\\"fill\\\":{\\\"color\\\":\\\"#EBF0F8\\\"}}}],\\\"scatter3d\\\":[{\\\"line\\\":{\\\"colorbar\\\":{\\\"ticks\\\":\\\"\\\",\\\"outlinewidth\\\":0}},\\\"type\\\":\\\"scatter3d\\\",\\\"marker\\\":{\\\"colorbar\\\":{\\\"ticks\\\":\\\"\\\",\\\"outlinewidth\\\":0}}}],\\\"scattergl\\\":[{\\\"type\\\":\\\"scattergl\\\",\\\"marker\\\":{\\\"colorbar\\\":{\\\"ticks\\\":\\\"\\\",\\\"outlinewidth\\\":0}}}],\\\"histogram2d\\\":[{\\\"colorbar\\\":{\\\"ticks\\\":\\\"\\\",\\\"outlinewidth\\\":0},\\\"type\\\":\\\"histogram2d\\\",\\\"colorscale\\\":[[0.0,\\\"#0d0887\\\"],[0.1111111111111111,\\\"#46039f\\\"],[0.2222222222222222,\\\"#7201a8\\\"],[0.3333333333333333,\\\"#9c179e\\\"],[0.4444444444444444,\\\"#bd3786\\\"],[0.5555555555555556,\\\"#d8576b\\\"],[0.6666666666666666,\\\"#ed7953\\\"],[0.7777777777777778,\\\"#fb9f3a\\\"],[0.8888888888888888,\\\"#fdca26\\\"],[1.0,\\\"#f0f921\\\"]]}],\\\"scatterternary\\\":[{\\\"type\\\":\\\"scatterternary\\\",\\\"marker\\\":{\\\"colorbar\\\":{\\\"ticks\\\":\\\"\\\",\\\"outlinewidth\\\":0}}}],\\\"scatterpolargl\\\":[{\\\"type\\\":\\\"scatterpolargl\\\",\\\"marker\\\":{\\\"colorbar\\\":{\\\"ticks\\\":\\\"\\\",\\\"outlinewidth\\\":0}}}]}},\\\"height\\\":510,\\\"margin\\\":{\\\"l\\\":50,\\\"b\\\":50,\\\"r\\\":50,\\\"t\\\":60},\\\"title\\\":\\\"Nearest neighbor model with nearest spin-orbit coupling\\\",\\\"yaxis\\\":{\\\"showgrid\\\":true,\\\"showline\\\":true,\\\"showticklabels\\\":true,\\\"linewidth\\\":5,\\\"mirror\\\":true,\\\"linecolor\\\":\\\"black\\\"},\\\"plot_bgcolor\\\":\\\"rgba(0,0,0,0)\\\",\\\"width\\\":510},{\\\"showLink\\\":false,\\\"editable\\\":false,\\\"responsive\\\":true,\\\"staticPlot\\\":false,\\\"scrollZoom\\\":true}); gd.on(\\\"plotly_hover\\\",(function (data){var filtered_data=WebIO.PlotlyCommands.filterEventData(gd,data,\\\"hover\\\"); return !(filtered_data.isnil) ? (WebIO.setval({\\\"name\\\":\\\"hover\\\",\\\"scope\\\":\\\"7519658255952810282\\\",\\\"id\\\":\\\"229709\\\",\\\"type\\\":\\\"observable\\\"},filtered_data.out)) : undefined})); gd.on(\\\"plotly_unhover\\\",(function (){return WebIO.setval({\\\"name\\\":\\\"hover\\\",\\\"scope\\\":\\\"7519658255952810282\\\",\\\"id\\\":\\\"229709\\\",\\\"type\\\":\\\"observable\\\"},{})})); gd.on(\\\"plotly_selected\\\",(function (data){var filtered_data=WebIO.PlotlyCommands.filterEventData(gd,data,\\\"selected\\\"); return !(filtered_data.isnil) ? (WebIO.setval({\\\"name\\\":\\\"selected\\\",\\\"scope\\\":\\\"7519658255952810282\\\",\\\"id\\\":\\\"229710\\\",\\\"type\\\":\\\"observable\\\"},filtered_data.out)) : undefined})); gd.on(\\\"plotly_deselect\\\",(function (){return WebIO.setval({\\\"name\\\":\\\"selected\\\",\\\"scope\\\":\\\"7519658255952810282\\\",\\\"id\\\":\\\"229710\\\",\\\"type\\\":\\\"observable\\\"},{})})); gd.on(\\\"plotly_relayout\\\",(function (data){var filtered_data=WebIO.PlotlyCommands.filterEventData(gd,data,\\\"relayout\\\"); return !(filtered_data.isnil) ? (WebIO.setval({\\\"name\\\":\\\"relayout\\\",\\\"scope\\\":\\\"7519658255952810282\\\",\\\"id\\\":\\\"229712\\\",\\\"type\\\":\\\"observable\\\"},filtered_data.out)) : undefined})); return gd.on(\\\"plotly_click\\\",(function (data){var filtered_data=WebIO.PlotlyCommands.filterEventData(gd,data,\\\"click\\\"); return !(filtered_data.isnil) ? (WebIO.setval({\\\"name\\\":\\\"click\\\",\\\"scope\\\":\\\"7519658255952810282\\\",\\\"id\\\":\\\"229711\\\",\\\"type\\\":\\\"observable\\\"},filtered_data.out)) : undefined}))}));\\n    (WebIO.importBlock({\\\"data\\\":[{\\\"name\\\":\\\"Plotly\\\",\\\"type\\\":\\\"js\\\",\\\"url\\\":\\\"\\/assetserver\\/b267c3137400db01c304fe886fe6f707be7fdb37-plotly.min.js\\\"},{\\\"name\\\":null,\\\"type\\\":\\\"js\\\",\\\"url\\\":\\\"\\/assetserver\\/020f2e8a4619f2ae880fff9315e6547eef1aff0b-plotly_webio.bundle.js\\\"}],\\\"type\\\":\\\"async_block\\\"})).then((imports) => handler.apply(this, imports));\\n}\\n\"],\"observables\":{\"_toImage\":{\"sync\":false,\"id\":\"229716\",\"value\":{}},\"hover\":{\"sync\":false,\"id\":\"229709\",\"value\":{}},\"selected\":{\"sync\":false,\"id\":\"229710\",\"value\":{}},\"__gd_contents\":{\"sync\":false,\"id\":\"229714\",\"value\":{}},\"click\":{\"sync\":false,\"id\":\"229711\",\"value\":{}},\"image\":{\"sync\":true,\"id\":\"229713\",\"value\":\"\"},\"__get_gd_contents\":{\"sync\":false,\"id\":\"229718\",\"value\":\"\"},\"_downloadImage\":{\"sync\":false,\"id\":\"229717\",\"value\":{}},\"relayout\":{\"sync\":false,\"id\":\"229712\",\"value\":{}},\"_commands\":{\"sync\":false,\"id\":\"229715\",\"value\":[]}}},\"children\":[{\"props\":{\"id\":\"plot-54f31bfc-46e9-4a29-bfe0-55bcf35a8c06\"},\"nodeType\":\"DOM\",\"type\":\"node\",\"instanceArgs\":{\"namespace\":\"html\",\"tag\":\"div\"},\"children\":[]}]},\n",
       "        window,\n",
       "    );\n",
       "    })()\n",
       "    </script>\n",
       "</div>\n"
      ],
      "text/plain": [
       "data: [\n",
       "  \"scatter with fields line, mode, type, x, and y\",\n",
       "  \"scatter with fields line, mode, type, x, and y\",\n",
       "  \"scatter with fields line, mode, type, x, and y\"\n",
       "]\n",
       "\n",
       "layout: \"layout with fields height, margin, plot_bgcolor, showlegend, template, title, width, xaxis, and yaxis\"\n",
       "\n"
      ]
     },
     "metadata": {},
     "output_type": "display_data"
    }
   ],
   "source": [
    "let t1 = -1.0, u1 = 0.0, t2 = 0.0, u2 = 0.0\n",
    "    p = Params(t1 = t1, u1 = u1, t2 = t2, u2 = u2)\n",
    "    plot_simple_kagome_bands(p = p, seedname = \"complex_nn_soc_1\", title = \"Nearest neighbor model with nearest spin-orbit coupling\")\n",
    "end"
   ]
  },
  {
   "cell_type": "markdown",
   "metadata": {},
   "source": [
    "# Next, consider more general monolayer tight-binding models # "
   ]
  },
  {
   "cell_type": "code",
   "execution_count": 190,
   "metadata": {},
   "outputs": [
    {
     "data": {
      "application/vnd.plotly.v1+json": {
       "config": {
        "editable": false,
        "responsive": true,
        "scrollZoom": true,
        "showLink": false,
        "staticPlot": false
       },
       "data": [
        {
         "line": {
          "color": "purple",
          "width": 4
         },
         "mode": "lines",
         "type": "scatter",
         "x": [
          1,
          2,
          3,
          4,
          5,
          6,
          7,
          8,
          9,
          10,
          11,
          12,
          13,
          14,
          15,
          16,
          17,
          18,
          19,
          20,
          21,
          22,
          23,
          24,
          25,
          26,
          27,
          28,
          29,
          30,
          31,
          32,
          33,
          34,
          35,
          36,
          37,
          38,
          39,
          40,
          41,
          42,
          43,
          44,
          45,
          46,
          47,
          48,
          49,
          50,
          51,
          52,
          53,
          54,
          55,
          56,
          57,
          58,
          59,
          60,
          61,
          62,
          63,
          64,
          65,
          66,
          67,
          68,
          69,
          70,
          71,
          72,
          73,
          74,
          75,
          76,
          77,
          78,
          79,
          80,
          81,
          82,
          83,
          84,
          85,
          86,
          87,
          88,
          89,
          90,
          91,
          92,
          93,
          94,
          95,
          96,
          97,
          98,
          99,
          100,
          101,
          102,
          103,
          104,
          105,
          106,
          107,
          108,
          109,
          110,
          111,
          112,
          113,
          114,
          115,
          116,
          117,
          118,
          119,
          120,
          121,
          122,
          123,
          124,
          125,
          126,
          127,
          128,
          129,
          130,
          131,
          132,
          133,
          134,
          135,
          136,
          137,
          138,
          139,
          140,
          141,
          142,
          143,
          144,
          145,
          146,
          147,
          148,
          149,
          150,
          151,
          152,
          153,
          154,
          155,
          156,
          157,
          158,
          159,
          160,
          161,
          162,
          163,
          164,
          165,
          166,
          167,
          168,
          169,
          170,
          171,
          172,
          173,
          174,
          175,
          176,
          177,
          178,
          179,
          180,
          181,
          182,
          183,
          184,
          185,
          186,
          187,
          188,
          189,
          190,
          191,
          192,
          193,
          194,
          195,
          196,
          197,
          198,
          199,
          200,
          201,
          202,
          203,
          204,
          205,
          206,
          207,
          208,
          209,
          210,
          211,
          212,
          213,
          214,
          215,
          216,
          217,
          218,
          219,
          220,
          221,
          222,
          223,
          224,
          225,
          226,
          227,
          228,
          229,
          230,
          231,
          232,
          233,
          234,
          235,
          236,
          237,
          238,
          239,
          240,
          241,
          242,
          243,
          244,
          245,
          246,
          247,
          248,
          249,
          250,
          251,
          252,
          253,
          254,
          255,
          256,
          257,
          258,
          259,
          260,
          261,
          262,
          263,
          264,
          265,
          266,
          267,
          268,
          269,
          270,
          271,
          272,
          273,
          274,
          275,
          276,
          277,
          278,
          279,
          280,
          281,
          282,
          283,
          284,
          285,
          286,
          287,
          288,
          289,
          290,
          291,
          292,
          293,
          294,
          295,
          296,
          297,
          298,
          299,
          300,
          301,
          302,
          303,
          304,
          305,
          306,
          307,
          308,
          309,
          310,
          311,
          312,
          313,
          314,
          315,
          316,
          317,
          318,
          319,
          320,
          321,
          322,
          323,
          324,
          325,
          326,
          327,
          328,
          329,
          330,
          331,
          332,
          333,
          334,
          335,
          336,
          337,
          338,
          339,
          340,
          341,
          342,
          343,
          344,
          345,
          346,
          347,
          348,
          349,
          350,
          351,
          352,
          353,
          354,
          355,
          356,
          357,
          358,
          359,
          360,
          361,
          362,
          363,
          364,
          365,
          366,
          367,
          368,
          369,
          370,
          371,
          372,
          373,
          374,
          375,
          376,
          377,
          378,
          379,
          380,
          381,
          382,
          383,
          384,
          385,
          386,
          387,
          388,
          389,
          390,
          391,
          392,
          393,
          394,
          395,
          396,
          397,
          398,
          399,
          400,
          401,
          402,
          403,
          404,
          405,
          406,
          407,
          408,
          409,
          410,
          411,
          412,
          413,
          414,
          415,
          416,
          417,
          418,
          419,
          420,
          421,
          422,
          423,
          424,
          425,
          426,
          427,
          428,
          429,
          430,
          431,
          432,
          433,
          434,
          435,
          436,
          437,
          438,
          439,
          440,
          441,
          442,
          443,
          444,
          445,
          446,
          447,
          448,
          449,
          450,
          451,
          452,
          453,
          454,
          455,
          456,
          457,
          458,
          459,
          460,
          461,
          462,
          463,
          464,
          465,
          466,
          467,
          468,
          469,
          470,
          471,
          472,
          473,
          474,
          475,
          476,
          477,
          478,
          479,
          480,
          481,
          482,
          483,
          484,
          485,
          486,
          487,
          488,
          489,
          490,
          491,
          492,
          493,
          494,
          495,
          496,
          497,
          498,
          499,
          500
         ],
         "y": [
          -4.000000000000001,
          -3.999901476084614,
          -3.999605933461416,
          -3.9991134595031013,
          -3.99842419984355,
          -3.997538358396862,
          -3.9964561973838877,
          -3.995178037366146,
          -3.993704257286992,
          -3.9920352945198596,
          -3.990171644923354,
          -3.9881138629029538,
          -3.9858625614790544,
          -3.9834184123610084,
          -3.9807821460268364,
          -3.9779545518081756,
          -3.9749364779800596,
          -3.97172883185503,
          -3.968332579881054,
          -3.964748747742692,
          -3.960978420464862,
          -3.9570227425185585,
          -3.9528829179277825,
          -3.948560210376907,
          -3.9440559433176334,
          -3.93937150007465,
          -3.934508323949004,
          -3.929467918318192,
          -3.9242518467318437,
          -3.918861733001836,
          -3.913299261285599,
          -3.9075661761612985,
          -3.901664282693464,
          -3.8955954464876346,
          -3.8893615937323944,
          -3.8829647112271903,
          -3.876406846394159,
          -3.8696901072721412,
          -3.862816662490955,
          -3.855788741223879,
          -3.8486086331162577,
          -3.8412786881879817,
          -3.833801316707536,
          -3.8261789890351925,
          -3.8184142354328303,
          -3.810509645837778,
          -3.802467869597961,
          -3.7942916151655477,
          -3.7859836497462127,
          -3.7775467989010276,
          -3.7689839460979195,
          -3.7602980322095645,
          -3.7514920549545128,
          -3.742569068278276,
          -3.733532181671065,
          -3.7243845594188234,
          -3.715129419784179,
          -3.7057700341139115,
          -3.6963097258695585,
          -3.6867518695777717,
          -3.6770998896970855,
          -3.6673572593978494,
          -3.657527499252085,
          -3.6476141758302054,
          -3.6376209002016147,
          -3.627551326336368,
          -3.617409149405294,
          -3.6071981039761294,
          -3.5969219621035124,
          -3.5865845313109377,
          -3.5761896524630794,
          -3.565741197527246,
          -3.5552430672231,
          -3.5446991885601737,
          -3.534113512263204,
          -3.523490010085709,
          -3.5128326720128533,
          -3.5021455033550675,
          -3.491432521734585,
          -3.480697753967559,
          -3.4699452328451335,
          -3.459178993817429,
          -3.4484030715851115,
          -3.437621496603894,
          -3.4268382915079796,
          -3.416057467459193,
          -3.405283020429231,
          -3.3945189274231127,
          -3.3837691426526555,
          -3.373037593669384,
          -3.3623281774669453,
          -3.3516447565636933,
          -3.3409911550766203,
          -3.3303711547983563,
          -3.3197884912893656,
          -3.3092468499978422,
          -3.2987498624201583,
          -3.288301102314894,
          -3.2779040819836487,
          -3.2675622486319282,
          -3.2572789808233016,
          -3.2470575850399728,
          -3.236901292362655,
          -3.2268132552823006,
          -3.2167965446559066,
          -3.206854146817989,
          -3.196988960858842,
          -3.1872037960799067,
          -3.177501369635861,
          -3.16788430437216,
          -3.158355126865824,
          -3.1489162656763092,
          -3.1395700498122023,
          -3.1303187074184557,
          -3.121164364687649,
          -3.1121090449977316,
          -3.1031546682774342,
          -3.094303050599399,
          -3.085555903999936,
          -3.0769148365231382,
          -3.06838135248598,
          -3.0599568529599477,
          -3.051642636463734,
          -3.043439899860528,
          -3.0353497394525673,
          -3.0273731522647287,
          -3.019511037508237,
          -3.011764198214855,
          -3.0041333430313286,
          -2.9966190881633934,
          -2.989221959458189,
          -2.9819423946136423,
          -2.974780745503133,
          -2.967737280603603,
          -2.960812187515222,
          -2.95400557556072,
          -2.9473174784526246,
          -2.940747857016779,
          -2.934296601960763,
          -2.9279635366761494,
          -2.9217484200638517,
          -2.9156509493722407,
          -2.909670763038146,
          -2.903807443521342,
          -2.898060520123601,
          -2.8924294717839754,
          -2.886913729842486,
          -2.881512680764965,
          -2.8762256688223853,
          -2.8710519987185754,
          -2.865990938160765,
          -2.8610417203680276,
          -2.8562035465131714,
          -2.8514755880942246,
          -2.8468569892321494,
          -2.842346868891937,
          -2.8379443230247237,
          -2.8336484266290025,
          -2.8294582357294784,
          -2.8253727892724756,
          -2.821391110937243,
          -2.817512210862811,
          -2.813735087290417,
          -2.810058728121798,
          -2.8064821123939536,
          -2.803004211671203,
          -2.799623991355616,
          -2.7963404119170785,
          -2.7931524300444583,
          -2.790058999719461,
          -2.787059073214963,
          -2.7841516020196435,
          -2.7813355376909326,
          -2.7786098326382938,
          -2.7759734408389765,
          -2.7734253184884246,
          -2.7709644245875213,
          -2.76858972146895,
          -2.7663001752649015,
          -2.764094756318409,
          -2.7619724395405543,
          -2.7599322047158155,
          -2.757973036757781,
          -2.75609392591743,
          -2.754293867946176,
          -2.752571864215819,
          -2.750926921797512,
          -2.7493580535018074,
          -2.7478642778818374,
          -2.7464446192015854,
          -2.745098107371211,
          -2.743823777851312,
          -2.7426206715279724,
          -2.741487834560413,
          -2.7404243182029724,
          -2.7394291786031677,
          -2.7385014765774707,
          -2.737640277366438,
          -2.7368446503707773,
          -2.7361136688698915,
          -2.7354464097243927,
          -2.7348419530640715,
          -2.7342993819627366,
          -2.7338177821013323,
          -2.7333962414206736,
          -2.7330338497651794,
          -2.732729698518864,
          -2.7324828802348877,
          -2.7322924882599198,
          -2.7321576163545513,
          -2.732077358310934,
          -2.7320508075688794,
          -2.732077305839819,
          -2.732156186689907,
          -2.7322865271276298,
          -2.7324674022412534,
          -2.7326978848153374,
          -2.732977044952589,
          -2.7333039497022167,
          -2.7336776626958095,
          -2.7340972437918794,
          -2.7345617487300853,
          -2.7350702287962223,
          -2.735621730498978,
          -2.7362152952595076,
          -2.736849959114795,
          -2.737524752435803,
          -2.73823869966139,
          -2.7389908190488925,
          -2.7397801224423697,
          -2.7406056150593434,
          -2.7414662952969593,
          -2.7423611545584086,
          -2.7432891771004266,
          -2.7442493399026935,
          -2.74524061255987,
          -2.7462619571970297,
          -2.747312328409177,
          -2.7483906732255075,
          -2.749495931099034,
          -2.7506270339221723,
          -2.751782906068799,
          -2.7529624644632937,
          -2.7541646186769944,
          -2.755388271052462,
          -2.756632316855899,
          -2.7578956444579896,
          -2.7591771355434247,
          -2.7604756653492313,
          -2.7617901029320686,
          -2.7631193114645196,
          -2.7644621485603493,
          -2.765817466628682,
          -2.767184113256951,
          -2.768560931622388,
          -2.7699467609318225,
          -2.77134043688942,
          -2.7727407921919554,
          -2.774146657051186,
          -2.7755568597427116,
          -2.776970227180812,
          -2.778385585518497,
          -2.779801760772104,
          -2.7812175794696046,
          -2.7826318693217815,
          -2.7840434599153396,
          -2.7854511834269706,
          -2.7868538753573633,
          -2.788250375284017,
          -2.789639527631766,
          -2.7910201824597958,
          -2.7923911962639094,
          -2.7937514327927753,
          -2.795099763876817,
          -2.796435070268404,
          -2.7977562424919253,
          -2.799062181702329,
          -2.8003518005506773,
          -2.8016240240552372,
          -2.802877790476601,
          -2.8041120521953316,
          -2.8053257765906108,
          -2.8065179469183223,
          -2.807687563187082,
          -2.80883364303061,
          -2.809955222574957,
          -2.8110513572990072,
          -2.8121211228867606,
          -2.8131636160698594,
          -2.8141779554588693,
          -2.8151632823618282,
          -2.8161187615886254,
          -2.8170435822397426,
          -2.81793695847798,
          -2.8187981302817966,
          -2.8196263641789017,
          -2.820420953958825,
          -2.8211812213631693,
          -2.821906516752356,
          -2.822596219747656,
          -2.8232497398473924,
          -2.8238665170162314,
          -2.824446022246484,
          -2.824987758090509,
          -2.8254912591632024,
          -2.8259560926137466,
          -2.8263818585657825,
          -2.826768190525235,
          -2.8271147557550744,
          -2.827421255616375,
          -2.827687425875083,
          -2.827913036973939,
          -2.828097894269123,
          -2.8282418382311403,
          -2.8283447446097334,
          -2.828406524562366,
          -2.8284271247462076,
          -2.828488165726145,
          -2.828671294614283,
          -2.8289765481597406,
          -2.829403987489561,
          -2.8299536979269075,
          -2.830625788736112,
          -2.8314203927941697,
          -2.8323376661881503,
          -2.833377787737892,
          -2.8345409584432515,
          -2.8358274008550826,
          -2.8372373583690553,
          -2.838771094441312,
          -2.840428891724973,
          -2.842211051126364,
          -2.844117890779907,
          -2.8461497449405138,
          -2.8483069627923996,
          -2.850589907173195,
          -2.8529989532123188,
          -2.8555344868826325,
          -2.8581969034644668,
          -2.8609866059212514,
          -2.8639040031860867,
          -2.866949508358803,
          -2.870123536813202,
          -2.8734265042144327,
          -2.8768588244466864,
          -2.880420907451696,
          -2.8841131569788194,
          -2.8879359682478425,
          -2.8918897255260196,
          -2.895974799621251,
          -2.9001915452937674,
          -2.9045402985891227,
          -2.9090213740957966,
          -2.9136350621312532,
          -2.9183816258607798,
          -2.9232612983540633,
          -2.928274279584968,
          -2.9334207333806184,
          -2.9387007843264614,
          -2.94411451463459,
          -2.9496619609832173,
          -2.9553431113357793,
          -2.9611579017487157,
          -2.9671062131775736,
          -2.973187868291585,
          -2.979402628307381,
          -2.9857501898529915,
          -2.9922301818736807,
          -2.9988421625915462,
          -3.0055856165311114,
          -3.0124599516233883,
          -3.0194644964010555,
          -3.0265984972974684,
          -3.033861116062268,
          -3.0412514273062023,
          -3.0487684161876745,
          -3.0564109762531904,
          -3.0641779074435633,
          -3.0720679142772283,
          -3.0800796042214733,
          -3.088211486261727,
          -3.096461969678297,
          -3.1048293630390726,
          -3.113311873415843,
          -3.1219076058308044,
          -3.130614562938809,
          -3.1394306449497407,
          -3.148353649794238,
          -3.1573812735347278,
          -3.1665111110225075,
          -3.175740656800324,
          -3.185067306248608,
          -3.1944883569722586,
          -3.204001010423632,
          -3.213602373756137,
          -3.223289461901669,
          -3.2330591998640075,
          -3.242908425219215,
          -3.252833890813094,
          -3.2628322676448556,
          -3.272900147925352,
          -3.2830340482974667,
          -3.2932304132056833,
          -3.303485618401313,
          -3.313795974569458,
          -3.3241577310634858,
          -3.33456707973262,
          -3.3450201588281336,
          -3.3555130569736744,
          -3.366041817185349,
          -3.376602440927425,
          -3.38719089218978,
          -3.397803101573636,
          -3.408434970372555,
          -3.4190823746361945,
          -3.429741169204917,
          -3.4404071917039656,
          -3.4510762664866106,
          -3.461744208516361,
          -3.472406827179105,
          -3.4830599300167613,
          -3.4936993263748395,
          -3.504320830957026,
          -3.5149202672807456,
          -3.5254934710283536,
          -3.5360362932894063,
          -3.5465446036901613,
          -3.5570142934071822,
          -3.567441278062599,
          -3.5778215004992173,
          -3.588150933434303,
          -3.5984255819914277,
          -3.6086414861103338,
          -3.6187947228352577,
          -3.6288814084826346,
          -3.638897700689541,
          -3.6488398003445917,
          -3.6587039534034256,
          -3.6684864525911385,
          -3.6781836389943776,
          -3.6877919035460254,
          -3.6973076884056066,
          -3.7067274882387333,
          -3.7160478513990522,
          -3.7252653810162757,
          -3.734376735993972,
          -3.743378631920852,
          -3.7522678418993225,
          -3.7610411972951407,
          -3.7696955884119325,
          -3.778227965094412,
          -3.7866353372640296,
          -3.794914775390785,
          -3.8030634109048473,
          -3.8110784365516057,
          -3.8189571066936145,
          -3.8266967375629077,
          -3.8342947074670017,
          -3.841748456951815,
          -3.849055488924642,
          -3.8562133687402342,
          -3.8632197242528705,
          -3.8700722458372585,
          -3.8767686863809434,
          -3.883306861250822,
          -3.8896846482362384,
          -3.8958999874710014,
          -3.9019508813366177,
          -3.907835394348845,
          -3.913551653029631,
          -3.919097845766363,
          -3.924472222660272,
          -3.9296730953657066,
          -3.9346988369219487,
          -3.939547881579091,
          -3.9442187246194504,
          -3.948709922175881,
          -3.953020091048289,
          -3.957147908519539,
          -3.961092112171909,
          -3.9648514997051265,
          -3.968424928757,
          -3.9718113167275506,
          -3.9750096406075044,
          -3.9780189368119467,
          -3.980838301019862,
          -3.9834668880202586,
          -3.985903911565481,
          -3.988148644232293,
          -3.990200417291283,
          -3.9920586205850106,
          -3.9937227024153814,
          -3.9951921694406196,
          -3.9964665865821742,
          -3.997545576941876,
          -3.99842882172962,
          -3.9991160602017786,
          -3.999607089610567,
          -3.9999017651644864,
          -4.000000000000001
         ]
        },
        {
         "line": {
          "color": "purple",
          "width": 4
         },
         "mode": "lines",
         "type": "scatter",
         "x": [
          1,
          2,
          3,
          4,
          5,
          6,
          7,
          8,
          9,
          10,
          11,
          12,
          13,
          14,
          15,
          16,
          17,
          18,
          19,
          20,
          21,
          22,
          23,
          24,
          25,
          26,
          27,
          28,
          29,
          30,
          31,
          32,
          33,
          34,
          35,
          36,
          37,
          38,
          39,
          40,
          41,
          42,
          43,
          44,
          45,
          46,
          47,
          48,
          49,
          50,
          51,
          52,
          53,
          54,
          55,
          56,
          57,
          58,
          59,
          60,
          61,
          62,
          63,
          64,
          65,
          66,
          67,
          68,
          69,
          70,
          71,
          72,
          73,
          74,
          75,
          76,
          77,
          78,
          79,
          80,
          81,
          82,
          83,
          84,
          85,
          86,
          87,
          88,
          89,
          90,
          91,
          92,
          93,
          94,
          95,
          96,
          97,
          98,
          99,
          100,
          101,
          102,
          103,
          104,
          105,
          106,
          107,
          108,
          109,
          110,
          111,
          112,
          113,
          114,
          115,
          116,
          117,
          118,
          119,
          120,
          121,
          122,
          123,
          124,
          125,
          126,
          127,
          128,
          129,
          130,
          131,
          132,
          133,
          134,
          135,
          136,
          137,
          138,
          139,
          140,
          141,
          142,
          143,
          144,
          145,
          146,
          147,
          148,
          149,
          150,
          151,
          152,
          153,
          154,
          155,
          156,
          157,
          158,
          159,
          160,
          161,
          162,
          163,
          164,
          165,
          166,
          167,
          168,
          169,
          170,
          171,
          172,
          173,
          174,
          175,
          176,
          177,
          178,
          179,
          180,
          181,
          182,
          183,
          184,
          185,
          186,
          187,
          188,
          189,
          190,
          191,
          192,
          193,
          194,
          195,
          196,
          197,
          198,
          199,
          200,
          201,
          202,
          203,
          204,
          205,
          206,
          207,
          208,
          209,
          210,
          211,
          212,
          213,
          214,
          215,
          216,
          217,
          218,
          219,
          220,
          221,
          222,
          223,
          224,
          225,
          226,
          227,
          228,
          229,
          230,
          231,
          232,
          233,
          234,
          235,
          236,
          237,
          238,
          239,
          240,
          241,
          242,
          243,
          244,
          245,
          246,
          247,
          248,
          249,
          250,
          251,
          252,
          253,
          254,
          255,
          256,
          257,
          258,
          259,
          260,
          261,
          262,
          263,
          264,
          265,
          266,
          267,
          268,
          269,
          270,
          271,
          272,
          273,
          274,
          275,
          276,
          277,
          278,
          279,
          280,
          281,
          282,
          283,
          284,
          285,
          286,
          287,
          288,
          289,
          290,
          291,
          292,
          293,
          294,
          295,
          296,
          297,
          298,
          299,
          300,
          301,
          302,
          303,
          304,
          305,
          306,
          307,
          308,
          309,
          310,
          311,
          312,
          313,
          314,
          315,
          316,
          317,
          318,
          319,
          320,
          321,
          322,
          323,
          324,
          325,
          326,
          327,
          328,
          329,
          330,
          331,
          332,
          333,
          334,
          335,
          336,
          337,
          338,
          339,
          340,
          341,
          342,
          343,
          344,
          345,
          346,
          347,
          348,
          349,
          350,
          351,
          352,
          353,
          354,
          355,
          356,
          357,
          358,
          359,
          360,
          361,
          362,
          363,
          364,
          365,
          366,
          367,
          368,
          369,
          370,
          371,
          372,
          373,
          374,
          375,
          376,
          377,
          378,
          379,
          380,
          381,
          382,
          383,
          384,
          385,
          386,
          387,
          388,
          389,
          390,
          391,
          392,
          393,
          394,
          395,
          396,
          397,
          398,
          399,
          400,
          401,
          402,
          403,
          404,
          405,
          406,
          407,
          408,
          409,
          410,
          411,
          412,
          413,
          414,
          415,
          416,
          417,
          418,
          419,
          420,
          421,
          422,
          423,
          424,
          425,
          426,
          427,
          428,
          429,
          430,
          431,
          432,
          433,
          434,
          435,
          436,
          437,
          438,
          439,
          440,
          441,
          442,
          443,
          444,
          445,
          446,
          447,
          448,
          449,
          450,
          451,
          452,
          453,
          454,
          455,
          456,
          457,
          458,
          459,
          460,
          461,
          462,
          463,
          464,
          465,
          466,
          467,
          468,
          469,
          470,
          471,
          472,
          473,
          474,
          475,
          476,
          477,
          478,
          479,
          480,
          481,
          482,
          483,
          484,
          485,
          486,
          487,
          488,
          489,
          490,
          491,
          492,
          493,
          494,
          495,
          496,
          497,
          498,
          499,
          500
         ],
         "y": [
          -1.4641016151377548,
          -1.4640655507801048,
          -1.4639573431451887,
          -1.4637769485423158,
          -1.463524294137652,
          -1.4631992779302687,
          -1.4628017687187098,
          -1.4623316060582179,
          -1.461788600208736,
          -1.461172532073917,
          -1.4604831531312836,
          -1.459720185353877,
          -1.458883321123623,
          -1.4579722231367684,
          -1.456986524301756,
          -1.4559258276299436,
          -1.4547897061196104,
          -1.453577702633766,
          -1.4522893297722903,
          -1.450924069738981,
          -1.4494813742041854,
          -1.4479606641636587,
          -1.4463613297944515,
          -1.444682730308569,
          -1.4429241938053143,
          -1.4410850171232137,
          -1.4391644656925124,
          -1.437161773389316,
          -1.4350761423924818,
          -1.4329067430444569,
          -1.430652713717386,
          -1.428313160685748,
          -1.4258871580070653,
          -1.423373747412113,
          -1.42077193820629,
          -1.4180807071838115,
          -1.4152989985565396,
          -1.4124257238992919,
          -1.4094597621136458,
          -1.4063999594122762,
          -1.4032451293260237,
          -1.399994052735942,
          -1.3966454779327167,
          -1.3931981207059294,
          -1.3896506644657225,
          -1.3860017603995576,
          -1.3822500276668306,
          -1.3783940536342398,
          -1.3744323941548087,
          -1.3703635738936952,
          -1.366186086703876,
          -1.3618983960548945,
          -1.357498935518065,
          -1.3529861093113469,
          -1.3483582929074067,
          -1.3436138337082617,
          -1.338751051789981,
          -1.3337682407209914,
          -1.3286636684574165,
          -1.3234355783190033,
          -1.3180821900490614,
          -1.3126017009617923,
          -1.3069922871803858,
          -1.3012521049690973,
          -1.295379292162384,
          -1.2893719696941195,
          -1.2832282432296254,
          -1.2769462049031106,
          -1.2705239351628947,
          -1.263959504726443,
          -1.2572509766470295,
          -1.2503964084934551,
          -1.2433938546439023,
          -1.2362413686945943,
          -1.228937005983516,
          -1.2214788262289464,
          -1.2138648962820955,
          -1.2060932929925774,
          -1.1981621061848897,
          -1.190069441743507,
          -1.1818134248035495,
          -1.17339220304339,
          -1.1648039500748648,
          -1.1560468689261674,
          -1.1471191956117086,
          -1.1380192027827118,
          -1.128745203451477,
          -1.1192955547817176,
          -1.1096686619366298,
          -1.0998629819758035,
          -1.089877027791421,
          -1.0797093720737,
          -1.0693586512949462,
          -1.0588235697012092,
          -1.04810290330004,
          -1.0371955038325982,
          -1.02610030271801,
          -1.0148163149577623,
          -1.003342642987799,
          -0.9916784804659413,
          -0.979823115982385,
          -0.9677759366812123,
          -0.9555364317810718,
          -0.9431041959836644,
          -0.9304789327590727,
          -0.917660457497609,
          -0.9046487005185405,
          -0.8914437099267807,
          -0.8780456543096085,
          -0.8644548252663151,
          -0.8506716397648368,
          -0.8366966423204362,
          -0.8225305069927767,
          -0.808174039198852,
          -0.7936281773406276,
          -0.7788939942474543,
          -0.7639726984347552,
          -0.7488656351817491,
          -0.7335742874324193,
          -0.718100276525232,
          -0.7024453627584755,
          -0.6866114457994438,
          -0.6706005649469133,
          -0.6544148992576895,
          -0.6380567675491671,
          -0.6215286282910165,
          -0.6048330794002449,
          -0.5879728579549088,
          -0.5709508398427622,
          -0.5537700393620838,
          -0.5364336087927746,
          -0.518944837956685,
          -0.5013071537869138,
          -0.48352411992649796,
          -0.4655994363776713,
          -0.447536939223518,
          -0.4293406004444228,
          -0.4110145278524048,
          -0.39256296516696276,
          -0.37399029225668146,
          -0.35530102557145926,
          -0.33649981879080704,
          -0.31759146371431635,
          -0.2985808914211183,
          -0.27947317372573877,
          -0.26027352495870304,
          -0.24098730410087232,
          -0.22162001730148728,
          -0.20217732081076506,
          -0.1826650243589087,
          -0.1630890950144475,
          -0.14345566155586048,
          -0.12377101939167211,
          -0.10404163606526931,
          -0.08427415738192122,
          -0.06447541419656211,
          -0.044652429901999885,
          -0.024812428658119765,
          -0.004962844403412102,
          0.014888669309357769,
          0.03473422861140244,
          0.05456570770853613,
          0.07437472632362531,
          0.09415263615216214,
          0.11389050629514276,
          0.13357910763761868,
          0.1532088961471103,
          0.1727699950738386,
          0.1922521760450226,
          0.21164483905861114,
          0.23093699139858004,
          0.2501172255148121,
          0.26917369593660134,
          0.2880940953205555,
          0.3068656297724699,
          0.3254749936293103,
          0.3439083439431627,
          0.36215127497504884,
          0.38018879308388503,
          0.39800529248590955,
          0.4155845324634686,
          0.43290961671970185,
          0.4499629757078245,
          0.46672635290939946,
          0.48318079619423393,
          0.49930665556200393,
          0.515083588738064,
          0.5304905762665146,
          0.5455059479029962,
          0.5601074222458308,
          0.5742721616414678,
          0.5879768444399879,
          0.6011977566367,
          0.6139109047924983,
          0.626092151853158,
          0.6377173770619997,
          0.6487626605607103,
          0.6592044924869175,
          0.6690200054032646,
          0.6781872277466412,
          0.6866853547036744,
          0.6944950315586051,
          0.7015986432049819,
          0.7079806022669601,
          0.7136276272573092,
          0.718529001529203,
          0.7226768035682859,
          0.7260660995047179,
          0.7286950896443222,
          0.7305652023118389,
          0.7316811302970827,
          0.7320508075688374,
          0.7316818606246402,
          0.7305850605450644,
          0.7287776092243697,
          0.7262793487452576,
          0.723112483930379,
          0.7193012784564434,
          0.7148717348200467,
          0.7098512681587948,
          0.7042683831411537,
          0.6981523619643404,
          0.6915329700770821,
          0.6844401847056722,
          0.6769039497253541,
          0.6689539589785898,
          0.6606194688647866,
          0.651929139952446,
          0.6429109065114804,
          0.6335918722276752,
          0.6239982299267138,
          0.6141552028766981,
          0.6040870051259495,
          0.5938168183368069,
          0.5833667826670577,
          0.5727579994027092,
          0.5620105432370954,
          0.5511434823039055,
          0.5401749042917052,
          0.5291219471847125,
          0.5180008333815752,
          0.5068269061361472,
          0.4956146674389519,
          0.48437781661394935,
          0.47312928904239676,
          0.461881294544506,
          0.45064535505161457,
          0.43943234128799,
          0.42825250825383276,
          0.4171155293612178,
          0.4060305291240766,
          0.39500611434338384,
          0.3840504037609158,
          0.37317105618038526,
          0.3623752970745773,
          0.3516699437122564,
          0.3410614288499081,
          0.33055582304145237,
          0.32015885562466007,
          0.30987593444639927,
          0.2997121643907703,
          0.2896723647746031,
          0.2797610856744105,
          0.26998262324760597,
          0.2603410341089736,
          0.25084014882118566,
          0.24148358455559682,
          0.23227475697690858,
          0.223216891402426,
          0.21431303328382828,
          0.205566058056523,
          0.19697868039885125,
          0.1885534629407008,
          0.18029282445846684,
          0.1721990475907509,
          0.1642742861068207,
          0.15652057175754508,
          0.14893982073638223,
          0.14153383977595302,
          0.13430433190384117,
          0.12725290187946103,
          0.12038106133215853,
          0.1136902336191743,
          0.10718175842063238,
          0.10085689608733872,
          0.09471683175599466,
          0.08876267924517434,
          0.08299548474440255,
          0.07741623030764655,
          0.07202583716159838,
          0.0668251688382987,
          0.06181503414083722,
          0.056996189950137444,
          0.052369343880176444,
          0.0479351567883598,
          0.04369424514718201,
          0.03964718328280259,
          0.03579450548565566,
          0.03213670799777524,
          0.02867425088110226,
          0.02540755977064446,
          0.02233702751603789,
          0.019463015714674237,
          0.016785856139349298,
          0.014305852063004887,
          0.012023279482959615,
          0.009938388246757163,
          0.008051403081535596,
          0.006362524528598673,
          0.004871929784746792,
          0.003579773451652127,
          0.0024861881944665404,
          0.0015912853106656646,
          0.0008951552099444801,
          0.00039786780596658047,
          0.00009947282041948509,
          -8.16720580091893e-14,
          -0.0002946763283301153,
          -0.0011780675291490107,
          -0.002648355969101672,
          -0.004702526312646407,
          -0.0073363863227026704,
          -0.010544595493128528,
          -0.014320701042682016,
          -0.01865718069030975,
          -0.02354549153867519,
          -0.0289761243188425,
          -0.03493866219517261,
          -0.041421843296528094,
          -0.048413626126859954,
          -0.05590125701498194,
          -0.06387133878714979,
          -0.07230989988581471,
          -0.08120246321030589,
          -0.09053411401810474,
          -0.1002895662957457,
          -0.11045322708378025,
          -0.12100925831794018,
          -0.1319416358265626,
          -0.14323420520042462,
          -0.15487073432371967,
          -0.16683496242274354,
          -0.17911064555100265,
          -0.1916815984850918,
          -0.20453173305466849,
          -0.2176450929719131,
          -0.23100588526110777,
          -0.24459850841771907,
          -0.2584075774489699,
          -0.2724179459648174,
          -0.286614725500081,
          -0.3009833022557525,
          -0.3155093514508776,
          -0.3301788494762703,
          -0.344978084038566,
          -0.3598936624777966,
          -0.37491251843468215,
          -0.39002191703537636,
          -0.4052094587518261,
          -0.42046308208574135,
          -0.43577106521342635,
          -0.4511220267179298,
          -0.4665049255240626,
          -0.4819090601411517,
          -0.49732406730803114,
          -0.5127399201247189,
          -0.5281469257458014,
          -0.5435357227014651,
          -0.5588972779038129,
          -0.5742228833881966,
          -0.5895041528321724,
          -0.604733017888063,
          -0.6199017243591082,
          -0.6350028282438264,
          -0.6500291916683478,
          -0.6649739787222495,
          -0.6798306512096169,
          -0.6945929643238846,
          -0.7092549622521598,
          -0.7238109737124752,
          -0.7382556074254496,
          -0.7525837475203299,
          -0.7667905488742148,
          -0.7808714323824117,
          -0.7948220801573221,
          -0.8086384306529818,
          -0.8223166737123185,
          -0.8358532455343826,
          -0.849244823559153,
          -0.8624883212679949,
          -0.8755808828985606,
          -0.8885198780736004,
          -0.9013028963440177,
          -0.9139277416473952,
          -0.9263924266841391,
          -0.9386951672143313,
          -0.9508343762793471,
          -0.9628086583531814,
          -0.9746168034294062,
          -0.9862577810504125,
          -0.9977307342864917,
          -1.0090349736729487,
          -1.020169971114114,
          -1.0311353537636938,
          -1.0419308978912725,
          -1.0525565227452764,
          -1.063012284422866,
          -1.073298369757449,
          -1.0834150902345772,
          -1.0933628759469587,
          -1.103142269599226,
          -1.1127539205729051,
          -1.1221985790617288,
          -1.1314770902871396,
          -1.14059038880336,
          -1.1495394929009881,
          -1.1583254991174885,
          -1.1669495768624392,
          -1.1754129631647332,
          -1.1837169575483488,
          -1.1918629170425816,
          -1.199852251332031,
          -1.2076864180509106,
          -1.2153669182255395,
          -1.2228952918683145,
          -1.230273113725649,
          -1.237501989181837,
          -1.24458355032012,
          -1.2515194521416195,
          -1.258311368942263,
          -1.2649609908472828,
          -1.2714700205022809,
          -1.2778401699194961,
          -1.2840731574773754,
          -1.2901707050711515,
          -1.296134535411819,
          -1.301966369470502,
          -1.3076679240649274,
          -1.313240909584478,
          -1.3186870278500546,
          -1.324007970104737,
          -1.329205415131176,
          -1.334281027491403,
          -1.339236455884699,
          -1.3440733316190863,
          -1.3487932671919147,
          -1.3533978549750396,
          -1.3578886660000382,
          -1.3622672488389356,
          -1.3665351285759209,
          -1.370693805865662,
          -1.3747447560737485,
          -1.3786894284949935,
          -1.3825292456453426,
          -1.3862656026232343,
          -1.3898998665363957,
          -1.393433375990125,
          -1.3968674406332424,
          -1.4002033407580148,
          -1.4034423269504874,
          -1.4065856197877793,
          -1.4096344095789843,
          -1.4125898561465422,
          -1.4154530886449674,
          -1.4182252054140412,
          -1.4209072738636213,
          -1.4235003303874314,
          -1.42600538030323,
          -1.4284233978169716,
          -1.4307553260086072,
          -1.433002076837334,
          -1.4351645311642491,
          -1.4372435387903741,
          -1.4392399185082179,
          -1.441154458165136,
          -1.4429879147367628,
          -1.4447410144090254,
          -1.4464144526671912,
          -1.4480088943906466,
          -1.4495249739520248,
          -1.450963295319547,
          -1.45232443216138,
          -1.453608927950998,
          -1.4548172960725185,
          -1.4559500199251498,
          -1.4570075530258273,
          -1.457990319109331,
          -1.4588987122251063,
          -1.4597330968301407,
          -1.4604938078772753,
          -1.4611811508984196,
          -1.4617954020821438,
          -1.4623368083452093,
          -1.46280558739761,
          -1.4632019278008028,
          -1.4635259890187877,
          -1.4637779014617736,
          -1.4639577665222065,
          -1.4640656566029961,
          -1.4641016151377548
         ]
        },
        {
         "line": {
          "color": "purple",
          "width": 4
         },
         "mode": "lines",
         "type": "scatter",
         "x": [
          1,
          2,
          3,
          4,
          5,
          6,
          7,
          8,
          9,
          10,
          11,
          12,
          13,
          14,
          15,
          16,
          17,
          18,
          19,
          20,
          21,
          22,
          23,
          24,
          25,
          26,
          27,
          28,
          29,
          30,
          31,
          32,
          33,
          34,
          35,
          36,
          37,
          38,
          39,
          40,
          41,
          42,
          43,
          44,
          45,
          46,
          47,
          48,
          49,
          50,
          51,
          52,
          53,
          54,
          55,
          56,
          57,
          58,
          59,
          60,
          61,
          62,
          63,
          64,
          65,
          66,
          67,
          68,
          69,
          70,
          71,
          72,
          73,
          74,
          75,
          76,
          77,
          78,
          79,
          80,
          81,
          82,
          83,
          84,
          85,
          86,
          87,
          88,
          89,
          90,
          91,
          92,
          93,
          94,
          95,
          96,
          97,
          98,
          99,
          100,
          101,
          102,
          103,
          104,
          105,
          106,
          107,
          108,
          109,
          110,
          111,
          112,
          113,
          114,
          115,
          116,
          117,
          118,
          119,
          120,
          121,
          122,
          123,
          124,
          125,
          126,
          127,
          128,
          129,
          130,
          131,
          132,
          133,
          134,
          135,
          136,
          137,
          138,
          139,
          140,
          141,
          142,
          143,
          144,
          145,
          146,
          147,
          148,
          149,
          150,
          151,
          152,
          153,
          154,
          155,
          156,
          157,
          158,
          159,
          160,
          161,
          162,
          163,
          164,
          165,
          166,
          167,
          168,
          169,
          170,
          171,
          172,
          173,
          174,
          175,
          176,
          177,
          178,
          179,
          180,
          181,
          182,
          183,
          184,
          185,
          186,
          187,
          188,
          189,
          190,
          191,
          192,
          193,
          194,
          195,
          196,
          197,
          198,
          199,
          200,
          201,
          202,
          203,
          204,
          205,
          206,
          207,
          208,
          209,
          210,
          211,
          212,
          213,
          214,
          215,
          216,
          217,
          218,
          219,
          220,
          221,
          222,
          223,
          224,
          225,
          226,
          227,
          228,
          229,
          230,
          231,
          232,
          233,
          234,
          235,
          236,
          237,
          238,
          239,
          240,
          241,
          242,
          243,
          244,
          245,
          246,
          247,
          248,
          249,
          250,
          251,
          252,
          253,
          254,
          255,
          256,
          257,
          258,
          259,
          260,
          261,
          262,
          263,
          264,
          265,
          266,
          267,
          268,
          269,
          270,
          271,
          272,
          273,
          274,
          275,
          276,
          277,
          278,
          279,
          280,
          281,
          282,
          283,
          284,
          285,
          286,
          287,
          288,
          289,
          290,
          291,
          292,
          293,
          294,
          295,
          296,
          297,
          298,
          299,
          300,
          301,
          302,
          303,
          304,
          305,
          306,
          307,
          308,
          309,
          310,
          311,
          312,
          313,
          314,
          315,
          316,
          317,
          318,
          319,
          320,
          321,
          322,
          323,
          324,
          325,
          326,
          327,
          328,
          329,
          330,
          331,
          332,
          333,
          334,
          335,
          336,
          337,
          338,
          339,
          340,
          341,
          342,
          343,
          344,
          345,
          346,
          347,
          348,
          349,
          350,
          351,
          352,
          353,
          354,
          355,
          356,
          357,
          358,
          359,
          360,
          361,
          362,
          363,
          364,
          365,
          366,
          367,
          368,
          369,
          370,
          371,
          372,
          373,
          374,
          375,
          376,
          377,
          378,
          379,
          380,
          381,
          382,
          383,
          384,
          385,
          386,
          387,
          388,
          389,
          390,
          391,
          392,
          393,
          394,
          395,
          396,
          397,
          398,
          399,
          400,
          401,
          402,
          403,
          404,
          405,
          406,
          407,
          408,
          409,
          410,
          411,
          412,
          413,
          414,
          415,
          416,
          417,
          418,
          419,
          420,
          421,
          422,
          423,
          424,
          425,
          426,
          427,
          428,
          429,
          430,
          431,
          432,
          433,
          434,
          435,
          436,
          437,
          438,
          439,
          440,
          441,
          442,
          443,
          444,
          445,
          446,
          447,
          448,
          449,
          450,
          451,
          452,
          453,
          454,
          455,
          456,
          457,
          458,
          459,
          460,
          461,
          462,
          463,
          464,
          465,
          466,
          467,
          468,
          469,
          470,
          471,
          472,
          473,
          474,
          475,
          476,
          477,
          478,
          479,
          480,
          481,
          482,
          483,
          484,
          485,
          486,
          487,
          488,
          489,
          490,
          491,
          492,
          493,
          494,
          495,
          496,
          497,
          498,
          499,
          500
         ],
         "y": [
          5.464101615137757,
          5.46396702686472,
          5.463563276606605,
          5.462890408045418,
          5.461948493981201,
          5.460737636327131,
          5.459257966102596,
          5.457509643424362,
          5.455492857495729,
          5.453207826593777,
          5.450654798054637,
          5.447834048256831,
          5.4447458826026764,
          5.441390635497776,
          5.437768670328591,
          5.433880379438119,
          5.429726184099669,
          5.425306534488797,
          5.420621909653345,
          5.415672817481674,
          5.4104597946690465,
          5.404983406682218,
          5.399244247722233,
          5.393242940685477,
          5.386980137122949,
          5.380456517197864,
          5.373672789641516,
          5.36662969170751,
          5.359327989124322,
          5.351768476046293,
          5.343951975002987,
          5.3358793368470465,
          5.32755144070053,
          5.318969193899748,
          5.310133531938684,
          5.301045418411001,
          5.291705844950698,
          5.282115831171432,
          5.272276424604601,
          5.262188700636155,
          5.2518537624422805,
          5.241272740923919,
          5.230446794640253,
          5.219377109741121,
          5.208064899898554,
          5.1965114062373345,
          5.184717897264792,
          5.172685668799789,
          5.160416043901023,
          5.147910372794724,
          5.135170032801793,
          5.12219642826446,
          5.108990990472579,
          5.095555177589621,
          5.081890474578473,
          5.067998393127083,
          5.0538804715741605,
          5.039538274834902,
          5.024973394326975,
          5.010187447896777,
          4.9951820797461455,
          4.97995896035964,
          4.96451978643247,
          4.948866280799303,
          4.933000192363998,
          4.916923296030488,
          4.900637392634922,
          4.884144308879242,
          4.867445897266409,
          4.850544036037381,
          4.8334406291101075,
          4.816137606020699,
          4.798636921867002,
          4.780940557254768,
          4.763050518246717,
          4.744968836314654,
          4.726697568294949,
          4.7082387963476435,
          4.689594627919475,
          4.670767195711065,
          4.651758657648685,
          4.632571196860818,
          4.613207021659978,
          4.593668365530061,
          4.573957487119688,
          4.554076670241907,
          4.534028223880707,
          4.513814482204829,
          4.493437804589284,
          4.472900575645188,
          4.452205205258368,
          4.431354128637395,
          4.410349806371567,
          4.389194724499564,
          4.367891394589407,
          4.346442353830442,
          4.324850165138169,
          4.303117417272656,
          4.281246724971449,
          4.2592407290978676,
          4.237102096805685,
          4.214833521721185,
          4.192437724143726,
          4.169917451265964,
          4.147275477414979,
          4.124514604315598,
          4.101637661377382,
          4.078647506006688,
          4.0555470239454685,
          4.032339129638476,
          4.00902676663066,
          3.985612907996744,
          3.9621005568049794,
          3.9384927466173068,
          3.9147925420282768,
          3.891003039245186,
          3.8671273667121904,
          3.843168685781148,
          3.8191301914323548,
          3.79501511304837,
          3.770826715244455,
          3.7465682987593927,
          3.722243201410648,
          3.6978547991182182,
          3.6734065070017357,
          3.6489017805557453,
          3.6243441169084827,
          3.599737056169764,
          3.5750841828740914,
          3.5503891275254778,
          3.5256555682509627,
          3.500887232570327,
          3.4760878992900466,
          3.451261400530101,
          3.426411623892893,
          3.401542514784238,
          3.376658078897047,
          3.3517623848691835,
          3.326859567127726,
          3.301953828932831,
          3.277049445635311,
          3.2521507681630464,
          3.227262226752463,
          3.202388334942461,
          3.17753369384934,
          3.1527029967426783,
          3.127901033943358,
          3.103132698066452,
          3.07840298963315,
          3.053717023077485,
          3.0290800331752123,
          3.004497381923888,
          2.9799745659048433,
          2.955517224159494,
          2.931131146614071,
          2.9068222830884984,
          2.882596752926724,
          2.8584608552871225,
          2.83442108013289,
          2.8104841199631174,
          2.786656882325841,
          2.762946503154275,
          2.7393603609667916,
          2.715906091969636,
          2.692591606098811,
          2.669425104033584,
          2.6464150952085057,
          2.62357041684324,
          2.600900253999436,
          2.57841416066085,
          2.556122081816383,
          2.534034376504831,
          2.5121618417543314,
          2.4905157373177387,
          2.4691078110665066,
          2.4479503248591143,
          2.4270560806443586,
          2.406438446493901,
          2.386111382181017,
          2.3660894638324987,
          2.346387907077086,
          2.3270225879961135,
          2.3080100610499565,
          2.2893675730080307,
          2.2711130717519414,
          2.253265208653815,
          2.235843333059448,
          2.218867477235293,
          2.202358329978842,
          2.1863371969557543,
          2.1708259457297436,
          2.155846933411324,
          2.141422914891273,
          2.127576929767915,
          2.1143321663498154,
          2.101711801541169,
          2.08973881601676,
          2.0784357848795207,
          2.067824644967514,
          2.0579264411232505,
          2.0487610550207176,
          2.0403469215054657,
          2.0327007387577547,
          2.025837179834372,
          2.019768614163365,
          2.014504848235976,
          2.010052894950579,
          2.006416780730169,
          2.0035973986155984,
          2.001592414042712,
          2.0003962280138494,
          2.000000000000044,
          2.00039544521518,
          2.0015711261448423,
          2.0035089179032597,
          2.006188053495996,
          2.009585400884959,
          2.0136757664961453,
          2.0184322148821696,
          2.023826394537015,
          2.029828860650726,
          2.036409386765745,
          2.0435372587191396,
          2.0511815457933045,
          2.059311345534154,
          2.0678960001362046,
          2.076905283571018,
          2.0863095597089436,
          2.0960799125374114,
          2.1061882502146947,
          2.1166073851326295,
          2.1273110924202614,
          2.1382741494324593,
          2.1494723587636204,
          2.1608825572356354,
          2.1724826131571597,
          2.184251413959933,
          2.1961688461052704,
          2.208215768933801,
          2.2203739839143206,
          2.232626200540597,
          2.2449559999326514,
          2.2573477970243427,
          2.2697868020630447,
          2.282258982010065,
          2.294751022311393,
          2.3072502894063747,
          2.3197447942554343,
          2.332223157095398,
          2.3446745735708507,
          2.3570887823404427,
          2.3694560342169653,
          2.3817670628677665,
          2.3940130570765654,
          2.406185634547811,
          2.4182768172195668,
          2.430279008039512,
          2.442184969150503,
          2.4539878014265253,
          2.465680925296313,
          2.4772580627900416,
          2.4887132207438944,
          2.5000406750976936,
          2.511234956221999,
          2.522290835212808,
          2.533203311094154,
          2.543967598871375,
          2.554579118380455,
          2.565033483881591,
          2.5753264943479377,
          2.5854541244032725,
          2.5954125158650583,
          2.6051979698520746,
          2.61480693941835,
          2.6242360226776533,
          2.6334819563851046,
          2.6425416099447836,
          2.6514119798142954,
          2.660090184279285,
          2.66857345857276,
          2.6768591503158707,
          2.6849447152584527,
          2.692827713299148,
          2.700505804766449,
          2.707976746943271,
          2.715238390818963,
          2.722288678053833,
          2.7291256381423583,
          2.7357473857622137,
          2.742152118297271,
          2.748338113523529,
          2.7543037274477884,
          2.7600473922896054,
          2.765567614597804,
          2.770862973493437,
          2.77593211903172,
          2.7807737706760225,
          2.785386715877514,
          2.78976980875458,
          2.7939219688665538,
          2.797842180076748,
          2.8015294895001936,
          2.8049830065318098,
          2.8082019019511595,
          2.8111854071001976,
          2.813932813130787,
          2.816443470319025,
          2.8187167874436994,
          2.8207522312264754,
          2.8225493258316283,
          2.8241076524234305,
          2.8254268487794727,
          2.826506608958457,
          2.827346683021196,
          2.8279468768037668,
          2.828307051741946,
          2.8284271247462884,
          2.8287828420544745,
          2.829849362143432,
          2.8316249041288417,
          2.8341065138022072,
          2.83729008424961,
          2.8411703842292404,
          2.8457410938368515,
          2.8509948468784603,
          2.8569232792765673,
          2.863517082762095,
          2.8707660630502554,
          2.8786592016655828,
          2.8871847205681718,
          2.8963301487399553,
          2.9060823899135135,
          2.916427790665721,
          2.927352208150819,
          2.9388410768105047,
          2.9508794734689405,
          2.9634521802960982,
          2.9765437452005723,
          2.990138539291029,
          3.004220811121676,
          3.018774737509806,
          3.0337844707815464,
          3.0492341823642044,
          3.065108102699524,
          3.081390557501355,
          3.0980660004236094,
          3.115119042239927,
          3.1325344766655614,
          3.150297302974989,
          3.168392745586069,
          3.186806270793848,
          3.205523600844875,
          3.224530725546673,
          3.2438139116075226,
          3.263359709899345,
          3.28315496083186,
          3.30318679801965,
          3.323442650415994,
          3.3439102430782883,
          3.364577596720331,
          3.385433026196644,
          3.4064651380537088,
          3.427662827272777,
          3.449015273318726,
          3.4705119355996157,
          3.4921425484320996,
          3.513897115598793,
          3.5357659045751464,
          3.5577394404953595,
          3.579808499919307,
          3.6019641044555613,
          3.6241975142891194,
          3.646500221656578,
          3.668863944306093,
          3.6912806189745506,
          3.7137423949099237,
          3.7362416274628085,
          3.758770871767447,
          3.7813228765293876,
          3.803890577933948,
          3.8264670936871767,
          3.8490457171986265,
          3.871619911913288,
          3.8941833057982542,
          3.9167296859881278,
          3.9392529935917917,
          3.9617473186620593,
          3.9842068953286214,
          4.006626097093881,
          4.028999432290502,
          4.051321539698885,
          4.073587184322209,
          4.095791253316275,
          4.117928752071027,
          4.139994800440276,
          4.161984629116001,
          4.183893576143354,
          4.205717083572396,
          4.227450694242497,
          4.249090048695267,
          4.270630882211844,
          4.292069021970413,
          4.313400384319799,
          4.334620972165008,
          4.355726872460731,
          4.376714253808762,
          4.397579364155486,
          4.4183185285855835,
          4.438928147208252,
          4.459404693132307,
          4.47974471052665,
          4.499944812762685,
          4.520001680635366,
          4.539912060659694,
          4.559672763439554,
          4.579280662105905,
          4.598732690821454,
          4.61802584334905,
          4.637157171681095,
          4.656123784727452,
          4.674922847059343,
          4.693551577706872,
          4.712007249007935,
          4.730287185506285,
          4.748388762896667,
          4.766309407015056,
          4.784046592871997,
          4.801597843727303,
          4.818960730204219,
          4.83613286944148,
          4.853111924281585,
          4.869895602493708,
          4.886481656029833,
          4.902867880312633,
          4.919052113553785,
          4.9350322361013585,
          4.950806169815092,
          4.966371877468352,
          4.981727362175619,
          4.996870666844433,
          5.011799873650762,
          5.02651310353678,
          5.041008515730136,
          5.0552843072837526,
          5.069338712635361,
          5.083170003185884,
          5.096776486895892,
          5.1101565078993625,
          5.123308446134074,
          5.136230716987853,
          5.148921770960074,
          5.161380093337778,
          5.17360420388578,
          5.185592656550191,
          5.1973440391748404,
          5.208856973230008,
          5.220130113553036,
          5.231162148100245,
          5.24195179770983,
          5.252497815875131,
          5.262798988528016,
          5.272854133831856,
          5.282662101983799,
          5.2922217750259115,
          5.3015320666648655,
          5.310591922099859,
          5.319400317858432,
          5.327956261639848,
          5.3362587921658164,
          5.344306979038237,
          5.352099922603699,
          5.359636753824522,
          5.3669166341560794,
          5.373938755430167,
          5.380702339744226,
          5.387206639356214,
          5.393450936584907,
          5.39943454371548,
          5.405156802910185,
          5.4106170861239375,
          5.415814795024674,
          5.420749360918382,
          5.425420244678548,
          5.4298269366800245,
          5.433968956737095,
          5.437845854045689,
          5.441457207129591,
          5.444802623790586,
          5.447881741062436,
          5.450694225168559,
          5.453239771483431,
          5.455518104497526,
          5.457528977785829,
          5.459272173979784,
          5.4607475047426774,
          5.461954810748408,
          5.462893961663554,
          5.463564856132773,
          5.4639674217674825,
          5.464101615137757
         ]
        }
       ],
       "frames": [],
       "layout": {
        "height": 510,
        "margin": {
         "b": 50,
         "l": 50,
         "r": 50,
         "t": 60
        },
        "plot_bgcolor": "rgba(0,0,0,0)",
        "showlegend": false,
        "template": {
         "data": {
          "bar": [
           {
            "error_x": {
             "color": "#2a3f5f"
            },
            "error_y": {
             "color": "#2a3f5f"
            },
            "marker": {
             "line": {
              "color": "#E5ECF6",
              "width": 0.5
             }
            },
            "type": "bar"
           }
          ],
          "barpolar": [
           {
            "marker": {
             "line": {
              "color": "#E5ECF6",
              "width": 0.5
             }
            },
            "type": "barpolar"
           }
          ],
          "carpet": [
           {
            "aaxis": {
             "endlinecolor": "#2a3f5f",
             "gridcolor": "white",
             "linecolor": "white",
             "minorgridcolor": "white",
             "startlinecolor": "#2a3f5f"
            },
            "baxis": {
             "endlinecolor": "#2a3f5f",
             "gridcolor": "white",
             "linecolor": "white",
             "minorgridcolor": "white",
             "startlinecolor": "#2a3f5f"
            },
            "type": "carpet"
           }
          ],
          "choropleth": [
           {
            "colorbar": {
             "outlinewidth": 0,
             "ticks": ""
            },
            "type": "choropleth"
           }
          ],
          "contour": [
           {
            "colorbar": {
             "outlinewidth": 0,
             "ticks": ""
            },
            "colorscale": [
             [
              0,
              "#0d0887"
             ],
             [
              0.1111111111111111,
              "#46039f"
             ],
             [
              0.2222222222222222,
              "#7201a8"
             ],
             [
              0.3333333333333333,
              "#9c179e"
             ],
             [
              0.4444444444444444,
              "#bd3786"
             ],
             [
              0.5555555555555556,
              "#d8576b"
             ],
             [
              0.6666666666666666,
              "#ed7953"
             ],
             [
              0.7777777777777778,
              "#fb9f3a"
             ],
             [
              0.8888888888888888,
              "#fdca26"
             ],
             [
              1,
              "#f0f921"
             ]
            ],
            "type": "contour"
           }
          ],
          "contourcarpet": [
           {
            "colorbar": {
             "outlinewidth": 0,
             "ticks": ""
            },
            "type": "contourcarpet"
           }
          ],
          "heatmap": [
           {
            "colorbar": {
             "outlinewidth": 0,
             "ticks": ""
            },
            "colorscale": [
             [
              0,
              "#0d0887"
             ],
             [
              0.1111111111111111,
              "#46039f"
             ],
             [
              0.2222222222222222,
              "#7201a8"
             ],
             [
              0.3333333333333333,
              "#9c179e"
             ],
             [
              0.4444444444444444,
              "#bd3786"
             ],
             [
              0.5555555555555556,
              "#d8576b"
             ],
             [
              0.6666666666666666,
              "#ed7953"
             ],
             [
              0.7777777777777778,
              "#fb9f3a"
             ],
             [
              0.8888888888888888,
              "#fdca26"
             ],
             [
              1,
              "#f0f921"
             ]
            ],
            "type": "heatmap"
           }
          ],
          "heatmapgl": [
           {
            "colorbar": {
             "outlinewidth": 0,
             "ticks": ""
            },
            "colorscale": [
             [
              0,
              "#0d0887"
             ],
             [
              0.1111111111111111,
              "#46039f"
             ],
             [
              0.2222222222222222,
              "#7201a8"
             ],
             [
              0.3333333333333333,
              "#9c179e"
             ],
             [
              0.4444444444444444,
              "#bd3786"
             ],
             [
              0.5555555555555556,
              "#d8576b"
             ],
             [
              0.6666666666666666,
              "#ed7953"
             ],
             [
              0.7777777777777778,
              "#fb9f3a"
             ],
             [
              0.8888888888888888,
              "#fdca26"
             ],
             [
              1,
              "#f0f921"
             ]
            ],
            "type": "heatmapgl"
           }
          ],
          "histogram": [
           {
            "marker": {
             "colorbar": {
              "outlinewidth": 0,
              "ticks": ""
             }
            },
            "type": "histogram"
           }
          ],
          "histogram2d": [
           {
            "colorbar": {
             "outlinewidth": 0,
             "ticks": ""
            },
            "colorscale": [
             [
              0,
              "#0d0887"
             ],
             [
              0.1111111111111111,
              "#46039f"
             ],
             [
              0.2222222222222222,
              "#7201a8"
             ],
             [
              0.3333333333333333,
              "#9c179e"
             ],
             [
              0.4444444444444444,
              "#bd3786"
             ],
             [
              0.5555555555555556,
              "#d8576b"
             ],
             [
              0.6666666666666666,
              "#ed7953"
             ],
             [
              0.7777777777777778,
              "#fb9f3a"
             ],
             [
              0.8888888888888888,
              "#fdca26"
             ],
             [
              1,
              "#f0f921"
             ]
            ],
            "type": "histogram2d"
           }
          ],
          "histogram2dcontour": [
           {
            "colorbar": {
             "outlinewidth": 0,
             "ticks": ""
            },
            "colorscale": [
             [
              0,
              "#0d0887"
             ],
             [
              0.1111111111111111,
              "#46039f"
             ],
             [
              0.2222222222222222,
              "#7201a8"
             ],
             [
              0.3333333333333333,
              "#9c179e"
             ],
             [
              0.4444444444444444,
              "#bd3786"
             ],
             [
              0.5555555555555556,
              "#d8576b"
             ],
             [
              0.6666666666666666,
              "#ed7953"
             ],
             [
              0.7777777777777778,
              "#fb9f3a"
             ],
             [
              0.8888888888888888,
              "#fdca26"
             ],
             [
              1,
              "#f0f921"
             ]
            ],
            "type": "histogram2dcontour"
           }
          ],
          "mesh3d": [
           {
            "colorbar": {
             "outlinewidth": 0,
             "ticks": ""
            },
            "type": "mesh3d"
           }
          ],
          "parcoords": [
           {
            "line": {
             "colorbar": {
              "outlinewidth": 0,
              "ticks": ""
             }
            },
            "type": "parcoords"
           }
          ],
          "pie": [
           {
            "automargin": true,
            "type": "pie"
           }
          ],
          "scatter": [
           {
            "marker": {
             "colorbar": {
              "outlinewidth": 0,
              "ticks": ""
             }
            },
            "type": "scatter"
           }
          ],
          "scatter3d": [
           {
            "line": {
             "colorbar": {
              "outlinewidth": 0,
              "ticks": ""
             }
            },
            "marker": {
             "colorbar": {
              "outlinewidth": 0,
              "ticks": ""
             }
            },
            "type": "scatter3d"
           }
          ],
          "scattercarpet": [
           {
            "marker": {
             "colorbar": {
              "outlinewidth": 0,
              "ticks": ""
             }
            },
            "type": "scattercarpet"
           }
          ],
          "scattergeo": [
           {
            "marker": {
             "colorbar": {
              "outlinewidth": 0,
              "ticks": ""
             }
            },
            "type": "scattergeo"
           }
          ],
          "scattergl": [
           {
            "marker": {
             "colorbar": {
              "outlinewidth": 0,
              "ticks": ""
             }
            },
            "type": "scattergl"
           }
          ],
          "scattermapbox": [
           {
            "marker": {
             "colorbar": {
              "outlinewidth": 0,
              "ticks": ""
             }
            },
            "type": "scattermapbox"
           }
          ],
          "scatterpolar": [
           {
            "marker": {
             "colorbar": {
              "outlinewidth": 0,
              "ticks": ""
             }
            },
            "type": "scatterpolar"
           }
          ],
          "scatterpolargl": [
           {
            "marker": {
             "colorbar": {
              "outlinewidth": 0,
              "ticks": ""
             }
            },
            "type": "scatterpolargl"
           }
          ],
          "scatterternary": [
           {
            "marker": {
             "colorbar": {
              "outlinewidth": 0,
              "ticks": ""
             }
            },
            "type": "scatterternary"
           }
          ],
          "surface": [
           {
            "colorbar": {
             "outlinewidth": 0,
             "ticks": ""
            },
            "colorscale": [
             [
              0,
              "#0d0887"
             ],
             [
              0.1111111111111111,
              "#46039f"
             ],
             [
              0.2222222222222222,
              "#7201a8"
             ],
             [
              0.3333333333333333,
              "#9c179e"
             ],
             [
              0.4444444444444444,
              "#bd3786"
             ],
             [
              0.5555555555555556,
              "#d8576b"
             ],
             [
              0.6666666666666666,
              "#ed7953"
             ],
             [
              0.7777777777777778,
              "#fb9f3a"
             ],
             [
              0.8888888888888888,
              "#fdca26"
             ],
             [
              1,
              "#f0f921"
             ]
            ],
            "type": "surface"
           }
          ],
          "table": [
           {
            "cells": {
             "fill": {
              "color": "#EBF0F8"
             },
             "line": {
              "color": "white"
             }
            },
            "header": {
             "fill": {
              "color": "#C8D4E3"
             },
             "line": {
              "color": "white"
             }
            },
            "type": "table"
           }
          ]
         },
         "layout": {
          "annotationdefaults": {
           "arrowcolor": "#2a3f5f",
           "arrowhead": 0,
           "arrowwidth": 1
          },
          "autotypenumbers": "strict",
          "coloraxis": {
           "colorbar": {
            "outlinewidth": 0,
            "ticks": ""
           }
          },
          "colorscale": {
           "diverging": [
            [
             0,
             "#8e0152"
            ],
            [
             0.1,
             "#c51b7d"
            ],
            [
             0.2,
             "#de77ae"
            ],
            [
             0.3,
             "#f1b6da"
            ],
            [
             0.4,
             "#fde0ef"
            ],
            [
             0.5,
             "#f7f7f7"
            ],
            [
             0.6,
             "#e6f5d0"
            ],
            [
             0.7,
             "#b8e186"
            ],
            [
             0.8,
             "#7fbc41"
            ],
            [
             0.9,
             "#4d9221"
            ],
            [
             1,
             "#276419"
            ]
           ],
           "sequential": [
            [
             0,
             "#0d0887"
            ],
            [
             0.1111111111111111,
             "#46039f"
            ],
            [
             0.2222222222222222,
             "#7201a8"
            ],
            [
             0.3333333333333333,
             "#9c179e"
            ],
            [
             0.4444444444444444,
             "#bd3786"
            ],
            [
             0.5555555555555556,
             "#d8576b"
            ],
            [
             0.6666666666666666,
             "#ed7953"
            ],
            [
             0.7777777777777778,
             "#fb9f3a"
            ],
            [
             0.8888888888888888,
             "#fdca26"
            ],
            [
             1,
             "#f0f921"
            ]
           ],
           "sequentialminus": [
            [
             0,
             "#0d0887"
            ],
            [
             0.1111111111111111,
             "#46039f"
            ],
            [
             0.2222222222222222,
             "#7201a8"
            ],
            [
             0.3333333333333333,
             "#9c179e"
            ],
            [
             0.4444444444444444,
             "#bd3786"
            ],
            [
             0.5555555555555556,
             "#d8576b"
            ],
            [
             0.6666666666666666,
             "#ed7953"
            ],
            [
             0.7777777777777778,
             "#fb9f3a"
            ],
            [
             0.8888888888888888,
             "#fdca26"
            ],
            [
             1,
             "#f0f921"
            ]
           ]
          },
          "colorway": [
           "#636efa",
           "#EF553B",
           "#00cc96",
           "#ab63fa",
           "#FFA15A",
           "#19d3f3",
           "#FF6692",
           "#B6E880",
           "#FF97FF",
           "#FECB52"
          ],
          "font": {
           "color": "#2a3f5f"
          },
          "geo": {
           "bgcolor": "white",
           "lakecolor": "white",
           "landcolor": "#E5ECF6",
           "showlakes": true,
           "showland": true,
           "subunitcolor": "white"
          },
          "hoverlabel": {
           "align": "left"
          },
          "hovermode": "closest",
          "mapbox": {
           "style": "light"
          },
          "paper_bgcolor": "white",
          "plot_bgcolor": "#E5ECF6",
          "polar": {
           "angularaxis": {
            "gridcolor": "white",
            "linecolor": "white",
            "ticks": ""
           },
           "bgcolor": "#E5ECF6",
           "radialaxis": {
            "gridcolor": "white",
            "linecolor": "white",
            "ticks": ""
           }
          },
          "scene": {
           "xaxis": {
            "backgroundcolor": "#E5ECF6",
            "gridcolor": "white",
            "gridwidth": 2,
            "linecolor": "white",
            "showbackground": true,
            "ticks": "",
            "zerolinecolor": "white"
           },
           "yaxis": {
            "backgroundcolor": "#E5ECF6",
            "gridcolor": "white",
            "gridwidth": 2,
            "linecolor": "white",
            "showbackground": true,
            "ticks": "",
            "zerolinecolor": "white"
           },
           "zaxis": {
            "backgroundcolor": "#E5ECF6",
            "gridcolor": "white",
            "gridwidth": 2,
            "linecolor": "white",
            "showbackground": true,
            "ticks": "",
            "zerolinecolor": "white"
           }
          },
          "shapedefaults": {
           "line": {
            "color": "#2a3f5f"
           }
          },
          "ternary": {
           "aaxis": {
            "gridcolor": "white",
            "linecolor": "white",
            "ticks": ""
           },
           "baxis": {
            "gridcolor": "white",
            "linecolor": "white",
            "ticks": ""
           },
           "bgcolor": "#E5ECF6",
           "caxis": {
            "gridcolor": "white",
            "linecolor": "white",
            "ticks": ""
           }
          },
          "title": {
           "x": 0.05
          },
          "xaxis": {
           "automargin": true,
           "gridcolor": "white",
           "linecolor": "white",
           "ticks": "",
           "title": {
            "standoff": 15
           },
           "zerolinecolor": "white",
           "zerolinewidth": 2
          },
          "yaxis": {
           "automargin": true,
           "gridcolor": "white",
           "linecolor": "white",
           "ticks": "",
           "title": {
            "standoff": 15
           },
           "zerolinecolor": "white",
           "zerolinewidth": 2
          }
         }
        },
        "title": "Nearest neighbor model with nearest spin-orbit coupling",
        "width": 510,
        "xaxis": {
         "linecolor": "black",
         "linewidth": 5,
         "mirror": true,
         "showgrid": true,
         "showline": true,
         "showticklabels": false
        },
        "yaxis": {
         "linecolor": "black",
         "linewidth": 5,
         "mirror": true,
         "showgrid": true,
         "showline": true,
         "showticklabels": true
        }
       }
      },
      "image/png": "[encoded data removed]",
      "image/svg+xml": [
       "<svg class=\"main-svg\" xmlns=\"http://www.w3.org/2000/svg\" xmlns:xlink=\"http://www.w3.org/1999/xlink\" width=\"700\" height=\"500\" style=\"\" viewBox=\"0 0 700 500\"><rect x=\"0\" y=\"0\" width=\"700\" height=\"500\" style=\"fill: rgb(255, 255, 255); fill-opacity: 1;\"/><defs id=\"defs-31595e\"><g class=\"clips\"><clipPath id=\"clip31595exyplot\" class=\"plotclip\"><rect width=\"600\" height=\"390\"/></clipPath><clipPath class=\"axesclip\" id=\"clip31595ex\"><rect x=\"50\" y=\"0\" width=\"600\" height=\"500\"/></clipPath><clipPath class=\"axesclip\" id=\"clip31595ey\"><rect x=\"0\" y=\"60\" width=\"700\" height=\"390\"/></clipPath><clipPath class=\"axesclip\" id=\"clip31595exy\"><rect x=\"50\" y=\"60\" width=\"600\" height=\"390\"/></clipPath></g><g class=\"gradients\"/><g class=\"patterns\"/></defs><g class=\"bglayer\"><rect class=\"bg\" x=\"50\" y=\"60\" width=\"600\" height=\"390\" style=\"fill: rgb(0, 0, 0); fill-opacity: 0; stroke-width: 0;\"/></g><g class=\"layer-below\"><g class=\"imagelayer\"/><g class=\"shapelayer\"/></g><g class=\"cartesianlayer\"><g class=\"subplot xy\"><g class=\"layer-subplot\"><g class=\"shapelayer\"/><g class=\"imagelayer\"/></g><g class=\"gridlayer\"><g class=\"x\"><path class=\"xgrid crisp\" transform=\"translate(169.04000000000002,0)\" d=\"M0,60v390\" style=\"stroke: rgb(255, 255, 255); stroke-opacity: 1; stroke-width: 1px;\"/><path class=\"xgrid crisp\" transform=\"translate(289.28,0)\" d=\"M0,60v390\" style=\"stroke: rgb(255, 255, 255); stroke-opacity: 1; stroke-width: 1px;\"/><path class=\"xgrid crisp\" transform=\"translate(409.52,0)\" d=\"M0,60v390\" style=\"stroke: rgb(255, 255, 255); stroke-opacity: 1; stroke-width: 1px;\"/><path class=\"xgrid crisp\" transform=\"translate(529.76,0)\" d=\"M0,60v390\" style=\"stroke: rgb(255, 255, 255); stroke-opacity: 1; stroke-width: 1px;\"/></g><g class=\"y\"><path class=\"ygrid crisp\" transform=\"translate(0,430.5)\" d=\"M50,0h600\" style=\"stroke: rgb(255, 255, 255); stroke-opacity: 1; stroke-width: 1px;\"/><path class=\"ygrid crisp\" transform=\"translate(0,356.32)\" d=\"M50,0h600\" style=\"stroke: rgb(255, 255, 255); stroke-opacity: 1; stroke-width: 1px;\"/><path class=\"ygrid crisp\" transform=\"translate(0,207.97)\" d=\"M50,0h600\" style=\"stroke: rgb(255, 255, 255); stroke-opacity: 1; stroke-width: 1px;\"/><path class=\"ygrid crisp\" transform=\"translate(0,133.8)\" d=\"M50,0h600\" style=\"stroke: rgb(255, 255, 255); stroke-opacity: 1; stroke-width: 1px;\"/></g></g><g class=\"zerolinelayer\"><path class=\"yzl zl crisp\" transform=\"translate(0,282.15)\" d=\"M50,0h600\" style=\"stroke: rgb(255, 255, 255); stroke-opacity: 1; stroke-width: 2px;\"/></g><path class=\"xlines-below\"/><path class=\"ylines-below\"/><g class=\"overlines-below\"/><g class=\"xaxislayer-below\"/><g class=\"yaxislayer-below\"/><g class=\"overaxes-below\"/><g class=\"plot\" transform=\"translate(50,60)\" clip-path=\"url(#clip31595exyplot)\"><g class=\"scatterlayer mlayer\"><g class=\"trace scatter trace5c9ba1\" style=\"stroke-miterlimit: 2; opacity: 1;\"><g class=\"fills\"/><g class=\"errorbars\"/><g class=\"lines\"><path class=\"js-line\" d=\"M0,370.5L19.24,369.57L20.44,369.45L39.68,366.63L40.88,366.4L64.93,360.62L66.13,360.28L104.61,348.04L105.81,347.65L143.09,336.27L144.29,335.95L170.74,330.06L171.94,329.84L199.6,325.98L200.8,325.86L229.66,323.91L230.86,323.87L262.12,323.52L263.33,323.54L306.61,324.88L307.82,324.93L381.16,327.05L382.36,327.06L407.62,328.26L408.82,328.37L432.87,331.55L434.07,331.76L456.91,336.68L458.12,336.99L486.97,345.43L488.18,345.82L544.69,363.2L545.89,363.49L567.54,367.89L568.74,368.08L589.18,370.21L590.38,370.27L600,370.5\" style=\"vector-effect: non-scaling-stroke; fill: none; stroke: rgb(128, 0, 128); stroke-opacity: 1; stroke-width: 4px; opacity: 1;\"/></g><g class=\"points\"/><g class=\"text\"/></g><g class=\"trace scatter trace12ec01\" style=\"stroke-miterlimit: 2; opacity: 1;\"><g class=\"fills\"/><g class=\"errorbars\"/><g class=\"lines\"><path class=\"js-line\" d=\"M0,276.45L32.46,275.45L33.67,275.37L62.53,272.5L63.73,272.33L87.78,268L88.98,267.73L111.82,261.42L113.03,261.02L133.47,253.18L134.67,252.66L157.52,241.4L158.72,240.74L188.78,223.07L189.98,222.33L222.44,203.63L223.65,203.05L236.87,197.7L238.08,197.34L248.9,195.22L250.1,195.12L260.92,195.47L262.12,195.64L274.15,198.31L275.35,198.65L304.21,208.31L305.41,208.71L329.46,215.76L330.66,216.06L352.3,220.21L353.51,220.37L372.75,222.02L373.95,222.06L393.19,223.45L394.39,223.69L407.62,227.46L408.82,227.89L429.26,236.61L430.46,237.18L474.95,256.96L476.15,257.41L496.59,264.11L497.8,264.45L520.64,269.77L521.84,270L548.3,273.83L549.5,273.96L580.76,276.11L581.96,276.15L600,276.45\" style=\"vector-effect: non-scaling-stroke; fill: none; stroke: rgb(128, 0, 128); stroke-opacity: 1; stroke-width: 4px; opacity: 1;\"/></g><g class=\"points\"/><g class=\"text\"/></g><g class=\"trace scatter trace687210\" style=\"stroke-miterlimit: 2; opacity: 1;\"><g class=\"fills\"/><g class=\"errorbars\"/><g class=\"lines\"><path class=\"js-line\" d=\"M0,19.5L16.83,20.48L18.04,20.62L34.87,23.67L36.07,23.96L54.11,29.42L55.31,29.86L74.55,38.03L75.75,38.61L97.39,50.34L98.6,51.06L121.44,65.83L122.65,66.66L156.31,91.39L157.52,92.31L206.81,128.98L208.02,129.78L224.85,139.86L226.05,140.47L238.08,145.46L239.28,145.83L248.9,147.74L250.1,147.84L259.72,147.62L260.92,147.47L272.95,144.77L274.15,144.41L293.39,137.51L294.59,137.04L328.26,125.17L329.46,124.82L349.9,120L351.1,119.79L369.14,117.61L370.34,117.54L393.19,115.68L394.39,115.39L406.41,111.25L407.62,110.73L422.04,103.27L423.25,102.56L446.09,87.74L447.29,86.91L500.2,51.59L501.4,50.88L524.25,38.54L525.45,37.96L544.69,29.83L545.89,29.39L565.13,23.65L566.33,23.37L584.37,20.34L585.57,20.22L600,19.5\" style=\"vector-effect: non-scaling-stroke; fill: none; stroke: rgb(128, 0, 128); stroke-opacity: 1; stroke-width: 4px; opacity: 1;\"/></g><g class=\"points\"/><g class=\"text\"/></g></g></g><g class=\"overplot\"/><path class=\"xlines-above crisp\" d=\"M45,452.5H655M45,57.5H655\" style=\"fill: none; stroke-width: 5px; stroke: rgb(0, 0, 0); stroke-opacity: 1;\"/><path class=\"ylines-above crisp\" d=\"M47.5,60V450M652.5,60V450\" style=\"fill: none; stroke-width: 5px; stroke: rgb(0, 0, 0); stroke-opacity: 1;\"/><g class=\"overlines-above\"/><g class=\"xaxislayer-above\"/><g class=\"yaxislayer-above\"><g class=\"ytick\"><text text-anchor=\"end\" x=\"42.6\" y=\"4.199999999999999\" transform=\"translate(0,430.5)\" style=\"font-family: 'Open Sans', verdana, arial, sans-serif; font-size: 12px; fill: rgb(42, 63, 95); fill-opacity: 1; white-space: pre; opacity: 1;\">−4</text></g><g class=\"ytick\"><text text-anchor=\"end\" x=\"42.6\" y=\"4.199999999999999\" style=\"font-family: 'Open Sans', verdana, arial, sans-serif; font-size: 12px; fill: rgb(42, 63, 95); fill-opacity: 1; white-space: pre; opacity: 1;\" transform=\"translate(0,356.32)\">−2</text></g><g class=\"ytick\"><text text-anchor=\"end\" x=\"42.6\" y=\"4.199999999999999\" style=\"font-family: 'Open Sans', verdana, arial, sans-serif; font-size: 12px; fill: rgb(42, 63, 95); fill-opacity: 1; white-space: pre; opacity: 1;\" transform=\"translate(0,282.15)\">0</text></g><g class=\"ytick\"><text text-anchor=\"end\" x=\"42.6\" y=\"4.199999999999999\" style=\"font-family: 'Open Sans', verdana, arial, sans-serif; font-size: 12px; fill: rgb(42, 63, 95); fill-opacity: 1; white-space: pre; opacity: 1;\" transform=\"translate(0,207.97)\">2</text></g><g class=\"ytick\"><text text-anchor=\"end\" x=\"42.6\" y=\"4.199999999999999\" style=\"font-family: 'Open Sans', verdana, arial, sans-serif; font-size: 12px; fill: rgb(42, 63, 95); fill-opacity: 1; white-space: pre; opacity: 1;\" transform=\"translate(0,133.8)\">4</text></g></g><g class=\"overaxes-above\"/></g></g><g class=\"polarlayer\"/><g class=\"ternarylayer\"/><g class=\"geolayer\"/><g class=\"funnelarealayer\"/><g class=\"pielayer\"/><g class=\"iciclelayer\"/><g class=\"treemaplayer\"/><g class=\"sunburstlayer\"/><g class=\"glimages\"/><defs id=\"topdefs-31595e\"><g class=\"clips\"/></defs><g class=\"layer-above\"><g class=\"imagelayer\"/><g class=\"shapelayer\"/></g><g class=\"infolayer\"><g class=\"g-gtitle\"><text class=\"gtitle\" x=\"35\" y=\"30\" text-anchor=\"start\" dy=\"0em\" style=\"font-family: 'Open Sans', verdana, arial, sans-serif; font-size: 17px; fill: rgb(42, 63, 95); opacity: 1; font-weight: normal; white-space: pre;\">Nearest neighbor model with nearest spin-orbit coupling</text></g><g class=\"g-xtitle\"/><g class=\"g-ytitle\"/></g></svg>"
      ],
      "text/html": [
       "<div\n",
       "    class=\"webio-mountpoint\"\n",
       "    data-webio-mountpoint=\"2230593242075674991\"\n",
       ">\n",
       "    <script>\n",
       "    (function(){\n",
       "    // Some integrations (namely, IJulia/Jupyter) use an alternate render pathway than\n",
       "    // just putting the html on the page. If WebIO isn't defined, then it's pretty likely\n",
       "    // that we're in one of those situations and the integration just isn't installed\n",
       "    // correctly.\n",
       "    if (typeof window.WebIO === \"undefined\") {\n",
       "        document\n",
       "            .querySelector('[data-webio-mountpoint=\"2230593242075674991\"]')\n",
       "            .innerHTML = (\n",
       "                '<div style=\"padding: 1em; background-color: #f8d6da; border: 1px solid #f5c6cb; font-weight: bold;\">' +\n",
       "                '<p><strong>WebIO not detected.</strong></p>' +\n",
       "                '<p>Please read ' +\n",
       "                '<a href=\"https://juliagizmos.github.io/WebIO.jl/latest/troubleshooting/not-detected/\" target=\"_blank\">the troubleshooting guide</a> ' +\n",
       "                'for more information on how to resolve this issue.</p>' +\n",
       "                '<p><a href=\"https://juliagizmos.github.io/WebIO.jl/latest/troubleshooting/not-detected/\" target=\"_blank\">https://juliagizmos.github.io/WebIO.jl/latest/troubleshooting/not-detected/</a></p>' +\n",
       "                '</div>'\n",
       "            );\n",
       "        return;\n",
       "    }\n",
       "    WebIO.mount(\n",
       "        document.querySelector('[data-webio-mountpoint=\"2230593242075674991\"]'),\n",
       "        {\"props\":{},\"nodeType\":\"Scope\",\"type\":\"node\",\"instanceArgs\":{\"imports\":{\"data\":[{\"name\":\"Plotly\",\"type\":\"js\",\"url\":\"\\/assetserver\\/b267c3137400db01c304fe886fe6f707be7fdb37-plotly.min.js\"},{\"name\":null,\"type\":\"js\",\"url\":\"\\/assetserver\\/020f2e8a4619f2ae880fff9315e6547eef1aff0b-plotly_webio.bundle.js\"}],\"type\":\"async_block\"},\"id\":\"12023895830447387515\",\"handlers\":{\"_toImage\":[\"(function (options){return this.Plotly.toImage(this.plotElem,options).then((function (data){return WebIO.setval({\\\"name\\\":\\\"image\\\",\\\"scope\\\":\\\"12023895830447387515\\\",\\\"id\\\":\\\"229723\\\",\\\"type\\\":\\\"observable\\\"},data)}))})\"],\"__get_gd_contents\":[\"(function (prop){prop==\\\"data\\\" ? (WebIO.setval({\\\"name\\\":\\\"__gd_contents\\\",\\\"scope\\\":\\\"12023895830447387515\\\",\\\"id\\\":\\\"229724\\\",\\\"type\\\":\\\"observable\\\"},this.plotElem.data)) : undefined; return prop==\\\"layout\\\" ? (WebIO.setval({\\\"name\\\":\\\"__gd_contents\\\",\\\"scope\\\":\\\"12023895830447387515\\\",\\\"id\\\":\\\"229724\\\",\\\"type\\\":\\\"observable\\\"},this.plotElem.layout)) : undefined})\"],\"_downloadImage\":[\"(function (options){return this.Plotly.downloadImage(this.plotElem,options)})\"],\"_commands\":[\"(function (args){var fn=args.shift(); var elem=this.plotElem; var Plotly=this.Plotly; args.unshift(elem); return Plotly[fn].apply(this,args)})\"]},\"systemjs_options\":null,\"mount_callbacks\":[\"function () {\\n    var handler = ((function (Plotly,PlotlyWebIO){PlotlyWebIO.init(WebIO); var gd=this.dom.querySelector(\\\"#plot-f0904a6a-32a2-445e-a6de-ea7cff084b3e\\\"); this.plotElem=gd; this.Plotly=Plotly; (window.Blink!==undefined) ? (gd.style.width=\\\"100%\\\", gd.style.height=\\\"100vh\\\", gd.style.marginLeft=\\\"0%\\\", gd.style.marginTop=\\\"0vh\\\") : undefined; window.onresize=(function (){return Plotly.Plots.resize(gd)}); Plotly.newPlot(gd,[{\\\"mode\\\":\\\"lines\\\",\\\"line\\\":{\\\"color\\\":\\\"purple\\\",\\\"width\\\":4},\\\"y\\\":[-4.000000000000001,-3.999901476084614,-3.999605933461416,-3.9991134595031013,-3.99842419984355,-3.997538358396862,-3.9964561973838877,-3.995178037366146,-3.993704257286992,-3.9920352945198596,-3.990171644923354,-3.9881138629029538,-3.9858625614790544,-3.9834184123610084,-3.9807821460268364,-3.9779545518081756,-3.9749364779800596,-3.97172883185503,-3.968332579881054,-3.964748747742692,-3.960978420464862,-3.9570227425185585,-3.9528829179277825,-3.948560210376907,-3.9440559433176334,-3.93937150007465,-3.934508323949004,-3.929467918318192,-3.9242518467318437,-3.918861733001836,-3.913299261285599,-3.9075661761612985,-3.901664282693464,-3.8955954464876346,-3.8893615937323944,-3.8829647112271903,-3.876406846394159,-3.8696901072721412,-3.862816662490955,-3.855788741223879,-3.8486086331162577,-3.8412786881879817,-3.833801316707536,-3.8261789890351925,-3.8184142354328303,-3.810509645837778,-3.802467869597961,-3.7942916151655477,-3.7859836497462127,-3.7775467989010276,-3.7689839460979195,-3.7602980322095645,-3.7514920549545128,-3.742569068278276,-3.733532181671065,-3.7243845594188234,-3.715129419784179,-3.7057700341139115,-3.6963097258695585,-3.6867518695777717,-3.6770998896970855,-3.6673572593978494,-3.657527499252085,-3.6476141758302054,-3.6376209002016147,-3.627551326336368,-3.617409149405294,-3.6071981039761294,-3.5969219621035124,-3.5865845313109377,-3.5761896524630794,-3.565741197527246,-3.5552430672231,-3.5446991885601737,-3.534113512263204,-3.523490010085709,-3.5128326720128533,-3.5021455033550675,-3.491432521734585,-3.480697753967559,-3.4699452328451335,-3.459178993817429,-3.4484030715851115,-3.437621496603894,-3.4268382915079796,-3.416057467459193,-3.405283020429231,-3.3945189274231127,-3.3837691426526555,-3.373037593669384,-3.3623281774669453,-3.3516447565636933,-3.3409911550766203,-3.3303711547983563,-3.3197884912893656,-3.3092468499978422,-3.2987498624201583,-3.288301102314894,-3.2779040819836487,-3.2675622486319282,-3.2572789808233016,-3.2470575850399728,-3.236901292362655,-3.2268132552823006,-3.2167965446559066,-3.206854146817989,-3.196988960858842,-3.1872037960799067,-3.177501369635861,-3.16788430437216,-3.158355126865824,-3.1489162656763092,-3.1395700498122023,-3.1303187074184557,-3.121164364687649,-3.1121090449977316,-3.1031546682774342,-3.094303050599399,-3.085555903999936,-3.0769148365231382,-3.06838135248598,-3.0599568529599477,-3.051642636463734,-3.043439899860528,-3.0353497394525673,-3.0273731522647287,-3.019511037508237,-3.011764198214855,-3.0041333430313286,-2.9966190881633934,-2.989221959458189,-2.9819423946136423,-2.974780745503133,-2.967737280603603,-2.960812187515222,-2.95400557556072,-2.9473174784526246,-2.940747857016779,-2.934296601960763,-2.9279635366761494,-2.9217484200638517,-2.9156509493722407,-2.909670763038146,-2.903807443521342,-2.898060520123601,-2.8924294717839754,-2.886913729842486,-2.881512680764965,-2.8762256688223853,-2.8710519987185754,-2.865990938160765,-2.8610417203680276,-2.8562035465131714,-2.8514755880942246,-2.8468569892321494,-2.842346868891937,-2.8379443230247237,-2.8336484266290025,-2.8294582357294784,-2.8253727892724756,-2.821391110937243,-2.817512210862811,-2.813735087290417,-2.810058728121798,-2.8064821123939536,-2.803004211671203,-2.799623991355616,-2.7963404119170785,-2.7931524300444583,-2.790058999719461,-2.787059073214963,-2.7841516020196435,-2.7813355376909326,-2.7786098326382938,-2.7759734408389765,-2.7734253184884246,-2.7709644245875213,-2.76858972146895,-2.7663001752649015,-2.764094756318409,-2.7619724395405543,-2.7599322047158155,-2.757973036757781,-2.75609392591743,-2.754293867946176,-2.752571864215819,-2.750926921797512,-2.7493580535018074,-2.7478642778818374,-2.7464446192015854,-2.745098107371211,-2.743823777851312,-2.7426206715279724,-2.741487834560413,-2.7404243182029724,-2.7394291786031677,-2.7385014765774707,-2.737640277366438,-2.7368446503707773,-2.7361136688698915,-2.7354464097243927,-2.7348419530640715,-2.7342993819627366,-2.7338177821013323,-2.7333962414206736,-2.7330338497651794,-2.732729698518864,-2.7324828802348877,-2.7322924882599198,-2.7321576163545513,-2.732077358310934,-2.7320508075688794,-2.732077305839819,-2.732156186689907,-2.7322865271276298,-2.7324674022412534,-2.7326978848153374,-2.732977044952589,-2.7333039497022167,-2.7336776626958095,-2.7340972437918794,-2.7345617487300853,-2.7350702287962223,-2.735621730498978,-2.7362152952595076,-2.736849959114795,-2.737524752435803,-2.73823869966139,-2.7389908190488925,-2.7397801224423697,-2.7406056150593434,-2.7414662952969593,-2.7423611545584086,-2.7432891771004266,-2.7442493399026935,-2.74524061255987,-2.7462619571970297,-2.747312328409177,-2.7483906732255075,-2.749495931099034,-2.7506270339221723,-2.751782906068799,-2.7529624644632937,-2.7541646186769944,-2.755388271052462,-2.756632316855899,-2.7578956444579896,-2.7591771355434247,-2.7604756653492313,-2.7617901029320686,-2.7631193114645196,-2.7644621485603493,-2.765817466628682,-2.767184113256951,-2.768560931622388,-2.7699467609318225,-2.77134043688942,-2.7727407921919554,-2.774146657051186,-2.7755568597427116,-2.776970227180812,-2.778385585518497,-2.779801760772104,-2.7812175794696046,-2.7826318693217815,-2.7840434599153396,-2.7854511834269706,-2.7868538753573633,-2.788250375284017,-2.789639527631766,-2.7910201824597958,-2.7923911962639094,-2.7937514327927753,-2.795099763876817,-2.796435070268404,-2.7977562424919253,-2.799062181702329,-2.8003518005506773,-2.8016240240552372,-2.802877790476601,-2.8041120521953316,-2.8053257765906108,-2.8065179469183223,-2.807687563187082,-2.80883364303061,-2.809955222574957,-2.8110513572990072,-2.8121211228867606,-2.8131636160698594,-2.8141779554588693,-2.8151632823618282,-2.8161187615886254,-2.8170435822397426,-2.81793695847798,-2.8187981302817966,-2.8196263641789017,-2.820420953958825,-2.8211812213631693,-2.821906516752356,-2.822596219747656,-2.8232497398473924,-2.8238665170162314,-2.824446022246484,-2.824987758090509,-2.8254912591632024,-2.8259560926137466,-2.8263818585657825,-2.826768190525235,-2.8271147557550744,-2.827421255616375,-2.827687425875083,-2.827913036973939,-2.828097894269123,-2.8282418382311403,-2.8283447446097334,-2.828406524562366,-2.8284271247462076,-2.828488165726145,-2.828671294614283,-2.8289765481597406,-2.829403987489561,-2.8299536979269075,-2.830625788736112,-2.8314203927941697,-2.8323376661881503,-2.833377787737892,-2.8345409584432515,-2.8358274008550826,-2.8372373583690553,-2.838771094441312,-2.840428891724973,-2.842211051126364,-2.844117890779907,-2.8461497449405138,-2.8483069627923996,-2.850589907173195,-2.8529989532123188,-2.8555344868826325,-2.8581969034644668,-2.8609866059212514,-2.8639040031860867,-2.866949508358803,-2.870123536813202,-2.8734265042144327,-2.8768588244466864,-2.880420907451696,-2.8841131569788194,-2.8879359682478425,-2.8918897255260196,-2.895974799621251,-2.9001915452937674,-2.9045402985891227,-2.9090213740957966,-2.9136350621312532,-2.9183816258607798,-2.9232612983540633,-2.928274279584968,-2.9334207333806184,-2.9387007843264614,-2.94411451463459,-2.9496619609832173,-2.9553431113357793,-2.9611579017487157,-2.9671062131775736,-2.973187868291585,-2.979402628307381,-2.9857501898529915,-2.9922301818736807,-2.9988421625915462,-3.0055856165311114,-3.0124599516233883,-3.0194644964010555,-3.0265984972974684,-3.033861116062268,-3.0412514273062023,-3.0487684161876745,-3.0564109762531904,-3.0641779074435633,-3.0720679142772283,-3.0800796042214733,-3.088211486261727,-3.096461969678297,-3.1048293630390726,-3.113311873415843,-3.1219076058308044,-3.130614562938809,-3.1394306449497407,-3.148353649794238,-3.1573812735347278,-3.1665111110225075,-3.175740656800324,-3.185067306248608,-3.1944883569722586,-3.204001010423632,-3.213602373756137,-3.223289461901669,-3.2330591998640075,-3.242908425219215,-3.252833890813094,-3.2628322676448556,-3.272900147925352,-3.2830340482974667,-3.2932304132056833,-3.303485618401313,-3.313795974569458,-3.3241577310634858,-3.33456707973262,-3.3450201588281336,-3.3555130569736744,-3.366041817185349,-3.376602440927425,-3.38719089218978,-3.397803101573636,-3.408434970372555,-3.4190823746361945,-3.429741169204917,-3.4404071917039656,-3.4510762664866106,-3.461744208516361,-3.472406827179105,-3.4830599300167613,-3.4936993263748395,-3.504320830957026,-3.5149202672807456,-3.5254934710283536,-3.5360362932894063,-3.5465446036901613,-3.5570142934071822,-3.567441278062599,-3.5778215004992173,-3.588150933434303,-3.5984255819914277,-3.6086414861103338,-3.6187947228352577,-3.6288814084826346,-3.638897700689541,-3.6488398003445917,-3.6587039534034256,-3.6684864525911385,-3.6781836389943776,-3.6877919035460254,-3.6973076884056066,-3.7067274882387333,-3.7160478513990522,-3.7252653810162757,-3.734376735993972,-3.743378631920852,-3.7522678418993225,-3.7610411972951407,-3.7696955884119325,-3.778227965094412,-3.7866353372640296,-3.794914775390785,-3.8030634109048473,-3.8110784365516057,-3.8189571066936145,-3.8266967375629077,-3.8342947074670017,-3.841748456951815,-3.849055488924642,-3.8562133687402342,-3.8632197242528705,-3.8700722458372585,-3.8767686863809434,-3.883306861250822,-3.8896846482362384,-3.8958999874710014,-3.9019508813366177,-3.907835394348845,-3.913551653029631,-3.919097845766363,-3.924472222660272,-3.9296730953657066,-3.9346988369219487,-3.939547881579091,-3.9442187246194504,-3.948709922175881,-3.953020091048289,-3.957147908519539,-3.961092112171909,-3.9648514997051265,-3.968424928757,-3.9718113167275506,-3.9750096406075044,-3.9780189368119467,-3.980838301019862,-3.9834668880202586,-3.985903911565481,-3.988148644232293,-3.990200417291283,-3.9920586205850106,-3.9937227024153814,-3.9951921694406196,-3.9964665865821742,-3.997545576941876,-3.99842882172962,-3.9991160602017786,-3.999607089610567,-3.9999017651644864,-4.000000000000001],\\\"type\\\":\\\"scatter\\\",\\\"x\\\":[1,2,3,4,5,6,7,8,9,10,11,12,13,14,15,16,17,18,19,20,21,22,23,24,25,26,27,28,29,30,31,32,33,34,35,36,37,38,39,40,41,42,43,44,45,46,47,48,49,50,51,52,53,54,55,56,57,58,59,60,61,62,63,64,65,66,67,68,69,70,71,72,73,74,75,76,77,78,79,80,81,82,83,84,85,86,87,88,89,90,91,92,93,94,95,96,97,98,99,100,101,102,103,104,105,106,107,108,109,110,111,112,113,114,115,116,117,118,119,120,121,122,123,124,125,126,127,128,129,130,131,132,133,134,135,136,137,138,139,140,141,142,143,144,145,146,147,148,149,150,151,152,153,154,155,156,157,158,159,160,161,162,163,164,165,166,167,168,169,170,171,172,173,174,175,176,177,178,179,180,181,182,183,184,185,186,187,188,189,190,191,192,193,194,195,196,197,198,199,200,201,202,203,204,205,206,207,208,209,210,211,212,213,214,215,216,217,218,219,220,221,222,223,224,225,226,227,228,229,230,231,232,233,234,235,236,237,238,239,240,241,242,243,244,245,246,247,248,249,250,251,252,253,254,255,256,257,258,259,260,261,262,263,264,265,266,267,268,269,270,271,272,273,274,275,276,277,278,279,280,281,282,283,284,285,286,287,288,289,290,291,292,293,294,295,296,297,298,299,300,301,302,303,304,305,306,307,308,309,310,311,312,313,314,315,316,317,318,319,320,321,322,323,324,325,326,327,328,329,330,331,332,333,334,335,336,337,338,339,340,341,342,343,344,345,346,347,348,349,350,351,352,353,354,355,356,357,358,359,360,361,362,363,364,365,366,367,368,369,370,371,372,373,374,375,376,377,378,379,380,381,382,383,384,385,386,387,388,389,390,391,392,393,394,395,396,397,398,399,400,401,402,403,404,405,406,407,408,409,410,411,412,413,414,415,416,417,418,419,420,421,422,423,424,425,426,427,428,429,430,431,432,433,434,435,436,437,438,439,440,441,442,443,444,445,446,447,448,449,450,451,452,453,454,455,456,457,458,459,460,461,462,463,464,465,466,467,468,469,470,471,472,473,474,475,476,477,478,479,480,481,482,483,484,485,486,487,488,489,490,491,492,493,494,495,496,497,498,499,500]},{\\\"mode\\\":\\\"lines\\\",\\\"line\\\":{\\\"color\\\":\\\"purple\\\",\\\"width\\\":4},\\\"y\\\":[-1.4641016151377548,-1.4640655507801048,-1.4639573431451887,-1.4637769485423158,-1.463524294137652,-1.4631992779302687,-1.4628017687187098,-1.4623316060582179,-1.461788600208736,-1.461172532073917,-1.4604831531312836,-1.459720185353877,-1.458883321123623,-1.4579722231367684,-1.456986524301756,-1.4559258276299436,-1.4547897061196104,-1.453577702633766,-1.4522893297722903,-1.450924069738981,-1.4494813742041854,-1.4479606641636587,-1.4463613297944515,-1.444682730308569,-1.4429241938053143,-1.4410850171232137,-1.4391644656925124,-1.437161773389316,-1.4350761423924818,-1.4329067430444569,-1.430652713717386,-1.428313160685748,-1.4258871580070653,-1.423373747412113,-1.42077193820629,-1.4180807071838115,-1.4152989985565396,-1.4124257238992919,-1.4094597621136458,-1.4063999594122762,-1.4032451293260237,-1.399994052735942,-1.3966454779327167,-1.3931981207059294,-1.3896506644657225,-1.3860017603995576,-1.3822500276668306,-1.3783940536342398,-1.3744323941548087,-1.3703635738936952,-1.366186086703876,-1.3618983960548945,-1.357498935518065,-1.3529861093113469,-1.3483582929074067,-1.3436138337082617,-1.338751051789981,-1.3337682407209914,-1.3286636684574165,-1.3234355783190033,-1.3180821900490614,-1.3126017009617923,-1.3069922871803858,-1.3012521049690973,-1.295379292162384,-1.2893719696941195,-1.2832282432296254,-1.2769462049031106,-1.2705239351628947,-1.263959504726443,-1.2572509766470295,-1.2503964084934551,-1.2433938546439023,-1.2362413686945943,-1.228937005983516,-1.2214788262289464,-1.2138648962820955,-1.2060932929925774,-1.1981621061848897,-1.190069441743507,-1.1818134248035495,-1.17339220304339,-1.1648039500748648,-1.1560468689261674,-1.1471191956117086,-1.1380192027827118,-1.128745203451477,-1.1192955547817176,-1.1096686619366298,-1.0998629819758035,-1.089877027791421,-1.0797093720737,-1.0693586512949462,-1.0588235697012092,-1.04810290330004,-1.0371955038325982,-1.02610030271801,-1.0148163149577623,-1.003342642987799,-0.9916784804659413,-0.979823115982385,-0.9677759366812123,-0.9555364317810718,-0.9431041959836644,-0.9304789327590727,-0.917660457497609,-0.9046487005185405,-0.8914437099267807,-0.8780456543096085,-0.8644548252663151,-0.8506716397648368,-0.8366966423204362,-0.8225305069927767,-0.808174039198852,-0.7936281773406276,-0.7788939942474543,-0.7639726984347552,-0.7488656351817491,-0.7335742874324193,-0.718100276525232,-0.7024453627584755,-0.6866114457994438,-0.6706005649469133,-0.6544148992576895,-0.6380567675491671,-0.6215286282910165,-0.6048330794002449,-0.5879728579549088,-0.5709508398427622,-0.5537700393620838,-0.5364336087927746,-0.518944837956685,-0.5013071537869138,-0.48352411992649796,-0.4655994363776713,-0.447536939223518,-0.4293406004444228,-0.4110145278524048,-0.39256296516696276,-0.37399029225668146,-0.35530102557145926,-0.33649981879080704,-0.31759146371431635,-0.2985808914211183,-0.27947317372573877,-0.26027352495870304,-0.24098730410087232,-0.22162001730148728,-0.20217732081076506,-0.1826650243589087,-0.1630890950144475,-0.14345566155586048,-0.12377101939167211,-0.10404163606526931,-0.08427415738192122,-0.06447541419656211,-0.044652429901999885,-0.024812428658119765,-0.004962844403412102,0.014888669309357769,0.03473422861140244,0.05456570770853613,0.07437472632362531,0.09415263615216214,0.11389050629514276,0.13357910763761868,0.1532088961471103,0.1727699950738386,0.1922521760450226,0.21164483905861114,0.23093699139858004,0.2501172255148121,0.26917369593660134,0.2880940953205555,0.3068656297724699,0.3254749936293103,0.3439083439431627,0.36215127497504884,0.38018879308388503,0.39800529248590955,0.4155845324634686,0.43290961671970185,0.4499629757078245,0.46672635290939946,0.48318079619423393,0.49930665556200393,0.515083588738064,0.5304905762665146,0.5455059479029962,0.5601074222458308,0.5742721616414678,0.5879768444399879,0.6011977566367,0.6139109047924983,0.626092151853158,0.6377173770619997,0.6487626605607103,0.6592044924869175,0.6690200054032646,0.6781872277466412,0.6866853547036744,0.6944950315586051,0.7015986432049819,0.7079806022669601,0.7136276272573092,0.718529001529203,0.7226768035682859,0.7260660995047179,0.7286950896443222,0.7305652023118389,0.7316811302970827,0.7320508075688374,0.7316818606246402,0.7305850605450644,0.7287776092243697,0.7262793487452576,0.723112483930379,0.7193012784564434,0.7148717348200467,0.7098512681587948,0.7042683831411537,0.6981523619643404,0.6915329700770821,0.6844401847056722,0.6769039497253541,0.6689539589785898,0.6606194688647866,0.651929139952446,0.6429109065114804,0.6335918722276752,0.6239982299267138,0.6141552028766981,0.6040870051259495,0.5938168183368069,0.5833667826670577,0.5727579994027092,0.5620105432370954,0.5511434823039055,0.5401749042917052,0.5291219471847125,0.5180008333815752,0.5068269061361472,0.4956146674389519,0.48437781661394935,0.47312928904239676,0.461881294544506,0.45064535505161457,0.43943234128799,0.42825250825383276,0.4171155293612178,0.4060305291240766,0.39500611434338384,0.3840504037609158,0.37317105618038526,0.3623752970745773,0.3516699437122564,0.3410614288499081,0.33055582304145237,0.32015885562466007,0.30987593444639927,0.2997121643907703,0.2896723647746031,0.2797610856744105,0.26998262324760597,0.2603410341089736,0.25084014882118566,0.24148358455559682,0.23227475697690858,0.223216891402426,0.21431303328382828,0.205566058056523,0.19697868039885125,0.1885534629407008,0.18029282445846684,0.1721990475907509,0.1642742861068207,0.15652057175754508,0.14893982073638223,0.14153383977595302,0.13430433190384117,0.12725290187946103,0.12038106133215853,0.1136902336191743,0.10718175842063238,0.10085689608733872,0.09471683175599466,0.08876267924517434,0.08299548474440255,0.07741623030764655,0.07202583716159838,0.0668251688382987,0.06181503414083722,0.056996189950137444,0.052369343880176444,0.0479351567883598,0.04369424514718201,0.03964718328280259,0.03579450548565566,0.03213670799777524,0.02867425088110226,0.02540755977064446,0.02233702751603789,0.019463015714674237,0.016785856139349298,0.014305852063004887,0.012023279482959615,0.009938388246757163,0.008051403081535596,0.006362524528598673,0.004871929784746792,0.003579773451652127,0.0024861881944665404,0.0015912853106656646,0.0008951552099444801,0.00039786780596658047,9.947282041948509e-5,-8.16720580091893e-14,-0.0002946763283301153,-0.0011780675291490107,-0.002648355969101672,-0.004702526312646407,-0.0073363863227026704,-0.010544595493128528,-0.014320701042682016,-0.01865718069030975,-0.02354549153867519,-0.0289761243188425,-0.03493866219517261,-0.041421843296528094,-0.048413626126859954,-0.05590125701498194,-0.06387133878714979,-0.07230989988581471,-0.08120246321030589,-0.09053411401810474,-0.1002895662957457,-0.11045322708378025,-0.12100925831794018,-0.1319416358265626,-0.14323420520042462,-0.15487073432371967,-0.16683496242274354,-0.17911064555100265,-0.1916815984850918,-0.20453173305466849,-0.2176450929719131,-0.23100588526110777,-0.24459850841771907,-0.2584075774489699,-0.2724179459648174,-0.286614725500081,-0.3009833022557525,-0.3155093514508776,-0.3301788494762703,-0.344978084038566,-0.3598936624777966,-0.37491251843468215,-0.39002191703537636,-0.4052094587518261,-0.42046308208574135,-0.43577106521342635,-0.4511220267179298,-0.4665049255240626,-0.4819090601411517,-0.49732406730803114,-0.5127399201247189,-0.5281469257458014,-0.5435357227014651,-0.5588972779038129,-0.5742228833881966,-0.5895041528321724,-0.604733017888063,-0.6199017243591082,-0.6350028282438264,-0.6500291916683478,-0.6649739787222495,-0.6798306512096169,-0.6945929643238846,-0.7092549622521598,-0.7238109737124752,-0.7382556074254496,-0.7525837475203299,-0.7667905488742148,-0.7808714323824117,-0.7948220801573221,-0.8086384306529818,-0.8223166737123185,-0.8358532455343826,-0.849244823559153,-0.8624883212679949,-0.8755808828985606,-0.8885198780736004,-0.9013028963440177,-0.9139277416473952,-0.9263924266841391,-0.9386951672143313,-0.9508343762793471,-0.9628086583531814,-0.9746168034294062,-0.9862577810504125,-0.9977307342864917,-1.0090349736729487,-1.020169971114114,-1.0311353537636938,-1.0419308978912725,-1.0525565227452764,-1.063012284422866,-1.073298369757449,-1.0834150902345772,-1.0933628759469587,-1.103142269599226,-1.1127539205729051,-1.1221985790617288,-1.1314770902871396,-1.14059038880336,-1.1495394929009881,-1.1583254991174885,-1.1669495768624392,-1.1754129631647332,-1.1837169575483488,-1.1918629170425816,-1.199852251332031,-1.2076864180509106,-1.2153669182255395,-1.2228952918683145,-1.230273113725649,-1.237501989181837,-1.24458355032012,-1.2515194521416195,-1.258311368942263,-1.2649609908472828,-1.2714700205022809,-1.2778401699194961,-1.2840731574773754,-1.2901707050711515,-1.296134535411819,-1.301966369470502,-1.3076679240649274,-1.313240909584478,-1.3186870278500546,-1.324007970104737,-1.329205415131176,-1.334281027491403,-1.339236455884699,-1.3440733316190863,-1.3487932671919147,-1.3533978549750396,-1.3578886660000382,-1.3622672488389356,-1.3665351285759209,-1.370693805865662,-1.3747447560737485,-1.3786894284949935,-1.3825292456453426,-1.3862656026232343,-1.3898998665363957,-1.393433375990125,-1.3968674406332424,-1.4002033407580148,-1.4034423269504874,-1.4065856197877793,-1.4096344095789843,-1.4125898561465422,-1.4154530886449674,-1.4182252054140412,-1.4209072738636213,-1.4235003303874314,-1.42600538030323,-1.4284233978169716,-1.4307553260086072,-1.433002076837334,-1.4351645311642491,-1.4372435387903741,-1.4392399185082179,-1.441154458165136,-1.4429879147367628,-1.4447410144090254,-1.4464144526671912,-1.4480088943906466,-1.4495249739520248,-1.450963295319547,-1.45232443216138,-1.453608927950998,-1.4548172960725185,-1.4559500199251498,-1.4570075530258273,-1.457990319109331,-1.4588987122251063,-1.4597330968301407,-1.4604938078772753,-1.4611811508984196,-1.4617954020821438,-1.4623368083452093,-1.46280558739761,-1.4632019278008028,-1.4635259890187877,-1.4637779014617736,-1.4639577665222065,-1.4640656566029961,-1.4641016151377548],\\\"type\\\":\\\"scatter\\\",\\\"x\\\":[1,2,3,4,5,6,7,8,9,10,11,12,13,14,15,16,17,18,19,20,21,22,23,24,25,26,27,28,29,30,31,32,33,34,35,36,37,38,39,40,41,42,43,44,45,46,47,48,49,50,51,52,53,54,55,56,57,58,59,60,61,62,63,64,65,66,67,68,69,70,71,72,73,74,75,76,77,78,79,80,81,82,83,84,85,86,87,88,89,90,91,92,93,94,95,96,97,98,99,100,101,102,103,104,105,106,107,108,109,110,111,112,113,114,115,116,117,118,119,120,121,122,123,124,125,126,127,128,129,130,131,132,133,134,135,136,137,138,139,140,141,142,143,144,145,146,147,148,149,150,151,152,153,154,155,156,157,158,159,160,161,162,163,164,165,166,167,168,169,170,171,172,173,174,175,176,177,178,179,180,181,182,183,184,185,186,187,188,189,190,191,192,193,194,195,196,197,198,199,200,201,202,203,204,205,206,207,208,209,210,211,212,213,214,215,216,217,218,219,220,221,222,223,224,225,226,227,228,229,230,231,232,233,234,235,236,237,238,239,240,241,242,243,244,245,246,247,248,249,250,251,252,253,254,255,256,257,258,259,260,261,262,263,264,265,266,267,268,269,270,271,272,273,274,275,276,277,278,279,280,281,282,283,284,285,286,287,288,289,290,291,292,293,294,295,296,297,298,299,300,301,302,303,304,305,306,307,308,309,310,311,312,313,314,315,316,317,318,319,320,321,322,323,324,325,326,327,328,329,330,331,332,333,334,335,336,337,338,339,340,341,342,343,344,345,346,347,348,349,350,351,352,353,354,355,356,357,358,359,360,361,362,363,364,365,366,367,368,369,370,371,372,373,374,375,376,377,378,379,380,381,382,383,384,385,386,387,388,389,390,391,392,393,394,395,396,397,398,399,400,401,402,403,404,405,406,407,408,409,410,411,412,413,414,415,416,417,418,419,420,421,422,423,424,425,426,427,428,429,430,431,432,433,434,435,436,437,438,439,440,441,442,443,444,445,446,447,448,449,450,451,452,453,454,455,456,457,458,459,460,461,462,463,464,465,466,467,468,469,470,471,472,473,474,475,476,477,478,479,480,481,482,483,484,485,486,487,488,489,490,491,492,493,494,495,496,497,498,499,500]},{\\\"mode\\\":\\\"lines\\\",\\\"line\\\":{\\\"color\\\":\\\"purple\\\",\\\"width\\\":4},\\\"y\\\":[5.464101615137757,5.46396702686472,5.463563276606605,5.462890408045418,5.461948493981201,5.460737636327131,5.459257966102596,5.457509643424362,5.455492857495729,5.453207826593777,5.450654798054637,5.447834048256831,5.4447458826026764,5.441390635497776,5.437768670328591,5.433880379438119,5.429726184099669,5.425306534488797,5.420621909653345,5.415672817481674,5.4104597946690465,5.404983406682218,5.399244247722233,5.393242940685477,5.386980137122949,5.380456517197864,5.373672789641516,5.36662969170751,5.359327989124322,5.351768476046293,5.343951975002987,5.3358793368470465,5.32755144070053,5.318969193899748,5.310133531938684,5.301045418411001,5.291705844950698,5.282115831171432,5.272276424604601,5.262188700636155,5.2518537624422805,5.241272740923919,5.230446794640253,5.219377109741121,5.208064899898554,5.1965114062373345,5.184717897264792,5.172685668799789,5.160416043901023,5.147910372794724,5.135170032801793,5.12219642826446,5.108990990472579,5.095555177589621,5.081890474578473,5.067998393127083,5.0538804715741605,5.039538274834902,5.024973394326975,5.010187447896777,4.9951820797461455,4.97995896035964,4.96451978643247,4.948866280799303,4.933000192363998,4.916923296030488,4.900637392634922,4.884144308879242,4.867445897266409,4.850544036037381,4.8334406291101075,4.816137606020699,4.798636921867002,4.780940557254768,4.763050518246717,4.744968836314654,4.726697568294949,4.7082387963476435,4.689594627919475,4.670767195711065,4.651758657648685,4.632571196860818,4.613207021659978,4.593668365530061,4.573957487119688,4.554076670241907,4.534028223880707,4.513814482204829,4.493437804589284,4.472900575645188,4.452205205258368,4.431354128637395,4.410349806371567,4.389194724499564,4.367891394589407,4.346442353830442,4.324850165138169,4.303117417272656,4.281246724971449,4.2592407290978676,4.237102096805685,4.214833521721185,4.192437724143726,4.169917451265964,4.147275477414979,4.124514604315598,4.101637661377382,4.078647506006688,4.0555470239454685,4.032339129638476,4.00902676663066,3.985612907996744,3.9621005568049794,3.9384927466173068,3.9147925420282768,3.891003039245186,3.8671273667121904,3.843168685781148,3.8191301914323548,3.79501511304837,3.770826715244455,3.7465682987593927,3.722243201410648,3.6978547991182182,3.6734065070017357,3.6489017805557453,3.6243441169084827,3.599737056169764,3.5750841828740914,3.5503891275254778,3.5256555682509627,3.500887232570327,3.4760878992900466,3.451261400530101,3.426411623892893,3.401542514784238,3.376658078897047,3.3517623848691835,3.326859567127726,3.301953828932831,3.277049445635311,3.2521507681630464,3.227262226752463,3.202388334942461,3.17753369384934,3.1527029967426783,3.127901033943358,3.103132698066452,3.07840298963315,3.053717023077485,3.0290800331752123,3.004497381923888,2.9799745659048433,2.955517224159494,2.931131146614071,2.9068222830884984,2.882596752926724,2.8584608552871225,2.83442108013289,2.8104841199631174,2.786656882325841,2.762946503154275,2.7393603609667916,2.715906091969636,2.692591606098811,2.669425104033584,2.6464150952085057,2.62357041684324,2.600900253999436,2.57841416066085,2.556122081816383,2.534034376504831,2.5121618417543314,2.4905157373177387,2.4691078110665066,2.4479503248591143,2.4270560806443586,2.406438446493901,2.386111382181017,2.3660894638324987,2.346387907077086,2.3270225879961135,2.3080100610499565,2.2893675730080307,2.2711130717519414,2.253265208653815,2.235843333059448,2.218867477235293,2.202358329978842,2.1863371969557543,2.1708259457297436,2.155846933411324,2.141422914891273,2.127576929767915,2.1143321663498154,2.101711801541169,2.08973881601676,2.0784357848795207,2.067824644967514,2.0579264411232505,2.0487610550207176,2.0403469215054657,2.0327007387577547,2.025837179834372,2.019768614163365,2.014504848235976,2.010052894950579,2.006416780730169,2.0035973986155984,2.001592414042712,2.0003962280138494,2.000000000000044,2.00039544521518,2.0015711261448423,2.0035089179032597,2.006188053495996,2.009585400884959,2.0136757664961453,2.0184322148821696,2.023826394537015,2.029828860650726,2.036409386765745,2.0435372587191396,2.0511815457933045,2.059311345534154,2.0678960001362046,2.076905283571018,2.0863095597089436,2.0960799125374114,2.1061882502146947,2.1166073851326295,2.1273110924202614,2.1382741494324593,2.1494723587636204,2.1608825572356354,2.1724826131571597,2.184251413959933,2.1961688461052704,2.208215768933801,2.2203739839143206,2.232626200540597,2.2449559999326514,2.2573477970243427,2.2697868020630447,2.282258982010065,2.294751022311393,2.3072502894063747,2.3197447942554343,2.332223157095398,2.3446745735708507,2.3570887823404427,2.3694560342169653,2.3817670628677665,2.3940130570765654,2.406185634547811,2.4182768172195668,2.430279008039512,2.442184969150503,2.4539878014265253,2.465680925296313,2.4772580627900416,2.4887132207438944,2.5000406750976936,2.511234956221999,2.522290835212808,2.533203311094154,2.543967598871375,2.554579118380455,2.565033483881591,2.5753264943479377,2.5854541244032725,2.5954125158650583,2.6051979698520746,2.61480693941835,2.6242360226776533,2.6334819563851046,2.6425416099447836,2.6514119798142954,2.660090184279285,2.66857345857276,2.6768591503158707,2.6849447152584527,2.692827713299148,2.700505804766449,2.707976746943271,2.715238390818963,2.722288678053833,2.7291256381423583,2.7357473857622137,2.742152118297271,2.748338113523529,2.7543037274477884,2.7600473922896054,2.765567614597804,2.770862973493437,2.77593211903172,2.7807737706760225,2.785386715877514,2.78976980875458,2.7939219688665538,2.797842180076748,2.8015294895001936,2.8049830065318098,2.8082019019511595,2.8111854071001976,2.813932813130787,2.816443470319025,2.8187167874436994,2.8207522312264754,2.8225493258316283,2.8241076524234305,2.8254268487794727,2.826506608958457,2.827346683021196,2.8279468768037668,2.828307051741946,2.8284271247462884,2.8287828420544745,2.829849362143432,2.8316249041288417,2.8341065138022072,2.83729008424961,2.8411703842292404,2.8457410938368515,2.8509948468784603,2.8569232792765673,2.863517082762095,2.8707660630502554,2.8786592016655828,2.8871847205681718,2.8963301487399553,2.9060823899135135,2.916427790665721,2.927352208150819,2.9388410768105047,2.9508794734689405,2.9634521802960982,2.9765437452005723,2.990138539291029,3.004220811121676,3.018774737509806,3.0337844707815464,3.0492341823642044,3.065108102699524,3.081390557501355,3.0980660004236094,3.115119042239927,3.1325344766655614,3.150297302974989,3.168392745586069,3.186806270793848,3.205523600844875,3.224530725546673,3.2438139116075226,3.263359709899345,3.28315496083186,3.30318679801965,3.323442650415994,3.3439102430782883,3.364577596720331,3.385433026196644,3.4064651380537088,3.427662827272777,3.449015273318726,3.4705119355996157,3.4921425484320996,3.513897115598793,3.5357659045751464,3.5577394404953595,3.579808499919307,3.6019641044555613,3.6241975142891194,3.646500221656578,3.668863944306093,3.6912806189745506,3.7137423949099237,3.7362416274628085,3.758770871767447,3.7813228765293876,3.803890577933948,3.8264670936871767,3.8490457171986265,3.871619911913288,3.8941833057982542,3.9167296859881278,3.9392529935917917,3.9617473186620593,3.9842068953286214,4.006626097093881,4.028999432290502,4.051321539698885,4.073587184322209,4.095791253316275,4.117928752071027,4.139994800440276,4.161984629116001,4.183893576143354,4.205717083572396,4.227450694242497,4.249090048695267,4.270630882211844,4.292069021970413,4.313400384319799,4.334620972165008,4.355726872460731,4.376714253808762,4.397579364155486,4.4183185285855835,4.438928147208252,4.459404693132307,4.47974471052665,4.499944812762685,4.520001680635366,4.539912060659694,4.559672763439554,4.579280662105905,4.598732690821454,4.61802584334905,4.637157171681095,4.656123784727452,4.674922847059343,4.693551577706872,4.712007249007935,4.730287185506285,4.748388762896667,4.766309407015056,4.784046592871997,4.801597843727303,4.818960730204219,4.83613286944148,4.853111924281585,4.869895602493708,4.886481656029833,4.902867880312633,4.919052113553785,4.9350322361013585,4.950806169815092,4.966371877468352,4.981727362175619,4.996870666844433,5.011799873650762,5.02651310353678,5.041008515730136,5.0552843072837526,5.069338712635361,5.083170003185884,5.096776486895892,5.1101565078993625,5.123308446134074,5.136230716987853,5.148921770960074,5.161380093337778,5.17360420388578,5.185592656550191,5.1973440391748404,5.208856973230008,5.220130113553036,5.231162148100245,5.24195179770983,5.252497815875131,5.262798988528016,5.272854133831856,5.282662101983799,5.2922217750259115,5.3015320666648655,5.310591922099859,5.319400317858432,5.327956261639848,5.3362587921658164,5.344306979038237,5.352099922603699,5.359636753824522,5.3669166341560794,5.373938755430167,5.380702339744226,5.387206639356214,5.393450936584907,5.39943454371548,5.405156802910185,5.4106170861239375,5.415814795024674,5.420749360918382,5.425420244678548,5.4298269366800245,5.433968956737095,5.437845854045689,5.441457207129591,5.444802623790586,5.447881741062436,5.450694225168559,5.453239771483431,5.455518104497526,5.457528977785829,5.459272173979784,5.4607475047426774,5.461954810748408,5.462893961663554,5.463564856132773,5.4639674217674825,5.464101615137757],\\\"type\\\":\\\"scatter\\\",\\\"x\\\":[1,2,3,4,5,6,7,8,9,10,11,12,13,14,15,16,17,18,19,20,21,22,23,24,25,26,27,28,29,30,31,32,33,34,35,36,37,38,39,40,41,42,43,44,45,46,47,48,49,50,51,52,53,54,55,56,57,58,59,60,61,62,63,64,65,66,67,68,69,70,71,72,73,74,75,76,77,78,79,80,81,82,83,84,85,86,87,88,89,90,91,92,93,94,95,96,97,98,99,100,101,102,103,104,105,106,107,108,109,110,111,112,113,114,115,116,117,118,119,120,121,122,123,124,125,126,127,128,129,130,131,132,133,134,135,136,137,138,139,140,141,142,143,144,145,146,147,148,149,150,151,152,153,154,155,156,157,158,159,160,161,162,163,164,165,166,167,168,169,170,171,172,173,174,175,176,177,178,179,180,181,182,183,184,185,186,187,188,189,190,191,192,193,194,195,196,197,198,199,200,201,202,203,204,205,206,207,208,209,210,211,212,213,214,215,216,217,218,219,220,221,222,223,224,225,226,227,228,229,230,231,232,233,234,235,236,237,238,239,240,241,242,243,244,245,246,247,248,249,250,251,252,253,254,255,256,257,258,259,260,261,262,263,264,265,266,267,268,269,270,271,272,273,274,275,276,277,278,279,280,281,282,283,284,285,286,287,288,289,290,291,292,293,294,295,296,297,298,299,300,301,302,303,304,305,306,307,308,309,310,311,312,313,314,315,316,317,318,319,320,321,322,323,324,325,326,327,328,329,330,331,332,333,334,335,336,337,338,339,340,341,342,343,344,345,346,347,348,349,350,351,352,353,354,355,356,357,358,359,360,361,362,363,364,365,366,367,368,369,370,371,372,373,374,375,376,377,378,379,380,381,382,383,384,385,386,387,388,389,390,391,392,393,394,395,396,397,398,399,400,401,402,403,404,405,406,407,408,409,410,411,412,413,414,415,416,417,418,419,420,421,422,423,424,425,426,427,428,429,430,431,432,433,434,435,436,437,438,439,440,441,442,443,444,445,446,447,448,449,450,451,452,453,454,455,456,457,458,459,460,461,462,463,464,465,466,467,468,469,470,471,472,473,474,475,476,477,478,479,480,481,482,483,484,485,486,487,488,489,490,491,492,493,494,495,496,497,498,499,500]}],{\\\"showlegend\\\":false,\\\"xaxis\\\":{\\\"showgrid\\\":true,\\\"showline\\\":true,\\\"showticklabels\\\":false,\\\"linewidth\\\":5,\\\"mirror\\\":true,\\\"linecolor\\\":\\\"black\\\"},\\\"template\\\":{\\\"layout\\\":{\\\"coloraxis\\\":{\\\"colorbar\\\":{\\\"ticks\\\":\\\"\\\",\\\"outlinewidth\\\":0}},\\\"xaxis\\\":{\\\"gridcolor\\\":\\\"white\\\",\\\"zerolinewidth\\\":2,\\\"title\\\":{\\\"standoff\\\":15},\\\"ticks\\\":\\\"\\\",\\\"zerolinecolor\\\":\\\"white\\\",\\\"automargin\\\":true,\\\"linecolor\\\":\\\"white\\\"},\\\"hovermode\\\":\\\"closest\\\",\\\"paper_bgcolor\\\":\\\"white\\\",\\\"geo\\\":{\\\"showlakes\\\":true,\\\"showland\\\":true,\\\"landcolor\\\":\\\"#E5ECF6\\\",\\\"bgcolor\\\":\\\"white\\\",\\\"subunitcolor\\\":\\\"white\\\",\\\"lakecolor\\\":\\\"white\\\"},\\\"colorscale\\\":{\\\"sequential\\\":[[0.0,\\\"#0d0887\\\"],[0.1111111111111111,\\\"#46039f\\\"],[0.2222222222222222,\\\"#7201a8\\\"],[0.3333333333333333,\\\"#9c179e\\\"],[0.4444444444444444,\\\"#bd3786\\\"],[0.5555555555555556,\\\"#d8576b\\\"],[0.6666666666666666,\\\"#ed7953\\\"],[0.7777777777777778,\\\"#fb9f3a\\\"],[0.8888888888888888,\\\"#fdca26\\\"],[1.0,\\\"#f0f921\\\"]],\\\"diverging\\\":[[0,\\\"#8e0152\\\"],[0.1,\\\"#c51b7d\\\"],[0.2,\\\"#de77ae\\\"],[0.3,\\\"#f1b6da\\\"],[0.4,\\\"#fde0ef\\\"],[0.5,\\\"#f7f7f7\\\"],[0.6,\\\"#e6f5d0\\\"],[0.7,\\\"#b8e186\\\"],[0.8,\\\"#7fbc41\\\"],[0.9,\\\"#4d9221\\\"],[1,\\\"#276419\\\"]],\\\"sequentialminus\\\":[[0.0,\\\"#0d0887\\\"],[0.1111111111111111,\\\"#46039f\\\"],[0.2222222222222222,\\\"#7201a8\\\"],[0.3333333333333333,\\\"#9c179e\\\"],[0.4444444444444444,\\\"#bd3786\\\"],[0.5555555555555556,\\\"#d8576b\\\"],[0.6666666666666666,\\\"#ed7953\\\"],[0.7777777777777778,\\\"#fb9f3a\\\"],[0.8888888888888888,\\\"#fdca26\\\"],[1.0,\\\"#f0f921\\\"]]},\\\"yaxis\\\":{\\\"gridcolor\\\":\\\"white\\\",\\\"zerolinewidth\\\":2,\\\"title\\\":{\\\"standoff\\\":15},\\\"ticks\\\":\\\"\\\",\\\"zerolinecolor\\\":\\\"white\\\",\\\"automargin\\\":true,\\\"linecolor\\\":\\\"white\\\"},\\\"shapedefaults\\\":{\\\"line\\\":{\\\"color\\\":\\\"#2a3f5f\\\"}},\\\"hoverlabel\\\":{\\\"align\\\":\\\"left\\\"},\\\"mapbox\\\":{\\\"style\\\":\\\"light\\\"},\\\"polar\\\":{\\\"angularaxis\\\":{\\\"gridcolor\\\":\\\"white\\\",\\\"ticks\\\":\\\"\\\",\\\"linecolor\\\":\\\"white\\\"},\\\"bgcolor\\\":\\\"#E5ECF6\\\",\\\"radialaxis\\\":{\\\"gridcolor\\\":\\\"white\\\",\\\"ticks\\\":\\\"\\\",\\\"linecolor\\\":\\\"white\\\"}},\\\"autotypenumbers\\\":\\\"strict\\\",\\\"font\\\":{\\\"color\\\":\\\"#2a3f5f\\\"},\\\"ternary\\\":{\\\"baxis\\\":{\\\"gridcolor\\\":\\\"white\\\",\\\"ticks\\\":\\\"\\\",\\\"linecolor\\\":\\\"white\\\"},\\\"bgcolor\\\":\\\"#E5ECF6\\\",\\\"caxis\\\":{\\\"gridcolor\\\":\\\"white\\\",\\\"ticks\\\":\\\"\\\",\\\"linecolor\\\":\\\"white\\\"},\\\"aaxis\\\":{\\\"gridcolor\\\":\\\"white\\\",\\\"ticks\\\":\\\"\\\",\\\"linecolor\\\":\\\"white\\\"}},\\\"annotationdefaults\\\":{\\\"arrowhead\\\":0,\\\"arrowwidth\\\":1,\\\"arrowcolor\\\":\\\"#2a3f5f\\\"},\\\"plot_bgcolor\\\":\\\"#E5ECF6\\\",\\\"title\\\":{\\\"x\\\":0.05},\\\"scene\\\":{\\\"xaxis\\\":{\\\"gridcolor\\\":\\\"white\\\",\\\"gridwidth\\\":2,\\\"backgroundcolor\\\":\\\"#E5ECF6\\\",\\\"ticks\\\":\\\"\\\",\\\"showbackground\\\":true,\\\"zerolinecolor\\\":\\\"white\\\",\\\"linecolor\\\":\\\"white\\\"},\\\"zaxis\\\":{\\\"gridcolor\\\":\\\"white\\\",\\\"gridwidth\\\":2,\\\"backgroundcolor\\\":\\\"#E5ECF6\\\",\\\"ticks\\\":\\\"\\\",\\\"showbackground\\\":true,\\\"zerolinecolor\\\":\\\"white\\\",\\\"linecolor\\\":\\\"white\\\"},\\\"yaxis\\\":{\\\"gridcolor\\\":\\\"white\\\",\\\"gridwidth\\\":2,\\\"backgroundcolor\\\":\\\"#E5ECF6\\\",\\\"ticks\\\":\\\"\\\",\\\"showbackground\\\":true,\\\"zerolinecolor\\\":\\\"white\\\",\\\"linecolor\\\":\\\"white\\\"}},\\\"colorway\\\":[\\\"#636efa\\\",\\\"#EF553B\\\",\\\"#00cc96\\\",\\\"#ab63fa\\\",\\\"#FFA15A\\\",\\\"#19d3f3\\\",\\\"#FF6692\\\",\\\"#B6E880\\\",\\\"#FF97FF\\\",\\\"#FECB52\\\"]},\\\"data\\\":{\\\"barpolar\\\":[{\\\"type\\\":\\\"barpolar\\\",\\\"marker\\\":{\\\"line\\\":{\\\"color\\\":\\\"#E5ECF6\\\",\\\"width\\\":0.5}}}],\\\"carpet\\\":[{\\\"aaxis\\\":{\\\"gridcolor\\\":\\\"white\\\",\\\"endlinecolor\\\":\\\"#2a3f5f\\\",\\\"minorgridcolor\\\":\\\"white\\\",\\\"startlinecolor\\\":\\\"#2a3f5f\\\",\\\"linecolor\\\":\\\"white\\\"},\\\"type\\\":\\\"carpet\\\",\\\"baxis\\\":{\\\"gridcolor\\\":\\\"white\\\",\\\"endlinecolor\\\":\\\"#2a3f5f\\\",\\\"minorgridcolor\\\":\\\"white\\\",\\\"startlinecolor\\\":\\\"#2a3f5f\\\",\\\"linecolor\\\":\\\"white\\\"}}],\\\"scatterpolar\\\":[{\\\"type\\\":\\\"scatterpolar\\\",\\\"marker\\\":{\\\"colorbar\\\":{\\\"ticks\\\":\\\"\\\",\\\"outlinewidth\\\":0}}}],\\\"parcoords\\\":[{\\\"line\\\":{\\\"colorbar\\\":{\\\"ticks\\\":\\\"\\\",\\\"outlinewidth\\\":0}},\\\"type\\\":\\\"parcoords\\\"}],\\\"scatter\\\":[{\\\"type\\\":\\\"scatter\\\",\\\"marker\\\":{\\\"colorbar\\\":{\\\"ticks\\\":\\\"\\\",\\\"outlinewidth\\\":0}}}],\\\"histogram2dcontour\\\":[{\\\"colorbar\\\":{\\\"ticks\\\":\\\"\\\",\\\"outlinewidth\\\":0},\\\"type\\\":\\\"histogram2dcontour\\\",\\\"colorscale\\\":[[0.0,\\\"#0d0887\\\"],[0.1111111111111111,\\\"#46039f\\\"],[0.2222222222222222,\\\"#7201a8\\\"],[0.3333333333333333,\\\"#9c179e\\\"],[0.4444444444444444,\\\"#bd3786\\\"],[0.5555555555555556,\\\"#d8576b\\\"],[0.6666666666666666,\\\"#ed7953\\\"],[0.7777777777777778,\\\"#fb9f3a\\\"],[0.8888888888888888,\\\"#fdca26\\\"],[1.0,\\\"#f0f921\\\"]]}],\\\"contour\\\":[{\\\"colorbar\\\":{\\\"ticks\\\":\\\"\\\",\\\"outlinewidth\\\":0},\\\"type\\\":\\\"contour\\\",\\\"colorscale\\\":[[0.0,\\\"#0d0887\\\"],[0.1111111111111111,\\\"#46039f\\\"],[0.2222222222222222,\\\"#7201a8\\\"],[0.3333333333333333,\\\"#9c179e\\\"],[0.4444444444444444,\\\"#bd3786\\\"],[0.5555555555555556,\\\"#d8576b\\\"],[0.6666666666666666,\\\"#ed7953\\\"],[0.7777777777777778,\\\"#fb9f3a\\\"],[0.8888888888888888,\\\"#fdca26\\\"],[1.0,\\\"#f0f921\\\"]]}],\\\"scattercarpet\\\":[{\\\"type\\\":\\\"scattercarpet\\\",\\\"marker\\\":{\\\"colorbar\\\":{\\\"ticks\\\":\\\"\\\",\\\"outlinewidth\\\":0}}}],\\\"mesh3d\\\":[{\\\"colorbar\\\":{\\\"ticks\\\":\\\"\\\",\\\"outlinewidth\\\":0},\\\"type\\\":\\\"mesh3d\\\"}],\\\"surface\\\":[{\\\"colorbar\\\":{\\\"ticks\\\":\\\"\\\",\\\"outlinewidth\\\":0},\\\"type\\\":\\\"surface\\\",\\\"colorscale\\\":[[0.0,\\\"#0d0887\\\"],[0.1111111111111111,\\\"#46039f\\\"],[0.2222222222222222,\\\"#7201a8\\\"],[0.3333333333333333,\\\"#9c179e\\\"],[0.4444444444444444,\\\"#bd3786\\\"],[0.5555555555555556,\\\"#d8576b\\\"],[0.6666666666666666,\\\"#ed7953\\\"],[0.7777777777777778,\\\"#fb9f3a\\\"],[0.8888888888888888,\\\"#fdca26\\\"],[1.0,\\\"#f0f921\\\"]]}],\\\"scattermapbox\\\":[{\\\"type\\\":\\\"scattermapbox\\\",\\\"marker\\\":{\\\"colorbar\\\":{\\\"ticks\\\":\\\"\\\",\\\"outlinewidth\\\":0}}}],\\\"scattergeo\\\":[{\\\"type\\\":\\\"scattergeo\\\",\\\"marker\\\":{\\\"colorbar\\\":{\\\"ticks\\\":\\\"\\\",\\\"outlinewidth\\\":0}}}],\\\"histogram\\\":[{\\\"type\\\":\\\"histogram\\\",\\\"marker\\\":{\\\"colorbar\\\":{\\\"ticks\\\":\\\"\\\",\\\"outlinewidth\\\":0}}}],\\\"pie\\\":[{\\\"type\\\":\\\"pie\\\",\\\"automargin\\\":true}],\\\"choropleth\\\":[{\\\"colorbar\\\":{\\\"ticks\\\":\\\"\\\",\\\"outlinewidth\\\":0},\\\"type\\\":\\\"choropleth\\\"}],\\\"heatmapgl\\\":[{\\\"colorbar\\\":{\\\"ticks\\\":\\\"\\\",\\\"outlinewidth\\\":0},\\\"type\\\":\\\"heatmapgl\\\",\\\"colorscale\\\":[[0.0,\\\"#0d0887\\\"],[0.1111111111111111,\\\"#46039f\\\"],[0.2222222222222222,\\\"#7201a8\\\"],[0.3333333333333333,\\\"#9c179e\\\"],[0.4444444444444444,\\\"#bd3786\\\"],[0.5555555555555556,\\\"#d8576b\\\"],[0.6666666666666666,\\\"#ed7953\\\"],[0.7777777777777778,\\\"#fb9f3a\\\"],[0.8888888888888888,\\\"#fdca26\\\"],[1.0,\\\"#f0f921\\\"]]}],\\\"bar\\\":[{\\\"type\\\":\\\"bar\\\",\\\"error_y\\\":{\\\"color\\\":\\\"#2a3f5f\\\"},\\\"error_x\\\":{\\\"color\\\":\\\"#2a3f5f\\\"},\\\"marker\\\":{\\\"line\\\":{\\\"color\\\":\\\"#E5ECF6\\\",\\\"width\\\":0.5}}}],\\\"heatmap\\\":[{\\\"colorbar\\\":{\\\"ticks\\\":\\\"\\\",\\\"outlinewidth\\\":0},\\\"type\\\":\\\"heatmap\\\",\\\"colorscale\\\":[[0.0,\\\"#0d0887\\\"],[0.1111111111111111,\\\"#46039f\\\"],[0.2222222222222222,\\\"#7201a8\\\"],[0.3333333333333333,\\\"#9c179e\\\"],[0.4444444444444444,\\\"#bd3786\\\"],[0.5555555555555556,\\\"#d8576b\\\"],[0.6666666666666666,\\\"#ed7953\\\"],[0.7777777777777778,\\\"#fb9f3a\\\"],[0.8888888888888888,\\\"#fdca26\\\"],[1.0,\\\"#f0f921\\\"]]}],\\\"contourcarpet\\\":[{\\\"colorbar\\\":{\\\"ticks\\\":\\\"\\\",\\\"outlinewidth\\\":0},\\\"type\\\":\\\"contourcarpet\\\"}],\\\"table\\\":[{\\\"type\\\":\\\"table\\\",\\\"header\\\":{\\\"line\\\":{\\\"color\\\":\\\"white\\\"},\\\"fill\\\":{\\\"color\\\":\\\"#C8D4E3\\\"}},\\\"cells\\\":{\\\"line\\\":{\\\"color\\\":\\\"white\\\"},\\\"fill\\\":{\\\"color\\\":\\\"#EBF0F8\\\"}}}],\\\"scatter3d\\\":[{\\\"line\\\":{\\\"colorbar\\\":{\\\"ticks\\\":\\\"\\\",\\\"outlinewidth\\\":0}},\\\"type\\\":\\\"scatter3d\\\",\\\"marker\\\":{\\\"colorbar\\\":{\\\"ticks\\\":\\\"\\\",\\\"outlinewidth\\\":0}}}],\\\"scattergl\\\":[{\\\"type\\\":\\\"scattergl\\\",\\\"marker\\\":{\\\"colorbar\\\":{\\\"ticks\\\":\\\"\\\",\\\"outlinewidth\\\":0}}}],\\\"histogram2d\\\":[{\\\"colorbar\\\":{\\\"ticks\\\":\\\"\\\",\\\"outlinewidth\\\":0},\\\"type\\\":\\\"histogram2d\\\",\\\"colorscale\\\":[[0.0,\\\"#0d0887\\\"],[0.1111111111111111,\\\"#46039f\\\"],[0.2222222222222222,\\\"#7201a8\\\"],[0.3333333333333333,\\\"#9c179e\\\"],[0.4444444444444444,\\\"#bd3786\\\"],[0.5555555555555556,\\\"#d8576b\\\"],[0.6666666666666666,\\\"#ed7953\\\"],[0.7777777777777778,\\\"#fb9f3a\\\"],[0.8888888888888888,\\\"#fdca26\\\"],[1.0,\\\"#f0f921\\\"]]}],\\\"scatterternary\\\":[{\\\"type\\\":\\\"scatterternary\\\",\\\"marker\\\":{\\\"colorbar\\\":{\\\"ticks\\\":\\\"\\\",\\\"outlinewidth\\\":0}}}],\\\"scatterpolargl\\\":[{\\\"type\\\":\\\"scatterpolargl\\\",\\\"marker\\\":{\\\"colorbar\\\":{\\\"ticks\\\":\\\"\\\",\\\"outlinewidth\\\":0}}}]}},\\\"height\\\":510,\\\"margin\\\":{\\\"l\\\":50,\\\"b\\\":50,\\\"r\\\":50,\\\"t\\\":60},\\\"title\\\":\\\"Nearest neighbor model with nearest spin-orbit coupling\\\",\\\"yaxis\\\":{\\\"showgrid\\\":true,\\\"showline\\\":true,\\\"showticklabels\\\":true,\\\"linewidth\\\":5,\\\"mirror\\\":true,\\\"linecolor\\\":\\\"black\\\"},\\\"plot_bgcolor\\\":\\\"rgba(0,0,0,0)\\\",\\\"width\\\":510},{\\\"showLink\\\":false,\\\"editable\\\":false,\\\"responsive\\\":true,\\\"staticPlot\\\":false,\\\"scrollZoom\\\":true}); gd.on(\\\"plotly_hover\\\",(function (data){var filtered_data=WebIO.PlotlyCommands.filterEventData(gd,data,\\\"hover\\\"); return !(filtered_data.isnil) ? (WebIO.setval({\\\"name\\\":\\\"hover\\\",\\\"scope\\\":\\\"12023895830447387515\\\",\\\"id\\\":\\\"229719\\\",\\\"type\\\":\\\"observable\\\"},filtered_data.out)) : undefined})); gd.on(\\\"plotly_unhover\\\",(function (){return WebIO.setval({\\\"name\\\":\\\"hover\\\",\\\"scope\\\":\\\"12023895830447387515\\\",\\\"id\\\":\\\"229719\\\",\\\"type\\\":\\\"observable\\\"},{})})); gd.on(\\\"plotly_selected\\\",(function (data){var filtered_data=WebIO.PlotlyCommands.filterEventData(gd,data,\\\"selected\\\"); return !(filtered_data.isnil) ? (WebIO.setval({\\\"name\\\":\\\"selected\\\",\\\"scope\\\":\\\"12023895830447387515\\\",\\\"id\\\":\\\"229720\\\",\\\"type\\\":\\\"observable\\\"},filtered_data.out)) : undefined})); gd.on(\\\"plotly_deselect\\\",(function (){return WebIO.setval({\\\"name\\\":\\\"selected\\\",\\\"scope\\\":\\\"12023895830447387515\\\",\\\"id\\\":\\\"229720\\\",\\\"type\\\":\\\"observable\\\"},{})})); gd.on(\\\"plotly_relayout\\\",(function (data){var filtered_data=WebIO.PlotlyCommands.filterEventData(gd,data,\\\"relayout\\\"); return !(filtered_data.isnil) ? (WebIO.setval({\\\"name\\\":\\\"relayout\\\",\\\"scope\\\":\\\"12023895830447387515\\\",\\\"id\\\":\\\"229722\\\",\\\"type\\\":\\\"observable\\\"},filtered_data.out)) : undefined})); return gd.on(\\\"plotly_click\\\",(function (data){var filtered_data=WebIO.PlotlyCommands.filterEventData(gd,data,\\\"click\\\"); return !(filtered_data.isnil) ? (WebIO.setval({\\\"name\\\":\\\"click\\\",\\\"scope\\\":\\\"12023895830447387515\\\",\\\"id\\\":\\\"229721\\\",\\\"type\\\":\\\"observable\\\"},filtered_data.out)) : undefined}))}));\\n    (WebIO.importBlock({\\\"data\\\":[{\\\"name\\\":\\\"Plotly\\\",\\\"type\\\":\\\"js\\\",\\\"url\\\":\\\"\\/assetserver\\/b267c3137400db01c304fe886fe6f707be7fdb37-plotly.min.js\\\"},{\\\"name\\\":null,\\\"type\\\":\\\"js\\\",\\\"url\\\":\\\"\\/assetserver\\/020f2e8a4619f2ae880fff9315e6547eef1aff0b-plotly_webio.bundle.js\\\"}],\\\"type\\\":\\\"async_block\\\"})).then((imports) => handler.apply(this, imports));\\n}\\n\"],\"observables\":{\"_toImage\":{\"sync\":false,\"id\":\"229726\",\"value\":{}},\"hover\":{\"sync\":false,\"id\":\"229719\",\"value\":{}},\"selected\":{\"sync\":false,\"id\":\"229720\",\"value\":{}},\"__gd_contents\":{\"sync\":false,\"id\":\"229724\",\"value\":{}},\"click\":{\"sync\":false,\"id\":\"229721\",\"value\":{}},\"image\":{\"sync\":true,\"id\":\"229723\",\"value\":\"\"},\"__get_gd_contents\":{\"sync\":false,\"id\":\"229728\",\"value\":\"\"},\"_downloadImage\":{\"sync\":false,\"id\":\"229727\",\"value\":{}},\"relayout\":{\"sync\":false,\"id\":\"229722\",\"value\":{}},\"_commands\":{\"sync\":false,\"id\":\"229725\",\"value\":[]}}},\"children\":[{\"props\":{\"id\":\"plot-f0904a6a-32a2-445e-a6de-ea7cff084b3e\"},\"nodeType\":\"DOM\",\"type\":\"node\",\"instanceArgs\":{\"namespace\":\"html\",\"tag\":\"div\"},\"children\":[]}]},\n",
       "        window,\n",
       "    );\n",
       "    })()\n",
       "    </script>\n",
       "</div>\n"
      ],
      "text/plain": [
       "data: [\n",
       "  \"scatter with fields line, mode, type, x, and y\",\n",
       "  \"scatter with fields line, mode, type, x, and y\",\n",
       "  \"scatter with fields line, mode, type, x, and y\"\n",
       "]\n",
       "\n",
       "layout: \"layout with fields height, margin, plot_bgcolor, showlegend, template, title, width, xaxis, and yaxis\"\n",
       "\n"
      ]
     },
     "metadata": {},
     "output_type": "display_data"
    }
   ],
   "source": [
    "let t1 = -1.0, u1 = 1.0, t2 = 0.0, u2 = 0.0\n",
    "    p = Params(t1 = t1, u1 = u1, t2 = t2, u2 = u2)\n",
    "    plot_simple_kagome_bands(p = p, seedname = \"complex_nn_soc_1\", title = \"Nearest neighbor model with nearest spin-orbit coupling\")\n",
    "end"
   ]
  },
  {
   "cell_type": "markdown",
   "metadata": {},
   "source": [
    "## Reproducing the 3D band structure in section 2 of ArXiv:1308.0343 ##"
   ]
  },
  {
   "cell_type": "code",
   "execution_count": 191,
   "metadata": {},
   "outputs": [
    {
     "data": {
      "text/plain": [
       "plot_simple_kagome_bands3D (generic function with 1 method)"
      ]
     },
     "metadata": {},
     "output_type": "display_data"
    }
   ],
   "source": [
    "function plot_simple_kagome_bands3D(;p, seedname, title = Nothing)\n",
    "    # Here, we will plot the bands in 3D. We choose a rectanlge in the BZ over which we compute the spectrum. \n",
    "    # The length of each side ois 2 pi / a, where a is the lattice constant. \n",
    "    # kx ∈ [-pi/a, pi/a], ky ∈ [-pi/a, pi/a]\n",
    "\n",
    "    if title == Nothing\n",
    "        title = seedname\n",
    "    end\n",
    "\n",
    "    # construction of the grid \n",
    "    npts_perdim = 300\n",
    "    lim = 1.5\n",
    "    rng = LinRange(-lim * pi, lim * pi, npts_perdim)\n",
    "    grid = Matrix{Vector{Float64}}(undef, npts_perdim, npts_perdim)\n",
    "    for (n, kx) ∈ enumerate(rng)\n",
    "        for (m, ky) ∈ enumerate(rng)\n",
    "            grid[n, m] = [kx, ky]\n",
    "        end\n",
    "    end    \n",
    "    Bs = Matrix(recip_basis) \n",
    "\n",
    "    # to reduced coordinates \n",
    "    #rgrid = cart_to_red.(Ref(Bs), grid)\n",
    "\n",
    "    eks = evals3c.(grid, Ref(p))\n",
    "\n",
    "    ek_1 = map(e->e[1], eks)\n",
    "    ek_2 = map(e->e[2], eks)\n",
    "    ek_3 = map(e->e[3], eks)\n",
    "\n",
    "    kxs = reshape(map(e->e[1], grid), (npts_perdim, npts_perdim))\n",
    "    kys = reshape(map(e->e[2], grid), (npts_perdim, npts_perdim))\n",
    "\n",
    "    f = Figure()\n",
    "    ax = Axis3(f[1, 1], title = title, elevation = pi / 40.0)\n",
    "\n",
    "\n",
    "    Makie.surface!(ax, kxs, kys,  ek_1, colormap = :viridis)\n",
    "    Makie.surface!(ax, kxs, kys, ek_2, colormap = :viridis)\n",
    "    Makie.surface!(ax, kxs, kys, ek_3, colormap = :viridis)\n",
    "    ax.xlabel = L\"k_x\"\n",
    "    ax.ylabel = L\"k_y\"\n",
    "    Makie.save(assets_dir * seedname * \".png\", f)\n",
    "    display(f)\n",
    "end"
   ]
  },
  {
   "cell_type": "code",
   "execution_count": 200,
   "metadata": {},
   "outputs": [
    {
     "data": {
      "text/plain": [
       "GLMakie.Screen(...)"
      ]
     },
     "metadata": {},
     "output_type": "display_data"
    }
   ],
   "source": [
    "let t1 = -1.0, u1 = 0.0, t2 = 0.0, u2 = 0.0\n",
    "    p = Params(t1 = t1, u1 = u1, t2 = t2, u2 = u2)\n",
    "    plot_simple_kagome_bands3D(p = p, seedname = \"simple3D\", title = \"Nearest neighbor model without spin-orbit coupling\")\n",
    "end"
   ]
  },
  {
   "cell_type": "code",
   "execution_count": 193,
   "metadata": {},
   "outputs": [
    {
     "data": {
      "text/plain": [
       "GLMakie.Screen(...)"
      ]
     },
     "metadata": {},
     "output_type": "display_data"
    }
   ],
   "source": [
    "\n",
    "let t1 = -1.0, u1 = 0.28, t2 = 0.3, u2 = 0.2\n",
    "    p = Params(t1 = t1, u1 = u1, t2 = t2, u2 = u2)\n",
    "    plot_simple_kagome_bands3D(p = p, seedname = \"real_nnn_complex_nnn_3D\", title = \"Next to nearest neighbor model with spin-orbit coupling\")\n",
    "end"
   ]
  },
  {
   "cell_type": "code",
   "execution_count": 197,
   "metadata": {},
   "outputs": [
    {
     "data": {
      "text/plain": [
       "GLMakie.Screen(...)"
      ]
     },
     "metadata": {},
     "output_type": "display_data"
    }
   ],
   "source": [
    "let t1 = 1.0, u1 = 0.28, t2 = -0.3, u2 = 0.2\n",
    "    p = Params(t1 = t1, u1 = u1, t2 = t2, u2 = u2)\n",
    "    plot_simple_kagome_bands3D(p = p, seedname = \"case1_xiaogang\", title = \"Next to nearest neighbor model with spin-orbit coupling\")\n",
    "end"
   ]
  },
  {
   "cell_type": "code",
   "execution_count": 198,
   "metadata": {},
   "outputs": [
    {
     "data": {
      "text/plain": [
       "GLMakie.Screen(...)"
      ]
     },
     "metadata": {},
     "output_type": "display_data"
    }
   ],
   "source": [
    "let t1 = 1.0, u1 = 0.6, t2 = -0.3, u2 = 0.0\n",
    "    p = Params(t1 = t1, u1 = u1, t2 = t2, u2 = u2)\n",
    "    plot_simple_kagome_bands3D(p = p, seedname = \"case2_xiaogang\", title = \"All flat bands\")\n",
    "end"
   ]
  }
 ],
 "metadata": {
  "kernelspec": {
   "display_name": "Julia 1.11.4",
   "language": "julia",
   "name": "julia-1.11"
  },
  "language_info": {
   "file_extension": ".jl",
   "mimetype": "application/julia",
   "name": "julia",
   "version": "1.11.4"
  }
 },
 "nbformat": 4,
 "nbformat_minor": 2
}
