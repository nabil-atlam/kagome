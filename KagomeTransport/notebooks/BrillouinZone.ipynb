{
 "cells": [
  {
   "cell_type": "code",
   "execution_count": 103,
   "metadata": {},
   "outputs": [
    {
     "name": "stderr",
     "output_type": "stream",
     "text": [
      "WARNING: replacing module KagomeTransport.\n",
      "WARNING: using Kagome_Hamiltonian.evals3 in module Main conflicts with an existing identifier.\n",
      "WARNING: using Kagome_Hamiltonian.real_basis in module Main conflicts with an existing identifier.\n",
      "WARNING: using Kagome_Hamiltonian.recip_basis in module Main conflicts with an existing identifier.\n",
      "WARNING: using Kagome_Hamiltonian.Params in module Main conflicts with an existing identifier.\n"
     ]
    }
   ],
   "source": [
    "include(\"../src/KagomeTransport.jl\")\n",
    "\n",
    "using LinearAlgebra\n",
    "using StaticArrays\n",
    "using Brillouin\n",
    "using PlotlyJS\n",
    "using .KagomeTransport.Kagome_Hamiltonian\n",
    "using Printf\n",
    "using LaTeXStrings\n",
    "using Makie\n",
    "using GLMakie"
   ]
  },
  {
   "cell_type": "code",
   "execution_count": 104,
   "metadata": {},
   "outputs": [],
   "source": [
    "assets_dir = \"../assets/\";"
   ]
  },
  {
   "cell_type": "code",
   "execution_count": 105,
   "metadata": {},
   "outputs": [
    {
     "data": {
      "text/plain": [
       "red_to_cart (generic function with 1 method)"
      ]
     },
     "metadata": {},
     "output_type": "display_data"
    }
   ],
   "source": [
    "function make_cartesian(vecs, basis)\n",
    "    \"\"\"\n",
    "    Calculates for each v in vectors, v1 * basis[1, :] + v2 * basis[2, :]\n",
    "        This transforms from the reduced coordinates (w.r.t basis) to the cartesian coordinates \n",
    "    \"\"\"\n",
    "    cvecs = similar(vecs)\n",
    "    for (i, v) in enumerate(vecs)\n",
    "        cvecs[i] = basis' * v\n",
    "    end\n",
    "    cvecs\n",
    "end\n",
    "\n",
    "function make_reduced(cvecs, basis)\n",
    "    \"\"\"\n",
    "    Calculates for each v in vectors, v1 * basis[1, :] + v2 * basis[2, :]\n",
    "        This transforms from the reduced coordinates (w.r.t basis) to the cartesian coordinates \n",
    "    \"\"\"\n",
    "    rvecs = similar(cvecs)\n",
    "    for (i, v) in enumerate(cvecs)\n",
    "        rvecs[i] = inv(basis') * v\n",
    "    end\n",
    "    rvecs\n",
    "end\n",
    "\n",
    "\n",
    "function cart_to_red(recbasis, cvec)\n",
    "    inv(recbasis') * cvec\n",
    "end\n",
    "\n",
    "function red_to_cart(recbasis, rvec)\n",
    "    recbasis' * rvec\n",
    "end"
   ]
  },
  {
   "cell_type": "code",
   "execution_count": 106,
   "metadata": {},
   "outputs": [
    {
     "name": "stdout",
     "output_type": "stream",
     "text": [
      "--- Plotting the Wigner-Seitz cell in real space. \n",
      "\n",
      "--- Vertices of the real Wigner-Seitz cell (in reduced coordinates): \n",
      " -0.333333  -0.333333 \n",
      " -0.666667   0.333333 \n",
      " -0.333333   0.666667 \n",
      "  0.333333   0.333333 \n",
      "  0.666667  -0.333333 \n",
      "  0.333333  -0.666667 \n",
      "\n",
      "--- Vertices of the real Wigner-Seitz cell (in cartesian coordinates): \n",
      "  0.500000   0.288675 \n",
      "  0.500000  -0.288675 \n",
      "  0.000000  -0.577350 \n",
      " -0.500000  -0.288675 \n",
      " -0.500000   0.288675 \n",
      "  0.000000   0.577350 \n"
     ]
    },
    {
     "data": {
      "application/vnd.plotly.v1+json": {
       "config": {
        "displaylogo": false,
        "editable": false,
        "responsive": true,
        "scrollZoom": true,
        "showLink": false,
        "staticPlot": false
       },
       "data": [
        {
         "hoverinfo": "text+x+y",
         "hovertext": "Cell",
         "line": {
          "color": "rgb(47,54,64)",
          "width": 3
         },
         "mode": "lines",
         "type": "scatter",
         "x": [
          -0.5,
          0,
          0.5,
          0.5,
          0,
          -0.5,
          -0.5
         ],
         "y": [
          -0.28867513459481287,
          -0.5773502691896257,
          -0.28867513459481287,
          0.28867513459481287,
          0.5773502691896257,
          0.28867513459481287,
          -0.28867513459481287
         ]
        },
        {
         "hoverinfo": "text",
         "hovertext": "<b>v</b><sub>1</sub>",
         "line": {
          "color": "rgb(212,216,227)",
          "width": 5
         },
         "mode": "lines",
         "type": "scatter",
         "x": [
          0,
          -0.475
         ],
         "y": [
          0,
          0
         ]
        },
        {
         "hoverinfo": "text",
         "hovertext": "<b>v</b><sub>2</sub>",
         "line": {
          "color": "rgb(212,216,227)",
          "width": 5
         },
         "mode": "lines",
         "type": "scatter",
         "x": [
          0,
          -0.2375
         ],
         "y": [
          0,
          -0.41136206679760834
         ]
        },
        {
         "hoverinfo": "text+x+y",
         "hovertext": "<b>v</b><sub>1</sub>",
         "line": {
          "color": "rgb(39,60,117)",
          "width": 6
         },
         "mode": "lines",
         "type": "scatter",
         "x": [
          -0.525,
          -1
         ],
         "y": [
          0,
          0
         ]
        },
        {
         "hoverinfo": "text+x+y",
         "hovertext": "<b>v</b><sub>2</sub>",
         "line": {
          "color": "rgb(39,60,117)",
          "width": 6
         },
         "mode": "lines",
         "type": "scatter",
         "x": [
          -0.2625,
          -0.5
         ],
         "y": [
          -0.45466333698683026,
          -0.8660254037844386
         ]
        },
        {
         "hoverinfo": "text",
         "hovertext": "<b>x</b>",
         "line": {
          "color": "rgb(242,215,208)",
          "width": 5
         },
         "mode": "lines",
         "type": "scatter",
         "x": [
          0,
          0.475
         ],
         "y": [
          0,
          0
         ]
        },
        {
         "hoverinfo": "text",
         "hovertext": "<b>y</b>",
         "line": {
          "color": "rgb(242,215,208)",
          "width": 5
         },
         "mode": "lines",
         "type": "scatter",
         "x": [
          0,
          0
         ],
         "y": [
          0,
          0.5523502691896257
         ]
        },
        {
         "hoverinfo": "text",
         "hovertext": "<b>x</b>",
         "line": {
          "color": "rgb(194,54,22)",
          "width": 6
         },
         "mode": "lines",
         "type": "scatter",
         "x": [
          0.525,
          0.7
         ],
         "y": [
          0,
          0
         ]
        },
        {
         "hoverinfo": "text",
         "hovertext": "<b>y</b>",
         "line": {
          "color": "rgb(194,54,22)",
          "width": 6
         },
         "mode": "lines",
         "type": "scatter",
         "x": [
          0,
          0
         ],
         "y": [
          0.6023502691896258,
          0.7773502691896257
         ]
        }
       ],
       "frames": [],
       "layout": {
        "annotations": [
         {
          "arrowcolor": "rgb(39,60,117)",
          "arrowhead": 2,
          "arrowsize": 0.5,
          "arrowwidth": 6,
          "ax": -0.95,
          "axref": "x",
          "ay": 0,
          "ayref": "y",
          "showarrow": true,
          "x": -1.05,
          "xref": "ax",
          "y": 0,
          "yref": "ay"
         },
         {
          "arrowcolor": "rgb(39,60,117)",
          "arrowhead": 2,
          "arrowsize": 0.5,
          "arrowwidth": 6,
          "ax": -0.475,
          "axref": "x",
          "ay": -0.8227241335952167,
          "ayref": "y",
          "showarrow": true,
          "x": -0.525,
          "xref": "ax",
          "y": -0.9093266739736605,
          "yref": "ay"
         },
         {
          "arrowcolor": "rgb(194,54,22)",
          "arrowhead": 2,
          "arrowsize": 0.5,
          "arrowwidth": 6,
          "ax": 0.6499999999999999,
          "axref": "x",
          "ay": 0,
          "ayref": "y",
          "showarrow": true,
          "x": 0.75,
          "xref": "ax",
          "y": 0,
          "yref": "ay"
         },
         {
          "arrowcolor": "rgb(194,54,22)",
          "arrowhead": 2,
          "arrowsize": 0.5,
          "arrowwidth": 6,
          "ax": 0,
          "axref": "x",
          "ay": 0.7273502691896256,
          "ayref": "y",
          "showarrow": true,
          "x": 0,
          "xref": "ax",
          "y": 0.8273502691896257,
          "yref": "ay"
         }
        ],
        "aspectmode": "data",
        "autosize": false,
        "hovermode": "closest",
        "margin": {
         "b": 50,
         "l": 50,
         "r": 50,
         "t": 60
        },
        "paper_bgcolor": "rgba(255, 255, 255, 1)",
        "plot_bgcolor": "rgba(255, 255, 255, 1)",
        "showlegend": false,
        "template": {
         "data": {
          "bar": [
           {
            "error_x": {
             "color": "#2a3f5f"
            },
            "error_y": {
             "color": "#2a3f5f"
            },
            "marker": {
             "line": {
              "color": "#E5ECF6",
              "width": 0.5
             }
            },
            "type": "bar"
           }
          ],
          "barpolar": [
           {
            "marker": {
             "line": {
              "color": "#E5ECF6",
              "width": 0.5
             }
            },
            "type": "barpolar"
           }
          ],
          "carpet": [
           {
            "aaxis": {
             "endlinecolor": "#2a3f5f",
             "gridcolor": "white",
             "linecolor": "white",
             "minorgridcolor": "white",
             "startlinecolor": "#2a3f5f"
            },
            "baxis": {
             "endlinecolor": "#2a3f5f",
             "gridcolor": "white",
             "linecolor": "white",
             "minorgridcolor": "white",
             "startlinecolor": "#2a3f5f"
            },
            "type": "carpet"
           }
          ],
          "choropleth": [
           {
            "colorbar": {
             "outlinewidth": 0,
             "ticks": ""
            },
            "type": "choropleth"
           }
          ],
          "contour": [
           {
            "colorbar": {
             "outlinewidth": 0,
             "ticks": ""
            },
            "colorscale": [
             [
              0,
              "#0d0887"
             ],
             [
              0.1111111111111111,
              "#46039f"
             ],
             [
              0.2222222222222222,
              "#7201a8"
             ],
             [
              0.3333333333333333,
              "#9c179e"
             ],
             [
              0.4444444444444444,
              "#bd3786"
             ],
             [
              0.5555555555555556,
              "#d8576b"
             ],
             [
              0.6666666666666666,
              "#ed7953"
             ],
             [
              0.7777777777777778,
              "#fb9f3a"
             ],
             [
              0.8888888888888888,
              "#fdca26"
             ],
             [
              1,
              "#f0f921"
             ]
            ],
            "type": "contour"
           }
          ],
          "contourcarpet": [
           {
            "colorbar": {
             "outlinewidth": 0,
             "ticks": ""
            },
            "type": "contourcarpet"
           }
          ],
          "heatmap": [
           {
            "colorbar": {
             "outlinewidth": 0,
             "ticks": ""
            },
            "colorscale": [
             [
              0,
              "#0d0887"
             ],
             [
              0.1111111111111111,
              "#46039f"
             ],
             [
              0.2222222222222222,
              "#7201a8"
             ],
             [
              0.3333333333333333,
              "#9c179e"
             ],
             [
              0.4444444444444444,
              "#bd3786"
             ],
             [
              0.5555555555555556,
              "#d8576b"
             ],
             [
              0.6666666666666666,
              "#ed7953"
             ],
             [
              0.7777777777777778,
              "#fb9f3a"
             ],
             [
              0.8888888888888888,
              "#fdca26"
             ],
             [
              1,
              "#f0f921"
             ]
            ],
            "type": "heatmap"
           }
          ],
          "heatmapgl": [
           {
            "colorbar": {
             "outlinewidth": 0,
             "ticks": ""
            },
            "colorscale": [
             [
              0,
              "#0d0887"
             ],
             [
              0.1111111111111111,
              "#46039f"
             ],
             [
              0.2222222222222222,
              "#7201a8"
             ],
             [
              0.3333333333333333,
              "#9c179e"
             ],
             [
              0.4444444444444444,
              "#bd3786"
             ],
             [
              0.5555555555555556,
              "#d8576b"
             ],
             [
              0.6666666666666666,
              "#ed7953"
             ],
             [
              0.7777777777777778,
              "#fb9f3a"
             ],
             [
              0.8888888888888888,
              "#fdca26"
             ],
             [
              1,
              "#f0f921"
             ]
            ],
            "type": "heatmapgl"
           }
          ],
          "histogram": [
           {
            "marker": {
             "colorbar": {
              "outlinewidth": 0,
              "ticks": ""
             }
            },
            "type": "histogram"
           }
          ],
          "histogram2d": [
           {
            "colorbar": {
             "outlinewidth": 0,
             "ticks": ""
            },
            "colorscale": [
             [
              0,
              "#0d0887"
             ],
             [
              0.1111111111111111,
              "#46039f"
             ],
             [
              0.2222222222222222,
              "#7201a8"
             ],
             [
              0.3333333333333333,
              "#9c179e"
             ],
             [
              0.4444444444444444,
              "#bd3786"
             ],
             [
              0.5555555555555556,
              "#d8576b"
             ],
             [
              0.6666666666666666,
              "#ed7953"
             ],
             [
              0.7777777777777778,
              "#fb9f3a"
             ],
             [
              0.8888888888888888,
              "#fdca26"
             ],
             [
              1,
              "#f0f921"
             ]
            ],
            "type": "histogram2d"
           }
          ],
          "histogram2dcontour": [
           {
            "colorbar": {
             "outlinewidth": 0,
             "ticks": ""
            },
            "colorscale": [
             [
              0,
              "#0d0887"
             ],
             [
              0.1111111111111111,
              "#46039f"
             ],
             [
              0.2222222222222222,
              "#7201a8"
             ],
             [
              0.3333333333333333,
              "#9c179e"
             ],
             [
              0.4444444444444444,
              "#bd3786"
             ],
             [
              0.5555555555555556,
              "#d8576b"
             ],
             [
              0.6666666666666666,
              "#ed7953"
             ],
             [
              0.7777777777777778,
              "#fb9f3a"
             ],
             [
              0.8888888888888888,
              "#fdca26"
             ],
             [
              1,
              "#f0f921"
             ]
            ],
            "type": "histogram2dcontour"
           }
          ],
          "mesh3d": [
           {
            "colorbar": {
             "outlinewidth": 0,
             "ticks": ""
            },
            "type": "mesh3d"
           }
          ],
          "parcoords": [
           {
            "line": {
             "colorbar": {
              "outlinewidth": 0,
              "ticks": ""
             }
            },
            "type": "parcoords"
           }
          ],
          "pie": [
           {
            "automargin": true,
            "type": "pie"
           }
          ],
          "scatter": [
           {
            "marker": {
             "colorbar": {
              "outlinewidth": 0,
              "ticks": ""
             }
            },
            "type": "scatter"
           }
          ],
          "scatter3d": [
           {
            "line": {
             "colorbar": {
              "outlinewidth": 0,
              "ticks": ""
             }
            },
            "marker": {
             "colorbar": {
              "outlinewidth": 0,
              "ticks": ""
             }
            },
            "type": "scatter3d"
           }
          ],
          "scattercarpet": [
           {
            "marker": {
             "colorbar": {
              "outlinewidth": 0,
              "ticks": ""
             }
            },
            "type": "scattercarpet"
           }
          ],
          "scattergeo": [
           {
            "marker": {
             "colorbar": {
              "outlinewidth": 0,
              "ticks": ""
             }
            },
            "type": "scattergeo"
           }
          ],
          "scattergl": [
           {
            "marker": {
             "colorbar": {
              "outlinewidth": 0,
              "ticks": ""
             }
            },
            "type": "scattergl"
           }
          ],
          "scattermapbox": [
           {
            "marker": {
             "colorbar": {
              "outlinewidth": 0,
              "ticks": ""
             }
            },
            "type": "scattermapbox"
           }
          ],
          "scatterpolar": [
           {
            "marker": {
             "colorbar": {
              "outlinewidth": 0,
              "ticks": ""
             }
            },
            "type": "scatterpolar"
           }
          ],
          "scatterpolargl": [
           {
            "marker": {
             "colorbar": {
              "outlinewidth": 0,
              "ticks": ""
             }
            },
            "type": "scatterpolargl"
           }
          ],
          "scatterternary": [
           {
            "marker": {
             "colorbar": {
              "outlinewidth": 0,
              "ticks": ""
             }
            },
            "type": "scatterternary"
           }
          ],
          "surface": [
           {
            "colorbar": {
             "outlinewidth": 0,
             "ticks": ""
            },
            "colorscale": [
             [
              0,
              "#0d0887"
             ],
             [
              0.1111111111111111,
              "#46039f"
             ],
             [
              0.2222222222222222,
              "#7201a8"
             ],
             [
              0.3333333333333333,
              "#9c179e"
             ],
             [
              0.4444444444444444,
              "#bd3786"
             ],
             [
              0.5555555555555556,
              "#d8576b"
             ],
             [
              0.6666666666666666,
              "#ed7953"
             ],
             [
              0.7777777777777778,
              "#fb9f3a"
             ],
             [
              0.8888888888888888,
              "#fdca26"
             ],
             [
              1,
              "#f0f921"
             ]
            ],
            "type": "surface"
           }
          ],
          "table": [
           {
            "cells": {
             "fill": {
              "color": "#EBF0F8"
             },
             "line": {
              "color": "white"
             }
            },
            "header": {
             "fill": {
              "color": "#C8D4E3"
             },
             "line": {
              "color": "white"
             }
            },
            "type": "table"
           }
          ]
         },
         "layout": {
          "annotationdefaults": {
           "arrowcolor": "#2a3f5f",
           "arrowhead": 0,
           "arrowwidth": 1
          },
          "autotypenumbers": "strict",
          "coloraxis": {
           "colorbar": {
            "outlinewidth": 0,
            "ticks": ""
           }
          },
          "colorscale": {
           "diverging": [
            [
             0,
             "#8e0152"
            ],
            [
             0.1,
             "#c51b7d"
            ],
            [
             0.2,
             "#de77ae"
            ],
            [
             0.3,
             "#f1b6da"
            ],
            [
             0.4,
             "#fde0ef"
            ],
            [
             0.5,
             "#f7f7f7"
            ],
            [
             0.6,
             "#e6f5d0"
            ],
            [
             0.7,
             "#b8e186"
            ],
            [
             0.8,
             "#7fbc41"
            ],
            [
             0.9,
             "#4d9221"
            ],
            [
             1,
             "#276419"
            ]
           ],
           "sequential": [
            [
             0,
             "#0d0887"
            ],
            [
             0.1111111111111111,
             "#46039f"
            ],
            [
             0.2222222222222222,
             "#7201a8"
            ],
            [
             0.3333333333333333,
             "#9c179e"
            ],
            [
             0.4444444444444444,
             "#bd3786"
            ],
            [
             0.5555555555555556,
             "#d8576b"
            ],
            [
             0.6666666666666666,
             "#ed7953"
            ],
            [
             0.7777777777777778,
             "#fb9f3a"
            ],
            [
             0.8888888888888888,
             "#fdca26"
            ],
            [
             1,
             "#f0f921"
            ]
           ],
           "sequentialminus": [
            [
             0,
             "#0d0887"
            ],
            [
             0.1111111111111111,
             "#46039f"
            ],
            [
             0.2222222222222222,
             "#7201a8"
            ],
            [
             0.3333333333333333,
             "#9c179e"
            ],
            [
             0.4444444444444444,
             "#bd3786"
            ],
            [
             0.5555555555555556,
             "#d8576b"
            ],
            [
             0.6666666666666666,
             "#ed7953"
            ],
            [
             0.7777777777777778,
             "#fb9f3a"
            ],
            [
             0.8888888888888888,
             "#fdca26"
            ],
            [
             1,
             "#f0f921"
            ]
           ]
          },
          "colorway": [
           "#636efa",
           "#EF553B",
           "#00cc96",
           "#ab63fa",
           "#FFA15A",
           "#19d3f3",
           "#FF6692",
           "#B6E880",
           "#FF97FF",
           "#FECB52"
          ],
          "font": {
           "color": "#2a3f5f"
          },
          "geo": {
           "bgcolor": "white",
           "lakecolor": "white",
           "landcolor": "#E5ECF6",
           "showlakes": true,
           "showland": true,
           "subunitcolor": "white"
          },
          "hoverlabel": {
           "align": "left"
          },
          "hovermode": "closest",
          "mapbox": {
           "style": "light"
          },
          "paper_bgcolor": "white",
          "plot_bgcolor": "#E5ECF6",
          "polar": {
           "angularaxis": {
            "gridcolor": "white",
            "linecolor": "white",
            "ticks": ""
           },
           "bgcolor": "#E5ECF6",
           "radialaxis": {
            "gridcolor": "white",
            "linecolor": "white",
            "ticks": ""
           }
          },
          "scene": {
           "xaxis": {
            "backgroundcolor": "#E5ECF6",
            "gridcolor": "white",
            "gridwidth": 2,
            "linecolor": "white",
            "showbackground": true,
            "ticks": "",
            "zerolinecolor": "white"
           },
           "yaxis": {
            "backgroundcolor": "#E5ECF6",
            "gridcolor": "white",
            "gridwidth": 2,
            "linecolor": "white",
            "showbackground": true,
            "ticks": "",
            "zerolinecolor": "white"
           },
           "zaxis": {
            "backgroundcolor": "#E5ECF6",
            "gridcolor": "white",
            "gridwidth": 2,
            "linecolor": "white",
            "showbackground": true,
            "ticks": "",
            "zerolinecolor": "white"
           }
          },
          "shapedefaults": {
           "line": {
            "color": "#2a3f5f"
           }
          },
          "ternary": {
           "aaxis": {
            "gridcolor": "white",
            "linecolor": "white",
            "ticks": ""
           },
           "baxis": {
            "gridcolor": "white",
            "linecolor": "white",
            "ticks": ""
           },
           "bgcolor": "#E5ECF6",
           "caxis": {
            "gridcolor": "white",
            "linecolor": "white",
            "ticks": ""
           }
          },
          "title": {
           "x": 0.05
          },
          "xaxis": {
           "automargin": true,
           "gridcolor": "white",
           "linecolor": "white",
           "ticks": "",
           "title": {
            "standoff": 15
           },
           "zerolinecolor": "white",
           "zerolinewidth": 2
          },
          "yaxis": {
           "automargin": true,
           "gridcolor": "white",
           "linecolor": "white",
           "ticks": "",
           "title": {
            "standoff": 15
           },
           "zerolinecolor": "white",
           "zerolinewidth": 2
          }
         }
        },
        "xaxis": {
         "range": [
          -1.0666666666666667,
          1.0666666666666667
         ],
         "showbackground": false,
         "showgrid": false,
         "tickvals": [],
         "title": {
          "text": ""
         },
         "zeroline": false
        },
        "yaxis": {
         "range": [
          -0.9326920704511052,
          0.9326920704511052
         ],
         "scaleanchor": "x",
         "scaleratio": 1,
         "showbackground": false,
         "showgrid": false,
         "tickvals": [],
         "title": {
          "text": ""
         },
         "zeroline": false
        }
       }
      },
      "image/png": "[encoded data removed]",
      "image/svg+xml": [
       "<svg class=\"main-svg\" xmlns=\"http://www.w3.org/2000/svg\" xmlns:xlink=\"http://www.w3.org/1999/xlink\" width=\"700\" height=\"500\" style=\"\" viewBox=\"0 0 700 500\"><rect x=\"0\" y=\"0\" width=\"700\" height=\"500\" style=\"fill: rgb(255, 255, 255); fill-opacity: 1;\"/><defs id=\"defs-af5acd\"><g class=\"clips\"><clipPath id=\"clipaf5acdxyplot\" class=\"plotclip\"><rect width=\"600\" height=\"390\"/></clipPath><clipPath class=\"axesclip\" id=\"clipaf5acdx\"><rect x=\"50\" y=\"0\" width=\"600\" height=\"500\"/></clipPath><clipPath class=\"axesclip\" id=\"clipaf5acdy\"><rect x=\"0\" y=\"60\" width=\"700\" height=\"390\"/></clipPath><clipPath class=\"axesclip\" id=\"clipaf5acdxy\"><rect x=\"50\" y=\"60\" width=\"600\" height=\"390\"/></clipPath></g><g class=\"gradients\"/><g class=\"patterns\"/></defs><g class=\"bglayer\"/><g class=\"layer-below\"><g class=\"imagelayer\"/><g class=\"shapelayer\"/></g><g class=\"cartesianlayer\"><g class=\"subplot xy\"><g class=\"layer-subplot\"><g class=\"shapelayer\"/><g class=\"imagelayer\"/></g><g class=\"gridlayer\"><g class=\"x\"/><g class=\"y\"/></g><g class=\"zerolinelayer\"/><path class=\"xlines-below\"/><path class=\"ylines-below\"/><g class=\"overlines-below\"/><g class=\"xaxislayer-below\"/><g class=\"yaxislayer-below\"/><g class=\"overaxes-below\"/><g class=\"plot\" transform=\"translate(50,60)\" clip-path=\"url(#clipaf5acdxyplot)\"><g class=\"scatterlayer mlayer\"><g class=\"trace scatter traceef5e95\" style=\"stroke-miterlimit: 2; opacity: 1;\"><g class=\"fills\"/><g class=\"errorbars\"/><g class=\"lines\"><path class=\"js-line\" d=\"M195.46,255.35L300,315.71L404.54,255.35L404.54,134.65L300,74.29L195.46,134.65L195.46,255.35\" style=\"vector-effect: non-scaling-stroke; fill: none; stroke: rgb(47, 54, 64); stroke-opacity: 1; stroke-width: 3px; opacity: 1;\"/></g><g class=\"points\"/><g class=\"text\"/></g><g class=\"trace scatter trace8733b5\" style=\"stroke-miterlimit: 2; opacity: 1;\"><g class=\"fills\"/><g class=\"errorbars\"/><g class=\"lines\"><path class=\"js-line\" d=\"M300,195L200.69,195\" style=\"vector-effect: non-scaling-stroke; fill: none; stroke: rgb(212, 216, 227); stroke-opacity: 1; stroke-width: 5px; opacity: 1;\"/></g><g class=\"points\"/><g class=\"text\"/></g><g class=\"trace scatter trace23b44b\" style=\"stroke-miterlimit: 2; opacity: 1;\"><g class=\"fills\"/><g class=\"errorbars\"/><g class=\"lines\"><path class=\"js-line\" d=\"M300,195L250.35,281\" style=\"vector-effect: non-scaling-stroke; fill: none; stroke: rgb(212, 216, 227); stroke-opacity: 1; stroke-width: 5px; opacity: 1;\"/></g><g class=\"points\"/><g class=\"text\"/></g><g class=\"trace scatter traceabb4f7\" style=\"stroke-miterlimit: 2; opacity: 1;\"><g class=\"fills\"/><g class=\"errorbars\"/><g class=\"lines\"><path class=\"js-line\" d=\"M190.24,195L90.93,195\" style=\"vector-effect: non-scaling-stroke; fill: none; stroke: rgb(39, 60, 117); stroke-opacity: 1; stroke-width: 6px; opacity: 1;\"/></g><g class=\"points\"/><g class=\"text\"/></g><g class=\"trace scatter trace534078\" style=\"stroke-miterlimit: 2; opacity: 1;\"><g class=\"fills\"/><g class=\"errorbars\"/><g class=\"lines\"><path class=\"js-line\" d=\"M245.12,290.06L195.46,376.06\" style=\"vector-effect: non-scaling-stroke; fill: none; stroke: rgb(39, 60, 117); stroke-opacity: 1; stroke-width: 6px; opacity: 1;\"/></g><g class=\"points\"/><g class=\"text\"/></g><g class=\"trace scatter trace4716d9\" style=\"stroke-miterlimit: 2; opacity: 1;\"><g class=\"fills\"/><g class=\"errorbars\"/><g class=\"lines\"><path class=\"js-line\" d=\"M300,195L399.31,195\" style=\"vector-effect: non-scaling-stroke; fill: none; stroke: rgb(242, 215, 208); stroke-opacity: 1; stroke-width: 5px; opacity: 1;\"/></g><g class=\"points\"/><g class=\"text\"/></g><g class=\"trace scatter trace4dd184\" style=\"stroke-miterlimit: 2; opacity: 1;\"><g class=\"fills\"/><g class=\"errorbars\"/><g class=\"lines\"><path class=\"js-line\" d=\"M300,195L300,79.52\" style=\"vector-effect: non-scaling-stroke; fill: none; stroke: rgb(242, 215, 208); stroke-opacity: 1; stroke-width: 5px; opacity: 1;\"/></g><g class=\"points\"/><g class=\"text\"/></g><g class=\"trace scatter trace77cda9\" style=\"stroke-miterlimit: 2; opacity: 1;\"><g class=\"fills\"/><g class=\"errorbars\"/><g class=\"lines\"><path class=\"js-line\" d=\"M409.76,195L446.35,195\" style=\"vector-effect: non-scaling-stroke; fill: none; stroke: rgb(194, 54, 22); stroke-opacity: 1; stroke-width: 6px; opacity: 1;\"/></g><g class=\"points\"/><g class=\"text\"/></g><g class=\"trace scatter tracedd56cc\" style=\"stroke-miterlimit: 2; opacity: 1;\"><g class=\"fills\"/><g class=\"errorbars\"/><g class=\"lines\"><path class=\"js-line\" d=\"M300,69.07L300,32.48\" style=\"vector-effect: non-scaling-stroke; fill: none; stroke: rgb(194, 54, 22); stroke-opacity: 1; stroke-width: 6px; opacity: 1;\"/></g><g class=\"points\"/><g class=\"text\"/></g></g></g><g class=\"overplot\"/><path class=\"xlines-above crisp\" d=\"M0,0\" style=\"fill: none;\"/><path class=\"ylines-above crisp\" d=\"M0,0\" style=\"fill: none;\"/><g class=\"overlines-above\"/><g class=\"xaxislayer-above\"/><g class=\"yaxislayer-above\"/><g class=\"overaxes-above\"/></g></g><g class=\"polarlayer\"/><g class=\"ternarylayer\"/><g class=\"geolayer\"/><g class=\"funnelarealayer\"/><g class=\"pielayer\"/><g class=\"iciclelayer\"/><g class=\"treemaplayer\"/><g class=\"sunburstlayer\"/><g class=\"glimages\"/><defs id=\"topdefs-af5acd\"><g class=\"clips\"/></defs><g class=\"layer-above\"><g class=\"imagelayer\"/><g class=\"shapelayer\"/></g><g class=\"infolayer\"><g class=\"g-gtitle\"/><g class=\"g-xtitle\"/><g class=\"g-ytitle\"/><g class=\"annotation\" data-index=\"0\" style=\"opacity: 1;\"><g class=\"annotation-text-g\" transform=\"rotate(0,151.38,255)\"><g class=\"cursor-pointer\" transform=\"translate(148,245)\"><rect class=\"bg\" x=\"0.5\" y=\"0.5\" width=\"6\" height=\"20\" style=\"stroke-width: 1px; stroke: rgb(0, 0, 0); stroke-opacity: 0; fill: rgb(0, 0, 0); fill-opacity: 0;\"/><text class=\"annotation-text\" text-anchor=\"middle\" x=\"3.5625\" y=\"15\" style=\"font-family: 'Open Sans', verdana, arial, sans-serif; font-size: 12px; fill: rgb(42, 63, 95); fill-opacity: 1; white-space: pre;\"> </text></g></g><g class=\"annotation-arrow-g\" style=\"opacity: 1;\"><path d=\"M148.38,255L130.47,255\" style=\"stroke-width: 6px; stroke: rgb(39, 60, 117); stroke-opacity: 1; stroke-dasharray: 0px, 0px, 14.01px, 17.91px;\"/><path d=\"M-3.7,-2.5V2.5L1.3,0Z\" transform=\"translate(134.3699951171875,255)rotate(180)scale(3)\" style=\"fill: rgb(39, 60, 117); stroke-width: 0;\"/></g></g><g class=\"annotation\" data-index=\"1\" style=\"opacity: 1;\"><g class=\"annotation-text-g\" transform=\"rotate(0,250.69,427.01)\"><g class=\"cursor-pointer\" transform=\"translate(247,417)\"><rect class=\"bg\" x=\"0.5\" y=\"0.5\" width=\"6\" height=\"20\" style=\"stroke-width: 1px; stroke: rgb(0, 0, 0); stroke-opacity: 0; fill: rgb(0, 0, 0); fill-opacity: 0;\"/><text class=\"annotation-text\" text-anchor=\"middle\" x=\"3.5625\" y=\"15\" style=\"font-family: 'Open Sans', verdana, arial, sans-serif; font-size: 12px; fill: rgb(42, 63, 95); fill-opacity: 1; white-space: pre;\"> </text></g></g><g class=\"annotation-arrow-g\" style=\"opacity: 1;\"><path d=\"M247.69,432.20617224880385L240.24,445.11\" style=\"stroke-width: 6px; stroke: rgb(39, 60, 117); stroke-opacity: 1; stroke-dasharray: 0px, 0px, 11px, 14.9px;\"/><path d=\"M-3.7,-2.5V2.5L1.3,0Z\" transform=\"translate(242.19000244140625,441.73248291015625)rotate(119.99969619879586)scale(3)\" style=\"fill: rgb(39, 60, 117); stroke-width: 0;\"/></g></g><g class=\"annotation\" data-index=\"2\" style=\"opacity: 1;\"><g class=\"annotation-text-g\" transform=\"rotate(0,485.9,255)\"><g class=\"cursor-pointer\" transform=\"translate(482,245)\"><rect class=\"bg\" x=\"0.5\" y=\"0.5\" width=\"6\" height=\"20\" style=\"stroke-width: 1px; stroke: rgb(0, 0, 0); stroke-opacity: 0; fill: rgb(0, 0, 0); fill-opacity: 0;\"/><text class=\"annotation-text\" text-anchor=\"middle\" x=\"3.5625\" y=\"15\" style=\"font-family: 'Open Sans', verdana, arial, sans-serif; font-size: 12px; fill: rgb(42, 63, 95); fill-opacity: 1; white-space: pre;\"> </text></g></g><g class=\"annotation-arrow-g\" style=\"opacity: 1;\"><path d=\"M488.9,255L506.8,255\" style=\"stroke-width: 6px; stroke: rgb(194, 54, 22); stroke-opacity: 1; stroke-dasharray: 0px, 0px, 14px, 17.9px;\"/><path d=\"M-3.7,-2.5V2.5L1.3,0Z\" transform=\"translate(502.8999938964844,255)scale(3)\" style=\"fill: rgb(194, 54, 22); stroke-width: 0;\"/></g></g><g class=\"annotation\" data-index=\"3\" style=\"opacity: 1;\"><g class=\"annotation-text-g\" transform=\"rotate(0,350,102.93)\"><g class=\"cursor-pointer\" transform=\"translate(347,92)\"><rect class=\"bg\" x=\"0.5\" y=\"0.5\" width=\"6\" height=\"20\" style=\"stroke-width: 1px; stroke: rgb(0, 0, 0); stroke-opacity: 0; fill: rgb(0, 0, 0); fill-opacity: 0;\"/><text class=\"annotation-text\" text-anchor=\"middle\" x=\"3.5625\" y=\"15\" style=\"font-family: 'Open Sans', verdana, arial, sans-serif; font-size: 12px; fill: rgb(42, 63, 95); fill-opacity: 1; white-space: pre;\"> </text></g></g><g class=\"annotation-arrow-g\" style=\"opacity: 1;\"><path d=\"M350,92.93L350,82.02\" style=\"stroke-width: 6px; stroke: rgb(194, 54, 22); stroke-opacity: 1; stroke-dasharray: 0px, 0px, 7.01px, 10.91px;\"/><path d=\"M-3.7,-2.5V2.5L1.3,0Z\" transform=\"translate(350,85.91999816894531)rotate(-90)scale(3)\" style=\"fill: rgb(194, 54, 22); stroke-width: 0;\"/></g></g></g></svg>"
      ],
      "text/html": [
       "<div\n",
       "    class=\"webio-mountpoint\"\n",
       "    data-webio-mountpoint=\"8359096677540632918\"\n",
       ">\n",
       "    <script>\n",
       "    (function(){\n",
       "    // Some integrations (namely, IJulia/Jupyter) use an alternate render pathway than\n",
       "    // just putting the html on the page. If WebIO isn't defined, then it's pretty likely\n",
       "    // that we're in one of those situations and the integration just isn't installed\n",
       "    // correctly.\n",
       "    if (typeof window.WebIO === \"undefined\") {\n",
       "        document\n",
       "            .querySelector('[data-webio-mountpoint=\"8359096677540632918\"]')\n",
       "            .innerHTML = (\n",
       "                '<div style=\"padding: 1em; background-color: #f8d6da; border: 1px solid #f5c6cb; font-weight: bold;\">' +\n",
       "                '<p><strong>WebIO not detected.</strong></p>' +\n",
       "                '<p>Please read ' +\n",
       "                '<a href=\"https://juliagizmos.github.io/WebIO.jl/latest/troubleshooting/not-detected/\" target=\"_blank\">the troubleshooting guide</a> ' +\n",
       "                'for more information on how to resolve this issue.</p>' +\n",
       "                '<p><a href=\"https://juliagizmos.github.io/WebIO.jl/latest/troubleshooting/not-detected/\" target=\"_blank\">https://juliagizmos.github.io/WebIO.jl/latest/troubleshooting/not-detected/</a></p>' +\n",
       "                '</div>'\n",
       "            );\n",
       "        return;\n",
       "    }\n",
       "    WebIO.mount(\n",
       "        document.querySelector('[data-webio-mountpoint=\"8359096677540632918\"]'),\n",
       "        {\"props\":{},\"nodeType\":\"Scope\",\"type\":\"node\",\"instanceArgs\":{\"imports\":{\"data\":[{\"name\":\"Plotly\",\"type\":\"js\",\"url\":\"\\/assetserver\\/b267c3137400db01c304fe886fe6f707be7fdb37-plotly.min.js\"},{\"name\":null,\"type\":\"js\",\"url\":\"\\/assetserver\\/020f2e8a4619f2ae880fff9315e6547eef1aff0b-plotly_webio.bundle.js\"}],\"type\":\"async_block\"},\"id\":\"5459354248528158062\",\"handlers\":{\"_toImage\":[\"(function (options){return this.Plotly.toImage(this.plotElem,options).then((function (data){return WebIO.setval({\\\"name\\\":\\\"image\\\",\\\"scope\\\":\\\"5459354248528158062\\\",\\\"id\\\":\\\"167888\\\",\\\"type\\\":\\\"observable\\\"},data)}))})\"],\"__get_gd_contents\":[\"(function (prop){prop==\\\"data\\\" ? (WebIO.setval({\\\"name\\\":\\\"__gd_contents\\\",\\\"scope\\\":\\\"5459354248528158062\\\",\\\"id\\\":\\\"167889\\\",\\\"type\\\":\\\"observable\\\"},this.plotElem.data)) : undefined; return prop==\\\"layout\\\" ? (WebIO.setval({\\\"name\\\":\\\"__gd_contents\\\",\\\"scope\\\":\\\"5459354248528158062\\\",\\\"id\\\":\\\"167889\\\",\\\"type\\\":\\\"observable\\\"},this.plotElem.layout)) : undefined})\"],\"_downloadImage\":[\"(function (options){return this.Plotly.downloadImage(this.plotElem,options)})\"],\"_commands\":[\"(function (args){var fn=args.shift(); var elem=this.plotElem; var Plotly=this.Plotly; args.unshift(elem); return Plotly[fn].apply(this,args)})\"]},\"systemjs_options\":null,\"mount_callbacks\":[\"function () {\\n    var handler = ((function (Plotly,PlotlyWebIO){PlotlyWebIO.init(WebIO); var gd=this.dom.querySelector(\\\"#plot-05fadcc0-3964-464f-aafe-f209393eabe2\\\"); this.plotElem=gd; this.Plotly=Plotly; (window.Blink!==undefined) ? (gd.style.width=\\\"100%\\\", gd.style.height=\\\"100vh\\\", gd.style.marginLeft=\\\"0%\\\", gd.style.marginTop=\\\"0vh\\\") : undefined; window.onresize=(function (){return Plotly.Plots.resize(gd)}); Plotly.newPlot(gd,[{\\\"mode\\\":\\\"lines\\\",\\\"line\\\":{\\\"color\\\":\\\"rgb(47,54,64)\\\",\\\"width\\\":3},\\\"hovertext\\\":\\\"Cell\\\",\\\"y\\\":[-0.28867513459481287,-0.5773502691896257,-0.28867513459481287,0.28867513459481287,0.5773502691896257,0.28867513459481287,-0.28867513459481287],\\\"type\\\":\\\"scatter\\\",\\\"hoverinfo\\\":\\\"text+x+y\\\",\\\"x\\\":[-0.5,0.0,0.5,0.5,0.0,-0.5,-0.5]},{\\\"mode\\\":\\\"lines\\\",\\\"line\\\":{\\\"color\\\":\\\"rgb(212,216,227)\\\",\\\"width\\\":5},\\\"hovertext\\\":\\\"<b>v<\\/b><sub>1<\\/sub>\\\",\\\"y\\\":[-0.0,0.0],\\\"type\\\":\\\"scatter\\\",\\\"hoverinfo\\\":\\\"text\\\",\\\"x\\\":[-0.0,-0.475]},{\\\"mode\\\":\\\"lines\\\",\\\"line\\\":{\\\"color\\\":\\\"rgb(212,216,227)\\\",\\\"width\\\":5},\\\"hovertext\\\":\\\"<b>v<\\/b><sub>2<\\/sub>\\\",\\\"y\\\":[-0.0,-0.41136206679760834],\\\"type\\\":\\\"scatter\\\",\\\"hoverinfo\\\":\\\"text\\\",\\\"x\\\":[-0.0,-0.2375]},{\\\"mode\\\":\\\"lines\\\",\\\"line\\\":{\\\"color\\\":\\\"rgb(39,60,117)\\\",\\\"width\\\":6},\\\"hovertext\\\":\\\"<b>v<\\/b><sub>1<\\/sub>\\\",\\\"y\\\":[-0.0,0.0],\\\"type\\\":\\\"scatter\\\",\\\"hoverinfo\\\":\\\"text+x+y\\\",\\\"x\\\":[-0.525,-1.0]},{\\\"mode\\\":\\\"lines\\\",\\\"line\\\":{\\\"color\\\":\\\"rgb(39,60,117)\\\",\\\"width\\\":6},\\\"hovertext\\\":\\\"<b>v<\\/b><sub>2<\\/sub>\\\",\\\"y\\\":[-0.45466333698683026,-0.8660254037844386],\\\"type\\\":\\\"scatter\\\",\\\"hoverinfo\\\":\\\"text+x+y\\\",\\\"x\\\":[-0.2625,-0.5]},{\\\"mode\\\":\\\"lines\\\",\\\"line\\\":{\\\"color\\\":\\\"rgb(242,215,208)\\\",\\\"width\\\":5},\\\"hovertext\\\":\\\"<b>x<\\/b>\\\",\\\"y\\\":[0.0,0.0],\\\"type\\\":\\\"scatter\\\",\\\"hoverinfo\\\":\\\"text\\\",\\\"x\\\":[0.0,0.475]},{\\\"mode\\\":\\\"lines\\\",\\\"line\\\":{\\\"color\\\":\\\"rgb(242,215,208)\\\",\\\"width\\\":5},\\\"hovertext\\\":\\\"<b>y<\\/b>\\\",\\\"y\\\":[0.0,0.5523502691896257],\\\"type\\\":\\\"scatter\\\",\\\"hoverinfo\\\":\\\"text\\\",\\\"x\\\":[0.0,0.0]},{\\\"mode\\\":\\\"lines\\\",\\\"line\\\":{\\\"color\\\":\\\"rgb(194,54,22)\\\",\\\"width\\\":6},\\\"hovertext\\\":\\\"<b>x<\\/b>\\\",\\\"y\\\":[0.0,0.0],\\\"type\\\":\\\"scatter\\\",\\\"hoverinfo\\\":\\\"text\\\",\\\"x\\\":[0.525,0.7]},{\\\"mode\\\":\\\"lines\\\",\\\"line\\\":{\\\"color\\\":\\\"rgb(194,54,22)\\\",\\\"width\\\":6},\\\"hovertext\\\":\\\"<b>y<\\/b>\\\",\\\"y\\\":[0.6023502691896258,0.7773502691896257],\\\"type\\\":\\\"scatter\\\",\\\"hoverinfo\\\":\\\"text\\\",\\\"x\\\":[0.0,0.0]}],{\\\"showlegend\\\":false,\\\"xaxis\\\":{\\\"showgrid\\\":false,\\\"zeroline\\\":false,\\\"tickvals\\\":[],\\\"title\\\":{\\\"text\\\":\\\"\\\"},\\\"showbackground\\\":false,\\\"range\\\":[-1.0666666666666667,1.0666666666666667]},\\\"hovermode\\\":\\\"closest\\\",\\\"paper_bgcolor\\\":\\\"rgba(255, 255, 255, 1)\\\",\\\"template\\\":{\\\"layout\\\":{\\\"coloraxis\\\":{\\\"colorbar\\\":{\\\"ticks\\\":\\\"\\\",\\\"outlinewidth\\\":0}},\\\"xaxis\\\":{\\\"gridcolor\\\":\\\"white\\\",\\\"zerolinewidth\\\":2,\\\"title\\\":{\\\"standoff\\\":15},\\\"ticks\\\":\\\"\\\",\\\"zerolinecolor\\\":\\\"white\\\",\\\"automargin\\\":true,\\\"linecolor\\\":\\\"white\\\"},\\\"hovermode\\\":\\\"closest\\\",\\\"paper_bgcolor\\\":\\\"white\\\",\\\"geo\\\":{\\\"showlakes\\\":true,\\\"showland\\\":true,\\\"landcolor\\\":\\\"#E5ECF6\\\",\\\"bgcolor\\\":\\\"white\\\",\\\"subunitcolor\\\":\\\"white\\\",\\\"lakecolor\\\":\\\"white\\\"},\\\"colorscale\\\":{\\\"sequential\\\":[[0.0,\\\"#0d0887\\\"],[0.1111111111111111,\\\"#46039f\\\"],[0.2222222222222222,\\\"#7201a8\\\"],[0.3333333333333333,\\\"#9c179e\\\"],[0.4444444444444444,\\\"#bd3786\\\"],[0.5555555555555556,\\\"#d8576b\\\"],[0.6666666666666666,\\\"#ed7953\\\"],[0.7777777777777778,\\\"#fb9f3a\\\"],[0.8888888888888888,\\\"#fdca26\\\"],[1.0,\\\"#f0f921\\\"]],\\\"diverging\\\":[[0,\\\"#8e0152\\\"],[0.1,\\\"#c51b7d\\\"],[0.2,\\\"#de77ae\\\"],[0.3,\\\"#f1b6da\\\"],[0.4,\\\"#fde0ef\\\"],[0.5,\\\"#f7f7f7\\\"],[0.6,\\\"#e6f5d0\\\"],[0.7,\\\"#b8e186\\\"],[0.8,\\\"#7fbc41\\\"],[0.9,\\\"#4d9221\\\"],[1,\\\"#276419\\\"]],\\\"sequentialminus\\\":[[0.0,\\\"#0d0887\\\"],[0.1111111111111111,\\\"#46039f\\\"],[0.2222222222222222,\\\"#7201a8\\\"],[0.3333333333333333,\\\"#9c179e\\\"],[0.4444444444444444,\\\"#bd3786\\\"],[0.5555555555555556,\\\"#d8576b\\\"],[0.6666666666666666,\\\"#ed7953\\\"],[0.7777777777777778,\\\"#fb9f3a\\\"],[0.8888888888888888,\\\"#fdca26\\\"],[1.0,\\\"#f0f921\\\"]]},\\\"yaxis\\\":{\\\"gridcolor\\\":\\\"white\\\",\\\"zerolinewidth\\\":2,\\\"title\\\":{\\\"standoff\\\":15},\\\"ticks\\\":\\\"\\\",\\\"zerolinecolor\\\":\\\"white\\\",\\\"automargin\\\":true,\\\"linecolor\\\":\\\"white\\\"},\\\"shapedefaults\\\":{\\\"line\\\":{\\\"color\\\":\\\"#2a3f5f\\\"}},\\\"hoverlabel\\\":{\\\"align\\\":\\\"left\\\"},\\\"mapbox\\\":{\\\"style\\\":\\\"light\\\"},\\\"polar\\\":{\\\"angularaxis\\\":{\\\"gridcolor\\\":\\\"white\\\",\\\"ticks\\\":\\\"\\\",\\\"linecolor\\\":\\\"white\\\"},\\\"bgcolor\\\":\\\"#E5ECF6\\\",\\\"radialaxis\\\":{\\\"gridcolor\\\":\\\"white\\\",\\\"ticks\\\":\\\"\\\",\\\"linecolor\\\":\\\"white\\\"}},\\\"autotypenumbers\\\":\\\"strict\\\",\\\"font\\\":{\\\"color\\\":\\\"#2a3f5f\\\"},\\\"ternary\\\":{\\\"baxis\\\":{\\\"gridcolor\\\":\\\"white\\\",\\\"ticks\\\":\\\"\\\",\\\"linecolor\\\":\\\"white\\\"},\\\"bgcolor\\\":\\\"#E5ECF6\\\",\\\"caxis\\\":{\\\"gridcolor\\\":\\\"white\\\",\\\"ticks\\\":\\\"\\\",\\\"linecolor\\\":\\\"white\\\"},\\\"aaxis\\\":{\\\"gridcolor\\\":\\\"white\\\",\\\"ticks\\\":\\\"\\\",\\\"linecolor\\\":\\\"white\\\"}},\\\"annotationdefaults\\\":{\\\"arrowhead\\\":0,\\\"arrowwidth\\\":1,\\\"arrowcolor\\\":\\\"#2a3f5f\\\"},\\\"plot_bgcolor\\\":\\\"#E5ECF6\\\",\\\"title\\\":{\\\"x\\\":0.05},\\\"scene\\\":{\\\"xaxis\\\":{\\\"gridcolor\\\":\\\"white\\\",\\\"gridwidth\\\":2,\\\"backgroundcolor\\\":\\\"#E5ECF6\\\",\\\"ticks\\\":\\\"\\\",\\\"showbackground\\\":true,\\\"zerolinecolor\\\":\\\"white\\\",\\\"linecolor\\\":\\\"white\\\"},\\\"zaxis\\\":{\\\"gridcolor\\\":\\\"white\\\",\\\"gridwidth\\\":2,\\\"backgroundcolor\\\":\\\"#E5ECF6\\\",\\\"ticks\\\":\\\"\\\",\\\"showbackground\\\":true,\\\"zerolinecolor\\\":\\\"white\\\",\\\"linecolor\\\":\\\"white\\\"},\\\"yaxis\\\":{\\\"gridcolor\\\":\\\"white\\\",\\\"gridwidth\\\":2,\\\"backgroundcolor\\\":\\\"#E5ECF6\\\",\\\"ticks\\\":\\\"\\\",\\\"showbackground\\\":true,\\\"zerolinecolor\\\":\\\"white\\\",\\\"linecolor\\\":\\\"white\\\"}},\\\"colorway\\\":[\\\"#636efa\\\",\\\"#EF553B\\\",\\\"#00cc96\\\",\\\"#ab63fa\\\",\\\"#FFA15A\\\",\\\"#19d3f3\\\",\\\"#FF6692\\\",\\\"#B6E880\\\",\\\"#FF97FF\\\",\\\"#FECB52\\\"]},\\\"data\\\":{\\\"barpolar\\\":[{\\\"type\\\":\\\"barpolar\\\",\\\"marker\\\":{\\\"line\\\":{\\\"color\\\":\\\"#E5ECF6\\\",\\\"width\\\":0.5}}}],\\\"carpet\\\":[{\\\"aaxis\\\":{\\\"gridcolor\\\":\\\"white\\\",\\\"endlinecolor\\\":\\\"#2a3f5f\\\",\\\"minorgridcolor\\\":\\\"white\\\",\\\"startlinecolor\\\":\\\"#2a3f5f\\\",\\\"linecolor\\\":\\\"white\\\"},\\\"type\\\":\\\"carpet\\\",\\\"baxis\\\":{\\\"gridcolor\\\":\\\"white\\\",\\\"endlinecolor\\\":\\\"#2a3f5f\\\",\\\"minorgridcolor\\\":\\\"white\\\",\\\"startlinecolor\\\":\\\"#2a3f5f\\\",\\\"linecolor\\\":\\\"white\\\"}}],\\\"scatterpolar\\\":[{\\\"type\\\":\\\"scatterpolar\\\",\\\"marker\\\":{\\\"colorbar\\\":{\\\"ticks\\\":\\\"\\\",\\\"outlinewidth\\\":0}}}],\\\"parcoords\\\":[{\\\"line\\\":{\\\"colorbar\\\":{\\\"ticks\\\":\\\"\\\",\\\"outlinewidth\\\":0}},\\\"type\\\":\\\"parcoords\\\"}],\\\"scatter\\\":[{\\\"type\\\":\\\"scatter\\\",\\\"marker\\\":{\\\"colorbar\\\":{\\\"ticks\\\":\\\"\\\",\\\"outlinewidth\\\":0}}}],\\\"histogram2dcontour\\\":[{\\\"colorbar\\\":{\\\"ticks\\\":\\\"\\\",\\\"outlinewidth\\\":0},\\\"type\\\":\\\"histogram2dcontour\\\",\\\"colorscale\\\":[[0.0,\\\"#0d0887\\\"],[0.1111111111111111,\\\"#46039f\\\"],[0.2222222222222222,\\\"#7201a8\\\"],[0.3333333333333333,\\\"#9c179e\\\"],[0.4444444444444444,\\\"#bd3786\\\"],[0.5555555555555556,\\\"#d8576b\\\"],[0.6666666666666666,\\\"#ed7953\\\"],[0.7777777777777778,\\\"#fb9f3a\\\"],[0.8888888888888888,\\\"#fdca26\\\"],[1.0,\\\"#f0f921\\\"]]}],\\\"contour\\\":[{\\\"colorbar\\\":{\\\"ticks\\\":\\\"\\\",\\\"outlinewidth\\\":0},\\\"type\\\":\\\"contour\\\",\\\"colorscale\\\":[[0.0,\\\"#0d0887\\\"],[0.1111111111111111,\\\"#46039f\\\"],[0.2222222222222222,\\\"#7201a8\\\"],[0.3333333333333333,\\\"#9c179e\\\"],[0.4444444444444444,\\\"#bd3786\\\"],[0.5555555555555556,\\\"#d8576b\\\"],[0.6666666666666666,\\\"#ed7953\\\"],[0.7777777777777778,\\\"#fb9f3a\\\"],[0.8888888888888888,\\\"#fdca26\\\"],[1.0,\\\"#f0f921\\\"]]}],\\\"scattercarpet\\\":[{\\\"type\\\":\\\"scattercarpet\\\",\\\"marker\\\":{\\\"colorbar\\\":{\\\"ticks\\\":\\\"\\\",\\\"outlinewidth\\\":0}}}],\\\"mesh3d\\\":[{\\\"colorbar\\\":{\\\"ticks\\\":\\\"\\\",\\\"outlinewidth\\\":0},\\\"type\\\":\\\"mesh3d\\\"}],\\\"surface\\\":[{\\\"colorbar\\\":{\\\"ticks\\\":\\\"\\\",\\\"outlinewidth\\\":0},\\\"type\\\":\\\"surface\\\",\\\"colorscale\\\":[[0.0,\\\"#0d0887\\\"],[0.1111111111111111,\\\"#46039f\\\"],[0.2222222222222222,\\\"#7201a8\\\"],[0.3333333333333333,\\\"#9c179e\\\"],[0.4444444444444444,\\\"#bd3786\\\"],[0.5555555555555556,\\\"#d8576b\\\"],[0.6666666666666666,\\\"#ed7953\\\"],[0.7777777777777778,\\\"#fb9f3a\\\"],[0.8888888888888888,\\\"#fdca26\\\"],[1.0,\\\"#f0f921\\\"]]}],\\\"scattermapbox\\\":[{\\\"type\\\":\\\"scattermapbox\\\",\\\"marker\\\":{\\\"colorbar\\\":{\\\"ticks\\\":\\\"\\\",\\\"outlinewidth\\\":0}}}],\\\"scattergeo\\\":[{\\\"type\\\":\\\"scattergeo\\\",\\\"marker\\\":{\\\"colorbar\\\":{\\\"ticks\\\":\\\"\\\",\\\"outlinewidth\\\":0}}}],\\\"histogram\\\":[{\\\"type\\\":\\\"histogram\\\",\\\"marker\\\":{\\\"colorbar\\\":{\\\"ticks\\\":\\\"\\\",\\\"outlinewidth\\\":0}}}],\\\"pie\\\":[{\\\"type\\\":\\\"pie\\\",\\\"automargin\\\":true}],\\\"choropleth\\\":[{\\\"colorbar\\\":{\\\"ticks\\\":\\\"\\\",\\\"outlinewidth\\\":0},\\\"type\\\":\\\"choropleth\\\"}],\\\"heatmapgl\\\":[{\\\"colorbar\\\":{\\\"ticks\\\":\\\"\\\",\\\"outlinewidth\\\":0},\\\"type\\\":\\\"heatmapgl\\\",\\\"colorscale\\\":[[0.0,\\\"#0d0887\\\"],[0.1111111111111111,\\\"#46039f\\\"],[0.2222222222222222,\\\"#7201a8\\\"],[0.3333333333333333,\\\"#9c179e\\\"],[0.4444444444444444,\\\"#bd3786\\\"],[0.5555555555555556,\\\"#d8576b\\\"],[0.6666666666666666,\\\"#ed7953\\\"],[0.7777777777777778,\\\"#fb9f3a\\\"],[0.8888888888888888,\\\"#fdca26\\\"],[1.0,\\\"#f0f921\\\"]]}],\\\"bar\\\":[{\\\"type\\\":\\\"bar\\\",\\\"error_y\\\":{\\\"color\\\":\\\"#2a3f5f\\\"},\\\"error_x\\\":{\\\"color\\\":\\\"#2a3f5f\\\"},\\\"marker\\\":{\\\"line\\\":{\\\"color\\\":\\\"#E5ECF6\\\",\\\"width\\\":0.5}}}],\\\"heatmap\\\":[{\\\"colorbar\\\":{\\\"ticks\\\":\\\"\\\",\\\"outlinewidth\\\":0},\\\"type\\\":\\\"heatmap\\\",\\\"colorscale\\\":[[0.0,\\\"#0d0887\\\"],[0.1111111111111111,\\\"#46039f\\\"],[0.2222222222222222,\\\"#7201a8\\\"],[0.3333333333333333,\\\"#9c179e\\\"],[0.4444444444444444,\\\"#bd3786\\\"],[0.5555555555555556,\\\"#d8576b\\\"],[0.6666666666666666,\\\"#ed7953\\\"],[0.7777777777777778,\\\"#fb9f3a\\\"],[0.8888888888888888,\\\"#fdca26\\\"],[1.0,\\\"#f0f921\\\"]]}],\\\"contourcarpet\\\":[{\\\"colorbar\\\":{\\\"ticks\\\":\\\"\\\",\\\"outlinewidth\\\":0},\\\"type\\\":\\\"contourcarpet\\\"}],\\\"table\\\":[{\\\"type\\\":\\\"table\\\",\\\"header\\\":{\\\"line\\\":{\\\"color\\\":\\\"white\\\"},\\\"fill\\\":{\\\"color\\\":\\\"#C8D4E3\\\"}},\\\"cells\\\":{\\\"line\\\":{\\\"color\\\":\\\"white\\\"},\\\"fill\\\":{\\\"color\\\":\\\"#EBF0F8\\\"}}}],\\\"scatter3d\\\":[{\\\"line\\\":{\\\"colorbar\\\":{\\\"ticks\\\":\\\"\\\",\\\"outlinewidth\\\":0}},\\\"type\\\":\\\"scatter3d\\\",\\\"marker\\\":{\\\"colorbar\\\":{\\\"ticks\\\":\\\"\\\",\\\"outlinewidth\\\":0}}}],\\\"scattergl\\\":[{\\\"type\\\":\\\"scattergl\\\",\\\"marker\\\":{\\\"colorbar\\\":{\\\"ticks\\\":\\\"\\\",\\\"outlinewidth\\\":0}}}],\\\"histogram2d\\\":[{\\\"colorbar\\\":{\\\"ticks\\\":\\\"\\\",\\\"outlinewidth\\\":0},\\\"type\\\":\\\"histogram2d\\\",\\\"colorscale\\\":[[0.0,\\\"#0d0887\\\"],[0.1111111111111111,\\\"#46039f\\\"],[0.2222222222222222,\\\"#7201a8\\\"],[0.3333333333333333,\\\"#9c179e\\\"],[0.4444444444444444,\\\"#bd3786\\\"],[0.5555555555555556,\\\"#d8576b\\\"],[0.6666666666666666,\\\"#ed7953\\\"],[0.7777777777777778,\\\"#fb9f3a\\\"],[0.8888888888888888,\\\"#fdca26\\\"],[1.0,\\\"#f0f921\\\"]]}],\\\"scatterternary\\\":[{\\\"type\\\":\\\"scatterternary\\\",\\\"marker\\\":{\\\"colorbar\\\":{\\\"ticks\\\":\\\"\\\",\\\"outlinewidth\\\":0}}}],\\\"scatterpolargl\\\":[{\\\"type\\\":\\\"scatterpolargl\\\",\\\"marker\\\":{\\\"colorbar\\\":{\\\"ticks\\\":\\\"\\\",\\\"outlinewidth\\\":0}}}]}},\\\"yaxis\\\":{\\\"showgrid\\\":false,\\\"zeroline\\\":false,\\\"tickvals\\\":[],\\\"scaleanchor\\\":\\\"x\\\",\\\"scaleratio\\\":1,\\\"title\\\":{\\\"text\\\":\\\"\\\"},\\\"showbackground\\\":false,\\\"range\\\":[-0.9326920704511052,0.9326920704511052]},\\\"autosize\\\":false,\\\"annotations\\\":[{\\\"arrowcolor\\\":\\\"rgb(39,60,117)\\\",\\\"showarrow\\\":true,\\\"yref\\\":\\\"ay\\\",\\\"arrowsize\\\":0.5,\\\"arrowhead\\\":2,\\\"axref\\\":\\\"x\\\",\\\"y\\\":-0.0,\\\"ax\\\":-0.95,\\\"ay\\\":0.0,\\\"ayref\\\":\\\"y\\\",\\\"arrowwidth\\\":6,\\\"xref\\\":\\\"ax\\\",\\\"x\\\":-1.05},{\\\"arrowcolor\\\":\\\"rgb(39,60,117)\\\",\\\"showarrow\\\":true,\\\"yref\\\":\\\"ay\\\",\\\"arrowsize\\\":0.5,\\\"arrowhead\\\":2,\\\"axref\\\":\\\"x\\\",\\\"y\\\":-0.9093266739736605,\\\"ax\\\":-0.475,\\\"ay\\\":-0.8227241335952167,\\\"ayref\\\":\\\"y\\\",\\\"arrowwidth\\\":6,\\\"xref\\\":\\\"ax\\\",\\\"x\\\":-0.525},{\\\"arrowcolor\\\":\\\"rgb(194,54,22)\\\",\\\"showarrow\\\":true,\\\"yref\\\":\\\"ay\\\",\\\"arrowsize\\\":0.5,\\\"arrowhead\\\":2,\\\"axref\\\":\\\"x\\\",\\\"y\\\":0.0,\\\"ax\\\":0.6499999999999999,\\\"ay\\\":0.0,\\\"ayref\\\":\\\"y\\\",\\\"arrowwidth\\\":6,\\\"xref\\\":\\\"ax\\\",\\\"x\\\":0.75},{\\\"arrowcolor\\\":\\\"rgb(194,54,22)\\\",\\\"showarrow\\\":true,\\\"yref\\\":\\\"ay\\\",\\\"arrowsize\\\":0.5,\\\"arrowhead\\\":2,\\\"axref\\\":\\\"x\\\",\\\"y\\\":0.8273502691896257,\\\"ax\\\":0.0,\\\"ay\\\":0.7273502691896256,\\\"ayref\\\":\\\"y\\\",\\\"arrowwidth\\\":6,\\\"xref\\\":\\\"ax\\\",\\\"x\\\":0.0}],\\\"plot_bgcolor\\\":\\\"rgba(255, 255, 255, 1)\\\",\\\"margin\\\":{\\\"l\\\":50,\\\"b\\\":50,\\\"r\\\":50,\\\"t\\\":60},\\\"aspectmode\\\":\\\"data\\\"},{\\\"displaylogo\\\":false,\\\"showLink\\\":false,\\\"editable\\\":false,\\\"responsive\\\":true,\\\"staticPlot\\\":false,\\\"scrollZoom\\\":true}); gd.on(\\\"plotly_hover\\\",(function (data){var filtered_data=WebIO.PlotlyCommands.filterEventData(gd,data,\\\"hover\\\"); return !(filtered_data.isnil) ? (WebIO.setval({\\\"name\\\":\\\"hover\\\",\\\"scope\\\":\\\"5459354248528158062\\\",\\\"id\\\":\\\"167884\\\",\\\"type\\\":\\\"observable\\\"},filtered_data.out)) : undefined})); gd.on(\\\"plotly_unhover\\\",(function (){return WebIO.setval({\\\"name\\\":\\\"hover\\\",\\\"scope\\\":\\\"5459354248528158062\\\",\\\"id\\\":\\\"167884\\\",\\\"type\\\":\\\"observable\\\"},{})})); gd.on(\\\"plotly_selected\\\",(function (data){var filtered_data=WebIO.PlotlyCommands.filterEventData(gd,data,\\\"selected\\\"); return !(filtered_data.isnil) ? (WebIO.setval({\\\"name\\\":\\\"selected\\\",\\\"scope\\\":\\\"5459354248528158062\\\",\\\"id\\\":\\\"167885\\\",\\\"type\\\":\\\"observable\\\"},filtered_data.out)) : undefined})); gd.on(\\\"plotly_deselect\\\",(function (){return WebIO.setval({\\\"name\\\":\\\"selected\\\",\\\"scope\\\":\\\"5459354248528158062\\\",\\\"id\\\":\\\"167885\\\",\\\"type\\\":\\\"observable\\\"},{})})); gd.on(\\\"plotly_relayout\\\",(function (data){var filtered_data=WebIO.PlotlyCommands.filterEventData(gd,data,\\\"relayout\\\"); return !(filtered_data.isnil) ? (WebIO.setval({\\\"name\\\":\\\"relayout\\\",\\\"scope\\\":\\\"5459354248528158062\\\",\\\"id\\\":\\\"167887\\\",\\\"type\\\":\\\"observable\\\"},filtered_data.out)) : undefined})); return gd.on(\\\"plotly_click\\\",(function (data){var filtered_data=WebIO.PlotlyCommands.filterEventData(gd,data,\\\"click\\\"); return !(filtered_data.isnil) ? (WebIO.setval({\\\"name\\\":\\\"click\\\",\\\"scope\\\":\\\"5459354248528158062\\\",\\\"id\\\":\\\"167886\\\",\\\"type\\\":\\\"observable\\\"},filtered_data.out)) : undefined}))}));\\n    (WebIO.importBlock({\\\"data\\\":[{\\\"name\\\":\\\"Plotly\\\",\\\"type\\\":\\\"js\\\",\\\"url\\\":\\\"\\/assetserver\\/b267c3137400db01c304fe886fe6f707be7fdb37-plotly.min.js\\\"},{\\\"name\\\":null,\\\"type\\\":\\\"js\\\",\\\"url\\\":\\\"\\/assetserver\\/020f2e8a4619f2ae880fff9315e6547eef1aff0b-plotly_webio.bundle.js\\\"}],\\\"type\\\":\\\"async_block\\\"})).then((imports) => handler.apply(this, imports));\\n}\\n\"],\"observables\":{\"_toImage\":{\"sync\":false,\"id\":\"167891\",\"value\":{}},\"hover\":{\"sync\":false,\"id\":\"167884\",\"value\":{}},\"selected\":{\"sync\":false,\"id\":\"167885\",\"value\":{}},\"__gd_contents\":{\"sync\":false,\"id\":\"167889\",\"value\":{}},\"click\":{\"sync\":false,\"id\":\"167886\",\"value\":{}},\"image\":{\"sync\":true,\"id\":\"167888\",\"value\":\"\"},\"__get_gd_contents\":{\"sync\":false,\"id\":\"167893\",\"value\":\"\"},\"_downloadImage\":{\"sync\":false,\"id\":\"167892\",\"value\":{}},\"relayout\":{\"sync\":false,\"id\":\"167887\",\"value\":{}},\"_commands\":{\"sync\":false,\"id\":\"167890\",\"value\":[]}}},\"children\":[{\"props\":{\"id\":\"plot-05fadcc0-3964-464f-aafe-f209393eabe2\"},\"nodeType\":\"DOM\",\"type\":\"node\",\"instanceArgs\":{\"namespace\":\"html\",\"tag\":\"div\"},\"children\":[]}]},\n",
       "        window,\n",
       "    );\n",
       "    })()\n",
       "    </script>\n",
       "</div>\n"
      ],
      "text/plain": [
       "data: [\n",
       "  \"scatter with fields hoverinfo, hovertext, line, mode, type, x, and y\",\n",
       "  \"scatter with fields hoverinfo, hovertext, line, mode, type, x, and y\",\n",
       "  \"scatter with fields hoverinfo, hovertext, line, mode, type, x, and y\",\n",
       "  \"scatter with fields hoverinfo, hovertext, line, mode, type, x, and y\",\n",
       "  \"scatter with fields hoverinfo, hovertext, line, mode, type, x, and y\",\n",
       "  \"scatter with fields hoverinfo, hovertext, line, mode, type, x, and y\",\n",
       "  \"scatter with fields hoverinfo, hovertext, line, mode, type, x, and y\",\n",
       "  \"scatter with fields hoverinfo, hovertext, line, mode, type, x, and y\",\n",
       "  \"scatter with fields hoverinfo, hovertext, line, mode, type, x, and y\"\n",
       "]\n",
       "\n",
       "layout: \"layout with fields annotations, aspectmode, autosize, hovermode, margin, paper_bgcolor, plot_bgcolor, showlegend, template, xaxis, and yaxis\"\n",
       "\n"
      ]
     },
     "metadata": {},
     "output_type": "display_data"
    }
   ],
   "source": [
    "let\n",
    "    print(\"--- Plotting the Wigner-Seitz cell in real space. \\n\")\n",
    "    print(\"\\n\")\n",
    "\n",
    "    As = [real_basis[i, :] for i ∈ 1 : size(real_basis, 1)]\n",
    "    real_wignerseitz = wignerseitz(As)\n",
    "\n",
    "    vertices = real_wignerseitz.verts\n",
    "\n",
    "    print(\"--- Vertices of the real Wigner-Seitz cell (in reduced coordinates): \\n\")\n",
    "    for v ∈ vertices\n",
    "        @printf(\"%10f %10f \\n\", v[1], v[2])\n",
    "    end\n",
    "\n",
    "    cvecs = make_cartesian(vertices, As)\n",
    "\n",
    "    print(\"\\n\")\n",
    "    print(\"--- Vertices of the real Wigner-Seitz cell (in cartesian coordinates): \\n\")\n",
    "    for v ∈ cvecs\n",
    "        @printf(\"%10f %10f \\n\", v[1], v[2])\n",
    "    end\n",
    "\n",
    "    pbzb = PlotlyJS.plot(real_wignerseitz)\n",
    "    PlotlyJS.savefig(pbzb, assets_dir * \"real_pbzb.png\")\n",
    "    display(pbzb)\n",
    "\n",
    "end"
   ]
  },
  {
   "cell_type": "code",
   "execution_count": 107,
   "metadata": {},
   "outputs": [
    {
     "name": "stdout",
     "output_type": "stream",
     "text": [
      "--- Plotting the Wigner-Seitz cell in reciprocal space. \n",
      "\n",
      "--- Vertices of the reciprocal Wigner-Seitz cell (in reduced coordinates): \n",
      " -0.333333   0.333333 \n",
      " -0.666667  -0.333333 \n",
      " -0.333333  -0.666667 \n",
      "  0.333333  -0.333333 \n",
      "  0.666667   0.333333 \n",
      "  0.333333   0.666667 \n",
      "\n",
      "--- Vertices of the reciprocal Wigner-Seitz cell (in cartesian coordinates): \n",
      "  0.333333  -0.577350 \n",
      "  0.666667   0.000000 \n",
      "  0.333333   0.577350 \n",
      " -0.333333   0.577350 \n",
      " -0.666667   0.000000 \n",
      " -0.333333  -0.577350 \n"
     ]
    },
    {
     "data": {
      "application/vnd.plotly.v1+json": {
       "config": {
        "displaylogo": false,
        "editable": false,
        "responsive": true,
        "scrollZoom": true,
        "showLink": false,
        "staticPlot": false
       },
       "data": [
        {
         "hoverinfo": "text+x+y",
         "hovertext": "Cell",
         "line": {
          "color": "rgb(47,54,64)",
          "width": 3
         },
         "mode": "lines",
         "type": "scatter",
         "x": [
          0.33333333333333326,
          0.6666666666666667,
          0.33333333333333326,
          -0.33333333333333337,
          -0.6666666666666667,
          -0.33333333333333326,
          0.33333333333333326
         ],
         "y": [
          -0.5773502691896258,
          0,
          0.5773502691896258,
          0.5773502691896258,
          0,
          -0.5773502691896258,
          -0.5773502691896258
         ]
        },
        {
         "hoverinfo": "text",
         "hovertext": "<b>v</b><sub>1</sub>",
         "line": {
          "color": "rgb(212,216,227)",
          "width": 5
         },
         "mode": "lines",
         "type": "scatter",
         "x": [
          0,
          -0.475
         ],
         "y": [
          0,
          0.2742413778650723
         ]
        },
        {
         "hoverinfo": "text",
         "hovertext": "<b>v</b><sub>2</sub>",
         "line": {
          "color": "rgb(212,216,227)",
          "width": 5
         },
         "mode": "lines",
         "type": "scatter",
         "x": [
          0,
          0
         ],
         "y": [
          0,
          -0.5484827557301446
         ]
        },
        {
         "hoverinfo": "text+x+y",
         "hovertext": "<b>v</b><sub>1</sub>",
         "line": {
          "color": "rgb(39,60,117)",
          "width": 6
         },
         "mode": "lines",
         "type": "scatter",
         "x": [
          -0.525,
          -1
         ],
         "y": [
          0.30310889132455354,
          0.5773502691896258
         ]
        },
        {
         "hoverinfo": "text+x+y",
         "hovertext": "<b>v</b><sub>2</sub>",
         "line": {
          "color": "rgb(39,60,117)",
          "width": 6
         },
         "mode": "lines",
         "type": "scatter",
         "x": [
          0,
          0
         ],
         "y": [
          -0.6062177826491071,
          -1.1547005383792517
         ]
        },
        {
         "hoverinfo": "text",
         "hovertext": "<b>x</b>",
         "line": {
          "color": "rgb(242,215,208)",
          "width": 5
         },
         "mode": "lines",
         "type": "scatter",
         "x": [
          0,
          0.6377991532071855
         ],
         "y": [
          0,
          0
         ]
        },
        {
         "hoverinfo": "text",
         "hovertext": "<b>y</b>",
         "line": {
          "color": "rgb(242,215,208)",
          "width": 5
         },
         "mode": "lines",
         "type": "scatter",
         "x": [
          0,
          0
         ],
         "y": [
          0,
          0.5484827557301446
         ]
        },
        {
         "hoverinfo": "text",
         "hovertext": "<b>x</b>",
         "line": {
          "color": "rgb(194,54,22)",
          "width": 6
         },
         "mode": "lines",
         "type": "scatter",
         "x": [
          0.695534180126148,
          0.8976067743425171
         ],
         "y": [
          0,
          0
         ]
        },
        {
         "hoverinfo": "text",
         "hovertext": "<b>y</b>",
         "line": {
          "color": "rgb(194,54,22)",
          "width": 6
         },
         "mode": "lines",
         "type": "scatter",
         "x": [
          0,
          0
         ],
         "y": [
          0.6062177826491071,
          0.8082903768654762
         ]
        }
       ],
       "frames": [],
       "layout": {
        "annotations": [
         {
          "arrowcolor": "rgb(39,60,117)",
          "arrowhead": 2,
          "arrowsize": 0.5,
          "arrowwidth": 6,
          "ax": -0.95,
          "axref": "x",
          "ay": 0.5484827557301446,
          "ayref": "y",
          "showarrow": true,
          "x": -1.05,
          "xref": "ax",
          "y": 0.6062177826491071,
          "yref": "ay"
         },
         {
          "arrowcolor": "rgb(39,60,117)",
          "arrowhead": 2,
          "arrowsize": 0.5,
          "arrowwidth": 6,
          "ax": 0,
          "axref": "x",
          "ay": -1.0969655114602892,
          "ayref": "y",
          "showarrow": true,
          "x": 0,
          "xref": "ax",
          "y": -1.2124355652982142,
          "yref": "ay"
         },
         {
          "arrowcolor": "rgb(194,54,22)",
          "arrowhead": 2,
          "arrowsize": 0.5,
          "arrowwidth": 6,
          "ax": 0.8398717474235545,
          "axref": "x",
          "ay": 0,
          "ayref": "y",
          "showarrow": true,
          "x": 0.9553418012614797,
          "xref": "ax",
          "y": 0,
          "yref": "ay"
         },
         {
          "arrowcolor": "rgb(194,54,22)",
          "arrowhead": 2,
          "arrowsize": 0.5,
          "arrowwidth": 6,
          "ax": 0,
          "axref": "x",
          "ay": 0.7505553499465136,
          "ayref": "y",
          "showarrow": true,
          "x": 0,
          "xref": "ax",
          "y": 0.8660254037844388,
          "yref": "ay"
         }
        ],
        "aspectmode": "data",
        "autosize": false,
        "hovermode": "closest",
        "margin": {
         "b": 50,
         "l": 50,
         "r": 50,
         "t": 60
        },
        "paper_bgcolor": "rgba(255, 255, 255, 1)",
        "plot_bgcolor": "rgba(255, 255, 255, 1)",
        "showlegend": false,
        "template": {
         "data": {
          "bar": [
           {
            "error_x": {
             "color": "#2a3f5f"
            },
            "error_y": {
             "color": "#2a3f5f"
            },
            "marker": {
             "line": {
              "color": "#E5ECF6",
              "width": 0.5
             }
            },
            "type": "bar"
           }
          ],
          "barpolar": [
           {
            "marker": {
             "line": {
              "color": "#E5ECF6",
              "width": 0.5
             }
            },
            "type": "barpolar"
           }
          ],
          "carpet": [
           {
            "aaxis": {
             "endlinecolor": "#2a3f5f",
             "gridcolor": "white",
             "linecolor": "white",
             "minorgridcolor": "white",
             "startlinecolor": "#2a3f5f"
            },
            "baxis": {
             "endlinecolor": "#2a3f5f",
             "gridcolor": "white",
             "linecolor": "white",
             "minorgridcolor": "white",
             "startlinecolor": "#2a3f5f"
            },
            "type": "carpet"
           }
          ],
          "choropleth": [
           {
            "colorbar": {
             "outlinewidth": 0,
             "ticks": ""
            },
            "type": "choropleth"
           }
          ],
          "contour": [
           {
            "colorbar": {
             "outlinewidth": 0,
             "ticks": ""
            },
            "colorscale": [
             [
              0,
              "#0d0887"
             ],
             [
              0.1111111111111111,
              "#46039f"
             ],
             [
              0.2222222222222222,
              "#7201a8"
             ],
             [
              0.3333333333333333,
              "#9c179e"
             ],
             [
              0.4444444444444444,
              "#bd3786"
             ],
             [
              0.5555555555555556,
              "#d8576b"
             ],
             [
              0.6666666666666666,
              "#ed7953"
             ],
             [
              0.7777777777777778,
              "#fb9f3a"
             ],
             [
              0.8888888888888888,
              "#fdca26"
             ],
             [
              1,
              "#f0f921"
             ]
            ],
            "type": "contour"
           }
          ],
          "contourcarpet": [
           {
            "colorbar": {
             "outlinewidth": 0,
             "ticks": ""
            },
            "type": "contourcarpet"
           }
          ],
          "heatmap": [
           {
            "colorbar": {
             "outlinewidth": 0,
             "ticks": ""
            },
            "colorscale": [
             [
              0,
              "#0d0887"
             ],
             [
              0.1111111111111111,
              "#46039f"
             ],
             [
              0.2222222222222222,
              "#7201a8"
             ],
             [
              0.3333333333333333,
              "#9c179e"
             ],
             [
              0.4444444444444444,
              "#bd3786"
             ],
             [
              0.5555555555555556,
              "#d8576b"
             ],
             [
              0.6666666666666666,
              "#ed7953"
             ],
             [
              0.7777777777777778,
              "#fb9f3a"
             ],
             [
              0.8888888888888888,
              "#fdca26"
             ],
             [
              1,
              "#f0f921"
             ]
            ],
            "type": "heatmap"
           }
          ],
          "heatmapgl": [
           {
            "colorbar": {
             "outlinewidth": 0,
             "ticks": ""
            },
            "colorscale": [
             [
              0,
              "#0d0887"
             ],
             [
              0.1111111111111111,
              "#46039f"
             ],
             [
              0.2222222222222222,
              "#7201a8"
             ],
             [
              0.3333333333333333,
              "#9c179e"
             ],
             [
              0.4444444444444444,
              "#bd3786"
             ],
             [
              0.5555555555555556,
              "#d8576b"
             ],
             [
              0.6666666666666666,
              "#ed7953"
             ],
             [
              0.7777777777777778,
              "#fb9f3a"
             ],
             [
              0.8888888888888888,
              "#fdca26"
             ],
             [
              1,
              "#f0f921"
             ]
            ],
            "type": "heatmapgl"
           }
          ],
          "histogram": [
           {
            "marker": {
             "colorbar": {
              "outlinewidth": 0,
              "ticks": ""
             }
            },
            "type": "histogram"
           }
          ],
          "histogram2d": [
           {
            "colorbar": {
             "outlinewidth": 0,
             "ticks": ""
            },
            "colorscale": [
             [
              0,
              "#0d0887"
             ],
             [
              0.1111111111111111,
              "#46039f"
             ],
             [
              0.2222222222222222,
              "#7201a8"
             ],
             [
              0.3333333333333333,
              "#9c179e"
             ],
             [
              0.4444444444444444,
              "#bd3786"
             ],
             [
              0.5555555555555556,
              "#d8576b"
             ],
             [
              0.6666666666666666,
              "#ed7953"
             ],
             [
              0.7777777777777778,
              "#fb9f3a"
             ],
             [
              0.8888888888888888,
              "#fdca26"
             ],
             [
              1,
              "#f0f921"
             ]
            ],
            "type": "histogram2d"
           }
          ],
          "histogram2dcontour": [
           {
            "colorbar": {
             "outlinewidth": 0,
             "ticks": ""
            },
            "colorscale": [
             [
              0,
              "#0d0887"
             ],
             [
              0.1111111111111111,
              "#46039f"
             ],
             [
              0.2222222222222222,
              "#7201a8"
             ],
             [
              0.3333333333333333,
              "#9c179e"
             ],
             [
              0.4444444444444444,
              "#bd3786"
             ],
             [
              0.5555555555555556,
              "#d8576b"
             ],
             [
              0.6666666666666666,
              "#ed7953"
             ],
             [
              0.7777777777777778,
              "#fb9f3a"
             ],
             [
              0.8888888888888888,
              "#fdca26"
             ],
             [
              1,
              "#f0f921"
             ]
            ],
            "type": "histogram2dcontour"
           }
          ],
          "mesh3d": [
           {
            "colorbar": {
             "outlinewidth": 0,
             "ticks": ""
            },
            "type": "mesh3d"
           }
          ],
          "parcoords": [
           {
            "line": {
             "colorbar": {
              "outlinewidth": 0,
              "ticks": ""
             }
            },
            "type": "parcoords"
           }
          ],
          "pie": [
           {
            "automargin": true,
            "type": "pie"
           }
          ],
          "scatter": [
           {
            "marker": {
             "colorbar": {
              "outlinewidth": 0,
              "ticks": ""
             }
            },
            "type": "scatter"
           }
          ],
          "scatter3d": [
           {
            "line": {
             "colorbar": {
              "outlinewidth": 0,
              "ticks": ""
             }
            },
            "marker": {
             "colorbar": {
              "outlinewidth": 0,
              "ticks": ""
             }
            },
            "type": "scatter3d"
           }
          ],
          "scattercarpet": [
           {
            "marker": {
             "colorbar": {
              "outlinewidth": 0,
              "ticks": ""
             }
            },
            "type": "scattercarpet"
           }
          ],
          "scattergeo": [
           {
            "marker": {
             "colorbar": {
              "outlinewidth": 0,
              "ticks": ""
             }
            },
            "type": "scattergeo"
           }
          ],
          "scattergl": [
           {
            "marker": {
             "colorbar": {
              "outlinewidth": 0,
              "ticks": ""
             }
            },
            "type": "scattergl"
           }
          ],
          "scattermapbox": [
           {
            "marker": {
             "colorbar": {
              "outlinewidth": 0,
              "ticks": ""
             }
            },
            "type": "scattermapbox"
           }
          ],
          "scatterpolar": [
           {
            "marker": {
             "colorbar": {
              "outlinewidth": 0,
              "ticks": ""
             }
            },
            "type": "scatterpolar"
           }
          ],
          "scatterpolargl": [
           {
            "marker": {
             "colorbar": {
              "outlinewidth": 0,
              "ticks": ""
             }
            },
            "type": "scatterpolargl"
           }
          ],
          "scatterternary": [
           {
            "marker": {
             "colorbar": {
              "outlinewidth": 0,
              "ticks": ""
             }
            },
            "type": "scatterternary"
           }
          ],
          "surface": [
           {
            "colorbar": {
             "outlinewidth": 0,
             "ticks": ""
            },
            "colorscale": [
             [
              0,
              "#0d0887"
             ],
             [
              0.1111111111111111,
              "#46039f"
             ],
             [
              0.2222222222222222,
              "#7201a8"
             ],
             [
              0.3333333333333333,
              "#9c179e"
             ],
             [
              0.4444444444444444,
              "#bd3786"
             ],
             [
              0.5555555555555556,
              "#d8576b"
             ],
             [
              0.6666666666666666,
              "#ed7953"
             ],
             [
              0.7777777777777778,
              "#fb9f3a"
             ],
             [
              0.8888888888888888,
              "#fdca26"
             ],
             [
              1,
              "#f0f921"
             ]
            ],
            "type": "surface"
           }
          ],
          "table": [
           {
            "cells": {
             "fill": {
              "color": "#EBF0F8"
             },
             "line": {
              "color": "white"
             }
            },
            "header": {
             "fill": {
              "color": "#C8D4E3"
             },
             "line": {
              "color": "white"
             }
            },
            "type": "table"
           }
          ]
         },
         "layout": {
          "annotationdefaults": {
           "arrowcolor": "#2a3f5f",
           "arrowhead": 0,
           "arrowwidth": 1
          },
          "autotypenumbers": "strict",
          "coloraxis": {
           "colorbar": {
            "outlinewidth": 0,
            "ticks": ""
           }
          },
          "colorscale": {
           "diverging": [
            [
             0,
             "#8e0152"
            ],
            [
             0.1,
             "#c51b7d"
            ],
            [
             0.2,
             "#de77ae"
            ],
            [
             0.3,
             "#f1b6da"
            ],
            [
             0.4,
             "#fde0ef"
            ],
            [
             0.5,
             "#f7f7f7"
            ],
            [
             0.6,
             "#e6f5d0"
            ],
            [
             0.7,
             "#b8e186"
            ],
            [
             0.8,
             "#7fbc41"
            ],
            [
             0.9,
             "#4d9221"
            ],
            [
             1,
             "#276419"
            ]
           ],
           "sequential": [
            [
             0,
             "#0d0887"
            ],
            [
             0.1111111111111111,
             "#46039f"
            ],
            [
             0.2222222222222222,
             "#7201a8"
            ],
            [
             0.3333333333333333,
             "#9c179e"
            ],
            [
             0.4444444444444444,
             "#bd3786"
            ],
            [
             0.5555555555555556,
             "#d8576b"
            ],
            [
             0.6666666666666666,
             "#ed7953"
            ],
            [
             0.7777777777777778,
             "#fb9f3a"
            ],
            [
             0.8888888888888888,
             "#fdca26"
            ],
            [
             1,
             "#f0f921"
            ]
           ],
           "sequentialminus": [
            [
             0,
             "#0d0887"
            ],
            [
             0.1111111111111111,
             "#46039f"
            ],
            [
             0.2222222222222222,
             "#7201a8"
            ],
            [
             0.3333333333333333,
             "#9c179e"
            ],
            [
             0.4444444444444444,
             "#bd3786"
            ],
            [
             0.5555555555555556,
             "#d8576b"
            ],
            [
             0.6666666666666666,
             "#ed7953"
            ],
            [
             0.7777777777777778,
             "#fb9f3a"
            ],
            [
             0.8888888888888888,
             "#fdca26"
            ],
            [
             1,
             "#f0f921"
            ]
           ]
          },
          "colorway": [
           "#636efa",
           "#EF553B",
           "#00cc96",
           "#ab63fa",
           "#FFA15A",
           "#19d3f3",
           "#FF6692",
           "#B6E880",
           "#FF97FF",
           "#FECB52"
          ],
          "font": {
           "color": "#2a3f5f"
          },
          "geo": {
           "bgcolor": "white",
           "lakecolor": "white",
           "landcolor": "#E5ECF6",
           "showlakes": true,
           "showland": true,
           "subunitcolor": "white"
          },
          "hoverlabel": {
           "align": "left"
          },
          "hovermode": "closest",
          "mapbox": {
           "style": "light"
          },
          "paper_bgcolor": "white",
          "plot_bgcolor": "#E5ECF6",
          "polar": {
           "angularaxis": {
            "gridcolor": "white",
            "linecolor": "white",
            "ticks": ""
           },
           "bgcolor": "#E5ECF6",
           "radialaxis": {
            "gridcolor": "white",
            "linecolor": "white",
            "ticks": ""
           }
          },
          "scene": {
           "xaxis": {
            "backgroundcolor": "#E5ECF6",
            "gridcolor": "white",
            "gridwidth": 2,
            "linecolor": "white",
            "showbackground": true,
            "ticks": "",
            "zerolinecolor": "white"
           },
           "yaxis": {
            "backgroundcolor": "#E5ECF6",
            "gridcolor": "white",
            "gridwidth": 2,
            "linecolor": "white",
            "showbackground": true,
            "ticks": "",
            "zerolinecolor": "white"
           },
           "zaxis": {
            "backgroundcolor": "#E5ECF6",
            "gridcolor": "white",
            "gridwidth": 2,
            "linecolor": "white",
            "showbackground": true,
            "ticks": "",
            "zerolinecolor": "white"
           }
          },
          "shapedefaults": {
           "line": {
            "color": "#2a3f5f"
           }
          },
          "ternary": {
           "aaxis": {
            "gridcolor": "white",
            "linecolor": "white",
            "ticks": ""
           },
           "baxis": {
            "gridcolor": "white",
            "linecolor": "white",
            "ticks": ""
           },
           "bgcolor": "#E5ECF6",
           "caxis": {
            "gridcolor": "white",
            "linecolor": "white",
            "ticks": ""
           }
          },
          "title": {
           "x": 0.05
          },
          "xaxis": {
           "automargin": true,
           "gridcolor": "white",
           "linecolor": "white",
           "ticks": "",
           "title": {
            "standoff": 15
           },
           "zerolinecolor": "white",
           "zerolinewidth": 2
          },
          "yaxis": {
           "automargin": true,
           "gridcolor": "white",
           "linecolor": "white",
           "ticks": "",
           "title": {
            "standoff": 15
           },
           "zerolinecolor": "white",
           "zerolinewidth": 2
          }
         }
        },
        "xaxis": {
         "range": [
          -1.0769800358919501,
          1.0769800358919501
         ],
         "showbackground": false,
         "showgrid": false,
         "tickvals": [],
         "title": {
          "text": ""
         },
         "zeroline": false
        },
        "yaxis": {
         "range": [
          -1.2316805742712018,
          1.2316805742712018
         ],
         "scaleanchor": "x",
         "scaleratio": 1,
         "showbackground": false,
         "showgrid": false,
         "tickvals": [],
         "title": {
          "text": ""
         },
         "zeroline": false
        }
       }
      },
      "image/png": "[encoded data removed]",
      "image/svg+xml": [
       "<svg class=\"main-svg\" xmlns=\"http://www.w3.org/2000/svg\" xmlns:xlink=\"http://www.w3.org/1999/xlink\" width=\"700\" height=\"500\" style=\"\" viewBox=\"0 0 700 500\"><rect x=\"0\" y=\"0\" width=\"700\" height=\"500\" style=\"fill: rgb(255, 255, 255); fill-opacity: 1;\"/><defs id=\"defs-78a4b0\"><g class=\"clips\"><clipPath id=\"clip78a4b0xyplot\" class=\"plotclip\"><rect width=\"600\" height=\"390\"/></clipPath><clipPath class=\"axesclip\" id=\"clip78a4b0x\"><rect x=\"50\" y=\"0\" width=\"600\" height=\"500\"/></clipPath><clipPath class=\"axesclip\" id=\"clip78a4b0y\"><rect x=\"0\" y=\"60\" width=\"700\" height=\"390\"/></clipPath><clipPath class=\"axesclip\" id=\"clip78a4b0xy\"><rect x=\"50\" y=\"60\" width=\"600\" height=\"390\"/></clipPath></g><g class=\"gradients\"/><g class=\"patterns\"/></defs><g class=\"bglayer\"/><g class=\"layer-below\"><g class=\"imagelayer\"/><g class=\"shapelayer\"/></g><g class=\"cartesianlayer\"><g class=\"subplot xy\"><g class=\"layer-subplot\"><g class=\"shapelayer\"/><g class=\"imagelayer\"/></g><g class=\"gridlayer\"><g class=\"x\"/><g class=\"y\"/></g><g class=\"zerolinelayer\"/><path class=\"xlines-below\"/><path class=\"ylines-below\"/><g class=\"overlines-below\"/><g class=\"xaxislayer-below\"/><g class=\"yaxislayer-below\"/><g class=\"overaxes-below\"/><g class=\"plot\" transform=\"translate(50,60)\" clip-path=\"url(#clip78a4b0xyplot)\"><g class=\"scatterlayer mlayer\"><g class=\"trace scatter trace22f7b7\" style=\"stroke-miterlimit: 2; opacity: 1;\"><g class=\"fills\"/><g class=\"errorbars\"/><g class=\"lines\"><path class=\"js-line\" d=\"M352.77,286.41L405.55,195L352.77,103.59L247.23,103.59L194.45,195L247.23,286.41L352.77,286.41\" style=\"vector-effect: non-scaling-stroke; fill: none; stroke: rgb(47, 54, 64); stroke-opacity: 1; stroke-width: 3px; opacity: 1;\"/></g><g class=\"points\"/><g class=\"text\"/></g><g class=\"trace scatter tracea36667\" style=\"stroke-miterlimit: 2; opacity: 1;\"><g class=\"fills\"/><g class=\"errorbars\"/><g class=\"lines\"><path class=\"js-line\" d=\"M300,195L224.8,151.58\" style=\"vector-effect: non-scaling-stroke; fill: none; stroke: rgb(212, 216, 227); stroke-opacity: 1; stroke-width: 5px; opacity: 1;\"/></g><g class=\"points\"/><g class=\"text\"/></g><g class=\"trace scatter trace2731d1\" style=\"stroke-miterlimit: 2; opacity: 1;\"><g class=\"fills\"/><g class=\"errorbars\"/><g class=\"lines\"><path class=\"js-line\" d=\"M300,195L300,281.84\" style=\"vector-effect: non-scaling-stroke; fill: none; stroke: rgb(212, 216, 227); stroke-opacity: 1; stroke-width: 5px; opacity: 1;\"/></g><g class=\"points\"/><g class=\"text\"/></g><g class=\"trace scatter trace8106b5\" style=\"stroke-miterlimit: 2; opacity: 1;\"><g class=\"fills\"/><g class=\"errorbars\"/><g class=\"lines\"><path class=\"js-line\" d=\"M216.88,147.01L141.68,103.59\" style=\"vector-effect: non-scaling-stroke; fill: none; stroke: rgb(39, 60, 117); stroke-opacity: 1; stroke-width: 6px; opacity: 1;\"/></g><g class=\"points\"/><g class=\"text\"/></g><g class=\"trace scatter trace1cd8e1\" style=\"stroke-miterlimit: 2; opacity: 1;\"><g class=\"fills\"/><g class=\"errorbars\"/><g class=\"lines\"><path class=\"js-line\" d=\"M300,290.98L300,377.81\" style=\"vector-effect: non-scaling-stroke; fill: none; stroke: rgb(39, 60, 117); stroke-opacity: 1; stroke-width: 6px; opacity: 1;\"/></g><g class=\"points\"/><g class=\"text\"/></g><g class=\"trace scatter traceb80de7\" style=\"stroke-miterlimit: 2; opacity: 1;\"><g class=\"fills\"/><g class=\"errorbars\"/><g class=\"lines\"><path class=\"js-line\" d=\"M300,195L400.98,195\" style=\"vector-effect: non-scaling-stroke; fill: none; stroke: rgb(242, 215, 208); stroke-opacity: 1; stroke-width: 5px; opacity: 1;\"/></g><g class=\"points\"/><g class=\"text\"/></g><g class=\"trace scatter trace1b7b71\" style=\"stroke-miterlimit: 2; opacity: 1;\"><g class=\"fills\"/><g class=\"errorbars\"/><g class=\"lines\"><path class=\"js-line\" d=\"M300,195L300,108.16\" style=\"vector-effect: non-scaling-stroke; fill: none; stroke: rgb(242, 215, 208); stroke-opacity: 1; stroke-width: 5px; opacity: 1;\"/></g><g class=\"points\"/><g class=\"text\"/></g><g class=\"trace scatter trace2b1854\" style=\"stroke-miterlimit: 2; opacity: 1;\"><g class=\"fills\"/><g class=\"errorbars\"/><g class=\"lines\"><path class=\"js-line\" d=\"M410.12,195L442.11,195\" style=\"vector-effect: non-scaling-stroke; fill: none; stroke: rgb(194, 54, 22); stroke-opacity: 1; stroke-width: 6px; opacity: 1;\"/></g><g class=\"points\"/><g class=\"text\"/></g><g class=\"trace scatter trace529242\" style=\"stroke-miterlimit: 2; opacity: 1;\"><g class=\"fills\"/><g class=\"errorbars\"/><g class=\"lines\"><path class=\"js-line\" d=\"M300,99.02L300,67.03\" style=\"vector-effect: non-scaling-stroke; fill: none; stroke: rgb(194, 54, 22); stroke-opacity: 1; stroke-width: 6px; opacity: 1;\"/></g><g class=\"points\"/><g class=\"text\"/></g></g></g><g class=\"overplot\"/><path class=\"xlines-above crisp\" d=\"M0,0\" style=\"fill: none;\"/><path class=\"ylines-above crisp\" d=\"M0,0\" style=\"fill: none;\"/><g class=\"overlines-above\"/><g class=\"xaxislayer-above\"/><g class=\"yaxislayer-above\"/><g class=\"overaxes-above\"/></g></g><g class=\"polarlayer\"/><g class=\"ternarylayer\"/><g class=\"geolayer\"/><g class=\"funnelarealayer\"/><g class=\"pielayer\"/><g class=\"iciclelayer\"/><g class=\"treemaplayer\"/><g class=\"sunburstlayer\"/><g class=\"glimages\"/><defs id=\"topdefs-78a4b0\"><g class=\"clips\"/></defs><g class=\"layer-above\"><g class=\"imagelayer\"/><g class=\"shapelayer\"/></g><g class=\"infolayer\"><g class=\"g-gtitle\"/><g class=\"g-xtitle\"/><g class=\"g-ytitle\"/><g class=\"annotation\" data-index=\"0\" style=\"opacity: 1;\"><g class=\"annotation-text-g\" transform=\"rotate(0,199.6,168.16)\"><g class=\"cursor-pointer\" transform=\"translate(196,158)\"><rect class=\"bg\" x=\"0.5\" y=\"0.5\" width=\"6\" height=\"20\" style=\"stroke-width: 1px; stroke: rgb(0, 0, 0); stroke-opacity: 0; fill: rgb(0, 0, 0); fill-opacity: 0;\"/><text class=\"annotation-text\" text-anchor=\"middle\" x=\"3.5625\" y=\"15\" style=\"font-family: 'Open Sans', verdana, arial, sans-serif; font-size: 12px; fill: rgb(42, 63, 95); fill-opacity: 1; white-space: pre;\"> </text></g></g><g class=\"annotation-arrow-g\" style=\"opacity: 1;\"><path d=\"M196.6,166.4289393939394L183.76,159.01999999999998\" style=\"stroke-width: 6px; stroke: rgb(39, 60, 117); stroke-opacity: 1; stroke-dasharray: 0px, 0px, 10.9242px, 14.8242px;\"/><path d=\"M-3.7,-2.5V2.5L1.3,0Z\" transform=\"translate(187.13796997070312,160.9691619873047)rotate(-150.01544779494427)scale(3)\" style=\"fill: rgb(39, 60, 117); stroke-width: 0;\"/></g></g><g class=\"annotation\" data-index=\"1\" style=\"opacity: 1;\"><g class=\"annotation-text-g\" transform=\"rotate(0,350,428.67)\"><g class=\"cursor-pointer\" transform=\"translate(347,418)\"><rect class=\"bg\" x=\"0.5\" y=\"0.5\" width=\"6\" height=\"20\" style=\"stroke-width: 1px; stroke: rgb(0, 0, 0); stroke-opacity: 0; fill: rgb(0, 0, 0); fill-opacity: 0;\"/><text class=\"annotation-text\" text-anchor=\"middle\" x=\"3.5625\" y=\"15\" style=\"font-family: 'Open Sans', verdana, arial, sans-serif; font-size: 12px; fill: rgb(42, 63, 95); fill-opacity: 1; white-space: pre;\"> </text></g></g><g class=\"annotation-arrow-g\" style=\"opacity: 1;\"><path d=\"M350,438.67L350,446.95\" style=\"stroke-width: 6px; stroke: rgb(39, 60, 117); stroke-opacity: 1; stroke-dasharray: 0px, 0px, 4.38px, 8.28px;\"/><path d=\"M-3.7,-2.5V2.5L1.3,0Z\" transform=\"translate(350,443.0500183105469)rotate(90)scale(3)\" style=\"fill: rgb(39, 60, 117); stroke-width: 0;\"/></g></g><g class=\"annotation\" data-index=\"2\" style=\"opacity: 1;\"><g class=\"annotation-text-g\" transform=\"rotate(0,482.97,255)\"><g class=\"cursor-pointer\" transform=\"translate(479,245)\"><rect class=\"bg\" x=\"0.5\" y=\"0.5\" width=\"6\" height=\"20\" style=\"stroke-width: 1px; stroke: rgb(0, 0, 0); stroke-opacity: 0; fill: rgb(0, 0, 0); fill-opacity: 0;\"/><text class=\"annotation-text\" text-anchor=\"middle\" x=\"3.5625\" y=\"15\" style=\"font-family: 'Open Sans', verdana, arial, sans-serif; font-size: 12px; fill: rgb(42, 63, 95); fill-opacity: 1; white-space: pre;\"> </text></g></g><g class=\"annotation-arrow-g\" style=\"opacity: 1;\"><path d=\"M485.97,255L501.25,255\" style=\"stroke-width: 6px; stroke: rgb(194, 54, 22); stroke-opacity: 1; stroke-dasharray: 0px, 0px, 11.38px, 15.28px;\"/><path d=\"M-3.7,-2.5V2.5L1.3,0Z\" transform=\"translate(497.3500061035156,255)scale(3)\" style=\"fill: rgb(194, 54, 22); stroke-width: 0;\"/></g></g><g class=\"annotation\" data-index=\"3\" style=\"opacity: 1;\"><g class=\"annotation-text-g\" transform=\"rotate(0,350,136.17000000000002)\"><g class=\"cursor-pointer\" transform=\"translate(347,126)\"><rect class=\"bg\" x=\"0.5\" y=\"0.5\" width=\"6\" height=\"20\" style=\"stroke-width: 1px; stroke: rgb(0, 0, 0); stroke-opacity: 0; fill: rgb(0, 0, 0); fill-opacity: 0;\"/><text class=\"annotation-text\" text-anchor=\"middle\" x=\"3.5625\" y=\"15\" style=\"font-family: 'Open Sans', verdana, arial, sans-serif; font-size: 12px; fill: rgb(42, 63, 95); fill-opacity: 1; white-space: pre;\"> </text></g></g><g class=\"annotation-arrow-g\" style=\"opacity: 1;\"><path d=\"M350,126.17000000000002L350,117.89\" style=\"stroke-width: 6px; stroke: rgb(194, 54, 22); stroke-opacity: 1; stroke-dasharray: 0px, 0px, 4.38px, 8.28px;\"/><path d=\"M-3.7,-2.5V2.5L1.3,0Z\" transform=\"translate(350,121.79000091552734)rotate(-90)scale(3)\" style=\"fill: rgb(194, 54, 22); stroke-width: 0;\"/></g></g></g></svg>"
      ],
      "text/html": [
       "<div\n",
       "    class=\"webio-mountpoint\"\n",
       "    data-webio-mountpoint=\"7426452648530913415\"\n",
       ">\n",
       "    <script>\n",
       "    (function(){\n",
       "    // Some integrations (namely, IJulia/Jupyter) use an alternate render pathway than\n",
       "    // just putting the html on the page. If WebIO isn't defined, then it's pretty likely\n",
       "    // that we're in one of those situations and the integration just isn't installed\n",
       "    // correctly.\n",
       "    if (typeof window.WebIO === \"undefined\") {\n",
       "        document\n",
       "            .querySelector('[data-webio-mountpoint=\"7426452648530913415\"]')\n",
       "            .innerHTML = (\n",
       "                '<div style=\"padding: 1em; background-color: #f8d6da; border: 1px solid #f5c6cb; font-weight: bold;\">' +\n",
       "                '<p><strong>WebIO not detected.</strong></p>' +\n",
       "                '<p>Please read ' +\n",
       "                '<a href=\"https://juliagizmos.github.io/WebIO.jl/latest/troubleshooting/not-detected/\" target=\"_blank\">the troubleshooting guide</a> ' +\n",
       "                'for more information on how to resolve this issue.</p>' +\n",
       "                '<p><a href=\"https://juliagizmos.github.io/WebIO.jl/latest/troubleshooting/not-detected/\" target=\"_blank\">https://juliagizmos.github.io/WebIO.jl/latest/troubleshooting/not-detected/</a></p>' +\n",
       "                '</div>'\n",
       "            );\n",
       "        return;\n",
       "    }\n",
       "    WebIO.mount(\n",
       "        document.querySelector('[data-webio-mountpoint=\"7426452648530913415\"]'),\n",
       "        {\"props\":{},\"nodeType\":\"Scope\",\"type\":\"node\",\"instanceArgs\":{\"imports\":{\"data\":[{\"name\":\"Plotly\",\"type\":\"js\",\"url\":\"\\/assetserver\\/b267c3137400db01c304fe886fe6f707be7fdb37-plotly.min.js\"},{\"name\":null,\"type\":\"js\",\"url\":\"\\/assetserver\\/020f2e8a4619f2ae880fff9315e6547eef1aff0b-plotly_webio.bundle.js\"}],\"type\":\"async_block\"},\"id\":\"4450915653425221816\",\"handlers\":{\"_toImage\":[\"(function (options){return this.Plotly.toImage(this.plotElem,options).then((function (data){return WebIO.setval({\\\"name\\\":\\\"image\\\",\\\"scope\\\":\\\"4450915653425221816\\\",\\\"id\\\":\\\"167898\\\",\\\"type\\\":\\\"observable\\\"},data)}))})\"],\"__get_gd_contents\":[\"(function (prop){prop==\\\"data\\\" ? (WebIO.setval({\\\"name\\\":\\\"__gd_contents\\\",\\\"scope\\\":\\\"4450915653425221816\\\",\\\"id\\\":\\\"167899\\\",\\\"type\\\":\\\"observable\\\"},this.plotElem.data)) : undefined; return prop==\\\"layout\\\" ? (WebIO.setval({\\\"name\\\":\\\"__gd_contents\\\",\\\"scope\\\":\\\"4450915653425221816\\\",\\\"id\\\":\\\"167899\\\",\\\"type\\\":\\\"observable\\\"},this.plotElem.layout)) : undefined})\"],\"_downloadImage\":[\"(function (options){return this.Plotly.downloadImage(this.plotElem,options)})\"],\"_commands\":[\"(function (args){var fn=args.shift(); var elem=this.plotElem; var Plotly=this.Plotly; args.unshift(elem); return Plotly[fn].apply(this,args)})\"]},\"systemjs_options\":null,\"mount_callbacks\":[\"function () {\\n    var handler = ((function (Plotly,PlotlyWebIO){PlotlyWebIO.init(WebIO); var gd=this.dom.querySelector(\\\"#plot-ddc82233-6956-44fb-bd32-bbcbe8b92202\\\"); this.plotElem=gd; this.Plotly=Plotly; (window.Blink!==undefined) ? (gd.style.width=\\\"100%\\\", gd.style.height=\\\"100vh\\\", gd.style.marginLeft=\\\"0%\\\", gd.style.marginTop=\\\"0vh\\\") : undefined; window.onresize=(function (){return Plotly.Plots.resize(gd)}); Plotly.newPlot(gd,[{\\\"mode\\\":\\\"lines\\\",\\\"line\\\":{\\\"color\\\":\\\"rgb(47,54,64)\\\",\\\"width\\\":3},\\\"hovertext\\\":\\\"Cell\\\",\\\"y\\\":[-0.5773502691896258,0.0,0.5773502691896258,0.5773502691896258,0.0,-0.5773502691896258,-0.5773502691896258],\\\"type\\\":\\\"scatter\\\",\\\"hoverinfo\\\":\\\"text+x+y\\\",\\\"x\\\":[0.33333333333333326,0.6666666666666667,0.33333333333333326,-0.33333333333333337,-0.6666666666666667,-0.33333333333333326,0.33333333333333326]},{\\\"mode\\\":\\\"lines\\\",\\\"line\\\":{\\\"color\\\":\\\"rgb(212,216,227)\\\",\\\"width\\\":5},\\\"hovertext\\\":\\\"<b>v<\\/b><sub>1<\\/sub>\\\",\\\"y\\\":[0.0,0.2742413778650723],\\\"type\\\":\\\"scatter\\\",\\\"hoverinfo\\\":\\\"text\\\",\\\"x\\\":[-0.0,-0.475]},{\\\"mode\\\":\\\"lines\\\",\\\"line\\\":{\\\"color\\\":\\\"rgb(212,216,227)\\\",\\\"width\\\":5},\\\"hovertext\\\":\\\"<b>v<\\/b><sub>2<\\/sub>\\\",\\\"y\\\":[-0.0,-0.5484827557301446],\\\"type\\\":\\\"scatter\\\",\\\"hoverinfo\\\":\\\"text\\\",\\\"x\\\":[0.0,0.0]},{\\\"mode\\\":\\\"lines\\\",\\\"line\\\":{\\\"color\\\":\\\"rgb(39,60,117)\\\",\\\"width\\\":6},\\\"hovertext\\\":\\\"<b>v<\\/b><sub>1<\\/sub>\\\",\\\"y\\\":[0.30310889132455354,0.5773502691896258],\\\"type\\\":\\\"scatter\\\",\\\"hoverinfo\\\":\\\"text+x+y\\\",\\\"x\\\":[-0.525,-1.0]},{\\\"mode\\\":\\\"lines\\\",\\\"line\\\":{\\\"color\\\":\\\"rgb(39,60,117)\\\",\\\"width\\\":6},\\\"hovertext\\\":\\\"<b>v<\\/b><sub>2<\\/sub>\\\",\\\"y\\\":[-0.6062177826491071,-1.1547005383792517],\\\"type\\\":\\\"scatter\\\",\\\"hoverinfo\\\":\\\"text+x+y\\\",\\\"x\\\":[0.0,0.0]},{\\\"mode\\\":\\\"lines\\\",\\\"line\\\":{\\\"color\\\":\\\"rgb(242,215,208)\\\",\\\"width\\\":5},\\\"hovertext\\\":\\\"<b>x<\\/b>\\\",\\\"y\\\":[0.0,0.0],\\\"type\\\":\\\"scatter\\\",\\\"hoverinfo\\\":\\\"text\\\",\\\"x\\\":[0.0,0.6377991532071855]},{\\\"mode\\\":\\\"lines\\\",\\\"line\\\":{\\\"color\\\":\\\"rgb(242,215,208)\\\",\\\"width\\\":5},\\\"hovertext\\\":\\\"<b>y<\\/b>\\\",\\\"y\\\":[0.0,0.5484827557301446],\\\"type\\\":\\\"scatter\\\",\\\"hoverinfo\\\":\\\"text\\\",\\\"x\\\":[0.0,0.0]},{\\\"mode\\\":\\\"lines\\\",\\\"line\\\":{\\\"color\\\":\\\"rgb(194,54,22)\\\",\\\"width\\\":6},\\\"hovertext\\\":\\\"<b>x<\\/b>\\\",\\\"y\\\":[0.0,0.0],\\\"type\\\":\\\"scatter\\\",\\\"hoverinfo\\\":\\\"text\\\",\\\"x\\\":[0.695534180126148,0.8976067743425171]},{\\\"mode\\\":\\\"lines\\\",\\\"line\\\":{\\\"color\\\":\\\"rgb(194,54,22)\\\",\\\"width\\\":6},\\\"hovertext\\\":\\\"<b>y<\\/b>\\\",\\\"y\\\":[0.6062177826491071,0.8082903768654762],\\\"type\\\":\\\"scatter\\\",\\\"hoverinfo\\\":\\\"text\\\",\\\"x\\\":[0.0,0.0]}],{\\\"showlegend\\\":false,\\\"xaxis\\\":{\\\"showgrid\\\":false,\\\"zeroline\\\":false,\\\"tickvals\\\":[],\\\"title\\\":{\\\"text\\\":\\\"\\\"},\\\"showbackground\\\":false,\\\"range\\\":[-1.0769800358919501,1.0769800358919501]},\\\"hovermode\\\":\\\"closest\\\",\\\"paper_bgcolor\\\":\\\"rgba(255, 255, 255, 1)\\\",\\\"template\\\":{\\\"layout\\\":{\\\"coloraxis\\\":{\\\"colorbar\\\":{\\\"ticks\\\":\\\"\\\",\\\"outlinewidth\\\":0}},\\\"xaxis\\\":{\\\"gridcolor\\\":\\\"white\\\",\\\"zerolinewidth\\\":2,\\\"title\\\":{\\\"standoff\\\":15},\\\"ticks\\\":\\\"\\\",\\\"zerolinecolor\\\":\\\"white\\\",\\\"automargin\\\":true,\\\"linecolor\\\":\\\"white\\\"},\\\"hovermode\\\":\\\"closest\\\",\\\"paper_bgcolor\\\":\\\"white\\\",\\\"geo\\\":{\\\"showlakes\\\":true,\\\"showland\\\":true,\\\"landcolor\\\":\\\"#E5ECF6\\\",\\\"bgcolor\\\":\\\"white\\\",\\\"subunitcolor\\\":\\\"white\\\",\\\"lakecolor\\\":\\\"white\\\"},\\\"colorscale\\\":{\\\"sequential\\\":[[0.0,\\\"#0d0887\\\"],[0.1111111111111111,\\\"#46039f\\\"],[0.2222222222222222,\\\"#7201a8\\\"],[0.3333333333333333,\\\"#9c179e\\\"],[0.4444444444444444,\\\"#bd3786\\\"],[0.5555555555555556,\\\"#d8576b\\\"],[0.6666666666666666,\\\"#ed7953\\\"],[0.7777777777777778,\\\"#fb9f3a\\\"],[0.8888888888888888,\\\"#fdca26\\\"],[1.0,\\\"#f0f921\\\"]],\\\"diverging\\\":[[0,\\\"#8e0152\\\"],[0.1,\\\"#c51b7d\\\"],[0.2,\\\"#de77ae\\\"],[0.3,\\\"#f1b6da\\\"],[0.4,\\\"#fde0ef\\\"],[0.5,\\\"#f7f7f7\\\"],[0.6,\\\"#e6f5d0\\\"],[0.7,\\\"#b8e186\\\"],[0.8,\\\"#7fbc41\\\"],[0.9,\\\"#4d9221\\\"],[1,\\\"#276419\\\"]],\\\"sequentialminus\\\":[[0.0,\\\"#0d0887\\\"],[0.1111111111111111,\\\"#46039f\\\"],[0.2222222222222222,\\\"#7201a8\\\"],[0.3333333333333333,\\\"#9c179e\\\"],[0.4444444444444444,\\\"#bd3786\\\"],[0.5555555555555556,\\\"#d8576b\\\"],[0.6666666666666666,\\\"#ed7953\\\"],[0.7777777777777778,\\\"#fb9f3a\\\"],[0.8888888888888888,\\\"#fdca26\\\"],[1.0,\\\"#f0f921\\\"]]},\\\"yaxis\\\":{\\\"gridcolor\\\":\\\"white\\\",\\\"zerolinewidth\\\":2,\\\"title\\\":{\\\"standoff\\\":15},\\\"ticks\\\":\\\"\\\",\\\"zerolinecolor\\\":\\\"white\\\",\\\"automargin\\\":true,\\\"linecolor\\\":\\\"white\\\"},\\\"shapedefaults\\\":{\\\"line\\\":{\\\"color\\\":\\\"#2a3f5f\\\"}},\\\"hoverlabel\\\":{\\\"align\\\":\\\"left\\\"},\\\"mapbox\\\":{\\\"style\\\":\\\"light\\\"},\\\"polar\\\":{\\\"angularaxis\\\":{\\\"gridcolor\\\":\\\"white\\\",\\\"ticks\\\":\\\"\\\",\\\"linecolor\\\":\\\"white\\\"},\\\"bgcolor\\\":\\\"#E5ECF6\\\",\\\"radialaxis\\\":{\\\"gridcolor\\\":\\\"white\\\",\\\"ticks\\\":\\\"\\\",\\\"linecolor\\\":\\\"white\\\"}},\\\"autotypenumbers\\\":\\\"strict\\\",\\\"font\\\":{\\\"color\\\":\\\"#2a3f5f\\\"},\\\"ternary\\\":{\\\"baxis\\\":{\\\"gridcolor\\\":\\\"white\\\",\\\"ticks\\\":\\\"\\\",\\\"linecolor\\\":\\\"white\\\"},\\\"bgcolor\\\":\\\"#E5ECF6\\\",\\\"caxis\\\":{\\\"gridcolor\\\":\\\"white\\\",\\\"ticks\\\":\\\"\\\",\\\"linecolor\\\":\\\"white\\\"},\\\"aaxis\\\":{\\\"gridcolor\\\":\\\"white\\\",\\\"ticks\\\":\\\"\\\",\\\"linecolor\\\":\\\"white\\\"}},\\\"annotationdefaults\\\":{\\\"arrowhead\\\":0,\\\"arrowwidth\\\":1,\\\"arrowcolor\\\":\\\"#2a3f5f\\\"},\\\"plot_bgcolor\\\":\\\"#E5ECF6\\\",\\\"title\\\":{\\\"x\\\":0.05},\\\"scene\\\":{\\\"xaxis\\\":{\\\"gridcolor\\\":\\\"white\\\",\\\"gridwidth\\\":2,\\\"backgroundcolor\\\":\\\"#E5ECF6\\\",\\\"ticks\\\":\\\"\\\",\\\"showbackground\\\":true,\\\"zerolinecolor\\\":\\\"white\\\",\\\"linecolor\\\":\\\"white\\\"},\\\"zaxis\\\":{\\\"gridcolor\\\":\\\"white\\\",\\\"gridwidth\\\":2,\\\"backgroundcolor\\\":\\\"#E5ECF6\\\",\\\"ticks\\\":\\\"\\\",\\\"showbackground\\\":true,\\\"zerolinecolor\\\":\\\"white\\\",\\\"linecolor\\\":\\\"white\\\"},\\\"yaxis\\\":{\\\"gridcolor\\\":\\\"white\\\",\\\"gridwidth\\\":2,\\\"backgroundcolor\\\":\\\"#E5ECF6\\\",\\\"ticks\\\":\\\"\\\",\\\"showbackground\\\":true,\\\"zerolinecolor\\\":\\\"white\\\",\\\"linecolor\\\":\\\"white\\\"}},\\\"colorway\\\":[\\\"#636efa\\\",\\\"#EF553B\\\",\\\"#00cc96\\\",\\\"#ab63fa\\\",\\\"#FFA15A\\\",\\\"#19d3f3\\\",\\\"#FF6692\\\",\\\"#B6E880\\\",\\\"#FF97FF\\\",\\\"#FECB52\\\"]},\\\"data\\\":{\\\"barpolar\\\":[{\\\"type\\\":\\\"barpolar\\\",\\\"marker\\\":{\\\"line\\\":{\\\"color\\\":\\\"#E5ECF6\\\",\\\"width\\\":0.5}}}],\\\"carpet\\\":[{\\\"aaxis\\\":{\\\"gridcolor\\\":\\\"white\\\",\\\"endlinecolor\\\":\\\"#2a3f5f\\\",\\\"minorgridcolor\\\":\\\"white\\\",\\\"startlinecolor\\\":\\\"#2a3f5f\\\",\\\"linecolor\\\":\\\"white\\\"},\\\"type\\\":\\\"carpet\\\",\\\"baxis\\\":{\\\"gridcolor\\\":\\\"white\\\",\\\"endlinecolor\\\":\\\"#2a3f5f\\\",\\\"minorgridcolor\\\":\\\"white\\\",\\\"startlinecolor\\\":\\\"#2a3f5f\\\",\\\"linecolor\\\":\\\"white\\\"}}],\\\"scatterpolar\\\":[{\\\"type\\\":\\\"scatterpolar\\\",\\\"marker\\\":{\\\"colorbar\\\":{\\\"ticks\\\":\\\"\\\",\\\"outlinewidth\\\":0}}}],\\\"parcoords\\\":[{\\\"line\\\":{\\\"colorbar\\\":{\\\"ticks\\\":\\\"\\\",\\\"outlinewidth\\\":0}},\\\"type\\\":\\\"parcoords\\\"}],\\\"scatter\\\":[{\\\"type\\\":\\\"scatter\\\",\\\"marker\\\":{\\\"colorbar\\\":{\\\"ticks\\\":\\\"\\\",\\\"outlinewidth\\\":0}}}],\\\"histogram2dcontour\\\":[{\\\"colorbar\\\":{\\\"ticks\\\":\\\"\\\",\\\"outlinewidth\\\":0},\\\"type\\\":\\\"histogram2dcontour\\\",\\\"colorscale\\\":[[0.0,\\\"#0d0887\\\"],[0.1111111111111111,\\\"#46039f\\\"],[0.2222222222222222,\\\"#7201a8\\\"],[0.3333333333333333,\\\"#9c179e\\\"],[0.4444444444444444,\\\"#bd3786\\\"],[0.5555555555555556,\\\"#d8576b\\\"],[0.6666666666666666,\\\"#ed7953\\\"],[0.7777777777777778,\\\"#fb9f3a\\\"],[0.8888888888888888,\\\"#fdca26\\\"],[1.0,\\\"#f0f921\\\"]]}],\\\"contour\\\":[{\\\"colorbar\\\":{\\\"ticks\\\":\\\"\\\",\\\"outlinewidth\\\":0},\\\"type\\\":\\\"contour\\\",\\\"colorscale\\\":[[0.0,\\\"#0d0887\\\"],[0.1111111111111111,\\\"#46039f\\\"],[0.2222222222222222,\\\"#7201a8\\\"],[0.3333333333333333,\\\"#9c179e\\\"],[0.4444444444444444,\\\"#bd3786\\\"],[0.5555555555555556,\\\"#d8576b\\\"],[0.6666666666666666,\\\"#ed7953\\\"],[0.7777777777777778,\\\"#fb9f3a\\\"],[0.8888888888888888,\\\"#fdca26\\\"],[1.0,\\\"#f0f921\\\"]]}],\\\"scattercarpet\\\":[{\\\"type\\\":\\\"scattercarpet\\\",\\\"marker\\\":{\\\"colorbar\\\":{\\\"ticks\\\":\\\"\\\",\\\"outlinewidth\\\":0}}}],\\\"mesh3d\\\":[{\\\"colorbar\\\":{\\\"ticks\\\":\\\"\\\",\\\"outlinewidth\\\":0},\\\"type\\\":\\\"mesh3d\\\"}],\\\"surface\\\":[{\\\"colorbar\\\":{\\\"ticks\\\":\\\"\\\",\\\"outlinewidth\\\":0},\\\"type\\\":\\\"surface\\\",\\\"colorscale\\\":[[0.0,\\\"#0d0887\\\"],[0.1111111111111111,\\\"#46039f\\\"],[0.2222222222222222,\\\"#7201a8\\\"],[0.3333333333333333,\\\"#9c179e\\\"],[0.4444444444444444,\\\"#bd3786\\\"],[0.5555555555555556,\\\"#d8576b\\\"],[0.6666666666666666,\\\"#ed7953\\\"],[0.7777777777777778,\\\"#fb9f3a\\\"],[0.8888888888888888,\\\"#fdca26\\\"],[1.0,\\\"#f0f921\\\"]]}],\\\"scattermapbox\\\":[{\\\"type\\\":\\\"scattermapbox\\\",\\\"marker\\\":{\\\"colorbar\\\":{\\\"ticks\\\":\\\"\\\",\\\"outlinewidth\\\":0}}}],\\\"scattergeo\\\":[{\\\"type\\\":\\\"scattergeo\\\",\\\"marker\\\":{\\\"colorbar\\\":{\\\"ticks\\\":\\\"\\\",\\\"outlinewidth\\\":0}}}],\\\"histogram\\\":[{\\\"type\\\":\\\"histogram\\\",\\\"marker\\\":{\\\"colorbar\\\":{\\\"ticks\\\":\\\"\\\",\\\"outlinewidth\\\":0}}}],\\\"pie\\\":[{\\\"type\\\":\\\"pie\\\",\\\"automargin\\\":true}],\\\"choropleth\\\":[{\\\"colorbar\\\":{\\\"ticks\\\":\\\"\\\",\\\"outlinewidth\\\":0},\\\"type\\\":\\\"choropleth\\\"}],\\\"heatmapgl\\\":[{\\\"colorbar\\\":{\\\"ticks\\\":\\\"\\\",\\\"outlinewidth\\\":0},\\\"type\\\":\\\"heatmapgl\\\",\\\"colorscale\\\":[[0.0,\\\"#0d0887\\\"],[0.1111111111111111,\\\"#46039f\\\"],[0.2222222222222222,\\\"#7201a8\\\"],[0.3333333333333333,\\\"#9c179e\\\"],[0.4444444444444444,\\\"#bd3786\\\"],[0.5555555555555556,\\\"#d8576b\\\"],[0.6666666666666666,\\\"#ed7953\\\"],[0.7777777777777778,\\\"#fb9f3a\\\"],[0.8888888888888888,\\\"#fdca26\\\"],[1.0,\\\"#f0f921\\\"]]}],\\\"bar\\\":[{\\\"type\\\":\\\"bar\\\",\\\"error_y\\\":{\\\"color\\\":\\\"#2a3f5f\\\"},\\\"error_x\\\":{\\\"color\\\":\\\"#2a3f5f\\\"},\\\"marker\\\":{\\\"line\\\":{\\\"color\\\":\\\"#E5ECF6\\\",\\\"width\\\":0.5}}}],\\\"heatmap\\\":[{\\\"colorbar\\\":{\\\"ticks\\\":\\\"\\\",\\\"outlinewidth\\\":0},\\\"type\\\":\\\"heatmap\\\",\\\"colorscale\\\":[[0.0,\\\"#0d0887\\\"],[0.1111111111111111,\\\"#46039f\\\"],[0.2222222222222222,\\\"#7201a8\\\"],[0.3333333333333333,\\\"#9c179e\\\"],[0.4444444444444444,\\\"#bd3786\\\"],[0.5555555555555556,\\\"#d8576b\\\"],[0.6666666666666666,\\\"#ed7953\\\"],[0.7777777777777778,\\\"#fb9f3a\\\"],[0.8888888888888888,\\\"#fdca26\\\"],[1.0,\\\"#f0f921\\\"]]}],\\\"contourcarpet\\\":[{\\\"colorbar\\\":{\\\"ticks\\\":\\\"\\\",\\\"outlinewidth\\\":0},\\\"type\\\":\\\"contourcarpet\\\"}],\\\"table\\\":[{\\\"type\\\":\\\"table\\\",\\\"header\\\":{\\\"line\\\":{\\\"color\\\":\\\"white\\\"},\\\"fill\\\":{\\\"color\\\":\\\"#C8D4E3\\\"}},\\\"cells\\\":{\\\"line\\\":{\\\"color\\\":\\\"white\\\"},\\\"fill\\\":{\\\"color\\\":\\\"#EBF0F8\\\"}}}],\\\"scatter3d\\\":[{\\\"line\\\":{\\\"colorbar\\\":{\\\"ticks\\\":\\\"\\\",\\\"outlinewidth\\\":0}},\\\"type\\\":\\\"scatter3d\\\",\\\"marker\\\":{\\\"colorbar\\\":{\\\"ticks\\\":\\\"\\\",\\\"outlinewidth\\\":0}}}],\\\"scattergl\\\":[{\\\"type\\\":\\\"scattergl\\\",\\\"marker\\\":{\\\"colorbar\\\":{\\\"ticks\\\":\\\"\\\",\\\"outlinewidth\\\":0}}}],\\\"histogram2d\\\":[{\\\"colorbar\\\":{\\\"ticks\\\":\\\"\\\",\\\"outlinewidth\\\":0},\\\"type\\\":\\\"histogram2d\\\",\\\"colorscale\\\":[[0.0,\\\"#0d0887\\\"],[0.1111111111111111,\\\"#46039f\\\"],[0.2222222222222222,\\\"#7201a8\\\"],[0.3333333333333333,\\\"#9c179e\\\"],[0.4444444444444444,\\\"#bd3786\\\"],[0.5555555555555556,\\\"#d8576b\\\"],[0.6666666666666666,\\\"#ed7953\\\"],[0.7777777777777778,\\\"#fb9f3a\\\"],[0.8888888888888888,\\\"#fdca26\\\"],[1.0,\\\"#f0f921\\\"]]}],\\\"scatterternary\\\":[{\\\"type\\\":\\\"scatterternary\\\",\\\"marker\\\":{\\\"colorbar\\\":{\\\"ticks\\\":\\\"\\\",\\\"outlinewidth\\\":0}}}],\\\"scatterpolargl\\\":[{\\\"type\\\":\\\"scatterpolargl\\\",\\\"marker\\\":{\\\"colorbar\\\":{\\\"ticks\\\":\\\"\\\",\\\"outlinewidth\\\":0}}}]}},\\\"yaxis\\\":{\\\"showgrid\\\":false,\\\"zeroline\\\":false,\\\"tickvals\\\":[],\\\"scaleanchor\\\":\\\"x\\\",\\\"scaleratio\\\":1,\\\"title\\\":{\\\"text\\\":\\\"\\\"},\\\"showbackground\\\":false,\\\"range\\\":[-1.2316805742712018,1.2316805742712018]},\\\"autosize\\\":false,\\\"annotations\\\":[{\\\"arrowcolor\\\":\\\"rgb(39,60,117)\\\",\\\"showarrow\\\":true,\\\"yref\\\":\\\"ay\\\",\\\"arrowsize\\\":0.5,\\\"arrowhead\\\":2,\\\"axref\\\":\\\"x\\\",\\\"y\\\":0.6062177826491071,\\\"ax\\\":-0.95,\\\"ay\\\":0.5484827557301446,\\\"ayref\\\":\\\"y\\\",\\\"arrowwidth\\\":6,\\\"xref\\\":\\\"ax\\\",\\\"x\\\":-1.05},{\\\"arrowcolor\\\":\\\"rgb(39,60,117)\\\",\\\"showarrow\\\":true,\\\"yref\\\":\\\"ay\\\",\\\"arrowsize\\\":0.5,\\\"arrowhead\\\":2,\\\"axref\\\":\\\"x\\\",\\\"y\\\":-1.2124355652982142,\\\"ax\\\":0.0,\\\"ay\\\":-1.0969655114602892,\\\"ayref\\\":\\\"y\\\",\\\"arrowwidth\\\":6,\\\"xref\\\":\\\"ax\\\",\\\"x\\\":0.0},{\\\"arrowcolor\\\":\\\"rgb(194,54,22)\\\",\\\"showarrow\\\":true,\\\"yref\\\":\\\"ay\\\",\\\"arrowsize\\\":0.5,\\\"arrowhead\\\":2,\\\"axref\\\":\\\"x\\\",\\\"y\\\":0.0,\\\"ax\\\":0.8398717474235545,\\\"ay\\\":0.0,\\\"ayref\\\":\\\"y\\\",\\\"arrowwidth\\\":6,\\\"xref\\\":\\\"ax\\\",\\\"x\\\":0.9553418012614797},{\\\"arrowcolor\\\":\\\"rgb(194,54,22)\\\",\\\"showarrow\\\":true,\\\"yref\\\":\\\"ay\\\",\\\"arrowsize\\\":0.5,\\\"arrowhead\\\":2,\\\"axref\\\":\\\"x\\\",\\\"y\\\":0.8660254037844388,\\\"ax\\\":0.0,\\\"ay\\\":0.7505553499465136,\\\"ayref\\\":\\\"y\\\",\\\"arrowwidth\\\":6,\\\"xref\\\":\\\"ax\\\",\\\"x\\\":0.0}],\\\"plot_bgcolor\\\":\\\"rgba(255, 255, 255, 1)\\\",\\\"margin\\\":{\\\"l\\\":50,\\\"b\\\":50,\\\"r\\\":50,\\\"t\\\":60},\\\"aspectmode\\\":\\\"data\\\"},{\\\"displaylogo\\\":false,\\\"showLink\\\":false,\\\"editable\\\":false,\\\"responsive\\\":true,\\\"staticPlot\\\":false,\\\"scrollZoom\\\":true}); gd.on(\\\"plotly_hover\\\",(function (data){var filtered_data=WebIO.PlotlyCommands.filterEventData(gd,data,\\\"hover\\\"); return !(filtered_data.isnil) ? (WebIO.setval({\\\"name\\\":\\\"hover\\\",\\\"scope\\\":\\\"4450915653425221816\\\",\\\"id\\\":\\\"167894\\\",\\\"type\\\":\\\"observable\\\"},filtered_data.out)) : undefined})); gd.on(\\\"plotly_unhover\\\",(function (){return WebIO.setval({\\\"name\\\":\\\"hover\\\",\\\"scope\\\":\\\"4450915653425221816\\\",\\\"id\\\":\\\"167894\\\",\\\"type\\\":\\\"observable\\\"},{})})); gd.on(\\\"plotly_selected\\\",(function (data){var filtered_data=WebIO.PlotlyCommands.filterEventData(gd,data,\\\"selected\\\"); return !(filtered_data.isnil) ? (WebIO.setval({\\\"name\\\":\\\"selected\\\",\\\"scope\\\":\\\"4450915653425221816\\\",\\\"id\\\":\\\"167895\\\",\\\"type\\\":\\\"observable\\\"},filtered_data.out)) : undefined})); gd.on(\\\"plotly_deselect\\\",(function (){return WebIO.setval({\\\"name\\\":\\\"selected\\\",\\\"scope\\\":\\\"4450915653425221816\\\",\\\"id\\\":\\\"167895\\\",\\\"type\\\":\\\"observable\\\"},{})})); gd.on(\\\"plotly_relayout\\\",(function (data){var filtered_data=WebIO.PlotlyCommands.filterEventData(gd,data,\\\"relayout\\\"); return !(filtered_data.isnil) ? (WebIO.setval({\\\"name\\\":\\\"relayout\\\",\\\"scope\\\":\\\"4450915653425221816\\\",\\\"id\\\":\\\"167897\\\",\\\"type\\\":\\\"observable\\\"},filtered_data.out)) : undefined})); return gd.on(\\\"plotly_click\\\",(function (data){var filtered_data=WebIO.PlotlyCommands.filterEventData(gd,data,\\\"click\\\"); return !(filtered_data.isnil) ? (WebIO.setval({\\\"name\\\":\\\"click\\\",\\\"scope\\\":\\\"4450915653425221816\\\",\\\"id\\\":\\\"167896\\\",\\\"type\\\":\\\"observable\\\"},filtered_data.out)) : undefined}))}));\\n    (WebIO.importBlock({\\\"data\\\":[{\\\"name\\\":\\\"Plotly\\\",\\\"type\\\":\\\"js\\\",\\\"url\\\":\\\"\\/assetserver\\/b267c3137400db01c304fe886fe6f707be7fdb37-plotly.min.js\\\"},{\\\"name\\\":null,\\\"type\\\":\\\"js\\\",\\\"url\\\":\\\"\\/assetserver\\/020f2e8a4619f2ae880fff9315e6547eef1aff0b-plotly_webio.bundle.js\\\"}],\\\"type\\\":\\\"async_block\\\"})).then((imports) => handler.apply(this, imports));\\n}\\n\"],\"observables\":{\"_toImage\":{\"sync\":false,\"id\":\"167901\",\"value\":{}},\"hover\":{\"sync\":false,\"id\":\"167894\",\"value\":{}},\"selected\":{\"sync\":false,\"id\":\"167895\",\"value\":{}},\"__gd_contents\":{\"sync\":false,\"id\":\"167899\",\"value\":{}},\"click\":{\"sync\":false,\"id\":\"167896\",\"value\":{}},\"image\":{\"sync\":true,\"id\":\"167898\",\"value\":\"\"},\"__get_gd_contents\":{\"sync\":false,\"id\":\"167903\",\"value\":\"\"},\"_downloadImage\":{\"sync\":false,\"id\":\"167902\",\"value\":{}},\"relayout\":{\"sync\":false,\"id\":\"167897\",\"value\":{}},\"_commands\":{\"sync\":false,\"id\":\"167900\",\"value\":[]}}},\"children\":[{\"props\":{\"id\":\"plot-ddc82233-6956-44fb-bd32-bbcbe8b92202\"},\"nodeType\":\"DOM\",\"type\":\"node\",\"instanceArgs\":{\"namespace\":\"html\",\"tag\":\"div\"},\"children\":[]}]},\n",
       "        window,\n",
       "    );\n",
       "    })()\n",
       "    </script>\n",
       "</div>\n"
      ],
      "text/plain": [
       "data: [\n",
       "  \"scatter with fields hoverinfo, hovertext, line, mode, type, x, and y\",\n",
       "  \"scatter with fields hoverinfo, hovertext, line, mode, type, x, and y\",\n",
       "  \"scatter with fields hoverinfo, hovertext, line, mode, type, x, and y\",\n",
       "  \"scatter with fields hoverinfo, hovertext, line, mode, type, x, and y\",\n",
       "  \"scatter with fields hoverinfo, hovertext, line, mode, type, x, and y\",\n",
       "  \"scatter with fields hoverinfo, hovertext, line, mode, type, x, and y\",\n",
       "  \"scatter with fields hoverinfo, hovertext, line, mode, type, x, and y\",\n",
       "  \"scatter with fields hoverinfo, hovertext, line, mode, type, x, and y\",\n",
       "  \"scatter with fields hoverinfo, hovertext, line, mode, type, x, and y\"\n",
       "]\n",
       "\n",
       "layout: \"layout with fields annotations, aspectmode, autosize, hovermode, margin, paper_bgcolor, plot_bgcolor, showlegend, template, xaxis, and yaxis\"\n",
       "\n"
      ]
     },
     "metadata": {},
     "output_type": "display_data"
    }
   ],
   "source": [
    "let \n",
    "    print(\"--- Plotting the Wigner-Seitz cell in reciprocal space. \\n\")\n",
    "    print(\"\\n\")\n",
    "\n",
    "    Bs = [recip_basis[i, :] for i ∈ 1 : size(recip_basis, 1)]\n",
    "    recip_wignerseitz = wignerseitz(Bs)\n",
    "\n",
    "    vertices = recip_wignerseitz.verts\n",
    "    print(\"--- Vertices of the reciprocal Wigner-Seitz cell (in reduced coordinates): \\n\")\n",
    "    for v ∈ vertices\n",
    "        @printf(\"%10f %10f \\n\", v[1], v[2])\n",
    "    end\n",
    "\n",
    "\n",
    "    cvecs = make_cartesian(vertices, Bs)\n",
    "\n",
    "    print(\"\\n\")\n",
    "    print(\"--- Vertices of the reciprocal Wigner-Seitz cell (in cartesian coordinates): \\n\")\n",
    "    for v ∈ cvecs\n",
    "        @printf(\"%10f %10f \\n\", v[1], v[2])\n",
    "    end\n",
    "\n",
    "\n",
    "    pbzb = PlotlyJS.plot(recip_wignerseitz)\n",
    "    PlotlyJS.savefig(pbzb, assets_dir * \"recip_pbzb.png\")\n",
    "    display(pbzb)\n",
    "end"
   ]
  },
  {
   "cell_type": "code",
   "execution_count": 108,
   "metadata": {},
   "outputs": [
    {
     "name": "stderr",
     "output_type": "stream",
     "text": [
      "WARNING: redefinition of constant Main.high_symmetry_points. This may fail, cause incorrect answers, or produce other errors.\n"
     ]
    },
    {
     "data": {
      "text/plain": [
       "Dict{String, Vector{Float64}} with 3 entries:\n",
       "  \"M\" => [0.5, 0.288675]\n",
       "  \"Γ\" => [0.0, 0.0]\n",
       "  \"K\" => [0.666667, 0.0]"
      ]
     },
     "metadata": {},
     "output_type": "display_data"
    }
   ],
   "source": [
    "# Now, the K-Points \n",
    "global const high_symmetry_points = Dict{String, Vector{Float64}}(\n",
    "    \"K\"=> [0.6666667, 0.0], \n",
    "    \"M\"=> ([0.3333333, 0.577350] + [0.666666667, 0.0]) / 2.0,\n",
    "    \"Γ\"=> [0.0, 0.0] \n",
    ")"
   ]
  },
  {
   "cell_type": "code",
   "execution_count": 109,
   "metadata": {},
   "outputs": [
    {
     "name": "stderr",
     "output_type": "stream",
     "text": [
      "WARNING: redefinition of constant Main.kpath_nodes. This may fail, cause incorrect answers, or produce other errors.\n"
     ]
    }
   ],
   "source": [
    "global const kpath_nodes::Vector{Vector{Float64}} = [high_symmetry_points[\"Γ\"], \n",
    "                    high_symmetry_points[\"K\"], \n",
    "                    high_symmetry_points[\"M\"], \n",
    "                    high_symmetry_points[\"Γ\"]];\n"
   ]
  },
  {
   "cell_type": "code",
   "execution_count": 110,
   "metadata": {},
   "outputs": [
    {
     "name": "stderr",
     "output_type": "stream",
     "text": [
      "WARNING: redefinition of constant Main.C_6. This may fail, cause incorrect answers, or produce other errors.\n",
      "WARNING: redefinition of constant Main.corners. This may fail, cause incorrect answers, or produce other errors.\n"
     ]
    },
    {
     "data": {
      "text/plain": [
       "6-element Vector{Vector{Float64}}:\n",
       " [0.6666667, 0.0]\n",
       " [0.33333335000000003, -0.5773502980571391]\n",
       " [-0.3333333499999998, -0.5773502980571392]\n",
       " [-0.6666667, -2.220446049250313e-16]\n",
       " [-0.3333333500000002, 0.577350298057139]\n",
       " [0.33333334999999964, 0.5773502980571393]"
      ]
     },
     "metadata": {},
     "output_type": "display_data"
    }
   ],
   "source": [
    "# Using the cartesian point \"K\", apply C_6 symmetry repeatedly to generate the FBZ again\n",
    "global const C_6::Matrix{Float64} = [cos(pi/3) sin(pi/3); -sin(pi/3) cos(pi/3)]\n",
    "\n",
    "# Apply matrix n number of times \n",
    "function apply(m, v, n)\n",
    "    res = v\n",
    "    for i ∈ 1 : n\n",
    "        res = m * res\n",
    "    end\n",
    "    return res\n",
    "end\n",
    "\n",
    "function make_fbz_corners()\n",
    "    corners = Vector{Vector{Float64}}(undef, 6)\n",
    "    K = high_symmetry_points[\"K\"]\n",
    "    for n ∈ 0 : 5\n",
    "        corners[n + 1] = apply(C_6, K, n)\n",
    "    end\n",
    "    return corners\n",
    "end \n",
    "global const corners::Vector{Vector{Float64}} = make_fbz_corners()\n"
   ]
  },
  {
   "cell_type": "code",
   "execution_count": 111,
   "metadata": {},
   "outputs": [
    {
     "data": {
      "text/plain": [
       "plot_kpath_fbz (generic function with 1 method)"
      ]
     },
     "metadata": {},
     "output_type": "display_data"
    }
   ],
   "source": [
    "function plot_kpath_fbz(verts, kpath)\n",
    "    \"\"\" \n",
    "    Plots the kpath together with the FBZ \n",
    "    \"\"\"\n",
    "    push!(verts, verts[1])\n",
    "\n",
    "    # first vertices \n",
    "    verts_x = map(v -> v[1], verts)\n",
    "    verts_y = map(v -> v[2], verts)\n",
    "\n",
    "    path_x = map(v -> v[1], kpath)\n",
    "    path_y = map(v -> v[2], kpath)\n",
    "\n",
    "    # this will just draw the points at the specified coordinates. Need to construct layout object \n",
    "    corners_l = PlotlyJS.scatter(x = verts_x, y = verts_y, mode = \"lines\", opacity = 0.4, line = attr(color = \"darkblue\", width = 3))\n",
    "    path_l    = PlotlyJS.scatter(x = path_x, y = path_y, mode = \"lines\", line = attr(color = \"darkgreen\", width = 4))\n",
    "\n",
    "    lo = Layout(title = \"Path in the FBZ\",\n",
    "                xaxis_showgrid = false,\n",
    "                yaxis_showgrid = false,\n",
    "                plot_bgcolor=\"rgba(0,0,0,0)\",\n",
    "                xaxis = attr(showline = false, showgrid = false, zeroline = false, showticklabels = false, scaleanchor = \"y\"),\n",
    "                yaxis = attr(showline = false, showgrid = false, zeroline = false, showticklabels = false, scaleanchor = \"x\"),\n",
    "                width = 510, \n",
    "                height = 510,\n",
    "                showlegend = false)\n",
    "    PlotlyJS.plot([corners_l, path_l], lo)\n",
    "    \n",
    "end"
   ]
  },
  {
   "cell_type": "code",
   "execution_count": 112,
   "metadata": {},
   "outputs": [
    {
     "data": {
      "application/vnd.plotly.v1+json": {
       "config": {
        "editable": false,
        "responsive": true,
        "scrollZoom": true,
        "showLink": false,
        "staticPlot": false
       },
       "data": [
        {
         "line": {
          "color": "darkblue",
          "width": 3
         },
         "mode": "lines",
         "opacity": 0.4,
         "type": "scatter",
         "x": [
          0.6666667,
          0.33333335000000003,
          -0.3333333499999998,
          -0.6666667,
          -0.3333333500000002,
          0.33333334999999964,
          0.6666667
         ],
         "y": [
          0,
          -0.5773502980571391,
          -0.5773502980571392,
          -2.220446049250313e-16,
          0.577350298057139,
          0.5773502980571393,
          0
         ]
        },
        {
         "line": {
          "color": "darkgreen",
          "width": 4
         },
         "mode": "lines",
         "type": "scatter",
         "x": [
          0,
          0.6666667,
          0.49999998349999997,
          0
         ],
         "y": [
          0,
          0,
          0.288675,
          0
         ]
        }
       ],
       "frames": [],
       "layout": {
        "height": 510,
        "margin": {
         "b": 50,
         "l": 50,
         "r": 50,
         "t": 60
        },
        "plot_bgcolor": "rgba(0,0,0,0)",
        "showlegend": false,
        "template": {
         "data": {
          "bar": [
           {
            "error_x": {
             "color": "#2a3f5f"
            },
            "error_y": {
             "color": "#2a3f5f"
            },
            "marker": {
             "line": {
              "color": "#E5ECF6",
              "width": 0.5
             }
            },
            "type": "bar"
           }
          ],
          "barpolar": [
           {
            "marker": {
             "line": {
              "color": "#E5ECF6",
              "width": 0.5
             }
            },
            "type": "barpolar"
           }
          ],
          "carpet": [
           {
            "aaxis": {
             "endlinecolor": "#2a3f5f",
             "gridcolor": "white",
             "linecolor": "white",
             "minorgridcolor": "white",
             "startlinecolor": "#2a3f5f"
            },
            "baxis": {
             "endlinecolor": "#2a3f5f",
             "gridcolor": "white",
             "linecolor": "white",
             "minorgridcolor": "white",
             "startlinecolor": "#2a3f5f"
            },
            "type": "carpet"
           }
          ],
          "choropleth": [
           {
            "colorbar": {
             "outlinewidth": 0,
             "ticks": ""
            },
            "type": "choropleth"
           }
          ],
          "contour": [
           {
            "colorbar": {
             "outlinewidth": 0,
             "ticks": ""
            },
            "colorscale": [
             [
              0,
              "#0d0887"
             ],
             [
              0.1111111111111111,
              "#46039f"
             ],
             [
              0.2222222222222222,
              "#7201a8"
             ],
             [
              0.3333333333333333,
              "#9c179e"
             ],
             [
              0.4444444444444444,
              "#bd3786"
             ],
             [
              0.5555555555555556,
              "#d8576b"
             ],
             [
              0.6666666666666666,
              "#ed7953"
             ],
             [
              0.7777777777777778,
              "#fb9f3a"
             ],
             [
              0.8888888888888888,
              "#fdca26"
             ],
             [
              1,
              "#f0f921"
             ]
            ],
            "type": "contour"
           }
          ],
          "contourcarpet": [
           {
            "colorbar": {
             "outlinewidth": 0,
             "ticks": ""
            },
            "type": "contourcarpet"
           }
          ],
          "heatmap": [
           {
            "colorbar": {
             "outlinewidth": 0,
             "ticks": ""
            },
            "colorscale": [
             [
              0,
              "#0d0887"
             ],
             [
              0.1111111111111111,
              "#46039f"
             ],
             [
              0.2222222222222222,
              "#7201a8"
             ],
             [
              0.3333333333333333,
              "#9c179e"
             ],
             [
              0.4444444444444444,
              "#bd3786"
             ],
             [
              0.5555555555555556,
              "#d8576b"
             ],
             [
              0.6666666666666666,
              "#ed7953"
             ],
             [
              0.7777777777777778,
              "#fb9f3a"
             ],
             [
              0.8888888888888888,
              "#fdca26"
             ],
             [
              1,
              "#f0f921"
             ]
            ],
            "type": "heatmap"
           }
          ],
          "heatmapgl": [
           {
            "colorbar": {
             "outlinewidth": 0,
             "ticks": ""
            },
            "colorscale": [
             [
              0,
              "#0d0887"
             ],
             [
              0.1111111111111111,
              "#46039f"
             ],
             [
              0.2222222222222222,
              "#7201a8"
             ],
             [
              0.3333333333333333,
              "#9c179e"
             ],
             [
              0.4444444444444444,
              "#bd3786"
             ],
             [
              0.5555555555555556,
              "#d8576b"
             ],
             [
              0.6666666666666666,
              "#ed7953"
             ],
             [
              0.7777777777777778,
              "#fb9f3a"
             ],
             [
              0.8888888888888888,
              "#fdca26"
             ],
             [
              1,
              "#f0f921"
             ]
            ],
            "type": "heatmapgl"
           }
          ],
          "histogram": [
           {
            "marker": {
             "colorbar": {
              "outlinewidth": 0,
              "ticks": ""
             }
            },
            "type": "histogram"
           }
          ],
          "histogram2d": [
           {
            "colorbar": {
             "outlinewidth": 0,
             "ticks": ""
            },
            "colorscale": [
             [
              0,
              "#0d0887"
             ],
             [
              0.1111111111111111,
              "#46039f"
             ],
             [
              0.2222222222222222,
              "#7201a8"
             ],
             [
              0.3333333333333333,
              "#9c179e"
             ],
             [
              0.4444444444444444,
              "#bd3786"
             ],
             [
              0.5555555555555556,
              "#d8576b"
             ],
             [
              0.6666666666666666,
              "#ed7953"
             ],
             [
              0.7777777777777778,
              "#fb9f3a"
             ],
             [
              0.8888888888888888,
              "#fdca26"
             ],
             [
              1,
              "#f0f921"
             ]
            ],
            "type": "histogram2d"
           }
          ],
          "histogram2dcontour": [
           {
            "colorbar": {
             "outlinewidth": 0,
             "ticks": ""
            },
            "colorscale": [
             [
              0,
              "#0d0887"
             ],
             [
              0.1111111111111111,
              "#46039f"
             ],
             [
              0.2222222222222222,
              "#7201a8"
             ],
             [
              0.3333333333333333,
              "#9c179e"
             ],
             [
              0.4444444444444444,
              "#bd3786"
             ],
             [
              0.5555555555555556,
              "#d8576b"
             ],
             [
              0.6666666666666666,
              "#ed7953"
             ],
             [
              0.7777777777777778,
              "#fb9f3a"
             ],
             [
              0.8888888888888888,
              "#fdca26"
             ],
             [
              1,
              "#f0f921"
             ]
            ],
            "type": "histogram2dcontour"
           }
          ],
          "mesh3d": [
           {
            "colorbar": {
             "outlinewidth": 0,
             "ticks": ""
            },
            "type": "mesh3d"
           }
          ],
          "parcoords": [
           {
            "line": {
             "colorbar": {
              "outlinewidth": 0,
              "ticks": ""
             }
            },
            "type": "parcoords"
           }
          ],
          "pie": [
           {
            "automargin": true,
            "type": "pie"
           }
          ],
          "scatter": [
           {
            "marker": {
             "colorbar": {
              "outlinewidth": 0,
              "ticks": ""
             }
            },
            "type": "scatter"
           }
          ],
          "scatter3d": [
           {
            "line": {
             "colorbar": {
              "outlinewidth": 0,
              "ticks": ""
             }
            },
            "marker": {
             "colorbar": {
              "outlinewidth": 0,
              "ticks": ""
             }
            },
            "type": "scatter3d"
           }
          ],
          "scattercarpet": [
           {
            "marker": {
             "colorbar": {
              "outlinewidth": 0,
              "ticks": ""
             }
            },
            "type": "scattercarpet"
           }
          ],
          "scattergeo": [
           {
            "marker": {
             "colorbar": {
              "outlinewidth": 0,
              "ticks": ""
             }
            },
            "type": "scattergeo"
           }
          ],
          "scattergl": [
           {
            "marker": {
             "colorbar": {
              "outlinewidth": 0,
              "ticks": ""
             }
            },
            "type": "scattergl"
           }
          ],
          "scattermapbox": [
           {
            "marker": {
             "colorbar": {
              "outlinewidth": 0,
              "ticks": ""
             }
            },
            "type": "scattermapbox"
           }
          ],
          "scatterpolar": [
           {
            "marker": {
             "colorbar": {
              "outlinewidth": 0,
              "ticks": ""
             }
            },
            "type": "scatterpolar"
           }
          ],
          "scatterpolargl": [
           {
            "marker": {
             "colorbar": {
              "outlinewidth": 0,
              "ticks": ""
             }
            },
            "type": "scatterpolargl"
           }
          ],
          "scatterternary": [
           {
            "marker": {
             "colorbar": {
              "outlinewidth": 0,
              "ticks": ""
             }
            },
            "type": "scatterternary"
           }
          ],
          "surface": [
           {
            "colorbar": {
             "outlinewidth": 0,
             "ticks": ""
            },
            "colorscale": [
             [
              0,
              "#0d0887"
             ],
             [
              0.1111111111111111,
              "#46039f"
             ],
             [
              0.2222222222222222,
              "#7201a8"
             ],
             [
              0.3333333333333333,
              "#9c179e"
             ],
             [
              0.4444444444444444,
              "#bd3786"
             ],
             [
              0.5555555555555556,
              "#d8576b"
             ],
             [
              0.6666666666666666,
              "#ed7953"
             ],
             [
              0.7777777777777778,
              "#fb9f3a"
             ],
             [
              0.8888888888888888,
              "#fdca26"
             ],
             [
              1,
              "#f0f921"
             ]
            ],
            "type": "surface"
           }
          ],
          "table": [
           {
            "cells": {
             "fill": {
              "color": "#EBF0F8"
             },
             "line": {
              "color": "white"
             }
            },
            "header": {
             "fill": {
              "color": "#C8D4E3"
             },
             "line": {
              "color": "white"
             }
            },
            "type": "table"
           }
          ]
         },
         "layout": {
          "annotationdefaults": {
           "arrowcolor": "#2a3f5f",
           "arrowhead": 0,
           "arrowwidth": 1
          },
          "autotypenumbers": "strict",
          "coloraxis": {
           "colorbar": {
            "outlinewidth": 0,
            "ticks": ""
           }
          },
          "colorscale": {
           "diverging": [
            [
             0,
             "#8e0152"
            ],
            [
             0.1,
             "#c51b7d"
            ],
            [
             0.2,
             "#de77ae"
            ],
            [
             0.3,
             "#f1b6da"
            ],
            [
             0.4,
             "#fde0ef"
            ],
            [
             0.5,
             "#f7f7f7"
            ],
            [
             0.6,
             "#e6f5d0"
            ],
            [
             0.7,
             "#b8e186"
            ],
            [
             0.8,
             "#7fbc41"
            ],
            [
             0.9,
             "#4d9221"
            ],
            [
             1,
             "#276419"
            ]
           ],
           "sequential": [
            [
             0,
             "#0d0887"
            ],
            [
             0.1111111111111111,
             "#46039f"
            ],
            [
             0.2222222222222222,
             "#7201a8"
            ],
            [
             0.3333333333333333,
             "#9c179e"
            ],
            [
             0.4444444444444444,
             "#bd3786"
            ],
            [
             0.5555555555555556,
             "#d8576b"
            ],
            [
             0.6666666666666666,
             "#ed7953"
            ],
            [
             0.7777777777777778,
             "#fb9f3a"
            ],
            [
             0.8888888888888888,
             "#fdca26"
            ],
            [
             1,
             "#f0f921"
            ]
           ],
           "sequentialminus": [
            [
             0,
             "#0d0887"
            ],
            [
             0.1111111111111111,
             "#46039f"
            ],
            [
             0.2222222222222222,
             "#7201a8"
            ],
            [
             0.3333333333333333,
             "#9c179e"
            ],
            [
             0.4444444444444444,
             "#bd3786"
            ],
            [
             0.5555555555555556,
             "#d8576b"
            ],
            [
             0.6666666666666666,
             "#ed7953"
            ],
            [
             0.7777777777777778,
             "#fb9f3a"
            ],
            [
             0.8888888888888888,
             "#fdca26"
            ],
            [
             1,
             "#f0f921"
            ]
           ]
          },
          "colorway": [
           "#636efa",
           "#EF553B",
           "#00cc96",
           "#ab63fa",
           "#FFA15A",
           "#19d3f3",
           "#FF6692",
           "#B6E880",
           "#FF97FF",
           "#FECB52"
          ],
          "font": {
           "color": "#2a3f5f"
          },
          "geo": {
           "bgcolor": "white",
           "lakecolor": "white",
           "landcolor": "#E5ECF6",
           "showlakes": true,
           "showland": true,
           "subunitcolor": "white"
          },
          "hoverlabel": {
           "align": "left"
          },
          "hovermode": "closest",
          "mapbox": {
           "style": "light"
          },
          "paper_bgcolor": "white",
          "plot_bgcolor": "#E5ECF6",
          "polar": {
           "angularaxis": {
            "gridcolor": "white",
            "linecolor": "white",
            "ticks": ""
           },
           "bgcolor": "#E5ECF6",
           "radialaxis": {
            "gridcolor": "white",
            "linecolor": "white",
            "ticks": ""
           }
          },
          "scene": {
           "xaxis": {
            "backgroundcolor": "#E5ECF6",
            "gridcolor": "white",
            "gridwidth": 2,
            "linecolor": "white",
            "showbackground": true,
            "ticks": "",
            "zerolinecolor": "white"
           },
           "yaxis": {
            "backgroundcolor": "#E5ECF6",
            "gridcolor": "white",
            "gridwidth": 2,
            "linecolor": "white",
            "showbackground": true,
            "ticks": "",
            "zerolinecolor": "white"
           },
           "zaxis": {
            "backgroundcolor": "#E5ECF6",
            "gridcolor": "white",
            "gridwidth": 2,
            "linecolor": "white",
            "showbackground": true,
            "ticks": "",
            "zerolinecolor": "white"
           }
          },
          "shapedefaults": {
           "line": {
            "color": "#2a3f5f"
           }
          },
          "ternary": {
           "aaxis": {
            "gridcolor": "white",
            "linecolor": "white",
            "ticks": ""
           },
           "baxis": {
            "gridcolor": "white",
            "linecolor": "white",
            "ticks": ""
           },
           "bgcolor": "#E5ECF6",
           "caxis": {
            "gridcolor": "white",
            "linecolor": "white",
            "ticks": ""
           }
          },
          "title": {
           "x": 0.05
          },
          "xaxis": {
           "automargin": true,
           "gridcolor": "white",
           "linecolor": "white",
           "ticks": "",
           "title": {
            "standoff": 15
           },
           "zerolinecolor": "white",
           "zerolinewidth": 2
          },
          "yaxis": {
           "automargin": true,
           "gridcolor": "white",
           "linecolor": "white",
           "ticks": "",
           "title": {
            "standoff": 15
           },
           "zerolinecolor": "white",
           "zerolinewidth": 2
          }
         }
        },
        "title": "Path in the FBZ",
        "width": 510,
        "xaxis": {
         "scaleanchor": "y",
         "showgrid": false,
         "showline": false,
         "showticklabels": false,
         "zeroline": false
        },
        "yaxis": {
         "scaleanchor": "x",
         "showgrid": false,
         "showline": false,
         "showticklabels": false,
         "zeroline": false
        }
       }
      },
      "image/png": "[encoded data removed]",
      "image/svg+xml": [
       "<svg class=\"main-svg\" xmlns=\"http://www.w3.org/2000/svg\" xmlns:xlink=\"http://www.w3.org/1999/xlink\" width=\"700\" height=\"500\" style=\"\" viewBox=\"0 0 700 500\"><rect x=\"0\" y=\"0\" width=\"700\" height=\"500\" style=\"fill: rgb(255, 255, 255); fill-opacity: 1;\"/><defs id=\"defs-48c32c\"><g class=\"clips\"><clipPath id=\"clip48c32cxyplot\" class=\"plotclip\"><rect width=\"600\" height=\"390\"/></clipPath><clipPath class=\"axesclip\" id=\"clip48c32cx\"><rect x=\"50\" y=\"0\" width=\"600\" height=\"500\"/></clipPath><clipPath class=\"axesclip\" id=\"clip48c32cy\"><rect x=\"0\" y=\"60\" width=\"700\" height=\"390\"/></clipPath><clipPath class=\"axesclip\" id=\"clip48c32cxy\"><rect x=\"50\" y=\"60\" width=\"600\" height=\"390\"/></clipPath></g><g class=\"gradients\"/><g class=\"patterns\"/></defs><g class=\"bglayer\"><rect class=\"bg\" x=\"50\" y=\"60\" width=\"600\" height=\"390\" style=\"fill: rgb(0, 0, 0); fill-opacity: 0; stroke-width: 0;\"/></g><g class=\"layer-below\"><g class=\"imagelayer\"/><g class=\"shapelayer\"/></g><g class=\"cartesianlayer\"><g class=\"subplot xy\"><g class=\"layer-subplot\"><g class=\"shapelayer\"/><g class=\"imagelayer\"/></g><g class=\"gridlayer\"><g class=\"x\"/><g class=\"y\"/></g><g class=\"zerolinelayer\"/><path class=\"xlines-below\"/><path class=\"ylines-below\"/><g class=\"overlines-below\"/><g class=\"xaxislayer-below\"/><g class=\"yaxislayer-below\"/><g class=\"overaxes-below\"/><g class=\"plot\" transform=\"translate(50,60)\" clip-path=\"url(#clip48c32cxyplot)\"><g class=\"scatterlayer mlayer\"><g class=\"trace scatter trace39d940\" style=\"stroke-miterlimit: 2; opacity: 0.4;\"><g class=\"fills\"/><g class=\"errorbars\"/><g class=\"lines\"><path class=\"js-line\" d=\"M502.65,195L401.32,370.5L198.68,370.5L97.35,195L198.68,19.5L401.32,19.5L502.65,195\" style=\"vector-effect: non-scaling-stroke; fill: none; stroke: rgb(0, 0, 139); stroke-opacity: 1; stroke-width: 3px; opacity: 1;\"/></g><g class=\"points\"/><g class=\"text\"/></g><g class=\"trace scatter tracecd0945\" style=\"stroke-miterlimit: 2; opacity: 1;\"><g class=\"fills\"/><g class=\"errorbars\"/><g class=\"lines\"><path class=\"js-line\" d=\"M300,195L502.65,195L451.99,107.25L300,195\" style=\"vector-effect: non-scaling-stroke; fill: none; stroke: rgb(0, 100, 0); stroke-opacity: 1; stroke-width: 4px; opacity: 1;\"/></g><g class=\"points\"/><g class=\"text\"/></g></g></g><g class=\"overplot\"/><path class=\"xlines-above crisp\" d=\"M0,0\" style=\"fill: none;\"/><path class=\"ylines-above crisp\" d=\"M0,0\" style=\"fill: none;\"/><g class=\"overlines-above\"/><g class=\"xaxislayer-above\"/><g class=\"yaxislayer-above\"/><g class=\"overaxes-above\"/></g></g><g class=\"polarlayer\"/><g class=\"ternarylayer\"/><g class=\"geolayer\"/><g class=\"funnelarealayer\"/><g class=\"pielayer\"/><g class=\"iciclelayer\"/><g class=\"treemaplayer\"/><g class=\"sunburstlayer\"/><g class=\"glimages\"/><defs id=\"topdefs-48c32c\"><g class=\"clips\"/></defs><g class=\"layer-above\"><g class=\"imagelayer\"/><g class=\"shapelayer\"/></g><g class=\"infolayer\"><g class=\"g-gtitle\"><text class=\"gtitle\" x=\"35\" y=\"30\" text-anchor=\"start\" dy=\"0em\" style=\"font-family: 'Open Sans', verdana, arial, sans-serif; font-size: 17px; fill: rgb(42, 63, 95); opacity: 1; font-weight: normal; white-space: pre;\">Path in the FBZ</text></g><g class=\"g-xtitle\"/><g class=\"g-ytitle\"/></g></svg>"
      ],
      "text/html": [
       "<div\n",
       "    class=\"webio-mountpoint\"\n",
       "    data-webio-mountpoint=\"17427284440813921050\"\n",
       ">\n",
       "    <script>\n",
       "    (function(){\n",
       "    // Some integrations (namely, IJulia/Jupyter) use an alternate render pathway than\n",
       "    // just putting the html on the page. If WebIO isn't defined, then it's pretty likely\n",
       "    // that we're in one of those situations and the integration just isn't installed\n",
       "    // correctly.\n",
       "    if (typeof window.WebIO === \"undefined\") {\n",
       "        document\n",
       "            .querySelector('[data-webio-mountpoint=\"17427284440813921050\"]')\n",
       "            .innerHTML = (\n",
       "                '<div style=\"padding: 1em; background-color: #f8d6da; border: 1px solid #f5c6cb; font-weight: bold;\">' +\n",
       "                '<p><strong>WebIO not detected.</strong></p>' +\n",
       "                '<p>Please read ' +\n",
       "                '<a href=\"https://juliagizmos.github.io/WebIO.jl/latest/troubleshooting/not-detected/\" target=\"_blank\">the troubleshooting guide</a> ' +\n",
       "                'for more information on how to resolve this issue.</p>' +\n",
       "                '<p><a href=\"https://juliagizmos.github.io/WebIO.jl/latest/troubleshooting/not-detected/\" target=\"_blank\">https://juliagizmos.github.io/WebIO.jl/latest/troubleshooting/not-detected/</a></p>' +\n",
       "                '</div>'\n",
       "            );\n",
       "        return;\n",
       "    }\n",
       "    WebIO.mount(\n",
       "        document.querySelector('[data-webio-mountpoint=\"17427284440813921050\"]'),\n",
       "        {\"props\":{},\"nodeType\":\"Scope\",\"type\":\"node\",\"instanceArgs\":{\"imports\":{\"data\":[{\"name\":\"Plotly\",\"type\":\"js\",\"url\":\"\\/assetserver\\/b267c3137400db01c304fe886fe6f707be7fdb37-plotly.min.js\"},{\"name\":null,\"type\":\"js\",\"url\":\"\\/assetserver\\/020f2e8a4619f2ae880fff9315e6547eef1aff0b-plotly_webio.bundle.js\"}],\"type\":\"async_block\"},\"id\":\"1350891721892561338\",\"handlers\":{\"_toImage\":[\"(function (options){return this.Plotly.toImage(this.plotElem,options).then((function (data){return WebIO.setval({\\\"name\\\":\\\"image\\\",\\\"scope\\\":\\\"1350891721892561338\\\",\\\"id\\\":\\\"167908\\\",\\\"type\\\":\\\"observable\\\"},data)}))})\"],\"__get_gd_contents\":[\"(function (prop){prop==\\\"data\\\" ? (WebIO.setval({\\\"name\\\":\\\"__gd_contents\\\",\\\"scope\\\":\\\"1350891721892561338\\\",\\\"id\\\":\\\"167909\\\",\\\"type\\\":\\\"observable\\\"},this.plotElem.data)) : undefined; return prop==\\\"layout\\\" ? (WebIO.setval({\\\"name\\\":\\\"__gd_contents\\\",\\\"scope\\\":\\\"1350891721892561338\\\",\\\"id\\\":\\\"167909\\\",\\\"type\\\":\\\"observable\\\"},this.plotElem.layout)) : undefined})\"],\"_downloadImage\":[\"(function (options){return this.Plotly.downloadImage(this.plotElem,options)})\"],\"_commands\":[\"(function (args){var fn=args.shift(); var elem=this.plotElem; var Plotly=this.Plotly; args.unshift(elem); return Plotly[fn].apply(this,args)})\"]},\"systemjs_options\":null,\"mount_callbacks\":[\"function () {\\n    var handler = ((function (Plotly,PlotlyWebIO){PlotlyWebIO.init(WebIO); var gd=this.dom.querySelector(\\\"#plot-1f26098a-7336-489f-879b-005a8fc1d85c\\\"); this.plotElem=gd; this.Plotly=Plotly; (window.Blink!==undefined) ? (gd.style.width=\\\"100%\\\", gd.style.height=\\\"100vh\\\", gd.style.marginLeft=\\\"0%\\\", gd.style.marginTop=\\\"0vh\\\") : undefined; window.onresize=(function (){return Plotly.Plots.resize(gd)}); Plotly.newPlot(gd,[{\\\"mode\\\":\\\"lines\\\",\\\"line\\\":{\\\"color\\\":\\\"darkblue\\\",\\\"width\\\":3},\\\"y\\\":[0.0,-0.5773502980571391,-0.5773502980571392,-2.220446049250313e-16,0.577350298057139,0.5773502980571393,0.0],\\\"type\\\":\\\"scatter\\\",\\\"opacity\\\":0.4,\\\"x\\\":[0.6666667,0.33333335000000003,-0.3333333499999998,-0.6666667,-0.3333333500000002,0.33333334999999964,0.6666667]},{\\\"mode\\\":\\\"lines\\\",\\\"line\\\":{\\\"color\\\":\\\"darkgreen\\\",\\\"width\\\":4},\\\"y\\\":[0.0,0.0,0.288675,0.0],\\\"type\\\":\\\"scatter\\\",\\\"x\\\":[0.0,0.6666667,0.49999998349999997,0.0]}],{\\\"showlegend\\\":false,\\\"xaxis\\\":{\\\"showgrid\\\":false,\\\"showline\\\":false,\\\"showticklabels\\\":false,\\\"zeroline\\\":false,\\\"scaleanchor\\\":\\\"y\\\"},\\\"template\\\":{\\\"layout\\\":{\\\"coloraxis\\\":{\\\"colorbar\\\":{\\\"ticks\\\":\\\"\\\",\\\"outlinewidth\\\":0}},\\\"xaxis\\\":{\\\"gridcolor\\\":\\\"white\\\",\\\"zerolinewidth\\\":2,\\\"title\\\":{\\\"standoff\\\":15},\\\"ticks\\\":\\\"\\\",\\\"zerolinecolor\\\":\\\"white\\\",\\\"automargin\\\":true,\\\"linecolor\\\":\\\"white\\\"},\\\"hovermode\\\":\\\"closest\\\",\\\"paper_bgcolor\\\":\\\"white\\\",\\\"geo\\\":{\\\"showlakes\\\":true,\\\"showland\\\":true,\\\"landcolor\\\":\\\"#E5ECF6\\\",\\\"bgcolor\\\":\\\"white\\\",\\\"subunitcolor\\\":\\\"white\\\",\\\"lakecolor\\\":\\\"white\\\"},\\\"colorscale\\\":{\\\"sequential\\\":[[0.0,\\\"#0d0887\\\"],[0.1111111111111111,\\\"#46039f\\\"],[0.2222222222222222,\\\"#7201a8\\\"],[0.3333333333333333,\\\"#9c179e\\\"],[0.4444444444444444,\\\"#bd3786\\\"],[0.5555555555555556,\\\"#d8576b\\\"],[0.6666666666666666,\\\"#ed7953\\\"],[0.7777777777777778,\\\"#fb9f3a\\\"],[0.8888888888888888,\\\"#fdca26\\\"],[1.0,\\\"#f0f921\\\"]],\\\"diverging\\\":[[0,\\\"#8e0152\\\"],[0.1,\\\"#c51b7d\\\"],[0.2,\\\"#de77ae\\\"],[0.3,\\\"#f1b6da\\\"],[0.4,\\\"#fde0ef\\\"],[0.5,\\\"#f7f7f7\\\"],[0.6,\\\"#e6f5d0\\\"],[0.7,\\\"#b8e186\\\"],[0.8,\\\"#7fbc41\\\"],[0.9,\\\"#4d9221\\\"],[1,\\\"#276419\\\"]],\\\"sequentialminus\\\":[[0.0,\\\"#0d0887\\\"],[0.1111111111111111,\\\"#46039f\\\"],[0.2222222222222222,\\\"#7201a8\\\"],[0.3333333333333333,\\\"#9c179e\\\"],[0.4444444444444444,\\\"#bd3786\\\"],[0.5555555555555556,\\\"#d8576b\\\"],[0.6666666666666666,\\\"#ed7953\\\"],[0.7777777777777778,\\\"#fb9f3a\\\"],[0.8888888888888888,\\\"#fdca26\\\"],[1.0,\\\"#f0f921\\\"]]},\\\"yaxis\\\":{\\\"gridcolor\\\":\\\"white\\\",\\\"zerolinewidth\\\":2,\\\"title\\\":{\\\"standoff\\\":15},\\\"ticks\\\":\\\"\\\",\\\"zerolinecolor\\\":\\\"white\\\",\\\"automargin\\\":true,\\\"linecolor\\\":\\\"white\\\"},\\\"shapedefaults\\\":{\\\"line\\\":{\\\"color\\\":\\\"#2a3f5f\\\"}},\\\"hoverlabel\\\":{\\\"align\\\":\\\"left\\\"},\\\"mapbox\\\":{\\\"style\\\":\\\"light\\\"},\\\"polar\\\":{\\\"angularaxis\\\":{\\\"gridcolor\\\":\\\"white\\\",\\\"ticks\\\":\\\"\\\",\\\"linecolor\\\":\\\"white\\\"},\\\"bgcolor\\\":\\\"#E5ECF6\\\",\\\"radialaxis\\\":{\\\"gridcolor\\\":\\\"white\\\",\\\"ticks\\\":\\\"\\\",\\\"linecolor\\\":\\\"white\\\"}},\\\"autotypenumbers\\\":\\\"strict\\\",\\\"font\\\":{\\\"color\\\":\\\"#2a3f5f\\\"},\\\"ternary\\\":{\\\"baxis\\\":{\\\"gridcolor\\\":\\\"white\\\",\\\"ticks\\\":\\\"\\\",\\\"linecolor\\\":\\\"white\\\"},\\\"bgcolor\\\":\\\"#E5ECF6\\\",\\\"caxis\\\":{\\\"gridcolor\\\":\\\"white\\\",\\\"ticks\\\":\\\"\\\",\\\"linecolor\\\":\\\"white\\\"},\\\"aaxis\\\":{\\\"gridcolor\\\":\\\"white\\\",\\\"ticks\\\":\\\"\\\",\\\"linecolor\\\":\\\"white\\\"}},\\\"annotationdefaults\\\":{\\\"arrowhead\\\":0,\\\"arrowwidth\\\":1,\\\"arrowcolor\\\":\\\"#2a3f5f\\\"},\\\"plot_bgcolor\\\":\\\"#E5ECF6\\\",\\\"title\\\":{\\\"x\\\":0.05},\\\"scene\\\":{\\\"xaxis\\\":{\\\"gridcolor\\\":\\\"white\\\",\\\"gridwidth\\\":2,\\\"backgroundcolor\\\":\\\"#E5ECF6\\\",\\\"ticks\\\":\\\"\\\",\\\"showbackground\\\":true,\\\"zerolinecolor\\\":\\\"white\\\",\\\"linecolor\\\":\\\"white\\\"},\\\"zaxis\\\":{\\\"gridcolor\\\":\\\"white\\\",\\\"gridwidth\\\":2,\\\"backgroundcolor\\\":\\\"#E5ECF6\\\",\\\"ticks\\\":\\\"\\\",\\\"showbackground\\\":true,\\\"zerolinecolor\\\":\\\"white\\\",\\\"linecolor\\\":\\\"white\\\"},\\\"yaxis\\\":{\\\"gridcolor\\\":\\\"white\\\",\\\"gridwidth\\\":2,\\\"backgroundcolor\\\":\\\"#E5ECF6\\\",\\\"ticks\\\":\\\"\\\",\\\"showbackground\\\":true,\\\"zerolinecolor\\\":\\\"white\\\",\\\"linecolor\\\":\\\"white\\\"}},\\\"colorway\\\":[\\\"#636efa\\\",\\\"#EF553B\\\",\\\"#00cc96\\\",\\\"#ab63fa\\\",\\\"#FFA15A\\\",\\\"#19d3f3\\\",\\\"#FF6692\\\",\\\"#B6E880\\\",\\\"#FF97FF\\\",\\\"#FECB52\\\"]},\\\"data\\\":{\\\"barpolar\\\":[{\\\"type\\\":\\\"barpolar\\\",\\\"marker\\\":{\\\"line\\\":{\\\"color\\\":\\\"#E5ECF6\\\",\\\"width\\\":0.5}}}],\\\"carpet\\\":[{\\\"aaxis\\\":{\\\"gridcolor\\\":\\\"white\\\",\\\"endlinecolor\\\":\\\"#2a3f5f\\\",\\\"minorgridcolor\\\":\\\"white\\\",\\\"startlinecolor\\\":\\\"#2a3f5f\\\",\\\"linecolor\\\":\\\"white\\\"},\\\"type\\\":\\\"carpet\\\",\\\"baxis\\\":{\\\"gridcolor\\\":\\\"white\\\",\\\"endlinecolor\\\":\\\"#2a3f5f\\\",\\\"minorgridcolor\\\":\\\"white\\\",\\\"startlinecolor\\\":\\\"#2a3f5f\\\",\\\"linecolor\\\":\\\"white\\\"}}],\\\"scatterpolar\\\":[{\\\"type\\\":\\\"scatterpolar\\\",\\\"marker\\\":{\\\"colorbar\\\":{\\\"ticks\\\":\\\"\\\",\\\"outlinewidth\\\":0}}}],\\\"parcoords\\\":[{\\\"line\\\":{\\\"colorbar\\\":{\\\"ticks\\\":\\\"\\\",\\\"outlinewidth\\\":0}},\\\"type\\\":\\\"parcoords\\\"}],\\\"scatter\\\":[{\\\"type\\\":\\\"scatter\\\",\\\"marker\\\":{\\\"colorbar\\\":{\\\"ticks\\\":\\\"\\\",\\\"outlinewidth\\\":0}}}],\\\"histogram2dcontour\\\":[{\\\"colorbar\\\":{\\\"ticks\\\":\\\"\\\",\\\"outlinewidth\\\":0},\\\"type\\\":\\\"histogram2dcontour\\\",\\\"colorscale\\\":[[0.0,\\\"#0d0887\\\"],[0.1111111111111111,\\\"#46039f\\\"],[0.2222222222222222,\\\"#7201a8\\\"],[0.3333333333333333,\\\"#9c179e\\\"],[0.4444444444444444,\\\"#bd3786\\\"],[0.5555555555555556,\\\"#d8576b\\\"],[0.6666666666666666,\\\"#ed7953\\\"],[0.7777777777777778,\\\"#fb9f3a\\\"],[0.8888888888888888,\\\"#fdca26\\\"],[1.0,\\\"#f0f921\\\"]]}],\\\"contour\\\":[{\\\"colorbar\\\":{\\\"ticks\\\":\\\"\\\",\\\"outlinewidth\\\":0},\\\"type\\\":\\\"contour\\\",\\\"colorscale\\\":[[0.0,\\\"#0d0887\\\"],[0.1111111111111111,\\\"#46039f\\\"],[0.2222222222222222,\\\"#7201a8\\\"],[0.3333333333333333,\\\"#9c179e\\\"],[0.4444444444444444,\\\"#bd3786\\\"],[0.5555555555555556,\\\"#d8576b\\\"],[0.6666666666666666,\\\"#ed7953\\\"],[0.7777777777777778,\\\"#fb9f3a\\\"],[0.8888888888888888,\\\"#fdca26\\\"],[1.0,\\\"#f0f921\\\"]]}],\\\"scattercarpet\\\":[{\\\"type\\\":\\\"scattercarpet\\\",\\\"marker\\\":{\\\"colorbar\\\":{\\\"ticks\\\":\\\"\\\",\\\"outlinewidth\\\":0}}}],\\\"mesh3d\\\":[{\\\"colorbar\\\":{\\\"ticks\\\":\\\"\\\",\\\"outlinewidth\\\":0},\\\"type\\\":\\\"mesh3d\\\"}],\\\"surface\\\":[{\\\"colorbar\\\":{\\\"ticks\\\":\\\"\\\",\\\"outlinewidth\\\":0},\\\"type\\\":\\\"surface\\\",\\\"colorscale\\\":[[0.0,\\\"#0d0887\\\"],[0.1111111111111111,\\\"#46039f\\\"],[0.2222222222222222,\\\"#7201a8\\\"],[0.3333333333333333,\\\"#9c179e\\\"],[0.4444444444444444,\\\"#bd3786\\\"],[0.5555555555555556,\\\"#d8576b\\\"],[0.6666666666666666,\\\"#ed7953\\\"],[0.7777777777777778,\\\"#fb9f3a\\\"],[0.8888888888888888,\\\"#fdca26\\\"],[1.0,\\\"#f0f921\\\"]]}],\\\"scattermapbox\\\":[{\\\"type\\\":\\\"scattermapbox\\\",\\\"marker\\\":{\\\"colorbar\\\":{\\\"ticks\\\":\\\"\\\",\\\"outlinewidth\\\":0}}}],\\\"scattergeo\\\":[{\\\"type\\\":\\\"scattergeo\\\",\\\"marker\\\":{\\\"colorbar\\\":{\\\"ticks\\\":\\\"\\\",\\\"outlinewidth\\\":0}}}],\\\"histogram\\\":[{\\\"type\\\":\\\"histogram\\\",\\\"marker\\\":{\\\"colorbar\\\":{\\\"ticks\\\":\\\"\\\",\\\"outlinewidth\\\":0}}}],\\\"pie\\\":[{\\\"type\\\":\\\"pie\\\",\\\"automargin\\\":true}],\\\"choropleth\\\":[{\\\"colorbar\\\":{\\\"ticks\\\":\\\"\\\",\\\"outlinewidth\\\":0},\\\"type\\\":\\\"choropleth\\\"}],\\\"heatmapgl\\\":[{\\\"colorbar\\\":{\\\"ticks\\\":\\\"\\\",\\\"outlinewidth\\\":0},\\\"type\\\":\\\"heatmapgl\\\",\\\"colorscale\\\":[[0.0,\\\"#0d0887\\\"],[0.1111111111111111,\\\"#46039f\\\"],[0.2222222222222222,\\\"#7201a8\\\"],[0.3333333333333333,\\\"#9c179e\\\"],[0.4444444444444444,\\\"#bd3786\\\"],[0.5555555555555556,\\\"#d8576b\\\"],[0.6666666666666666,\\\"#ed7953\\\"],[0.7777777777777778,\\\"#fb9f3a\\\"],[0.8888888888888888,\\\"#fdca26\\\"],[1.0,\\\"#f0f921\\\"]]}],\\\"bar\\\":[{\\\"type\\\":\\\"bar\\\",\\\"error_y\\\":{\\\"color\\\":\\\"#2a3f5f\\\"},\\\"error_x\\\":{\\\"color\\\":\\\"#2a3f5f\\\"},\\\"marker\\\":{\\\"line\\\":{\\\"color\\\":\\\"#E5ECF6\\\",\\\"width\\\":0.5}}}],\\\"heatmap\\\":[{\\\"colorbar\\\":{\\\"ticks\\\":\\\"\\\",\\\"outlinewidth\\\":0},\\\"type\\\":\\\"heatmap\\\",\\\"colorscale\\\":[[0.0,\\\"#0d0887\\\"],[0.1111111111111111,\\\"#46039f\\\"],[0.2222222222222222,\\\"#7201a8\\\"],[0.3333333333333333,\\\"#9c179e\\\"],[0.4444444444444444,\\\"#bd3786\\\"],[0.5555555555555556,\\\"#d8576b\\\"],[0.6666666666666666,\\\"#ed7953\\\"],[0.7777777777777778,\\\"#fb9f3a\\\"],[0.8888888888888888,\\\"#fdca26\\\"],[1.0,\\\"#f0f921\\\"]]}],\\\"contourcarpet\\\":[{\\\"colorbar\\\":{\\\"ticks\\\":\\\"\\\",\\\"outlinewidth\\\":0},\\\"type\\\":\\\"contourcarpet\\\"}],\\\"table\\\":[{\\\"type\\\":\\\"table\\\",\\\"header\\\":{\\\"line\\\":{\\\"color\\\":\\\"white\\\"},\\\"fill\\\":{\\\"color\\\":\\\"#C8D4E3\\\"}},\\\"cells\\\":{\\\"line\\\":{\\\"color\\\":\\\"white\\\"},\\\"fill\\\":{\\\"color\\\":\\\"#EBF0F8\\\"}}}],\\\"scatter3d\\\":[{\\\"line\\\":{\\\"colorbar\\\":{\\\"ticks\\\":\\\"\\\",\\\"outlinewidth\\\":0}},\\\"type\\\":\\\"scatter3d\\\",\\\"marker\\\":{\\\"colorbar\\\":{\\\"ticks\\\":\\\"\\\",\\\"outlinewidth\\\":0}}}],\\\"scattergl\\\":[{\\\"type\\\":\\\"scattergl\\\",\\\"marker\\\":{\\\"colorbar\\\":{\\\"ticks\\\":\\\"\\\",\\\"outlinewidth\\\":0}}}],\\\"histogram2d\\\":[{\\\"colorbar\\\":{\\\"ticks\\\":\\\"\\\",\\\"outlinewidth\\\":0},\\\"type\\\":\\\"histogram2d\\\",\\\"colorscale\\\":[[0.0,\\\"#0d0887\\\"],[0.1111111111111111,\\\"#46039f\\\"],[0.2222222222222222,\\\"#7201a8\\\"],[0.3333333333333333,\\\"#9c179e\\\"],[0.4444444444444444,\\\"#bd3786\\\"],[0.5555555555555556,\\\"#d8576b\\\"],[0.6666666666666666,\\\"#ed7953\\\"],[0.7777777777777778,\\\"#fb9f3a\\\"],[0.8888888888888888,\\\"#fdca26\\\"],[1.0,\\\"#f0f921\\\"]]}],\\\"scatterternary\\\":[{\\\"type\\\":\\\"scatterternary\\\",\\\"marker\\\":{\\\"colorbar\\\":{\\\"ticks\\\":\\\"\\\",\\\"outlinewidth\\\":0}}}],\\\"scatterpolargl\\\":[{\\\"type\\\":\\\"scatterpolargl\\\",\\\"marker\\\":{\\\"colorbar\\\":{\\\"ticks\\\":\\\"\\\",\\\"outlinewidth\\\":0}}}]}},\\\"height\\\":510,\\\"margin\\\":{\\\"l\\\":50,\\\"b\\\":50,\\\"r\\\":50,\\\"t\\\":60},\\\"title\\\":\\\"Path in the FBZ\\\",\\\"yaxis\\\":{\\\"showgrid\\\":false,\\\"showline\\\":false,\\\"showticklabels\\\":false,\\\"zeroline\\\":false,\\\"scaleanchor\\\":\\\"x\\\"},\\\"plot_bgcolor\\\":\\\"rgba(0,0,0,0)\\\",\\\"width\\\":510},{\\\"showLink\\\":false,\\\"editable\\\":false,\\\"responsive\\\":true,\\\"staticPlot\\\":false,\\\"scrollZoom\\\":true}); gd.on(\\\"plotly_hover\\\",(function (data){var filtered_data=WebIO.PlotlyCommands.filterEventData(gd,data,\\\"hover\\\"); return !(filtered_data.isnil) ? (WebIO.setval({\\\"name\\\":\\\"hover\\\",\\\"scope\\\":\\\"1350891721892561338\\\",\\\"id\\\":\\\"167904\\\",\\\"type\\\":\\\"observable\\\"},filtered_data.out)) : undefined})); gd.on(\\\"plotly_unhover\\\",(function (){return WebIO.setval({\\\"name\\\":\\\"hover\\\",\\\"scope\\\":\\\"1350891721892561338\\\",\\\"id\\\":\\\"167904\\\",\\\"type\\\":\\\"observable\\\"},{})})); gd.on(\\\"plotly_selected\\\",(function (data){var filtered_data=WebIO.PlotlyCommands.filterEventData(gd,data,\\\"selected\\\"); return !(filtered_data.isnil) ? (WebIO.setval({\\\"name\\\":\\\"selected\\\",\\\"scope\\\":\\\"1350891721892561338\\\",\\\"id\\\":\\\"167905\\\",\\\"type\\\":\\\"observable\\\"},filtered_data.out)) : undefined})); gd.on(\\\"plotly_deselect\\\",(function (){return WebIO.setval({\\\"name\\\":\\\"selected\\\",\\\"scope\\\":\\\"1350891721892561338\\\",\\\"id\\\":\\\"167905\\\",\\\"type\\\":\\\"observable\\\"},{})})); gd.on(\\\"plotly_relayout\\\",(function (data){var filtered_data=WebIO.PlotlyCommands.filterEventData(gd,data,\\\"relayout\\\"); return !(filtered_data.isnil) ? (WebIO.setval({\\\"name\\\":\\\"relayout\\\",\\\"scope\\\":\\\"1350891721892561338\\\",\\\"id\\\":\\\"167907\\\",\\\"type\\\":\\\"observable\\\"},filtered_data.out)) : undefined})); return gd.on(\\\"plotly_click\\\",(function (data){var filtered_data=WebIO.PlotlyCommands.filterEventData(gd,data,\\\"click\\\"); return !(filtered_data.isnil) ? (WebIO.setval({\\\"name\\\":\\\"click\\\",\\\"scope\\\":\\\"1350891721892561338\\\",\\\"id\\\":\\\"167906\\\",\\\"type\\\":\\\"observable\\\"},filtered_data.out)) : undefined}))}));\\n    (WebIO.importBlock({\\\"data\\\":[{\\\"name\\\":\\\"Plotly\\\",\\\"type\\\":\\\"js\\\",\\\"url\\\":\\\"\\/assetserver\\/b267c3137400db01c304fe886fe6f707be7fdb37-plotly.min.js\\\"},{\\\"name\\\":null,\\\"type\\\":\\\"js\\\",\\\"url\\\":\\\"\\/assetserver\\/020f2e8a4619f2ae880fff9315e6547eef1aff0b-plotly_webio.bundle.js\\\"}],\\\"type\\\":\\\"async_block\\\"})).then((imports) => handler.apply(this, imports));\\n}\\n\"],\"observables\":{\"_toImage\":{\"sync\":false,\"id\":\"167911\",\"value\":{}},\"hover\":{\"sync\":false,\"id\":\"167904\",\"value\":{}},\"selected\":{\"sync\":false,\"id\":\"167905\",\"value\":{}},\"__gd_contents\":{\"sync\":false,\"id\":\"167909\",\"value\":{}},\"click\":{\"sync\":false,\"id\":\"167906\",\"value\":{}},\"image\":{\"sync\":true,\"id\":\"167908\",\"value\":\"\"},\"__get_gd_contents\":{\"sync\":false,\"id\":\"167913\",\"value\":\"\"},\"_downloadImage\":{\"sync\":false,\"id\":\"167912\",\"value\":{}},\"relayout\":{\"sync\":false,\"id\":\"167907\",\"value\":{}},\"_commands\":{\"sync\":false,\"id\":\"167910\",\"value\":[]}}},\"children\":[{\"props\":{\"id\":\"plot-1f26098a-7336-489f-879b-005a8fc1d85c\"},\"nodeType\":\"DOM\",\"type\":\"node\",\"instanceArgs\":{\"namespace\":\"html\",\"tag\":\"div\"},\"children\":[]}]},\n",
       "        window,\n",
       "    );\n",
       "    })()\n",
       "    </script>\n",
       "</div>\n"
      ],
      "text/plain": [
       "data: [\n",
       "  \"scatter with fields line, mode, opacity, type, x, and y\",\n",
       "  \"scatter with fields line, mode, type, x, and y\"\n",
       "]\n",
       "\n",
       "layout: \"layout with fields height, margin, plot_bgcolor, showlegend, template, title, width, xaxis, and yaxis\"\n",
       "\n"
      ]
     },
     "metadata": {},
     "output_type": "display_data"
    }
   ],
   "source": [
    "plot_kpath_fbz(corners, kpath_nodes)"
   ]
  },
  {
   "cell_type": "code",
   "execution_count": 113,
   "metadata": {},
   "outputs": [
    {
     "name": "stderr",
     "output_type": "stream",
     "text": [
      "WARNING: redefinition of constant Main.kpath_fbz. This may fail, cause incorrect answers, or produce other errors.\n",
      "WARNING: redefinition of constant Main.kpath_fbz_reduced. This may fail, cause incorrect answers, or produce other errors.\n"
     ]
    }
   ],
   "source": [
    "# Now, construct the K-Path using linear interpolation. Will directly use the function provided in the Brillouin.jl package \n",
    "global const npts_kpath::Int64 = 500\n",
    "global const kpath_fbz::Vector{Vector{Float64}} = interpolate(kpath_nodes, npts_kpath);\n",
    "global const kpath_fbz_reduced::Vector{Vector{Float64}} = make_reduced(kpath_fbz, recip_basis);"
   ]
  },
  {
   "cell_type": "markdown",
   "metadata": {},
   "source": [
    "# In the next part of this notebook, we plot the band structure for the monolayer Kagome model. #"
   ]
  },
  {
   "cell_type": "code",
   "execution_count": 114,
   "metadata": {},
   "outputs": [
    {
     "data": {
      "text/plain": [
       "plot_simple_kagome_bands (generic function with 1 method)"
      ]
     },
     "metadata": {},
     "output_type": "display_data"
    }
   ],
   "source": [
    "function plot_simple_kagome_bands(;p, seedname, title = Nothing)\n",
    "    if title == Nothing\n",
    "        title = seedname\n",
    "    end\n",
    "    eks = evals3.(kpath_fbz_reduced, Ref(p))\n",
    "\n",
    "    nps_x = size(kpath_fbz_reduced, 1)\n",
    "    xs = 1 : nps_x\n",
    "    \n",
    "    t1 = PlotlyJS.scatter(x = xs, y = map(e->e[1], eks), mode = \"lines\", line = attr(color = \"purple\", width = 4))\n",
    "    t2 = PlotlyJS.scatter(x = xs, y = map(e->e[2], eks), mode = \"lines\", line = attr(color = \"purple\", width = 4))\n",
    "    t3 = PlotlyJS.scatter(x = xs, y = map(e->e[3], eks), mode = \"lines\", line = attr(color = \"purple\", width = 4))\n",
    "    lo = PlotlyJS.Layout(title = title,\n",
    "                xaxis_showgrid = true,\n",
    "                yaxis_showgrid = true,\n",
    "                plot_bgcolor=\"rgba(0,0,0,0)\",\n",
    "                xaxis = attr(showgrid = true, showticklabels = false, linecolor = \"black\", linewidth = 5, showline = true, mirror = true),\n",
    "                yaxis = attr(showgrid = true, showticklabels = true, linecolor = \"black\", linewidth = 5, showline = true, mirror = true),\n",
    "                width = 510, \n",
    "                height = 510,\n",
    "                showlegend = false)\n",
    "    \n",
    "    p = PlotlyJS.plot([t1, t2, t3], lo)\n",
    "    PlotlyJS.savefig(p, assets_dir * seedname * \".png\")\n",
    "    display(p)\n",
    "end"
   ]
  },
  {
   "cell_type": "code",
   "execution_count": 115,
   "metadata": {},
   "outputs": [
    {
     "data": {
      "application/vnd.plotly.v1+json": {
       "config": {
        "editable": false,
        "responsive": true,
        "scrollZoom": true,
        "showLink": false,
        "staticPlot": false
       },
       "data": [
        {
         "line": {
          "color": "purple",
          "width": 4
         },
         "mode": "lines",
         "type": "scatter",
         "x": [
          1,
          2,
          3,
          4,
          5,
          6,
          7,
          8,
          9,
          10,
          11,
          12,
          13,
          14,
          15,
          16,
          17,
          18,
          19,
          20,
          21,
          22,
          23,
          24,
          25,
          26,
          27,
          28,
          29,
          30,
          31,
          32,
          33,
          34,
          35,
          36,
          37,
          38,
          39,
          40,
          41,
          42,
          43,
          44,
          45,
          46,
          47,
          48,
          49,
          50,
          51,
          52,
          53,
          54,
          55,
          56,
          57,
          58,
          59,
          60,
          61,
          62,
          63,
          64,
          65,
          66,
          67,
          68,
          69,
          70,
          71,
          72,
          73,
          74,
          75,
          76,
          77,
          78,
          79,
          80,
          81,
          82,
          83,
          84,
          85,
          86,
          87,
          88,
          89,
          90,
          91,
          92,
          93,
          94,
          95,
          96,
          97,
          98,
          99,
          100,
          101,
          102,
          103,
          104,
          105,
          106,
          107,
          108,
          109,
          110,
          111,
          112,
          113,
          114,
          115,
          116,
          117,
          118,
          119,
          120,
          121,
          122,
          123,
          124,
          125,
          126,
          127,
          128,
          129,
          130,
          131,
          132,
          133,
          134,
          135,
          136,
          137,
          138,
          139,
          140,
          141,
          142,
          143,
          144,
          145,
          146,
          147,
          148,
          149,
          150,
          151,
          152,
          153,
          154,
          155,
          156,
          157,
          158,
          159,
          160,
          161,
          162,
          163,
          164,
          165,
          166,
          167,
          168,
          169,
          170,
          171,
          172,
          173,
          174,
          175,
          176,
          177,
          178,
          179,
          180,
          181,
          182,
          183,
          184,
          185,
          186,
          187,
          188,
          189,
          190,
          191,
          192,
          193,
          194,
          195,
          196,
          197,
          198,
          199,
          200,
          201,
          202,
          203,
          204,
          205,
          206,
          207,
          208,
          209,
          210,
          211,
          212,
          213,
          214,
          215,
          216,
          217,
          218,
          219,
          220,
          221,
          222,
          223,
          224,
          225,
          226,
          227,
          228,
          229,
          230,
          231,
          232,
          233,
          234,
          235,
          236,
          237,
          238,
          239,
          240,
          241,
          242,
          243,
          244,
          245,
          246,
          247,
          248,
          249,
          250,
          251,
          252,
          253,
          254,
          255,
          256,
          257,
          258,
          259,
          260,
          261,
          262,
          263,
          264,
          265,
          266,
          267,
          268,
          269,
          270,
          271,
          272,
          273,
          274,
          275,
          276,
          277,
          278,
          279,
          280,
          281,
          282,
          283,
          284,
          285,
          286,
          287,
          288,
          289,
          290,
          291,
          292,
          293,
          294,
          295,
          296,
          297,
          298,
          299,
          300,
          301,
          302,
          303,
          304,
          305,
          306,
          307,
          308,
          309,
          310,
          311,
          312,
          313,
          314,
          315,
          316,
          317,
          318,
          319,
          320,
          321,
          322,
          323,
          324,
          325,
          326,
          327,
          328,
          329,
          330,
          331,
          332,
          333,
          334,
          335,
          336,
          337,
          338,
          339,
          340,
          341,
          342,
          343,
          344,
          345,
          346,
          347,
          348,
          349,
          350,
          351,
          352,
          353,
          354,
          355,
          356,
          357,
          358,
          359,
          360,
          361,
          362,
          363,
          364,
          365,
          366,
          367,
          368,
          369,
          370,
          371,
          372,
          373,
          374,
          375,
          376,
          377,
          378,
          379,
          380,
          381,
          382,
          383,
          384,
          385,
          386,
          387,
          388,
          389,
          390,
          391,
          392,
          393,
          394,
          395,
          396,
          397,
          398,
          399,
          400,
          401,
          402,
          403,
          404,
          405,
          406,
          407,
          408,
          409,
          410,
          411,
          412,
          413,
          414,
          415,
          416,
          417,
          418,
          419,
          420,
          421,
          422,
          423,
          424,
          425,
          426,
          427,
          428,
          429,
          430,
          431,
          432,
          433,
          434,
          435,
          436,
          437,
          438,
          439,
          440,
          441,
          442,
          443,
          444,
          445,
          446,
          447,
          448,
          449,
          450,
          451,
          452,
          453,
          454,
          455,
          456,
          457,
          458,
          459,
          460,
          461,
          462,
          463,
          464,
          465,
          466,
          467,
          468,
          469,
          470,
          471,
          472,
          473,
          474,
          475,
          476,
          477,
          478,
          479,
          480,
          481,
          482,
          483,
          484,
          485,
          486,
          487,
          488,
          489,
          490,
          491,
          492,
          493,
          494,
          495,
          496,
          497,
          498,
          499,
          500
         ],
         "y": [
          -2.000000000000001,
          -2,
          -2,
          -2.0000000000000004,
          -1.9999999999999998,
          -2.000000000000001,
          -2.0000000000000004,
          -2.000000000000001,
          -2,
          -2.000000000000001,
          -2,
          -2,
          -2.0000000000000004,
          -2.0000000000000004,
          -2.000000000000001,
          -2.000000000000001,
          -2,
          -2,
          -2.0000000000000004,
          -2.000000000000001,
          -2,
          -2.0000000000000004,
          -1.9999999999999998,
          -2.000000000000001,
          -2.000000000000001,
          -2,
          -2.000000000000001,
          -2,
          -2.000000000000001,
          -2,
          -2.000000000000001,
          -2.0000000000000004,
          -1.9999999999999998,
          -2,
          -1.9999999999999998,
          -2.000000000000001,
          -2,
          -2,
          -2.0000000000000004,
          -1.9999999999999998,
          -2.000000000000001,
          -2.000000000000001,
          -2.0000000000000004,
          -2,
          -2,
          -2.0000000000000004,
          -2.0000000000000004,
          -2.000000000000001,
          -2.000000000000001,
          -2.000000000000001,
          -2,
          -2.0000000000000004,
          -2.000000000000001,
          -1.9999999999999996,
          -2.000000000000001,
          -2,
          -2.0000000000000004,
          -2,
          -2.0000000000000004,
          -1.9999999999999998,
          -2.0000000000000004,
          -2.0000000000000004,
          -2.000000000000001,
          -2.0000000000000004,
          -2,
          -2.0000000000000004,
          -2.0000000000000004,
          -2.0000000000000004,
          -2.0000000000000004,
          -2,
          -2.000000000000001,
          -2,
          -2.0000000000000004,
          -2.0000000000000004,
          -2,
          -2,
          -2,
          -2.000000000000001,
          -2,
          -2.0000000000000013,
          -1.9999999999999998,
          -2.000000000000001,
          -2.0000000000000004,
          -2,
          -1.9999999999999996,
          -2,
          -2.0000000000000004,
          -2.0000000000000004,
          -2.0000000000000004,
          -2.000000000000001,
          -1.9999999999999998,
          -2,
          -1.9999999999999996,
          -2,
          -2.0000000000000004,
          -2.0000000000000004,
          -1.9999999999999993,
          -1.9999999999999998,
          -1.9999999999999998,
          -2,
          -1.9999999999999998,
          -1.9999999999999998,
          -1.9999999999999993,
          -2.000000000000001,
          -2.0000000000000004,
          -1.9999999999999998,
          -2.000000000000001,
          -2.000000000000001,
          -2,
          -2.000000000000001,
          -2,
          -2.0000000000000004,
          -1.9999999999999998,
          -2,
          -2.000000000000001,
          -2.0000000000000004,
          -2.0000000000000004,
          -2,
          -2,
          -2,
          -1.9999999999999998,
          -2,
          -1.9999999999999998,
          -2.0000000000000004,
          -1.9999999999999993,
          -2,
          -2.0000000000000004,
          -2.000000000000001,
          -1.9999999999999998,
          -2,
          -2.0000000000000004,
          -2.0000000000000004,
          -2,
          -1.9999999999999996,
          -2,
          -1.9999999999999996,
          -1.9999999999999998,
          -2,
          -2,
          -2,
          -2,
          -2,
          -2.000000000000001,
          -2,
          -2,
          -2.0000000000000004,
          -2.0000000000000004,
          -2.0000000000000004,
          -2,
          -2.000000000000001,
          -1.9999999999999998,
          -2.0000000000000004,
          -2,
          -2,
          -2,
          -1.9999999999999998,
          -1.9999999999999998,
          -2,
          -2,
          -2,
          -2,
          -2,
          -2,
          -2,
          -2,
          -2,
          -2,
          -2.0000000000000004,
          -2,
          -2,
          -2,
          -2,
          -2,
          -2,
          -2,
          -2,
          -2,
          -2,
          -2,
          -2,
          -2,
          -2,
          -2,
          -2.000000000000001,
          -2.0000000000000004,
          -2,
          -2,
          -2,
          -2,
          -2,
          -1.9999999999999996,
          -2,
          -2,
          -2,
          -2,
          -2,
          -2,
          -2,
          -2,
          -2,
          -2,
          -2,
          -2.0000000000000004,
          -2,
          -2,
          -2,
          -2,
          -2,
          -2,
          -2,
          -2,
          -2,
          -1.9999999999999998,
          -1.9999999999999996,
          -2,
          -2.0000000000000004,
          -2.0000000000000004,
          -1.9999999999999996,
          -2,
          -2.0000000000000004,
          -1.9999999999999991,
          -2.0000000000000004,
          -2,
          -2.0000000000000004,
          -1.9999999999999996,
          -1.9999999999999998,
          -1.9999999999999996,
          -1.9999999999999998,
          -2.000000000000001,
          -2,
          -2,
          -1.9999999999999993,
          -2,
          -2,
          -1.9999999999999996,
          -1.9999999999999996,
          -2,
          -1.9999999999999996,
          -2,
          -1.9999999999999996,
          -1.9999999999999993,
          -2,
          -2,
          -2,
          -2,
          -1.9999999999999998,
          -2.0000000000000004,
          -1.9999999999999996,
          -1.9999999999999996,
          -1.9999999999999996,
          -2.0000000000000004,
          -2,
          -1.9999999999999996,
          -1.9999999999999991,
          -2,
          -2,
          -2,
          -2,
          -2,
          -1.9999999999999998,
          -2,
          -1.9999999999999998,
          -1.9999999999999991,
          -2.0000000000000004,
          -2,
          -1.9999999999999993,
          -2,
          -1.9999999999999998,
          -1.9999999999999998,
          -1.9999999999999996,
          -2,
          -1.9999999999999996,
          -2.0000000000000004,
          -1.9999999999999996,
          -2,
          -2,
          -1.9999999999999998,
          -1.9999999999999998,
          -1.9999999999999996,
          -2,
          -2.0000000000000004,
          -2.0000000000000004,
          -2.0000000000000004,
          -1.9999999999999998,
          -2.0000000000000004,
          -1.9999999999999996,
          -2.0000000000000004,
          -2,
          -2,
          -2,
          -2.0000000000000004,
          -2,
          -2,
          -2.000000000000001,
          -2,
          -2.0000000000000004,
          -1.9999999999999996,
          -2,
          -2.000000000000001,
          -2.0000000000000004,
          -1.9999999999999993,
          -2,
          -2.0000000000000013,
          -1.9999999999999998,
          -2,
          -1.9999999999999998,
          -2.0000000000000004,
          -1.9999999999999998,
          -2,
          -1.9999999999999991,
          -2,
          -2,
          -2,
          -2.000000000000001,
          -2,
          -2.000000000000001,
          -1.9999999999999993,
          -2.0000000000000004,
          -2,
          -1.9999999999999998,
          -2.0000000000000004,
          -2.0000000000000004,
          -1.9999999999999996,
          -2,
          -2,
          -1.9999999999999998,
          -1.9999999999999998,
          -2.0000000000000004,
          -2.0000000000000004,
          -1.9999999999999998,
          -2,
          -1.9999999999999998,
          -1.9999999999999998,
          -2,
          -1.9999999999999998,
          -2,
          -1.9999999999999996,
          -1.9999999999999998,
          -2,
          -2,
          -2,
          -2,
          -2.000000000000001,
          -2,
          -1.9999999999999998,
          -2.0000000000000004,
          -2.0000000000000004,
          -2,
          -2.0000000000000004,
          -2,
          -1.9999999999999998,
          -2.0000000000000004,
          -1.9999999999999998,
          -2,
          -1.9999999999999996,
          -2,
          -1.9999999999999998,
          -1.9999999999999998,
          -2,
          -1.9999999999999996,
          -2,
          -2,
          -1.9999999999999996,
          -2,
          -2.0000000000000004,
          -2,
          -1.9999999999999996,
          -2.0000000000000004,
          -1.9999999999999998,
          -1.9999999999999993,
          -2.0000000000000004,
          -2,
          -1.9999999999999996,
          -2.0000000000000004,
          -2.0000000000000004,
          -2,
          -2,
          -2.0000000000000004,
          -1.9999999999999998,
          -2,
          -2,
          -2,
          -1.9999999999999998,
          -2.0000000000000004,
          -2,
          -2.000000000000001,
          -1.9999999999999998,
          -1.9999999999999996,
          -1.9999999999999998,
          -1.9999999999999993,
          -2.0000000000000004,
          -2,
          -2.0000000000000004,
          -2,
          -2,
          -1.9999999999999996,
          -2.0000000000000004,
          -2.0000000000000004,
          -1.9999999999999998,
          -1.9999999999999996,
          -1.9999999999999998,
          -1.9999999999999996,
          -2,
          -2.0000000000000004,
          -2,
          -2.0000000000000004,
          -1.9999999999999998,
          -2.0000000000000004,
          -2.0000000000000004,
          -1.9999999999999993,
          -2.0000000000000004,
          -1.9999999999999998,
          -2.0000000000000004,
          -2.0000000000000004,
          -1.9999999999999996,
          -1.9999999999999993,
          -1.9999999999999996,
          -2.0000000000000004,
          -2,
          -2.0000000000000004,
          -2,
          -2.0000000000000004,
          -1.9999999999999996,
          -1.9999999999999996,
          -2.0000000000000004,
          -2,
          -1.9999999999999996,
          -2.000000000000001,
          -1.9999999999999993,
          -2,
          -2.0000000000000004,
          -1.9999999999999996,
          -2.000000000000001,
          -2.0000000000000004,
          -2.0000000000000004,
          -2.0000000000000004,
          -1.9999999999999996,
          -1.9999999999999996,
          -1.9999999999999993,
          -1.9999999999999998,
          -1.9999999999999993,
          -1.9999999999999996,
          -2.0000000000000013,
          -2,
          -1.9999999999999998,
          -1.9999999999999998,
          -1.9999999999999998,
          -1.9999999999999991,
          -2,
          -2.0000000000000004,
          -1.9999999999999998,
          -1.9999999999999998,
          -1.9999999999999987,
          -2.0000000000000004,
          -1.9999999999999993,
          -2,
          -1.999999999999999,
          -2.000000000000001,
          -2.0000000000000004,
          -2,
          -1.9999999999999996,
          -2.0000000000000004,
          -1.9999999999999996,
          -1.9999999999999993,
          -2.0000000000000004,
          -1.9999999999999998,
          -1.9999999999999998,
          -1.9999999999999998,
          -2,
          -2.000000000000001,
          -1.9999999999999998,
          -2.0000000000000004,
          -2.0000000000000004,
          -2.0000000000000004,
          -2.000000000000001,
          -2,
          -1.9999999999999998,
          -1.9999999999999998,
          -2,
          -2.0000000000000004,
          -2,
          -2,
          -2,
          -1.999999999999999,
          -2.0000000000000004,
          -1.9999999999999996,
          -2,
          -1.9999999999999998,
          -1.9999999999999993,
          -2,
          -2.0000000000000004,
          -2.0000000000000004,
          -1.9999999999999998,
          -1.9999999999999996,
          -2,
          -2.0000000000000004,
          -1.9999999999999993,
          -1.9999999999999998,
          -1.9999999999999996,
          -2.000000000000001
         ]
        },
        {
         "line": {
          "color": "purple",
          "width": 4
         },
         "mode": "lines",
         "type": "scatter",
         "x": [
          1,
          2,
          3,
          4,
          5,
          6,
          7,
          8,
          9,
          10,
          11,
          12,
          13,
          14,
          15,
          16,
          17,
          18,
          19,
          20,
          21,
          22,
          23,
          24,
          25,
          26,
          27,
          28,
          29,
          30,
          31,
          32,
          33,
          34,
          35,
          36,
          37,
          38,
          39,
          40,
          41,
          42,
          43,
          44,
          45,
          46,
          47,
          48,
          49,
          50,
          51,
          52,
          53,
          54,
          55,
          56,
          57,
          58,
          59,
          60,
          61,
          62,
          63,
          64,
          65,
          66,
          67,
          68,
          69,
          70,
          71,
          72,
          73,
          74,
          75,
          76,
          77,
          78,
          79,
          80,
          81,
          82,
          83,
          84,
          85,
          86,
          87,
          88,
          89,
          90,
          91,
          92,
          93,
          94,
          95,
          96,
          97,
          98,
          99,
          100,
          101,
          102,
          103,
          104,
          105,
          106,
          107,
          108,
          109,
          110,
          111,
          112,
          113,
          114,
          115,
          116,
          117,
          118,
          119,
          120,
          121,
          122,
          123,
          124,
          125,
          126,
          127,
          128,
          129,
          130,
          131,
          132,
          133,
          134,
          135,
          136,
          137,
          138,
          139,
          140,
          141,
          142,
          143,
          144,
          145,
          146,
          147,
          148,
          149,
          150,
          151,
          152,
          153,
          154,
          155,
          156,
          157,
          158,
          159,
          160,
          161,
          162,
          163,
          164,
          165,
          166,
          167,
          168,
          169,
          170,
          171,
          172,
          173,
          174,
          175,
          176,
          177,
          178,
          179,
          180,
          181,
          182,
          183,
          184,
          185,
          186,
          187,
          188,
          189,
          190,
          191,
          192,
          193,
          194,
          195,
          196,
          197,
          198,
          199,
          200,
          201,
          202,
          203,
          204,
          205,
          206,
          207,
          208,
          209,
          210,
          211,
          212,
          213,
          214,
          215,
          216,
          217,
          218,
          219,
          220,
          221,
          222,
          223,
          224,
          225,
          226,
          227,
          228,
          229,
          230,
          231,
          232,
          233,
          234,
          235,
          236,
          237,
          238,
          239,
          240,
          241,
          242,
          243,
          244,
          245,
          246,
          247,
          248,
          249,
          250,
          251,
          252,
          253,
          254,
          255,
          256,
          257,
          258,
          259,
          260,
          261,
          262,
          263,
          264,
          265,
          266,
          267,
          268,
          269,
          270,
          271,
          272,
          273,
          274,
          275,
          276,
          277,
          278,
          279,
          280,
          281,
          282,
          283,
          284,
          285,
          286,
          287,
          288,
          289,
          290,
          291,
          292,
          293,
          294,
          295,
          296,
          297,
          298,
          299,
          300,
          301,
          302,
          303,
          304,
          305,
          306,
          307,
          308,
          309,
          310,
          311,
          312,
          313,
          314,
          315,
          316,
          317,
          318,
          319,
          320,
          321,
          322,
          323,
          324,
          325,
          326,
          327,
          328,
          329,
          330,
          331,
          332,
          333,
          334,
          335,
          336,
          337,
          338,
          339,
          340,
          341,
          342,
          343,
          344,
          345,
          346,
          347,
          348,
          349,
          350,
          351,
          352,
          353,
          354,
          355,
          356,
          357,
          358,
          359,
          360,
          361,
          362,
          363,
          364,
          365,
          366,
          367,
          368,
          369,
          370,
          371,
          372,
          373,
          374,
          375,
          376,
          377,
          378,
          379,
          380,
          381,
          382,
          383,
          384,
          385,
          386,
          387,
          388,
          389,
          390,
          391,
          392,
          393,
          394,
          395,
          396,
          397,
          398,
          399,
          400,
          401,
          402,
          403,
          404,
          405,
          406,
          407,
          408,
          409,
          410,
          411,
          412,
          413,
          414,
          415,
          416,
          417,
          418,
          419,
          420,
          421,
          422,
          423,
          424,
          425,
          426,
          427,
          428,
          429,
          430,
          431,
          432,
          433,
          434,
          435,
          436,
          437,
          438,
          439,
          440,
          441,
          442,
          443,
          444,
          445,
          446,
          447,
          448,
          449,
          450,
          451,
          452,
          453,
          454,
          455,
          456,
          457,
          458,
          459,
          460,
          461,
          462,
          463,
          464,
          465,
          466,
          467,
          468,
          469,
          470,
          471,
          472,
          473,
          474,
          475,
          476,
          477,
          478,
          479,
          480,
          481,
          482,
          483,
          484,
          485,
          486,
          487,
          488,
          489,
          490,
          491,
          492,
          493,
          494,
          495,
          496,
          497,
          498,
          499,
          500
         ],
         "y": [
          -2,
          -1.9999014744666956,
          -1.9996059075740604,
          -1.999113328442982,
          -1.9984237856050775,
          -1.99753734699793,
          -1.9964540999583726,
          -1.9951741512138947,
          -1.9936976268721331,
          -1.9920246724084336,
          -1.9901554526515288,
          -1.9880901517672913,
          -1.985828973240592,
          -1.9833721398552504,
          -1.9807198936720862,
          -1.9778724960050702,
          -1.9748302273955753,
          -1.9715933875847407,
          -1.9681622954839313,
          -1.9645372891433268,
          -1.9607187257186136,
          -1.9567069814357867,
          -1.952502451554091,
          -1.948105550327076,
          -1.9435167109617817,
          -1.938736385576051,
          -1.9337650451539927,
          -1.9286031794995746,
          -1.9232512971883606,
          -1.9177099255174128,
          -1.9119796104533278,
          -1.906060916578454,
          -1.8999544270352624,
          -1.893660743468889,
          -1.8871804859678705,
          -1.8805142930030256,
          -1.8736628213645745,
          -1.8666267460974157,
          -1.8594067604346145,
          -1.8520035757291091,
          -1.8444179213836231,
          -1.8366505447787966,
          -1.8287022111995468,
          -1.820573703759684,
          -1.8122658233247375,
          -1.8037793884330549,
          -1.7951152352151627,
          -1.7862742173113761,
          -1.7772572057877012,
          -1.7680650890500051,
          -1.75869877275649,
          -1.7491591797284665,
          -1.7394472498594253,
          -1.7295639400224347,
          -1.719510223975868,
          -1.7092870922674606,
          -1.6988955521367148,
          -1.6883366274156653,
          -1.6776113584280004,
          -1.666720801886568,
          -1.6556660307892581,
          -1.6444481343132904,
          -1.6330682177078941,
          -1.6215274021854276,
          -1.6098268248108898,
          -1.5979676383899077,
          -1.5859510113551498,
          -1.5737781276512026,
          -1.5614501866179238,
          -1.5489684028722785,
          -1.536334006188667,
          -1.5235482413777617,
          -1.5106123681638575,
          -1.4975276610607622,
          -1.484295409246222,
          -1.4709169164349036,
          -1.4573935007499441,
          -1.4437264945930899,
          -1.429917244513408,
          -1.4159671110746277,
          -1.4018774687210862,
          -1.3876497056423105,
          -1.373285223636245,
          -1.3587854379711397,
          -1.3441517772461131,
          -1.3293856832503885,
          -1.3144886108212535,
          -1.2994620277007138,
          -1.2843074143908844,
          -1.2690262640081251,
          -1.2536200821359262,
          -1.2380903866765718,
          -1.2224387077015901,
          -1.2066665873009996,
          -1.1907755794313748,
          -1.1747672497627362,
          -1.158643175524307,
          -1.142404945349099,
          -1.1260541591173994,
          -1.1095924277991422,
          -1.0930213732951848,
          -1.0763426282775093,
          -1.059557836028364,
          -1.042668650278356,
          -1.0256767350435183,
          -1.008583764461362,
          -0.9913914226259288,
          -0.9741014034218672,
          -0.9567154103575413,
          -0.9392351563971866,
          -0.9216623637921477,
          -0.9039987639111917,
          -0.8862460970699129,
          -0.868406112359281,
          -0.8504805674733029,
          -0.8324712285358489,
          -0.8143798699266418,
          -0.7962082741064372,
          -0.777958231441404,
          -0.7596315400267297,
          -0.7412300055094576,
          -0.7227554409105914,
          -0.7042096664464605,
          -0.6855945093493833,
          -0.6669118036876425,
          -0.648163390184775,
          -0.6293511160382204,
          -0.6104768347373226,
          -0.5915424058807117,
          -0.5725496949930875,
          -0.5535005733414216,
          -0.5343969177505818,
          -0.5152406104184246,
          -0.49603353873034517,
          -0.4767775950733244,
          -0.45747467664948216,
          -0.4381266852891481,
          -0.41873552726349117,
          -0.39930311309669686,
          -0.3798313573777339,
          -0.3603221785717201,
          -0.34077749883090025,
          -0.32119924380527,
          -0.30158934245284597,
          -0.28194972684961783,
          -0.2622823319991865,
          -0.2425890956421184,
          -0.22287195806502824,
          -0.20313286190941104,
          -0.18337375198024142,
          -0.16359657505436487,
          -0.14380327968868434,
          -0.12399581602818066,
          -0.10417613561377581,
          -0.08434619119005182,
          -0.06450793651285802,
          -0.04466332615681745,
          -0.024814315322746694,
          -0.0049628596450270734,
          0.014889085001086544,
          0.03473956269215983,
          0.05458661764929218,
          0.07442829443080945,
          0.09426263812492497,
          0.11408769454234857,
          0.1339015104088237,
          0.153702133557575,
          0.17348761312164784,
          0.1932559997261154,
          0.21300534568014706,
          0.2327337051688972,
          0.2524391344452275,
          0.2721196920212103,
          0.29177343885941265,
          0.3113984385639479,
          0.33099275757125435,
          0.3505544653405994,
          0.37008163454429455,
          0.3895723412575798,
          0.40902466514818103,
          0.4284366896655145,
          0.44780650222951035,
          0.4671321944190574,
          0.48641186216002485,
          0.505643605912866,
          0.5248255308597728,
          0.5439557470913594,
          0.5630323697928697,
          0.5820535194298778,
          0.6010173219334722,
          0.6199219088848974,
          0.638765417699641,
          0.6575459918109497,
          0.6762617808527424,
          0.6949109408419217,
          0.713491634360057,
          0.732002030734406,
          0.7504403062182973,
          0.768804644170805,
          0.787093235235738,
          0.8053042775199081,
          0.8234359767706626,
          0.8414865465526628,
          0.8594542084238951,
          0.8773371921108905,
          0.8951337356831442,
          0.9128420857267124,
          0.9304604975169589,
          0.9479872351904686,
          0.9654205719160641,
          0.982758790064948,
          0.9999998186200697,
          0.9827758346374926,
          0.9656527578388772,
          0.9486325634573811,
          0.9317169444244063,
          0.9149075832695146,
          0.8982061519531992,
          0.8816143117005887,
          0.8651337128362225,
          0.8487659946199013,
          0.8325127850836315,
          0.8163757008696964,
          0.8003563470698561,
          0.7844563170656893,
          0.7686771923701116,
          0.7530205424700691,
          0.7374879246704239,
          0.7220808839390572,
          0.706800952753196,
          0.6916496509469868,
          0.6766284855603222,
          0.6617389506889415,
          0.6469825273358158,
          0.6323606832638445,
          0.6178748728498586,
          0.6035265369399604,
          0.5893171027062107,
          0.5752479835046685,
          0.5613205787348139,
          0.547536273700357,
          0.5338964394714416,
          0.5204024327482756,
          0.507055595726183,
          0.49385725596210023,
          0.4808087262425317,
          0.467911304452971,
          0.4551662734488045,
          0.44257490092771246,
          0.43013843930357326,
          0.41785812558189744,
          0.40573518123677743,
          0.39377081208940107,
          0.38196620818811133,
          0.37032254369003303,
          0.35884097674428844,
          0.3475226493767988,
          0.33636868737669257,
          0.3253802001843277,
          0.3145582807809374,
          0.3039040055799194,
          0.2934184343197663,
          0.2831026099586595,
          0.2729575585707311,
          0.26298428924399997,
          0.253183793980006,
          0.2435570475951397,
          0.23410500762367853,
          0.22482861422254652,
          0.21572879007779813,
          0.206806440312848,
          0.1980624523984341,
          0.18949769606435268,
          0.18111302321294026,
          0.17290926783435,
          0.16488724592358805,
          0.157047755399353,
          0.1493915760246709,
          0.1419194693293368,
          0.13463217853416448,
          0.12753042847706325,
          0.12061492554094144,
          0.1138863575834459,
          0.10734539386854058,
          0.10099268499994357,
          0.09482886285640502,
          0.08885454052886571,
          0.08307031225946948,
          0.07747675338245841,
          0.07207442026694749,
          0.0668638502615817,
          0.06184556164109123,
          0.057020053554741545,
          0.05238780597668119,
          0.04794927965819973,
          0.043704916081907075,
          0.03965513741781079,
          0.03580034648133257,
          0.03214092669323665,
          0.028677242041490414,
          0.0254096370450706,
          0.022338436719684107,
          0.01946394654544703,
          0.016786452436490046,
          0.0143062207125364,
          0.012023498072396305,
          0.009938511569435815,
          0.008051468588991265,
          0.006362556827745114,
          0.004871944275047779,
          0.0035797791962217107,
          0.0024861901177980344,
          0.0015912858147454773,
          0.0008951552996468931,
          0.00039786781384117446,
          0.00009947282054322654,
          -8.140571359215114e-14,
          -0.00029467633152808115,
          -0.0011780677333988916,
          -0.0026483582879167564,
          -0.004702539281111473,
          -0.007336435501516164,
          -0.01054474128726507,
          -0.014321065585352066,
          -0.018657985123931464,
          -0.023547104667227314,
          -0.02897912322642049,
          -0.0349439050399733,
          -0.04143055411306917,
          -0.04842749111617134,
          -0.05592253148394227,
          -0.06390296362364911,
          -0.0723556262317046,
          -0.08126698382289566,
          -0.09062319969380717,
          -0.10041020566489195,
          -0.11061376806988071,
          -0.12121954958288161,
          -0.13221316658921872,
          -0.1435802419131747,
          -0.15530645281269995,
          -0.1673775742364435,
          -0.17977951741174097,
          -0.19249836389343228,
          -0.20552039525277566,
          -0.2188321186242541,
          -0.23242028835635092,
          -0.24627192403164683,
          -0.2603743251329636,
          -0.2747150826368471,
          -0.2892820878145649,
          -0.30406353851513496,
          -0.31904794319555596,
          -0.33422412295129006,
          -0.349581211786001,
          -0.36510865534407416,
          -0.3807962083132703,
          -0.39663393068829356,
          -0.4126121830696141,
          -0.42872162115573353,
          -0.4449531895715145,
          -0.461298115160388,
          -0.47774789985425636,
          -0.49429431322187567,
          -0.5109293847843673,
          -0.5276453961754576,
          -0.5444348732137776,
          -0.5612905779454145,
          -0.5782055007065201,
          -0.5951728522482982,
          -0.6121860559600071,
          -0.6292387402196399,
          -0.6463247308966846,
          -0.6634380440267014,
          -0.6805728786733826,
          -0.6977236099901898,
          -0.7148847824905761,
          -0.7320511035330971,
          -0.7492174370254431,
          -0.7663787973494229,
          -0.7835303435072795,
          -0.8006673734882869,
          -0.817785318853404,
          -0.8348797395347772,
          -0.8519463188461002,
          -0.8689808586991569,
          -0.8859792750213921,
          -0.9029375933689477,
          -0.9198519447293031,
          -0.9367185615074455,
          -0.9535337736893705,
          -0.9702940051766276,
          -0.9869957702856049,
          -1.0036356704052767,
          -1.0202103908071884,
          -1.0367166976015432,
          -1.053151434833379,
          -1.0695115217129343,
          -1.0857939499744813,
          -1.1019957813580477,
          -1.1181141452086079,
          -1.1341462361875352,
          -1.1500893120912463,
          -1.165940691772193,
          -1.1816977531574921,
          -1.197357931360726,
          -1.2129187168825604,
          -1.2283776538960622,
          -1.2437323386127457,
          -1.2589804177255444,
          -1.2741195869250743,
          -1.2891475894857425,
          -1.3040622149183656,
          -1.318861297686138,
          -1.3335427159809496,
          -1.348104390557161,
          -1.362544283620102,
          -1.3768603977666787,
          -1.3910507749756005,
          -1.4051134956448665,
          -1.4190466776742379,
          -1.4328484755905575,
          -1.4465170797138998,
          -1.460050715362539,
          -1.4734476420949654,
          -1.486706152987134,
          -1.4998245739432885,
          -1.5128012630387793,
          -1.5256346098933298,
          -1.5383230350733603,
          -1.5508649895219324,
          -1.5632589540150827,
          -1.575503438643236,
          -1.587596982316583,
          -1.5995381522932437,
          -1.6113255437292,
          -1.6229577792489422,
          -1.6344335085358808,
          -1.6457514079416193,
          -1.656910180113182,
          -1.6679085536373939,
          -1.6787452827015963,
          -1.6894191467699808,
          -1.6999289502747787,
          -1.7102735223216647,
          -1.720451716408694,
          -1.7304624101581898,
          -1.740304505060952,
          -1.749976926232256,
          -1.7594786221791043,
          -1.7688085645782106,
          -1.777965748064239,
          -1.78694919002786,
          -1.7957579304231244,
          -1.8043910315838279,
          -1.812847578048376,
          -1.8211266763928315,
          -1.8292274550717693,
          -1.837149064266578,
          -1.8448906757409043,
          -1.852451482702913,
          -1.859830699674074,
          -1.8670275623641925,
          -1.874041327552407,
          -1.880871272973909,
          -1.8875166972121344,
          -1.893976919596201,
          -1.900251280103356,
          -1.906339139266252,
          -1.9122398780848122,
          -1.9179528979425442,
          -1.923477620527076,
          -1.9288134877547676,
          -1.9339599616992393,
          -1.9389165245236442,
          -1.943682678416557,
          -1.9482579455313291,
          -1.9526418679287851,
          -1.956834007523132,
          -1.9608339460309743,
          -1.9646412849233008,
          -1.9682556453803774,
          -1.9716766682494125,
          -1.9749040140049208,
          -1.9779373627116859,
          -1.9807764139902757,
          -1.983420886984976,
          -1.985870520334142,
          -1.988125072142843,
          -1.9901843199577707,
          -1.9920480607443698,
          -1.9937161108660932,
          -1.9951883060657871,
          -1.9964645014491402,
          -1.9975445714701618,
          -1.9984284099186531,
          -1.9991159299096677,
          -1.9996070638749057,
          -1.999901763556047,
          -2
         ]
        },
        {
         "line": {
          "color": "purple",
          "width": 4
         },
         "mode": "lines",
         "type": "scatter",
         "x": [
          1,
          2,
          3,
          4,
          5,
          6,
          7,
          8,
          9,
          10,
          11,
          12,
          13,
          14,
          15,
          16,
          17,
          18,
          19,
          20,
          21,
          22,
          23,
          24,
          25,
          26,
          27,
          28,
          29,
          30,
          31,
          32,
          33,
          34,
          35,
          36,
          37,
          38,
          39,
          40,
          41,
          42,
          43,
          44,
          45,
          46,
          47,
          48,
          49,
          50,
          51,
          52,
          53,
          54,
          55,
          56,
          57,
          58,
          59,
          60,
          61,
          62,
          63,
          64,
          65,
          66,
          67,
          68,
          69,
          70,
          71,
          72,
          73,
          74,
          75,
          76,
          77,
          78,
          79,
          80,
          81,
          82,
          83,
          84,
          85,
          86,
          87,
          88,
          89,
          90,
          91,
          92,
          93,
          94,
          95,
          96,
          97,
          98,
          99,
          100,
          101,
          102,
          103,
          104,
          105,
          106,
          107,
          108,
          109,
          110,
          111,
          112,
          113,
          114,
          115,
          116,
          117,
          118,
          119,
          120,
          121,
          122,
          123,
          124,
          125,
          126,
          127,
          128,
          129,
          130,
          131,
          132,
          133,
          134,
          135,
          136,
          137,
          138,
          139,
          140,
          141,
          142,
          143,
          144,
          145,
          146,
          147,
          148,
          149,
          150,
          151,
          152,
          153,
          154,
          155,
          156,
          157,
          158,
          159,
          160,
          161,
          162,
          163,
          164,
          165,
          166,
          167,
          168,
          169,
          170,
          171,
          172,
          173,
          174,
          175,
          176,
          177,
          178,
          179,
          180,
          181,
          182,
          183,
          184,
          185,
          186,
          187,
          188,
          189,
          190,
          191,
          192,
          193,
          194,
          195,
          196,
          197,
          198,
          199,
          200,
          201,
          202,
          203,
          204,
          205,
          206,
          207,
          208,
          209,
          210,
          211,
          212,
          213,
          214,
          215,
          216,
          217,
          218,
          219,
          220,
          221,
          222,
          223,
          224,
          225,
          226,
          227,
          228,
          229,
          230,
          231,
          232,
          233,
          234,
          235,
          236,
          237,
          238,
          239,
          240,
          241,
          242,
          243,
          244,
          245,
          246,
          247,
          248,
          249,
          250,
          251,
          252,
          253,
          254,
          255,
          256,
          257,
          258,
          259,
          260,
          261,
          262,
          263,
          264,
          265,
          266,
          267,
          268,
          269,
          270,
          271,
          272,
          273,
          274,
          275,
          276,
          277,
          278,
          279,
          280,
          281,
          282,
          283,
          284,
          285,
          286,
          287,
          288,
          289,
          290,
          291,
          292,
          293,
          294,
          295,
          296,
          297,
          298,
          299,
          300,
          301,
          302,
          303,
          304,
          305,
          306,
          307,
          308,
          309,
          310,
          311,
          312,
          313,
          314,
          315,
          316,
          317,
          318,
          319,
          320,
          321,
          322,
          323,
          324,
          325,
          326,
          327,
          328,
          329,
          330,
          331,
          332,
          333,
          334,
          335,
          336,
          337,
          338,
          339,
          340,
          341,
          342,
          343,
          344,
          345,
          346,
          347,
          348,
          349,
          350,
          351,
          352,
          353,
          354,
          355,
          356,
          357,
          358,
          359,
          360,
          361,
          362,
          363,
          364,
          365,
          366,
          367,
          368,
          369,
          370,
          371,
          372,
          373,
          374,
          375,
          376,
          377,
          378,
          379,
          380,
          381,
          382,
          383,
          384,
          385,
          386,
          387,
          388,
          389,
          390,
          391,
          392,
          393,
          394,
          395,
          396,
          397,
          398,
          399,
          400,
          401,
          402,
          403,
          404,
          405,
          406,
          407,
          408,
          409,
          410,
          411,
          412,
          413,
          414,
          415,
          416,
          417,
          418,
          419,
          420,
          421,
          422,
          423,
          424,
          425,
          426,
          427,
          428,
          429,
          430,
          431,
          432,
          433,
          434,
          435,
          436,
          437,
          438,
          439,
          440,
          441,
          442,
          443,
          444,
          445,
          446,
          447,
          448,
          449,
          450,
          451,
          452,
          453,
          454,
          455,
          456,
          457,
          458,
          459,
          460,
          461,
          462,
          463,
          464,
          465,
          466,
          467,
          468,
          469,
          470,
          471,
          472,
          473,
          474,
          475,
          476,
          477,
          478,
          479,
          480,
          481,
          482,
          483,
          484,
          485,
          486,
          487,
          488,
          489,
          490,
          491,
          492,
          493,
          494,
          495,
          496,
          497,
          498,
          499,
          500
         ],
         "y": [
          3.9999999999999996,
          3.9999014744666948,
          3.9996059075740593,
          3.9991133284429807,
          3.9984237856050786,
          3.9975373469979294,
          3.996454099958371,
          3.9951741512138943,
          3.993697626872134,
          3.9920246724084345,
          3.9901554526515293,
          3.9880901517672913,
          3.9858289732405914,
          3.98337213985525,
          3.9807198936720853,
          3.9778724960050695,
          3.9748302273955765,
          3.97159338758474,
          3.9681622954839297,
          3.964537289143327,
          3.960718725718613,
          3.9567069814357865,
          3.952502451554092,
          3.9481055503270763,
          3.943516710961781,
          3.9387363855760515,
          3.9337650451539927,
          3.928603179499575,
          3.9232512971883606,
          3.9177099255174133,
          3.9119796104533275,
          3.906060916578454,
          3.8999544270352624,
          3.893660743468891,
          3.8871804859678702,
          3.880514293003025,
          3.873662821364575,
          3.8666267460974155,
          3.859406760434614,
          3.85200357572911,
          3.8444179213836227,
          3.8366505447787946,
          3.828702211199547,
          3.8205737037596834,
          3.8122658233247364,
          3.803779388433055,
          3.7951152352151625,
          3.7862742173113766,
          3.777257205787701,
          3.768065089050003,
          3.75869877275649,
          3.7491591797284674,
          3.7394472498594244,
          3.729563940022435,
          3.7195102239758677,
          3.70928709226746,
          3.698895552136715,
          3.688336627415665,
          3.6776113584280012,
          3.6667208018865685,
          3.6556660307892583,
          3.64444813431329,
          3.633068217707895,
          3.6215274021854276,
          3.60982682481089,
          3.5979676383899086,
          3.5859510113551494,
          3.5737781276512024,
          3.5614501866179236,
          3.548968402872278,
          3.5363340061886674,
          3.5235482413777612,
          3.5106123681638577,
          3.4975276610607624,
          3.484295409246222,
          3.470916916434904,
          3.4573935007499452,
          3.44372649459309,
          3.4299172445134083,
          3.415967111074627,
          3.4018774687210867,
          3.3876497056423105,
          3.3732852236362447,
          3.3587854379711404,
          3.344151777246113,
          3.3293856832503885,
          3.314488610821254,
          3.299462027700714,
          3.2843074143908852,
          3.269026264008125,
          3.253620082135927,
          3.2380903866765722,
          3.22243870770159,
          3.206666587300999,
          3.190775579431374,
          3.1747672497627364,
          3.1586431755243067,
          3.1424049453490985,
          3.126054159117399,
          3.109592427799142,
          3.0930213732951852,
          3.0763426282775095,
          3.0595578360283637,
          3.0426686502783555,
          3.0256767350435183,
          3.0085837644613616,
          2.991391422625929,
          2.9741014034218676,
          2.956715410357541,
          2.939235156397186,
          2.921662363792149,
          2.903998763911192,
          2.886246097069913,
          2.8684061123592812,
          2.850480567473303,
          2.8324712285358493,
          2.814379869926642,
          2.7962082741064376,
          2.7779582314414046,
          2.7596315400267297,
          2.7412300055094576,
          2.722755440910591,
          2.7042096664464603,
          2.685594509349383,
          2.6669118036876425,
          2.648163390184775,
          2.62935111603822,
          2.610476834737322,
          2.5915424058807117,
          2.5725496949930875,
          2.553500573341422,
          2.5343969177505823,
          2.5152406104184246,
          2.4960335387303454,
          2.4767775950733246,
          2.4574746766494817,
          2.4381266852891477,
          2.4187355272634914,
          2.399303113096697,
          2.379831357377734,
          2.36032217857172,
          2.3407774988309002,
          2.321199243805271,
          2.301589342452846,
          2.281949726849618,
          2.2622823319991863,
          2.242589095642119,
          2.2228719580650287,
          2.2031328619094115,
          2.183373751980242,
          2.163596575054365,
          2.1438032796886843,
          2.123995816028181,
          2.104176135613776,
          2.0843461911900523,
          2.0645079365128582,
          2.044663326156817,
          2.0248143153227467,
          2.004962859645027,
          1.9851109149989132,
          1.96526043730784,
          1.9454133823507078,
          1.9255717055691908,
          1.905737361875075,
          1.8859123054576514,
          1.8660984895911765,
          1.846297866442425,
          1.8265123868783526,
          1.8067440002738846,
          1.7869946543198532,
          1.767266294831103,
          1.7475608655547727,
          1.7278803079787897,
          1.7082265611405871,
          1.6886015614360521,
          1.6690072424287459,
          1.6494455346594006,
          1.6299183654557055,
          1.6104276587424202,
          1.5909753348518192,
          1.5715633103344855,
          1.5521934977704896,
          1.5328678055809426,
          1.5135881378399756,
          1.4943563940871347,
          1.475174469140227,
          1.4560442529086406,
          1.4369676302071306,
          1.4179464805701225,
          1.3989826780665284,
          1.380078091115103,
          1.3612345823003587,
          1.3424540081890501,
          1.3237382191472578,
          1.3050890591580786,
          1.2865083656399434,
          1.267997969265594,
          1.2495596937817028,
          1.2311953558291946,
          1.2129067647642617,
          1.194695722480092,
          1.1765640232293375,
          1.1585134534473371,
          1.140545791576105,
          1.1226628078891094,
          1.1048662643168556,
          1.0871579142732877,
          1.0695395024830412,
          1.0520127648095317,
          1.0345794280839358,
          1.0172412099350518,
          1.0000001813799306,
          1.0172241653625076,
          1.0343472421611226,
          1.0513674365426187,
          1.068283055575594,
          1.0850924167304852,
          1.1017938480468008,
          1.1183856882994119,
          1.1348662871637774,
          1.1512340053800985,
          1.1674872149163686,
          1.1836242991303039,
          1.1996436529301437,
          1.2155436829343107,
          1.2313228076298879,
          1.2469794575299302,
          1.262512075329576,
          1.277919116060943,
          1.2931990472468042,
          1.308350349053013,
          1.3233715144396772,
          1.338261049311058,
          1.3530174726641842,
          1.3676393167361554,
          1.3821251271501414,
          1.3964734630600397,
          1.4106828972937888,
          1.4247520164953316,
          1.4386794212651859,
          1.4524637262996427,
          1.4661035605285584,
          1.4795975672517248,
          1.4929444042738171,
          1.5061427440378998,
          1.5191912737574684,
          1.5320886955470296,
          1.5448337265511956,
          1.557425099072288,
          1.5698615606964266,
          1.5821418744181028,
          1.5942648187632231,
          1.6062291879105983,
          1.6180337918118886,
          1.6296774563099672,
          1.6411590232557118,
          1.652477350623201,
          1.663631312623307,
          1.6746197998156724,
          1.6854417192190625,
          1.6960959944200809,
          1.7065815656802337,
          1.71689739004134,
          1.727042441429269,
          1.7370157107560003,
          1.7468162060199939,
          1.7564429524048601,
          1.7658949923763212,
          1.7751713857774534,
          1.7842712099222018,
          1.7931935596871527,
          1.801937547601566,
          1.8105023039356478,
          1.8188869767870595,
          1.8270907321656498,
          1.835112754076412,
          1.842952244600647,
          1.8506084239753287,
          1.858080530670663,
          1.8653678214658358,
          1.8724695715229371,
          1.879385074459059,
          1.8861136424165548,
          1.8926546061314589,
          1.8990073150000568,
          1.9051711371435949,
          1.9111454594711341,
          1.9169296877405309,
          1.9225232466175417,
          1.9279255797330528,
          1.9331361497384187,
          1.9381544383589084,
          1.9429799464452586,
          1.9476121940233198,
          1.9520507203418,
          1.9562950839180933,
          1.9603448625821889,
          1.964199653518667,
          1.9678590733067647,
          1.9713227579585098,
          1.974590362954929,
          1.9776615632803156,
          1.9805360534545544,
          1.9832135475635098,
          1.9856937792874638,
          1.987976501927604,
          1.9900614884305643,
          1.9919485314110084,
          1.993637443172255,
          1.995128055724951,
          1.9964202208037782,
          1.9975138098822016,
          1.9984087141852545,
          1.999104844700354,
          1.9996021321861592,
          1.9999005271794572,
          2.000000000000081,
          2.0002946763315284,
          2.001178067733399,
          2.0026483582879164,
          2.0047025392811113,
          2.0073364355015166,
          2.010544741287265,
          2.014321065585352,
          2.0186579851239315,
          2.0235471046672275,
          2.0289791232264207,
          2.0349439050399734,
          2.0414305541130697,
          2.048427491116171,
          2.055922531483942,
          2.063902963623649,
          2.0723556262317047,
          2.0812669838228954,
          2.090623199693807,
          2.100410205664893,
          2.1106137680698804,
          2.1212195495828814,
          2.132213166589219,
          2.143580241913175,
          2.1553064528126997,
          2.1673775742364434,
          2.1797795174117414,
          2.192498363893433,
          2.2055203952527753,
          2.218832118624255,
          2.2324202883563515,
          2.246271924031647,
          2.2603743251329638,
          2.274715082636848,
          2.289282087814565,
          2.304063538515136,
          2.3190479431955557,
          2.33422412295129,
          2.3495812117860004,
          2.3651086553440748,
          2.3807962083132708,
          2.396633930688293,
          2.4126121830696134,
          2.4287216211557334,
          2.444953189571514,
          2.4612981151603877,
          2.477747899854257,
          2.4942943132218756,
          2.510929384784367,
          2.5276453961754575,
          2.5444348732137767,
          2.5612905779454143,
          2.5782055007065203,
          2.595172852248297,
          2.6121860559600067,
          2.6292387402196398,
          2.6463247308966835,
          2.6634380440267025,
          2.6805728786733836,
          2.6977236099901907,
          2.714884782490577,
          2.7320511035330965,
          2.7492174370254427,
          2.7663787973494225,
          2.783530343507279,
          2.8006673734882868,
          2.817785318853403,
          2.8348797395347773,
          2.8519463188461014,
          2.8689808586991576,
          2.8859792750213917,
          2.9029375933689465,
          2.9198519447293023,
          2.936718561507445,
          2.9535337736893705,
          2.970294005176628,
          2.9869957702856054,
          3.0036356704052767,
          3.0202103908071884,
          3.0367166976015434,
          3.0531514348333797,
          3.0695115217129327,
          3.085793949974481,
          3.1019957813580468,
          3.1181141452086085,
          3.1341462361875347,
          3.1500893120912457,
          3.1659406917721937,
          3.1816977531574917,
          3.1973579313607257,
          3.2129187168825597,
          3.228377653896061,
          3.2437323386127472,
          3.2589804177255446,
          3.2741195869250737,
          3.2891475894857427,
          3.3040622149183667,
          3.318861297686139,
          3.33354271598095,
          3.348104390557161,
          3.362544283620103,
          3.3768603977666776,
          3.3910507749756,
          3.4051134956448657,
          3.419046677674236,
          3.432848475590559,
          3.4465170797138986,
          3.4600507153625397,
          3.473447642094966,
          3.486706152987134,
          3.4998245739432905,
          3.512801263038779,
          3.525634609893329,
          3.5383230350733585,
          3.5508649895219326,
          3.5632589540150823,
          3.575503438643236,
          3.5875969823165823,
          3.5995381522932424,
          3.6113255437292002,
          3.6229577792489414,
          3.63443350853588,
          3.645751407941619,
          3.6569101801131816,
          3.6679085536373917,
          3.6787452827015974,
          3.6894191467699806,
          3.69992895027478,
          3.710273522321665,
          3.7204517164086943,
          3.7304624101581902,
          3.7403045050609514,
          3.749976926232256,
          3.7594786221791043,
          3.768808564578211,
          3.7779657480642403,
          3.786949190027861,
          3.7957579304231235,
          3.804391031583828,
          3.812847578048376,
          3.8211266763928324,
          3.8292274550717686,
          3.8371490642665766,
          3.8448906757409036,
          3.85245148270291,
          3.8598306996740726,
          3.8670275623641936,
          3.8740413275524075,
          3.880871272973908,
          3.887516697212134,
          3.8939769195962013,
          3.9002512801033564,
          3.906339139266251,
          3.9122398780848116,
          3.9179528979425458,
          3.923477620527076,
          3.928813487754768,
          3.933959961699239,
          3.9389165245236435,
          3.943682678416558,
          3.94825794553133,
          3.9526418679287856,
          3.956834007523133,
          3.960833946030973,
          3.9646412849232977,
          3.968255645380377,
          3.971676668249412,
          3.9749040140049203,
          3.9779373627116863,
          3.980776413990276,
          3.983420886984976,
          3.9858705203341422,
          3.988125072142841,
          3.9901843199577707,
          3.99204806074437,
          3.9937161108660906,
          3.9951883060657867,
          3.996464501449141,
          3.9975445714701605,
          3.9984284099186533,
          3.999115929909668,
          3.999607063874907,
          3.9999017635560468,
          3.9999999999999996
         ]
        }
       ],
       "frames": [],
       "layout": {
        "height": 510,
        "margin": {
         "b": 50,
         "l": 50,
         "r": 50,
         "t": 60
        },
        "plot_bgcolor": "rgba(0,0,0,0)",
        "showlegend": false,
        "template": {
         "data": {
          "bar": [
           {
            "error_x": {
             "color": "#2a3f5f"
            },
            "error_y": {
             "color": "#2a3f5f"
            },
            "marker": {
             "line": {
              "color": "#E5ECF6",
              "width": 0.5
             }
            },
            "type": "bar"
           }
          ],
          "barpolar": [
           {
            "marker": {
             "line": {
              "color": "#E5ECF6",
              "width": 0.5
             }
            },
            "type": "barpolar"
           }
          ],
          "carpet": [
           {
            "aaxis": {
             "endlinecolor": "#2a3f5f",
             "gridcolor": "white",
             "linecolor": "white",
             "minorgridcolor": "white",
             "startlinecolor": "#2a3f5f"
            },
            "baxis": {
             "endlinecolor": "#2a3f5f",
             "gridcolor": "white",
             "linecolor": "white",
             "minorgridcolor": "white",
             "startlinecolor": "#2a3f5f"
            },
            "type": "carpet"
           }
          ],
          "choropleth": [
           {
            "colorbar": {
             "outlinewidth": 0,
             "ticks": ""
            },
            "type": "choropleth"
           }
          ],
          "contour": [
           {
            "colorbar": {
             "outlinewidth": 0,
             "ticks": ""
            },
            "colorscale": [
             [
              0,
              "#0d0887"
             ],
             [
              0.1111111111111111,
              "#46039f"
             ],
             [
              0.2222222222222222,
              "#7201a8"
             ],
             [
              0.3333333333333333,
              "#9c179e"
             ],
             [
              0.4444444444444444,
              "#bd3786"
             ],
             [
              0.5555555555555556,
              "#d8576b"
             ],
             [
              0.6666666666666666,
              "#ed7953"
             ],
             [
              0.7777777777777778,
              "#fb9f3a"
             ],
             [
              0.8888888888888888,
              "#fdca26"
             ],
             [
              1,
              "#f0f921"
             ]
            ],
            "type": "contour"
           }
          ],
          "contourcarpet": [
           {
            "colorbar": {
             "outlinewidth": 0,
             "ticks": ""
            },
            "type": "contourcarpet"
           }
          ],
          "heatmap": [
           {
            "colorbar": {
             "outlinewidth": 0,
             "ticks": ""
            },
            "colorscale": [
             [
              0,
              "#0d0887"
             ],
             [
              0.1111111111111111,
              "#46039f"
             ],
             [
              0.2222222222222222,
              "#7201a8"
             ],
             [
              0.3333333333333333,
              "#9c179e"
             ],
             [
              0.4444444444444444,
              "#bd3786"
             ],
             [
              0.5555555555555556,
              "#d8576b"
             ],
             [
              0.6666666666666666,
              "#ed7953"
             ],
             [
              0.7777777777777778,
              "#fb9f3a"
             ],
             [
              0.8888888888888888,
              "#fdca26"
             ],
             [
              1,
              "#f0f921"
             ]
            ],
            "type": "heatmap"
           }
          ],
          "heatmapgl": [
           {
            "colorbar": {
             "outlinewidth": 0,
             "ticks": ""
            },
            "colorscale": [
             [
              0,
              "#0d0887"
             ],
             [
              0.1111111111111111,
              "#46039f"
             ],
             [
              0.2222222222222222,
              "#7201a8"
             ],
             [
              0.3333333333333333,
              "#9c179e"
             ],
             [
              0.4444444444444444,
              "#bd3786"
             ],
             [
              0.5555555555555556,
              "#d8576b"
             ],
             [
              0.6666666666666666,
              "#ed7953"
             ],
             [
              0.7777777777777778,
              "#fb9f3a"
             ],
             [
              0.8888888888888888,
              "#fdca26"
             ],
             [
              1,
              "#f0f921"
             ]
            ],
            "type": "heatmapgl"
           }
          ],
          "histogram": [
           {
            "marker": {
             "colorbar": {
              "outlinewidth": 0,
              "ticks": ""
             }
            },
            "type": "histogram"
           }
          ],
          "histogram2d": [
           {
            "colorbar": {
             "outlinewidth": 0,
             "ticks": ""
            },
            "colorscale": [
             [
              0,
              "#0d0887"
             ],
             [
              0.1111111111111111,
              "#46039f"
             ],
             [
              0.2222222222222222,
              "#7201a8"
             ],
             [
              0.3333333333333333,
              "#9c179e"
             ],
             [
              0.4444444444444444,
              "#bd3786"
             ],
             [
              0.5555555555555556,
              "#d8576b"
             ],
             [
              0.6666666666666666,
              "#ed7953"
             ],
             [
              0.7777777777777778,
              "#fb9f3a"
             ],
             [
              0.8888888888888888,
              "#fdca26"
             ],
             [
              1,
              "#f0f921"
             ]
            ],
            "type": "histogram2d"
           }
          ],
          "histogram2dcontour": [
           {
            "colorbar": {
             "outlinewidth": 0,
             "ticks": ""
            },
            "colorscale": [
             [
              0,
              "#0d0887"
             ],
             [
              0.1111111111111111,
              "#46039f"
             ],
             [
              0.2222222222222222,
              "#7201a8"
             ],
             [
              0.3333333333333333,
              "#9c179e"
             ],
             [
              0.4444444444444444,
              "#bd3786"
             ],
             [
              0.5555555555555556,
              "#d8576b"
             ],
             [
              0.6666666666666666,
              "#ed7953"
             ],
             [
              0.7777777777777778,
              "#fb9f3a"
             ],
             [
              0.8888888888888888,
              "#fdca26"
             ],
             [
              1,
              "#f0f921"
             ]
            ],
            "type": "histogram2dcontour"
           }
          ],
          "mesh3d": [
           {
            "colorbar": {
             "outlinewidth": 0,
             "ticks": ""
            },
            "type": "mesh3d"
           }
          ],
          "parcoords": [
           {
            "line": {
             "colorbar": {
              "outlinewidth": 0,
              "ticks": ""
             }
            },
            "type": "parcoords"
           }
          ],
          "pie": [
           {
            "automargin": true,
            "type": "pie"
           }
          ],
          "scatter": [
           {
            "marker": {
             "colorbar": {
              "outlinewidth": 0,
              "ticks": ""
             }
            },
            "type": "scatter"
           }
          ],
          "scatter3d": [
           {
            "line": {
             "colorbar": {
              "outlinewidth": 0,
              "ticks": ""
             }
            },
            "marker": {
             "colorbar": {
              "outlinewidth": 0,
              "ticks": ""
             }
            },
            "type": "scatter3d"
           }
          ],
          "scattercarpet": [
           {
            "marker": {
             "colorbar": {
              "outlinewidth": 0,
              "ticks": ""
             }
            },
            "type": "scattercarpet"
           }
          ],
          "scattergeo": [
           {
            "marker": {
             "colorbar": {
              "outlinewidth": 0,
              "ticks": ""
             }
            },
            "type": "scattergeo"
           }
          ],
          "scattergl": [
           {
            "marker": {
             "colorbar": {
              "outlinewidth": 0,
              "ticks": ""
             }
            },
            "type": "scattergl"
           }
          ],
          "scattermapbox": [
           {
            "marker": {
             "colorbar": {
              "outlinewidth": 0,
              "ticks": ""
             }
            },
            "type": "scattermapbox"
           }
          ],
          "scatterpolar": [
           {
            "marker": {
             "colorbar": {
              "outlinewidth": 0,
              "ticks": ""
             }
            },
            "type": "scatterpolar"
           }
          ],
          "scatterpolargl": [
           {
            "marker": {
             "colorbar": {
              "outlinewidth": 0,
              "ticks": ""
             }
            },
            "type": "scatterpolargl"
           }
          ],
          "scatterternary": [
           {
            "marker": {
             "colorbar": {
              "outlinewidth": 0,
              "ticks": ""
             }
            },
            "type": "scatterternary"
           }
          ],
          "surface": [
           {
            "colorbar": {
             "outlinewidth": 0,
             "ticks": ""
            },
            "colorscale": [
             [
              0,
              "#0d0887"
             ],
             [
              0.1111111111111111,
              "#46039f"
             ],
             [
              0.2222222222222222,
              "#7201a8"
             ],
             [
              0.3333333333333333,
              "#9c179e"
             ],
             [
              0.4444444444444444,
              "#bd3786"
             ],
             [
              0.5555555555555556,
              "#d8576b"
             ],
             [
              0.6666666666666666,
              "#ed7953"
             ],
             [
              0.7777777777777778,
              "#fb9f3a"
             ],
             [
              0.8888888888888888,
              "#fdca26"
             ],
             [
              1,
              "#f0f921"
             ]
            ],
            "type": "surface"
           }
          ],
          "table": [
           {
            "cells": {
             "fill": {
              "color": "#EBF0F8"
             },
             "line": {
              "color": "white"
             }
            },
            "header": {
             "fill": {
              "color": "#C8D4E3"
             },
             "line": {
              "color": "white"
             }
            },
            "type": "table"
           }
          ]
         },
         "layout": {
          "annotationdefaults": {
           "arrowcolor": "#2a3f5f",
           "arrowhead": 0,
           "arrowwidth": 1
          },
          "autotypenumbers": "strict",
          "coloraxis": {
           "colorbar": {
            "outlinewidth": 0,
            "ticks": ""
           }
          },
          "colorscale": {
           "diverging": [
            [
             0,
             "#8e0152"
            ],
            [
             0.1,
             "#c51b7d"
            ],
            [
             0.2,
             "#de77ae"
            ],
            [
             0.3,
             "#f1b6da"
            ],
            [
             0.4,
             "#fde0ef"
            ],
            [
             0.5,
             "#f7f7f7"
            ],
            [
             0.6,
             "#e6f5d0"
            ],
            [
             0.7,
             "#b8e186"
            ],
            [
             0.8,
             "#7fbc41"
            ],
            [
             0.9,
             "#4d9221"
            ],
            [
             1,
             "#276419"
            ]
           ],
           "sequential": [
            [
             0,
             "#0d0887"
            ],
            [
             0.1111111111111111,
             "#46039f"
            ],
            [
             0.2222222222222222,
             "#7201a8"
            ],
            [
             0.3333333333333333,
             "#9c179e"
            ],
            [
             0.4444444444444444,
             "#bd3786"
            ],
            [
             0.5555555555555556,
             "#d8576b"
            ],
            [
             0.6666666666666666,
             "#ed7953"
            ],
            [
             0.7777777777777778,
             "#fb9f3a"
            ],
            [
             0.8888888888888888,
             "#fdca26"
            ],
            [
             1,
             "#f0f921"
            ]
           ],
           "sequentialminus": [
            [
             0,
             "#0d0887"
            ],
            [
             0.1111111111111111,
             "#46039f"
            ],
            [
             0.2222222222222222,
             "#7201a8"
            ],
            [
             0.3333333333333333,
             "#9c179e"
            ],
            [
             0.4444444444444444,
             "#bd3786"
            ],
            [
             0.5555555555555556,
             "#d8576b"
            ],
            [
             0.6666666666666666,
             "#ed7953"
            ],
            [
             0.7777777777777778,
             "#fb9f3a"
            ],
            [
             0.8888888888888888,
             "#fdca26"
            ],
            [
             1,
             "#f0f921"
            ]
           ]
          },
          "colorway": [
           "#636efa",
           "#EF553B",
           "#00cc96",
           "#ab63fa",
           "#FFA15A",
           "#19d3f3",
           "#FF6692",
           "#B6E880",
           "#FF97FF",
           "#FECB52"
          ],
          "font": {
           "color": "#2a3f5f"
          },
          "geo": {
           "bgcolor": "white",
           "lakecolor": "white",
           "landcolor": "#E5ECF6",
           "showlakes": true,
           "showland": true,
           "subunitcolor": "white"
          },
          "hoverlabel": {
           "align": "left"
          },
          "hovermode": "closest",
          "mapbox": {
           "style": "light"
          },
          "paper_bgcolor": "white",
          "plot_bgcolor": "#E5ECF6",
          "polar": {
           "angularaxis": {
            "gridcolor": "white",
            "linecolor": "white",
            "ticks": ""
           },
           "bgcolor": "#E5ECF6",
           "radialaxis": {
            "gridcolor": "white",
            "linecolor": "white",
            "ticks": ""
           }
          },
          "scene": {
           "xaxis": {
            "backgroundcolor": "#E5ECF6",
            "gridcolor": "white",
            "gridwidth": 2,
            "linecolor": "white",
            "showbackground": true,
            "ticks": "",
            "zerolinecolor": "white"
           },
           "yaxis": {
            "backgroundcolor": "#E5ECF6",
            "gridcolor": "white",
            "gridwidth": 2,
            "linecolor": "white",
            "showbackground": true,
            "ticks": "",
            "zerolinecolor": "white"
           },
           "zaxis": {
            "backgroundcolor": "#E5ECF6",
            "gridcolor": "white",
            "gridwidth": 2,
            "linecolor": "white",
            "showbackground": true,
            "ticks": "",
            "zerolinecolor": "white"
           }
          },
          "shapedefaults": {
           "line": {
            "color": "#2a3f5f"
           }
          },
          "ternary": {
           "aaxis": {
            "gridcolor": "white",
            "linecolor": "white",
            "ticks": ""
           },
           "baxis": {
            "gridcolor": "white",
            "linecolor": "white",
            "ticks": ""
           },
           "bgcolor": "#E5ECF6",
           "caxis": {
            "gridcolor": "white",
            "linecolor": "white",
            "ticks": ""
           }
          },
          "title": {
           "x": 0.05
          },
          "xaxis": {
           "automargin": true,
           "gridcolor": "white",
           "linecolor": "white",
           "ticks": "",
           "title": {
            "standoff": 15
           },
           "zerolinecolor": "white",
           "zerolinewidth": 2
          },
          "yaxis": {
           "automargin": true,
           "gridcolor": "white",
           "linecolor": "white",
           "ticks": "",
           "title": {
            "standoff": 15
           },
           "zerolinecolor": "white",
           "zerolinewidth": 2
          }
         }
        },
        "title": "Nearest neighbor model without spin-orbit coupling",
        "width": 510,
        "xaxis": {
         "linecolor": "black",
         "linewidth": 5,
         "mirror": true,
         "showgrid": true,
         "showline": true,
         "showticklabels": false
        },
        "yaxis": {
         "linecolor": "black",
         "linewidth": 5,
         "mirror": true,
         "showgrid": true,
         "showline": true,
         "showticklabels": true
        }
       }
      },
      "image/png": "[encoded data removed]",
      "image/svg+xml": [
       "<svg class=\"main-svg\" xmlns=\"http://www.w3.org/2000/svg\" xmlns:xlink=\"http://www.w3.org/1999/xlink\" width=\"700\" height=\"500\" style=\"\" viewBox=\"0 0 700 500\"><rect x=\"0\" y=\"0\" width=\"700\" height=\"500\" style=\"fill: rgb(255, 255, 255); fill-opacity: 1;\"/><defs id=\"defs-c0b8a4\"><g class=\"clips\"><clipPath id=\"clipc0b8a4xyplot\" class=\"plotclip\"><rect width=\"600\" height=\"390\"/></clipPath><clipPath class=\"axesclip\" id=\"clipc0b8a4x\"><rect x=\"50\" y=\"0\" width=\"600\" height=\"500\"/></clipPath><clipPath class=\"axesclip\" id=\"clipc0b8a4y\"><rect x=\"0\" y=\"60\" width=\"700\" height=\"390\"/></clipPath><clipPath class=\"axesclip\" id=\"clipc0b8a4xy\"><rect x=\"50\" y=\"60\" width=\"600\" height=\"390\"/></clipPath></g><g class=\"gradients\"/><g class=\"patterns\"/></defs><g class=\"bglayer\"><rect class=\"bg\" x=\"50\" y=\"60\" width=\"600\" height=\"390\" style=\"fill: rgb(0, 0, 0); fill-opacity: 0; stroke-width: 0;\"/></g><g class=\"layer-below\"><g class=\"imagelayer\"/><g class=\"shapelayer\"/></g><g class=\"cartesianlayer\"><g class=\"subplot xy\"><g class=\"layer-subplot\"><g class=\"shapelayer\"/><g class=\"imagelayer\"/></g><g class=\"gridlayer\"><g class=\"x\"><path class=\"xgrid crisp\" transform=\"translate(169.04000000000002,0)\" d=\"M0,60v390\" style=\"stroke: rgb(255, 255, 255); stroke-opacity: 1; stroke-width: 1px;\"/><path class=\"xgrid crisp\" transform=\"translate(289.28,0)\" d=\"M0,60v390\" style=\"stroke: rgb(255, 255, 255); stroke-opacity: 1; stroke-width: 1px;\"/><path class=\"xgrid crisp\" transform=\"translate(409.52,0)\" d=\"M0,60v390\" style=\"stroke: rgb(255, 255, 255); stroke-opacity: 1; stroke-width: 1px;\"/><path class=\"xgrid crisp\" transform=\"translate(529.76,0)\" d=\"M0,60v390\" style=\"stroke: rgb(255, 255, 255); stroke-opacity: 1; stroke-width: 1px;\"/></g><g class=\"y\"><path class=\"ygrid crisp\" transform=\"translate(0,430.5)\" d=\"M50,0h600\" style=\"stroke: rgb(255, 255, 255); stroke-opacity: 1; stroke-width: 1px;\"/><path class=\"ygrid crisp\" transform=\"translate(0,372)\" d=\"M50,0h600\" style=\"stroke: rgb(255, 255, 255); stroke-opacity: 1; stroke-width: 1px;\"/><path class=\"ygrid crisp\" transform=\"translate(0,255)\" d=\"M50,0h600\" style=\"stroke: rgb(255, 255, 255); stroke-opacity: 1; stroke-width: 1px;\"/><path class=\"ygrid crisp\" transform=\"translate(0,196.5)\" d=\"M50,0h600\" style=\"stroke: rgb(255, 255, 255); stroke-opacity: 1; stroke-width: 1px;\"/><path class=\"ygrid crisp\" transform=\"translate(0,138)\" d=\"M50,0h600\" style=\"stroke: rgb(255, 255, 255); stroke-opacity: 1; stroke-width: 1px;\"/><path class=\"ygrid crisp\" transform=\"translate(0,79.5)\" d=\"M50,0h600\" style=\"stroke: rgb(255, 255, 255); stroke-opacity: 1; stroke-width: 1px;\"/></g></g><g class=\"zerolinelayer\"><path class=\"yzl zl crisp\" transform=\"translate(0,313.5)\" d=\"M50,0h600\" style=\"stroke: rgb(255, 255, 255); stroke-opacity: 1; stroke-width: 2px;\"/></g><path class=\"xlines-below\"/><path class=\"ylines-below\"/><g class=\"overlines-below\"/><g class=\"xaxislayer-below\"/><g class=\"yaxislayer-below\"/><g class=\"overaxes-below\"/><g class=\"plot\" transform=\"translate(50,60)\" clip-path=\"url(#clipc0b8a4xyplot)\"><g class=\"scatterlayer mlayer\"><g class=\"trace scatter trace3f72d9\" style=\"stroke-miterlimit: 2; opacity: 1;\"><g class=\"fills\"/><g class=\"errorbars\"/><g class=\"lines\"><path class=\"js-line\" d=\"M0,370.5L600,370.5\" style=\"vector-effect: non-scaling-stroke; fill: none; stroke: rgb(128, 0, 128); stroke-opacity: 1; stroke-width: 4px; opacity: 1;\"/></g><g class=\"points\"/><g class=\"text\"/></g><g class=\"trace scatter trace749e95\" style=\"stroke-miterlimit: 2; opacity: 1;\"><g class=\"fills\"/><g class=\"errorbars\"/><g class=\"lines\"><path class=\"js-line\" d=\"M0,370.5L16.83,369.37L18.04,369.21L34.87,365.69L36.07,365.35L52.91,359.52L54.11,359.02L72.14,350.36L73.35,349.7L93.79,337.15L94.99,336.33L115.43,321.28L116.63,320.33L140.68,300.08L141.88,299.01L171.94,271.14L173.15,269.99L244.09,203.22L245.29,202.18L253.71,195L254.91,196.01L278.96,214.79L280.16,215.65L299.4,228.34L300.6,229.06L319.84,239.25L321.04,239.8L337.88,246.44L339.08,246.84L355.91,251.18L357.11,251.41L373.95,253.35L375.15,253.41L389.58,254.59L390.78,254.88L401.6,258.8L402.81,259.37L414.83,266.3L416.03,267.1L432.87,279.53L434.07,280.49L501.4,334.05L502.61,334.88L523.05,347.76L524.25,348.44L543.49,358.04L544.69,358.55L561.52,364.66L562.73,365.02L578.36,368.64L579.56,368.84L595.19,370.41L596.39,370.45L600,370.5\" style=\"vector-effect: non-scaling-stroke; fill: none; stroke: rgb(128, 0, 128); stroke-opacity: 1; stroke-width: 4px; opacity: 1;\"/></g><g class=\"points\"/><g class=\"text\"/></g><g class=\"trace scatter tracebff1bb\" style=\"stroke-miterlimit: 2; opacity: 1;\"><g class=\"fills\"/><g class=\"errorbars\"/><g class=\"lines\"><path class=\"js-line\" d=\"M0,19.5L16.83,20.63L18.04,20.79L34.87,24.31L36.07,24.65L52.91,30.48L54.11,30.98L72.14,39.64L73.35,40.3L93.79,52.85L94.99,53.67L115.43,68.72L116.63,69.67L140.68,89.92L141.88,90.99L171.94,118.86L173.15,120.01L244.09,186.78L245.29,187.82L253.71,195L254.91,193.99L278.96,175.21L280.16,174.35L299.4,161.66L300.6,160.94L319.84,150.75L321.04,150.2L337.88,143.56L339.08,143.16L355.91,138.82L357.11,138.59L373.95,136.65L375.15,136.59L389.58,135.41L390.78,135.12L401.6,131.2L402.81,130.63L414.83,123.7L416.03,122.9L432.87,110.47L434.07,109.51L501.4,55.95L502.61,55.12L523.05,42.24L524.25,41.56L543.49,31.96L544.69,31.45L561.52,25.34L562.73,24.98L578.36,21.36L579.56,21.16L595.19,19.59L596.39,19.55L600,19.5\" style=\"vector-effect: non-scaling-stroke; fill: none; stroke: rgb(128, 0, 128); stroke-opacity: 1; stroke-width: 4px; opacity: 1;\"/></g><g class=\"points\"/><g class=\"text\"/></g></g></g><g class=\"overplot\"/><path class=\"xlines-above crisp\" d=\"M45,452.5H655M45,57.5H655\" style=\"fill: none; stroke-width: 5px; stroke: rgb(0, 0, 0); stroke-opacity: 1;\"/><path class=\"ylines-above crisp\" d=\"M47.5,60V450M652.5,60V450\" style=\"fill: none; stroke-width: 5px; stroke: rgb(0, 0, 0); stroke-opacity: 1;\"/><g class=\"overlines-above\"/><g class=\"xaxislayer-above\"/><g class=\"yaxislayer-above\"><g class=\"ytick\"><text text-anchor=\"end\" x=\"42.6\" y=\"4.199999999999999\" transform=\"translate(0,430.5)\" style=\"font-family: 'Open Sans', verdana, arial, sans-serif; font-size: 12px; fill: rgb(42, 63, 95); fill-opacity: 1; white-space: pre; opacity: 1;\">−2</text></g><g class=\"ytick\"><text text-anchor=\"end\" x=\"42.6\" y=\"4.199999999999999\" style=\"font-family: 'Open Sans', verdana, arial, sans-serif; font-size: 12px; fill: rgb(42, 63, 95); fill-opacity: 1; white-space: pre; opacity: 1;\" transform=\"translate(0,372)\">−1</text></g><g class=\"ytick\"><text text-anchor=\"end\" x=\"42.6\" y=\"4.199999999999999\" style=\"font-family: 'Open Sans', verdana, arial, sans-serif; font-size: 12px; fill: rgb(42, 63, 95); fill-opacity: 1; white-space: pre; opacity: 1;\" transform=\"translate(0,313.5)\">0</text></g><g class=\"ytick\"><text text-anchor=\"end\" x=\"42.6\" y=\"4.199999999999999\" style=\"font-family: 'Open Sans', verdana, arial, sans-serif; font-size: 12px; fill: rgb(42, 63, 95); fill-opacity: 1; white-space: pre; opacity: 1;\" transform=\"translate(0,255)\">1</text></g><g class=\"ytick\"><text text-anchor=\"end\" x=\"42.6\" y=\"4.199999999999999\" style=\"font-family: 'Open Sans', verdana, arial, sans-serif; font-size: 12px; fill: rgb(42, 63, 95); fill-opacity: 1; white-space: pre; opacity: 1;\" transform=\"translate(0,196.5)\">2</text></g><g class=\"ytick\"><text text-anchor=\"end\" x=\"42.6\" y=\"4.199999999999999\" style=\"font-family: 'Open Sans', verdana, arial, sans-serif; font-size: 12px; fill: rgb(42, 63, 95); fill-opacity: 1; white-space: pre; opacity: 1;\" transform=\"translate(0,138)\">3</text></g><g class=\"ytick\"><text text-anchor=\"end\" x=\"42.6\" y=\"4.199999999999999\" style=\"font-family: 'Open Sans', verdana, arial, sans-serif; font-size: 12px; fill: rgb(42, 63, 95); fill-opacity: 1; white-space: pre; opacity: 1;\" transform=\"translate(0,79.5)\">4</text></g></g><g class=\"overaxes-above\"/></g></g><g class=\"polarlayer\"/><g class=\"ternarylayer\"/><g class=\"geolayer\"/><g class=\"funnelarealayer\"/><g class=\"pielayer\"/><g class=\"iciclelayer\"/><g class=\"treemaplayer\"/><g class=\"sunburstlayer\"/><g class=\"glimages\"/><defs id=\"topdefs-c0b8a4\"><g class=\"clips\"/></defs><g class=\"layer-above\"><g class=\"imagelayer\"/><g class=\"shapelayer\"/></g><g class=\"infolayer\"><g class=\"g-gtitle\"><text class=\"gtitle\" x=\"35\" y=\"30\" text-anchor=\"start\" dy=\"0em\" style=\"font-family: 'Open Sans', verdana, arial, sans-serif; font-size: 17px; fill: rgb(42, 63, 95); opacity: 1; font-weight: normal; white-space: pre;\">Nearest neighbor model without spin-orbit coupling</text></g><g class=\"g-xtitle\"/><g class=\"g-ytitle\"/></g></svg>"
      ],
      "text/html": [
       "<div\n",
       "    class=\"webio-mountpoint\"\n",
       "    data-webio-mountpoint=\"18136066631376999518\"\n",
       ">\n",
       "    <script>\n",
       "    (function(){\n",
       "    // Some integrations (namely, IJulia/Jupyter) use an alternate render pathway than\n",
       "    // just putting the html on the page. If WebIO isn't defined, then it's pretty likely\n",
       "    // that we're in one of those situations and the integration just isn't installed\n",
       "    // correctly.\n",
       "    if (typeof window.WebIO === \"undefined\") {\n",
       "        document\n",
       "            .querySelector('[data-webio-mountpoint=\"18136066631376999518\"]')\n",
       "            .innerHTML = (\n",
       "                '<div style=\"padding: 1em; background-color: #f8d6da; border: 1px solid #f5c6cb; font-weight: bold;\">' +\n",
       "                '<p><strong>WebIO not detected.</strong></p>' +\n",
       "                '<p>Please read ' +\n",
       "                '<a href=\"https://juliagizmos.github.io/WebIO.jl/latest/troubleshooting/not-detected/\" target=\"_blank\">the troubleshooting guide</a> ' +\n",
       "                'for more information on how to resolve this issue.</p>' +\n",
       "                '<p><a href=\"https://juliagizmos.github.io/WebIO.jl/latest/troubleshooting/not-detected/\" target=\"_blank\">https://juliagizmos.github.io/WebIO.jl/latest/troubleshooting/not-detected/</a></p>' +\n",
       "                '</div>'\n",
       "            );\n",
       "        return;\n",
       "    }\n",
       "    WebIO.mount(\n",
       "        document.querySelector('[data-webio-mountpoint=\"18136066631376999518\"]'),\n",
       "        {\"props\":{},\"nodeType\":\"Scope\",\"type\":\"node\",\"instanceArgs\":{\"imports\":{\"data\":[{\"name\":\"Plotly\",\"type\":\"js\",\"url\":\"\\/assetserver\\/b267c3137400db01c304fe886fe6f707be7fdb37-plotly.min.js\"},{\"name\":null,\"type\":\"js\",\"url\":\"\\/assetserver\\/020f2e8a4619f2ae880fff9315e6547eef1aff0b-plotly_webio.bundle.js\"}],\"type\":\"async_block\"},\"id\":\"4320827417617592934\",\"handlers\":{\"_toImage\":[\"(function (options){return this.Plotly.toImage(this.plotElem,options).then((function (data){return WebIO.setval({\\\"name\\\":\\\"image\\\",\\\"scope\\\":\\\"4320827417617592934\\\",\\\"id\\\":\\\"167918\\\",\\\"type\\\":\\\"observable\\\"},data)}))})\"],\"__get_gd_contents\":[\"(function (prop){prop==\\\"data\\\" ? (WebIO.setval({\\\"name\\\":\\\"__gd_contents\\\",\\\"scope\\\":\\\"4320827417617592934\\\",\\\"id\\\":\\\"167919\\\",\\\"type\\\":\\\"observable\\\"},this.plotElem.data)) : undefined; return prop==\\\"layout\\\" ? (WebIO.setval({\\\"name\\\":\\\"__gd_contents\\\",\\\"scope\\\":\\\"4320827417617592934\\\",\\\"id\\\":\\\"167919\\\",\\\"type\\\":\\\"observable\\\"},this.plotElem.layout)) : undefined})\"],\"_downloadImage\":[\"(function (options){return this.Plotly.downloadImage(this.plotElem,options)})\"],\"_commands\":[\"(function (args){var fn=args.shift(); var elem=this.plotElem; var Plotly=this.Plotly; args.unshift(elem); return Plotly[fn].apply(this,args)})\"]},\"systemjs_options\":null,\"mount_callbacks\":[\"function () {\\n    var handler = ((function (Plotly,PlotlyWebIO){PlotlyWebIO.init(WebIO); var gd=this.dom.querySelector(\\\"#plot-a47bcac9-7f17-4452-aa82-c5c0f2bf8104\\\"); this.plotElem=gd; this.Plotly=Plotly; (window.Blink!==undefined) ? (gd.style.width=\\\"100%\\\", gd.style.height=\\\"100vh\\\", gd.style.marginLeft=\\\"0%\\\", gd.style.marginTop=\\\"0vh\\\") : undefined; window.onresize=(function (){return Plotly.Plots.resize(gd)}); Plotly.newPlot(gd,[{\\\"mode\\\":\\\"lines\\\",\\\"line\\\":{\\\"color\\\":\\\"purple\\\",\\\"width\\\":4},\\\"y\\\":[-2.000000000000001,-2.0,-2.0,-2.0000000000000004,-1.9999999999999998,-2.000000000000001,-2.0000000000000004,-2.000000000000001,-2.0,-2.000000000000001,-2.0,-2.0,-2.0000000000000004,-2.0000000000000004,-2.000000000000001,-2.000000000000001,-2.0,-2.0,-2.0000000000000004,-2.000000000000001,-2.0,-2.0000000000000004,-1.9999999999999998,-2.000000000000001,-2.000000000000001,-2.0,-2.000000000000001,-2.0,-2.000000000000001,-2.0,-2.000000000000001,-2.0000000000000004,-1.9999999999999998,-2.0,-1.9999999999999998,-2.000000000000001,-2.0,-2.0,-2.0000000000000004,-1.9999999999999998,-2.000000000000001,-2.000000000000001,-2.0000000000000004,-2.0,-2.0,-2.0000000000000004,-2.0000000000000004,-2.000000000000001,-2.000000000000001,-2.000000000000001,-2.0,-2.0000000000000004,-2.000000000000001,-1.9999999999999996,-2.000000000000001,-2.0,-2.0000000000000004,-2.0,-2.0000000000000004,-1.9999999999999998,-2.0000000000000004,-2.0000000000000004,-2.000000000000001,-2.0000000000000004,-2.0,-2.0000000000000004,-2.0000000000000004,-2.0000000000000004,-2.0000000000000004,-2.0,-2.000000000000001,-2.0,-2.0000000000000004,-2.0000000000000004,-2.0,-2.0,-2.0,-2.000000000000001,-2.0,-2.0000000000000013,-1.9999999999999998,-2.000000000000001,-2.0000000000000004,-2.0,-1.9999999999999996,-2.0,-2.0000000000000004,-2.0000000000000004,-2.0000000000000004,-2.000000000000001,-1.9999999999999998,-2.0,-1.9999999999999996,-2.0,-2.0000000000000004,-2.0000000000000004,-1.9999999999999993,-1.9999999999999998,-1.9999999999999998,-2.0,-1.9999999999999998,-1.9999999999999998,-1.9999999999999993,-2.000000000000001,-2.0000000000000004,-1.9999999999999998,-2.000000000000001,-2.000000000000001,-2.0,-2.000000000000001,-2.0,-2.0000000000000004,-1.9999999999999998,-2.0,-2.000000000000001,-2.0000000000000004,-2.0000000000000004,-2.0,-2.0,-2.0,-1.9999999999999998,-2.0,-1.9999999999999998,-2.0000000000000004,-1.9999999999999993,-2.0,-2.0000000000000004,-2.000000000000001,-1.9999999999999998,-2.0,-2.0000000000000004,-2.0000000000000004,-2.0,-1.9999999999999996,-2.0,-1.9999999999999996,-1.9999999999999998,-2.0,-2.0,-2.0,-2.0,-2.0,-2.000000000000001,-2.0,-2.0,-2.0000000000000004,-2.0000000000000004,-2.0000000000000004,-2.0,-2.000000000000001,-1.9999999999999998,-2.0000000000000004,-2.0,-2.0,-2.0,-1.9999999999999998,-1.9999999999999998,-2.0,-2.0,-2.0,-2.0,-2.0,-2.0,-2.0,-2.0,-2.0,-2.0,-2.0000000000000004,-2.0,-2.0,-2.0,-2.0,-2.0,-2.0,-2.0,-2.0,-2.0,-2.0,-2.0,-2.0,-2.0,-2.0,-2.0,-2.000000000000001,-2.0000000000000004,-2.0,-2.0,-2.0,-2.0,-2.0,-1.9999999999999996,-2.0,-2.0,-2.0,-2.0,-2.0,-2.0,-2.0,-2.0,-2.0,-2.0,-2.0,-2.0000000000000004,-2.0,-2.0,-2.0,-2.0,-2.0,-2.0,-2.0,-2.0,-2.0,-1.9999999999999998,-1.9999999999999996,-2.0,-2.0000000000000004,-2.0000000000000004,-1.9999999999999996,-2.0,-2.0000000000000004,-1.9999999999999991,-2.0000000000000004,-2.0,-2.0000000000000004,-1.9999999999999996,-1.9999999999999998,-1.9999999999999996,-1.9999999999999998,-2.000000000000001,-2.0,-2.0,-1.9999999999999993,-2.0,-2.0,-1.9999999999999996,-1.9999999999999996,-2.0,-1.9999999999999996,-2.0,-1.9999999999999996,-1.9999999999999993,-2.0,-2.0,-2.0,-2.0,-1.9999999999999998,-2.0000000000000004,-1.9999999999999996,-1.9999999999999996,-1.9999999999999996,-2.0000000000000004,-2.0,-1.9999999999999996,-1.9999999999999991,-2.0,-2.0,-2.0,-2.0,-2.0,-1.9999999999999998,-2.0,-1.9999999999999998,-1.9999999999999991,-2.0000000000000004,-2.0,-1.9999999999999993,-2.0,-1.9999999999999998,-1.9999999999999998,-1.9999999999999996,-2.0,-1.9999999999999996,-2.0000000000000004,-1.9999999999999996,-2.0,-2.0,-1.9999999999999998,-1.9999999999999998,-1.9999999999999996,-2.0,-2.0000000000000004,-2.0000000000000004,-2.0000000000000004,-1.9999999999999998,-2.0000000000000004,-1.9999999999999996,-2.0000000000000004,-2.0,-2.0,-2.0,-2.0000000000000004,-2.0,-2.0,-2.000000000000001,-2.0,-2.0000000000000004,-1.9999999999999996,-2.0,-2.000000000000001,-2.0000000000000004,-1.9999999999999993,-2.0,-2.0000000000000013,-1.9999999999999998,-2.0,-1.9999999999999998,-2.0000000000000004,-1.9999999999999998,-2.0,-1.9999999999999991,-2.0,-2.0,-2.0,-2.000000000000001,-2.0,-2.000000000000001,-1.9999999999999993,-2.0000000000000004,-2.0,-1.9999999999999998,-2.0000000000000004,-2.0000000000000004,-1.9999999999999996,-2.0,-2.0,-1.9999999999999998,-1.9999999999999998,-2.0000000000000004,-2.0000000000000004,-1.9999999999999998,-2.0,-1.9999999999999998,-1.9999999999999998,-2.0,-1.9999999999999998,-2.0,-1.9999999999999996,-1.9999999999999998,-2.0,-2.0,-2.0,-2.0,-2.000000000000001,-2.0,-1.9999999999999998,-2.0000000000000004,-2.0000000000000004,-2.0,-2.0000000000000004,-2.0,-1.9999999999999998,-2.0000000000000004,-1.9999999999999998,-2.0,-1.9999999999999996,-2.0,-1.9999999999999998,-1.9999999999999998,-2.0,-1.9999999999999996,-2.0,-2.0,-1.9999999999999996,-2.0,-2.0000000000000004,-2.0,-1.9999999999999996,-2.0000000000000004,-1.9999999999999998,-1.9999999999999993,-2.0000000000000004,-2.0,-1.9999999999999996,-2.0000000000000004,-2.0000000000000004,-2.0,-2.0,-2.0000000000000004,-1.9999999999999998,-2.0,-2.0,-2.0,-1.9999999999999998,-2.0000000000000004,-2.0,-2.000000000000001,-1.9999999999999998,-1.9999999999999996,-1.9999999999999998,-1.9999999999999993,-2.0000000000000004,-2.0,-2.0000000000000004,-2.0,-2.0,-1.9999999999999996,-2.0000000000000004,-2.0000000000000004,-1.9999999999999998,-1.9999999999999996,-1.9999999999999998,-1.9999999999999996,-2.0,-2.0000000000000004,-2.0,-2.0000000000000004,-1.9999999999999998,-2.0000000000000004,-2.0000000000000004,-1.9999999999999993,-2.0000000000000004,-1.9999999999999998,-2.0000000000000004,-2.0000000000000004,-1.9999999999999996,-1.9999999999999993,-1.9999999999999996,-2.0000000000000004,-2.0,-2.0000000000000004,-2.0,-2.0000000000000004,-1.9999999999999996,-1.9999999999999996,-2.0000000000000004,-2.0,-1.9999999999999996,-2.000000000000001,-1.9999999999999993,-2.0,-2.0000000000000004,-1.9999999999999996,-2.000000000000001,-2.0000000000000004,-2.0000000000000004,-2.0000000000000004,-1.9999999999999996,-1.9999999999999996,-1.9999999999999993,-1.9999999999999998,-1.9999999999999993,-1.9999999999999996,-2.0000000000000013,-2.0,-1.9999999999999998,-1.9999999999999998,-1.9999999999999998,-1.9999999999999991,-2.0,-2.0000000000000004,-1.9999999999999998,-1.9999999999999998,-1.9999999999999987,-2.0000000000000004,-1.9999999999999993,-2.0,-1.999999999999999,-2.000000000000001,-2.0000000000000004,-2.0,-1.9999999999999996,-2.0000000000000004,-1.9999999999999996,-1.9999999999999993,-2.0000000000000004,-1.9999999999999998,-1.9999999999999998,-1.9999999999999998,-2.0,-2.000000000000001,-1.9999999999999998,-2.0000000000000004,-2.0000000000000004,-2.0000000000000004,-2.000000000000001,-2.0,-1.9999999999999998,-1.9999999999999998,-2.0,-2.0000000000000004,-2.0,-2.0,-2.0,-1.999999999999999,-2.0000000000000004,-1.9999999999999996,-2.0,-1.9999999999999998,-1.9999999999999993,-2.0,-2.0000000000000004,-2.0000000000000004,-1.9999999999999998,-1.9999999999999996,-2.0,-2.0000000000000004,-1.9999999999999993,-1.9999999999999998,-1.9999999999999996,-2.000000000000001],\\\"type\\\":\\\"scatter\\\",\\\"x\\\":[1,2,3,4,5,6,7,8,9,10,11,12,13,14,15,16,17,18,19,20,21,22,23,24,25,26,27,28,29,30,31,32,33,34,35,36,37,38,39,40,41,42,43,44,45,46,47,48,49,50,51,52,53,54,55,56,57,58,59,60,61,62,63,64,65,66,67,68,69,70,71,72,73,74,75,76,77,78,79,80,81,82,83,84,85,86,87,88,89,90,91,92,93,94,95,96,97,98,99,100,101,102,103,104,105,106,107,108,109,110,111,112,113,114,115,116,117,118,119,120,121,122,123,124,125,126,127,128,129,130,131,132,133,134,135,136,137,138,139,140,141,142,143,144,145,146,147,148,149,150,151,152,153,154,155,156,157,158,159,160,161,162,163,164,165,166,167,168,169,170,171,172,173,174,175,176,177,178,179,180,181,182,183,184,185,186,187,188,189,190,191,192,193,194,195,196,197,198,199,200,201,202,203,204,205,206,207,208,209,210,211,212,213,214,215,216,217,218,219,220,221,222,223,224,225,226,227,228,229,230,231,232,233,234,235,236,237,238,239,240,241,242,243,244,245,246,247,248,249,250,251,252,253,254,255,256,257,258,259,260,261,262,263,264,265,266,267,268,269,270,271,272,273,274,275,276,277,278,279,280,281,282,283,284,285,286,287,288,289,290,291,292,293,294,295,296,297,298,299,300,301,302,303,304,305,306,307,308,309,310,311,312,313,314,315,316,317,318,319,320,321,322,323,324,325,326,327,328,329,330,331,332,333,334,335,336,337,338,339,340,341,342,343,344,345,346,347,348,349,350,351,352,353,354,355,356,357,358,359,360,361,362,363,364,365,366,367,368,369,370,371,372,373,374,375,376,377,378,379,380,381,382,383,384,385,386,387,388,389,390,391,392,393,394,395,396,397,398,399,400,401,402,403,404,405,406,407,408,409,410,411,412,413,414,415,416,417,418,419,420,421,422,423,424,425,426,427,428,429,430,431,432,433,434,435,436,437,438,439,440,441,442,443,444,445,446,447,448,449,450,451,452,453,454,455,456,457,458,459,460,461,462,463,464,465,466,467,468,469,470,471,472,473,474,475,476,477,478,479,480,481,482,483,484,485,486,487,488,489,490,491,492,493,494,495,496,497,498,499,500]},{\\\"mode\\\":\\\"lines\\\",\\\"line\\\":{\\\"color\\\":\\\"purple\\\",\\\"width\\\":4},\\\"y\\\":[-2.0,-1.9999014744666956,-1.9996059075740604,-1.999113328442982,-1.9984237856050775,-1.99753734699793,-1.9964540999583726,-1.9951741512138947,-1.9936976268721331,-1.9920246724084336,-1.9901554526515288,-1.9880901517672913,-1.985828973240592,-1.9833721398552504,-1.9807198936720862,-1.9778724960050702,-1.9748302273955753,-1.9715933875847407,-1.9681622954839313,-1.9645372891433268,-1.9607187257186136,-1.9567069814357867,-1.952502451554091,-1.948105550327076,-1.9435167109617817,-1.938736385576051,-1.9337650451539927,-1.9286031794995746,-1.9232512971883606,-1.9177099255174128,-1.9119796104533278,-1.906060916578454,-1.8999544270352624,-1.893660743468889,-1.8871804859678705,-1.8805142930030256,-1.8736628213645745,-1.8666267460974157,-1.8594067604346145,-1.8520035757291091,-1.8444179213836231,-1.8366505447787966,-1.8287022111995468,-1.820573703759684,-1.8122658233247375,-1.8037793884330549,-1.7951152352151627,-1.7862742173113761,-1.7772572057877012,-1.7680650890500051,-1.75869877275649,-1.7491591797284665,-1.7394472498594253,-1.7295639400224347,-1.719510223975868,-1.7092870922674606,-1.6988955521367148,-1.6883366274156653,-1.6776113584280004,-1.666720801886568,-1.6556660307892581,-1.6444481343132904,-1.6330682177078941,-1.6215274021854276,-1.6098268248108898,-1.5979676383899077,-1.5859510113551498,-1.5737781276512026,-1.5614501866179238,-1.5489684028722785,-1.536334006188667,-1.5235482413777617,-1.5106123681638575,-1.4975276610607622,-1.484295409246222,-1.4709169164349036,-1.4573935007499441,-1.4437264945930899,-1.429917244513408,-1.4159671110746277,-1.4018774687210862,-1.3876497056423105,-1.373285223636245,-1.3587854379711397,-1.3441517772461131,-1.3293856832503885,-1.3144886108212535,-1.2994620277007138,-1.2843074143908844,-1.2690262640081251,-1.2536200821359262,-1.2380903866765718,-1.2224387077015901,-1.2066665873009996,-1.1907755794313748,-1.1747672497627362,-1.158643175524307,-1.142404945349099,-1.1260541591173994,-1.1095924277991422,-1.0930213732951848,-1.0763426282775093,-1.059557836028364,-1.042668650278356,-1.0256767350435183,-1.008583764461362,-0.9913914226259288,-0.9741014034218672,-0.9567154103575413,-0.9392351563971866,-0.9216623637921477,-0.9039987639111917,-0.8862460970699129,-0.868406112359281,-0.8504805674733029,-0.8324712285358489,-0.8143798699266418,-0.7962082741064372,-0.777958231441404,-0.7596315400267297,-0.7412300055094576,-0.7227554409105914,-0.7042096664464605,-0.6855945093493833,-0.6669118036876425,-0.648163390184775,-0.6293511160382204,-0.6104768347373226,-0.5915424058807117,-0.5725496949930875,-0.5535005733414216,-0.5343969177505818,-0.5152406104184246,-0.49603353873034517,-0.4767775950733244,-0.45747467664948216,-0.4381266852891481,-0.41873552726349117,-0.39930311309669686,-0.3798313573777339,-0.3603221785717201,-0.34077749883090025,-0.32119924380527,-0.30158934245284597,-0.28194972684961783,-0.2622823319991865,-0.2425890956421184,-0.22287195806502824,-0.20313286190941104,-0.18337375198024142,-0.16359657505436487,-0.14380327968868434,-0.12399581602818066,-0.10417613561377581,-0.08434619119005182,-0.06450793651285802,-0.04466332615681745,-0.024814315322746694,-0.0049628596450270734,0.014889085001086544,0.03473956269215983,0.05458661764929218,0.07442829443080945,0.09426263812492497,0.11408769454234857,0.1339015104088237,0.153702133557575,0.17348761312164784,0.1932559997261154,0.21300534568014706,0.2327337051688972,0.2524391344452275,0.2721196920212103,0.29177343885941265,0.3113984385639479,0.33099275757125435,0.3505544653405994,0.37008163454429455,0.3895723412575798,0.40902466514818103,0.4284366896655145,0.44780650222951035,0.4671321944190574,0.48641186216002485,0.505643605912866,0.5248255308597728,0.5439557470913594,0.5630323697928697,0.5820535194298778,0.6010173219334722,0.6199219088848974,0.638765417699641,0.6575459918109497,0.6762617808527424,0.6949109408419217,0.713491634360057,0.732002030734406,0.7504403062182973,0.768804644170805,0.787093235235738,0.8053042775199081,0.8234359767706626,0.8414865465526628,0.8594542084238951,0.8773371921108905,0.8951337356831442,0.9128420857267124,0.9304604975169589,0.9479872351904686,0.9654205719160641,0.982758790064948,0.9999998186200697,0.9827758346374926,0.9656527578388772,0.9486325634573811,0.9317169444244063,0.9149075832695146,0.8982061519531992,0.8816143117005887,0.8651337128362225,0.8487659946199013,0.8325127850836315,0.8163757008696964,0.8003563470698561,0.7844563170656893,0.7686771923701116,0.7530205424700691,0.7374879246704239,0.7220808839390572,0.706800952753196,0.6916496509469868,0.6766284855603222,0.6617389506889415,0.6469825273358158,0.6323606832638445,0.6178748728498586,0.6035265369399604,0.5893171027062107,0.5752479835046685,0.5613205787348139,0.547536273700357,0.5338964394714416,0.5204024327482756,0.507055595726183,0.49385725596210023,0.4808087262425317,0.467911304452971,0.4551662734488045,0.44257490092771246,0.43013843930357326,0.41785812558189744,0.40573518123677743,0.39377081208940107,0.38196620818811133,0.37032254369003303,0.35884097674428844,0.3475226493767988,0.33636868737669257,0.3253802001843277,0.3145582807809374,0.3039040055799194,0.2934184343197663,0.2831026099586595,0.2729575585707311,0.26298428924399997,0.253183793980006,0.2435570475951397,0.23410500762367853,0.22482861422254652,0.21572879007779813,0.206806440312848,0.1980624523984341,0.18949769606435268,0.18111302321294026,0.17290926783435,0.16488724592358805,0.157047755399353,0.1493915760246709,0.1419194693293368,0.13463217853416448,0.12753042847706325,0.12061492554094144,0.1138863575834459,0.10734539386854058,0.10099268499994357,0.09482886285640502,0.08885454052886571,0.08307031225946948,0.07747675338245841,0.07207442026694749,0.0668638502615817,0.06184556164109123,0.057020053554741545,0.05238780597668119,0.04794927965819973,0.043704916081907075,0.03965513741781079,0.03580034648133257,0.03214092669323665,0.028677242041490414,0.0254096370450706,0.022338436719684107,0.01946394654544703,0.016786452436490046,0.0143062207125364,0.012023498072396305,0.009938511569435815,0.008051468588991265,0.006362556827745114,0.004871944275047779,0.0035797791962217107,0.0024861901177980344,0.0015912858147454773,0.0008951552996468931,0.00039786781384117446,9.947282054322654e-5,-8.140571359215114e-14,-0.00029467633152808115,-0.0011780677333988916,-0.0026483582879167564,-0.004702539281111473,-0.007336435501516164,-0.01054474128726507,-0.014321065585352066,-0.018657985123931464,-0.023547104667227314,-0.02897912322642049,-0.0349439050399733,-0.04143055411306917,-0.04842749111617134,-0.05592253148394227,-0.06390296362364911,-0.0723556262317046,-0.08126698382289566,-0.09062319969380717,-0.10041020566489195,-0.11061376806988071,-0.12121954958288161,-0.13221316658921872,-0.1435802419131747,-0.15530645281269995,-0.1673775742364435,-0.17977951741174097,-0.19249836389343228,-0.20552039525277566,-0.2188321186242541,-0.23242028835635092,-0.24627192403164683,-0.2603743251329636,-0.2747150826368471,-0.2892820878145649,-0.30406353851513496,-0.31904794319555596,-0.33422412295129006,-0.349581211786001,-0.36510865534407416,-0.3807962083132703,-0.39663393068829356,-0.4126121830696141,-0.42872162115573353,-0.4449531895715145,-0.461298115160388,-0.47774789985425636,-0.49429431322187567,-0.5109293847843673,-0.5276453961754576,-0.5444348732137776,-0.5612905779454145,-0.5782055007065201,-0.5951728522482982,-0.6121860559600071,-0.6292387402196399,-0.6463247308966846,-0.6634380440267014,-0.6805728786733826,-0.6977236099901898,-0.7148847824905761,-0.7320511035330971,-0.7492174370254431,-0.7663787973494229,-0.7835303435072795,-0.8006673734882869,-0.817785318853404,-0.8348797395347772,-0.8519463188461002,-0.8689808586991569,-0.8859792750213921,-0.9029375933689477,-0.9198519447293031,-0.9367185615074455,-0.9535337736893705,-0.9702940051766276,-0.9869957702856049,-1.0036356704052767,-1.0202103908071884,-1.0367166976015432,-1.053151434833379,-1.0695115217129343,-1.0857939499744813,-1.1019957813580477,-1.1181141452086079,-1.1341462361875352,-1.1500893120912463,-1.165940691772193,-1.1816977531574921,-1.197357931360726,-1.2129187168825604,-1.2283776538960622,-1.2437323386127457,-1.2589804177255444,-1.2741195869250743,-1.2891475894857425,-1.3040622149183656,-1.318861297686138,-1.3335427159809496,-1.348104390557161,-1.362544283620102,-1.3768603977666787,-1.3910507749756005,-1.4051134956448665,-1.4190466776742379,-1.4328484755905575,-1.4465170797138998,-1.460050715362539,-1.4734476420949654,-1.486706152987134,-1.4998245739432885,-1.5128012630387793,-1.5256346098933298,-1.5383230350733603,-1.5508649895219324,-1.5632589540150827,-1.575503438643236,-1.587596982316583,-1.5995381522932437,-1.6113255437292,-1.6229577792489422,-1.6344335085358808,-1.6457514079416193,-1.656910180113182,-1.6679085536373939,-1.6787452827015963,-1.6894191467699808,-1.6999289502747787,-1.7102735223216647,-1.720451716408694,-1.7304624101581898,-1.740304505060952,-1.749976926232256,-1.7594786221791043,-1.7688085645782106,-1.777965748064239,-1.78694919002786,-1.7957579304231244,-1.8043910315838279,-1.812847578048376,-1.8211266763928315,-1.8292274550717693,-1.837149064266578,-1.8448906757409043,-1.852451482702913,-1.859830699674074,-1.8670275623641925,-1.874041327552407,-1.880871272973909,-1.8875166972121344,-1.893976919596201,-1.900251280103356,-1.906339139266252,-1.9122398780848122,-1.9179528979425442,-1.923477620527076,-1.9288134877547676,-1.9339599616992393,-1.9389165245236442,-1.943682678416557,-1.9482579455313291,-1.9526418679287851,-1.956834007523132,-1.9608339460309743,-1.9646412849233008,-1.9682556453803774,-1.9716766682494125,-1.9749040140049208,-1.9779373627116859,-1.9807764139902757,-1.983420886984976,-1.985870520334142,-1.988125072142843,-1.9901843199577707,-1.9920480607443698,-1.9937161108660932,-1.9951883060657871,-1.9964645014491402,-1.9975445714701618,-1.9984284099186531,-1.9991159299096677,-1.9996070638749057,-1.999901763556047,-2.0],\\\"type\\\":\\\"scatter\\\",\\\"x\\\":[1,2,3,4,5,6,7,8,9,10,11,12,13,14,15,16,17,18,19,20,21,22,23,24,25,26,27,28,29,30,31,32,33,34,35,36,37,38,39,40,41,42,43,44,45,46,47,48,49,50,51,52,53,54,55,56,57,58,59,60,61,62,63,64,65,66,67,68,69,70,71,72,73,74,75,76,77,78,79,80,81,82,83,84,85,86,87,88,89,90,91,92,93,94,95,96,97,98,99,100,101,102,103,104,105,106,107,108,109,110,111,112,113,114,115,116,117,118,119,120,121,122,123,124,125,126,127,128,129,130,131,132,133,134,135,136,137,138,139,140,141,142,143,144,145,146,147,148,149,150,151,152,153,154,155,156,157,158,159,160,161,162,163,164,165,166,167,168,169,170,171,172,173,174,175,176,177,178,179,180,181,182,183,184,185,186,187,188,189,190,191,192,193,194,195,196,197,198,199,200,201,202,203,204,205,206,207,208,209,210,211,212,213,214,215,216,217,218,219,220,221,222,223,224,225,226,227,228,229,230,231,232,233,234,235,236,237,238,239,240,241,242,243,244,245,246,247,248,249,250,251,252,253,254,255,256,257,258,259,260,261,262,263,264,265,266,267,268,269,270,271,272,273,274,275,276,277,278,279,280,281,282,283,284,285,286,287,288,289,290,291,292,293,294,295,296,297,298,299,300,301,302,303,304,305,306,307,308,309,310,311,312,313,314,315,316,317,318,319,320,321,322,323,324,325,326,327,328,329,330,331,332,333,334,335,336,337,338,339,340,341,342,343,344,345,346,347,348,349,350,351,352,353,354,355,356,357,358,359,360,361,362,363,364,365,366,367,368,369,370,371,372,373,374,375,376,377,378,379,380,381,382,383,384,385,386,387,388,389,390,391,392,393,394,395,396,397,398,399,400,401,402,403,404,405,406,407,408,409,410,411,412,413,414,415,416,417,418,419,420,421,422,423,424,425,426,427,428,429,430,431,432,433,434,435,436,437,438,439,440,441,442,443,444,445,446,447,448,449,450,451,452,453,454,455,456,457,458,459,460,461,462,463,464,465,466,467,468,469,470,471,472,473,474,475,476,477,478,479,480,481,482,483,484,485,486,487,488,489,490,491,492,493,494,495,496,497,498,499,500]},{\\\"mode\\\":\\\"lines\\\",\\\"line\\\":{\\\"color\\\":\\\"purple\\\",\\\"width\\\":4},\\\"y\\\":[3.9999999999999996,3.9999014744666948,3.9996059075740593,3.9991133284429807,3.9984237856050786,3.9975373469979294,3.996454099958371,3.9951741512138943,3.993697626872134,3.9920246724084345,3.9901554526515293,3.9880901517672913,3.9858289732405914,3.98337213985525,3.9807198936720853,3.9778724960050695,3.9748302273955765,3.97159338758474,3.9681622954839297,3.964537289143327,3.960718725718613,3.9567069814357865,3.952502451554092,3.9481055503270763,3.943516710961781,3.9387363855760515,3.9337650451539927,3.928603179499575,3.9232512971883606,3.9177099255174133,3.9119796104533275,3.906060916578454,3.8999544270352624,3.893660743468891,3.8871804859678702,3.880514293003025,3.873662821364575,3.8666267460974155,3.859406760434614,3.85200357572911,3.8444179213836227,3.8366505447787946,3.828702211199547,3.8205737037596834,3.8122658233247364,3.803779388433055,3.7951152352151625,3.7862742173113766,3.777257205787701,3.768065089050003,3.75869877275649,3.7491591797284674,3.7394472498594244,3.729563940022435,3.7195102239758677,3.70928709226746,3.698895552136715,3.688336627415665,3.6776113584280012,3.6667208018865685,3.6556660307892583,3.64444813431329,3.633068217707895,3.6215274021854276,3.60982682481089,3.5979676383899086,3.5859510113551494,3.5737781276512024,3.5614501866179236,3.548968402872278,3.5363340061886674,3.5235482413777612,3.5106123681638577,3.4975276610607624,3.484295409246222,3.470916916434904,3.4573935007499452,3.44372649459309,3.4299172445134083,3.415967111074627,3.4018774687210867,3.3876497056423105,3.3732852236362447,3.3587854379711404,3.344151777246113,3.3293856832503885,3.314488610821254,3.299462027700714,3.2843074143908852,3.269026264008125,3.253620082135927,3.2380903866765722,3.22243870770159,3.206666587300999,3.190775579431374,3.1747672497627364,3.1586431755243067,3.1424049453490985,3.126054159117399,3.109592427799142,3.0930213732951852,3.0763426282775095,3.0595578360283637,3.0426686502783555,3.0256767350435183,3.0085837644613616,2.991391422625929,2.9741014034218676,2.956715410357541,2.939235156397186,2.921662363792149,2.903998763911192,2.886246097069913,2.8684061123592812,2.850480567473303,2.8324712285358493,2.814379869926642,2.7962082741064376,2.7779582314414046,2.7596315400267297,2.7412300055094576,2.722755440910591,2.7042096664464603,2.685594509349383,2.6669118036876425,2.648163390184775,2.62935111603822,2.610476834737322,2.5915424058807117,2.5725496949930875,2.553500573341422,2.5343969177505823,2.5152406104184246,2.4960335387303454,2.4767775950733246,2.4574746766494817,2.4381266852891477,2.4187355272634914,2.399303113096697,2.379831357377734,2.36032217857172,2.3407774988309002,2.321199243805271,2.301589342452846,2.281949726849618,2.2622823319991863,2.242589095642119,2.2228719580650287,2.2031328619094115,2.183373751980242,2.163596575054365,2.1438032796886843,2.123995816028181,2.104176135613776,2.0843461911900523,2.0645079365128582,2.044663326156817,2.0248143153227467,2.004962859645027,1.9851109149989132,1.96526043730784,1.9454133823507078,1.9255717055691908,1.905737361875075,1.8859123054576514,1.8660984895911765,1.846297866442425,1.8265123868783526,1.8067440002738846,1.7869946543198532,1.767266294831103,1.7475608655547727,1.7278803079787897,1.7082265611405871,1.6886015614360521,1.6690072424287459,1.6494455346594006,1.6299183654557055,1.6104276587424202,1.5909753348518192,1.5715633103344855,1.5521934977704896,1.5328678055809426,1.5135881378399756,1.4943563940871347,1.475174469140227,1.4560442529086406,1.4369676302071306,1.4179464805701225,1.3989826780665284,1.380078091115103,1.3612345823003587,1.3424540081890501,1.3237382191472578,1.3050890591580786,1.2865083656399434,1.267997969265594,1.2495596937817028,1.2311953558291946,1.2129067647642617,1.194695722480092,1.1765640232293375,1.1585134534473371,1.140545791576105,1.1226628078891094,1.1048662643168556,1.0871579142732877,1.0695395024830412,1.0520127648095317,1.0345794280839358,1.0172412099350518,1.0000001813799306,1.0172241653625076,1.0343472421611226,1.0513674365426187,1.068283055575594,1.0850924167304852,1.1017938480468008,1.1183856882994119,1.1348662871637774,1.1512340053800985,1.1674872149163686,1.1836242991303039,1.1996436529301437,1.2155436829343107,1.2313228076298879,1.2469794575299302,1.262512075329576,1.277919116060943,1.2931990472468042,1.308350349053013,1.3233715144396772,1.338261049311058,1.3530174726641842,1.3676393167361554,1.3821251271501414,1.3964734630600397,1.4106828972937888,1.4247520164953316,1.4386794212651859,1.4524637262996427,1.4661035605285584,1.4795975672517248,1.4929444042738171,1.5061427440378998,1.5191912737574684,1.5320886955470296,1.5448337265511956,1.557425099072288,1.5698615606964266,1.5821418744181028,1.5942648187632231,1.6062291879105983,1.6180337918118886,1.6296774563099672,1.6411590232557118,1.652477350623201,1.663631312623307,1.6746197998156724,1.6854417192190625,1.6960959944200809,1.7065815656802337,1.71689739004134,1.727042441429269,1.7370157107560003,1.7468162060199939,1.7564429524048601,1.7658949923763212,1.7751713857774534,1.7842712099222018,1.7931935596871527,1.801937547601566,1.8105023039356478,1.8188869767870595,1.8270907321656498,1.835112754076412,1.842952244600647,1.8506084239753287,1.858080530670663,1.8653678214658358,1.8724695715229371,1.879385074459059,1.8861136424165548,1.8926546061314589,1.8990073150000568,1.9051711371435949,1.9111454594711341,1.9169296877405309,1.9225232466175417,1.9279255797330528,1.9331361497384187,1.9381544383589084,1.9429799464452586,1.9476121940233198,1.9520507203418,1.9562950839180933,1.9603448625821889,1.964199653518667,1.9678590733067647,1.9713227579585098,1.974590362954929,1.9776615632803156,1.9805360534545544,1.9832135475635098,1.9856937792874638,1.987976501927604,1.9900614884305643,1.9919485314110084,1.993637443172255,1.995128055724951,1.9964202208037782,1.9975138098822016,1.9984087141852545,1.999104844700354,1.9996021321861592,1.9999005271794572,2.000000000000081,2.0002946763315284,2.001178067733399,2.0026483582879164,2.0047025392811113,2.0073364355015166,2.010544741287265,2.014321065585352,2.0186579851239315,2.0235471046672275,2.0289791232264207,2.0349439050399734,2.0414305541130697,2.048427491116171,2.055922531483942,2.063902963623649,2.0723556262317047,2.0812669838228954,2.090623199693807,2.100410205664893,2.1106137680698804,2.1212195495828814,2.132213166589219,2.143580241913175,2.1553064528126997,2.1673775742364434,2.1797795174117414,2.192498363893433,2.2055203952527753,2.218832118624255,2.2324202883563515,2.246271924031647,2.2603743251329638,2.274715082636848,2.289282087814565,2.304063538515136,2.3190479431955557,2.33422412295129,2.3495812117860004,2.3651086553440748,2.3807962083132708,2.396633930688293,2.4126121830696134,2.4287216211557334,2.444953189571514,2.4612981151603877,2.477747899854257,2.4942943132218756,2.510929384784367,2.5276453961754575,2.5444348732137767,2.5612905779454143,2.5782055007065203,2.595172852248297,2.6121860559600067,2.6292387402196398,2.6463247308966835,2.6634380440267025,2.6805728786733836,2.6977236099901907,2.714884782490577,2.7320511035330965,2.7492174370254427,2.7663787973494225,2.783530343507279,2.8006673734882868,2.817785318853403,2.8348797395347773,2.8519463188461014,2.8689808586991576,2.8859792750213917,2.9029375933689465,2.9198519447293023,2.936718561507445,2.9535337736893705,2.970294005176628,2.9869957702856054,3.0036356704052767,3.0202103908071884,3.0367166976015434,3.0531514348333797,3.0695115217129327,3.085793949974481,3.1019957813580468,3.1181141452086085,3.1341462361875347,3.1500893120912457,3.1659406917721937,3.1816977531574917,3.1973579313607257,3.2129187168825597,3.228377653896061,3.2437323386127472,3.2589804177255446,3.2741195869250737,3.2891475894857427,3.3040622149183667,3.318861297686139,3.33354271598095,3.348104390557161,3.362544283620103,3.3768603977666776,3.3910507749756,3.4051134956448657,3.419046677674236,3.432848475590559,3.4465170797138986,3.4600507153625397,3.473447642094966,3.486706152987134,3.4998245739432905,3.512801263038779,3.525634609893329,3.5383230350733585,3.5508649895219326,3.5632589540150823,3.575503438643236,3.5875969823165823,3.5995381522932424,3.6113255437292002,3.6229577792489414,3.63443350853588,3.645751407941619,3.6569101801131816,3.6679085536373917,3.6787452827015974,3.6894191467699806,3.69992895027478,3.710273522321665,3.7204517164086943,3.7304624101581902,3.7403045050609514,3.749976926232256,3.7594786221791043,3.768808564578211,3.7779657480642403,3.786949190027861,3.7957579304231235,3.804391031583828,3.812847578048376,3.8211266763928324,3.8292274550717686,3.8371490642665766,3.8448906757409036,3.85245148270291,3.8598306996740726,3.8670275623641936,3.8740413275524075,3.880871272973908,3.887516697212134,3.8939769195962013,3.9002512801033564,3.906339139266251,3.9122398780848116,3.9179528979425458,3.923477620527076,3.928813487754768,3.933959961699239,3.9389165245236435,3.943682678416558,3.94825794553133,3.9526418679287856,3.956834007523133,3.960833946030973,3.9646412849232977,3.968255645380377,3.971676668249412,3.9749040140049203,3.9779373627116863,3.980776413990276,3.983420886984976,3.9858705203341422,3.988125072142841,3.9901843199577707,3.99204806074437,3.9937161108660906,3.9951883060657867,3.996464501449141,3.9975445714701605,3.9984284099186533,3.999115929909668,3.999607063874907,3.9999017635560468,3.9999999999999996],\\\"type\\\":\\\"scatter\\\",\\\"x\\\":[1,2,3,4,5,6,7,8,9,10,11,12,13,14,15,16,17,18,19,20,21,22,23,24,25,26,27,28,29,30,31,32,33,34,35,36,37,38,39,40,41,42,43,44,45,46,47,48,49,50,51,52,53,54,55,56,57,58,59,60,61,62,63,64,65,66,67,68,69,70,71,72,73,74,75,76,77,78,79,80,81,82,83,84,85,86,87,88,89,90,91,92,93,94,95,96,97,98,99,100,101,102,103,104,105,106,107,108,109,110,111,112,113,114,115,116,117,118,119,120,121,122,123,124,125,126,127,128,129,130,131,132,133,134,135,136,137,138,139,140,141,142,143,144,145,146,147,148,149,150,151,152,153,154,155,156,157,158,159,160,161,162,163,164,165,166,167,168,169,170,171,172,173,174,175,176,177,178,179,180,181,182,183,184,185,186,187,188,189,190,191,192,193,194,195,196,197,198,199,200,201,202,203,204,205,206,207,208,209,210,211,212,213,214,215,216,217,218,219,220,221,222,223,224,225,226,227,228,229,230,231,232,233,234,235,236,237,238,239,240,241,242,243,244,245,246,247,248,249,250,251,252,253,254,255,256,257,258,259,260,261,262,263,264,265,266,267,268,269,270,271,272,273,274,275,276,277,278,279,280,281,282,283,284,285,286,287,288,289,290,291,292,293,294,295,296,297,298,299,300,301,302,303,304,305,306,307,308,309,310,311,312,313,314,315,316,317,318,319,320,321,322,323,324,325,326,327,328,329,330,331,332,333,334,335,336,337,338,339,340,341,342,343,344,345,346,347,348,349,350,351,352,353,354,355,356,357,358,359,360,361,362,363,364,365,366,367,368,369,370,371,372,373,374,375,376,377,378,379,380,381,382,383,384,385,386,387,388,389,390,391,392,393,394,395,396,397,398,399,400,401,402,403,404,405,406,407,408,409,410,411,412,413,414,415,416,417,418,419,420,421,422,423,424,425,426,427,428,429,430,431,432,433,434,435,436,437,438,439,440,441,442,443,444,445,446,447,448,449,450,451,452,453,454,455,456,457,458,459,460,461,462,463,464,465,466,467,468,469,470,471,472,473,474,475,476,477,478,479,480,481,482,483,484,485,486,487,488,489,490,491,492,493,494,495,496,497,498,499,500]}],{\\\"showlegend\\\":false,\\\"xaxis\\\":{\\\"showgrid\\\":true,\\\"showline\\\":true,\\\"showticklabels\\\":false,\\\"linewidth\\\":5,\\\"mirror\\\":true,\\\"linecolor\\\":\\\"black\\\"},\\\"template\\\":{\\\"layout\\\":{\\\"coloraxis\\\":{\\\"colorbar\\\":{\\\"ticks\\\":\\\"\\\",\\\"outlinewidth\\\":0}},\\\"xaxis\\\":{\\\"gridcolor\\\":\\\"white\\\",\\\"zerolinewidth\\\":2,\\\"title\\\":{\\\"standoff\\\":15},\\\"ticks\\\":\\\"\\\",\\\"zerolinecolor\\\":\\\"white\\\",\\\"automargin\\\":true,\\\"linecolor\\\":\\\"white\\\"},\\\"hovermode\\\":\\\"closest\\\",\\\"paper_bgcolor\\\":\\\"white\\\",\\\"geo\\\":{\\\"showlakes\\\":true,\\\"showland\\\":true,\\\"landcolor\\\":\\\"#E5ECF6\\\",\\\"bgcolor\\\":\\\"white\\\",\\\"subunitcolor\\\":\\\"white\\\",\\\"lakecolor\\\":\\\"white\\\"},\\\"colorscale\\\":{\\\"sequential\\\":[[0.0,\\\"#0d0887\\\"],[0.1111111111111111,\\\"#46039f\\\"],[0.2222222222222222,\\\"#7201a8\\\"],[0.3333333333333333,\\\"#9c179e\\\"],[0.4444444444444444,\\\"#bd3786\\\"],[0.5555555555555556,\\\"#d8576b\\\"],[0.6666666666666666,\\\"#ed7953\\\"],[0.7777777777777778,\\\"#fb9f3a\\\"],[0.8888888888888888,\\\"#fdca26\\\"],[1.0,\\\"#f0f921\\\"]],\\\"diverging\\\":[[0,\\\"#8e0152\\\"],[0.1,\\\"#c51b7d\\\"],[0.2,\\\"#de77ae\\\"],[0.3,\\\"#f1b6da\\\"],[0.4,\\\"#fde0ef\\\"],[0.5,\\\"#f7f7f7\\\"],[0.6,\\\"#e6f5d0\\\"],[0.7,\\\"#b8e186\\\"],[0.8,\\\"#7fbc41\\\"],[0.9,\\\"#4d9221\\\"],[1,\\\"#276419\\\"]],\\\"sequentialminus\\\":[[0.0,\\\"#0d0887\\\"],[0.1111111111111111,\\\"#46039f\\\"],[0.2222222222222222,\\\"#7201a8\\\"],[0.3333333333333333,\\\"#9c179e\\\"],[0.4444444444444444,\\\"#bd3786\\\"],[0.5555555555555556,\\\"#d8576b\\\"],[0.6666666666666666,\\\"#ed7953\\\"],[0.7777777777777778,\\\"#fb9f3a\\\"],[0.8888888888888888,\\\"#fdca26\\\"],[1.0,\\\"#f0f921\\\"]]},\\\"yaxis\\\":{\\\"gridcolor\\\":\\\"white\\\",\\\"zerolinewidth\\\":2,\\\"title\\\":{\\\"standoff\\\":15},\\\"ticks\\\":\\\"\\\",\\\"zerolinecolor\\\":\\\"white\\\",\\\"automargin\\\":true,\\\"linecolor\\\":\\\"white\\\"},\\\"shapedefaults\\\":{\\\"line\\\":{\\\"color\\\":\\\"#2a3f5f\\\"}},\\\"hoverlabel\\\":{\\\"align\\\":\\\"left\\\"},\\\"mapbox\\\":{\\\"style\\\":\\\"light\\\"},\\\"polar\\\":{\\\"angularaxis\\\":{\\\"gridcolor\\\":\\\"white\\\",\\\"ticks\\\":\\\"\\\",\\\"linecolor\\\":\\\"white\\\"},\\\"bgcolor\\\":\\\"#E5ECF6\\\",\\\"radialaxis\\\":{\\\"gridcolor\\\":\\\"white\\\",\\\"ticks\\\":\\\"\\\",\\\"linecolor\\\":\\\"white\\\"}},\\\"autotypenumbers\\\":\\\"strict\\\",\\\"font\\\":{\\\"color\\\":\\\"#2a3f5f\\\"},\\\"ternary\\\":{\\\"baxis\\\":{\\\"gridcolor\\\":\\\"white\\\",\\\"ticks\\\":\\\"\\\",\\\"linecolor\\\":\\\"white\\\"},\\\"bgcolor\\\":\\\"#E5ECF6\\\",\\\"caxis\\\":{\\\"gridcolor\\\":\\\"white\\\",\\\"ticks\\\":\\\"\\\",\\\"linecolor\\\":\\\"white\\\"},\\\"aaxis\\\":{\\\"gridcolor\\\":\\\"white\\\",\\\"ticks\\\":\\\"\\\",\\\"linecolor\\\":\\\"white\\\"}},\\\"annotationdefaults\\\":{\\\"arrowhead\\\":0,\\\"arrowwidth\\\":1,\\\"arrowcolor\\\":\\\"#2a3f5f\\\"},\\\"plot_bgcolor\\\":\\\"#E5ECF6\\\",\\\"title\\\":{\\\"x\\\":0.05},\\\"scene\\\":{\\\"xaxis\\\":{\\\"gridcolor\\\":\\\"white\\\",\\\"gridwidth\\\":2,\\\"backgroundcolor\\\":\\\"#E5ECF6\\\",\\\"ticks\\\":\\\"\\\",\\\"showbackground\\\":true,\\\"zerolinecolor\\\":\\\"white\\\",\\\"linecolor\\\":\\\"white\\\"},\\\"zaxis\\\":{\\\"gridcolor\\\":\\\"white\\\",\\\"gridwidth\\\":2,\\\"backgroundcolor\\\":\\\"#E5ECF6\\\",\\\"ticks\\\":\\\"\\\",\\\"showbackground\\\":true,\\\"zerolinecolor\\\":\\\"white\\\",\\\"linecolor\\\":\\\"white\\\"},\\\"yaxis\\\":{\\\"gridcolor\\\":\\\"white\\\",\\\"gridwidth\\\":2,\\\"backgroundcolor\\\":\\\"#E5ECF6\\\",\\\"ticks\\\":\\\"\\\",\\\"showbackground\\\":true,\\\"zerolinecolor\\\":\\\"white\\\",\\\"linecolor\\\":\\\"white\\\"}},\\\"colorway\\\":[\\\"#636efa\\\",\\\"#EF553B\\\",\\\"#00cc96\\\",\\\"#ab63fa\\\",\\\"#FFA15A\\\",\\\"#19d3f3\\\",\\\"#FF6692\\\",\\\"#B6E880\\\",\\\"#FF97FF\\\",\\\"#FECB52\\\"]},\\\"data\\\":{\\\"barpolar\\\":[{\\\"type\\\":\\\"barpolar\\\",\\\"marker\\\":{\\\"line\\\":{\\\"color\\\":\\\"#E5ECF6\\\",\\\"width\\\":0.5}}}],\\\"carpet\\\":[{\\\"aaxis\\\":{\\\"gridcolor\\\":\\\"white\\\",\\\"endlinecolor\\\":\\\"#2a3f5f\\\",\\\"minorgridcolor\\\":\\\"white\\\",\\\"startlinecolor\\\":\\\"#2a3f5f\\\",\\\"linecolor\\\":\\\"white\\\"},\\\"type\\\":\\\"carpet\\\",\\\"baxis\\\":{\\\"gridcolor\\\":\\\"white\\\",\\\"endlinecolor\\\":\\\"#2a3f5f\\\",\\\"minorgridcolor\\\":\\\"white\\\",\\\"startlinecolor\\\":\\\"#2a3f5f\\\",\\\"linecolor\\\":\\\"white\\\"}}],\\\"scatterpolar\\\":[{\\\"type\\\":\\\"scatterpolar\\\",\\\"marker\\\":{\\\"colorbar\\\":{\\\"ticks\\\":\\\"\\\",\\\"outlinewidth\\\":0}}}],\\\"parcoords\\\":[{\\\"line\\\":{\\\"colorbar\\\":{\\\"ticks\\\":\\\"\\\",\\\"outlinewidth\\\":0}},\\\"type\\\":\\\"parcoords\\\"}],\\\"scatter\\\":[{\\\"type\\\":\\\"scatter\\\",\\\"marker\\\":{\\\"colorbar\\\":{\\\"ticks\\\":\\\"\\\",\\\"outlinewidth\\\":0}}}],\\\"histogram2dcontour\\\":[{\\\"colorbar\\\":{\\\"ticks\\\":\\\"\\\",\\\"outlinewidth\\\":0},\\\"type\\\":\\\"histogram2dcontour\\\",\\\"colorscale\\\":[[0.0,\\\"#0d0887\\\"],[0.1111111111111111,\\\"#46039f\\\"],[0.2222222222222222,\\\"#7201a8\\\"],[0.3333333333333333,\\\"#9c179e\\\"],[0.4444444444444444,\\\"#bd3786\\\"],[0.5555555555555556,\\\"#d8576b\\\"],[0.6666666666666666,\\\"#ed7953\\\"],[0.7777777777777778,\\\"#fb9f3a\\\"],[0.8888888888888888,\\\"#fdca26\\\"],[1.0,\\\"#f0f921\\\"]]}],\\\"contour\\\":[{\\\"colorbar\\\":{\\\"ticks\\\":\\\"\\\",\\\"outlinewidth\\\":0},\\\"type\\\":\\\"contour\\\",\\\"colorscale\\\":[[0.0,\\\"#0d0887\\\"],[0.1111111111111111,\\\"#46039f\\\"],[0.2222222222222222,\\\"#7201a8\\\"],[0.3333333333333333,\\\"#9c179e\\\"],[0.4444444444444444,\\\"#bd3786\\\"],[0.5555555555555556,\\\"#d8576b\\\"],[0.6666666666666666,\\\"#ed7953\\\"],[0.7777777777777778,\\\"#fb9f3a\\\"],[0.8888888888888888,\\\"#fdca26\\\"],[1.0,\\\"#f0f921\\\"]]}],\\\"scattercarpet\\\":[{\\\"type\\\":\\\"scattercarpet\\\",\\\"marker\\\":{\\\"colorbar\\\":{\\\"ticks\\\":\\\"\\\",\\\"outlinewidth\\\":0}}}],\\\"mesh3d\\\":[{\\\"colorbar\\\":{\\\"ticks\\\":\\\"\\\",\\\"outlinewidth\\\":0},\\\"type\\\":\\\"mesh3d\\\"}],\\\"surface\\\":[{\\\"colorbar\\\":{\\\"ticks\\\":\\\"\\\",\\\"outlinewidth\\\":0},\\\"type\\\":\\\"surface\\\",\\\"colorscale\\\":[[0.0,\\\"#0d0887\\\"],[0.1111111111111111,\\\"#46039f\\\"],[0.2222222222222222,\\\"#7201a8\\\"],[0.3333333333333333,\\\"#9c179e\\\"],[0.4444444444444444,\\\"#bd3786\\\"],[0.5555555555555556,\\\"#d8576b\\\"],[0.6666666666666666,\\\"#ed7953\\\"],[0.7777777777777778,\\\"#fb9f3a\\\"],[0.8888888888888888,\\\"#fdca26\\\"],[1.0,\\\"#f0f921\\\"]]}],\\\"scattermapbox\\\":[{\\\"type\\\":\\\"scattermapbox\\\",\\\"marker\\\":{\\\"colorbar\\\":{\\\"ticks\\\":\\\"\\\",\\\"outlinewidth\\\":0}}}],\\\"scattergeo\\\":[{\\\"type\\\":\\\"scattergeo\\\",\\\"marker\\\":{\\\"colorbar\\\":{\\\"ticks\\\":\\\"\\\",\\\"outlinewidth\\\":0}}}],\\\"histogram\\\":[{\\\"type\\\":\\\"histogram\\\",\\\"marker\\\":{\\\"colorbar\\\":{\\\"ticks\\\":\\\"\\\",\\\"outlinewidth\\\":0}}}],\\\"pie\\\":[{\\\"type\\\":\\\"pie\\\",\\\"automargin\\\":true}],\\\"choropleth\\\":[{\\\"colorbar\\\":{\\\"ticks\\\":\\\"\\\",\\\"outlinewidth\\\":0},\\\"type\\\":\\\"choropleth\\\"}],\\\"heatmapgl\\\":[{\\\"colorbar\\\":{\\\"ticks\\\":\\\"\\\",\\\"outlinewidth\\\":0},\\\"type\\\":\\\"heatmapgl\\\",\\\"colorscale\\\":[[0.0,\\\"#0d0887\\\"],[0.1111111111111111,\\\"#46039f\\\"],[0.2222222222222222,\\\"#7201a8\\\"],[0.3333333333333333,\\\"#9c179e\\\"],[0.4444444444444444,\\\"#bd3786\\\"],[0.5555555555555556,\\\"#d8576b\\\"],[0.6666666666666666,\\\"#ed7953\\\"],[0.7777777777777778,\\\"#fb9f3a\\\"],[0.8888888888888888,\\\"#fdca26\\\"],[1.0,\\\"#f0f921\\\"]]}],\\\"bar\\\":[{\\\"type\\\":\\\"bar\\\",\\\"error_y\\\":{\\\"color\\\":\\\"#2a3f5f\\\"},\\\"error_x\\\":{\\\"color\\\":\\\"#2a3f5f\\\"},\\\"marker\\\":{\\\"line\\\":{\\\"color\\\":\\\"#E5ECF6\\\",\\\"width\\\":0.5}}}],\\\"heatmap\\\":[{\\\"colorbar\\\":{\\\"ticks\\\":\\\"\\\",\\\"outlinewidth\\\":0},\\\"type\\\":\\\"heatmap\\\",\\\"colorscale\\\":[[0.0,\\\"#0d0887\\\"],[0.1111111111111111,\\\"#46039f\\\"],[0.2222222222222222,\\\"#7201a8\\\"],[0.3333333333333333,\\\"#9c179e\\\"],[0.4444444444444444,\\\"#bd3786\\\"],[0.5555555555555556,\\\"#d8576b\\\"],[0.6666666666666666,\\\"#ed7953\\\"],[0.7777777777777778,\\\"#fb9f3a\\\"],[0.8888888888888888,\\\"#fdca26\\\"],[1.0,\\\"#f0f921\\\"]]}],\\\"contourcarpet\\\":[{\\\"colorbar\\\":{\\\"ticks\\\":\\\"\\\",\\\"outlinewidth\\\":0},\\\"type\\\":\\\"contourcarpet\\\"}],\\\"table\\\":[{\\\"type\\\":\\\"table\\\",\\\"header\\\":{\\\"line\\\":{\\\"color\\\":\\\"white\\\"},\\\"fill\\\":{\\\"color\\\":\\\"#C8D4E3\\\"}},\\\"cells\\\":{\\\"line\\\":{\\\"color\\\":\\\"white\\\"},\\\"fill\\\":{\\\"color\\\":\\\"#EBF0F8\\\"}}}],\\\"scatter3d\\\":[{\\\"line\\\":{\\\"colorbar\\\":{\\\"ticks\\\":\\\"\\\",\\\"outlinewidth\\\":0}},\\\"type\\\":\\\"scatter3d\\\",\\\"marker\\\":{\\\"colorbar\\\":{\\\"ticks\\\":\\\"\\\",\\\"outlinewidth\\\":0}}}],\\\"scattergl\\\":[{\\\"type\\\":\\\"scattergl\\\",\\\"marker\\\":{\\\"colorbar\\\":{\\\"ticks\\\":\\\"\\\",\\\"outlinewidth\\\":0}}}],\\\"histogram2d\\\":[{\\\"colorbar\\\":{\\\"ticks\\\":\\\"\\\",\\\"outlinewidth\\\":0},\\\"type\\\":\\\"histogram2d\\\",\\\"colorscale\\\":[[0.0,\\\"#0d0887\\\"],[0.1111111111111111,\\\"#46039f\\\"],[0.2222222222222222,\\\"#7201a8\\\"],[0.3333333333333333,\\\"#9c179e\\\"],[0.4444444444444444,\\\"#bd3786\\\"],[0.5555555555555556,\\\"#d8576b\\\"],[0.6666666666666666,\\\"#ed7953\\\"],[0.7777777777777778,\\\"#fb9f3a\\\"],[0.8888888888888888,\\\"#fdca26\\\"],[1.0,\\\"#f0f921\\\"]]}],\\\"scatterternary\\\":[{\\\"type\\\":\\\"scatterternary\\\",\\\"marker\\\":{\\\"colorbar\\\":{\\\"ticks\\\":\\\"\\\",\\\"outlinewidth\\\":0}}}],\\\"scatterpolargl\\\":[{\\\"type\\\":\\\"scatterpolargl\\\",\\\"marker\\\":{\\\"colorbar\\\":{\\\"ticks\\\":\\\"\\\",\\\"outlinewidth\\\":0}}}]}},\\\"height\\\":510,\\\"margin\\\":{\\\"l\\\":50,\\\"b\\\":50,\\\"r\\\":50,\\\"t\\\":60},\\\"title\\\":\\\"Nearest neighbor model without spin-orbit coupling\\\",\\\"yaxis\\\":{\\\"showgrid\\\":true,\\\"showline\\\":true,\\\"showticklabels\\\":true,\\\"linewidth\\\":5,\\\"mirror\\\":true,\\\"linecolor\\\":\\\"black\\\"},\\\"plot_bgcolor\\\":\\\"rgba(0,0,0,0)\\\",\\\"width\\\":510},{\\\"showLink\\\":false,\\\"editable\\\":false,\\\"responsive\\\":true,\\\"staticPlot\\\":false,\\\"scrollZoom\\\":true}); gd.on(\\\"plotly_hover\\\",(function (data){var filtered_data=WebIO.PlotlyCommands.filterEventData(gd,data,\\\"hover\\\"); return !(filtered_data.isnil) ? (WebIO.setval({\\\"name\\\":\\\"hover\\\",\\\"scope\\\":\\\"4320827417617592934\\\",\\\"id\\\":\\\"167914\\\",\\\"type\\\":\\\"observable\\\"},filtered_data.out)) : undefined})); gd.on(\\\"plotly_unhover\\\",(function (){return WebIO.setval({\\\"name\\\":\\\"hover\\\",\\\"scope\\\":\\\"4320827417617592934\\\",\\\"id\\\":\\\"167914\\\",\\\"type\\\":\\\"observable\\\"},{})})); gd.on(\\\"plotly_selected\\\",(function (data){var filtered_data=WebIO.PlotlyCommands.filterEventData(gd,data,\\\"selected\\\"); return !(filtered_data.isnil) ? (WebIO.setval({\\\"name\\\":\\\"selected\\\",\\\"scope\\\":\\\"4320827417617592934\\\",\\\"id\\\":\\\"167915\\\",\\\"type\\\":\\\"observable\\\"},filtered_data.out)) : undefined})); gd.on(\\\"plotly_deselect\\\",(function (){return WebIO.setval({\\\"name\\\":\\\"selected\\\",\\\"scope\\\":\\\"4320827417617592934\\\",\\\"id\\\":\\\"167915\\\",\\\"type\\\":\\\"observable\\\"},{})})); gd.on(\\\"plotly_relayout\\\",(function (data){var filtered_data=WebIO.PlotlyCommands.filterEventData(gd,data,\\\"relayout\\\"); return !(filtered_data.isnil) ? (WebIO.setval({\\\"name\\\":\\\"relayout\\\",\\\"scope\\\":\\\"4320827417617592934\\\",\\\"id\\\":\\\"167917\\\",\\\"type\\\":\\\"observable\\\"},filtered_data.out)) : undefined})); return gd.on(\\\"plotly_click\\\",(function (data){var filtered_data=WebIO.PlotlyCommands.filterEventData(gd,data,\\\"click\\\"); return !(filtered_data.isnil) ? (WebIO.setval({\\\"name\\\":\\\"click\\\",\\\"scope\\\":\\\"4320827417617592934\\\",\\\"id\\\":\\\"167916\\\",\\\"type\\\":\\\"observable\\\"},filtered_data.out)) : undefined}))}));\\n    (WebIO.importBlock({\\\"data\\\":[{\\\"name\\\":\\\"Plotly\\\",\\\"type\\\":\\\"js\\\",\\\"url\\\":\\\"\\/assetserver\\/b267c3137400db01c304fe886fe6f707be7fdb37-plotly.min.js\\\"},{\\\"name\\\":null,\\\"type\\\":\\\"js\\\",\\\"url\\\":\\\"\\/assetserver\\/020f2e8a4619f2ae880fff9315e6547eef1aff0b-plotly_webio.bundle.js\\\"}],\\\"type\\\":\\\"async_block\\\"})).then((imports) => handler.apply(this, imports));\\n}\\n\"],\"observables\":{\"_toImage\":{\"sync\":false,\"id\":\"167921\",\"value\":{}},\"hover\":{\"sync\":false,\"id\":\"167914\",\"value\":{}},\"selected\":{\"sync\":false,\"id\":\"167915\",\"value\":{}},\"__gd_contents\":{\"sync\":false,\"id\":\"167919\",\"value\":{}},\"click\":{\"sync\":false,\"id\":\"167916\",\"value\":{}},\"image\":{\"sync\":true,\"id\":\"167918\",\"value\":\"\"},\"__get_gd_contents\":{\"sync\":false,\"id\":\"167923\",\"value\":\"\"},\"_downloadImage\":{\"sync\":false,\"id\":\"167922\",\"value\":{}},\"relayout\":{\"sync\":false,\"id\":\"167917\",\"value\":{}},\"_commands\":{\"sync\":false,\"id\":\"167920\",\"value\":[]}}},\"children\":[{\"props\":{\"id\":\"plot-a47bcac9-7f17-4452-aa82-c5c0f2bf8104\"},\"nodeType\":\"DOM\",\"type\":\"node\",\"instanceArgs\":{\"namespace\":\"html\",\"tag\":\"div\"},\"children\":[]}]},\n",
       "        window,\n",
       "    );\n",
       "    })()\n",
       "    </script>\n",
       "</div>\n"
      ],
      "text/plain": [
       "data: [\n",
       "  \"scatter with fields line, mode, type, x, and y\",\n",
       "  \"scatter with fields line, mode, type, x, and y\",\n",
       "  \"scatter with fields line, mode, type, x, and y\"\n",
       "]\n",
       "\n",
       "layout: \"layout with fields height, margin, plot_bgcolor, showlegend, template, title, width, xaxis, and yaxis\"\n",
       "\n"
      ]
     },
     "metadata": {},
     "output_type": "display_data"
    }
   ],
   "source": [
    "let p::Params = Params()\n",
    "    plot_simple_kagome_bands(p = p, seedname = \"simple\", title = \"Nearest neighbor model without spin-orbit coupling\")\n",
    "end\n"
   ]
  },
  {
   "cell_type": "code",
   "execution_count": 116,
   "metadata": {},
   "outputs": [
    {
     "data": {
      "application/vnd.plotly.v1+json": {
       "config": {
        "editable": false,
        "responsive": true,
        "scrollZoom": true,
        "showLink": false,
        "staticPlot": false
       },
       "data": [
        {
         "line": {
          "color": "purple",
          "width": 4
         },
         "mode": "lines",
         "type": "scatter",
         "x": [
          1,
          2,
          3,
          4,
          5,
          6,
          7,
          8,
          9,
          10,
          11,
          12,
          13,
          14,
          15,
          16,
          17,
          18,
          19,
          20,
          21,
          22,
          23,
          24,
          25,
          26,
          27,
          28,
          29,
          30,
          31,
          32,
          33,
          34,
          35,
          36,
          37,
          38,
          39,
          40,
          41,
          42,
          43,
          44,
          45,
          46,
          47,
          48,
          49,
          50,
          51,
          52,
          53,
          54,
          55,
          56,
          57,
          58,
          59,
          60,
          61,
          62,
          63,
          64,
          65,
          66,
          67,
          68,
          69,
          70,
          71,
          72,
          73,
          74,
          75,
          76,
          77,
          78,
          79,
          80,
          81,
          82,
          83,
          84,
          85,
          86,
          87,
          88,
          89,
          90,
          91,
          92,
          93,
          94,
          95,
          96,
          97,
          98,
          99,
          100,
          101,
          102,
          103,
          104,
          105,
          106,
          107,
          108,
          109,
          110,
          111,
          112,
          113,
          114,
          115,
          116,
          117,
          118,
          119,
          120,
          121,
          122,
          123,
          124,
          125,
          126,
          127,
          128,
          129,
          130,
          131,
          132,
          133,
          134,
          135,
          136,
          137,
          138,
          139,
          140,
          141,
          142,
          143,
          144,
          145,
          146,
          147,
          148,
          149,
          150,
          151,
          152,
          153,
          154,
          155,
          156,
          157,
          158,
          159,
          160,
          161,
          162,
          163,
          164,
          165,
          166,
          167,
          168,
          169,
          170,
          171,
          172,
          173,
          174,
          175,
          176,
          177,
          178,
          179,
          180,
          181,
          182,
          183,
          184,
          185,
          186,
          187,
          188,
          189,
          190,
          191,
          192,
          193,
          194,
          195,
          196,
          197,
          198,
          199,
          200,
          201,
          202,
          203,
          204,
          205,
          206,
          207,
          208,
          209,
          210,
          211,
          212,
          213,
          214,
          215,
          216,
          217,
          218,
          219,
          220,
          221,
          222,
          223,
          224,
          225,
          226,
          227,
          228,
          229,
          230,
          231,
          232,
          233,
          234,
          235,
          236,
          237,
          238,
          239,
          240,
          241,
          242,
          243,
          244,
          245,
          246,
          247,
          248,
          249,
          250,
          251,
          252,
          253,
          254,
          255,
          256,
          257,
          258,
          259,
          260,
          261,
          262,
          263,
          264,
          265,
          266,
          267,
          268,
          269,
          270,
          271,
          272,
          273,
          274,
          275,
          276,
          277,
          278,
          279,
          280,
          281,
          282,
          283,
          284,
          285,
          286,
          287,
          288,
          289,
          290,
          291,
          292,
          293,
          294,
          295,
          296,
          297,
          298,
          299,
          300,
          301,
          302,
          303,
          304,
          305,
          306,
          307,
          308,
          309,
          310,
          311,
          312,
          313,
          314,
          315,
          316,
          317,
          318,
          319,
          320,
          321,
          322,
          323,
          324,
          325,
          326,
          327,
          328,
          329,
          330,
          331,
          332,
          333,
          334,
          335,
          336,
          337,
          338,
          339,
          340,
          341,
          342,
          343,
          344,
          345,
          346,
          347,
          348,
          349,
          350,
          351,
          352,
          353,
          354,
          355,
          356,
          357,
          358,
          359,
          360,
          361,
          362,
          363,
          364,
          365,
          366,
          367,
          368,
          369,
          370,
          371,
          372,
          373,
          374,
          375,
          376,
          377,
          378,
          379,
          380,
          381,
          382,
          383,
          384,
          385,
          386,
          387,
          388,
          389,
          390,
          391,
          392,
          393,
          394,
          395,
          396,
          397,
          398,
          399,
          400,
          401,
          402,
          403,
          404,
          405,
          406,
          407,
          408,
          409,
          410,
          411,
          412,
          413,
          414,
          415,
          416,
          417,
          418,
          419,
          420,
          421,
          422,
          423,
          424,
          425,
          426,
          427,
          428,
          429,
          430,
          431,
          432,
          433,
          434,
          435,
          436,
          437,
          438,
          439,
          440,
          441,
          442,
          443,
          444,
          445,
          446,
          447,
          448,
          449,
          450,
          451,
          452,
          453,
          454,
          455,
          456,
          457,
          458,
          459,
          460,
          461,
          462,
          463,
          464,
          465,
          466,
          467,
          468,
          469,
          470,
          471,
          472,
          473,
          474,
          475,
          476,
          477,
          478,
          479,
          480,
          481,
          482,
          483,
          484,
          485,
          486,
          487,
          488,
          489,
          490,
          491,
          492,
          493,
          494,
          495,
          496,
          497,
          498,
          499,
          500
         ],
         "y": [
          -3.9999999999999996,
          -3.9999014744666948,
          -3.9996059075740593,
          -3.9991133284429807,
          -3.9984237856050786,
          -3.9975373469979294,
          -3.996454099958371,
          -3.9951741512138943,
          -3.993697626872134,
          -3.9920246724084345,
          -3.9901554526515293,
          -3.9880901517672913,
          -3.9858289732405914,
          -3.98337213985525,
          -3.9807198936720853,
          -3.9778724960050695,
          -3.9748302273955765,
          -3.97159338758474,
          -3.9681622954839297,
          -3.964537289143327,
          -3.960718725718613,
          -3.9567069814357865,
          -3.952502451554092,
          -3.9481055503270763,
          -3.943516710961781,
          -3.9387363855760515,
          -3.9337650451539927,
          -3.928603179499575,
          -3.9232512971883606,
          -3.9177099255174133,
          -3.9119796104533275,
          -3.906060916578454,
          -3.8999544270352624,
          -3.893660743468891,
          -3.8871804859678702,
          -3.880514293003025,
          -3.873662821364575,
          -3.8666267460974155,
          -3.859406760434614,
          -3.85200357572911,
          -3.8444179213836227,
          -3.8366505447787946,
          -3.828702211199547,
          -3.8205737037596834,
          -3.8122658233247364,
          -3.803779388433055,
          -3.7951152352151625,
          -3.7862742173113766,
          -3.777257205787701,
          -3.768065089050003,
          -3.75869877275649,
          -3.7491591797284674,
          -3.7394472498594244,
          -3.729563940022435,
          -3.7195102239758677,
          -3.70928709226746,
          -3.698895552136715,
          -3.688336627415665,
          -3.6776113584280012,
          -3.6667208018865685,
          -3.6556660307892583,
          -3.64444813431329,
          -3.633068217707895,
          -3.6215274021854276,
          -3.60982682481089,
          -3.5979676383899086,
          -3.5859510113551494,
          -3.5737781276512024,
          -3.5614501866179236,
          -3.548968402872278,
          -3.5363340061886674,
          -3.5235482413777612,
          -3.5106123681638577,
          -3.4975276610607624,
          -3.484295409246222,
          -3.470916916434904,
          -3.4573935007499452,
          -3.44372649459309,
          -3.4299172445134083,
          -3.415967111074627,
          -3.4018774687210867,
          -3.3876497056423105,
          -3.3732852236362447,
          -3.3587854379711404,
          -3.344151777246113,
          -3.3293856832503885,
          -3.314488610821254,
          -3.299462027700714,
          -3.2843074143908852,
          -3.269026264008125,
          -3.253620082135927,
          -3.2380903866765722,
          -3.22243870770159,
          -3.206666587300999,
          -3.190775579431374,
          -3.1747672497627364,
          -3.1586431755243067,
          -3.1424049453490985,
          -3.126054159117399,
          -3.109592427799142,
          -3.0930213732951852,
          -3.0763426282775095,
          -3.0595578360283637,
          -3.0426686502783555,
          -3.0256767350435183,
          -3.0085837644613616,
          -2.991391422625929,
          -2.9741014034218676,
          -2.956715410357541,
          -2.939235156397186,
          -2.921662363792149,
          -2.903998763911192,
          -2.886246097069913,
          -2.8684061123592812,
          -2.850480567473303,
          -2.8324712285358493,
          -2.814379869926642,
          -2.7962082741064376,
          -2.7779582314414046,
          -2.7596315400267297,
          -2.7412300055094576,
          -2.722755440910591,
          -2.7042096664464603,
          -2.685594509349383,
          -2.6669118036876425,
          -2.648163390184775,
          -2.62935111603822,
          -2.610476834737322,
          -2.5915424058807117,
          -2.5725496949930875,
          -2.553500573341422,
          -2.5343969177505823,
          -2.5152406104184246,
          -2.4960335387303454,
          -2.4767775950733246,
          -2.4574746766494817,
          -2.4381266852891477,
          -2.4187355272634914,
          -2.399303113096697,
          -2.379831357377734,
          -2.36032217857172,
          -2.3407774988309002,
          -2.321199243805271,
          -2.301589342452846,
          -2.281949726849618,
          -2.2622823319991863,
          -2.242589095642119,
          -2.2228719580650287,
          -2.2031328619094115,
          -2.183373751980242,
          -2.163596575054365,
          -2.1438032796886843,
          -2.123995816028181,
          -2.104176135613776,
          -2.0843461911900523,
          -2.0645079365128582,
          -2.044663326156817,
          -2.0248143153227467,
          -2.004962859645027,
          -1.9851109149989132,
          -1.96526043730784,
          -1.9454133823507078,
          -1.9255717055691908,
          -1.905737361875075,
          -1.8859123054576514,
          -1.8660984895911765,
          -1.846297866442425,
          -1.8265123868783526,
          -1.8067440002738846,
          -1.7869946543198532,
          -1.767266294831103,
          -1.7475608655547727,
          -1.7278803079787897,
          -1.7082265611405871,
          -1.6886015614360521,
          -1.6690072424287459,
          -1.6494455346594006,
          -1.6299183654557055,
          -1.6104276587424202,
          -1.5909753348518192,
          -1.5715633103344855,
          -1.5521934977704896,
          -1.5328678055809426,
          -1.5135881378399756,
          -1.4943563940871347,
          -1.475174469140227,
          -1.4560442529086406,
          -1.4369676302071306,
          -1.4179464805701225,
          -1.3989826780665284,
          -1.380078091115103,
          -1.3612345823003587,
          -1.3424540081890501,
          -1.3237382191472578,
          -1.3050890591580786,
          -1.2865083656399434,
          -1.267997969265594,
          -1.2495596937817028,
          -1.2311953558291946,
          -1.2129067647642617,
          -1.194695722480092,
          -1.1765640232293375,
          -1.1585134534473371,
          -1.140545791576105,
          -1.1226628078891094,
          -1.1048662643168556,
          -1.0871579142732877,
          -1.0695395024830412,
          -1.0520127648095317,
          -1.0345794280839358,
          -1.0172412099350518,
          -1.0000001813799306,
          -1.0172241653625076,
          -1.0343472421611226,
          -1.0513674365426187,
          -1.068283055575594,
          -1.0850924167304852,
          -1.1017938480468008,
          -1.1183856882994119,
          -1.1348662871637774,
          -1.1512340053800985,
          -1.1674872149163686,
          -1.1836242991303039,
          -1.1996436529301437,
          -1.2155436829343107,
          -1.2313228076298879,
          -1.2469794575299302,
          -1.262512075329576,
          -1.277919116060943,
          -1.2931990472468042,
          -1.308350349053013,
          -1.3233715144396772,
          -1.338261049311058,
          -1.3530174726641842,
          -1.3676393167361554,
          -1.3821251271501414,
          -1.3964734630600397,
          -1.4106828972937888,
          -1.4247520164953316,
          -1.4386794212651859,
          -1.4524637262996427,
          -1.4661035605285584,
          -1.4795975672517248,
          -1.4929444042738171,
          -1.5061427440378998,
          -1.5191912737574684,
          -1.5320886955470296,
          -1.5448337265511956,
          -1.557425099072288,
          -1.5698615606964266,
          -1.5821418744181028,
          -1.5942648187632231,
          -1.6062291879105983,
          -1.6180337918118886,
          -1.6296774563099672,
          -1.6411590232557118,
          -1.652477350623201,
          -1.663631312623307,
          -1.6746197998156724,
          -1.6854417192190625,
          -1.6960959944200809,
          -1.7065815656802337,
          -1.71689739004134,
          -1.727042441429269,
          -1.7370157107560003,
          -1.7468162060199939,
          -1.7564429524048601,
          -1.7658949923763212,
          -1.7751713857774534,
          -1.7842712099222018,
          -1.7931935596871527,
          -1.801937547601566,
          -1.8105023039356478,
          -1.8188869767870595,
          -1.8270907321656498,
          -1.835112754076412,
          -1.842952244600647,
          -1.8506084239753287,
          -1.858080530670663,
          -1.8653678214658358,
          -1.8724695715229371,
          -1.879385074459059,
          -1.8861136424165548,
          -1.8926546061314589,
          -1.8990073150000568,
          -1.9051711371435949,
          -1.9111454594711341,
          -1.9169296877405309,
          -1.9225232466175417,
          -1.9279255797330528,
          -1.9331361497384187,
          -1.9381544383589084,
          -1.9429799464452586,
          -1.9476121940233198,
          -1.9520507203418,
          -1.9562950839180933,
          -1.9603448625821889,
          -1.964199653518667,
          -1.9678590733067647,
          -1.9713227579585098,
          -1.974590362954929,
          -1.9776615632803156,
          -1.9805360534545544,
          -1.9832135475635098,
          -1.9856937792874638,
          -1.987976501927604,
          -1.9900614884305643,
          -1.9919485314110084,
          -1.993637443172255,
          -1.995128055724951,
          -1.9964202208037782,
          -1.9975138098822016,
          -1.9984087141852545,
          -1.999104844700354,
          -1.9996021321861592,
          -1.9999005271794572,
          -2.000000000000081,
          -2.0002946763315284,
          -2.001178067733399,
          -2.0026483582879164,
          -2.0047025392811113,
          -2.0073364355015166,
          -2.010544741287265,
          -2.014321065585352,
          -2.0186579851239315,
          -2.0235471046672275,
          -2.0289791232264207,
          -2.0349439050399734,
          -2.0414305541130697,
          -2.048427491116171,
          -2.055922531483942,
          -2.063902963623649,
          -2.0723556262317047,
          -2.0812669838228954,
          -2.090623199693807,
          -2.100410205664893,
          -2.1106137680698804,
          -2.1212195495828814,
          -2.132213166589219,
          -2.143580241913175,
          -2.1553064528126997,
          -2.1673775742364434,
          -2.1797795174117414,
          -2.192498363893433,
          -2.2055203952527753,
          -2.218832118624255,
          -2.2324202883563515,
          -2.246271924031647,
          -2.2603743251329638,
          -2.274715082636848,
          -2.289282087814565,
          -2.304063538515136,
          -2.3190479431955557,
          -2.33422412295129,
          -2.3495812117860004,
          -2.3651086553440748,
          -2.3807962083132708,
          -2.396633930688293,
          -2.4126121830696134,
          -2.4287216211557334,
          -2.444953189571514,
          -2.4612981151603877,
          -2.477747899854257,
          -2.4942943132218756,
          -2.510929384784367,
          -2.5276453961754575,
          -2.5444348732137767,
          -2.5612905779454143,
          -2.5782055007065203,
          -2.595172852248297,
          -2.6121860559600067,
          -2.6292387402196398,
          -2.6463247308966835,
          -2.6634380440267025,
          -2.6805728786733836,
          -2.6977236099901907,
          -2.714884782490577,
          -2.7320511035330965,
          -2.7492174370254427,
          -2.7663787973494225,
          -2.783530343507279,
          -2.8006673734882868,
          -2.817785318853403,
          -2.8348797395347773,
          -2.8519463188461014,
          -2.8689808586991576,
          -2.8859792750213917,
          -2.9029375933689465,
          -2.9198519447293023,
          -2.936718561507445,
          -2.9535337736893705,
          -2.970294005176628,
          -2.9869957702856054,
          -3.0036356704052767,
          -3.0202103908071884,
          -3.0367166976015434,
          -3.0531514348333797,
          -3.0695115217129327,
          -3.085793949974481,
          -3.1019957813580468,
          -3.1181141452086085,
          -3.1341462361875347,
          -3.1500893120912457,
          -3.1659406917721937,
          -3.1816977531574917,
          -3.1973579313607257,
          -3.2129187168825597,
          -3.228377653896061,
          -3.2437323386127472,
          -3.2589804177255446,
          -3.2741195869250737,
          -3.2891475894857427,
          -3.3040622149183667,
          -3.318861297686139,
          -3.33354271598095,
          -3.348104390557161,
          -3.362544283620103,
          -3.3768603977666776,
          -3.3910507749756,
          -3.4051134956448657,
          -3.419046677674236,
          -3.432848475590559,
          -3.4465170797138986,
          -3.4600507153625397,
          -3.473447642094966,
          -3.486706152987134,
          -3.4998245739432905,
          -3.512801263038779,
          -3.525634609893329,
          -3.5383230350733585,
          -3.5508649895219326,
          -3.5632589540150823,
          -3.575503438643236,
          -3.5875969823165823,
          -3.5995381522932424,
          -3.6113255437292002,
          -3.6229577792489414,
          -3.63443350853588,
          -3.645751407941619,
          -3.6569101801131816,
          -3.6679085536373917,
          -3.6787452827015974,
          -3.6894191467699806,
          -3.69992895027478,
          -3.710273522321665,
          -3.7204517164086943,
          -3.7304624101581902,
          -3.7403045050609514,
          -3.749976926232256,
          -3.7594786221791043,
          -3.768808564578211,
          -3.7779657480642403,
          -3.786949190027861,
          -3.7957579304231235,
          -3.804391031583828,
          -3.812847578048376,
          -3.8211266763928324,
          -3.8292274550717686,
          -3.8371490642665766,
          -3.8448906757409036,
          -3.85245148270291,
          -3.8598306996740726,
          -3.8670275623641936,
          -3.8740413275524075,
          -3.880871272973908,
          -3.887516697212134,
          -3.8939769195962013,
          -3.9002512801033564,
          -3.906339139266251,
          -3.9122398780848116,
          -3.9179528979425458,
          -3.923477620527076,
          -3.928813487754768,
          -3.933959961699239,
          -3.9389165245236435,
          -3.943682678416558,
          -3.94825794553133,
          -3.9526418679287856,
          -3.956834007523133,
          -3.960833946030973,
          -3.9646412849232977,
          -3.968255645380377,
          -3.971676668249412,
          -3.9749040140049203,
          -3.9779373627116863,
          -3.980776413990276,
          -3.983420886984976,
          -3.9858705203341422,
          -3.988125072142841,
          -3.9901843199577707,
          -3.99204806074437,
          -3.9937161108660906,
          -3.9951883060657867,
          -3.996464501449141,
          -3.9975445714701605,
          -3.9984284099186533,
          -3.999115929909668,
          -3.999607063874907,
          -3.9999017635560468,
          -3.9999999999999996
         ]
        },
        {
         "line": {
          "color": "purple",
          "width": 4
         },
         "mode": "lines",
         "type": "scatter",
         "x": [
          1,
          2,
          3,
          4,
          5,
          6,
          7,
          8,
          9,
          10,
          11,
          12,
          13,
          14,
          15,
          16,
          17,
          18,
          19,
          20,
          21,
          22,
          23,
          24,
          25,
          26,
          27,
          28,
          29,
          30,
          31,
          32,
          33,
          34,
          35,
          36,
          37,
          38,
          39,
          40,
          41,
          42,
          43,
          44,
          45,
          46,
          47,
          48,
          49,
          50,
          51,
          52,
          53,
          54,
          55,
          56,
          57,
          58,
          59,
          60,
          61,
          62,
          63,
          64,
          65,
          66,
          67,
          68,
          69,
          70,
          71,
          72,
          73,
          74,
          75,
          76,
          77,
          78,
          79,
          80,
          81,
          82,
          83,
          84,
          85,
          86,
          87,
          88,
          89,
          90,
          91,
          92,
          93,
          94,
          95,
          96,
          97,
          98,
          99,
          100,
          101,
          102,
          103,
          104,
          105,
          106,
          107,
          108,
          109,
          110,
          111,
          112,
          113,
          114,
          115,
          116,
          117,
          118,
          119,
          120,
          121,
          122,
          123,
          124,
          125,
          126,
          127,
          128,
          129,
          130,
          131,
          132,
          133,
          134,
          135,
          136,
          137,
          138,
          139,
          140,
          141,
          142,
          143,
          144,
          145,
          146,
          147,
          148,
          149,
          150,
          151,
          152,
          153,
          154,
          155,
          156,
          157,
          158,
          159,
          160,
          161,
          162,
          163,
          164,
          165,
          166,
          167,
          168,
          169,
          170,
          171,
          172,
          173,
          174,
          175,
          176,
          177,
          178,
          179,
          180,
          181,
          182,
          183,
          184,
          185,
          186,
          187,
          188,
          189,
          190,
          191,
          192,
          193,
          194,
          195,
          196,
          197,
          198,
          199,
          200,
          201,
          202,
          203,
          204,
          205,
          206,
          207,
          208,
          209,
          210,
          211,
          212,
          213,
          214,
          215,
          216,
          217,
          218,
          219,
          220,
          221,
          222,
          223,
          224,
          225,
          226,
          227,
          228,
          229,
          230,
          231,
          232,
          233,
          234,
          235,
          236,
          237,
          238,
          239,
          240,
          241,
          242,
          243,
          244,
          245,
          246,
          247,
          248,
          249,
          250,
          251,
          252,
          253,
          254,
          255,
          256,
          257,
          258,
          259,
          260,
          261,
          262,
          263,
          264,
          265,
          266,
          267,
          268,
          269,
          270,
          271,
          272,
          273,
          274,
          275,
          276,
          277,
          278,
          279,
          280,
          281,
          282,
          283,
          284,
          285,
          286,
          287,
          288,
          289,
          290,
          291,
          292,
          293,
          294,
          295,
          296,
          297,
          298,
          299,
          300,
          301,
          302,
          303,
          304,
          305,
          306,
          307,
          308,
          309,
          310,
          311,
          312,
          313,
          314,
          315,
          316,
          317,
          318,
          319,
          320,
          321,
          322,
          323,
          324,
          325,
          326,
          327,
          328,
          329,
          330,
          331,
          332,
          333,
          334,
          335,
          336,
          337,
          338,
          339,
          340,
          341,
          342,
          343,
          344,
          345,
          346,
          347,
          348,
          349,
          350,
          351,
          352,
          353,
          354,
          355,
          356,
          357,
          358,
          359,
          360,
          361,
          362,
          363,
          364,
          365,
          366,
          367,
          368,
          369,
          370,
          371,
          372,
          373,
          374,
          375,
          376,
          377,
          378,
          379,
          380,
          381,
          382,
          383,
          384,
          385,
          386,
          387,
          388,
          389,
          390,
          391,
          392,
          393,
          394,
          395,
          396,
          397,
          398,
          399,
          400,
          401,
          402,
          403,
          404,
          405,
          406,
          407,
          408,
          409,
          410,
          411,
          412,
          413,
          414,
          415,
          416,
          417,
          418,
          419,
          420,
          421,
          422,
          423,
          424,
          425,
          426,
          427,
          428,
          429,
          430,
          431,
          432,
          433,
          434,
          435,
          436,
          437,
          438,
          439,
          440,
          441,
          442,
          443,
          444,
          445,
          446,
          447,
          448,
          449,
          450,
          451,
          452,
          453,
          454,
          455,
          456,
          457,
          458,
          459,
          460,
          461,
          462,
          463,
          464,
          465,
          466,
          467,
          468,
          469,
          470,
          471,
          472,
          473,
          474,
          475,
          476,
          477,
          478,
          479,
          480,
          481,
          482,
          483,
          484,
          485,
          486,
          487,
          488,
          489,
          490,
          491,
          492,
          493,
          494,
          495,
          496,
          497,
          498,
          499,
          500
         ],
         "y": [
          2,
          1.9999014744666956,
          1.9996059075740604,
          1.999113328442982,
          1.9984237856050775,
          1.99753734699793,
          1.9964540999583726,
          1.9951741512138947,
          1.9936976268721331,
          1.9920246724084336,
          1.9901554526515288,
          1.9880901517672913,
          1.985828973240592,
          1.9833721398552504,
          1.9807198936720862,
          1.9778724960050702,
          1.9748302273955753,
          1.9715933875847407,
          1.9681622954839313,
          1.9645372891433268,
          1.9607187257186136,
          1.9567069814357867,
          1.952502451554091,
          1.948105550327076,
          1.9435167109617817,
          1.938736385576051,
          1.9337650451539927,
          1.9286031794995746,
          1.9232512971883606,
          1.9177099255174128,
          1.9119796104533278,
          1.906060916578454,
          1.8999544270352624,
          1.893660743468889,
          1.8871804859678705,
          1.8805142930030256,
          1.8736628213645745,
          1.8666267460974157,
          1.8594067604346145,
          1.8520035757291091,
          1.8444179213836231,
          1.8366505447787966,
          1.8287022111995468,
          1.820573703759684,
          1.8122658233247375,
          1.8037793884330549,
          1.7951152352151627,
          1.7862742173113761,
          1.7772572057877012,
          1.7680650890500051,
          1.75869877275649,
          1.7491591797284665,
          1.7394472498594253,
          1.7295639400224347,
          1.719510223975868,
          1.7092870922674606,
          1.6988955521367148,
          1.6883366274156653,
          1.6776113584280004,
          1.666720801886568,
          1.6556660307892581,
          1.6444481343132904,
          1.6330682177078941,
          1.6215274021854276,
          1.6098268248108898,
          1.5979676383899077,
          1.5859510113551498,
          1.5737781276512026,
          1.5614501866179238,
          1.5489684028722785,
          1.536334006188667,
          1.5235482413777617,
          1.5106123681638575,
          1.4975276610607622,
          1.484295409246222,
          1.4709169164349036,
          1.4573935007499441,
          1.4437264945930899,
          1.429917244513408,
          1.4159671110746277,
          1.4018774687210862,
          1.3876497056423105,
          1.373285223636245,
          1.3587854379711397,
          1.3441517772461131,
          1.3293856832503885,
          1.3144886108212535,
          1.2994620277007138,
          1.2843074143908844,
          1.2690262640081251,
          1.2536200821359262,
          1.2380903866765718,
          1.2224387077015901,
          1.2066665873009996,
          1.1907755794313748,
          1.1747672497627362,
          1.158643175524307,
          1.142404945349099,
          1.1260541591173994,
          1.1095924277991422,
          1.0930213732951848,
          1.0763426282775093,
          1.059557836028364,
          1.042668650278356,
          1.0256767350435183,
          1.008583764461362,
          0.9913914226259288,
          0.9741014034218672,
          0.9567154103575413,
          0.9392351563971866,
          0.9216623637921477,
          0.9039987639111917,
          0.8862460970699129,
          0.868406112359281,
          0.8504805674733029,
          0.8324712285358489,
          0.8143798699266418,
          0.7962082741064372,
          0.777958231441404,
          0.7596315400267297,
          0.7412300055094576,
          0.7227554409105914,
          0.7042096664464605,
          0.6855945093493833,
          0.6669118036876425,
          0.648163390184775,
          0.6293511160382204,
          0.6104768347373226,
          0.5915424058807117,
          0.5725496949930875,
          0.5535005733414216,
          0.5343969177505818,
          0.5152406104184246,
          0.49603353873034517,
          0.4767775950733244,
          0.45747467664948216,
          0.4381266852891481,
          0.41873552726349117,
          0.39930311309669686,
          0.3798313573777339,
          0.3603221785717201,
          0.34077749883090025,
          0.32119924380527,
          0.30158934245284597,
          0.28194972684961783,
          0.2622823319991865,
          0.2425890956421184,
          0.22287195806502824,
          0.20313286190941104,
          0.18337375198024142,
          0.16359657505436487,
          0.14380327968868434,
          0.12399581602818066,
          0.10417613561377581,
          0.08434619119005182,
          0.06450793651285802,
          0.04466332615681745,
          0.024814315322746694,
          0.0049628596450270734,
          -0.014889085001086544,
          -0.03473956269215983,
          -0.05458661764929218,
          -0.07442829443080945,
          -0.09426263812492497,
          -0.11408769454234857,
          -0.1339015104088237,
          -0.153702133557575,
          -0.17348761312164784,
          -0.1932559997261154,
          -0.21300534568014706,
          -0.2327337051688972,
          -0.2524391344452275,
          -0.2721196920212103,
          -0.29177343885941265,
          -0.3113984385639479,
          -0.33099275757125435,
          -0.3505544653405994,
          -0.37008163454429455,
          -0.3895723412575798,
          -0.40902466514818103,
          -0.4284366896655145,
          -0.44780650222951035,
          -0.4671321944190574,
          -0.48641186216002485,
          -0.505643605912866,
          -0.5248255308597728,
          -0.5439557470913594,
          -0.5630323697928697,
          -0.5820535194298778,
          -0.6010173219334722,
          -0.6199219088848974,
          -0.638765417699641,
          -0.6575459918109497,
          -0.6762617808527424,
          -0.6949109408419217,
          -0.713491634360057,
          -0.732002030734406,
          -0.7504403062182973,
          -0.768804644170805,
          -0.787093235235738,
          -0.8053042775199081,
          -0.8234359767706626,
          -0.8414865465526628,
          -0.8594542084238951,
          -0.8773371921108905,
          -0.8951337356831442,
          -0.9128420857267124,
          -0.9304604975169589,
          -0.9479872351904686,
          -0.9654205719160641,
          -0.982758790064948,
          -0.9999998186200697,
          -0.9827758346374926,
          -0.9656527578388772,
          -0.9486325634573811,
          -0.9317169444244063,
          -0.9149075832695146,
          -0.8982061519531992,
          -0.8816143117005887,
          -0.8651337128362225,
          -0.8487659946199013,
          -0.8325127850836315,
          -0.8163757008696964,
          -0.8003563470698561,
          -0.7844563170656893,
          -0.7686771923701116,
          -0.7530205424700691,
          -0.7374879246704239,
          -0.7220808839390572,
          -0.706800952753196,
          -0.6916496509469868,
          -0.6766284855603222,
          -0.6617389506889415,
          -0.6469825273358158,
          -0.6323606832638445,
          -0.6178748728498586,
          -0.6035265369399604,
          -0.5893171027062107,
          -0.5752479835046685,
          -0.5613205787348139,
          -0.547536273700357,
          -0.5338964394714416,
          -0.5204024327482756,
          -0.507055595726183,
          -0.49385725596210023,
          -0.4808087262425317,
          -0.467911304452971,
          -0.4551662734488045,
          -0.44257490092771246,
          -0.43013843930357326,
          -0.41785812558189744,
          -0.40573518123677743,
          -0.39377081208940107,
          -0.38196620818811133,
          -0.37032254369003303,
          -0.35884097674428844,
          -0.3475226493767988,
          -0.33636868737669257,
          -0.3253802001843277,
          -0.3145582807809374,
          -0.3039040055799194,
          -0.2934184343197663,
          -0.2831026099586595,
          -0.2729575585707311,
          -0.26298428924399997,
          -0.253183793980006,
          -0.2435570475951397,
          -0.23410500762367853,
          -0.22482861422254652,
          -0.21572879007779813,
          -0.206806440312848,
          -0.1980624523984341,
          -0.18949769606435268,
          -0.18111302321294026,
          -0.17290926783435,
          -0.16488724592358805,
          -0.157047755399353,
          -0.1493915760246709,
          -0.1419194693293368,
          -0.13463217853416448,
          -0.12753042847706325,
          -0.12061492554094144,
          -0.1138863575834459,
          -0.10734539386854058,
          -0.10099268499994357,
          -0.09482886285640502,
          -0.08885454052886571,
          -0.08307031225946948,
          -0.07747675338245841,
          -0.07207442026694749,
          -0.0668638502615817,
          -0.06184556164109123,
          -0.057020053554741545,
          -0.05238780597668119,
          -0.04794927965819973,
          -0.043704916081907075,
          -0.03965513741781079,
          -0.03580034648133257,
          -0.03214092669323665,
          -0.028677242041490414,
          -0.0254096370450706,
          -0.022338436719684107,
          -0.01946394654544703,
          -0.016786452436490046,
          -0.0143062207125364,
          -0.012023498072396305,
          -0.009938511569435815,
          -0.008051468588991265,
          -0.006362556827745114,
          -0.004871944275047779,
          -0.0035797791962217107,
          -0.0024861901177980344,
          -0.0015912858147454773,
          -0.0008951552996468931,
          -0.00039786781384117446,
          -0.00009947282054322654,
          8.140571359215114e-14,
          0.00029467633152808115,
          0.0011780677333988916,
          0.0026483582879167564,
          0.004702539281111473,
          0.007336435501516164,
          0.01054474128726507,
          0.014321065585352066,
          0.018657985123931464,
          0.023547104667227314,
          0.02897912322642049,
          0.0349439050399733,
          0.04143055411306917,
          0.04842749111617134,
          0.05592253148394227,
          0.06390296362364911,
          0.0723556262317046,
          0.08126698382289566,
          0.09062319969380717,
          0.10041020566489195,
          0.11061376806988071,
          0.12121954958288161,
          0.13221316658921872,
          0.1435802419131747,
          0.15530645281269995,
          0.1673775742364435,
          0.17977951741174097,
          0.19249836389343228,
          0.20552039525277566,
          0.2188321186242541,
          0.23242028835635092,
          0.24627192403164683,
          0.2603743251329636,
          0.2747150826368471,
          0.2892820878145649,
          0.30406353851513496,
          0.31904794319555596,
          0.33422412295129006,
          0.349581211786001,
          0.36510865534407416,
          0.3807962083132703,
          0.39663393068829356,
          0.4126121830696141,
          0.42872162115573353,
          0.4449531895715145,
          0.461298115160388,
          0.47774789985425636,
          0.49429431322187567,
          0.5109293847843673,
          0.5276453961754576,
          0.5444348732137776,
          0.5612905779454145,
          0.5782055007065201,
          0.5951728522482982,
          0.6121860559600071,
          0.6292387402196399,
          0.6463247308966846,
          0.6634380440267014,
          0.6805728786733826,
          0.6977236099901898,
          0.7148847824905761,
          0.7320511035330971,
          0.7492174370254431,
          0.7663787973494229,
          0.7835303435072795,
          0.8006673734882869,
          0.817785318853404,
          0.8348797395347772,
          0.8519463188461002,
          0.8689808586991569,
          0.8859792750213921,
          0.9029375933689477,
          0.9198519447293031,
          0.9367185615074455,
          0.9535337736893705,
          0.9702940051766276,
          0.9869957702856049,
          1.0036356704052767,
          1.0202103908071884,
          1.0367166976015432,
          1.053151434833379,
          1.0695115217129343,
          1.0857939499744813,
          1.1019957813580477,
          1.1181141452086079,
          1.1341462361875352,
          1.1500893120912463,
          1.165940691772193,
          1.1816977531574921,
          1.197357931360726,
          1.2129187168825604,
          1.2283776538960622,
          1.2437323386127457,
          1.2589804177255444,
          1.2741195869250743,
          1.2891475894857425,
          1.3040622149183656,
          1.318861297686138,
          1.3335427159809496,
          1.348104390557161,
          1.362544283620102,
          1.3768603977666787,
          1.3910507749756005,
          1.4051134956448665,
          1.4190466776742379,
          1.4328484755905575,
          1.4465170797138998,
          1.460050715362539,
          1.4734476420949654,
          1.486706152987134,
          1.4998245739432885,
          1.5128012630387793,
          1.5256346098933298,
          1.5383230350733603,
          1.5508649895219324,
          1.5632589540150827,
          1.575503438643236,
          1.587596982316583,
          1.5995381522932437,
          1.6113255437292,
          1.6229577792489422,
          1.6344335085358808,
          1.6457514079416193,
          1.656910180113182,
          1.6679085536373939,
          1.6787452827015963,
          1.6894191467699808,
          1.6999289502747787,
          1.7102735223216647,
          1.720451716408694,
          1.7304624101581898,
          1.740304505060952,
          1.749976926232256,
          1.7594786221791043,
          1.7688085645782106,
          1.777965748064239,
          1.78694919002786,
          1.7957579304231244,
          1.8043910315838279,
          1.812847578048376,
          1.8211266763928315,
          1.8292274550717693,
          1.837149064266578,
          1.8448906757409043,
          1.852451482702913,
          1.859830699674074,
          1.8670275623641925,
          1.874041327552407,
          1.880871272973909,
          1.8875166972121344,
          1.893976919596201,
          1.900251280103356,
          1.906339139266252,
          1.9122398780848122,
          1.9179528979425442,
          1.923477620527076,
          1.9288134877547676,
          1.9339599616992393,
          1.9389165245236442,
          1.943682678416557,
          1.9482579455313291,
          1.9526418679287851,
          1.956834007523132,
          1.9608339460309743,
          1.9646412849233008,
          1.9682556453803774,
          1.9716766682494125,
          1.9749040140049208,
          1.9779373627116859,
          1.9807764139902757,
          1.983420886984976,
          1.985870520334142,
          1.988125072142843,
          1.9901843199577707,
          1.9920480607443698,
          1.9937161108660932,
          1.9951883060657871,
          1.9964645014491402,
          1.9975445714701618,
          1.9984284099186531,
          1.9991159299096677,
          1.9996070638749057,
          1.999901763556047,
          2
         ]
        },
        {
         "line": {
          "color": "purple",
          "width": 4
         },
         "mode": "lines",
         "type": "scatter",
         "x": [
          1,
          2,
          3,
          4,
          5,
          6,
          7,
          8,
          9,
          10,
          11,
          12,
          13,
          14,
          15,
          16,
          17,
          18,
          19,
          20,
          21,
          22,
          23,
          24,
          25,
          26,
          27,
          28,
          29,
          30,
          31,
          32,
          33,
          34,
          35,
          36,
          37,
          38,
          39,
          40,
          41,
          42,
          43,
          44,
          45,
          46,
          47,
          48,
          49,
          50,
          51,
          52,
          53,
          54,
          55,
          56,
          57,
          58,
          59,
          60,
          61,
          62,
          63,
          64,
          65,
          66,
          67,
          68,
          69,
          70,
          71,
          72,
          73,
          74,
          75,
          76,
          77,
          78,
          79,
          80,
          81,
          82,
          83,
          84,
          85,
          86,
          87,
          88,
          89,
          90,
          91,
          92,
          93,
          94,
          95,
          96,
          97,
          98,
          99,
          100,
          101,
          102,
          103,
          104,
          105,
          106,
          107,
          108,
          109,
          110,
          111,
          112,
          113,
          114,
          115,
          116,
          117,
          118,
          119,
          120,
          121,
          122,
          123,
          124,
          125,
          126,
          127,
          128,
          129,
          130,
          131,
          132,
          133,
          134,
          135,
          136,
          137,
          138,
          139,
          140,
          141,
          142,
          143,
          144,
          145,
          146,
          147,
          148,
          149,
          150,
          151,
          152,
          153,
          154,
          155,
          156,
          157,
          158,
          159,
          160,
          161,
          162,
          163,
          164,
          165,
          166,
          167,
          168,
          169,
          170,
          171,
          172,
          173,
          174,
          175,
          176,
          177,
          178,
          179,
          180,
          181,
          182,
          183,
          184,
          185,
          186,
          187,
          188,
          189,
          190,
          191,
          192,
          193,
          194,
          195,
          196,
          197,
          198,
          199,
          200,
          201,
          202,
          203,
          204,
          205,
          206,
          207,
          208,
          209,
          210,
          211,
          212,
          213,
          214,
          215,
          216,
          217,
          218,
          219,
          220,
          221,
          222,
          223,
          224,
          225,
          226,
          227,
          228,
          229,
          230,
          231,
          232,
          233,
          234,
          235,
          236,
          237,
          238,
          239,
          240,
          241,
          242,
          243,
          244,
          245,
          246,
          247,
          248,
          249,
          250,
          251,
          252,
          253,
          254,
          255,
          256,
          257,
          258,
          259,
          260,
          261,
          262,
          263,
          264,
          265,
          266,
          267,
          268,
          269,
          270,
          271,
          272,
          273,
          274,
          275,
          276,
          277,
          278,
          279,
          280,
          281,
          282,
          283,
          284,
          285,
          286,
          287,
          288,
          289,
          290,
          291,
          292,
          293,
          294,
          295,
          296,
          297,
          298,
          299,
          300,
          301,
          302,
          303,
          304,
          305,
          306,
          307,
          308,
          309,
          310,
          311,
          312,
          313,
          314,
          315,
          316,
          317,
          318,
          319,
          320,
          321,
          322,
          323,
          324,
          325,
          326,
          327,
          328,
          329,
          330,
          331,
          332,
          333,
          334,
          335,
          336,
          337,
          338,
          339,
          340,
          341,
          342,
          343,
          344,
          345,
          346,
          347,
          348,
          349,
          350,
          351,
          352,
          353,
          354,
          355,
          356,
          357,
          358,
          359,
          360,
          361,
          362,
          363,
          364,
          365,
          366,
          367,
          368,
          369,
          370,
          371,
          372,
          373,
          374,
          375,
          376,
          377,
          378,
          379,
          380,
          381,
          382,
          383,
          384,
          385,
          386,
          387,
          388,
          389,
          390,
          391,
          392,
          393,
          394,
          395,
          396,
          397,
          398,
          399,
          400,
          401,
          402,
          403,
          404,
          405,
          406,
          407,
          408,
          409,
          410,
          411,
          412,
          413,
          414,
          415,
          416,
          417,
          418,
          419,
          420,
          421,
          422,
          423,
          424,
          425,
          426,
          427,
          428,
          429,
          430,
          431,
          432,
          433,
          434,
          435,
          436,
          437,
          438,
          439,
          440,
          441,
          442,
          443,
          444,
          445,
          446,
          447,
          448,
          449,
          450,
          451,
          452,
          453,
          454,
          455,
          456,
          457,
          458,
          459,
          460,
          461,
          462,
          463,
          464,
          465,
          466,
          467,
          468,
          469,
          470,
          471,
          472,
          473,
          474,
          475,
          476,
          477,
          478,
          479,
          480,
          481,
          482,
          483,
          484,
          485,
          486,
          487,
          488,
          489,
          490,
          491,
          492,
          493,
          494,
          495,
          496,
          497,
          498,
          499,
          500
         ],
         "y": [
          2.000000000000001,
          2,
          2,
          2.0000000000000004,
          1.9999999999999998,
          2.000000000000001,
          2.0000000000000004,
          2.000000000000001,
          2,
          2.000000000000001,
          2,
          2,
          2.0000000000000004,
          2.0000000000000004,
          2.000000000000001,
          2.000000000000001,
          2,
          2,
          2.0000000000000004,
          2.000000000000001,
          2,
          2.0000000000000004,
          1.9999999999999998,
          2.000000000000001,
          2.000000000000001,
          2,
          2.000000000000001,
          2,
          2.000000000000001,
          2,
          2.000000000000001,
          2.0000000000000004,
          1.9999999999999998,
          2,
          1.9999999999999998,
          2.000000000000001,
          2,
          2,
          2.0000000000000004,
          1.9999999999999998,
          2.000000000000001,
          2.000000000000001,
          2.0000000000000004,
          2,
          2,
          2.0000000000000004,
          2.0000000000000004,
          2.000000000000001,
          2.000000000000001,
          2.000000000000001,
          2,
          2.0000000000000004,
          2.000000000000001,
          1.9999999999999996,
          2.000000000000001,
          2,
          2.0000000000000004,
          2,
          2.0000000000000004,
          1.9999999999999998,
          2.0000000000000004,
          2.0000000000000004,
          2.000000000000001,
          2.0000000000000004,
          2,
          2.0000000000000004,
          2.0000000000000004,
          2.0000000000000004,
          2.0000000000000004,
          2,
          2.000000000000001,
          2,
          2.0000000000000004,
          2.0000000000000004,
          2,
          2,
          2,
          2.000000000000001,
          2,
          2.0000000000000013,
          1.9999999999999998,
          2.000000000000001,
          2.0000000000000004,
          2,
          1.9999999999999996,
          2,
          2.0000000000000004,
          2.0000000000000004,
          2.0000000000000004,
          2.000000000000001,
          1.9999999999999998,
          2,
          1.9999999999999996,
          2,
          2.0000000000000004,
          2.0000000000000004,
          1.9999999999999993,
          1.9999999999999998,
          1.9999999999999998,
          2,
          1.9999999999999998,
          1.9999999999999998,
          1.9999999999999993,
          2.000000000000001,
          2.0000000000000004,
          1.9999999999999998,
          2.000000000000001,
          2.000000000000001,
          2,
          2.000000000000001,
          2,
          2.0000000000000004,
          1.9999999999999998,
          2,
          2.000000000000001,
          2.0000000000000004,
          2.0000000000000004,
          2,
          2,
          2,
          1.9999999999999998,
          2,
          1.9999999999999998,
          2.0000000000000004,
          1.9999999999999993,
          2,
          2.0000000000000004,
          2.000000000000001,
          1.9999999999999998,
          2,
          2.0000000000000004,
          2.0000000000000004,
          2,
          1.9999999999999996,
          2,
          1.9999999999999996,
          1.9999999999999998,
          2,
          2,
          2,
          2,
          2,
          2.000000000000001,
          2,
          2,
          2.0000000000000004,
          2.0000000000000004,
          2.0000000000000004,
          2,
          2.000000000000001,
          1.9999999999999998,
          2.0000000000000004,
          2,
          2,
          2,
          1.9999999999999998,
          1.9999999999999998,
          2,
          2,
          2,
          2,
          2,
          2,
          2,
          2,
          2,
          2,
          2.0000000000000004,
          2,
          2,
          2,
          2,
          2,
          2,
          2,
          2,
          2,
          2,
          2,
          2,
          2,
          2,
          2,
          2.000000000000001,
          2.0000000000000004,
          2,
          2,
          2,
          2,
          2,
          1.9999999999999996,
          2,
          2,
          2,
          2,
          2,
          2,
          2,
          2,
          2,
          2,
          2,
          2.0000000000000004,
          2,
          2,
          2,
          2,
          2,
          2,
          2,
          2,
          2,
          1.9999999999999998,
          1.9999999999999996,
          2,
          2.0000000000000004,
          2.0000000000000004,
          1.9999999999999996,
          2,
          2.0000000000000004,
          1.9999999999999991,
          2.0000000000000004,
          2,
          2.0000000000000004,
          1.9999999999999996,
          1.9999999999999998,
          1.9999999999999996,
          1.9999999999999998,
          2.000000000000001,
          2,
          2,
          1.9999999999999993,
          2,
          2,
          1.9999999999999996,
          1.9999999999999996,
          2,
          1.9999999999999996,
          2,
          1.9999999999999996,
          1.9999999999999993,
          2,
          2,
          2,
          2,
          1.9999999999999998,
          2.0000000000000004,
          1.9999999999999996,
          1.9999999999999996,
          1.9999999999999996,
          2.0000000000000004,
          2,
          1.9999999999999996,
          1.9999999999999991,
          2,
          2,
          2,
          2,
          2,
          1.9999999999999998,
          2,
          1.9999999999999998,
          1.9999999999999991,
          2.0000000000000004,
          2,
          1.9999999999999993,
          2,
          1.9999999999999998,
          1.9999999999999998,
          1.9999999999999996,
          2,
          1.9999999999999996,
          2.0000000000000004,
          1.9999999999999996,
          2,
          2,
          1.9999999999999998,
          1.9999999999999998,
          1.9999999999999996,
          2,
          2.0000000000000004,
          2.0000000000000004,
          2.0000000000000004,
          1.9999999999999998,
          2.0000000000000004,
          1.9999999999999996,
          2.0000000000000004,
          2,
          2,
          2,
          2.0000000000000004,
          2,
          2,
          2.000000000000001,
          2,
          2.0000000000000004,
          1.9999999999999996,
          2,
          2.000000000000001,
          2.0000000000000004,
          1.9999999999999993,
          2,
          2.0000000000000013,
          1.9999999999999998,
          2,
          1.9999999999999998,
          2.0000000000000004,
          1.9999999999999998,
          2,
          1.9999999999999991,
          2,
          2,
          2,
          2.000000000000001,
          2,
          2.000000000000001,
          1.9999999999999993,
          2.0000000000000004,
          2,
          1.9999999999999998,
          2.0000000000000004,
          2.0000000000000004,
          1.9999999999999996,
          2,
          2,
          1.9999999999999998,
          1.9999999999999998,
          2.0000000000000004,
          2.0000000000000004,
          1.9999999999999998,
          2,
          1.9999999999999998,
          1.9999999999999998,
          2,
          1.9999999999999998,
          2,
          1.9999999999999996,
          1.9999999999999998,
          2,
          2,
          2,
          2,
          2.000000000000001,
          2,
          1.9999999999999998,
          2.0000000000000004,
          2.0000000000000004,
          2,
          2.0000000000000004,
          2,
          1.9999999999999998,
          2.0000000000000004,
          1.9999999999999998,
          2,
          1.9999999999999996,
          2,
          1.9999999999999998,
          1.9999999999999998,
          2,
          1.9999999999999996,
          2,
          2,
          1.9999999999999996,
          2,
          2.0000000000000004,
          2,
          1.9999999999999996,
          2.0000000000000004,
          1.9999999999999998,
          1.9999999999999993,
          2.0000000000000004,
          2,
          1.9999999999999996,
          2.0000000000000004,
          2.0000000000000004,
          2,
          2,
          2.0000000000000004,
          1.9999999999999998,
          2,
          2,
          2,
          1.9999999999999998,
          2.0000000000000004,
          2,
          2.000000000000001,
          1.9999999999999998,
          1.9999999999999996,
          1.9999999999999998,
          1.9999999999999993,
          2.0000000000000004,
          2,
          2.0000000000000004,
          2,
          2,
          1.9999999999999996,
          2.0000000000000004,
          2.0000000000000004,
          1.9999999999999998,
          1.9999999999999996,
          1.9999999999999998,
          1.9999999999999996,
          2,
          2.0000000000000004,
          2,
          2.0000000000000004,
          1.9999999999999998,
          2.0000000000000004,
          2.0000000000000004,
          1.9999999999999993,
          2.0000000000000004,
          1.9999999999999998,
          2.0000000000000004,
          2.0000000000000004,
          1.9999999999999996,
          1.9999999999999993,
          1.9999999999999996,
          2.0000000000000004,
          2,
          2.0000000000000004,
          2,
          2.0000000000000004,
          1.9999999999999996,
          1.9999999999999996,
          2.0000000000000004,
          2,
          1.9999999999999996,
          2.000000000000001,
          1.9999999999999993,
          2,
          2.0000000000000004,
          1.9999999999999996,
          2.000000000000001,
          2.0000000000000004,
          2.0000000000000004,
          2.0000000000000004,
          1.9999999999999996,
          1.9999999999999996,
          1.9999999999999993,
          1.9999999999999998,
          1.9999999999999993,
          1.9999999999999996,
          2.0000000000000013,
          2,
          1.9999999999999998,
          1.9999999999999998,
          1.9999999999999998,
          1.9999999999999991,
          2,
          2.0000000000000004,
          1.9999999999999998,
          1.9999999999999998,
          1.9999999999999987,
          2.0000000000000004,
          1.9999999999999993,
          2,
          1.999999999999999,
          2.000000000000001,
          2.0000000000000004,
          2,
          1.9999999999999996,
          2.0000000000000004,
          1.9999999999999996,
          1.9999999999999993,
          2.0000000000000004,
          1.9999999999999998,
          1.9999999999999998,
          1.9999999999999998,
          2,
          2.000000000000001,
          1.9999999999999998,
          2.0000000000000004,
          2.0000000000000004,
          2.0000000000000004,
          2.000000000000001,
          2,
          1.9999999999999998,
          1.9999999999999998,
          2,
          2.0000000000000004,
          2,
          2,
          2,
          1.999999999999999,
          2.0000000000000004,
          1.9999999999999996,
          2,
          1.9999999999999998,
          1.9999999999999993,
          2,
          2.0000000000000004,
          2.0000000000000004,
          1.9999999999999998,
          1.9999999999999996,
          2,
          2.0000000000000004,
          1.9999999999999993,
          1.9999999999999998,
          1.9999999999999996,
          2.000000000000001
         ]
        }
       ],
       "frames": [],
       "layout": {
        "height": 510,
        "margin": {
         "b": 50,
         "l": 50,
         "r": 50,
         "t": 60
        },
        "plot_bgcolor": "rgba(0,0,0,0)",
        "showlegend": false,
        "template": {
         "data": {
          "bar": [
           {
            "error_x": {
             "color": "#2a3f5f"
            },
            "error_y": {
             "color": "#2a3f5f"
            },
            "marker": {
             "line": {
              "color": "#E5ECF6",
              "width": 0.5
             }
            },
            "type": "bar"
           }
          ],
          "barpolar": [
           {
            "marker": {
             "line": {
              "color": "#E5ECF6",
              "width": 0.5
             }
            },
            "type": "barpolar"
           }
          ],
          "carpet": [
           {
            "aaxis": {
             "endlinecolor": "#2a3f5f",
             "gridcolor": "white",
             "linecolor": "white",
             "minorgridcolor": "white",
             "startlinecolor": "#2a3f5f"
            },
            "baxis": {
             "endlinecolor": "#2a3f5f",
             "gridcolor": "white",
             "linecolor": "white",
             "minorgridcolor": "white",
             "startlinecolor": "#2a3f5f"
            },
            "type": "carpet"
           }
          ],
          "choropleth": [
           {
            "colorbar": {
             "outlinewidth": 0,
             "ticks": ""
            },
            "type": "choropleth"
           }
          ],
          "contour": [
           {
            "colorbar": {
             "outlinewidth": 0,
             "ticks": ""
            },
            "colorscale": [
             [
              0,
              "#0d0887"
             ],
             [
              0.1111111111111111,
              "#46039f"
             ],
             [
              0.2222222222222222,
              "#7201a8"
             ],
             [
              0.3333333333333333,
              "#9c179e"
             ],
             [
              0.4444444444444444,
              "#bd3786"
             ],
             [
              0.5555555555555556,
              "#d8576b"
             ],
             [
              0.6666666666666666,
              "#ed7953"
             ],
             [
              0.7777777777777778,
              "#fb9f3a"
             ],
             [
              0.8888888888888888,
              "#fdca26"
             ],
             [
              1,
              "#f0f921"
             ]
            ],
            "type": "contour"
           }
          ],
          "contourcarpet": [
           {
            "colorbar": {
             "outlinewidth": 0,
             "ticks": ""
            },
            "type": "contourcarpet"
           }
          ],
          "heatmap": [
           {
            "colorbar": {
             "outlinewidth": 0,
             "ticks": ""
            },
            "colorscale": [
             [
              0,
              "#0d0887"
             ],
             [
              0.1111111111111111,
              "#46039f"
             ],
             [
              0.2222222222222222,
              "#7201a8"
             ],
             [
              0.3333333333333333,
              "#9c179e"
             ],
             [
              0.4444444444444444,
              "#bd3786"
             ],
             [
              0.5555555555555556,
              "#d8576b"
             ],
             [
              0.6666666666666666,
              "#ed7953"
             ],
             [
              0.7777777777777778,
              "#fb9f3a"
             ],
             [
              0.8888888888888888,
              "#fdca26"
             ],
             [
              1,
              "#f0f921"
             ]
            ],
            "type": "heatmap"
           }
          ],
          "heatmapgl": [
           {
            "colorbar": {
             "outlinewidth": 0,
             "ticks": ""
            },
            "colorscale": [
             [
              0,
              "#0d0887"
             ],
             [
              0.1111111111111111,
              "#46039f"
             ],
             [
              0.2222222222222222,
              "#7201a8"
             ],
             [
              0.3333333333333333,
              "#9c179e"
             ],
             [
              0.4444444444444444,
              "#bd3786"
             ],
             [
              0.5555555555555556,
              "#d8576b"
             ],
             [
              0.6666666666666666,
              "#ed7953"
             ],
             [
              0.7777777777777778,
              "#fb9f3a"
             ],
             [
              0.8888888888888888,
              "#fdca26"
             ],
             [
              1,
              "#f0f921"
             ]
            ],
            "type": "heatmapgl"
           }
          ],
          "histogram": [
           {
            "marker": {
             "colorbar": {
              "outlinewidth": 0,
              "ticks": ""
             }
            },
            "type": "histogram"
           }
          ],
          "histogram2d": [
           {
            "colorbar": {
             "outlinewidth": 0,
             "ticks": ""
            },
            "colorscale": [
             [
              0,
              "#0d0887"
             ],
             [
              0.1111111111111111,
              "#46039f"
             ],
             [
              0.2222222222222222,
              "#7201a8"
             ],
             [
              0.3333333333333333,
              "#9c179e"
             ],
             [
              0.4444444444444444,
              "#bd3786"
             ],
             [
              0.5555555555555556,
              "#d8576b"
             ],
             [
              0.6666666666666666,
              "#ed7953"
             ],
             [
              0.7777777777777778,
              "#fb9f3a"
             ],
             [
              0.8888888888888888,
              "#fdca26"
             ],
             [
              1,
              "#f0f921"
             ]
            ],
            "type": "histogram2d"
           }
          ],
          "histogram2dcontour": [
           {
            "colorbar": {
             "outlinewidth": 0,
             "ticks": ""
            },
            "colorscale": [
             [
              0,
              "#0d0887"
             ],
             [
              0.1111111111111111,
              "#46039f"
             ],
             [
              0.2222222222222222,
              "#7201a8"
             ],
             [
              0.3333333333333333,
              "#9c179e"
             ],
             [
              0.4444444444444444,
              "#bd3786"
             ],
             [
              0.5555555555555556,
              "#d8576b"
             ],
             [
              0.6666666666666666,
              "#ed7953"
             ],
             [
              0.7777777777777778,
              "#fb9f3a"
             ],
             [
              0.8888888888888888,
              "#fdca26"
             ],
             [
              1,
              "#f0f921"
             ]
            ],
            "type": "histogram2dcontour"
           }
          ],
          "mesh3d": [
           {
            "colorbar": {
             "outlinewidth": 0,
             "ticks": ""
            },
            "type": "mesh3d"
           }
          ],
          "parcoords": [
           {
            "line": {
             "colorbar": {
              "outlinewidth": 0,
              "ticks": ""
             }
            },
            "type": "parcoords"
           }
          ],
          "pie": [
           {
            "automargin": true,
            "type": "pie"
           }
          ],
          "scatter": [
           {
            "marker": {
             "colorbar": {
              "outlinewidth": 0,
              "ticks": ""
             }
            },
            "type": "scatter"
           }
          ],
          "scatter3d": [
           {
            "line": {
             "colorbar": {
              "outlinewidth": 0,
              "ticks": ""
             }
            },
            "marker": {
             "colorbar": {
              "outlinewidth": 0,
              "ticks": ""
             }
            },
            "type": "scatter3d"
           }
          ],
          "scattercarpet": [
           {
            "marker": {
             "colorbar": {
              "outlinewidth": 0,
              "ticks": ""
             }
            },
            "type": "scattercarpet"
           }
          ],
          "scattergeo": [
           {
            "marker": {
             "colorbar": {
              "outlinewidth": 0,
              "ticks": ""
             }
            },
            "type": "scattergeo"
           }
          ],
          "scattergl": [
           {
            "marker": {
             "colorbar": {
              "outlinewidth": 0,
              "ticks": ""
             }
            },
            "type": "scattergl"
           }
          ],
          "scattermapbox": [
           {
            "marker": {
             "colorbar": {
              "outlinewidth": 0,
              "ticks": ""
             }
            },
            "type": "scattermapbox"
           }
          ],
          "scatterpolar": [
           {
            "marker": {
             "colorbar": {
              "outlinewidth": 0,
              "ticks": ""
             }
            },
            "type": "scatterpolar"
           }
          ],
          "scatterpolargl": [
           {
            "marker": {
             "colorbar": {
              "outlinewidth": 0,
              "ticks": ""
             }
            },
            "type": "scatterpolargl"
           }
          ],
          "scatterternary": [
           {
            "marker": {
             "colorbar": {
              "outlinewidth": 0,
              "ticks": ""
             }
            },
            "type": "scatterternary"
           }
          ],
          "surface": [
           {
            "colorbar": {
             "outlinewidth": 0,
             "ticks": ""
            },
            "colorscale": [
             [
              0,
              "#0d0887"
             ],
             [
              0.1111111111111111,
              "#46039f"
             ],
             [
              0.2222222222222222,
              "#7201a8"
             ],
             [
              0.3333333333333333,
              "#9c179e"
             ],
             [
              0.4444444444444444,
              "#bd3786"
             ],
             [
              0.5555555555555556,
              "#d8576b"
             ],
             [
              0.6666666666666666,
              "#ed7953"
             ],
             [
              0.7777777777777778,
              "#fb9f3a"
             ],
             [
              0.8888888888888888,
              "#fdca26"
             ],
             [
              1,
              "#f0f921"
             ]
            ],
            "type": "surface"
           }
          ],
          "table": [
           {
            "cells": {
             "fill": {
              "color": "#EBF0F8"
             },
             "line": {
              "color": "white"
             }
            },
            "header": {
             "fill": {
              "color": "#C8D4E3"
             },
             "line": {
              "color": "white"
             }
            },
            "type": "table"
           }
          ]
         },
         "layout": {
          "annotationdefaults": {
           "arrowcolor": "#2a3f5f",
           "arrowhead": 0,
           "arrowwidth": 1
          },
          "autotypenumbers": "strict",
          "coloraxis": {
           "colorbar": {
            "outlinewidth": 0,
            "ticks": ""
           }
          },
          "colorscale": {
           "diverging": [
            [
             0,
             "#8e0152"
            ],
            [
             0.1,
             "#c51b7d"
            ],
            [
             0.2,
             "#de77ae"
            ],
            [
             0.3,
             "#f1b6da"
            ],
            [
             0.4,
             "#fde0ef"
            ],
            [
             0.5,
             "#f7f7f7"
            ],
            [
             0.6,
             "#e6f5d0"
            ],
            [
             0.7,
             "#b8e186"
            ],
            [
             0.8,
             "#7fbc41"
            ],
            [
             0.9,
             "#4d9221"
            ],
            [
             1,
             "#276419"
            ]
           ],
           "sequential": [
            [
             0,
             "#0d0887"
            ],
            [
             0.1111111111111111,
             "#46039f"
            ],
            [
             0.2222222222222222,
             "#7201a8"
            ],
            [
             0.3333333333333333,
             "#9c179e"
            ],
            [
             0.4444444444444444,
             "#bd3786"
            ],
            [
             0.5555555555555556,
             "#d8576b"
            ],
            [
             0.6666666666666666,
             "#ed7953"
            ],
            [
             0.7777777777777778,
             "#fb9f3a"
            ],
            [
             0.8888888888888888,
             "#fdca26"
            ],
            [
             1,
             "#f0f921"
            ]
           ],
           "sequentialminus": [
            [
             0,
             "#0d0887"
            ],
            [
             0.1111111111111111,
             "#46039f"
            ],
            [
             0.2222222222222222,
             "#7201a8"
            ],
            [
             0.3333333333333333,
             "#9c179e"
            ],
            [
             0.4444444444444444,
             "#bd3786"
            ],
            [
             0.5555555555555556,
             "#d8576b"
            ],
            [
             0.6666666666666666,
             "#ed7953"
            ],
            [
             0.7777777777777778,
             "#fb9f3a"
            ],
            [
             0.8888888888888888,
             "#fdca26"
            ],
            [
             1,
             "#f0f921"
            ]
           ]
          },
          "colorway": [
           "#636efa",
           "#EF553B",
           "#00cc96",
           "#ab63fa",
           "#FFA15A",
           "#19d3f3",
           "#FF6692",
           "#B6E880",
           "#FF97FF",
           "#FECB52"
          ],
          "font": {
           "color": "#2a3f5f"
          },
          "geo": {
           "bgcolor": "white",
           "lakecolor": "white",
           "landcolor": "#E5ECF6",
           "showlakes": true,
           "showland": true,
           "subunitcolor": "white"
          },
          "hoverlabel": {
           "align": "left"
          },
          "hovermode": "closest",
          "mapbox": {
           "style": "light"
          },
          "paper_bgcolor": "white",
          "plot_bgcolor": "#E5ECF6",
          "polar": {
           "angularaxis": {
            "gridcolor": "white",
            "linecolor": "white",
            "ticks": ""
           },
           "bgcolor": "#E5ECF6",
           "radialaxis": {
            "gridcolor": "white",
            "linecolor": "white",
            "ticks": ""
           }
          },
          "scene": {
           "xaxis": {
            "backgroundcolor": "#E5ECF6",
            "gridcolor": "white",
            "gridwidth": 2,
            "linecolor": "white",
            "showbackground": true,
            "ticks": "",
            "zerolinecolor": "white"
           },
           "yaxis": {
            "backgroundcolor": "#E5ECF6",
            "gridcolor": "white",
            "gridwidth": 2,
            "linecolor": "white",
            "showbackground": true,
            "ticks": "",
            "zerolinecolor": "white"
           },
           "zaxis": {
            "backgroundcolor": "#E5ECF6",
            "gridcolor": "white",
            "gridwidth": 2,
            "linecolor": "white",
            "showbackground": true,
            "ticks": "",
            "zerolinecolor": "white"
           }
          },
          "shapedefaults": {
           "line": {
            "color": "#2a3f5f"
           }
          },
          "ternary": {
           "aaxis": {
            "gridcolor": "white",
            "linecolor": "white",
            "ticks": ""
           },
           "baxis": {
            "gridcolor": "white",
            "linecolor": "white",
            "ticks": ""
           },
           "bgcolor": "#E5ECF6",
           "caxis": {
            "gridcolor": "white",
            "linecolor": "white",
            "ticks": ""
           }
          },
          "title": {
           "x": 0.05
          },
          "xaxis": {
           "automargin": true,
           "gridcolor": "white",
           "linecolor": "white",
           "ticks": "",
           "title": {
            "standoff": 15
           },
           "zerolinecolor": "white",
           "zerolinewidth": 2
          },
          "yaxis": {
           "automargin": true,
           "gridcolor": "white",
           "linecolor": "white",
           "ticks": "",
           "title": {
            "standoff": 15
           },
           "zerolinecolor": "white",
           "zerolinewidth": 2
          }
         }
        },
        "title": "Nearest neighbor model with nearest spin-orbit coupling",
        "width": 510,
        "xaxis": {
         "linecolor": "black",
         "linewidth": 5,
         "mirror": true,
         "showgrid": true,
         "showline": true,
         "showticklabels": false
        },
        "yaxis": {
         "linecolor": "black",
         "linewidth": 5,
         "mirror": true,
         "showgrid": true,
         "showline": true,
         "showticklabels": true
        }
       }
      },
      "image/png": "[encoded data removed]",
      "image/svg+xml": [
       "<svg class=\"main-svg\" xmlns=\"http://www.w3.org/2000/svg\" xmlns:xlink=\"http://www.w3.org/1999/xlink\" width=\"700\" height=\"500\" viewBox=\"0 0 700 500\" style=\"\"><rect x=\"0\" y=\"0\" width=\"700\" height=\"500\" style=\"fill: rgb(255, 255, 255); fill-opacity: 1;\"/><defs id=\"defs-ff16bc\"><g class=\"clips\"><clipPath id=\"clipff16bcxyplot\" class=\"plotclip\"><rect width=\"600\" height=\"390\"/></clipPath><clipPath class=\"axesclip\" id=\"clipff16bcx\"><rect x=\"50\" y=\"0\" width=\"600\" height=\"500\"/></clipPath><clipPath class=\"axesclip\" id=\"clipff16bcy\"><rect x=\"0\" y=\"60\" width=\"700\" height=\"390\"/></clipPath><clipPath class=\"axesclip\" id=\"clipff16bcxy\"><rect x=\"50\" y=\"60\" width=\"600\" height=\"390\"/></clipPath></g><g class=\"gradients\"/><g class=\"patterns\"/></defs><g class=\"bglayer\"><rect class=\"bg\" x=\"50\" y=\"60\" width=\"600\" height=\"390\" style=\"fill: rgb(0, 0, 0); fill-opacity: 0; stroke-width: 0;\"/></g><g class=\"layer-below\"><g class=\"imagelayer\"/><g class=\"shapelayer\"/></g><g class=\"cartesianlayer\"><g class=\"subplot xy\"><g class=\"layer-subplot\"><g class=\"shapelayer\"/><g class=\"imagelayer\"/></g><g class=\"gridlayer\"><g class=\"x\"><path class=\"xgrid crisp\" transform=\"translate(169.04000000000002,0)\" d=\"M0,60v390\" style=\"stroke: rgb(255, 255, 255); stroke-opacity: 1; stroke-width: 1px;\"/><path class=\"xgrid crisp\" transform=\"translate(289.28,0)\" d=\"M0,60v390\" style=\"stroke: rgb(255, 255, 255); stroke-opacity: 1; stroke-width: 1px;\"/><path class=\"xgrid crisp\" transform=\"translate(409.52,0)\" d=\"M0,60v390\" style=\"stroke: rgb(255, 255, 255); stroke-opacity: 1; stroke-width: 1px;\"/><path class=\"xgrid crisp\" transform=\"translate(529.76,0)\" d=\"M0,60v390\" style=\"stroke: rgb(255, 255, 255); stroke-opacity: 1; stroke-width: 1px;\"/></g><g class=\"y\"><path class=\"ygrid crisp\" transform=\"translate(0,430.5)\" d=\"M50,0h600\" style=\"stroke: rgb(255, 255, 255); stroke-opacity: 1; stroke-width: 1px;\"/><path class=\"ygrid crisp\" transform=\"translate(0,372)\" d=\"M50,0h600\" style=\"stroke: rgb(255, 255, 255); stroke-opacity: 1; stroke-width: 1px;\"/><path class=\"ygrid crisp\" transform=\"translate(0,313.5)\" d=\"M50,0h600\" style=\"stroke: rgb(255, 255, 255); stroke-opacity: 1; stroke-width: 1px;\"/><path class=\"ygrid crisp\" transform=\"translate(0,255)\" d=\"M50,0h600\" style=\"stroke: rgb(255, 255, 255); stroke-opacity: 1; stroke-width: 1px;\"/><path class=\"ygrid crisp\" transform=\"translate(0,138)\" d=\"M50,0h600\" style=\"stroke: rgb(255, 255, 255); stroke-opacity: 1; stroke-width: 1px;\"/><path class=\"ygrid crisp\" transform=\"translate(0,79.5)\" d=\"M50,0h600\" style=\"stroke: rgb(255, 255, 255); stroke-opacity: 1; stroke-width: 1px;\"/></g></g><g class=\"zerolinelayer\"><path class=\"yzl zl crisp\" transform=\"translate(0,196.5)\" d=\"M50,0h600\" style=\"stroke: rgb(255, 255, 255); stroke-opacity: 1; stroke-width: 2px;\"/></g><path class=\"xlines-below\"/><path class=\"ylines-below\"/><g class=\"overlines-below\"/><g class=\"xaxislayer-below\"/><g class=\"yaxislayer-below\"/><g class=\"overaxes-below\"/><g class=\"plot\" transform=\"translate(50,60)\" clip-path=\"url(#clipff16bcxyplot)\"><g class=\"scatterlayer mlayer\"><g class=\"trace scatter trace60338c\" style=\"stroke-miterlimit: 2; opacity: 1;\"><g class=\"fills\"/><g class=\"errorbars\"/><g class=\"lines\"><path class=\"js-line\" d=\"M0,370.5L16.83,369.37L18.04,369.21L34.87,365.69L36.07,365.35L52.91,359.52L54.11,359.02L72.14,350.36L73.35,349.7L93.79,337.15L94.99,336.33L115.43,321.28L116.63,320.33L140.68,300.08L141.88,299.01L171.94,271.14L173.15,269.99L244.09,203.22L245.29,202.18L253.71,195L254.91,196.01L278.96,214.79L280.16,215.65L299.4,228.34L300.6,229.06L319.84,239.25L321.04,239.8L337.88,246.44L339.08,246.84L355.91,251.18L357.11,251.41L373.95,253.35L375.15,253.41L389.58,254.59L390.78,254.88L401.6,258.8L402.81,259.37L414.83,266.3L416.03,267.1L432.87,279.53L434.07,280.49L501.4,334.05L502.61,334.88L523.05,347.76L524.25,348.44L543.49,358.04L544.69,358.55L561.52,364.66L562.73,365.02L578.36,368.64L579.56,368.84L595.19,370.41L596.39,370.45L600,370.5\" style=\"vector-effect: non-scaling-stroke; fill: none; stroke: rgb(128, 0, 128); stroke-opacity: 1; stroke-width: 4px; opacity: 1;\"/></g><g class=\"points\"/><g class=\"text\"/></g><g class=\"trace scatter tracec0611f\" style=\"stroke-miterlimit: 2; opacity: 1;\"><g class=\"fills\"/><g class=\"errorbars\"/><g class=\"lines\"><path class=\"js-line\" d=\"M0,19.5L16.83,20.63L18.04,20.79L34.87,24.31L36.07,24.65L52.91,30.48L54.11,30.98L72.14,39.64L73.35,40.3L93.79,52.85L94.99,53.67L115.43,68.72L116.63,69.67L140.68,89.92L141.88,90.99L171.94,118.86L173.15,120.01L244.09,186.78L245.29,187.82L253.71,195L254.91,193.99L278.96,175.21L280.16,174.35L299.4,161.66L300.6,160.94L319.84,150.75L321.04,150.2L337.88,143.56L339.08,143.16L355.91,138.82L357.11,138.59L373.95,136.65L375.15,136.59L389.58,135.41L390.78,135.12L401.6,131.2L402.81,130.63L414.83,123.7L416.03,122.9L432.87,110.47L434.07,109.51L501.4,55.95L502.61,55.12L523.05,42.24L524.25,41.56L543.49,31.96L544.69,31.45L561.52,25.34L562.73,24.98L578.36,21.36L579.56,21.16L595.19,19.59L596.39,19.55L600,19.5\" style=\"vector-effect: non-scaling-stroke; fill: none; stroke: rgb(128, 0, 128); stroke-opacity: 1; stroke-width: 4px; opacity: 1;\"/></g><g class=\"points\"/><g class=\"text\"/></g><g class=\"trace scatter trace829f9d\" style=\"stroke-miterlimit: 2; opacity: 1;\"><g class=\"fills\"/><g class=\"errorbars\"/><g class=\"lines\"><path class=\"js-line\" d=\"M0,19.5L600,19.5\" style=\"vector-effect: non-scaling-stroke; fill: none; stroke: rgb(128, 0, 128); stroke-opacity: 1; stroke-width: 4px; opacity: 1;\"/></g><g class=\"points\"/><g class=\"text\"/></g></g></g><g class=\"overplot\"/><path class=\"xlines-above crisp\" d=\"M45,452.5H655M45,57.5H655\" style=\"fill: none; stroke-width: 5px; stroke: rgb(0, 0, 0); stroke-opacity: 1;\"/><path class=\"ylines-above crisp\" d=\"M47.5,60V450M652.5,60V450\" style=\"fill: none; stroke-width: 5px; stroke: rgb(0, 0, 0); stroke-opacity: 1;\"/><g class=\"overlines-above\"/><g class=\"xaxislayer-above\"/><g class=\"yaxislayer-above\"><g class=\"ytick\"><text text-anchor=\"end\" x=\"42.6\" y=\"4.199999999999999\" transform=\"translate(0,430.5)\" style=\"font-family: 'Open Sans', verdana, arial, sans-serif; font-size: 12px; fill: rgb(42, 63, 95); fill-opacity: 1; white-space: pre; opacity: 1;\">−4</text></g><g class=\"ytick\"><text text-anchor=\"end\" x=\"42.6\" y=\"4.199999999999999\" style=\"font-family: 'Open Sans', verdana, arial, sans-serif; font-size: 12px; fill: rgb(42, 63, 95); fill-opacity: 1; white-space: pre; opacity: 1;\" transform=\"translate(0,372)\">−3</text></g><g class=\"ytick\"><text text-anchor=\"end\" x=\"42.6\" y=\"4.199999999999999\" style=\"font-family: 'Open Sans', verdana, arial, sans-serif; font-size: 12px; fill: rgb(42, 63, 95); fill-opacity: 1; white-space: pre; opacity: 1;\" transform=\"translate(0,313.5)\">−2</text></g><g class=\"ytick\"><text text-anchor=\"end\" x=\"42.6\" y=\"4.199999999999999\" style=\"font-family: 'Open Sans', verdana, arial, sans-serif; font-size: 12px; fill: rgb(42, 63, 95); fill-opacity: 1; white-space: pre; opacity: 1;\" transform=\"translate(0,255)\">−1</text></g><g class=\"ytick\"><text text-anchor=\"end\" x=\"42.6\" y=\"4.199999999999999\" style=\"font-family: 'Open Sans', verdana, arial, sans-serif; font-size: 12px; fill: rgb(42, 63, 95); fill-opacity: 1; white-space: pre; opacity: 1;\" transform=\"translate(0,196.5)\">0</text></g><g class=\"ytick\"><text text-anchor=\"end\" x=\"42.6\" y=\"4.199999999999999\" style=\"font-family: 'Open Sans', verdana, arial, sans-serif; font-size: 12px; fill: rgb(42, 63, 95); fill-opacity: 1; white-space: pre; opacity: 1;\" transform=\"translate(0,138)\">1</text></g><g class=\"ytick\"><text text-anchor=\"end\" x=\"42.6\" y=\"4.199999999999999\" style=\"font-family: 'Open Sans', verdana, arial, sans-serif; font-size: 12px; fill: rgb(42, 63, 95); fill-opacity: 1; white-space: pre; opacity: 1;\" transform=\"translate(0,79.5)\">2</text></g></g><g class=\"overaxes-above\"/></g></g><g class=\"polarlayer\"/><g class=\"ternarylayer\"/><g class=\"geolayer\"/><g class=\"funnelarealayer\"/><g class=\"pielayer\"/><g class=\"iciclelayer\"/><g class=\"treemaplayer\"/><g class=\"sunburstlayer\"/><g class=\"glimages\"/><defs id=\"topdefs-ff16bc\"><g class=\"clips\"/></defs><g class=\"layer-above\"><g class=\"imagelayer\"/><g class=\"shapelayer\"/></g><g class=\"infolayer\"><g class=\"g-gtitle\"><text class=\"gtitle\" x=\"35\" y=\"30\" text-anchor=\"start\" dy=\"0em\" style=\"font-family: 'Open Sans', verdana, arial, sans-serif; font-size: 17px; fill: rgb(42, 63, 95); opacity: 1; font-weight: normal; white-space: pre;\">Nearest neighbor model with nearest spin-orbit coupling</text></g><g class=\"g-xtitle\"/><g class=\"g-ytitle\"/></g></svg>"
      ],
      "text/html": [
       "<div\n",
       "    class=\"webio-mountpoint\"\n",
       "    data-webio-mountpoint=\"2678741311602012313\"\n",
       ">\n",
       "    <script>\n",
       "    (function(){\n",
       "    // Some integrations (namely, IJulia/Jupyter) use an alternate render pathway than\n",
       "    // just putting the html on the page. If WebIO isn't defined, then it's pretty likely\n",
       "    // that we're in one of those situations and the integration just isn't installed\n",
       "    // correctly.\n",
       "    if (typeof window.WebIO === \"undefined\") {\n",
       "        document\n",
       "            .querySelector('[data-webio-mountpoint=\"2678741311602012313\"]')\n",
       "            .innerHTML = (\n",
       "                '<div style=\"padding: 1em; background-color: #f8d6da; border: 1px solid #f5c6cb; font-weight: bold;\">' +\n",
       "                '<p><strong>WebIO not detected.</strong></p>' +\n",
       "                '<p>Please read ' +\n",
       "                '<a href=\"https://juliagizmos.github.io/WebIO.jl/latest/troubleshooting/not-detected/\" target=\"_blank\">the troubleshooting guide</a> ' +\n",
       "                'for more information on how to resolve this issue.</p>' +\n",
       "                '<p><a href=\"https://juliagizmos.github.io/WebIO.jl/latest/troubleshooting/not-detected/\" target=\"_blank\">https://juliagizmos.github.io/WebIO.jl/latest/troubleshooting/not-detected/</a></p>' +\n",
       "                '</div>'\n",
       "            );\n",
       "        return;\n",
       "    }\n",
       "    WebIO.mount(\n",
       "        document.querySelector('[data-webio-mountpoint=\"2678741311602012313\"]'),\n",
       "        {\"props\":{},\"nodeType\":\"Scope\",\"type\":\"node\",\"instanceArgs\":{\"imports\":{\"data\":[{\"name\":\"Plotly\",\"type\":\"js\",\"url\":\"\\/assetserver\\/b267c3137400db01c304fe886fe6f707be7fdb37-plotly.min.js\"},{\"name\":null,\"type\":\"js\",\"url\":\"\\/assetserver\\/020f2e8a4619f2ae880fff9315e6547eef1aff0b-plotly_webio.bundle.js\"}],\"type\":\"async_block\"},\"id\":\"4976188039130374911\",\"handlers\":{\"_toImage\":[\"(function (options){return this.Plotly.toImage(this.plotElem,options).then((function (data){return WebIO.setval({\\\"name\\\":\\\"image\\\",\\\"scope\\\":\\\"4976188039130374911\\\",\\\"id\\\":\\\"167928\\\",\\\"type\\\":\\\"observable\\\"},data)}))})\"],\"__get_gd_contents\":[\"(function (prop){prop==\\\"data\\\" ? (WebIO.setval({\\\"name\\\":\\\"__gd_contents\\\",\\\"scope\\\":\\\"4976188039130374911\\\",\\\"id\\\":\\\"167929\\\",\\\"type\\\":\\\"observable\\\"},this.plotElem.data)) : undefined; return prop==\\\"layout\\\" ? (WebIO.setval({\\\"name\\\":\\\"__gd_contents\\\",\\\"scope\\\":\\\"4976188039130374911\\\",\\\"id\\\":\\\"167929\\\",\\\"type\\\":\\\"observable\\\"},this.plotElem.layout)) : undefined})\"],\"_downloadImage\":[\"(function (options){return this.Plotly.downloadImage(this.plotElem,options)})\"],\"_commands\":[\"(function (args){var fn=args.shift(); var elem=this.plotElem; var Plotly=this.Plotly; args.unshift(elem); return Plotly[fn].apply(this,args)})\"]},\"systemjs_options\":null,\"mount_callbacks\":[\"function () {\\n    var handler = ((function (Plotly,PlotlyWebIO){PlotlyWebIO.init(WebIO); var gd=this.dom.querySelector(\\\"#plot-020879dc-ba8a-4717-994b-c42d953c21a8\\\"); this.plotElem=gd; this.Plotly=Plotly; (window.Blink!==undefined) ? (gd.style.width=\\\"100%\\\", gd.style.height=\\\"100vh\\\", gd.style.marginLeft=\\\"0%\\\", gd.style.marginTop=\\\"0vh\\\") : undefined; window.onresize=(function (){return Plotly.Plots.resize(gd)}); Plotly.newPlot(gd,[{\\\"mode\\\":\\\"lines\\\",\\\"line\\\":{\\\"color\\\":\\\"purple\\\",\\\"width\\\":4},\\\"y\\\":[-3.9999999999999996,-3.9999014744666948,-3.9996059075740593,-3.9991133284429807,-3.9984237856050786,-3.9975373469979294,-3.996454099958371,-3.9951741512138943,-3.993697626872134,-3.9920246724084345,-3.9901554526515293,-3.9880901517672913,-3.9858289732405914,-3.98337213985525,-3.9807198936720853,-3.9778724960050695,-3.9748302273955765,-3.97159338758474,-3.9681622954839297,-3.964537289143327,-3.960718725718613,-3.9567069814357865,-3.952502451554092,-3.9481055503270763,-3.943516710961781,-3.9387363855760515,-3.9337650451539927,-3.928603179499575,-3.9232512971883606,-3.9177099255174133,-3.9119796104533275,-3.906060916578454,-3.8999544270352624,-3.893660743468891,-3.8871804859678702,-3.880514293003025,-3.873662821364575,-3.8666267460974155,-3.859406760434614,-3.85200357572911,-3.8444179213836227,-3.8366505447787946,-3.828702211199547,-3.8205737037596834,-3.8122658233247364,-3.803779388433055,-3.7951152352151625,-3.7862742173113766,-3.777257205787701,-3.768065089050003,-3.75869877275649,-3.7491591797284674,-3.7394472498594244,-3.729563940022435,-3.7195102239758677,-3.70928709226746,-3.698895552136715,-3.688336627415665,-3.6776113584280012,-3.6667208018865685,-3.6556660307892583,-3.64444813431329,-3.633068217707895,-3.6215274021854276,-3.60982682481089,-3.5979676383899086,-3.5859510113551494,-3.5737781276512024,-3.5614501866179236,-3.548968402872278,-3.5363340061886674,-3.5235482413777612,-3.5106123681638577,-3.4975276610607624,-3.484295409246222,-3.470916916434904,-3.4573935007499452,-3.44372649459309,-3.4299172445134083,-3.415967111074627,-3.4018774687210867,-3.3876497056423105,-3.3732852236362447,-3.3587854379711404,-3.344151777246113,-3.3293856832503885,-3.314488610821254,-3.299462027700714,-3.2843074143908852,-3.269026264008125,-3.253620082135927,-3.2380903866765722,-3.22243870770159,-3.206666587300999,-3.190775579431374,-3.1747672497627364,-3.1586431755243067,-3.1424049453490985,-3.126054159117399,-3.109592427799142,-3.0930213732951852,-3.0763426282775095,-3.0595578360283637,-3.0426686502783555,-3.0256767350435183,-3.0085837644613616,-2.991391422625929,-2.9741014034218676,-2.956715410357541,-2.939235156397186,-2.921662363792149,-2.903998763911192,-2.886246097069913,-2.8684061123592812,-2.850480567473303,-2.8324712285358493,-2.814379869926642,-2.7962082741064376,-2.7779582314414046,-2.7596315400267297,-2.7412300055094576,-2.722755440910591,-2.7042096664464603,-2.685594509349383,-2.6669118036876425,-2.648163390184775,-2.62935111603822,-2.610476834737322,-2.5915424058807117,-2.5725496949930875,-2.553500573341422,-2.5343969177505823,-2.5152406104184246,-2.4960335387303454,-2.4767775950733246,-2.4574746766494817,-2.4381266852891477,-2.4187355272634914,-2.399303113096697,-2.379831357377734,-2.36032217857172,-2.3407774988309002,-2.321199243805271,-2.301589342452846,-2.281949726849618,-2.2622823319991863,-2.242589095642119,-2.2228719580650287,-2.2031328619094115,-2.183373751980242,-2.163596575054365,-2.1438032796886843,-2.123995816028181,-2.104176135613776,-2.0843461911900523,-2.0645079365128582,-2.044663326156817,-2.0248143153227467,-2.004962859645027,-1.9851109149989132,-1.96526043730784,-1.9454133823507078,-1.9255717055691908,-1.905737361875075,-1.8859123054576514,-1.8660984895911765,-1.846297866442425,-1.8265123868783526,-1.8067440002738846,-1.7869946543198532,-1.767266294831103,-1.7475608655547727,-1.7278803079787897,-1.7082265611405871,-1.6886015614360521,-1.6690072424287459,-1.6494455346594006,-1.6299183654557055,-1.6104276587424202,-1.5909753348518192,-1.5715633103344855,-1.5521934977704896,-1.5328678055809426,-1.5135881378399756,-1.4943563940871347,-1.475174469140227,-1.4560442529086406,-1.4369676302071306,-1.4179464805701225,-1.3989826780665284,-1.380078091115103,-1.3612345823003587,-1.3424540081890501,-1.3237382191472578,-1.3050890591580786,-1.2865083656399434,-1.267997969265594,-1.2495596937817028,-1.2311953558291946,-1.2129067647642617,-1.194695722480092,-1.1765640232293375,-1.1585134534473371,-1.140545791576105,-1.1226628078891094,-1.1048662643168556,-1.0871579142732877,-1.0695395024830412,-1.0520127648095317,-1.0345794280839358,-1.0172412099350518,-1.0000001813799306,-1.0172241653625076,-1.0343472421611226,-1.0513674365426187,-1.068283055575594,-1.0850924167304852,-1.1017938480468008,-1.1183856882994119,-1.1348662871637774,-1.1512340053800985,-1.1674872149163686,-1.1836242991303039,-1.1996436529301437,-1.2155436829343107,-1.2313228076298879,-1.2469794575299302,-1.262512075329576,-1.277919116060943,-1.2931990472468042,-1.308350349053013,-1.3233715144396772,-1.338261049311058,-1.3530174726641842,-1.3676393167361554,-1.3821251271501414,-1.3964734630600397,-1.4106828972937888,-1.4247520164953316,-1.4386794212651859,-1.4524637262996427,-1.4661035605285584,-1.4795975672517248,-1.4929444042738171,-1.5061427440378998,-1.5191912737574684,-1.5320886955470296,-1.5448337265511956,-1.557425099072288,-1.5698615606964266,-1.5821418744181028,-1.5942648187632231,-1.6062291879105983,-1.6180337918118886,-1.6296774563099672,-1.6411590232557118,-1.652477350623201,-1.663631312623307,-1.6746197998156724,-1.6854417192190625,-1.6960959944200809,-1.7065815656802337,-1.71689739004134,-1.727042441429269,-1.7370157107560003,-1.7468162060199939,-1.7564429524048601,-1.7658949923763212,-1.7751713857774534,-1.7842712099222018,-1.7931935596871527,-1.801937547601566,-1.8105023039356478,-1.8188869767870595,-1.8270907321656498,-1.835112754076412,-1.842952244600647,-1.8506084239753287,-1.858080530670663,-1.8653678214658358,-1.8724695715229371,-1.879385074459059,-1.8861136424165548,-1.8926546061314589,-1.8990073150000568,-1.9051711371435949,-1.9111454594711341,-1.9169296877405309,-1.9225232466175417,-1.9279255797330528,-1.9331361497384187,-1.9381544383589084,-1.9429799464452586,-1.9476121940233198,-1.9520507203418,-1.9562950839180933,-1.9603448625821889,-1.964199653518667,-1.9678590733067647,-1.9713227579585098,-1.974590362954929,-1.9776615632803156,-1.9805360534545544,-1.9832135475635098,-1.9856937792874638,-1.987976501927604,-1.9900614884305643,-1.9919485314110084,-1.993637443172255,-1.995128055724951,-1.9964202208037782,-1.9975138098822016,-1.9984087141852545,-1.999104844700354,-1.9996021321861592,-1.9999005271794572,-2.000000000000081,-2.0002946763315284,-2.001178067733399,-2.0026483582879164,-2.0047025392811113,-2.0073364355015166,-2.010544741287265,-2.014321065585352,-2.0186579851239315,-2.0235471046672275,-2.0289791232264207,-2.0349439050399734,-2.0414305541130697,-2.048427491116171,-2.055922531483942,-2.063902963623649,-2.0723556262317047,-2.0812669838228954,-2.090623199693807,-2.100410205664893,-2.1106137680698804,-2.1212195495828814,-2.132213166589219,-2.143580241913175,-2.1553064528126997,-2.1673775742364434,-2.1797795174117414,-2.192498363893433,-2.2055203952527753,-2.218832118624255,-2.2324202883563515,-2.246271924031647,-2.2603743251329638,-2.274715082636848,-2.289282087814565,-2.304063538515136,-2.3190479431955557,-2.33422412295129,-2.3495812117860004,-2.3651086553440748,-2.3807962083132708,-2.396633930688293,-2.4126121830696134,-2.4287216211557334,-2.444953189571514,-2.4612981151603877,-2.477747899854257,-2.4942943132218756,-2.510929384784367,-2.5276453961754575,-2.5444348732137767,-2.5612905779454143,-2.5782055007065203,-2.595172852248297,-2.6121860559600067,-2.6292387402196398,-2.6463247308966835,-2.6634380440267025,-2.6805728786733836,-2.6977236099901907,-2.714884782490577,-2.7320511035330965,-2.7492174370254427,-2.7663787973494225,-2.783530343507279,-2.8006673734882868,-2.817785318853403,-2.8348797395347773,-2.8519463188461014,-2.8689808586991576,-2.8859792750213917,-2.9029375933689465,-2.9198519447293023,-2.936718561507445,-2.9535337736893705,-2.970294005176628,-2.9869957702856054,-3.0036356704052767,-3.0202103908071884,-3.0367166976015434,-3.0531514348333797,-3.0695115217129327,-3.085793949974481,-3.1019957813580468,-3.1181141452086085,-3.1341462361875347,-3.1500893120912457,-3.1659406917721937,-3.1816977531574917,-3.1973579313607257,-3.2129187168825597,-3.228377653896061,-3.2437323386127472,-3.2589804177255446,-3.2741195869250737,-3.2891475894857427,-3.3040622149183667,-3.318861297686139,-3.33354271598095,-3.348104390557161,-3.362544283620103,-3.3768603977666776,-3.3910507749756,-3.4051134956448657,-3.419046677674236,-3.432848475590559,-3.4465170797138986,-3.4600507153625397,-3.473447642094966,-3.486706152987134,-3.4998245739432905,-3.512801263038779,-3.525634609893329,-3.5383230350733585,-3.5508649895219326,-3.5632589540150823,-3.575503438643236,-3.5875969823165823,-3.5995381522932424,-3.6113255437292002,-3.6229577792489414,-3.63443350853588,-3.645751407941619,-3.6569101801131816,-3.6679085536373917,-3.6787452827015974,-3.6894191467699806,-3.69992895027478,-3.710273522321665,-3.7204517164086943,-3.7304624101581902,-3.7403045050609514,-3.749976926232256,-3.7594786221791043,-3.768808564578211,-3.7779657480642403,-3.786949190027861,-3.7957579304231235,-3.804391031583828,-3.812847578048376,-3.8211266763928324,-3.8292274550717686,-3.8371490642665766,-3.8448906757409036,-3.85245148270291,-3.8598306996740726,-3.8670275623641936,-3.8740413275524075,-3.880871272973908,-3.887516697212134,-3.8939769195962013,-3.9002512801033564,-3.906339139266251,-3.9122398780848116,-3.9179528979425458,-3.923477620527076,-3.928813487754768,-3.933959961699239,-3.9389165245236435,-3.943682678416558,-3.94825794553133,-3.9526418679287856,-3.956834007523133,-3.960833946030973,-3.9646412849232977,-3.968255645380377,-3.971676668249412,-3.9749040140049203,-3.9779373627116863,-3.980776413990276,-3.983420886984976,-3.9858705203341422,-3.988125072142841,-3.9901843199577707,-3.99204806074437,-3.9937161108660906,-3.9951883060657867,-3.996464501449141,-3.9975445714701605,-3.9984284099186533,-3.999115929909668,-3.999607063874907,-3.9999017635560468,-3.9999999999999996],\\\"type\\\":\\\"scatter\\\",\\\"x\\\":[1,2,3,4,5,6,7,8,9,10,11,12,13,14,15,16,17,18,19,20,21,22,23,24,25,26,27,28,29,30,31,32,33,34,35,36,37,38,39,40,41,42,43,44,45,46,47,48,49,50,51,52,53,54,55,56,57,58,59,60,61,62,63,64,65,66,67,68,69,70,71,72,73,74,75,76,77,78,79,80,81,82,83,84,85,86,87,88,89,90,91,92,93,94,95,96,97,98,99,100,101,102,103,104,105,106,107,108,109,110,111,112,113,114,115,116,117,118,119,120,121,122,123,124,125,126,127,128,129,130,131,132,133,134,135,136,137,138,139,140,141,142,143,144,145,146,147,148,149,150,151,152,153,154,155,156,157,158,159,160,161,162,163,164,165,166,167,168,169,170,171,172,173,174,175,176,177,178,179,180,181,182,183,184,185,186,187,188,189,190,191,192,193,194,195,196,197,198,199,200,201,202,203,204,205,206,207,208,209,210,211,212,213,214,215,216,217,218,219,220,221,222,223,224,225,226,227,228,229,230,231,232,233,234,235,236,237,238,239,240,241,242,243,244,245,246,247,248,249,250,251,252,253,254,255,256,257,258,259,260,261,262,263,264,265,266,267,268,269,270,271,272,273,274,275,276,277,278,279,280,281,282,283,284,285,286,287,288,289,290,291,292,293,294,295,296,297,298,299,300,301,302,303,304,305,306,307,308,309,310,311,312,313,314,315,316,317,318,319,320,321,322,323,324,325,326,327,328,329,330,331,332,333,334,335,336,337,338,339,340,341,342,343,344,345,346,347,348,349,350,351,352,353,354,355,356,357,358,359,360,361,362,363,364,365,366,367,368,369,370,371,372,373,374,375,376,377,378,379,380,381,382,383,384,385,386,387,388,389,390,391,392,393,394,395,396,397,398,399,400,401,402,403,404,405,406,407,408,409,410,411,412,413,414,415,416,417,418,419,420,421,422,423,424,425,426,427,428,429,430,431,432,433,434,435,436,437,438,439,440,441,442,443,444,445,446,447,448,449,450,451,452,453,454,455,456,457,458,459,460,461,462,463,464,465,466,467,468,469,470,471,472,473,474,475,476,477,478,479,480,481,482,483,484,485,486,487,488,489,490,491,492,493,494,495,496,497,498,499,500]},{\\\"mode\\\":\\\"lines\\\",\\\"line\\\":{\\\"color\\\":\\\"purple\\\",\\\"width\\\":4},\\\"y\\\":[2.0,1.9999014744666956,1.9996059075740604,1.999113328442982,1.9984237856050775,1.99753734699793,1.9964540999583726,1.9951741512138947,1.9936976268721331,1.9920246724084336,1.9901554526515288,1.9880901517672913,1.985828973240592,1.9833721398552504,1.9807198936720862,1.9778724960050702,1.9748302273955753,1.9715933875847407,1.9681622954839313,1.9645372891433268,1.9607187257186136,1.9567069814357867,1.952502451554091,1.948105550327076,1.9435167109617817,1.938736385576051,1.9337650451539927,1.9286031794995746,1.9232512971883606,1.9177099255174128,1.9119796104533278,1.906060916578454,1.8999544270352624,1.893660743468889,1.8871804859678705,1.8805142930030256,1.8736628213645745,1.8666267460974157,1.8594067604346145,1.8520035757291091,1.8444179213836231,1.8366505447787966,1.8287022111995468,1.820573703759684,1.8122658233247375,1.8037793884330549,1.7951152352151627,1.7862742173113761,1.7772572057877012,1.7680650890500051,1.75869877275649,1.7491591797284665,1.7394472498594253,1.7295639400224347,1.719510223975868,1.7092870922674606,1.6988955521367148,1.6883366274156653,1.6776113584280004,1.666720801886568,1.6556660307892581,1.6444481343132904,1.6330682177078941,1.6215274021854276,1.6098268248108898,1.5979676383899077,1.5859510113551498,1.5737781276512026,1.5614501866179238,1.5489684028722785,1.536334006188667,1.5235482413777617,1.5106123681638575,1.4975276610607622,1.484295409246222,1.4709169164349036,1.4573935007499441,1.4437264945930899,1.429917244513408,1.4159671110746277,1.4018774687210862,1.3876497056423105,1.373285223636245,1.3587854379711397,1.3441517772461131,1.3293856832503885,1.3144886108212535,1.2994620277007138,1.2843074143908844,1.2690262640081251,1.2536200821359262,1.2380903866765718,1.2224387077015901,1.2066665873009996,1.1907755794313748,1.1747672497627362,1.158643175524307,1.142404945349099,1.1260541591173994,1.1095924277991422,1.0930213732951848,1.0763426282775093,1.059557836028364,1.042668650278356,1.0256767350435183,1.008583764461362,0.9913914226259288,0.9741014034218672,0.9567154103575413,0.9392351563971866,0.9216623637921477,0.9039987639111917,0.8862460970699129,0.868406112359281,0.8504805674733029,0.8324712285358489,0.8143798699266418,0.7962082741064372,0.777958231441404,0.7596315400267297,0.7412300055094576,0.7227554409105914,0.7042096664464605,0.6855945093493833,0.6669118036876425,0.648163390184775,0.6293511160382204,0.6104768347373226,0.5915424058807117,0.5725496949930875,0.5535005733414216,0.5343969177505818,0.5152406104184246,0.49603353873034517,0.4767775950733244,0.45747467664948216,0.4381266852891481,0.41873552726349117,0.39930311309669686,0.3798313573777339,0.3603221785717201,0.34077749883090025,0.32119924380527,0.30158934245284597,0.28194972684961783,0.2622823319991865,0.2425890956421184,0.22287195806502824,0.20313286190941104,0.18337375198024142,0.16359657505436487,0.14380327968868434,0.12399581602818066,0.10417613561377581,0.08434619119005182,0.06450793651285802,0.04466332615681745,0.024814315322746694,0.0049628596450270734,-0.014889085001086544,-0.03473956269215983,-0.05458661764929218,-0.07442829443080945,-0.09426263812492497,-0.11408769454234857,-0.1339015104088237,-0.153702133557575,-0.17348761312164784,-0.1932559997261154,-0.21300534568014706,-0.2327337051688972,-0.2524391344452275,-0.2721196920212103,-0.29177343885941265,-0.3113984385639479,-0.33099275757125435,-0.3505544653405994,-0.37008163454429455,-0.3895723412575798,-0.40902466514818103,-0.4284366896655145,-0.44780650222951035,-0.4671321944190574,-0.48641186216002485,-0.505643605912866,-0.5248255308597728,-0.5439557470913594,-0.5630323697928697,-0.5820535194298778,-0.6010173219334722,-0.6199219088848974,-0.638765417699641,-0.6575459918109497,-0.6762617808527424,-0.6949109408419217,-0.713491634360057,-0.732002030734406,-0.7504403062182973,-0.768804644170805,-0.787093235235738,-0.8053042775199081,-0.8234359767706626,-0.8414865465526628,-0.8594542084238951,-0.8773371921108905,-0.8951337356831442,-0.9128420857267124,-0.9304604975169589,-0.9479872351904686,-0.9654205719160641,-0.982758790064948,-0.9999998186200697,-0.9827758346374926,-0.9656527578388772,-0.9486325634573811,-0.9317169444244063,-0.9149075832695146,-0.8982061519531992,-0.8816143117005887,-0.8651337128362225,-0.8487659946199013,-0.8325127850836315,-0.8163757008696964,-0.8003563470698561,-0.7844563170656893,-0.7686771923701116,-0.7530205424700691,-0.7374879246704239,-0.7220808839390572,-0.706800952753196,-0.6916496509469868,-0.6766284855603222,-0.6617389506889415,-0.6469825273358158,-0.6323606832638445,-0.6178748728498586,-0.6035265369399604,-0.5893171027062107,-0.5752479835046685,-0.5613205787348139,-0.547536273700357,-0.5338964394714416,-0.5204024327482756,-0.507055595726183,-0.49385725596210023,-0.4808087262425317,-0.467911304452971,-0.4551662734488045,-0.44257490092771246,-0.43013843930357326,-0.41785812558189744,-0.40573518123677743,-0.39377081208940107,-0.38196620818811133,-0.37032254369003303,-0.35884097674428844,-0.3475226493767988,-0.33636868737669257,-0.3253802001843277,-0.3145582807809374,-0.3039040055799194,-0.2934184343197663,-0.2831026099586595,-0.2729575585707311,-0.26298428924399997,-0.253183793980006,-0.2435570475951397,-0.23410500762367853,-0.22482861422254652,-0.21572879007779813,-0.206806440312848,-0.1980624523984341,-0.18949769606435268,-0.18111302321294026,-0.17290926783435,-0.16488724592358805,-0.157047755399353,-0.1493915760246709,-0.1419194693293368,-0.13463217853416448,-0.12753042847706325,-0.12061492554094144,-0.1138863575834459,-0.10734539386854058,-0.10099268499994357,-0.09482886285640502,-0.08885454052886571,-0.08307031225946948,-0.07747675338245841,-0.07207442026694749,-0.0668638502615817,-0.06184556164109123,-0.057020053554741545,-0.05238780597668119,-0.04794927965819973,-0.043704916081907075,-0.03965513741781079,-0.03580034648133257,-0.03214092669323665,-0.028677242041490414,-0.0254096370450706,-0.022338436719684107,-0.01946394654544703,-0.016786452436490046,-0.0143062207125364,-0.012023498072396305,-0.009938511569435815,-0.008051468588991265,-0.006362556827745114,-0.004871944275047779,-0.0035797791962217107,-0.0024861901177980344,-0.0015912858147454773,-0.0008951552996468931,-0.00039786781384117446,-9.947282054322654e-5,8.140571359215114e-14,0.00029467633152808115,0.0011780677333988916,0.0026483582879167564,0.004702539281111473,0.007336435501516164,0.01054474128726507,0.014321065585352066,0.018657985123931464,0.023547104667227314,0.02897912322642049,0.0349439050399733,0.04143055411306917,0.04842749111617134,0.05592253148394227,0.06390296362364911,0.0723556262317046,0.08126698382289566,0.09062319969380717,0.10041020566489195,0.11061376806988071,0.12121954958288161,0.13221316658921872,0.1435802419131747,0.15530645281269995,0.1673775742364435,0.17977951741174097,0.19249836389343228,0.20552039525277566,0.2188321186242541,0.23242028835635092,0.24627192403164683,0.2603743251329636,0.2747150826368471,0.2892820878145649,0.30406353851513496,0.31904794319555596,0.33422412295129006,0.349581211786001,0.36510865534407416,0.3807962083132703,0.39663393068829356,0.4126121830696141,0.42872162115573353,0.4449531895715145,0.461298115160388,0.47774789985425636,0.49429431322187567,0.5109293847843673,0.5276453961754576,0.5444348732137776,0.5612905779454145,0.5782055007065201,0.5951728522482982,0.6121860559600071,0.6292387402196399,0.6463247308966846,0.6634380440267014,0.6805728786733826,0.6977236099901898,0.7148847824905761,0.7320511035330971,0.7492174370254431,0.7663787973494229,0.7835303435072795,0.8006673734882869,0.817785318853404,0.8348797395347772,0.8519463188461002,0.8689808586991569,0.8859792750213921,0.9029375933689477,0.9198519447293031,0.9367185615074455,0.9535337736893705,0.9702940051766276,0.9869957702856049,1.0036356704052767,1.0202103908071884,1.0367166976015432,1.053151434833379,1.0695115217129343,1.0857939499744813,1.1019957813580477,1.1181141452086079,1.1341462361875352,1.1500893120912463,1.165940691772193,1.1816977531574921,1.197357931360726,1.2129187168825604,1.2283776538960622,1.2437323386127457,1.2589804177255444,1.2741195869250743,1.2891475894857425,1.3040622149183656,1.318861297686138,1.3335427159809496,1.348104390557161,1.362544283620102,1.3768603977666787,1.3910507749756005,1.4051134956448665,1.4190466776742379,1.4328484755905575,1.4465170797138998,1.460050715362539,1.4734476420949654,1.486706152987134,1.4998245739432885,1.5128012630387793,1.5256346098933298,1.5383230350733603,1.5508649895219324,1.5632589540150827,1.575503438643236,1.587596982316583,1.5995381522932437,1.6113255437292,1.6229577792489422,1.6344335085358808,1.6457514079416193,1.656910180113182,1.6679085536373939,1.6787452827015963,1.6894191467699808,1.6999289502747787,1.7102735223216647,1.720451716408694,1.7304624101581898,1.740304505060952,1.749976926232256,1.7594786221791043,1.7688085645782106,1.777965748064239,1.78694919002786,1.7957579304231244,1.8043910315838279,1.812847578048376,1.8211266763928315,1.8292274550717693,1.837149064266578,1.8448906757409043,1.852451482702913,1.859830699674074,1.8670275623641925,1.874041327552407,1.880871272973909,1.8875166972121344,1.893976919596201,1.900251280103356,1.906339139266252,1.9122398780848122,1.9179528979425442,1.923477620527076,1.9288134877547676,1.9339599616992393,1.9389165245236442,1.943682678416557,1.9482579455313291,1.9526418679287851,1.956834007523132,1.9608339460309743,1.9646412849233008,1.9682556453803774,1.9716766682494125,1.9749040140049208,1.9779373627116859,1.9807764139902757,1.983420886984976,1.985870520334142,1.988125072142843,1.9901843199577707,1.9920480607443698,1.9937161108660932,1.9951883060657871,1.9964645014491402,1.9975445714701618,1.9984284099186531,1.9991159299096677,1.9996070638749057,1.999901763556047,2.0],\\\"type\\\":\\\"scatter\\\",\\\"x\\\":[1,2,3,4,5,6,7,8,9,10,11,12,13,14,15,16,17,18,19,20,21,22,23,24,25,26,27,28,29,30,31,32,33,34,35,36,37,38,39,40,41,42,43,44,45,46,47,48,49,50,51,52,53,54,55,56,57,58,59,60,61,62,63,64,65,66,67,68,69,70,71,72,73,74,75,76,77,78,79,80,81,82,83,84,85,86,87,88,89,90,91,92,93,94,95,96,97,98,99,100,101,102,103,104,105,106,107,108,109,110,111,112,113,114,115,116,117,118,119,120,121,122,123,124,125,126,127,128,129,130,131,132,133,134,135,136,137,138,139,140,141,142,143,144,145,146,147,148,149,150,151,152,153,154,155,156,157,158,159,160,161,162,163,164,165,166,167,168,169,170,171,172,173,174,175,176,177,178,179,180,181,182,183,184,185,186,187,188,189,190,191,192,193,194,195,196,197,198,199,200,201,202,203,204,205,206,207,208,209,210,211,212,213,214,215,216,217,218,219,220,221,222,223,224,225,226,227,228,229,230,231,232,233,234,235,236,237,238,239,240,241,242,243,244,245,246,247,248,249,250,251,252,253,254,255,256,257,258,259,260,261,262,263,264,265,266,267,268,269,270,271,272,273,274,275,276,277,278,279,280,281,282,283,284,285,286,287,288,289,290,291,292,293,294,295,296,297,298,299,300,301,302,303,304,305,306,307,308,309,310,311,312,313,314,315,316,317,318,319,320,321,322,323,324,325,326,327,328,329,330,331,332,333,334,335,336,337,338,339,340,341,342,343,344,345,346,347,348,349,350,351,352,353,354,355,356,357,358,359,360,361,362,363,364,365,366,367,368,369,370,371,372,373,374,375,376,377,378,379,380,381,382,383,384,385,386,387,388,389,390,391,392,393,394,395,396,397,398,399,400,401,402,403,404,405,406,407,408,409,410,411,412,413,414,415,416,417,418,419,420,421,422,423,424,425,426,427,428,429,430,431,432,433,434,435,436,437,438,439,440,441,442,443,444,445,446,447,448,449,450,451,452,453,454,455,456,457,458,459,460,461,462,463,464,465,466,467,468,469,470,471,472,473,474,475,476,477,478,479,480,481,482,483,484,485,486,487,488,489,490,491,492,493,494,495,496,497,498,499,500]},{\\\"mode\\\":\\\"lines\\\",\\\"line\\\":{\\\"color\\\":\\\"purple\\\",\\\"width\\\":4},\\\"y\\\":[2.000000000000001,2.0,2.0,2.0000000000000004,1.9999999999999998,2.000000000000001,2.0000000000000004,2.000000000000001,2.0,2.000000000000001,2.0,2.0,2.0000000000000004,2.0000000000000004,2.000000000000001,2.000000000000001,2.0,2.0,2.0000000000000004,2.000000000000001,2.0,2.0000000000000004,1.9999999999999998,2.000000000000001,2.000000000000001,2.0,2.000000000000001,2.0,2.000000000000001,2.0,2.000000000000001,2.0000000000000004,1.9999999999999998,2.0,1.9999999999999998,2.000000000000001,2.0,2.0,2.0000000000000004,1.9999999999999998,2.000000000000001,2.000000000000001,2.0000000000000004,2.0,2.0,2.0000000000000004,2.0000000000000004,2.000000000000001,2.000000000000001,2.000000000000001,2.0,2.0000000000000004,2.000000000000001,1.9999999999999996,2.000000000000001,2.0,2.0000000000000004,2.0,2.0000000000000004,1.9999999999999998,2.0000000000000004,2.0000000000000004,2.000000000000001,2.0000000000000004,2.0,2.0000000000000004,2.0000000000000004,2.0000000000000004,2.0000000000000004,2.0,2.000000000000001,2.0,2.0000000000000004,2.0000000000000004,2.0,2.0,2.0,2.000000000000001,2.0,2.0000000000000013,1.9999999999999998,2.000000000000001,2.0000000000000004,2.0,1.9999999999999996,2.0,2.0000000000000004,2.0000000000000004,2.0000000000000004,2.000000000000001,1.9999999999999998,2.0,1.9999999999999996,2.0,2.0000000000000004,2.0000000000000004,1.9999999999999993,1.9999999999999998,1.9999999999999998,2.0,1.9999999999999998,1.9999999999999998,1.9999999999999993,2.000000000000001,2.0000000000000004,1.9999999999999998,2.000000000000001,2.000000000000001,2.0,2.000000000000001,2.0,2.0000000000000004,1.9999999999999998,2.0,2.000000000000001,2.0000000000000004,2.0000000000000004,2.0,2.0,2.0,1.9999999999999998,2.0,1.9999999999999998,2.0000000000000004,1.9999999999999993,2.0,2.0000000000000004,2.000000000000001,1.9999999999999998,2.0,2.0000000000000004,2.0000000000000004,2.0,1.9999999999999996,2.0,1.9999999999999996,1.9999999999999998,2.0,2.0,2.0,2.0,2.0,2.000000000000001,2.0,2.0,2.0000000000000004,2.0000000000000004,2.0000000000000004,2.0,2.000000000000001,1.9999999999999998,2.0000000000000004,2.0,2.0,2.0,1.9999999999999998,1.9999999999999998,2.0,2.0,2.0,2.0,2.0,2.0,2.0,2.0,2.0,2.0,2.0000000000000004,2.0,2.0,2.0,2.0,2.0,2.0,2.0,2.0,2.0,2.0,2.0,2.0,2.0,2.0,2.0,2.000000000000001,2.0000000000000004,2.0,2.0,2.0,2.0,2.0,1.9999999999999996,2.0,2.0,2.0,2.0,2.0,2.0,2.0,2.0,2.0,2.0,2.0,2.0000000000000004,2.0,2.0,2.0,2.0,2.0,2.0,2.0,2.0,2.0,1.9999999999999998,1.9999999999999996,2.0,2.0000000000000004,2.0000000000000004,1.9999999999999996,2.0,2.0000000000000004,1.9999999999999991,2.0000000000000004,2.0,2.0000000000000004,1.9999999999999996,1.9999999999999998,1.9999999999999996,1.9999999999999998,2.000000000000001,2.0,2.0,1.9999999999999993,2.0,2.0,1.9999999999999996,1.9999999999999996,2.0,1.9999999999999996,2.0,1.9999999999999996,1.9999999999999993,2.0,2.0,2.0,2.0,1.9999999999999998,2.0000000000000004,1.9999999999999996,1.9999999999999996,1.9999999999999996,2.0000000000000004,2.0,1.9999999999999996,1.9999999999999991,2.0,2.0,2.0,2.0,2.0,1.9999999999999998,2.0,1.9999999999999998,1.9999999999999991,2.0000000000000004,2.0,1.9999999999999993,2.0,1.9999999999999998,1.9999999999999998,1.9999999999999996,2.0,1.9999999999999996,2.0000000000000004,1.9999999999999996,2.0,2.0,1.9999999999999998,1.9999999999999998,1.9999999999999996,2.0,2.0000000000000004,2.0000000000000004,2.0000000000000004,1.9999999999999998,2.0000000000000004,1.9999999999999996,2.0000000000000004,2.0,2.0,2.0,2.0000000000000004,2.0,2.0,2.000000000000001,2.0,2.0000000000000004,1.9999999999999996,2.0,2.000000000000001,2.0000000000000004,1.9999999999999993,2.0,2.0000000000000013,1.9999999999999998,2.0,1.9999999999999998,2.0000000000000004,1.9999999999999998,2.0,1.9999999999999991,2.0,2.0,2.0,2.000000000000001,2.0,2.000000000000001,1.9999999999999993,2.0000000000000004,2.0,1.9999999999999998,2.0000000000000004,2.0000000000000004,1.9999999999999996,2.0,2.0,1.9999999999999998,1.9999999999999998,2.0000000000000004,2.0000000000000004,1.9999999999999998,2.0,1.9999999999999998,1.9999999999999998,2.0,1.9999999999999998,2.0,1.9999999999999996,1.9999999999999998,2.0,2.0,2.0,2.0,2.000000000000001,2.0,1.9999999999999998,2.0000000000000004,2.0000000000000004,2.0,2.0000000000000004,2.0,1.9999999999999998,2.0000000000000004,1.9999999999999998,2.0,1.9999999999999996,2.0,1.9999999999999998,1.9999999999999998,2.0,1.9999999999999996,2.0,2.0,1.9999999999999996,2.0,2.0000000000000004,2.0,1.9999999999999996,2.0000000000000004,1.9999999999999998,1.9999999999999993,2.0000000000000004,2.0,1.9999999999999996,2.0000000000000004,2.0000000000000004,2.0,2.0,2.0000000000000004,1.9999999999999998,2.0,2.0,2.0,1.9999999999999998,2.0000000000000004,2.0,2.000000000000001,1.9999999999999998,1.9999999999999996,1.9999999999999998,1.9999999999999993,2.0000000000000004,2.0,2.0000000000000004,2.0,2.0,1.9999999999999996,2.0000000000000004,2.0000000000000004,1.9999999999999998,1.9999999999999996,1.9999999999999998,1.9999999999999996,2.0,2.0000000000000004,2.0,2.0000000000000004,1.9999999999999998,2.0000000000000004,2.0000000000000004,1.9999999999999993,2.0000000000000004,1.9999999999999998,2.0000000000000004,2.0000000000000004,1.9999999999999996,1.9999999999999993,1.9999999999999996,2.0000000000000004,2.0,2.0000000000000004,2.0,2.0000000000000004,1.9999999999999996,1.9999999999999996,2.0000000000000004,2.0,1.9999999999999996,2.000000000000001,1.9999999999999993,2.0,2.0000000000000004,1.9999999999999996,2.000000000000001,2.0000000000000004,2.0000000000000004,2.0000000000000004,1.9999999999999996,1.9999999999999996,1.9999999999999993,1.9999999999999998,1.9999999999999993,1.9999999999999996,2.0000000000000013,2.0,1.9999999999999998,1.9999999999999998,1.9999999999999998,1.9999999999999991,2.0,2.0000000000000004,1.9999999999999998,1.9999999999999998,1.9999999999999987,2.0000000000000004,1.9999999999999993,2.0,1.999999999999999,2.000000000000001,2.0000000000000004,2.0,1.9999999999999996,2.0000000000000004,1.9999999999999996,1.9999999999999993,2.0000000000000004,1.9999999999999998,1.9999999999999998,1.9999999999999998,2.0,2.000000000000001,1.9999999999999998,2.0000000000000004,2.0000000000000004,2.0000000000000004,2.000000000000001,2.0,1.9999999999999998,1.9999999999999998,2.0,2.0000000000000004,2.0,2.0,2.0,1.999999999999999,2.0000000000000004,1.9999999999999996,2.0,1.9999999999999998,1.9999999999999993,2.0,2.0000000000000004,2.0000000000000004,1.9999999999999998,1.9999999999999996,2.0,2.0000000000000004,1.9999999999999993,1.9999999999999998,1.9999999999999996,2.000000000000001],\\\"type\\\":\\\"scatter\\\",\\\"x\\\":[1,2,3,4,5,6,7,8,9,10,11,12,13,14,15,16,17,18,19,20,21,22,23,24,25,26,27,28,29,30,31,32,33,34,35,36,37,38,39,40,41,42,43,44,45,46,47,48,49,50,51,52,53,54,55,56,57,58,59,60,61,62,63,64,65,66,67,68,69,70,71,72,73,74,75,76,77,78,79,80,81,82,83,84,85,86,87,88,89,90,91,92,93,94,95,96,97,98,99,100,101,102,103,104,105,106,107,108,109,110,111,112,113,114,115,116,117,118,119,120,121,122,123,124,125,126,127,128,129,130,131,132,133,134,135,136,137,138,139,140,141,142,143,144,145,146,147,148,149,150,151,152,153,154,155,156,157,158,159,160,161,162,163,164,165,166,167,168,169,170,171,172,173,174,175,176,177,178,179,180,181,182,183,184,185,186,187,188,189,190,191,192,193,194,195,196,197,198,199,200,201,202,203,204,205,206,207,208,209,210,211,212,213,214,215,216,217,218,219,220,221,222,223,224,225,226,227,228,229,230,231,232,233,234,235,236,237,238,239,240,241,242,243,244,245,246,247,248,249,250,251,252,253,254,255,256,257,258,259,260,261,262,263,264,265,266,267,268,269,270,271,272,273,274,275,276,277,278,279,280,281,282,283,284,285,286,287,288,289,290,291,292,293,294,295,296,297,298,299,300,301,302,303,304,305,306,307,308,309,310,311,312,313,314,315,316,317,318,319,320,321,322,323,324,325,326,327,328,329,330,331,332,333,334,335,336,337,338,339,340,341,342,343,344,345,346,347,348,349,350,351,352,353,354,355,356,357,358,359,360,361,362,363,364,365,366,367,368,369,370,371,372,373,374,375,376,377,378,379,380,381,382,383,384,385,386,387,388,389,390,391,392,393,394,395,396,397,398,399,400,401,402,403,404,405,406,407,408,409,410,411,412,413,414,415,416,417,418,419,420,421,422,423,424,425,426,427,428,429,430,431,432,433,434,435,436,437,438,439,440,441,442,443,444,445,446,447,448,449,450,451,452,453,454,455,456,457,458,459,460,461,462,463,464,465,466,467,468,469,470,471,472,473,474,475,476,477,478,479,480,481,482,483,484,485,486,487,488,489,490,491,492,493,494,495,496,497,498,499,500]}],{\\\"showlegend\\\":false,\\\"xaxis\\\":{\\\"showgrid\\\":true,\\\"showline\\\":true,\\\"showticklabels\\\":false,\\\"linewidth\\\":5,\\\"mirror\\\":true,\\\"linecolor\\\":\\\"black\\\"},\\\"template\\\":{\\\"layout\\\":{\\\"coloraxis\\\":{\\\"colorbar\\\":{\\\"ticks\\\":\\\"\\\",\\\"outlinewidth\\\":0}},\\\"xaxis\\\":{\\\"gridcolor\\\":\\\"white\\\",\\\"zerolinewidth\\\":2,\\\"title\\\":{\\\"standoff\\\":15},\\\"ticks\\\":\\\"\\\",\\\"zerolinecolor\\\":\\\"white\\\",\\\"automargin\\\":true,\\\"linecolor\\\":\\\"white\\\"},\\\"hovermode\\\":\\\"closest\\\",\\\"paper_bgcolor\\\":\\\"white\\\",\\\"geo\\\":{\\\"showlakes\\\":true,\\\"showland\\\":true,\\\"landcolor\\\":\\\"#E5ECF6\\\",\\\"bgcolor\\\":\\\"white\\\",\\\"subunitcolor\\\":\\\"white\\\",\\\"lakecolor\\\":\\\"white\\\"},\\\"colorscale\\\":{\\\"sequential\\\":[[0.0,\\\"#0d0887\\\"],[0.1111111111111111,\\\"#46039f\\\"],[0.2222222222222222,\\\"#7201a8\\\"],[0.3333333333333333,\\\"#9c179e\\\"],[0.4444444444444444,\\\"#bd3786\\\"],[0.5555555555555556,\\\"#d8576b\\\"],[0.6666666666666666,\\\"#ed7953\\\"],[0.7777777777777778,\\\"#fb9f3a\\\"],[0.8888888888888888,\\\"#fdca26\\\"],[1.0,\\\"#f0f921\\\"]],\\\"diverging\\\":[[0,\\\"#8e0152\\\"],[0.1,\\\"#c51b7d\\\"],[0.2,\\\"#de77ae\\\"],[0.3,\\\"#f1b6da\\\"],[0.4,\\\"#fde0ef\\\"],[0.5,\\\"#f7f7f7\\\"],[0.6,\\\"#e6f5d0\\\"],[0.7,\\\"#b8e186\\\"],[0.8,\\\"#7fbc41\\\"],[0.9,\\\"#4d9221\\\"],[1,\\\"#276419\\\"]],\\\"sequentialminus\\\":[[0.0,\\\"#0d0887\\\"],[0.1111111111111111,\\\"#46039f\\\"],[0.2222222222222222,\\\"#7201a8\\\"],[0.3333333333333333,\\\"#9c179e\\\"],[0.4444444444444444,\\\"#bd3786\\\"],[0.5555555555555556,\\\"#d8576b\\\"],[0.6666666666666666,\\\"#ed7953\\\"],[0.7777777777777778,\\\"#fb9f3a\\\"],[0.8888888888888888,\\\"#fdca26\\\"],[1.0,\\\"#f0f921\\\"]]},\\\"yaxis\\\":{\\\"gridcolor\\\":\\\"white\\\",\\\"zerolinewidth\\\":2,\\\"title\\\":{\\\"standoff\\\":15},\\\"ticks\\\":\\\"\\\",\\\"zerolinecolor\\\":\\\"white\\\",\\\"automargin\\\":true,\\\"linecolor\\\":\\\"white\\\"},\\\"shapedefaults\\\":{\\\"line\\\":{\\\"color\\\":\\\"#2a3f5f\\\"}},\\\"hoverlabel\\\":{\\\"align\\\":\\\"left\\\"},\\\"mapbox\\\":{\\\"style\\\":\\\"light\\\"},\\\"polar\\\":{\\\"angularaxis\\\":{\\\"gridcolor\\\":\\\"white\\\",\\\"ticks\\\":\\\"\\\",\\\"linecolor\\\":\\\"white\\\"},\\\"bgcolor\\\":\\\"#E5ECF6\\\",\\\"radialaxis\\\":{\\\"gridcolor\\\":\\\"white\\\",\\\"ticks\\\":\\\"\\\",\\\"linecolor\\\":\\\"white\\\"}},\\\"autotypenumbers\\\":\\\"strict\\\",\\\"font\\\":{\\\"color\\\":\\\"#2a3f5f\\\"},\\\"ternary\\\":{\\\"baxis\\\":{\\\"gridcolor\\\":\\\"white\\\",\\\"ticks\\\":\\\"\\\",\\\"linecolor\\\":\\\"white\\\"},\\\"bgcolor\\\":\\\"#E5ECF6\\\",\\\"caxis\\\":{\\\"gridcolor\\\":\\\"white\\\",\\\"ticks\\\":\\\"\\\",\\\"linecolor\\\":\\\"white\\\"},\\\"aaxis\\\":{\\\"gridcolor\\\":\\\"white\\\",\\\"ticks\\\":\\\"\\\",\\\"linecolor\\\":\\\"white\\\"}},\\\"annotationdefaults\\\":{\\\"arrowhead\\\":0,\\\"arrowwidth\\\":1,\\\"arrowcolor\\\":\\\"#2a3f5f\\\"},\\\"plot_bgcolor\\\":\\\"#E5ECF6\\\",\\\"title\\\":{\\\"x\\\":0.05},\\\"scene\\\":{\\\"xaxis\\\":{\\\"gridcolor\\\":\\\"white\\\",\\\"gridwidth\\\":2,\\\"backgroundcolor\\\":\\\"#E5ECF6\\\",\\\"ticks\\\":\\\"\\\",\\\"showbackground\\\":true,\\\"zerolinecolor\\\":\\\"white\\\",\\\"linecolor\\\":\\\"white\\\"},\\\"zaxis\\\":{\\\"gridcolor\\\":\\\"white\\\",\\\"gridwidth\\\":2,\\\"backgroundcolor\\\":\\\"#E5ECF6\\\",\\\"ticks\\\":\\\"\\\",\\\"showbackground\\\":true,\\\"zerolinecolor\\\":\\\"white\\\",\\\"linecolor\\\":\\\"white\\\"},\\\"yaxis\\\":{\\\"gridcolor\\\":\\\"white\\\",\\\"gridwidth\\\":2,\\\"backgroundcolor\\\":\\\"#E5ECF6\\\",\\\"ticks\\\":\\\"\\\",\\\"showbackground\\\":true,\\\"zerolinecolor\\\":\\\"white\\\",\\\"linecolor\\\":\\\"white\\\"}},\\\"colorway\\\":[\\\"#636efa\\\",\\\"#EF553B\\\",\\\"#00cc96\\\",\\\"#ab63fa\\\",\\\"#FFA15A\\\",\\\"#19d3f3\\\",\\\"#FF6692\\\",\\\"#B6E880\\\",\\\"#FF97FF\\\",\\\"#FECB52\\\"]},\\\"data\\\":{\\\"barpolar\\\":[{\\\"type\\\":\\\"barpolar\\\",\\\"marker\\\":{\\\"line\\\":{\\\"color\\\":\\\"#E5ECF6\\\",\\\"width\\\":0.5}}}],\\\"carpet\\\":[{\\\"aaxis\\\":{\\\"gridcolor\\\":\\\"white\\\",\\\"endlinecolor\\\":\\\"#2a3f5f\\\",\\\"minorgridcolor\\\":\\\"white\\\",\\\"startlinecolor\\\":\\\"#2a3f5f\\\",\\\"linecolor\\\":\\\"white\\\"},\\\"type\\\":\\\"carpet\\\",\\\"baxis\\\":{\\\"gridcolor\\\":\\\"white\\\",\\\"endlinecolor\\\":\\\"#2a3f5f\\\",\\\"minorgridcolor\\\":\\\"white\\\",\\\"startlinecolor\\\":\\\"#2a3f5f\\\",\\\"linecolor\\\":\\\"white\\\"}}],\\\"scatterpolar\\\":[{\\\"type\\\":\\\"scatterpolar\\\",\\\"marker\\\":{\\\"colorbar\\\":{\\\"ticks\\\":\\\"\\\",\\\"outlinewidth\\\":0}}}],\\\"parcoords\\\":[{\\\"line\\\":{\\\"colorbar\\\":{\\\"ticks\\\":\\\"\\\",\\\"outlinewidth\\\":0}},\\\"type\\\":\\\"parcoords\\\"}],\\\"scatter\\\":[{\\\"type\\\":\\\"scatter\\\",\\\"marker\\\":{\\\"colorbar\\\":{\\\"ticks\\\":\\\"\\\",\\\"outlinewidth\\\":0}}}],\\\"histogram2dcontour\\\":[{\\\"colorbar\\\":{\\\"ticks\\\":\\\"\\\",\\\"outlinewidth\\\":0},\\\"type\\\":\\\"histogram2dcontour\\\",\\\"colorscale\\\":[[0.0,\\\"#0d0887\\\"],[0.1111111111111111,\\\"#46039f\\\"],[0.2222222222222222,\\\"#7201a8\\\"],[0.3333333333333333,\\\"#9c179e\\\"],[0.4444444444444444,\\\"#bd3786\\\"],[0.5555555555555556,\\\"#d8576b\\\"],[0.6666666666666666,\\\"#ed7953\\\"],[0.7777777777777778,\\\"#fb9f3a\\\"],[0.8888888888888888,\\\"#fdca26\\\"],[1.0,\\\"#f0f921\\\"]]}],\\\"contour\\\":[{\\\"colorbar\\\":{\\\"ticks\\\":\\\"\\\",\\\"outlinewidth\\\":0},\\\"type\\\":\\\"contour\\\",\\\"colorscale\\\":[[0.0,\\\"#0d0887\\\"],[0.1111111111111111,\\\"#46039f\\\"],[0.2222222222222222,\\\"#7201a8\\\"],[0.3333333333333333,\\\"#9c179e\\\"],[0.4444444444444444,\\\"#bd3786\\\"],[0.5555555555555556,\\\"#d8576b\\\"],[0.6666666666666666,\\\"#ed7953\\\"],[0.7777777777777778,\\\"#fb9f3a\\\"],[0.8888888888888888,\\\"#fdca26\\\"],[1.0,\\\"#f0f921\\\"]]}],\\\"scattercarpet\\\":[{\\\"type\\\":\\\"scattercarpet\\\",\\\"marker\\\":{\\\"colorbar\\\":{\\\"ticks\\\":\\\"\\\",\\\"outlinewidth\\\":0}}}],\\\"mesh3d\\\":[{\\\"colorbar\\\":{\\\"ticks\\\":\\\"\\\",\\\"outlinewidth\\\":0},\\\"type\\\":\\\"mesh3d\\\"}],\\\"surface\\\":[{\\\"colorbar\\\":{\\\"ticks\\\":\\\"\\\",\\\"outlinewidth\\\":0},\\\"type\\\":\\\"surface\\\",\\\"colorscale\\\":[[0.0,\\\"#0d0887\\\"],[0.1111111111111111,\\\"#46039f\\\"],[0.2222222222222222,\\\"#7201a8\\\"],[0.3333333333333333,\\\"#9c179e\\\"],[0.4444444444444444,\\\"#bd3786\\\"],[0.5555555555555556,\\\"#d8576b\\\"],[0.6666666666666666,\\\"#ed7953\\\"],[0.7777777777777778,\\\"#fb9f3a\\\"],[0.8888888888888888,\\\"#fdca26\\\"],[1.0,\\\"#f0f921\\\"]]}],\\\"scattermapbox\\\":[{\\\"type\\\":\\\"scattermapbox\\\",\\\"marker\\\":{\\\"colorbar\\\":{\\\"ticks\\\":\\\"\\\",\\\"outlinewidth\\\":0}}}],\\\"scattergeo\\\":[{\\\"type\\\":\\\"scattergeo\\\",\\\"marker\\\":{\\\"colorbar\\\":{\\\"ticks\\\":\\\"\\\",\\\"outlinewidth\\\":0}}}],\\\"histogram\\\":[{\\\"type\\\":\\\"histogram\\\",\\\"marker\\\":{\\\"colorbar\\\":{\\\"ticks\\\":\\\"\\\",\\\"outlinewidth\\\":0}}}],\\\"pie\\\":[{\\\"type\\\":\\\"pie\\\",\\\"automargin\\\":true}],\\\"choropleth\\\":[{\\\"colorbar\\\":{\\\"ticks\\\":\\\"\\\",\\\"outlinewidth\\\":0},\\\"type\\\":\\\"choropleth\\\"}],\\\"heatmapgl\\\":[{\\\"colorbar\\\":{\\\"ticks\\\":\\\"\\\",\\\"outlinewidth\\\":0},\\\"type\\\":\\\"heatmapgl\\\",\\\"colorscale\\\":[[0.0,\\\"#0d0887\\\"],[0.1111111111111111,\\\"#46039f\\\"],[0.2222222222222222,\\\"#7201a8\\\"],[0.3333333333333333,\\\"#9c179e\\\"],[0.4444444444444444,\\\"#bd3786\\\"],[0.5555555555555556,\\\"#d8576b\\\"],[0.6666666666666666,\\\"#ed7953\\\"],[0.7777777777777778,\\\"#fb9f3a\\\"],[0.8888888888888888,\\\"#fdca26\\\"],[1.0,\\\"#f0f921\\\"]]}],\\\"bar\\\":[{\\\"type\\\":\\\"bar\\\",\\\"error_y\\\":{\\\"color\\\":\\\"#2a3f5f\\\"},\\\"error_x\\\":{\\\"color\\\":\\\"#2a3f5f\\\"},\\\"marker\\\":{\\\"line\\\":{\\\"color\\\":\\\"#E5ECF6\\\",\\\"width\\\":0.5}}}],\\\"heatmap\\\":[{\\\"colorbar\\\":{\\\"ticks\\\":\\\"\\\",\\\"outlinewidth\\\":0},\\\"type\\\":\\\"heatmap\\\",\\\"colorscale\\\":[[0.0,\\\"#0d0887\\\"],[0.1111111111111111,\\\"#46039f\\\"],[0.2222222222222222,\\\"#7201a8\\\"],[0.3333333333333333,\\\"#9c179e\\\"],[0.4444444444444444,\\\"#bd3786\\\"],[0.5555555555555556,\\\"#d8576b\\\"],[0.6666666666666666,\\\"#ed7953\\\"],[0.7777777777777778,\\\"#fb9f3a\\\"],[0.8888888888888888,\\\"#fdca26\\\"],[1.0,\\\"#f0f921\\\"]]}],\\\"contourcarpet\\\":[{\\\"colorbar\\\":{\\\"ticks\\\":\\\"\\\",\\\"outlinewidth\\\":0},\\\"type\\\":\\\"contourcarpet\\\"}],\\\"table\\\":[{\\\"type\\\":\\\"table\\\",\\\"header\\\":{\\\"line\\\":{\\\"color\\\":\\\"white\\\"},\\\"fill\\\":{\\\"color\\\":\\\"#C8D4E3\\\"}},\\\"cells\\\":{\\\"line\\\":{\\\"color\\\":\\\"white\\\"},\\\"fill\\\":{\\\"color\\\":\\\"#EBF0F8\\\"}}}],\\\"scatter3d\\\":[{\\\"line\\\":{\\\"colorbar\\\":{\\\"ticks\\\":\\\"\\\",\\\"outlinewidth\\\":0}},\\\"type\\\":\\\"scatter3d\\\",\\\"marker\\\":{\\\"colorbar\\\":{\\\"ticks\\\":\\\"\\\",\\\"outlinewidth\\\":0}}}],\\\"scattergl\\\":[{\\\"type\\\":\\\"scattergl\\\",\\\"marker\\\":{\\\"colorbar\\\":{\\\"ticks\\\":\\\"\\\",\\\"outlinewidth\\\":0}}}],\\\"histogram2d\\\":[{\\\"colorbar\\\":{\\\"ticks\\\":\\\"\\\",\\\"outlinewidth\\\":0},\\\"type\\\":\\\"histogram2d\\\",\\\"colorscale\\\":[[0.0,\\\"#0d0887\\\"],[0.1111111111111111,\\\"#46039f\\\"],[0.2222222222222222,\\\"#7201a8\\\"],[0.3333333333333333,\\\"#9c179e\\\"],[0.4444444444444444,\\\"#bd3786\\\"],[0.5555555555555556,\\\"#d8576b\\\"],[0.6666666666666666,\\\"#ed7953\\\"],[0.7777777777777778,\\\"#fb9f3a\\\"],[0.8888888888888888,\\\"#fdca26\\\"],[1.0,\\\"#f0f921\\\"]]}],\\\"scatterternary\\\":[{\\\"type\\\":\\\"scatterternary\\\",\\\"marker\\\":{\\\"colorbar\\\":{\\\"ticks\\\":\\\"\\\",\\\"outlinewidth\\\":0}}}],\\\"scatterpolargl\\\":[{\\\"type\\\":\\\"scatterpolargl\\\",\\\"marker\\\":{\\\"colorbar\\\":{\\\"ticks\\\":\\\"\\\",\\\"outlinewidth\\\":0}}}]}},\\\"height\\\":510,\\\"margin\\\":{\\\"l\\\":50,\\\"b\\\":50,\\\"r\\\":50,\\\"t\\\":60},\\\"title\\\":\\\"Nearest neighbor model with nearest spin-orbit coupling\\\",\\\"yaxis\\\":{\\\"showgrid\\\":true,\\\"showline\\\":true,\\\"showticklabels\\\":true,\\\"linewidth\\\":5,\\\"mirror\\\":true,\\\"linecolor\\\":\\\"black\\\"},\\\"plot_bgcolor\\\":\\\"rgba(0,0,0,0)\\\",\\\"width\\\":510},{\\\"showLink\\\":false,\\\"editable\\\":false,\\\"responsive\\\":true,\\\"staticPlot\\\":false,\\\"scrollZoom\\\":true}); gd.on(\\\"plotly_hover\\\",(function (data){var filtered_data=WebIO.PlotlyCommands.filterEventData(gd,data,\\\"hover\\\"); return !(filtered_data.isnil) ? (WebIO.setval({\\\"name\\\":\\\"hover\\\",\\\"scope\\\":\\\"4976188039130374911\\\",\\\"id\\\":\\\"167924\\\",\\\"type\\\":\\\"observable\\\"},filtered_data.out)) : undefined})); gd.on(\\\"plotly_unhover\\\",(function (){return WebIO.setval({\\\"name\\\":\\\"hover\\\",\\\"scope\\\":\\\"4976188039130374911\\\",\\\"id\\\":\\\"167924\\\",\\\"type\\\":\\\"observable\\\"},{})})); gd.on(\\\"plotly_selected\\\",(function (data){var filtered_data=WebIO.PlotlyCommands.filterEventData(gd,data,\\\"selected\\\"); return !(filtered_data.isnil) ? (WebIO.setval({\\\"name\\\":\\\"selected\\\",\\\"scope\\\":\\\"4976188039130374911\\\",\\\"id\\\":\\\"167925\\\",\\\"type\\\":\\\"observable\\\"},filtered_data.out)) : undefined})); gd.on(\\\"plotly_deselect\\\",(function (){return WebIO.setval({\\\"name\\\":\\\"selected\\\",\\\"scope\\\":\\\"4976188039130374911\\\",\\\"id\\\":\\\"167925\\\",\\\"type\\\":\\\"observable\\\"},{})})); gd.on(\\\"plotly_relayout\\\",(function (data){var filtered_data=WebIO.PlotlyCommands.filterEventData(gd,data,\\\"relayout\\\"); return !(filtered_data.isnil) ? (WebIO.setval({\\\"name\\\":\\\"relayout\\\",\\\"scope\\\":\\\"4976188039130374911\\\",\\\"id\\\":\\\"167927\\\",\\\"type\\\":\\\"observable\\\"},filtered_data.out)) : undefined})); return gd.on(\\\"plotly_click\\\",(function (data){var filtered_data=WebIO.PlotlyCommands.filterEventData(gd,data,\\\"click\\\"); return !(filtered_data.isnil) ? (WebIO.setval({\\\"name\\\":\\\"click\\\",\\\"scope\\\":\\\"4976188039130374911\\\",\\\"id\\\":\\\"167926\\\",\\\"type\\\":\\\"observable\\\"},filtered_data.out)) : undefined}))}));\\n    (WebIO.importBlock({\\\"data\\\":[{\\\"name\\\":\\\"Plotly\\\",\\\"type\\\":\\\"js\\\",\\\"url\\\":\\\"\\/assetserver\\/b267c3137400db01c304fe886fe6f707be7fdb37-plotly.min.js\\\"},{\\\"name\\\":null,\\\"type\\\":\\\"js\\\",\\\"url\\\":\\\"\\/assetserver\\/020f2e8a4619f2ae880fff9315e6547eef1aff0b-plotly_webio.bundle.js\\\"}],\\\"type\\\":\\\"async_block\\\"})).then((imports) => handler.apply(this, imports));\\n}\\n\"],\"observables\":{\"_toImage\":{\"sync\":false,\"id\":\"167931\",\"value\":{}},\"hover\":{\"sync\":false,\"id\":\"167924\",\"value\":{}},\"selected\":{\"sync\":false,\"id\":\"167925\",\"value\":{}},\"__gd_contents\":{\"sync\":false,\"id\":\"167929\",\"value\":{}},\"click\":{\"sync\":false,\"id\":\"167926\",\"value\":{}},\"image\":{\"sync\":true,\"id\":\"167928\",\"value\":\"\"},\"__get_gd_contents\":{\"sync\":false,\"id\":\"167933\",\"value\":\"\"},\"_downloadImage\":{\"sync\":false,\"id\":\"167932\",\"value\":{}},\"relayout\":{\"sync\":false,\"id\":\"167927\",\"value\":{}},\"_commands\":{\"sync\":false,\"id\":\"167930\",\"value\":[]}}},\"children\":[{\"props\":{\"id\":\"plot-020879dc-ba8a-4717-994b-c42d953c21a8\"},\"nodeType\":\"DOM\",\"type\":\"node\",\"instanceArgs\":{\"namespace\":\"html\",\"tag\":\"div\"},\"children\":[]}]},\n",
       "        window,\n",
       "    );\n",
       "    })()\n",
       "    </script>\n",
       "</div>\n"
      ],
      "text/plain": [
       "data: [\n",
       "  \"scatter with fields line, mode, type, x, and y\",\n",
       "  \"scatter with fields line, mode, type, x, and y\",\n",
       "  \"scatter with fields line, mode, type, x, and y\"\n",
       "]\n",
       "\n",
       "layout: \"layout with fields height, margin, plot_bgcolor, showlegend, template, title, width, xaxis, and yaxis\"\n",
       "\n"
      ]
     },
     "metadata": {},
     "output_type": "display_data"
    }
   ],
   "source": [
    "let t1 = -1.0, u1 = 0.0, t2 = 0.0, u2 = 0.0\n",
    "    p = Params(t1 = t1, u1 = u1, t2 = t2, u2 = u2)\n",
    "    plot_simple_kagome_bands(p = p, seedname = \"complex_nn_soc_1\", title = \"Nearest neighbor model with nearest spin-orbit coupling\")\n",
    "end"
   ]
  },
  {
   "cell_type": "markdown",
   "metadata": {},
   "source": [
    "# Next, consider more general monolayer tight-binding models # "
   ]
  },
  {
   "cell_type": "code",
   "execution_count": 117,
   "metadata": {},
   "outputs": [
    {
     "data": {
      "application/vnd.plotly.v1+json": {
       "config": {
        "editable": false,
        "responsive": true,
        "scrollZoom": true,
        "showLink": false,
        "staticPlot": false
       },
       "data": [
        {
         "line": {
          "color": "purple",
          "width": 4
         },
         "mode": "lines",
         "type": "scatter",
         "x": [
          1,
          2,
          3,
          4,
          5,
          6,
          7,
          8,
          9,
          10,
          11,
          12,
          13,
          14,
          15,
          16,
          17,
          18,
          19,
          20,
          21,
          22,
          23,
          24,
          25,
          26,
          27,
          28,
          29,
          30,
          31,
          32,
          33,
          34,
          35,
          36,
          37,
          38,
          39,
          40,
          41,
          42,
          43,
          44,
          45,
          46,
          47,
          48,
          49,
          50,
          51,
          52,
          53,
          54,
          55,
          56,
          57,
          58,
          59,
          60,
          61,
          62,
          63,
          64,
          65,
          66,
          67,
          68,
          69,
          70,
          71,
          72,
          73,
          74,
          75,
          76,
          77,
          78,
          79,
          80,
          81,
          82,
          83,
          84,
          85,
          86,
          87,
          88,
          89,
          90,
          91,
          92,
          93,
          94,
          95,
          96,
          97,
          98,
          99,
          100,
          101,
          102,
          103,
          104,
          105,
          106,
          107,
          108,
          109,
          110,
          111,
          112,
          113,
          114,
          115,
          116,
          117,
          118,
          119,
          120,
          121,
          122,
          123,
          124,
          125,
          126,
          127,
          128,
          129,
          130,
          131,
          132,
          133,
          134,
          135,
          136,
          137,
          138,
          139,
          140,
          141,
          142,
          143,
          144,
          145,
          146,
          147,
          148,
          149,
          150,
          151,
          152,
          153,
          154,
          155,
          156,
          157,
          158,
          159,
          160,
          161,
          162,
          163,
          164,
          165,
          166,
          167,
          168,
          169,
          170,
          171,
          172,
          173,
          174,
          175,
          176,
          177,
          178,
          179,
          180,
          181,
          182,
          183,
          184,
          185,
          186,
          187,
          188,
          189,
          190,
          191,
          192,
          193,
          194,
          195,
          196,
          197,
          198,
          199,
          200,
          201,
          202,
          203,
          204,
          205,
          206,
          207,
          208,
          209,
          210,
          211,
          212,
          213,
          214,
          215,
          216,
          217,
          218,
          219,
          220,
          221,
          222,
          223,
          224,
          225,
          226,
          227,
          228,
          229,
          230,
          231,
          232,
          233,
          234,
          235,
          236,
          237,
          238,
          239,
          240,
          241,
          242,
          243,
          244,
          245,
          246,
          247,
          248,
          249,
          250,
          251,
          252,
          253,
          254,
          255,
          256,
          257,
          258,
          259,
          260,
          261,
          262,
          263,
          264,
          265,
          266,
          267,
          268,
          269,
          270,
          271,
          272,
          273,
          274,
          275,
          276,
          277,
          278,
          279,
          280,
          281,
          282,
          283,
          284,
          285,
          286,
          287,
          288,
          289,
          290,
          291,
          292,
          293,
          294,
          295,
          296,
          297,
          298,
          299,
          300,
          301,
          302,
          303,
          304,
          305,
          306,
          307,
          308,
          309,
          310,
          311,
          312,
          313,
          314,
          315,
          316,
          317,
          318,
          319,
          320,
          321,
          322,
          323,
          324,
          325,
          326,
          327,
          328,
          329,
          330,
          331,
          332,
          333,
          334,
          335,
          336,
          337,
          338,
          339,
          340,
          341,
          342,
          343,
          344,
          345,
          346,
          347,
          348,
          349,
          350,
          351,
          352,
          353,
          354,
          355,
          356,
          357,
          358,
          359,
          360,
          361,
          362,
          363,
          364,
          365,
          366,
          367,
          368,
          369,
          370,
          371,
          372,
          373,
          374,
          375,
          376,
          377,
          378,
          379,
          380,
          381,
          382,
          383,
          384,
          385,
          386,
          387,
          388,
          389,
          390,
          391,
          392,
          393,
          394,
          395,
          396,
          397,
          398,
          399,
          400,
          401,
          402,
          403,
          404,
          405,
          406,
          407,
          408,
          409,
          410,
          411,
          412,
          413,
          414,
          415,
          416,
          417,
          418,
          419,
          420,
          421,
          422,
          423,
          424,
          425,
          426,
          427,
          428,
          429,
          430,
          431,
          432,
          433,
          434,
          435,
          436,
          437,
          438,
          439,
          440,
          441,
          442,
          443,
          444,
          445,
          446,
          447,
          448,
          449,
          450,
          451,
          452,
          453,
          454,
          455,
          456,
          457,
          458,
          459,
          460,
          461,
          462,
          463,
          464,
          465,
          466,
          467,
          468,
          469,
          470,
          471,
          472,
          473,
          474,
          475,
          476,
          477,
          478,
          479,
          480,
          481,
          482,
          483,
          484,
          485,
          486,
          487,
          488,
          489,
          490,
          491,
          492,
          493,
          494,
          495,
          496,
          497,
          498,
          499,
          500
         ],
         "y": [
          -4.000000000000001,
          -3.9999014760846148,
          -3.999605933461416,
          -3.999113459503101,
          -3.9984241998435492,
          -3.9975383583968624,
          -3.996456197383887,
          -3.995178037366145,
          -3.993704257286992,
          -3.99203529451986,
          -3.9901716449233544,
          -3.988113862902954,
          -3.9858625614790544,
          -3.98341841236101,
          -3.9807821460268364,
          -3.9779545518081765,
          -3.9749364779800596,
          -3.971728831855028,
          -3.9683325798810536,
          -3.9647487477426924,
          -3.9609784204648624,
          -3.95702274251856,
          -3.9528829179277825,
          -3.9485602103769075,
          -3.9440559433176343,
          -3.93937150007465,
          -3.9345083239490037,
          -3.929467918318192,
          -3.9242518467318437,
          -3.9188617330018367,
          -3.9132992612856,
          -3.9075661761612985,
          -3.901664282693463,
          -3.8955954464876346,
          -3.889361593732395,
          -3.88296471122719,
          -3.876406846394159,
          -3.8696901072721412,
          -3.862816662490955,
          -3.8557887412238787,
          -3.8486086331162563,
          -3.841278688187982,
          -3.8338013167075364,
          -3.826178989035192,
          -3.8184142354328303,
          -3.8105096458377776,
          -3.802467869597961,
          -3.7942916151655477,
          -3.7859836497462123,
          -3.7775467989010285,
          -3.7689839460979195,
          -3.7602980322095645,
          -3.751492054954512,
          -3.7425690682782764,
          -3.733532181671065,
          -3.724384559418824,
          -3.715129419784179,
          -3.7057700341139124,
          -3.6963097258695603,
          -3.6867518695777712,
          -3.6770998896970855,
          -3.667357259397849,
          -3.657527499252085,
          -3.6476141758302054,
          -3.6376209002016147,
          -3.627551326336368,
          -3.617409149405294,
          -3.6071981039761294,
          -3.5969219621035124,
          -3.5865845313109377,
          -3.5761896524630794,
          -3.5657411975272466,
          -3.5552430672230995,
          -3.5446991885601737,
          -3.534113512263204,
          -3.5234900100857094,
          -3.512832672012853,
          -3.5021455033550675,
          -3.491432521734585,
          -3.4806977539675596,
          -3.4699452328451335,
          -3.459178993817429,
          -3.448403071585111,
          -3.437621496603894,
          -3.4268382915079796,
          -3.4160574674591935,
          -3.4052830204292293,
          -3.3945189274231127,
          -3.3837691426526555,
          -3.373037593669383,
          -3.3623281774669453,
          -3.3516447565636933,
          -3.3409911550766203,
          -3.3303711547983568,
          -3.3197884912893647,
          -3.3092468499978422,
          -3.2987498624201583,
          -3.288301102314894,
          -3.2779040819836496,
          -3.2675622486319282,
          -3.2572789808233016,
          -3.247057585039973,
          -3.236901292362654,
          -3.2268132552823,
          -3.2167965446559066,
          -3.206854146817989,
          -3.196988960858841,
          -3.1872037960799067,
          -3.177501369635861,
          -3.1678843043721594,
          -3.158355126865824,
          -3.1489162656763092,
          -3.1395700498122032,
          -3.1303187074184557,
          -3.121164364687649,
          -3.1121090449977316,
          -3.103154668277435,
          -3.0943030505993985,
          -3.085555903999936,
          -3.076914836523139,
          -3.068381352485981,
          -3.0599568529599477,
          -3.051642636463734,
          -3.043439899860528,
          -3.0353497394525673,
          -3.0273731522647287,
          -3.019511037508237,
          -3.011764198214854,
          -3.0041333430313286,
          -2.996619088163394,
          -2.989221959458189,
          -2.9819423946136423,
          -2.974780745503133,
          -2.9677372806036026,
          -2.960812187515222,
          -2.954005575560719,
          -2.9473174784526246,
          -2.940747857016779,
          -2.934296601960763,
          -2.92796353667615,
          -2.9217484200638517,
          -2.9156509493722407,
          -2.909670763038146,
          -2.903807443521342,
          -2.898060520123601,
          -2.8924294717839754,
          -2.886913729842486,
          -2.881512680764965,
          -2.8762256688223853,
          -2.8710519987185754,
          -2.865990938160765,
          -2.8610417203680276,
          -2.856203546513171,
          -2.851475588094224,
          -2.8468569892321494,
          -2.842346868891937,
          -2.8379443230247237,
          -2.8336484266290025,
          -2.8294582357294784,
          -2.8253727892724756,
          -2.8213911109372436,
          -2.8175122108628123,
          -2.813735087290417,
          -2.810058728121798,
          -2.8064821123939536,
          -2.803004211671203,
          -2.799623991355615,
          -2.7963404119170785,
          -2.7931524300444583,
          -2.790058999719461,
          -2.787059073214963,
          -2.7841516020196435,
          -2.781335537690932,
          -2.778609832638293,
          -2.775973440838976,
          -2.7734253184884246,
          -2.770964424587521,
          -2.7685897214689508,
          -2.7663001752649024,
          -2.764094756318409,
          -2.7619724395405534,
          -2.759932204715815,
          -2.7579730367577815,
          -2.7560939259174297,
          -2.754293867946175,
          -2.7525718642158195,
          -2.750926921797512,
          -2.7493580535018074,
          -2.747864277881837,
          -2.7464446192015854,
          -2.745098107371211,
          -2.7438237778513117,
          -2.742620671527974,
          -2.741487834560413,
          -2.740424318202973,
          -2.739429178603168,
          -2.7385014765774707,
          -2.7376402773664372,
          -2.7368446503707786,
          -2.7361136688698915,
          -2.735446409724392,
          -2.7348419530640706,
          -2.7342993819627384,
          -2.7338177821013323,
          -2.7333962414206736,
          -2.7330338497651803,
          -2.732729698518864,
          -2.7324828802348877,
          -2.7322924882599198,
          -2.7321576163545513,
          -2.732077358310934,
          -2.73205080756888,
          -2.7320773058398196,
          -2.7321561866899056,
          -2.732286527127629,
          -2.732467402241255,
          -2.7326978848153374,
          -2.732977044952589,
          -2.7333039497022176,
          -2.7336776626958095,
          -2.7340972437918785,
          -2.7345617487300853,
          -2.7350702287962223,
          -2.735621730498978,
          -2.7362152952595062,
          -2.736849959114795,
          -2.7375247524358035,
          -2.738238699661391,
          -2.738990819048894,
          -2.7397801224423697,
          -2.7406056150593425,
          -2.7414662952969584,
          -2.7423611545584086,
          -2.7432891771004266,
          -2.7442493399026953,
          -2.7452406125598694,
          -2.7462619571970297,
          -2.747312328409177,
          -2.7483906732255066,
          -2.749495931099033,
          -2.7506270339221714,
          -2.7517829060687986,
          -2.7529624644632937,
          -2.7541646186769935,
          -2.755388271052463,
          -2.7566323168558986,
          -2.757895644457989,
          -2.7591771355434247,
          -2.7604756653492304,
          -2.7617901029320686,
          -2.7631193114645196,
          -2.764462148560349,
          -2.7658174666286826,
          -2.76718411325695,
          -2.768560931622389,
          -2.7699467609318233,
          -2.7713404368894192,
          -2.7727407921919562,
          -2.774146657051185,
          -2.7755568597427125,
          -2.7769702271808123,
          -2.7783855855184965,
          -2.779801760772103,
          -2.7812175794696046,
          -2.782631869321782,
          -2.784043459915339,
          -2.7854511834269724,
          -2.786853875357363,
          -2.7882503752840173,
          -2.789639527631765,
          -2.7910201824597958,
          -2.7923911962639103,
          -2.793751432792774,
          -2.795099763876815,
          -2.7964350702684024,
          -2.7977562424919253,
          -2.799062181702328,
          -2.8003518005506773,
          -2.8016240240552377,
          -2.8028777904766002,
          -2.804112052195333,
          -2.8053257765906094,
          -2.806517946918324,
          -2.8076875631870815,
          -2.8088336430306104,
          -2.8099552225749576,
          -2.811051357299007,
          -2.8121211228867606,
          -2.8131636160698603,
          -2.8141779554588684,
          -2.815163282361829,
          -2.816118761588626,
          -2.8170435822397426,
          -2.81793695847798,
          -2.818798130281796,
          -2.819626364178901,
          -2.8204209539588248,
          -2.8211812213631697,
          -2.821906516752355,
          -2.8225962197476555,
          -2.823249739847393,
          -2.8238665170162305,
          -2.8244460222464842,
          -2.8249877580905105,
          -2.8254912591632024,
          -2.8259560926137466,
          -2.826381858565782,
          -2.826768190525235,
          -2.827114755755074,
          -2.827421255616375,
          -2.8276874258750824,
          -2.827913036973939,
          -2.8280978942691224,
          -2.8282418382311403,
          -2.8283447446097325,
          -2.828406524562366,
          -2.8284271247462076,
          -2.828488165726145,
          -2.828671294614283,
          -2.8289765481597406,
          -2.829403987489561,
          -2.8299536979269075,
          -2.8306257887361124,
          -2.8314203927941706,
          -2.832337666188151,
          -2.8333777877378927,
          -2.834540958443251,
          -2.8358274008550826,
          -2.8372373583690553,
          -2.838771094441312,
          -2.840428891724973,
          -2.8422110511263647,
          -2.844117890779907,
          -2.8461497449405133,
          -2.8483069627923996,
          -2.850589907173195,
          -2.8529989532123188,
          -2.8555344868826325,
          -2.8581969034644668,
          -2.8609866059212514,
          -2.8639040031860863,
          -2.866949508358803,
          -2.8701235368132028,
          -2.8734265042144327,
          -2.8768588244466873,
          -2.880420907451696,
          -2.88411315697882,
          -2.887935968247843,
          -2.8918897255260196,
          -2.8959747996212513,
          -2.9001915452937674,
          -2.9045402985891227,
          -2.9090213740957966,
          -2.913635062131253,
          -2.9183816258607798,
          -2.9232612983540633,
          -2.9282742795849686,
          -2.933420733380619,
          -2.9387007843264614,
          -2.94411451463459,
          -2.9496619609832173,
          -2.9553431113357798,
          -2.9611579017487157,
          -2.9671062131775736,
          -2.9731878682915855,
          -2.979402628307381,
          -2.9857501898529906,
          -2.992230181873681,
          -2.9988421625915462,
          -3.0055856165311114,
          -3.012459951623389,
          -3.0194644964010555,
          -3.0265984972974693,
          -3.033861116062268,
          -3.041251427306202,
          -3.0487684161876736,
          -3.056410976253191,
          -3.0641779074435638,
          -3.0720679142772283,
          -3.0800796042214724,
          -3.0882114862617267,
          -3.096461969678297,
          -3.104829363039072,
          -3.113311873415843,
          -3.1219076058308044,
          -3.1306145629388085,
          -3.1394306449497416,
          -3.148353649794239,
          -3.1573812735347278,
          -3.1665111110225075,
          -3.175740656800324,
          -3.1850673062486075,
          -3.194488356972258,
          -3.204001010423632,
          -3.2136023737561374,
          -3.2232894619016688,
          -3.233059199864008,
          -3.2429084252192157,
          -3.252833890813094,
          -3.2628322676448556,
          -3.272900147925352,
          -3.283034048297466,
          -3.2932304132056833,
          -3.303485618401314,
          -3.3137959745694583,
          -3.324157731063485,
          -3.33456707973262,
          -3.345020158828134,
          -3.3555130569736744,
          -3.366041817185349,
          -3.376602440927425,
          -3.3871908921897798,
          -3.397803101573636,
          -3.408434970372555,
          -3.4190823746361945,
          -3.4297411692049167,
          -3.4404071917039656,
          -3.451076266486611,
          -3.4617442085163614,
          -3.472406827179105,
          -3.483059930016762,
          -3.493699326374839,
          -3.5043208309570257,
          -3.5149202672807456,
          -3.5254934710283536,
          -3.5360362932894067,
          -3.546544603690161,
          -3.557014293407182,
          -3.5674412780625984,
          -3.5778215004992164,
          -3.588150933434302,
          -3.5984255819914277,
          -3.608641486110334,
          -3.6187947228352586,
          -3.628881408482636,
          -3.63889770068954,
          -3.648839800344591,
          -3.658703953403426,
          -3.6684864525911385,
          -3.678183638994378,
          -3.6877919035460254,
          -3.6973076884056075,
          -3.706727488238734,
          -3.7160478513990522,
          -3.7252653810162752,
          -3.734376735993972,
          -3.7433786319208515,
          -3.752267841899323,
          -3.7610411972951403,
          -3.769695588411932,
          -3.778227965094412,
          -3.78663533726403,
          -3.7949147753907844,
          -3.8030634109048473,
          -3.811078436551606,
          -3.8189571066936137,
          -3.8266967375629073,
          -3.8342947074670026,
          -3.8417484569518145,
          -3.849055488924642,
          -3.856213368740234,
          -3.8632197242528705,
          -3.870072245837259,
          -3.876768686380944,
          -3.883306861250822,
          -3.8896846482362384,
          -3.895899987471001,
          -3.9019508813366186,
          -3.9078353943488446,
          -3.9135516530296304,
          -3.9190978457663634,
          -3.9244722226602717,
          -3.9296730953657066,
          -3.934698836921948,
          -3.939547881579092,
          -3.9442187246194504,
          -3.948709922175881,
          -3.9530200910482884,
          -3.957147908519539,
          -3.9610921121719085,
          -3.9648514997051274,
          -3.968424928757,
          -3.971811316727551,
          -3.9750096406075053,
          -3.9780189368119467,
          -3.9808383010198622,
          -3.98346688802026,
          -3.9859039115654813,
          -3.988148644232294,
          -3.990200417291284,
          -3.9920586205850097,
          -3.993722702415381,
          -3.9951921694406196,
          -3.996466586582173,
          -3.9975455769418753,
          -3.99842882172962,
          -3.999116060201778,
          -3.999607089610567,
          -3.9999017651644873,
          -4.000000000000001
         ]
        },
        {
         "line": {
          "color": "purple",
          "width": 4
         },
         "mode": "lines",
         "type": "scatter",
         "x": [
          1,
          2,
          3,
          4,
          5,
          6,
          7,
          8,
          9,
          10,
          11,
          12,
          13,
          14,
          15,
          16,
          17,
          18,
          19,
          20,
          21,
          22,
          23,
          24,
          25,
          26,
          27,
          28,
          29,
          30,
          31,
          32,
          33,
          34,
          35,
          36,
          37,
          38,
          39,
          40,
          41,
          42,
          43,
          44,
          45,
          46,
          47,
          48,
          49,
          50,
          51,
          52,
          53,
          54,
          55,
          56,
          57,
          58,
          59,
          60,
          61,
          62,
          63,
          64,
          65,
          66,
          67,
          68,
          69,
          70,
          71,
          72,
          73,
          74,
          75,
          76,
          77,
          78,
          79,
          80,
          81,
          82,
          83,
          84,
          85,
          86,
          87,
          88,
          89,
          90,
          91,
          92,
          93,
          94,
          95,
          96,
          97,
          98,
          99,
          100,
          101,
          102,
          103,
          104,
          105,
          106,
          107,
          108,
          109,
          110,
          111,
          112,
          113,
          114,
          115,
          116,
          117,
          118,
          119,
          120,
          121,
          122,
          123,
          124,
          125,
          126,
          127,
          128,
          129,
          130,
          131,
          132,
          133,
          134,
          135,
          136,
          137,
          138,
          139,
          140,
          141,
          142,
          143,
          144,
          145,
          146,
          147,
          148,
          149,
          150,
          151,
          152,
          153,
          154,
          155,
          156,
          157,
          158,
          159,
          160,
          161,
          162,
          163,
          164,
          165,
          166,
          167,
          168,
          169,
          170,
          171,
          172,
          173,
          174,
          175,
          176,
          177,
          178,
          179,
          180,
          181,
          182,
          183,
          184,
          185,
          186,
          187,
          188,
          189,
          190,
          191,
          192,
          193,
          194,
          195,
          196,
          197,
          198,
          199,
          200,
          201,
          202,
          203,
          204,
          205,
          206,
          207,
          208,
          209,
          210,
          211,
          212,
          213,
          214,
          215,
          216,
          217,
          218,
          219,
          220,
          221,
          222,
          223,
          224,
          225,
          226,
          227,
          228,
          229,
          230,
          231,
          232,
          233,
          234,
          235,
          236,
          237,
          238,
          239,
          240,
          241,
          242,
          243,
          244,
          245,
          246,
          247,
          248,
          249,
          250,
          251,
          252,
          253,
          254,
          255,
          256,
          257,
          258,
          259,
          260,
          261,
          262,
          263,
          264,
          265,
          266,
          267,
          268,
          269,
          270,
          271,
          272,
          273,
          274,
          275,
          276,
          277,
          278,
          279,
          280,
          281,
          282,
          283,
          284,
          285,
          286,
          287,
          288,
          289,
          290,
          291,
          292,
          293,
          294,
          295,
          296,
          297,
          298,
          299,
          300,
          301,
          302,
          303,
          304,
          305,
          306,
          307,
          308,
          309,
          310,
          311,
          312,
          313,
          314,
          315,
          316,
          317,
          318,
          319,
          320,
          321,
          322,
          323,
          324,
          325,
          326,
          327,
          328,
          329,
          330,
          331,
          332,
          333,
          334,
          335,
          336,
          337,
          338,
          339,
          340,
          341,
          342,
          343,
          344,
          345,
          346,
          347,
          348,
          349,
          350,
          351,
          352,
          353,
          354,
          355,
          356,
          357,
          358,
          359,
          360,
          361,
          362,
          363,
          364,
          365,
          366,
          367,
          368,
          369,
          370,
          371,
          372,
          373,
          374,
          375,
          376,
          377,
          378,
          379,
          380,
          381,
          382,
          383,
          384,
          385,
          386,
          387,
          388,
          389,
          390,
          391,
          392,
          393,
          394,
          395,
          396,
          397,
          398,
          399,
          400,
          401,
          402,
          403,
          404,
          405,
          406,
          407,
          408,
          409,
          410,
          411,
          412,
          413,
          414,
          415,
          416,
          417,
          418,
          419,
          420,
          421,
          422,
          423,
          424,
          425,
          426,
          427,
          428,
          429,
          430,
          431,
          432,
          433,
          434,
          435,
          436,
          437,
          438,
          439,
          440,
          441,
          442,
          443,
          444,
          445,
          446,
          447,
          448,
          449,
          450,
          451,
          452,
          453,
          454,
          455,
          456,
          457,
          458,
          459,
          460,
          461,
          462,
          463,
          464,
          465,
          466,
          467,
          468,
          469,
          470,
          471,
          472,
          473,
          474,
          475,
          476,
          477,
          478,
          479,
          480,
          481,
          482,
          483,
          484,
          485,
          486,
          487,
          488,
          489,
          490,
          491,
          492,
          493,
          494,
          495,
          496,
          497,
          498,
          499,
          500
         ],
         "y": [
          -1.4641016151377548,
          -1.464065550780104,
          -1.463957343145189,
          -1.4637769485423158,
          -1.463524294137653,
          -1.4631992779302674,
          -1.4628017687187098,
          -1.4623316060582165,
          -1.4617886002087366,
          -1.4611725320739166,
          -1.4604831531312832,
          -1.4597201853538775,
          -1.458883321123623,
          -1.457972223136768,
          -1.456986524301756,
          -1.455925827629944,
          -1.45478970611961,
          -1.4535777026337675,
          -1.4522893297722907,
          -1.4509240697389805,
          -1.449481374204185,
          -1.44796066416366,
          -1.4463613297944522,
          -1.444682730308569,
          -1.4429241938053157,
          -1.4410850171232128,
          -1.439164465692513,
          -1.4371617733893174,
          -1.435076142392481,
          -1.4329067430444573,
          -1.4306527137173857,
          -1.4283131606857489,
          -1.4258871580070653,
          -1.4233737474121126,
          -1.420771938206289,
          -1.4180807071838106,
          -1.4152989985565392,
          -1.4124257238992917,
          -1.4094597621136458,
          -1.4063999594122776,
          -1.403245129326024,
          -1.3999940527359402,
          -1.3966454779327162,
          -1.3931981207059294,
          -1.3896506644657225,
          -1.3860017603995576,
          -1.382250027666832,
          -1.37839405363424,
          -1.3744323941548087,
          -1.3703635738936961,
          -1.366186086703874,
          -1.3618983960548947,
          -1.357498935518065,
          -1.352986109311346,
          -1.3483582929074076,
          -1.3436138337082613,
          -1.3387510517899814,
          -1.3337682407209905,
          -1.3286636684574156,
          -1.3234355783190042,
          -1.3180821900490618,
          -1.312601700961791,
          -1.306992287180386,
          -1.3012521049690973,
          -1.295379292162384,
          -1.2893719696941195,
          -1.2832282432296263,
          -1.2769462049031115,
          -1.2705239351628952,
          -1.263959504726443,
          -1.2572509766470281,
          -1.2503964084934551,
          -1.2433938546439014,
          -1.2362413686945943,
          -1.2289370059835145,
          -1.221478826228947,
          -1.213864896282096,
          -1.2060932929925778,
          -1.1981621061848906,
          -1.1900694417435065,
          -1.1818134248035495,
          -1.17339220304339,
          -1.1648039500748655,
          -1.1560468689261674,
          -1.14711919561171,
          -1.1380192027827123,
          -1.128745203451478,
          -1.1192955547817163,
          -1.1096686619366303,
          -1.0998629819758026,
          -1.0898770277914225,
          -1.079709372073701,
          -1.0693586512949458,
          -1.0588235697012083,
          -1.0481029033000413,
          -1.0371955038326004,
          -1.02610030271801,
          -1.0148163149577631,
          -1.0033426429877998,
          -0.9916784804659404,
          -0.9798231159823838,
          -0.9677759366812124,
          -0.9555364317810718,
          -0.943104195983665,
          -0.9304789327590721,
          -0.9176604574976086,
          -0.9046487005185392,
          -0.8914437099267816,
          -0.8780456543096091,
          -0.8644548252663161,
          -0.8506716397648364,
          -0.8366966423204354,
          -0.8225305069927767,
          -0.8081740391988523,
          -0.7936281773406273,
          -0.7788939942474555,
          -0.763972698434755,
          -0.7488656351817491,
          -0.7335742874324203,
          -0.7181002765252319,
          -0.7024453627584751,
          -0.6866114457994436,
          -0.6706005649469129,
          -0.6544148992576893,
          -0.638056767549168,
          -0.6215286282910168,
          -0.6048330794002456,
          -0.5879728579549087,
          -0.5709508398427635,
          -0.5537700393620842,
          -0.5364336087927731,
          -0.5189448379566834,
          -0.5013071537869151,
          -0.48352411992649774,
          -0.4655994363776716,
          -0.4475369392235168,
          -0.4293406004444229,
          -0.4110145278524049,
          -0.392562965166963,
          -0.37399029225668146,
          -0.35530102557145926,
          -0.33649981879080537,
          -0.3175914637143181,
          -0.2985808914211191,
          -0.27947317372573754,
          -0.2602735249587014,
          -0.24098730410087194,
          -0.22162001730148778,
          -0.20217732081076462,
          -0.18266502435890836,
          -0.16308909501444704,
          -0.14345566155586065,
          -0.12377101939167094,
          -0.10404163606527059,
          -0.0842741573819227,
          -0.0644754141965616,
          -0.04465242990199981,
          -0.02481242865811969,
          -0.0049628444034121,
          0.014888669309357762,
          0.034734228611402886,
          0.054565707708535915,
          0.07437472632362535,
          0.09415263615216223,
          0.1138905062951427,
          0.1335791076376182,
          0.15320889614710886,
          0.17276999507383867,
          0.19225217604502176,
          0.21164483905861114,
          0.23093699139858004,
          0.25011722551481186,
          0.269173695936601,
          0.2880940953205534,
          0.3068656297724698,
          0.32547499362931065,
          0.3439083439431623,
          0.36215127497504873,
          0.3801887930838859,
          0.39800529248591027,
          0.4155845324634686,
          0.4329096167197022,
          0.4499629757078255,
          0.466726352909399,
          0.48318079619423393,
          0.4993066555620044,
          0.515083588738064,
          0.5304905762665144,
          0.545505947902996,
          0.5601074222458307,
          0.5742721616414672,
          0.5879768444399878,
          0.6011977566367005,
          0.6139109047924983,
          0.6260921518531569,
          0.6377173770619993,
          0.6487626605607097,
          0.6592044924869173,
          0.669020005403265,
          0.6781872277466408,
          0.6866853547036748,
          0.6944950315586049,
          0.7015986432049826,
          0.7079806022669604,
          0.713627627257309,
          0.7185290015292037,
          0.7226768035682857,
          0.726066099504717,
          0.7286950896443222,
          0.7305652023118393,
          0.7316811302970831,
          0.732050807568837,
          0.73168186062464,
          0.730585060545064,
          0.7287776092243691,
          0.7262793487452578,
          0.7231124839303783,
          0.719301278456444,
          0.7148717348200467,
          0.7098512681587944,
          0.7042683831411533,
          0.698152361964341,
          0.6915329700770819,
          0.6844401847056734,
          0.6769039497253531,
          0.6689539589785897,
          0.6606194688647868,
          0.6519291399524451,
          0.6429109065114818,
          0.6335918722276757,
          0.6239982299267134,
          0.6141552028766979,
          0.6040870051259497,
          0.5938168183368068,
          0.5833667826670583,
          0.5727579994027103,
          0.5620105432370956,
          0.5511434823039064,
          0.5401749042917057,
          0.5291219471847137,
          0.5180008333815754,
          0.506826906136147,
          0.49561466743895227,
          0.48437781661395074,
          0.47312928904239726,
          0.4618812945445056,
          0.45064535505161507,
          0.43943234128799163,
          0.4282525082538326,
          0.4171155293612172,
          0.4060305291240766,
          0.395006114343383,
          0.38405040376091615,
          0.3731710561803856,
          0.3623752970745779,
          0.3516699437122567,
          0.341061428849908,
          0.330555823041453,
          0.32015885562465835,
          0.3098759344463997,
          0.2997121643907705,
          0.2896723647746027,
          0.2797610856744099,
          0.269982623247606,
          0.2603410341089748,
          0.2508401488211853,
          0.2414835845555976,
          0.23227475697690797,
          0.22321689140242584,
          0.2143130332838274,
          0.205566058056523,
          0.19697868039885186,
          0.18855346294070058,
          0.18029282445846517,
          0.17219904759074978,
          0.16427428610682027,
          0.15652057175754464,
          0.14893982073638223,
          0.14153383977595257,
          0.13430433190384017,
          0.1272529018794616,
          0.12038106133215798,
          0.11369023361917596,
          0.10718175842063227,
          0.10085689608733928,
          0.09471683175599477,
          0.08876267924517367,
          0.08299548474440255,
          0.07741623030764644,
          0.07202583716159727,
          0.06682516883829925,
          0.061815034140838,
          0.056996189950137,
          0.052369343880175556,
          0.04793515678835936,
          0.04369424514718123,
          0.039647183282802256,
          0.03579450548565516,
          0.03213670799777524,
          0.028674250881102925,
          0.025407559770644628,
          0.022337027516037444,
          0.019463015714674514,
          0.016785856139350908,
          0.01430585206300461,
          0.012023279482959365,
          0.00993838824675708,
          0.00805140308153554,
          0.006362524528598534,
          0.004871929784746792,
          0.0035797734516514468,
          0.0024861881944665126,
          0.0015912853106648875,
          0.0008951552099444801,
          0.00039786780596658025,
          0.00009947282041953507,
          -8.16720580091893e-14,
          -0.0002946763283301153,
          -0.0011780675291479178,
          -0.0026483559691017136,
          -0.004702526312646449,
          -0.007336386322702532,
          -0.010544595493127862,
          -0.014320701042681794,
          -0.01865718069030914,
          -0.023545491538676078,
          -0.02897612431884139,
          -0.03493866219517261,
          -0.041421843296528316,
          -0.048413626126859954,
          -0.055901257014982386,
          -0.0638713387871509,
          -0.0723098998858136,
          -0.08120246321030467,
          -0.0905341140181043,
          -0.10028956629574559,
          -0.11045322708378036,
          -0.12100925831793996,
          -0.13194163582656138,
          -0.14323420520042507,
          -0.15487073432372,
          -0.16683496242274343,
          -0.17911064555100242,
          -0.19168159848509125,
          -0.20453173305466854,
          -0.21764509297191326,
          -0.23100588526110682,
          -0.24459850841771902,
          -0.2584075774489705,
          -0.27241794596481733,
          -0.2866147255000809,
          -0.3009833022557533,
          -0.31550935145087666,
          -0.3301788494762698,
          -0.34497808403856756,
          -0.35989366247779725,
          -0.37491251843468326,
          -0.39002191703537625,
          -0.40520945875182607,
          -0.4204630820857406,
          -0.4357710652134265,
          -0.4511220267179294,
          -0.4665049255240614,
          -0.481909060141154,
          -0.49732406730803147,
          -0.5127399201247188,
          -0.5281469257458014,
          -0.5435357227014651,
          -0.5588972779038129,
          -0.5742228833881953,
          -0.5895041528321723,
          -0.6047330178880633,
          -0.619901724359109,
          -0.6350028282438264,
          -0.6500291916683483,
          -0.6649739787222491,
          -0.6798306512096165,
          -0.6945929643238858,
          -0.7092549622521598,
          -0.7238109737124755,
          -0.7382556074254496,
          -0.7525837475203295,
          -0.7667905488742147,
          -0.7808714323824117,
          -0.7948220801573221,
          -0.8086384306529815,
          -0.8223166737123184,
          -0.835853245534384,
          -0.849244823559153,
          -0.8624883212679949,
          -0.8755808828985613,
          -0.8885198780736018,
          -0.9013028963440171,
          -0.9139277416473952,
          -0.9263924266841391,
          -0.9386951672143318,
          -0.9508343762793457,
          -0.9628086583531814,
          -0.9746168034294053,
          -0.9862577810504118,
          -0.9977307342864917,
          -1.0090349736729483,
          -1.0201699711141148,
          -1.0311353537636951,
          -1.0419308978912725,
          -1.0525565227452767,
          -1.063012284422866,
          -1.073298369757449,
          -1.0834150902345778,
          -1.0933628759469587,
          -1.1031422695992255,
          -1.1127539205729042,
          -1.1221985790617284,
          -1.1314770902871392,
          -1.1405903888033602,
          -1.1495394929009881,
          -1.1583254991174894,
          -1.1669495768624385,
          -1.1754129631647334,
          -1.1837169575483488,
          -1.1918629170425807,
          -1.1998522513320327,
          -1.2076864180509097,
          -1.2153669182255409,
          -1.2228952918683136,
          -1.2302731137256495,
          -1.2375019891818373,
          -1.2445835503201208,
          -1.251519452141619,
          -1.2583113689422643,
          -1.2649609908472839,
          -1.2714700205022809,
          -1.2778401699194974,
          -1.2840731574773758,
          -1.290170705071151,
          -1.2961345354118186,
          -1.3019663694705024,
          -1.3076679240649265,
          -1.3132409095844793,
          -1.3186870278500533,
          -1.3240079701047363,
          -1.3292054151311752,
          -1.334281027491403,
          -1.3392364558846999,
          -1.3440733316190854,
          -1.3487932671919147,
          -1.3533978549750396,
          -1.3578886660000393,
          -1.3622672488389342,
          -1.3665351285759204,
          -1.370693805865662,
          -1.3747447560737502,
          -1.3786894284949944,
          -1.3825292456453435,
          -1.3862656026232338,
          -1.3898998665363949,
          -1.393433375990126,
          -1.3968674406332442,
          -1.400203340758016,
          -1.4034423269504892,
          -1.406585619787781,
          -1.4096344095789843,
          -1.4125898561465418,
          -1.4154530886449685,
          -1.4182252054140416,
          -1.4209072738636213,
          -1.4235003303874314,
          -1.42600538030323,
          -1.4284233978169727,
          -1.4307553260086059,
          -1.4330020768373346,
          -1.4351645311642507,
          -1.4372435387903741,
          -1.4392399185082192,
          -1.4411544581651357,
          -1.4429879147367646,
          -1.4447410144090254,
          -1.4464144526671925,
          -1.448008894390647,
          -1.4495249739520262,
          -1.4509632953195466,
          -1.4523244321613804,
          -1.4536089279509967,
          -1.4548172960725185,
          -1.4559500199251512,
          -1.457007553025827,
          -1.4579903191093297,
          -1.4588987122251071,
          -1.4597330968301407,
          -1.4604938078772745,
          -1.46118115089842,
          -1.4617954020821453,
          -1.4623368083452093,
          -1.4628055873976094,
          -1.4632019278008028,
          -1.4635259890187882,
          -1.463777901461774,
          -1.4639577665222083,
          -1.4640656566029961,
          -1.4641016151377548
         ]
        },
        {
         "line": {
          "color": "purple",
          "width": 4
         },
         "mode": "lines",
         "type": "scatter",
         "x": [
          1,
          2,
          3,
          4,
          5,
          6,
          7,
          8,
          9,
          10,
          11,
          12,
          13,
          14,
          15,
          16,
          17,
          18,
          19,
          20,
          21,
          22,
          23,
          24,
          25,
          26,
          27,
          28,
          29,
          30,
          31,
          32,
          33,
          34,
          35,
          36,
          37,
          38,
          39,
          40,
          41,
          42,
          43,
          44,
          45,
          46,
          47,
          48,
          49,
          50,
          51,
          52,
          53,
          54,
          55,
          56,
          57,
          58,
          59,
          60,
          61,
          62,
          63,
          64,
          65,
          66,
          67,
          68,
          69,
          70,
          71,
          72,
          73,
          74,
          75,
          76,
          77,
          78,
          79,
          80,
          81,
          82,
          83,
          84,
          85,
          86,
          87,
          88,
          89,
          90,
          91,
          92,
          93,
          94,
          95,
          96,
          97,
          98,
          99,
          100,
          101,
          102,
          103,
          104,
          105,
          106,
          107,
          108,
          109,
          110,
          111,
          112,
          113,
          114,
          115,
          116,
          117,
          118,
          119,
          120,
          121,
          122,
          123,
          124,
          125,
          126,
          127,
          128,
          129,
          130,
          131,
          132,
          133,
          134,
          135,
          136,
          137,
          138,
          139,
          140,
          141,
          142,
          143,
          144,
          145,
          146,
          147,
          148,
          149,
          150,
          151,
          152,
          153,
          154,
          155,
          156,
          157,
          158,
          159,
          160,
          161,
          162,
          163,
          164,
          165,
          166,
          167,
          168,
          169,
          170,
          171,
          172,
          173,
          174,
          175,
          176,
          177,
          178,
          179,
          180,
          181,
          182,
          183,
          184,
          185,
          186,
          187,
          188,
          189,
          190,
          191,
          192,
          193,
          194,
          195,
          196,
          197,
          198,
          199,
          200,
          201,
          202,
          203,
          204,
          205,
          206,
          207,
          208,
          209,
          210,
          211,
          212,
          213,
          214,
          215,
          216,
          217,
          218,
          219,
          220,
          221,
          222,
          223,
          224,
          225,
          226,
          227,
          228,
          229,
          230,
          231,
          232,
          233,
          234,
          235,
          236,
          237,
          238,
          239,
          240,
          241,
          242,
          243,
          244,
          245,
          246,
          247,
          248,
          249,
          250,
          251,
          252,
          253,
          254,
          255,
          256,
          257,
          258,
          259,
          260,
          261,
          262,
          263,
          264,
          265,
          266,
          267,
          268,
          269,
          270,
          271,
          272,
          273,
          274,
          275,
          276,
          277,
          278,
          279,
          280,
          281,
          282,
          283,
          284,
          285,
          286,
          287,
          288,
          289,
          290,
          291,
          292,
          293,
          294,
          295,
          296,
          297,
          298,
          299,
          300,
          301,
          302,
          303,
          304,
          305,
          306,
          307,
          308,
          309,
          310,
          311,
          312,
          313,
          314,
          315,
          316,
          317,
          318,
          319,
          320,
          321,
          322,
          323,
          324,
          325,
          326,
          327,
          328,
          329,
          330,
          331,
          332,
          333,
          334,
          335,
          336,
          337,
          338,
          339,
          340,
          341,
          342,
          343,
          344,
          345,
          346,
          347,
          348,
          349,
          350,
          351,
          352,
          353,
          354,
          355,
          356,
          357,
          358,
          359,
          360,
          361,
          362,
          363,
          364,
          365,
          366,
          367,
          368,
          369,
          370,
          371,
          372,
          373,
          374,
          375,
          376,
          377,
          378,
          379,
          380,
          381,
          382,
          383,
          384,
          385,
          386,
          387,
          388,
          389,
          390,
          391,
          392,
          393,
          394,
          395,
          396,
          397,
          398,
          399,
          400,
          401,
          402,
          403,
          404,
          405,
          406,
          407,
          408,
          409,
          410,
          411,
          412,
          413,
          414,
          415,
          416,
          417,
          418,
          419,
          420,
          421,
          422,
          423,
          424,
          425,
          426,
          427,
          428,
          429,
          430,
          431,
          432,
          433,
          434,
          435,
          436,
          437,
          438,
          439,
          440,
          441,
          442,
          443,
          444,
          445,
          446,
          447,
          448,
          449,
          450,
          451,
          452,
          453,
          454,
          455,
          456,
          457,
          458,
          459,
          460,
          461,
          462,
          463,
          464,
          465,
          466,
          467,
          468,
          469,
          470,
          471,
          472,
          473,
          474,
          475,
          476,
          477,
          478,
          479,
          480,
          481,
          482,
          483,
          484,
          485,
          486,
          487,
          488,
          489,
          490,
          491,
          492,
          493,
          494,
          495,
          496,
          497,
          498,
          499,
          500
         ],
         "y": [
          5.464101615137757,
          5.463967026864718,
          5.463563276606605,
          5.462890408045418,
          5.4619484939812,
          5.46073763632713,
          5.459257966102596,
          5.457509643424363,
          5.455492857495728,
          5.453207826593777,
          5.450654798054639,
          5.44783404825683,
          5.4447458826026764,
          5.441390635497776,
          5.437768670328591,
          5.4338803794381185,
          5.429726184099671,
          5.425306534488796,
          5.4206219096533435,
          5.415672817481676,
          5.410459794669048,
          5.404983406682218,
          5.399244247722236,
          5.393242940685477,
          5.386980137122949,
          5.380456517197863,
          5.373672789641516,
          5.3666296917075105,
          5.359327989124325,
          5.351768476046293,
          5.343951975002983,
          5.3358793368470465,
          5.327551440700526,
          5.318969193899748,
          5.3101335319386855,
          5.301045418411002,
          5.291705844950698,
          5.282115831171431,
          5.272276424604601,
          5.262188700636156,
          5.251853762442281,
          5.241272740923921,
          5.230446794640254,
          5.219377109741121,
          5.208064899898554,
          5.1965114062373345,
          5.184717897264794,
          5.172685668799788,
          5.160416043901021,
          5.147910372794725,
          5.135170032801794,
          5.122196428264459,
          5.108990990472577,
          5.095555177589624,
          5.081890474578473,
          5.067998393127084,
          5.053880471574159,
          5.039538274834901,
          5.024973394326975,
          5.010187447896777,
          4.995182079746147,
          4.97995896035964,
          4.96451978643247,
          4.948866280799303,
          4.933000192363998,
          4.91692329603049,
          4.90063739263492,
          4.8841443088792404,
          4.867445897266407,
          4.850544036037381,
          4.8334406291101075,
          4.816137606020699,
          4.798636921867,
          4.780940557254768,
          4.76305051824672,
          4.744968836314657,
          4.7266975682949495,
          4.7082387963476435,
          4.689594627919475,
          4.670767195711067,
          4.651758657648685,
          4.632571196860818,
          4.613207021659977,
          4.593668365530061,
          4.573957487119689,
          4.554076670241905,
          4.534028223880707,
          4.513814482204829,
          4.493437804589284,
          4.472900575645186,
          4.452205205258368,
          4.431354128637395,
          4.410349806371567,
          4.389194724499564,
          4.367891394589406,
          4.346442353830442,
          4.324850165138169,
          4.303117417272656,
          4.2812467249714485,
          4.259240729097867,
          4.237102096805685,
          4.214833521721185,
          4.192437724143727,
          4.169917451265965,
          4.147275477414979,
          4.124514604315597,
          4.101637661377381,
          4.078647506006689,
          4.05554702394547,
          4.032339129638475,
          4.009026766630661,
          3.9856129079967437,
          3.9621005568049803,
          3.938492746617308,
          3.914792542028276,
          3.891003039245187,
          3.8671273667121895,
          3.843168685781148,
          3.8191301914323565,
          3.795015113048371,
          3.770826715244456,
          3.7465682987593913,
          3.7222432014106475,
          3.697854799118218,
          3.6734065070017357,
          3.6489017805557453,
          3.624344116908482,
          3.5997370561697624,
          3.575084182874092,
          3.5503891275254773,
          3.5256555682509614,
          3.5008872325703257,
          3.4760878992900475,
          3.451261400530101,
          3.4264116238928937,
          3.4015425147842357,
          3.3766580788970475,
          3.3517623848691835,
          3.3268595671277255,
          3.301953828932832,
          3.277049445635311,
          3.252150768163046,
          3.2272622267524644,
          3.2023883349424613,
          3.1775336938493384,
          3.152702996742677,
          3.127901033943357,
          3.103132698066453,
          3.07840298963315,
          3.0537170230774846,
          3.0290800331752123,
          3.004497381923888,
          2.9799745659048416,
          2.955517224159495,
          2.9311311466140717,
          2.9068222830884984,
          2.882596752926724,
          2.8584608552871225,
          2.83442108013289,
          2.8104841199631174,
          2.7866568823258406,
          2.7629465031542755,
          2.7393603609667916,
          2.715906091969636,
          2.6925916060988118,
          2.669425104033584,
          2.6464150952085057,
          2.62357041684324,
          2.6009002539994364,
          2.57841416066085,
          2.556122081816383,
          2.5340343765048314,
          2.5121618417543314,
          2.4905157373177387,
          2.4691078110665066,
          2.4479503248591135,
          2.4270560806443586,
          2.406438446493901,
          2.386111382181017,
          2.366089463832499,
          2.3463879070770854,
          2.3270225879961135,
          2.3080100610499557,
          2.2893675730080303,
          2.2711130717519414,
          2.253265208653815,
          2.235843333059448,
          2.218867477235293,
          2.2023583299788405,
          2.186337196955755,
          2.1708259457297436,
          2.1558469334113237,
          2.141422914891273,
          2.127576929767915,
          2.1143321663498154,
          2.1017118015411684,
          2.089738816016761,
          2.0784357848795207,
          2.0678246449675135,
          2.0579264411232505,
          2.0487610550207176,
          2.0403469215054653,
          2.0327007387577556,
          2.0258371798343715,
          2.019768614163365,
          2.0145048482359766,
          2.0100528949505794,
          2.0064167807301696,
          2.0035973986155984,
          2.0015924140427117,
          2.0003962280138494,
          2.000000000000044,
          2.0003954452151795,
          2.001571126144842,
          2.0035089179032597,
          2.0061880534959964,
          2.009585400884959,
          2.0136757664961453,
          2.01843221488217,
          2.0238263945370147,
          2.029828860650726,
          2.036409386765745,
          2.0435372587191396,
          2.051181545793305,
          2.059311345534154,
          2.0678960001362046,
          2.076905283571018,
          2.086309559708944,
          2.096079912537412,
          2.1061882502146947,
          2.116607385132629,
          2.1273110924202614,
          2.138274149432459,
          2.14947235876362,
          2.1608825572356354,
          2.1724826131571597,
          2.1842514139599336,
          2.1961688461052704,
          2.208215768933801,
          2.22037398391432,
          2.232626200540597,
          2.244955999932652,
          2.2573477970243423,
          2.2697868020630443,
          2.282258982010065,
          2.294751022311393,
          2.307250289406375,
          2.3197447942554343,
          2.332223157095398,
          2.3446745735708516,
          2.3570887823404427,
          2.3694560342169653,
          2.3817670628677665,
          2.394013057076565,
          2.406185634547811,
          2.4182768172195668,
          2.4302790080395114,
          2.442184969150503,
          2.4539878014265257,
          2.465680925296313,
          2.4772580627900416,
          2.4887132207438936,
          2.500040675097693,
          2.5112349562219984,
          2.5222908352128073,
          2.533203311094154,
          2.543967598871375,
          2.554579118380455,
          2.565033483881591,
          2.5753264943479377,
          2.5854541244032725,
          2.595412515865058,
          2.6051979698520733,
          2.61480693941835,
          2.6242360226776533,
          2.6334819563851046,
          2.6425416099447836,
          2.6514119798142954,
          2.660090184279285,
          2.66857345857276,
          2.676859150315871,
          2.684944715258452,
          2.692827713299148,
          2.700505804766449,
          2.707976746943271,
          2.715238390818963,
          2.7222886780538333,
          2.7291256381423583,
          2.7357473857622137,
          2.742152118297271,
          2.748338113523529,
          2.754303727447788,
          2.7600473922896054,
          2.765567614597804,
          2.770862973493437,
          2.77593211903172,
          2.7807737706760225,
          2.7853867158775145,
          2.78976980875458,
          2.793921968866553,
          2.797842180076748,
          2.8015294895001928,
          2.8049830065318098,
          2.8082019019511595,
          2.8111854071001976,
          2.813932813130787,
          2.816443470319025,
          2.8187167874436994,
          2.8207522312264754,
          2.8225493258316283,
          2.824107652423431,
          2.8254268487794727,
          2.826506608958457,
          2.827346683021196,
          2.8279468768037663,
          2.828307051741946,
          2.8284271247462884,
          2.8287828420544745,
          2.829849362143431,
          2.8316249041288417,
          2.8341065138022072,
          2.8372900842496094,
          2.8411703842292404,
          2.8457410938368524,
          2.8509948468784607,
          2.8569232792765686,
          2.8635170827620926,
          2.8707660630502554,
          2.878659201665583,
          2.8871847205681718,
          2.8963301487399553,
          2.9060823899135153,
          2.91642779066572,
          2.927352208150818,
          2.9388410768105038,
          2.95087947346894,
          2.9634521802960987,
          2.976543745200572,
          2.9901385392910287,
          3.004220811121677,
          3.0187747375098066,
          3.033784470781546,
          3.049234182364205,
          3.065108102699524,
          3.0813905575013565,
          3.0980660004236094,
          3.1151190422399266,
          3.1325344766655623,
          3.15029730297499,
          3.1683927455860688,
          3.1868062707938476,
          3.2055236008448755,
          3.224530725546673,
          3.243813911607523,
          3.2633597098993468,
          3.2831549608318604,
          3.3031867980196514,
          3.323442650415995,
          3.3439102430782874,
          3.364577596720331,
          3.385433026196643,
          3.406465138053709,
          3.427662827272777,
          3.4490152733187274,
          3.470511935599617,
          3.4921425484321,
          3.5138971155987924,
          3.5357659045751477,
          3.557739440495359,
          3.5798084999193067,
          3.6019641044555613,
          3.6241975142891194,
          3.646500221656579,
          3.668863944306093,
          3.69128061897455,
          3.7137423949099233,
          3.7362416274628085,
          3.7587708717674486,
          3.7813228765293876,
          3.803890577933947,
          3.8264670936871767,
          3.849045717198626,
          3.871619911913287,
          3.8941833057982542,
          3.9167296859881278,
          3.939252993591791,
          3.961747318662059,
          3.984206895328623,
          4.006626097093881,
          4.028999432290503,
          4.051321539698886,
          4.073587184322209,
          4.095791253316276,
          4.117928752071027,
          4.139994800440276,
          4.161984629116,
          4.183893576143355,
          4.205717083572398,
          4.227450694242497,
          4.249090048695268,
          4.270630882211844,
          4.292069021970414,
          4.313400384319799,
          4.334620972165008,
          4.355726872460732,
          4.376714253808762,
          4.397579364155486,
          4.4183185285855835,
          4.438928147208253,
          4.459404693132307,
          4.479744710526648,
          4.499944812762684,
          4.520001680635364,
          4.539912060659694,
          4.559672763439554,
          4.579280662105906,
          4.598732690821454,
          4.618025843349049,
          4.637157171681096,
          4.656123784727452,
          4.674922847059341,
          4.693551577706869,
          4.712007249007936,
          4.7302871855062865,
          4.748388762896667,
          4.766309407015054,
          4.784046592871998,
          4.801597843727302,
          4.818960730204218,
          4.836132869441482,
          4.853111924281586,
          4.869895602493708,
          4.886481656029832,
          4.902867880312634,
          4.919052113553787,
          4.9350322361013585,
          4.950806169815091,
          4.966371877468353,
          4.981727362175617,
          4.996870666844432,
          5.011799873650763,
          5.026513103536781,
          5.0410085157301365,
          5.0552843072837526,
          5.0693387126353615,
          5.083170003185884,
          5.096776486895892,
          5.110156507899363,
          5.123308446134075,
          5.136230716987852,
          5.148921770960074,
          5.161380093337779,
          5.17360420388578,
          5.185592656550191,
          5.197344039174841,
          5.208856973230009,
          5.220130113553033,
          5.231162148100247,
          5.241951797709831,
          5.252497815875131,
          5.262798988528015,
          5.272854133831856,
          5.282662101983801,
          5.2922217750259115,
          5.3015320666648655,
          5.31059192209986,
          5.319400317858431,
          5.327956261639848,
          5.336258792165818,
          5.344306979038237,
          5.352099922603697,
          5.359636753824521,
          5.3669166341560794,
          5.373938755430167,
          5.380702339744229,
          5.387206639356214,
          5.393450936584907,
          5.39943454371548,
          5.405156802910189,
          5.410617086123934,
          5.415814795024675,
          5.420749360918382,
          5.4254202446785476,
          5.429826936680026,
          5.433968956737097,
          5.43784585404569,
          5.441457207129591,
          5.444802623790587,
          5.447881741062433,
          5.45069422516856,
          5.453239771483428,
          5.455518104497527,
          5.457528977785831,
          5.459272173979784,
          5.460747504742679,
          5.461954810748409,
          5.4628939616635535,
          5.463564856132776,
          5.463967421767483,
          5.464101615137757
         ]
        }
       ],
       "frames": [],
       "layout": {
        "height": 510,
        "margin": {
         "b": 50,
         "l": 50,
         "r": 50,
         "t": 60
        },
        "plot_bgcolor": "rgba(0,0,0,0)",
        "showlegend": false,
        "template": {
         "data": {
          "bar": [
           {
            "error_x": {
             "color": "#2a3f5f"
            },
            "error_y": {
             "color": "#2a3f5f"
            },
            "marker": {
             "line": {
              "color": "#E5ECF6",
              "width": 0.5
             }
            },
            "type": "bar"
           }
          ],
          "barpolar": [
           {
            "marker": {
             "line": {
              "color": "#E5ECF6",
              "width": 0.5
             }
            },
            "type": "barpolar"
           }
          ],
          "carpet": [
           {
            "aaxis": {
             "endlinecolor": "#2a3f5f",
             "gridcolor": "white",
             "linecolor": "white",
             "minorgridcolor": "white",
             "startlinecolor": "#2a3f5f"
            },
            "baxis": {
             "endlinecolor": "#2a3f5f",
             "gridcolor": "white",
             "linecolor": "white",
             "minorgridcolor": "white",
             "startlinecolor": "#2a3f5f"
            },
            "type": "carpet"
           }
          ],
          "choropleth": [
           {
            "colorbar": {
             "outlinewidth": 0,
             "ticks": ""
            },
            "type": "choropleth"
           }
          ],
          "contour": [
           {
            "colorbar": {
             "outlinewidth": 0,
             "ticks": ""
            },
            "colorscale": [
             [
              0,
              "#0d0887"
             ],
             [
              0.1111111111111111,
              "#46039f"
             ],
             [
              0.2222222222222222,
              "#7201a8"
             ],
             [
              0.3333333333333333,
              "#9c179e"
             ],
             [
              0.4444444444444444,
              "#bd3786"
             ],
             [
              0.5555555555555556,
              "#d8576b"
             ],
             [
              0.6666666666666666,
              "#ed7953"
             ],
             [
              0.7777777777777778,
              "#fb9f3a"
             ],
             [
              0.8888888888888888,
              "#fdca26"
             ],
             [
              1,
              "#f0f921"
             ]
            ],
            "type": "contour"
           }
          ],
          "contourcarpet": [
           {
            "colorbar": {
             "outlinewidth": 0,
             "ticks": ""
            },
            "type": "contourcarpet"
           }
          ],
          "heatmap": [
           {
            "colorbar": {
             "outlinewidth": 0,
             "ticks": ""
            },
            "colorscale": [
             [
              0,
              "#0d0887"
             ],
             [
              0.1111111111111111,
              "#46039f"
             ],
             [
              0.2222222222222222,
              "#7201a8"
             ],
             [
              0.3333333333333333,
              "#9c179e"
             ],
             [
              0.4444444444444444,
              "#bd3786"
             ],
             [
              0.5555555555555556,
              "#d8576b"
             ],
             [
              0.6666666666666666,
              "#ed7953"
             ],
             [
              0.7777777777777778,
              "#fb9f3a"
             ],
             [
              0.8888888888888888,
              "#fdca26"
             ],
             [
              1,
              "#f0f921"
             ]
            ],
            "type": "heatmap"
           }
          ],
          "heatmapgl": [
           {
            "colorbar": {
             "outlinewidth": 0,
             "ticks": ""
            },
            "colorscale": [
             [
              0,
              "#0d0887"
             ],
             [
              0.1111111111111111,
              "#46039f"
             ],
             [
              0.2222222222222222,
              "#7201a8"
             ],
             [
              0.3333333333333333,
              "#9c179e"
             ],
             [
              0.4444444444444444,
              "#bd3786"
             ],
             [
              0.5555555555555556,
              "#d8576b"
             ],
             [
              0.6666666666666666,
              "#ed7953"
             ],
             [
              0.7777777777777778,
              "#fb9f3a"
             ],
             [
              0.8888888888888888,
              "#fdca26"
             ],
             [
              1,
              "#f0f921"
             ]
            ],
            "type": "heatmapgl"
           }
          ],
          "histogram": [
           {
            "marker": {
             "colorbar": {
              "outlinewidth": 0,
              "ticks": ""
             }
            },
            "type": "histogram"
           }
          ],
          "histogram2d": [
           {
            "colorbar": {
             "outlinewidth": 0,
             "ticks": ""
            },
            "colorscale": [
             [
              0,
              "#0d0887"
             ],
             [
              0.1111111111111111,
              "#46039f"
             ],
             [
              0.2222222222222222,
              "#7201a8"
             ],
             [
              0.3333333333333333,
              "#9c179e"
             ],
             [
              0.4444444444444444,
              "#bd3786"
             ],
             [
              0.5555555555555556,
              "#d8576b"
             ],
             [
              0.6666666666666666,
              "#ed7953"
             ],
             [
              0.7777777777777778,
              "#fb9f3a"
             ],
             [
              0.8888888888888888,
              "#fdca26"
             ],
             [
              1,
              "#f0f921"
             ]
            ],
            "type": "histogram2d"
           }
          ],
          "histogram2dcontour": [
           {
            "colorbar": {
             "outlinewidth": 0,
             "ticks": ""
            },
            "colorscale": [
             [
              0,
              "#0d0887"
             ],
             [
              0.1111111111111111,
              "#46039f"
             ],
             [
              0.2222222222222222,
              "#7201a8"
             ],
             [
              0.3333333333333333,
              "#9c179e"
             ],
             [
              0.4444444444444444,
              "#bd3786"
             ],
             [
              0.5555555555555556,
              "#d8576b"
             ],
             [
              0.6666666666666666,
              "#ed7953"
             ],
             [
              0.7777777777777778,
              "#fb9f3a"
             ],
             [
              0.8888888888888888,
              "#fdca26"
             ],
             [
              1,
              "#f0f921"
             ]
            ],
            "type": "histogram2dcontour"
           }
          ],
          "mesh3d": [
           {
            "colorbar": {
             "outlinewidth": 0,
             "ticks": ""
            },
            "type": "mesh3d"
           }
          ],
          "parcoords": [
           {
            "line": {
             "colorbar": {
              "outlinewidth": 0,
              "ticks": ""
             }
            },
            "type": "parcoords"
           }
          ],
          "pie": [
           {
            "automargin": true,
            "type": "pie"
           }
          ],
          "scatter": [
           {
            "marker": {
             "colorbar": {
              "outlinewidth": 0,
              "ticks": ""
             }
            },
            "type": "scatter"
           }
          ],
          "scatter3d": [
           {
            "line": {
             "colorbar": {
              "outlinewidth": 0,
              "ticks": ""
             }
            },
            "marker": {
             "colorbar": {
              "outlinewidth": 0,
              "ticks": ""
             }
            },
            "type": "scatter3d"
           }
          ],
          "scattercarpet": [
           {
            "marker": {
             "colorbar": {
              "outlinewidth": 0,
              "ticks": ""
             }
            },
            "type": "scattercarpet"
           }
          ],
          "scattergeo": [
           {
            "marker": {
             "colorbar": {
              "outlinewidth": 0,
              "ticks": ""
             }
            },
            "type": "scattergeo"
           }
          ],
          "scattergl": [
           {
            "marker": {
             "colorbar": {
              "outlinewidth": 0,
              "ticks": ""
             }
            },
            "type": "scattergl"
           }
          ],
          "scattermapbox": [
           {
            "marker": {
             "colorbar": {
              "outlinewidth": 0,
              "ticks": ""
             }
            },
            "type": "scattermapbox"
           }
          ],
          "scatterpolar": [
           {
            "marker": {
             "colorbar": {
              "outlinewidth": 0,
              "ticks": ""
             }
            },
            "type": "scatterpolar"
           }
          ],
          "scatterpolargl": [
           {
            "marker": {
             "colorbar": {
              "outlinewidth": 0,
              "ticks": ""
             }
            },
            "type": "scatterpolargl"
           }
          ],
          "scatterternary": [
           {
            "marker": {
             "colorbar": {
              "outlinewidth": 0,
              "ticks": ""
             }
            },
            "type": "scatterternary"
           }
          ],
          "surface": [
           {
            "colorbar": {
             "outlinewidth": 0,
             "ticks": ""
            },
            "colorscale": [
             [
              0,
              "#0d0887"
             ],
             [
              0.1111111111111111,
              "#46039f"
             ],
             [
              0.2222222222222222,
              "#7201a8"
             ],
             [
              0.3333333333333333,
              "#9c179e"
             ],
             [
              0.4444444444444444,
              "#bd3786"
             ],
             [
              0.5555555555555556,
              "#d8576b"
             ],
             [
              0.6666666666666666,
              "#ed7953"
             ],
             [
              0.7777777777777778,
              "#fb9f3a"
             ],
             [
              0.8888888888888888,
              "#fdca26"
             ],
             [
              1,
              "#f0f921"
             ]
            ],
            "type": "surface"
           }
          ],
          "table": [
           {
            "cells": {
             "fill": {
              "color": "#EBF0F8"
             },
             "line": {
              "color": "white"
             }
            },
            "header": {
             "fill": {
              "color": "#C8D4E3"
             },
             "line": {
              "color": "white"
             }
            },
            "type": "table"
           }
          ]
         },
         "layout": {
          "annotationdefaults": {
           "arrowcolor": "#2a3f5f",
           "arrowhead": 0,
           "arrowwidth": 1
          },
          "autotypenumbers": "strict",
          "coloraxis": {
           "colorbar": {
            "outlinewidth": 0,
            "ticks": ""
           }
          },
          "colorscale": {
           "diverging": [
            [
             0,
             "#8e0152"
            ],
            [
             0.1,
             "#c51b7d"
            ],
            [
             0.2,
             "#de77ae"
            ],
            [
             0.3,
             "#f1b6da"
            ],
            [
             0.4,
             "#fde0ef"
            ],
            [
             0.5,
             "#f7f7f7"
            ],
            [
             0.6,
             "#e6f5d0"
            ],
            [
             0.7,
             "#b8e186"
            ],
            [
             0.8,
             "#7fbc41"
            ],
            [
             0.9,
             "#4d9221"
            ],
            [
             1,
             "#276419"
            ]
           ],
           "sequential": [
            [
             0,
             "#0d0887"
            ],
            [
             0.1111111111111111,
             "#46039f"
            ],
            [
             0.2222222222222222,
             "#7201a8"
            ],
            [
             0.3333333333333333,
             "#9c179e"
            ],
            [
             0.4444444444444444,
             "#bd3786"
            ],
            [
             0.5555555555555556,
             "#d8576b"
            ],
            [
             0.6666666666666666,
             "#ed7953"
            ],
            [
             0.7777777777777778,
             "#fb9f3a"
            ],
            [
             0.8888888888888888,
             "#fdca26"
            ],
            [
             1,
             "#f0f921"
            ]
           ],
           "sequentialminus": [
            [
             0,
             "#0d0887"
            ],
            [
             0.1111111111111111,
             "#46039f"
            ],
            [
             0.2222222222222222,
             "#7201a8"
            ],
            [
             0.3333333333333333,
             "#9c179e"
            ],
            [
             0.4444444444444444,
             "#bd3786"
            ],
            [
             0.5555555555555556,
             "#d8576b"
            ],
            [
             0.6666666666666666,
             "#ed7953"
            ],
            [
             0.7777777777777778,
             "#fb9f3a"
            ],
            [
             0.8888888888888888,
             "#fdca26"
            ],
            [
             1,
             "#f0f921"
            ]
           ]
          },
          "colorway": [
           "#636efa",
           "#EF553B",
           "#00cc96",
           "#ab63fa",
           "#FFA15A",
           "#19d3f3",
           "#FF6692",
           "#B6E880",
           "#FF97FF",
           "#FECB52"
          ],
          "font": {
           "color": "#2a3f5f"
          },
          "geo": {
           "bgcolor": "white",
           "lakecolor": "white",
           "landcolor": "#E5ECF6",
           "showlakes": true,
           "showland": true,
           "subunitcolor": "white"
          },
          "hoverlabel": {
           "align": "left"
          },
          "hovermode": "closest",
          "mapbox": {
           "style": "light"
          },
          "paper_bgcolor": "white",
          "plot_bgcolor": "#E5ECF6",
          "polar": {
           "angularaxis": {
            "gridcolor": "white",
            "linecolor": "white",
            "ticks": ""
           },
           "bgcolor": "#E5ECF6",
           "radialaxis": {
            "gridcolor": "white",
            "linecolor": "white",
            "ticks": ""
           }
          },
          "scene": {
           "xaxis": {
            "backgroundcolor": "#E5ECF6",
            "gridcolor": "white",
            "gridwidth": 2,
            "linecolor": "white",
            "showbackground": true,
            "ticks": "",
            "zerolinecolor": "white"
           },
           "yaxis": {
            "backgroundcolor": "#E5ECF6",
            "gridcolor": "white",
            "gridwidth": 2,
            "linecolor": "white",
            "showbackground": true,
            "ticks": "",
            "zerolinecolor": "white"
           },
           "zaxis": {
            "backgroundcolor": "#E5ECF6",
            "gridcolor": "white",
            "gridwidth": 2,
            "linecolor": "white",
            "showbackground": true,
            "ticks": "",
            "zerolinecolor": "white"
           }
          },
          "shapedefaults": {
           "line": {
            "color": "#2a3f5f"
           }
          },
          "ternary": {
           "aaxis": {
            "gridcolor": "white",
            "linecolor": "white",
            "ticks": ""
           },
           "baxis": {
            "gridcolor": "white",
            "linecolor": "white",
            "ticks": ""
           },
           "bgcolor": "#E5ECF6",
           "caxis": {
            "gridcolor": "white",
            "linecolor": "white",
            "ticks": ""
           }
          },
          "title": {
           "x": 0.05
          },
          "xaxis": {
           "automargin": true,
           "gridcolor": "white",
           "linecolor": "white",
           "ticks": "",
           "title": {
            "standoff": 15
           },
           "zerolinecolor": "white",
           "zerolinewidth": 2
          },
          "yaxis": {
           "automargin": true,
           "gridcolor": "white",
           "linecolor": "white",
           "ticks": "",
           "title": {
            "standoff": 15
           },
           "zerolinecolor": "white",
           "zerolinewidth": 2
          }
         }
        },
        "title": "Nearest neighbor model with nearest spin-orbit coupling",
        "width": 510,
        "xaxis": {
         "linecolor": "black",
         "linewidth": 5,
         "mirror": true,
         "showgrid": true,
         "showline": true,
         "showticklabels": false
        },
        "yaxis": {
         "linecolor": "black",
         "linewidth": 5,
         "mirror": true,
         "showgrid": true,
         "showline": true,
         "showticklabels": true
        }
       }
      },
      "image/png": "[encoded data removed]",
      "image/svg+xml": [
       "<svg class=\"main-svg\" xmlns=\"http://www.w3.org/2000/svg\" xmlns:xlink=\"http://www.w3.org/1999/xlink\" width=\"700\" height=\"500\" style=\"\" viewBox=\"0 0 700 500\"><rect x=\"0\" y=\"0\" width=\"700\" height=\"500\" style=\"fill: rgb(255, 255, 255); fill-opacity: 1;\"/><defs id=\"defs-14b51d\"><g class=\"clips\"><clipPath id=\"clip14b51dxyplot\" class=\"plotclip\"><rect width=\"600\" height=\"390\"/></clipPath><clipPath class=\"axesclip\" id=\"clip14b51dx\"><rect x=\"50\" y=\"0\" width=\"600\" height=\"500\"/></clipPath><clipPath class=\"axesclip\" id=\"clip14b51dy\"><rect x=\"0\" y=\"60\" width=\"700\" height=\"390\"/></clipPath><clipPath class=\"axesclip\" id=\"clip14b51dxy\"><rect x=\"50\" y=\"60\" width=\"600\" height=\"390\"/></clipPath></g><g class=\"gradients\"/><g class=\"patterns\"/></defs><g class=\"bglayer\"><rect class=\"bg\" x=\"50\" y=\"60\" width=\"600\" height=\"390\" style=\"fill: rgb(0, 0, 0); fill-opacity: 0; stroke-width: 0;\"/></g><g class=\"layer-below\"><g class=\"imagelayer\"/><g class=\"shapelayer\"/></g><g class=\"cartesianlayer\"><g class=\"subplot xy\"><g class=\"layer-subplot\"><g class=\"shapelayer\"/><g class=\"imagelayer\"/></g><g class=\"gridlayer\"><g class=\"x\"><path class=\"xgrid crisp\" transform=\"translate(169.04000000000002,0)\" d=\"M0,60v390\" style=\"stroke: rgb(255, 255, 255); stroke-opacity: 1; stroke-width: 1px;\"/><path class=\"xgrid crisp\" transform=\"translate(289.28,0)\" d=\"M0,60v390\" style=\"stroke: rgb(255, 255, 255); stroke-opacity: 1; stroke-width: 1px;\"/><path class=\"xgrid crisp\" transform=\"translate(409.52,0)\" d=\"M0,60v390\" style=\"stroke: rgb(255, 255, 255); stroke-opacity: 1; stroke-width: 1px;\"/><path class=\"xgrid crisp\" transform=\"translate(529.76,0)\" d=\"M0,60v390\" style=\"stroke: rgb(255, 255, 255); stroke-opacity: 1; stroke-width: 1px;\"/></g><g class=\"y\"><path class=\"ygrid crisp\" transform=\"translate(0,430.5)\" d=\"M50,0h600\" style=\"stroke: rgb(255, 255, 255); stroke-opacity: 1; stroke-width: 1px;\"/><path class=\"ygrid crisp\" transform=\"translate(0,356.32)\" d=\"M50,0h600\" style=\"stroke: rgb(255, 255, 255); stroke-opacity: 1; stroke-width: 1px;\"/><path class=\"ygrid crisp\" transform=\"translate(0,207.97)\" d=\"M50,0h600\" style=\"stroke: rgb(255, 255, 255); stroke-opacity: 1; stroke-width: 1px;\"/><path class=\"ygrid crisp\" transform=\"translate(0,133.8)\" d=\"M50,0h600\" style=\"stroke: rgb(255, 255, 255); stroke-opacity: 1; stroke-width: 1px;\"/></g></g><g class=\"zerolinelayer\"><path class=\"yzl zl crisp\" transform=\"translate(0,282.15)\" d=\"M50,0h600\" style=\"stroke: rgb(255, 255, 255); stroke-opacity: 1; stroke-width: 2px;\"/></g><path class=\"xlines-below\"/><path class=\"ylines-below\"/><g class=\"overlines-below\"/><g class=\"xaxislayer-below\"/><g class=\"yaxislayer-below\"/><g class=\"overaxes-below\"/><g class=\"plot\" transform=\"translate(50,60)\" clip-path=\"url(#clip14b51dxyplot)\"><g class=\"scatterlayer mlayer\"><g class=\"trace scatter traceab7efe\" style=\"stroke-miterlimit: 2; opacity: 1;\"><g class=\"fills\"/><g class=\"errorbars\"/><g class=\"lines\"><path class=\"js-line\" d=\"M0,370.5L19.24,369.57L20.44,369.45L39.68,366.63L40.88,366.4L64.93,360.62L66.13,360.28L104.61,348.04L105.81,347.65L143.09,336.27L144.29,335.95L170.74,330.06L171.94,329.84L199.6,325.98L200.8,325.86L229.66,323.91L230.86,323.87L262.12,323.52L263.33,323.54L306.61,324.88L307.82,324.93L381.16,327.05L382.36,327.06L407.62,328.26L408.82,328.37L432.87,331.55L434.07,331.76L456.91,336.68L458.12,336.99L486.97,345.43L488.18,345.82L544.69,363.2L545.89,363.49L567.54,367.89L568.74,368.08L589.18,370.21L590.38,370.27L600,370.5\" style=\"vector-effect: non-scaling-stroke; fill: none; stroke: rgb(128, 0, 128); stroke-opacity: 1; stroke-width: 4px; opacity: 1;\"/></g><g class=\"points\"/><g class=\"text\"/></g><g class=\"trace scatter tracebdf30e\" style=\"stroke-miterlimit: 2; opacity: 1;\"><g class=\"fills\"/><g class=\"errorbars\"/><g class=\"lines\"><path class=\"js-line\" d=\"M0,276.45L32.46,275.45L33.67,275.37L62.53,272.5L63.73,272.33L87.78,268L88.98,267.73L111.82,261.42L113.03,261.02L133.47,253.18L134.67,252.66L157.52,241.4L158.72,240.74L188.78,223.07L189.98,222.33L222.44,203.63L223.65,203.05L236.87,197.7L238.08,197.34L248.9,195.22L250.1,195.12L260.92,195.47L262.12,195.64L274.15,198.31L275.35,198.65L304.21,208.31L305.41,208.71L329.46,215.76L330.66,216.06L352.3,220.21L353.51,220.37L372.75,222.02L373.95,222.06L393.19,223.45L394.39,223.69L407.62,227.46L408.82,227.89L429.26,236.61L430.46,237.18L474.95,256.96L476.15,257.41L496.59,264.11L497.8,264.45L520.64,269.77L521.84,270L548.3,273.83L549.5,273.96L580.76,276.11L581.96,276.15L600,276.45\" style=\"vector-effect: non-scaling-stroke; fill: none; stroke: rgb(128, 0, 128); stroke-opacity: 1; stroke-width: 4px; opacity: 1;\"/></g><g class=\"points\"/><g class=\"text\"/></g><g class=\"trace scatter trace9e0f95\" style=\"stroke-miterlimit: 2; opacity: 1;\"><g class=\"fills\"/><g class=\"errorbars\"/><g class=\"lines\"><path class=\"js-line\" d=\"M0,19.5L16.83,20.48L18.04,20.62L34.87,23.67L36.07,23.96L54.11,29.42L55.31,29.86L74.55,38.03L75.75,38.61L97.39,50.34L98.6,51.06L121.44,65.83L122.65,66.66L156.31,91.39L157.52,92.31L206.81,128.98L208.02,129.78L224.85,139.86L226.05,140.47L238.08,145.46L239.28,145.83L248.9,147.74L250.1,147.84L259.72,147.62L260.92,147.47L272.95,144.77L274.15,144.41L293.39,137.51L294.59,137.04L328.26,125.17L329.46,124.82L349.9,120L351.1,119.79L369.14,117.61L370.34,117.54L393.19,115.68L394.39,115.39L406.41,111.25L407.62,110.73L422.04,103.27L423.25,102.56L446.09,87.74L447.29,86.91L500.2,51.59L501.4,50.88L524.25,38.54L525.45,37.96L544.69,29.83L545.89,29.39L565.13,23.65L566.33,23.37L584.37,20.34L585.57,20.22L600,19.5\" style=\"vector-effect: non-scaling-stroke; fill: none; stroke: rgb(128, 0, 128); stroke-opacity: 1; stroke-width: 4px; opacity: 1;\"/></g><g class=\"points\"/><g class=\"text\"/></g></g></g><g class=\"overplot\"/><path class=\"xlines-above crisp\" d=\"M45,452.5H655M45,57.5H655\" style=\"fill: none; stroke-width: 5px; stroke: rgb(0, 0, 0); stroke-opacity: 1;\"/><path class=\"ylines-above crisp\" d=\"M47.5,60V450M652.5,60V450\" style=\"fill: none; stroke-width: 5px; stroke: rgb(0, 0, 0); stroke-opacity: 1;\"/><g class=\"overlines-above\"/><g class=\"xaxislayer-above\"/><g class=\"yaxislayer-above\"><g class=\"ytick\"><text text-anchor=\"end\" x=\"42.6\" y=\"4.199999999999999\" transform=\"translate(0,430.5)\" style=\"font-family: 'Open Sans', verdana, arial, sans-serif; font-size: 12px; fill: rgb(42, 63, 95); fill-opacity: 1; white-space: pre; opacity: 1;\">−4</text></g><g class=\"ytick\"><text text-anchor=\"end\" x=\"42.6\" y=\"4.199999999999999\" style=\"font-family: 'Open Sans', verdana, arial, sans-serif; font-size: 12px; fill: rgb(42, 63, 95); fill-opacity: 1; white-space: pre; opacity: 1;\" transform=\"translate(0,356.32)\">−2</text></g><g class=\"ytick\"><text text-anchor=\"end\" x=\"42.6\" y=\"4.199999999999999\" style=\"font-family: 'Open Sans', verdana, arial, sans-serif; font-size: 12px; fill: rgb(42, 63, 95); fill-opacity: 1; white-space: pre; opacity: 1;\" transform=\"translate(0,282.15)\">0</text></g><g class=\"ytick\"><text text-anchor=\"end\" x=\"42.6\" y=\"4.199999999999999\" style=\"font-family: 'Open Sans', verdana, arial, sans-serif; font-size: 12px; fill: rgb(42, 63, 95); fill-opacity: 1; white-space: pre; opacity: 1;\" transform=\"translate(0,207.97)\">2</text></g><g class=\"ytick\"><text text-anchor=\"end\" x=\"42.6\" y=\"4.199999999999999\" style=\"font-family: 'Open Sans', verdana, arial, sans-serif; font-size: 12px; fill: rgb(42, 63, 95); fill-opacity: 1; white-space: pre; opacity: 1;\" transform=\"translate(0,133.8)\">4</text></g></g><g class=\"overaxes-above\"/></g></g><g class=\"polarlayer\"/><g class=\"ternarylayer\"/><g class=\"geolayer\"/><g class=\"funnelarealayer\"/><g class=\"pielayer\"/><g class=\"iciclelayer\"/><g class=\"treemaplayer\"/><g class=\"sunburstlayer\"/><g class=\"glimages\"/><defs id=\"topdefs-14b51d\"><g class=\"clips\"/></defs><g class=\"layer-above\"><g class=\"imagelayer\"/><g class=\"shapelayer\"/></g><g class=\"infolayer\"><g class=\"g-gtitle\"><text class=\"gtitle\" x=\"35\" y=\"30\" text-anchor=\"start\" dy=\"0em\" style=\"font-family: 'Open Sans', verdana, arial, sans-serif; font-size: 17px; fill: rgb(42, 63, 95); opacity: 1; font-weight: normal; white-space: pre;\">Nearest neighbor model with nearest spin-orbit coupling</text></g><g class=\"g-xtitle\"/><g class=\"g-ytitle\"/></g></svg>"
      ],
      "text/html": [
       "<div\n",
       "    class=\"webio-mountpoint\"\n",
       "    data-webio-mountpoint=\"13522232717643175132\"\n",
       ">\n",
       "    <script>\n",
       "    (function(){\n",
       "    // Some integrations (namely, IJulia/Jupyter) use an alternate render pathway than\n",
       "    // just putting the html on the page. If WebIO isn't defined, then it's pretty likely\n",
       "    // that we're in one of those situations and the integration just isn't installed\n",
       "    // correctly.\n",
       "    if (typeof window.WebIO === \"undefined\") {\n",
       "        document\n",
       "            .querySelector('[data-webio-mountpoint=\"13522232717643175132\"]')\n",
       "            .innerHTML = (\n",
       "                '<div style=\"padding: 1em; background-color: #f8d6da; border: 1px solid #f5c6cb; font-weight: bold;\">' +\n",
       "                '<p><strong>WebIO not detected.</strong></p>' +\n",
       "                '<p>Please read ' +\n",
       "                '<a href=\"https://juliagizmos.github.io/WebIO.jl/latest/troubleshooting/not-detected/\" target=\"_blank\">the troubleshooting guide</a> ' +\n",
       "                'for more information on how to resolve this issue.</p>' +\n",
       "                '<p><a href=\"https://juliagizmos.github.io/WebIO.jl/latest/troubleshooting/not-detected/\" target=\"_blank\">https://juliagizmos.github.io/WebIO.jl/latest/troubleshooting/not-detected/</a></p>' +\n",
       "                '</div>'\n",
       "            );\n",
       "        return;\n",
       "    }\n",
       "    WebIO.mount(\n",
       "        document.querySelector('[data-webio-mountpoint=\"13522232717643175132\"]'),\n",
       "        {\"props\":{},\"nodeType\":\"Scope\",\"type\":\"node\",\"instanceArgs\":{\"imports\":{\"data\":[{\"name\":\"Plotly\",\"type\":\"js\",\"url\":\"\\/assetserver\\/b267c3137400db01c304fe886fe6f707be7fdb37-plotly.min.js\"},{\"name\":null,\"type\":\"js\",\"url\":\"\\/assetserver\\/020f2e8a4619f2ae880fff9315e6547eef1aff0b-plotly_webio.bundle.js\"}],\"type\":\"async_block\"},\"id\":\"4742047363141106210\",\"handlers\":{\"_toImage\":[\"(function (options){return this.Plotly.toImage(this.plotElem,options).then((function (data){return WebIO.setval({\\\"name\\\":\\\"image\\\",\\\"scope\\\":\\\"4742047363141106210\\\",\\\"id\\\":\\\"167938\\\",\\\"type\\\":\\\"observable\\\"},data)}))})\"],\"__get_gd_contents\":[\"(function (prop){prop==\\\"data\\\" ? (WebIO.setval({\\\"name\\\":\\\"__gd_contents\\\",\\\"scope\\\":\\\"4742047363141106210\\\",\\\"id\\\":\\\"167939\\\",\\\"type\\\":\\\"observable\\\"},this.plotElem.data)) : undefined; return prop==\\\"layout\\\" ? (WebIO.setval({\\\"name\\\":\\\"__gd_contents\\\",\\\"scope\\\":\\\"4742047363141106210\\\",\\\"id\\\":\\\"167939\\\",\\\"type\\\":\\\"observable\\\"},this.plotElem.layout)) : undefined})\"],\"_downloadImage\":[\"(function (options){return this.Plotly.downloadImage(this.plotElem,options)})\"],\"_commands\":[\"(function (args){var fn=args.shift(); var elem=this.plotElem; var Plotly=this.Plotly; args.unshift(elem); return Plotly[fn].apply(this,args)})\"]},\"systemjs_options\":null,\"mount_callbacks\":[\"function () {\\n    var handler = ((function (Plotly,PlotlyWebIO){PlotlyWebIO.init(WebIO); var gd=this.dom.querySelector(\\\"#plot-7049822b-bc02-47b6-9938-c1f1cbb09209\\\"); this.plotElem=gd; this.Plotly=Plotly; (window.Blink!==undefined) ? (gd.style.width=\\\"100%\\\", gd.style.height=\\\"100vh\\\", gd.style.marginLeft=\\\"0%\\\", gd.style.marginTop=\\\"0vh\\\") : undefined; window.onresize=(function (){return Plotly.Plots.resize(gd)}); Plotly.newPlot(gd,[{\\\"mode\\\":\\\"lines\\\",\\\"line\\\":{\\\"color\\\":\\\"purple\\\",\\\"width\\\":4},\\\"y\\\":[-4.000000000000001,-3.9999014760846148,-3.999605933461416,-3.999113459503101,-3.9984241998435492,-3.9975383583968624,-3.996456197383887,-3.995178037366145,-3.993704257286992,-3.99203529451986,-3.9901716449233544,-3.988113862902954,-3.9858625614790544,-3.98341841236101,-3.9807821460268364,-3.9779545518081765,-3.9749364779800596,-3.971728831855028,-3.9683325798810536,-3.9647487477426924,-3.9609784204648624,-3.95702274251856,-3.9528829179277825,-3.9485602103769075,-3.9440559433176343,-3.93937150007465,-3.9345083239490037,-3.929467918318192,-3.9242518467318437,-3.9188617330018367,-3.9132992612856,-3.9075661761612985,-3.901664282693463,-3.8955954464876346,-3.889361593732395,-3.88296471122719,-3.876406846394159,-3.8696901072721412,-3.862816662490955,-3.8557887412238787,-3.8486086331162563,-3.841278688187982,-3.8338013167075364,-3.826178989035192,-3.8184142354328303,-3.8105096458377776,-3.802467869597961,-3.7942916151655477,-3.7859836497462123,-3.7775467989010285,-3.7689839460979195,-3.7602980322095645,-3.751492054954512,-3.7425690682782764,-3.733532181671065,-3.724384559418824,-3.715129419784179,-3.7057700341139124,-3.6963097258695603,-3.6867518695777712,-3.6770998896970855,-3.667357259397849,-3.657527499252085,-3.6476141758302054,-3.6376209002016147,-3.627551326336368,-3.617409149405294,-3.6071981039761294,-3.5969219621035124,-3.5865845313109377,-3.5761896524630794,-3.5657411975272466,-3.5552430672230995,-3.5446991885601737,-3.534113512263204,-3.5234900100857094,-3.512832672012853,-3.5021455033550675,-3.491432521734585,-3.4806977539675596,-3.4699452328451335,-3.459178993817429,-3.448403071585111,-3.437621496603894,-3.4268382915079796,-3.4160574674591935,-3.4052830204292293,-3.3945189274231127,-3.3837691426526555,-3.373037593669383,-3.3623281774669453,-3.3516447565636933,-3.3409911550766203,-3.3303711547983568,-3.3197884912893647,-3.3092468499978422,-3.2987498624201583,-3.288301102314894,-3.2779040819836496,-3.2675622486319282,-3.2572789808233016,-3.247057585039973,-3.236901292362654,-3.2268132552823,-3.2167965446559066,-3.206854146817989,-3.196988960858841,-3.1872037960799067,-3.177501369635861,-3.1678843043721594,-3.158355126865824,-3.1489162656763092,-3.1395700498122032,-3.1303187074184557,-3.121164364687649,-3.1121090449977316,-3.103154668277435,-3.0943030505993985,-3.085555903999936,-3.076914836523139,-3.068381352485981,-3.0599568529599477,-3.051642636463734,-3.043439899860528,-3.0353497394525673,-3.0273731522647287,-3.019511037508237,-3.011764198214854,-3.0041333430313286,-2.996619088163394,-2.989221959458189,-2.9819423946136423,-2.974780745503133,-2.9677372806036026,-2.960812187515222,-2.954005575560719,-2.9473174784526246,-2.940747857016779,-2.934296601960763,-2.92796353667615,-2.9217484200638517,-2.9156509493722407,-2.909670763038146,-2.903807443521342,-2.898060520123601,-2.8924294717839754,-2.886913729842486,-2.881512680764965,-2.8762256688223853,-2.8710519987185754,-2.865990938160765,-2.8610417203680276,-2.856203546513171,-2.851475588094224,-2.8468569892321494,-2.842346868891937,-2.8379443230247237,-2.8336484266290025,-2.8294582357294784,-2.8253727892724756,-2.8213911109372436,-2.8175122108628123,-2.813735087290417,-2.810058728121798,-2.8064821123939536,-2.803004211671203,-2.799623991355615,-2.7963404119170785,-2.7931524300444583,-2.790058999719461,-2.787059073214963,-2.7841516020196435,-2.781335537690932,-2.778609832638293,-2.775973440838976,-2.7734253184884246,-2.770964424587521,-2.7685897214689508,-2.7663001752649024,-2.764094756318409,-2.7619724395405534,-2.759932204715815,-2.7579730367577815,-2.7560939259174297,-2.754293867946175,-2.7525718642158195,-2.750926921797512,-2.7493580535018074,-2.747864277881837,-2.7464446192015854,-2.745098107371211,-2.7438237778513117,-2.742620671527974,-2.741487834560413,-2.740424318202973,-2.739429178603168,-2.7385014765774707,-2.7376402773664372,-2.7368446503707786,-2.7361136688698915,-2.735446409724392,-2.7348419530640706,-2.7342993819627384,-2.7338177821013323,-2.7333962414206736,-2.7330338497651803,-2.732729698518864,-2.7324828802348877,-2.7322924882599198,-2.7321576163545513,-2.732077358310934,-2.73205080756888,-2.7320773058398196,-2.7321561866899056,-2.732286527127629,-2.732467402241255,-2.7326978848153374,-2.732977044952589,-2.7333039497022176,-2.7336776626958095,-2.7340972437918785,-2.7345617487300853,-2.7350702287962223,-2.735621730498978,-2.7362152952595062,-2.736849959114795,-2.7375247524358035,-2.738238699661391,-2.738990819048894,-2.7397801224423697,-2.7406056150593425,-2.7414662952969584,-2.7423611545584086,-2.7432891771004266,-2.7442493399026953,-2.7452406125598694,-2.7462619571970297,-2.747312328409177,-2.7483906732255066,-2.749495931099033,-2.7506270339221714,-2.7517829060687986,-2.7529624644632937,-2.7541646186769935,-2.755388271052463,-2.7566323168558986,-2.757895644457989,-2.7591771355434247,-2.7604756653492304,-2.7617901029320686,-2.7631193114645196,-2.764462148560349,-2.7658174666286826,-2.76718411325695,-2.768560931622389,-2.7699467609318233,-2.7713404368894192,-2.7727407921919562,-2.774146657051185,-2.7755568597427125,-2.7769702271808123,-2.7783855855184965,-2.779801760772103,-2.7812175794696046,-2.782631869321782,-2.784043459915339,-2.7854511834269724,-2.786853875357363,-2.7882503752840173,-2.789639527631765,-2.7910201824597958,-2.7923911962639103,-2.793751432792774,-2.795099763876815,-2.7964350702684024,-2.7977562424919253,-2.799062181702328,-2.8003518005506773,-2.8016240240552377,-2.8028777904766002,-2.804112052195333,-2.8053257765906094,-2.806517946918324,-2.8076875631870815,-2.8088336430306104,-2.8099552225749576,-2.811051357299007,-2.8121211228867606,-2.8131636160698603,-2.8141779554588684,-2.815163282361829,-2.816118761588626,-2.8170435822397426,-2.81793695847798,-2.818798130281796,-2.819626364178901,-2.8204209539588248,-2.8211812213631697,-2.821906516752355,-2.8225962197476555,-2.823249739847393,-2.8238665170162305,-2.8244460222464842,-2.8249877580905105,-2.8254912591632024,-2.8259560926137466,-2.826381858565782,-2.826768190525235,-2.827114755755074,-2.827421255616375,-2.8276874258750824,-2.827913036973939,-2.8280978942691224,-2.8282418382311403,-2.8283447446097325,-2.828406524562366,-2.8284271247462076,-2.828488165726145,-2.828671294614283,-2.8289765481597406,-2.829403987489561,-2.8299536979269075,-2.8306257887361124,-2.8314203927941706,-2.832337666188151,-2.8333777877378927,-2.834540958443251,-2.8358274008550826,-2.8372373583690553,-2.838771094441312,-2.840428891724973,-2.8422110511263647,-2.844117890779907,-2.8461497449405133,-2.8483069627923996,-2.850589907173195,-2.8529989532123188,-2.8555344868826325,-2.8581969034644668,-2.8609866059212514,-2.8639040031860863,-2.866949508358803,-2.8701235368132028,-2.8734265042144327,-2.8768588244466873,-2.880420907451696,-2.88411315697882,-2.887935968247843,-2.8918897255260196,-2.8959747996212513,-2.9001915452937674,-2.9045402985891227,-2.9090213740957966,-2.913635062131253,-2.9183816258607798,-2.9232612983540633,-2.9282742795849686,-2.933420733380619,-2.9387007843264614,-2.94411451463459,-2.9496619609832173,-2.9553431113357798,-2.9611579017487157,-2.9671062131775736,-2.9731878682915855,-2.979402628307381,-2.9857501898529906,-2.992230181873681,-2.9988421625915462,-3.0055856165311114,-3.012459951623389,-3.0194644964010555,-3.0265984972974693,-3.033861116062268,-3.041251427306202,-3.0487684161876736,-3.056410976253191,-3.0641779074435638,-3.0720679142772283,-3.0800796042214724,-3.0882114862617267,-3.096461969678297,-3.104829363039072,-3.113311873415843,-3.1219076058308044,-3.1306145629388085,-3.1394306449497416,-3.148353649794239,-3.1573812735347278,-3.1665111110225075,-3.175740656800324,-3.1850673062486075,-3.194488356972258,-3.204001010423632,-3.2136023737561374,-3.2232894619016688,-3.233059199864008,-3.2429084252192157,-3.252833890813094,-3.2628322676448556,-3.272900147925352,-3.283034048297466,-3.2932304132056833,-3.303485618401314,-3.3137959745694583,-3.324157731063485,-3.33456707973262,-3.345020158828134,-3.3555130569736744,-3.366041817185349,-3.376602440927425,-3.3871908921897798,-3.397803101573636,-3.408434970372555,-3.4190823746361945,-3.4297411692049167,-3.4404071917039656,-3.451076266486611,-3.4617442085163614,-3.472406827179105,-3.483059930016762,-3.493699326374839,-3.5043208309570257,-3.5149202672807456,-3.5254934710283536,-3.5360362932894067,-3.546544603690161,-3.557014293407182,-3.5674412780625984,-3.5778215004992164,-3.588150933434302,-3.5984255819914277,-3.608641486110334,-3.6187947228352586,-3.628881408482636,-3.63889770068954,-3.648839800344591,-3.658703953403426,-3.6684864525911385,-3.678183638994378,-3.6877919035460254,-3.6973076884056075,-3.706727488238734,-3.7160478513990522,-3.7252653810162752,-3.734376735993972,-3.7433786319208515,-3.752267841899323,-3.7610411972951403,-3.769695588411932,-3.778227965094412,-3.78663533726403,-3.7949147753907844,-3.8030634109048473,-3.811078436551606,-3.8189571066936137,-3.8266967375629073,-3.8342947074670026,-3.8417484569518145,-3.849055488924642,-3.856213368740234,-3.8632197242528705,-3.870072245837259,-3.876768686380944,-3.883306861250822,-3.8896846482362384,-3.895899987471001,-3.9019508813366186,-3.9078353943488446,-3.9135516530296304,-3.9190978457663634,-3.9244722226602717,-3.9296730953657066,-3.934698836921948,-3.939547881579092,-3.9442187246194504,-3.948709922175881,-3.9530200910482884,-3.957147908519539,-3.9610921121719085,-3.9648514997051274,-3.968424928757,-3.971811316727551,-3.9750096406075053,-3.9780189368119467,-3.9808383010198622,-3.98346688802026,-3.9859039115654813,-3.988148644232294,-3.990200417291284,-3.9920586205850097,-3.993722702415381,-3.9951921694406196,-3.996466586582173,-3.9975455769418753,-3.99842882172962,-3.999116060201778,-3.999607089610567,-3.9999017651644873,-4.000000000000001],\\\"type\\\":\\\"scatter\\\",\\\"x\\\":[1,2,3,4,5,6,7,8,9,10,11,12,13,14,15,16,17,18,19,20,21,22,23,24,25,26,27,28,29,30,31,32,33,34,35,36,37,38,39,40,41,42,43,44,45,46,47,48,49,50,51,52,53,54,55,56,57,58,59,60,61,62,63,64,65,66,67,68,69,70,71,72,73,74,75,76,77,78,79,80,81,82,83,84,85,86,87,88,89,90,91,92,93,94,95,96,97,98,99,100,101,102,103,104,105,106,107,108,109,110,111,112,113,114,115,116,117,118,119,120,121,122,123,124,125,126,127,128,129,130,131,132,133,134,135,136,137,138,139,140,141,142,143,144,145,146,147,148,149,150,151,152,153,154,155,156,157,158,159,160,161,162,163,164,165,166,167,168,169,170,171,172,173,174,175,176,177,178,179,180,181,182,183,184,185,186,187,188,189,190,191,192,193,194,195,196,197,198,199,200,201,202,203,204,205,206,207,208,209,210,211,212,213,214,215,216,217,218,219,220,221,222,223,224,225,226,227,228,229,230,231,232,233,234,235,236,237,238,239,240,241,242,243,244,245,246,247,248,249,250,251,252,253,254,255,256,257,258,259,260,261,262,263,264,265,266,267,268,269,270,271,272,273,274,275,276,277,278,279,280,281,282,283,284,285,286,287,288,289,290,291,292,293,294,295,296,297,298,299,300,301,302,303,304,305,306,307,308,309,310,311,312,313,314,315,316,317,318,319,320,321,322,323,324,325,326,327,328,329,330,331,332,333,334,335,336,337,338,339,340,341,342,343,344,345,346,347,348,349,350,351,352,353,354,355,356,357,358,359,360,361,362,363,364,365,366,367,368,369,370,371,372,373,374,375,376,377,378,379,380,381,382,383,384,385,386,387,388,389,390,391,392,393,394,395,396,397,398,399,400,401,402,403,404,405,406,407,408,409,410,411,412,413,414,415,416,417,418,419,420,421,422,423,424,425,426,427,428,429,430,431,432,433,434,435,436,437,438,439,440,441,442,443,444,445,446,447,448,449,450,451,452,453,454,455,456,457,458,459,460,461,462,463,464,465,466,467,468,469,470,471,472,473,474,475,476,477,478,479,480,481,482,483,484,485,486,487,488,489,490,491,492,493,494,495,496,497,498,499,500]},{\\\"mode\\\":\\\"lines\\\",\\\"line\\\":{\\\"color\\\":\\\"purple\\\",\\\"width\\\":4},\\\"y\\\":[-1.4641016151377548,-1.464065550780104,-1.463957343145189,-1.4637769485423158,-1.463524294137653,-1.4631992779302674,-1.4628017687187098,-1.4623316060582165,-1.4617886002087366,-1.4611725320739166,-1.4604831531312832,-1.4597201853538775,-1.458883321123623,-1.457972223136768,-1.456986524301756,-1.455925827629944,-1.45478970611961,-1.4535777026337675,-1.4522893297722907,-1.4509240697389805,-1.449481374204185,-1.44796066416366,-1.4463613297944522,-1.444682730308569,-1.4429241938053157,-1.4410850171232128,-1.439164465692513,-1.4371617733893174,-1.435076142392481,-1.4329067430444573,-1.4306527137173857,-1.4283131606857489,-1.4258871580070653,-1.4233737474121126,-1.420771938206289,-1.4180807071838106,-1.4152989985565392,-1.4124257238992917,-1.4094597621136458,-1.4063999594122776,-1.403245129326024,-1.3999940527359402,-1.3966454779327162,-1.3931981207059294,-1.3896506644657225,-1.3860017603995576,-1.382250027666832,-1.37839405363424,-1.3744323941548087,-1.3703635738936961,-1.366186086703874,-1.3618983960548947,-1.357498935518065,-1.352986109311346,-1.3483582929074076,-1.3436138337082613,-1.3387510517899814,-1.3337682407209905,-1.3286636684574156,-1.3234355783190042,-1.3180821900490618,-1.312601700961791,-1.306992287180386,-1.3012521049690973,-1.295379292162384,-1.2893719696941195,-1.2832282432296263,-1.2769462049031115,-1.2705239351628952,-1.263959504726443,-1.2572509766470281,-1.2503964084934551,-1.2433938546439014,-1.2362413686945943,-1.2289370059835145,-1.221478826228947,-1.213864896282096,-1.2060932929925778,-1.1981621061848906,-1.1900694417435065,-1.1818134248035495,-1.17339220304339,-1.1648039500748655,-1.1560468689261674,-1.14711919561171,-1.1380192027827123,-1.128745203451478,-1.1192955547817163,-1.1096686619366303,-1.0998629819758026,-1.0898770277914225,-1.079709372073701,-1.0693586512949458,-1.0588235697012083,-1.0481029033000413,-1.0371955038326004,-1.02610030271801,-1.0148163149577631,-1.0033426429877998,-0.9916784804659404,-0.9798231159823838,-0.9677759366812124,-0.9555364317810718,-0.943104195983665,-0.9304789327590721,-0.9176604574976086,-0.9046487005185392,-0.8914437099267816,-0.8780456543096091,-0.8644548252663161,-0.8506716397648364,-0.8366966423204354,-0.8225305069927767,-0.8081740391988523,-0.7936281773406273,-0.7788939942474555,-0.763972698434755,-0.7488656351817491,-0.7335742874324203,-0.7181002765252319,-0.7024453627584751,-0.6866114457994436,-0.6706005649469129,-0.6544148992576893,-0.638056767549168,-0.6215286282910168,-0.6048330794002456,-0.5879728579549087,-0.5709508398427635,-0.5537700393620842,-0.5364336087927731,-0.5189448379566834,-0.5013071537869151,-0.48352411992649774,-0.4655994363776716,-0.4475369392235168,-0.4293406004444229,-0.4110145278524049,-0.392562965166963,-0.37399029225668146,-0.35530102557145926,-0.33649981879080537,-0.3175914637143181,-0.2985808914211191,-0.27947317372573754,-0.2602735249587014,-0.24098730410087194,-0.22162001730148778,-0.20217732081076462,-0.18266502435890836,-0.16308909501444704,-0.14345566155586065,-0.12377101939167094,-0.10404163606527059,-0.0842741573819227,-0.0644754141965616,-0.04465242990199981,-0.02481242865811969,-0.0049628444034121,0.014888669309357762,0.034734228611402886,0.054565707708535915,0.07437472632362535,0.09415263615216223,0.1138905062951427,0.1335791076376182,0.15320889614710886,0.17276999507383867,0.19225217604502176,0.21164483905861114,0.23093699139858004,0.25011722551481186,0.269173695936601,0.2880940953205534,0.3068656297724698,0.32547499362931065,0.3439083439431623,0.36215127497504873,0.3801887930838859,0.39800529248591027,0.4155845324634686,0.4329096167197022,0.4499629757078255,0.466726352909399,0.48318079619423393,0.4993066555620044,0.515083588738064,0.5304905762665144,0.545505947902996,0.5601074222458307,0.5742721616414672,0.5879768444399878,0.6011977566367005,0.6139109047924983,0.6260921518531569,0.6377173770619993,0.6487626605607097,0.6592044924869173,0.669020005403265,0.6781872277466408,0.6866853547036748,0.6944950315586049,0.7015986432049826,0.7079806022669604,0.713627627257309,0.7185290015292037,0.7226768035682857,0.726066099504717,0.7286950896443222,0.7305652023118393,0.7316811302970831,0.732050807568837,0.73168186062464,0.730585060545064,0.7287776092243691,0.7262793487452578,0.7231124839303783,0.719301278456444,0.7148717348200467,0.7098512681587944,0.7042683831411533,0.698152361964341,0.6915329700770819,0.6844401847056734,0.6769039497253531,0.6689539589785897,0.6606194688647868,0.6519291399524451,0.6429109065114818,0.6335918722276757,0.6239982299267134,0.6141552028766979,0.6040870051259497,0.5938168183368068,0.5833667826670583,0.5727579994027103,0.5620105432370956,0.5511434823039064,0.5401749042917057,0.5291219471847137,0.5180008333815754,0.506826906136147,0.49561466743895227,0.48437781661395074,0.47312928904239726,0.4618812945445056,0.45064535505161507,0.43943234128799163,0.4282525082538326,0.4171155293612172,0.4060305291240766,0.395006114343383,0.38405040376091615,0.3731710561803856,0.3623752970745779,0.3516699437122567,0.341061428849908,0.330555823041453,0.32015885562465835,0.3098759344463997,0.2997121643907705,0.2896723647746027,0.2797610856744099,0.269982623247606,0.2603410341089748,0.2508401488211853,0.2414835845555976,0.23227475697690797,0.22321689140242584,0.2143130332838274,0.205566058056523,0.19697868039885186,0.18855346294070058,0.18029282445846517,0.17219904759074978,0.16427428610682027,0.15652057175754464,0.14893982073638223,0.14153383977595257,0.13430433190384017,0.1272529018794616,0.12038106133215798,0.11369023361917596,0.10718175842063227,0.10085689608733928,0.09471683175599477,0.08876267924517367,0.08299548474440255,0.07741623030764644,0.07202583716159727,0.06682516883829925,0.061815034140838,0.056996189950137,0.052369343880175556,0.04793515678835936,0.04369424514718123,0.039647183282802256,0.03579450548565516,0.03213670799777524,0.028674250881102925,0.025407559770644628,0.022337027516037444,0.019463015714674514,0.016785856139350908,0.01430585206300461,0.012023279482959365,0.00993838824675708,0.00805140308153554,0.006362524528598534,0.004871929784746792,0.0035797734516514468,0.0024861881944665126,0.0015912853106648875,0.0008951552099444801,0.00039786780596658025,9.947282041953507e-5,-8.16720580091893e-14,-0.0002946763283301153,-0.0011780675291479178,-0.0026483559691017136,-0.004702526312646449,-0.007336386322702532,-0.010544595493127862,-0.014320701042681794,-0.01865718069030914,-0.023545491538676078,-0.02897612431884139,-0.03493866219517261,-0.041421843296528316,-0.048413626126859954,-0.055901257014982386,-0.0638713387871509,-0.0723098998858136,-0.08120246321030467,-0.0905341140181043,-0.10028956629574559,-0.11045322708378036,-0.12100925831793996,-0.13194163582656138,-0.14323420520042507,-0.15487073432372,-0.16683496242274343,-0.17911064555100242,-0.19168159848509125,-0.20453173305466854,-0.21764509297191326,-0.23100588526110682,-0.24459850841771902,-0.2584075774489705,-0.27241794596481733,-0.2866147255000809,-0.3009833022557533,-0.31550935145087666,-0.3301788494762698,-0.34497808403856756,-0.35989366247779725,-0.37491251843468326,-0.39002191703537625,-0.40520945875182607,-0.4204630820857406,-0.4357710652134265,-0.4511220267179294,-0.4665049255240614,-0.481909060141154,-0.49732406730803147,-0.5127399201247188,-0.5281469257458014,-0.5435357227014651,-0.5588972779038129,-0.5742228833881953,-0.5895041528321723,-0.6047330178880633,-0.619901724359109,-0.6350028282438264,-0.6500291916683483,-0.6649739787222491,-0.6798306512096165,-0.6945929643238858,-0.7092549622521598,-0.7238109737124755,-0.7382556074254496,-0.7525837475203295,-0.7667905488742147,-0.7808714323824117,-0.7948220801573221,-0.8086384306529815,-0.8223166737123184,-0.835853245534384,-0.849244823559153,-0.8624883212679949,-0.8755808828985613,-0.8885198780736018,-0.9013028963440171,-0.9139277416473952,-0.9263924266841391,-0.9386951672143318,-0.9508343762793457,-0.9628086583531814,-0.9746168034294053,-0.9862577810504118,-0.9977307342864917,-1.0090349736729483,-1.0201699711141148,-1.0311353537636951,-1.0419308978912725,-1.0525565227452767,-1.063012284422866,-1.073298369757449,-1.0834150902345778,-1.0933628759469587,-1.1031422695992255,-1.1127539205729042,-1.1221985790617284,-1.1314770902871392,-1.1405903888033602,-1.1495394929009881,-1.1583254991174894,-1.1669495768624385,-1.1754129631647334,-1.1837169575483488,-1.1918629170425807,-1.1998522513320327,-1.2076864180509097,-1.2153669182255409,-1.2228952918683136,-1.2302731137256495,-1.2375019891818373,-1.2445835503201208,-1.251519452141619,-1.2583113689422643,-1.2649609908472839,-1.2714700205022809,-1.2778401699194974,-1.2840731574773758,-1.290170705071151,-1.2961345354118186,-1.3019663694705024,-1.3076679240649265,-1.3132409095844793,-1.3186870278500533,-1.3240079701047363,-1.3292054151311752,-1.334281027491403,-1.3392364558846999,-1.3440733316190854,-1.3487932671919147,-1.3533978549750396,-1.3578886660000393,-1.3622672488389342,-1.3665351285759204,-1.370693805865662,-1.3747447560737502,-1.3786894284949944,-1.3825292456453435,-1.3862656026232338,-1.3898998665363949,-1.393433375990126,-1.3968674406332442,-1.400203340758016,-1.4034423269504892,-1.406585619787781,-1.4096344095789843,-1.4125898561465418,-1.4154530886449685,-1.4182252054140416,-1.4209072738636213,-1.4235003303874314,-1.42600538030323,-1.4284233978169727,-1.4307553260086059,-1.4330020768373346,-1.4351645311642507,-1.4372435387903741,-1.4392399185082192,-1.4411544581651357,-1.4429879147367646,-1.4447410144090254,-1.4464144526671925,-1.448008894390647,-1.4495249739520262,-1.4509632953195466,-1.4523244321613804,-1.4536089279509967,-1.4548172960725185,-1.4559500199251512,-1.457007553025827,-1.4579903191093297,-1.4588987122251071,-1.4597330968301407,-1.4604938078772745,-1.46118115089842,-1.4617954020821453,-1.4623368083452093,-1.4628055873976094,-1.4632019278008028,-1.4635259890187882,-1.463777901461774,-1.4639577665222083,-1.4640656566029961,-1.4641016151377548],\\\"type\\\":\\\"scatter\\\",\\\"x\\\":[1,2,3,4,5,6,7,8,9,10,11,12,13,14,15,16,17,18,19,20,21,22,23,24,25,26,27,28,29,30,31,32,33,34,35,36,37,38,39,40,41,42,43,44,45,46,47,48,49,50,51,52,53,54,55,56,57,58,59,60,61,62,63,64,65,66,67,68,69,70,71,72,73,74,75,76,77,78,79,80,81,82,83,84,85,86,87,88,89,90,91,92,93,94,95,96,97,98,99,100,101,102,103,104,105,106,107,108,109,110,111,112,113,114,115,116,117,118,119,120,121,122,123,124,125,126,127,128,129,130,131,132,133,134,135,136,137,138,139,140,141,142,143,144,145,146,147,148,149,150,151,152,153,154,155,156,157,158,159,160,161,162,163,164,165,166,167,168,169,170,171,172,173,174,175,176,177,178,179,180,181,182,183,184,185,186,187,188,189,190,191,192,193,194,195,196,197,198,199,200,201,202,203,204,205,206,207,208,209,210,211,212,213,214,215,216,217,218,219,220,221,222,223,224,225,226,227,228,229,230,231,232,233,234,235,236,237,238,239,240,241,242,243,244,245,246,247,248,249,250,251,252,253,254,255,256,257,258,259,260,261,262,263,264,265,266,267,268,269,270,271,272,273,274,275,276,277,278,279,280,281,282,283,284,285,286,287,288,289,290,291,292,293,294,295,296,297,298,299,300,301,302,303,304,305,306,307,308,309,310,311,312,313,314,315,316,317,318,319,320,321,322,323,324,325,326,327,328,329,330,331,332,333,334,335,336,337,338,339,340,341,342,343,344,345,346,347,348,349,350,351,352,353,354,355,356,357,358,359,360,361,362,363,364,365,366,367,368,369,370,371,372,373,374,375,376,377,378,379,380,381,382,383,384,385,386,387,388,389,390,391,392,393,394,395,396,397,398,399,400,401,402,403,404,405,406,407,408,409,410,411,412,413,414,415,416,417,418,419,420,421,422,423,424,425,426,427,428,429,430,431,432,433,434,435,436,437,438,439,440,441,442,443,444,445,446,447,448,449,450,451,452,453,454,455,456,457,458,459,460,461,462,463,464,465,466,467,468,469,470,471,472,473,474,475,476,477,478,479,480,481,482,483,484,485,486,487,488,489,490,491,492,493,494,495,496,497,498,499,500]},{\\\"mode\\\":\\\"lines\\\",\\\"line\\\":{\\\"color\\\":\\\"purple\\\",\\\"width\\\":4},\\\"y\\\":[5.464101615137757,5.463967026864718,5.463563276606605,5.462890408045418,5.4619484939812,5.46073763632713,5.459257966102596,5.457509643424363,5.455492857495728,5.453207826593777,5.450654798054639,5.44783404825683,5.4447458826026764,5.441390635497776,5.437768670328591,5.4338803794381185,5.429726184099671,5.425306534488796,5.4206219096533435,5.415672817481676,5.410459794669048,5.404983406682218,5.399244247722236,5.393242940685477,5.386980137122949,5.380456517197863,5.373672789641516,5.3666296917075105,5.359327989124325,5.351768476046293,5.343951975002983,5.3358793368470465,5.327551440700526,5.318969193899748,5.3101335319386855,5.301045418411002,5.291705844950698,5.282115831171431,5.272276424604601,5.262188700636156,5.251853762442281,5.241272740923921,5.230446794640254,5.219377109741121,5.208064899898554,5.1965114062373345,5.184717897264794,5.172685668799788,5.160416043901021,5.147910372794725,5.135170032801794,5.122196428264459,5.108990990472577,5.095555177589624,5.081890474578473,5.067998393127084,5.053880471574159,5.039538274834901,5.024973394326975,5.010187447896777,4.995182079746147,4.97995896035964,4.96451978643247,4.948866280799303,4.933000192363998,4.91692329603049,4.90063739263492,4.8841443088792404,4.867445897266407,4.850544036037381,4.8334406291101075,4.816137606020699,4.798636921867,4.780940557254768,4.76305051824672,4.744968836314657,4.7266975682949495,4.7082387963476435,4.689594627919475,4.670767195711067,4.651758657648685,4.632571196860818,4.613207021659977,4.593668365530061,4.573957487119689,4.554076670241905,4.534028223880707,4.513814482204829,4.493437804589284,4.472900575645186,4.452205205258368,4.431354128637395,4.410349806371567,4.389194724499564,4.367891394589406,4.346442353830442,4.324850165138169,4.303117417272656,4.2812467249714485,4.259240729097867,4.237102096805685,4.214833521721185,4.192437724143727,4.169917451265965,4.147275477414979,4.124514604315597,4.101637661377381,4.078647506006689,4.05554702394547,4.032339129638475,4.009026766630661,3.9856129079967437,3.9621005568049803,3.938492746617308,3.914792542028276,3.891003039245187,3.8671273667121895,3.843168685781148,3.8191301914323565,3.795015113048371,3.770826715244456,3.7465682987593913,3.7222432014106475,3.697854799118218,3.6734065070017357,3.6489017805557453,3.624344116908482,3.5997370561697624,3.575084182874092,3.5503891275254773,3.5256555682509614,3.5008872325703257,3.4760878992900475,3.451261400530101,3.4264116238928937,3.4015425147842357,3.3766580788970475,3.3517623848691835,3.3268595671277255,3.301953828932832,3.277049445635311,3.252150768163046,3.2272622267524644,3.2023883349424613,3.1775336938493384,3.152702996742677,3.127901033943357,3.103132698066453,3.07840298963315,3.0537170230774846,3.0290800331752123,3.004497381923888,2.9799745659048416,2.955517224159495,2.9311311466140717,2.9068222830884984,2.882596752926724,2.8584608552871225,2.83442108013289,2.8104841199631174,2.7866568823258406,2.7629465031542755,2.7393603609667916,2.715906091969636,2.6925916060988118,2.669425104033584,2.6464150952085057,2.62357041684324,2.6009002539994364,2.57841416066085,2.556122081816383,2.5340343765048314,2.5121618417543314,2.4905157373177387,2.4691078110665066,2.4479503248591135,2.4270560806443586,2.406438446493901,2.386111382181017,2.366089463832499,2.3463879070770854,2.3270225879961135,2.3080100610499557,2.2893675730080303,2.2711130717519414,2.253265208653815,2.235843333059448,2.218867477235293,2.2023583299788405,2.186337196955755,2.1708259457297436,2.1558469334113237,2.141422914891273,2.127576929767915,2.1143321663498154,2.1017118015411684,2.089738816016761,2.0784357848795207,2.0678246449675135,2.0579264411232505,2.0487610550207176,2.0403469215054653,2.0327007387577556,2.0258371798343715,2.019768614163365,2.0145048482359766,2.0100528949505794,2.0064167807301696,2.0035973986155984,2.0015924140427117,2.0003962280138494,2.000000000000044,2.0003954452151795,2.001571126144842,2.0035089179032597,2.0061880534959964,2.009585400884959,2.0136757664961453,2.01843221488217,2.0238263945370147,2.029828860650726,2.036409386765745,2.0435372587191396,2.051181545793305,2.059311345534154,2.0678960001362046,2.076905283571018,2.086309559708944,2.096079912537412,2.1061882502146947,2.116607385132629,2.1273110924202614,2.138274149432459,2.14947235876362,2.1608825572356354,2.1724826131571597,2.1842514139599336,2.1961688461052704,2.208215768933801,2.22037398391432,2.232626200540597,2.244955999932652,2.2573477970243423,2.2697868020630443,2.282258982010065,2.294751022311393,2.307250289406375,2.3197447942554343,2.332223157095398,2.3446745735708516,2.3570887823404427,2.3694560342169653,2.3817670628677665,2.394013057076565,2.406185634547811,2.4182768172195668,2.4302790080395114,2.442184969150503,2.4539878014265257,2.465680925296313,2.4772580627900416,2.4887132207438936,2.500040675097693,2.5112349562219984,2.5222908352128073,2.533203311094154,2.543967598871375,2.554579118380455,2.565033483881591,2.5753264943479377,2.5854541244032725,2.595412515865058,2.6051979698520733,2.61480693941835,2.6242360226776533,2.6334819563851046,2.6425416099447836,2.6514119798142954,2.660090184279285,2.66857345857276,2.676859150315871,2.684944715258452,2.692827713299148,2.700505804766449,2.707976746943271,2.715238390818963,2.7222886780538333,2.7291256381423583,2.7357473857622137,2.742152118297271,2.748338113523529,2.754303727447788,2.7600473922896054,2.765567614597804,2.770862973493437,2.77593211903172,2.7807737706760225,2.7853867158775145,2.78976980875458,2.793921968866553,2.797842180076748,2.8015294895001928,2.8049830065318098,2.8082019019511595,2.8111854071001976,2.813932813130787,2.816443470319025,2.8187167874436994,2.8207522312264754,2.8225493258316283,2.824107652423431,2.8254268487794727,2.826506608958457,2.827346683021196,2.8279468768037663,2.828307051741946,2.8284271247462884,2.8287828420544745,2.829849362143431,2.8316249041288417,2.8341065138022072,2.8372900842496094,2.8411703842292404,2.8457410938368524,2.8509948468784607,2.8569232792765686,2.8635170827620926,2.8707660630502554,2.878659201665583,2.8871847205681718,2.8963301487399553,2.9060823899135153,2.91642779066572,2.927352208150818,2.9388410768105038,2.95087947346894,2.9634521802960987,2.976543745200572,2.9901385392910287,3.004220811121677,3.0187747375098066,3.033784470781546,3.049234182364205,3.065108102699524,3.0813905575013565,3.0980660004236094,3.1151190422399266,3.1325344766655623,3.15029730297499,3.1683927455860688,3.1868062707938476,3.2055236008448755,3.224530725546673,3.243813911607523,3.2633597098993468,3.2831549608318604,3.3031867980196514,3.323442650415995,3.3439102430782874,3.364577596720331,3.385433026196643,3.406465138053709,3.427662827272777,3.4490152733187274,3.470511935599617,3.4921425484321,3.5138971155987924,3.5357659045751477,3.557739440495359,3.5798084999193067,3.6019641044555613,3.6241975142891194,3.646500221656579,3.668863944306093,3.69128061897455,3.7137423949099233,3.7362416274628085,3.7587708717674486,3.7813228765293876,3.803890577933947,3.8264670936871767,3.849045717198626,3.871619911913287,3.8941833057982542,3.9167296859881278,3.939252993591791,3.961747318662059,3.984206895328623,4.006626097093881,4.028999432290503,4.051321539698886,4.073587184322209,4.095791253316276,4.117928752071027,4.139994800440276,4.161984629116,4.183893576143355,4.205717083572398,4.227450694242497,4.249090048695268,4.270630882211844,4.292069021970414,4.313400384319799,4.334620972165008,4.355726872460732,4.376714253808762,4.397579364155486,4.4183185285855835,4.438928147208253,4.459404693132307,4.479744710526648,4.499944812762684,4.520001680635364,4.539912060659694,4.559672763439554,4.579280662105906,4.598732690821454,4.618025843349049,4.637157171681096,4.656123784727452,4.674922847059341,4.693551577706869,4.712007249007936,4.7302871855062865,4.748388762896667,4.766309407015054,4.784046592871998,4.801597843727302,4.818960730204218,4.836132869441482,4.853111924281586,4.869895602493708,4.886481656029832,4.902867880312634,4.919052113553787,4.9350322361013585,4.950806169815091,4.966371877468353,4.981727362175617,4.996870666844432,5.011799873650763,5.026513103536781,5.0410085157301365,5.0552843072837526,5.0693387126353615,5.083170003185884,5.096776486895892,5.110156507899363,5.123308446134075,5.136230716987852,5.148921770960074,5.161380093337779,5.17360420388578,5.185592656550191,5.197344039174841,5.208856973230009,5.220130113553033,5.231162148100247,5.241951797709831,5.252497815875131,5.262798988528015,5.272854133831856,5.282662101983801,5.2922217750259115,5.3015320666648655,5.31059192209986,5.319400317858431,5.327956261639848,5.336258792165818,5.344306979038237,5.352099922603697,5.359636753824521,5.3669166341560794,5.373938755430167,5.380702339744229,5.387206639356214,5.393450936584907,5.39943454371548,5.405156802910189,5.410617086123934,5.415814795024675,5.420749360918382,5.4254202446785476,5.429826936680026,5.433968956737097,5.43784585404569,5.441457207129591,5.444802623790587,5.447881741062433,5.45069422516856,5.453239771483428,5.455518104497527,5.457528977785831,5.459272173979784,5.460747504742679,5.461954810748409,5.4628939616635535,5.463564856132776,5.463967421767483,5.464101615137757],\\\"type\\\":\\\"scatter\\\",\\\"x\\\":[1,2,3,4,5,6,7,8,9,10,11,12,13,14,15,16,17,18,19,20,21,22,23,24,25,26,27,28,29,30,31,32,33,34,35,36,37,38,39,40,41,42,43,44,45,46,47,48,49,50,51,52,53,54,55,56,57,58,59,60,61,62,63,64,65,66,67,68,69,70,71,72,73,74,75,76,77,78,79,80,81,82,83,84,85,86,87,88,89,90,91,92,93,94,95,96,97,98,99,100,101,102,103,104,105,106,107,108,109,110,111,112,113,114,115,116,117,118,119,120,121,122,123,124,125,126,127,128,129,130,131,132,133,134,135,136,137,138,139,140,141,142,143,144,145,146,147,148,149,150,151,152,153,154,155,156,157,158,159,160,161,162,163,164,165,166,167,168,169,170,171,172,173,174,175,176,177,178,179,180,181,182,183,184,185,186,187,188,189,190,191,192,193,194,195,196,197,198,199,200,201,202,203,204,205,206,207,208,209,210,211,212,213,214,215,216,217,218,219,220,221,222,223,224,225,226,227,228,229,230,231,232,233,234,235,236,237,238,239,240,241,242,243,244,245,246,247,248,249,250,251,252,253,254,255,256,257,258,259,260,261,262,263,264,265,266,267,268,269,270,271,272,273,274,275,276,277,278,279,280,281,282,283,284,285,286,287,288,289,290,291,292,293,294,295,296,297,298,299,300,301,302,303,304,305,306,307,308,309,310,311,312,313,314,315,316,317,318,319,320,321,322,323,324,325,326,327,328,329,330,331,332,333,334,335,336,337,338,339,340,341,342,343,344,345,346,347,348,349,350,351,352,353,354,355,356,357,358,359,360,361,362,363,364,365,366,367,368,369,370,371,372,373,374,375,376,377,378,379,380,381,382,383,384,385,386,387,388,389,390,391,392,393,394,395,396,397,398,399,400,401,402,403,404,405,406,407,408,409,410,411,412,413,414,415,416,417,418,419,420,421,422,423,424,425,426,427,428,429,430,431,432,433,434,435,436,437,438,439,440,441,442,443,444,445,446,447,448,449,450,451,452,453,454,455,456,457,458,459,460,461,462,463,464,465,466,467,468,469,470,471,472,473,474,475,476,477,478,479,480,481,482,483,484,485,486,487,488,489,490,491,492,493,494,495,496,497,498,499,500]}],{\\\"showlegend\\\":false,\\\"xaxis\\\":{\\\"showgrid\\\":true,\\\"showline\\\":true,\\\"showticklabels\\\":false,\\\"linewidth\\\":5,\\\"mirror\\\":true,\\\"linecolor\\\":\\\"black\\\"},\\\"template\\\":{\\\"layout\\\":{\\\"coloraxis\\\":{\\\"colorbar\\\":{\\\"ticks\\\":\\\"\\\",\\\"outlinewidth\\\":0}},\\\"xaxis\\\":{\\\"gridcolor\\\":\\\"white\\\",\\\"zerolinewidth\\\":2,\\\"title\\\":{\\\"standoff\\\":15},\\\"ticks\\\":\\\"\\\",\\\"zerolinecolor\\\":\\\"white\\\",\\\"automargin\\\":true,\\\"linecolor\\\":\\\"white\\\"},\\\"hovermode\\\":\\\"closest\\\",\\\"paper_bgcolor\\\":\\\"white\\\",\\\"geo\\\":{\\\"showlakes\\\":true,\\\"showland\\\":true,\\\"landcolor\\\":\\\"#E5ECF6\\\",\\\"bgcolor\\\":\\\"white\\\",\\\"subunitcolor\\\":\\\"white\\\",\\\"lakecolor\\\":\\\"white\\\"},\\\"colorscale\\\":{\\\"sequential\\\":[[0.0,\\\"#0d0887\\\"],[0.1111111111111111,\\\"#46039f\\\"],[0.2222222222222222,\\\"#7201a8\\\"],[0.3333333333333333,\\\"#9c179e\\\"],[0.4444444444444444,\\\"#bd3786\\\"],[0.5555555555555556,\\\"#d8576b\\\"],[0.6666666666666666,\\\"#ed7953\\\"],[0.7777777777777778,\\\"#fb9f3a\\\"],[0.8888888888888888,\\\"#fdca26\\\"],[1.0,\\\"#f0f921\\\"]],\\\"diverging\\\":[[0,\\\"#8e0152\\\"],[0.1,\\\"#c51b7d\\\"],[0.2,\\\"#de77ae\\\"],[0.3,\\\"#f1b6da\\\"],[0.4,\\\"#fde0ef\\\"],[0.5,\\\"#f7f7f7\\\"],[0.6,\\\"#e6f5d0\\\"],[0.7,\\\"#b8e186\\\"],[0.8,\\\"#7fbc41\\\"],[0.9,\\\"#4d9221\\\"],[1,\\\"#276419\\\"]],\\\"sequentialminus\\\":[[0.0,\\\"#0d0887\\\"],[0.1111111111111111,\\\"#46039f\\\"],[0.2222222222222222,\\\"#7201a8\\\"],[0.3333333333333333,\\\"#9c179e\\\"],[0.4444444444444444,\\\"#bd3786\\\"],[0.5555555555555556,\\\"#d8576b\\\"],[0.6666666666666666,\\\"#ed7953\\\"],[0.7777777777777778,\\\"#fb9f3a\\\"],[0.8888888888888888,\\\"#fdca26\\\"],[1.0,\\\"#f0f921\\\"]]},\\\"yaxis\\\":{\\\"gridcolor\\\":\\\"white\\\",\\\"zerolinewidth\\\":2,\\\"title\\\":{\\\"standoff\\\":15},\\\"ticks\\\":\\\"\\\",\\\"zerolinecolor\\\":\\\"white\\\",\\\"automargin\\\":true,\\\"linecolor\\\":\\\"white\\\"},\\\"shapedefaults\\\":{\\\"line\\\":{\\\"color\\\":\\\"#2a3f5f\\\"}},\\\"hoverlabel\\\":{\\\"align\\\":\\\"left\\\"},\\\"mapbox\\\":{\\\"style\\\":\\\"light\\\"},\\\"polar\\\":{\\\"angularaxis\\\":{\\\"gridcolor\\\":\\\"white\\\",\\\"ticks\\\":\\\"\\\",\\\"linecolor\\\":\\\"white\\\"},\\\"bgcolor\\\":\\\"#E5ECF6\\\",\\\"radialaxis\\\":{\\\"gridcolor\\\":\\\"white\\\",\\\"ticks\\\":\\\"\\\",\\\"linecolor\\\":\\\"white\\\"}},\\\"autotypenumbers\\\":\\\"strict\\\",\\\"font\\\":{\\\"color\\\":\\\"#2a3f5f\\\"},\\\"ternary\\\":{\\\"baxis\\\":{\\\"gridcolor\\\":\\\"white\\\",\\\"ticks\\\":\\\"\\\",\\\"linecolor\\\":\\\"white\\\"},\\\"bgcolor\\\":\\\"#E5ECF6\\\",\\\"caxis\\\":{\\\"gridcolor\\\":\\\"white\\\",\\\"ticks\\\":\\\"\\\",\\\"linecolor\\\":\\\"white\\\"},\\\"aaxis\\\":{\\\"gridcolor\\\":\\\"white\\\",\\\"ticks\\\":\\\"\\\",\\\"linecolor\\\":\\\"white\\\"}},\\\"annotationdefaults\\\":{\\\"arrowhead\\\":0,\\\"arrowwidth\\\":1,\\\"arrowcolor\\\":\\\"#2a3f5f\\\"},\\\"plot_bgcolor\\\":\\\"#E5ECF6\\\",\\\"title\\\":{\\\"x\\\":0.05},\\\"scene\\\":{\\\"xaxis\\\":{\\\"gridcolor\\\":\\\"white\\\",\\\"gridwidth\\\":2,\\\"backgroundcolor\\\":\\\"#E5ECF6\\\",\\\"ticks\\\":\\\"\\\",\\\"showbackground\\\":true,\\\"zerolinecolor\\\":\\\"white\\\",\\\"linecolor\\\":\\\"white\\\"},\\\"zaxis\\\":{\\\"gridcolor\\\":\\\"white\\\",\\\"gridwidth\\\":2,\\\"backgroundcolor\\\":\\\"#E5ECF6\\\",\\\"ticks\\\":\\\"\\\",\\\"showbackground\\\":true,\\\"zerolinecolor\\\":\\\"white\\\",\\\"linecolor\\\":\\\"white\\\"},\\\"yaxis\\\":{\\\"gridcolor\\\":\\\"white\\\",\\\"gridwidth\\\":2,\\\"backgroundcolor\\\":\\\"#E5ECF6\\\",\\\"ticks\\\":\\\"\\\",\\\"showbackground\\\":true,\\\"zerolinecolor\\\":\\\"white\\\",\\\"linecolor\\\":\\\"white\\\"}},\\\"colorway\\\":[\\\"#636efa\\\",\\\"#EF553B\\\",\\\"#00cc96\\\",\\\"#ab63fa\\\",\\\"#FFA15A\\\",\\\"#19d3f3\\\",\\\"#FF6692\\\",\\\"#B6E880\\\",\\\"#FF97FF\\\",\\\"#FECB52\\\"]},\\\"data\\\":{\\\"barpolar\\\":[{\\\"type\\\":\\\"barpolar\\\",\\\"marker\\\":{\\\"line\\\":{\\\"color\\\":\\\"#E5ECF6\\\",\\\"width\\\":0.5}}}],\\\"carpet\\\":[{\\\"aaxis\\\":{\\\"gridcolor\\\":\\\"white\\\",\\\"endlinecolor\\\":\\\"#2a3f5f\\\",\\\"minorgridcolor\\\":\\\"white\\\",\\\"startlinecolor\\\":\\\"#2a3f5f\\\",\\\"linecolor\\\":\\\"white\\\"},\\\"type\\\":\\\"carpet\\\",\\\"baxis\\\":{\\\"gridcolor\\\":\\\"white\\\",\\\"endlinecolor\\\":\\\"#2a3f5f\\\",\\\"minorgridcolor\\\":\\\"white\\\",\\\"startlinecolor\\\":\\\"#2a3f5f\\\",\\\"linecolor\\\":\\\"white\\\"}}],\\\"scatterpolar\\\":[{\\\"type\\\":\\\"scatterpolar\\\",\\\"marker\\\":{\\\"colorbar\\\":{\\\"ticks\\\":\\\"\\\",\\\"outlinewidth\\\":0}}}],\\\"parcoords\\\":[{\\\"line\\\":{\\\"colorbar\\\":{\\\"ticks\\\":\\\"\\\",\\\"outlinewidth\\\":0}},\\\"type\\\":\\\"parcoords\\\"}],\\\"scatter\\\":[{\\\"type\\\":\\\"scatter\\\",\\\"marker\\\":{\\\"colorbar\\\":{\\\"ticks\\\":\\\"\\\",\\\"outlinewidth\\\":0}}}],\\\"histogram2dcontour\\\":[{\\\"colorbar\\\":{\\\"ticks\\\":\\\"\\\",\\\"outlinewidth\\\":0},\\\"type\\\":\\\"histogram2dcontour\\\",\\\"colorscale\\\":[[0.0,\\\"#0d0887\\\"],[0.1111111111111111,\\\"#46039f\\\"],[0.2222222222222222,\\\"#7201a8\\\"],[0.3333333333333333,\\\"#9c179e\\\"],[0.4444444444444444,\\\"#bd3786\\\"],[0.5555555555555556,\\\"#d8576b\\\"],[0.6666666666666666,\\\"#ed7953\\\"],[0.7777777777777778,\\\"#fb9f3a\\\"],[0.8888888888888888,\\\"#fdca26\\\"],[1.0,\\\"#f0f921\\\"]]}],\\\"contour\\\":[{\\\"colorbar\\\":{\\\"ticks\\\":\\\"\\\",\\\"outlinewidth\\\":0},\\\"type\\\":\\\"contour\\\",\\\"colorscale\\\":[[0.0,\\\"#0d0887\\\"],[0.1111111111111111,\\\"#46039f\\\"],[0.2222222222222222,\\\"#7201a8\\\"],[0.3333333333333333,\\\"#9c179e\\\"],[0.4444444444444444,\\\"#bd3786\\\"],[0.5555555555555556,\\\"#d8576b\\\"],[0.6666666666666666,\\\"#ed7953\\\"],[0.7777777777777778,\\\"#fb9f3a\\\"],[0.8888888888888888,\\\"#fdca26\\\"],[1.0,\\\"#f0f921\\\"]]}],\\\"scattercarpet\\\":[{\\\"type\\\":\\\"scattercarpet\\\",\\\"marker\\\":{\\\"colorbar\\\":{\\\"ticks\\\":\\\"\\\",\\\"outlinewidth\\\":0}}}],\\\"mesh3d\\\":[{\\\"colorbar\\\":{\\\"ticks\\\":\\\"\\\",\\\"outlinewidth\\\":0},\\\"type\\\":\\\"mesh3d\\\"}],\\\"surface\\\":[{\\\"colorbar\\\":{\\\"ticks\\\":\\\"\\\",\\\"outlinewidth\\\":0},\\\"type\\\":\\\"surface\\\",\\\"colorscale\\\":[[0.0,\\\"#0d0887\\\"],[0.1111111111111111,\\\"#46039f\\\"],[0.2222222222222222,\\\"#7201a8\\\"],[0.3333333333333333,\\\"#9c179e\\\"],[0.4444444444444444,\\\"#bd3786\\\"],[0.5555555555555556,\\\"#d8576b\\\"],[0.6666666666666666,\\\"#ed7953\\\"],[0.7777777777777778,\\\"#fb9f3a\\\"],[0.8888888888888888,\\\"#fdca26\\\"],[1.0,\\\"#f0f921\\\"]]}],\\\"scattermapbox\\\":[{\\\"type\\\":\\\"scattermapbox\\\",\\\"marker\\\":{\\\"colorbar\\\":{\\\"ticks\\\":\\\"\\\",\\\"outlinewidth\\\":0}}}],\\\"scattergeo\\\":[{\\\"type\\\":\\\"scattergeo\\\",\\\"marker\\\":{\\\"colorbar\\\":{\\\"ticks\\\":\\\"\\\",\\\"outlinewidth\\\":0}}}],\\\"histogram\\\":[{\\\"type\\\":\\\"histogram\\\",\\\"marker\\\":{\\\"colorbar\\\":{\\\"ticks\\\":\\\"\\\",\\\"outlinewidth\\\":0}}}],\\\"pie\\\":[{\\\"type\\\":\\\"pie\\\",\\\"automargin\\\":true}],\\\"choropleth\\\":[{\\\"colorbar\\\":{\\\"ticks\\\":\\\"\\\",\\\"outlinewidth\\\":0},\\\"type\\\":\\\"choropleth\\\"}],\\\"heatmapgl\\\":[{\\\"colorbar\\\":{\\\"ticks\\\":\\\"\\\",\\\"outlinewidth\\\":0},\\\"type\\\":\\\"heatmapgl\\\",\\\"colorscale\\\":[[0.0,\\\"#0d0887\\\"],[0.1111111111111111,\\\"#46039f\\\"],[0.2222222222222222,\\\"#7201a8\\\"],[0.3333333333333333,\\\"#9c179e\\\"],[0.4444444444444444,\\\"#bd3786\\\"],[0.5555555555555556,\\\"#d8576b\\\"],[0.6666666666666666,\\\"#ed7953\\\"],[0.7777777777777778,\\\"#fb9f3a\\\"],[0.8888888888888888,\\\"#fdca26\\\"],[1.0,\\\"#f0f921\\\"]]}],\\\"bar\\\":[{\\\"type\\\":\\\"bar\\\",\\\"error_y\\\":{\\\"color\\\":\\\"#2a3f5f\\\"},\\\"error_x\\\":{\\\"color\\\":\\\"#2a3f5f\\\"},\\\"marker\\\":{\\\"line\\\":{\\\"color\\\":\\\"#E5ECF6\\\",\\\"width\\\":0.5}}}],\\\"heatmap\\\":[{\\\"colorbar\\\":{\\\"ticks\\\":\\\"\\\",\\\"outlinewidth\\\":0},\\\"type\\\":\\\"heatmap\\\",\\\"colorscale\\\":[[0.0,\\\"#0d0887\\\"],[0.1111111111111111,\\\"#46039f\\\"],[0.2222222222222222,\\\"#7201a8\\\"],[0.3333333333333333,\\\"#9c179e\\\"],[0.4444444444444444,\\\"#bd3786\\\"],[0.5555555555555556,\\\"#d8576b\\\"],[0.6666666666666666,\\\"#ed7953\\\"],[0.7777777777777778,\\\"#fb9f3a\\\"],[0.8888888888888888,\\\"#fdca26\\\"],[1.0,\\\"#f0f921\\\"]]}],\\\"contourcarpet\\\":[{\\\"colorbar\\\":{\\\"ticks\\\":\\\"\\\",\\\"outlinewidth\\\":0},\\\"type\\\":\\\"contourcarpet\\\"}],\\\"table\\\":[{\\\"type\\\":\\\"table\\\",\\\"header\\\":{\\\"line\\\":{\\\"color\\\":\\\"white\\\"},\\\"fill\\\":{\\\"color\\\":\\\"#C8D4E3\\\"}},\\\"cells\\\":{\\\"line\\\":{\\\"color\\\":\\\"white\\\"},\\\"fill\\\":{\\\"color\\\":\\\"#EBF0F8\\\"}}}],\\\"scatter3d\\\":[{\\\"line\\\":{\\\"colorbar\\\":{\\\"ticks\\\":\\\"\\\",\\\"outlinewidth\\\":0}},\\\"type\\\":\\\"scatter3d\\\",\\\"marker\\\":{\\\"colorbar\\\":{\\\"ticks\\\":\\\"\\\",\\\"outlinewidth\\\":0}}}],\\\"scattergl\\\":[{\\\"type\\\":\\\"scattergl\\\",\\\"marker\\\":{\\\"colorbar\\\":{\\\"ticks\\\":\\\"\\\",\\\"outlinewidth\\\":0}}}],\\\"histogram2d\\\":[{\\\"colorbar\\\":{\\\"ticks\\\":\\\"\\\",\\\"outlinewidth\\\":0},\\\"type\\\":\\\"histogram2d\\\",\\\"colorscale\\\":[[0.0,\\\"#0d0887\\\"],[0.1111111111111111,\\\"#46039f\\\"],[0.2222222222222222,\\\"#7201a8\\\"],[0.3333333333333333,\\\"#9c179e\\\"],[0.4444444444444444,\\\"#bd3786\\\"],[0.5555555555555556,\\\"#d8576b\\\"],[0.6666666666666666,\\\"#ed7953\\\"],[0.7777777777777778,\\\"#fb9f3a\\\"],[0.8888888888888888,\\\"#fdca26\\\"],[1.0,\\\"#f0f921\\\"]]}],\\\"scatterternary\\\":[{\\\"type\\\":\\\"scatterternary\\\",\\\"marker\\\":{\\\"colorbar\\\":{\\\"ticks\\\":\\\"\\\",\\\"outlinewidth\\\":0}}}],\\\"scatterpolargl\\\":[{\\\"type\\\":\\\"scatterpolargl\\\",\\\"marker\\\":{\\\"colorbar\\\":{\\\"ticks\\\":\\\"\\\",\\\"outlinewidth\\\":0}}}]}},\\\"height\\\":510,\\\"margin\\\":{\\\"l\\\":50,\\\"b\\\":50,\\\"r\\\":50,\\\"t\\\":60},\\\"title\\\":\\\"Nearest neighbor model with nearest spin-orbit coupling\\\",\\\"yaxis\\\":{\\\"showgrid\\\":true,\\\"showline\\\":true,\\\"showticklabels\\\":true,\\\"linewidth\\\":5,\\\"mirror\\\":true,\\\"linecolor\\\":\\\"black\\\"},\\\"plot_bgcolor\\\":\\\"rgba(0,0,0,0)\\\",\\\"width\\\":510},{\\\"showLink\\\":false,\\\"editable\\\":false,\\\"responsive\\\":true,\\\"staticPlot\\\":false,\\\"scrollZoom\\\":true}); gd.on(\\\"plotly_hover\\\",(function (data){var filtered_data=WebIO.PlotlyCommands.filterEventData(gd,data,\\\"hover\\\"); return !(filtered_data.isnil) ? (WebIO.setval({\\\"name\\\":\\\"hover\\\",\\\"scope\\\":\\\"4742047363141106210\\\",\\\"id\\\":\\\"167934\\\",\\\"type\\\":\\\"observable\\\"},filtered_data.out)) : undefined})); gd.on(\\\"plotly_unhover\\\",(function (){return WebIO.setval({\\\"name\\\":\\\"hover\\\",\\\"scope\\\":\\\"4742047363141106210\\\",\\\"id\\\":\\\"167934\\\",\\\"type\\\":\\\"observable\\\"},{})})); gd.on(\\\"plotly_selected\\\",(function (data){var filtered_data=WebIO.PlotlyCommands.filterEventData(gd,data,\\\"selected\\\"); return !(filtered_data.isnil) ? (WebIO.setval({\\\"name\\\":\\\"selected\\\",\\\"scope\\\":\\\"4742047363141106210\\\",\\\"id\\\":\\\"167935\\\",\\\"type\\\":\\\"observable\\\"},filtered_data.out)) : undefined})); gd.on(\\\"plotly_deselect\\\",(function (){return WebIO.setval({\\\"name\\\":\\\"selected\\\",\\\"scope\\\":\\\"4742047363141106210\\\",\\\"id\\\":\\\"167935\\\",\\\"type\\\":\\\"observable\\\"},{})})); gd.on(\\\"plotly_relayout\\\",(function (data){var filtered_data=WebIO.PlotlyCommands.filterEventData(gd,data,\\\"relayout\\\"); return !(filtered_data.isnil) ? (WebIO.setval({\\\"name\\\":\\\"relayout\\\",\\\"scope\\\":\\\"4742047363141106210\\\",\\\"id\\\":\\\"167937\\\",\\\"type\\\":\\\"observable\\\"},filtered_data.out)) : undefined})); return gd.on(\\\"plotly_click\\\",(function (data){var filtered_data=WebIO.PlotlyCommands.filterEventData(gd,data,\\\"click\\\"); return !(filtered_data.isnil) ? (WebIO.setval({\\\"name\\\":\\\"click\\\",\\\"scope\\\":\\\"4742047363141106210\\\",\\\"id\\\":\\\"167936\\\",\\\"type\\\":\\\"observable\\\"},filtered_data.out)) : undefined}))}));\\n    (WebIO.importBlock({\\\"data\\\":[{\\\"name\\\":\\\"Plotly\\\",\\\"type\\\":\\\"js\\\",\\\"url\\\":\\\"\\/assetserver\\/b267c3137400db01c304fe886fe6f707be7fdb37-plotly.min.js\\\"},{\\\"name\\\":null,\\\"type\\\":\\\"js\\\",\\\"url\\\":\\\"\\/assetserver\\/020f2e8a4619f2ae880fff9315e6547eef1aff0b-plotly_webio.bundle.js\\\"}],\\\"type\\\":\\\"async_block\\\"})).then((imports) => handler.apply(this, imports));\\n}\\n\"],\"observables\":{\"_toImage\":{\"sync\":false,\"id\":\"167941\",\"value\":{}},\"hover\":{\"sync\":false,\"id\":\"167934\",\"value\":{}},\"selected\":{\"sync\":false,\"id\":\"167935\",\"value\":{}},\"__gd_contents\":{\"sync\":false,\"id\":\"167939\",\"value\":{}},\"click\":{\"sync\":false,\"id\":\"167936\",\"value\":{}},\"image\":{\"sync\":true,\"id\":\"167938\",\"value\":\"\"},\"__get_gd_contents\":{\"sync\":false,\"id\":\"167943\",\"value\":\"\"},\"_downloadImage\":{\"sync\":false,\"id\":\"167942\",\"value\":{}},\"relayout\":{\"sync\":false,\"id\":\"167937\",\"value\":{}},\"_commands\":{\"sync\":false,\"id\":\"167940\",\"value\":[]}}},\"children\":[{\"props\":{\"id\":\"plot-7049822b-bc02-47b6-9938-c1f1cbb09209\"},\"nodeType\":\"DOM\",\"type\":\"node\",\"instanceArgs\":{\"namespace\":\"html\",\"tag\":\"div\"},\"children\":[]}]},\n",
       "        window,\n",
       "    );\n",
       "    })()\n",
       "    </script>\n",
       "</div>\n"
      ],
      "text/plain": [
       "data: [\n",
       "  \"scatter with fields line, mode, type, x, and y\",\n",
       "  \"scatter with fields line, mode, type, x, and y\",\n",
       "  \"scatter with fields line, mode, type, x, and y\"\n",
       "]\n",
       "\n",
       "layout: \"layout with fields height, margin, plot_bgcolor, showlegend, template, title, width, xaxis, and yaxis\"\n",
       "\n"
      ]
     },
     "metadata": {},
     "output_type": "display_data"
    }
   ],
   "source": [
    "let t1 = -1.0, u1 = 1.0, t2 = 0.0, u2 = 0.0\n",
    "    p = Params(t1 = t1, u1 = u1, t2 = t2, u2 = u2)\n",
    "    plot_simple_kagome_bands(p = p, seedname = \"complex_nn_soc_1\", title = \"Nearest neighbor model with nearest spin-orbit coupling\")\n",
    "end"
   ]
  },
  {
   "cell_type": "markdown",
   "metadata": {},
   "source": [
    "## Reproducing the 3D band structure in section 2 of ArXiv:1308.0343 ##"
   ]
  },
  {
   "cell_type": "code",
   "execution_count": 159,
   "metadata": {},
   "outputs": [
    {
     "data": {
      "text/plain": [
       "plot_simple_kagome_bands3D (generic function with 1 method)"
      ]
     },
     "metadata": {},
     "output_type": "display_data"
    }
   ],
   "source": [
    "function plot_simple_kagome_bands3D(;p, seedname, title = Nothing)\n",
    "    # Here, we will plot the bands in 3D. We choose a rectanlge in the BZ over which we compute the spectrum. \n",
    "    # The length of each side ois 2 pi / a, where a is the lattice constant. \n",
    "    # kx ∈ [-pi/a, pi/a], ky ∈ [-pi/a, pi/a]\n",
    "\n",
    "    if title == Nothing\n",
    "        title = seedname\n",
    "    end\n",
    "\n",
    "    # construction of the grid \n",
    "    npts_perdim = 300\n",
    "    lim = 0.55\n",
    "    rng = LinRange(-lim, lim, npts_perdim)\n",
    "    grid = Matrix{Vector{Float64}}(undef, npts_perdim, npts_perdim)\n",
    "    for (n, kx) ∈ enumerate(rng)\n",
    "        for (m, ky) ∈ enumerate(rng)\n",
    "            grid[n, m] = [kx, ky]\n",
    "        end\n",
    "    end    \n",
    "    Bs = Matrix(recip_basis)\n",
    "\n",
    "    # to reduced coordinates \n",
    "    rgrid = cart_to_red.(Ref(Bs), grid)\n",
    "\n",
    "    eks = evals3.(rgrid, Ref(p))\n",
    "\n",
    "    ek_1 = map(e->e[1], eks)\n",
    "    ek_2 = map(e->e[2], eks)\n",
    "    ek_3 = map(e->e[3], eks)\n",
    "\n",
    "    kxs = reshape(map(e->e[1], grid), (npts_perdim, npts_perdim))\n",
    "    kys = reshape(map(e->e[2], grid), (npts_perdim, npts_perdim))\n",
    "\n",
    "    f = Figure()\n",
    "    ax = Axis3(f[1, 1], title = title, elevation = pi / 40.0)\n",
    "\n",
    "\n",
    "    Makie.surface!(ax, ek_1, colormap = :viridis)\n",
    "    Makie.surface!(ax, ek_2, colormap = :viridis)\n",
    "    Makie.surface!(ax, ek_3, colormap = :viridis)\n",
    "\n",
    "    display(f)\n",
    "end"
   ]
  },
  {
   "cell_type": "code",
   "execution_count": 160,
   "metadata": {},
   "outputs": [
    {
     "data": {
      "text/plain": [
       "GLMakie.Screen(...)"
      ]
     },
     "metadata": {},
     "output_type": "display_data"
    }
   ],
   "source": [
    "let t1 = -1.0, u1 = 0.0, t2 = 0.0, u2 = 0.0\n",
    "    p = Params(t1 = t1, u1 = u1, t2 = t2, u2 = u2)\n",
    "    plot_simple_kagome_bands3D(p = p, seedname = \"simple3D\", title = \"Nearest neighbor model without spin-orbit coupling\")\n",
    "end"
   ]
  },
  {
   "cell_type": "code",
   "execution_count": 120,
   "metadata": {},
   "outputs": [
    {
     "data": {
      "text/plain": [
       "GLMakie.Screen(...)"
      ]
     },
     "metadata": {},
     "output_type": "display_data"
    }
   ],
   "source": [
    "\n",
    "let t1 = -1.0, u1 = 0.28, t2 = 0.3, u2 = 0.2\n",
    "    p = Params(t1 = t1, u1 = u1, t2 = t2, u2 = u2)\n",
    "    plot_simple_kagome_bands3D(p = p, seedname = \"real_nnn_complex_nnn_3D\", title = \"Next to nearest neighbor model with spin-orbit coupling\")\n",
    "end"
   ]
  },
  {
   "cell_type": "code",
   "execution_count": null,
   "metadata": {},
   "outputs": [
    {
     "ename": "UndefVarError",
     "evalue": "UndefVarError: `tp` not defined in `Main`\nSuggestion: check for spelling errors or missing imports.",
     "output_type": "error",
     "traceback": [
      "UndefVarError: `tp` not defined in `Main`\n",
      "Suggestion: check for spelling errors or missing imports.\n",
      "\n",
      "Stacktrace:\n",
      " [1] top-level scope\n",
      "   @ ~/work/projects/kagome/KagomeTransport/notebooks/jl_notebook_cell_df34fa98e69747e1a8f8a730347b8e2f_X25sZmlsZQ==.jl:1"
     ]
    }
   ],
   "source": []
  },
  {
   "cell_type": "code",
   "execution_count": 122,
   "metadata": {},
   "outputs": [],
   "source": []
  }
 ],
 "metadata": {
  "kernelspec": {
   "display_name": "Julia 1.11.2",
   "language": "julia",
   "name": "julia-1.11"
  },
  "language_info": {
   "file_extension": ".jl",
   "mimetype": "application/julia",
   "name": "julia",
   "version": "1.11.2"
  }
 },
 "nbformat": 4,
 "nbformat_minor": 2
}
