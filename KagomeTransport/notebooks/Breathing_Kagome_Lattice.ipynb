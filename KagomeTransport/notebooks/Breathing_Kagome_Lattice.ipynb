{
 "cells": [
  {
   "cell_type": "markdown",
   "metadata": {},
   "source": [
    "## Tight-binding modelling of the Breathing Kagome System\n",
    "### Here, we will follow the paper by Nagosa and Bolens \"PhysRevB.99.165141\" on the Breathing kagome system with trimerized couplings. "
   ]
  },
  {
   "cell_type": "code",
   "execution_count": 1,
   "metadata": {},
   "outputs": [],
   "source": [
    "using LinearAlgebra\n",
    "using Makie \n",
    "using CairoMakie \n",
    "using Brillouin\n",
    "using Printf\n",
    "using PlotlyJS\n",
    "using Symbolics\n",
    "using StaticArrays"
   ]
  },
  {
   "cell_type": "markdown",
   "metadata": {},
   "source": [
    "### Basis and Lattice geometry. \n",
    "\n",
    "Note that R1 and R2 are the basis in real space. They are related by a C_3 rotation. To complete the orbit of the C_3 group, we also define R3. R1, R2, and R3 show up in the momentum-space Hamiltonian "
   ]
  },
  {
   "cell_type": "code",
   "execution_count": 2,
   "metadata": {},
   "outputs": [
    {
     "name": "stdout",
     "output_type": "stream",
     "text": [
      "--- Plotting the Wigner-Seitz cell in real space. \n",
      "\n",
      "--- Vertices of the real Wigner-Seitz cell (in reduced coordinates): \n",
      "  0.666667   0.333333 \n",
      "  0.333333  -0.333333 \n",
      " -0.333333  -0.666667 \n",
      " -0.666667  -0.333333 \n",
      " -0.333333   0.333333 \n",
      "  0.333333   0.666667 \n",
      "\n",
      "--- Plotting the Wigner-Seitz cell in reciprocal space. \n",
      "\n",
      "--- Vertices of the reciprocal space Wigner-Seitz cell (in reduced coordinates): \n",
      " -0.666667   0.333333 \n",
      " -0.333333   0.666667 \n",
      "  0.333333   0.333333 \n",
      "  0.666667  -0.333333 \n",
      "  0.333333  -0.666667 \n",
      " -0.333333  -0.333333 \n",
      "\n",
      "--- Vertices of the reciprocal space Wigner-Seitz cell (in cartesian coordinates): \n",
      "  2.094395   3.627599 \n",
      "  4.188790  -0.000000 \n",
      "  2.094395  -3.627599 \n",
      " -2.094395  -3.627599 \n",
      " -4.188790   0.000000 \n",
      " -2.094395   3.627599 \n",
      "\n"
     ]
    },
    {
     "data": {
      "application/vnd.plotly.v1+json": {
       "config": {
        "displaylogo": false,
        "editable": false,
        "responsive": true,
        "scrollZoom": true,
        "showLink": false,
        "staticPlot": false
       },
       "data": [
        {
         "hoverinfo": "text+x+y",
         "hovertext": "Cell",
         "line": {
          "color": "rgb(47,54,64)",
          "width": 3
         },
         "mode": "lines",
         "type": "scatter",
         "x": [
          -0.4999999999999999,
          0,
          0.4999999999999998,
          0.4999999999999999,
          0,
          -0.4999999999999998,
          -0.4999999999999999
         ],
         "y": [
          -0.2886751345948128,
          -0.5773502691896257,
          -0.288675134594813,
          0.2886751345948128,
          0.5773502691896257,
          0.288675134594813,
          -0.2886751345948128
         ]
        },
        {
         "hoverinfo": "text",
         "hovertext": "<b>v</b><sub>1</sub>",
         "line": {
          "color": "rgb(212,216,227)",
          "width": 5
         },
         "mode": "lines",
         "type": "scatter",
         "x": [
          0,
          -0.2375
         ],
         "y": [
          0,
          -0.41136206679760834
         ]
        },
        {
         "hoverinfo": "text",
         "hovertext": "<b>v</b><sub>2</sub>",
         "line": {
          "color": "rgb(212,216,227)",
          "width": 5
         },
         "mode": "lines",
         "type": "scatter",
         "x": [
          0,
          0.4749999999999998
         ],
         "y": [
          0,
          -1.0547118733938984e-16
         ]
        },
        {
         "hoverinfo": "text+x+y",
         "hovertext": "<b>v</b><sub>1</sub>",
         "line": {
          "color": "rgb(39,60,117)",
          "width": 6
         },
         "mode": "lines",
         "type": "scatter",
         "x": [
          -0.2625,
          -0.5
         ],
         "y": [
          -0.45466333698683026,
          -0.8660254037844386
         ]
        },
        {
         "hoverinfo": "text+x+y",
         "hovertext": "<b>v</b><sub>2</sub>",
         "line": {
          "color": "rgb(39,60,117)",
          "width": 6
         },
         "mode": "lines",
         "type": "scatter",
         "x": [
          0.5249999999999998,
          0.9999999999999999
         ],
         "y": [
          -1.1657341758564142e-16,
          -2.220446049250313e-16
         ]
        },
        {
         "hoverinfo": "text",
         "hovertext": "<b>x</b>",
         "line": {
          "color": "rgb(242,215,208)",
          "width": 5
         },
         "mode": "lines",
         "type": "scatter",
         "x": [
          0,
          0.4749999999999998
         ],
         "y": [
          0,
          0
         ]
        },
        {
         "hoverinfo": "text",
         "hovertext": "<b>y</b>",
         "line": {
          "color": "rgb(242,215,208)",
          "width": 5
         },
         "mode": "lines",
         "type": "scatter",
         "x": [
          0,
          0
         ],
         "y": [
          0,
          0.5523502691896257
         ]
        },
        {
         "hoverinfo": "text",
         "hovertext": "<b>x</b>",
         "line": {
          "color": "rgb(194,54,22)",
          "width": 6
         },
         "mode": "lines",
         "type": "scatter",
         "x": [
          0.5249999999999998,
          0.6999999999999998
         ],
         "y": [
          0,
          0
         ]
        },
        {
         "hoverinfo": "text",
         "hovertext": "<b>y</b>",
         "line": {
          "color": "rgb(194,54,22)",
          "width": 6
         },
         "mode": "lines",
         "type": "scatter",
         "x": [
          0,
          0
         ],
         "y": [
          0.6023502691896258,
          0.7773502691896257
         ]
        }
       ],
       "frames": [],
       "layout": {
        "annotations": [
         {
          "arrowcolor": "rgb(39,60,117)",
          "arrowhead": 2,
          "arrowsize": 0.5,
          "arrowwidth": 6,
          "ax": -0.475,
          "axref": "x",
          "ay": -0.8227241335952167,
          "ayref": "y",
          "showarrow": true,
          "x": -0.525,
          "xref": "ax",
          "y": -0.9093266739736605,
          "yref": "ay"
         },
         {
          "arrowcolor": "rgb(39,60,117)",
          "arrowhead": 2,
          "arrowsize": 0.5,
          "arrowwidth": 6,
          "ax": 0.9499999999999998,
          "axref": "x",
          "ay": -2.1094237467877973e-16,
          "ayref": "y",
          "showarrow": true,
          "x": 1.0499999999999998,
          "xref": "ax",
          "y": -2.331468351712829e-16,
          "yref": "ay"
         },
         {
          "arrowcolor": "rgb(194,54,22)",
          "arrowhead": 2,
          "arrowsize": 0.5,
          "arrowwidth": 6,
          "ax": 0.6499999999999998,
          "axref": "x",
          "ay": 0,
          "ayref": "y",
          "showarrow": true,
          "x": 0.7499999999999999,
          "xref": "ax",
          "y": 0,
          "yref": "ay"
         },
         {
          "arrowcolor": "rgb(194,54,22)",
          "arrowhead": 2,
          "arrowsize": 0.5,
          "arrowwidth": 6,
          "ax": 0,
          "axref": "x",
          "ay": 0.7273502691896256,
          "ayref": "y",
          "showarrow": true,
          "x": 0,
          "xref": "ax",
          "y": 0.8273502691896257,
          "yref": "ay"
         }
        ],
        "aspectmode": "data",
        "autosize": false,
        "hovermode": "closest",
        "margin": {
         "b": 50,
         "l": 50,
         "r": 50,
         "t": 60
        },
        "paper_bgcolor": "rgba(255, 255, 255, 1)",
        "plot_bgcolor": "rgba(255, 255, 255, 1)",
        "showlegend": false,
        "template": {
         "data": {
          "bar": [
           {
            "error_x": {
             "color": "#2a3f5f"
            },
            "error_y": {
             "color": "#2a3f5f"
            },
            "marker": {
             "line": {
              "color": "#E5ECF6",
              "width": 0.5
             }
            },
            "type": "bar"
           }
          ],
          "barpolar": [
           {
            "marker": {
             "line": {
              "color": "#E5ECF6",
              "width": 0.5
             }
            },
            "type": "barpolar"
           }
          ],
          "carpet": [
           {
            "aaxis": {
             "endlinecolor": "#2a3f5f",
             "gridcolor": "white",
             "linecolor": "white",
             "minorgridcolor": "white",
             "startlinecolor": "#2a3f5f"
            },
            "baxis": {
             "endlinecolor": "#2a3f5f",
             "gridcolor": "white",
             "linecolor": "white",
             "minorgridcolor": "white",
             "startlinecolor": "#2a3f5f"
            },
            "type": "carpet"
           }
          ],
          "choropleth": [
           {
            "colorbar": {
             "outlinewidth": 0,
             "ticks": ""
            },
            "type": "choropleth"
           }
          ],
          "contour": [
           {
            "colorbar": {
             "outlinewidth": 0,
             "ticks": ""
            },
            "colorscale": [
             [
              0,
              "#0d0887"
             ],
             [
              0.1111111111111111,
              "#46039f"
             ],
             [
              0.2222222222222222,
              "#7201a8"
             ],
             [
              0.3333333333333333,
              "#9c179e"
             ],
             [
              0.4444444444444444,
              "#bd3786"
             ],
             [
              0.5555555555555556,
              "#d8576b"
             ],
             [
              0.6666666666666666,
              "#ed7953"
             ],
             [
              0.7777777777777778,
              "#fb9f3a"
             ],
             [
              0.8888888888888888,
              "#fdca26"
             ],
             [
              1,
              "#f0f921"
             ]
            ],
            "type": "contour"
           }
          ],
          "contourcarpet": [
           {
            "colorbar": {
             "outlinewidth": 0,
             "ticks": ""
            },
            "type": "contourcarpet"
           }
          ],
          "heatmap": [
           {
            "colorbar": {
             "outlinewidth": 0,
             "ticks": ""
            },
            "colorscale": [
             [
              0,
              "#0d0887"
             ],
             [
              0.1111111111111111,
              "#46039f"
             ],
             [
              0.2222222222222222,
              "#7201a8"
             ],
             [
              0.3333333333333333,
              "#9c179e"
             ],
             [
              0.4444444444444444,
              "#bd3786"
             ],
             [
              0.5555555555555556,
              "#d8576b"
             ],
             [
              0.6666666666666666,
              "#ed7953"
             ],
             [
              0.7777777777777778,
              "#fb9f3a"
             ],
             [
              0.8888888888888888,
              "#fdca26"
             ],
             [
              1,
              "#f0f921"
             ]
            ],
            "type": "heatmap"
           }
          ],
          "heatmapgl": [
           {
            "colorbar": {
             "outlinewidth": 0,
             "ticks": ""
            },
            "colorscale": [
             [
              0,
              "#0d0887"
             ],
             [
              0.1111111111111111,
              "#46039f"
             ],
             [
              0.2222222222222222,
              "#7201a8"
             ],
             [
              0.3333333333333333,
              "#9c179e"
             ],
             [
              0.4444444444444444,
              "#bd3786"
             ],
             [
              0.5555555555555556,
              "#d8576b"
             ],
             [
              0.6666666666666666,
              "#ed7953"
             ],
             [
              0.7777777777777778,
              "#fb9f3a"
             ],
             [
              0.8888888888888888,
              "#fdca26"
             ],
             [
              1,
              "#f0f921"
             ]
            ],
            "type": "heatmapgl"
           }
          ],
          "histogram": [
           {
            "marker": {
             "colorbar": {
              "outlinewidth": 0,
              "ticks": ""
             }
            },
            "type": "histogram"
           }
          ],
          "histogram2d": [
           {
            "colorbar": {
             "outlinewidth": 0,
             "ticks": ""
            },
            "colorscale": [
             [
              0,
              "#0d0887"
             ],
             [
              0.1111111111111111,
              "#46039f"
             ],
             [
              0.2222222222222222,
              "#7201a8"
             ],
             [
              0.3333333333333333,
              "#9c179e"
             ],
             [
              0.4444444444444444,
              "#bd3786"
             ],
             [
              0.5555555555555556,
              "#d8576b"
             ],
             [
              0.6666666666666666,
              "#ed7953"
             ],
             [
              0.7777777777777778,
              "#fb9f3a"
             ],
             [
              0.8888888888888888,
              "#fdca26"
             ],
             [
              1,
              "#f0f921"
             ]
            ],
            "type": "histogram2d"
           }
          ],
          "histogram2dcontour": [
           {
            "colorbar": {
             "outlinewidth": 0,
             "ticks": ""
            },
            "colorscale": [
             [
              0,
              "#0d0887"
             ],
             [
              0.1111111111111111,
              "#46039f"
             ],
             [
              0.2222222222222222,
              "#7201a8"
             ],
             [
              0.3333333333333333,
              "#9c179e"
             ],
             [
              0.4444444444444444,
              "#bd3786"
             ],
             [
              0.5555555555555556,
              "#d8576b"
             ],
             [
              0.6666666666666666,
              "#ed7953"
             ],
             [
              0.7777777777777778,
              "#fb9f3a"
             ],
             [
              0.8888888888888888,
              "#fdca26"
             ],
             [
              1,
              "#f0f921"
             ]
            ],
            "type": "histogram2dcontour"
           }
          ],
          "mesh3d": [
           {
            "colorbar": {
             "outlinewidth": 0,
             "ticks": ""
            },
            "type": "mesh3d"
           }
          ],
          "parcoords": [
           {
            "line": {
             "colorbar": {
              "outlinewidth": 0,
              "ticks": ""
             }
            },
            "type": "parcoords"
           }
          ],
          "pie": [
           {
            "automargin": true,
            "type": "pie"
           }
          ],
          "scatter": [
           {
            "marker": {
             "colorbar": {
              "outlinewidth": 0,
              "ticks": ""
             }
            },
            "type": "scatter"
           }
          ],
          "scatter3d": [
           {
            "line": {
             "colorbar": {
              "outlinewidth": 0,
              "ticks": ""
             }
            },
            "marker": {
             "colorbar": {
              "outlinewidth": 0,
              "ticks": ""
             }
            },
            "type": "scatter3d"
           }
          ],
          "scattercarpet": [
           {
            "marker": {
             "colorbar": {
              "outlinewidth": 0,
              "ticks": ""
             }
            },
            "type": "scattercarpet"
           }
          ],
          "scattergeo": [
           {
            "marker": {
             "colorbar": {
              "outlinewidth": 0,
              "ticks": ""
             }
            },
            "type": "scattergeo"
           }
          ],
          "scattergl": [
           {
            "marker": {
             "colorbar": {
              "outlinewidth": 0,
              "ticks": ""
             }
            },
            "type": "scattergl"
           }
          ],
          "scattermapbox": [
           {
            "marker": {
             "colorbar": {
              "outlinewidth": 0,
              "ticks": ""
             }
            },
            "type": "scattermapbox"
           }
          ],
          "scatterpolar": [
           {
            "marker": {
             "colorbar": {
              "outlinewidth": 0,
              "ticks": ""
             }
            },
            "type": "scatterpolar"
           }
          ],
          "scatterpolargl": [
           {
            "marker": {
             "colorbar": {
              "outlinewidth": 0,
              "ticks": ""
             }
            },
            "type": "scatterpolargl"
           }
          ],
          "scatterternary": [
           {
            "marker": {
             "colorbar": {
              "outlinewidth": 0,
              "ticks": ""
             }
            },
            "type": "scatterternary"
           }
          ],
          "surface": [
           {
            "colorbar": {
             "outlinewidth": 0,
             "ticks": ""
            },
            "colorscale": [
             [
              0,
              "#0d0887"
             ],
             [
              0.1111111111111111,
              "#46039f"
             ],
             [
              0.2222222222222222,
              "#7201a8"
             ],
             [
              0.3333333333333333,
              "#9c179e"
             ],
             [
              0.4444444444444444,
              "#bd3786"
             ],
             [
              0.5555555555555556,
              "#d8576b"
             ],
             [
              0.6666666666666666,
              "#ed7953"
             ],
             [
              0.7777777777777778,
              "#fb9f3a"
             ],
             [
              0.8888888888888888,
              "#fdca26"
             ],
             [
              1,
              "#f0f921"
             ]
            ],
            "type": "surface"
           }
          ],
          "table": [
           {
            "cells": {
             "fill": {
              "color": "#EBF0F8"
             },
             "line": {
              "color": "white"
             }
            },
            "header": {
             "fill": {
              "color": "#C8D4E3"
             },
             "line": {
              "color": "white"
             }
            },
            "type": "table"
           }
          ]
         },
         "layout": {
          "annotationdefaults": {
           "arrowcolor": "#2a3f5f",
           "arrowhead": 0,
           "arrowwidth": 1
          },
          "autotypenumbers": "strict",
          "coloraxis": {
           "colorbar": {
            "outlinewidth": 0,
            "ticks": ""
           }
          },
          "colorscale": {
           "diverging": [
            [
             0,
             "#8e0152"
            ],
            [
             0.1,
             "#c51b7d"
            ],
            [
             0.2,
             "#de77ae"
            ],
            [
             0.3,
             "#f1b6da"
            ],
            [
             0.4,
             "#fde0ef"
            ],
            [
             0.5,
             "#f7f7f7"
            ],
            [
             0.6,
             "#e6f5d0"
            ],
            [
             0.7,
             "#b8e186"
            ],
            [
             0.8,
             "#7fbc41"
            ],
            [
             0.9,
             "#4d9221"
            ],
            [
             1,
             "#276419"
            ]
           ],
           "sequential": [
            [
             0,
             "#0d0887"
            ],
            [
             0.1111111111111111,
             "#46039f"
            ],
            [
             0.2222222222222222,
             "#7201a8"
            ],
            [
             0.3333333333333333,
             "#9c179e"
            ],
            [
             0.4444444444444444,
             "#bd3786"
            ],
            [
             0.5555555555555556,
             "#d8576b"
            ],
            [
             0.6666666666666666,
             "#ed7953"
            ],
            [
             0.7777777777777778,
             "#fb9f3a"
            ],
            [
             0.8888888888888888,
             "#fdca26"
            ],
            [
             1,
             "#f0f921"
            ]
           ],
           "sequentialminus": [
            [
             0,
             "#0d0887"
            ],
            [
             0.1111111111111111,
             "#46039f"
            ],
            [
             0.2222222222222222,
             "#7201a8"
            ],
            [
             0.3333333333333333,
             "#9c179e"
            ],
            [
             0.4444444444444444,
             "#bd3786"
            ],
            [
             0.5555555555555556,
             "#d8576b"
            ],
            [
             0.6666666666666666,
             "#ed7953"
            ],
            [
             0.7777777777777778,
             "#fb9f3a"
            ],
            [
             0.8888888888888888,
             "#fdca26"
            ],
            [
             1,
             "#f0f921"
            ]
           ]
          },
          "colorway": [
           "#636efa",
           "#EF553B",
           "#00cc96",
           "#ab63fa",
           "#FFA15A",
           "#19d3f3",
           "#FF6692",
           "#B6E880",
           "#FF97FF",
           "#FECB52"
          ],
          "font": {
           "color": "#2a3f5f"
          },
          "geo": {
           "bgcolor": "white",
           "lakecolor": "white",
           "landcolor": "#E5ECF6",
           "showlakes": true,
           "showland": true,
           "subunitcolor": "white"
          },
          "hoverlabel": {
           "align": "left"
          },
          "hovermode": "closest",
          "mapbox": {
           "style": "light"
          },
          "paper_bgcolor": "white",
          "plot_bgcolor": "#E5ECF6",
          "polar": {
           "angularaxis": {
            "gridcolor": "white",
            "linecolor": "white",
            "ticks": ""
           },
           "bgcolor": "#E5ECF6",
           "radialaxis": {
            "gridcolor": "white",
            "linecolor": "white",
            "ticks": ""
           }
          },
          "scene": {
           "xaxis": {
            "backgroundcolor": "#E5ECF6",
            "gridcolor": "white",
            "gridwidth": 2,
            "linecolor": "white",
            "showbackground": true,
            "ticks": "",
            "zerolinecolor": "white"
           },
           "yaxis": {
            "backgroundcolor": "#E5ECF6",
            "gridcolor": "white",
            "gridwidth": 2,
            "linecolor": "white",
            "showbackground": true,
            "ticks": "",
            "zerolinecolor": "white"
           },
           "zaxis": {
            "backgroundcolor": "#E5ECF6",
            "gridcolor": "white",
            "gridwidth": 2,
            "linecolor": "white",
            "showbackground": true,
            "ticks": "",
            "zerolinecolor": "white"
           }
          },
          "shapedefaults": {
           "line": {
            "color": "#2a3f5f"
           }
          },
          "ternary": {
           "aaxis": {
            "gridcolor": "white",
            "linecolor": "white",
            "ticks": ""
           },
           "baxis": {
            "gridcolor": "white",
            "linecolor": "white",
            "ticks": ""
           },
           "bgcolor": "#E5ECF6",
           "caxis": {
            "gridcolor": "white",
            "linecolor": "white",
            "ticks": ""
           }
          },
          "title": {
           "x": 0.05
          },
          "xaxis": {
           "automargin": true,
           "gridcolor": "white",
           "linecolor": "white",
           "ticks": "",
           "title": {
            "standoff": 15
           },
           "zerolinecolor": "white",
           "zerolinewidth": 2
          },
          "yaxis": {
           "automargin": true,
           "gridcolor": "white",
           "linecolor": "white",
           "ticks": "",
           "title": {
            "standoff": 15
           },
           "zerolinecolor": "white",
           "zerolinewidth": 2
          }
         }
        },
        "xaxis": {
         "range": [
          -1.0666666666666667,
          1.0666666666666667
         ],
         "showbackground": false,
         "showgrid": false,
         "tickvals": [],
         "title": {
          "text": ""
         },
         "zeroline": false
        },
        "yaxis": {
         "range": [
          -0.9326920704511052,
          0.9326920704511052
         ],
         "scaleanchor": "x",
         "scaleratio": 1,
         "showbackground": false,
         "showgrid": false,
         "tickvals": [],
         "title": {
          "text": ""
         },
         "zeroline": false
        }
       }
      },
      "image/png": "[encoded data removed]",
      "image/svg+xml": [
       "<svg class=\"main-svg\" xmlns=\"http://www.w3.org/2000/svg\" xmlns:xlink=\"http://www.w3.org/1999/xlink\" width=\"700\" height=\"500\" style=\"\" viewBox=\"0 0 700 500\"><rect x=\"0\" y=\"0\" width=\"700\" height=\"500\" style=\"fill: rgb(255, 255, 255); fill-opacity: 1;\"/><defs id=\"defs-36f73d\"><g class=\"clips\"><clipPath id=\"clip36f73dxyplot\" class=\"plotclip\"><rect width=\"600\" height=\"390\"/></clipPath><clipPath class=\"axesclip\" id=\"clip36f73dx\"><rect x=\"50\" y=\"0\" width=\"600\" height=\"500\"/></clipPath><clipPath class=\"axesclip\" id=\"clip36f73dy\"><rect x=\"0\" y=\"60\" width=\"700\" height=\"390\"/></clipPath><clipPath class=\"axesclip\" id=\"clip36f73dxy\"><rect x=\"50\" y=\"60\" width=\"600\" height=\"390\"/></clipPath></g><g class=\"gradients\"/><g class=\"patterns\"/></defs><g class=\"bglayer\"/><g class=\"layer-below\"><g class=\"imagelayer\"/><g class=\"shapelayer\"/></g><g class=\"cartesianlayer\"><g class=\"subplot xy\"><g class=\"layer-subplot\"><g class=\"shapelayer\"/><g class=\"imagelayer\"/></g><g class=\"gridlayer\"><g class=\"x\"/><g class=\"y\"/></g><g class=\"zerolinelayer\"/><path class=\"xlines-below\"/><path class=\"ylines-below\"/><g class=\"overlines-below\"/><g class=\"xaxislayer-below\"/><g class=\"yaxislayer-below\"/><g class=\"overaxes-below\"/><g class=\"plot\" transform=\"translate(50,60)\" clip-path=\"url(#clip36f73dxyplot)\"><g class=\"scatterlayer mlayer\"><g class=\"trace scatter tracebbfbd5\" style=\"stroke-miterlimit: 2; opacity: 1;\"><g class=\"fills\"/><g class=\"errorbars\"/><g class=\"lines\"><path class=\"js-line\" d=\"M195.46,255.35L300,315.71L404.54,255.35L404.54,134.65L300,74.29L195.46,134.65L195.46,255.35\" style=\"vector-effect: non-scaling-stroke; fill: none; stroke: rgb(47, 54, 64); stroke-opacity: 1; stroke-width: 3px; opacity: 1;\"/></g><g class=\"points\"/><g class=\"text\"/></g><g class=\"trace scatter trace630550\" style=\"stroke-miterlimit: 2; opacity: 1;\"><g class=\"fills\"/><g class=\"errorbars\"/><g class=\"lines\"><path class=\"js-line\" d=\"M300,195L250.35,281\" style=\"vector-effect: non-scaling-stroke; fill: none; stroke: rgb(212, 216, 227); stroke-opacity: 1; stroke-width: 5px; opacity: 1;\"/></g><g class=\"points\"/><g class=\"text\"/></g><g class=\"trace scatter trace348537\" style=\"stroke-miterlimit: 2; opacity: 1;\"><g class=\"fills\"/><g class=\"errorbars\"/><g class=\"lines\"><path class=\"js-line\" d=\"M300,195L399.31,195\" style=\"vector-effect: non-scaling-stroke; fill: none; stroke: rgb(212, 216, 227); stroke-opacity: 1; stroke-width: 5px; opacity: 1;\"/></g><g class=\"points\"/><g class=\"text\"/></g><g class=\"trace scatter trace2a0ec4\" style=\"stroke-miterlimit: 2; opacity: 1;\"><g class=\"fills\"/><g class=\"errorbars\"/><g class=\"lines\"><path class=\"js-line\" d=\"M245.12,290.06L195.46,376.06\" style=\"vector-effect: non-scaling-stroke; fill: none; stroke: rgb(39, 60, 117); stroke-opacity: 1; stroke-width: 6px; opacity: 1;\"/></g><g class=\"points\"/><g class=\"text\"/></g><g class=\"trace scatter trace3b4387\" style=\"stroke-miterlimit: 2; opacity: 1;\"><g class=\"fills\"/><g class=\"errorbars\"/><g class=\"lines\"><path class=\"js-line\" d=\"M409.76,195L509.07,195\" style=\"vector-effect: non-scaling-stroke; fill: none; stroke: rgb(39, 60, 117); stroke-opacity: 1; stroke-width: 6px; opacity: 1;\"/></g><g class=\"points\"/><g class=\"text\"/></g><g class=\"trace scatter traceb57a5e\" style=\"stroke-miterlimit: 2; opacity: 1;\"><g class=\"fills\"/><g class=\"errorbars\"/><g class=\"lines\"><path class=\"js-line\" d=\"M300,195L399.31,195\" style=\"vector-effect: non-scaling-stroke; fill: none; stroke: rgb(242, 215, 208); stroke-opacity: 1; stroke-width: 5px; opacity: 1;\"/></g><g class=\"points\"/><g class=\"text\"/></g><g class=\"trace scatter trace2fb77e\" style=\"stroke-miterlimit: 2; opacity: 1;\"><g class=\"fills\"/><g class=\"errorbars\"/><g class=\"lines\"><path class=\"js-line\" d=\"M300,195L300,79.52\" style=\"vector-effect: non-scaling-stroke; fill: none; stroke: rgb(242, 215, 208); stroke-opacity: 1; stroke-width: 5px; opacity: 1;\"/></g><g class=\"points\"/><g class=\"text\"/></g><g class=\"trace scatter trace6ab71b\" style=\"stroke-miterlimit: 2; opacity: 1;\"><g class=\"fills\"/><g class=\"errorbars\"/><g class=\"lines\"><path class=\"js-line\" d=\"M409.76,195L446.35,195\" style=\"vector-effect: non-scaling-stroke; fill: none; stroke: rgb(194, 54, 22); stroke-opacity: 1; stroke-width: 6px; opacity: 1;\"/></g><g class=\"points\"/><g class=\"text\"/></g><g class=\"trace scatter tracee13444\" style=\"stroke-miterlimit: 2; opacity: 1;\"><g class=\"fills\"/><g class=\"errorbars\"/><g class=\"lines\"><path class=\"js-line\" d=\"M300,69.07L300,32.48\" style=\"vector-effect: non-scaling-stroke; fill: none; stroke: rgb(194, 54, 22); stroke-opacity: 1; stroke-width: 6px; opacity: 1;\"/></g><g class=\"points\"/><g class=\"text\"/></g></g></g><g class=\"overplot\"/><path class=\"xlines-above crisp\" d=\"M0,0\" style=\"fill: none;\"/><path class=\"ylines-above crisp\" d=\"M0,0\" style=\"fill: none;\"/><g class=\"overlines-above\"/><g class=\"xaxislayer-above\"/><g class=\"yaxislayer-above\"/><g class=\"overaxes-above\"/></g></g><g class=\"polarlayer\"/><g class=\"ternarylayer\"/><g class=\"geolayer\"/><g class=\"funnelarealayer\"/><g class=\"pielayer\"/><g class=\"iciclelayer\"/><g class=\"treemaplayer\"/><g class=\"sunburstlayer\"/><g class=\"glimages\"/><defs id=\"topdefs-36f73d\"><g class=\"clips\"/></defs><g class=\"layer-above\"><g class=\"imagelayer\"/><g class=\"shapelayer\"/></g><g class=\"infolayer\"><g class=\"g-gtitle\"/><g class=\"g-xtitle\"/><g class=\"g-ytitle\"/><g class=\"annotation\" data-index=\"0\" style=\"opacity: 1;\"><g class=\"annotation-text-g\" transform=\"rotate(0,250.69,427.01)\"><g class=\"cursor-pointer\" transform=\"translate(247,417)\"><rect class=\"bg\" x=\"0.5\" y=\"0.5\" width=\"6\" height=\"20\" style=\"stroke-width: 1px; stroke: rgb(0, 0, 0); stroke-opacity: 0; fill: rgb(0, 0, 0); fill-opacity: 0;\"/><text class=\"annotation-text\" text-anchor=\"middle\" x=\"3.5625\" y=\"15\" style=\"font-family: 'Open Sans', verdana, arial, sans-serif; font-size: 12px; fill: rgb(42, 63, 95); fill-opacity: 1; white-space: pre;\"> </text></g></g><g class=\"annotation-arrow-g\" style=\"opacity: 1;\"><path d=\"M247.69,432.20617224880385L240.24,445.11\" style=\"stroke-width: 6px; stroke: rgb(39, 60, 117); stroke-opacity: 1; stroke-dasharray: 0px, 0px, 11px, 14.9px;\"/><path d=\"M-3.7,-2.5V2.5L1.3,0Z\" transform=\"translate(242.19000244140625,441.73248291015625)rotate(119.99969619879586)scale(3)\" style=\"fill: rgb(39, 60, 117); stroke-width: 0;\"/></g></g><g class=\"annotation\" data-index=\"1\" style=\"opacity: 1;\"><g class=\"annotation-text-g\" transform=\"rotate(0,548.62,255)\"><g class=\"cursor-pointer\" transform=\"translate(545,245)\"><rect class=\"bg\" x=\"0.5\" y=\"0.5\" width=\"6\" height=\"20\" style=\"stroke-width: 1px; stroke: rgb(0, 0, 0); stroke-opacity: 0; fill: rgb(0, 0, 0); fill-opacity: 0;\"/><text class=\"annotation-text\" text-anchor=\"middle\" x=\"3.5625\" y=\"15\" style=\"font-family: 'Open Sans', verdana, arial, sans-serif; font-size: 12px; fill: rgb(42, 63, 95); fill-opacity: 1; white-space: pre;\"> </text></g></g><g class=\"annotation-arrow-g\" style=\"opacity: 1;\"><path d=\"M551.62,255L569.53,255\" style=\"stroke-width: 6px; stroke: rgb(39, 60, 117); stroke-opacity: 1; stroke-dasharray: 0px, 0px, 14.01px, 17.91px;\"/><path d=\"M-3.7,-2.5V2.5L1.3,0Z\" transform=\"translate(565.6300048828125,255)scale(3)\" style=\"fill: rgb(39, 60, 117); stroke-width: 0;\"/></g></g><g class=\"annotation\" data-index=\"2\" style=\"opacity: 1;\"><g class=\"annotation-text-g\" transform=\"rotate(0,485.9,255)\"><g class=\"cursor-pointer\" transform=\"translate(482,245)\"><rect class=\"bg\" x=\"0.5\" y=\"0.5\" width=\"6\" height=\"20\" style=\"stroke-width: 1px; stroke: rgb(0, 0, 0); stroke-opacity: 0; fill: rgb(0, 0, 0); fill-opacity: 0;\"/><text class=\"annotation-text\" text-anchor=\"middle\" x=\"3.5625\" y=\"15\" style=\"font-family: 'Open Sans', verdana, arial, sans-serif; font-size: 12px; fill: rgb(42, 63, 95); fill-opacity: 1; white-space: pre;\"> </text></g></g><g class=\"annotation-arrow-g\" style=\"opacity: 1;\"><path d=\"M488.9,255L506.8,255\" style=\"stroke-width: 6px; stroke: rgb(194, 54, 22); stroke-opacity: 1; stroke-dasharray: 0px, 0px, 14px, 17.9px;\"/><path d=\"M-3.7,-2.5V2.5L1.3,0Z\" transform=\"translate(502.8999938964844,255)scale(3)\" style=\"fill: rgb(194, 54, 22); stroke-width: 0;\"/></g></g><g class=\"annotation\" data-index=\"3\" style=\"opacity: 1;\"><g class=\"annotation-text-g\" transform=\"rotate(0,350,102.93)\"><g class=\"cursor-pointer\" transform=\"translate(347,92)\"><rect class=\"bg\" x=\"0.5\" y=\"0.5\" width=\"6\" height=\"20\" style=\"stroke-width: 1px; stroke: rgb(0, 0, 0); stroke-opacity: 0; fill: rgb(0, 0, 0); fill-opacity: 0;\"/><text class=\"annotation-text\" text-anchor=\"middle\" x=\"3.5625\" y=\"15\" style=\"font-family: 'Open Sans', verdana, arial, sans-serif; font-size: 12px; fill: rgb(42, 63, 95); fill-opacity: 1; white-space: pre;\"> </text></g></g><g class=\"annotation-arrow-g\" style=\"opacity: 1;\"><path d=\"M350,92.93L350,82.02\" style=\"stroke-width: 6px; stroke: rgb(194, 54, 22); stroke-opacity: 1; stroke-dasharray: 0px, 0px, 7.01px, 10.91px;\"/><path d=\"M-3.7,-2.5V2.5L1.3,0Z\" transform=\"translate(350,85.91999816894531)rotate(-90)scale(3)\" style=\"fill: rgb(194, 54, 22); stroke-width: 0;\"/></g></g></g></svg>"
      ],
      "text/html": [
       "<div\n",
       "    class=\"webio-mountpoint\"\n",
       "    data-webio-mountpoint=\"10407661765004891923\"\n",
       ">\n",
       "    <script>\n",
       "    (function(){\n",
       "    // Some integrations (namely, IJulia/Jupyter) use an alternate render pathway than\n",
       "    // just putting the html on the page. If WebIO isn't defined, then it's pretty likely\n",
       "    // that we're in one of those situations and the integration just isn't installed\n",
       "    // correctly.\n",
       "    if (typeof window.WebIO === \"undefined\") {\n",
       "        document\n",
       "            .querySelector('[data-webio-mountpoint=\"10407661765004891923\"]')\n",
       "            .innerHTML = (\n",
       "                '<div style=\"padding: 1em; background-color: #f8d6da; border: 1px solid #f5c6cb; font-weight: bold;\">' +\n",
       "                '<p><strong>WebIO not detected.</strong></p>' +\n",
       "                '<p>Please read ' +\n",
       "                '<a href=\"https://juliagizmos.github.io/WebIO.jl/latest/troubleshooting/not-detected/\" target=\"_blank\">the troubleshooting guide</a> ' +\n",
       "                'for more information on how to resolve this issue.</p>' +\n",
       "                '<p><a href=\"https://juliagizmos.github.io/WebIO.jl/latest/troubleshooting/not-detected/\" target=\"_blank\">https://juliagizmos.github.io/WebIO.jl/latest/troubleshooting/not-detected/</a></p>' +\n",
       "                '</div>'\n",
       "            );\n",
       "        return;\n",
       "    }\n",
       "    WebIO.mount(\n",
       "        document.querySelector('[data-webio-mountpoint=\"10407661765004891923\"]'),\n",
       "        {\"props\":{},\"nodeType\":\"Scope\",\"type\":\"node\",\"instanceArgs\":{\"imports\":{\"data\":[{\"name\":\"Plotly\",\"type\":\"js\",\"url\":\"\\/assetserver\\/b267c3137400db01c304fe886fe6f707be7fdb37-plotly.min.js\"},{\"name\":null,\"type\":\"js\",\"url\":\"\\/assetserver\\/020f2e8a4619f2ae880fff9315e6547eef1aff0b-plotly_webio.bundle.js\"}],\"type\":\"async_block\"},\"id\":\"16314527973467361725\",\"handlers\":{\"_toImage\":[\"(function (options){return this.Plotly.toImage(this.plotElem,options).then((function (data){return WebIO.setval({\\\"name\\\":\\\"image\\\",\\\"scope\\\":\\\"16314527973467361725\\\",\\\"id\\\":\\\"5\\\",\\\"type\\\":\\\"observable\\\"},data)}))})\"],\"__get_gd_contents\":[\"(function (prop){prop==\\\"data\\\" ? (WebIO.setval({\\\"name\\\":\\\"__gd_contents\\\",\\\"scope\\\":\\\"16314527973467361725\\\",\\\"id\\\":\\\"6\\\",\\\"type\\\":\\\"observable\\\"},this.plotElem.data)) : undefined; return prop==\\\"layout\\\" ? (WebIO.setval({\\\"name\\\":\\\"__gd_contents\\\",\\\"scope\\\":\\\"16314527973467361725\\\",\\\"id\\\":\\\"6\\\",\\\"type\\\":\\\"observable\\\"},this.plotElem.layout)) : undefined})\"],\"_downloadImage\":[\"(function (options){return this.Plotly.downloadImage(this.plotElem,options)})\"],\"_commands\":[\"(function (args){var fn=args.shift(); var elem=this.plotElem; var Plotly=this.Plotly; args.unshift(elem); return Plotly[fn].apply(this,args)})\"]},\"systemjs_options\":null,\"mount_callbacks\":[\"function () {\\n    var handler = ((function (Plotly,PlotlyWebIO){PlotlyWebIO.init(WebIO); var gd=this.dom.querySelector(\\\"#plot-69a7c2b0-2e55-45ec-8389-b3fdcb16d1d7\\\"); this.plotElem=gd; this.Plotly=Plotly; (window.Blink!==undefined) ? (gd.style.width=\\\"100%\\\", gd.style.height=\\\"100vh\\\", gd.style.marginLeft=\\\"0%\\\", gd.style.marginTop=\\\"0vh\\\") : undefined; window.onresize=(function (){return Plotly.Plots.resize(gd)}); Plotly.newPlot(gd,[{\\\"mode\\\":\\\"lines\\\",\\\"line\\\":{\\\"color\\\":\\\"rgb(47,54,64)\\\",\\\"width\\\":3},\\\"hovertext\\\":\\\"Cell\\\",\\\"y\\\":[-0.2886751345948128,-0.5773502691896257,-0.288675134594813,0.2886751345948128,0.5773502691896257,0.288675134594813,-0.2886751345948128],\\\"type\\\":\\\"scatter\\\",\\\"hoverinfo\\\":\\\"text+x+y\\\",\\\"x\\\":[-0.4999999999999999,0.0,0.4999999999999998,0.4999999999999999,0.0,-0.4999999999999998,-0.4999999999999999]},{\\\"mode\\\":\\\"lines\\\",\\\"line\\\":{\\\"color\\\":\\\"rgb(212,216,227)\\\",\\\"width\\\":5},\\\"hovertext\\\":\\\"<b>v<\\/b><sub>1<\\/sub>\\\",\\\"y\\\":[-0.0,-0.41136206679760834],\\\"type\\\":\\\"scatter\\\",\\\"hoverinfo\\\":\\\"text\\\",\\\"x\\\":[-0.0,-0.2375]},{\\\"mode\\\":\\\"lines\\\",\\\"line\\\":{\\\"color\\\":\\\"rgb(212,216,227)\\\",\\\"width\\\":5},\\\"hovertext\\\":\\\"<b>v<\\/b><sub>2<\\/sub>\\\",\\\"y\\\":[-0.0,-1.0547118733938984e-16],\\\"type\\\":\\\"scatter\\\",\\\"hoverinfo\\\":\\\"text\\\",\\\"x\\\":[0.0,0.4749999999999998]},{\\\"mode\\\":\\\"lines\\\",\\\"line\\\":{\\\"color\\\":\\\"rgb(39,60,117)\\\",\\\"width\\\":6},\\\"hovertext\\\":\\\"<b>v<\\/b><sub>1<\\/sub>\\\",\\\"y\\\":[-0.45466333698683026,-0.8660254037844386],\\\"type\\\":\\\"scatter\\\",\\\"hoverinfo\\\":\\\"text+x+y\\\",\\\"x\\\":[-0.2625,-0.5]},{\\\"mode\\\":\\\"lines\\\",\\\"line\\\":{\\\"color\\\":\\\"rgb(39,60,117)\\\",\\\"width\\\":6},\\\"hovertext\\\":\\\"<b>v<\\/b><sub>2<\\/sub>\\\",\\\"y\\\":[-1.1657341758564142e-16,-2.220446049250313e-16],\\\"type\\\":\\\"scatter\\\",\\\"hoverinfo\\\":\\\"text+x+y\\\",\\\"x\\\":[0.5249999999999998,0.9999999999999999]},{\\\"mode\\\":\\\"lines\\\",\\\"line\\\":{\\\"color\\\":\\\"rgb(242,215,208)\\\",\\\"width\\\":5},\\\"hovertext\\\":\\\"<b>x<\\/b>\\\",\\\"y\\\":[0.0,0.0],\\\"type\\\":\\\"scatter\\\",\\\"hoverinfo\\\":\\\"text\\\",\\\"x\\\":[0.0,0.4749999999999998]},{\\\"mode\\\":\\\"lines\\\",\\\"line\\\":{\\\"color\\\":\\\"rgb(242,215,208)\\\",\\\"width\\\":5},\\\"hovertext\\\":\\\"<b>y<\\/b>\\\",\\\"y\\\":[0.0,0.5523502691896257],\\\"type\\\":\\\"scatter\\\",\\\"hoverinfo\\\":\\\"text\\\",\\\"x\\\":[0.0,0.0]},{\\\"mode\\\":\\\"lines\\\",\\\"line\\\":{\\\"color\\\":\\\"rgb(194,54,22)\\\",\\\"width\\\":6},\\\"hovertext\\\":\\\"<b>x<\\/b>\\\",\\\"y\\\":[0.0,0.0],\\\"type\\\":\\\"scatter\\\",\\\"hoverinfo\\\":\\\"text\\\",\\\"x\\\":[0.5249999999999998,0.6999999999999998]},{\\\"mode\\\":\\\"lines\\\",\\\"line\\\":{\\\"color\\\":\\\"rgb(194,54,22)\\\",\\\"width\\\":6},\\\"hovertext\\\":\\\"<b>y<\\/b>\\\",\\\"y\\\":[0.6023502691896258,0.7773502691896257],\\\"type\\\":\\\"scatter\\\",\\\"hoverinfo\\\":\\\"text\\\",\\\"x\\\":[0.0,0.0]}],{\\\"showlegend\\\":false,\\\"xaxis\\\":{\\\"showgrid\\\":false,\\\"zeroline\\\":false,\\\"tickvals\\\":[],\\\"title\\\":{\\\"text\\\":\\\"\\\"},\\\"showbackground\\\":false,\\\"range\\\":[-1.0666666666666667,1.0666666666666667]},\\\"hovermode\\\":\\\"closest\\\",\\\"paper_bgcolor\\\":\\\"rgba(255, 255, 255, 1)\\\",\\\"template\\\":{\\\"layout\\\":{\\\"coloraxis\\\":{\\\"colorbar\\\":{\\\"ticks\\\":\\\"\\\",\\\"outlinewidth\\\":0}},\\\"xaxis\\\":{\\\"gridcolor\\\":\\\"white\\\",\\\"zerolinewidth\\\":2,\\\"title\\\":{\\\"standoff\\\":15},\\\"ticks\\\":\\\"\\\",\\\"zerolinecolor\\\":\\\"white\\\",\\\"automargin\\\":true,\\\"linecolor\\\":\\\"white\\\"},\\\"hovermode\\\":\\\"closest\\\",\\\"paper_bgcolor\\\":\\\"white\\\",\\\"geo\\\":{\\\"showlakes\\\":true,\\\"showland\\\":true,\\\"landcolor\\\":\\\"#E5ECF6\\\",\\\"bgcolor\\\":\\\"white\\\",\\\"subunitcolor\\\":\\\"white\\\",\\\"lakecolor\\\":\\\"white\\\"},\\\"colorscale\\\":{\\\"sequential\\\":[[0.0,\\\"#0d0887\\\"],[0.1111111111111111,\\\"#46039f\\\"],[0.2222222222222222,\\\"#7201a8\\\"],[0.3333333333333333,\\\"#9c179e\\\"],[0.4444444444444444,\\\"#bd3786\\\"],[0.5555555555555556,\\\"#d8576b\\\"],[0.6666666666666666,\\\"#ed7953\\\"],[0.7777777777777778,\\\"#fb9f3a\\\"],[0.8888888888888888,\\\"#fdca26\\\"],[1.0,\\\"#f0f921\\\"]],\\\"diverging\\\":[[0,\\\"#8e0152\\\"],[0.1,\\\"#c51b7d\\\"],[0.2,\\\"#de77ae\\\"],[0.3,\\\"#f1b6da\\\"],[0.4,\\\"#fde0ef\\\"],[0.5,\\\"#f7f7f7\\\"],[0.6,\\\"#e6f5d0\\\"],[0.7,\\\"#b8e186\\\"],[0.8,\\\"#7fbc41\\\"],[0.9,\\\"#4d9221\\\"],[1,\\\"#276419\\\"]],\\\"sequentialminus\\\":[[0.0,\\\"#0d0887\\\"],[0.1111111111111111,\\\"#46039f\\\"],[0.2222222222222222,\\\"#7201a8\\\"],[0.3333333333333333,\\\"#9c179e\\\"],[0.4444444444444444,\\\"#bd3786\\\"],[0.5555555555555556,\\\"#d8576b\\\"],[0.6666666666666666,\\\"#ed7953\\\"],[0.7777777777777778,\\\"#fb9f3a\\\"],[0.8888888888888888,\\\"#fdca26\\\"],[1.0,\\\"#f0f921\\\"]]},\\\"yaxis\\\":{\\\"gridcolor\\\":\\\"white\\\",\\\"zerolinewidth\\\":2,\\\"title\\\":{\\\"standoff\\\":15},\\\"ticks\\\":\\\"\\\",\\\"zerolinecolor\\\":\\\"white\\\",\\\"automargin\\\":true,\\\"linecolor\\\":\\\"white\\\"},\\\"shapedefaults\\\":{\\\"line\\\":{\\\"color\\\":\\\"#2a3f5f\\\"}},\\\"hoverlabel\\\":{\\\"align\\\":\\\"left\\\"},\\\"mapbox\\\":{\\\"style\\\":\\\"light\\\"},\\\"polar\\\":{\\\"angularaxis\\\":{\\\"gridcolor\\\":\\\"white\\\",\\\"ticks\\\":\\\"\\\",\\\"linecolor\\\":\\\"white\\\"},\\\"bgcolor\\\":\\\"#E5ECF6\\\",\\\"radialaxis\\\":{\\\"gridcolor\\\":\\\"white\\\",\\\"ticks\\\":\\\"\\\",\\\"linecolor\\\":\\\"white\\\"}},\\\"autotypenumbers\\\":\\\"strict\\\",\\\"font\\\":{\\\"color\\\":\\\"#2a3f5f\\\"},\\\"ternary\\\":{\\\"baxis\\\":{\\\"gridcolor\\\":\\\"white\\\",\\\"ticks\\\":\\\"\\\",\\\"linecolor\\\":\\\"white\\\"},\\\"bgcolor\\\":\\\"#E5ECF6\\\",\\\"caxis\\\":{\\\"gridcolor\\\":\\\"white\\\",\\\"ticks\\\":\\\"\\\",\\\"linecolor\\\":\\\"white\\\"},\\\"aaxis\\\":{\\\"gridcolor\\\":\\\"white\\\",\\\"ticks\\\":\\\"\\\",\\\"linecolor\\\":\\\"white\\\"}},\\\"annotationdefaults\\\":{\\\"arrowhead\\\":0,\\\"arrowwidth\\\":1,\\\"arrowcolor\\\":\\\"#2a3f5f\\\"},\\\"plot_bgcolor\\\":\\\"#E5ECF6\\\",\\\"title\\\":{\\\"x\\\":0.05},\\\"scene\\\":{\\\"xaxis\\\":{\\\"gridcolor\\\":\\\"white\\\",\\\"gridwidth\\\":2,\\\"backgroundcolor\\\":\\\"#E5ECF6\\\",\\\"ticks\\\":\\\"\\\",\\\"showbackground\\\":true,\\\"zerolinecolor\\\":\\\"white\\\",\\\"linecolor\\\":\\\"white\\\"},\\\"zaxis\\\":{\\\"gridcolor\\\":\\\"white\\\",\\\"gridwidth\\\":2,\\\"backgroundcolor\\\":\\\"#E5ECF6\\\",\\\"ticks\\\":\\\"\\\",\\\"showbackground\\\":true,\\\"zerolinecolor\\\":\\\"white\\\",\\\"linecolor\\\":\\\"white\\\"},\\\"yaxis\\\":{\\\"gridcolor\\\":\\\"white\\\",\\\"gridwidth\\\":2,\\\"backgroundcolor\\\":\\\"#E5ECF6\\\",\\\"ticks\\\":\\\"\\\",\\\"showbackground\\\":true,\\\"zerolinecolor\\\":\\\"white\\\",\\\"linecolor\\\":\\\"white\\\"}},\\\"colorway\\\":[\\\"#636efa\\\",\\\"#EF553B\\\",\\\"#00cc96\\\",\\\"#ab63fa\\\",\\\"#FFA15A\\\",\\\"#19d3f3\\\",\\\"#FF6692\\\",\\\"#B6E880\\\",\\\"#FF97FF\\\",\\\"#FECB52\\\"]},\\\"data\\\":{\\\"barpolar\\\":[{\\\"type\\\":\\\"barpolar\\\",\\\"marker\\\":{\\\"line\\\":{\\\"color\\\":\\\"#E5ECF6\\\",\\\"width\\\":0.5}}}],\\\"carpet\\\":[{\\\"aaxis\\\":{\\\"gridcolor\\\":\\\"white\\\",\\\"endlinecolor\\\":\\\"#2a3f5f\\\",\\\"minorgridcolor\\\":\\\"white\\\",\\\"startlinecolor\\\":\\\"#2a3f5f\\\",\\\"linecolor\\\":\\\"white\\\"},\\\"type\\\":\\\"carpet\\\",\\\"baxis\\\":{\\\"gridcolor\\\":\\\"white\\\",\\\"endlinecolor\\\":\\\"#2a3f5f\\\",\\\"minorgridcolor\\\":\\\"white\\\",\\\"startlinecolor\\\":\\\"#2a3f5f\\\",\\\"linecolor\\\":\\\"white\\\"}}],\\\"scatterpolar\\\":[{\\\"type\\\":\\\"scatterpolar\\\",\\\"marker\\\":{\\\"colorbar\\\":{\\\"ticks\\\":\\\"\\\",\\\"outlinewidth\\\":0}}}],\\\"parcoords\\\":[{\\\"line\\\":{\\\"colorbar\\\":{\\\"ticks\\\":\\\"\\\",\\\"outlinewidth\\\":0}},\\\"type\\\":\\\"parcoords\\\"}],\\\"scatter\\\":[{\\\"type\\\":\\\"scatter\\\",\\\"marker\\\":{\\\"colorbar\\\":{\\\"ticks\\\":\\\"\\\",\\\"outlinewidth\\\":0}}}],\\\"histogram2dcontour\\\":[{\\\"colorbar\\\":{\\\"ticks\\\":\\\"\\\",\\\"outlinewidth\\\":0},\\\"type\\\":\\\"histogram2dcontour\\\",\\\"colorscale\\\":[[0.0,\\\"#0d0887\\\"],[0.1111111111111111,\\\"#46039f\\\"],[0.2222222222222222,\\\"#7201a8\\\"],[0.3333333333333333,\\\"#9c179e\\\"],[0.4444444444444444,\\\"#bd3786\\\"],[0.5555555555555556,\\\"#d8576b\\\"],[0.6666666666666666,\\\"#ed7953\\\"],[0.7777777777777778,\\\"#fb9f3a\\\"],[0.8888888888888888,\\\"#fdca26\\\"],[1.0,\\\"#f0f921\\\"]]}],\\\"contour\\\":[{\\\"colorbar\\\":{\\\"ticks\\\":\\\"\\\",\\\"outlinewidth\\\":0},\\\"type\\\":\\\"contour\\\",\\\"colorscale\\\":[[0.0,\\\"#0d0887\\\"],[0.1111111111111111,\\\"#46039f\\\"],[0.2222222222222222,\\\"#7201a8\\\"],[0.3333333333333333,\\\"#9c179e\\\"],[0.4444444444444444,\\\"#bd3786\\\"],[0.5555555555555556,\\\"#d8576b\\\"],[0.6666666666666666,\\\"#ed7953\\\"],[0.7777777777777778,\\\"#fb9f3a\\\"],[0.8888888888888888,\\\"#fdca26\\\"],[1.0,\\\"#f0f921\\\"]]}],\\\"scattercarpet\\\":[{\\\"type\\\":\\\"scattercarpet\\\",\\\"marker\\\":{\\\"colorbar\\\":{\\\"ticks\\\":\\\"\\\",\\\"outlinewidth\\\":0}}}],\\\"mesh3d\\\":[{\\\"colorbar\\\":{\\\"ticks\\\":\\\"\\\",\\\"outlinewidth\\\":0},\\\"type\\\":\\\"mesh3d\\\"}],\\\"surface\\\":[{\\\"colorbar\\\":{\\\"ticks\\\":\\\"\\\",\\\"outlinewidth\\\":0},\\\"type\\\":\\\"surface\\\",\\\"colorscale\\\":[[0.0,\\\"#0d0887\\\"],[0.1111111111111111,\\\"#46039f\\\"],[0.2222222222222222,\\\"#7201a8\\\"],[0.3333333333333333,\\\"#9c179e\\\"],[0.4444444444444444,\\\"#bd3786\\\"],[0.5555555555555556,\\\"#d8576b\\\"],[0.6666666666666666,\\\"#ed7953\\\"],[0.7777777777777778,\\\"#fb9f3a\\\"],[0.8888888888888888,\\\"#fdca26\\\"],[1.0,\\\"#f0f921\\\"]]}],\\\"scattermapbox\\\":[{\\\"type\\\":\\\"scattermapbox\\\",\\\"marker\\\":{\\\"colorbar\\\":{\\\"ticks\\\":\\\"\\\",\\\"outlinewidth\\\":0}}}],\\\"scattergeo\\\":[{\\\"type\\\":\\\"scattergeo\\\",\\\"marker\\\":{\\\"colorbar\\\":{\\\"ticks\\\":\\\"\\\",\\\"outlinewidth\\\":0}}}],\\\"histogram\\\":[{\\\"type\\\":\\\"histogram\\\",\\\"marker\\\":{\\\"colorbar\\\":{\\\"ticks\\\":\\\"\\\",\\\"outlinewidth\\\":0}}}],\\\"pie\\\":[{\\\"type\\\":\\\"pie\\\",\\\"automargin\\\":true}],\\\"choropleth\\\":[{\\\"colorbar\\\":{\\\"ticks\\\":\\\"\\\",\\\"outlinewidth\\\":0},\\\"type\\\":\\\"choropleth\\\"}],\\\"heatmapgl\\\":[{\\\"colorbar\\\":{\\\"ticks\\\":\\\"\\\",\\\"outlinewidth\\\":0},\\\"type\\\":\\\"heatmapgl\\\",\\\"colorscale\\\":[[0.0,\\\"#0d0887\\\"],[0.1111111111111111,\\\"#46039f\\\"],[0.2222222222222222,\\\"#7201a8\\\"],[0.3333333333333333,\\\"#9c179e\\\"],[0.4444444444444444,\\\"#bd3786\\\"],[0.5555555555555556,\\\"#d8576b\\\"],[0.6666666666666666,\\\"#ed7953\\\"],[0.7777777777777778,\\\"#fb9f3a\\\"],[0.8888888888888888,\\\"#fdca26\\\"],[1.0,\\\"#f0f921\\\"]]}],\\\"bar\\\":[{\\\"type\\\":\\\"bar\\\",\\\"error_y\\\":{\\\"color\\\":\\\"#2a3f5f\\\"},\\\"error_x\\\":{\\\"color\\\":\\\"#2a3f5f\\\"},\\\"marker\\\":{\\\"line\\\":{\\\"color\\\":\\\"#E5ECF6\\\",\\\"width\\\":0.5}}}],\\\"heatmap\\\":[{\\\"colorbar\\\":{\\\"ticks\\\":\\\"\\\",\\\"outlinewidth\\\":0},\\\"type\\\":\\\"heatmap\\\",\\\"colorscale\\\":[[0.0,\\\"#0d0887\\\"],[0.1111111111111111,\\\"#46039f\\\"],[0.2222222222222222,\\\"#7201a8\\\"],[0.3333333333333333,\\\"#9c179e\\\"],[0.4444444444444444,\\\"#bd3786\\\"],[0.5555555555555556,\\\"#d8576b\\\"],[0.6666666666666666,\\\"#ed7953\\\"],[0.7777777777777778,\\\"#fb9f3a\\\"],[0.8888888888888888,\\\"#fdca26\\\"],[1.0,\\\"#f0f921\\\"]]}],\\\"contourcarpet\\\":[{\\\"colorbar\\\":{\\\"ticks\\\":\\\"\\\",\\\"outlinewidth\\\":0},\\\"type\\\":\\\"contourcarpet\\\"}],\\\"table\\\":[{\\\"type\\\":\\\"table\\\",\\\"header\\\":{\\\"line\\\":{\\\"color\\\":\\\"white\\\"},\\\"fill\\\":{\\\"color\\\":\\\"#C8D4E3\\\"}},\\\"cells\\\":{\\\"line\\\":{\\\"color\\\":\\\"white\\\"},\\\"fill\\\":{\\\"color\\\":\\\"#EBF0F8\\\"}}}],\\\"scatter3d\\\":[{\\\"line\\\":{\\\"colorbar\\\":{\\\"ticks\\\":\\\"\\\",\\\"outlinewidth\\\":0}},\\\"type\\\":\\\"scatter3d\\\",\\\"marker\\\":{\\\"colorbar\\\":{\\\"ticks\\\":\\\"\\\",\\\"outlinewidth\\\":0}}}],\\\"scattergl\\\":[{\\\"type\\\":\\\"scattergl\\\",\\\"marker\\\":{\\\"colorbar\\\":{\\\"ticks\\\":\\\"\\\",\\\"outlinewidth\\\":0}}}],\\\"histogram2d\\\":[{\\\"colorbar\\\":{\\\"ticks\\\":\\\"\\\",\\\"outlinewidth\\\":0},\\\"type\\\":\\\"histogram2d\\\",\\\"colorscale\\\":[[0.0,\\\"#0d0887\\\"],[0.1111111111111111,\\\"#46039f\\\"],[0.2222222222222222,\\\"#7201a8\\\"],[0.3333333333333333,\\\"#9c179e\\\"],[0.4444444444444444,\\\"#bd3786\\\"],[0.5555555555555556,\\\"#d8576b\\\"],[0.6666666666666666,\\\"#ed7953\\\"],[0.7777777777777778,\\\"#fb9f3a\\\"],[0.8888888888888888,\\\"#fdca26\\\"],[1.0,\\\"#f0f921\\\"]]}],\\\"scatterternary\\\":[{\\\"type\\\":\\\"scatterternary\\\",\\\"marker\\\":{\\\"colorbar\\\":{\\\"ticks\\\":\\\"\\\",\\\"outlinewidth\\\":0}}}],\\\"scatterpolargl\\\":[{\\\"type\\\":\\\"scatterpolargl\\\",\\\"marker\\\":{\\\"colorbar\\\":{\\\"ticks\\\":\\\"\\\",\\\"outlinewidth\\\":0}}}]}},\\\"yaxis\\\":{\\\"showgrid\\\":false,\\\"zeroline\\\":false,\\\"tickvals\\\":[],\\\"scaleanchor\\\":\\\"x\\\",\\\"scaleratio\\\":1,\\\"title\\\":{\\\"text\\\":\\\"\\\"},\\\"showbackground\\\":false,\\\"range\\\":[-0.9326920704511052,0.9326920704511052]},\\\"autosize\\\":false,\\\"annotations\\\":[{\\\"arrowcolor\\\":\\\"rgb(39,60,117)\\\",\\\"showarrow\\\":true,\\\"yref\\\":\\\"ay\\\",\\\"arrowsize\\\":0.5,\\\"arrowhead\\\":2,\\\"axref\\\":\\\"x\\\",\\\"y\\\":-0.9093266739736605,\\\"ax\\\":-0.475,\\\"ay\\\":-0.8227241335952167,\\\"ayref\\\":\\\"y\\\",\\\"arrowwidth\\\":6,\\\"xref\\\":\\\"ax\\\",\\\"x\\\":-0.525},{\\\"arrowcolor\\\":\\\"rgb(39,60,117)\\\",\\\"showarrow\\\":true,\\\"yref\\\":\\\"ay\\\",\\\"arrowsize\\\":0.5,\\\"arrowhead\\\":2,\\\"axref\\\":\\\"x\\\",\\\"y\\\":-2.331468351712829e-16,\\\"ax\\\":0.9499999999999998,\\\"ay\\\":-2.1094237467877973e-16,\\\"ayref\\\":\\\"y\\\",\\\"arrowwidth\\\":6,\\\"xref\\\":\\\"ax\\\",\\\"x\\\":1.0499999999999998},{\\\"arrowcolor\\\":\\\"rgb(194,54,22)\\\",\\\"showarrow\\\":true,\\\"yref\\\":\\\"ay\\\",\\\"arrowsize\\\":0.5,\\\"arrowhead\\\":2,\\\"axref\\\":\\\"x\\\",\\\"y\\\":0.0,\\\"ax\\\":0.6499999999999998,\\\"ay\\\":0.0,\\\"ayref\\\":\\\"y\\\",\\\"arrowwidth\\\":6,\\\"xref\\\":\\\"ax\\\",\\\"x\\\":0.7499999999999999},{\\\"arrowcolor\\\":\\\"rgb(194,54,22)\\\",\\\"showarrow\\\":true,\\\"yref\\\":\\\"ay\\\",\\\"arrowsize\\\":0.5,\\\"arrowhead\\\":2,\\\"axref\\\":\\\"x\\\",\\\"y\\\":0.8273502691896257,\\\"ax\\\":0.0,\\\"ay\\\":0.7273502691896256,\\\"ayref\\\":\\\"y\\\",\\\"arrowwidth\\\":6,\\\"xref\\\":\\\"ax\\\",\\\"x\\\":0.0}],\\\"plot_bgcolor\\\":\\\"rgba(255, 255, 255, 1)\\\",\\\"margin\\\":{\\\"l\\\":50,\\\"b\\\":50,\\\"r\\\":50,\\\"t\\\":60},\\\"aspectmode\\\":\\\"data\\\"},{\\\"displaylogo\\\":false,\\\"showLink\\\":false,\\\"editable\\\":false,\\\"responsive\\\":true,\\\"staticPlot\\\":false,\\\"scrollZoom\\\":true}); gd.on(\\\"plotly_hover\\\",(function (data){var filtered_data=WebIO.PlotlyCommands.filterEventData(gd,data,\\\"hover\\\"); return !(filtered_data.isnil) ? (WebIO.setval({\\\"name\\\":\\\"hover\\\",\\\"scope\\\":\\\"16314527973467361725\\\",\\\"id\\\":\\\"1\\\",\\\"type\\\":\\\"observable\\\"},filtered_data.out)) : undefined})); gd.on(\\\"plotly_unhover\\\",(function (){return WebIO.setval({\\\"name\\\":\\\"hover\\\",\\\"scope\\\":\\\"16314527973467361725\\\",\\\"id\\\":\\\"1\\\",\\\"type\\\":\\\"observable\\\"},{})})); gd.on(\\\"plotly_selected\\\",(function (data){var filtered_data=WebIO.PlotlyCommands.filterEventData(gd,data,\\\"selected\\\"); return !(filtered_data.isnil) ? (WebIO.setval({\\\"name\\\":\\\"selected\\\",\\\"scope\\\":\\\"16314527973467361725\\\",\\\"id\\\":\\\"2\\\",\\\"type\\\":\\\"observable\\\"},filtered_data.out)) : undefined})); gd.on(\\\"plotly_deselect\\\",(function (){return WebIO.setval({\\\"name\\\":\\\"selected\\\",\\\"scope\\\":\\\"16314527973467361725\\\",\\\"id\\\":\\\"2\\\",\\\"type\\\":\\\"observable\\\"},{})})); gd.on(\\\"plotly_relayout\\\",(function (data){var filtered_data=WebIO.PlotlyCommands.filterEventData(gd,data,\\\"relayout\\\"); return !(filtered_data.isnil) ? (WebIO.setval({\\\"name\\\":\\\"relayout\\\",\\\"scope\\\":\\\"16314527973467361725\\\",\\\"id\\\":\\\"4\\\",\\\"type\\\":\\\"observable\\\"},filtered_data.out)) : undefined})); return gd.on(\\\"plotly_click\\\",(function (data){var filtered_data=WebIO.PlotlyCommands.filterEventData(gd,data,\\\"click\\\"); return !(filtered_data.isnil) ? (WebIO.setval({\\\"name\\\":\\\"click\\\",\\\"scope\\\":\\\"16314527973467361725\\\",\\\"id\\\":\\\"3\\\",\\\"type\\\":\\\"observable\\\"},filtered_data.out)) : undefined}))}));\\n    (WebIO.importBlock({\\\"data\\\":[{\\\"name\\\":\\\"Plotly\\\",\\\"type\\\":\\\"js\\\",\\\"url\\\":\\\"\\/assetserver\\/b267c3137400db01c304fe886fe6f707be7fdb37-plotly.min.js\\\"},{\\\"name\\\":null,\\\"type\\\":\\\"js\\\",\\\"url\\\":\\\"\\/assetserver\\/020f2e8a4619f2ae880fff9315e6547eef1aff0b-plotly_webio.bundle.js\\\"}],\\\"type\\\":\\\"async_block\\\"})).then((imports) => handler.apply(this, imports));\\n}\\n\"],\"observables\":{\"_toImage\":{\"sync\":false,\"id\":\"8\",\"value\":{}},\"hover\":{\"sync\":false,\"id\":\"1\",\"value\":{}},\"selected\":{\"sync\":false,\"id\":\"2\",\"value\":{}},\"__gd_contents\":{\"sync\":false,\"id\":\"6\",\"value\":{}},\"click\":{\"sync\":false,\"id\":\"3\",\"value\":{}},\"image\":{\"sync\":true,\"id\":\"5\",\"value\":\"\"},\"__get_gd_contents\":{\"sync\":false,\"id\":\"10\",\"value\":\"\"},\"_downloadImage\":{\"sync\":false,\"id\":\"9\",\"value\":{}},\"relayout\":{\"sync\":false,\"id\":\"4\",\"value\":{}},\"_commands\":{\"sync\":false,\"id\":\"7\",\"value\":[]}}},\"children\":[{\"props\":{\"id\":\"plot-69a7c2b0-2e55-45ec-8389-b3fdcb16d1d7\"},\"nodeType\":\"DOM\",\"type\":\"node\",\"instanceArgs\":{\"namespace\":\"html\",\"tag\":\"div\"},\"children\":[]}]},\n",
       "        window,\n",
       "    );\n",
       "    })()\n",
       "    </script>\n",
       "</div>\n"
      ],
      "text/plain": [
       "data: [\n",
       "  \"scatter with fields hoverinfo, hovertext, line, mode, type, x, and y\",\n",
       "  \"scatter with fields hoverinfo, hovertext, line, mode, type, x, and y\",\n",
       "  \"scatter with fields hoverinfo, hovertext, line, mode, type, x, and y\",\n",
       "  \"scatter with fields hoverinfo, hovertext, line, mode, type, x, and y\",\n",
       "  \"scatter with fields hoverinfo, hovertext, line, mode, type, x, and y\",\n",
       "  \"scatter with fields hoverinfo, hovertext, line, mode, type, x, and y\",\n",
       "  \"scatter with fields hoverinfo, hovertext, line, mode, type, x, and y\",\n",
       "  \"scatter with fields hoverinfo, hovertext, line, mode, type, x, and y\",\n",
       "  \"scatter with fields hoverinfo, hovertext, line, mode, type, x, and y\"\n",
       "]\n",
       "\n",
       "layout: \"layout with fields annotations, aspectmode, autosize, hovermode, margin, paper_bgcolor, plot_bgcolor, showlegend, template, xaxis, and yaxis\"\n",
       "\n"
      ]
     },
     "metadata": {},
     "output_type": "display_data"
    },
    {
     "data": {
      "application/vnd.plotly.v1+json": {
       "config": {
        "displaylogo": false,
        "editable": false,
        "responsive": true,
        "scrollZoom": true,
        "showLink": false,
        "staticPlot": false
       },
       "data": [
        {
         "hoverinfo": "text+x+y",
         "hovertext": "Cell",
         "line": {
          "color": "rgb(47,54,64)",
          "width": 3
         },
         "mode": "lines",
         "type": "scatter",
         "x": [
          2.0943951023931953,
          4.1887902047863905,
          2.094395102393197,
          -2.0943951023931953,
          -4.1887902047863905,
          -2.094395102393197,
          2.0943951023931953
         ],
         "y": [
          -3.627598728468435,
          -8.881784197001252e-16,
          3.627598728468435,
          3.627598728468435,
          8.881784197001252e-16,
          -3.627598728468435,
          -3.627598728468435
         ]
        },
        {
         "hoverinfo": "text",
         "hovertext": "<b>v</b><sub>1</sub>",
         "line": {
          "color": "rgb(212,216,227)",
          "width": 5
         },
         "mode": "lines",
         "type": "scatter",
         "x": [
          0,
          -7.652142901648538e-16
         ],
         "y": [
          0,
          -3.446218792045013
         ]
        },
        {
         "hoverinfo": "text",
         "hovertext": "<b>v</b><sub>2</sub>",
         "line": {
          "color": "rgb(212,216,227)",
          "width": 5
         },
         "mode": "lines",
         "type": "scatter",
         "x": [
          0,
          2.984513020910303
         ],
         "y": [
          0,
          -1.723109396022507
         ]
        },
        {
         "hoverinfo": "text+x+y",
         "hovertext": "<b>v</b><sub>1</sub>",
         "line": {
          "color": "rgb(39,60,117)",
          "width": 6
         },
         "mode": "lines",
         "type": "scatter",
         "x": [
          -8.457631628137857e-16,
          -1.6109774529786396e-15
         ],
         "y": [
          -3.8089786648918564,
          -7.2551974569368705
         ]
        },
        {
         "hoverinfo": "text+x+y",
         "hovertext": "<b>v</b><sub>2</sub>",
         "line": {
          "color": "rgb(39,60,117)",
          "width": 6
         },
         "mode": "lines",
         "type": "scatter",
         "x": [
          3.2986722862692823,
          6.283185307179586
         ],
         "y": [
          -1.9044893324459287,
          -3.627598728468436
         ]
        },
        {
         "hoverinfo": "text",
         "hovertext": "<b>x</b>",
         "line": {
          "color": "rgb(242,215,208)",
          "width": 5
         },
         "mode": "lines",
         "type": "scatter",
         "x": [
          0,
          4.007410268362968
         ],
         "y": [
          0,
          0
         ]
        },
        {
         "hoverinfo": "text",
         "hovertext": "<b>y</b>",
         "line": {
          "color": "rgb(242,215,208)",
          "width": 5
         },
         "mode": "lines",
         "type": "scatter",
         "x": [
          0,
          0
         ],
         "y": [
          0,
          3.446218792045013
         ]
        },
        {
         "hoverinfo": "text",
         "hovertext": "<b>x</b>",
         "line": {
          "color": "rgb(194,54,22)",
          "width": 6
         },
         "mode": "lines",
         "type": "scatter",
         "x": [
          4.370170141209813,
          5.639829696173765
         ],
         "y": [
          0,
          0
         ]
        },
        {
         "hoverinfo": "text",
         "hovertext": "<b>y</b>",
         "line": {
          "color": "rgb(194,54,22)",
          "width": 6
         },
         "mode": "lines",
         "type": "scatter",
         "x": [
          0,
          0
         ],
         "y": [
          3.8089786648918564,
          5.078638219855809
         ]
        }
       ],
       "frames": [],
       "layout": {
        "annotations": [
         {
          "arrowcolor": "rgb(39,60,117)",
          "arrowhead": 2,
          "arrowsize": 0.5,
          "arrowwidth": 6,
          "ax": -1.5304285803297077e-15,
          "axref": "x",
          "ay": -6.892437584090027,
          "ayref": "y",
          "showarrow": true,
          "x": -1.6915263256275716e-15,
          "xref": "ax",
          "y": -7.617957329783714,
          "yref": "ay"
         },
         {
          "arrowcolor": "rgb(39,60,117)",
          "arrowhead": 2,
          "arrowsize": 0.5,
          "arrowwidth": 6,
          "ax": 5.969026041820607,
          "axref": "x",
          "ay": -3.4462187920450145,
          "ayref": "y",
          "showarrow": true,
          "x": 6.5973445725385655,
          "xref": "ax",
          "y": -3.8089786648918578,
          "yref": "ay"
         },
         {
          "arrowcolor": "rgb(194,54,22)",
          "arrowhead": 2,
          "arrowsize": 0.5,
          "arrowwidth": 6,
          "ax": 5.277069823326921,
          "axref": "x",
          "ay": 0,
          "ayref": "y",
          "showarrow": true,
          "x": 6.002589569020608,
          "xref": "ax",
          "y": 0,
          "yref": "ay"
         },
         {
          "arrowcolor": "rgb(194,54,22)",
          "arrowhead": 2,
          "arrowsize": 0.5,
          "arrowwidth": 6,
          "ax": 0,
          "axref": "x",
          "ay": 4.715878347008966,
          "ayref": "y",
          "showarrow": true,
          "x": 0,
          "xref": "ax",
          "y": 5.441398092702652,
          "yref": "ay"
         }
        ],
        "aspectmode": "data",
        "autosize": false,
        "hovermode": "closest",
        "margin": {
         "b": 50,
         "l": 50,
         "r": 50,
         "t": 60
        },
        "paper_bgcolor": "rgba(255, 255, 255, 1)",
        "plot_bgcolor": "rgba(255, 255, 255, 1)",
        "showlegend": false,
        "template": {
         "data": {
          "bar": [
           {
            "error_x": {
             "color": "#2a3f5f"
            },
            "error_y": {
             "color": "#2a3f5f"
            },
            "marker": {
             "line": {
              "color": "#E5ECF6",
              "width": 0.5
             }
            },
            "type": "bar"
           }
          ],
          "barpolar": [
           {
            "marker": {
             "line": {
              "color": "#E5ECF6",
              "width": 0.5
             }
            },
            "type": "barpolar"
           }
          ],
          "carpet": [
           {
            "aaxis": {
             "endlinecolor": "#2a3f5f",
             "gridcolor": "white",
             "linecolor": "white",
             "minorgridcolor": "white",
             "startlinecolor": "#2a3f5f"
            },
            "baxis": {
             "endlinecolor": "#2a3f5f",
             "gridcolor": "white",
             "linecolor": "white",
             "minorgridcolor": "white",
             "startlinecolor": "#2a3f5f"
            },
            "type": "carpet"
           }
          ],
          "choropleth": [
           {
            "colorbar": {
             "outlinewidth": 0,
             "ticks": ""
            },
            "type": "choropleth"
           }
          ],
          "contour": [
           {
            "colorbar": {
             "outlinewidth": 0,
             "ticks": ""
            },
            "colorscale": [
             [
              0,
              "#0d0887"
             ],
             [
              0.1111111111111111,
              "#46039f"
             ],
             [
              0.2222222222222222,
              "#7201a8"
             ],
             [
              0.3333333333333333,
              "#9c179e"
             ],
             [
              0.4444444444444444,
              "#bd3786"
             ],
             [
              0.5555555555555556,
              "#d8576b"
             ],
             [
              0.6666666666666666,
              "#ed7953"
             ],
             [
              0.7777777777777778,
              "#fb9f3a"
             ],
             [
              0.8888888888888888,
              "#fdca26"
             ],
             [
              1,
              "#f0f921"
             ]
            ],
            "type": "contour"
           }
          ],
          "contourcarpet": [
           {
            "colorbar": {
             "outlinewidth": 0,
             "ticks": ""
            },
            "type": "contourcarpet"
           }
          ],
          "heatmap": [
           {
            "colorbar": {
             "outlinewidth": 0,
             "ticks": ""
            },
            "colorscale": [
             [
              0,
              "#0d0887"
             ],
             [
              0.1111111111111111,
              "#46039f"
             ],
             [
              0.2222222222222222,
              "#7201a8"
             ],
             [
              0.3333333333333333,
              "#9c179e"
             ],
             [
              0.4444444444444444,
              "#bd3786"
             ],
             [
              0.5555555555555556,
              "#d8576b"
             ],
             [
              0.6666666666666666,
              "#ed7953"
             ],
             [
              0.7777777777777778,
              "#fb9f3a"
             ],
             [
              0.8888888888888888,
              "#fdca26"
             ],
             [
              1,
              "#f0f921"
             ]
            ],
            "type": "heatmap"
           }
          ],
          "heatmapgl": [
           {
            "colorbar": {
             "outlinewidth": 0,
             "ticks": ""
            },
            "colorscale": [
             [
              0,
              "#0d0887"
             ],
             [
              0.1111111111111111,
              "#46039f"
             ],
             [
              0.2222222222222222,
              "#7201a8"
             ],
             [
              0.3333333333333333,
              "#9c179e"
             ],
             [
              0.4444444444444444,
              "#bd3786"
             ],
             [
              0.5555555555555556,
              "#d8576b"
             ],
             [
              0.6666666666666666,
              "#ed7953"
             ],
             [
              0.7777777777777778,
              "#fb9f3a"
             ],
             [
              0.8888888888888888,
              "#fdca26"
             ],
             [
              1,
              "#f0f921"
             ]
            ],
            "type": "heatmapgl"
           }
          ],
          "histogram": [
           {
            "marker": {
             "colorbar": {
              "outlinewidth": 0,
              "ticks": ""
             }
            },
            "type": "histogram"
           }
          ],
          "histogram2d": [
           {
            "colorbar": {
             "outlinewidth": 0,
             "ticks": ""
            },
            "colorscale": [
             [
              0,
              "#0d0887"
             ],
             [
              0.1111111111111111,
              "#46039f"
             ],
             [
              0.2222222222222222,
              "#7201a8"
             ],
             [
              0.3333333333333333,
              "#9c179e"
             ],
             [
              0.4444444444444444,
              "#bd3786"
             ],
             [
              0.5555555555555556,
              "#d8576b"
             ],
             [
              0.6666666666666666,
              "#ed7953"
             ],
             [
              0.7777777777777778,
              "#fb9f3a"
             ],
             [
              0.8888888888888888,
              "#fdca26"
             ],
             [
              1,
              "#f0f921"
             ]
            ],
            "type": "histogram2d"
           }
          ],
          "histogram2dcontour": [
           {
            "colorbar": {
             "outlinewidth": 0,
             "ticks": ""
            },
            "colorscale": [
             [
              0,
              "#0d0887"
             ],
             [
              0.1111111111111111,
              "#46039f"
             ],
             [
              0.2222222222222222,
              "#7201a8"
             ],
             [
              0.3333333333333333,
              "#9c179e"
             ],
             [
              0.4444444444444444,
              "#bd3786"
             ],
             [
              0.5555555555555556,
              "#d8576b"
             ],
             [
              0.6666666666666666,
              "#ed7953"
             ],
             [
              0.7777777777777778,
              "#fb9f3a"
             ],
             [
              0.8888888888888888,
              "#fdca26"
             ],
             [
              1,
              "#f0f921"
             ]
            ],
            "type": "histogram2dcontour"
           }
          ],
          "mesh3d": [
           {
            "colorbar": {
             "outlinewidth": 0,
             "ticks": ""
            },
            "type": "mesh3d"
           }
          ],
          "parcoords": [
           {
            "line": {
             "colorbar": {
              "outlinewidth": 0,
              "ticks": ""
             }
            },
            "type": "parcoords"
           }
          ],
          "pie": [
           {
            "automargin": true,
            "type": "pie"
           }
          ],
          "scatter": [
           {
            "marker": {
             "colorbar": {
              "outlinewidth": 0,
              "ticks": ""
             }
            },
            "type": "scatter"
           }
          ],
          "scatter3d": [
           {
            "line": {
             "colorbar": {
              "outlinewidth": 0,
              "ticks": ""
             }
            },
            "marker": {
             "colorbar": {
              "outlinewidth": 0,
              "ticks": ""
             }
            },
            "type": "scatter3d"
           }
          ],
          "scattercarpet": [
           {
            "marker": {
             "colorbar": {
              "outlinewidth": 0,
              "ticks": ""
             }
            },
            "type": "scattercarpet"
           }
          ],
          "scattergeo": [
           {
            "marker": {
             "colorbar": {
              "outlinewidth": 0,
              "ticks": ""
             }
            },
            "type": "scattergeo"
           }
          ],
          "scattergl": [
           {
            "marker": {
             "colorbar": {
              "outlinewidth": 0,
              "ticks": ""
             }
            },
            "type": "scattergl"
           }
          ],
          "scattermapbox": [
           {
            "marker": {
             "colorbar": {
              "outlinewidth": 0,
              "ticks": ""
             }
            },
            "type": "scattermapbox"
           }
          ],
          "scatterpolar": [
           {
            "marker": {
             "colorbar": {
              "outlinewidth": 0,
              "ticks": ""
             }
            },
            "type": "scatterpolar"
           }
          ],
          "scatterpolargl": [
           {
            "marker": {
             "colorbar": {
              "outlinewidth": 0,
              "ticks": ""
             }
            },
            "type": "scatterpolargl"
           }
          ],
          "scatterternary": [
           {
            "marker": {
             "colorbar": {
              "outlinewidth": 0,
              "ticks": ""
             }
            },
            "type": "scatterternary"
           }
          ],
          "surface": [
           {
            "colorbar": {
             "outlinewidth": 0,
             "ticks": ""
            },
            "colorscale": [
             [
              0,
              "#0d0887"
             ],
             [
              0.1111111111111111,
              "#46039f"
             ],
             [
              0.2222222222222222,
              "#7201a8"
             ],
             [
              0.3333333333333333,
              "#9c179e"
             ],
             [
              0.4444444444444444,
              "#bd3786"
             ],
             [
              0.5555555555555556,
              "#d8576b"
             ],
             [
              0.6666666666666666,
              "#ed7953"
             ],
             [
              0.7777777777777778,
              "#fb9f3a"
             ],
             [
              0.8888888888888888,
              "#fdca26"
             ],
             [
              1,
              "#f0f921"
             ]
            ],
            "type": "surface"
           }
          ],
          "table": [
           {
            "cells": {
             "fill": {
              "color": "#EBF0F8"
             },
             "line": {
              "color": "white"
             }
            },
            "header": {
             "fill": {
              "color": "#C8D4E3"
             },
             "line": {
              "color": "white"
             }
            },
            "type": "table"
           }
          ]
         },
         "layout": {
          "annotationdefaults": {
           "arrowcolor": "#2a3f5f",
           "arrowhead": 0,
           "arrowwidth": 1
          },
          "autotypenumbers": "strict",
          "coloraxis": {
           "colorbar": {
            "outlinewidth": 0,
            "ticks": ""
           }
          },
          "colorscale": {
           "diverging": [
            [
             0,
             "#8e0152"
            ],
            [
             0.1,
             "#c51b7d"
            ],
            [
             0.2,
             "#de77ae"
            ],
            [
             0.3,
             "#f1b6da"
            ],
            [
             0.4,
             "#fde0ef"
            ],
            [
             0.5,
             "#f7f7f7"
            ],
            [
             0.6,
             "#e6f5d0"
            ],
            [
             0.7,
             "#b8e186"
            ],
            [
             0.8,
             "#7fbc41"
            ],
            [
             0.9,
             "#4d9221"
            ],
            [
             1,
             "#276419"
            ]
           ],
           "sequential": [
            [
             0,
             "#0d0887"
            ],
            [
             0.1111111111111111,
             "#46039f"
            ],
            [
             0.2222222222222222,
             "#7201a8"
            ],
            [
             0.3333333333333333,
             "#9c179e"
            ],
            [
             0.4444444444444444,
             "#bd3786"
            ],
            [
             0.5555555555555556,
             "#d8576b"
            ],
            [
             0.6666666666666666,
             "#ed7953"
            ],
            [
             0.7777777777777778,
             "#fb9f3a"
            ],
            [
             0.8888888888888888,
             "#fdca26"
            ],
            [
             1,
             "#f0f921"
            ]
           ],
           "sequentialminus": [
            [
             0,
             "#0d0887"
            ],
            [
             0.1111111111111111,
             "#46039f"
            ],
            [
             0.2222222222222222,
             "#7201a8"
            ],
            [
             0.3333333333333333,
             "#9c179e"
            ],
            [
             0.4444444444444444,
             "#bd3786"
            ],
            [
             0.5555555555555556,
             "#d8576b"
            ],
            [
             0.6666666666666666,
             "#ed7953"
            ],
            [
             0.7777777777777778,
             "#fb9f3a"
            ],
            [
             0.8888888888888888,
             "#fdca26"
            ],
            [
             1,
             "#f0f921"
            ]
           ]
          },
          "colorway": [
           "#636efa",
           "#EF553B",
           "#00cc96",
           "#ab63fa",
           "#FFA15A",
           "#19d3f3",
           "#FF6692",
           "#B6E880",
           "#FF97FF",
           "#FECB52"
          ],
          "font": {
           "color": "#2a3f5f"
          },
          "geo": {
           "bgcolor": "white",
           "lakecolor": "white",
           "landcolor": "#E5ECF6",
           "showlakes": true,
           "showland": true,
           "subunitcolor": "white"
          },
          "hoverlabel": {
           "align": "left"
          },
          "hovermode": "closest",
          "mapbox": {
           "style": "light"
          },
          "paper_bgcolor": "white",
          "plot_bgcolor": "#E5ECF6",
          "polar": {
           "angularaxis": {
            "gridcolor": "white",
            "linecolor": "white",
            "ticks": ""
           },
           "bgcolor": "#E5ECF6",
           "radialaxis": {
            "gridcolor": "white",
            "linecolor": "white",
            "ticks": ""
           }
          },
          "scene": {
           "xaxis": {
            "backgroundcolor": "#E5ECF6",
            "gridcolor": "white",
            "gridwidth": 2,
            "linecolor": "white",
            "showbackground": true,
            "ticks": "",
            "zerolinecolor": "white"
           },
           "yaxis": {
            "backgroundcolor": "#E5ECF6",
            "gridcolor": "white",
            "gridwidth": 2,
            "linecolor": "white",
            "showbackground": true,
            "ticks": "",
            "zerolinecolor": "white"
           },
           "zaxis": {
            "backgroundcolor": "#E5ECF6",
            "gridcolor": "white",
            "gridwidth": 2,
            "linecolor": "white",
            "showbackground": true,
            "ticks": "",
            "zerolinecolor": "white"
           }
          },
          "shapedefaults": {
           "line": {
            "color": "#2a3f5f"
           }
          },
          "ternary": {
           "aaxis": {
            "gridcolor": "white",
            "linecolor": "white",
            "ticks": ""
           },
           "baxis": {
            "gridcolor": "white",
            "linecolor": "white",
            "ticks": ""
           },
           "bgcolor": "#E5ECF6",
           "caxis": {
            "gridcolor": "white",
            "linecolor": "white",
            "ticks": ""
           }
          },
          "title": {
           "x": 0.05
          },
          "xaxis": {
           "automargin": true,
           "gridcolor": "white",
           "linecolor": "white",
           "ticks": "",
           "title": {
            "standoff": 15
           },
           "zerolinecolor": "white",
           "zerolinewidth": 2
          },
          "yaxis": {
           "automargin": true,
           "gridcolor": "white",
           "linecolor": "white",
           "ticks": "",
           "title": {
            "standoff": 15
           },
           "zerolinecolor": "white",
           "zerolinewidth": 2
          }
         }
        },
        "xaxis": {
         "range": [
          -6.766865137642045,
          6.766865137642045
         ],
         "showbackground": false,
         "showgrid": false,
         "tickvals": [],
         "title": {
          "text": ""
         },
         "zeroline": false
        },
        "yaxis": {
         "range": [
          -7.738877287399329,
          7.738877287399329
         ],
         "scaleanchor": "x",
         "scaleratio": 1,
         "showbackground": false,
         "showgrid": false,
         "tickvals": [],
         "title": {
          "text": ""
         },
         "zeroline": false
        }
       }
      },
      "image/png": "[encoded data removed]",
      "image/svg+xml": [
       "<svg class=\"main-svg\" xmlns=\"http://www.w3.org/2000/svg\" xmlns:xlink=\"http://www.w3.org/1999/xlink\" width=\"700\" height=\"500\" style=\"\" viewBox=\"0 0 700 500\"><rect x=\"0\" y=\"0\" width=\"700\" height=\"500\" style=\"fill: rgb(255, 255, 255); fill-opacity: 1;\"/><defs id=\"defs-f3d8ad\"><g class=\"clips\"><clipPath id=\"clipf3d8adxyplot\" class=\"plotclip\"><rect width=\"600\" height=\"390\"/></clipPath><clipPath class=\"axesclip\" id=\"clipf3d8adx\"><rect x=\"50\" y=\"0\" width=\"600\" height=\"500\"/></clipPath><clipPath class=\"axesclip\" id=\"clipf3d8ady\"><rect x=\"0\" y=\"60\" width=\"700\" height=\"390\"/></clipPath><clipPath class=\"axesclip\" id=\"clipf3d8adxy\"><rect x=\"50\" y=\"60\" width=\"600\" height=\"390\"/></clipPath></g><g class=\"gradients\"/><g class=\"patterns\"/></defs><g class=\"bglayer\"/><g class=\"layer-below\"><g class=\"imagelayer\"/><g class=\"shapelayer\"/></g><g class=\"cartesianlayer\"><g class=\"subplot xy\"><g class=\"layer-subplot\"><g class=\"shapelayer\"/><g class=\"imagelayer\"/></g><g class=\"gridlayer\"><g class=\"x\"/><g class=\"y\"/></g><g class=\"zerolinelayer\"/><path class=\"xlines-below\"/><path class=\"ylines-below\"/><g class=\"overlines-below\"/><g class=\"xaxislayer-below\"/><g class=\"yaxislayer-below\"/><g class=\"overaxes-below\"/><g class=\"plot\" transform=\"translate(50,60)\" clip-path=\"url(#clipf3d8adxyplot)\"><g class=\"scatterlayer mlayer\"><g class=\"trace scatter trace2af5fe\" style=\"stroke-miterlimit: 2; opacity: 1;\"><g class=\"fills\"/><g class=\"errorbars\"/><g class=\"lines\"><path class=\"js-line\" d=\"M352.77,286.41L405.55,195L352.77,103.59L247.23,103.59L194.45,195L247.23,286.41L352.77,286.41\" style=\"vector-effect: non-scaling-stroke; fill: none; stroke: rgb(47, 54, 64); stroke-opacity: 1; stroke-width: 3px; opacity: 1;\"/></g><g class=\"points\"/><g class=\"text\"/></g><g class=\"trace scatter trace1f1e74\" style=\"stroke-miterlimit: 2; opacity: 1;\"><g class=\"fills\"/><g class=\"errorbars\"/><g class=\"lines\"><path class=\"js-line\" d=\"M300,195L300,281.84\" style=\"vector-effect: non-scaling-stroke; fill: none; stroke: rgb(212, 216, 227); stroke-opacity: 1; stroke-width: 5px; opacity: 1;\"/></g><g class=\"points\"/><g class=\"text\"/></g><g class=\"trace scatter trace1a4cd1\" style=\"stroke-miterlimit: 2; opacity: 1;\"><g class=\"fills\"/><g class=\"errorbars\"/><g class=\"lines\"><path class=\"js-line\" d=\"M300,195L375.2,238.42\" style=\"vector-effect: non-scaling-stroke; fill: none; stroke: rgb(212, 216, 227); stroke-opacity: 1; stroke-width: 5px; opacity: 1;\"/></g><g class=\"points\"/><g class=\"text\"/></g><g class=\"trace scatter trace419d2d\" style=\"stroke-miterlimit: 2; opacity: 1;\"><g class=\"fills\"/><g class=\"errorbars\"/><g class=\"lines\"><path class=\"js-line\" d=\"M300,290.98L300,377.81\" style=\"vector-effect: non-scaling-stroke; fill: none; stroke: rgb(39, 60, 117); stroke-opacity: 1; stroke-width: 6px; opacity: 1;\"/></g><g class=\"points\"/><g class=\"text\"/></g><g class=\"trace scatter traceebe0da\" style=\"stroke-miterlimit: 2; opacity: 1;\"><g class=\"fills\"/><g class=\"errorbars\"/><g class=\"lines\"><path class=\"js-line\" d=\"M383.12,242.99L458.32,286.41\" style=\"vector-effect: non-scaling-stroke; fill: none; stroke: rgb(39, 60, 117); stroke-opacity: 1; stroke-width: 6px; opacity: 1;\"/></g><g class=\"points\"/><g class=\"text\"/></g><g class=\"trace scatter traceaff213\" style=\"stroke-miterlimit: 2; opacity: 1;\"><g class=\"fills\"/><g class=\"errorbars\"/><g class=\"lines\"><path class=\"js-line\" d=\"M300,195L400.98,195\" style=\"vector-effect: non-scaling-stroke; fill: none; stroke: rgb(242, 215, 208); stroke-opacity: 1; stroke-width: 5px; opacity: 1;\"/></g><g class=\"points\"/><g class=\"text\"/></g><g class=\"trace scatter traced920b0\" style=\"stroke-miterlimit: 2; opacity: 1;\"><g class=\"fills\"/><g class=\"errorbars\"/><g class=\"lines\"><path class=\"js-line\" d=\"M300,195L300,108.16\" style=\"vector-effect: non-scaling-stroke; fill: none; stroke: rgb(242, 215, 208); stroke-opacity: 1; stroke-width: 5px; opacity: 1;\"/></g><g class=\"points\"/><g class=\"text\"/></g><g class=\"trace scatter trace2be431\" style=\"stroke-miterlimit: 2; opacity: 1;\"><g class=\"fills\"/><g class=\"errorbars\"/><g class=\"lines\"><path class=\"js-line\" d=\"M410.12,195L442.11,195\" style=\"vector-effect: non-scaling-stroke; fill: none; stroke: rgb(194, 54, 22); stroke-opacity: 1; stroke-width: 6px; opacity: 1;\"/></g><g class=\"points\"/><g class=\"text\"/></g><g class=\"trace scatter trace9b523e\" style=\"stroke-miterlimit: 2; opacity: 1;\"><g class=\"fills\"/><g class=\"errorbars\"/><g class=\"lines\"><path class=\"js-line\" d=\"M300,99.02L300,67.03\" style=\"vector-effect: non-scaling-stroke; fill: none; stroke: rgb(194, 54, 22); stroke-opacity: 1; stroke-width: 6px; opacity: 1;\"/></g><g class=\"points\"/><g class=\"text\"/></g></g></g><g class=\"overplot\"/><path class=\"xlines-above crisp\" d=\"M0,0\" style=\"fill: none;\"/><path class=\"ylines-above crisp\" d=\"M0,0\" style=\"fill: none;\"/><g class=\"overlines-above\"/><g class=\"xaxislayer-above\"/><g class=\"yaxislayer-above\"/><g class=\"overaxes-above\"/></g></g><g class=\"polarlayer\"/><g class=\"ternarylayer\"/><g class=\"geolayer\"/><g class=\"funnelarealayer\"/><g class=\"pielayer\"/><g class=\"iciclelayer\"/><g class=\"treemaplayer\"/><g class=\"sunburstlayer\"/><g class=\"glimages\"/><defs id=\"topdefs-f3d8ad\"><g class=\"clips\"/></defs><g class=\"layer-above\"><g class=\"imagelayer\"/><g class=\"shapelayer\"/></g><g class=\"infolayer\"><g class=\"g-gtitle\"/><g class=\"g-xtitle\"/><g class=\"g-ytitle\"/><g class=\"annotation\" data-index=\"0\" style=\"opacity: 1;\"><g class=\"annotation-text-g\" transform=\"rotate(0,350,428.67)\"><g class=\"cursor-pointer\" transform=\"translate(347,418)\"><rect class=\"bg\" x=\"0.5\" y=\"0.5\" width=\"6\" height=\"20\" style=\"stroke-width: 1px; stroke: rgb(0, 0, 0); stroke-opacity: 0; fill: rgb(0, 0, 0); fill-opacity: 0;\"/><text class=\"annotation-text\" text-anchor=\"middle\" x=\"3.5625\" y=\"15\" style=\"font-family: 'Open Sans', verdana, arial, sans-serif; font-size: 12px; fill: rgb(42, 63, 95); fill-opacity: 1; white-space: pre;\"> </text></g></g><g class=\"annotation-arrow-g\" style=\"opacity: 1;\"><path d=\"M350,438.67L350,446.95\" style=\"stroke-width: 6px; stroke: rgb(39, 60, 117); stroke-opacity: 1; stroke-dasharray: 0px, 0px, 4.38px, 8.28px;\"/><path d=\"M-3.7,-2.5V2.5L1.3,0Z\" transform=\"translate(350,443.0500183105469)rotate(90)scale(3)\" style=\"fill: rgb(39, 60, 117); stroke-width: 0;\"/></g></g><g class=\"annotation\" data-index=\"1\" style=\"opacity: 1;\"><g class=\"annotation-text-g\" transform=\"rotate(0,500.4,341.84)\"><g class=\"cursor-pointer\" transform=\"translate(497,331)\"><rect class=\"bg\" x=\"0.5\" y=\"0.5\" width=\"6\" height=\"20\" style=\"stroke-width: 1px; stroke: rgb(0, 0, 0); stroke-opacity: 0; fill: rgb(0, 0, 0); fill-opacity: 0;\"/><text class=\"annotation-text\" text-anchor=\"middle\" x=\"3.5625\" y=\"15\" style=\"font-family: 'Open Sans', verdana, arial, sans-serif; font-size: 12px; fill: rgb(42, 63, 95); fill-opacity: 1; white-space: pre;\"> </text></g></g><g class=\"annotation-arrow-g\" style=\"opacity: 1;\"><path d=\"M503.4,343.5710606060606L516.24,350.98\" style=\"stroke-width: 6px; stroke: rgb(39, 60, 117); stroke-opacity: 1; stroke-dasharray: 0px, 0px, 10.9242px, 14.8242px;\"/><path d=\"M-3.7,-2.5V2.5L1.3,0Z\" transform=\"translate(512.8619995117188,349.0308532714844)rotate(29.992124779489266)scale(3)\" style=\"fill: rgb(39, 60, 117); stroke-width: 0;\"/></g></g><g class=\"annotation\" data-index=\"2\" style=\"opacity: 1;\"><g class=\"annotation-text-g\" transform=\"rotate(0,482.97,255)\"><g class=\"cursor-pointer\" transform=\"translate(479,245)\"><rect class=\"bg\" x=\"0.5\" y=\"0.5\" width=\"6\" height=\"20\" style=\"stroke-width: 1px; stroke: rgb(0, 0, 0); stroke-opacity: 0; fill: rgb(0, 0, 0); fill-opacity: 0;\"/><text class=\"annotation-text\" text-anchor=\"middle\" x=\"3.5625\" y=\"15\" style=\"font-family: 'Open Sans', verdana, arial, sans-serif; font-size: 12px; fill: rgb(42, 63, 95); fill-opacity: 1; white-space: pre;\"> </text></g></g><g class=\"annotation-arrow-g\" style=\"opacity: 1;\"><path d=\"M485.97,255L501.25,255\" style=\"stroke-width: 6px; stroke: rgb(194, 54, 22); stroke-opacity: 1; stroke-dasharray: 0px, 0px, 11.38px, 15.28px;\"/><path d=\"M-3.7,-2.5V2.5L1.3,0Z\" transform=\"translate(497.3500061035156,255)scale(3)\" style=\"fill: rgb(194, 54, 22); stroke-width: 0;\"/></g></g><g class=\"annotation\" data-index=\"3\" style=\"opacity: 1;\"><g class=\"annotation-text-g\" transform=\"rotate(0,350,136.17000000000002)\"><g class=\"cursor-pointer\" transform=\"translate(347,126)\"><rect class=\"bg\" x=\"0.5\" y=\"0.5\" width=\"6\" height=\"20\" style=\"stroke-width: 1px; stroke: rgb(0, 0, 0); stroke-opacity: 0; fill: rgb(0, 0, 0); fill-opacity: 0;\"/><text class=\"annotation-text\" text-anchor=\"middle\" x=\"3.5625\" y=\"15\" style=\"font-family: 'Open Sans', verdana, arial, sans-serif; font-size: 12px; fill: rgb(42, 63, 95); fill-opacity: 1; white-space: pre;\"> </text></g></g><g class=\"annotation-arrow-g\" style=\"opacity: 1;\"><path d=\"M350,126.17000000000002L350,117.89\" style=\"stroke-width: 6px; stroke: rgb(194, 54, 22); stroke-opacity: 1; stroke-dasharray: 0px, 0px, 4.38px, 8.28px;\"/><path d=\"M-3.7,-2.5V2.5L1.3,0Z\" transform=\"translate(350,121.79000091552734)rotate(-90)scale(3)\" style=\"fill: rgb(194, 54, 22); stroke-width: 0;\"/></g></g></g></svg>"
      ],
      "text/html": [
       "<div\n",
       "    class=\"webio-mountpoint\"\n",
       "    data-webio-mountpoint=\"15843936144057921721\"\n",
       ">\n",
       "    <script>\n",
       "    (function(){\n",
       "    // Some integrations (namely, IJulia/Jupyter) use an alternate render pathway than\n",
       "    // just putting the html on the page. If WebIO isn't defined, then it's pretty likely\n",
       "    // that we're in one of those situations and the integration just isn't installed\n",
       "    // correctly.\n",
       "    if (typeof window.WebIO === \"undefined\") {\n",
       "        document\n",
       "            .querySelector('[data-webio-mountpoint=\"15843936144057921721\"]')\n",
       "            .innerHTML = (\n",
       "                '<div style=\"padding: 1em; background-color: #f8d6da; border: 1px solid #f5c6cb; font-weight: bold;\">' +\n",
       "                '<p><strong>WebIO not detected.</strong></p>' +\n",
       "                '<p>Please read ' +\n",
       "                '<a href=\"https://juliagizmos.github.io/WebIO.jl/latest/troubleshooting/not-detected/\" target=\"_blank\">the troubleshooting guide</a> ' +\n",
       "                'for more information on how to resolve this issue.</p>' +\n",
       "                '<p><a href=\"https://juliagizmos.github.io/WebIO.jl/latest/troubleshooting/not-detected/\" target=\"_blank\">https://juliagizmos.github.io/WebIO.jl/latest/troubleshooting/not-detected/</a></p>' +\n",
       "                '</div>'\n",
       "            );\n",
       "        return;\n",
       "    }\n",
       "    WebIO.mount(\n",
       "        document.querySelector('[data-webio-mountpoint=\"15843936144057921721\"]'),\n",
       "        {\"props\":{},\"nodeType\":\"Scope\",\"type\":\"node\",\"instanceArgs\":{\"imports\":{\"data\":[{\"name\":\"Plotly\",\"type\":\"js\",\"url\":\"\\/assetserver\\/b267c3137400db01c304fe886fe6f707be7fdb37-plotly.min.js\"},{\"name\":null,\"type\":\"js\",\"url\":\"\\/assetserver\\/020f2e8a4619f2ae880fff9315e6547eef1aff0b-plotly_webio.bundle.js\"}],\"type\":\"async_block\"},\"id\":\"9257965579206030750\",\"handlers\":{\"_toImage\":[\"(function (options){return this.Plotly.toImage(this.plotElem,options).then((function (data){return WebIO.setval({\\\"name\\\":\\\"image\\\",\\\"scope\\\":\\\"9257965579206030750\\\",\\\"id\\\":\\\"15\\\",\\\"type\\\":\\\"observable\\\"},data)}))})\"],\"__get_gd_contents\":[\"(function (prop){prop==\\\"data\\\" ? (WebIO.setval({\\\"name\\\":\\\"__gd_contents\\\",\\\"scope\\\":\\\"9257965579206030750\\\",\\\"id\\\":\\\"16\\\",\\\"type\\\":\\\"observable\\\"},this.plotElem.data)) : undefined; return prop==\\\"layout\\\" ? (WebIO.setval({\\\"name\\\":\\\"__gd_contents\\\",\\\"scope\\\":\\\"9257965579206030750\\\",\\\"id\\\":\\\"16\\\",\\\"type\\\":\\\"observable\\\"},this.plotElem.layout)) : undefined})\"],\"_downloadImage\":[\"(function (options){return this.Plotly.downloadImage(this.plotElem,options)})\"],\"_commands\":[\"(function (args){var fn=args.shift(); var elem=this.plotElem; var Plotly=this.Plotly; args.unshift(elem); return Plotly[fn].apply(this,args)})\"]},\"systemjs_options\":null,\"mount_callbacks\":[\"function () {\\n    var handler = ((function (Plotly,PlotlyWebIO){PlotlyWebIO.init(WebIO); var gd=this.dom.querySelector(\\\"#plot-09f8132e-d771-46a6-af9a-8590058b5026\\\"); this.plotElem=gd; this.Plotly=Plotly; (window.Blink!==undefined) ? (gd.style.width=\\\"100%\\\", gd.style.height=\\\"100vh\\\", gd.style.marginLeft=\\\"0%\\\", gd.style.marginTop=\\\"0vh\\\") : undefined; window.onresize=(function (){return Plotly.Plots.resize(gd)}); Plotly.newPlot(gd,[{\\\"mode\\\":\\\"lines\\\",\\\"line\\\":{\\\"color\\\":\\\"rgb(47,54,64)\\\",\\\"width\\\":3},\\\"hovertext\\\":\\\"Cell\\\",\\\"y\\\":[-3.627598728468435,-8.881784197001252e-16,3.627598728468435,3.627598728468435,8.881784197001252e-16,-3.627598728468435,-3.627598728468435],\\\"type\\\":\\\"scatter\\\",\\\"hoverinfo\\\":\\\"text+x+y\\\",\\\"x\\\":[2.0943951023931953,4.1887902047863905,2.094395102393197,-2.0943951023931953,-4.1887902047863905,-2.094395102393197,2.0943951023931953]},{\\\"mode\\\":\\\"lines\\\",\\\"line\\\":{\\\"color\\\":\\\"rgb(212,216,227)\\\",\\\"width\\\":5},\\\"hovertext\\\":\\\"<b>v<\\/b><sub>1<\\/sub>\\\",\\\"y\\\":[-0.0,-3.446218792045013],\\\"type\\\":\\\"scatter\\\",\\\"hoverinfo\\\":\\\"text\\\",\\\"x\\\":[-0.0,-7.652142901648538e-16]},{\\\"mode\\\":\\\"lines\\\",\\\"line\\\":{\\\"color\\\":\\\"rgb(212,216,227)\\\",\\\"width\\\":5},\\\"hovertext\\\":\\\"<b>v<\\/b><sub>2<\\/sub>\\\",\\\"y\\\":[-0.0,-1.723109396022507],\\\"type\\\":\\\"scatter\\\",\\\"hoverinfo\\\":\\\"text\\\",\\\"x\\\":[0.0,2.984513020910303]},{\\\"mode\\\":\\\"lines\\\",\\\"line\\\":{\\\"color\\\":\\\"rgb(39,60,117)\\\",\\\"width\\\":6},\\\"hovertext\\\":\\\"<b>v<\\/b><sub>1<\\/sub>\\\",\\\"y\\\":[-3.8089786648918564,-7.2551974569368705],\\\"type\\\":\\\"scatter\\\",\\\"hoverinfo\\\":\\\"text+x+y\\\",\\\"x\\\":[-8.457631628137857e-16,-1.6109774529786396e-15]},{\\\"mode\\\":\\\"lines\\\",\\\"line\\\":{\\\"color\\\":\\\"rgb(39,60,117)\\\",\\\"width\\\":6},\\\"hovertext\\\":\\\"<b>v<\\/b><sub>2<\\/sub>\\\",\\\"y\\\":[-1.9044893324459287,-3.627598728468436],\\\"type\\\":\\\"scatter\\\",\\\"hoverinfo\\\":\\\"text+x+y\\\",\\\"x\\\":[3.2986722862692823,6.283185307179586]},{\\\"mode\\\":\\\"lines\\\",\\\"line\\\":{\\\"color\\\":\\\"rgb(242,215,208)\\\",\\\"width\\\":5},\\\"hovertext\\\":\\\"<b>x<\\/b>\\\",\\\"y\\\":[0.0,0.0],\\\"type\\\":\\\"scatter\\\",\\\"hoverinfo\\\":\\\"text\\\",\\\"x\\\":[0.0,4.007410268362968]},{\\\"mode\\\":\\\"lines\\\",\\\"line\\\":{\\\"color\\\":\\\"rgb(242,215,208)\\\",\\\"width\\\":5},\\\"hovertext\\\":\\\"<b>y<\\/b>\\\",\\\"y\\\":[0.0,3.446218792045013],\\\"type\\\":\\\"scatter\\\",\\\"hoverinfo\\\":\\\"text\\\",\\\"x\\\":[0.0,0.0]},{\\\"mode\\\":\\\"lines\\\",\\\"line\\\":{\\\"color\\\":\\\"rgb(194,54,22)\\\",\\\"width\\\":6},\\\"hovertext\\\":\\\"<b>x<\\/b>\\\",\\\"y\\\":[0.0,0.0],\\\"type\\\":\\\"scatter\\\",\\\"hoverinfo\\\":\\\"text\\\",\\\"x\\\":[4.370170141209813,5.639829696173765]},{\\\"mode\\\":\\\"lines\\\",\\\"line\\\":{\\\"color\\\":\\\"rgb(194,54,22)\\\",\\\"width\\\":6},\\\"hovertext\\\":\\\"<b>y<\\/b>\\\",\\\"y\\\":[3.8089786648918564,5.078638219855809],\\\"type\\\":\\\"scatter\\\",\\\"hoverinfo\\\":\\\"text\\\",\\\"x\\\":[0.0,0.0]}],{\\\"showlegend\\\":false,\\\"xaxis\\\":{\\\"showgrid\\\":false,\\\"zeroline\\\":false,\\\"tickvals\\\":[],\\\"title\\\":{\\\"text\\\":\\\"\\\"},\\\"showbackground\\\":false,\\\"range\\\":[-6.766865137642045,6.766865137642045]},\\\"hovermode\\\":\\\"closest\\\",\\\"paper_bgcolor\\\":\\\"rgba(255, 255, 255, 1)\\\",\\\"template\\\":{\\\"layout\\\":{\\\"coloraxis\\\":{\\\"colorbar\\\":{\\\"ticks\\\":\\\"\\\",\\\"outlinewidth\\\":0}},\\\"xaxis\\\":{\\\"gridcolor\\\":\\\"white\\\",\\\"zerolinewidth\\\":2,\\\"title\\\":{\\\"standoff\\\":15},\\\"ticks\\\":\\\"\\\",\\\"zerolinecolor\\\":\\\"white\\\",\\\"automargin\\\":true,\\\"linecolor\\\":\\\"white\\\"},\\\"hovermode\\\":\\\"closest\\\",\\\"paper_bgcolor\\\":\\\"white\\\",\\\"geo\\\":{\\\"showlakes\\\":true,\\\"showland\\\":true,\\\"landcolor\\\":\\\"#E5ECF6\\\",\\\"bgcolor\\\":\\\"white\\\",\\\"subunitcolor\\\":\\\"white\\\",\\\"lakecolor\\\":\\\"white\\\"},\\\"colorscale\\\":{\\\"sequential\\\":[[0.0,\\\"#0d0887\\\"],[0.1111111111111111,\\\"#46039f\\\"],[0.2222222222222222,\\\"#7201a8\\\"],[0.3333333333333333,\\\"#9c179e\\\"],[0.4444444444444444,\\\"#bd3786\\\"],[0.5555555555555556,\\\"#d8576b\\\"],[0.6666666666666666,\\\"#ed7953\\\"],[0.7777777777777778,\\\"#fb9f3a\\\"],[0.8888888888888888,\\\"#fdca26\\\"],[1.0,\\\"#f0f921\\\"]],\\\"diverging\\\":[[0,\\\"#8e0152\\\"],[0.1,\\\"#c51b7d\\\"],[0.2,\\\"#de77ae\\\"],[0.3,\\\"#f1b6da\\\"],[0.4,\\\"#fde0ef\\\"],[0.5,\\\"#f7f7f7\\\"],[0.6,\\\"#e6f5d0\\\"],[0.7,\\\"#b8e186\\\"],[0.8,\\\"#7fbc41\\\"],[0.9,\\\"#4d9221\\\"],[1,\\\"#276419\\\"]],\\\"sequentialminus\\\":[[0.0,\\\"#0d0887\\\"],[0.1111111111111111,\\\"#46039f\\\"],[0.2222222222222222,\\\"#7201a8\\\"],[0.3333333333333333,\\\"#9c179e\\\"],[0.4444444444444444,\\\"#bd3786\\\"],[0.5555555555555556,\\\"#d8576b\\\"],[0.6666666666666666,\\\"#ed7953\\\"],[0.7777777777777778,\\\"#fb9f3a\\\"],[0.8888888888888888,\\\"#fdca26\\\"],[1.0,\\\"#f0f921\\\"]]},\\\"yaxis\\\":{\\\"gridcolor\\\":\\\"white\\\",\\\"zerolinewidth\\\":2,\\\"title\\\":{\\\"standoff\\\":15},\\\"ticks\\\":\\\"\\\",\\\"zerolinecolor\\\":\\\"white\\\",\\\"automargin\\\":true,\\\"linecolor\\\":\\\"white\\\"},\\\"shapedefaults\\\":{\\\"line\\\":{\\\"color\\\":\\\"#2a3f5f\\\"}},\\\"hoverlabel\\\":{\\\"align\\\":\\\"left\\\"},\\\"mapbox\\\":{\\\"style\\\":\\\"light\\\"},\\\"polar\\\":{\\\"angularaxis\\\":{\\\"gridcolor\\\":\\\"white\\\",\\\"ticks\\\":\\\"\\\",\\\"linecolor\\\":\\\"white\\\"},\\\"bgcolor\\\":\\\"#E5ECF6\\\",\\\"radialaxis\\\":{\\\"gridcolor\\\":\\\"white\\\",\\\"ticks\\\":\\\"\\\",\\\"linecolor\\\":\\\"white\\\"}},\\\"autotypenumbers\\\":\\\"strict\\\",\\\"font\\\":{\\\"color\\\":\\\"#2a3f5f\\\"},\\\"ternary\\\":{\\\"baxis\\\":{\\\"gridcolor\\\":\\\"white\\\",\\\"ticks\\\":\\\"\\\",\\\"linecolor\\\":\\\"white\\\"},\\\"bgcolor\\\":\\\"#E5ECF6\\\",\\\"caxis\\\":{\\\"gridcolor\\\":\\\"white\\\",\\\"ticks\\\":\\\"\\\",\\\"linecolor\\\":\\\"white\\\"},\\\"aaxis\\\":{\\\"gridcolor\\\":\\\"white\\\",\\\"ticks\\\":\\\"\\\",\\\"linecolor\\\":\\\"white\\\"}},\\\"annotationdefaults\\\":{\\\"arrowhead\\\":0,\\\"arrowwidth\\\":1,\\\"arrowcolor\\\":\\\"#2a3f5f\\\"},\\\"plot_bgcolor\\\":\\\"#E5ECF6\\\",\\\"title\\\":{\\\"x\\\":0.05},\\\"scene\\\":{\\\"xaxis\\\":{\\\"gridcolor\\\":\\\"white\\\",\\\"gridwidth\\\":2,\\\"backgroundcolor\\\":\\\"#E5ECF6\\\",\\\"ticks\\\":\\\"\\\",\\\"showbackground\\\":true,\\\"zerolinecolor\\\":\\\"white\\\",\\\"linecolor\\\":\\\"white\\\"},\\\"zaxis\\\":{\\\"gridcolor\\\":\\\"white\\\",\\\"gridwidth\\\":2,\\\"backgroundcolor\\\":\\\"#E5ECF6\\\",\\\"ticks\\\":\\\"\\\",\\\"showbackground\\\":true,\\\"zerolinecolor\\\":\\\"white\\\",\\\"linecolor\\\":\\\"white\\\"},\\\"yaxis\\\":{\\\"gridcolor\\\":\\\"white\\\",\\\"gridwidth\\\":2,\\\"backgroundcolor\\\":\\\"#E5ECF6\\\",\\\"ticks\\\":\\\"\\\",\\\"showbackground\\\":true,\\\"zerolinecolor\\\":\\\"white\\\",\\\"linecolor\\\":\\\"white\\\"}},\\\"colorway\\\":[\\\"#636efa\\\",\\\"#EF553B\\\",\\\"#00cc96\\\",\\\"#ab63fa\\\",\\\"#FFA15A\\\",\\\"#19d3f3\\\",\\\"#FF6692\\\",\\\"#B6E880\\\",\\\"#FF97FF\\\",\\\"#FECB52\\\"]},\\\"data\\\":{\\\"barpolar\\\":[{\\\"type\\\":\\\"barpolar\\\",\\\"marker\\\":{\\\"line\\\":{\\\"color\\\":\\\"#E5ECF6\\\",\\\"width\\\":0.5}}}],\\\"carpet\\\":[{\\\"aaxis\\\":{\\\"gridcolor\\\":\\\"white\\\",\\\"endlinecolor\\\":\\\"#2a3f5f\\\",\\\"minorgridcolor\\\":\\\"white\\\",\\\"startlinecolor\\\":\\\"#2a3f5f\\\",\\\"linecolor\\\":\\\"white\\\"},\\\"type\\\":\\\"carpet\\\",\\\"baxis\\\":{\\\"gridcolor\\\":\\\"white\\\",\\\"endlinecolor\\\":\\\"#2a3f5f\\\",\\\"minorgridcolor\\\":\\\"white\\\",\\\"startlinecolor\\\":\\\"#2a3f5f\\\",\\\"linecolor\\\":\\\"white\\\"}}],\\\"scatterpolar\\\":[{\\\"type\\\":\\\"scatterpolar\\\",\\\"marker\\\":{\\\"colorbar\\\":{\\\"ticks\\\":\\\"\\\",\\\"outlinewidth\\\":0}}}],\\\"parcoords\\\":[{\\\"line\\\":{\\\"colorbar\\\":{\\\"ticks\\\":\\\"\\\",\\\"outlinewidth\\\":0}},\\\"type\\\":\\\"parcoords\\\"}],\\\"scatter\\\":[{\\\"type\\\":\\\"scatter\\\",\\\"marker\\\":{\\\"colorbar\\\":{\\\"ticks\\\":\\\"\\\",\\\"outlinewidth\\\":0}}}],\\\"histogram2dcontour\\\":[{\\\"colorbar\\\":{\\\"ticks\\\":\\\"\\\",\\\"outlinewidth\\\":0},\\\"type\\\":\\\"histogram2dcontour\\\",\\\"colorscale\\\":[[0.0,\\\"#0d0887\\\"],[0.1111111111111111,\\\"#46039f\\\"],[0.2222222222222222,\\\"#7201a8\\\"],[0.3333333333333333,\\\"#9c179e\\\"],[0.4444444444444444,\\\"#bd3786\\\"],[0.5555555555555556,\\\"#d8576b\\\"],[0.6666666666666666,\\\"#ed7953\\\"],[0.7777777777777778,\\\"#fb9f3a\\\"],[0.8888888888888888,\\\"#fdca26\\\"],[1.0,\\\"#f0f921\\\"]]}],\\\"contour\\\":[{\\\"colorbar\\\":{\\\"ticks\\\":\\\"\\\",\\\"outlinewidth\\\":0},\\\"type\\\":\\\"contour\\\",\\\"colorscale\\\":[[0.0,\\\"#0d0887\\\"],[0.1111111111111111,\\\"#46039f\\\"],[0.2222222222222222,\\\"#7201a8\\\"],[0.3333333333333333,\\\"#9c179e\\\"],[0.4444444444444444,\\\"#bd3786\\\"],[0.5555555555555556,\\\"#d8576b\\\"],[0.6666666666666666,\\\"#ed7953\\\"],[0.7777777777777778,\\\"#fb9f3a\\\"],[0.8888888888888888,\\\"#fdca26\\\"],[1.0,\\\"#f0f921\\\"]]}],\\\"scattercarpet\\\":[{\\\"type\\\":\\\"scattercarpet\\\",\\\"marker\\\":{\\\"colorbar\\\":{\\\"ticks\\\":\\\"\\\",\\\"outlinewidth\\\":0}}}],\\\"mesh3d\\\":[{\\\"colorbar\\\":{\\\"ticks\\\":\\\"\\\",\\\"outlinewidth\\\":0},\\\"type\\\":\\\"mesh3d\\\"}],\\\"surface\\\":[{\\\"colorbar\\\":{\\\"ticks\\\":\\\"\\\",\\\"outlinewidth\\\":0},\\\"type\\\":\\\"surface\\\",\\\"colorscale\\\":[[0.0,\\\"#0d0887\\\"],[0.1111111111111111,\\\"#46039f\\\"],[0.2222222222222222,\\\"#7201a8\\\"],[0.3333333333333333,\\\"#9c179e\\\"],[0.4444444444444444,\\\"#bd3786\\\"],[0.5555555555555556,\\\"#d8576b\\\"],[0.6666666666666666,\\\"#ed7953\\\"],[0.7777777777777778,\\\"#fb9f3a\\\"],[0.8888888888888888,\\\"#fdca26\\\"],[1.0,\\\"#f0f921\\\"]]}],\\\"scattermapbox\\\":[{\\\"type\\\":\\\"scattermapbox\\\",\\\"marker\\\":{\\\"colorbar\\\":{\\\"ticks\\\":\\\"\\\",\\\"outlinewidth\\\":0}}}],\\\"scattergeo\\\":[{\\\"type\\\":\\\"scattergeo\\\",\\\"marker\\\":{\\\"colorbar\\\":{\\\"ticks\\\":\\\"\\\",\\\"outlinewidth\\\":0}}}],\\\"histogram\\\":[{\\\"type\\\":\\\"histogram\\\",\\\"marker\\\":{\\\"colorbar\\\":{\\\"ticks\\\":\\\"\\\",\\\"outlinewidth\\\":0}}}],\\\"pie\\\":[{\\\"type\\\":\\\"pie\\\",\\\"automargin\\\":true}],\\\"choropleth\\\":[{\\\"colorbar\\\":{\\\"ticks\\\":\\\"\\\",\\\"outlinewidth\\\":0},\\\"type\\\":\\\"choropleth\\\"}],\\\"heatmapgl\\\":[{\\\"colorbar\\\":{\\\"ticks\\\":\\\"\\\",\\\"outlinewidth\\\":0},\\\"type\\\":\\\"heatmapgl\\\",\\\"colorscale\\\":[[0.0,\\\"#0d0887\\\"],[0.1111111111111111,\\\"#46039f\\\"],[0.2222222222222222,\\\"#7201a8\\\"],[0.3333333333333333,\\\"#9c179e\\\"],[0.4444444444444444,\\\"#bd3786\\\"],[0.5555555555555556,\\\"#d8576b\\\"],[0.6666666666666666,\\\"#ed7953\\\"],[0.7777777777777778,\\\"#fb9f3a\\\"],[0.8888888888888888,\\\"#fdca26\\\"],[1.0,\\\"#f0f921\\\"]]}],\\\"bar\\\":[{\\\"type\\\":\\\"bar\\\",\\\"error_y\\\":{\\\"color\\\":\\\"#2a3f5f\\\"},\\\"error_x\\\":{\\\"color\\\":\\\"#2a3f5f\\\"},\\\"marker\\\":{\\\"line\\\":{\\\"color\\\":\\\"#E5ECF6\\\",\\\"width\\\":0.5}}}],\\\"heatmap\\\":[{\\\"colorbar\\\":{\\\"ticks\\\":\\\"\\\",\\\"outlinewidth\\\":0},\\\"type\\\":\\\"heatmap\\\",\\\"colorscale\\\":[[0.0,\\\"#0d0887\\\"],[0.1111111111111111,\\\"#46039f\\\"],[0.2222222222222222,\\\"#7201a8\\\"],[0.3333333333333333,\\\"#9c179e\\\"],[0.4444444444444444,\\\"#bd3786\\\"],[0.5555555555555556,\\\"#d8576b\\\"],[0.6666666666666666,\\\"#ed7953\\\"],[0.7777777777777778,\\\"#fb9f3a\\\"],[0.8888888888888888,\\\"#fdca26\\\"],[1.0,\\\"#f0f921\\\"]]}],\\\"contourcarpet\\\":[{\\\"colorbar\\\":{\\\"ticks\\\":\\\"\\\",\\\"outlinewidth\\\":0},\\\"type\\\":\\\"contourcarpet\\\"}],\\\"table\\\":[{\\\"type\\\":\\\"table\\\",\\\"header\\\":{\\\"line\\\":{\\\"color\\\":\\\"white\\\"},\\\"fill\\\":{\\\"color\\\":\\\"#C8D4E3\\\"}},\\\"cells\\\":{\\\"line\\\":{\\\"color\\\":\\\"white\\\"},\\\"fill\\\":{\\\"color\\\":\\\"#EBF0F8\\\"}}}],\\\"scatter3d\\\":[{\\\"line\\\":{\\\"colorbar\\\":{\\\"ticks\\\":\\\"\\\",\\\"outlinewidth\\\":0}},\\\"type\\\":\\\"scatter3d\\\",\\\"marker\\\":{\\\"colorbar\\\":{\\\"ticks\\\":\\\"\\\",\\\"outlinewidth\\\":0}}}],\\\"scattergl\\\":[{\\\"type\\\":\\\"scattergl\\\",\\\"marker\\\":{\\\"colorbar\\\":{\\\"ticks\\\":\\\"\\\",\\\"outlinewidth\\\":0}}}],\\\"histogram2d\\\":[{\\\"colorbar\\\":{\\\"ticks\\\":\\\"\\\",\\\"outlinewidth\\\":0},\\\"type\\\":\\\"histogram2d\\\",\\\"colorscale\\\":[[0.0,\\\"#0d0887\\\"],[0.1111111111111111,\\\"#46039f\\\"],[0.2222222222222222,\\\"#7201a8\\\"],[0.3333333333333333,\\\"#9c179e\\\"],[0.4444444444444444,\\\"#bd3786\\\"],[0.5555555555555556,\\\"#d8576b\\\"],[0.6666666666666666,\\\"#ed7953\\\"],[0.7777777777777778,\\\"#fb9f3a\\\"],[0.8888888888888888,\\\"#fdca26\\\"],[1.0,\\\"#f0f921\\\"]]}],\\\"scatterternary\\\":[{\\\"type\\\":\\\"scatterternary\\\",\\\"marker\\\":{\\\"colorbar\\\":{\\\"ticks\\\":\\\"\\\",\\\"outlinewidth\\\":0}}}],\\\"scatterpolargl\\\":[{\\\"type\\\":\\\"scatterpolargl\\\",\\\"marker\\\":{\\\"colorbar\\\":{\\\"ticks\\\":\\\"\\\",\\\"outlinewidth\\\":0}}}]}},\\\"yaxis\\\":{\\\"showgrid\\\":false,\\\"zeroline\\\":false,\\\"tickvals\\\":[],\\\"scaleanchor\\\":\\\"x\\\",\\\"scaleratio\\\":1,\\\"title\\\":{\\\"text\\\":\\\"\\\"},\\\"showbackground\\\":false,\\\"range\\\":[-7.738877287399329,7.738877287399329]},\\\"autosize\\\":false,\\\"annotations\\\":[{\\\"arrowcolor\\\":\\\"rgb(39,60,117)\\\",\\\"showarrow\\\":true,\\\"yref\\\":\\\"ay\\\",\\\"arrowsize\\\":0.5,\\\"arrowhead\\\":2,\\\"axref\\\":\\\"x\\\",\\\"y\\\":-7.617957329783714,\\\"ax\\\":-1.5304285803297077e-15,\\\"ay\\\":-6.892437584090027,\\\"ayref\\\":\\\"y\\\",\\\"arrowwidth\\\":6,\\\"xref\\\":\\\"ax\\\",\\\"x\\\":-1.6915263256275716e-15},{\\\"arrowcolor\\\":\\\"rgb(39,60,117)\\\",\\\"showarrow\\\":true,\\\"yref\\\":\\\"ay\\\",\\\"arrowsize\\\":0.5,\\\"arrowhead\\\":2,\\\"axref\\\":\\\"x\\\",\\\"y\\\":-3.8089786648918578,\\\"ax\\\":5.969026041820607,\\\"ay\\\":-3.4462187920450145,\\\"ayref\\\":\\\"y\\\",\\\"arrowwidth\\\":6,\\\"xref\\\":\\\"ax\\\",\\\"x\\\":6.5973445725385655},{\\\"arrowcolor\\\":\\\"rgb(194,54,22)\\\",\\\"showarrow\\\":true,\\\"yref\\\":\\\"ay\\\",\\\"arrowsize\\\":0.5,\\\"arrowhead\\\":2,\\\"axref\\\":\\\"x\\\",\\\"y\\\":0.0,\\\"ax\\\":5.277069823326921,\\\"ay\\\":0.0,\\\"ayref\\\":\\\"y\\\",\\\"arrowwidth\\\":6,\\\"xref\\\":\\\"ax\\\",\\\"x\\\":6.002589569020608},{\\\"arrowcolor\\\":\\\"rgb(194,54,22)\\\",\\\"showarrow\\\":true,\\\"yref\\\":\\\"ay\\\",\\\"arrowsize\\\":0.5,\\\"arrowhead\\\":2,\\\"axref\\\":\\\"x\\\",\\\"y\\\":5.441398092702652,\\\"ax\\\":0.0,\\\"ay\\\":4.715878347008966,\\\"ayref\\\":\\\"y\\\",\\\"arrowwidth\\\":6,\\\"xref\\\":\\\"ax\\\",\\\"x\\\":0.0}],\\\"plot_bgcolor\\\":\\\"rgba(255, 255, 255, 1)\\\",\\\"margin\\\":{\\\"l\\\":50,\\\"b\\\":50,\\\"r\\\":50,\\\"t\\\":60},\\\"aspectmode\\\":\\\"data\\\"},{\\\"displaylogo\\\":false,\\\"showLink\\\":false,\\\"editable\\\":false,\\\"responsive\\\":true,\\\"staticPlot\\\":false,\\\"scrollZoom\\\":true}); gd.on(\\\"plotly_hover\\\",(function (data){var filtered_data=WebIO.PlotlyCommands.filterEventData(gd,data,\\\"hover\\\"); return !(filtered_data.isnil) ? (WebIO.setval({\\\"name\\\":\\\"hover\\\",\\\"scope\\\":\\\"9257965579206030750\\\",\\\"id\\\":\\\"11\\\",\\\"type\\\":\\\"observable\\\"},filtered_data.out)) : undefined})); gd.on(\\\"plotly_unhover\\\",(function (){return WebIO.setval({\\\"name\\\":\\\"hover\\\",\\\"scope\\\":\\\"9257965579206030750\\\",\\\"id\\\":\\\"11\\\",\\\"type\\\":\\\"observable\\\"},{})})); gd.on(\\\"plotly_selected\\\",(function (data){var filtered_data=WebIO.PlotlyCommands.filterEventData(gd,data,\\\"selected\\\"); return !(filtered_data.isnil) ? (WebIO.setval({\\\"name\\\":\\\"selected\\\",\\\"scope\\\":\\\"9257965579206030750\\\",\\\"id\\\":\\\"12\\\",\\\"type\\\":\\\"observable\\\"},filtered_data.out)) : undefined})); gd.on(\\\"plotly_deselect\\\",(function (){return WebIO.setval({\\\"name\\\":\\\"selected\\\",\\\"scope\\\":\\\"9257965579206030750\\\",\\\"id\\\":\\\"12\\\",\\\"type\\\":\\\"observable\\\"},{})})); gd.on(\\\"plotly_relayout\\\",(function (data){var filtered_data=WebIO.PlotlyCommands.filterEventData(gd,data,\\\"relayout\\\"); return !(filtered_data.isnil) ? (WebIO.setval({\\\"name\\\":\\\"relayout\\\",\\\"scope\\\":\\\"9257965579206030750\\\",\\\"id\\\":\\\"14\\\",\\\"type\\\":\\\"observable\\\"},filtered_data.out)) : undefined})); return gd.on(\\\"plotly_click\\\",(function (data){var filtered_data=WebIO.PlotlyCommands.filterEventData(gd,data,\\\"click\\\"); return !(filtered_data.isnil) ? (WebIO.setval({\\\"name\\\":\\\"click\\\",\\\"scope\\\":\\\"9257965579206030750\\\",\\\"id\\\":\\\"13\\\",\\\"type\\\":\\\"observable\\\"},filtered_data.out)) : undefined}))}));\\n    (WebIO.importBlock({\\\"data\\\":[{\\\"name\\\":\\\"Plotly\\\",\\\"type\\\":\\\"js\\\",\\\"url\\\":\\\"\\/assetserver\\/b267c3137400db01c304fe886fe6f707be7fdb37-plotly.min.js\\\"},{\\\"name\\\":null,\\\"type\\\":\\\"js\\\",\\\"url\\\":\\\"\\/assetserver\\/020f2e8a4619f2ae880fff9315e6547eef1aff0b-plotly_webio.bundle.js\\\"}],\\\"type\\\":\\\"async_block\\\"})).then((imports) => handler.apply(this, imports));\\n}\\n\"],\"observables\":{\"_toImage\":{\"sync\":false,\"id\":\"18\",\"value\":{}},\"hover\":{\"sync\":false,\"id\":\"11\",\"value\":{}},\"selected\":{\"sync\":false,\"id\":\"12\",\"value\":{}},\"__gd_contents\":{\"sync\":false,\"id\":\"16\",\"value\":{}},\"click\":{\"sync\":false,\"id\":\"13\",\"value\":{}},\"image\":{\"sync\":true,\"id\":\"15\",\"value\":\"\"},\"__get_gd_contents\":{\"sync\":false,\"id\":\"20\",\"value\":\"\"},\"_downloadImage\":{\"sync\":false,\"id\":\"19\",\"value\":{}},\"relayout\":{\"sync\":false,\"id\":\"14\",\"value\":{}},\"_commands\":{\"sync\":false,\"id\":\"17\",\"value\":[]}}},\"children\":[{\"props\":{\"id\":\"plot-09f8132e-d771-46a6-af9a-8590058b5026\"},\"nodeType\":\"DOM\",\"type\":\"node\",\"instanceArgs\":{\"namespace\":\"html\",\"tag\":\"div\"},\"children\":[]}]},\n",
       "        window,\n",
       "    );\n",
       "    })()\n",
       "    </script>\n",
       "</div>\n"
      ],
      "text/plain": [
       "data: [\n",
       "  \"scatter with fields hoverinfo, hovertext, line, mode, type, x, and y\",\n",
       "  \"scatter with fields hoverinfo, hovertext, line, mode, type, x, and y\",\n",
       "  \"scatter with fields hoverinfo, hovertext, line, mode, type, x, and y\",\n",
       "  \"scatter with fields hoverinfo, hovertext, line, mode, type, x, and y\",\n",
       "  \"scatter with fields hoverinfo, hovertext, line, mode, type, x, and y\",\n",
       "  \"scatter with fields hoverinfo, hovertext, line, mode, type, x, and y\",\n",
       "  \"scatter with fields hoverinfo, hovertext, line, mode, type, x, and y\",\n",
       "  \"scatter with fields hoverinfo, hovertext, line, mode, type, x, and y\",\n",
       "  \"scatter with fields hoverinfo, hovertext, line, mode, type, x, and y\"\n",
       "]\n",
       "\n",
       "layout: \"layout with fields annotations, aspectmode, autosize, hovermode, margin, paper_bgcolor, plot_bgcolor, showlegend, template, xaxis, and yaxis\"\n",
       "\n"
      ]
     },
     "metadata": {},
     "output_type": "display_data"
    }
   ],
   "source": [
    "# Useful C_3 rotation\n",
    "global const C_3::Matrix{Float64} = [cos(2.0*pi/3.0) -sin(2.0*pi/3.0); sin(2.0*pi/3.0) cos(2.0*pi/3.0)]\n",
    "\n",
    "# Useful C_6 rotation\n",
    "global const C_6::Matrix{Float64} = [cos(pi/3.0) -sin(pi/3.0); sin(pi/3.0) cos(pi/3.0)]\n",
    "\n",
    "\n",
    "# Reciprocal and Direct Lattice   R1 and R2 are the basis vectors in the real space ! \n",
    "global const R1::Vector{Float64} = [-0.5, -0.5 * sqrt(3.0)]\n",
    "global const R2::Vector{Float64} = C_3 * R1\n",
    "global const R3::Vector{Float64} = C_3 * R2;\n",
    "\n",
    "# Now, the reciprocal lattice \n",
    "global const R::Matrix{Float64} = [R1 R2]';\n",
    "global const G::Matrix{Float64} = 2.0 * pi * inv(R');\n",
    "\n",
    "let\n",
    "    print(\"--- Plotting the Wigner-Seitz cell in real space. \\n\")\n",
    "    print(\"\\n\")\n",
    "\n",
    "    As = [R[i, :] for i ∈ 1 : size(R, 1)]\n",
    "    real_wignerseitz = wignerseitz(As)\n",
    "\n",
    "    vertices = real_wignerseitz.verts\n",
    "\n",
    "    print(\"--- Vertices of the real Wigner-Seitz cell (in reduced coordinates): \\n\")\n",
    "    for v ∈ vertices\n",
    "        @printf(\"%10f %10f \\n\", v[1], v[2])\n",
    "    end\n",
    "    print(\"\\n\")\n",
    "\n",
    "    pbzb = PlotlyJS.plot(real_wignerseitz)\n",
    "    display(pbzb)\n",
    "\n",
    "end\n",
    "\n",
    "let\n",
    "    print(\"--- Plotting the Wigner-Seitz cell in reciprocal space. \\n\")\n",
    "    print(\"\\n\")\n",
    "\n",
    "    G1 = G[1, :]; G2 = G[2, :]\n",
    "    Gs = [G[i, :] for i ∈ 1 : size(G, 1)]\n",
    "    recip_wignerseitz = wignerseitz(Gs)\n",
    "\n",
    "    vertices = recip_wignerseitz.verts\n",
    "\n",
    "    # Here, we want the cartesian coordinates of the corners (vertices of the FBZ). We also need the cartesian coordinates of the M point \n",
    "    global cart_v::Vector{Vector{Float64}} = similar(vertices)\n",
    "    for i ∈ 1:size(cart_v, 1)\n",
    "        red_v = vertices[i]\n",
    "        cart_v[i] = red_v[1] * G1 + red_v[2] * G2\n",
    "    end\n",
    "\n",
    "    print(\"--- Vertices of the reciprocal space Wigner-Seitz cell (in reduced coordinates): \\n\")\n",
    "    for v ∈ vertices\n",
    "        @printf(\"%10f %10f \\n\", v[1], v[2])\n",
    "    end\n",
    "    print(\"\\n\")\n",
    "\n",
    "    print(\"--- Vertices of the reciprocal space Wigner-Seitz cell (in cartesian coordinates): \\n\")\n",
    "    for v ∈ cart_v\n",
    "        @printf(\"%10f %10f \\n\", v[1], v[2])\n",
    "    end\n",
    "    print(\"\\n\")\n",
    "\n",
    "    pbzb = PlotlyJS.plot(recip_wignerseitz)\n",
    "    display(pbzb)\n",
    "\n",
    "end"
   ]
  },
  {
   "cell_type": "code",
   "execution_count": 3,
   "metadata": {},
   "outputs": [
    {
     "data": {
      "text/plain": [
       "Dict{String, SVector{2, Float64}} with 3 entries:\n",
       "  \"M\" => [3.14159, 1.8138]\n",
       "  \"Γ\" => [0.0, 0.0]\n",
       "  \"K\" => [4.18879, -8.88178e-16]"
      ]
     },
     "metadata": {},
     "output_type": "display_data"
    }
   ],
   "source": [
    "\n",
    "global const cK::SVector{2, Float64} = SVector{2, Float64}(cart_v[2])\n",
    "global const cK_I::SVector{2, Float64} = @SVector [2.094395, 3.627599]\n",
    "# Now, the K-Points \n",
    "global const high_symmetry_points = Dict{String, SVector{2, Float64}}(\n",
    "    \"K\"=> cK, \n",
    "    \"M\"=> (cK + cK_I) / 2.0,\n",
    "    \"Γ\"=> [0.0, 0.0] \n",
    ")\n"
   ]
  },
  {
   "cell_type": "markdown",
   "metadata": {},
   "source": [
    "### Parameters and Construction of the Hamiltonian \n",
    "\n",
    "In the kagome system, there is a periodic pattern of corner-sharing upright triangles and inverted triangles. We want to consider strong Breathing anisotropy. We consider the model \n",
    "discussed in Bolens and Nagosa "
   ]
  },
  {
   "cell_type": "code",
   "execution_count": 4,
   "metadata": {},
   "outputs": [],
   "source": [
    "struct Params\n",
    "\n",
    "    # we will use unicode characters to name the variables \n",
    "\n",
    "    # Parameters for the upright triangle \n",
    "    t1Δ::Float64\n",
    "    t2Δ::Float64\n",
    "    t3Δ::Float64\n",
    "    # Parameters for the inverted triangle \n",
    "    t1∇::Float64\n",
    "    t2∇::Float64\n",
    "    t3∇::Float64\n",
    "    \n",
    "\n",
    "end\n"
   ]
  },
  {
   "cell_type": "markdown",
   "metadata": {},
   "source": [
    "### Symmetry \n",
    "\n",
    "We will find the constraints imposed by C_3 on possible Bloch Hamiltonians. In the next few code blocks, we define both C_3 and mirror "
   ]
  },
  {
   "cell_type": "code",
   "execution_count": 5,
   "metadata": {},
   "outputs": [
    {
     "data": {
      "text/plain": [
       "3×3 Matrix{Float64}:\n",
       " 1.0  0.0  0.0\n",
       " 0.0  1.0  0.0\n",
       " 0.0  0.0  1.0"
      ]
     },
     "metadata": {},
     "output_type": "display_data"
    }
   ],
   "source": [
    "## How C_3 rotates the atomic sites \n",
    "global const C3_abc::Matrix{Float64} = [0.0 0.0 1.0; 1.0 0.0 0.0; 0.0 1.0 0.0]; \n",
    "## Check that it is order 3 (It is a cyclic permutation)\n",
    "C3_abc^3\n"
   ]
  },
  {
   "cell_type": "code",
   "execution_count": 6,
   "metadata": {},
   "outputs": [
    {
     "data": {
      "text/latex": [
       "$$ \\begin{equation}\n",
       "\\left[\n",
       "\\begin{array}{ccc}\n",
       "0 & \\mathtt{{\\phi}1c} & \\mathtt{{\\phi}3} \\\\\n",
       "\\mathtt{{\\phi}1} & 0 & \\mathtt{{\\phi}2c} \\\\\n",
       "\\mathtt{{\\phi}3c} & \\mathtt{{\\phi}2} & 0 \\\\\n",
       "\\end{array}\n",
       "\\right]\n",
       "\\end{equation}\n",
       " $$"
      ],
      "text/plain": [
       "3×3 Matrix{Num}:\n",
       "   0  ϕ1c   ϕ3\n",
       "  ϕ1    0  ϕ2c\n",
       " ϕ3c   ϕ2    0"
      ]
     },
     "metadata": {},
     "output_type": "display_data"
    }
   ],
   "source": [
    "@variables ϕ1 ϕ2 ϕ3 ϕ1c ϕ2c ϕ3c H\n",
    "H = [0 ϕ1c ϕ3; ϕ1 0 ϕ2c; ϕ3c ϕ2 0]\n",
    "H"
   ]
  },
  {
   "cell_type": "code",
   "execution_count": 7,
   "metadata": {},
   "outputs": [
    {
     "data": {
      "text/latex": [
       "$$ \\begin{equation}\n",
       "\\left[\n",
       "\\begin{array}{ccc}\n",
       "0 & \\mathtt{{\\phi}3c} & \\mathtt{{\\phi}2} \\\\\n",
       "\\mathtt{{\\phi}3} & 0 & \\mathtt{{\\phi}1c} \\\\\n",
       "\\mathtt{{\\phi}2c} & \\mathtt{{\\phi}1} & 0 \\\\\n",
       "\\end{array}\n",
       "\\right]\n",
       "\\end{equation}\n",
       " $$"
      ],
      "text/plain": [
       "3×3 Matrix{Num}:\n",
       " 0.0  ϕ3c   ϕ2\n",
       "  ϕ3  0.0  ϕ1c\n",
       " ϕ2c   ϕ1  0.0"
      ]
     },
     "metadata": {},
     "output_type": "display_data"
    }
   ],
   "source": [
    "## Conjugation of the Hamiltonian by the C3 action \n",
    "C3_abc * H * inv(C3_abc)"
   ]
  },
  {
   "cell_type": "code",
   "execution_count": 8,
   "metadata": {},
   "outputs": [
    {
     "data": {
      "text/plain": [
       "3×3 Matrix{Float64}:\n",
       " 1.0  0.0  0.0\n",
       " 0.0  0.0  1.0\n",
       " 0.0  1.0  0.0"
      ]
     },
     "metadata": {},
     "output_type": "display_data"
    }
   ],
   "source": [
    "## Mirror M_001\n",
    "M_001_abc::Matrix{Float64} = [1.0 0.0 0.0; 0.0 0.0 1.0; 0.0 1.0 0.0]"
   ]
  },
  {
   "cell_type": "code",
   "execution_count": 9,
   "metadata": {},
   "outputs": [
    {
     "name": "stdout",
     "output_type": "stream",
     "text": [
      "k₁ = -0.5kx - 0.8660254037844386ky\n",
      "k₂ = 0.9999999999999999kx - 2.220446049250313e-16ky\n",
      "k₃ = -0.49999999999999956kx + 0.8660254037844387ky\n"
     ]
    }
   ],
   "source": [
    "# print k1, k2, k2 \n",
    "let R1 = R1, R2 = R2, R3 = R3\n",
    "    @variables k k1 k2 k3 kx ky \n",
    "    k = [kx ky]\n",
    "    k1 = dot(k, R1); k2 = dot(k, R2); k3 = dot(k, R3)\n",
    "    println(\"k₁ = \", k1)\n",
    "    println(\"k₂ = \", k2)\n",
    "    println(\"k₃ = \", k3)\n",
    "end"
   ]
  },
  {
   "cell_type": "markdown",
   "metadata": {},
   "source": [
    "We now would like to test whether the breathing anisotropy breaks C2 symmetry. There are many ways to do this. One simple method is to just plot the energies of the model,\n",
    "and observe whether or not the spectra at C_2 related points are the same. One can also test this directly by diagonalizing the Hamiltonian at a random set of pairs with each pair being on the same C_2 orbit i.e. antipodal pairs (k, -k)"
   ]
  },
  {
   "cell_type": "code",
   "execution_count": 10,
   "metadata": {},
   "outputs": [
    {
     "data": {
      "text/plain": [
       "EigensystemHamBreathingKagomeNoSOC (generic function with 1 method)"
      ]
     },
     "metadata": {},
     "output_type": "display_data"
    }
   ],
   "source": [
    "global const T1u  = @SArray ComplexF64[0.0 1.0 0.0; 0.0 0.0 0.0; 0.0 0.0 0.0]\n",
    "global const T2u  = @SArray ComplexF64[0.0 0.0 1.0; 0.0 0.0 0.0; 0.0 0.0 0.0]\n",
    "global const T3u  = @SArray ComplexF64[0.0 0.0 0.0; 0.0 0.0 1.0; 0.0 0.0 0.0];\n",
    "\n",
    "# Implement the Hamiltonian in Nagosa's paper without spin-orbit interaction or magnetism \n",
    "@inline function HamBreathingKagomeNoSOC(k::Vector{Float64}, p::Params)\n",
    "    kx::Float64 = k[1]; ky::Float64 = k[2] \n",
    "    Ham::SMatrix{3, 3, ComplexF64} = SMatrix{3, 3, ComplexF64}((p.t1Δ + p.t1∇ * exp(im * (0.5 * kx + 0.5 * sqrt(3.0) * ky))) * T1u + (p.t2Δ + p.t2∇ * exp(-im * kx)) * T3u + \n",
    "    (p.t3Δ + p.t3∇ * exp(im * (-0.5 * kx + 0.5 * sqrt(3.0) * ky))) * T2u)\n",
    "    Hermitian(Ham + Ham')\n",
    "end\n",
    "\n",
    "@inline function HamBreathingKagomeNoSOC(k::SVector{2, Float64}, p::Params)\n",
    "    kx::Float64 = k[1]; ky::Float64 = k[2] \n",
    "    Ham::SMatrix{3, 3, ComplexF64} = SMatrix{3, 3, ComplexF64}((p.t1Δ + p.t1∇ * exp(im * (0.5 * kx + 0.5 * sqrt(3.0) * ky))) * T1u + (p.t2Δ + p.t2∇ * exp(-im * kx)) * T3u + \n",
    "    (p.t3Δ + p.t3∇ * exp(im * (-0.5 * kx + 0.5 * sqrt(3.0) * ky))) * T2u)\n",
    "    Hermitian(Ham + Ham')\n",
    "end\n",
    "\n",
    "\n",
    "@inline function EvalsHamBreathingKagomeNoSOC(k::SVector{2, Float64}, p::Params)\n",
    "    kx::Float64 = k[1]; ky::Float64 = k[2] \n",
    "    Ham::SMatrix{3, 3, ComplexF64} = SMatrix{3, 3, ComplexF64}((p.t1Δ + p.t1∇ * exp(im * (0.5 * kx + 0.5 * sqrt(3.0) * ky))) * T1u + (p.t2Δ + p.t2∇ * exp(-im * kx)) * T3u + \n",
    "    (p.t3Δ + p.t3∇ * exp(im * (-0.5 * kx + 0.5 * sqrt(3.0) * ky))) * T2u)\n",
    "    eigvals(Hermitian(Ham + Ham'))\n",
    "end\n",
    "\n",
    "@inline function EvalsHamBreathingKagomeNoSOC(k::Vector{Float64}, p::Params)\n",
    "    kx::Float64 = k[1]; ky::Float64 = k[2] \n",
    "    Ham::SMatrix{3, 3, ComplexF64} = SMatrix{3, 3, ComplexF64}((p.t1Δ + p.t1∇ * exp(im * (0.5 * kx + 0.5 * sqrt(3.0) * ky))) * T1u + (p.t2Δ + p.t2∇ * exp(-im * kx)) * T3u + \n",
    "    (p.t3Δ + p.t3∇ * exp(im * (-0.5 * kx + 0.5 * sqrt(3.0) * ky))) * T2u)\n",
    "    eigvals(Hermitian(Ham + Ham'))\n",
    "end\n",
    "\n",
    "@inline function EigensystemHamBreathingKagomeNoSOC(k::Vector{Float64}, p::Params)\n",
    "    kx::Float64 = k[1]; ky::Float64 = k[2] \n",
    "    Ham::SMatrix{3, 3, ComplexF64} = SMatrix{3, 3, ComplexF64}((p.t1Δ + p.t1∇ * exp(im * (0.5 * kx + 0.5 * sqrt(3.0) * ky))) * T1u + (p.t2Δ + p.t2∇ * exp(-im * kx)) * T3u + \n",
    "    (p.t3Δ + p.t3∇ * exp(im * (-0.5 * kx + 0.5 * sqrt(3.0) * ky))) * T2u)\n",
    "    eigen(Hermitian(Ham + Ham'))\n",
    "end\n",
    "\n"
   ]
  },
  {
   "cell_type": "code",
   "execution_count": 11,
   "metadata": {},
   "outputs": [
    {
     "data": {
      "text/plain": [
       "plot_simple_kagome_bands (generic function with 1 method)"
      ]
     },
     "metadata": {},
     "output_type": "display_data"
    }
   ],
   "source": [
    "function plot_simple_kagome_bands(;p, seedname, kpath, title = Nothing)\n",
    "    if title == Nothing\n",
    "        title = seedname\n",
    "    end\n",
    "    eks = EvalsHamBreathingKagomeNoSOC.(kpath, Ref(p))\n",
    "\n",
    "    nps_x = size(kpath, 1)\n",
    "    xs = 1 : nps_x\n",
    "    \n",
    "    t1 = PlotlyJS.scatter(x = xs, y = map(e->e[1], eks), mode = \"lines\", line = attr(color = \"purple\", width = 4))\n",
    "    t2 = PlotlyJS.scatter(x = xs, y = map(e->e[2], eks), mode = \"lines\", line = attr(color = \"purple\", width = 4))\n",
    "    t3 = PlotlyJS.scatter(x = xs, y = map(e->e[3], eks), mode = \"lines\", line = attr(color = \"purple\", width = 4))\n",
    "    lo = PlotlyJS.Layout(title = title,\n",
    "                xaxis_showgrid = true,\n",
    "                yaxis_showgrid = true,\n",
    "                plot_bgcolor=\"rgba(0,0,0,0)\",\n",
    "                xaxis = attr(showgrid = true, showticklabels = false, linecolor = \"black\", linewidth = 5, showline = true, mirror = true),\n",
    "                yaxis = attr(showgrid = true, showticklabels = true, linecolor = \"black\", linewidth = 5, showline = true, mirror = true),\n",
    "                width = 510, \n",
    "                height = 510,\n",
    "                showlegend = false)\n",
    "    \n",
    "    p = PlotlyJS.plot([t1, t2, t3], lo)\n",
    "    #PlotlyJS.savefig(p, assets_dir * seedname * \".png\")\n",
    "    display(p)\n",
    "end"
   ]
  },
  {
   "cell_type": "code",
   "execution_count": 12,
   "metadata": {},
   "outputs": [
    {
     "name": "stdout",
     "output_type": "stream",
     "text": [
      "t1Δ = 1.0\n",
      "t2Δ = 1.0\n",
      "t3Δ = 1.0\n",
      "t1∇ = 1.0\n",
      "t2∇ = 1.0\n",
      "t3∇ = 1.0\n"
     ]
    },
    {
     "data": {
      "application/vnd.plotly.v1+json": {
       "config": {
        "editable": false,
        "responsive": true,
        "scrollZoom": true,
        "showLink": false,
        "staticPlot": false
       },
       "data": [
        {
         "line": {
          "color": "purple",
          "width": 4
         },
         "mode": "lines",
         "type": "scatter",
         "x": [
          1,
          2,
          3,
          4,
          5,
          6,
          7,
          8,
          9,
          10,
          11,
          12,
          13,
          14,
          15,
          16,
          17,
          18,
          19,
          20,
          21,
          22,
          23,
          24,
          25,
          26,
          27,
          28,
          29,
          30,
          31,
          32,
          33,
          34,
          35,
          36,
          37,
          38,
          39,
          40,
          41,
          42,
          43,
          44,
          45,
          46,
          47,
          48,
          49,
          50,
          51,
          52,
          53,
          54,
          55,
          56,
          57,
          58,
          59,
          60,
          61,
          62,
          63,
          64,
          65,
          66,
          67,
          68,
          69,
          70,
          71,
          72,
          73,
          74,
          75,
          76,
          77,
          78,
          79,
          80,
          81,
          82,
          83,
          84,
          85,
          86,
          87,
          88,
          89,
          90,
          91,
          92,
          93,
          94,
          95,
          96,
          97,
          98,
          99,
          100
         ],
         "y": [
          -1.9999999999999991,
          -2.000000000000175,
          -2.000000000000002,
          -1.9999999999999911,
          -2.0000000000000266,
          -1.9999999999999973,
          -2,
          -2.0000000000000084,
          -2.000000000000005,
          -2.0000000000000018,
          -1.9999999999999976,
          -1.999999999999998,
          -1.999999999999998,
          -2,
          -1.9999999999999993,
          -1.9999999999999998,
          -1.9999999999999998,
          -1.9999999999999993,
          -1.9999999999999991,
          -1.9999999999999991,
          -1.9999999999999987,
          -1.9999999999999993,
          -1.9999999999999991,
          -1.999999999999999,
          -1.9999999999999993,
          -1.9999999999999998,
          -1.9999999999999993,
          -1.9999999999999991,
          -2,
          -1.9999999999999998,
          -1.9999999999999996,
          -1.9999999999999998,
          -2,
          -2,
          -2,
          -1.9999999999999998,
          -1.9999999999999998,
          -2,
          -1.9999999999999998,
          -2,
          -2.0000000000000004,
          -2,
          -1.9999999999999998,
          -2,
          -1.9999999999999998,
          -2,
          -1.9999999999999996,
          -2,
          -2,
          -1.9999999999999996,
          -2,
          -1.9999999999999998,
          -1.9999999999999998,
          -1.9999999999999998,
          -1.9999999999999998,
          -1.9999999999999998,
          -2,
          -1.9999999999999998,
          -1.9999999999999998,
          -1.9999999999999996,
          -1.9999999999999996,
          -1.9999999999999998,
          -1.9999999999999993,
          -1.9999999999999998,
          -1.9999999999999996,
          -1.9999999999999998,
          -2,
          -1.9999999999999998,
          -1.9999999999999998,
          -1.9999999999999998,
          -1.9999999999999996,
          -1.9999999999999996,
          -1.9999999999999996,
          -1.9999999999999996,
          -1.9999999999999991,
          -1.9999999999999996,
          -1.9999999999999996,
          -1.9999999999999998,
          -1.999999999999999,
          -2,
          -1.9999999999999987,
          -1.9999999999999996,
          -2.0000000000000004,
          -1.9999999999999984,
          -1.9999999999999998,
          -2.0000000000000018,
          -2.0000000000000013,
          -2.0000000000000013,
          -1.9999999999999976,
          -1.9999999999999947,
          -2.000000000000002,
          -1.9999999999999933,
          -2.000000000000009,
          -1.999999999999991,
          -1.9999999999999882,
          -1.9999999999999953,
          -2.000000000000032,
          -1.9999999999998996,
          -2.0000000000000893,
          -1.9999999999999991
         ]
        },
        {
         "line": {
          "color": "purple",
          "width": 4
         },
         "mode": "lines",
         "type": "scatter",
         "x": [
          1,
          2,
          3,
          4,
          5,
          6,
          7,
          8,
          9,
          10,
          11,
          12,
          13,
          14,
          15,
          16,
          17,
          18,
          19,
          20,
          21,
          22,
          23,
          24,
          25,
          26,
          27,
          28,
          29,
          30,
          31,
          32,
          33,
          34,
          35,
          36,
          37,
          38,
          39,
          40,
          41,
          42,
          43,
          44,
          45,
          46,
          47,
          48,
          49,
          50,
          51,
          52,
          53,
          54,
          55,
          56,
          57,
          58,
          59,
          60,
          61,
          62,
          63,
          64,
          65,
          66,
          67,
          68,
          69,
          70,
          71,
          72,
          73,
          74,
          75,
          76,
          77,
          78,
          79,
          80,
          81,
          82,
          83,
          84,
          85,
          86,
          87,
          88,
          89,
          90,
          91,
          92,
          93,
          94,
          95,
          96,
          97,
          98,
          99,
          100
         ],
         "y": [
          -2.000000000000001,
          -1.99751384243767,
          -1.9900615507308008,
          -1.9776616524502653,
          -1.960344975697061,
          -1.9381545724581581,
          -1.9111456115722816,
          -1.8793852415718084,
          -1.84295242374081,
          -1.8019377358048363,
          -1.7564431467404595,
          -1.7065817632643132,
          -1.6524775486319918,
          -1.594265014445845,
          -1.532088886237957,
          -1.4661037436596531,
          -1.3964736361721457,
          -1.3233716751937197,
          -1.246979603717468,
          -1.1674873444695804,
          -1.0850925277315202,
          -1.000000000000001,
          -0.9124213147063269,
          -0.8225742062612238,
          -0.7306820487327907,
          -0.6369733005033693,
          -0.5416809362860111,
          -0.44504186791263,
          -0.34729635533386105,
          -0.2486874092949709,
          -0.1494601871728496,
          -0.04986138347614655,
          0.04986138347614544,
          0.14946018717284804,
          0.24868740929497024,
          0.34729635533386016,
          0.44504186791262823,
          0.54168093628601,
          0.636973300503368,
          0.7306820487327894,
          0.8225742062612227,
          0.9124213147063256,
          0.9999999999999998,
          0.9149074665413075,
          0.832512644459072,
          0.7530203802912967,
          0.6766283043586889,
          0.6035263394244799,
          0.5338962285164408,
          0.46791108308502327,
          0.40573495262095727,
          0.34752241680231055,
          0.2934182011850033,
          0.2435568173922249,
          0.19806222869729617,
          0.15704754183139813,
          0.12061472578238197,
          0.08885435828375865,
          0.06184540062415578,
          0.039655001337082885,
          0.022338329259077083,
          0.009938436371260684,
          0.0024861507653206605,
          4.6629367034256575e-15,
          -0.007581858074941827,
          -0.029936393460620048,
          -0.06597217388294396,
          -0.11410479402056883,
          -0.1725053612545755,
          -0.23931366121634956,
          -0.31278017396585867,
          -0.3913382718615823,
          -0.4736257435313278,
          -0.5584766652499207,
          -0.6448994523064311,
          -0.7320507939749694,
          -0.8192105171775812,
          -0.9057595283400734,
          -0.9911614132541959,
          -1.074947528181775,
          -1.156705122664154,
          -1.2360679683807194,
          -1.3127090030138082,
          -1.3863345689504711,
          -1.4566799033621203,
          -1.5235056059966352,
          -1.586594869760026,
          -1.6457513066149385,
          -1.7007972387776829,
          -1.7515723543803623,
          -1.7979326493551735,
          -1.8397495947398759,
          -1.8769094820760777,
          -1.9093129100082813,
          -1.9368743833128341,
          -1.9595220019530297,
          -1.9771972227914127,
          -1.9898546806262307,
          -1.9974620585036575,
          -2.000000000000001
         ]
        },
        {
         "line": {
          "color": "purple",
          "width": 4
         },
         "mode": "lines",
         "type": "scatter",
         "x": [
          1,
          2,
          3,
          4,
          5,
          6,
          7,
          8,
          9,
          10,
          11,
          12,
          13,
          14,
          15,
          16,
          17,
          18,
          19,
          20,
          21,
          22,
          23,
          24,
          25,
          26,
          27,
          28,
          29,
          30,
          31,
          32,
          33,
          34,
          35,
          36,
          37,
          38,
          39,
          40,
          41,
          42,
          43,
          44,
          45,
          46,
          47,
          48,
          49,
          50,
          51,
          52,
          53,
          54,
          55,
          56,
          57,
          58,
          59,
          60,
          61,
          62,
          63,
          64,
          65,
          66,
          67,
          68,
          69,
          70,
          71,
          72,
          73,
          74,
          75,
          76,
          77,
          78,
          79,
          80,
          81,
          82,
          83,
          84,
          85,
          86,
          87,
          88,
          89,
          90,
          91,
          92,
          93,
          94,
          95,
          96,
          97,
          98,
          99,
          100
         ],
         "y": [
          4,
          3.997513842437845,
          3.990061550730803,
          3.9776616524502564,
          3.9603449756970877,
          3.9381545724581555,
          3.9111456115722816,
          3.879385241571817,
          3.842952423740815,
          3.801937735804838,
          3.756443146740457,
          3.706581763264311,
          3.65247754863199,
          3.594265014445845,
          3.5320888862379562,
          3.466103743659653,
          3.3964736361721455,
          3.323371675193719,
          3.246979603717467,
          3.1674873444695795,
          3.085092527731519,
          3.0000000000000004,
          2.912421314706326,
          2.8225742062612227,
          2.73068204873279,
          2.636973300503369,
          2.5416809362860104,
          2.445041867912629,
          2.347296355333861,
          2.2486874092949707,
          2.149460187172849,
          2.0498613834761463,
          1.9501386165238546,
          1.850539812827152,
          1.7513125907050298,
          1.6527036446661396,
          1.5549581320873715,
          1.45831906371399,
          1.3630266994966318,
          1.2693179512672106,
          1.1774257937387778,
          1.0875786852936744,
          1,
          1.0850925334586925,
          1.1674873555409278,
          1.2469796197087033,
          1.3233716956413106,
          1.3964736605755201,
          1.4661037714835592,
          1.5320889169149763,
          1.5942650473790427,
          1.6524775831976892,
          1.7065817988149965,
          1.7564431826077749,
          1.8019377713027036,
          1.8429524581686016,
          1.879385274217618,
          1.9111456417162411,
          1.938154599375844,
          1.9603449986629167,
          1.9776616707409225,
          1.990061563628739,
          1.9975138492346787,
          1.9999999999999951,
          2.0075818580749414,
          2.02993639346062,
          2.065972173882944,
          2.1141047940205686,
          2.1725053612545753,
          2.2393136612163493,
          2.312780173965858,
          2.391338271861582,
          2.4736257435313274,
          2.5584766652499202,
          2.64489945230643,
          2.732050793974969,
          2.8192105171775808,
          2.9057595283400732,
          2.991161413254195,
          3.074947528181775,
          3.1567051226641527,
          3.236067968380719,
          3.3127090030138087,
          3.3863345689504696,
          3.45667990336212,
          3.523505605996637,
          3.5865948697600274,
          3.64575130661494,
          3.7007972387776804,
          3.751572354380357,
          3.7979326493551757,
          3.839749594739869,
          3.8769094820760865,
          3.909312910008272,
          3.9368743833128224,
          3.959522001953025,
          3.9771972227914447,
          3.9898546806261304,
          3.997462058503747,
          4
         ]
        }
       ],
       "frames": [],
       "layout": {
        "height": 510,
        "margin": {
         "b": 50,
         "l": 50,
         "r": 50,
         "t": 60
        },
        "plot_bgcolor": "rgba(0,0,0,0)",
        "showlegend": false,
        "template": {
         "data": {
          "bar": [
           {
            "error_x": {
             "color": "#2a3f5f"
            },
            "error_y": {
             "color": "#2a3f5f"
            },
            "marker": {
             "line": {
              "color": "#E5ECF6",
              "width": 0.5
             }
            },
            "type": "bar"
           }
          ],
          "barpolar": [
           {
            "marker": {
             "line": {
              "color": "#E5ECF6",
              "width": 0.5
             }
            },
            "type": "barpolar"
           }
          ],
          "carpet": [
           {
            "aaxis": {
             "endlinecolor": "#2a3f5f",
             "gridcolor": "white",
             "linecolor": "white",
             "minorgridcolor": "white",
             "startlinecolor": "#2a3f5f"
            },
            "baxis": {
             "endlinecolor": "#2a3f5f",
             "gridcolor": "white",
             "linecolor": "white",
             "minorgridcolor": "white",
             "startlinecolor": "#2a3f5f"
            },
            "type": "carpet"
           }
          ],
          "choropleth": [
           {
            "colorbar": {
             "outlinewidth": 0,
             "ticks": ""
            },
            "type": "choropleth"
           }
          ],
          "contour": [
           {
            "colorbar": {
             "outlinewidth": 0,
             "ticks": ""
            },
            "colorscale": [
             [
              0,
              "#0d0887"
             ],
             [
              0.1111111111111111,
              "#46039f"
             ],
             [
              0.2222222222222222,
              "#7201a8"
             ],
             [
              0.3333333333333333,
              "#9c179e"
             ],
             [
              0.4444444444444444,
              "#bd3786"
             ],
             [
              0.5555555555555556,
              "#d8576b"
             ],
             [
              0.6666666666666666,
              "#ed7953"
             ],
             [
              0.7777777777777778,
              "#fb9f3a"
             ],
             [
              0.8888888888888888,
              "#fdca26"
             ],
             [
              1,
              "#f0f921"
             ]
            ],
            "type": "contour"
           }
          ],
          "contourcarpet": [
           {
            "colorbar": {
             "outlinewidth": 0,
             "ticks": ""
            },
            "type": "contourcarpet"
           }
          ],
          "heatmap": [
           {
            "colorbar": {
             "outlinewidth": 0,
             "ticks": ""
            },
            "colorscale": [
             [
              0,
              "#0d0887"
             ],
             [
              0.1111111111111111,
              "#46039f"
             ],
             [
              0.2222222222222222,
              "#7201a8"
             ],
             [
              0.3333333333333333,
              "#9c179e"
             ],
             [
              0.4444444444444444,
              "#bd3786"
             ],
             [
              0.5555555555555556,
              "#d8576b"
             ],
             [
              0.6666666666666666,
              "#ed7953"
             ],
             [
              0.7777777777777778,
              "#fb9f3a"
             ],
             [
              0.8888888888888888,
              "#fdca26"
             ],
             [
              1,
              "#f0f921"
             ]
            ],
            "type": "heatmap"
           }
          ],
          "heatmapgl": [
           {
            "colorbar": {
             "outlinewidth": 0,
             "ticks": ""
            },
            "colorscale": [
             [
              0,
              "#0d0887"
             ],
             [
              0.1111111111111111,
              "#46039f"
             ],
             [
              0.2222222222222222,
              "#7201a8"
             ],
             [
              0.3333333333333333,
              "#9c179e"
             ],
             [
              0.4444444444444444,
              "#bd3786"
             ],
             [
              0.5555555555555556,
              "#d8576b"
             ],
             [
              0.6666666666666666,
              "#ed7953"
             ],
             [
              0.7777777777777778,
              "#fb9f3a"
             ],
             [
              0.8888888888888888,
              "#fdca26"
             ],
             [
              1,
              "#f0f921"
             ]
            ],
            "type": "heatmapgl"
           }
          ],
          "histogram": [
           {
            "marker": {
             "colorbar": {
              "outlinewidth": 0,
              "ticks": ""
             }
            },
            "type": "histogram"
           }
          ],
          "histogram2d": [
           {
            "colorbar": {
             "outlinewidth": 0,
             "ticks": ""
            },
            "colorscale": [
             [
              0,
              "#0d0887"
             ],
             [
              0.1111111111111111,
              "#46039f"
             ],
             [
              0.2222222222222222,
              "#7201a8"
             ],
             [
              0.3333333333333333,
              "#9c179e"
             ],
             [
              0.4444444444444444,
              "#bd3786"
             ],
             [
              0.5555555555555556,
              "#d8576b"
             ],
             [
              0.6666666666666666,
              "#ed7953"
             ],
             [
              0.7777777777777778,
              "#fb9f3a"
             ],
             [
              0.8888888888888888,
              "#fdca26"
             ],
             [
              1,
              "#f0f921"
             ]
            ],
            "type": "histogram2d"
           }
          ],
          "histogram2dcontour": [
           {
            "colorbar": {
             "outlinewidth": 0,
             "ticks": ""
            },
            "colorscale": [
             [
              0,
              "#0d0887"
             ],
             [
              0.1111111111111111,
              "#46039f"
             ],
             [
              0.2222222222222222,
              "#7201a8"
             ],
             [
              0.3333333333333333,
              "#9c179e"
             ],
             [
              0.4444444444444444,
              "#bd3786"
             ],
             [
              0.5555555555555556,
              "#d8576b"
             ],
             [
              0.6666666666666666,
              "#ed7953"
             ],
             [
              0.7777777777777778,
              "#fb9f3a"
             ],
             [
              0.8888888888888888,
              "#fdca26"
             ],
             [
              1,
              "#f0f921"
             ]
            ],
            "type": "histogram2dcontour"
           }
          ],
          "mesh3d": [
           {
            "colorbar": {
             "outlinewidth": 0,
             "ticks": ""
            },
            "type": "mesh3d"
           }
          ],
          "parcoords": [
           {
            "line": {
             "colorbar": {
              "outlinewidth": 0,
              "ticks": ""
             }
            },
            "type": "parcoords"
           }
          ],
          "pie": [
           {
            "automargin": true,
            "type": "pie"
           }
          ],
          "scatter": [
           {
            "marker": {
             "colorbar": {
              "outlinewidth": 0,
              "ticks": ""
             }
            },
            "type": "scatter"
           }
          ],
          "scatter3d": [
           {
            "line": {
             "colorbar": {
              "outlinewidth": 0,
              "ticks": ""
             }
            },
            "marker": {
             "colorbar": {
              "outlinewidth": 0,
              "ticks": ""
             }
            },
            "type": "scatter3d"
           }
          ],
          "scattercarpet": [
           {
            "marker": {
             "colorbar": {
              "outlinewidth": 0,
              "ticks": ""
             }
            },
            "type": "scattercarpet"
           }
          ],
          "scattergeo": [
           {
            "marker": {
             "colorbar": {
              "outlinewidth": 0,
              "ticks": ""
             }
            },
            "type": "scattergeo"
           }
          ],
          "scattergl": [
           {
            "marker": {
             "colorbar": {
              "outlinewidth": 0,
              "ticks": ""
             }
            },
            "type": "scattergl"
           }
          ],
          "scattermapbox": [
           {
            "marker": {
             "colorbar": {
              "outlinewidth": 0,
              "ticks": ""
             }
            },
            "type": "scattermapbox"
           }
          ],
          "scatterpolar": [
           {
            "marker": {
             "colorbar": {
              "outlinewidth": 0,
              "ticks": ""
             }
            },
            "type": "scatterpolar"
           }
          ],
          "scatterpolargl": [
           {
            "marker": {
             "colorbar": {
              "outlinewidth": 0,
              "ticks": ""
             }
            },
            "type": "scatterpolargl"
           }
          ],
          "scatterternary": [
           {
            "marker": {
             "colorbar": {
              "outlinewidth": 0,
              "ticks": ""
             }
            },
            "type": "scatterternary"
           }
          ],
          "surface": [
           {
            "colorbar": {
             "outlinewidth": 0,
             "ticks": ""
            },
            "colorscale": [
             [
              0,
              "#0d0887"
             ],
             [
              0.1111111111111111,
              "#46039f"
             ],
             [
              0.2222222222222222,
              "#7201a8"
             ],
             [
              0.3333333333333333,
              "#9c179e"
             ],
             [
              0.4444444444444444,
              "#bd3786"
             ],
             [
              0.5555555555555556,
              "#d8576b"
             ],
             [
              0.6666666666666666,
              "#ed7953"
             ],
             [
              0.7777777777777778,
              "#fb9f3a"
             ],
             [
              0.8888888888888888,
              "#fdca26"
             ],
             [
              1,
              "#f0f921"
             ]
            ],
            "type": "surface"
           }
          ],
          "table": [
           {
            "cells": {
             "fill": {
              "color": "#EBF0F8"
             },
             "line": {
              "color": "white"
             }
            },
            "header": {
             "fill": {
              "color": "#C8D4E3"
             },
             "line": {
              "color": "white"
             }
            },
            "type": "table"
           }
          ]
         },
         "layout": {
          "annotationdefaults": {
           "arrowcolor": "#2a3f5f",
           "arrowhead": 0,
           "arrowwidth": 1
          },
          "autotypenumbers": "strict",
          "coloraxis": {
           "colorbar": {
            "outlinewidth": 0,
            "ticks": ""
           }
          },
          "colorscale": {
           "diverging": [
            [
             0,
             "#8e0152"
            ],
            [
             0.1,
             "#c51b7d"
            ],
            [
             0.2,
             "#de77ae"
            ],
            [
             0.3,
             "#f1b6da"
            ],
            [
             0.4,
             "#fde0ef"
            ],
            [
             0.5,
             "#f7f7f7"
            ],
            [
             0.6,
             "#e6f5d0"
            ],
            [
             0.7,
             "#b8e186"
            ],
            [
             0.8,
             "#7fbc41"
            ],
            [
             0.9,
             "#4d9221"
            ],
            [
             1,
             "#276419"
            ]
           ],
           "sequential": [
            [
             0,
             "#0d0887"
            ],
            [
             0.1111111111111111,
             "#46039f"
            ],
            [
             0.2222222222222222,
             "#7201a8"
            ],
            [
             0.3333333333333333,
             "#9c179e"
            ],
            [
             0.4444444444444444,
             "#bd3786"
            ],
            [
             0.5555555555555556,
             "#d8576b"
            ],
            [
             0.6666666666666666,
             "#ed7953"
            ],
            [
             0.7777777777777778,
             "#fb9f3a"
            ],
            [
             0.8888888888888888,
             "#fdca26"
            ],
            [
             1,
             "#f0f921"
            ]
           ],
           "sequentialminus": [
            [
             0,
             "#0d0887"
            ],
            [
             0.1111111111111111,
             "#46039f"
            ],
            [
             0.2222222222222222,
             "#7201a8"
            ],
            [
             0.3333333333333333,
             "#9c179e"
            ],
            [
             0.4444444444444444,
             "#bd3786"
            ],
            [
             0.5555555555555556,
             "#d8576b"
            ],
            [
             0.6666666666666666,
             "#ed7953"
            ],
            [
             0.7777777777777778,
             "#fb9f3a"
            ],
            [
             0.8888888888888888,
             "#fdca26"
            ],
            [
             1,
             "#f0f921"
            ]
           ]
          },
          "colorway": [
           "#636efa",
           "#EF553B",
           "#00cc96",
           "#ab63fa",
           "#FFA15A",
           "#19d3f3",
           "#FF6692",
           "#B6E880",
           "#FF97FF",
           "#FECB52"
          ],
          "font": {
           "color": "#2a3f5f"
          },
          "geo": {
           "bgcolor": "white",
           "lakecolor": "white",
           "landcolor": "#E5ECF6",
           "showlakes": true,
           "showland": true,
           "subunitcolor": "white"
          },
          "hoverlabel": {
           "align": "left"
          },
          "hovermode": "closest",
          "mapbox": {
           "style": "light"
          },
          "paper_bgcolor": "white",
          "plot_bgcolor": "#E5ECF6",
          "polar": {
           "angularaxis": {
            "gridcolor": "white",
            "linecolor": "white",
            "ticks": ""
           },
           "bgcolor": "#E5ECF6",
           "radialaxis": {
            "gridcolor": "white",
            "linecolor": "white",
            "ticks": ""
           }
          },
          "scene": {
           "xaxis": {
            "backgroundcolor": "#E5ECF6",
            "gridcolor": "white",
            "gridwidth": 2,
            "linecolor": "white",
            "showbackground": true,
            "ticks": "",
            "zerolinecolor": "white"
           },
           "yaxis": {
            "backgroundcolor": "#E5ECF6",
            "gridcolor": "white",
            "gridwidth": 2,
            "linecolor": "white",
            "showbackground": true,
            "ticks": "",
            "zerolinecolor": "white"
           },
           "zaxis": {
            "backgroundcolor": "#E5ECF6",
            "gridcolor": "white",
            "gridwidth": 2,
            "linecolor": "white",
            "showbackground": true,
            "ticks": "",
            "zerolinecolor": "white"
           }
          },
          "shapedefaults": {
           "line": {
            "color": "#2a3f5f"
           }
          },
          "ternary": {
           "aaxis": {
            "gridcolor": "white",
            "linecolor": "white",
            "ticks": ""
           },
           "baxis": {
            "gridcolor": "white",
            "linecolor": "white",
            "ticks": ""
           },
           "bgcolor": "#E5ECF6",
           "caxis": {
            "gridcolor": "white",
            "linecolor": "white",
            "ticks": ""
           }
          },
          "title": {
           "x": 0.05
          },
          "xaxis": {
           "automargin": true,
           "gridcolor": "white",
           "linecolor": "white",
           "ticks": "",
           "title": {
            "standoff": 15
           },
           "zerolinecolor": "white",
           "zerolinewidth": 2
          },
          "yaxis": {
           "automargin": true,
           "gridcolor": "white",
           "linecolor": "white",
           "ticks": "",
           "title": {
            "standoff": 15
           },
           "zerolinecolor": "white",
           "zerolinewidth": 2
          }
         }
        },
        "title": "Standard K Path",
        "width": 510,
        "xaxis": {
         "linecolor": "black",
         "linewidth": 5,
         "mirror": true,
         "showgrid": true,
         "showline": true,
         "showticklabels": false
        },
        "yaxis": {
         "linecolor": "black",
         "linewidth": 5,
         "mirror": true,
         "showgrid": true,
         "showline": true,
         "showticklabels": true
        }
       }
      },
      "image/png": "[encoded data removed]",
      "image/svg+xml": [
       "<svg class=\"main-svg\" xmlns=\"http://www.w3.org/2000/svg\" xmlns:xlink=\"http://www.w3.org/1999/xlink\" width=\"700\" height=\"500\" style=\"\" viewBox=\"0 0 700 500\"><rect x=\"0\" y=\"0\" width=\"700\" height=\"500\" style=\"fill: rgb(255, 255, 255); fill-opacity: 1;\"/><defs id=\"defs-c6c0a1\"><g class=\"clips\"><clipPath id=\"clipc6c0a1xyplot\" class=\"plotclip\"><rect width=\"600\" height=\"390\"/></clipPath><clipPath class=\"axesclip\" id=\"clipc6c0a1x\"><rect x=\"50\" y=\"0\" width=\"600\" height=\"500\"/></clipPath><clipPath class=\"axesclip\" id=\"clipc6c0a1y\"><rect x=\"0\" y=\"60\" width=\"700\" height=\"390\"/></clipPath><clipPath class=\"axesclip\" id=\"clipc6c0a1xy\"><rect x=\"50\" y=\"60\" width=\"600\" height=\"390\"/></clipPath></g><g class=\"gradients\"/><g class=\"patterns\"/></defs><g class=\"bglayer\"><rect class=\"bg\" x=\"50\" y=\"60\" width=\"600\" height=\"390\" style=\"fill: rgb(0, 0, 0); fill-opacity: 0; stroke-width: 0;\"/></g><g class=\"layer-below\"><g class=\"imagelayer\"/><g class=\"shapelayer\"/></g><g class=\"cartesianlayer\"><g class=\"subplot xy\"><g class=\"layer-subplot\"><g class=\"shapelayer\"/><g class=\"imagelayer\"/></g><g class=\"gridlayer\"><g class=\"x\"><path class=\"xgrid crisp\" transform=\"translate(165.15,0)\" d=\"M0,60v390\" style=\"stroke: rgb(255, 255, 255); stroke-opacity: 1; stroke-width: 1px;\"/><path class=\"xgrid crisp\" transform=\"translate(286.36,0)\" d=\"M0,60v390\" style=\"stroke: rgb(255, 255, 255); stroke-opacity: 1; stroke-width: 1px;\"/><path class=\"xgrid crisp\" transform=\"translate(407.58,0)\" d=\"M0,60v390\" style=\"stroke: rgb(255, 255, 255); stroke-opacity: 1; stroke-width: 1px;\"/><path class=\"xgrid crisp\" transform=\"translate(528.79,0)\" d=\"M0,60v390\" style=\"stroke: rgb(255, 255, 255); stroke-opacity: 1; stroke-width: 1px;\"/></g><g class=\"y\"><path class=\"ygrid crisp\" transform=\"translate(0,430.5)\" d=\"M50,0h600\" style=\"stroke: rgb(255, 255, 255); stroke-opacity: 1; stroke-width: 1px;\"/><path class=\"ygrid crisp\" transform=\"translate(0,372)\" d=\"M50,0h600\" style=\"stroke: rgb(255, 255, 255); stroke-opacity: 1; stroke-width: 1px;\"/><path class=\"ygrid crisp\" transform=\"translate(0,255)\" d=\"M50,0h600\" style=\"stroke: rgb(255, 255, 255); stroke-opacity: 1; stroke-width: 1px;\"/><path class=\"ygrid crisp\" transform=\"translate(0,196.5)\" d=\"M50,0h600\" style=\"stroke: rgb(255, 255, 255); stroke-opacity: 1; stroke-width: 1px;\"/><path class=\"ygrid crisp\" transform=\"translate(0,138)\" d=\"M50,0h600\" style=\"stroke: rgb(255, 255, 255); stroke-opacity: 1; stroke-width: 1px;\"/><path class=\"ygrid crisp\" transform=\"translate(0,79.5)\" d=\"M50,0h600\" style=\"stroke: rgb(255, 255, 255); stroke-opacity: 1; stroke-width: 1px;\"/></g></g><g class=\"zerolinelayer\"><path class=\"yzl zl crisp\" transform=\"translate(0,313.5)\" d=\"M50,0h600\" style=\"stroke: rgb(255, 255, 255); stroke-opacity: 1; stroke-width: 2px;\"/></g><path class=\"xlines-below\"/><path class=\"ylines-below\"/><g class=\"overlines-below\"/><g class=\"xaxislayer-below\"/><g class=\"yaxislayer-below\"/><g class=\"overaxes-below\"/><g class=\"plot\" transform=\"translate(50,60)\" clip-path=\"url(#clipc6c0a1xyplot)\"><g class=\"scatterlayer mlayer\"><g class=\"trace scatter trace8ff0a6\" style=\"stroke-miterlimit: 2; opacity: 1;\"><g class=\"fills\"/><g class=\"errorbars\"/><g class=\"lines\"><path class=\"js-line\" d=\"M0,370.5L600,370.5\" style=\"vector-effect: non-scaling-stroke; fill: none; stroke: rgb(128, 0, 128); stroke-opacity: 1; stroke-width: 4px; opacity: 1;\"/></g><g class=\"points\"/><g class=\"text\"/></g><g class=\"trace scatter traced3e9ab\" style=\"stroke-miterlimit: 2; opacity: 1;\"><g class=\"fills\"/><g class=\"errorbars\"/><g class=\"lines\"><path class=\"js-line\" d=\"M0,370.5L18.18,369.19L24.24,368.18L42.42,363.44L48.48,361.31L66.67,353.34L72.73,350.17L90.91,339.27L96.97,335.19L121.21,316.98L127.27,312L157.58,285.19L163.64,279.53L248.48,200.12L254.55,195L278.79,213.92L284.85,218.19L303.03,229.76L309.09,233.17L327.27,241.91L333.33,244.31L351.52,249.88L357.58,251.18L375.76,253.35L381.82,253.5L393.94,255.25L400,257.36L412.12,263.59L418.18,267.5L436.36,281.21L442.42,286.17L490.91,325.81L496.97,330.29L521.21,346.32L527.27,349.78L545.45,358.68L551.52,361.13L569.7,366.81L575.76,368.13L593.94,370.35L600,370.5\" style=\"vector-effect: non-scaling-stroke; fill: none; stroke: rgb(128, 0, 128); stroke-opacity: 1; stroke-width: 4px; opacity: 1;\"/></g><g class=\"points\"/><g class=\"text\"/></g><g class=\"trace scatter trace8b2c6a\" style=\"stroke-miterlimit: 2; opacity: 1;\"><g class=\"fills\"/><g class=\"errorbars\"/><g class=\"lines\"><path class=\"js-line\" d=\"M0,19.5L18.18,20.81L24.24,21.82L42.42,26.56L48.48,28.69L66.67,36.66L72.73,39.83L90.91,50.73L96.97,54.81L121.21,73.02L127.27,78L157.58,104.81L163.64,110.47L248.48,189.88L254.55,195L278.79,176.08L284.85,171.81L303.03,160.24L309.09,156.83L327.27,148.09L333.33,145.69L351.52,140.12L357.58,138.82L375.76,136.65L381.82,136.5L393.94,134.75L400,132.64L412.12,126.41L418.18,122.5L436.36,108.79L442.42,103.83L490.91,64.19L496.97,59.71L521.21,43.68L527.27,40.22L545.45,31.32L551.52,28.87L569.7,23.19L575.76,21.87L593.94,19.65L600,19.5\" style=\"vector-effect: non-scaling-stroke; fill: none; stroke: rgb(128, 0, 128); stroke-opacity: 1; stroke-width: 4px; opacity: 1;\"/></g><g class=\"points\"/><g class=\"text\"/></g></g></g><g class=\"overplot\"/><path class=\"xlines-above crisp\" d=\"M45,452.5H655M45,57.5H655\" style=\"fill: none; stroke-width: 5px; stroke: rgb(0, 0, 0); stroke-opacity: 1;\"/><path class=\"ylines-above crisp\" d=\"M47.5,60V450M652.5,60V450\" style=\"fill: none; stroke-width: 5px; stroke: rgb(0, 0, 0); stroke-opacity: 1;\"/><g class=\"overlines-above\"/><g class=\"xaxislayer-above\"/><g class=\"yaxislayer-above\"><g class=\"ytick\"><text text-anchor=\"end\" x=\"42.6\" y=\"4.199999999999999\" transform=\"translate(0,430.5)\" style=\"font-family: 'Open Sans', verdana, arial, sans-serif; font-size: 12px; fill: rgb(42, 63, 95); fill-opacity: 1; white-space: pre; opacity: 1;\">−2</text></g><g class=\"ytick\"><text text-anchor=\"end\" x=\"42.6\" y=\"4.199999999999999\" style=\"font-family: 'Open Sans', verdana, arial, sans-serif; font-size: 12px; fill: rgb(42, 63, 95); fill-opacity: 1; white-space: pre; opacity: 1;\" transform=\"translate(0,372)\">−1</text></g><g class=\"ytick\"><text text-anchor=\"end\" x=\"42.6\" y=\"4.199999999999999\" style=\"font-family: 'Open Sans', verdana, arial, sans-serif; font-size: 12px; fill: rgb(42, 63, 95); fill-opacity: 1; white-space: pre; opacity: 1;\" transform=\"translate(0,313.5)\">0</text></g><g class=\"ytick\"><text text-anchor=\"end\" x=\"42.6\" y=\"4.199999999999999\" style=\"font-family: 'Open Sans', verdana, arial, sans-serif; font-size: 12px; fill: rgb(42, 63, 95); fill-opacity: 1; white-space: pre; opacity: 1;\" transform=\"translate(0,255)\">1</text></g><g class=\"ytick\"><text text-anchor=\"end\" x=\"42.6\" y=\"4.199999999999999\" style=\"font-family: 'Open Sans', verdana, arial, sans-serif; font-size: 12px; fill: rgb(42, 63, 95); fill-opacity: 1; white-space: pre; opacity: 1;\" transform=\"translate(0,196.5)\">2</text></g><g class=\"ytick\"><text text-anchor=\"end\" x=\"42.6\" y=\"4.199999999999999\" style=\"font-family: 'Open Sans', verdana, arial, sans-serif; font-size: 12px; fill: rgb(42, 63, 95); fill-opacity: 1; white-space: pre; opacity: 1;\" transform=\"translate(0,138)\">3</text></g><g class=\"ytick\"><text text-anchor=\"end\" x=\"42.6\" y=\"4.199999999999999\" style=\"font-family: 'Open Sans', verdana, arial, sans-serif; font-size: 12px; fill: rgb(42, 63, 95); fill-opacity: 1; white-space: pre; opacity: 1;\" transform=\"translate(0,79.5)\">4</text></g></g><g class=\"overaxes-above\"/></g></g><g class=\"polarlayer\"/><g class=\"ternarylayer\"/><g class=\"geolayer\"/><g class=\"funnelarealayer\"/><g class=\"pielayer\"/><g class=\"iciclelayer\"/><g class=\"treemaplayer\"/><g class=\"sunburstlayer\"/><g class=\"glimages\"/><defs id=\"topdefs-c6c0a1\"><g class=\"clips\"/></defs><g class=\"layer-above\"><g class=\"imagelayer\"/><g class=\"shapelayer\"/></g><g class=\"infolayer\"><g class=\"g-gtitle\"><text class=\"gtitle\" x=\"35\" y=\"30\" text-anchor=\"start\" dy=\"0em\" style=\"font-family: 'Open Sans', verdana, arial, sans-serif; font-size: 17px; fill: rgb(42, 63, 95); opacity: 1; font-weight: normal; white-space: pre;\">Standard K Path</text></g><g class=\"g-xtitle\"/><g class=\"g-ytitle\"/></g></svg>"
      ],
      "text/html": [
       "<div\n",
       "    class=\"webio-mountpoint\"\n",
       "    data-webio-mountpoint=\"8079898348644696106\"\n",
       ">\n",
       "    <script>\n",
       "    (function(){\n",
       "    // Some integrations (namely, IJulia/Jupyter) use an alternate render pathway than\n",
       "    // just putting the html on the page. If WebIO isn't defined, then it's pretty likely\n",
       "    // that we're in one of those situations and the integration just isn't installed\n",
       "    // correctly.\n",
       "    if (typeof window.WebIO === \"undefined\") {\n",
       "        document\n",
       "            .querySelector('[data-webio-mountpoint=\"8079898348644696106\"]')\n",
       "            .innerHTML = (\n",
       "                '<div style=\"padding: 1em; background-color: #f8d6da; border: 1px solid #f5c6cb; font-weight: bold;\">' +\n",
       "                '<p><strong>WebIO not detected.</strong></p>' +\n",
       "                '<p>Please read ' +\n",
       "                '<a href=\"https://juliagizmos.github.io/WebIO.jl/latest/troubleshooting/not-detected/\" target=\"_blank\">the troubleshooting guide</a> ' +\n",
       "                'for more information on how to resolve this issue.</p>' +\n",
       "                '<p><a href=\"https://juliagizmos.github.io/WebIO.jl/latest/troubleshooting/not-detected/\" target=\"_blank\">https://juliagizmos.github.io/WebIO.jl/latest/troubleshooting/not-detected/</a></p>' +\n",
       "                '</div>'\n",
       "            );\n",
       "        return;\n",
       "    }\n",
       "    WebIO.mount(\n",
       "        document.querySelector('[data-webio-mountpoint=\"8079898348644696106\"]'),\n",
       "        {\"props\":{},\"nodeType\":\"Scope\",\"type\":\"node\",\"instanceArgs\":{\"imports\":{\"data\":[{\"name\":\"Plotly\",\"type\":\"js\",\"url\":\"\\/assetserver\\/b267c3137400db01c304fe886fe6f707be7fdb37-plotly.min.js\"},{\"name\":null,\"type\":\"js\",\"url\":\"\\/assetserver\\/020f2e8a4619f2ae880fff9315e6547eef1aff0b-plotly_webio.bundle.js\"}],\"type\":\"async_block\"},\"id\":\"6792581688201678471\",\"handlers\":{\"_toImage\":[\"(function (options){return this.Plotly.toImage(this.plotElem,options).then((function (data){return WebIO.setval({\\\"name\\\":\\\"image\\\",\\\"scope\\\":\\\"6792581688201678471\\\",\\\"id\\\":\\\"25\\\",\\\"type\\\":\\\"observable\\\"},data)}))})\"],\"__get_gd_contents\":[\"(function (prop){prop==\\\"data\\\" ? (WebIO.setval({\\\"name\\\":\\\"__gd_contents\\\",\\\"scope\\\":\\\"6792581688201678471\\\",\\\"id\\\":\\\"26\\\",\\\"type\\\":\\\"observable\\\"},this.plotElem.data)) : undefined; return prop==\\\"layout\\\" ? (WebIO.setval({\\\"name\\\":\\\"__gd_contents\\\",\\\"scope\\\":\\\"6792581688201678471\\\",\\\"id\\\":\\\"26\\\",\\\"type\\\":\\\"observable\\\"},this.plotElem.layout)) : undefined})\"],\"_downloadImage\":[\"(function (options){return this.Plotly.downloadImage(this.plotElem,options)})\"],\"_commands\":[\"(function (args){var fn=args.shift(); var elem=this.plotElem; var Plotly=this.Plotly; args.unshift(elem); return Plotly[fn].apply(this,args)})\"]},\"systemjs_options\":null,\"mount_callbacks\":[\"function () {\\n    var handler = ((function (Plotly,PlotlyWebIO){PlotlyWebIO.init(WebIO); var gd=this.dom.querySelector(\\\"#plot-a3b1268c-3094-4e84-9d12-e02296e9ce89\\\"); this.plotElem=gd; this.Plotly=Plotly; (window.Blink!==undefined) ? (gd.style.width=\\\"100%\\\", gd.style.height=\\\"100vh\\\", gd.style.marginLeft=\\\"0%\\\", gd.style.marginTop=\\\"0vh\\\") : undefined; window.onresize=(function (){return Plotly.Plots.resize(gd)}); Plotly.newPlot(gd,[{\\\"mode\\\":\\\"lines\\\",\\\"line\\\":{\\\"color\\\":\\\"purple\\\",\\\"width\\\":4},\\\"y\\\":[-1.9999999999999991,-2.000000000000175,-2.000000000000002,-1.9999999999999911,-2.0000000000000266,-1.9999999999999973,-2.0,-2.0000000000000084,-2.000000000000005,-2.0000000000000018,-1.9999999999999976,-1.999999999999998,-1.999999999999998,-2.0,-1.9999999999999993,-1.9999999999999998,-1.9999999999999998,-1.9999999999999993,-1.9999999999999991,-1.9999999999999991,-1.9999999999999987,-1.9999999999999993,-1.9999999999999991,-1.999999999999999,-1.9999999999999993,-1.9999999999999998,-1.9999999999999993,-1.9999999999999991,-2.0,-1.9999999999999998,-1.9999999999999996,-1.9999999999999998,-2.0,-2.0,-2.0,-1.9999999999999998,-1.9999999999999998,-2.0,-1.9999999999999998,-2.0,-2.0000000000000004,-2.0,-1.9999999999999998,-2.0,-1.9999999999999998,-2.0,-1.9999999999999996,-2.0,-2.0,-1.9999999999999996,-2.0,-1.9999999999999998,-1.9999999999999998,-1.9999999999999998,-1.9999999999999998,-1.9999999999999998,-2.0,-1.9999999999999998,-1.9999999999999998,-1.9999999999999996,-1.9999999999999996,-1.9999999999999998,-1.9999999999999993,-1.9999999999999998,-1.9999999999999996,-1.9999999999999998,-2.0,-1.9999999999999998,-1.9999999999999998,-1.9999999999999998,-1.9999999999999996,-1.9999999999999996,-1.9999999999999996,-1.9999999999999996,-1.9999999999999991,-1.9999999999999996,-1.9999999999999996,-1.9999999999999998,-1.999999999999999,-2.0,-1.9999999999999987,-1.9999999999999996,-2.0000000000000004,-1.9999999999999984,-1.9999999999999998,-2.0000000000000018,-2.0000000000000013,-2.0000000000000013,-1.9999999999999976,-1.9999999999999947,-2.000000000000002,-1.9999999999999933,-2.000000000000009,-1.999999999999991,-1.9999999999999882,-1.9999999999999953,-2.000000000000032,-1.9999999999998996,-2.0000000000000893,-1.9999999999999991],\\\"type\\\":\\\"scatter\\\",\\\"x\\\":[1,2,3,4,5,6,7,8,9,10,11,12,13,14,15,16,17,18,19,20,21,22,23,24,25,26,27,28,29,30,31,32,33,34,35,36,37,38,39,40,41,42,43,44,45,46,47,48,49,50,51,52,53,54,55,56,57,58,59,60,61,62,63,64,65,66,67,68,69,70,71,72,73,74,75,76,77,78,79,80,81,82,83,84,85,86,87,88,89,90,91,92,93,94,95,96,97,98,99,100]},{\\\"mode\\\":\\\"lines\\\",\\\"line\\\":{\\\"color\\\":\\\"purple\\\",\\\"width\\\":4},\\\"y\\\":[-2.000000000000001,-1.99751384243767,-1.9900615507308008,-1.9776616524502653,-1.960344975697061,-1.9381545724581581,-1.9111456115722816,-1.8793852415718084,-1.84295242374081,-1.8019377358048363,-1.7564431467404595,-1.7065817632643132,-1.6524775486319918,-1.594265014445845,-1.532088886237957,-1.4661037436596531,-1.3964736361721457,-1.3233716751937197,-1.246979603717468,-1.1674873444695804,-1.0850925277315202,-1.000000000000001,-0.9124213147063269,-0.8225742062612238,-0.7306820487327907,-0.6369733005033693,-0.5416809362860111,-0.44504186791263,-0.34729635533386105,-0.2486874092949709,-0.1494601871728496,-0.04986138347614655,0.04986138347614544,0.14946018717284804,0.24868740929497024,0.34729635533386016,0.44504186791262823,0.54168093628601,0.636973300503368,0.7306820487327894,0.8225742062612227,0.9124213147063256,0.9999999999999998,0.9149074665413075,0.832512644459072,0.7530203802912967,0.6766283043586889,0.6035263394244799,0.5338962285164408,0.46791108308502327,0.40573495262095727,0.34752241680231055,0.2934182011850033,0.2435568173922249,0.19806222869729617,0.15704754183139813,0.12061472578238197,0.08885435828375865,0.06184540062415578,0.039655001337082885,0.022338329259077083,0.009938436371260684,0.0024861507653206605,4.6629367034256575e-15,-0.007581858074941827,-0.029936393460620048,-0.06597217388294396,-0.11410479402056883,-0.1725053612545755,-0.23931366121634956,-0.31278017396585867,-0.3913382718615823,-0.4736257435313278,-0.5584766652499207,-0.6448994523064311,-0.7320507939749694,-0.8192105171775812,-0.9057595283400734,-0.9911614132541959,-1.074947528181775,-1.156705122664154,-1.2360679683807194,-1.3127090030138082,-1.3863345689504711,-1.4566799033621203,-1.5235056059966352,-1.586594869760026,-1.6457513066149385,-1.7007972387776829,-1.7515723543803623,-1.7979326493551735,-1.8397495947398759,-1.8769094820760777,-1.9093129100082813,-1.9368743833128341,-1.9595220019530297,-1.9771972227914127,-1.9898546806262307,-1.9974620585036575,-2.000000000000001],\\\"type\\\":\\\"scatter\\\",\\\"x\\\":[1,2,3,4,5,6,7,8,9,10,11,12,13,14,15,16,17,18,19,20,21,22,23,24,25,26,27,28,29,30,31,32,33,34,35,36,37,38,39,40,41,42,43,44,45,46,47,48,49,50,51,52,53,54,55,56,57,58,59,60,61,62,63,64,65,66,67,68,69,70,71,72,73,74,75,76,77,78,79,80,81,82,83,84,85,86,87,88,89,90,91,92,93,94,95,96,97,98,99,100]},{\\\"mode\\\":\\\"lines\\\",\\\"line\\\":{\\\"color\\\":\\\"purple\\\",\\\"width\\\":4},\\\"y\\\":[4.0,3.997513842437845,3.990061550730803,3.9776616524502564,3.9603449756970877,3.9381545724581555,3.9111456115722816,3.879385241571817,3.842952423740815,3.801937735804838,3.756443146740457,3.706581763264311,3.65247754863199,3.594265014445845,3.5320888862379562,3.466103743659653,3.3964736361721455,3.323371675193719,3.246979603717467,3.1674873444695795,3.085092527731519,3.0000000000000004,2.912421314706326,2.8225742062612227,2.73068204873279,2.636973300503369,2.5416809362860104,2.445041867912629,2.347296355333861,2.2486874092949707,2.149460187172849,2.0498613834761463,1.9501386165238546,1.850539812827152,1.7513125907050298,1.6527036446661396,1.5549581320873715,1.45831906371399,1.3630266994966318,1.2693179512672106,1.1774257937387778,1.0875786852936744,1.0,1.0850925334586925,1.1674873555409278,1.2469796197087033,1.3233716956413106,1.3964736605755201,1.4661037714835592,1.5320889169149763,1.5942650473790427,1.6524775831976892,1.7065817988149965,1.7564431826077749,1.8019377713027036,1.8429524581686016,1.879385274217618,1.9111456417162411,1.938154599375844,1.9603449986629167,1.9776616707409225,1.990061563628739,1.9975138492346787,1.9999999999999951,2.0075818580749414,2.02993639346062,2.065972173882944,2.1141047940205686,2.1725053612545753,2.2393136612163493,2.312780173965858,2.391338271861582,2.4736257435313274,2.5584766652499202,2.64489945230643,2.732050793974969,2.8192105171775808,2.9057595283400732,2.991161413254195,3.074947528181775,3.1567051226641527,3.236067968380719,3.3127090030138087,3.3863345689504696,3.45667990336212,3.523505605996637,3.5865948697600274,3.64575130661494,3.7007972387776804,3.751572354380357,3.7979326493551757,3.839749594739869,3.8769094820760865,3.909312910008272,3.9368743833128224,3.959522001953025,3.9771972227914447,3.9898546806261304,3.997462058503747,4.0],\\\"type\\\":\\\"scatter\\\",\\\"x\\\":[1,2,3,4,5,6,7,8,9,10,11,12,13,14,15,16,17,18,19,20,21,22,23,24,25,26,27,28,29,30,31,32,33,34,35,36,37,38,39,40,41,42,43,44,45,46,47,48,49,50,51,52,53,54,55,56,57,58,59,60,61,62,63,64,65,66,67,68,69,70,71,72,73,74,75,76,77,78,79,80,81,82,83,84,85,86,87,88,89,90,91,92,93,94,95,96,97,98,99,100]}],{\\\"showlegend\\\":false,\\\"xaxis\\\":{\\\"showgrid\\\":true,\\\"showline\\\":true,\\\"showticklabels\\\":false,\\\"linewidth\\\":5,\\\"mirror\\\":true,\\\"linecolor\\\":\\\"black\\\"},\\\"template\\\":{\\\"layout\\\":{\\\"coloraxis\\\":{\\\"colorbar\\\":{\\\"ticks\\\":\\\"\\\",\\\"outlinewidth\\\":0}},\\\"xaxis\\\":{\\\"gridcolor\\\":\\\"white\\\",\\\"zerolinewidth\\\":2,\\\"title\\\":{\\\"standoff\\\":15},\\\"ticks\\\":\\\"\\\",\\\"zerolinecolor\\\":\\\"white\\\",\\\"automargin\\\":true,\\\"linecolor\\\":\\\"white\\\"},\\\"hovermode\\\":\\\"closest\\\",\\\"paper_bgcolor\\\":\\\"white\\\",\\\"geo\\\":{\\\"showlakes\\\":true,\\\"showland\\\":true,\\\"landcolor\\\":\\\"#E5ECF6\\\",\\\"bgcolor\\\":\\\"white\\\",\\\"subunitcolor\\\":\\\"white\\\",\\\"lakecolor\\\":\\\"white\\\"},\\\"colorscale\\\":{\\\"sequential\\\":[[0.0,\\\"#0d0887\\\"],[0.1111111111111111,\\\"#46039f\\\"],[0.2222222222222222,\\\"#7201a8\\\"],[0.3333333333333333,\\\"#9c179e\\\"],[0.4444444444444444,\\\"#bd3786\\\"],[0.5555555555555556,\\\"#d8576b\\\"],[0.6666666666666666,\\\"#ed7953\\\"],[0.7777777777777778,\\\"#fb9f3a\\\"],[0.8888888888888888,\\\"#fdca26\\\"],[1.0,\\\"#f0f921\\\"]],\\\"diverging\\\":[[0,\\\"#8e0152\\\"],[0.1,\\\"#c51b7d\\\"],[0.2,\\\"#de77ae\\\"],[0.3,\\\"#f1b6da\\\"],[0.4,\\\"#fde0ef\\\"],[0.5,\\\"#f7f7f7\\\"],[0.6,\\\"#e6f5d0\\\"],[0.7,\\\"#b8e186\\\"],[0.8,\\\"#7fbc41\\\"],[0.9,\\\"#4d9221\\\"],[1,\\\"#276419\\\"]],\\\"sequentialminus\\\":[[0.0,\\\"#0d0887\\\"],[0.1111111111111111,\\\"#46039f\\\"],[0.2222222222222222,\\\"#7201a8\\\"],[0.3333333333333333,\\\"#9c179e\\\"],[0.4444444444444444,\\\"#bd3786\\\"],[0.5555555555555556,\\\"#d8576b\\\"],[0.6666666666666666,\\\"#ed7953\\\"],[0.7777777777777778,\\\"#fb9f3a\\\"],[0.8888888888888888,\\\"#fdca26\\\"],[1.0,\\\"#f0f921\\\"]]},\\\"yaxis\\\":{\\\"gridcolor\\\":\\\"white\\\",\\\"zerolinewidth\\\":2,\\\"title\\\":{\\\"standoff\\\":15},\\\"ticks\\\":\\\"\\\",\\\"zerolinecolor\\\":\\\"white\\\",\\\"automargin\\\":true,\\\"linecolor\\\":\\\"white\\\"},\\\"shapedefaults\\\":{\\\"line\\\":{\\\"color\\\":\\\"#2a3f5f\\\"}},\\\"hoverlabel\\\":{\\\"align\\\":\\\"left\\\"},\\\"mapbox\\\":{\\\"style\\\":\\\"light\\\"},\\\"polar\\\":{\\\"angularaxis\\\":{\\\"gridcolor\\\":\\\"white\\\",\\\"ticks\\\":\\\"\\\",\\\"linecolor\\\":\\\"white\\\"},\\\"bgcolor\\\":\\\"#E5ECF6\\\",\\\"radialaxis\\\":{\\\"gridcolor\\\":\\\"white\\\",\\\"ticks\\\":\\\"\\\",\\\"linecolor\\\":\\\"white\\\"}},\\\"autotypenumbers\\\":\\\"strict\\\",\\\"font\\\":{\\\"color\\\":\\\"#2a3f5f\\\"},\\\"ternary\\\":{\\\"baxis\\\":{\\\"gridcolor\\\":\\\"white\\\",\\\"ticks\\\":\\\"\\\",\\\"linecolor\\\":\\\"white\\\"},\\\"bgcolor\\\":\\\"#E5ECF6\\\",\\\"caxis\\\":{\\\"gridcolor\\\":\\\"white\\\",\\\"ticks\\\":\\\"\\\",\\\"linecolor\\\":\\\"white\\\"},\\\"aaxis\\\":{\\\"gridcolor\\\":\\\"white\\\",\\\"ticks\\\":\\\"\\\",\\\"linecolor\\\":\\\"white\\\"}},\\\"annotationdefaults\\\":{\\\"arrowhead\\\":0,\\\"arrowwidth\\\":1,\\\"arrowcolor\\\":\\\"#2a3f5f\\\"},\\\"plot_bgcolor\\\":\\\"#E5ECF6\\\",\\\"title\\\":{\\\"x\\\":0.05},\\\"scene\\\":{\\\"xaxis\\\":{\\\"gridcolor\\\":\\\"white\\\",\\\"gridwidth\\\":2,\\\"backgroundcolor\\\":\\\"#E5ECF6\\\",\\\"ticks\\\":\\\"\\\",\\\"showbackground\\\":true,\\\"zerolinecolor\\\":\\\"white\\\",\\\"linecolor\\\":\\\"white\\\"},\\\"zaxis\\\":{\\\"gridcolor\\\":\\\"white\\\",\\\"gridwidth\\\":2,\\\"backgroundcolor\\\":\\\"#E5ECF6\\\",\\\"ticks\\\":\\\"\\\",\\\"showbackground\\\":true,\\\"zerolinecolor\\\":\\\"white\\\",\\\"linecolor\\\":\\\"white\\\"},\\\"yaxis\\\":{\\\"gridcolor\\\":\\\"white\\\",\\\"gridwidth\\\":2,\\\"backgroundcolor\\\":\\\"#E5ECF6\\\",\\\"ticks\\\":\\\"\\\",\\\"showbackground\\\":true,\\\"zerolinecolor\\\":\\\"white\\\",\\\"linecolor\\\":\\\"white\\\"}},\\\"colorway\\\":[\\\"#636efa\\\",\\\"#EF553B\\\",\\\"#00cc96\\\",\\\"#ab63fa\\\",\\\"#FFA15A\\\",\\\"#19d3f3\\\",\\\"#FF6692\\\",\\\"#B6E880\\\",\\\"#FF97FF\\\",\\\"#FECB52\\\"]},\\\"data\\\":{\\\"barpolar\\\":[{\\\"type\\\":\\\"barpolar\\\",\\\"marker\\\":{\\\"line\\\":{\\\"color\\\":\\\"#E5ECF6\\\",\\\"width\\\":0.5}}}],\\\"carpet\\\":[{\\\"aaxis\\\":{\\\"gridcolor\\\":\\\"white\\\",\\\"endlinecolor\\\":\\\"#2a3f5f\\\",\\\"minorgridcolor\\\":\\\"white\\\",\\\"startlinecolor\\\":\\\"#2a3f5f\\\",\\\"linecolor\\\":\\\"white\\\"},\\\"type\\\":\\\"carpet\\\",\\\"baxis\\\":{\\\"gridcolor\\\":\\\"white\\\",\\\"endlinecolor\\\":\\\"#2a3f5f\\\",\\\"minorgridcolor\\\":\\\"white\\\",\\\"startlinecolor\\\":\\\"#2a3f5f\\\",\\\"linecolor\\\":\\\"white\\\"}}],\\\"scatterpolar\\\":[{\\\"type\\\":\\\"scatterpolar\\\",\\\"marker\\\":{\\\"colorbar\\\":{\\\"ticks\\\":\\\"\\\",\\\"outlinewidth\\\":0}}}],\\\"parcoords\\\":[{\\\"line\\\":{\\\"colorbar\\\":{\\\"ticks\\\":\\\"\\\",\\\"outlinewidth\\\":0}},\\\"type\\\":\\\"parcoords\\\"}],\\\"scatter\\\":[{\\\"type\\\":\\\"scatter\\\",\\\"marker\\\":{\\\"colorbar\\\":{\\\"ticks\\\":\\\"\\\",\\\"outlinewidth\\\":0}}}],\\\"histogram2dcontour\\\":[{\\\"colorbar\\\":{\\\"ticks\\\":\\\"\\\",\\\"outlinewidth\\\":0},\\\"type\\\":\\\"histogram2dcontour\\\",\\\"colorscale\\\":[[0.0,\\\"#0d0887\\\"],[0.1111111111111111,\\\"#46039f\\\"],[0.2222222222222222,\\\"#7201a8\\\"],[0.3333333333333333,\\\"#9c179e\\\"],[0.4444444444444444,\\\"#bd3786\\\"],[0.5555555555555556,\\\"#d8576b\\\"],[0.6666666666666666,\\\"#ed7953\\\"],[0.7777777777777778,\\\"#fb9f3a\\\"],[0.8888888888888888,\\\"#fdca26\\\"],[1.0,\\\"#f0f921\\\"]]}],\\\"contour\\\":[{\\\"colorbar\\\":{\\\"ticks\\\":\\\"\\\",\\\"outlinewidth\\\":0},\\\"type\\\":\\\"contour\\\",\\\"colorscale\\\":[[0.0,\\\"#0d0887\\\"],[0.1111111111111111,\\\"#46039f\\\"],[0.2222222222222222,\\\"#7201a8\\\"],[0.3333333333333333,\\\"#9c179e\\\"],[0.4444444444444444,\\\"#bd3786\\\"],[0.5555555555555556,\\\"#d8576b\\\"],[0.6666666666666666,\\\"#ed7953\\\"],[0.7777777777777778,\\\"#fb9f3a\\\"],[0.8888888888888888,\\\"#fdca26\\\"],[1.0,\\\"#f0f921\\\"]]}],\\\"scattercarpet\\\":[{\\\"type\\\":\\\"scattercarpet\\\",\\\"marker\\\":{\\\"colorbar\\\":{\\\"ticks\\\":\\\"\\\",\\\"outlinewidth\\\":0}}}],\\\"mesh3d\\\":[{\\\"colorbar\\\":{\\\"ticks\\\":\\\"\\\",\\\"outlinewidth\\\":0},\\\"type\\\":\\\"mesh3d\\\"}],\\\"surface\\\":[{\\\"colorbar\\\":{\\\"ticks\\\":\\\"\\\",\\\"outlinewidth\\\":0},\\\"type\\\":\\\"surface\\\",\\\"colorscale\\\":[[0.0,\\\"#0d0887\\\"],[0.1111111111111111,\\\"#46039f\\\"],[0.2222222222222222,\\\"#7201a8\\\"],[0.3333333333333333,\\\"#9c179e\\\"],[0.4444444444444444,\\\"#bd3786\\\"],[0.5555555555555556,\\\"#d8576b\\\"],[0.6666666666666666,\\\"#ed7953\\\"],[0.7777777777777778,\\\"#fb9f3a\\\"],[0.8888888888888888,\\\"#fdca26\\\"],[1.0,\\\"#f0f921\\\"]]}],\\\"scattermapbox\\\":[{\\\"type\\\":\\\"scattermapbox\\\",\\\"marker\\\":{\\\"colorbar\\\":{\\\"ticks\\\":\\\"\\\",\\\"outlinewidth\\\":0}}}],\\\"scattergeo\\\":[{\\\"type\\\":\\\"scattergeo\\\",\\\"marker\\\":{\\\"colorbar\\\":{\\\"ticks\\\":\\\"\\\",\\\"outlinewidth\\\":0}}}],\\\"histogram\\\":[{\\\"type\\\":\\\"histogram\\\",\\\"marker\\\":{\\\"colorbar\\\":{\\\"ticks\\\":\\\"\\\",\\\"outlinewidth\\\":0}}}],\\\"pie\\\":[{\\\"type\\\":\\\"pie\\\",\\\"automargin\\\":true}],\\\"choropleth\\\":[{\\\"colorbar\\\":{\\\"ticks\\\":\\\"\\\",\\\"outlinewidth\\\":0},\\\"type\\\":\\\"choropleth\\\"}],\\\"heatmapgl\\\":[{\\\"colorbar\\\":{\\\"ticks\\\":\\\"\\\",\\\"outlinewidth\\\":0},\\\"type\\\":\\\"heatmapgl\\\",\\\"colorscale\\\":[[0.0,\\\"#0d0887\\\"],[0.1111111111111111,\\\"#46039f\\\"],[0.2222222222222222,\\\"#7201a8\\\"],[0.3333333333333333,\\\"#9c179e\\\"],[0.4444444444444444,\\\"#bd3786\\\"],[0.5555555555555556,\\\"#d8576b\\\"],[0.6666666666666666,\\\"#ed7953\\\"],[0.7777777777777778,\\\"#fb9f3a\\\"],[0.8888888888888888,\\\"#fdca26\\\"],[1.0,\\\"#f0f921\\\"]]}],\\\"bar\\\":[{\\\"type\\\":\\\"bar\\\",\\\"error_y\\\":{\\\"color\\\":\\\"#2a3f5f\\\"},\\\"error_x\\\":{\\\"color\\\":\\\"#2a3f5f\\\"},\\\"marker\\\":{\\\"line\\\":{\\\"color\\\":\\\"#E5ECF6\\\",\\\"width\\\":0.5}}}],\\\"heatmap\\\":[{\\\"colorbar\\\":{\\\"ticks\\\":\\\"\\\",\\\"outlinewidth\\\":0},\\\"type\\\":\\\"heatmap\\\",\\\"colorscale\\\":[[0.0,\\\"#0d0887\\\"],[0.1111111111111111,\\\"#46039f\\\"],[0.2222222222222222,\\\"#7201a8\\\"],[0.3333333333333333,\\\"#9c179e\\\"],[0.4444444444444444,\\\"#bd3786\\\"],[0.5555555555555556,\\\"#d8576b\\\"],[0.6666666666666666,\\\"#ed7953\\\"],[0.7777777777777778,\\\"#fb9f3a\\\"],[0.8888888888888888,\\\"#fdca26\\\"],[1.0,\\\"#f0f921\\\"]]}],\\\"contourcarpet\\\":[{\\\"colorbar\\\":{\\\"ticks\\\":\\\"\\\",\\\"outlinewidth\\\":0},\\\"type\\\":\\\"contourcarpet\\\"}],\\\"table\\\":[{\\\"type\\\":\\\"table\\\",\\\"header\\\":{\\\"line\\\":{\\\"color\\\":\\\"white\\\"},\\\"fill\\\":{\\\"color\\\":\\\"#C8D4E3\\\"}},\\\"cells\\\":{\\\"line\\\":{\\\"color\\\":\\\"white\\\"},\\\"fill\\\":{\\\"color\\\":\\\"#EBF0F8\\\"}}}],\\\"scatter3d\\\":[{\\\"line\\\":{\\\"colorbar\\\":{\\\"ticks\\\":\\\"\\\",\\\"outlinewidth\\\":0}},\\\"type\\\":\\\"scatter3d\\\",\\\"marker\\\":{\\\"colorbar\\\":{\\\"ticks\\\":\\\"\\\",\\\"outlinewidth\\\":0}}}],\\\"scattergl\\\":[{\\\"type\\\":\\\"scattergl\\\",\\\"marker\\\":{\\\"colorbar\\\":{\\\"ticks\\\":\\\"\\\",\\\"outlinewidth\\\":0}}}],\\\"histogram2d\\\":[{\\\"colorbar\\\":{\\\"ticks\\\":\\\"\\\",\\\"outlinewidth\\\":0},\\\"type\\\":\\\"histogram2d\\\",\\\"colorscale\\\":[[0.0,\\\"#0d0887\\\"],[0.1111111111111111,\\\"#46039f\\\"],[0.2222222222222222,\\\"#7201a8\\\"],[0.3333333333333333,\\\"#9c179e\\\"],[0.4444444444444444,\\\"#bd3786\\\"],[0.5555555555555556,\\\"#d8576b\\\"],[0.6666666666666666,\\\"#ed7953\\\"],[0.7777777777777778,\\\"#fb9f3a\\\"],[0.8888888888888888,\\\"#fdca26\\\"],[1.0,\\\"#f0f921\\\"]]}],\\\"scatterternary\\\":[{\\\"type\\\":\\\"scatterternary\\\",\\\"marker\\\":{\\\"colorbar\\\":{\\\"ticks\\\":\\\"\\\",\\\"outlinewidth\\\":0}}}],\\\"scatterpolargl\\\":[{\\\"type\\\":\\\"scatterpolargl\\\",\\\"marker\\\":{\\\"colorbar\\\":{\\\"ticks\\\":\\\"\\\",\\\"outlinewidth\\\":0}}}]}},\\\"height\\\":510,\\\"margin\\\":{\\\"l\\\":50,\\\"b\\\":50,\\\"r\\\":50,\\\"t\\\":60},\\\"title\\\":\\\"Standard K Path\\\",\\\"yaxis\\\":{\\\"showgrid\\\":true,\\\"showline\\\":true,\\\"showticklabels\\\":true,\\\"linewidth\\\":5,\\\"mirror\\\":true,\\\"linecolor\\\":\\\"black\\\"},\\\"plot_bgcolor\\\":\\\"rgba(0,0,0,0)\\\",\\\"width\\\":510},{\\\"showLink\\\":false,\\\"editable\\\":false,\\\"responsive\\\":true,\\\"staticPlot\\\":false,\\\"scrollZoom\\\":true}); gd.on(\\\"plotly_hover\\\",(function (data){var filtered_data=WebIO.PlotlyCommands.filterEventData(gd,data,\\\"hover\\\"); return !(filtered_data.isnil) ? (WebIO.setval({\\\"name\\\":\\\"hover\\\",\\\"scope\\\":\\\"6792581688201678471\\\",\\\"id\\\":\\\"21\\\",\\\"type\\\":\\\"observable\\\"},filtered_data.out)) : undefined})); gd.on(\\\"plotly_unhover\\\",(function (){return WebIO.setval({\\\"name\\\":\\\"hover\\\",\\\"scope\\\":\\\"6792581688201678471\\\",\\\"id\\\":\\\"21\\\",\\\"type\\\":\\\"observable\\\"},{})})); gd.on(\\\"plotly_selected\\\",(function (data){var filtered_data=WebIO.PlotlyCommands.filterEventData(gd,data,\\\"selected\\\"); return !(filtered_data.isnil) ? (WebIO.setval({\\\"name\\\":\\\"selected\\\",\\\"scope\\\":\\\"6792581688201678471\\\",\\\"id\\\":\\\"22\\\",\\\"type\\\":\\\"observable\\\"},filtered_data.out)) : undefined})); gd.on(\\\"plotly_deselect\\\",(function (){return WebIO.setval({\\\"name\\\":\\\"selected\\\",\\\"scope\\\":\\\"6792581688201678471\\\",\\\"id\\\":\\\"22\\\",\\\"type\\\":\\\"observable\\\"},{})})); gd.on(\\\"plotly_relayout\\\",(function (data){var filtered_data=WebIO.PlotlyCommands.filterEventData(gd,data,\\\"relayout\\\"); return !(filtered_data.isnil) ? (WebIO.setval({\\\"name\\\":\\\"relayout\\\",\\\"scope\\\":\\\"6792581688201678471\\\",\\\"id\\\":\\\"24\\\",\\\"type\\\":\\\"observable\\\"},filtered_data.out)) : undefined})); return gd.on(\\\"plotly_click\\\",(function (data){var filtered_data=WebIO.PlotlyCommands.filterEventData(gd,data,\\\"click\\\"); return !(filtered_data.isnil) ? (WebIO.setval({\\\"name\\\":\\\"click\\\",\\\"scope\\\":\\\"6792581688201678471\\\",\\\"id\\\":\\\"23\\\",\\\"type\\\":\\\"observable\\\"},filtered_data.out)) : undefined}))}));\\n    (WebIO.importBlock({\\\"data\\\":[{\\\"name\\\":\\\"Plotly\\\",\\\"type\\\":\\\"js\\\",\\\"url\\\":\\\"\\/assetserver\\/b267c3137400db01c304fe886fe6f707be7fdb37-plotly.min.js\\\"},{\\\"name\\\":null,\\\"type\\\":\\\"js\\\",\\\"url\\\":\\\"\\/assetserver\\/020f2e8a4619f2ae880fff9315e6547eef1aff0b-plotly_webio.bundle.js\\\"}],\\\"type\\\":\\\"async_block\\\"})).then((imports) => handler.apply(this, imports));\\n}\\n\"],\"observables\":{\"_toImage\":{\"sync\":false,\"id\":\"28\",\"value\":{}},\"hover\":{\"sync\":false,\"id\":\"21\",\"value\":{}},\"selected\":{\"sync\":false,\"id\":\"22\",\"value\":{}},\"__gd_contents\":{\"sync\":false,\"id\":\"26\",\"value\":{}},\"click\":{\"sync\":false,\"id\":\"23\",\"value\":{}},\"image\":{\"sync\":true,\"id\":\"25\",\"value\":\"\"},\"__get_gd_contents\":{\"sync\":false,\"id\":\"30\",\"value\":\"\"},\"_downloadImage\":{\"sync\":false,\"id\":\"29\",\"value\":{}},\"relayout\":{\"sync\":false,\"id\":\"24\",\"value\":{}},\"_commands\":{\"sync\":false,\"id\":\"27\",\"value\":[]}}},\"children\":[{\"props\":{\"id\":\"plot-a3b1268c-3094-4e84-9d12-e02296e9ce89\"},\"nodeType\":\"DOM\",\"type\":\"node\",\"instanceArgs\":{\"namespace\":\"html\",\"tag\":\"div\"},\"children\":[]}]},\n",
       "        window,\n",
       "    );\n",
       "    })()\n",
       "    </script>\n",
       "</div>\n"
      ],
      "text/plain": [
       "data: [\n",
       "  \"scatter with fields line, mode, type, x, and y\",\n",
       "  \"scatter with fields line, mode, type, x, and y\",\n",
       "  \"scatter with fields line, mode, type, x, and y\"\n",
       "]\n",
       "\n",
       "layout: \"layout with fields height, margin, plot_bgcolor, showlegend, template, title, width, xaxis, and yaxis\"\n",
       "\n"
      ]
     },
     "metadata": {},
     "output_type": "display_data"
    }
   ],
   "source": [
    "let nps::Int = 100, t1Δ = 1.0, t2Δ = 1.0, t3Δ = 1.0, t1∇ = 1.0, t2∇ = 1.0, t3∇ = 1.0\n",
    "    p::Params = Params(t1Δ, t2Δ, t3Δ, t1∇, t2∇, t3∇)\n",
    "    println(\"t1Δ = \", p.t1Δ)\n",
    "    println(\"t2Δ = \", p.t2Δ)\n",
    "    println(\"t3Δ = \", p.t3Δ)\n",
    "    println(\"t1∇ = \", p.t1∇)\n",
    "    println(\"t2∇ = \", p.t2∇)\n",
    "    println(\"t3∇ = \", p.t3∇)\n",
    "    \n",
    "    kpath_nodes::Vector{SVector{2, Float64}} = [high_symmetry_points[\"Γ\"], \n",
    "                    high_symmetry_points[\"K\"], \n",
    "                    high_symmetry_points[\"M\"], \n",
    "                    high_symmetry_points[\"Γ\"]];\n",
    "    kpath_fbz::Vector{Vector{Float64}} = interpolate(kpath_nodes, nps);\n",
    "    kpath_fbz = [SVector{2, Float64}(v) for v ∈ kpath_fbz]\n",
    "    plot_simple_kagome_bands(;p = p, seedname = \"Standard K Path\", kpath = kpath_fbz, title = Nothing)\n",
    "end\n",
    "\n"
   ]
  },
  {
   "cell_type": "code",
   "execution_count": 13,
   "metadata": {},
   "outputs": [
    {
     "name": "stdout",
     "output_type": "stream",
     "text": [
      "t1Δ = 1.0\n",
      "t2Δ = 1.0\n",
      "t3Δ = 1.0\n",
      "t1∇ = 1.0\n",
      "t2∇ = 1.0\n",
      "t3∇ = 1.0\n"
     ]
    },
    {
     "data": {
      "application/vnd.plotly.v1+json": {
       "config": {
        "editable": false,
        "responsive": true,
        "scrollZoom": true,
        "showLink": false,
        "staticPlot": false
       },
       "data": [
        {
         "line": {
          "color": "purple",
          "width": 4
         },
         "mode": "lines",
         "type": "scatter",
         "x": [
          1,
          2,
          3,
          4,
          5,
          6,
          7,
          8,
          9,
          10,
          11,
          12,
          13,
          14,
          15,
          16,
          17,
          18,
          19,
          20,
          21,
          22,
          23,
          24,
          25,
          26,
          27,
          28,
          29,
          30,
          31,
          32,
          33,
          34,
          35,
          36,
          37,
          38,
          39,
          40,
          41,
          42,
          43,
          44,
          45,
          46,
          47,
          48,
          49,
          50,
          51,
          52,
          53,
          54,
          55,
          56,
          57,
          58,
          59,
          60,
          61,
          62,
          63,
          64,
          65,
          66,
          67,
          68,
          69,
          70,
          71,
          72,
          73,
          74,
          75,
          76,
          77,
          78,
          79,
          80,
          81,
          82,
          83,
          84,
          85,
          86,
          87,
          88,
          89,
          90,
          91,
          92,
          93,
          94,
          95,
          96,
          97,
          98,
          99
         ],
         "y": [
          -1.9999999999999998,
          -1.9999999999999998,
          -2,
          -1.9999999999999998,
          -2,
          -2,
          -2,
          -1.9999999999999998,
          -1.9999999999999993,
          -1.9999999999999998,
          -2,
          -1.9999999999999996,
          -2,
          -1.9999999999999996,
          -1.9999999999999998,
          -1.9999999999999998,
          -1.9999999999999996,
          -1.9999999999999996,
          -1.999999999999999,
          -1.9999999999999993,
          -1.9999999999999996,
          -1.9999999999999993,
          -1.9999999999999998,
          -1.9999999999999998,
          -1.9999999999999996,
          -1.9999999999999998,
          -1.9999999999999991,
          -2.0000000000000013,
          -1.9999999999999991,
          -2.0000000000000004,
          -1.9999999999999993,
          -1.9999999999999987,
          -2.0000000000000004,
          -1.9999999999999984,
          -1.9999999999999991,
          -1.999999999999998,
          -1.9999999999999996,
          -2.0000000000000004,
          -1.9999999999999962,
          -2.0000000000000058,
          -2.000000000000007,
          -1.9999999999999962,
          -2,
          -1.9999999999999922,
          -1.9999999999999938,
          -2.000000000000035,
          -1.9999999999999984,
          -1.9999999999999913,
          -1.999999999999488,
          -1.9999999999999991,
          -1.999999999999488,
          -1.9999999999999913,
          -1.9999999999999984,
          -2.000000000000035,
          -1.9999999999999996,
          -1.9999999999999922,
          -2,
          -2.0000000000000004,
          -2.0000000000000084,
          -2.0000000000000027,
          -1.9999999999999962,
          -2.0000000000000004,
          -1.9999999999999984,
          -1.999999999999998,
          -2.0000000000000004,
          -2,
          -2.0000000000000004,
          -1.9999999999999987,
          -1.9999999999999993,
          -2.0000000000000004,
          -1.9999999999999991,
          -2.0000000000000013,
          -1.9999999999999998,
          -1.9999999999999998,
          -1.9999999999999996,
          -1.9999999999999998,
          -1.9999999999999998,
          -1.9999999999999993,
          -1.9999999999999996,
          -1.9999999999999993,
          -1.999999999999999,
          -1.9999999999999996,
          -1.9999999999999993,
          -1.9999999999999993,
          -1.9999999999999998,
          -1.9999999999999996,
          -1.9999999999999998,
          -1.9999999999999996,
          -2,
          -1.9999999999999993,
          -2,
          -1.9999999999999998,
          -2,
          -2,
          -2,
          -1.9999999999999998,
          -2,
          -1.9999999999999998,
          -1.9999999999999998
         ]
        },
        {
         "line": {
          "color": "purple",
          "width": 4
         },
         "mode": "lines",
         "type": "scatter",
         "x": [
          1,
          2,
          3,
          4,
          5,
          6,
          7,
          8,
          9,
          10,
          11,
          12,
          13,
          14,
          15,
          16,
          17,
          18,
          19,
          20,
          21,
          22,
          23,
          24,
          25,
          26,
          27,
          28,
          29,
          30,
          31,
          32,
          33,
          34,
          35,
          36,
          37,
          38,
          39,
          40,
          41,
          42,
          43,
          44,
          45,
          46,
          47,
          48,
          49,
          50,
          51,
          52,
          53,
          54,
          55,
          56,
          57,
          58,
          59,
          60,
          61,
          62,
          63,
          64,
          65,
          66,
          67,
          68,
          69,
          70,
          71,
          72,
          73,
          74,
          75,
          76,
          77,
          78,
          79,
          80,
          81,
          82,
          83,
          84,
          85,
          86,
          87,
          88,
          89,
          90,
          91,
          92,
          93,
          94,
          95,
          96,
          97,
          98,
          99
         ],
         "y": [
          0.9999999999999998,
          0.9250765804816707,
          0.8484633557980745,
          0.7703002726579811,
          0.6907301088426152,
          0.609898212398454,
          0.5279522361350191,
          0.44504186791262845,
          0.36131855721279704,
          0.27693523849074775,
          0.19204605181536305,
          0.10680606130689707,
          0.02137097188674586,
          -0.06410315514331089,
          -0.14946018717284892,
          -0.2345442054848046,
          -0.3191997900667589,
          -0.4032723035112671,
          -0.48660817348661856,
          -0.5690551732620663,
          -0.6504626997750944,
          -0.7306820487327912,
          -0.8095666862447881,
          -0.8869725164916267,
          -0.9627581449395666,
          -1.0367851366210503,
          -1.108918269009047,
          -1.1790257790233185,
          -1.246979603717468,
          -1.3126556142070362,
          -1.375933842411438,
          -1.436698700195457,
          -1.4948391905100706,
          -1.5502491101469051,
          -1.6028272437359141,
          -1.6524775486319918,
          -1.6991093303527078,
          -1.7426374082467784,
          -1.7829822710905827,
          -1.8200702223285279,
          -1.8538335146920364,
          -1.8842104739510706,
          -1.9111456115722816,
          -1.9345897260780667,
          -1.9544999929210944,
          -1.9708400427104498,
          -1.983580027646494,
          -1.9926966760424223,
          -1.9981733348347084,
          -2.000000000000001,
          -1.9981733348347084,
          -1.9926966760424223,
          -1.983580027646494,
          -1.9708400427104498,
          -1.9544999929210887,
          -1.9345897260780667,
          -1.9111456115722816,
          -1.8842104739510663,
          -1.853833514692035,
          -1.820070222328531,
          -1.7829822710905827,
          -1.7426374082467784,
          -1.6991093303527094,
          -1.6524775486319918,
          -1.6028272437359128,
          -1.550249110146904,
          -1.4948391905100706,
          -1.436698700195457,
          -1.375933842411438,
          -1.3126556142070362,
          -1.246979603717468,
          -1.1790257790233185,
          -1.108918269009046,
          -1.0367851366210503,
          -0.9627581449395666,
          -0.8869725164916267,
          -0.8095666862447881,
          -0.7306820487327907,
          -0.6504626997750944,
          -0.5690551732620663,
          -0.48660817348661856,
          -0.4032723035112671,
          -0.3191997900667596,
          -0.23454420548480415,
          -0.14946018717284892,
          -0.06410315514331089,
          0.021370971886746304,
          0.10680606130689707,
          0.19204605181536305,
          0.27693523849074686,
          0.36131855721279793,
          0.44504186791262823,
          0.5279522361350191,
          0.609898212398454,
          0.6907301088426152,
          0.7703002726579808,
          0.8484633557980745,
          0.9250765804816707,
          0.9999999999999998
         ]
        },
        {
         "line": {
          "color": "purple",
          "width": 4
         },
         "mode": "lines",
         "type": "scatter",
         "x": [
          1,
          2,
          3,
          4,
          5,
          6,
          7,
          8,
          9,
          10,
          11,
          12,
          13,
          14,
          15,
          16,
          17,
          18,
          19,
          20,
          21,
          22,
          23,
          24,
          25,
          26,
          27,
          28,
          29,
          30,
          31,
          32,
          33,
          34,
          35,
          36,
          37,
          38,
          39,
          40,
          41,
          42,
          43,
          44,
          45,
          46,
          47,
          48,
          49,
          50,
          51,
          52,
          53,
          54,
          55,
          56,
          57,
          58,
          59,
          60,
          61,
          62,
          63,
          64,
          65,
          66,
          67,
          68,
          69,
          70,
          71,
          72,
          73,
          74,
          75,
          76,
          77,
          78,
          79,
          80,
          81,
          82,
          83,
          84,
          85,
          86,
          87,
          88,
          89,
          90,
          91,
          92,
          93,
          94,
          95,
          96,
          97,
          98,
          99
         ],
         "y": [
          1,
          1.074923419518329,
          1.1515366442019255,
          1.2296997273420187,
          1.3092698911573848,
          1.390101787601546,
          1.472047763864981,
          1.5549581320873713,
          1.6386814427872023,
          1.723064761509252,
          1.807953948184637,
          1.8931939386931025,
          1.9786290281132541,
          2.0641031551433104,
          2.1494601871728487,
          2.2345442054848044,
          2.3191997900667585,
          2.4032723035112666,
          2.4866081734866174,
          2.5690551732620657,
          2.650462699775094,
          2.7306820487327905,
          2.809566686244788,
          2.8869725164916265,
          2.962758144939566,
          3.03678513662105,
          3.108918269009046,
          3.17902577902332,
          3.246979603717467,
          3.3126556142070367,
          3.3759338424114373,
          3.4366987001954556,
          3.494839190510071,
          3.5502491101469036,
          3.6028272437359132,
          3.65247754863199,
          3.6991093303527074,
          3.742637408246779,
          3.782982271090579,
          3.8200702223285337,
          3.8538335146920435,
          3.8842104739510668,
          3.9111456115722816,
          3.934589726078059,
          3.9544999929210882,
          3.970840042710485,
          3.9835800276464925,
          3.9926966760424136,
          3.9981733348341963,
          4,
          3.9981733348341963,
          3.9926966760424136,
          3.9835800276464925,
          3.970840042710485,
          3.9544999929210882,
          3.934589726078059,
          3.9111456115722816,
          3.8842104739510668,
          3.8538335146920435,
          3.8200702223285337,
          3.782982271090579,
          3.742637408246779,
          3.699109330352708,
          3.65247754863199,
          3.6028272437359132,
          3.550249110146904,
          3.494839190510071,
          3.4366987001954556,
          3.3759338424114373,
          3.3126556142070367,
          3.246979603717467,
          3.17902577902332,
          3.1089182690090458,
          3.03678513662105,
          2.962758144939566,
          2.8869725164916265,
          2.809566686244788,
          2.73068204873279,
          2.650462699775094,
          2.5690551732620657,
          2.4866081734866174,
          2.4032723035112666,
          2.319199790066759,
          2.2345442054848035,
          2.1494601871728487,
          2.0641031551433104,
          1.9786290281132535,
          1.8931939386931025,
          1.807953948184637,
          1.7230647615092525,
          1.638681442787202,
          1.5549581320873715,
          1.472047763864981,
          1.390101787601546,
          1.3092698911573848,
          1.229699727342019,
          1.1515366442019255,
          1.074923419518329,
          1
         ]
        }
       ],
       "frames": [],
       "layout": {
        "height": 510,
        "margin": {
         "b": 50,
         "l": 50,
         "r": 50,
         "t": 60
        },
        "plot_bgcolor": "rgba(0,0,0,0)",
        "showlegend": false,
        "template": {
         "data": {
          "bar": [
           {
            "error_x": {
             "color": "#2a3f5f"
            },
            "error_y": {
             "color": "#2a3f5f"
            },
            "marker": {
             "line": {
              "color": "#E5ECF6",
              "width": 0.5
             }
            },
            "type": "bar"
           }
          ],
          "barpolar": [
           {
            "marker": {
             "line": {
              "color": "#E5ECF6",
              "width": 0.5
             }
            },
            "type": "barpolar"
           }
          ],
          "carpet": [
           {
            "aaxis": {
             "endlinecolor": "#2a3f5f",
             "gridcolor": "white",
             "linecolor": "white",
             "minorgridcolor": "white",
             "startlinecolor": "#2a3f5f"
            },
            "baxis": {
             "endlinecolor": "#2a3f5f",
             "gridcolor": "white",
             "linecolor": "white",
             "minorgridcolor": "white",
             "startlinecolor": "#2a3f5f"
            },
            "type": "carpet"
           }
          ],
          "choropleth": [
           {
            "colorbar": {
             "outlinewidth": 0,
             "ticks": ""
            },
            "type": "choropleth"
           }
          ],
          "contour": [
           {
            "colorbar": {
             "outlinewidth": 0,
             "ticks": ""
            },
            "colorscale": [
             [
              0,
              "#0d0887"
             ],
             [
              0.1111111111111111,
              "#46039f"
             ],
             [
              0.2222222222222222,
              "#7201a8"
             ],
             [
              0.3333333333333333,
              "#9c179e"
             ],
             [
              0.4444444444444444,
              "#bd3786"
             ],
             [
              0.5555555555555556,
              "#d8576b"
             ],
             [
              0.6666666666666666,
              "#ed7953"
             ],
             [
              0.7777777777777778,
              "#fb9f3a"
             ],
             [
              0.8888888888888888,
              "#fdca26"
             ],
             [
              1,
              "#f0f921"
             ]
            ],
            "type": "contour"
           }
          ],
          "contourcarpet": [
           {
            "colorbar": {
             "outlinewidth": 0,
             "ticks": ""
            },
            "type": "contourcarpet"
           }
          ],
          "heatmap": [
           {
            "colorbar": {
             "outlinewidth": 0,
             "ticks": ""
            },
            "colorscale": [
             [
              0,
              "#0d0887"
             ],
             [
              0.1111111111111111,
              "#46039f"
             ],
             [
              0.2222222222222222,
              "#7201a8"
             ],
             [
              0.3333333333333333,
              "#9c179e"
             ],
             [
              0.4444444444444444,
              "#bd3786"
             ],
             [
              0.5555555555555556,
              "#d8576b"
             ],
             [
              0.6666666666666666,
              "#ed7953"
             ],
             [
              0.7777777777777778,
              "#fb9f3a"
             ],
             [
              0.8888888888888888,
              "#fdca26"
             ],
             [
              1,
              "#f0f921"
             ]
            ],
            "type": "heatmap"
           }
          ],
          "heatmapgl": [
           {
            "colorbar": {
             "outlinewidth": 0,
             "ticks": ""
            },
            "colorscale": [
             [
              0,
              "#0d0887"
             ],
             [
              0.1111111111111111,
              "#46039f"
             ],
             [
              0.2222222222222222,
              "#7201a8"
             ],
             [
              0.3333333333333333,
              "#9c179e"
             ],
             [
              0.4444444444444444,
              "#bd3786"
             ],
             [
              0.5555555555555556,
              "#d8576b"
             ],
             [
              0.6666666666666666,
              "#ed7953"
             ],
             [
              0.7777777777777778,
              "#fb9f3a"
             ],
             [
              0.8888888888888888,
              "#fdca26"
             ],
             [
              1,
              "#f0f921"
             ]
            ],
            "type": "heatmapgl"
           }
          ],
          "histogram": [
           {
            "marker": {
             "colorbar": {
              "outlinewidth": 0,
              "ticks": ""
             }
            },
            "type": "histogram"
           }
          ],
          "histogram2d": [
           {
            "colorbar": {
             "outlinewidth": 0,
             "ticks": ""
            },
            "colorscale": [
             [
              0,
              "#0d0887"
             ],
             [
              0.1111111111111111,
              "#46039f"
             ],
             [
              0.2222222222222222,
              "#7201a8"
             ],
             [
              0.3333333333333333,
              "#9c179e"
             ],
             [
              0.4444444444444444,
              "#bd3786"
             ],
             [
              0.5555555555555556,
              "#d8576b"
             ],
             [
              0.6666666666666666,
              "#ed7953"
             ],
             [
              0.7777777777777778,
              "#fb9f3a"
             ],
             [
              0.8888888888888888,
              "#fdca26"
             ],
             [
              1,
              "#f0f921"
             ]
            ],
            "type": "histogram2d"
           }
          ],
          "histogram2dcontour": [
           {
            "colorbar": {
             "outlinewidth": 0,
             "ticks": ""
            },
            "colorscale": [
             [
              0,
              "#0d0887"
             ],
             [
              0.1111111111111111,
              "#46039f"
             ],
             [
              0.2222222222222222,
              "#7201a8"
             ],
             [
              0.3333333333333333,
              "#9c179e"
             ],
             [
              0.4444444444444444,
              "#bd3786"
             ],
             [
              0.5555555555555556,
              "#d8576b"
             ],
             [
              0.6666666666666666,
              "#ed7953"
             ],
             [
              0.7777777777777778,
              "#fb9f3a"
             ],
             [
              0.8888888888888888,
              "#fdca26"
             ],
             [
              1,
              "#f0f921"
             ]
            ],
            "type": "histogram2dcontour"
           }
          ],
          "mesh3d": [
           {
            "colorbar": {
             "outlinewidth": 0,
             "ticks": ""
            },
            "type": "mesh3d"
           }
          ],
          "parcoords": [
           {
            "line": {
             "colorbar": {
              "outlinewidth": 0,
              "ticks": ""
             }
            },
            "type": "parcoords"
           }
          ],
          "pie": [
           {
            "automargin": true,
            "type": "pie"
           }
          ],
          "scatter": [
           {
            "marker": {
             "colorbar": {
              "outlinewidth": 0,
              "ticks": ""
             }
            },
            "type": "scatter"
           }
          ],
          "scatter3d": [
           {
            "line": {
             "colorbar": {
              "outlinewidth": 0,
              "ticks": ""
             }
            },
            "marker": {
             "colorbar": {
              "outlinewidth": 0,
              "ticks": ""
             }
            },
            "type": "scatter3d"
           }
          ],
          "scattercarpet": [
           {
            "marker": {
             "colorbar": {
              "outlinewidth": 0,
              "ticks": ""
             }
            },
            "type": "scattercarpet"
           }
          ],
          "scattergeo": [
           {
            "marker": {
             "colorbar": {
              "outlinewidth": 0,
              "ticks": ""
             }
            },
            "type": "scattergeo"
           }
          ],
          "scattergl": [
           {
            "marker": {
             "colorbar": {
              "outlinewidth": 0,
              "ticks": ""
             }
            },
            "type": "scattergl"
           }
          ],
          "scattermapbox": [
           {
            "marker": {
             "colorbar": {
              "outlinewidth": 0,
              "ticks": ""
             }
            },
            "type": "scattermapbox"
           }
          ],
          "scatterpolar": [
           {
            "marker": {
             "colorbar": {
              "outlinewidth": 0,
              "ticks": ""
             }
            },
            "type": "scatterpolar"
           }
          ],
          "scatterpolargl": [
           {
            "marker": {
             "colorbar": {
              "outlinewidth": 0,
              "ticks": ""
             }
            },
            "type": "scatterpolargl"
           }
          ],
          "scatterternary": [
           {
            "marker": {
             "colorbar": {
              "outlinewidth": 0,
              "ticks": ""
             }
            },
            "type": "scatterternary"
           }
          ],
          "surface": [
           {
            "colorbar": {
             "outlinewidth": 0,
             "ticks": ""
            },
            "colorscale": [
             [
              0,
              "#0d0887"
             ],
             [
              0.1111111111111111,
              "#46039f"
             ],
             [
              0.2222222222222222,
              "#7201a8"
             ],
             [
              0.3333333333333333,
              "#9c179e"
             ],
             [
              0.4444444444444444,
              "#bd3786"
             ],
             [
              0.5555555555555556,
              "#d8576b"
             ],
             [
              0.6666666666666666,
              "#ed7953"
             ],
             [
              0.7777777777777778,
              "#fb9f3a"
             ],
             [
              0.8888888888888888,
              "#fdca26"
             ],
             [
              1,
              "#f0f921"
             ]
            ],
            "type": "surface"
           }
          ],
          "table": [
           {
            "cells": {
             "fill": {
              "color": "#EBF0F8"
             },
             "line": {
              "color": "white"
             }
            },
            "header": {
             "fill": {
              "color": "#C8D4E3"
             },
             "line": {
              "color": "white"
             }
            },
            "type": "table"
           }
          ]
         },
         "layout": {
          "annotationdefaults": {
           "arrowcolor": "#2a3f5f",
           "arrowhead": 0,
           "arrowwidth": 1
          },
          "autotypenumbers": "strict",
          "coloraxis": {
           "colorbar": {
            "outlinewidth": 0,
            "ticks": ""
           }
          },
          "colorscale": {
           "diverging": [
            [
             0,
             "#8e0152"
            ],
            [
             0.1,
             "#c51b7d"
            ],
            [
             0.2,
             "#de77ae"
            ],
            [
             0.3,
             "#f1b6da"
            ],
            [
             0.4,
             "#fde0ef"
            ],
            [
             0.5,
             "#f7f7f7"
            ],
            [
             0.6,
             "#e6f5d0"
            ],
            [
             0.7,
             "#b8e186"
            ],
            [
             0.8,
             "#7fbc41"
            ],
            [
             0.9,
             "#4d9221"
            ],
            [
             1,
             "#276419"
            ]
           ],
           "sequential": [
            [
             0,
             "#0d0887"
            ],
            [
             0.1111111111111111,
             "#46039f"
            ],
            [
             0.2222222222222222,
             "#7201a8"
            ],
            [
             0.3333333333333333,
             "#9c179e"
            ],
            [
             0.4444444444444444,
             "#bd3786"
            ],
            [
             0.5555555555555556,
             "#d8576b"
            ],
            [
             0.6666666666666666,
             "#ed7953"
            ],
            [
             0.7777777777777778,
             "#fb9f3a"
            ],
            [
             0.8888888888888888,
             "#fdca26"
            ],
            [
             1,
             "#f0f921"
            ]
           ],
           "sequentialminus": [
            [
             0,
             "#0d0887"
            ],
            [
             0.1111111111111111,
             "#46039f"
            ],
            [
             0.2222222222222222,
             "#7201a8"
            ],
            [
             0.3333333333333333,
             "#9c179e"
            ],
            [
             0.4444444444444444,
             "#bd3786"
            ],
            [
             0.5555555555555556,
             "#d8576b"
            ],
            [
             0.6666666666666666,
             "#ed7953"
            ],
            [
             0.7777777777777778,
             "#fb9f3a"
            ],
            [
             0.8888888888888888,
             "#fdca26"
            ],
            [
             1,
             "#f0f921"
            ]
           ]
          },
          "colorway": [
           "#636efa",
           "#EF553B",
           "#00cc96",
           "#ab63fa",
           "#FFA15A",
           "#19d3f3",
           "#FF6692",
           "#B6E880",
           "#FF97FF",
           "#FECB52"
          ],
          "font": {
           "color": "#2a3f5f"
          },
          "geo": {
           "bgcolor": "white",
           "lakecolor": "white",
           "landcolor": "#E5ECF6",
           "showlakes": true,
           "showland": true,
           "subunitcolor": "white"
          },
          "hoverlabel": {
           "align": "left"
          },
          "hovermode": "closest",
          "mapbox": {
           "style": "light"
          },
          "paper_bgcolor": "white",
          "plot_bgcolor": "#E5ECF6",
          "polar": {
           "angularaxis": {
            "gridcolor": "white",
            "linecolor": "white",
            "ticks": ""
           },
           "bgcolor": "#E5ECF6",
           "radialaxis": {
            "gridcolor": "white",
            "linecolor": "white",
            "ticks": ""
           }
          },
          "scene": {
           "xaxis": {
            "backgroundcolor": "#E5ECF6",
            "gridcolor": "white",
            "gridwidth": 2,
            "linecolor": "white",
            "showbackground": true,
            "ticks": "",
            "zerolinecolor": "white"
           },
           "yaxis": {
            "backgroundcolor": "#E5ECF6",
            "gridcolor": "white",
            "gridwidth": 2,
            "linecolor": "white",
            "showbackground": true,
            "ticks": "",
            "zerolinecolor": "white"
           },
           "zaxis": {
            "backgroundcolor": "#E5ECF6",
            "gridcolor": "white",
            "gridwidth": 2,
            "linecolor": "white",
            "showbackground": true,
            "ticks": "",
            "zerolinecolor": "white"
           }
          },
          "shapedefaults": {
           "line": {
            "color": "#2a3f5f"
           }
          },
          "ternary": {
           "aaxis": {
            "gridcolor": "white",
            "linecolor": "white",
            "ticks": ""
           },
           "baxis": {
            "gridcolor": "white",
            "linecolor": "white",
            "ticks": ""
           },
           "bgcolor": "#E5ECF6",
           "caxis": {
            "gridcolor": "white",
            "linecolor": "white",
            "ticks": ""
           }
          },
          "title": {
           "x": 0.05
          },
          "xaxis": {
           "automargin": true,
           "gridcolor": "white",
           "linecolor": "white",
           "ticks": "",
           "title": {
            "standoff": 15
           },
           "zerolinecolor": "white",
           "zerolinewidth": 2
          },
          "yaxis": {
           "automargin": true,
           "gridcolor": "white",
           "linecolor": "white",
           "ticks": "",
           "title": {
            "standoff": 15
           },
           "zerolinecolor": "white",
           "zerolinewidth": 2
          }
         }
        },
        "title": "-K --> Γ --> K",
        "width": 510,
        "xaxis": {
         "linecolor": "black",
         "linewidth": 5,
         "mirror": true,
         "showgrid": true,
         "showline": true,
         "showticklabels": false
        },
        "yaxis": {
         "linecolor": "black",
         "linewidth": 5,
         "mirror": true,
         "showgrid": true,
         "showline": true,
         "showticklabels": true
        }
       }
      },
      "image/png": "[encoded data removed]",
      "image/svg+xml": [
       "<svg class=\"main-svg\" xmlns=\"http://www.w3.org/2000/svg\" xmlns:xlink=\"http://www.w3.org/1999/xlink\" width=\"700\" height=\"500\" style=\"\" viewBox=\"0 0 700 500\"><rect x=\"0\" y=\"0\" width=\"700\" height=\"500\" style=\"fill: rgb(255, 255, 255); fill-opacity: 1;\"/><defs id=\"defs-ffa575\"><g class=\"clips\"><clipPath id=\"clipffa575xyplot\" class=\"plotclip\"><rect width=\"600\" height=\"390\"/></clipPath><clipPath class=\"axesclip\" id=\"clipffa575x\"><rect x=\"50\" y=\"0\" width=\"600\" height=\"500\"/></clipPath><clipPath class=\"axesclip\" id=\"clipffa575y\"><rect x=\"0\" y=\"60\" width=\"700\" height=\"390\"/></clipPath><clipPath class=\"axesclip\" id=\"clipffa575xy\"><rect x=\"50\" y=\"60\" width=\"600\" height=\"390\"/></clipPath></g><g class=\"gradients\"/><g class=\"patterns\"/></defs><g class=\"bglayer\"><rect class=\"bg\" x=\"50\" y=\"60\" width=\"600\" height=\"390\" style=\"fill: rgb(0, 0, 0); fill-opacity: 0; stroke-width: 0;\"/></g><g class=\"layer-below\"><g class=\"imagelayer\"/><g class=\"shapelayer\"/></g><g class=\"cartesianlayer\"><g class=\"subplot xy\"><g class=\"layer-subplot\"><g class=\"shapelayer\"/><g class=\"imagelayer\"/></g><g class=\"gridlayer\"><g class=\"x\"><path class=\"xgrid crisp\" transform=\"translate(166.32999999999998,0)\" d=\"M0,60v390\" style=\"stroke: rgb(255, 255, 255); stroke-opacity: 1; stroke-width: 1px;\"/><path class=\"xgrid crisp\" transform=\"translate(288.78,0)\" d=\"M0,60v390\" style=\"stroke: rgb(255, 255, 255); stroke-opacity: 1; stroke-width: 1px;\"/><path class=\"xgrid crisp\" transform=\"translate(411.22,0)\" d=\"M0,60v390\" style=\"stroke: rgb(255, 255, 255); stroke-opacity: 1; stroke-width: 1px;\"/><path class=\"xgrid crisp\" transform=\"translate(533.6700000000001,0)\" d=\"M0,60v390\" style=\"stroke: rgb(255, 255, 255); stroke-opacity: 1; stroke-width: 1px;\"/></g><g class=\"y\"><path class=\"ygrid crisp\" transform=\"translate(0,430.5)\" d=\"M50,0h600\" style=\"stroke: rgb(255, 255, 255); stroke-opacity: 1; stroke-width: 1px;\"/><path class=\"ygrid crisp\" transform=\"translate(0,372)\" d=\"M50,0h600\" style=\"stroke: rgb(255, 255, 255); stroke-opacity: 1; stroke-width: 1px;\"/><path class=\"ygrid crisp\" transform=\"translate(0,255)\" d=\"M50,0h600\" style=\"stroke: rgb(255, 255, 255); stroke-opacity: 1; stroke-width: 1px;\"/><path class=\"ygrid crisp\" transform=\"translate(0,196.5)\" d=\"M50,0h600\" style=\"stroke: rgb(255, 255, 255); stroke-opacity: 1; stroke-width: 1px;\"/><path class=\"ygrid crisp\" transform=\"translate(0,138)\" d=\"M50,0h600\" style=\"stroke: rgb(255, 255, 255); stroke-opacity: 1; stroke-width: 1px;\"/><path class=\"ygrid crisp\" transform=\"translate(0,79.5)\" d=\"M50,0h600\" style=\"stroke: rgb(255, 255, 255); stroke-opacity: 1; stroke-width: 1px;\"/></g></g><g class=\"zerolinelayer\"><path class=\"yzl zl crisp\" transform=\"translate(0,313.5)\" d=\"M50,0h600\" style=\"stroke: rgb(255, 255, 255); stroke-opacity: 1; stroke-width: 2px;\"/></g><path class=\"xlines-below\"/><path class=\"ylines-below\"/><g class=\"overlines-below\"/><g class=\"xaxislayer-below\"/><g class=\"yaxislayer-below\"/><g class=\"overaxes-below\"/><g class=\"plot\" transform=\"translate(50,60)\" clip-path=\"url(#clipffa575xyplot)\"><g class=\"scatterlayer mlayer\"><g class=\"trace scatter trace267d13\" style=\"stroke-miterlimit: 2; opacity: 1;\"><g class=\"fills\"/><g class=\"errorbars\"/><g class=\"lines\"><path class=\"js-line\" d=\"M0,370.5L600,370.5\" style=\"vector-effect: non-scaling-stroke; fill: none; stroke: rgb(128, 0, 128); stroke-opacity: 1; stroke-width: 4px; opacity: 1;\"/></g><g class=\"points\"/><g class=\"text\"/></g><g class=\"trace scatter tracec7409a\" style=\"stroke-miterlimit: 2; opacity: 1;\"><g class=\"fills\"/><g class=\"errorbars\"/><g class=\"lines\"><path class=\"js-line\" d=\"M0,195L30.61,217.82L36.73,222.61L140.82,305.39L146.94,309.82L177.55,330.29L183.67,333.99L208.16,347.27L214.29,350.17L232.65,357.8L238.78,359.97L257.14,365.3L263.27,366.67L281.63,369.54L287.76,370.07L306.12,370.39L312.24,370.07L330.61,367.84L336.73,366.67L355.1,361.95L361.22,359.97L379.59,352.9L385.71,350.17L410.2,337.55L416.33,333.99L440.82,318.37L446.94,314.15L477.55,291.55L483.67,286.79L538.78,242.27L544.9,237.3L587.76,203.86L593.88,199.38L600,195\" style=\"vector-effect: non-scaling-stroke; fill: none; stroke: rgb(128, 0, 128); stroke-opacity: 1; stroke-width: 4px; opacity: 1;\"/></g><g class=\"points\"/><g class=\"text\"/></g><g class=\"trace scatter trace0bdda0\" style=\"stroke-miterlimit: 2; opacity: 1;\"><g class=\"fills\"/><g class=\"errorbars\"/><g class=\"lines\"><path class=\"js-line\" d=\"M0,195L30.61,172.18L36.73,167.39L140.82,84.61L146.94,80.18L177.55,59.71L183.67,56.01L208.16,42.73L214.29,39.83L232.65,32.2L238.78,30.03L257.14,24.7L263.27,23.33L281.63,20.46L287.76,19.93L306.12,19.61L312.24,19.93L330.61,22.16L336.73,23.33L355.1,28.05L361.22,30.03L379.59,37.1L385.71,39.83L410.2,52.45L416.33,56.01L440.82,71.63L446.94,75.85L477.55,98.45L483.67,103.21L538.78,147.73L544.9,152.7L587.76,186.14L593.88,190.62L600,195\" style=\"vector-effect: non-scaling-stroke; fill: none; stroke: rgb(128, 0, 128); stroke-opacity: 1; stroke-width: 4px; opacity: 1;\"/></g><g class=\"points\"/><g class=\"text\"/></g></g></g><g class=\"overplot\"/><path class=\"xlines-above crisp\" d=\"M45,452.5H655M45,57.5H655\" style=\"fill: none; stroke-width: 5px; stroke: rgb(0, 0, 0); stroke-opacity: 1;\"/><path class=\"ylines-above crisp\" d=\"M47.5,60V450M652.5,60V450\" style=\"fill: none; stroke-width: 5px; stroke: rgb(0, 0, 0); stroke-opacity: 1;\"/><g class=\"overlines-above\"/><g class=\"xaxislayer-above\"/><g class=\"yaxislayer-above\"><g class=\"ytick\"><text text-anchor=\"end\" x=\"42.6\" y=\"4.199999999999999\" transform=\"translate(0,430.5)\" style=\"font-family: 'Open Sans', verdana, arial, sans-serif; font-size: 12px; fill: rgb(42, 63, 95); fill-opacity: 1; white-space: pre; opacity: 1;\">−2</text></g><g class=\"ytick\"><text text-anchor=\"end\" x=\"42.6\" y=\"4.199999999999999\" style=\"font-family: 'Open Sans', verdana, arial, sans-serif; font-size: 12px; fill: rgb(42, 63, 95); fill-opacity: 1; white-space: pre; opacity: 1;\" transform=\"translate(0,372)\">−1</text></g><g class=\"ytick\"><text text-anchor=\"end\" x=\"42.6\" y=\"4.199999999999999\" style=\"font-family: 'Open Sans', verdana, arial, sans-serif; font-size: 12px; fill: rgb(42, 63, 95); fill-opacity: 1; white-space: pre; opacity: 1;\" transform=\"translate(0,313.5)\">0</text></g><g class=\"ytick\"><text text-anchor=\"end\" x=\"42.6\" y=\"4.199999999999999\" style=\"font-family: 'Open Sans', verdana, arial, sans-serif; font-size: 12px; fill: rgb(42, 63, 95); fill-opacity: 1; white-space: pre; opacity: 1;\" transform=\"translate(0,255)\">1</text></g><g class=\"ytick\"><text text-anchor=\"end\" x=\"42.6\" y=\"4.199999999999999\" style=\"font-family: 'Open Sans', verdana, arial, sans-serif; font-size: 12px; fill: rgb(42, 63, 95); fill-opacity: 1; white-space: pre; opacity: 1;\" transform=\"translate(0,196.5)\">2</text></g><g class=\"ytick\"><text text-anchor=\"end\" x=\"42.6\" y=\"4.199999999999999\" style=\"font-family: 'Open Sans', verdana, arial, sans-serif; font-size: 12px; fill: rgb(42, 63, 95); fill-opacity: 1; white-space: pre; opacity: 1;\" transform=\"translate(0,138)\">3</text></g><g class=\"ytick\"><text text-anchor=\"end\" x=\"42.6\" y=\"4.199999999999999\" style=\"font-family: 'Open Sans', verdana, arial, sans-serif; font-size: 12px; fill: rgb(42, 63, 95); fill-opacity: 1; white-space: pre; opacity: 1;\" transform=\"translate(0,79.5)\">4</text></g></g><g class=\"overaxes-above\"/></g></g><g class=\"polarlayer\"/><g class=\"ternarylayer\"/><g class=\"geolayer\"/><g class=\"funnelarealayer\"/><g class=\"pielayer\"/><g class=\"iciclelayer\"/><g class=\"treemaplayer\"/><g class=\"sunburstlayer\"/><g class=\"glimages\"/><defs id=\"topdefs-ffa575\"><g class=\"clips\"/></defs><g class=\"layer-above\"><g class=\"imagelayer\"/><g class=\"shapelayer\"/></g><g class=\"infolayer\"><g class=\"g-gtitle\"><text class=\"gtitle\" x=\"35\" y=\"30\" text-anchor=\"start\" dy=\"0em\" style=\"font-family: 'Open Sans', verdana, arial, sans-serif; font-size: 17px; fill: rgb(42, 63, 95); opacity: 1; font-weight: normal; white-space: pre;\">-K --> Γ --> K</text></g><g class=\"g-xtitle\"/><g class=\"g-ytitle\"/></g></svg>"
      ],
      "text/html": [
       "<div\n",
       "    class=\"webio-mountpoint\"\n",
       "    data-webio-mountpoint=\"7985753684964801395\"\n",
       ">\n",
       "    <script>\n",
       "    (function(){\n",
       "    // Some integrations (namely, IJulia/Jupyter) use an alternate render pathway than\n",
       "    // just putting the html on the page. If WebIO isn't defined, then it's pretty likely\n",
       "    // that we're in one of those situations and the integration just isn't installed\n",
       "    // correctly.\n",
       "    if (typeof window.WebIO === \"undefined\") {\n",
       "        document\n",
       "            .querySelector('[data-webio-mountpoint=\"7985753684964801395\"]')\n",
       "            .innerHTML = (\n",
       "                '<div style=\"padding: 1em; background-color: #f8d6da; border: 1px solid #f5c6cb; font-weight: bold;\">' +\n",
       "                '<p><strong>WebIO not detected.</strong></p>' +\n",
       "                '<p>Please read ' +\n",
       "                '<a href=\"https://juliagizmos.github.io/WebIO.jl/latest/troubleshooting/not-detected/\" target=\"_blank\">the troubleshooting guide</a> ' +\n",
       "                'for more information on how to resolve this issue.</p>' +\n",
       "                '<p><a href=\"https://juliagizmos.github.io/WebIO.jl/latest/troubleshooting/not-detected/\" target=\"_blank\">https://juliagizmos.github.io/WebIO.jl/latest/troubleshooting/not-detected/</a></p>' +\n",
       "                '</div>'\n",
       "            );\n",
       "        return;\n",
       "    }\n",
       "    WebIO.mount(\n",
       "        document.querySelector('[data-webio-mountpoint=\"7985753684964801395\"]'),\n",
       "        {\"props\":{},\"nodeType\":\"Scope\",\"type\":\"node\",\"instanceArgs\":{\"imports\":{\"data\":[{\"name\":\"Plotly\",\"type\":\"js\",\"url\":\"\\/assetserver\\/b267c3137400db01c304fe886fe6f707be7fdb37-plotly.min.js\"},{\"name\":null,\"type\":\"js\",\"url\":\"\\/assetserver\\/020f2e8a4619f2ae880fff9315e6547eef1aff0b-plotly_webio.bundle.js\"}],\"type\":\"async_block\"},\"id\":\"4523347119249616445\",\"handlers\":{\"_toImage\":[\"(function (options){return this.Plotly.toImage(this.plotElem,options).then((function (data){return WebIO.setval({\\\"name\\\":\\\"image\\\",\\\"scope\\\":\\\"4523347119249616445\\\",\\\"id\\\":\\\"35\\\",\\\"type\\\":\\\"observable\\\"},data)}))})\"],\"__get_gd_contents\":[\"(function (prop){prop==\\\"data\\\" ? (WebIO.setval({\\\"name\\\":\\\"__gd_contents\\\",\\\"scope\\\":\\\"4523347119249616445\\\",\\\"id\\\":\\\"36\\\",\\\"type\\\":\\\"observable\\\"},this.plotElem.data)) : undefined; return prop==\\\"layout\\\" ? (WebIO.setval({\\\"name\\\":\\\"__gd_contents\\\",\\\"scope\\\":\\\"4523347119249616445\\\",\\\"id\\\":\\\"36\\\",\\\"type\\\":\\\"observable\\\"},this.plotElem.layout)) : undefined})\"],\"_downloadImage\":[\"(function (options){return this.Plotly.downloadImage(this.plotElem,options)})\"],\"_commands\":[\"(function (args){var fn=args.shift(); var elem=this.plotElem; var Plotly=this.Plotly; args.unshift(elem); return Plotly[fn].apply(this,args)})\"]},\"systemjs_options\":null,\"mount_callbacks\":[\"function () {\\n    var handler = ((function (Plotly,PlotlyWebIO){PlotlyWebIO.init(WebIO); var gd=this.dom.querySelector(\\\"#plot-51408833-3557-417b-aaa8-891d7409d10b\\\"); this.plotElem=gd; this.Plotly=Plotly; (window.Blink!==undefined) ? (gd.style.width=\\\"100%\\\", gd.style.height=\\\"100vh\\\", gd.style.marginLeft=\\\"0%\\\", gd.style.marginTop=\\\"0vh\\\") : undefined; window.onresize=(function (){return Plotly.Plots.resize(gd)}); Plotly.newPlot(gd,[{\\\"mode\\\":\\\"lines\\\",\\\"line\\\":{\\\"color\\\":\\\"purple\\\",\\\"width\\\":4},\\\"y\\\":[-1.9999999999999998,-1.9999999999999998,-2.0,-1.9999999999999998,-2.0,-2.0,-2.0,-1.9999999999999998,-1.9999999999999993,-1.9999999999999998,-2.0,-1.9999999999999996,-2.0,-1.9999999999999996,-1.9999999999999998,-1.9999999999999998,-1.9999999999999996,-1.9999999999999996,-1.999999999999999,-1.9999999999999993,-1.9999999999999996,-1.9999999999999993,-1.9999999999999998,-1.9999999999999998,-1.9999999999999996,-1.9999999999999998,-1.9999999999999991,-2.0000000000000013,-1.9999999999999991,-2.0000000000000004,-1.9999999999999993,-1.9999999999999987,-2.0000000000000004,-1.9999999999999984,-1.9999999999999991,-1.999999999999998,-1.9999999999999996,-2.0000000000000004,-1.9999999999999962,-2.0000000000000058,-2.000000000000007,-1.9999999999999962,-2.0,-1.9999999999999922,-1.9999999999999938,-2.000000000000035,-1.9999999999999984,-1.9999999999999913,-1.999999999999488,-1.9999999999999991,-1.999999999999488,-1.9999999999999913,-1.9999999999999984,-2.000000000000035,-1.9999999999999996,-1.9999999999999922,-2.0,-2.0000000000000004,-2.0000000000000084,-2.0000000000000027,-1.9999999999999962,-2.0000000000000004,-1.9999999999999984,-1.999999999999998,-2.0000000000000004,-2.0,-2.0000000000000004,-1.9999999999999987,-1.9999999999999993,-2.0000000000000004,-1.9999999999999991,-2.0000000000000013,-1.9999999999999998,-1.9999999999999998,-1.9999999999999996,-1.9999999999999998,-1.9999999999999998,-1.9999999999999993,-1.9999999999999996,-1.9999999999999993,-1.999999999999999,-1.9999999999999996,-1.9999999999999993,-1.9999999999999993,-1.9999999999999998,-1.9999999999999996,-1.9999999999999998,-1.9999999999999996,-2.0,-1.9999999999999993,-2.0,-1.9999999999999998,-2.0,-2.0,-2.0,-1.9999999999999998,-2.0,-1.9999999999999998,-1.9999999999999998],\\\"type\\\":\\\"scatter\\\",\\\"x\\\":[1,2,3,4,5,6,7,8,9,10,11,12,13,14,15,16,17,18,19,20,21,22,23,24,25,26,27,28,29,30,31,32,33,34,35,36,37,38,39,40,41,42,43,44,45,46,47,48,49,50,51,52,53,54,55,56,57,58,59,60,61,62,63,64,65,66,67,68,69,70,71,72,73,74,75,76,77,78,79,80,81,82,83,84,85,86,87,88,89,90,91,92,93,94,95,96,97,98,99]},{\\\"mode\\\":\\\"lines\\\",\\\"line\\\":{\\\"color\\\":\\\"purple\\\",\\\"width\\\":4},\\\"y\\\":[0.9999999999999998,0.9250765804816707,0.8484633557980745,0.7703002726579811,0.6907301088426152,0.609898212398454,0.5279522361350191,0.44504186791262845,0.36131855721279704,0.27693523849074775,0.19204605181536305,0.10680606130689707,0.02137097188674586,-0.06410315514331089,-0.14946018717284892,-0.2345442054848046,-0.3191997900667589,-0.4032723035112671,-0.48660817348661856,-0.5690551732620663,-0.6504626997750944,-0.7306820487327912,-0.8095666862447881,-0.8869725164916267,-0.9627581449395666,-1.0367851366210503,-1.108918269009047,-1.1790257790233185,-1.246979603717468,-1.3126556142070362,-1.375933842411438,-1.436698700195457,-1.4948391905100706,-1.5502491101469051,-1.6028272437359141,-1.6524775486319918,-1.6991093303527078,-1.7426374082467784,-1.7829822710905827,-1.8200702223285279,-1.8538335146920364,-1.8842104739510706,-1.9111456115722816,-1.9345897260780667,-1.9544999929210944,-1.9708400427104498,-1.983580027646494,-1.9926966760424223,-1.9981733348347084,-2.000000000000001,-1.9981733348347084,-1.9926966760424223,-1.983580027646494,-1.9708400427104498,-1.9544999929210887,-1.9345897260780667,-1.9111456115722816,-1.8842104739510663,-1.853833514692035,-1.820070222328531,-1.7829822710905827,-1.7426374082467784,-1.6991093303527094,-1.6524775486319918,-1.6028272437359128,-1.550249110146904,-1.4948391905100706,-1.436698700195457,-1.375933842411438,-1.3126556142070362,-1.246979603717468,-1.1790257790233185,-1.108918269009046,-1.0367851366210503,-0.9627581449395666,-0.8869725164916267,-0.8095666862447881,-0.7306820487327907,-0.6504626997750944,-0.5690551732620663,-0.48660817348661856,-0.4032723035112671,-0.3191997900667596,-0.23454420548480415,-0.14946018717284892,-0.06410315514331089,0.021370971886746304,0.10680606130689707,0.19204605181536305,0.27693523849074686,0.36131855721279793,0.44504186791262823,0.5279522361350191,0.609898212398454,0.6907301088426152,0.7703002726579808,0.8484633557980745,0.9250765804816707,0.9999999999999998],\\\"type\\\":\\\"scatter\\\",\\\"x\\\":[1,2,3,4,5,6,7,8,9,10,11,12,13,14,15,16,17,18,19,20,21,22,23,24,25,26,27,28,29,30,31,32,33,34,35,36,37,38,39,40,41,42,43,44,45,46,47,48,49,50,51,52,53,54,55,56,57,58,59,60,61,62,63,64,65,66,67,68,69,70,71,72,73,74,75,76,77,78,79,80,81,82,83,84,85,86,87,88,89,90,91,92,93,94,95,96,97,98,99]},{\\\"mode\\\":\\\"lines\\\",\\\"line\\\":{\\\"color\\\":\\\"purple\\\",\\\"width\\\":4},\\\"y\\\":[1.0,1.074923419518329,1.1515366442019255,1.2296997273420187,1.3092698911573848,1.390101787601546,1.472047763864981,1.5549581320873713,1.6386814427872023,1.723064761509252,1.807953948184637,1.8931939386931025,1.9786290281132541,2.0641031551433104,2.1494601871728487,2.2345442054848044,2.3191997900667585,2.4032723035112666,2.4866081734866174,2.5690551732620657,2.650462699775094,2.7306820487327905,2.809566686244788,2.8869725164916265,2.962758144939566,3.03678513662105,3.108918269009046,3.17902577902332,3.246979603717467,3.3126556142070367,3.3759338424114373,3.4366987001954556,3.494839190510071,3.5502491101469036,3.6028272437359132,3.65247754863199,3.6991093303527074,3.742637408246779,3.782982271090579,3.8200702223285337,3.8538335146920435,3.8842104739510668,3.9111456115722816,3.934589726078059,3.9544999929210882,3.970840042710485,3.9835800276464925,3.9926966760424136,3.9981733348341963,4.0,3.9981733348341963,3.9926966760424136,3.9835800276464925,3.970840042710485,3.9544999929210882,3.934589726078059,3.9111456115722816,3.8842104739510668,3.8538335146920435,3.8200702223285337,3.782982271090579,3.742637408246779,3.699109330352708,3.65247754863199,3.6028272437359132,3.550249110146904,3.494839190510071,3.4366987001954556,3.3759338424114373,3.3126556142070367,3.246979603717467,3.17902577902332,3.1089182690090458,3.03678513662105,2.962758144939566,2.8869725164916265,2.809566686244788,2.73068204873279,2.650462699775094,2.5690551732620657,2.4866081734866174,2.4032723035112666,2.319199790066759,2.2345442054848035,2.1494601871728487,2.0641031551433104,1.9786290281132535,1.8931939386931025,1.807953948184637,1.7230647615092525,1.638681442787202,1.5549581320873715,1.472047763864981,1.390101787601546,1.3092698911573848,1.229699727342019,1.1515366442019255,1.074923419518329,1.0],\\\"type\\\":\\\"scatter\\\",\\\"x\\\":[1,2,3,4,5,6,7,8,9,10,11,12,13,14,15,16,17,18,19,20,21,22,23,24,25,26,27,28,29,30,31,32,33,34,35,36,37,38,39,40,41,42,43,44,45,46,47,48,49,50,51,52,53,54,55,56,57,58,59,60,61,62,63,64,65,66,67,68,69,70,71,72,73,74,75,76,77,78,79,80,81,82,83,84,85,86,87,88,89,90,91,92,93,94,95,96,97,98,99]}],{\\\"showlegend\\\":false,\\\"xaxis\\\":{\\\"showgrid\\\":true,\\\"showline\\\":true,\\\"showticklabels\\\":false,\\\"linewidth\\\":5,\\\"mirror\\\":true,\\\"linecolor\\\":\\\"black\\\"},\\\"template\\\":{\\\"layout\\\":{\\\"coloraxis\\\":{\\\"colorbar\\\":{\\\"ticks\\\":\\\"\\\",\\\"outlinewidth\\\":0}},\\\"xaxis\\\":{\\\"gridcolor\\\":\\\"white\\\",\\\"zerolinewidth\\\":2,\\\"title\\\":{\\\"standoff\\\":15},\\\"ticks\\\":\\\"\\\",\\\"zerolinecolor\\\":\\\"white\\\",\\\"automargin\\\":true,\\\"linecolor\\\":\\\"white\\\"},\\\"hovermode\\\":\\\"closest\\\",\\\"paper_bgcolor\\\":\\\"white\\\",\\\"geo\\\":{\\\"showlakes\\\":true,\\\"showland\\\":true,\\\"landcolor\\\":\\\"#E5ECF6\\\",\\\"bgcolor\\\":\\\"white\\\",\\\"subunitcolor\\\":\\\"white\\\",\\\"lakecolor\\\":\\\"white\\\"},\\\"colorscale\\\":{\\\"sequential\\\":[[0.0,\\\"#0d0887\\\"],[0.1111111111111111,\\\"#46039f\\\"],[0.2222222222222222,\\\"#7201a8\\\"],[0.3333333333333333,\\\"#9c179e\\\"],[0.4444444444444444,\\\"#bd3786\\\"],[0.5555555555555556,\\\"#d8576b\\\"],[0.6666666666666666,\\\"#ed7953\\\"],[0.7777777777777778,\\\"#fb9f3a\\\"],[0.8888888888888888,\\\"#fdca26\\\"],[1.0,\\\"#f0f921\\\"]],\\\"diverging\\\":[[0,\\\"#8e0152\\\"],[0.1,\\\"#c51b7d\\\"],[0.2,\\\"#de77ae\\\"],[0.3,\\\"#f1b6da\\\"],[0.4,\\\"#fde0ef\\\"],[0.5,\\\"#f7f7f7\\\"],[0.6,\\\"#e6f5d0\\\"],[0.7,\\\"#b8e186\\\"],[0.8,\\\"#7fbc41\\\"],[0.9,\\\"#4d9221\\\"],[1,\\\"#276419\\\"]],\\\"sequentialminus\\\":[[0.0,\\\"#0d0887\\\"],[0.1111111111111111,\\\"#46039f\\\"],[0.2222222222222222,\\\"#7201a8\\\"],[0.3333333333333333,\\\"#9c179e\\\"],[0.4444444444444444,\\\"#bd3786\\\"],[0.5555555555555556,\\\"#d8576b\\\"],[0.6666666666666666,\\\"#ed7953\\\"],[0.7777777777777778,\\\"#fb9f3a\\\"],[0.8888888888888888,\\\"#fdca26\\\"],[1.0,\\\"#f0f921\\\"]]},\\\"yaxis\\\":{\\\"gridcolor\\\":\\\"white\\\",\\\"zerolinewidth\\\":2,\\\"title\\\":{\\\"standoff\\\":15},\\\"ticks\\\":\\\"\\\",\\\"zerolinecolor\\\":\\\"white\\\",\\\"automargin\\\":true,\\\"linecolor\\\":\\\"white\\\"},\\\"shapedefaults\\\":{\\\"line\\\":{\\\"color\\\":\\\"#2a3f5f\\\"}},\\\"hoverlabel\\\":{\\\"align\\\":\\\"left\\\"},\\\"mapbox\\\":{\\\"style\\\":\\\"light\\\"},\\\"polar\\\":{\\\"angularaxis\\\":{\\\"gridcolor\\\":\\\"white\\\",\\\"ticks\\\":\\\"\\\",\\\"linecolor\\\":\\\"white\\\"},\\\"bgcolor\\\":\\\"#E5ECF6\\\",\\\"radialaxis\\\":{\\\"gridcolor\\\":\\\"white\\\",\\\"ticks\\\":\\\"\\\",\\\"linecolor\\\":\\\"white\\\"}},\\\"autotypenumbers\\\":\\\"strict\\\",\\\"font\\\":{\\\"color\\\":\\\"#2a3f5f\\\"},\\\"ternary\\\":{\\\"baxis\\\":{\\\"gridcolor\\\":\\\"white\\\",\\\"ticks\\\":\\\"\\\",\\\"linecolor\\\":\\\"white\\\"},\\\"bgcolor\\\":\\\"#E5ECF6\\\",\\\"caxis\\\":{\\\"gridcolor\\\":\\\"white\\\",\\\"ticks\\\":\\\"\\\",\\\"linecolor\\\":\\\"white\\\"},\\\"aaxis\\\":{\\\"gridcolor\\\":\\\"white\\\",\\\"ticks\\\":\\\"\\\",\\\"linecolor\\\":\\\"white\\\"}},\\\"annotationdefaults\\\":{\\\"arrowhead\\\":0,\\\"arrowwidth\\\":1,\\\"arrowcolor\\\":\\\"#2a3f5f\\\"},\\\"plot_bgcolor\\\":\\\"#E5ECF6\\\",\\\"title\\\":{\\\"x\\\":0.05},\\\"scene\\\":{\\\"xaxis\\\":{\\\"gridcolor\\\":\\\"white\\\",\\\"gridwidth\\\":2,\\\"backgroundcolor\\\":\\\"#E5ECF6\\\",\\\"ticks\\\":\\\"\\\",\\\"showbackground\\\":true,\\\"zerolinecolor\\\":\\\"white\\\",\\\"linecolor\\\":\\\"white\\\"},\\\"zaxis\\\":{\\\"gridcolor\\\":\\\"white\\\",\\\"gridwidth\\\":2,\\\"backgroundcolor\\\":\\\"#E5ECF6\\\",\\\"ticks\\\":\\\"\\\",\\\"showbackground\\\":true,\\\"zerolinecolor\\\":\\\"white\\\",\\\"linecolor\\\":\\\"white\\\"},\\\"yaxis\\\":{\\\"gridcolor\\\":\\\"white\\\",\\\"gridwidth\\\":2,\\\"backgroundcolor\\\":\\\"#E5ECF6\\\",\\\"ticks\\\":\\\"\\\",\\\"showbackground\\\":true,\\\"zerolinecolor\\\":\\\"white\\\",\\\"linecolor\\\":\\\"white\\\"}},\\\"colorway\\\":[\\\"#636efa\\\",\\\"#EF553B\\\",\\\"#00cc96\\\",\\\"#ab63fa\\\",\\\"#FFA15A\\\",\\\"#19d3f3\\\",\\\"#FF6692\\\",\\\"#B6E880\\\",\\\"#FF97FF\\\",\\\"#FECB52\\\"]},\\\"data\\\":{\\\"barpolar\\\":[{\\\"type\\\":\\\"barpolar\\\",\\\"marker\\\":{\\\"line\\\":{\\\"color\\\":\\\"#E5ECF6\\\",\\\"width\\\":0.5}}}],\\\"carpet\\\":[{\\\"aaxis\\\":{\\\"gridcolor\\\":\\\"white\\\",\\\"endlinecolor\\\":\\\"#2a3f5f\\\",\\\"minorgridcolor\\\":\\\"white\\\",\\\"startlinecolor\\\":\\\"#2a3f5f\\\",\\\"linecolor\\\":\\\"white\\\"},\\\"type\\\":\\\"carpet\\\",\\\"baxis\\\":{\\\"gridcolor\\\":\\\"white\\\",\\\"endlinecolor\\\":\\\"#2a3f5f\\\",\\\"minorgridcolor\\\":\\\"white\\\",\\\"startlinecolor\\\":\\\"#2a3f5f\\\",\\\"linecolor\\\":\\\"white\\\"}}],\\\"scatterpolar\\\":[{\\\"type\\\":\\\"scatterpolar\\\",\\\"marker\\\":{\\\"colorbar\\\":{\\\"ticks\\\":\\\"\\\",\\\"outlinewidth\\\":0}}}],\\\"parcoords\\\":[{\\\"line\\\":{\\\"colorbar\\\":{\\\"ticks\\\":\\\"\\\",\\\"outlinewidth\\\":0}},\\\"type\\\":\\\"parcoords\\\"}],\\\"scatter\\\":[{\\\"type\\\":\\\"scatter\\\",\\\"marker\\\":{\\\"colorbar\\\":{\\\"ticks\\\":\\\"\\\",\\\"outlinewidth\\\":0}}}],\\\"histogram2dcontour\\\":[{\\\"colorbar\\\":{\\\"ticks\\\":\\\"\\\",\\\"outlinewidth\\\":0},\\\"type\\\":\\\"histogram2dcontour\\\",\\\"colorscale\\\":[[0.0,\\\"#0d0887\\\"],[0.1111111111111111,\\\"#46039f\\\"],[0.2222222222222222,\\\"#7201a8\\\"],[0.3333333333333333,\\\"#9c179e\\\"],[0.4444444444444444,\\\"#bd3786\\\"],[0.5555555555555556,\\\"#d8576b\\\"],[0.6666666666666666,\\\"#ed7953\\\"],[0.7777777777777778,\\\"#fb9f3a\\\"],[0.8888888888888888,\\\"#fdca26\\\"],[1.0,\\\"#f0f921\\\"]]}],\\\"contour\\\":[{\\\"colorbar\\\":{\\\"ticks\\\":\\\"\\\",\\\"outlinewidth\\\":0},\\\"type\\\":\\\"contour\\\",\\\"colorscale\\\":[[0.0,\\\"#0d0887\\\"],[0.1111111111111111,\\\"#46039f\\\"],[0.2222222222222222,\\\"#7201a8\\\"],[0.3333333333333333,\\\"#9c179e\\\"],[0.4444444444444444,\\\"#bd3786\\\"],[0.5555555555555556,\\\"#d8576b\\\"],[0.6666666666666666,\\\"#ed7953\\\"],[0.7777777777777778,\\\"#fb9f3a\\\"],[0.8888888888888888,\\\"#fdca26\\\"],[1.0,\\\"#f0f921\\\"]]}],\\\"scattercarpet\\\":[{\\\"type\\\":\\\"scattercarpet\\\",\\\"marker\\\":{\\\"colorbar\\\":{\\\"ticks\\\":\\\"\\\",\\\"outlinewidth\\\":0}}}],\\\"mesh3d\\\":[{\\\"colorbar\\\":{\\\"ticks\\\":\\\"\\\",\\\"outlinewidth\\\":0},\\\"type\\\":\\\"mesh3d\\\"}],\\\"surface\\\":[{\\\"colorbar\\\":{\\\"ticks\\\":\\\"\\\",\\\"outlinewidth\\\":0},\\\"type\\\":\\\"surface\\\",\\\"colorscale\\\":[[0.0,\\\"#0d0887\\\"],[0.1111111111111111,\\\"#46039f\\\"],[0.2222222222222222,\\\"#7201a8\\\"],[0.3333333333333333,\\\"#9c179e\\\"],[0.4444444444444444,\\\"#bd3786\\\"],[0.5555555555555556,\\\"#d8576b\\\"],[0.6666666666666666,\\\"#ed7953\\\"],[0.7777777777777778,\\\"#fb9f3a\\\"],[0.8888888888888888,\\\"#fdca26\\\"],[1.0,\\\"#f0f921\\\"]]}],\\\"scattermapbox\\\":[{\\\"type\\\":\\\"scattermapbox\\\",\\\"marker\\\":{\\\"colorbar\\\":{\\\"ticks\\\":\\\"\\\",\\\"outlinewidth\\\":0}}}],\\\"scattergeo\\\":[{\\\"type\\\":\\\"scattergeo\\\",\\\"marker\\\":{\\\"colorbar\\\":{\\\"ticks\\\":\\\"\\\",\\\"outlinewidth\\\":0}}}],\\\"histogram\\\":[{\\\"type\\\":\\\"histogram\\\",\\\"marker\\\":{\\\"colorbar\\\":{\\\"ticks\\\":\\\"\\\",\\\"outlinewidth\\\":0}}}],\\\"pie\\\":[{\\\"type\\\":\\\"pie\\\",\\\"automargin\\\":true}],\\\"choropleth\\\":[{\\\"colorbar\\\":{\\\"ticks\\\":\\\"\\\",\\\"outlinewidth\\\":0},\\\"type\\\":\\\"choropleth\\\"}],\\\"heatmapgl\\\":[{\\\"colorbar\\\":{\\\"ticks\\\":\\\"\\\",\\\"outlinewidth\\\":0},\\\"type\\\":\\\"heatmapgl\\\",\\\"colorscale\\\":[[0.0,\\\"#0d0887\\\"],[0.1111111111111111,\\\"#46039f\\\"],[0.2222222222222222,\\\"#7201a8\\\"],[0.3333333333333333,\\\"#9c179e\\\"],[0.4444444444444444,\\\"#bd3786\\\"],[0.5555555555555556,\\\"#d8576b\\\"],[0.6666666666666666,\\\"#ed7953\\\"],[0.7777777777777778,\\\"#fb9f3a\\\"],[0.8888888888888888,\\\"#fdca26\\\"],[1.0,\\\"#f0f921\\\"]]}],\\\"bar\\\":[{\\\"type\\\":\\\"bar\\\",\\\"error_y\\\":{\\\"color\\\":\\\"#2a3f5f\\\"},\\\"error_x\\\":{\\\"color\\\":\\\"#2a3f5f\\\"},\\\"marker\\\":{\\\"line\\\":{\\\"color\\\":\\\"#E5ECF6\\\",\\\"width\\\":0.5}}}],\\\"heatmap\\\":[{\\\"colorbar\\\":{\\\"ticks\\\":\\\"\\\",\\\"outlinewidth\\\":0},\\\"type\\\":\\\"heatmap\\\",\\\"colorscale\\\":[[0.0,\\\"#0d0887\\\"],[0.1111111111111111,\\\"#46039f\\\"],[0.2222222222222222,\\\"#7201a8\\\"],[0.3333333333333333,\\\"#9c179e\\\"],[0.4444444444444444,\\\"#bd3786\\\"],[0.5555555555555556,\\\"#d8576b\\\"],[0.6666666666666666,\\\"#ed7953\\\"],[0.7777777777777778,\\\"#fb9f3a\\\"],[0.8888888888888888,\\\"#fdca26\\\"],[1.0,\\\"#f0f921\\\"]]}],\\\"contourcarpet\\\":[{\\\"colorbar\\\":{\\\"ticks\\\":\\\"\\\",\\\"outlinewidth\\\":0},\\\"type\\\":\\\"contourcarpet\\\"}],\\\"table\\\":[{\\\"type\\\":\\\"table\\\",\\\"header\\\":{\\\"line\\\":{\\\"color\\\":\\\"white\\\"},\\\"fill\\\":{\\\"color\\\":\\\"#C8D4E3\\\"}},\\\"cells\\\":{\\\"line\\\":{\\\"color\\\":\\\"white\\\"},\\\"fill\\\":{\\\"color\\\":\\\"#EBF0F8\\\"}}}],\\\"scatter3d\\\":[{\\\"line\\\":{\\\"colorbar\\\":{\\\"ticks\\\":\\\"\\\",\\\"outlinewidth\\\":0}},\\\"type\\\":\\\"scatter3d\\\",\\\"marker\\\":{\\\"colorbar\\\":{\\\"ticks\\\":\\\"\\\",\\\"outlinewidth\\\":0}}}],\\\"scattergl\\\":[{\\\"type\\\":\\\"scattergl\\\",\\\"marker\\\":{\\\"colorbar\\\":{\\\"ticks\\\":\\\"\\\",\\\"outlinewidth\\\":0}}}],\\\"histogram2d\\\":[{\\\"colorbar\\\":{\\\"ticks\\\":\\\"\\\",\\\"outlinewidth\\\":0},\\\"type\\\":\\\"histogram2d\\\",\\\"colorscale\\\":[[0.0,\\\"#0d0887\\\"],[0.1111111111111111,\\\"#46039f\\\"],[0.2222222222222222,\\\"#7201a8\\\"],[0.3333333333333333,\\\"#9c179e\\\"],[0.4444444444444444,\\\"#bd3786\\\"],[0.5555555555555556,\\\"#d8576b\\\"],[0.6666666666666666,\\\"#ed7953\\\"],[0.7777777777777778,\\\"#fb9f3a\\\"],[0.8888888888888888,\\\"#fdca26\\\"],[1.0,\\\"#f0f921\\\"]]}],\\\"scatterternary\\\":[{\\\"type\\\":\\\"scatterternary\\\",\\\"marker\\\":{\\\"colorbar\\\":{\\\"ticks\\\":\\\"\\\",\\\"outlinewidth\\\":0}}}],\\\"scatterpolargl\\\":[{\\\"type\\\":\\\"scatterpolargl\\\",\\\"marker\\\":{\\\"colorbar\\\":{\\\"ticks\\\":\\\"\\\",\\\"outlinewidth\\\":0}}}]}},\\\"height\\\":510,\\\"margin\\\":{\\\"l\\\":50,\\\"b\\\":50,\\\"r\\\":50,\\\"t\\\":60},\\\"title\\\":\\\"-K --> Γ --> K\\\",\\\"yaxis\\\":{\\\"showgrid\\\":true,\\\"showline\\\":true,\\\"showticklabels\\\":true,\\\"linewidth\\\":5,\\\"mirror\\\":true,\\\"linecolor\\\":\\\"black\\\"},\\\"plot_bgcolor\\\":\\\"rgba(0,0,0,0)\\\",\\\"width\\\":510},{\\\"showLink\\\":false,\\\"editable\\\":false,\\\"responsive\\\":true,\\\"staticPlot\\\":false,\\\"scrollZoom\\\":true}); gd.on(\\\"plotly_hover\\\",(function (data){var filtered_data=WebIO.PlotlyCommands.filterEventData(gd,data,\\\"hover\\\"); return !(filtered_data.isnil) ? (WebIO.setval({\\\"name\\\":\\\"hover\\\",\\\"scope\\\":\\\"4523347119249616445\\\",\\\"id\\\":\\\"31\\\",\\\"type\\\":\\\"observable\\\"},filtered_data.out)) : undefined})); gd.on(\\\"plotly_unhover\\\",(function (){return WebIO.setval({\\\"name\\\":\\\"hover\\\",\\\"scope\\\":\\\"4523347119249616445\\\",\\\"id\\\":\\\"31\\\",\\\"type\\\":\\\"observable\\\"},{})})); gd.on(\\\"plotly_selected\\\",(function (data){var filtered_data=WebIO.PlotlyCommands.filterEventData(gd,data,\\\"selected\\\"); return !(filtered_data.isnil) ? (WebIO.setval({\\\"name\\\":\\\"selected\\\",\\\"scope\\\":\\\"4523347119249616445\\\",\\\"id\\\":\\\"32\\\",\\\"type\\\":\\\"observable\\\"},filtered_data.out)) : undefined})); gd.on(\\\"plotly_deselect\\\",(function (){return WebIO.setval({\\\"name\\\":\\\"selected\\\",\\\"scope\\\":\\\"4523347119249616445\\\",\\\"id\\\":\\\"32\\\",\\\"type\\\":\\\"observable\\\"},{})})); gd.on(\\\"plotly_relayout\\\",(function (data){var filtered_data=WebIO.PlotlyCommands.filterEventData(gd,data,\\\"relayout\\\"); return !(filtered_data.isnil) ? (WebIO.setval({\\\"name\\\":\\\"relayout\\\",\\\"scope\\\":\\\"4523347119249616445\\\",\\\"id\\\":\\\"34\\\",\\\"type\\\":\\\"observable\\\"},filtered_data.out)) : undefined})); return gd.on(\\\"plotly_click\\\",(function (data){var filtered_data=WebIO.PlotlyCommands.filterEventData(gd,data,\\\"click\\\"); return !(filtered_data.isnil) ? (WebIO.setval({\\\"name\\\":\\\"click\\\",\\\"scope\\\":\\\"4523347119249616445\\\",\\\"id\\\":\\\"33\\\",\\\"type\\\":\\\"observable\\\"},filtered_data.out)) : undefined}))}));\\n    (WebIO.importBlock({\\\"data\\\":[{\\\"name\\\":\\\"Plotly\\\",\\\"type\\\":\\\"js\\\",\\\"url\\\":\\\"\\/assetserver\\/b267c3137400db01c304fe886fe6f707be7fdb37-plotly.min.js\\\"},{\\\"name\\\":null,\\\"type\\\":\\\"js\\\",\\\"url\\\":\\\"\\/assetserver\\/020f2e8a4619f2ae880fff9315e6547eef1aff0b-plotly_webio.bundle.js\\\"}],\\\"type\\\":\\\"async_block\\\"})).then((imports) => handler.apply(this, imports));\\n}\\n\"],\"observables\":{\"_toImage\":{\"sync\":false,\"id\":\"38\",\"value\":{}},\"hover\":{\"sync\":false,\"id\":\"31\",\"value\":{}},\"selected\":{\"sync\":false,\"id\":\"32\",\"value\":{}},\"__gd_contents\":{\"sync\":false,\"id\":\"36\",\"value\":{}},\"click\":{\"sync\":false,\"id\":\"33\",\"value\":{}},\"image\":{\"sync\":true,\"id\":\"35\",\"value\":\"\"},\"__get_gd_contents\":{\"sync\":false,\"id\":\"40\",\"value\":\"\"},\"_downloadImage\":{\"sync\":false,\"id\":\"39\",\"value\":{}},\"relayout\":{\"sync\":false,\"id\":\"34\",\"value\":{}},\"_commands\":{\"sync\":false,\"id\":\"37\",\"value\":[]}}},\"children\":[{\"props\":{\"id\":\"plot-51408833-3557-417b-aaa8-891d7409d10b\"},\"nodeType\":\"DOM\",\"type\":\"node\",\"instanceArgs\":{\"namespace\":\"html\",\"tag\":\"div\"},\"children\":[]}]},\n",
       "        window,\n",
       "    );\n",
       "    })()\n",
       "    </script>\n",
       "</div>\n"
      ],
      "text/plain": [
       "data: [\n",
       "  \"scatter with fields line, mode, type, x, and y\",\n",
       "  \"scatter with fields line, mode, type, x, and y\",\n",
       "  \"scatter with fields line, mode, type, x, and y\"\n",
       "]\n",
       "\n",
       "layout: \"layout with fields height, margin, plot_bgcolor, showlegend, template, title, width, xaxis, and yaxis\"\n",
       "\n"
      ]
     },
     "metadata": {},
     "output_type": "display_data"
    }
   ],
   "source": [
    "let nps::Int = 100, t1Δ = 1.0, t2Δ = 1.0, t3Δ = 1.0, t1∇ = 1.0, t2∇ = 1.0, t3∇ = 1.0\n",
    "    p::Params = Params(t1Δ, t2Δ, t3Δ, t1∇, t2∇, t3∇)\n",
    "    println(\"t1Δ = \", p.t1Δ)\n",
    "    println(\"t2Δ = \", p.t2Δ)\n",
    "    println(\"t3Δ = \", p.t3Δ)\n",
    "    println(\"t1∇ = \", p.t1∇)\n",
    "    println(\"t2∇ = \", p.t2∇)\n",
    "    println(\"t3∇ = \", p.t3∇)\n",
    "    \n",
    "    kpath_nodes::Vector{SVector{2, Float64}} = [-high_symmetry_points[\"K\"], \n",
    "                    high_symmetry_points[\"Γ\"], \n",
    "                    high_symmetry_points[\"K\"]];\n",
    "    kpath_fbz::Vector{Vector{Float64}} = interpolate(kpath_nodes, nps);\n",
    "    kpath_fbz = [SVector{2, Float64}(v) for v ∈ kpath_fbz]\n",
    "    plot_simple_kagome_bands(;p = p, seedname = \"-K --> Γ --> K\", kpath = kpath_fbz, title = Nothing)\n",
    "end\n"
   ]
  },
  {
   "cell_type": "code",
   "execution_count": 14,
   "metadata": {},
   "outputs": [
    {
     "name": "stdout",
     "output_type": "stream",
     "text": [
      "t1Δ = 1.0\n",
      "t2Δ = 1.0\n",
      "t3Δ = 1.0\n",
      "t1∇ = 1.5\n",
      "t2∇ = 1.5\n",
      "t3∇ = 1.5\n"
     ]
    },
    {
     "data": {
      "application/vnd.plotly.v1+json": {
       "config": {
        "editable": false,
        "responsive": true,
        "scrollZoom": true,
        "showLink": false,
        "staticPlot": false
       },
       "data": [
        {
         "line": {
          "color": "purple",
          "width": 4
         },
         "mode": "lines",
         "type": "scatter",
         "x": [
          1,
          2,
          3,
          4,
          5,
          6,
          7,
          8,
          9,
          10,
          11,
          12,
          13,
          14,
          15,
          16,
          17,
          18,
          19,
          20,
          21,
          22,
          23,
          24,
          25,
          26,
          27,
          28,
          29,
          30,
          31,
          32,
          33,
          34,
          35,
          36,
          37,
          38,
          39,
          40,
          41,
          42,
          43,
          44,
          45,
          46,
          47,
          48,
          49,
          50,
          51,
          52,
          53,
          54,
          55,
          56,
          57,
          58,
          59,
          60,
          61,
          62,
          63,
          64,
          65,
          66,
          67,
          68,
          69,
          70,
          71,
          72,
          73,
          74,
          75,
          76,
          77,
          78,
          79,
          80,
          81,
          82,
          83,
          84,
          85,
          86,
          87,
          88,
          89,
          90,
          91,
          92,
          93,
          94,
          95,
          96,
          97,
          98,
          99
         ],
         "y": [
          -2.4999999999999996,
          -2.5,
          -2.499999999999999,
          -2.5,
          -2.4999999999999996,
          -2.4999999999999996,
          -2.5,
          -2.5,
          -2.5,
          -2.4999999999999996,
          -2.4999999999999996,
          -2.5,
          -2.5,
          -2.5,
          -2.499999999999999,
          -2.5,
          -2.4999999999999987,
          -2.4999999999999982,
          -2.499999999999999,
          -2.4999999999999987,
          -2.4999999999999982,
          -2.499999999999999,
          -2.4999999999999996,
          -2.499999999999998,
          -2.499999999999999,
          -2.5,
          -2.5,
          -2.5,
          -2.5000000000000004,
          -2.4999999999999982,
          -2.5,
          -2.5000000000000004,
          -2.499999999999997,
          -2.5,
          -2.4999999999999973,
          -2.4999999999999996,
          -2.4999999999999996,
          -2.5000000000000027,
          -2.499999999999992,
          -2.4999999999999933,
          -2.4999999999999987,
          -2.4999999999999933,
          -2.5000000000000004,
          -2.499999999999991,
          -2.4999999999999933,
          -2.499999999999982,
          -2.500000000000055,
          -2.4999999999999063,
          -2.4999999999997518,
          -2.499999999999999,
          -2.4999999999997518,
          -2.499999999999855,
          -2.500000000000055,
          -2.5000000000000067,
          -2.500000000000018,
          -2.499999999999991,
          -2.4999999999999925,
          -2.4999999999999933,
          -2.5000000000000027,
          -2.4999999999999933,
          -2.499999999999992,
          -2.5000000000000027,
          -2.4999999999999973,
          -2.4999999999999996,
          -2.500000000000001,
          -2.5,
          -2.499999999999997,
          -2.5000000000000004,
          -2.5,
          -2.4999999999999982,
          -2.5000000000000004,
          -2.5,
          -2.4999999999999982,
          -2.5,
          -2.4999999999999987,
          -2.499999999999998,
          -2.4999999999999996,
          -2.5,
          -2.4999999999999982,
          -2.4999999999999987,
          -2.499999999999999,
          -2.4999999999999982,
          -2.499999999999999,
          -2.4999999999999996,
          -2.4999999999999996,
          -2.5,
          -2.4999999999999996,
          -2.5,
          -2.4999999999999996,
          -2.5,
          -2.4999999999999996,
          -2.4999999999999996,
          -2.5,
          -2.5,
          -2.4999999999999996,
          -2.4999999999999996,
          -2.499999999999999,
          -2.5,
          -2.4999999999999996
         ]
        },
        {
         "line": {
          "color": "purple",
          "width": 4
         },
         "mode": "lines",
         "type": "scatter",
         "x": [
          1,
          2,
          3,
          4,
          5,
          6,
          7,
          8,
          9,
          10,
          11,
          12,
          13,
          14,
          15,
          16,
          17,
          18,
          19,
          20,
          21,
          22,
          23,
          24,
          25,
          26,
          27,
          28,
          29,
          30,
          31,
          32,
          33,
          34,
          35,
          36,
          37,
          38,
          39,
          40,
          41,
          42,
          43,
          44,
          45,
          46,
          47,
          48,
          49,
          50,
          51,
          52,
          53,
          54,
          55,
          56,
          57,
          58,
          59,
          60,
          61,
          62,
          63,
          64,
          65,
          66,
          67,
          68,
          69,
          70,
          71,
          72,
          73,
          74,
          75,
          76,
          77,
          78,
          79,
          80,
          81,
          82,
          83,
          84,
          85,
          86,
          87,
          88,
          89,
          90,
          91,
          92,
          93,
          94,
          95,
          96,
          97,
          98,
          99
         ],
         "y": [
          0.4999999999999991,
          0.4944073331559662,
          0.4773778207920949,
          0.44897381621354127,
          0.40977872059513265,
          0.3607480070110136,
          0.30303451115951807,
          0.23784003608379356,
          0.1663160156018204,
          0.0895113210355527,
          0.008354167412979674,
          -0.07634577625035144,
          -0.16388548404700698,
          -0.2536533134931478,
          -0.3451138150123212,
          -0.43779415005034306,
          -0.531272615061567,
          -0.625169255481417,
          -0.7191383375009055,
          -0.8128623815249236,
          -0.9060474681748887,
          -0.9984195628727521,
          -1.0897216475363938,
          -1.1797114884265834,
          -1.2681599042336287,
          -1.3548494273452052,
          -1.4395732743392897,
          -1.5221345599505591,
          -1.6023457029756156,
          -1.6800279836351386,
          -1.7550112204905268,
          -1.8271335416750003,
          -1.896241230382286,
          -1.9621886286000727,
          -2.024838086241953,
          -2.084059945321193,
          -2.1397325507767664,
          -2.191742281123312,
          -2.239983593343495,
          -2.2843590774419336,
          -2.324779516889024,
          -2.361163951840681,
          -2.3934397425598832,
          -2.421542630912027,
          -2.445416798177996,
          -2.465014917743695,
          -2.4802982014922286,
          -2.491236438958873,
          -2.497808028510541,
          -2.500000000000001,
          -2.497808028510541,
          -2.4912364389589245,
          -2.4802982014922286,
          -2.46501491774367,
          -2.445416798177972,
          -2.421542630912027,
          -2.3934397425598912,
          -2.361163951840681,
          -2.324779516889021,
          -2.2843590774419336,
          -2.239983593343495,
          -2.191742281123312,
          -2.1397325507767686,
          -2.084059945321193,
          -2.0248380862419495,
          -1.9621886286000727,
          -1.896241230382286,
          -1.8271335416750003,
          -1.7550112204905268,
          -1.6800279836351386,
          -1.6023457029756156,
          -1.5221345599505591,
          -1.439573274339291,
          -1.3548494273452052,
          -1.2681599042336287,
          -1.1797114884265834,
          -1.0897216475363938,
          -0.9984195628727508,
          -0.9060474681748887,
          -0.8128623815249236,
          -0.7191383375009055,
          -0.625169255481417,
          -0.5312726150615674,
          -0.4377941500503426,
          -0.3451138150123212,
          -0.2536533134931478,
          -0.16388548404700654,
          -0.07634577625035144,
          0.008354167412979674,
          0.08951132103555226,
          0.16631601560182085,
          0.23784003608379267,
          0.30303451115951807,
          0.36074800701101495,
          0.40977872059513265,
          0.44897381621354127,
          0.4773778207920949,
          0.4944073331559662,
          0.4999999999999991
         ]
        },
        {
         "line": {
          "color": "purple",
          "width": 4
         },
         "mode": "lines",
         "type": "scatter",
         "x": [
          1,
          2,
          3,
          4,
          5,
          6,
          7,
          8,
          9,
          10,
          11,
          12,
          13,
          14,
          15,
          16,
          17,
          18,
          19,
          20,
          21,
          22,
          23,
          24,
          25,
          26,
          27,
          28,
          29,
          30,
          31,
          32,
          33,
          34,
          35,
          36,
          37,
          38,
          39,
          40,
          41,
          42,
          43,
          44,
          45,
          46,
          47,
          48,
          49,
          50,
          51,
          52,
          53,
          54,
          55,
          56,
          57,
          58,
          59,
          60,
          61,
          62,
          63,
          64,
          65,
          66,
          67,
          68,
          69,
          70,
          71,
          72,
          73,
          74,
          75,
          76,
          77,
          78,
          79,
          80,
          81,
          82,
          83,
          84,
          85,
          86,
          87,
          88,
          89,
          90,
          91,
          92,
          93,
          94,
          95,
          96,
          97,
          98,
          99
         ],
         "y": [
          2.0000000000000004,
          2.005592666844034,
          2.022622179207904,
          2.0510261837864587,
          2.090221279404867,
          2.139251992988986,
          2.196965488840482,
          2.2621599639162064,
          2.3336839843981796,
          2.410488678964447,
          2.49164583258702,
          2.5763457762503514,
          2.663885484047007,
          2.753653313493148,
          2.8451138150123203,
          2.937794150050343,
          3.0312726150615656,
          3.125169255481415,
          3.2191383375009046,
          3.3128623815249223,
          3.406047468174887,
          3.4984195628727512,
          3.5897216475363933,
          3.679711488426581,
          3.768159904233628,
          3.854849427345205,
          3.9395732743392897,
          4.022134559950559,
          4.102345702975616,
          4.180027983635137,
          4.255011220490527,
          4.327133541675001,
          4.396241230382283,
          4.462188628600073,
          4.52483808624195,
          4.584059945321193,
          4.639732550776766,
          4.6917422811233145,
          4.739983593343487,
          4.784359077441927,
          4.824779516889023,
          4.861163951840674,
          4.893439742559884,
          4.921542630912018,
          4.945416798177989,
          4.965014917743677,
          4.980298201492284,
          4.991236438958779,
          4.997808028510293,
          5,
          4.997808028510293,
          4.991236438958779,
          4.980298201492284,
          4.965014917743677,
          4.94541679817799,
          4.921542630912018,
          4.893439742559884,
          4.861163951840674,
          4.8247795168890235,
          4.784359077441927,
          4.739983593343487,
          4.6917422811233145,
          4.639732550776766,
          4.584059945321193,
          4.52483808624195,
          4.462188628600073,
          4.396241230382283,
          4.327133541675001,
          4.255011220490527,
          4.180027983635137,
          4.102345702975616,
          4.022134559950559,
          3.9395732743392893,
          3.854849427345205,
          3.7681599042336273,
          3.679711488426581,
          3.5897216475363933,
          3.498419562872751,
          3.406047468174887,
          3.3128623815249223,
          3.2191383375009046,
          3.125169255481415,
          3.0312726150615665,
          2.937794150050342,
          2.8451138150123207,
          2.753653313493148,
          2.663885484047006,
          2.5763457762503514,
          2.49164583258702,
          2.4104886789644477,
          2.3336839843981787,
          2.262159963916207,
          2.196965488840482,
          2.139251992988985,
          2.090221279404867,
          2.0510261837864583,
          2.022622179207904,
          2.005592666844034,
          2.0000000000000004
         ]
        }
       ],
       "frames": [],
       "layout": {
        "height": 510,
        "margin": {
         "b": 50,
         "l": 50,
         "r": 50,
         "t": 60
        },
        "plot_bgcolor": "rgba(0,0,0,0)",
        "showlegend": false,
        "template": {
         "data": {
          "bar": [
           {
            "error_x": {
             "color": "#2a3f5f"
            },
            "error_y": {
             "color": "#2a3f5f"
            },
            "marker": {
             "line": {
              "color": "#E5ECF6",
              "width": 0.5
             }
            },
            "type": "bar"
           }
          ],
          "barpolar": [
           {
            "marker": {
             "line": {
              "color": "#E5ECF6",
              "width": 0.5
             }
            },
            "type": "barpolar"
           }
          ],
          "carpet": [
           {
            "aaxis": {
             "endlinecolor": "#2a3f5f",
             "gridcolor": "white",
             "linecolor": "white",
             "minorgridcolor": "white",
             "startlinecolor": "#2a3f5f"
            },
            "baxis": {
             "endlinecolor": "#2a3f5f",
             "gridcolor": "white",
             "linecolor": "white",
             "minorgridcolor": "white",
             "startlinecolor": "#2a3f5f"
            },
            "type": "carpet"
           }
          ],
          "choropleth": [
           {
            "colorbar": {
             "outlinewidth": 0,
             "ticks": ""
            },
            "type": "choropleth"
           }
          ],
          "contour": [
           {
            "colorbar": {
             "outlinewidth": 0,
             "ticks": ""
            },
            "colorscale": [
             [
              0,
              "#0d0887"
             ],
             [
              0.1111111111111111,
              "#46039f"
             ],
             [
              0.2222222222222222,
              "#7201a8"
             ],
             [
              0.3333333333333333,
              "#9c179e"
             ],
             [
              0.4444444444444444,
              "#bd3786"
             ],
             [
              0.5555555555555556,
              "#d8576b"
             ],
             [
              0.6666666666666666,
              "#ed7953"
             ],
             [
              0.7777777777777778,
              "#fb9f3a"
             ],
             [
              0.8888888888888888,
              "#fdca26"
             ],
             [
              1,
              "#f0f921"
             ]
            ],
            "type": "contour"
           }
          ],
          "contourcarpet": [
           {
            "colorbar": {
             "outlinewidth": 0,
             "ticks": ""
            },
            "type": "contourcarpet"
           }
          ],
          "heatmap": [
           {
            "colorbar": {
             "outlinewidth": 0,
             "ticks": ""
            },
            "colorscale": [
             [
              0,
              "#0d0887"
             ],
             [
              0.1111111111111111,
              "#46039f"
             ],
             [
              0.2222222222222222,
              "#7201a8"
             ],
             [
              0.3333333333333333,
              "#9c179e"
             ],
             [
              0.4444444444444444,
              "#bd3786"
             ],
             [
              0.5555555555555556,
              "#d8576b"
             ],
             [
              0.6666666666666666,
              "#ed7953"
             ],
             [
              0.7777777777777778,
              "#fb9f3a"
             ],
             [
              0.8888888888888888,
              "#fdca26"
             ],
             [
              1,
              "#f0f921"
             ]
            ],
            "type": "heatmap"
           }
          ],
          "heatmapgl": [
           {
            "colorbar": {
             "outlinewidth": 0,
             "ticks": ""
            },
            "colorscale": [
             [
              0,
              "#0d0887"
             ],
             [
              0.1111111111111111,
              "#46039f"
             ],
             [
              0.2222222222222222,
              "#7201a8"
             ],
             [
              0.3333333333333333,
              "#9c179e"
             ],
             [
              0.4444444444444444,
              "#bd3786"
             ],
             [
              0.5555555555555556,
              "#d8576b"
             ],
             [
              0.6666666666666666,
              "#ed7953"
             ],
             [
              0.7777777777777778,
              "#fb9f3a"
             ],
             [
              0.8888888888888888,
              "#fdca26"
             ],
             [
              1,
              "#f0f921"
             ]
            ],
            "type": "heatmapgl"
           }
          ],
          "histogram": [
           {
            "marker": {
             "colorbar": {
              "outlinewidth": 0,
              "ticks": ""
             }
            },
            "type": "histogram"
           }
          ],
          "histogram2d": [
           {
            "colorbar": {
             "outlinewidth": 0,
             "ticks": ""
            },
            "colorscale": [
             [
              0,
              "#0d0887"
             ],
             [
              0.1111111111111111,
              "#46039f"
             ],
             [
              0.2222222222222222,
              "#7201a8"
             ],
             [
              0.3333333333333333,
              "#9c179e"
             ],
             [
              0.4444444444444444,
              "#bd3786"
             ],
             [
              0.5555555555555556,
              "#d8576b"
             ],
             [
              0.6666666666666666,
              "#ed7953"
             ],
             [
              0.7777777777777778,
              "#fb9f3a"
             ],
             [
              0.8888888888888888,
              "#fdca26"
             ],
             [
              1,
              "#f0f921"
             ]
            ],
            "type": "histogram2d"
           }
          ],
          "histogram2dcontour": [
           {
            "colorbar": {
             "outlinewidth": 0,
             "ticks": ""
            },
            "colorscale": [
             [
              0,
              "#0d0887"
             ],
             [
              0.1111111111111111,
              "#46039f"
             ],
             [
              0.2222222222222222,
              "#7201a8"
             ],
             [
              0.3333333333333333,
              "#9c179e"
             ],
             [
              0.4444444444444444,
              "#bd3786"
             ],
             [
              0.5555555555555556,
              "#d8576b"
             ],
             [
              0.6666666666666666,
              "#ed7953"
             ],
             [
              0.7777777777777778,
              "#fb9f3a"
             ],
             [
              0.8888888888888888,
              "#fdca26"
             ],
             [
              1,
              "#f0f921"
             ]
            ],
            "type": "histogram2dcontour"
           }
          ],
          "mesh3d": [
           {
            "colorbar": {
             "outlinewidth": 0,
             "ticks": ""
            },
            "type": "mesh3d"
           }
          ],
          "parcoords": [
           {
            "line": {
             "colorbar": {
              "outlinewidth": 0,
              "ticks": ""
             }
            },
            "type": "parcoords"
           }
          ],
          "pie": [
           {
            "automargin": true,
            "type": "pie"
           }
          ],
          "scatter": [
           {
            "marker": {
             "colorbar": {
              "outlinewidth": 0,
              "ticks": ""
             }
            },
            "type": "scatter"
           }
          ],
          "scatter3d": [
           {
            "line": {
             "colorbar": {
              "outlinewidth": 0,
              "ticks": ""
             }
            },
            "marker": {
             "colorbar": {
              "outlinewidth": 0,
              "ticks": ""
             }
            },
            "type": "scatter3d"
           }
          ],
          "scattercarpet": [
           {
            "marker": {
             "colorbar": {
              "outlinewidth": 0,
              "ticks": ""
             }
            },
            "type": "scattercarpet"
           }
          ],
          "scattergeo": [
           {
            "marker": {
             "colorbar": {
              "outlinewidth": 0,
              "ticks": ""
             }
            },
            "type": "scattergeo"
           }
          ],
          "scattergl": [
           {
            "marker": {
             "colorbar": {
              "outlinewidth": 0,
              "ticks": ""
             }
            },
            "type": "scattergl"
           }
          ],
          "scattermapbox": [
           {
            "marker": {
             "colorbar": {
              "outlinewidth": 0,
              "ticks": ""
             }
            },
            "type": "scattermapbox"
           }
          ],
          "scatterpolar": [
           {
            "marker": {
             "colorbar": {
              "outlinewidth": 0,
              "ticks": ""
             }
            },
            "type": "scatterpolar"
           }
          ],
          "scatterpolargl": [
           {
            "marker": {
             "colorbar": {
              "outlinewidth": 0,
              "ticks": ""
             }
            },
            "type": "scatterpolargl"
           }
          ],
          "scatterternary": [
           {
            "marker": {
             "colorbar": {
              "outlinewidth": 0,
              "ticks": ""
             }
            },
            "type": "scatterternary"
           }
          ],
          "surface": [
           {
            "colorbar": {
             "outlinewidth": 0,
             "ticks": ""
            },
            "colorscale": [
             [
              0,
              "#0d0887"
             ],
             [
              0.1111111111111111,
              "#46039f"
             ],
             [
              0.2222222222222222,
              "#7201a8"
             ],
             [
              0.3333333333333333,
              "#9c179e"
             ],
             [
              0.4444444444444444,
              "#bd3786"
             ],
             [
              0.5555555555555556,
              "#d8576b"
             ],
             [
              0.6666666666666666,
              "#ed7953"
             ],
             [
              0.7777777777777778,
              "#fb9f3a"
             ],
             [
              0.8888888888888888,
              "#fdca26"
             ],
             [
              1,
              "#f0f921"
             ]
            ],
            "type": "surface"
           }
          ],
          "table": [
           {
            "cells": {
             "fill": {
              "color": "#EBF0F8"
             },
             "line": {
              "color": "white"
             }
            },
            "header": {
             "fill": {
              "color": "#C8D4E3"
             },
             "line": {
              "color": "white"
             }
            },
            "type": "table"
           }
          ]
         },
         "layout": {
          "annotationdefaults": {
           "arrowcolor": "#2a3f5f",
           "arrowhead": 0,
           "arrowwidth": 1
          },
          "autotypenumbers": "strict",
          "coloraxis": {
           "colorbar": {
            "outlinewidth": 0,
            "ticks": ""
           }
          },
          "colorscale": {
           "diverging": [
            [
             0,
             "#8e0152"
            ],
            [
             0.1,
             "#c51b7d"
            ],
            [
             0.2,
             "#de77ae"
            ],
            [
             0.3,
             "#f1b6da"
            ],
            [
             0.4,
             "#fde0ef"
            ],
            [
             0.5,
             "#f7f7f7"
            ],
            [
             0.6,
             "#e6f5d0"
            ],
            [
             0.7,
             "#b8e186"
            ],
            [
             0.8,
             "#7fbc41"
            ],
            [
             0.9,
             "#4d9221"
            ],
            [
             1,
             "#276419"
            ]
           ],
           "sequential": [
            [
             0,
             "#0d0887"
            ],
            [
             0.1111111111111111,
             "#46039f"
            ],
            [
             0.2222222222222222,
             "#7201a8"
            ],
            [
             0.3333333333333333,
             "#9c179e"
            ],
            [
             0.4444444444444444,
             "#bd3786"
            ],
            [
             0.5555555555555556,
             "#d8576b"
            ],
            [
             0.6666666666666666,
             "#ed7953"
            ],
            [
             0.7777777777777778,
             "#fb9f3a"
            ],
            [
             0.8888888888888888,
             "#fdca26"
            ],
            [
             1,
             "#f0f921"
            ]
           ],
           "sequentialminus": [
            [
             0,
             "#0d0887"
            ],
            [
             0.1111111111111111,
             "#46039f"
            ],
            [
             0.2222222222222222,
             "#7201a8"
            ],
            [
             0.3333333333333333,
             "#9c179e"
            ],
            [
             0.4444444444444444,
             "#bd3786"
            ],
            [
             0.5555555555555556,
             "#d8576b"
            ],
            [
             0.6666666666666666,
             "#ed7953"
            ],
            [
             0.7777777777777778,
             "#fb9f3a"
            ],
            [
             0.8888888888888888,
             "#fdca26"
            ],
            [
             1,
             "#f0f921"
            ]
           ]
          },
          "colorway": [
           "#636efa",
           "#EF553B",
           "#00cc96",
           "#ab63fa",
           "#FFA15A",
           "#19d3f3",
           "#FF6692",
           "#B6E880",
           "#FF97FF",
           "#FECB52"
          ],
          "font": {
           "color": "#2a3f5f"
          },
          "geo": {
           "bgcolor": "white",
           "lakecolor": "white",
           "landcolor": "#E5ECF6",
           "showlakes": true,
           "showland": true,
           "subunitcolor": "white"
          },
          "hoverlabel": {
           "align": "left"
          },
          "hovermode": "closest",
          "mapbox": {
           "style": "light"
          },
          "paper_bgcolor": "white",
          "plot_bgcolor": "#E5ECF6",
          "polar": {
           "angularaxis": {
            "gridcolor": "white",
            "linecolor": "white",
            "ticks": ""
           },
           "bgcolor": "#E5ECF6",
           "radialaxis": {
            "gridcolor": "white",
            "linecolor": "white",
            "ticks": ""
           }
          },
          "scene": {
           "xaxis": {
            "backgroundcolor": "#E5ECF6",
            "gridcolor": "white",
            "gridwidth": 2,
            "linecolor": "white",
            "showbackground": true,
            "ticks": "",
            "zerolinecolor": "white"
           },
           "yaxis": {
            "backgroundcolor": "#E5ECF6",
            "gridcolor": "white",
            "gridwidth": 2,
            "linecolor": "white",
            "showbackground": true,
            "ticks": "",
            "zerolinecolor": "white"
           },
           "zaxis": {
            "backgroundcolor": "#E5ECF6",
            "gridcolor": "white",
            "gridwidth": 2,
            "linecolor": "white",
            "showbackground": true,
            "ticks": "",
            "zerolinecolor": "white"
           }
          },
          "shapedefaults": {
           "line": {
            "color": "#2a3f5f"
           }
          },
          "ternary": {
           "aaxis": {
            "gridcolor": "white",
            "linecolor": "white",
            "ticks": ""
           },
           "baxis": {
            "gridcolor": "white",
            "linecolor": "white",
            "ticks": ""
           },
           "bgcolor": "#E5ECF6",
           "caxis": {
            "gridcolor": "white",
            "linecolor": "white",
            "ticks": ""
           }
          },
          "title": {
           "x": 0.05
          },
          "xaxis": {
           "automargin": true,
           "gridcolor": "white",
           "linecolor": "white",
           "ticks": "",
           "title": {
            "standoff": 15
           },
           "zerolinecolor": "white",
           "zerolinewidth": 2
          },
          "yaxis": {
           "automargin": true,
           "gridcolor": "white",
           "linecolor": "white",
           "ticks": "",
           "title": {
            "standoff": 15
           },
           "zerolinecolor": "white",
           "zerolinewidth": 2
          }
         }
        },
        "title": "-K --> Γ --> K",
        "width": 510,
        "xaxis": {
         "linecolor": "black",
         "linewidth": 5,
         "mirror": true,
         "showgrid": true,
         "showline": true,
         "showticklabels": false
        },
        "yaxis": {
         "linecolor": "black",
         "linewidth": 5,
         "mirror": true,
         "showgrid": true,
         "showline": true,
         "showticklabels": true
        }
       }
      },
      "image/png": "[encoded data removed]",
      "image/svg+xml": [
       "<svg class=\"main-svg\" xmlns=\"http://www.w3.org/2000/svg\" xmlns:xlink=\"http://www.w3.org/1999/xlink\" width=\"700\" height=\"500\" style=\"\" viewBox=\"0 0 700 500\"><rect x=\"0\" y=\"0\" width=\"700\" height=\"500\" style=\"fill: rgb(255, 255, 255); fill-opacity: 1;\"/><defs id=\"defs-44e1c8\"><g class=\"clips\"><clipPath id=\"clip44e1c8xyplot\" class=\"plotclip\"><rect width=\"600\" height=\"390\"/></clipPath><clipPath class=\"axesclip\" id=\"clip44e1c8x\"><rect x=\"50\" y=\"0\" width=\"600\" height=\"500\"/></clipPath><clipPath class=\"axesclip\" id=\"clip44e1c8y\"><rect x=\"0\" y=\"60\" width=\"700\" height=\"390\"/></clipPath><clipPath class=\"axesclip\" id=\"clip44e1c8xy\"><rect x=\"50\" y=\"60\" width=\"600\" height=\"390\"/></clipPath></g><g class=\"gradients\"/><g class=\"patterns\"/></defs><g class=\"bglayer\"><rect class=\"bg\" x=\"50\" y=\"60\" width=\"600\" height=\"390\" style=\"fill: rgb(0, 0, 0); fill-opacity: 0; stroke-width: 0;\"/></g><g class=\"layer-below\"><g class=\"imagelayer\"/><g class=\"shapelayer\"/></g><g class=\"cartesianlayer\"><g class=\"subplot xy\"><g class=\"layer-subplot\"><g class=\"shapelayer\"/><g class=\"imagelayer\"/></g><g class=\"gridlayer\"><g class=\"x\"><path class=\"xgrid crisp\" transform=\"translate(166.32999999999998,0)\" d=\"M0,60v390\" style=\"stroke: rgb(255, 255, 255); stroke-opacity: 1; stroke-width: 1px;\"/><path class=\"xgrid crisp\" transform=\"translate(288.78,0)\" d=\"M0,60v390\" style=\"stroke: rgb(255, 255, 255); stroke-opacity: 1; stroke-width: 1px;\"/><path class=\"xgrid crisp\" transform=\"translate(411.22,0)\" d=\"M0,60v390\" style=\"stroke: rgb(255, 255, 255); stroke-opacity: 1; stroke-width: 1px;\"/><path class=\"xgrid crisp\" transform=\"translate(533.6700000000001,0)\" d=\"M0,60v390\" style=\"stroke: rgb(255, 255, 255); stroke-opacity: 1; stroke-width: 1px;\"/></g><g class=\"y\"><path class=\"ygrid crisp\" transform=\"translate(0,407.1)\" d=\"M50,0h600\" style=\"stroke: rgb(255, 255, 255); stroke-opacity: 1; stroke-width: 1px;\"/><path class=\"ygrid crisp\" transform=\"translate(0,360.3)\" d=\"M50,0h600\" style=\"stroke: rgb(255, 255, 255); stroke-opacity: 1; stroke-width: 1px;\"/><path class=\"ygrid crisp\" transform=\"translate(0,266.7)\" d=\"M50,0h600\" style=\"stroke: rgb(255, 255, 255); stroke-opacity: 1; stroke-width: 1px;\"/><path class=\"ygrid crisp\" transform=\"translate(0,219.9)\" d=\"M50,0h600\" style=\"stroke: rgb(255, 255, 255); stroke-opacity: 1; stroke-width: 1px;\"/><path class=\"ygrid crisp\" transform=\"translate(0,173.1)\" d=\"M50,0h600\" style=\"stroke: rgb(255, 255, 255); stroke-opacity: 1; stroke-width: 1px;\"/><path class=\"ygrid crisp\" transform=\"translate(0,126.3)\" d=\"M50,0h600\" style=\"stroke: rgb(255, 255, 255); stroke-opacity: 1; stroke-width: 1px;\"/><path class=\"ygrid crisp\" transform=\"translate(0,79.5)\" d=\"M50,0h600\" style=\"stroke: rgb(255, 255, 255); stroke-opacity: 1; stroke-width: 1px;\"/></g></g><g class=\"zerolinelayer\"><path class=\"yzl zl crisp\" transform=\"translate(0,313.5)\" d=\"M50,0h600\" style=\"stroke: rgb(255, 255, 255); stroke-opacity: 1; stroke-width: 2px;\"/></g><path class=\"xlines-below\"/><path class=\"ylines-below\"/><g class=\"overlines-below\"/><g class=\"xaxislayer-below\"/><g class=\"yaxislayer-below\"/><g class=\"overaxes-below\"/><g class=\"plot\" transform=\"translate(50,60)\" clip-path=\"url(#clip44e1c8xyplot)\"><g class=\"scatterlayer mlayer\"><g class=\"trace scatter trace5f1bec\" style=\"stroke-miterlimit: 2; opacity: 1;\"><g class=\"fills\"/><g class=\"errorbars\"/><g class=\"lines\"><path class=\"js-line\" d=\"M0,370.5L600,370.5\" style=\"vector-effect: non-scaling-stroke; fill: none; stroke: rgb(128, 0, 128); stroke-opacity: 1; stroke-width: 4px; opacity: 1;\"/></g><g class=\"points\"/><g class=\"text\"/></g><g class=\"trace scatter trace6843b7\" style=\"stroke-miterlimit: 2; opacity: 1;\"><g class=\"fills\"/><g class=\"errorbars\"/><g class=\"lines\"><path class=\"js-line\" d=\"M0,230.1L12.24,231.16L18.37,232.49L30.61,236.62L36.73,239.32L55.1,249.31L61.22,253.11L91.84,273.99L97.96,278.36L153.06,316.91L159.18,320.87L183.67,335.63L189.8,339.01L214.29,351.03L220.41,353.64L244.9,362.3L251.02,364L269.39,367.95L275.51,368.86L293.88,370.4L300,370.5L318.37,369.58L324.49,368.86L342.86,365.51L348.98,364L367.35,358.33L373.47,356.07L397.96,345.33L404.08,342.24L428.57,328.49L434.69,324.74L465.31,304.5L471.43,300.23L538.78,253.11L544.9,249.31L563.27,239.32L569.39,236.62L581.63,232.49L587.76,231.16L600,230.1\" style=\"vector-effect: non-scaling-stroke; fill: none; stroke: rgb(128, 0, 128); stroke-opacity: 1; stroke-width: 4px; opacity: 1;\"/></g><g class=\"points\"/><g class=\"text\"/></g><g class=\"trace scatter tracea4a4da\" style=\"stroke-miterlimit: 2; opacity: 1;\"><g class=\"fills\"/><g class=\"errorbars\"/><g class=\"lines\"><path class=\"js-line\" d=\"M0,159.9L12.24,158.84L18.37,157.51L30.61,153.38L36.73,150.68L55.1,140.69L61.22,136.89L91.84,116.01L97.96,111.64L153.06,73.09L159.18,69.13L183.67,54.37L189.8,50.99L214.29,38.97L220.41,36.36L244.9,27.7L251.02,26L269.39,22.05L275.51,21.14L293.88,19.6L300,19.5L318.37,20.42L324.49,21.14L342.86,24.49L348.98,26L367.35,31.67L373.47,33.93L397.96,44.67L404.08,47.76L428.57,61.51L434.69,65.26L465.31,85.5L471.43,89.77L538.78,136.89L544.9,140.69L563.27,150.68L569.39,153.38L581.63,157.51L587.76,158.84L600,159.9\" style=\"vector-effect: non-scaling-stroke; fill: none; stroke: rgb(128, 0, 128); stroke-opacity: 1; stroke-width: 4px; opacity: 1;\"/></g><g class=\"points\"/><g class=\"text\"/></g></g></g><g class=\"overplot\"/><path class=\"xlines-above crisp\" d=\"M45,452.5H655M45,57.5H655\" style=\"fill: none; stroke-width: 5px; stroke: rgb(0, 0, 0); stroke-opacity: 1;\"/><path class=\"ylines-above crisp\" d=\"M47.5,60V450M652.5,60V450\" style=\"fill: none; stroke-width: 5px; stroke: rgb(0, 0, 0); stroke-opacity: 1;\"/><g class=\"overlines-above\"/><g class=\"xaxislayer-above\"/><g class=\"yaxislayer-above\"><g class=\"ytick\"><text text-anchor=\"end\" x=\"42.6\" y=\"4.199999999999999\" transform=\"translate(0,407.1)\" style=\"font-family: 'Open Sans', verdana, arial, sans-serif; font-size: 12px; fill: rgb(42, 63, 95); fill-opacity: 1; white-space: pre; opacity: 1;\">−2</text></g><g class=\"ytick\"><text text-anchor=\"end\" x=\"42.6\" y=\"4.199999999999999\" style=\"font-family: 'Open Sans', verdana, arial, sans-serif; font-size: 12px; fill: rgb(42, 63, 95); fill-opacity: 1; white-space: pre; opacity: 1;\" transform=\"translate(0,360.3)\">−1</text></g><g class=\"ytick\"><text text-anchor=\"end\" x=\"42.6\" y=\"4.199999999999999\" style=\"font-family: 'Open Sans', verdana, arial, sans-serif; font-size: 12px; fill: rgb(42, 63, 95); fill-opacity: 1; white-space: pre; opacity: 1;\" transform=\"translate(0,313.5)\">0</text></g><g class=\"ytick\"><text text-anchor=\"end\" x=\"42.6\" y=\"4.199999999999999\" style=\"font-family: 'Open Sans', verdana, arial, sans-serif; font-size: 12px; fill: rgb(42, 63, 95); fill-opacity: 1; white-space: pre; opacity: 1;\" transform=\"translate(0,266.7)\">1</text></g><g class=\"ytick\"><text text-anchor=\"end\" x=\"42.6\" y=\"4.199999999999999\" style=\"font-family: 'Open Sans', verdana, arial, sans-serif; font-size: 12px; fill: rgb(42, 63, 95); fill-opacity: 1; white-space: pre; opacity: 1;\" transform=\"translate(0,219.9)\">2</text></g><g class=\"ytick\"><text text-anchor=\"end\" x=\"42.6\" y=\"4.199999999999999\" style=\"font-family: 'Open Sans', verdana, arial, sans-serif; font-size: 12px; fill: rgb(42, 63, 95); fill-opacity: 1; white-space: pre; opacity: 1;\" transform=\"translate(0,173.1)\">3</text></g><g class=\"ytick\"><text text-anchor=\"end\" x=\"42.6\" y=\"4.199999999999999\" style=\"font-family: 'Open Sans', verdana, arial, sans-serif; font-size: 12px; fill: rgb(42, 63, 95); fill-opacity: 1; white-space: pre; opacity: 1;\" transform=\"translate(0,126.3)\">4</text></g><g class=\"ytick\"><text text-anchor=\"end\" x=\"42.6\" y=\"4.199999999999999\" style=\"font-family: 'Open Sans', verdana, arial, sans-serif; font-size: 12px; fill: rgb(42, 63, 95); fill-opacity: 1; white-space: pre; opacity: 1;\" transform=\"translate(0,79.5)\">5</text></g></g><g class=\"overaxes-above\"/></g></g><g class=\"polarlayer\"/><g class=\"ternarylayer\"/><g class=\"geolayer\"/><g class=\"funnelarealayer\"/><g class=\"pielayer\"/><g class=\"iciclelayer\"/><g class=\"treemaplayer\"/><g class=\"sunburstlayer\"/><g class=\"glimages\"/><defs id=\"topdefs-44e1c8\"><g class=\"clips\"/></defs><g class=\"layer-above\"><g class=\"imagelayer\"/><g class=\"shapelayer\"/></g><g class=\"infolayer\"><g class=\"g-gtitle\"><text class=\"gtitle\" x=\"35\" y=\"30\" text-anchor=\"start\" dy=\"0em\" style=\"font-family: 'Open Sans', verdana, arial, sans-serif; font-size: 17px; fill: rgb(42, 63, 95); opacity: 1; font-weight: normal; white-space: pre;\">-K --> Γ --> K</text></g><g class=\"g-xtitle\"/><g class=\"g-ytitle\"/></g></svg>"
      ],
      "text/html": [
       "<div\n",
       "    class=\"webio-mountpoint\"\n",
       "    data-webio-mountpoint=\"1348507666270477112\"\n",
       ">\n",
       "    <script>\n",
       "    (function(){\n",
       "    // Some integrations (namely, IJulia/Jupyter) use an alternate render pathway than\n",
       "    // just putting the html on the page. If WebIO isn't defined, then it's pretty likely\n",
       "    // that we're in one of those situations and the integration just isn't installed\n",
       "    // correctly.\n",
       "    if (typeof window.WebIO === \"undefined\") {\n",
       "        document\n",
       "            .querySelector('[data-webio-mountpoint=\"1348507666270477112\"]')\n",
       "            .innerHTML = (\n",
       "                '<div style=\"padding: 1em; background-color: #f8d6da; border: 1px solid #f5c6cb; font-weight: bold;\">' +\n",
       "                '<p><strong>WebIO not detected.</strong></p>' +\n",
       "                '<p>Please read ' +\n",
       "                '<a href=\"https://juliagizmos.github.io/WebIO.jl/latest/troubleshooting/not-detected/\" target=\"_blank\">the troubleshooting guide</a> ' +\n",
       "                'for more information on how to resolve this issue.</p>' +\n",
       "                '<p><a href=\"https://juliagizmos.github.io/WebIO.jl/latest/troubleshooting/not-detected/\" target=\"_blank\">https://juliagizmos.github.io/WebIO.jl/latest/troubleshooting/not-detected/</a></p>' +\n",
       "                '</div>'\n",
       "            );\n",
       "        return;\n",
       "    }\n",
       "    WebIO.mount(\n",
       "        document.querySelector('[data-webio-mountpoint=\"1348507666270477112\"]'),\n",
       "        {\"props\":{},\"nodeType\":\"Scope\",\"type\":\"node\",\"instanceArgs\":{\"imports\":{\"data\":[{\"name\":\"Plotly\",\"type\":\"js\",\"url\":\"\\/assetserver\\/b267c3137400db01c304fe886fe6f707be7fdb37-plotly.min.js\"},{\"name\":null,\"type\":\"js\",\"url\":\"\\/assetserver\\/020f2e8a4619f2ae880fff9315e6547eef1aff0b-plotly_webio.bundle.js\"}],\"type\":\"async_block\"},\"id\":\"8749073484574238691\",\"handlers\":{\"_toImage\":[\"(function (options){return this.Plotly.toImage(this.plotElem,options).then((function (data){return WebIO.setval({\\\"name\\\":\\\"image\\\",\\\"scope\\\":\\\"8749073484574238691\\\",\\\"id\\\":\\\"45\\\",\\\"type\\\":\\\"observable\\\"},data)}))})\"],\"__get_gd_contents\":[\"(function (prop){prop==\\\"data\\\" ? (WebIO.setval({\\\"name\\\":\\\"__gd_contents\\\",\\\"scope\\\":\\\"8749073484574238691\\\",\\\"id\\\":\\\"46\\\",\\\"type\\\":\\\"observable\\\"},this.plotElem.data)) : undefined; return prop==\\\"layout\\\" ? (WebIO.setval({\\\"name\\\":\\\"__gd_contents\\\",\\\"scope\\\":\\\"8749073484574238691\\\",\\\"id\\\":\\\"46\\\",\\\"type\\\":\\\"observable\\\"},this.plotElem.layout)) : undefined})\"],\"_downloadImage\":[\"(function (options){return this.Plotly.downloadImage(this.plotElem,options)})\"],\"_commands\":[\"(function (args){var fn=args.shift(); var elem=this.plotElem; var Plotly=this.Plotly; args.unshift(elem); return Plotly[fn].apply(this,args)})\"]},\"systemjs_options\":null,\"mount_callbacks\":[\"function () {\\n    var handler = ((function (Plotly,PlotlyWebIO){PlotlyWebIO.init(WebIO); var gd=this.dom.querySelector(\\\"#plot-24563133-0f3c-4bae-9dc4-61fa2a73c8a6\\\"); this.plotElem=gd; this.Plotly=Plotly; (window.Blink!==undefined) ? (gd.style.width=\\\"100%\\\", gd.style.height=\\\"100vh\\\", gd.style.marginLeft=\\\"0%\\\", gd.style.marginTop=\\\"0vh\\\") : undefined; window.onresize=(function (){return Plotly.Plots.resize(gd)}); Plotly.newPlot(gd,[{\\\"mode\\\":\\\"lines\\\",\\\"line\\\":{\\\"color\\\":\\\"purple\\\",\\\"width\\\":4},\\\"y\\\":[-2.4999999999999996,-2.5,-2.499999999999999,-2.5,-2.4999999999999996,-2.4999999999999996,-2.5,-2.5,-2.5,-2.4999999999999996,-2.4999999999999996,-2.5,-2.5,-2.5,-2.499999999999999,-2.5,-2.4999999999999987,-2.4999999999999982,-2.499999999999999,-2.4999999999999987,-2.4999999999999982,-2.499999999999999,-2.4999999999999996,-2.499999999999998,-2.499999999999999,-2.5,-2.5,-2.5,-2.5000000000000004,-2.4999999999999982,-2.5,-2.5000000000000004,-2.499999999999997,-2.5,-2.4999999999999973,-2.4999999999999996,-2.4999999999999996,-2.5000000000000027,-2.499999999999992,-2.4999999999999933,-2.4999999999999987,-2.4999999999999933,-2.5000000000000004,-2.499999999999991,-2.4999999999999933,-2.499999999999982,-2.500000000000055,-2.4999999999999063,-2.4999999999997518,-2.499999999999999,-2.4999999999997518,-2.499999999999855,-2.500000000000055,-2.5000000000000067,-2.500000000000018,-2.499999999999991,-2.4999999999999925,-2.4999999999999933,-2.5000000000000027,-2.4999999999999933,-2.499999999999992,-2.5000000000000027,-2.4999999999999973,-2.4999999999999996,-2.500000000000001,-2.5,-2.499999999999997,-2.5000000000000004,-2.5,-2.4999999999999982,-2.5000000000000004,-2.5,-2.4999999999999982,-2.5,-2.4999999999999987,-2.499999999999998,-2.4999999999999996,-2.5,-2.4999999999999982,-2.4999999999999987,-2.499999999999999,-2.4999999999999982,-2.499999999999999,-2.4999999999999996,-2.4999999999999996,-2.5,-2.4999999999999996,-2.5,-2.4999999999999996,-2.5,-2.4999999999999996,-2.4999999999999996,-2.5,-2.5,-2.4999999999999996,-2.4999999999999996,-2.499999999999999,-2.5,-2.4999999999999996],\\\"type\\\":\\\"scatter\\\",\\\"x\\\":[1,2,3,4,5,6,7,8,9,10,11,12,13,14,15,16,17,18,19,20,21,22,23,24,25,26,27,28,29,30,31,32,33,34,35,36,37,38,39,40,41,42,43,44,45,46,47,48,49,50,51,52,53,54,55,56,57,58,59,60,61,62,63,64,65,66,67,68,69,70,71,72,73,74,75,76,77,78,79,80,81,82,83,84,85,86,87,88,89,90,91,92,93,94,95,96,97,98,99]},{\\\"mode\\\":\\\"lines\\\",\\\"line\\\":{\\\"color\\\":\\\"purple\\\",\\\"width\\\":4},\\\"y\\\":[0.4999999999999991,0.4944073331559662,0.4773778207920949,0.44897381621354127,0.40977872059513265,0.3607480070110136,0.30303451115951807,0.23784003608379356,0.1663160156018204,0.0895113210355527,0.008354167412979674,-0.07634577625035144,-0.16388548404700698,-0.2536533134931478,-0.3451138150123212,-0.43779415005034306,-0.531272615061567,-0.625169255481417,-0.7191383375009055,-0.8128623815249236,-0.9060474681748887,-0.9984195628727521,-1.0897216475363938,-1.1797114884265834,-1.2681599042336287,-1.3548494273452052,-1.4395732743392897,-1.5221345599505591,-1.6023457029756156,-1.6800279836351386,-1.7550112204905268,-1.8271335416750003,-1.896241230382286,-1.9621886286000727,-2.024838086241953,-2.084059945321193,-2.1397325507767664,-2.191742281123312,-2.239983593343495,-2.2843590774419336,-2.324779516889024,-2.361163951840681,-2.3934397425598832,-2.421542630912027,-2.445416798177996,-2.465014917743695,-2.4802982014922286,-2.491236438958873,-2.497808028510541,-2.500000000000001,-2.497808028510541,-2.4912364389589245,-2.4802982014922286,-2.46501491774367,-2.445416798177972,-2.421542630912027,-2.3934397425598912,-2.361163951840681,-2.324779516889021,-2.2843590774419336,-2.239983593343495,-2.191742281123312,-2.1397325507767686,-2.084059945321193,-2.0248380862419495,-1.9621886286000727,-1.896241230382286,-1.8271335416750003,-1.7550112204905268,-1.6800279836351386,-1.6023457029756156,-1.5221345599505591,-1.439573274339291,-1.3548494273452052,-1.2681599042336287,-1.1797114884265834,-1.0897216475363938,-0.9984195628727508,-0.9060474681748887,-0.8128623815249236,-0.7191383375009055,-0.625169255481417,-0.5312726150615674,-0.4377941500503426,-0.3451138150123212,-0.2536533134931478,-0.16388548404700654,-0.07634577625035144,0.008354167412979674,0.08951132103555226,0.16631601560182085,0.23784003608379267,0.30303451115951807,0.36074800701101495,0.40977872059513265,0.44897381621354127,0.4773778207920949,0.4944073331559662,0.4999999999999991],\\\"type\\\":\\\"scatter\\\",\\\"x\\\":[1,2,3,4,5,6,7,8,9,10,11,12,13,14,15,16,17,18,19,20,21,22,23,24,25,26,27,28,29,30,31,32,33,34,35,36,37,38,39,40,41,42,43,44,45,46,47,48,49,50,51,52,53,54,55,56,57,58,59,60,61,62,63,64,65,66,67,68,69,70,71,72,73,74,75,76,77,78,79,80,81,82,83,84,85,86,87,88,89,90,91,92,93,94,95,96,97,98,99]},{\\\"mode\\\":\\\"lines\\\",\\\"line\\\":{\\\"color\\\":\\\"purple\\\",\\\"width\\\":4},\\\"y\\\":[2.0000000000000004,2.005592666844034,2.022622179207904,2.0510261837864587,2.090221279404867,2.139251992988986,2.196965488840482,2.2621599639162064,2.3336839843981796,2.410488678964447,2.49164583258702,2.5763457762503514,2.663885484047007,2.753653313493148,2.8451138150123203,2.937794150050343,3.0312726150615656,3.125169255481415,3.2191383375009046,3.3128623815249223,3.406047468174887,3.4984195628727512,3.5897216475363933,3.679711488426581,3.768159904233628,3.854849427345205,3.9395732743392897,4.022134559950559,4.102345702975616,4.180027983635137,4.255011220490527,4.327133541675001,4.396241230382283,4.462188628600073,4.52483808624195,4.584059945321193,4.639732550776766,4.6917422811233145,4.739983593343487,4.784359077441927,4.824779516889023,4.861163951840674,4.893439742559884,4.921542630912018,4.945416798177989,4.965014917743677,4.980298201492284,4.991236438958779,4.997808028510293,5.0,4.997808028510293,4.991236438958779,4.980298201492284,4.965014917743677,4.94541679817799,4.921542630912018,4.893439742559884,4.861163951840674,4.8247795168890235,4.784359077441927,4.739983593343487,4.6917422811233145,4.639732550776766,4.584059945321193,4.52483808624195,4.462188628600073,4.396241230382283,4.327133541675001,4.255011220490527,4.180027983635137,4.102345702975616,4.022134559950559,3.9395732743392893,3.854849427345205,3.7681599042336273,3.679711488426581,3.5897216475363933,3.498419562872751,3.406047468174887,3.3128623815249223,3.2191383375009046,3.125169255481415,3.0312726150615665,2.937794150050342,2.8451138150123207,2.753653313493148,2.663885484047006,2.5763457762503514,2.49164583258702,2.4104886789644477,2.3336839843981787,2.262159963916207,2.196965488840482,2.139251992988985,2.090221279404867,2.0510261837864583,2.022622179207904,2.005592666844034,2.0000000000000004],\\\"type\\\":\\\"scatter\\\",\\\"x\\\":[1,2,3,4,5,6,7,8,9,10,11,12,13,14,15,16,17,18,19,20,21,22,23,24,25,26,27,28,29,30,31,32,33,34,35,36,37,38,39,40,41,42,43,44,45,46,47,48,49,50,51,52,53,54,55,56,57,58,59,60,61,62,63,64,65,66,67,68,69,70,71,72,73,74,75,76,77,78,79,80,81,82,83,84,85,86,87,88,89,90,91,92,93,94,95,96,97,98,99]}],{\\\"showlegend\\\":false,\\\"xaxis\\\":{\\\"showgrid\\\":true,\\\"showline\\\":true,\\\"showticklabels\\\":false,\\\"linewidth\\\":5,\\\"mirror\\\":true,\\\"linecolor\\\":\\\"black\\\"},\\\"template\\\":{\\\"layout\\\":{\\\"coloraxis\\\":{\\\"colorbar\\\":{\\\"ticks\\\":\\\"\\\",\\\"outlinewidth\\\":0}},\\\"xaxis\\\":{\\\"gridcolor\\\":\\\"white\\\",\\\"zerolinewidth\\\":2,\\\"title\\\":{\\\"standoff\\\":15},\\\"ticks\\\":\\\"\\\",\\\"zerolinecolor\\\":\\\"white\\\",\\\"automargin\\\":true,\\\"linecolor\\\":\\\"white\\\"},\\\"hovermode\\\":\\\"closest\\\",\\\"paper_bgcolor\\\":\\\"white\\\",\\\"geo\\\":{\\\"showlakes\\\":true,\\\"showland\\\":true,\\\"landcolor\\\":\\\"#E5ECF6\\\",\\\"bgcolor\\\":\\\"white\\\",\\\"subunitcolor\\\":\\\"white\\\",\\\"lakecolor\\\":\\\"white\\\"},\\\"colorscale\\\":{\\\"sequential\\\":[[0.0,\\\"#0d0887\\\"],[0.1111111111111111,\\\"#46039f\\\"],[0.2222222222222222,\\\"#7201a8\\\"],[0.3333333333333333,\\\"#9c179e\\\"],[0.4444444444444444,\\\"#bd3786\\\"],[0.5555555555555556,\\\"#d8576b\\\"],[0.6666666666666666,\\\"#ed7953\\\"],[0.7777777777777778,\\\"#fb9f3a\\\"],[0.8888888888888888,\\\"#fdca26\\\"],[1.0,\\\"#f0f921\\\"]],\\\"diverging\\\":[[0,\\\"#8e0152\\\"],[0.1,\\\"#c51b7d\\\"],[0.2,\\\"#de77ae\\\"],[0.3,\\\"#f1b6da\\\"],[0.4,\\\"#fde0ef\\\"],[0.5,\\\"#f7f7f7\\\"],[0.6,\\\"#e6f5d0\\\"],[0.7,\\\"#b8e186\\\"],[0.8,\\\"#7fbc41\\\"],[0.9,\\\"#4d9221\\\"],[1,\\\"#276419\\\"]],\\\"sequentialminus\\\":[[0.0,\\\"#0d0887\\\"],[0.1111111111111111,\\\"#46039f\\\"],[0.2222222222222222,\\\"#7201a8\\\"],[0.3333333333333333,\\\"#9c179e\\\"],[0.4444444444444444,\\\"#bd3786\\\"],[0.5555555555555556,\\\"#d8576b\\\"],[0.6666666666666666,\\\"#ed7953\\\"],[0.7777777777777778,\\\"#fb9f3a\\\"],[0.8888888888888888,\\\"#fdca26\\\"],[1.0,\\\"#f0f921\\\"]]},\\\"yaxis\\\":{\\\"gridcolor\\\":\\\"white\\\",\\\"zerolinewidth\\\":2,\\\"title\\\":{\\\"standoff\\\":15},\\\"ticks\\\":\\\"\\\",\\\"zerolinecolor\\\":\\\"white\\\",\\\"automargin\\\":true,\\\"linecolor\\\":\\\"white\\\"},\\\"shapedefaults\\\":{\\\"line\\\":{\\\"color\\\":\\\"#2a3f5f\\\"}},\\\"hoverlabel\\\":{\\\"align\\\":\\\"left\\\"},\\\"mapbox\\\":{\\\"style\\\":\\\"light\\\"},\\\"polar\\\":{\\\"angularaxis\\\":{\\\"gridcolor\\\":\\\"white\\\",\\\"ticks\\\":\\\"\\\",\\\"linecolor\\\":\\\"white\\\"},\\\"bgcolor\\\":\\\"#E5ECF6\\\",\\\"radialaxis\\\":{\\\"gridcolor\\\":\\\"white\\\",\\\"ticks\\\":\\\"\\\",\\\"linecolor\\\":\\\"white\\\"}},\\\"autotypenumbers\\\":\\\"strict\\\",\\\"font\\\":{\\\"color\\\":\\\"#2a3f5f\\\"},\\\"ternary\\\":{\\\"baxis\\\":{\\\"gridcolor\\\":\\\"white\\\",\\\"ticks\\\":\\\"\\\",\\\"linecolor\\\":\\\"white\\\"},\\\"bgcolor\\\":\\\"#E5ECF6\\\",\\\"caxis\\\":{\\\"gridcolor\\\":\\\"white\\\",\\\"ticks\\\":\\\"\\\",\\\"linecolor\\\":\\\"white\\\"},\\\"aaxis\\\":{\\\"gridcolor\\\":\\\"white\\\",\\\"ticks\\\":\\\"\\\",\\\"linecolor\\\":\\\"white\\\"}},\\\"annotationdefaults\\\":{\\\"arrowhead\\\":0,\\\"arrowwidth\\\":1,\\\"arrowcolor\\\":\\\"#2a3f5f\\\"},\\\"plot_bgcolor\\\":\\\"#E5ECF6\\\",\\\"title\\\":{\\\"x\\\":0.05},\\\"scene\\\":{\\\"xaxis\\\":{\\\"gridcolor\\\":\\\"white\\\",\\\"gridwidth\\\":2,\\\"backgroundcolor\\\":\\\"#E5ECF6\\\",\\\"ticks\\\":\\\"\\\",\\\"showbackground\\\":true,\\\"zerolinecolor\\\":\\\"white\\\",\\\"linecolor\\\":\\\"white\\\"},\\\"zaxis\\\":{\\\"gridcolor\\\":\\\"white\\\",\\\"gridwidth\\\":2,\\\"backgroundcolor\\\":\\\"#E5ECF6\\\",\\\"ticks\\\":\\\"\\\",\\\"showbackground\\\":true,\\\"zerolinecolor\\\":\\\"white\\\",\\\"linecolor\\\":\\\"white\\\"},\\\"yaxis\\\":{\\\"gridcolor\\\":\\\"white\\\",\\\"gridwidth\\\":2,\\\"backgroundcolor\\\":\\\"#E5ECF6\\\",\\\"ticks\\\":\\\"\\\",\\\"showbackground\\\":true,\\\"zerolinecolor\\\":\\\"white\\\",\\\"linecolor\\\":\\\"white\\\"}},\\\"colorway\\\":[\\\"#636efa\\\",\\\"#EF553B\\\",\\\"#00cc96\\\",\\\"#ab63fa\\\",\\\"#FFA15A\\\",\\\"#19d3f3\\\",\\\"#FF6692\\\",\\\"#B6E880\\\",\\\"#FF97FF\\\",\\\"#FECB52\\\"]},\\\"data\\\":{\\\"barpolar\\\":[{\\\"type\\\":\\\"barpolar\\\",\\\"marker\\\":{\\\"line\\\":{\\\"color\\\":\\\"#E5ECF6\\\",\\\"width\\\":0.5}}}],\\\"carpet\\\":[{\\\"aaxis\\\":{\\\"gridcolor\\\":\\\"white\\\",\\\"endlinecolor\\\":\\\"#2a3f5f\\\",\\\"minorgridcolor\\\":\\\"white\\\",\\\"startlinecolor\\\":\\\"#2a3f5f\\\",\\\"linecolor\\\":\\\"white\\\"},\\\"type\\\":\\\"carpet\\\",\\\"baxis\\\":{\\\"gridcolor\\\":\\\"white\\\",\\\"endlinecolor\\\":\\\"#2a3f5f\\\",\\\"minorgridcolor\\\":\\\"white\\\",\\\"startlinecolor\\\":\\\"#2a3f5f\\\",\\\"linecolor\\\":\\\"white\\\"}}],\\\"scatterpolar\\\":[{\\\"type\\\":\\\"scatterpolar\\\",\\\"marker\\\":{\\\"colorbar\\\":{\\\"ticks\\\":\\\"\\\",\\\"outlinewidth\\\":0}}}],\\\"parcoords\\\":[{\\\"line\\\":{\\\"colorbar\\\":{\\\"ticks\\\":\\\"\\\",\\\"outlinewidth\\\":0}},\\\"type\\\":\\\"parcoords\\\"}],\\\"scatter\\\":[{\\\"type\\\":\\\"scatter\\\",\\\"marker\\\":{\\\"colorbar\\\":{\\\"ticks\\\":\\\"\\\",\\\"outlinewidth\\\":0}}}],\\\"histogram2dcontour\\\":[{\\\"colorbar\\\":{\\\"ticks\\\":\\\"\\\",\\\"outlinewidth\\\":0},\\\"type\\\":\\\"histogram2dcontour\\\",\\\"colorscale\\\":[[0.0,\\\"#0d0887\\\"],[0.1111111111111111,\\\"#46039f\\\"],[0.2222222222222222,\\\"#7201a8\\\"],[0.3333333333333333,\\\"#9c179e\\\"],[0.4444444444444444,\\\"#bd3786\\\"],[0.5555555555555556,\\\"#d8576b\\\"],[0.6666666666666666,\\\"#ed7953\\\"],[0.7777777777777778,\\\"#fb9f3a\\\"],[0.8888888888888888,\\\"#fdca26\\\"],[1.0,\\\"#f0f921\\\"]]}],\\\"contour\\\":[{\\\"colorbar\\\":{\\\"ticks\\\":\\\"\\\",\\\"outlinewidth\\\":0},\\\"type\\\":\\\"contour\\\",\\\"colorscale\\\":[[0.0,\\\"#0d0887\\\"],[0.1111111111111111,\\\"#46039f\\\"],[0.2222222222222222,\\\"#7201a8\\\"],[0.3333333333333333,\\\"#9c179e\\\"],[0.4444444444444444,\\\"#bd3786\\\"],[0.5555555555555556,\\\"#d8576b\\\"],[0.6666666666666666,\\\"#ed7953\\\"],[0.7777777777777778,\\\"#fb9f3a\\\"],[0.8888888888888888,\\\"#fdca26\\\"],[1.0,\\\"#f0f921\\\"]]}],\\\"scattercarpet\\\":[{\\\"type\\\":\\\"scattercarpet\\\",\\\"marker\\\":{\\\"colorbar\\\":{\\\"ticks\\\":\\\"\\\",\\\"outlinewidth\\\":0}}}],\\\"mesh3d\\\":[{\\\"colorbar\\\":{\\\"ticks\\\":\\\"\\\",\\\"outlinewidth\\\":0},\\\"type\\\":\\\"mesh3d\\\"}],\\\"surface\\\":[{\\\"colorbar\\\":{\\\"ticks\\\":\\\"\\\",\\\"outlinewidth\\\":0},\\\"type\\\":\\\"surface\\\",\\\"colorscale\\\":[[0.0,\\\"#0d0887\\\"],[0.1111111111111111,\\\"#46039f\\\"],[0.2222222222222222,\\\"#7201a8\\\"],[0.3333333333333333,\\\"#9c179e\\\"],[0.4444444444444444,\\\"#bd3786\\\"],[0.5555555555555556,\\\"#d8576b\\\"],[0.6666666666666666,\\\"#ed7953\\\"],[0.7777777777777778,\\\"#fb9f3a\\\"],[0.8888888888888888,\\\"#fdca26\\\"],[1.0,\\\"#f0f921\\\"]]}],\\\"scattermapbox\\\":[{\\\"type\\\":\\\"scattermapbox\\\",\\\"marker\\\":{\\\"colorbar\\\":{\\\"ticks\\\":\\\"\\\",\\\"outlinewidth\\\":0}}}],\\\"scattergeo\\\":[{\\\"type\\\":\\\"scattergeo\\\",\\\"marker\\\":{\\\"colorbar\\\":{\\\"ticks\\\":\\\"\\\",\\\"outlinewidth\\\":0}}}],\\\"histogram\\\":[{\\\"type\\\":\\\"histogram\\\",\\\"marker\\\":{\\\"colorbar\\\":{\\\"ticks\\\":\\\"\\\",\\\"outlinewidth\\\":0}}}],\\\"pie\\\":[{\\\"type\\\":\\\"pie\\\",\\\"automargin\\\":true}],\\\"choropleth\\\":[{\\\"colorbar\\\":{\\\"ticks\\\":\\\"\\\",\\\"outlinewidth\\\":0},\\\"type\\\":\\\"choropleth\\\"}],\\\"heatmapgl\\\":[{\\\"colorbar\\\":{\\\"ticks\\\":\\\"\\\",\\\"outlinewidth\\\":0},\\\"type\\\":\\\"heatmapgl\\\",\\\"colorscale\\\":[[0.0,\\\"#0d0887\\\"],[0.1111111111111111,\\\"#46039f\\\"],[0.2222222222222222,\\\"#7201a8\\\"],[0.3333333333333333,\\\"#9c179e\\\"],[0.4444444444444444,\\\"#bd3786\\\"],[0.5555555555555556,\\\"#d8576b\\\"],[0.6666666666666666,\\\"#ed7953\\\"],[0.7777777777777778,\\\"#fb9f3a\\\"],[0.8888888888888888,\\\"#fdca26\\\"],[1.0,\\\"#f0f921\\\"]]}],\\\"bar\\\":[{\\\"type\\\":\\\"bar\\\",\\\"error_y\\\":{\\\"color\\\":\\\"#2a3f5f\\\"},\\\"error_x\\\":{\\\"color\\\":\\\"#2a3f5f\\\"},\\\"marker\\\":{\\\"line\\\":{\\\"color\\\":\\\"#E5ECF6\\\",\\\"width\\\":0.5}}}],\\\"heatmap\\\":[{\\\"colorbar\\\":{\\\"ticks\\\":\\\"\\\",\\\"outlinewidth\\\":0},\\\"type\\\":\\\"heatmap\\\",\\\"colorscale\\\":[[0.0,\\\"#0d0887\\\"],[0.1111111111111111,\\\"#46039f\\\"],[0.2222222222222222,\\\"#7201a8\\\"],[0.3333333333333333,\\\"#9c179e\\\"],[0.4444444444444444,\\\"#bd3786\\\"],[0.5555555555555556,\\\"#d8576b\\\"],[0.6666666666666666,\\\"#ed7953\\\"],[0.7777777777777778,\\\"#fb9f3a\\\"],[0.8888888888888888,\\\"#fdca26\\\"],[1.0,\\\"#f0f921\\\"]]}],\\\"contourcarpet\\\":[{\\\"colorbar\\\":{\\\"ticks\\\":\\\"\\\",\\\"outlinewidth\\\":0},\\\"type\\\":\\\"contourcarpet\\\"}],\\\"table\\\":[{\\\"type\\\":\\\"table\\\",\\\"header\\\":{\\\"line\\\":{\\\"color\\\":\\\"white\\\"},\\\"fill\\\":{\\\"color\\\":\\\"#C8D4E3\\\"}},\\\"cells\\\":{\\\"line\\\":{\\\"color\\\":\\\"white\\\"},\\\"fill\\\":{\\\"color\\\":\\\"#EBF0F8\\\"}}}],\\\"scatter3d\\\":[{\\\"line\\\":{\\\"colorbar\\\":{\\\"ticks\\\":\\\"\\\",\\\"outlinewidth\\\":0}},\\\"type\\\":\\\"scatter3d\\\",\\\"marker\\\":{\\\"colorbar\\\":{\\\"ticks\\\":\\\"\\\",\\\"outlinewidth\\\":0}}}],\\\"scattergl\\\":[{\\\"type\\\":\\\"scattergl\\\",\\\"marker\\\":{\\\"colorbar\\\":{\\\"ticks\\\":\\\"\\\",\\\"outlinewidth\\\":0}}}],\\\"histogram2d\\\":[{\\\"colorbar\\\":{\\\"ticks\\\":\\\"\\\",\\\"outlinewidth\\\":0},\\\"type\\\":\\\"histogram2d\\\",\\\"colorscale\\\":[[0.0,\\\"#0d0887\\\"],[0.1111111111111111,\\\"#46039f\\\"],[0.2222222222222222,\\\"#7201a8\\\"],[0.3333333333333333,\\\"#9c179e\\\"],[0.4444444444444444,\\\"#bd3786\\\"],[0.5555555555555556,\\\"#d8576b\\\"],[0.6666666666666666,\\\"#ed7953\\\"],[0.7777777777777778,\\\"#fb9f3a\\\"],[0.8888888888888888,\\\"#fdca26\\\"],[1.0,\\\"#f0f921\\\"]]}],\\\"scatterternary\\\":[{\\\"type\\\":\\\"scatterternary\\\",\\\"marker\\\":{\\\"colorbar\\\":{\\\"ticks\\\":\\\"\\\",\\\"outlinewidth\\\":0}}}],\\\"scatterpolargl\\\":[{\\\"type\\\":\\\"scatterpolargl\\\",\\\"marker\\\":{\\\"colorbar\\\":{\\\"ticks\\\":\\\"\\\",\\\"outlinewidth\\\":0}}}]}},\\\"height\\\":510,\\\"margin\\\":{\\\"l\\\":50,\\\"b\\\":50,\\\"r\\\":50,\\\"t\\\":60},\\\"title\\\":\\\"-K --> Γ --> K\\\",\\\"yaxis\\\":{\\\"showgrid\\\":true,\\\"showline\\\":true,\\\"showticklabels\\\":true,\\\"linewidth\\\":5,\\\"mirror\\\":true,\\\"linecolor\\\":\\\"black\\\"},\\\"plot_bgcolor\\\":\\\"rgba(0,0,0,0)\\\",\\\"width\\\":510},{\\\"showLink\\\":false,\\\"editable\\\":false,\\\"responsive\\\":true,\\\"staticPlot\\\":false,\\\"scrollZoom\\\":true}); gd.on(\\\"plotly_hover\\\",(function (data){var filtered_data=WebIO.PlotlyCommands.filterEventData(gd,data,\\\"hover\\\"); return !(filtered_data.isnil) ? (WebIO.setval({\\\"name\\\":\\\"hover\\\",\\\"scope\\\":\\\"8749073484574238691\\\",\\\"id\\\":\\\"41\\\",\\\"type\\\":\\\"observable\\\"},filtered_data.out)) : undefined})); gd.on(\\\"plotly_unhover\\\",(function (){return WebIO.setval({\\\"name\\\":\\\"hover\\\",\\\"scope\\\":\\\"8749073484574238691\\\",\\\"id\\\":\\\"41\\\",\\\"type\\\":\\\"observable\\\"},{})})); gd.on(\\\"plotly_selected\\\",(function (data){var filtered_data=WebIO.PlotlyCommands.filterEventData(gd,data,\\\"selected\\\"); return !(filtered_data.isnil) ? (WebIO.setval({\\\"name\\\":\\\"selected\\\",\\\"scope\\\":\\\"8749073484574238691\\\",\\\"id\\\":\\\"42\\\",\\\"type\\\":\\\"observable\\\"},filtered_data.out)) : undefined})); gd.on(\\\"plotly_deselect\\\",(function (){return WebIO.setval({\\\"name\\\":\\\"selected\\\",\\\"scope\\\":\\\"8749073484574238691\\\",\\\"id\\\":\\\"42\\\",\\\"type\\\":\\\"observable\\\"},{})})); gd.on(\\\"plotly_relayout\\\",(function (data){var filtered_data=WebIO.PlotlyCommands.filterEventData(gd,data,\\\"relayout\\\"); return !(filtered_data.isnil) ? (WebIO.setval({\\\"name\\\":\\\"relayout\\\",\\\"scope\\\":\\\"8749073484574238691\\\",\\\"id\\\":\\\"44\\\",\\\"type\\\":\\\"observable\\\"},filtered_data.out)) : undefined})); return gd.on(\\\"plotly_click\\\",(function (data){var filtered_data=WebIO.PlotlyCommands.filterEventData(gd,data,\\\"click\\\"); return !(filtered_data.isnil) ? (WebIO.setval({\\\"name\\\":\\\"click\\\",\\\"scope\\\":\\\"8749073484574238691\\\",\\\"id\\\":\\\"43\\\",\\\"type\\\":\\\"observable\\\"},filtered_data.out)) : undefined}))}));\\n    (WebIO.importBlock({\\\"data\\\":[{\\\"name\\\":\\\"Plotly\\\",\\\"type\\\":\\\"js\\\",\\\"url\\\":\\\"\\/assetserver\\/b267c3137400db01c304fe886fe6f707be7fdb37-plotly.min.js\\\"},{\\\"name\\\":null,\\\"type\\\":\\\"js\\\",\\\"url\\\":\\\"\\/assetserver\\/020f2e8a4619f2ae880fff9315e6547eef1aff0b-plotly_webio.bundle.js\\\"}],\\\"type\\\":\\\"async_block\\\"})).then((imports) => handler.apply(this, imports));\\n}\\n\"],\"observables\":{\"_toImage\":{\"sync\":false,\"id\":\"48\",\"value\":{}},\"hover\":{\"sync\":false,\"id\":\"41\",\"value\":{}},\"selected\":{\"sync\":false,\"id\":\"42\",\"value\":{}},\"__gd_contents\":{\"sync\":false,\"id\":\"46\",\"value\":{}},\"click\":{\"sync\":false,\"id\":\"43\",\"value\":{}},\"image\":{\"sync\":true,\"id\":\"45\",\"value\":\"\"},\"__get_gd_contents\":{\"sync\":false,\"id\":\"50\",\"value\":\"\"},\"_downloadImage\":{\"sync\":false,\"id\":\"49\",\"value\":{}},\"relayout\":{\"sync\":false,\"id\":\"44\",\"value\":{}},\"_commands\":{\"sync\":false,\"id\":\"47\",\"value\":[]}}},\"children\":[{\"props\":{\"id\":\"plot-24563133-0f3c-4bae-9dc4-61fa2a73c8a6\"},\"nodeType\":\"DOM\",\"type\":\"node\",\"instanceArgs\":{\"namespace\":\"html\",\"tag\":\"div\"},\"children\":[]}]},\n",
       "        window,\n",
       "    );\n",
       "    })()\n",
       "    </script>\n",
       "</div>\n"
      ],
      "text/plain": [
       "data: [\n",
       "  \"scatter with fields line, mode, type, x, and y\",\n",
       "  \"scatter with fields line, mode, type, x, and y\",\n",
       "  \"scatter with fields line, mode, type, x, and y\"\n",
       "]\n",
       "\n",
       "layout: \"layout with fields height, margin, plot_bgcolor, showlegend, template, title, width, xaxis, and yaxis\"\n",
       "\n"
      ]
     },
     "metadata": {},
     "output_type": "display_data"
    }
   ],
   "source": [
    "let nps::Int = 100, t1Δ = 1.0, t2Δ = 1.0, t3Δ = 1.0, t1∇ = 1.5, t2∇ = 1.5, t3∇ = 1.5\n",
    "    p::Params = Params(t1Δ, t2Δ, t3Δ, t1∇, t2∇, t3∇)\n",
    "    println(\"t1Δ = \", p.t1Δ)\n",
    "    println(\"t2Δ = \", p.t2Δ)\n",
    "    println(\"t3Δ = \", p.t3Δ)\n",
    "    println(\"t1∇ = \", p.t1∇)\n",
    "    println(\"t2∇ = \", p.t2∇)\n",
    "    println(\"t3∇ = \", p.t3∇)\n",
    "    \n",
    "    kpath_nodes::Vector{SVector{2, Float64}} = [-high_symmetry_points[\"K\"], \n",
    "                    high_symmetry_points[\"Γ\"], \n",
    "                    high_symmetry_points[\"K\"]];\n",
    "    kpath_fbz::Vector{Vector{Float64}} = interpolate(kpath_nodes, nps);\n",
    "    kpath_fbz = [SVector{2, Float64}(v) for v ∈ kpath_fbz]\n",
    "    plot_simple_kagome_bands(;p = p, seedname = \"-K --> Γ --> K\", kpath = kpath_fbz, title = Nothing)\n",
    "end\n"
   ]
  },
  {
   "cell_type": "code",
   "execution_count": 15,
   "metadata": {},
   "outputs": [
    {
     "data": {
      "application/vnd.plotly.v1+json": {
       "config": {
        "editable": false,
        "responsive": true,
        "scrollZoom": true,
        "showLink": false,
        "staticPlot": false
       },
       "data": [
        {
         "line": {
          "color": "purple",
          "width": 4
         },
         "mode": "lines",
         "type": "scatter",
         "x": [
          1,
          2,
          3,
          4,
          5,
          6,
          7,
          8,
          9,
          10,
          11,
          12,
          13,
          14,
          15,
          16,
          17,
          18,
          19,
          20,
          21,
          22,
          23,
          24,
          25,
          26,
          27,
          28,
          29,
          30,
          31,
          32,
          33,
          34,
          35,
          36,
          37,
          38,
          39,
          40,
          41,
          42,
          43,
          44,
          45,
          46,
          47,
          48,
          49,
          50,
          51,
          52,
          53,
          54,
          55,
          56,
          57,
          58,
          59,
          60,
          61,
          62,
          63,
          64,
          65,
          66,
          67,
          68,
          69,
          70,
          71,
          72,
          73,
          74,
          75,
          76,
          77,
          78,
          79,
          80,
          81,
          82,
          83,
          84,
          85,
          86,
          87,
          88,
          89,
          90,
          91,
          92,
          93,
          94,
          95,
          96,
          97,
          98,
          99
         ],
         "y": [
          -2.4999999999999996,
          -2.499999999999999,
          -2.4999999999999996,
          -2.499999999999999,
          -2.5,
          -2.499999999999999,
          -2.4999999999999996,
          -2.4999999999999996,
          -2.4999999999999996,
          -2.499999999999999,
          -2.499999999999999,
          -2.499999999999999,
          -2.4999999999999982,
          -2.4999999999999996,
          -2.4999999999999982,
          -2.499999999999999,
          -2.4999999999999987,
          -2.499999999999999,
          -2.499999999999999,
          -2.500000000000001,
          -2.499999999999999,
          -2.500000000000001,
          -2.4999999999999982,
          -2.5000000000000018,
          -2.4999999999999987,
          -2.499999999999999,
          -2.5000000000000004,
          -2.499999999999999,
          -2.4999999999999982,
          -2.4999999999999982,
          -2.5000000000000027,
          -2.4999999999999947,
          -2.499999999999998,
          -2.499999999999997,
          -2.5000000000000004,
          -2.5,
          -2.499999999999995,
          -2.500000000000005,
          -2.5000000000000058,
          -2.499999999999984,
          -2.5000000000000058,
          -2.5,
          -2.499999999999998,
          -2.5000000000000036,
          -2.4999999999999876,
          -2.500000000000087,
          -2.500000000000118,
          -2.5000000000000426,
          -2.5000000000003726,
          -2.499999999999999,
          -2.5000000000003726,
          -2.5000000000000426,
          -2.500000000000118,
          -2.5000000000000373,
          -2.4999999999999716,
          -2.5000000000000036,
          -2.499999999999998,
          -2.4999999999999947,
          -2.5000000000000058,
          -2.499999999999984,
          -2.4999999999999796,
          -2.500000000000005,
          -2.499999999999995,
          -2.5,
          -2.5000000000000004,
          -2.4999999999999996,
          -2.499999999999998,
          -2.4999999999999947,
          -2.5000000000000027,
          -2.5000000000000018,
          -2.4999999999999982,
          -2.499999999999999,
          -2.5000000000000004,
          -2.499999999999999,
          -2.4999999999999987,
          -2.5000000000000018,
          -2.4999999999999982,
          -2.4999999999999987,
          -2.499999999999999,
          -2.500000000000001,
          -2.499999999999999,
          -2.499999999999999,
          -2.499999999999999,
          -2.499999999999999,
          -2.4999999999999987,
          -2.4999999999999996,
          -2.4999999999999982,
          -2.499999999999999,
          -2.499999999999999,
          -2.499999999999999,
          -2.4999999999999996,
          -2.4999999999999996,
          -2.4999999999999996,
          -2.4999999999999987,
          -2.4999999999999987,
          -2.499999999999999,
          -2.4999999999999996,
          -2.499999999999999,
          -2.4999999999999996
         ]
        },
        {
         "line": {
          "color": "purple",
          "width": 4
         },
         "mode": "lines",
         "type": "scatter",
         "x": [
          1,
          2,
          3,
          4,
          5,
          6,
          7,
          8,
          9,
          10,
          11,
          12,
          13,
          14,
          15,
          16,
          17,
          18,
          19,
          20,
          21,
          22,
          23,
          24,
          25,
          26,
          27,
          28,
          29,
          30,
          31,
          32,
          33,
          34,
          35,
          36,
          37,
          38,
          39,
          40,
          41,
          42,
          43,
          44,
          45,
          46,
          47,
          48,
          49,
          50,
          51,
          52,
          53,
          54,
          55,
          56,
          57,
          58,
          59,
          60,
          61,
          62,
          63,
          64,
          65,
          66,
          67,
          68,
          69,
          70,
          71,
          72,
          73,
          74,
          75,
          76,
          77,
          78,
          79,
          80,
          81,
          82,
          83,
          84,
          85,
          86,
          87,
          88,
          89,
          90,
          91,
          92,
          93,
          94,
          95,
          96,
          97,
          98,
          99
         ],
         "y": [
          -0.30623535152676373,
          -0.3692926366501057,
          -0.4334860540961034,
          -0.49859062289165346,
          -0.5644001041043349,
          -0.6307249184912056,
          -0.6973902304666852,
          -0.764234223972291,
          -0.8311065752071318,
          -0.8978671149532076,
          -0.9643846665960432,
          -1.0305360429022787,
          -1.0962051837980114,
          -1.1612824178778207,
          -1.225663831567938,
          -1.2892507313909412,
          -1.351949186403667,
          -1.4136696394703718,
          -1.4743265775171124,
          -1.5338382522564746,
          -1.5921264440633944,
          -1.6491162627252312,
          -1.704735979692618,
          -1.758916887234811,
          -1.8115931805691887,
          -1.862701859602791,
          -1.9121826474083758,
          -1.9599779229694319,
          -2.0060326660794825,
          -2.05029441257933,
          -2.0927132183699824,
          -2.13324163085559,
          -2.1718346666553763,
          -2.208449794581901,
          -2.2430469230178116,
          -2.275588390939938,
          -2.3060389619391963,
          -2.334365820671269,
          -2.360538571247781,
          -2.384529237142341,
          -2.4063122622427406,
          -2.4258645127304614,
          -2.443165279511297,
          -2.458196280961193,
          -2.47094166578462,
          -2.481388015814253,
          -2.4895243486098035,
          -2.495342119737069,
          -2.498835224634703,
          -2.500000000000001,
          -2.498835224634703,
          -2.495342119737069,
          -2.4895243486098035,
          -2.4813880158143027,
          -2.4709416657846353,
          -2.458196280961193,
          -2.443165279511297,
          -2.4258645127304668,
          -2.4063122622427406,
          -2.384529237142341,
          -2.3605385712478073,
          -2.334365820671269,
          -2.3060389619391963,
          -2.275588390939938,
          -2.2430469230178116,
          -2.2084497945818993,
          -2.1718346666553763,
          -2.13324163085559,
          -2.0927132183699824,
          -2.0502944125793254,
          -2.0060326660794825,
          -1.9599779229694319,
          -1.9121826474083758,
          -1.862701859602791,
          -1.8115931805691887,
          -1.758916887234811,
          -1.704735979692618,
          -1.6491162627252325,
          -1.5921264440633944,
          -1.5338382522564746,
          -1.4743265775171124,
          -1.4136696394703718,
          -1.3519491864036675,
          -1.2892507313909412,
          -1.2256638315679385,
          -1.1612824178778207,
          -1.0962051837980114,
          -1.0305360429022787,
          -0.9643846665960432,
          -0.897867114953208,
          -0.8311065752071318,
          -0.764234223972291,
          -0.6973902304666852,
          -0.6307249184912052,
          -0.5644001041043363,
          -0.4985906228916539,
          -0.4334860540961034,
          -0.3692926366501057,
          -0.30623535152676373
         ]
        },
        {
         "line": {
          "color": "purple",
          "width": 4
         },
         "mode": "lines",
         "type": "scatter",
         "x": [
          1,
          2,
          3,
          4,
          5,
          6,
          7,
          8,
          9,
          10,
          11,
          12,
          13,
          14,
          15,
          16,
          17,
          18,
          19,
          20,
          21,
          22,
          23,
          24,
          25,
          26,
          27,
          28,
          29,
          30,
          31,
          32,
          33,
          34,
          35,
          36,
          37,
          38,
          39,
          40,
          41,
          42,
          43,
          44,
          45,
          46,
          47,
          48,
          49,
          50,
          51,
          52,
          53,
          54,
          55,
          56,
          57,
          58,
          59,
          60,
          61,
          62,
          63,
          64,
          65,
          66,
          67,
          68,
          69,
          70,
          71,
          72,
          73,
          74,
          75,
          76,
          77,
          78,
          79,
          80,
          81,
          82,
          83,
          84,
          85,
          86,
          87,
          88,
          89,
          90,
          91,
          92,
          93,
          94,
          95,
          96,
          97,
          98,
          99
         ],
         "y": [
          2.8062353515267633,
          2.869292636650105,
          2.933486054096103,
          2.9985906228916526,
          3.064400104104335,
          3.1307249184912047,
          3.197390230466685,
          3.2642342239722906,
          3.3311065752071314,
          3.3978671149532067,
          3.4643846665960423,
          3.530536042902278,
          3.5962051837980096,
          3.6612824178778203,
          3.7256638315679362,
          3.7892507313909403,
          3.8519491864036657,
          3.913669639470371,
          3.9743265775171115,
          4.0338382522564755,
          4.0921264440633935,
          4.149116262725232,
          4.204735979692616,
          4.258916887234813,
          4.311593180569187,
          4.36270185960279,
          4.412182647408376,
          4.459977922969431,
          4.506032666079481,
          4.550294412579328,
          4.592713218369985,
          4.633241630855585,
          4.671834666655374,
          4.708449794581898,
          4.743046923017812,
          4.775588390939938,
          4.8060389619391914,
          4.834365820671274,
          4.860538571247787,
          4.884529237142325,
          4.906312262242746,
          4.925864512730461,
          4.943165279511295,
          4.958196280961197,
          4.970941665784608,
          4.98138801581434,
          4.989524348609922,
          4.995342119737112,
          4.998835224635076,
          5,
          4.998835224635076,
          4.995342119737112,
          4.989524348609922,
          4.98138801581434,
          4.970941665784607,
          4.958196280961197,
          4.943165279511295,
          4.925864512730461,
          4.906312262242746,
          4.884529237142325,
          4.860538571247787,
          4.834365820671274,
          4.8060389619391914,
          4.775588390939938,
          4.743046923017812,
          4.708449794581899,
          4.671834666655374,
          4.633241630855585,
          4.592713218369985,
          4.550294412579327,
          4.506032666079481,
          4.459977922969431,
          4.412182647408376,
          4.36270185960279,
          4.311593180569187,
          4.258916887234813,
          4.204735979692616,
          4.149116262725231,
          4.0921264440633935,
          4.0338382522564755,
          3.9743265775171115,
          3.913669639470371,
          3.8519491864036666,
          3.7892507313909403,
          3.725663831567937,
          3.6612824178778203,
          3.5962051837980096,
          3.530536042902278,
          3.4643846665960423,
          3.397867114953207,
          3.3311065752071314,
          3.2642342239722906,
          3.197390230466685,
          3.130724918491204,
          3.064400104104335,
          2.998590622891653,
          2.933486054096103,
          2.869292636650105,
          2.8062353515267633
         ]
        }
       ],
       "frames": [],
       "layout": {
        "height": 510,
        "margin": {
         "b": 50,
         "l": 50,
         "r": 50,
         "t": 60
        },
        "plot_bgcolor": "rgba(0,0,0,0)",
        "showlegend": false,
        "template": {
         "data": {
          "bar": [
           {
            "error_x": {
             "color": "#2a3f5f"
            },
            "error_y": {
             "color": "#2a3f5f"
            },
            "marker": {
             "line": {
              "color": "#E5ECF6",
              "width": 0.5
             }
            },
            "type": "bar"
           }
          ],
          "barpolar": [
           {
            "marker": {
             "line": {
              "color": "#E5ECF6",
              "width": 0.5
             }
            },
            "type": "barpolar"
           }
          ],
          "carpet": [
           {
            "aaxis": {
             "endlinecolor": "#2a3f5f",
             "gridcolor": "white",
             "linecolor": "white",
             "minorgridcolor": "white",
             "startlinecolor": "#2a3f5f"
            },
            "baxis": {
             "endlinecolor": "#2a3f5f",
             "gridcolor": "white",
             "linecolor": "white",
             "minorgridcolor": "white",
             "startlinecolor": "#2a3f5f"
            },
            "type": "carpet"
           }
          ],
          "choropleth": [
           {
            "colorbar": {
             "outlinewidth": 0,
             "ticks": ""
            },
            "type": "choropleth"
           }
          ],
          "contour": [
           {
            "colorbar": {
             "outlinewidth": 0,
             "ticks": ""
            },
            "colorscale": [
             [
              0,
              "#0d0887"
             ],
             [
              0.1111111111111111,
              "#46039f"
             ],
             [
              0.2222222222222222,
              "#7201a8"
             ],
             [
              0.3333333333333333,
              "#9c179e"
             ],
             [
              0.4444444444444444,
              "#bd3786"
             ],
             [
              0.5555555555555556,
              "#d8576b"
             ],
             [
              0.6666666666666666,
              "#ed7953"
             ],
             [
              0.7777777777777778,
              "#fb9f3a"
             ],
             [
              0.8888888888888888,
              "#fdca26"
             ],
             [
              1,
              "#f0f921"
             ]
            ],
            "type": "contour"
           }
          ],
          "contourcarpet": [
           {
            "colorbar": {
             "outlinewidth": 0,
             "ticks": ""
            },
            "type": "contourcarpet"
           }
          ],
          "heatmap": [
           {
            "colorbar": {
             "outlinewidth": 0,
             "ticks": ""
            },
            "colorscale": [
             [
              0,
              "#0d0887"
             ],
             [
              0.1111111111111111,
              "#46039f"
             ],
             [
              0.2222222222222222,
              "#7201a8"
             ],
             [
              0.3333333333333333,
              "#9c179e"
             ],
             [
              0.4444444444444444,
              "#bd3786"
             ],
             [
              0.5555555555555556,
              "#d8576b"
             ],
             [
              0.6666666666666666,
              "#ed7953"
             ],
             [
              0.7777777777777778,
              "#fb9f3a"
             ],
             [
              0.8888888888888888,
              "#fdca26"
             ],
             [
              1,
              "#f0f921"
             ]
            ],
            "type": "heatmap"
           }
          ],
          "heatmapgl": [
           {
            "colorbar": {
             "outlinewidth": 0,
             "ticks": ""
            },
            "colorscale": [
             [
              0,
              "#0d0887"
             ],
             [
              0.1111111111111111,
              "#46039f"
             ],
             [
              0.2222222222222222,
              "#7201a8"
             ],
             [
              0.3333333333333333,
              "#9c179e"
             ],
             [
              0.4444444444444444,
              "#bd3786"
             ],
             [
              0.5555555555555556,
              "#d8576b"
             ],
             [
              0.6666666666666666,
              "#ed7953"
             ],
             [
              0.7777777777777778,
              "#fb9f3a"
             ],
             [
              0.8888888888888888,
              "#fdca26"
             ],
             [
              1,
              "#f0f921"
             ]
            ],
            "type": "heatmapgl"
           }
          ],
          "histogram": [
           {
            "marker": {
             "colorbar": {
              "outlinewidth": 0,
              "ticks": ""
             }
            },
            "type": "histogram"
           }
          ],
          "histogram2d": [
           {
            "colorbar": {
             "outlinewidth": 0,
             "ticks": ""
            },
            "colorscale": [
             [
              0,
              "#0d0887"
             ],
             [
              0.1111111111111111,
              "#46039f"
             ],
             [
              0.2222222222222222,
              "#7201a8"
             ],
             [
              0.3333333333333333,
              "#9c179e"
             ],
             [
              0.4444444444444444,
              "#bd3786"
             ],
             [
              0.5555555555555556,
              "#d8576b"
             ],
             [
              0.6666666666666666,
              "#ed7953"
             ],
             [
              0.7777777777777778,
              "#fb9f3a"
             ],
             [
              0.8888888888888888,
              "#fdca26"
             ],
             [
              1,
              "#f0f921"
             ]
            ],
            "type": "histogram2d"
           }
          ],
          "histogram2dcontour": [
           {
            "colorbar": {
             "outlinewidth": 0,
             "ticks": ""
            },
            "colorscale": [
             [
              0,
              "#0d0887"
             ],
             [
              0.1111111111111111,
              "#46039f"
             ],
             [
              0.2222222222222222,
              "#7201a8"
             ],
             [
              0.3333333333333333,
              "#9c179e"
             ],
             [
              0.4444444444444444,
              "#bd3786"
             ],
             [
              0.5555555555555556,
              "#d8576b"
             ],
             [
              0.6666666666666666,
              "#ed7953"
             ],
             [
              0.7777777777777778,
              "#fb9f3a"
             ],
             [
              0.8888888888888888,
              "#fdca26"
             ],
             [
              1,
              "#f0f921"
             ]
            ],
            "type": "histogram2dcontour"
           }
          ],
          "mesh3d": [
           {
            "colorbar": {
             "outlinewidth": 0,
             "ticks": ""
            },
            "type": "mesh3d"
           }
          ],
          "parcoords": [
           {
            "line": {
             "colorbar": {
              "outlinewidth": 0,
              "ticks": ""
             }
            },
            "type": "parcoords"
           }
          ],
          "pie": [
           {
            "automargin": true,
            "type": "pie"
           }
          ],
          "scatter": [
           {
            "marker": {
             "colorbar": {
              "outlinewidth": 0,
              "ticks": ""
             }
            },
            "type": "scatter"
           }
          ],
          "scatter3d": [
           {
            "line": {
             "colorbar": {
              "outlinewidth": 0,
              "ticks": ""
             }
            },
            "marker": {
             "colorbar": {
              "outlinewidth": 0,
              "ticks": ""
             }
            },
            "type": "scatter3d"
           }
          ],
          "scattercarpet": [
           {
            "marker": {
             "colorbar": {
              "outlinewidth": 0,
              "ticks": ""
             }
            },
            "type": "scattercarpet"
           }
          ],
          "scattergeo": [
           {
            "marker": {
             "colorbar": {
              "outlinewidth": 0,
              "ticks": ""
             }
            },
            "type": "scattergeo"
           }
          ],
          "scattergl": [
           {
            "marker": {
             "colorbar": {
              "outlinewidth": 0,
              "ticks": ""
             }
            },
            "type": "scattergl"
           }
          ],
          "scattermapbox": [
           {
            "marker": {
             "colorbar": {
              "outlinewidth": 0,
              "ticks": ""
             }
            },
            "type": "scattermapbox"
           }
          ],
          "scatterpolar": [
           {
            "marker": {
             "colorbar": {
              "outlinewidth": 0,
              "ticks": ""
             }
            },
            "type": "scatterpolar"
           }
          ],
          "scatterpolargl": [
           {
            "marker": {
             "colorbar": {
              "outlinewidth": 0,
              "ticks": ""
             }
            },
            "type": "scatterpolargl"
           }
          ],
          "scatterternary": [
           {
            "marker": {
             "colorbar": {
              "outlinewidth": 0,
              "ticks": ""
             }
            },
            "type": "scatterternary"
           }
          ],
          "surface": [
           {
            "colorbar": {
             "outlinewidth": 0,
             "ticks": ""
            },
            "colorscale": [
             [
              0,
              "#0d0887"
             ],
             [
              0.1111111111111111,
              "#46039f"
             ],
             [
              0.2222222222222222,
              "#7201a8"
             ],
             [
              0.3333333333333333,
              "#9c179e"
             ],
             [
              0.4444444444444444,
              "#bd3786"
             ],
             [
              0.5555555555555556,
              "#d8576b"
             ],
             [
              0.6666666666666666,
              "#ed7953"
             ],
             [
              0.7777777777777778,
              "#fb9f3a"
             ],
             [
              0.8888888888888888,
              "#fdca26"
             ],
             [
              1,
              "#f0f921"
             ]
            ],
            "type": "surface"
           }
          ],
          "table": [
           {
            "cells": {
             "fill": {
              "color": "#EBF0F8"
             },
             "line": {
              "color": "white"
             }
            },
            "header": {
             "fill": {
              "color": "#C8D4E3"
             },
             "line": {
              "color": "white"
             }
            },
            "type": "table"
           }
          ]
         },
         "layout": {
          "annotationdefaults": {
           "arrowcolor": "#2a3f5f",
           "arrowhead": 0,
           "arrowwidth": 1
          },
          "autotypenumbers": "strict",
          "coloraxis": {
           "colorbar": {
            "outlinewidth": 0,
            "ticks": ""
           }
          },
          "colorscale": {
           "diverging": [
            [
             0,
             "#8e0152"
            ],
            [
             0.1,
             "#c51b7d"
            ],
            [
             0.2,
             "#de77ae"
            ],
            [
             0.3,
             "#f1b6da"
            ],
            [
             0.4,
             "#fde0ef"
            ],
            [
             0.5,
             "#f7f7f7"
            ],
            [
             0.6,
             "#e6f5d0"
            ],
            [
             0.7,
             "#b8e186"
            ],
            [
             0.8,
             "#7fbc41"
            ],
            [
             0.9,
             "#4d9221"
            ],
            [
             1,
             "#276419"
            ]
           ],
           "sequential": [
            [
             0,
             "#0d0887"
            ],
            [
             0.1111111111111111,
             "#46039f"
            ],
            [
             0.2222222222222222,
             "#7201a8"
            ],
            [
             0.3333333333333333,
             "#9c179e"
            ],
            [
             0.4444444444444444,
             "#bd3786"
            ],
            [
             0.5555555555555556,
             "#d8576b"
            ],
            [
             0.6666666666666666,
             "#ed7953"
            ],
            [
             0.7777777777777778,
             "#fb9f3a"
            ],
            [
             0.8888888888888888,
             "#fdca26"
            ],
            [
             1,
             "#f0f921"
            ]
           ],
           "sequentialminus": [
            [
             0,
             "#0d0887"
            ],
            [
             0.1111111111111111,
             "#46039f"
            ],
            [
             0.2222222222222222,
             "#7201a8"
            ],
            [
             0.3333333333333333,
             "#9c179e"
            ],
            [
             0.4444444444444444,
             "#bd3786"
            ],
            [
             0.5555555555555556,
             "#d8576b"
            ],
            [
             0.6666666666666666,
             "#ed7953"
            ],
            [
             0.7777777777777778,
             "#fb9f3a"
            ],
            [
             0.8888888888888888,
             "#fdca26"
            ],
            [
             1,
             "#f0f921"
            ]
           ]
          },
          "colorway": [
           "#636efa",
           "#EF553B",
           "#00cc96",
           "#ab63fa",
           "#FFA15A",
           "#19d3f3",
           "#FF6692",
           "#B6E880",
           "#FF97FF",
           "#FECB52"
          ],
          "font": {
           "color": "#2a3f5f"
          },
          "geo": {
           "bgcolor": "white",
           "lakecolor": "white",
           "landcolor": "#E5ECF6",
           "showlakes": true,
           "showland": true,
           "subunitcolor": "white"
          },
          "hoverlabel": {
           "align": "left"
          },
          "hovermode": "closest",
          "mapbox": {
           "style": "light"
          },
          "paper_bgcolor": "white",
          "plot_bgcolor": "#E5ECF6",
          "polar": {
           "angularaxis": {
            "gridcolor": "white",
            "linecolor": "white",
            "ticks": ""
           },
           "bgcolor": "#E5ECF6",
           "radialaxis": {
            "gridcolor": "white",
            "linecolor": "white",
            "ticks": ""
           }
          },
          "scene": {
           "xaxis": {
            "backgroundcolor": "#E5ECF6",
            "gridcolor": "white",
            "gridwidth": 2,
            "linecolor": "white",
            "showbackground": true,
            "ticks": "",
            "zerolinecolor": "white"
           },
           "yaxis": {
            "backgroundcolor": "#E5ECF6",
            "gridcolor": "white",
            "gridwidth": 2,
            "linecolor": "white",
            "showbackground": true,
            "ticks": "",
            "zerolinecolor": "white"
           },
           "zaxis": {
            "backgroundcolor": "#E5ECF6",
            "gridcolor": "white",
            "gridwidth": 2,
            "linecolor": "white",
            "showbackground": true,
            "ticks": "",
            "zerolinecolor": "white"
           }
          },
          "shapedefaults": {
           "line": {
            "color": "#2a3f5f"
           }
          },
          "ternary": {
           "aaxis": {
            "gridcolor": "white",
            "linecolor": "white",
            "ticks": ""
           },
           "baxis": {
            "gridcolor": "white",
            "linecolor": "white",
            "ticks": ""
           },
           "bgcolor": "#E5ECF6",
           "caxis": {
            "gridcolor": "white",
            "linecolor": "white",
            "ticks": ""
           }
          },
          "title": {
           "x": 0.05
          },
          "xaxis": {
           "automargin": true,
           "gridcolor": "white",
           "linecolor": "white",
           "ticks": "",
           "title": {
            "standoff": 15
           },
           "zerolinecolor": "white",
           "zerolinewidth": 2
          },
          "yaxis": {
           "automargin": true,
           "gridcolor": "white",
           "linecolor": "white",
           "ticks": "",
           "title": {
            "standoff": 15
           },
           "zerolinecolor": "white",
           "zerolinewidth": 2
          }
         }
        },
        "title": "-q --> Γ --> q , q is a random momentum",
        "width": 510,
        "xaxis": {
         "linecolor": "black",
         "linewidth": 5,
         "mirror": true,
         "showgrid": true,
         "showline": true,
         "showticklabels": false
        },
        "yaxis": {
         "linecolor": "black",
         "linewidth": 5,
         "mirror": true,
         "showgrid": true,
         "showline": true,
         "showticklabels": true
        }
       }
      },
      "image/png": "[encoded data removed]",
      "image/svg+xml": [
       "<svg class=\"main-svg\" xmlns=\"http://www.w3.org/2000/svg\" xmlns:xlink=\"http://www.w3.org/1999/xlink\" width=\"700\" height=\"500\" style=\"\" viewBox=\"0 0 700 500\"><rect x=\"0\" y=\"0\" width=\"700\" height=\"500\" style=\"fill: rgb(255, 255, 255); fill-opacity: 1;\"/><defs id=\"defs-6297ac\"><g class=\"clips\"><clipPath id=\"clip6297acxyplot\" class=\"plotclip\"><rect width=\"600\" height=\"390\"/></clipPath><clipPath class=\"axesclip\" id=\"clip6297acx\"><rect x=\"50\" y=\"0\" width=\"600\" height=\"500\"/></clipPath><clipPath class=\"axesclip\" id=\"clip6297acy\"><rect x=\"0\" y=\"60\" width=\"700\" height=\"390\"/></clipPath><clipPath class=\"axesclip\" id=\"clip6297acxy\"><rect x=\"50\" y=\"60\" width=\"600\" height=\"390\"/></clipPath></g><g class=\"gradients\"/><g class=\"patterns\"/></defs><g class=\"bglayer\"><rect class=\"bg\" x=\"50\" y=\"60\" width=\"600\" height=\"390\" style=\"fill: rgb(0, 0, 0); fill-opacity: 0; stroke-width: 0;\"/></g><g class=\"layer-below\"><g class=\"imagelayer\"/><g class=\"shapelayer\"/></g><g class=\"cartesianlayer\"><g class=\"subplot xy\"><g class=\"layer-subplot\"><g class=\"shapelayer\"/><g class=\"imagelayer\"/></g><g class=\"gridlayer\"><g class=\"x\"><path class=\"xgrid crisp\" transform=\"translate(166.32999999999998,0)\" d=\"M0,60v390\" style=\"stroke: rgb(255, 255, 255); stroke-opacity: 1; stroke-width: 1px;\"/><path class=\"xgrid crisp\" transform=\"translate(288.78,0)\" d=\"M0,60v390\" style=\"stroke: rgb(255, 255, 255); stroke-opacity: 1; stroke-width: 1px;\"/><path class=\"xgrid crisp\" transform=\"translate(411.22,0)\" d=\"M0,60v390\" style=\"stroke: rgb(255, 255, 255); stroke-opacity: 1; stroke-width: 1px;\"/><path class=\"xgrid crisp\" transform=\"translate(533.6700000000001,0)\" d=\"M0,60v390\" style=\"stroke: rgb(255, 255, 255); stroke-opacity: 1; stroke-width: 1px;\"/></g><g class=\"y\"><path class=\"ygrid crisp\" transform=\"translate(0,407.1)\" d=\"M50,0h600\" style=\"stroke: rgb(255, 255, 255); stroke-opacity: 1; stroke-width: 1px;\"/><path class=\"ygrid crisp\" transform=\"translate(0,360.3)\" d=\"M50,0h600\" style=\"stroke: rgb(255, 255, 255); stroke-opacity: 1; stroke-width: 1px;\"/><path class=\"ygrid crisp\" transform=\"translate(0,266.7)\" d=\"M50,0h600\" style=\"stroke: rgb(255, 255, 255); stroke-opacity: 1; stroke-width: 1px;\"/><path class=\"ygrid crisp\" transform=\"translate(0,219.9)\" d=\"M50,0h600\" style=\"stroke: rgb(255, 255, 255); stroke-opacity: 1; stroke-width: 1px;\"/><path class=\"ygrid crisp\" transform=\"translate(0,173.1)\" d=\"M50,0h600\" style=\"stroke: rgb(255, 255, 255); stroke-opacity: 1; stroke-width: 1px;\"/><path class=\"ygrid crisp\" transform=\"translate(0,126.3)\" d=\"M50,0h600\" style=\"stroke: rgb(255, 255, 255); stroke-opacity: 1; stroke-width: 1px;\"/><path class=\"ygrid crisp\" transform=\"translate(0,79.5)\" d=\"M50,0h600\" style=\"stroke: rgb(255, 255, 255); stroke-opacity: 1; stroke-width: 1px;\"/></g></g><g class=\"zerolinelayer\"><path class=\"yzl zl crisp\" transform=\"translate(0,313.5)\" d=\"M50,0h600\" style=\"stroke: rgb(255, 255, 255); stroke-opacity: 1; stroke-width: 2px;\"/></g><path class=\"xlines-below\"/><path class=\"ylines-below\"/><g class=\"overlines-below\"/><g class=\"xaxislayer-below\"/><g class=\"yaxislayer-below\"/><g class=\"overaxes-below\"/><g class=\"plot\" transform=\"translate(50,60)\" clip-path=\"url(#clip6297acxyplot)\"><g class=\"scatterlayer mlayer\"><g class=\"trace scatter tracecbac21\" style=\"stroke-miterlimit: 2; opacity: 1;\"><g class=\"fills\"/><g class=\"errorbars\"/><g class=\"lines\"><path class=\"js-line\" d=\"M0,370.5L600,370.5\" style=\"vector-effect: non-scaling-stroke; fill: none; stroke: rgb(128, 0, 128); stroke-opacity: 1; stroke-width: 4px; opacity: 1;\"/></g><g class=\"points\"/><g class=\"text\"/></g><g class=\"trace scatter tracea929af\" style=\"stroke-miterlimit: 2; opacity: 1;\"><g class=\"fills\"/><g class=\"errorbars\"/><g class=\"lines\"><path class=\"js-line\" d=\"M0,267.83L48.98,292.4L55.1,295.52L110.2,322.5L116.33,325.28L153.06,340.67L159.18,342.99L189.8,353.34L195.92,355.14L226.53,362.75L232.65,363.97L257.14,367.84L263.27,368.54L287.76,370.28L293.88,370.45L318.37,370.01L324.49,369.63L348.98,367.03L355.1,366.12L379.59,361.42L385.71,360L416.33,351.44L422.45,349.45L453.06,338.28L459.18,335.82L495.92,319.66L502.04,316.77L551.02,292.4L557.14,289.27L600,267.83\" style=\"vector-effect: non-scaling-stroke; fill: none; stroke: rgb(128, 0, 128); stroke-opacity: 1; stroke-width: 4px; opacity: 1;\"/></g><g class=\"points\"/><g class=\"text\"/></g><g class=\"trace scatter tracee8a816\" style=\"stroke-miterlimit: 2; opacity: 1;\"><g class=\"fills\"/><g class=\"errorbars\"/><g class=\"lines\"><path class=\"js-line\" d=\"M0,122.17L48.98,97.6L55.1,94.48L110.2,67.5L116.33,64.72L153.06,49.33L159.18,47.01L189.8,36.66L195.92,34.86L226.53,27.25L232.65,26.03L257.14,22.16L263.27,21.46L287.76,19.72L293.88,19.55L318.37,19.99L324.49,20.37L348.98,22.97L355.1,23.88L379.59,28.58L385.71,30L416.33,38.56L422.45,40.55L453.06,51.72L459.18,54.18L495.92,70.34L502.04,73.23L551.02,97.6L557.14,100.73L600,122.17\" style=\"vector-effect: non-scaling-stroke; fill: none; stroke: rgb(128, 0, 128); stroke-opacity: 1; stroke-width: 4px; opacity: 1;\"/></g><g class=\"points\"/><g class=\"text\"/></g></g></g><g class=\"overplot\"/><path class=\"xlines-above crisp\" d=\"M45,452.5H655M45,57.5H655\" style=\"fill: none; stroke-width: 5px; stroke: rgb(0, 0, 0); stroke-opacity: 1;\"/><path class=\"ylines-above crisp\" d=\"M47.5,60V450M652.5,60V450\" style=\"fill: none; stroke-width: 5px; stroke: rgb(0, 0, 0); stroke-opacity: 1;\"/><g class=\"overlines-above\"/><g class=\"xaxislayer-above\"/><g class=\"yaxislayer-above\"><g class=\"ytick\"><text text-anchor=\"end\" x=\"42.6\" y=\"4.199999999999999\" transform=\"translate(0,407.1)\" style=\"font-family: 'Open Sans', verdana, arial, sans-serif; font-size: 12px; fill: rgb(42, 63, 95); fill-opacity: 1; white-space: pre; opacity: 1;\">−2</text></g><g class=\"ytick\"><text text-anchor=\"end\" x=\"42.6\" y=\"4.199999999999999\" style=\"font-family: 'Open Sans', verdana, arial, sans-serif; font-size: 12px; fill: rgb(42, 63, 95); fill-opacity: 1; white-space: pre; opacity: 1;\" transform=\"translate(0,360.3)\">−1</text></g><g class=\"ytick\"><text text-anchor=\"end\" x=\"42.6\" y=\"4.199999999999999\" style=\"font-family: 'Open Sans', verdana, arial, sans-serif; font-size: 12px; fill: rgb(42, 63, 95); fill-opacity: 1; white-space: pre; opacity: 1;\" transform=\"translate(0,313.5)\">0</text></g><g class=\"ytick\"><text text-anchor=\"end\" x=\"42.6\" y=\"4.199999999999999\" style=\"font-family: 'Open Sans', verdana, arial, sans-serif; font-size: 12px; fill: rgb(42, 63, 95); fill-opacity: 1; white-space: pre; opacity: 1;\" transform=\"translate(0,266.7)\">1</text></g><g class=\"ytick\"><text text-anchor=\"end\" x=\"42.6\" y=\"4.199999999999999\" style=\"font-family: 'Open Sans', verdana, arial, sans-serif; font-size: 12px; fill: rgb(42, 63, 95); fill-opacity: 1; white-space: pre; opacity: 1;\" transform=\"translate(0,219.9)\">2</text></g><g class=\"ytick\"><text text-anchor=\"end\" x=\"42.6\" y=\"4.199999999999999\" style=\"font-family: 'Open Sans', verdana, arial, sans-serif; font-size: 12px; fill: rgb(42, 63, 95); fill-opacity: 1; white-space: pre; opacity: 1;\" transform=\"translate(0,173.1)\">3</text></g><g class=\"ytick\"><text text-anchor=\"end\" x=\"42.6\" y=\"4.199999999999999\" style=\"font-family: 'Open Sans', verdana, arial, sans-serif; font-size: 12px; fill: rgb(42, 63, 95); fill-opacity: 1; white-space: pre; opacity: 1;\" transform=\"translate(0,126.3)\">4</text></g><g class=\"ytick\"><text text-anchor=\"end\" x=\"42.6\" y=\"4.199999999999999\" style=\"font-family: 'Open Sans', verdana, arial, sans-serif; font-size: 12px; fill: rgb(42, 63, 95); fill-opacity: 1; white-space: pre; opacity: 1;\" transform=\"translate(0,79.5)\">5</text></g></g><g class=\"overaxes-above\"/></g></g><g class=\"polarlayer\"/><g class=\"ternarylayer\"/><g class=\"geolayer\"/><g class=\"funnelarealayer\"/><g class=\"pielayer\"/><g class=\"iciclelayer\"/><g class=\"treemaplayer\"/><g class=\"sunburstlayer\"/><g class=\"glimages\"/><defs id=\"topdefs-6297ac\"><g class=\"clips\"/></defs><g class=\"layer-above\"><g class=\"imagelayer\"/><g class=\"shapelayer\"/></g><g class=\"infolayer\"><g class=\"g-gtitle\"><text class=\"gtitle\" x=\"35\" y=\"30\" text-anchor=\"start\" dy=\"0em\" style=\"font-family: 'Open Sans', verdana, arial, sans-serif; font-size: 17px; fill: rgb(42, 63, 95); opacity: 1; font-weight: normal; white-space: pre;\">-q --> Γ --> q , q is a random momentum</text></g><g class=\"g-xtitle\"/><g class=\"g-ytitle\"/></g></svg>"
      ],
      "text/html": [
       "<div\n",
       "    class=\"webio-mountpoint\"\n",
       "    data-webio-mountpoint=\"1709401691155717180\"\n",
       ">\n",
       "    <script>\n",
       "    (function(){\n",
       "    // Some integrations (namely, IJulia/Jupyter) use an alternate render pathway than\n",
       "    // just putting the html on the page. If WebIO isn't defined, then it's pretty likely\n",
       "    // that we're in one of those situations and the integration just isn't installed\n",
       "    // correctly.\n",
       "    if (typeof window.WebIO === \"undefined\") {\n",
       "        document\n",
       "            .querySelector('[data-webio-mountpoint=\"1709401691155717180\"]')\n",
       "            .innerHTML = (\n",
       "                '<div style=\"padding: 1em; background-color: #f8d6da; border: 1px solid #f5c6cb; font-weight: bold;\">' +\n",
       "                '<p><strong>WebIO not detected.</strong></p>' +\n",
       "                '<p>Please read ' +\n",
       "                '<a href=\"https://juliagizmos.github.io/WebIO.jl/latest/troubleshooting/not-detected/\" target=\"_blank\">the troubleshooting guide</a> ' +\n",
       "                'for more information on how to resolve this issue.</p>' +\n",
       "                '<p><a href=\"https://juliagizmos.github.io/WebIO.jl/latest/troubleshooting/not-detected/\" target=\"_blank\">https://juliagizmos.github.io/WebIO.jl/latest/troubleshooting/not-detected/</a></p>' +\n",
       "                '</div>'\n",
       "            );\n",
       "        return;\n",
       "    }\n",
       "    WebIO.mount(\n",
       "        document.querySelector('[data-webio-mountpoint=\"1709401691155717180\"]'),\n",
       "        {\"props\":{},\"nodeType\":\"Scope\",\"type\":\"node\",\"instanceArgs\":{\"imports\":{\"data\":[{\"name\":\"Plotly\",\"type\":\"js\",\"url\":\"\\/assetserver\\/b267c3137400db01c304fe886fe6f707be7fdb37-plotly.min.js\"},{\"name\":null,\"type\":\"js\",\"url\":\"\\/assetserver\\/020f2e8a4619f2ae880fff9315e6547eef1aff0b-plotly_webio.bundle.js\"}],\"type\":\"async_block\"},\"id\":\"1952956010829613153\",\"handlers\":{\"_toImage\":[\"(function (options){return this.Plotly.toImage(this.plotElem,options).then((function (data){return WebIO.setval({\\\"name\\\":\\\"image\\\",\\\"scope\\\":\\\"1952956010829613153\\\",\\\"id\\\":\\\"55\\\",\\\"type\\\":\\\"observable\\\"},data)}))})\"],\"__get_gd_contents\":[\"(function (prop){prop==\\\"data\\\" ? (WebIO.setval({\\\"name\\\":\\\"__gd_contents\\\",\\\"scope\\\":\\\"1952956010829613153\\\",\\\"id\\\":\\\"56\\\",\\\"type\\\":\\\"observable\\\"},this.plotElem.data)) : undefined; return prop==\\\"layout\\\" ? (WebIO.setval({\\\"name\\\":\\\"__gd_contents\\\",\\\"scope\\\":\\\"1952956010829613153\\\",\\\"id\\\":\\\"56\\\",\\\"type\\\":\\\"observable\\\"},this.plotElem.layout)) : undefined})\"],\"_downloadImage\":[\"(function (options){return this.Plotly.downloadImage(this.plotElem,options)})\"],\"_commands\":[\"(function (args){var fn=args.shift(); var elem=this.plotElem; var Plotly=this.Plotly; args.unshift(elem); return Plotly[fn].apply(this,args)})\"]},\"systemjs_options\":null,\"mount_callbacks\":[\"function () {\\n    var handler = ((function (Plotly,PlotlyWebIO){PlotlyWebIO.init(WebIO); var gd=this.dom.querySelector(\\\"#plot-a21776f4-d859-463c-930f-258fef5736ee\\\"); this.plotElem=gd; this.Plotly=Plotly; (window.Blink!==undefined) ? (gd.style.width=\\\"100%\\\", gd.style.height=\\\"100vh\\\", gd.style.marginLeft=\\\"0%\\\", gd.style.marginTop=\\\"0vh\\\") : undefined; window.onresize=(function (){return Plotly.Plots.resize(gd)}); Plotly.newPlot(gd,[{\\\"mode\\\":\\\"lines\\\",\\\"line\\\":{\\\"color\\\":\\\"purple\\\",\\\"width\\\":4},\\\"y\\\":[-2.4999999999999996,-2.499999999999999,-2.4999999999999996,-2.499999999999999,-2.5,-2.499999999999999,-2.4999999999999996,-2.4999999999999996,-2.4999999999999996,-2.499999999999999,-2.499999999999999,-2.499999999999999,-2.4999999999999982,-2.4999999999999996,-2.4999999999999982,-2.499999999999999,-2.4999999999999987,-2.499999999999999,-2.499999999999999,-2.500000000000001,-2.499999999999999,-2.500000000000001,-2.4999999999999982,-2.5000000000000018,-2.4999999999999987,-2.499999999999999,-2.5000000000000004,-2.499999999999999,-2.4999999999999982,-2.4999999999999982,-2.5000000000000027,-2.4999999999999947,-2.499999999999998,-2.499999999999997,-2.5000000000000004,-2.5,-2.499999999999995,-2.500000000000005,-2.5000000000000058,-2.499999999999984,-2.5000000000000058,-2.5,-2.499999999999998,-2.5000000000000036,-2.4999999999999876,-2.500000000000087,-2.500000000000118,-2.5000000000000426,-2.5000000000003726,-2.499999999999999,-2.5000000000003726,-2.5000000000000426,-2.500000000000118,-2.5000000000000373,-2.4999999999999716,-2.5000000000000036,-2.499999999999998,-2.4999999999999947,-2.5000000000000058,-2.499999999999984,-2.4999999999999796,-2.500000000000005,-2.499999999999995,-2.5,-2.5000000000000004,-2.4999999999999996,-2.499999999999998,-2.4999999999999947,-2.5000000000000027,-2.5000000000000018,-2.4999999999999982,-2.499999999999999,-2.5000000000000004,-2.499999999999999,-2.4999999999999987,-2.5000000000000018,-2.4999999999999982,-2.4999999999999987,-2.499999999999999,-2.500000000000001,-2.499999999999999,-2.499999999999999,-2.499999999999999,-2.499999999999999,-2.4999999999999987,-2.4999999999999996,-2.4999999999999982,-2.499999999999999,-2.499999999999999,-2.499999999999999,-2.4999999999999996,-2.4999999999999996,-2.4999999999999996,-2.4999999999999987,-2.4999999999999987,-2.499999999999999,-2.4999999999999996,-2.499999999999999,-2.4999999999999996],\\\"type\\\":\\\"scatter\\\",\\\"x\\\":[1,2,3,4,5,6,7,8,9,10,11,12,13,14,15,16,17,18,19,20,21,22,23,24,25,26,27,28,29,30,31,32,33,34,35,36,37,38,39,40,41,42,43,44,45,46,47,48,49,50,51,52,53,54,55,56,57,58,59,60,61,62,63,64,65,66,67,68,69,70,71,72,73,74,75,76,77,78,79,80,81,82,83,84,85,86,87,88,89,90,91,92,93,94,95,96,97,98,99]},{\\\"mode\\\":\\\"lines\\\",\\\"line\\\":{\\\"color\\\":\\\"purple\\\",\\\"width\\\":4},\\\"y\\\":[-0.30623535152676373,-0.3692926366501057,-0.4334860540961034,-0.49859062289165346,-0.5644001041043349,-0.6307249184912056,-0.6973902304666852,-0.764234223972291,-0.8311065752071318,-0.8978671149532076,-0.9643846665960432,-1.0305360429022787,-1.0962051837980114,-1.1612824178778207,-1.225663831567938,-1.2892507313909412,-1.351949186403667,-1.4136696394703718,-1.4743265775171124,-1.5338382522564746,-1.5921264440633944,-1.6491162627252312,-1.704735979692618,-1.758916887234811,-1.8115931805691887,-1.862701859602791,-1.9121826474083758,-1.9599779229694319,-2.0060326660794825,-2.05029441257933,-2.0927132183699824,-2.13324163085559,-2.1718346666553763,-2.208449794581901,-2.2430469230178116,-2.275588390939938,-2.3060389619391963,-2.334365820671269,-2.360538571247781,-2.384529237142341,-2.4063122622427406,-2.4258645127304614,-2.443165279511297,-2.458196280961193,-2.47094166578462,-2.481388015814253,-2.4895243486098035,-2.495342119737069,-2.498835224634703,-2.500000000000001,-2.498835224634703,-2.495342119737069,-2.4895243486098035,-2.4813880158143027,-2.4709416657846353,-2.458196280961193,-2.443165279511297,-2.4258645127304668,-2.4063122622427406,-2.384529237142341,-2.3605385712478073,-2.334365820671269,-2.3060389619391963,-2.275588390939938,-2.2430469230178116,-2.2084497945818993,-2.1718346666553763,-2.13324163085559,-2.0927132183699824,-2.0502944125793254,-2.0060326660794825,-1.9599779229694319,-1.9121826474083758,-1.862701859602791,-1.8115931805691887,-1.758916887234811,-1.704735979692618,-1.6491162627252325,-1.5921264440633944,-1.5338382522564746,-1.4743265775171124,-1.4136696394703718,-1.3519491864036675,-1.2892507313909412,-1.2256638315679385,-1.1612824178778207,-1.0962051837980114,-1.0305360429022787,-0.9643846665960432,-0.897867114953208,-0.8311065752071318,-0.764234223972291,-0.6973902304666852,-0.6307249184912052,-0.5644001041043363,-0.4985906228916539,-0.4334860540961034,-0.3692926366501057,-0.30623535152676373],\\\"type\\\":\\\"scatter\\\",\\\"x\\\":[1,2,3,4,5,6,7,8,9,10,11,12,13,14,15,16,17,18,19,20,21,22,23,24,25,26,27,28,29,30,31,32,33,34,35,36,37,38,39,40,41,42,43,44,45,46,47,48,49,50,51,52,53,54,55,56,57,58,59,60,61,62,63,64,65,66,67,68,69,70,71,72,73,74,75,76,77,78,79,80,81,82,83,84,85,86,87,88,89,90,91,92,93,94,95,96,97,98,99]},{\\\"mode\\\":\\\"lines\\\",\\\"line\\\":{\\\"color\\\":\\\"purple\\\",\\\"width\\\":4},\\\"y\\\":[2.8062353515267633,2.869292636650105,2.933486054096103,2.9985906228916526,3.064400104104335,3.1307249184912047,3.197390230466685,3.2642342239722906,3.3311065752071314,3.3978671149532067,3.4643846665960423,3.530536042902278,3.5962051837980096,3.6612824178778203,3.7256638315679362,3.7892507313909403,3.8519491864036657,3.913669639470371,3.9743265775171115,4.0338382522564755,4.0921264440633935,4.149116262725232,4.204735979692616,4.258916887234813,4.311593180569187,4.36270185960279,4.412182647408376,4.459977922969431,4.506032666079481,4.550294412579328,4.592713218369985,4.633241630855585,4.671834666655374,4.708449794581898,4.743046923017812,4.775588390939938,4.8060389619391914,4.834365820671274,4.860538571247787,4.884529237142325,4.906312262242746,4.925864512730461,4.943165279511295,4.958196280961197,4.970941665784608,4.98138801581434,4.989524348609922,4.995342119737112,4.998835224635076,5.0,4.998835224635076,4.995342119737112,4.989524348609922,4.98138801581434,4.970941665784607,4.958196280961197,4.943165279511295,4.925864512730461,4.906312262242746,4.884529237142325,4.860538571247787,4.834365820671274,4.8060389619391914,4.775588390939938,4.743046923017812,4.708449794581899,4.671834666655374,4.633241630855585,4.592713218369985,4.550294412579327,4.506032666079481,4.459977922969431,4.412182647408376,4.36270185960279,4.311593180569187,4.258916887234813,4.204735979692616,4.149116262725231,4.0921264440633935,4.0338382522564755,3.9743265775171115,3.913669639470371,3.8519491864036666,3.7892507313909403,3.725663831567937,3.6612824178778203,3.5962051837980096,3.530536042902278,3.4643846665960423,3.397867114953207,3.3311065752071314,3.2642342239722906,3.197390230466685,3.130724918491204,3.064400104104335,2.998590622891653,2.933486054096103,2.869292636650105,2.8062353515267633],\\\"type\\\":\\\"scatter\\\",\\\"x\\\":[1,2,3,4,5,6,7,8,9,10,11,12,13,14,15,16,17,18,19,20,21,22,23,24,25,26,27,28,29,30,31,32,33,34,35,36,37,38,39,40,41,42,43,44,45,46,47,48,49,50,51,52,53,54,55,56,57,58,59,60,61,62,63,64,65,66,67,68,69,70,71,72,73,74,75,76,77,78,79,80,81,82,83,84,85,86,87,88,89,90,91,92,93,94,95,96,97,98,99]}],{\\\"showlegend\\\":false,\\\"xaxis\\\":{\\\"showgrid\\\":true,\\\"showline\\\":true,\\\"showticklabels\\\":false,\\\"linewidth\\\":5,\\\"mirror\\\":true,\\\"linecolor\\\":\\\"black\\\"},\\\"template\\\":{\\\"layout\\\":{\\\"coloraxis\\\":{\\\"colorbar\\\":{\\\"ticks\\\":\\\"\\\",\\\"outlinewidth\\\":0}},\\\"xaxis\\\":{\\\"gridcolor\\\":\\\"white\\\",\\\"zerolinewidth\\\":2,\\\"title\\\":{\\\"standoff\\\":15},\\\"ticks\\\":\\\"\\\",\\\"zerolinecolor\\\":\\\"white\\\",\\\"automargin\\\":true,\\\"linecolor\\\":\\\"white\\\"},\\\"hovermode\\\":\\\"closest\\\",\\\"paper_bgcolor\\\":\\\"white\\\",\\\"geo\\\":{\\\"showlakes\\\":true,\\\"showland\\\":true,\\\"landcolor\\\":\\\"#E5ECF6\\\",\\\"bgcolor\\\":\\\"white\\\",\\\"subunitcolor\\\":\\\"white\\\",\\\"lakecolor\\\":\\\"white\\\"},\\\"colorscale\\\":{\\\"sequential\\\":[[0.0,\\\"#0d0887\\\"],[0.1111111111111111,\\\"#46039f\\\"],[0.2222222222222222,\\\"#7201a8\\\"],[0.3333333333333333,\\\"#9c179e\\\"],[0.4444444444444444,\\\"#bd3786\\\"],[0.5555555555555556,\\\"#d8576b\\\"],[0.6666666666666666,\\\"#ed7953\\\"],[0.7777777777777778,\\\"#fb9f3a\\\"],[0.8888888888888888,\\\"#fdca26\\\"],[1.0,\\\"#f0f921\\\"]],\\\"diverging\\\":[[0,\\\"#8e0152\\\"],[0.1,\\\"#c51b7d\\\"],[0.2,\\\"#de77ae\\\"],[0.3,\\\"#f1b6da\\\"],[0.4,\\\"#fde0ef\\\"],[0.5,\\\"#f7f7f7\\\"],[0.6,\\\"#e6f5d0\\\"],[0.7,\\\"#b8e186\\\"],[0.8,\\\"#7fbc41\\\"],[0.9,\\\"#4d9221\\\"],[1,\\\"#276419\\\"]],\\\"sequentialminus\\\":[[0.0,\\\"#0d0887\\\"],[0.1111111111111111,\\\"#46039f\\\"],[0.2222222222222222,\\\"#7201a8\\\"],[0.3333333333333333,\\\"#9c179e\\\"],[0.4444444444444444,\\\"#bd3786\\\"],[0.5555555555555556,\\\"#d8576b\\\"],[0.6666666666666666,\\\"#ed7953\\\"],[0.7777777777777778,\\\"#fb9f3a\\\"],[0.8888888888888888,\\\"#fdca26\\\"],[1.0,\\\"#f0f921\\\"]]},\\\"yaxis\\\":{\\\"gridcolor\\\":\\\"white\\\",\\\"zerolinewidth\\\":2,\\\"title\\\":{\\\"standoff\\\":15},\\\"ticks\\\":\\\"\\\",\\\"zerolinecolor\\\":\\\"white\\\",\\\"automargin\\\":true,\\\"linecolor\\\":\\\"white\\\"},\\\"shapedefaults\\\":{\\\"line\\\":{\\\"color\\\":\\\"#2a3f5f\\\"}},\\\"hoverlabel\\\":{\\\"align\\\":\\\"left\\\"},\\\"mapbox\\\":{\\\"style\\\":\\\"light\\\"},\\\"polar\\\":{\\\"angularaxis\\\":{\\\"gridcolor\\\":\\\"white\\\",\\\"ticks\\\":\\\"\\\",\\\"linecolor\\\":\\\"white\\\"},\\\"bgcolor\\\":\\\"#E5ECF6\\\",\\\"radialaxis\\\":{\\\"gridcolor\\\":\\\"white\\\",\\\"ticks\\\":\\\"\\\",\\\"linecolor\\\":\\\"white\\\"}},\\\"autotypenumbers\\\":\\\"strict\\\",\\\"font\\\":{\\\"color\\\":\\\"#2a3f5f\\\"},\\\"ternary\\\":{\\\"baxis\\\":{\\\"gridcolor\\\":\\\"white\\\",\\\"ticks\\\":\\\"\\\",\\\"linecolor\\\":\\\"white\\\"},\\\"bgcolor\\\":\\\"#E5ECF6\\\",\\\"caxis\\\":{\\\"gridcolor\\\":\\\"white\\\",\\\"ticks\\\":\\\"\\\",\\\"linecolor\\\":\\\"white\\\"},\\\"aaxis\\\":{\\\"gridcolor\\\":\\\"white\\\",\\\"ticks\\\":\\\"\\\",\\\"linecolor\\\":\\\"white\\\"}},\\\"annotationdefaults\\\":{\\\"arrowhead\\\":0,\\\"arrowwidth\\\":1,\\\"arrowcolor\\\":\\\"#2a3f5f\\\"},\\\"plot_bgcolor\\\":\\\"#E5ECF6\\\",\\\"title\\\":{\\\"x\\\":0.05},\\\"scene\\\":{\\\"xaxis\\\":{\\\"gridcolor\\\":\\\"white\\\",\\\"gridwidth\\\":2,\\\"backgroundcolor\\\":\\\"#E5ECF6\\\",\\\"ticks\\\":\\\"\\\",\\\"showbackground\\\":true,\\\"zerolinecolor\\\":\\\"white\\\",\\\"linecolor\\\":\\\"white\\\"},\\\"zaxis\\\":{\\\"gridcolor\\\":\\\"white\\\",\\\"gridwidth\\\":2,\\\"backgroundcolor\\\":\\\"#E5ECF6\\\",\\\"ticks\\\":\\\"\\\",\\\"showbackground\\\":true,\\\"zerolinecolor\\\":\\\"white\\\",\\\"linecolor\\\":\\\"white\\\"},\\\"yaxis\\\":{\\\"gridcolor\\\":\\\"white\\\",\\\"gridwidth\\\":2,\\\"backgroundcolor\\\":\\\"#E5ECF6\\\",\\\"ticks\\\":\\\"\\\",\\\"showbackground\\\":true,\\\"zerolinecolor\\\":\\\"white\\\",\\\"linecolor\\\":\\\"white\\\"}},\\\"colorway\\\":[\\\"#636efa\\\",\\\"#EF553B\\\",\\\"#00cc96\\\",\\\"#ab63fa\\\",\\\"#FFA15A\\\",\\\"#19d3f3\\\",\\\"#FF6692\\\",\\\"#B6E880\\\",\\\"#FF97FF\\\",\\\"#FECB52\\\"]},\\\"data\\\":{\\\"barpolar\\\":[{\\\"type\\\":\\\"barpolar\\\",\\\"marker\\\":{\\\"line\\\":{\\\"color\\\":\\\"#E5ECF6\\\",\\\"width\\\":0.5}}}],\\\"carpet\\\":[{\\\"aaxis\\\":{\\\"gridcolor\\\":\\\"white\\\",\\\"endlinecolor\\\":\\\"#2a3f5f\\\",\\\"minorgridcolor\\\":\\\"white\\\",\\\"startlinecolor\\\":\\\"#2a3f5f\\\",\\\"linecolor\\\":\\\"white\\\"},\\\"type\\\":\\\"carpet\\\",\\\"baxis\\\":{\\\"gridcolor\\\":\\\"white\\\",\\\"endlinecolor\\\":\\\"#2a3f5f\\\",\\\"minorgridcolor\\\":\\\"white\\\",\\\"startlinecolor\\\":\\\"#2a3f5f\\\",\\\"linecolor\\\":\\\"white\\\"}}],\\\"scatterpolar\\\":[{\\\"type\\\":\\\"scatterpolar\\\",\\\"marker\\\":{\\\"colorbar\\\":{\\\"ticks\\\":\\\"\\\",\\\"outlinewidth\\\":0}}}],\\\"parcoords\\\":[{\\\"line\\\":{\\\"colorbar\\\":{\\\"ticks\\\":\\\"\\\",\\\"outlinewidth\\\":0}},\\\"type\\\":\\\"parcoords\\\"}],\\\"scatter\\\":[{\\\"type\\\":\\\"scatter\\\",\\\"marker\\\":{\\\"colorbar\\\":{\\\"ticks\\\":\\\"\\\",\\\"outlinewidth\\\":0}}}],\\\"histogram2dcontour\\\":[{\\\"colorbar\\\":{\\\"ticks\\\":\\\"\\\",\\\"outlinewidth\\\":0},\\\"type\\\":\\\"histogram2dcontour\\\",\\\"colorscale\\\":[[0.0,\\\"#0d0887\\\"],[0.1111111111111111,\\\"#46039f\\\"],[0.2222222222222222,\\\"#7201a8\\\"],[0.3333333333333333,\\\"#9c179e\\\"],[0.4444444444444444,\\\"#bd3786\\\"],[0.5555555555555556,\\\"#d8576b\\\"],[0.6666666666666666,\\\"#ed7953\\\"],[0.7777777777777778,\\\"#fb9f3a\\\"],[0.8888888888888888,\\\"#fdca26\\\"],[1.0,\\\"#f0f921\\\"]]}],\\\"contour\\\":[{\\\"colorbar\\\":{\\\"ticks\\\":\\\"\\\",\\\"outlinewidth\\\":0},\\\"type\\\":\\\"contour\\\",\\\"colorscale\\\":[[0.0,\\\"#0d0887\\\"],[0.1111111111111111,\\\"#46039f\\\"],[0.2222222222222222,\\\"#7201a8\\\"],[0.3333333333333333,\\\"#9c179e\\\"],[0.4444444444444444,\\\"#bd3786\\\"],[0.5555555555555556,\\\"#d8576b\\\"],[0.6666666666666666,\\\"#ed7953\\\"],[0.7777777777777778,\\\"#fb9f3a\\\"],[0.8888888888888888,\\\"#fdca26\\\"],[1.0,\\\"#f0f921\\\"]]}],\\\"scattercarpet\\\":[{\\\"type\\\":\\\"scattercarpet\\\",\\\"marker\\\":{\\\"colorbar\\\":{\\\"ticks\\\":\\\"\\\",\\\"outlinewidth\\\":0}}}],\\\"mesh3d\\\":[{\\\"colorbar\\\":{\\\"ticks\\\":\\\"\\\",\\\"outlinewidth\\\":0},\\\"type\\\":\\\"mesh3d\\\"}],\\\"surface\\\":[{\\\"colorbar\\\":{\\\"ticks\\\":\\\"\\\",\\\"outlinewidth\\\":0},\\\"type\\\":\\\"surface\\\",\\\"colorscale\\\":[[0.0,\\\"#0d0887\\\"],[0.1111111111111111,\\\"#46039f\\\"],[0.2222222222222222,\\\"#7201a8\\\"],[0.3333333333333333,\\\"#9c179e\\\"],[0.4444444444444444,\\\"#bd3786\\\"],[0.5555555555555556,\\\"#d8576b\\\"],[0.6666666666666666,\\\"#ed7953\\\"],[0.7777777777777778,\\\"#fb9f3a\\\"],[0.8888888888888888,\\\"#fdca26\\\"],[1.0,\\\"#f0f921\\\"]]}],\\\"scattermapbox\\\":[{\\\"type\\\":\\\"scattermapbox\\\",\\\"marker\\\":{\\\"colorbar\\\":{\\\"ticks\\\":\\\"\\\",\\\"outlinewidth\\\":0}}}],\\\"scattergeo\\\":[{\\\"type\\\":\\\"scattergeo\\\",\\\"marker\\\":{\\\"colorbar\\\":{\\\"ticks\\\":\\\"\\\",\\\"outlinewidth\\\":0}}}],\\\"histogram\\\":[{\\\"type\\\":\\\"histogram\\\",\\\"marker\\\":{\\\"colorbar\\\":{\\\"ticks\\\":\\\"\\\",\\\"outlinewidth\\\":0}}}],\\\"pie\\\":[{\\\"type\\\":\\\"pie\\\",\\\"automargin\\\":true}],\\\"choropleth\\\":[{\\\"colorbar\\\":{\\\"ticks\\\":\\\"\\\",\\\"outlinewidth\\\":0},\\\"type\\\":\\\"choropleth\\\"}],\\\"heatmapgl\\\":[{\\\"colorbar\\\":{\\\"ticks\\\":\\\"\\\",\\\"outlinewidth\\\":0},\\\"type\\\":\\\"heatmapgl\\\",\\\"colorscale\\\":[[0.0,\\\"#0d0887\\\"],[0.1111111111111111,\\\"#46039f\\\"],[0.2222222222222222,\\\"#7201a8\\\"],[0.3333333333333333,\\\"#9c179e\\\"],[0.4444444444444444,\\\"#bd3786\\\"],[0.5555555555555556,\\\"#d8576b\\\"],[0.6666666666666666,\\\"#ed7953\\\"],[0.7777777777777778,\\\"#fb9f3a\\\"],[0.8888888888888888,\\\"#fdca26\\\"],[1.0,\\\"#f0f921\\\"]]}],\\\"bar\\\":[{\\\"type\\\":\\\"bar\\\",\\\"error_y\\\":{\\\"color\\\":\\\"#2a3f5f\\\"},\\\"error_x\\\":{\\\"color\\\":\\\"#2a3f5f\\\"},\\\"marker\\\":{\\\"line\\\":{\\\"color\\\":\\\"#E5ECF6\\\",\\\"width\\\":0.5}}}],\\\"heatmap\\\":[{\\\"colorbar\\\":{\\\"ticks\\\":\\\"\\\",\\\"outlinewidth\\\":0},\\\"type\\\":\\\"heatmap\\\",\\\"colorscale\\\":[[0.0,\\\"#0d0887\\\"],[0.1111111111111111,\\\"#46039f\\\"],[0.2222222222222222,\\\"#7201a8\\\"],[0.3333333333333333,\\\"#9c179e\\\"],[0.4444444444444444,\\\"#bd3786\\\"],[0.5555555555555556,\\\"#d8576b\\\"],[0.6666666666666666,\\\"#ed7953\\\"],[0.7777777777777778,\\\"#fb9f3a\\\"],[0.8888888888888888,\\\"#fdca26\\\"],[1.0,\\\"#f0f921\\\"]]}],\\\"contourcarpet\\\":[{\\\"colorbar\\\":{\\\"ticks\\\":\\\"\\\",\\\"outlinewidth\\\":0},\\\"type\\\":\\\"contourcarpet\\\"}],\\\"table\\\":[{\\\"type\\\":\\\"table\\\",\\\"header\\\":{\\\"line\\\":{\\\"color\\\":\\\"white\\\"},\\\"fill\\\":{\\\"color\\\":\\\"#C8D4E3\\\"}},\\\"cells\\\":{\\\"line\\\":{\\\"color\\\":\\\"white\\\"},\\\"fill\\\":{\\\"color\\\":\\\"#EBF0F8\\\"}}}],\\\"scatter3d\\\":[{\\\"line\\\":{\\\"colorbar\\\":{\\\"ticks\\\":\\\"\\\",\\\"outlinewidth\\\":0}},\\\"type\\\":\\\"scatter3d\\\",\\\"marker\\\":{\\\"colorbar\\\":{\\\"ticks\\\":\\\"\\\",\\\"outlinewidth\\\":0}}}],\\\"scattergl\\\":[{\\\"type\\\":\\\"scattergl\\\",\\\"marker\\\":{\\\"colorbar\\\":{\\\"ticks\\\":\\\"\\\",\\\"outlinewidth\\\":0}}}],\\\"histogram2d\\\":[{\\\"colorbar\\\":{\\\"ticks\\\":\\\"\\\",\\\"outlinewidth\\\":0},\\\"type\\\":\\\"histogram2d\\\",\\\"colorscale\\\":[[0.0,\\\"#0d0887\\\"],[0.1111111111111111,\\\"#46039f\\\"],[0.2222222222222222,\\\"#7201a8\\\"],[0.3333333333333333,\\\"#9c179e\\\"],[0.4444444444444444,\\\"#bd3786\\\"],[0.5555555555555556,\\\"#d8576b\\\"],[0.6666666666666666,\\\"#ed7953\\\"],[0.7777777777777778,\\\"#fb9f3a\\\"],[0.8888888888888888,\\\"#fdca26\\\"],[1.0,\\\"#f0f921\\\"]]}],\\\"scatterternary\\\":[{\\\"type\\\":\\\"scatterternary\\\",\\\"marker\\\":{\\\"colorbar\\\":{\\\"ticks\\\":\\\"\\\",\\\"outlinewidth\\\":0}}}],\\\"scatterpolargl\\\":[{\\\"type\\\":\\\"scatterpolargl\\\",\\\"marker\\\":{\\\"colorbar\\\":{\\\"ticks\\\":\\\"\\\",\\\"outlinewidth\\\":0}}}]}},\\\"height\\\":510,\\\"margin\\\":{\\\"l\\\":50,\\\"b\\\":50,\\\"r\\\":50,\\\"t\\\":60},\\\"title\\\":\\\"-q --> Γ --> q , q is a random momentum\\\",\\\"yaxis\\\":{\\\"showgrid\\\":true,\\\"showline\\\":true,\\\"showticklabels\\\":true,\\\"linewidth\\\":5,\\\"mirror\\\":true,\\\"linecolor\\\":\\\"black\\\"},\\\"plot_bgcolor\\\":\\\"rgba(0,0,0,0)\\\",\\\"width\\\":510},{\\\"showLink\\\":false,\\\"editable\\\":false,\\\"responsive\\\":true,\\\"staticPlot\\\":false,\\\"scrollZoom\\\":true}); gd.on(\\\"plotly_hover\\\",(function (data){var filtered_data=WebIO.PlotlyCommands.filterEventData(gd,data,\\\"hover\\\"); return !(filtered_data.isnil) ? (WebIO.setval({\\\"name\\\":\\\"hover\\\",\\\"scope\\\":\\\"1952956010829613153\\\",\\\"id\\\":\\\"51\\\",\\\"type\\\":\\\"observable\\\"},filtered_data.out)) : undefined})); gd.on(\\\"plotly_unhover\\\",(function (){return WebIO.setval({\\\"name\\\":\\\"hover\\\",\\\"scope\\\":\\\"1952956010829613153\\\",\\\"id\\\":\\\"51\\\",\\\"type\\\":\\\"observable\\\"},{})})); gd.on(\\\"plotly_selected\\\",(function (data){var filtered_data=WebIO.PlotlyCommands.filterEventData(gd,data,\\\"selected\\\"); return !(filtered_data.isnil) ? (WebIO.setval({\\\"name\\\":\\\"selected\\\",\\\"scope\\\":\\\"1952956010829613153\\\",\\\"id\\\":\\\"52\\\",\\\"type\\\":\\\"observable\\\"},filtered_data.out)) : undefined})); gd.on(\\\"plotly_deselect\\\",(function (){return WebIO.setval({\\\"name\\\":\\\"selected\\\",\\\"scope\\\":\\\"1952956010829613153\\\",\\\"id\\\":\\\"52\\\",\\\"type\\\":\\\"observable\\\"},{})})); gd.on(\\\"plotly_relayout\\\",(function (data){var filtered_data=WebIO.PlotlyCommands.filterEventData(gd,data,\\\"relayout\\\"); return !(filtered_data.isnil) ? (WebIO.setval({\\\"name\\\":\\\"relayout\\\",\\\"scope\\\":\\\"1952956010829613153\\\",\\\"id\\\":\\\"54\\\",\\\"type\\\":\\\"observable\\\"},filtered_data.out)) : undefined})); return gd.on(\\\"plotly_click\\\",(function (data){var filtered_data=WebIO.PlotlyCommands.filterEventData(gd,data,\\\"click\\\"); return !(filtered_data.isnil) ? (WebIO.setval({\\\"name\\\":\\\"click\\\",\\\"scope\\\":\\\"1952956010829613153\\\",\\\"id\\\":\\\"53\\\",\\\"type\\\":\\\"observable\\\"},filtered_data.out)) : undefined}))}));\\n    (WebIO.importBlock({\\\"data\\\":[{\\\"name\\\":\\\"Plotly\\\",\\\"type\\\":\\\"js\\\",\\\"url\\\":\\\"\\/assetserver\\/b267c3137400db01c304fe886fe6f707be7fdb37-plotly.min.js\\\"},{\\\"name\\\":null,\\\"type\\\":\\\"js\\\",\\\"url\\\":\\\"\\/assetserver\\/020f2e8a4619f2ae880fff9315e6547eef1aff0b-plotly_webio.bundle.js\\\"}],\\\"type\\\":\\\"async_block\\\"})).then((imports) => handler.apply(this, imports));\\n}\\n\"],\"observables\":{\"_toImage\":{\"sync\":false,\"id\":\"58\",\"value\":{}},\"hover\":{\"sync\":false,\"id\":\"51\",\"value\":{}},\"selected\":{\"sync\":false,\"id\":\"52\",\"value\":{}},\"__gd_contents\":{\"sync\":false,\"id\":\"56\",\"value\":{}},\"click\":{\"sync\":false,\"id\":\"53\",\"value\":{}},\"image\":{\"sync\":true,\"id\":\"55\",\"value\":\"\"},\"__get_gd_contents\":{\"sync\":false,\"id\":\"60\",\"value\":\"\"},\"_downloadImage\":{\"sync\":false,\"id\":\"59\",\"value\":{}},\"relayout\":{\"sync\":false,\"id\":\"54\",\"value\":{}},\"_commands\":{\"sync\":false,\"id\":\"57\",\"value\":[]}}},\"children\":[{\"props\":{\"id\":\"plot-a21776f4-d859-463c-930f-258fef5736ee\"},\"nodeType\":\"DOM\",\"type\":\"node\",\"instanceArgs\":{\"namespace\":\"html\",\"tag\":\"div\"},\"children\":[]}]},\n",
       "        window,\n",
       "    );\n",
       "    })()\n",
       "    </script>\n",
       "</div>\n"
      ],
      "text/plain": [
       "data: [\n",
       "  \"scatter with fields line, mode, type, x, and y\",\n",
       "  \"scatter with fields line, mode, type, x, and y\",\n",
       "  \"scatter with fields line, mode, type, x, and y\"\n",
       "]\n",
       "\n",
       "layout: \"layout with fields height, margin, plot_bgcolor, showlegend, template, title, width, xaxis, and yaxis\"\n",
       "\n"
      ]
     },
     "metadata": {},
     "output_type": "display_data"
    },
    {
     "name": "stdout",
     "output_type": "stream",
     "text": [
      "t1Δ = 1.0\n",
      "t2Δ = 1.0\n",
      "t3Δ = 1.0\n",
      "t1∇ = 1.5\n",
      "t2∇ = 1.5\n",
      "t3∇ = 1.5\n"
     ]
    }
   ],
   "source": [
    "let nps::Int = 100, t1Δ = 1.0, t2Δ = 1.0, t3Δ = 1.0, t1∇ = 1.5, t2∇ = 1.5, t3∇ = 1.5\n",
    "    p::Params = Params(t1Δ, t2Δ, t3Δ, t1∇, t2∇, t3∇)\n",
    "    println(\"t1Δ = \", p.t1Δ)\n",
    "    println(\"t2Δ = \", p.t2Δ)\n",
    "    println(\"t3Δ = \", p.t3Δ)\n",
    "    println(\"t1∇ = \", p.t1∇)\n",
    "    println(\"t2∇ = \", p.t2∇)\n",
    "    println(\"t3∇ = \", p.t3∇)\n",
    "\n",
    "    kpoint = @SVector[3.02, 0.45]\n",
    "    \n",
    "    kpath_nodes::Vector{SVector{2, Float64}} = [-kpoint, \n",
    "                    high_symmetry_points[\"Γ\"], \n",
    "                    kpoint];\n",
    "    kpath_fbz::Vector{Vector{Float64}} = interpolate(kpath_nodes, nps);\n",
    "    kpath_fbz = [SVector{2, Float64}(v) for v ∈ kpath_fbz]\n",
    "    plot_simple_kagome_bands(;p = p, seedname = \"-q --> Γ --> q , q is a random momentum\", kpath = kpath_fbz, title = Nothing)\n",
    "end\n"
   ]
  },
  {
   "cell_type": "code",
   "execution_count": 16,
   "metadata": {},
   "outputs": [
    {
     "name": "stdout",
     "output_type": "stream",
     "text": [
      "t1Δ = 1.0\n",
      "t2Δ = 0.5\n",
      "t3Δ = 2.0\n",
      "t1∇ = -1.5\n",
      "t2∇ = 0.7\n",
      "t3∇ = -0.3\n"
     ]
    },
    {
     "data": {
      "application/vnd.plotly.v1+json": {
       "config": {
        "editable": false,
        "responsive": true,
        "scrollZoom": true,
        "showLink": false,
        "staticPlot": false
       },
       "data": [
        {
         "line": {
          "color": "purple",
          "width": 4
         },
         "mode": "lines",
         "type": "scatter",
         "x": [
          1,
          2,
          3,
          4,
          5,
          6,
          7,
          8,
          9,
          10,
          11,
          12,
          13,
          14,
          15,
          16,
          17,
          18,
          19,
          20,
          21,
          22,
          23,
          24,
          25,
          26,
          27,
          28,
          29,
          30,
          31,
          32,
          33,
          34,
          35,
          36,
          37,
          38,
          39,
          40,
          41,
          42,
          43,
          44,
          45,
          46,
          47,
          48,
          49,
          50,
          51,
          52,
          53,
          54,
          55,
          56,
          57,
          58,
          59,
          60,
          61,
          62,
          63,
          64,
          65,
          66,
          67,
          68,
          69,
          70,
          71,
          72,
          73,
          74,
          75,
          76,
          77,
          78,
          79,
          80,
          81,
          82,
          83,
          84,
          85,
          86,
          87,
          88,
          89,
          90,
          91,
          92,
          93,
          94,
          95,
          96,
          97,
          98,
          99
         ],
         "y": [
          -2.8431885559545185,
          -2.839091136240425,
          -2.834501036766752,
          -2.829408082180715,
          -2.823804055143538,
          -2.817682650323758,
          -2.8110394354968213,
          -2.8038718217459206,
          -2.796179044343083,
          -2.7879621555386165,
          -2.779224030191954,
          -2.7699693849276708,
          -2.760204811286306,
          -2.7499388231499493,
          -2.739181918546495,
          -2.727946655763008,
          -2.716247743516781,
          -2.704102144730807,
          -2.691529193226695,
          -2.678550722370019,
          -2.665191204367605,
          -2.6514778985096865,
          -2.637441006158345,
          -2.6231138296934144,
          -2.6085329319255166,
          -2.59373829166271,
          -2.5787734501663033,
          -2.5636856421532617,
          -2.548525903807911,
          -2.5333491489791182,
          -2.5182142034046793,
          -2.5031837854907115,
          -2.4883244209789126,
          -2.4737062778917918,
          -2.4594029076257202,
          -2.4454908781699114,
          -2.43204928640003,
          -2.419159138473472,
          -2.4069025907690222,
          -2.3953620487417724,
          -2.3846191275760242,
          -2.374753486526754,
          -2.365841558044975,
          -2.357955202637742,
          -2.3511603301207007,
          -2.3455155364708373,
          -2.3410708117566115,
          -2.3378663775260953,
          -2.3359317107079955,
          -2.3352848050722144,
          -2.3359317107079955,
          -2.3378663775260953,
          -2.3410708117566115,
          -2.3455155364708373,
          -2.3511603301207007,
          -2.357955202637742,
          -2.365841558044975,
          -2.374753486526754,
          -2.3846191275760242,
          -2.3953620487417724,
          -2.4069025907690222,
          -2.419159138473472,
          -2.43204928640003,
          -2.4454908781699114,
          -2.4594029076257207,
          -2.4737062778917918,
          -2.4883244209789126,
          -2.5031837854907115,
          -2.5182142034046793,
          -2.5333491489791182,
          -2.548525903807911,
          -2.5636856421532617,
          -2.5787734501663033,
          -2.59373829166271,
          -2.6085329319255166,
          -2.6231138296934144,
          -2.637441006158345,
          -2.6514778985096865,
          -2.665191204367605,
          -2.678550722370019,
          -2.691529193226695,
          -2.704102144730807,
          -2.716247743516781,
          -2.727946655763008,
          -2.7391819185464956,
          -2.7499388231499493,
          -2.760204811286306,
          -2.7699693849276708,
          -2.779224030191954,
          -2.7879621555386165,
          -2.7961790443430825,
          -2.80387182174592,
          -2.8110394354968213,
          -2.817682650323758,
          -2.823804055143538,
          -2.829408082180715,
          -2.834501036766752,
          -2.839091136240425,
          -2.8431885559545185
         ]
        },
        {
         "line": {
          "color": "purple",
          "width": 4
         },
         "mode": "lines",
         "type": "scatter",
         "x": [
          1,
          2,
          3,
          4,
          5,
          6,
          7,
          8,
          9,
          10,
          11,
          12,
          13,
          14,
          15,
          16,
          17,
          18,
          19,
          20,
          21,
          22,
          23,
          24,
          25,
          26,
          27,
          28,
          29,
          30,
          31,
          32,
          33,
          34,
          35,
          36,
          37,
          38,
          39,
          40,
          41,
          42,
          43,
          44,
          45,
          46,
          47,
          48,
          49,
          50,
          51,
          52,
          53,
          54,
          55,
          56,
          57,
          58,
          59,
          60,
          61,
          62,
          63,
          64,
          65,
          66,
          67,
          68,
          69,
          70,
          71,
          72,
          73,
          74,
          75,
          76,
          77,
          78,
          79,
          80,
          81,
          82,
          83,
          84,
          85,
          86,
          87,
          88,
          89,
          90,
          91,
          92,
          93,
          94,
          95,
          96,
          97,
          98,
          99
         ],
         "y": [
          -0.5193356863612126,
          -0.47171070669205495,
          -0.42338455537468755,
          -0.3744703158322791,
          -0.3250835945124435,
          -0.27534279419844276,
          -0.22536942999241916,
          -0.1752884931036056,
          -0.12522886840035108,
          -0.07532381213788764,
          -0.02571149612723822,
          0.023464376484962024,
          0.07205388122599832,
          0.11990011031176806,
          0.16683834904519923,
          0.2126952140099032,
          0.2572877963900675,
          0.30042288305809306,
          0.3418963695731465,
          0.3814930354482797,
          0.4189869239615498,
          0.4541426535615609,
          0.4867180752108009,
          0.516468757171745,
          0.5431547863134596,
          0.5665502663689908,
          0.5864556052792667,
          0.6027121739442234,
          0.6152182139392619,
          0.6239441148732878,
          0.6289446394699663,
          0.630365657037304,
          0.6284436434326384,
          0.6234975219018362,
          0.6159139480195939,
          0.6061283467820304,
          0.5946045047894466,
          0.581815252351531,
          0.5682259871040785,
          0.5542818561492779,
          0.5403986216233359,
          0.5269567239378401,
          0.5142978289303628,
          0.5027231263705347,
          0.4924927480844985,
          0.48382582143566766,
          0.4769008213702832,
          0.47185600804031025,
          0.4687898291312409,
          0.46776122733625813,
          0.4687898291312409,
          0.47185600804031025,
          0.4769008213702832,
          0.48382582143566766,
          0.4924927480844983,
          0.5027231263705347,
          0.5142978289303628,
          0.5269567239378401,
          0.5403986216233359,
          0.5542818561492779,
          0.5682259871040785,
          0.581815252351531,
          0.5946045047894466,
          0.6061283467820304,
          0.6159139480195936,
          0.6234975219018362,
          0.6284436434326384,
          0.630365657037304,
          0.6289446394699663,
          0.6239441148732878,
          0.6152182139392619,
          0.6027121739442234,
          0.5864556052792667,
          0.5665502663689908,
          0.5431547863134591,
          0.516468757171745,
          0.4867180752108009,
          0.4541426535615609,
          0.4189869239615498,
          0.3814930354482797,
          0.3418963695731465,
          0.30042288305809306,
          0.2572877963900675,
          0.2126952140099032,
          0.16683834904520012,
          0.11990011031176806,
          0.07205388122599787,
          0.023464376484962024,
          -0.02571149612723822,
          -0.07532381213788764,
          -0.12522886840035197,
          -0.1752884931036056,
          -0.22536942999241916,
          -0.27534279419844365,
          -0.3250835945124435,
          -0.3744703158322791,
          -0.42338455537468755,
          -0.47171070669205495,
          -0.5193356863612126
         ]
        },
        {
         "line": {
          "color": "purple",
          "width": 4
         },
         "mode": "lines",
         "type": "scatter",
         "x": [
          1,
          2,
          3,
          4,
          5,
          6,
          7,
          8,
          9,
          10,
          11,
          12,
          13,
          14,
          15,
          16,
          17,
          18,
          19,
          20,
          21,
          22,
          23,
          24,
          25,
          26,
          27,
          28,
          29,
          30,
          31,
          32,
          33,
          34,
          35,
          36,
          37,
          38,
          39,
          40,
          41,
          42,
          43,
          44,
          45,
          46,
          47,
          48,
          49,
          50,
          51,
          52,
          53,
          54,
          55,
          56,
          57,
          58,
          59,
          60,
          61,
          62,
          63,
          64,
          65,
          66,
          67,
          68,
          69,
          70,
          71,
          72,
          73,
          74,
          75,
          76,
          77,
          78,
          79,
          80,
          81,
          82,
          83,
          84,
          85,
          86,
          87,
          88,
          89,
          90,
          91,
          92,
          93,
          94,
          95,
          96,
          97,
          98,
          99
         ],
         "y": [
          3.362524242315731,
          3.31080184293248,
          3.2578855921414394,
          3.203878398012994,
          3.1488876496559817,
          3.0930254445222007,
          3.0364088654892405,
          2.9791603148495263,
          2.921407912743434,
          2.863285967676504,
          2.804935526319192,
          2.7465050084427087,
          2.6881509300603077,
          2.6300387128381812,
          2.572343569501296,
          2.515251441753105,
          2.4589599471267136,
          2.403679261672714,
          2.3496328236535486,
          2.297057686921739,
          2.2462042804060554,
          2.1973352449481256,
          2.150722930947544,
          2.1066450725216694,
          2.065378145612057,
          2.0271880252937193,
          1.9923178448870367,
          1.9609734682090383,
          1.933307689868649,
          1.9094050341058304,
          1.889269563934713,
          1.8728181284534076,
          1.8598807775462742,
          1.8502087559899556,
          1.8434889596061264,
          1.839362531387881,
          1.8374447816105834,
          1.8373438861219409,
          1.8386766036649438,
          1.8410801925924944,
          1.8442205059526884,
          1.847796762588914,
          1.8515437291146124,
          1.8552320762672074,
          1.8586675820362022,
          1.8616897150351697,
          1.8641699903863282,
          1.866010369485785,
          1.8671418815767546,
          1.8675235777359562,
          1.8671418815767546,
          1.866010369485785,
          1.8641699903863282,
          1.8616897150351697,
          1.8586675820362024,
          1.8552320762672074,
          1.8515437291146124,
          1.847796762588914,
          1.8442205059526884,
          1.8410801925924944,
          1.8386766036649438,
          1.8373438861219409,
          1.8374447816105834,
          1.839362531387881,
          1.843488959606127,
          1.8502087559899556,
          1.8598807775462742,
          1.8728181284534076,
          1.889269563934713,
          1.9094050341058304,
          1.933307689868649,
          1.9609734682090383,
          1.9923178448870367,
          2.0271880252937193,
          2.0653781456120575,
          2.1066450725216694,
          2.150722930947544,
          2.1973352449481256,
          2.2462042804060554,
          2.297057686921739,
          2.3496328236535486,
          2.403679261672714,
          2.4589599471267136,
          2.515251441753105,
          2.5723435695012955,
          2.6300387128381812,
          2.688150930060308,
          2.7465050084427087,
          2.804935526319192,
          2.863285967676504,
          2.9214079127434345,
          2.979160314849526,
          3.0364088654892405,
          3.0930254445222016,
          3.1488876496559817,
          3.203878398012994,
          3.2578855921414394,
          3.31080184293248,
          3.362524242315731
         ]
        }
       ],
       "frames": [],
       "layout": {
        "height": 510,
        "margin": {
         "b": 50,
         "l": 50,
         "r": 50,
         "t": 60
        },
        "plot_bgcolor": "rgba(0,0,0,0)",
        "showlegend": false,
        "template": {
         "data": {
          "bar": [
           {
            "error_x": {
             "color": "#2a3f5f"
            },
            "error_y": {
             "color": "#2a3f5f"
            },
            "marker": {
             "line": {
              "color": "#E5ECF6",
              "width": 0.5
             }
            },
            "type": "bar"
           }
          ],
          "barpolar": [
           {
            "marker": {
             "line": {
              "color": "#E5ECF6",
              "width": 0.5
             }
            },
            "type": "barpolar"
           }
          ],
          "carpet": [
           {
            "aaxis": {
             "endlinecolor": "#2a3f5f",
             "gridcolor": "white",
             "linecolor": "white",
             "minorgridcolor": "white",
             "startlinecolor": "#2a3f5f"
            },
            "baxis": {
             "endlinecolor": "#2a3f5f",
             "gridcolor": "white",
             "linecolor": "white",
             "minorgridcolor": "white",
             "startlinecolor": "#2a3f5f"
            },
            "type": "carpet"
           }
          ],
          "choropleth": [
           {
            "colorbar": {
             "outlinewidth": 0,
             "ticks": ""
            },
            "type": "choropleth"
           }
          ],
          "contour": [
           {
            "colorbar": {
             "outlinewidth": 0,
             "ticks": ""
            },
            "colorscale": [
             [
              0,
              "#0d0887"
             ],
             [
              0.1111111111111111,
              "#46039f"
             ],
             [
              0.2222222222222222,
              "#7201a8"
             ],
             [
              0.3333333333333333,
              "#9c179e"
             ],
             [
              0.4444444444444444,
              "#bd3786"
             ],
             [
              0.5555555555555556,
              "#d8576b"
             ],
             [
              0.6666666666666666,
              "#ed7953"
             ],
             [
              0.7777777777777778,
              "#fb9f3a"
             ],
             [
              0.8888888888888888,
              "#fdca26"
             ],
             [
              1,
              "#f0f921"
             ]
            ],
            "type": "contour"
           }
          ],
          "contourcarpet": [
           {
            "colorbar": {
             "outlinewidth": 0,
             "ticks": ""
            },
            "type": "contourcarpet"
           }
          ],
          "heatmap": [
           {
            "colorbar": {
             "outlinewidth": 0,
             "ticks": ""
            },
            "colorscale": [
             [
              0,
              "#0d0887"
             ],
             [
              0.1111111111111111,
              "#46039f"
             ],
             [
              0.2222222222222222,
              "#7201a8"
             ],
             [
              0.3333333333333333,
              "#9c179e"
             ],
             [
              0.4444444444444444,
              "#bd3786"
             ],
             [
              0.5555555555555556,
              "#d8576b"
             ],
             [
              0.6666666666666666,
              "#ed7953"
             ],
             [
              0.7777777777777778,
              "#fb9f3a"
             ],
             [
              0.8888888888888888,
              "#fdca26"
             ],
             [
              1,
              "#f0f921"
             ]
            ],
            "type": "heatmap"
           }
          ],
          "heatmapgl": [
           {
            "colorbar": {
             "outlinewidth": 0,
             "ticks": ""
            },
            "colorscale": [
             [
              0,
              "#0d0887"
             ],
             [
              0.1111111111111111,
              "#46039f"
             ],
             [
              0.2222222222222222,
              "#7201a8"
             ],
             [
              0.3333333333333333,
              "#9c179e"
             ],
             [
              0.4444444444444444,
              "#bd3786"
             ],
             [
              0.5555555555555556,
              "#d8576b"
             ],
             [
              0.6666666666666666,
              "#ed7953"
             ],
             [
              0.7777777777777778,
              "#fb9f3a"
             ],
             [
              0.8888888888888888,
              "#fdca26"
             ],
             [
              1,
              "#f0f921"
             ]
            ],
            "type": "heatmapgl"
           }
          ],
          "histogram": [
           {
            "marker": {
             "colorbar": {
              "outlinewidth": 0,
              "ticks": ""
             }
            },
            "type": "histogram"
           }
          ],
          "histogram2d": [
           {
            "colorbar": {
             "outlinewidth": 0,
             "ticks": ""
            },
            "colorscale": [
             [
              0,
              "#0d0887"
             ],
             [
              0.1111111111111111,
              "#46039f"
             ],
             [
              0.2222222222222222,
              "#7201a8"
             ],
             [
              0.3333333333333333,
              "#9c179e"
             ],
             [
              0.4444444444444444,
              "#bd3786"
             ],
             [
              0.5555555555555556,
              "#d8576b"
             ],
             [
              0.6666666666666666,
              "#ed7953"
             ],
             [
              0.7777777777777778,
              "#fb9f3a"
             ],
             [
              0.8888888888888888,
              "#fdca26"
             ],
             [
              1,
              "#f0f921"
             ]
            ],
            "type": "histogram2d"
           }
          ],
          "histogram2dcontour": [
           {
            "colorbar": {
             "outlinewidth": 0,
             "ticks": ""
            },
            "colorscale": [
             [
              0,
              "#0d0887"
             ],
             [
              0.1111111111111111,
              "#46039f"
             ],
             [
              0.2222222222222222,
              "#7201a8"
             ],
             [
              0.3333333333333333,
              "#9c179e"
             ],
             [
              0.4444444444444444,
              "#bd3786"
             ],
             [
              0.5555555555555556,
              "#d8576b"
             ],
             [
              0.6666666666666666,
              "#ed7953"
             ],
             [
              0.7777777777777778,
              "#fb9f3a"
             ],
             [
              0.8888888888888888,
              "#fdca26"
             ],
             [
              1,
              "#f0f921"
             ]
            ],
            "type": "histogram2dcontour"
           }
          ],
          "mesh3d": [
           {
            "colorbar": {
             "outlinewidth": 0,
             "ticks": ""
            },
            "type": "mesh3d"
           }
          ],
          "parcoords": [
           {
            "line": {
             "colorbar": {
              "outlinewidth": 0,
              "ticks": ""
             }
            },
            "type": "parcoords"
           }
          ],
          "pie": [
           {
            "automargin": true,
            "type": "pie"
           }
          ],
          "scatter": [
           {
            "marker": {
             "colorbar": {
              "outlinewidth": 0,
              "ticks": ""
             }
            },
            "type": "scatter"
           }
          ],
          "scatter3d": [
           {
            "line": {
             "colorbar": {
              "outlinewidth": 0,
              "ticks": ""
             }
            },
            "marker": {
             "colorbar": {
              "outlinewidth": 0,
              "ticks": ""
             }
            },
            "type": "scatter3d"
           }
          ],
          "scattercarpet": [
           {
            "marker": {
             "colorbar": {
              "outlinewidth": 0,
              "ticks": ""
             }
            },
            "type": "scattercarpet"
           }
          ],
          "scattergeo": [
           {
            "marker": {
             "colorbar": {
              "outlinewidth": 0,
              "ticks": ""
             }
            },
            "type": "scattergeo"
           }
          ],
          "scattergl": [
           {
            "marker": {
             "colorbar": {
              "outlinewidth": 0,
              "ticks": ""
             }
            },
            "type": "scattergl"
           }
          ],
          "scattermapbox": [
           {
            "marker": {
             "colorbar": {
              "outlinewidth": 0,
              "ticks": ""
             }
            },
            "type": "scattermapbox"
           }
          ],
          "scatterpolar": [
           {
            "marker": {
             "colorbar": {
              "outlinewidth": 0,
              "ticks": ""
             }
            },
            "type": "scatterpolar"
           }
          ],
          "scatterpolargl": [
           {
            "marker": {
             "colorbar": {
              "outlinewidth": 0,
              "ticks": ""
             }
            },
            "type": "scatterpolargl"
           }
          ],
          "scatterternary": [
           {
            "marker": {
             "colorbar": {
              "outlinewidth": 0,
              "ticks": ""
             }
            },
            "type": "scatterternary"
           }
          ],
          "surface": [
           {
            "colorbar": {
             "outlinewidth": 0,
             "ticks": ""
            },
            "colorscale": [
             [
              0,
              "#0d0887"
             ],
             [
              0.1111111111111111,
              "#46039f"
             ],
             [
              0.2222222222222222,
              "#7201a8"
             ],
             [
              0.3333333333333333,
              "#9c179e"
             ],
             [
              0.4444444444444444,
              "#bd3786"
             ],
             [
              0.5555555555555556,
              "#d8576b"
             ],
             [
              0.6666666666666666,
              "#ed7953"
             ],
             [
              0.7777777777777778,
              "#fb9f3a"
             ],
             [
              0.8888888888888888,
              "#fdca26"
             ],
             [
              1,
              "#f0f921"
             ]
            ],
            "type": "surface"
           }
          ],
          "table": [
           {
            "cells": {
             "fill": {
              "color": "#EBF0F8"
             },
             "line": {
              "color": "white"
             }
            },
            "header": {
             "fill": {
              "color": "#C8D4E3"
             },
             "line": {
              "color": "white"
             }
            },
            "type": "table"
           }
          ]
         },
         "layout": {
          "annotationdefaults": {
           "arrowcolor": "#2a3f5f",
           "arrowhead": 0,
           "arrowwidth": 1
          },
          "autotypenumbers": "strict",
          "coloraxis": {
           "colorbar": {
            "outlinewidth": 0,
            "ticks": ""
           }
          },
          "colorscale": {
           "diverging": [
            [
             0,
             "#8e0152"
            ],
            [
             0.1,
             "#c51b7d"
            ],
            [
             0.2,
             "#de77ae"
            ],
            [
             0.3,
             "#f1b6da"
            ],
            [
             0.4,
             "#fde0ef"
            ],
            [
             0.5,
             "#f7f7f7"
            ],
            [
             0.6,
             "#e6f5d0"
            ],
            [
             0.7,
             "#b8e186"
            ],
            [
             0.8,
             "#7fbc41"
            ],
            [
             0.9,
             "#4d9221"
            ],
            [
             1,
             "#276419"
            ]
           ],
           "sequential": [
            [
             0,
             "#0d0887"
            ],
            [
             0.1111111111111111,
             "#46039f"
            ],
            [
             0.2222222222222222,
             "#7201a8"
            ],
            [
             0.3333333333333333,
             "#9c179e"
            ],
            [
             0.4444444444444444,
             "#bd3786"
            ],
            [
             0.5555555555555556,
             "#d8576b"
            ],
            [
             0.6666666666666666,
             "#ed7953"
            ],
            [
             0.7777777777777778,
             "#fb9f3a"
            ],
            [
             0.8888888888888888,
             "#fdca26"
            ],
            [
             1,
             "#f0f921"
            ]
           ],
           "sequentialminus": [
            [
             0,
             "#0d0887"
            ],
            [
             0.1111111111111111,
             "#46039f"
            ],
            [
             0.2222222222222222,
             "#7201a8"
            ],
            [
             0.3333333333333333,
             "#9c179e"
            ],
            [
             0.4444444444444444,
             "#bd3786"
            ],
            [
             0.5555555555555556,
             "#d8576b"
            ],
            [
             0.6666666666666666,
             "#ed7953"
            ],
            [
             0.7777777777777778,
             "#fb9f3a"
            ],
            [
             0.8888888888888888,
             "#fdca26"
            ],
            [
             1,
             "#f0f921"
            ]
           ]
          },
          "colorway": [
           "#636efa",
           "#EF553B",
           "#00cc96",
           "#ab63fa",
           "#FFA15A",
           "#19d3f3",
           "#FF6692",
           "#B6E880",
           "#FF97FF",
           "#FECB52"
          ],
          "font": {
           "color": "#2a3f5f"
          },
          "geo": {
           "bgcolor": "white",
           "lakecolor": "white",
           "landcolor": "#E5ECF6",
           "showlakes": true,
           "showland": true,
           "subunitcolor": "white"
          },
          "hoverlabel": {
           "align": "left"
          },
          "hovermode": "closest",
          "mapbox": {
           "style": "light"
          },
          "paper_bgcolor": "white",
          "plot_bgcolor": "#E5ECF6",
          "polar": {
           "angularaxis": {
            "gridcolor": "white",
            "linecolor": "white",
            "ticks": ""
           },
           "bgcolor": "#E5ECF6",
           "radialaxis": {
            "gridcolor": "white",
            "linecolor": "white",
            "ticks": ""
           }
          },
          "scene": {
           "xaxis": {
            "backgroundcolor": "#E5ECF6",
            "gridcolor": "white",
            "gridwidth": 2,
            "linecolor": "white",
            "showbackground": true,
            "ticks": "",
            "zerolinecolor": "white"
           },
           "yaxis": {
            "backgroundcolor": "#E5ECF6",
            "gridcolor": "white",
            "gridwidth": 2,
            "linecolor": "white",
            "showbackground": true,
            "ticks": "",
            "zerolinecolor": "white"
           },
           "zaxis": {
            "backgroundcolor": "#E5ECF6",
            "gridcolor": "white",
            "gridwidth": 2,
            "linecolor": "white",
            "showbackground": true,
            "ticks": "",
            "zerolinecolor": "white"
           }
          },
          "shapedefaults": {
           "line": {
            "color": "#2a3f5f"
           }
          },
          "ternary": {
           "aaxis": {
            "gridcolor": "white",
            "linecolor": "white",
            "ticks": ""
           },
           "baxis": {
            "gridcolor": "white",
            "linecolor": "white",
            "ticks": ""
           },
           "bgcolor": "#E5ECF6",
           "caxis": {
            "gridcolor": "white",
            "linecolor": "white",
            "ticks": ""
           }
          },
          "title": {
           "x": 0.05
          },
          "xaxis": {
           "automargin": true,
           "gridcolor": "white",
           "linecolor": "white",
           "ticks": "",
           "title": {
            "standoff": 15
           },
           "zerolinecolor": "white",
           "zerolinewidth": 2
          },
          "yaxis": {
           "automargin": true,
           "gridcolor": "white",
           "linecolor": "white",
           "ticks": "",
           "title": {
            "standoff": 15
           },
           "zerolinecolor": "white",
           "zerolinewidth": 2
          }
         }
        },
        "title": "-K --> Γ --> K",
        "width": 510,
        "xaxis": {
         "linecolor": "black",
         "linewidth": 5,
         "mirror": true,
         "showgrid": true,
         "showline": true,
         "showticklabels": false
        },
        "yaxis": {
         "linecolor": "black",
         "linewidth": 5,
         "mirror": true,
         "showgrid": true,
         "showline": true,
         "showticklabels": true
        }
       }
      },
      "image/png": "[encoded data removed]",
      "image/svg+xml": [
       "<svg class=\"main-svg\" xmlns=\"http://www.w3.org/2000/svg\" xmlns:xlink=\"http://www.w3.org/1999/xlink\" width=\"700\" height=\"500\" style=\"\" viewBox=\"0 0 700 500\"><rect x=\"0\" y=\"0\" width=\"700\" height=\"500\" style=\"fill: rgb(255, 255, 255); fill-opacity: 1;\"/><defs id=\"defs-c925b3\"><g class=\"clips\"><clipPath id=\"clipc925b3xyplot\" class=\"plotclip\"><rect width=\"600\" height=\"390\"/></clipPath><clipPath class=\"axesclip\" id=\"clipc925b3x\"><rect x=\"50\" y=\"0\" width=\"600\" height=\"500\"/></clipPath><clipPath class=\"axesclip\" id=\"clipc925b3y\"><rect x=\"0\" y=\"60\" width=\"700\" height=\"390\"/></clipPath><clipPath class=\"axesclip\" id=\"clipc925b3xy\"><rect x=\"50\" y=\"60\" width=\"600\" height=\"390\"/></clipPath></g><g class=\"gradients\"/><g class=\"patterns\"/></defs><g class=\"bglayer\"><rect class=\"bg\" x=\"50\" y=\"60\" width=\"600\" height=\"390\" style=\"fill: rgb(0, 0, 0); fill-opacity: 0; stroke-width: 0;\"/></g><g class=\"layer-below\"><g class=\"imagelayer\"/><g class=\"shapelayer\"/></g><g class=\"cartesianlayer\"><g class=\"subplot xy\"><g class=\"layer-subplot\"><g class=\"shapelayer\"/><g class=\"imagelayer\"/></g><g class=\"gridlayer\"><g class=\"x\"><path class=\"xgrid crisp\" transform=\"translate(166.32999999999998,0)\" d=\"M0,60v390\" style=\"stroke: rgb(255, 255, 255); stroke-opacity: 1; stroke-width: 1px;\"/><path class=\"xgrid crisp\" transform=\"translate(288.78,0)\" d=\"M0,60v390\" style=\"stroke: rgb(255, 255, 255); stroke-opacity: 1; stroke-width: 1px;\"/><path class=\"xgrid crisp\" transform=\"translate(411.22,0)\" d=\"M0,60v390\" style=\"stroke: rgb(255, 255, 255); stroke-opacity: 1; stroke-width: 1px;\"/><path class=\"xgrid crisp\" transform=\"translate(533.6700000000001,0)\" d=\"M0,60v390\" style=\"stroke: rgb(255, 255, 255); stroke-opacity: 1; stroke-width: 1px;\"/></g><g class=\"y\"><path class=\"ygrid crisp\" transform=\"translate(0,439.37)\" d=\"M50,0h600\" style=\"stroke: rgb(255, 255, 255); stroke-opacity: 1; stroke-width: 1px;\"/><path class=\"ygrid crisp\" transform=\"translate(0,382.81)\" d=\"M50,0h600\" style=\"stroke: rgb(255, 255, 255); stroke-opacity: 1; stroke-width: 1px;\"/><path class=\"ygrid crisp\" transform=\"translate(0,326.25)\" d=\"M50,0h600\" style=\"stroke: rgb(255, 255, 255); stroke-opacity: 1; stroke-width: 1px;\"/><path class=\"ygrid crisp\" transform=\"translate(0,213.13)\" d=\"M50,0h600\" style=\"stroke: rgb(255, 255, 255); stroke-opacity: 1; stroke-width: 1px;\"/><path class=\"ygrid crisp\" transform=\"translate(0,156.57)\" d=\"M50,0h600\" style=\"stroke: rgb(255, 255, 255); stroke-opacity: 1; stroke-width: 1px;\"/><path class=\"ygrid crisp\" transform=\"translate(0,100)\" d=\"M50,0h600\" style=\"stroke: rgb(255, 255, 255); stroke-opacity: 1; stroke-width: 1px;\"/></g></g><g class=\"zerolinelayer\"><path class=\"yzl zl crisp\" transform=\"translate(0,269.69)\" d=\"M50,0h600\" style=\"stroke: rgb(255, 255, 255); stroke-opacity: 1; stroke-width: 2px;\"/></g><path class=\"xlines-below\"/><path class=\"ylines-below\"/><g class=\"overlines-below\"/><g class=\"xaxislayer-below\"/><g class=\"yaxislayer-below\"/><g class=\"overaxes-below\"/><g class=\"plot\" transform=\"translate(50,60)\" clip-path=\"url(#clipc925b3xyplot)\"><g class=\"scatterlayer mlayer\"><g class=\"trace scatter trace6b6879\" style=\"stroke-miterlimit: 2; opacity: 1;\"><g class=\"fills\"/><g class=\"errorbars\"/><g class=\"lines\"><path class=\"js-line\" d=\"M0,370.5L48.98,367.84L55.1,367.38L110.2,361.92L116.33,361.19L208.16,348.79L214.29,348.01L257.14,343.5L263.27,343.05L300,341.77L306.12,341.81L336.73,343.05L342.86,343.5L379.59,347.25L385.71,348.01L526.53,365.81L532.65,366.36L581.63,369.72L587.76,370.01L600,370.5\" style=\"vector-effect: non-scaling-stroke; fill: none; stroke: rgb(128, 0, 128); stroke-opacity: 1; stroke-width: 4px; opacity: 1;\"/></g><g class=\"points\"/><g class=\"text\"/></g><g class=\"trace scatter trace7dce13\" style=\"stroke-miterlimit: 2; opacity: 1;\"><g class=\"fills\"/><g class=\"errorbars\"/><g class=\"lines\"><path class=\"js-line\" d=\"M0,239.06L61.22,211.14L67.35,208.36L104.08,192.69L110.2,190.35L134.69,182.16L140.82,180.48L159.18,176.52L165.31,175.6L183.67,174.11L189.8,174.03L214.29,175.4L220.41,176.06L281.63,182.71L287.76,183L312.24,183L318.37,182.71L348.98,179.88L355.1,179.12L397.96,174.42L404.08,174.14L422.45,174.4L428.57,174.89L446.94,177.64L453.06,178.97L477.55,185.99L483.67,188.11L514.29,200.25L520.41,202.91L600,239.06\" style=\"vector-effect: non-scaling-stroke; fill: none; stroke: rgb(128, 0, 128); stroke-opacity: 1; stroke-width: 4px; opacity: 1;\"/></g><g class=\"points\"/><g class=\"text\"/></g><g class=\"trace scatter trace69983e\" style=\"stroke-miterlimit: 2; opacity: 1;\"><g class=\"fills\"/><g class=\"errorbars\"/><g class=\"lines\"><path class=\"js-line\" d=\"M0,19.5L36.73,37.95L42.86,41.18L116.33,79.76L122.45,82.64L146.94,92.87L153.06,95.03L171.43,100.34L177.55,101.69L195.92,104.49L202.04,105.04L226.53,105.77L232.65,105.69L318.37,104.25L324.49,104.39L391.84,105.42L397.96,105.04L416.33,102.83L422.45,101.69L440.82,97L446.94,95.03L471.43,85.4L477.55,82.64L508.16,67.42L514.29,64.19L593.88,22.43L600,19.5\" style=\"vector-effect: non-scaling-stroke; fill: none; stroke: rgb(128, 0, 128); stroke-opacity: 1; stroke-width: 4px; opacity: 1;\"/></g><g class=\"points\"/><g class=\"text\"/></g></g></g><g class=\"overplot\"/><path class=\"xlines-above crisp\" d=\"M45,452.5H655M45,57.5H655\" style=\"fill: none; stroke-width: 5px; stroke: rgb(0, 0, 0); stroke-opacity: 1;\"/><path class=\"ylines-above crisp\" d=\"M47.5,60V450M652.5,60V450\" style=\"fill: none; stroke-width: 5px; stroke: rgb(0, 0, 0); stroke-opacity: 1;\"/><g class=\"overlines-above\"/><g class=\"xaxislayer-above\"/><g class=\"yaxislayer-above\"><g class=\"ytick\"><text text-anchor=\"end\" x=\"42.6\" y=\"4.199999999999999\" transform=\"translate(0,439.37)\" style=\"font-family: 'Open Sans', verdana, arial, sans-serif; font-size: 12px; fill: rgb(42, 63, 95); fill-opacity: 1; white-space: pre; opacity: 1;\">−3</text></g><g class=\"ytick\"><text text-anchor=\"end\" x=\"42.6\" y=\"4.199999999999999\" style=\"font-family: 'Open Sans', verdana, arial, sans-serif; font-size: 12px; fill: rgb(42, 63, 95); fill-opacity: 1; white-space: pre; opacity: 1;\" transform=\"translate(0,382.81)\">−2</text></g><g class=\"ytick\"><text text-anchor=\"end\" x=\"42.6\" y=\"4.199999999999999\" style=\"font-family: 'Open Sans', verdana, arial, sans-serif; font-size: 12px; fill: rgb(42, 63, 95); fill-opacity: 1; white-space: pre; opacity: 1;\" transform=\"translate(0,326.25)\">−1</text></g><g class=\"ytick\"><text text-anchor=\"end\" x=\"42.6\" y=\"4.199999999999999\" style=\"font-family: 'Open Sans', verdana, arial, sans-serif; font-size: 12px; fill: rgb(42, 63, 95); fill-opacity: 1; white-space: pre; opacity: 1;\" transform=\"translate(0,269.69)\">0</text></g><g class=\"ytick\"><text text-anchor=\"end\" x=\"42.6\" y=\"4.199999999999999\" style=\"font-family: 'Open Sans', verdana, arial, sans-serif; font-size: 12px; fill: rgb(42, 63, 95); fill-opacity: 1; white-space: pre; opacity: 1;\" transform=\"translate(0,213.13)\">1</text></g><g class=\"ytick\"><text text-anchor=\"end\" x=\"42.6\" y=\"4.199999999999999\" style=\"font-family: 'Open Sans', verdana, arial, sans-serif; font-size: 12px; fill: rgb(42, 63, 95); fill-opacity: 1; white-space: pre; opacity: 1;\" transform=\"translate(0,156.57)\">2</text></g><g class=\"ytick\"><text text-anchor=\"end\" x=\"42.6\" y=\"4.199999999999999\" style=\"font-family: 'Open Sans', verdana, arial, sans-serif; font-size: 12px; fill: rgb(42, 63, 95); fill-opacity: 1; white-space: pre; opacity: 1;\" transform=\"translate(0,100)\">3</text></g></g><g class=\"overaxes-above\"/></g></g><g class=\"polarlayer\"/><g class=\"ternarylayer\"/><g class=\"geolayer\"/><g class=\"funnelarealayer\"/><g class=\"pielayer\"/><g class=\"iciclelayer\"/><g class=\"treemaplayer\"/><g class=\"sunburstlayer\"/><g class=\"glimages\"/><defs id=\"topdefs-c925b3\"><g class=\"clips\"/></defs><g class=\"layer-above\"><g class=\"imagelayer\"/><g class=\"shapelayer\"/></g><g class=\"infolayer\"><g class=\"g-gtitle\"><text class=\"gtitle\" x=\"35\" y=\"30\" text-anchor=\"start\" dy=\"0em\" style=\"font-family: 'Open Sans', verdana, arial, sans-serif; font-size: 17px; fill: rgb(42, 63, 95); opacity: 1; font-weight: normal; white-space: pre;\">-K --> Γ --> K</text></g><g class=\"g-xtitle\"/><g class=\"g-ytitle\"/></g></svg>"
      ],
      "text/html": [
       "<div\n",
       "    class=\"webio-mountpoint\"\n",
       "    data-webio-mountpoint=\"16413462444911844928\"\n",
       ">\n",
       "    <script>\n",
       "    (function(){\n",
       "    // Some integrations (namely, IJulia/Jupyter) use an alternate render pathway than\n",
       "    // just putting the html on the page. If WebIO isn't defined, then it's pretty likely\n",
       "    // that we're in one of those situations and the integration just isn't installed\n",
       "    // correctly.\n",
       "    if (typeof window.WebIO === \"undefined\") {\n",
       "        document\n",
       "            .querySelector('[data-webio-mountpoint=\"16413462444911844928\"]')\n",
       "            .innerHTML = (\n",
       "                '<div style=\"padding: 1em; background-color: #f8d6da; border: 1px solid #f5c6cb; font-weight: bold;\">' +\n",
       "                '<p><strong>WebIO not detected.</strong></p>' +\n",
       "                '<p>Please read ' +\n",
       "                '<a href=\"https://juliagizmos.github.io/WebIO.jl/latest/troubleshooting/not-detected/\" target=\"_blank\">the troubleshooting guide</a> ' +\n",
       "                'for more information on how to resolve this issue.</p>' +\n",
       "                '<p><a href=\"https://juliagizmos.github.io/WebIO.jl/latest/troubleshooting/not-detected/\" target=\"_blank\">https://juliagizmos.github.io/WebIO.jl/latest/troubleshooting/not-detected/</a></p>' +\n",
       "                '</div>'\n",
       "            );\n",
       "        return;\n",
       "    }\n",
       "    WebIO.mount(\n",
       "        document.querySelector('[data-webio-mountpoint=\"16413462444911844928\"]'),\n",
       "        {\"props\":{},\"nodeType\":\"Scope\",\"type\":\"node\",\"instanceArgs\":{\"imports\":{\"data\":[{\"name\":\"Plotly\",\"type\":\"js\",\"url\":\"\\/assetserver\\/b267c3137400db01c304fe886fe6f707be7fdb37-plotly.min.js\"},{\"name\":null,\"type\":\"js\",\"url\":\"\\/assetserver\\/020f2e8a4619f2ae880fff9315e6547eef1aff0b-plotly_webio.bundle.js\"}],\"type\":\"async_block\"},\"id\":\"6264721252195574133\",\"handlers\":{\"_toImage\":[\"(function (options){return this.Plotly.toImage(this.plotElem,options).then((function (data){return WebIO.setval({\\\"name\\\":\\\"image\\\",\\\"scope\\\":\\\"6264721252195574133\\\",\\\"id\\\":\\\"65\\\",\\\"type\\\":\\\"observable\\\"},data)}))})\"],\"__get_gd_contents\":[\"(function (prop){prop==\\\"data\\\" ? (WebIO.setval({\\\"name\\\":\\\"__gd_contents\\\",\\\"scope\\\":\\\"6264721252195574133\\\",\\\"id\\\":\\\"66\\\",\\\"type\\\":\\\"observable\\\"},this.plotElem.data)) : undefined; return prop==\\\"layout\\\" ? (WebIO.setval({\\\"name\\\":\\\"__gd_contents\\\",\\\"scope\\\":\\\"6264721252195574133\\\",\\\"id\\\":\\\"66\\\",\\\"type\\\":\\\"observable\\\"},this.plotElem.layout)) : undefined})\"],\"_downloadImage\":[\"(function (options){return this.Plotly.downloadImage(this.plotElem,options)})\"],\"_commands\":[\"(function (args){var fn=args.shift(); var elem=this.plotElem; var Plotly=this.Plotly; args.unshift(elem); return Plotly[fn].apply(this,args)})\"]},\"systemjs_options\":null,\"mount_callbacks\":[\"function () {\\n    var handler = ((function (Plotly,PlotlyWebIO){PlotlyWebIO.init(WebIO); var gd=this.dom.querySelector(\\\"#plot-3b315b6e-23e6-49f8-9b26-675451e489c4\\\"); this.plotElem=gd; this.Plotly=Plotly; (window.Blink!==undefined) ? (gd.style.width=\\\"100%\\\", gd.style.height=\\\"100vh\\\", gd.style.marginLeft=\\\"0%\\\", gd.style.marginTop=\\\"0vh\\\") : undefined; window.onresize=(function (){return Plotly.Plots.resize(gd)}); Plotly.newPlot(gd,[{\\\"mode\\\":\\\"lines\\\",\\\"line\\\":{\\\"color\\\":\\\"purple\\\",\\\"width\\\":4},\\\"y\\\":[-2.8431885559545185,-2.839091136240425,-2.834501036766752,-2.829408082180715,-2.823804055143538,-2.817682650323758,-2.8110394354968213,-2.8038718217459206,-2.796179044343083,-2.7879621555386165,-2.779224030191954,-2.7699693849276708,-2.760204811286306,-2.7499388231499493,-2.739181918546495,-2.727946655763008,-2.716247743516781,-2.704102144730807,-2.691529193226695,-2.678550722370019,-2.665191204367605,-2.6514778985096865,-2.637441006158345,-2.6231138296934144,-2.6085329319255166,-2.59373829166271,-2.5787734501663033,-2.5636856421532617,-2.548525903807911,-2.5333491489791182,-2.5182142034046793,-2.5031837854907115,-2.4883244209789126,-2.4737062778917918,-2.4594029076257202,-2.4454908781699114,-2.43204928640003,-2.419159138473472,-2.4069025907690222,-2.3953620487417724,-2.3846191275760242,-2.374753486526754,-2.365841558044975,-2.357955202637742,-2.3511603301207007,-2.3455155364708373,-2.3410708117566115,-2.3378663775260953,-2.3359317107079955,-2.3352848050722144,-2.3359317107079955,-2.3378663775260953,-2.3410708117566115,-2.3455155364708373,-2.3511603301207007,-2.357955202637742,-2.365841558044975,-2.374753486526754,-2.3846191275760242,-2.3953620487417724,-2.4069025907690222,-2.419159138473472,-2.43204928640003,-2.4454908781699114,-2.4594029076257207,-2.4737062778917918,-2.4883244209789126,-2.5031837854907115,-2.5182142034046793,-2.5333491489791182,-2.548525903807911,-2.5636856421532617,-2.5787734501663033,-2.59373829166271,-2.6085329319255166,-2.6231138296934144,-2.637441006158345,-2.6514778985096865,-2.665191204367605,-2.678550722370019,-2.691529193226695,-2.704102144730807,-2.716247743516781,-2.727946655763008,-2.7391819185464956,-2.7499388231499493,-2.760204811286306,-2.7699693849276708,-2.779224030191954,-2.7879621555386165,-2.7961790443430825,-2.80387182174592,-2.8110394354968213,-2.817682650323758,-2.823804055143538,-2.829408082180715,-2.834501036766752,-2.839091136240425,-2.8431885559545185],\\\"type\\\":\\\"scatter\\\",\\\"x\\\":[1,2,3,4,5,6,7,8,9,10,11,12,13,14,15,16,17,18,19,20,21,22,23,24,25,26,27,28,29,30,31,32,33,34,35,36,37,38,39,40,41,42,43,44,45,46,47,48,49,50,51,52,53,54,55,56,57,58,59,60,61,62,63,64,65,66,67,68,69,70,71,72,73,74,75,76,77,78,79,80,81,82,83,84,85,86,87,88,89,90,91,92,93,94,95,96,97,98,99]},{\\\"mode\\\":\\\"lines\\\",\\\"line\\\":{\\\"color\\\":\\\"purple\\\",\\\"width\\\":4},\\\"y\\\":[-0.5193356863612126,-0.47171070669205495,-0.42338455537468755,-0.3744703158322791,-0.3250835945124435,-0.27534279419844276,-0.22536942999241916,-0.1752884931036056,-0.12522886840035108,-0.07532381213788764,-0.02571149612723822,0.023464376484962024,0.07205388122599832,0.11990011031176806,0.16683834904519923,0.2126952140099032,0.2572877963900675,0.30042288305809306,0.3418963695731465,0.3814930354482797,0.4189869239615498,0.4541426535615609,0.4867180752108009,0.516468757171745,0.5431547863134596,0.5665502663689908,0.5864556052792667,0.6027121739442234,0.6152182139392619,0.6239441148732878,0.6289446394699663,0.630365657037304,0.6284436434326384,0.6234975219018362,0.6159139480195939,0.6061283467820304,0.5946045047894466,0.581815252351531,0.5682259871040785,0.5542818561492779,0.5403986216233359,0.5269567239378401,0.5142978289303628,0.5027231263705347,0.4924927480844985,0.48382582143566766,0.4769008213702832,0.47185600804031025,0.4687898291312409,0.46776122733625813,0.4687898291312409,0.47185600804031025,0.4769008213702832,0.48382582143566766,0.4924927480844983,0.5027231263705347,0.5142978289303628,0.5269567239378401,0.5403986216233359,0.5542818561492779,0.5682259871040785,0.581815252351531,0.5946045047894466,0.6061283467820304,0.6159139480195936,0.6234975219018362,0.6284436434326384,0.630365657037304,0.6289446394699663,0.6239441148732878,0.6152182139392619,0.6027121739442234,0.5864556052792667,0.5665502663689908,0.5431547863134591,0.516468757171745,0.4867180752108009,0.4541426535615609,0.4189869239615498,0.3814930354482797,0.3418963695731465,0.30042288305809306,0.2572877963900675,0.2126952140099032,0.16683834904520012,0.11990011031176806,0.07205388122599787,0.023464376484962024,-0.02571149612723822,-0.07532381213788764,-0.12522886840035197,-0.1752884931036056,-0.22536942999241916,-0.27534279419844365,-0.3250835945124435,-0.3744703158322791,-0.42338455537468755,-0.47171070669205495,-0.5193356863612126],\\\"type\\\":\\\"scatter\\\",\\\"x\\\":[1,2,3,4,5,6,7,8,9,10,11,12,13,14,15,16,17,18,19,20,21,22,23,24,25,26,27,28,29,30,31,32,33,34,35,36,37,38,39,40,41,42,43,44,45,46,47,48,49,50,51,52,53,54,55,56,57,58,59,60,61,62,63,64,65,66,67,68,69,70,71,72,73,74,75,76,77,78,79,80,81,82,83,84,85,86,87,88,89,90,91,92,93,94,95,96,97,98,99]},{\\\"mode\\\":\\\"lines\\\",\\\"line\\\":{\\\"color\\\":\\\"purple\\\",\\\"width\\\":4},\\\"y\\\":[3.362524242315731,3.31080184293248,3.2578855921414394,3.203878398012994,3.1488876496559817,3.0930254445222007,3.0364088654892405,2.9791603148495263,2.921407912743434,2.863285967676504,2.804935526319192,2.7465050084427087,2.6881509300603077,2.6300387128381812,2.572343569501296,2.515251441753105,2.4589599471267136,2.403679261672714,2.3496328236535486,2.297057686921739,2.2462042804060554,2.1973352449481256,2.150722930947544,2.1066450725216694,2.065378145612057,2.0271880252937193,1.9923178448870367,1.9609734682090383,1.933307689868649,1.9094050341058304,1.889269563934713,1.8728181284534076,1.8598807775462742,1.8502087559899556,1.8434889596061264,1.839362531387881,1.8374447816105834,1.8373438861219409,1.8386766036649438,1.8410801925924944,1.8442205059526884,1.847796762588914,1.8515437291146124,1.8552320762672074,1.8586675820362022,1.8616897150351697,1.8641699903863282,1.866010369485785,1.8671418815767546,1.8675235777359562,1.8671418815767546,1.866010369485785,1.8641699903863282,1.8616897150351697,1.8586675820362024,1.8552320762672074,1.8515437291146124,1.847796762588914,1.8442205059526884,1.8410801925924944,1.8386766036649438,1.8373438861219409,1.8374447816105834,1.839362531387881,1.843488959606127,1.8502087559899556,1.8598807775462742,1.8728181284534076,1.889269563934713,1.9094050341058304,1.933307689868649,1.9609734682090383,1.9923178448870367,2.0271880252937193,2.0653781456120575,2.1066450725216694,2.150722930947544,2.1973352449481256,2.2462042804060554,2.297057686921739,2.3496328236535486,2.403679261672714,2.4589599471267136,2.515251441753105,2.5723435695012955,2.6300387128381812,2.688150930060308,2.7465050084427087,2.804935526319192,2.863285967676504,2.9214079127434345,2.979160314849526,3.0364088654892405,3.0930254445222016,3.1488876496559817,3.203878398012994,3.2578855921414394,3.31080184293248,3.362524242315731],\\\"type\\\":\\\"scatter\\\",\\\"x\\\":[1,2,3,4,5,6,7,8,9,10,11,12,13,14,15,16,17,18,19,20,21,22,23,24,25,26,27,28,29,30,31,32,33,34,35,36,37,38,39,40,41,42,43,44,45,46,47,48,49,50,51,52,53,54,55,56,57,58,59,60,61,62,63,64,65,66,67,68,69,70,71,72,73,74,75,76,77,78,79,80,81,82,83,84,85,86,87,88,89,90,91,92,93,94,95,96,97,98,99]}],{\\\"showlegend\\\":false,\\\"xaxis\\\":{\\\"showgrid\\\":true,\\\"showline\\\":true,\\\"showticklabels\\\":false,\\\"linewidth\\\":5,\\\"mirror\\\":true,\\\"linecolor\\\":\\\"black\\\"},\\\"template\\\":{\\\"layout\\\":{\\\"coloraxis\\\":{\\\"colorbar\\\":{\\\"ticks\\\":\\\"\\\",\\\"outlinewidth\\\":0}},\\\"xaxis\\\":{\\\"gridcolor\\\":\\\"white\\\",\\\"zerolinewidth\\\":2,\\\"title\\\":{\\\"standoff\\\":15},\\\"ticks\\\":\\\"\\\",\\\"zerolinecolor\\\":\\\"white\\\",\\\"automargin\\\":true,\\\"linecolor\\\":\\\"white\\\"},\\\"hovermode\\\":\\\"closest\\\",\\\"paper_bgcolor\\\":\\\"white\\\",\\\"geo\\\":{\\\"showlakes\\\":true,\\\"showland\\\":true,\\\"landcolor\\\":\\\"#E5ECF6\\\",\\\"bgcolor\\\":\\\"white\\\",\\\"subunitcolor\\\":\\\"white\\\",\\\"lakecolor\\\":\\\"white\\\"},\\\"colorscale\\\":{\\\"sequential\\\":[[0.0,\\\"#0d0887\\\"],[0.1111111111111111,\\\"#46039f\\\"],[0.2222222222222222,\\\"#7201a8\\\"],[0.3333333333333333,\\\"#9c179e\\\"],[0.4444444444444444,\\\"#bd3786\\\"],[0.5555555555555556,\\\"#d8576b\\\"],[0.6666666666666666,\\\"#ed7953\\\"],[0.7777777777777778,\\\"#fb9f3a\\\"],[0.8888888888888888,\\\"#fdca26\\\"],[1.0,\\\"#f0f921\\\"]],\\\"diverging\\\":[[0,\\\"#8e0152\\\"],[0.1,\\\"#c51b7d\\\"],[0.2,\\\"#de77ae\\\"],[0.3,\\\"#f1b6da\\\"],[0.4,\\\"#fde0ef\\\"],[0.5,\\\"#f7f7f7\\\"],[0.6,\\\"#e6f5d0\\\"],[0.7,\\\"#b8e186\\\"],[0.8,\\\"#7fbc41\\\"],[0.9,\\\"#4d9221\\\"],[1,\\\"#276419\\\"]],\\\"sequentialminus\\\":[[0.0,\\\"#0d0887\\\"],[0.1111111111111111,\\\"#46039f\\\"],[0.2222222222222222,\\\"#7201a8\\\"],[0.3333333333333333,\\\"#9c179e\\\"],[0.4444444444444444,\\\"#bd3786\\\"],[0.5555555555555556,\\\"#d8576b\\\"],[0.6666666666666666,\\\"#ed7953\\\"],[0.7777777777777778,\\\"#fb9f3a\\\"],[0.8888888888888888,\\\"#fdca26\\\"],[1.0,\\\"#f0f921\\\"]]},\\\"yaxis\\\":{\\\"gridcolor\\\":\\\"white\\\",\\\"zerolinewidth\\\":2,\\\"title\\\":{\\\"standoff\\\":15},\\\"ticks\\\":\\\"\\\",\\\"zerolinecolor\\\":\\\"white\\\",\\\"automargin\\\":true,\\\"linecolor\\\":\\\"white\\\"},\\\"shapedefaults\\\":{\\\"line\\\":{\\\"color\\\":\\\"#2a3f5f\\\"}},\\\"hoverlabel\\\":{\\\"align\\\":\\\"left\\\"},\\\"mapbox\\\":{\\\"style\\\":\\\"light\\\"},\\\"polar\\\":{\\\"angularaxis\\\":{\\\"gridcolor\\\":\\\"white\\\",\\\"ticks\\\":\\\"\\\",\\\"linecolor\\\":\\\"white\\\"},\\\"bgcolor\\\":\\\"#E5ECF6\\\",\\\"radialaxis\\\":{\\\"gridcolor\\\":\\\"white\\\",\\\"ticks\\\":\\\"\\\",\\\"linecolor\\\":\\\"white\\\"}},\\\"autotypenumbers\\\":\\\"strict\\\",\\\"font\\\":{\\\"color\\\":\\\"#2a3f5f\\\"},\\\"ternary\\\":{\\\"baxis\\\":{\\\"gridcolor\\\":\\\"white\\\",\\\"ticks\\\":\\\"\\\",\\\"linecolor\\\":\\\"white\\\"},\\\"bgcolor\\\":\\\"#E5ECF6\\\",\\\"caxis\\\":{\\\"gridcolor\\\":\\\"white\\\",\\\"ticks\\\":\\\"\\\",\\\"linecolor\\\":\\\"white\\\"},\\\"aaxis\\\":{\\\"gridcolor\\\":\\\"white\\\",\\\"ticks\\\":\\\"\\\",\\\"linecolor\\\":\\\"white\\\"}},\\\"annotationdefaults\\\":{\\\"arrowhead\\\":0,\\\"arrowwidth\\\":1,\\\"arrowcolor\\\":\\\"#2a3f5f\\\"},\\\"plot_bgcolor\\\":\\\"#E5ECF6\\\",\\\"title\\\":{\\\"x\\\":0.05},\\\"scene\\\":{\\\"xaxis\\\":{\\\"gridcolor\\\":\\\"white\\\",\\\"gridwidth\\\":2,\\\"backgroundcolor\\\":\\\"#E5ECF6\\\",\\\"ticks\\\":\\\"\\\",\\\"showbackground\\\":true,\\\"zerolinecolor\\\":\\\"white\\\",\\\"linecolor\\\":\\\"white\\\"},\\\"zaxis\\\":{\\\"gridcolor\\\":\\\"white\\\",\\\"gridwidth\\\":2,\\\"backgroundcolor\\\":\\\"#E5ECF6\\\",\\\"ticks\\\":\\\"\\\",\\\"showbackground\\\":true,\\\"zerolinecolor\\\":\\\"white\\\",\\\"linecolor\\\":\\\"white\\\"},\\\"yaxis\\\":{\\\"gridcolor\\\":\\\"white\\\",\\\"gridwidth\\\":2,\\\"backgroundcolor\\\":\\\"#E5ECF6\\\",\\\"ticks\\\":\\\"\\\",\\\"showbackground\\\":true,\\\"zerolinecolor\\\":\\\"white\\\",\\\"linecolor\\\":\\\"white\\\"}},\\\"colorway\\\":[\\\"#636efa\\\",\\\"#EF553B\\\",\\\"#00cc96\\\",\\\"#ab63fa\\\",\\\"#FFA15A\\\",\\\"#19d3f3\\\",\\\"#FF6692\\\",\\\"#B6E880\\\",\\\"#FF97FF\\\",\\\"#FECB52\\\"]},\\\"data\\\":{\\\"barpolar\\\":[{\\\"type\\\":\\\"barpolar\\\",\\\"marker\\\":{\\\"line\\\":{\\\"color\\\":\\\"#E5ECF6\\\",\\\"width\\\":0.5}}}],\\\"carpet\\\":[{\\\"aaxis\\\":{\\\"gridcolor\\\":\\\"white\\\",\\\"endlinecolor\\\":\\\"#2a3f5f\\\",\\\"minorgridcolor\\\":\\\"white\\\",\\\"startlinecolor\\\":\\\"#2a3f5f\\\",\\\"linecolor\\\":\\\"white\\\"},\\\"type\\\":\\\"carpet\\\",\\\"baxis\\\":{\\\"gridcolor\\\":\\\"white\\\",\\\"endlinecolor\\\":\\\"#2a3f5f\\\",\\\"minorgridcolor\\\":\\\"white\\\",\\\"startlinecolor\\\":\\\"#2a3f5f\\\",\\\"linecolor\\\":\\\"white\\\"}}],\\\"scatterpolar\\\":[{\\\"type\\\":\\\"scatterpolar\\\",\\\"marker\\\":{\\\"colorbar\\\":{\\\"ticks\\\":\\\"\\\",\\\"outlinewidth\\\":0}}}],\\\"parcoords\\\":[{\\\"line\\\":{\\\"colorbar\\\":{\\\"ticks\\\":\\\"\\\",\\\"outlinewidth\\\":0}},\\\"type\\\":\\\"parcoords\\\"}],\\\"scatter\\\":[{\\\"type\\\":\\\"scatter\\\",\\\"marker\\\":{\\\"colorbar\\\":{\\\"ticks\\\":\\\"\\\",\\\"outlinewidth\\\":0}}}],\\\"histogram2dcontour\\\":[{\\\"colorbar\\\":{\\\"ticks\\\":\\\"\\\",\\\"outlinewidth\\\":0},\\\"type\\\":\\\"histogram2dcontour\\\",\\\"colorscale\\\":[[0.0,\\\"#0d0887\\\"],[0.1111111111111111,\\\"#46039f\\\"],[0.2222222222222222,\\\"#7201a8\\\"],[0.3333333333333333,\\\"#9c179e\\\"],[0.4444444444444444,\\\"#bd3786\\\"],[0.5555555555555556,\\\"#d8576b\\\"],[0.6666666666666666,\\\"#ed7953\\\"],[0.7777777777777778,\\\"#fb9f3a\\\"],[0.8888888888888888,\\\"#fdca26\\\"],[1.0,\\\"#f0f921\\\"]]}],\\\"contour\\\":[{\\\"colorbar\\\":{\\\"ticks\\\":\\\"\\\",\\\"outlinewidth\\\":0},\\\"type\\\":\\\"contour\\\",\\\"colorscale\\\":[[0.0,\\\"#0d0887\\\"],[0.1111111111111111,\\\"#46039f\\\"],[0.2222222222222222,\\\"#7201a8\\\"],[0.3333333333333333,\\\"#9c179e\\\"],[0.4444444444444444,\\\"#bd3786\\\"],[0.5555555555555556,\\\"#d8576b\\\"],[0.6666666666666666,\\\"#ed7953\\\"],[0.7777777777777778,\\\"#fb9f3a\\\"],[0.8888888888888888,\\\"#fdca26\\\"],[1.0,\\\"#f0f921\\\"]]}],\\\"scattercarpet\\\":[{\\\"type\\\":\\\"scattercarpet\\\",\\\"marker\\\":{\\\"colorbar\\\":{\\\"ticks\\\":\\\"\\\",\\\"outlinewidth\\\":0}}}],\\\"mesh3d\\\":[{\\\"colorbar\\\":{\\\"ticks\\\":\\\"\\\",\\\"outlinewidth\\\":0},\\\"type\\\":\\\"mesh3d\\\"}],\\\"surface\\\":[{\\\"colorbar\\\":{\\\"ticks\\\":\\\"\\\",\\\"outlinewidth\\\":0},\\\"type\\\":\\\"surface\\\",\\\"colorscale\\\":[[0.0,\\\"#0d0887\\\"],[0.1111111111111111,\\\"#46039f\\\"],[0.2222222222222222,\\\"#7201a8\\\"],[0.3333333333333333,\\\"#9c179e\\\"],[0.4444444444444444,\\\"#bd3786\\\"],[0.5555555555555556,\\\"#d8576b\\\"],[0.6666666666666666,\\\"#ed7953\\\"],[0.7777777777777778,\\\"#fb9f3a\\\"],[0.8888888888888888,\\\"#fdca26\\\"],[1.0,\\\"#f0f921\\\"]]}],\\\"scattermapbox\\\":[{\\\"type\\\":\\\"scattermapbox\\\",\\\"marker\\\":{\\\"colorbar\\\":{\\\"ticks\\\":\\\"\\\",\\\"outlinewidth\\\":0}}}],\\\"scattergeo\\\":[{\\\"type\\\":\\\"scattergeo\\\",\\\"marker\\\":{\\\"colorbar\\\":{\\\"ticks\\\":\\\"\\\",\\\"outlinewidth\\\":0}}}],\\\"histogram\\\":[{\\\"type\\\":\\\"histogram\\\",\\\"marker\\\":{\\\"colorbar\\\":{\\\"ticks\\\":\\\"\\\",\\\"outlinewidth\\\":0}}}],\\\"pie\\\":[{\\\"type\\\":\\\"pie\\\",\\\"automargin\\\":true}],\\\"choropleth\\\":[{\\\"colorbar\\\":{\\\"ticks\\\":\\\"\\\",\\\"outlinewidth\\\":0},\\\"type\\\":\\\"choropleth\\\"}],\\\"heatmapgl\\\":[{\\\"colorbar\\\":{\\\"ticks\\\":\\\"\\\",\\\"outlinewidth\\\":0},\\\"type\\\":\\\"heatmapgl\\\",\\\"colorscale\\\":[[0.0,\\\"#0d0887\\\"],[0.1111111111111111,\\\"#46039f\\\"],[0.2222222222222222,\\\"#7201a8\\\"],[0.3333333333333333,\\\"#9c179e\\\"],[0.4444444444444444,\\\"#bd3786\\\"],[0.5555555555555556,\\\"#d8576b\\\"],[0.6666666666666666,\\\"#ed7953\\\"],[0.7777777777777778,\\\"#fb9f3a\\\"],[0.8888888888888888,\\\"#fdca26\\\"],[1.0,\\\"#f0f921\\\"]]}],\\\"bar\\\":[{\\\"type\\\":\\\"bar\\\",\\\"error_y\\\":{\\\"color\\\":\\\"#2a3f5f\\\"},\\\"error_x\\\":{\\\"color\\\":\\\"#2a3f5f\\\"},\\\"marker\\\":{\\\"line\\\":{\\\"color\\\":\\\"#E5ECF6\\\",\\\"width\\\":0.5}}}],\\\"heatmap\\\":[{\\\"colorbar\\\":{\\\"ticks\\\":\\\"\\\",\\\"outlinewidth\\\":0},\\\"type\\\":\\\"heatmap\\\",\\\"colorscale\\\":[[0.0,\\\"#0d0887\\\"],[0.1111111111111111,\\\"#46039f\\\"],[0.2222222222222222,\\\"#7201a8\\\"],[0.3333333333333333,\\\"#9c179e\\\"],[0.4444444444444444,\\\"#bd3786\\\"],[0.5555555555555556,\\\"#d8576b\\\"],[0.6666666666666666,\\\"#ed7953\\\"],[0.7777777777777778,\\\"#fb9f3a\\\"],[0.8888888888888888,\\\"#fdca26\\\"],[1.0,\\\"#f0f921\\\"]]}],\\\"contourcarpet\\\":[{\\\"colorbar\\\":{\\\"ticks\\\":\\\"\\\",\\\"outlinewidth\\\":0},\\\"type\\\":\\\"contourcarpet\\\"}],\\\"table\\\":[{\\\"type\\\":\\\"table\\\",\\\"header\\\":{\\\"line\\\":{\\\"color\\\":\\\"white\\\"},\\\"fill\\\":{\\\"color\\\":\\\"#C8D4E3\\\"}},\\\"cells\\\":{\\\"line\\\":{\\\"color\\\":\\\"white\\\"},\\\"fill\\\":{\\\"color\\\":\\\"#EBF0F8\\\"}}}],\\\"scatter3d\\\":[{\\\"line\\\":{\\\"colorbar\\\":{\\\"ticks\\\":\\\"\\\",\\\"outlinewidth\\\":0}},\\\"type\\\":\\\"scatter3d\\\",\\\"marker\\\":{\\\"colorbar\\\":{\\\"ticks\\\":\\\"\\\",\\\"outlinewidth\\\":0}}}],\\\"scattergl\\\":[{\\\"type\\\":\\\"scattergl\\\",\\\"marker\\\":{\\\"colorbar\\\":{\\\"ticks\\\":\\\"\\\",\\\"outlinewidth\\\":0}}}],\\\"histogram2d\\\":[{\\\"colorbar\\\":{\\\"ticks\\\":\\\"\\\",\\\"outlinewidth\\\":0},\\\"type\\\":\\\"histogram2d\\\",\\\"colorscale\\\":[[0.0,\\\"#0d0887\\\"],[0.1111111111111111,\\\"#46039f\\\"],[0.2222222222222222,\\\"#7201a8\\\"],[0.3333333333333333,\\\"#9c179e\\\"],[0.4444444444444444,\\\"#bd3786\\\"],[0.5555555555555556,\\\"#d8576b\\\"],[0.6666666666666666,\\\"#ed7953\\\"],[0.7777777777777778,\\\"#fb9f3a\\\"],[0.8888888888888888,\\\"#fdca26\\\"],[1.0,\\\"#f0f921\\\"]]}],\\\"scatterternary\\\":[{\\\"type\\\":\\\"scatterternary\\\",\\\"marker\\\":{\\\"colorbar\\\":{\\\"ticks\\\":\\\"\\\",\\\"outlinewidth\\\":0}}}],\\\"scatterpolargl\\\":[{\\\"type\\\":\\\"scatterpolargl\\\",\\\"marker\\\":{\\\"colorbar\\\":{\\\"ticks\\\":\\\"\\\",\\\"outlinewidth\\\":0}}}]}},\\\"height\\\":510,\\\"margin\\\":{\\\"l\\\":50,\\\"b\\\":50,\\\"r\\\":50,\\\"t\\\":60},\\\"title\\\":\\\"-K --> Γ --> K\\\",\\\"yaxis\\\":{\\\"showgrid\\\":true,\\\"showline\\\":true,\\\"showticklabels\\\":true,\\\"linewidth\\\":5,\\\"mirror\\\":true,\\\"linecolor\\\":\\\"black\\\"},\\\"plot_bgcolor\\\":\\\"rgba(0,0,0,0)\\\",\\\"width\\\":510},{\\\"showLink\\\":false,\\\"editable\\\":false,\\\"responsive\\\":true,\\\"staticPlot\\\":false,\\\"scrollZoom\\\":true}); gd.on(\\\"plotly_hover\\\",(function (data){var filtered_data=WebIO.PlotlyCommands.filterEventData(gd,data,\\\"hover\\\"); return !(filtered_data.isnil) ? (WebIO.setval({\\\"name\\\":\\\"hover\\\",\\\"scope\\\":\\\"6264721252195574133\\\",\\\"id\\\":\\\"61\\\",\\\"type\\\":\\\"observable\\\"},filtered_data.out)) : undefined})); gd.on(\\\"plotly_unhover\\\",(function (){return WebIO.setval({\\\"name\\\":\\\"hover\\\",\\\"scope\\\":\\\"6264721252195574133\\\",\\\"id\\\":\\\"61\\\",\\\"type\\\":\\\"observable\\\"},{})})); gd.on(\\\"plotly_selected\\\",(function (data){var filtered_data=WebIO.PlotlyCommands.filterEventData(gd,data,\\\"selected\\\"); return !(filtered_data.isnil) ? (WebIO.setval({\\\"name\\\":\\\"selected\\\",\\\"scope\\\":\\\"6264721252195574133\\\",\\\"id\\\":\\\"62\\\",\\\"type\\\":\\\"observable\\\"},filtered_data.out)) : undefined})); gd.on(\\\"plotly_deselect\\\",(function (){return WebIO.setval({\\\"name\\\":\\\"selected\\\",\\\"scope\\\":\\\"6264721252195574133\\\",\\\"id\\\":\\\"62\\\",\\\"type\\\":\\\"observable\\\"},{})})); gd.on(\\\"plotly_relayout\\\",(function (data){var filtered_data=WebIO.PlotlyCommands.filterEventData(gd,data,\\\"relayout\\\"); return !(filtered_data.isnil) ? (WebIO.setval({\\\"name\\\":\\\"relayout\\\",\\\"scope\\\":\\\"6264721252195574133\\\",\\\"id\\\":\\\"64\\\",\\\"type\\\":\\\"observable\\\"},filtered_data.out)) : undefined})); return gd.on(\\\"plotly_click\\\",(function (data){var filtered_data=WebIO.PlotlyCommands.filterEventData(gd,data,\\\"click\\\"); return !(filtered_data.isnil) ? (WebIO.setval({\\\"name\\\":\\\"click\\\",\\\"scope\\\":\\\"6264721252195574133\\\",\\\"id\\\":\\\"63\\\",\\\"type\\\":\\\"observable\\\"},filtered_data.out)) : undefined}))}));\\n    (WebIO.importBlock({\\\"data\\\":[{\\\"name\\\":\\\"Plotly\\\",\\\"type\\\":\\\"js\\\",\\\"url\\\":\\\"\\/assetserver\\/b267c3137400db01c304fe886fe6f707be7fdb37-plotly.min.js\\\"},{\\\"name\\\":null,\\\"type\\\":\\\"js\\\",\\\"url\\\":\\\"\\/assetserver\\/020f2e8a4619f2ae880fff9315e6547eef1aff0b-plotly_webio.bundle.js\\\"}],\\\"type\\\":\\\"async_block\\\"})).then((imports) => handler.apply(this, imports));\\n}\\n\"],\"observables\":{\"_toImage\":{\"sync\":false,\"id\":\"68\",\"value\":{}},\"hover\":{\"sync\":false,\"id\":\"61\",\"value\":{}},\"selected\":{\"sync\":false,\"id\":\"62\",\"value\":{}},\"__gd_contents\":{\"sync\":false,\"id\":\"66\",\"value\":{}},\"click\":{\"sync\":false,\"id\":\"63\",\"value\":{}},\"image\":{\"sync\":true,\"id\":\"65\",\"value\":\"\"},\"__get_gd_contents\":{\"sync\":false,\"id\":\"70\",\"value\":\"\"},\"_downloadImage\":{\"sync\":false,\"id\":\"69\",\"value\":{}},\"relayout\":{\"sync\":false,\"id\":\"64\",\"value\":{}},\"_commands\":{\"sync\":false,\"id\":\"67\",\"value\":[]}}},\"children\":[{\"props\":{\"id\":\"plot-3b315b6e-23e6-49f8-9b26-675451e489c4\"},\"nodeType\":\"DOM\",\"type\":\"node\",\"instanceArgs\":{\"namespace\":\"html\",\"tag\":\"div\"},\"children\":[]}]},\n",
       "        window,\n",
       "    );\n",
       "    })()\n",
       "    </script>\n",
       "</div>\n"
      ],
      "text/plain": [
       "data: [\n",
       "  \"scatter with fields line, mode, type, x, and y\",\n",
       "  \"scatter with fields line, mode, type, x, and y\",\n",
       "  \"scatter with fields line, mode, type, x, and y\"\n",
       "]\n",
       "\n",
       "layout: \"layout with fields height, margin, plot_bgcolor, showlegend, template, title, width, xaxis, and yaxis\"\n",
       "\n"
      ]
     },
     "metadata": {},
     "output_type": "display_data"
    }
   ],
   "source": [
    "let nps::Int = 100, t1Δ = 1.0, t2Δ = 0.5, t3Δ = 2.0, t1∇ = -1.5, t2∇ = 0.7, t3∇ = -0.3\n",
    "    p::Params = Params(t1Δ, t2Δ, t3Δ, t1∇, t2∇, t3∇)\n",
    "    println(\"t1Δ = \", p.t1Δ)\n",
    "    println(\"t2Δ = \", p.t2Δ)\n",
    "    println(\"t3Δ = \", p.t3Δ)\n",
    "    println(\"t1∇ = \", p.t1∇)\n",
    "    println(\"t2∇ = \", p.t2∇)\n",
    "    println(\"t3∇ = \", p.t3∇)\n",
    "    \n",
    "    kpath_nodes::Vector{SVector{2, Float64}} = [-high_symmetry_points[\"K\"], \n",
    "                    high_symmetry_points[\"Γ\"], \n",
    "                    high_symmetry_points[\"K\"]];\n",
    "    kpath_fbz::Vector{Vector{Float64}} = interpolate(kpath_nodes, nps);\n",
    "    kpath_fbz = [SVector{2, Float64}(v) for v ∈ kpath_fbz]\n",
    "    plot_simple_kagome_bands(;p = p, seedname = \"-K --> Γ --> K\", kpath = kpath_fbz, title = Nothing)\n",
    "end\n"
   ]
  },
  {
   "cell_type": "markdown",
   "metadata": {},
   "source": [
    "The band structure is still invariant under k --> -k. This arises from constraints from other symmetries. So, we need to take account of the full magnetic symmetry group to understand the model. One symmetry is obvious here, which is Time-Reversal symmetry. this forces the spectrum to be invariant as k --> -k \n",
    "Also, we note that in two-dimensions, there is no distinction between inversion and C2 (rotation by 180 degrees). We want to consider 1) proper rotations SO(2) and 2) Mirror (Reflections around certain lines), which have determinant -1 , so not topologically connected with elements in SO(2). "
   ]
  },
  {
   "cell_type": "code",
   "execution_count": 17,
   "metadata": {},
   "outputs": [
    {
     "name": "stdout",
     "output_type": "stream",
     "text": [
      "t1Δ = 1.0\n",
      "t2Δ = 0.5\n",
      "t3Δ = 2.0\n",
      "t1∇ = -1.5\n",
      "t2∇ = 0.7\n",
      "t3∇ = -0.3\n"
     ]
    },
    {
     "data": {
      "text/plain": [
       "3×3 SMatrix{3, 3, ComplexF64, 9} with indices SOneTo(3)×SOneTo(3):\n",
       " 0.0+0.0367317im  0.0-0.23im      0.0-0.276843im\n",
       " 0.0+0.439593im   0.0-0.922635im  0.0-0.84121im\n",
       " 0.0+0.0im        0.0+0.0im       0.0+0.0im"
      ]
     },
     "metadata": {},
     "output_type": "display_data"
    }
   ],
   "source": [
    "let t1Δ = 1.0, t2Δ = 0.5, t3Δ = 2.0, t1∇ = -1.5, t2∇ = 0.7, t3∇ = -0.3\n",
    "    p::Params = Params(t1Δ, t2Δ, t3Δ, t1∇, t2∇, t3∇)\n",
    "    println(\"t1Δ = \", p.t1Δ)\n",
    "    println(\"t2Δ = \", p.t2Δ)\n",
    "    println(\"t3Δ = \", p.t3Δ)\n",
    "    println(\"t1∇ = \", p.t1∇)\n",
    "    println(\"t2∇ = \", p.t2∇)\n",
    "    println(\"t3∇ = \", p.t3∇)\n",
    "    K::Vector{Float64} = high_symmetry_points[\"K\"]\n",
    "    Γ::Vector{Float64} = high_symmetry_points[\"Γ\"]\n",
    "    \n",
    "    (E, U) = EigensystemHamBreathingKagomeNoSOC(K, p)\n",
    "    (E′, U′) = EigensystemHamBreathingKagomeNoSOC(-K, p)\n",
    "    U - U′\n",
    "end\n"
   ]
  },
  {
   "cell_type": "code",
   "execution_count": 18,
   "metadata": {},
   "outputs": [
    {
     "name": "stdout",
     "output_type": "stream",
     "text": [
      "t1Δ = 1.0\n",
      "t2Δ = 1.0\n",
      "t3Δ = 1.0\n",
      "t1∇ = 1.5\n",
      "t2∇ = 1.5\n",
      "t3∇ = 1.5\n"
     ]
    },
    {
     "data": {
      "text/plain": [
       "3×3 SMatrix{3, 3, ComplexF64, 9} with indices SOneTo(3)×SOneTo(3):\n",
       " 0.0+1.0im  0.0+1.11022e-15im  0.0+1.0im\n",
       " 0.0-1.0im  0.0-3.33067e-16im  0.0-1.0im\n",
       " 0.0+0.0im  0.0+0.0im          0.0+0.0im"
      ]
     },
     "metadata": {},
     "output_type": "display_data"
    }
   ],
   "source": [
    "let t1Δ = 1.0, t2Δ = 1.0, t3Δ = 1.0, t1∇ = 1.5, t2∇ = 1.5, t3∇ = 1.5\n",
    "    p::Params = Params(t1Δ, t2Δ, t3Δ, t1∇, t2∇, t3∇)\n",
    "    println(\"t1Δ = \", p.t1Δ)\n",
    "    println(\"t2Δ = \", p.t2Δ)\n",
    "    println(\"t3Δ = \", p.t3Δ)\n",
    "    println(\"t1∇ = \", p.t1∇)\n",
    "    println(\"t2∇ = \", p.t2∇)\n",
    "    println(\"t3∇ = \", p.t3∇)\n",
    "    K::Vector{Float64} = high_symmetry_points[\"K\"]\n",
    "    Γ::Vector{Float64} = high_symmetry_points[\"Γ\"]\n",
    "    \n",
    "    (E, U) = EigensystemHamBreathingKagomeNoSOC(K, p)\n",
    "    (E′, U′) = EigensystemHamBreathingKagomeNoSOC(-K, p)\n",
    "    U - U′\n",
    "end\n"
   ]
  },
  {
   "cell_type": "code",
   "execution_count": 19,
   "metadata": {},
   "outputs": [
    {
     "name": "stdout",
     "output_type": "stream",
     "text": [
      "t1Δ = 1.0\n",
      "t2Δ = 1.0\n",
      "t3Δ = 1.0\n",
      "t1∇ = 1.0\n",
      "t2∇ = 1.0\n",
      "t3∇ = 1.0\n"
     ]
    },
    {
     "data": {
      "text/plain": [
       "3×3 SMatrix{3, 3, ComplexF64, 9} with indices SOneTo(3)×SOneTo(3):\n",
       " 0.0+1.0im  0.0+0.707107im  0.0+0.868327im\n",
       " 0.0-1.0im  0.0-0.707107im  0.0+1.40086im\n",
       " 0.0+0.0im  0.0+0.0im       0.0+0.0im"
      ]
     },
     "metadata": {},
     "output_type": "display_data"
    }
   ],
   "source": [
    "let t1Δ = 1.0, t2Δ = 1.0, t3Δ = 1.0, t1∇ = 1.0, t2∇ = 1.0, t3∇ = 1.0\n",
    "    p::Params = Params(t1Δ, t2Δ, t3Δ, t1∇, t2∇, t3∇)\n",
    "    println(\"t1Δ = \", p.t1Δ)\n",
    "    println(\"t2Δ = \", p.t2Δ)\n",
    "    println(\"t3Δ = \", p.t3Δ)\n",
    "    println(\"t1∇ = \", p.t1∇)\n",
    "    println(\"t2∇ = \", p.t2∇)\n",
    "    println(\"t3∇ = \", p.t3∇)\n",
    "    K::Vector{Float64} = high_symmetry_points[\"K\"]\n",
    "    Γ::Vector{Float64} = high_symmetry_points[\"Γ\"]\n",
    "    \n",
    "    (E, U) = EigensystemHamBreathingKagomeNoSOC(K, p)\n",
    "    (E′, U′) = EigensystemHamBreathingKagomeNoSOC(-K, p)\n",
    "    U - U′\n",
    "end\n"
   ]
  },
  {
   "cell_type": "markdown",
   "metadata": {},
   "source": [
    "In the ideal kagome system, the symmetry generators (ignoring time-reversal symmetry and translation symmetry) are: C2, C3 (together form C6), and a Mirror symmetry. Taking into account translations, this leads to G_0 = p6mm. The mm means that there are two independent mirror lines "
   ]
  },
  {
   "cell_type": "code",
   "execution_count": 20,
   "metadata": {},
   "outputs": [
    {
     "data": {
      "text/plain": [
       "TestC3Symmetry (generic function with 1 method)"
      ]
     },
     "metadata": {},
     "output_type": "display_data"
    }
   ],
   "source": [
    "using Random\n",
    "@inline function TestTimeReversalSymmetrySpinless(;p::Params, nps::Int, tol::Float64 = 1e-4)\n",
    "    \"\"\"\n",
    "    Check whether the system has time-reversal symmetry -- We use the Frobenius norm \n",
    "    \"\"\"\n",
    "    v = Vector{Float64}(undef, nps)\n",
    "    rand_kpoints::Vector{SVector{2, Float64}} = [rand(-π:π, 2) for i ∈ 1:nps]\n",
    "    for (i, k) ∈ enumerate(rand_kpoints)\n",
    "        v[i] = norm(HamBreathingKagomeNoSOC(k, p) - conj.(HamBreathingKagomeNoSOC(-k, p))) # Frobenius\n",
    "    end\n",
    "    res::Float64 = norm(v)\n",
    "    if (res > tol)\n",
    "        println(\"Symmetry is broken, Frobenius norm = \", res)\n",
    "    else\n",
    "        println(\"Symmetry is preserved, Frobenius norm = \", res)\n",
    "    end\n",
    "end\n",
    "\n",
    "@inline function TestC3Symmetry(;p::Params, nps::Int, tol::Float64 = 1e-4)\n",
    "    \"\"\"\n",
    "    Check whether the system has time-reversal symmetry -- We use the Frobenius norm \n",
    "    \"\"\"\n",
    "\n",
    "    println(\"\\n\")\n",
    "    println(\"--- Checking C_3 symmetry. \")\n",
    "    println(\"\\n\")\n",
    "\n",
    "    v = Vector{Float64}(undef, nps)\n",
    "    rand_kpoints::Vector{SVector{2, Float64}} = [rand(-π:π, 2) for i ∈ 1:nps]\n",
    "    for (i, k) ∈ enumerate(rand_kpoints)\n",
    "        v[i] = norm(HamBreathingKagomeNoSOC(k, p) - C3_abc * HamBreathingKagomeNoSOC(C_3' * k, p) * inv(C3_abc)) # Frobenius\n",
    "        @printf(\"%-17s %03d %-20s %10.4f\\n\", \"random k-point #\", i, \"   , Frobenius norm at k-point:\", v[i])\n",
    "    end\n",
    "    println(\"\\n\")\n",
    "    res::Float64 = norm(v)\n",
    "    if (res > tol)\n",
    "        println(\"Symmetry is broken, Frobenius norm = \", res)\n",
    "    else\n",
    "        println(\"Symmetry is preserved, Frobenius norm = \", res)\n",
    "    end\n",
    "end"
   ]
  },
  {
   "cell_type": "code",
   "execution_count": 21,
   "metadata": {},
   "outputs": [
    {
     "name": "stdout",
     "output_type": "stream",
     "text": [
      "t1Δ = 1.0\n",
      "t2Δ = 1.0\n",
      "t3Δ = 1.0\n",
      "t1∇ = 1.0\n",
      "t2∇ = 1.0\n",
      "t3∇ = 1.0\n",
      "Symmetry is preserved, Frobenius norm = 0.0\n"
     ]
    }
   ],
   "source": [
    "let t1Δ = 1.0, t2Δ = 1.0, t3Δ = 1.0, t1∇ = 1.0, t2∇ = 1.0, t3∇ = 1.0\n",
    "    p::Params = Params(t1Δ, t2Δ, t3Δ, t1∇, t2∇, t3∇)\n",
    "    println(\"t1Δ = \", p.t1Δ)\n",
    "    println(\"t2Δ = \", p.t2Δ)\n",
    "    println(\"t3Δ = \", p.t3Δ)\n",
    "    println(\"t1∇ = \", p.t1∇)\n",
    "    println(\"t2∇ = \", p.t2∇)\n",
    "    println(\"t3∇ = \", p.t3∇)\n",
    "    TestTimeReversalSymmetrySpinless(p = p, nps = 100)\n",
    "end\n"
   ]
  },
  {
   "cell_type": "code",
   "execution_count": 22,
   "metadata": {},
   "outputs": [
    {
     "name": "stdout",
     "output_type": "stream",
     "text": [
      "t1Δ = 1.0\n",
      "t2Δ = 1.0\n",
      "t3Δ = 1.0\n",
      "t1∇ = 1.0\n",
      "t2∇ = 1.0\n",
      "t3∇ = 1.0\n",
      "\n",
      "\n",
      "--- Checking C_3 symmetry. \n",
      "\n",
      "\n",
      "random k-point #  001    , Frobenius norm at k-point:     0.0000\n",
      "random k-point #  002    , Frobenius norm at k-point:     0.0000\n",
      "random k-point #  003    , Frobenius norm at k-point:     0.0000\n",
      "random k-point #  004    , Frobenius norm at k-point:     0.0000\n",
      "random k-point #  005    , Frobenius norm at k-point:     0.0000\n",
      "random k-point #  006    , Frobenius norm at k-point:     0.0000\n",
      "random k-point #  007    , Frobenius norm at k-point:     0.0000\n",
      "random k-point #  008    , Frobenius norm at k-point:     0.0000\n",
      "random k-point #  009    , Frobenius norm at k-point:     0.0000\n",
      "random k-point #  010    , Frobenius norm at k-point:     0.0000\n",
      "random k-point #  011    , Frobenius norm at k-point:     0.0000\n",
      "random k-point #  012    , Frobenius norm at k-point:     0.0000\n",
      "random k-point #  013    , Frobenius norm at k-point:     0.0000\n",
      "random k-point #  014    , Frobenius norm at k-point:     0.0000\n",
      "random k-point #  015    , Frobenius norm at k-point:     0.0000\n",
      "random k-point #  016    , Frobenius norm at k-point:     0.0000\n",
      "random k-point #  017    , Frobenius norm at k-point:     0.0000\n",
      "random k-point #  018    , Frobenius norm at k-point:     0.0000\n",
      "random k-point #  019    , Frobenius norm at k-point:     0.0000\n",
      "random k-point #  020    , Frobenius norm at k-point:     0.0000\n",
      "random k-point #  021    , Frobenius norm at k-point:     0.0000\n",
      "random k-point #  022    , Frobenius norm at k-point:     0.0000\n",
      "random k-point #  023    , Frobenius norm at k-point:     0.0000\n",
      "random k-point #  024    , Frobenius norm at k-point:     0.0000\n",
      "random k-point #  025    , Frobenius norm at k-point:     0.0000\n",
      "random k-point #  026    , Frobenius norm at k-point:     0.0000\n",
      "random k-point #  027    , Frobenius norm at k-point:     0.0000\n",
      "random k-point #  028    , Frobenius norm at k-point:     0.0000\n",
      "random k-point #  029    , Frobenius norm at k-point:     0.0000\n",
      "random k-point #  030    , Frobenius norm at k-point:     0.0000\n",
      "random k-point #  031    , Frobenius norm at k-point:     0.0000\n",
      "random k-point #  032    , Frobenius norm at k-point:     0.0000\n",
      "random k-point #  033    , Frobenius norm at k-point:     0.0000\n",
      "random k-point #  034    , Frobenius norm at k-point:     0.0000\n",
      "random k-point #  035    , Frobenius norm at k-point:     0.0000\n",
      "random k-point #  036    , Frobenius norm at k-point:     0.0000\n",
      "random k-point #  037    , Frobenius norm at k-point:     0.0000\n",
      "random k-point #  038    , Frobenius norm at k-point:     0.0000\n",
      "random k-point #  039    , Frobenius norm at k-point:     0.0000\n",
      "random k-point #  040    , Frobenius norm at k-point:     0.0000\n",
      "random k-point #  041    , Frobenius norm at k-point:     0.0000\n",
      "random k-point #  042    , Frobenius norm at k-point:     0.0000\n",
      "random k-point #  043    , Frobenius norm at k-point:     0.0000\n",
      "random k-point #  044    , Frobenius norm at k-point:     0.0000\n",
      "random k-point #  045    , Frobenius norm at k-point:     0.0000\n",
      "random k-point #  046    , Frobenius norm at k-point:     0.0000\n",
      "random k-point #  047    , Frobenius norm at k-point:     0.0000\n",
      "random k-point #  048    , Frobenius norm at k-point:     0.0000\n",
      "random k-point #  049    , Frobenius norm at k-point:     0.0000\n",
      "random k-point #  050    , Frobenius norm at k-point:     0.0000\n",
      "random k-point #  051    , Frobenius norm at k-point:     0.0000\n",
      "random k-point #  052    , Frobenius norm at k-point:     0.0000\n",
      "random k-point #  053    , Frobenius norm at k-point:     0.0000\n",
      "random k-point #  054    , Frobenius norm at k-point:     0.0000\n",
      "random k-point #  055    , Frobenius norm at k-point:     0.0000\n",
      "random k-point #  056    , Frobenius norm at k-point:     0.0000\n",
      "random k-point #  057    , Frobenius norm at k-point:     0.0000\n",
      "random k-point #  058    , Frobenius norm at k-point:     0.0000\n",
      "random k-point #  059    , Frobenius norm at k-point:     0.0000\n",
      "random k-point #  060    , Frobenius norm at k-point:     0.0000\n",
      "random k-point #  061    , Frobenius norm at k-point:     0.0000\n",
      "random k-point #  062    , Frobenius norm at k-point:     0.0000\n",
      "random k-point #  063    , Frobenius norm at k-point:     0.0000\n",
      "random k-point #  064    , Frobenius norm at k-point:     0.0000\n",
      "random k-point #  065    , Frobenius norm at k-point:     0.0000\n",
      "random k-point #  066    , Frobenius norm at k-point:     0.0000\n",
      "random k-point #  067    , Frobenius norm at k-point:     0.0000\n",
      "random k-point #  068    , Frobenius norm at k-point:     0.0000\n",
      "random k-point #  069    , Frobenius norm at k-point:     0.0000\n",
      "random k-point #  070    , Frobenius norm at k-point:     0.0000\n",
      "random k-point #  071    , Frobenius norm at k-point:     0.0000\n",
      "random k-point #  072    , Frobenius norm at k-point:     0.0000\n",
      "random k-point #  073    , Frobenius norm at k-point:     0.0000\n",
      "random k-point #  074    , Frobenius norm at k-point:     0.0000\n",
      "random k-point #  075    , Frobenius norm at k-point:     0.0000\n",
      "random k-point #  076    , Frobenius norm at k-point:     0.0000\n",
      "random k-point #  077    , Frobenius norm at k-point:     0.0000\n",
      "random k-point #  078    , Frobenius norm at k-point:     0.0000\n",
      "random k-point #  079    , Frobenius norm at k-point:     0.0000\n",
      "random k-point #  080    , Frobenius norm at k-point:     0.0000\n",
      "random k-point #  081    , Frobenius norm at k-point:     0.0000\n",
      "random k-point #  082    , Frobenius norm at k-point:     0.0000\n",
      "random k-point #  083    , Frobenius norm at k-point:     0.0000\n",
      "random k-point #  084    , Frobenius norm at k-point:     0.0000\n",
      "random k-point #  085    , Frobenius norm at k-point:     0.0000\n",
      "random k-point #  086    , Frobenius norm at k-point:     0.0000\n",
      "random k-point #  087    , Frobenius norm at k-point:     0.0000\n",
      "random k-point #  088    , Frobenius norm at k-point:     0.0000\n",
      "random k-point #  089    , Frobenius norm at k-point:     0.0000\n",
      "random k-point #  090    , Frobenius norm at k-point:     0.0000\n",
      "random k-point #  091    , Frobenius norm at k-point:     0.0000\n",
      "random k-point #  092    , Frobenius norm at k-point:     0.0000\n",
      "random k-point #  093    , Frobenius norm at k-point:     0.0000\n",
      "random k-point #  094    , Frobenius norm at k-point:     0.0000\n",
      "random k-point #  095    , Frobenius norm at k-point:     0.0000\n",
      "random k-point #  096    , Frobenius norm at k-point:     0.0000\n",
      "random k-point #  097    , Frobenius norm at k-point:     0.0000\n",
      "random k-point #  098    , Frobenius norm at k-point:     0.0000\n",
      "random k-point #  099    , Frobenius norm at k-point:     0.0000\n",
      "random k-point #  100    , Frobenius norm at k-point:     0.0000\n",
      "\n",
      "\n",
      "Symmetry is preserved, Frobenius norm = 1.2240492063375124e-14\n"
     ]
    }
   ],
   "source": [
    "let t1Δ = 1.0, t2Δ = 1.0, t3Δ = 1.0, t1∇ = 1.0, t2∇ = 1.0, t3∇ = 1.0\n",
    "    p::Params = Params(t1Δ, t2Δ, t3Δ, t1∇, t2∇, t3∇)\n",
    "    println(\"t1Δ = \", p.t1Δ)\n",
    "    println(\"t2Δ = \", p.t2Δ)\n",
    "    println(\"t3Δ = \", p.t3Δ)\n",
    "    println(\"t1∇ = \", p.t1∇)\n",
    "    println(\"t2∇ = \", p.t2∇)\n",
    "    println(\"t3∇ = \", p.t3∇)\n",
    "    TestC3Symmetry(p = p, nps = 100)\n",
    "end\n"
   ]
  },
  {
   "cell_type": "code",
   "execution_count": 23,
   "metadata": {},
   "outputs": [
    {
     "name": "stdout",
     "output_type": "stream",
     "text": [
      "t1Δ = 1.0\n",
      "t2Δ = 1.0\n",
      "t3Δ = 1.0\n",
      "t1∇ = 3.5\n",
      "t2∇ = 5.5\n",
      "t3∇ = 0.5\n",
      "\n",
      "\n",
      "--- Checking C_3 symmetry. \n",
      "\n",
      "\n",
      "random k-point #  001    , Frobenius norm at k-point:     8.7178\n",
      "random k-point #  002    , Frobenius norm at k-point:     8.7178\n",
      "random k-point #  003    , Frobenius norm at k-point:     8.7178\n",
      "random k-point #  004    , Frobenius norm at k-point:     8.7178\n",
      "random k-point #  005    , Frobenius norm at k-point:     8.7178\n",
      "random k-point #  006    , Frobenius norm at k-point:     8.7178\n",
      "random k-point #  007    , Frobenius norm at k-point:     8.7178\n",
      "random k-point #  008    , Frobenius norm at k-point:     8.7178\n",
      "random k-point #  009    , Frobenius norm at k-point:     8.7178\n",
      "random k-point #  010    , Frobenius norm at k-point:     8.7178\n",
      "random k-point #  011    , Frobenius norm at k-point:     8.7178\n",
      "random k-point #  012    , Frobenius norm at k-point:     8.7178\n",
      "random k-point #  013    , Frobenius norm at k-point:     8.7178\n",
      "random k-point #  014    , Frobenius norm at k-point:     8.7178\n",
      "random k-point #  015    , Frobenius norm at k-point:     8.7178\n",
      "random k-point #  016    , Frobenius norm at k-point:     8.7178\n",
      "random k-point #  017    , Frobenius norm at k-point:     8.7178\n",
      "random k-point #  018    , Frobenius norm at k-point:     8.7178\n",
      "random k-point #  019    , Frobenius norm at k-point:     8.7178\n",
      "random k-point #  020    , Frobenius norm at k-point:     8.7178\n",
      "random k-point #  021    , Frobenius norm at k-point:     8.7178\n",
      "random k-point #  022    , Frobenius norm at k-point:     8.7178\n",
      "random k-point #  023    , Frobenius norm at k-point:     8.7178\n",
      "random k-point #  024    , Frobenius norm at k-point:     8.7178\n",
      "random k-point #  025    , Frobenius norm at k-point:     8.7178\n",
      "random k-point #  026    , Frobenius norm at k-point:     8.7178\n",
      "random k-point #  027    , Frobenius norm at k-point:     8.7178\n",
      "random k-point #  028    , Frobenius norm at k-point:     8.7178\n",
      "random k-point #  029    , Frobenius norm at k-point:     8.7178\n",
      "random k-point #  030    , Frobenius norm at k-point:     8.7178\n",
      "random k-point #  031    , Frobenius norm at k-point:     8.7178\n",
      "random k-point #  032    , Frobenius norm at k-point:     8.7178\n",
      "random k-point #  033    , Frobenius norm at k-point:     8.7178\n",
      "random k-point #  034    , Frobenius norm at k-point:     8.7178\n",
      "random k-point #  035    , Frobenius norm at k-point:     8.7178\n",
      "random k-point #  036    , Frobenius norm at k-point:     8.7178\n",
      "random k-point #  037    , Frobenius norm at k-point:     8.7178\n",
      "random k-point #  038    , Frobenius norm at k-point:     8.7178\n",
      "random k-point #  039    , Frobenius norm at k-point:     8.7178\n",
      "random k-point #  040    , Frobenius norm at k-point:     8.7178\n",
      "random k-point #  041    , Frobenius norm at k-point:     8.7178\n",
      "random k-point #  042    , Frobenius norm at k-point:     8.7178\n",
      "random k-point #  043    , Frobenius norm at k-point:     8.7178\n",
      "random k-point #  044    , Frobenius norm at k-point:     8.7178\n",
      "random k-point #  045    , Frobenius norm at k-point:     8.7178\n",
      "random k-point #  046    , Frobenius norm at k-point:     8.7178\n",
      "random k-point #  047    , Frobenius norm at k-point:     8.7178\n",
      "random k-point #  048    , Frobenius norm at k-point:     8.7178\n",
      "random k-point #  049    , Frobenius norm at k-point:     8.7178\n",
      "random k-point #  050    , Frobenius norm at k-point:     8.7178\n",
      "random k-point #  051    , Frobenius norm at k-point:     8.7178\n",
      "random k-point #  052    , Frobenius norm at k-point:     8.7178\n",
      "random k-point #  053    , Frobenius norm at k-point:     8.7178\n",
      "random k-point #  054    , Frobenius norm at k-point:     8.7178\n",
      "random k-point #  055    , Frobenius norm at k-point:     8.7178\n",
      "random k-point #  056    , Frobenius norm at k-point:     8.7178\n",
      "random k-point #  057    , Frobenius norm at k-point:     8.7178\n",
      "random k-point #  058    , Frobenius norm at k-point:     8.7178\n",
      "random k-point #  059    , Frobenius norm at k-point:     8.7178\n",
      "random k-point #  060    , Frobenius norm at k-point:     8.7178\n",
      "random k-point #  061    , Frobenius norm at k-point:     8.7178\n",
      "random k-point #  062    , Frobenius norm at k-point:     8.7178\n",
      "random k-point #  063    , Frobenius norm at k-point:     8.7178\n",
      "random k-point #  064    , Frobenius norm at k-point:     8.7178\n",
      "random k-point #  065    , Frobenius norm at k-point:     8.7178\n",
      "random k-point #  066    , Frobenius norm at k-point:     8.7178\n",
      "random k-point #  067    , Frobenius norm at k-point:     8.7178\n",
      "random k-point #  068    , Frobenius norm at k-point:     8.7178\n",
      "random k-point #  069    , Frobenius norm at k-point:     8.7178\n",
      "random k-point #  070    , Frobenius norm at k-point:     8.7178\n",
      "random k-point #  071    , Frobenius norm at k-point:     8.7178\n",
      "random k-point #  072    , Frobenius norm at k-point:     8.7178\n",
      "random k-point #  073    , Frobenius norm at k-point:     8.7178\n",
      "random k-point #  074    , Frobenius norm at k-point:     8.7178\n",
      "random k-point #  075    , Frobenius norm at k-point:     8.7178\n",
      "random k-point #  076    , Frobenius norm at k-point:     8.7178\n",
      "random k-point #  077    , Frobenius norm at k-point:     8.7178\n",
      "random k-point #  078    , Frobenius norm at k-point:     8.7178\n",
      "random k-point #  079    , Frobenius norm at k-point:     8.7178\n",
      "random k-point #  080    , Frobenius norm at k-point:     8.7178\n",
      "random k-point #  081    , Frobenius norm at k-point:     8.7178\n",
      "random k-point #  082    , Frobenius norm at k-point:     8.7178\n",
      "random k-point #  083    , Frobenius norm at k-point:     8.7178\n",
      "random k-point #  084    , Frobenius norm at k-point:     8.7178\n",
      "random k-point #  085    , Frobenius norm at k-point:     8.7178\n",
      "random k-point #  086    , Frobenius norm at k-point:     8.7178\n",
      "random k-point #  087    , Frobenius norm at k-point:     8.7178\n",
      "random k-point #  088    , Frobenius norm at k-point:     8.7178\n",
      "random k-point #  089    , Frobenius norm at k-point:     8.7178\n",
      "random k-point #  090    , Frobenius norm at k-point:     8.7178\n",
      "random k-point #  091    , Frobenius norm at k-point:     8.7178\n",
      "random k-point #  092    , Frobenius norm at k-point:     8.7178\n",
      "random k-point #  093    , Frobenius norm at k-point:     8.7178\n",
      "random k-point #  094    , Frobenius norm at k-point:     8.7178\n",
      "random k-point #  095    , Frobenius norm at k-point:     8.7178\n",
      "random k-point #  096    , Frobenius norm at k-point:     8.7178\n",
      "random k-point #  097    , Frobenius norm at k-point:     8.7178\n",
      "random k-point #  098    , Frobenius norm at k-point:     8.7178\n",
      "random k-point #  099    , Frobenius norm at k-point:     8.7178\n",
      "random k-point #  100    , Frobenius norm at k-point:     8.7178\n",
      "\n",
      "\n",
      "Symmetry is broken, Frobenius norm = 87.17797887081348\n"
     ]
    }
   ],
   "source": [
    "let t1Δ = 1.0, t2Δ = 1.0, t3Δ = 1.0, t1∇ = 3.5, t2∇ = 5.5, t3∇ = 0.5\n",
    "    p::Params = Params(t1Δ, t2Δ, t3Δ, t1∇, t2∇, t3∇)\n",
    "    println(\"t1Δ = \", p.t1Δ)\n",
    "    println(\"t2Δ = \", p.t2Δ)\n",
    "    println(\"t3Δ = \", p.t3Δ)\n",
    "    println(\"t1∇ = \", p.t1∇)\n",
    "    println(\"t2∇ = \", p.t2∇)\n",
    "    println(\"t3∇ = \", p.t3∇)\n",
    "    TestC3Symmetry(p = p, nps = 100)\n",
    "end\n"
   ]
  },
  {
   "cell_type": "code",
   "execution_count": 24,
   "metadata": {},
   "outputs": [
    {
     "name": "stdout",
     "output_type": "stream",
     "text": [
      "t1Δ = 1.0\n",
      "t2Δ = 2.0\n",
      "t3Δ = 0.7\n",
      "t1∇ = 0.5\n",
      "t2∇ = 7.5\n",
      "t3∇ = -1.5\n",
      "\n",
      "\n",
      "--- Checking C_3 symmetry. \n",
      "\n",
      "\n",
      "random k-point #  001    , Frobenius norm at k-point:    15.7932\n",
      "random k-point #  002    , Frobenius norm at k-point:    16.9760\n",
      "random k-point #  003    , Frobenius norm at k-point:    14.9736\n",
      "random k-point #  004    , Frobenius norm at k-point:    15.8775\n",
      "random k-point #  005    , Frobenius norm at k-point:    15.4220\n",
      "random k-point #  006    , Frobenius norm at k-point:    15.4220\n",
      "random k-point #  007    , Frobenius norm at k-point:    18.1903\n",
      "random k-point #  008    , Frobenius norm at k-point:    14.6904\n",
      "random k-point #  009    , Frobenius norm at k-point:    14.9736\n",
      "random k-point #  010    , Frobenius norm at k-point:    18.1449\n",
      "random k-point #  011    , Frobenius norm at k-point:    16.2389\n",
      "random k-point #  012    , Frobenius norm at k-point:    17.2234\n",
      "random k-point #  013    , Frobenius norm at k-point:    17.2118\n",
      "random k-point #  014    , Frobenius norm at k-point:    15.8775\n",
      "random k-point #  015    , Frobenius norm at k-point:    14.1843\n",
      "random k-point #  016    , Frobenius norm at k-point:    14.2315\n",
      "random k-point #  017    , Frobenius norm at k-point:    16.9295\n",
      "random k-point #  018    , Frobenius norm at k-point:    18.1903\n",
      "random k-point #  019    , Frobenius norm at k-point:    18.3107\n",
      "random k-point #  020    , Frobenius norm at k-point:    14.6803\n",
      "random k-point #  021    , Frobenius norm at k-point:    17.2118\n",
      "random k-point #  022    , Frobenius norm at k-point:    17.4341\n",
      "random k-point #  023    , Frobenius norm at k-point:    16.3740\n",
      "random k-point #  024    , Frobenius norm at k-point:    15.8775\n",
      "random k-point #  025    , Frobenius norm at k-point:    14.9407\n",
      "random k-point #  026    , Frobenius norm at k-point:    16.2619\n",
      "random k-point #  027    , Frobenius norm at k-point:    17.0068\n",
      "random k-point #  028    , Frobenius norm at k-point:    16.1739\n",
      "random k-point #  029    , Frobenius norm at k-point:    14.9407\n",
      "random k-point #  030    , Frobenius norm at k-point:    16.1134\n",
      "random k-point #  031    , Frobenius norm at k-point:    16.2619\n",
      "random k-point #  032    , Frobenius norm at k-point:    17.4341\n",
      "random k-point #  033    , Frobenius norm at k-point:    18.3658\n",
      "random k-point #  034    , Frobenius norm at k-point:    18.7182\n",
      "random k-point #  035    , Frobenius norm at k-point:    16.1134\n",
      "random k-point #  036    , Frobenius norm at k-point:    18.3107\n",
      "random k-point #  037    , Frobenius norm at k-point:    16.3740\n",
      "random k-point #  038    , Frobenius norm at k-point:    18.3658\n",
      "random k-point #  039    , Frobenius norm at k-point:    16.2619\n",
      "random k-point #  040    , Frobenius norm at k-point:    18.1111\n",
      "random k-point #  041    , Frobenius norm at k-point:    18.1449\n",
      "random k-point #  042    , Frobenius norm at k-point:    18.1903\n",
      "random k-point #  043    , Frobenius norm at k-point:    16.9295\n",
      "random k-point #  044    , Frobenius norm at k-point:    15.9004\n",
      "random k-point #  045    , Frobenius norm at k-point:    16.7790\n",
      "random k-point #  046    , Frobenius norm at k-point:    16.8121\n",
      "random k-point #  047    , Frobenius norm at k-point:    18.2758\n",
      "random k-point #  048    , Frobenius norm at k-point:    18.2758\n",
      "random k-point #  049    , Frobenius norm at k-point:    18.3658\n",
      "random k-point #  050    , Frobenius norm at k-point:    17.5669\n",
      "random k-point #  051    , Frobenius norm at k-point:    18.7182\n",
      "random k-point #  052    , Frobenius norm at k-point:    18.3107\n",
      "random k-point #  053    , Frobenius norm at k-point:    17.0068\n",
      "random k-point #  054    , Frobenius norm at k-point:    14.2315\n",
      "random k-point #  055    , Frobenius norm at k-point:    18.1903\n",
      "random k-point #  056    , Frobenius norm at k-point:    16.2619\n",
      "random k-point #  057    , Frobenius norm at k-point:    17.0068\n",
      "random k-point #  058    , Frobenius norm at k-point:    17.5669\n",
      "random k-point #  059    , Frobenius norm at k-point:    15.9004\n",
      "random k-point #  060    , Frobenius norm at k-point:    16.0383\n",
      "random k-point #  061    , Frobenius norm at k-point:    16.0552\n",
      "random k-point #  062    , Frobenius norm at k-point:    14.9736\n",
      "random k-point #  063    , Frobenius norm at k-point:    16.1739\n",
      "random k-point #  064    , Frobenius norm at k-point:    17.0438\n",
      "random k-point #  065    , Frobenius norm at k-point:    14.2315\n",
      "random k-point #  066    , Frobenius norm at k-point:    14.1843\n",
      "random k-point #  067    , Frobenius norm at k-point:    17.0455\n",
      "random k-point #  068    , Frobenius norm at k-point:    16.1739\n",
      "random k-point #  069    , Frobenius norm at k-point:    16.2619\n",
      "random k-point #  070    , Frobenius norm at k-point:    14.9124\n",
      "random k-point #  071    , Frobenius norm at k-point:    16.9295\n",
      "random k-point #  072    , Frobenius norm at k-point:    17.3047\n",
      "random k-point #  073    , Frobenius norm at k-point:    14.9407\n",
      "random k-point #  074    , Frobenius norm at k-point:    16.3823\n",
      "random k-point #  075    , Frobenius norm at k-point:    15.8775\n",
      "random k-point #  076    , Frobenius norm at k-point:    16.2389\n",
      "random k-point #  077    , Frobenius norm at k-point:    17.6456\n",
      "random k-point #  078    , Frobenius norm at k-point:    18.3107\n",
      "random k-point #  079    , Frobenius norm at k-point:    16.7790\n",
      "random k-point #  080    , Frobenius norm at k-point:    15.9004\n",
      "random k-point #  081    , Frobenius norm at k-point:    14.2315\n",
      "random k-point #  082    , Frobenius norm at k-point:    14.6803\n",
      "random k-point #  083    , Frobenius norm at k-point:    14.9407\n",
      "random k-point #  084    , Frobenius norm at k-point:    17.3212\n",
      "random k-point #  085    , Frobenius norm at k-point:    15.8775\n",
      "random k-point #  086    , Frobenius norm at k-point:    14.6904\n",
      "random k-point #  087    , Frobenius norm at k-point:    16.3740\n",
      "random k-point #  088    , Frobenius norm at k-point:    18.1903\n",
      "random k-point #  089    , Frobenius norm at k-point:    15.9004\n",
      "random k-point #  090    , Frobenius norm at k-point:    17.3212\n",
      "random k-point #  091    , Frobenius norm at k-point:    15.7932\n",
      "random k-point #  092    , Frobenius norm at k-point:    16.3740\n",
      "random k-point #  093    , Frobenius norm at k-point:    18.2758\n",
      "random k-point #  094    , Frobenius norm at k-point:    16.3740\n",
      "random k-point #  095    , Frobenius norm at k-point:    18.1903\n",
      "random k-point #  096    , Frobenius norm at k-point:    16.2389\n",
      "random k-point #  097    , Frobenius norm at k-point:    15.7540\n",
      "random k-point #  098    , Frobenius norm at k-point:    17.4341\n",
      "random k-point #  099    , Frobenius norm at k-point:    17.2234\n",
      "random k-point #  100    , Frobenius norm at k-point:    16.1479\n",
      "\n",
      "\n",
      "Symmetry is broken, Frobenius norm = 165.9980674469949\n"
     ]
    }
   ],
   "source": [
    "let t1Δ = 1.0, t2Δ = 2.0, t3Δ = 0.7, t1∇ = 0.5, t2∇ = 7.5, t3∇ = -1.5\n",
    "    p::Params = Params(t1Δ, t2Δ, t3Δ, t1∇, t2∇, t3∇)\n",
    "    println(\"t1Δ = \", p.t1Δ)\n",
    "    println(\"t2Δ = \", p.t2Δ)\n",
    "    println(\"t3Δ = \", p.t3Δ)\n",
    "    println(\"t1∇ = \", p.t1∇)\n",
    "    println(\"t2∇ = \", p.t2∇)\n",
    "    println(\"t3∇ = \", p.t3∇)\n",
    "    TestC3Symmetry(p = p, nps = 100)\n",
    "end\n"
   ]
  },
  {
   "cell_type": "code",
   "execution_count": 25,
   "metadata": {},
   "outputs": [
    {
     "name": "stdout",
     "output_type": "stream",
     "text": [
      "t1Δ = 1.0\n",
      "t2Δ = 1.0\n",
      "t3Δ = 1.0\n",
      "t1∇ = 0.5\n",
      "t2∇ = 0.5\n",
      "t3∇ = 0.5\n",
      "\n",
      "\n",
      "--- Checking C_3 symmetry. \n",
      "\n",
      "\n",
      "random k-point #  001    , Frobenius norm at k-point:     0.0000\n",
      "random k-point #  002    , Frobenius norm at k-point:     0.0000\n",
      "random k-point #  003    , Frobenius norm at k-point:     0.0000\n",
      "random k-point #  004    , Frobenius norm at k-point:     0.0000\n",
      "random k-point #  005    , Frobenius norm at k-point:     0.0000\n",
      "random k-point #  006    , Frobenius norm at k-point:     0.0000\n",
      "random k-point #  007    , Frobenius norm at k-point:     0.0000\n",
      "random k-point #  008    , Frobenius norm at k-point:     0.0000\n",
      "random k-point #  009    , Frobenius norm at k-point:     0.0000\n",
      "random k-point #  010    , Frobenius norm at k-point:     0.0000\n",
      "random k-point #  011    , Frobenius norm at k-point:     0.0000\n",
      "random k-point #  012    , Frobenius norm at k-point:     0.0000\n",
      "random k-point #  013    , Frobenius norm at k-point:     0.0000\n",
      "random k-point #  014    , Frobenius norm at k-point:     0.0000\n",
      "random k-point #  015    , Frobenius norm at k-point:     0.0000\n",
      "random k-point #  016    , Frobenius norm at k-point:     0.0000\n",
      "random k-point #  017    , Frobenius norm at k-point:     0.0000\n",
      "random k-point #  018    , Frobenius norm at k-point:     0.0000\n",
      "random k-point #  019    , Frobenius norm at k-point:     0.0000\n",
      "random k-point #  020    , Frobenius norm at k-point:     0.0000\n",
      "random k-point #  021    , Frobenius norm at k-point:     0.0000\n",
      "random k-point #  022    , Frobenius norm at k-point:     0.0000\n",
      "random k-point #  023    , Frobenius norm at k-point:     0.0000\n",
      "random k-point #  024    , Frobenius norm at k-point:     0.0000\n",
      "random k-point #  025    , Frobenius norm at k-point:     0.0000\n",
      "random k-point #  026    , Frobenius norm at k-point:     0.0000\n",
      "random k-point #  027    , Frobenius norm at k-point:     0.0000\n",
      "random k-point #  028    , Frobenius norm at k-point:     0.0000\n",
      "random k-point #  029    , Frobenius norm at k-point:     0.0000\n",
      "random k-point #  030    , Frobenius norm at k-point:     0.0000\n",
      "random k-point #  031    , Frobenius norm at k-point:     0.0000\n",
      "random k-point #  032    , Frobenius norm at k-point:     0.0000\n",
      "random k-point #  033    , Frobenius norm at k-point:     0.0000\n",
      "random k-point #  034    , Frobenius norm at k-point:     0.0000\n",
      "random k-point #  035    , Frobenius norm at k-point:     0.0000\n",
      "random k-point #  036    , Frobenius norm at k-point:     0.0000\n",
      "random k-point #  037    , Frobenius norm at k-point:     0.0000\n",
      "random k-point #  038    , Frobenius norm at k-point:     0.0000\n",
      "random k-point #  039    , Frobenius norm at k-point:     0.0000\n",
      "random k-point #  040    , Frobenius norm at k-point:     0.0000\n",
      "random k-point #  041    , Frobenius norm at k-point:     0.0000\n",
      "random k-point #  042    , Frobenius norm at k-point:     0.0000\n",
      "random k-point #  043    , Frobenius norm at k-point:     0.0000\n",
      "random k-point #  044    , Frobenius norm at k-point:     0.0000\n",
      "random k-point #  045    , Frobenius norm at k-point:     0.0000\n",
      "random k-point #  046    , Frobenius norm at k-point:     0.0000\n",
      "random k-point #  047    , Frobenius norm at k-point:     0.0000\n",
      "random k-point #  048    , Frobenius norm at k-point:     0.0000\n",
      "random k-point #  049    , Frobenius norm at k-point:     0.0000\n",
      "random k-point #  050    , Frobenius norm at k-point:     0.0000\n",
      "random k-point #  051    , Frobenius norm at k-point:     0.0000\n",
      "random k-point #  052    , Frobenius norm at k-point:     0.0000\n",
      "random k-point #  053    , Frobenius norm at k-point:     0.0000\n",
      "random k-point #  054    , Frobenius norm at k-point:     0.0000\n",
      "random k-point #  055    , Frobenius norm at k-point:     0.0000\n",
      "random k-point #  056    , Frobenius norm at k-point:     0.0000\n",
      "random k-point #  057    , Frobenius norm at k-point:     0.0000\n",
      "random k-point #  058    , Frobenius norm at k-point:     0.0000\n",
      "random k-point #  059    , Frobenius norm at k-point:     0.0000\n",
      "random k-point #  060    , Frobenius norm at k-point:     0.0000\n",
      "random k-point #  061    , Frobenius norm at k-point:     0.0000\n",
      "random k-point #  062    , Frobenius norm at k-point:     0.0000\n",
      "random k-point #  063    , Frobenius norm at k-point:     0.0000\n",
      "random k-point #  064    , Frobenius norm at k-point:     0.0000\n",
      "random k-point #  065    , Frobenius norm at k-point:     0.0000\n",
      "random k-point #  066    , Frobenius norm at k-point:     0.0000\n",
      "random k-point #  067    , Frobenius norm at k-point:     0.0000\n",
      "random k-point #  068    , Frobenius norm at k-point:     0.0000\n",
      "random k-point #  069    , Frobenius norm at k-point:     0.0000\n",
      "random k-point #  070    , Frobenius norm at k-point:     0.0000\n",
      "random k-point #  071    , Frobenius norm at k-point:     0.0000\n",
      "random k-point #  072    , Frobenius norm at k-point:     0.0000\n",
      "random k-point #  073    , Frobenius norm at k-point:     0.0000\n",
      "random k-point #  074    , Frobenius norm at k-point:     0.0000\n",
      "random k-point #  075    , Frobenius norm at k-point:     0.0000\n",
      "random k-point #  076    , Frobenius norm at k-point:     0.0000\n",
      "random k-point #  077    , Frobenius norm at k-point:     0.0000\n",
      "random k-point #  078    , Frobenius norm at k-point:     0.0000\n",
      "random k-point #  079    , Frobenius norm at k-point:     0.0000\n",
      "random k-point #  080    , Frobenius norm at k-point:     0.0000\n",
      "random k-point #  081    , Frobenius norm at k-point:     0.0000\n",
      "random k-point #  082    , Frobenius norm at k-point:     0.0000\n",
      "random k-point #  083    , Frobenius norm at k-point:     0.0000\n",
      "random k-point #  084    , Frobenius norm at k-point:     0.0000\n",
      "random k-point #  085    , Frobenius norm at k-point:     0.0000\n",
      "random k-point #  086    , Frobenius norm at k-point:     0.0000\n",
      "random k-point #  087    , Frobenius norm at k-point:     0.0000\n",
      "random k-point #  088    , Frobenius norm at k-point:     0.0000\n",
      "random k-point #  089    , Frobenius norm at k-point:     0.0000\n",
      "random k-point #  090    , Frobenius norm at k-point:     0.0000\n",
      "random k-point #  091    , Frobenius norm at k-point:     0.0000\n",
      "random k-point #  092    , Frobenius norm at k-point:     0.0000\n",
      "random k-point #  093    , Frobenius norm at k-point:     0.0000\n",
      "random k-point #  094    , Frobenius norm at k-point:     0.0000\n",
      "random k-point #  095    , Frobenius norm at k-point:     0.0000\n",
      "random k-point #  096    , Frobenius norm at k-point:     0.0000\n",
      "random k-point #  097    , Frobenius norm at k-point:     0.0000\n",
      "random k-point #  098    , Frobenius norm at k-point:     0.0000\n",
      "random k-point #  099    , Frobenius norm at k-point:     0.0000\n",
      "random k-point #  100    , Frobenius norm at k-point:     0.0000\n",
      "\n",
      "\n",
      "Symmetry is preserved, Frobenius norm = 6.551932760829041e-15\n"
     ]
    }
   ],
   "source": [
    "let t1Δ = 1.0, t2Δ = 1.0, t3Δ = 1.0, t1∇ = 0.5, t2∇ = 0.5, t3∇ = 0.5\n",
    "    p::Params = Params(t1Δ, t2Δ, t3Δ, t1∇, t2∇, t3∇)\n",
    "    println(\"t1Δ = \", p.t1Δ)\n",
    "    println(\"t2Δ = \", p.t2Δ)\n",
    "    println(\"t3Δ = \", p.t3Δ)\n",
    "    println(\"t1∇ = \", p.t1∇)\n",
    "    println(\"t2∇ = \", p.t2∇)\n",
    "    println(\"t3∇ = \", p.t3∇)\n",
    "    TestC3Symmetry(p = p, nps = 100)\n",
    "end\n"
   ]
  },
  {
   "cell_type": "markdown",
   "metadata": {},
   "source": [
    "## Model with Rashba and Intrinsic Spin-Orbit Coupling"
   ]
  },
  {
   "cell_type": "markdown",
   "metadata": {},
   "source": [
    "d1, d2, d3 are three unit vectors forming C_3 system. They define both the Rashba and Intrinsic SOC \n",
    "t1, t2, t3 are three 2 x 2 matrices in the spin space. "
   ]
  },
  {
   "cell_type": "code",
   "execution_count": 35,
   "metadata": {},
   "outputs": [
    {
     "name": "stderr",
     "output_type": "stream",
     "text": [
      "WARNING: redefinition of constant Main.σ₀. This may fail, cause incorrect answers, or produce other errors.\n",
      "WARNING: redefinition of constant Main.σ₁. This may fail, cause incorrect answers, or produce other errors.\n",
      "WARNING: redefinition of constant Main.σ₂. This may fail, cause incorrect answers, or produce other errors.\n",
      "WARNING: redefinition of constant Main.σ₃. This may fail, cause incorrect answers, or produce other errors.\n"
     ]
    },
    {
     "data": {
      "text/plain": [
       "EvalsBreathingKagomeSOC (generic function with 1 method)"
      ]
     },
     "metadata": {},
     "output_type": "display_data"
    }
   ],
   "source": [
    "global const σ₀::Matrix{ComplexF64} = @SMatrix [1.0 0.0; 0.0 1.0]\n",
    "global const σ₁::Matrix{ComplexF64} = @SMatrix [0.0 1.0; 1.0 0.0]\n",
    "global const σ₂::Matrix{ComplexF64} = @SMatrix [0.0 -im; im 0.0]\n",
    "global const σ₃::Matrix{ComplexF64} = @SMatrix [1.0 0.0; 0.0 -1.0]\n",
    "\n",
    "struct ParamsSOCModel\n",
    "\n",
    "    # we will use unicode characters to name the variables \n",
    "\n",
    "    # Parameters for the upright triangle \n",
    "    \n",
    "    # Orbital Hoppings \n",
    "    t1Δ::Float64\n",
    "    t2Δ::Float64\n",
    "    t3Δ::Float64\n",
    "    # Intrinsic Spin orbit coupling (Kane-Mele type)\n",
    "    λI1Δ::Float64\n",
    "    λI2Δ::Float64\n",
    "    λI3Δ::Float64\n",
    "    # Rashba Spin orbit coupling (Breaks mirror )\n",
    "    λR1Δ::Float64\n",
    "    λR2Δ::Float64\n",
    "    λR3Δ::Float64\n",
    "\n",
    "    # Parameters for the upside down triangle \n",
    "    \n",
    "    # Orbital Hoppings \n",
    "    t1∇::Float64\n",
    "    t2∇::Float64\n",
    "    t3∇::Float64\n",
    "    # Intrinsic Spin orbit coupling (Kane-Mele type)\n",
    "    λI1∇::Float64\n",
    "    λI2∇::Float64\n",
    "    λI3∇::Float64\n",
    "    # Rashba Spin orbit coupling (Breaks mirror )\n",
    "    λR1∇::Float64\n",
    "    λR2∇::Float64\n",
    "    λR3∇::Float64\n",
    "\n",
    "    # phi and theta \n",
    "    ϕ::Float64\n",
    "    θ::Float64\n",
    "    \n",
    "\n",
    "end\n",
    "\n",
    "\n",
    "\n",
    "@inline d̂₁ = θ -> SVector{3, Float64}(cos(θ) * sqrt(3.0)/2.0, -0.5 * cos(θ), sin(θ))\n",
    "@inline d̂₂ = θ -> SVector{3, Float64}(0.0, cos(θ), sin(θ))\n",
    "@inline d̂₃ = θ -> SVector{3, Float64}(cos(θ) * sqrt(3.0)/2.0, 0.5 * cos(θ), sin(θ))\n",
    "\n",
    "@inline t̂₁ = (ϕ, θ, t, λI, λR) -> SMatrix{2, 2, ComplexF64}((cos(ϕ) * σ₀ +\n",
    "             im * sin(ϕ) * (d̂₁(θ)[1] * σ₁ + d̂₁(θ)[2] * σ₂ + d̂₁(θ)[3] * σ₃)) * sqrt(t^2 + λI^2 + λR^2))\n",
    "\n",
    "@inline t̂₂ = (ϕ, θ, t, λI, λR) -> SMatrix{2, 2, ComplexF64}((cos(ϕ) * σ₀ +\n",
    "             im * sin(ϕ) * (d̂₂(θ)[1] * σ₁ + d̂₂(θ)[2] * σ₂ + d̂₂(θ)[3] * σ₃)) * sqrt(t^2 + λI^2 + λR^2))\n",
    "\n",
    "@inline t̂₃ = (ϕ, θ, t, λI, λR) -> SMatrix{2, 2, ComplexF64}((cos(ϕ) * σ₀ +\n",
    "             im * sin(ϕ) * (d̂₃(θ)[1] * σ₁ + d̂₃(θ)[2] * σ₂ + d̂₃(θ)[3] * σ₃)) * sqrt(t^2 + λI^2 + λR^2))\n",
    "\n",
    "\n",
    "# Implement the Hamiltonian in Nagosa's paper without spin-orbit interaction or magnetism \n",
    "@inline function HamBreathingKagomeSOC(k::Vector{Float64}, p::ParamsSOCModel)\n",
    "    kx::Float64 = k[1]; ky::Float64 = k[2] \n",
    "    Ham::SMatrix{6, 6, ComplexF64} = kron(t̂₁(p.ϕ, p.θ, p.t1Δ, p.λI1Δ, p.λR1Δ)' + exp(im * (0.5 * kx + 0.5 * sqrt(3.0) * ky)) * t̂₁(p.ϕ1, p.θ1, p.t1∇, p.λI1∇, p.λR1∇)', T1u) +\n",
    "        kron(t̂₃(p.ϕ, p.θ, p.t3Δ, p.λI3Δ, p.λR3Δ) + exp(im * (-0.5 * kx + 0.5 * sqrt(3.0) * ky)) * t̂₃(p.ϕ, p.θ, p.t3∇, p.λI3∇, p.λR3∇), T2u) +\n",
    "        kron(t̂₂(p.ϕ, p.θ, p.t2Δ, p.λI2Δ, p.λR2Δ)' + exp(-im * kx) * t̂₂(p.ϕ, p.θ, p.t2∇, p.λI2∇, p.λR2∇)', T3u)\n",
    "    Hermitian(Ham + Ham')\n",
    "end\n",
    "\n",
    "@inline function EvalsBreathingKagomeSOC(k::Vector{Float64}, p::ParamsSOCModel)\n",
    "    kx::Float64 = k[1]; ky::Float64 = k[2] \n",
    "    Ham::SMatrix{6, 6, ComplexF64} = kron(t̂₁(p.ϕ, p.θ, p.t1Δ, p.λI1Δ, p.λR1Δ)' + exp(im * (0.5 * kx + 0.5 * sqrt(3.0) * ky)) * t̂₁(p.ϕ, p.θ, p.t1∇, p.λI1∇, p.λR1∇)', T1u) +\n",
    "        kron(t̂₃(p.ϕ, p.θ, p.t3Δ, p.λI3Δ, p.λR3Δ) + exp(im * (-0.5 * kx + 0.5 * sqrt(3.0) * ky)) * t̂₃(p.ϕ, p.θ, p.t3∇, p.λI3∇, p.λR3∇), T2u) +\n",
    "        kron(t̂₂(p.ϕ, p.θ, p.t2Δ, p.λI2Δ, p.λR2Δ)' + exp(-im * kx) * t̂₂(p.ϕ, p.θ, p.t2∇, p.λI2∇, p.λR2∇)', T3u)\n",
    "    eigvals(Hermitian(Ham + Ham'))\n",
    "end\n"
   ]
  },
  {
   "cell_type": "markdown",
   "metadata": {},
   "source": [
    "Next, we plot the band structure using the Hamiltonian in the prev. block \n"
   ]
  },
  {
   "cell_type": "code",
   "execution_count": 36,
   "metadata": {},
   "outputs": [
    {
     "data": {
      "text/plain": [
       "plot_SOC_6x6_kagome_bands (generic function with 1 method)"
      ]
     },
     "metadata": {},
     "output_type": "display_data"
    }
   ],
   "source": [
    "function plot_SOC_6x6_kagome_bands(;p, seedname, kpath, title = Nothing)\n",
    "    if title == Nothing\n",
    "        title = seedname\n",
    "    end\n",
    "    eks = EvalsBreathingKagomeSOC.(kpath, Ref(p))\n",
    "\n",
    "    nps_x = size(kpath, 1)\n",
    "    xs = 1 : nps_x\n",
    "    \n",
    "    t1 = PlotlyJS.scatter(x = xs, y = map(e->e[1], eks), mode = \"lines\", line = attr(color = \"purple\", width = 4))\n",
    "    t2 = PlotlyJS.scatter(x = xs, y = map(e->e[2], eks), mode = \"lines\", line = attr(color = \"purple\", width = 4))\n",
    "    t3 = PlotlyJS.scatter(x = xs, y = map(e->e[3], eks), mode = \"lines\", line = attr(color = \"purple\", width = 4))\n",
    "    t4 = PlotlyJS.scatter(x = xs, y = map(e->e[4], eks), mode = \"lines\", line = attr(color = \"purple\", width = 4))\n",
    "    t5 = PlotlyJS.scatter(x = xs, y = map(e->e[5], eks), mode = \"lines\", line = attr(color = \"purple\", width = 4))\n",
    "    t6 = PlotlyJS.scatter(x = xs, y = map(e->e[6], eks), mode = \"lines\", line = attr(color = \"purple\", width = 4))\n",
    "    lo = PlotlyJS.Layout(title = title,\n",
    "                xaxis_showgrid = true,\n",
    "                yaxis_showgrid = true,\n",
    "                plot_bgcolor=\"rgba(0,0,0,0)\",\n",
    "                xaxis = attr(showgrid = true, showticklabels = false, linecolor = \"black\", linewidth = 5, showline = true, mirror = true),\n",
    "                yaxis = attr(showgrid = true, showticklabels = true, linecolor = \"black\", linewidth = 5, showline = true, mirror = true),\n",
    "                width = 510, \n",
    "                height = 510,\n",
    "                showlegend = false)\n",
    "    \n",
    "    p = PlotlyJS.plot([t1, t2, t3, t4, t5, t6], lo)\n",
    "    #PlotlyJS.savefig(p, assets_dir * seedname * \".png\")\n",
    "    display(p)\n",
    "end"
   ]
  },
  {
   "cell_type": "code",
   "execution_count": 41,
   "metadata": {},
   "outputs": [
    {
     "name": "stdout",
     "output_type": "stream",
     "text": [
      "t1Δ = 1.0\n",
      "t2Δ = 1.0\n",
      "t3Δ = 1.0\n",
      "t1∇ = 1.0\n",
      "t2∇ = 1.0\n",
      "t3∇ = 1.0\n"
     ]
    },
    {
     "data": {
      "application/vnd.plotly.v1+json": {
       "config": {
        "editable": false,
        "responsive": true,
        "scrollZoom": true,
        "showLink": false,
        "staticPlot": false
       },
       "data": [
        {
         "line": {
          "color": "purple",
          "width": 4
         },
         "mode": "lines",
         "type": "scatter",
         "x": [
          1,
          2,
          3,
          4,
          5,
          6,
          7,
          8,
          9,
          10,
          11,
          12,
          13,
          14,
          15,
          16,
          17,
          18,
          19,
          20,
          21,
          22,
          23,
          24,
          25,
          26,
          27,
          28,
          29,
          30,
          31,
          32,
          33,
          34,
          35,
          36,
          37,
          38,
          39,
          40,
          41,
          42,
          43,
          44,
          45,
          46,
          47,
          48,
          49,
          50,
          51,
          52,
          53,
          54,
          55,
          56,
          57,
          58,
          59,
          60,
          61,
          62,
          63,
          64,
          65,
          66,
          67,
          68,
          69,
          70,
          71,
          72,
          73,
          74,
          75,
          76,
          77,
          78,
          79,
          80,
          81,
          82,
          83,
          84,
          85,
          86,
          87,
          88,
          89,
          90,
          91,
          92,
          93,
          94,
          95,
          96,
          97,
          98,
          99,
          100
         ],
         "y": [
          -2.000000000000001,
          -1.9999999999999998,
          -2.000000000000001,
          -2.000000000000001,
          -2.000000000000001,
          -1.9999999999999996,
          -2.000000000000001,
          -2.0000000000000013,
          -1.9999999999999993,
          -2.0000000000000004,
          -2.0000000000000004,
          -2.0000000000000004,
          -2.0000000000000013,
          -1.9999999999999987,
          -1.9999999999999996,
          -2.0000000000000004,
          -2.0000000000000004,
          -2.0000000000000004,
          -1.9999999999999998,
          -1.9999999999999991,
          -2,
          -1.9999999999999998,
          -2,
          -1.9999999999999998,
          -2,
          -2.0000000000000004,
          -2,
          -1.9999999999999998,
          -2,
          -2.0000000000000004,
          -1.9999999999999998,
          -1.9999999999999998,
          -1.999999999999999,
          -1.9999999999999998,
          -2,
          -2.000000000000001,
          -1.9999999999999996,
          -2.0000000000000004,
          -2,
          -2.0000000000000004,
          -2,
          -1.9999999999999998,
          -2,
          -2,
          -2,
          -2,
          -2.000000000000001,
          -2,
          -1.9999999999999996,
          -2,
          -2.0000000000000004,
          -2,
          -2.000000000000001,
          -1.9999999999999998,
          -1.9999999999999998,
          -2.0000000000000004,
          -2,
          -2,
          -1.9999999999999998,
          -1.9999999999999996,
          -2,
          -1.9999999999999998,
          -1.9999999999999993,
          -2,
          -2,
          -2.0000000000000004,
          -2,
          -2,
          -2,
          -2.0000000000000004,
          -1.9999999999999993,
          -2,
          -2,
          -2,
          -2.0000000000000004,
          -2,
          -1.9999999999999996,
          -2,
          -2.0000000000000004,
          -2.0000000000000004,
          -1.9999999999999998,
          -2,
          -2.0000000000000004,
          -2.0000000000000004,
          -2,
          -1.9999999999999993,
          -1.9999999999999998,
          -2.0000000000000004,
          -2,
          -2.0000000000000004,
          -2.0000000000000004,
          -1.9999999999999996,
          -1.9999999999999993,
          -1.9999999999999993,
          -2,
          -2.0000000000000004,
          -1.9999999999999996,
          -2,
          -1.9999999999999996,
          -2.000000000000001
         ]
        },
        {
         "line": {
          "color": "purple",
          "width": 4
         },
         "mode": "lines",
         "type": "scatter",
         "x": [
          1,
          2,
          3,
          4,
          5,
          6,
          7,
          8,
          9,
          10,
          11,
          12,
          13,
          14,
          15,
          16,
          17,
          18,
          19,
          20,
          21,
          22,
          23,
          24,
          25,
          26,
          27,
          28,
          29,
          30,
          31,
          32,
          33,
          34,
          35,
          36,
          37,
          38,
          39,
          40,
          41,
          42,
          43,
          44,
          45,
          46,
          47,
          48,
          49,
          50,
          51,
          52,
          53,
          54,
          55,
          56,
          57,
          58,
          59,
          60,
          61,
          62,
          63,
          64,
          65,
          66,
          67,
          68,
          69,
          70,
          71,
          72,
          73,
          74,
          75,
          76,
          77,
          78,
          79,
          80,
          81,
          82,
          83,
          84,
          85,
          86,
          87,
          88,
          89,
          90,
          91,
          92,
          93,
          94,
          95,
          96,
          97,
          98,
          99,
          100
         ],
         "y": [
          -2.000000000000001,
          -1.9999999999999998,
          -2.000000000000001,
          -2.000000000000001,
          -2.000000000000001,
          -1.9999999999999996,
          -2.000000000000001,
          -2.0000000000000013,
          -1.9999999999999993,
          -2.0000000000000004,
          -2.0000000000000004,
          -2.0000000000000004,
          -2.0000000000000013,
          -1.9999999999999987,
          -1.9999999999999996,
          -2.0000000000000004,
          -2.0000000000000004,
          -2.0000000000000004,
          -1.9999999999999998,
          -1.9999999999999991,
          -2,
          -1.9999999999999998,
          -2,
          -1.9999999999999998,
          -2,
          -2.0000000000000004,
          -2,
          -1.9999999999999998,
          -2,
          -2.0000000000000004,
          -1.9999999999999998,
          -1.9999999999999998,
          -1.999999999999999,
          -1.9999999999999998,
          -2,
          -2.000000000000001,
          -1.9999999999999996,
          -2.0000000000000004,
          -2,
          -2.0000000000000004,
          -2,
          -1.9999999999999998,
          -2,
          -2,
          -2,
          -2,
          -2.000000000000001,
          -2,
          -1.9999999999999996,
          -2,
          -2.0000000000000004,
          -2,
          -2.000000000000001,
          -1.9999999999999998,
          -1.9999999999999998,
          -2.0000000000000004,
          -2,
          -2,
          -1.9999999999999998,
          -1.9999999999999996,
          -2,
          -1.9999999999999998,
          -1.9999999999999993,
          -2,
          -2,
          -2.0000000000000004,
          -2,
          -2,
          -2,
          -2.0000000000000004,
          -1.9999999999999993,
          -2,
          -2,
          -2,
          -2.0000000000000004,
          -2,
          -1.9999999999999996,
          -2,
          -2.0000000000000004,
          -2.0000000000000004,
          -1.9999999999999998,
          -2,
          -2.0000000000000004,
          -2.0000000000000004,
          -2,
          -1.9999999999999993,
          -1.9999999999999998,
          -2.0000000000000004,
          -2,
          -2.0000000000000004,
          -2.0000000000000004,
          -1.9999999999999996,
          -1.9999999999999993,
          -1.9999999999999993,
          -2,
          -2.0000000000000004,
          -1.9999999999999996,
          -2,
          -1.9999999999999996,
          -2.000000000000001
         ]
        },
        {
         "line": {
          "color": "purple",
          "width": 4
         },
         "mode": "lines",
         "type": "scatter",
         "x": [
          1,
          2,
          3,
          4,
          5,
          6,
          7,
          8,
          9,
          10,
          11,
          12,
          13,
          14,
          15,
          16,
          17,
          18,
          19,
          20,
          21,
          22,
          23,
          24,
          25,
          26,
          27,
          28,
          29,
          30,
          31,
          32,
          33,
          34,
          35,
          36,
          37,
          38,
          39,
          40,
          41,
          42,
          43,
          44,
          45,
          46,
          47,
          48,
          49,
          50,
          51,
          52,
          53,
          54,
          55,
          56,
          57,
          58,
          59,
          60,
          61,
          62,
          63,
          64,
          65,
          66,
          67,
          68,
          69,
          70,
          71,
          72,
          73,
          74,
          75,
          76,
          77,
          78,
          79,
          80,
          81,
          82,
          83,
          84,
          85,
          86,
          87,
          88,
          89,
          90,
          91,
          92,
          93,
          94,
          95,
          96,
          97,
          98,
          99,
          100
         ],
         "y": [
          -2,
          -1.9975138424378456,
          -1.9900615507308033,
          -1.9776616524502568,
          -1.9603449756970879,
          -1.9381545724581557,
          -1.9111456115722825,
          -1.8793852415718164,
          -1.8429524237408155,
          -1.801937735804838,
          -1.7564431467404578,
          -1.7065817632643105,
          -1.6524775486319894,
          -1.5942650144458452,
          -1.5320888862379554,
          -1.4661037436596525,
          -1.3964736361721457,
          -1.323371675193719,
          -1.246979603717467,
          -1.1674873444695797,
          -1.08509252773152,
          -1,
          -0.9124213147063258,
          -0.8225742062612229,
          -0.7306820487327894,
          -0.6369733005033688,
          -0.5416809362860103,
          -0.44504186791262884,
          -0.34729635533386044,
          -0.2486874092949704,
          -0.149460187172849,
          -0.049861383476145896,
          0.04986138347614506,
          0.14946018717284854,
          0.2486874092949698,
          0.3472963553338598,
          0.44504186791262923,
          0.5416809362860099,
          0.6369733005033681,
          0.73068204873279,
          0.8225742062612234,
          0.9124213147063249,
          0.9999999999999989,
          0.9149074665413086,
          0.8325126444590724,
          0.7530203802912971,
          0.6766283043586889,
          0.6035263394244799,
          0.5338962285164406,
          0.467911083085024,
          0.4057349526209581,
          0.34752241680231033,
          0.2934182011850038,
          0.24355681739222507,
          0.19806222869729578,
          0.1570475418313984,
          0.1206147257823823,
          0.08885435828375882,
          0.06184540062415572,
          0.03965500133708327,
          0.022338329259077028,
          0.00993843637126074,
          0.00248615076532073,
          4.974244434897789e-15,
          -0.00758185807494248,
          -0.029936393460619493,
          -0.06597217388294335,
          -0.11410479402056839,
          -0.17250536125457538,
          -0.23931366121634942,
          -0.31278017396585867,
          -0.39133827186158215,
          -0.47362574353132647,
          -0.5584766652499197,
          -0.6448994523064305,
          -0.7320507939749685,
          -0.8192105171775805,
          -0.9057595283400723,
          -0.9911614132541947,
          -1.0749475281817755,
          -1.156705122664153,
          -1.2360679683807188,
          -1.312709003013808,
          -1.3863345689504705,
          -1.4566799033621212,
          -1.5235056059966359,
          -1.5865948697600265,
          -1.6457513066149387,
          -1.7007972387776804,
          -1.7515723543803583,
          -1.7979326493551764,
          -1.8397495947398692,
          -1.876909482076087,
          -1.9093129100082726,
          -1.9368743833128208,
          -1.9595220019530246,
          -1.9771972227914443,
          -1.9898546806261304,
          -1.997462058503746,
          -2
         ]
        },
        {
         "line": {
          "color": "purple",
          "width": 4
         },
         "mode": "lines",
         "type": "scatter",
         "x": [
          1,
          2,
          3,
          4,
          5,
          6,
          7,
          8,
          9,
          10,
          11,
          12,
          13,
          14,
          15,
          16,
          17,
          18,
          19,
          20,
          21,
          22,
          23,
          24,
          25,
          26,
          27,
          28,
          29,
          30,
          31,
          32,
          33,
          34,
          35,
          36,
          37,
          38,
          39,
          40,
          41,
          42,
          43,
          44,
          45,
          46,
          47,
          48,
          49,
          50,
          51,
          52,
          53,
          54,
          55,
          56,
          57,
          58,
          59,
          60,
          61,
          62,
          63,
          64,
          65,
          66,
          67,
          68,
          69,
          70,
          71,
          72,
          73,
          74,
          75,
          76,
          77,
          78,
          79,
          80,
          81,
          82,
          83,
          84,
          85,
          86,
          87,
          88,
          89,
          90,
          91,
          92,
          93,
          94,
          95,
          96,
          97,
          98,
          99,
          100
         ],
         "y": [
          -2,
          -1.9975138424378456,
          -1.9900615507308033,
          -1.9776616524502568,
          -1.9603449756970879,
          -1.9381545724581557,
          -1.9111456115722825,
          -1.8793852415718164,
          -1.8429524237408155,
          -1.801937735804838,
          -1.7564431467404578,
          -1.7065817632643105,
          -1.6524775486319894,
          -1.5942650144458452,
          -1.5320888862379554,
          -1.4661037436596525,
          -1.3964736361721457,
          -1.323371675193719,
          -1.246979603717467,
          -1.1674873444695797,
          -1.08509252773152,
          -1,
          -0.9124213147063258,
          -0.8225742062612229,
          -0.7306820487327894,
          -0.6369733005033688,
          -0.5416809362860103,
          -0.44504186791262884,
          -0.34729635533386044,
          -0.2486874092949704,
          -0.149460187172849,
          -0.049861383476145896,
          0.04986138347614506,
          0.14946018717284854,
          0.2486874092949698,
          0.3472963553338598,
          0.44504186791262923,
          0.5416809362860099,
          0.6369733005033681,
          0.73068204873279,
          0.8225742062612234,
          0.9124213147063249,
          0.9999999999999989,
          0.9149074665413086,
          0.8325126444590724,
          0.7530203802912971,
          0.6766283043586889,
          0.6035263394244799,
          0.5338962285164406,
          0.467911083085024,
          0.4057349526209581,
          0.34752241680231033,
          0.2934182011850038,
          0.24355681739222507,
          0.19806222869729578,
          0.1570475418313984,
          0.1206147257823823,
          0.08885435828375882,
          0.06184540062415572,
          0.03965500133708327,
          0.022338329259077028,
          0.00993843637126074,
          0.00248615076532073,
          4.974244434897789e-15,
          -0.00758185807494248,
          -0.029936393460619493,
          -0.06597217388294335,
          -0.11410479402056839,
          -0.17250536125457538,
          -0.23931366121634942,
          -0.31278017396585867,
          -0.39133827186158215,
          -0.47362574353132647,
          -0.5584766652499197,
          -0.6448994523064305,
          -0.7320507939749685,
          -0.8192105171775805,
          -0.9057595283400723,
          -0.9911614132541947,
          -1.0749475281817755,
          -1.156705122664153,
          -1.2360679683807188,
          -1.312709003013808,
          -1.3863345689504705,
          -1.4566799033621212,
          -1.5235056059966359,
          -1.5865948697600265,
          -1.6457513066149387,
          -1.7007972387776804,
          -1.7515723543803583,
          -1.7979326493551764,
          -1.8397495947398692,
          -1.876909482076087,
          -1.9093129100082726,
          -1.9368743833128208,
          -1.9595220019530246,
          -1.9771972227914443,
          -1.9898546806261304,
          -1.997462058503746,
          -2
         ]
        },
        {
         "line": {
          "color": "purple",
          "width": 4
         },
         "mode": "lines",
         "type": "scatter",
         "x": [
          1,
          2,
          3,
          4,
          5,
          6,
          7,
          8,
          9,
          10,
          11,
          12,
          13,
          14,
          15,
          16,
          17,
          18,
          19,
          20,
          21,
          22,
          23,
          24,
          25,
          26,
          27,
          28,
          29,
          30,
          31,
          32,
          33,
          34,
          35,
          36,
          37,
          38,
          39,
          40,
          41,
          42,
          43,
          44,
          45,
          46,
          47,
          48,
          49,
          50,
          51,
          52,
          53,
          54,
          55,
          56,
          57,
          58,
          59,
          60,
          61,
          62,
          63,
          64,
          65,
          66,
          67,
          68,
          69,
          70,
          71,
          72,
          73,
          74,
          75,
          76,
          77,
          78,
          79,
          80,
          81,
          82,
          83,
          84,
          85,
          86,
          87,
          88,
          89,
          90,
          91,
          92,
          93,
          94,
          95,
          96,
          97,
          98,
          99,
          100
         ],
         "y": [
          3.9999999999999996,
          3.9975138424378445,
          3.990061550730803,
          3.977661652450258,
          3.960344975697088,
          3.9381545724581555,
          3.9111456115722802,
          3.8793852415718173,
          3.8429524237408135,
          3.8019377358048385,
          3.756443146740457,
          3.706581763264311,
          3.65247754863199,
          3.5942650144458446,
          3.532088886237956,
          3.466103743659652,
          3.3964736361721464,
          3.323371675193719,
          3.2469796037174676,
          3.1674873444695795,
          3.0850925277315184,
          3.000000000000001,
          2.9124213147063256,
          2.8225742062612227,
          2.73068204873279,
          2.6369733005033695,
          2.5416809362860104,
          2.4450418679126287,
          2.3472963553338593,
          2.2486874092949707,
          2.149460187172849,
          2.0498613834761454,
          1.9501386165238541,
          1.8505398128271515,
          1.7513125907050298,
          1.65270364466614,
          1.5549581320873715,
          1.4583190637139904,
          1.3630266994966316,
          1.2693179512672101,
          1.1774257937387778,
          1.0875786852936749,
          1,
          1.0850925334586918,
          1.1674873555409282,
          1.2469796197087033,
          1.3233716956413113,
          1.3964736605755204,
          1.466103771483559,
          1.532088916914976,
          1.5942650473790425,
          1.6524775831976894,
          1.7065817988149967,
          1.7564431826077749,
          1.801937771302704,
          1.8429524581686016,
          1.8793852742176178,
          1.9111456417162411,
          1.938154599375844,
          1.9603449986629167,
          1.977661670740923,
          1.9900615636287387,
          1.997513849234679,
          1.9999999999999951,
          2.007581858074942,
          2.0299363934606203,
          2.0659721738829435,
          2.114104794020568,
          2.1725053612545757,
          2.23931366121635,
          2.3127801739658578,
          2.3913382718615823,
          2.473625743531327,
          2.55847666524992,
          2.644899452306431,
          2.732050793974969,
          2.8192105171775808,
          2.9057595283400732,
          2.991161413254195,
          3.0749475281817746,
          3.156705122664153,
          3.2360679683807203,
          3.312709003013809,
          3.386334568950469,
          3.45667990336212,
          3.523505605996636,
          3.586594869760027,
          3.6457513066149394,
          3.700797238777681,
          3.751572354380357,
          3.7979326493551753,
          3.8397495947398683,
          3.876909482076086,
          3.9093129100082726,
          3.936874383312821,
          3.959522001953025,
          3.977197222791444,
          3.989854680626129,
          3.9974620585037473,
          3.9999999999999996
         ]
        },
        {
         "line": {
          "color": "purple",
          "width": 4
         },
         "mode": "lines",
         "type": "scatter",
         "x": [
          1,
          2,
          3,
          4,
          5,
          6,
          7,
          8,
          9,
          10,
          11,
          12,
          13,
          14,
          15,
          16,
          17,
          18,
          19,
          20,
          21,
          22,
          23,
          24,
          25,
          26,
          27,
          28,
          29,
          30,
          31,
          32,
          33,
          34,
          35,
          36,
          37,
          38,
          39,
          40,
          41,
          42,
          43,
          44,
          45,
          46,
          47,
          48,
          49,
          50,
          51,
          52,
          53,
          54,
          55,
          56,
          57,
          58,
          59,
          60,
          61,
          62,
          63,
          64,
          65,
          66,
          67,
          68,
          69,
          70,
          71,
          72,
          73,
          74,
          75,
          76,
          77,
          78,
          79,
          80,
          81,
          82,
          83,
          84,
          85,
          86,
          87,
          88,
          89,
          90,
          91,
          92,
          93,
          94,
          95,
          96,
          97,
          98,
          99,
          100
         ],
         "y": [
          3.9999999999999996,
          3.9975138424378445,
          3.990061550730803,
          3.977661652450258,
          3.960344975697088,
          3.9381545724581555,
          3.9111456115722802,
          3.8793852415718173,
          3.8429524237408135,
          3.8019377358048385,
          3.756443146740457,
          3.706581763264311,
          3.65247754863199,
          3.5942650144458446,
          3.532088886237956,
          3.466103743659652,
          3.3964736361721464,
          3.323371675193719,
          3.2469796037174676,
          3.1674873444695795,
          3.0850925277315184,
          3.000000000000001,
          2.9124213147063256,
          2.8225742062612227,
          2.73068204873279,
          2.6369733005033695,
          2.5416809362860104,
          2.4450418679126287,
          2.3472963553338593,
          2.2486874092949707,
          2.149460187172849,
          2.0498613834761454,
          1.9501386165238541,
          1.8505398128271515,
          1.7513125907050298,
          1.65270364466614,
          1.5549581320873715,
          1.4583190637139904,
          1.3630266994966316,
          1.2693179512672101,
          1.1774257937387778,
          1.0875786852936749,
          1,
          1.0850925334586918,
          1.1674873555409282,
          1.2469796197087033,
          1.3233716956413113,
          1.3964736605755204,
          1.466103771483559,
          1.532088916914976,
          1.5942650473790425,
          1.6524775831976894,
          1.7065817988149967,
          1.7564431826077749,
          1.801937771302704,
          1.8429524581686016,
          1.8793852742176178,
          1.9111456417162411,
          1.938154599375844,
          1.9603449986629167,
          1.977661670740923,
          1.9900615636287387,
          1.997513849234679,
          1.9999999999999951,
          2.007581858074942,
          2.0299363934606203,
          2.0659721738829435,
          2.114104794020568,
          2.1725053612545757,
          2.23931366121635,
          2.3127801739658578,
          2.3913382718615823,
          2.473625743531327,
          2.55847666524992,
          2.644899452306431,
          2.732050793974969,
          2.8192105171775808,
          2.9057595283400732,
          2.991161413254195,
          3.0749475281817746,
          3.156705122664153,
          3.2360679683807203,
          3.312709003013809,
          3.386334568950469,
          3.45667990336212,
          3.523505605996636,
          3.586594869760027,
          3.6457513066149394,
          3.700797238777681,
          3.751572354380357,
          3.7979326493551753,
          3.8397495947398683,
          3.876909482076086,
          3.9093129100082726,
          3.936874383312821,
          3.959522001953025,
          3.977197222791444,
          3.989854680626129,
          3.9974620585037473,
          3.9999999999999996
         ]
        }
       ],
       "frames": [],
       "layout": {
        "height": 510,
        "margin": {
         "b": 50,
         "l": 50,
         "r": 50,
         "t": 60
        },
        "plot_bgcolor": "rgba(0,0,0,0)",
        "showlegend": false,
        "template": {
         "data": {
          "bar": [
           {
            "error_x": {
             "color": "#2a3f5f"
            },
            "error_y": {
             "color": "#2a3f5f"
            },
            "marker": {
             "line": {
              "color": "#E5ECF6",
              "width": 0.5
             }
            },
            "type": "bar"
           }
          ],
          "barpolar": [
           {
            "marker": {
             "line": {
              "color": "#E5ECF6",
              "width": 0.5
             }
            },
            "type": "barpolar"
           }
          ],
          "carpet": [
           {
            "aaxis": {
             "endlinecolor": "#2a3f5f",
             "gridcolor": "white",
             "linecolor": "white",
             "minorgridcolor": "white",
             "startlinecolor": "#2a3f5f"
            },
            "baxis": {
             "endlinecolor": "#2a3f5f",
             "gridcolor": "white",
             "linecolor": "white",
             "minorgridcolor": "white",
             "startlinecolor": "#2a3f5f"
            },
            "type": "carpet"
           }
          ],
          "choropleth": [
           {
            "colorbar": {
             "outlinewidth": 0,
             "ticks": ""
            },
            "type": "choropleth"
           }
          ],
          "contour": [
           {
            "colorbar": {
             "outlinewidth": 0,
             "ticks": ""
            },
            "colorscale": [
             [
              0,
              "#0d0887"
             ],
             [
              0.1111111111111111,
              "#46039f"
             ],
             [
              0.2222222222222222,
              "#7201a8"
             ],
             [
              0.3333333333333333,
              "#9c179e"
             ],
             [
              0.4444444444444444,
              "#bd3786"
             ],
             [
              0.5555555555555556,
              "#d8576b"
             ],
             [
              0.6666666666666666,
              "#ed7953"
             ],
             [
              0.7777777777777778,
              "#fb9f3a"
             ],
             [
              0.8888888888888888,
              "#fdca26"
             ],
             [
              1,
              "#f0f921"
             ]
            ],
            "type": "contour"
           }
          ],
          "contourcarpet": [
           {
            "colorbar": {
             "outlinewidth": 0,
             "ticks": ""
            },
            "type": "contourcarpet"
           }
          ],
          "heatmap": [
           {
            "colorbar": {
             "outlinewidth": 0,
             "ticks": ""
            },
            "colorscale": [
             [
              0,
              "#0d0887"
             ],
             [
              0.1111111111111111,
              "#46039f"
             ],
             [
              0.2222222222222222,
              "#7201a8"
             ],
             [
              0.3333333333333333,
              "#9c179e"
             ],
             [
              0.4444444444444444,
              "#bd3786"
             ],
             [
              0.5555555555555556,
              "#d8576b"
             ],
             [
              0.6666666666666666,
              "#ed7953"
             ],
             [
              0.7777777777777778,
              "#fb9f3a"
             ],
             [
              0.8888888888888888,
              "#fdca26"
             ],
             [
              1,
              "#f0f921"
             ]
            ],
            "type": "heatmap"
           }
          ],
          "heatmapgl": [
           {
            "colorbar": {
             "outlinewidth": 0,
             "ticks": ""
            },
            "colorscale": [
             [
              0,
              "#0d0887"
             ],
             [
              0.1111111111111111,
              "#46039f"
             ],
             [
              0.2222222222222222,
              "#7201a8"
             ],
             [
              0.3333333333333333,
              "#9c179e"
             ],
             [
              0.4444444444444444,
              "#bd3786"
             ],
             [
              0.5555555555555556,
              "#d8576b"
             ],
             [
              0.6666666666666666,
              "#ed7953"
             ],
             [
              0.7777777777777778,
              "#fb9f3a"
             ],
             [
              0.8888888888888888,
              "#fdca26"
             ],
             [
              1,
              "#f0f921"
             ]
            ],
            "type": "heatmapgl"
           }
          ],
          "histogram": [
           {
            "marker": {
             "colorbar": {
              "outlinewidth": 0,
              "ticks": ""
             }
            },
            "type": "histogram"
           }
          ],
          "histogram2d": [
           {
            "colorbar": {
             "outlinewidth": 0,
             "ticks": ""
            },
            "colorscale": [
             [
              0,
              "#0d0887"
             ],
             [
              0.1111111111111111,
              "#46039f"
             ],
             [
              0.2222222222222222,
              "#7201a8"
             ],
             [
              0.3333333333333333,
              "#9c179e"
             ],
             [
              0.4444444444444444,
              "#bd3786"
             ],
             [
              0.5555555555555556,
              "#d8576b"
             ],
             [
              0.6666666666666666,
              "#ed7953"
             ],
             [
              0.7777777777777778,
              "#fb9f3a"
             ],
             [
              0.8888888888888888,
              "#fdca26"
             ],
             [
              1,
              "#f0f921"
             ]
            ],
            "type": "histogram2d"
           }
          ],
          "histogram2dcontour": [
           {
            "colorbar": {
             "outlinewidth": 0,
             "ticks": ""
            },
            "colorscale": [
             [
              0,
              "#0d0887"
             ],
             [
              0.1111111111111111,
              "#46039f"
             ],
             [
              0.2222222222222222,
              "#7201a8"
             ],
             [
              0.3333333333333333,
              "#9c179e"
             ],
             [
              0.4444444444444444,
              "#bd3786"
             ],
             [
              0.5555555555555556,
              "#d8576b"
             ],
             [
              0.6666666666666666,
              "#ed7953"
             ],
             [
              0.7777777777777778,
              "#fb9f3a"
             ],
             [
              0.8888888888888888,
              "#fdca26"
             ],
             [
              1,
              "#f0f921"
             ]
            ],
            "type": "histogram2dcontour"
           }
          ],
          "mesh3d": [
           {
            "colorbar": {
             "outlinewidth": 0,
             "ticks": ""
            },
            "type": "mesh3d"
           }
          ],
          "parcoords": [
           {
            "line": {
             "colorbar": {
              "outlinewidth": 0,
              "ticks": ""
             }
            },
            "type": "parcoords"
           }
          ],
          "pie": [
           {
            "automargin": true,
            "type": "pie"
           }
          ],
          "scatter": [
           {
            "marker": {
             "colorbar": {
              "outlinewidth": 0,
              "ticks": ""
             }
            },
            "type": "scatter"
           }
          ],
          "scatter3d": [
           {
            "line": {
             "colorbar": {
              "outlinewidth": 0,
              "ticks": ""
             }
            },
            "marker": {
             "colorbar": {
              "outlinewidth": 0,
              "ticks": ""
             }
            },
            "type": "scatter3d"
           }
          ],
          "scattercarpet": [
           {
            "marker": {
             "colorbar": {
              "outlinewidth": 0,
              "ticks": ""
             }
            },
            "type": "scattercarpet"
           }
          ],
          "scattergeo": [
           {
            "marker": {
             "colorbar": {
              "outlinewidth": 0,
              "ticks": ""
             }
            },
            "type": "scattergeo"
           }
          ],
          "scattergl": [
           {
            "marker": {
             "colorbar": {
              "outlinewidth": 0,
              "ticks": ""
             }
            },
            "type": "scattergl"
           }
          ],
          "scattermapbox": [
           {
            "marker": {
             "colorbar": {
              "outlinewidth": 0,
              "ticks": ""
             }
            },
            "type": "scattermapbox"
           }
          ],
          "scatterpolar": [
           {
            "marker": {
             "colorbar": {
              "outlinewidth": 0,
              "ticks": ""
             }
            },
            "type": "scatterpolar"
           }
          ],
          "scatterpolargl": [
           {
            "marker": {
             "colorbar": {
              "outlinewidth": 0,
              "ticks": ""
             }
            },
            "type": "scatterpolargl"
           }
          ],
          "scatterternary": [
           {
            "marker": {
             "colorbar": {
              "outlinewidth": 0,
              "ticks": ""
             }
            },
            "type": "scatterternary"
           }
          ],
          "surface": [
           {
            "colorbar": {
             "outlinewidth": 0,
             "ticks": ""
            },
            "colorscale": [
             [
              0,
              "#0d0887"
             ],
             [
              0.1111111111111111,
              "#46039f"
             ],
             [
              0.2222222222222222,
              "#7201a8"
             ],
             [
              0.3333333333333333,
              "#9c179e"
             ],
             [
              0.4444444444444444,
              "#bd3786"
             ],
             [
              0.5555555555555556,
              "#d8576b"
             ],
             [
              0.6666666666666666,
              "#ed7953"
             ],
             [
              0.7777777777777778,
              "#fb9f3a"
             ],
             [
              0.8888888888888888,
              "#fdca26"
             ],
             [
              1,
              "#f0f921"
             ]
            ],
            "type": "surface"
           }
          ],
          "table": [
           {
            "cells": {
             "fill": {
              "color": "#EBF0F8"
             },
             "line": {
              "color": "white"
             }
            },
            "header": {
             "fill": {
              "color": "#C8D4E3"
             },
             "line": {
              "color": "white"
             }
            },
            "type": "table"
           }
          ]
         },
         "layout": {
          "annotationdefaults": {
           "arrowcolor": "#2a3f5f",
           "arrowhead": 0,
           "arrowwidth": 1
          },
          "autotypenumbers": "strict",
          "coloraxis": {
           "colorbar": {
            "outlinewidth": 0,
            "ticks": ""
           }
          },
          "colorscale": {
           "diverging": [
            [
             0,
             "#8e0152"
            ],
            [
             0.1,
             "#c51b7d"
            ],
            [
             0.2,
             "#de77ae"
            ],
            [
             0.3,
             "#f1b6da"
            ],
            [
             0.4,
             "#fde0ef"
            ],
            [
             0.5,
             "#f7f7f7"
            ],
            [
             0.6,
             "#e6f5d0"
            ],
            [
             0.7,
             "#b8e186"
            ],
            [
             0.8,
             "#7fbc41"
            ],
            [
             0.9,
             "#4d9221"
            ],
            [
             1,
             "#276419"
            ]
           ],
           "sequential": [
            [
             0,
             "#0d0887"
            ],
            [
             0.1111111111111111,
             "#46039f"
            ],
            [
             0.2222222222222222,
             "#7201a8"
            ],
            [
             0.3333333333333333,
             "#9c179e"
            ],
            [
             0.4444444444444444,
             "#bd3786"
            ],
            [
             0.5555555555555556,
             "#d8576b"
            ],
            [
             0.6666666666666666,
             "#ed7953"
            ],
            [
             0.7777777777777778,
             "#fb9f3a"
            ],
            [
             0.8888888888888888,
             "#fdca26"
            ],
            [
             1,
             "#f0f921"
            ]
           ],
           "sequentialminus": [
            [
             0,
             "#0d0887"
            ],
            [
             0.1111111111111111,
             "#46039f"
            ],
            [
             0.2222222222222222,
             "#7201a8"
            ],
            [
             0.3333333333333333,
             "#9c179e"
            ],
            [
             0.4444444444444444,
             "#bd3786"
            ],
            [
             0.5555555555555556,
             "#d8576b"
            ],
            [
             0.6666666666666666,
             "#ed7953"
            ],
            [
             0.7777777777777778,
             "#fb9f3a"
            ],
            [
             0.8888888888888888,
             "#fdca26"
            ],
            [
             1,
             "#f0f921"
            ]
           ]
          },
          "colorway": [
           "#636efa",
           "#EF553B",
           "#00cc96",
           "#ab63fa",
           "#FFA15A",
           "#19d3f3",
           "#FF6692",
           "#B6E880",
           "#FF97FF",
           "#FECB52"
          ],
          "font": {
           "color": "#2a3f5f"
          },
          "geo": {
           "bgcolor": "white",
           "lakecolor": "white",
           "landcolor": "#E5ECF6",
           "showlakes": true,
           "showland": true,
           "subunitcolor": "white"
          },
          "hoverlabel": {
           "align": "left"
          },
          "hovermode": "closest",
          "mapbox": {
           "style": "light"
          },
          "paper_bgcolor": "white",
          "plot_bgcolor": "#E5ECF6",
          "polar": {
           "angularaxis": {
            "gridcolor": "white",
            "linecolor": "white",
            "ticks": ""
           },
           "bgcolor": "#E5ECF6",
           "radialaxis": {
            "gridcolor": "white",
            "linecolor": "white",
            "ticks": ""
           }
          },
          "scene": {
           "xaxis": {
            "backgroundcolor": "#E5ECF6",
            "gridcolor": "white",
            "gridwidth": 2,
            "linecolor": "white",
            "showbackground": true,
            "ticks": "",
            "zerolinecolor": "white"
           },
           "yaxis": {
            "backgroundcolor": "#E5ECF6",
            "gridcolor": "white",
            "gridwidth": 2,
            "linecolor": "white",
            "showbackground": true,
            "ticks": "",
            "zerolinecolor": "white"
           },
           "zaxis": {
            "backgroundcolor": "#E5ECF6",
            "gridcolor": "white",
            "gridwidth": 2,
            "linecolor": "white",
            "showbackground": true,
            "ticks": "",
            "zerolinecolor": "white"
           }
          },
          "shapedefaults": {
           "line": {
            "color": "#2a3f5f"
           }
          },
          "ternary": {
           "aaxis": {
            "gridcolor": "white",
            "linecolor": "white",
            "ticks": ""
           },
           "baxis": {
            "gridcolor": "white",
            "linecolor": "white",
            "ticks": ""
           },
           "bgcolor": "#E5ECF6",
           "caxis": {
            "gridcolor": "white",
            "linecolor": "white",
            "ticks": ""
           }
          },
          "title": {
           "x": 0.05
          },
          "xaxis": {
           "automargin": true,
           "gridcolor": "white",
           "linecolor": "white",
           "ticks": "",
           "title": {
            "standoff": 15
           },
           "zerolinecolor": "white",
           "zerolinewidth": 2
          },
          "yaxis": {
           "automargin": true,
           "gridcolor": "white",
           "linecolor": "white",
           "ticks": "",
           "title": {
            "standoff": 15
           },
           "zerolinecolor": "white",
           "zerolinewidth": 2
          }
         }
        },
        "title": "test",
        "width": 510,
        "xaxis": {
         "linecolor": "black",
         "linewidth": 5,
         "mirror": true,
         "showgrid": true,
         "showline": true,
         "showticklabels": false
        },
        "yaxis": {
         "linecolor": "black",
         "linewidth": 5,
         "mirror": true,
         "showgrid": true,
         "showline": true,
         "showticklabels": true
        }
       }
      },
      "image/png": "[encoded data removed]",
      "image/svg+xml": [
       "<svg class=\"main-svg\" xmlns=\"http://www.w3.org/2000/svg\" xmlns:xlink=\"http://www.w3.org/1999/xlink\" width=\"700\" height=\"500\" style=\"\" viewBox=\"0 0 700 500\"><rect x=\"0\" y=\"0\" width=\"700\" height=\"500\" style=\"fill: rgb(255, 255, 255); fill-opacity: 1;\"/><defs id=\"defs-f92948\"><g class=\"clips\"><clipPath id=\"clipf92948xyplot\" class=\"plotclip\"><rect width=\"600\" height=\"390\"/></clipPath><clipPath class=\"axesclip\" id=\"clipf92948x\"><rect x=\"50\" y=\"0\" width=\"600\" height=\"500\"/></clipPath><clipPath class=\"axesclip\" id=\"clipf92948y\"><rect x=\"0\" y=\"60\" width=\"700\" height=\"390\"/></clipPath><clipPath class=\"axesclip\" id=\"clipf92948xy\"><rect x=\"50\" y=\"60\" width=\"600\" height=\"390\"/></clipPath></g><g class=\"gradients\"/><g class=\"patterns\"/></defs><g class=\"bglayer\"><rect class=\"bg\" x=\"50\" y=\"60\" width=\"600\" height=\"390\" style=\"fill: rgb(0, 0, 0); fill-opacity: 0; stroke-width: 0;\"/></g><g class=\"layer-below\"><g class=\"imagelayer\"/><g class=\"shapelayer\"/></g><g class=\"cartesianlayer\"><g class=\"subplot xy\"><g class=\"layer-subplot\"><g class=\"shapelayer\"/><g class=\"imagelayer\"/></g><g class=\"gridlayer\"><g class=\"x\"><path class=\"xgrid crisp\" transform=\"translate(165.15,0)\" d=\"M0,60v390\" style=\"stroke: rgb(255, 255, 255); stroke-opacity: 1; stroke-width: 1px;\"/><path class=\"xgrid crisp\" transform=\"translate(286.36,0)\" d=\"M0,60v390\" style=\"stroke: rgb(255, 255, 255); stroke-opacity: 1; stroke-width: 1px;\"/><path class=\"xgrid crisp\" transform=\"translate(407.58,0)\" d=\"M0,60v390\" style=\"stroke: rgb(255, 255, 255); stroke-opacity: 1; stroke-width: 1px;\"/><path class=\"xgrid crisp\" transform=\"translate(528.79,0)\" d=\"M0,60v390\" style=\"stroke: rgb(255, 255, 255); stroke-opacity: 1; stroke-width: 1px;\"/></g><g class=\"y\"><path class=\"ygrid crisp\" transform=\"translate(0,430.5)\" d=\"M50,0h600\" style=\"stroke: rgb(255, 255, 255); stroke-opacity: 1; stroke-width: 1px;\"/><path class=\"ygrid crisp\" transform=\"translate(0,372)\" d=\"M50,0h600\" style=\"stroke: rgb(255, 255, 255); stroke-opacity: 1; stroke-width: 1px;\"/><path class=\"ygrid crisp\" transform=\"translate(0,255)\" d=\"M50,0h600\" style=\"stroke: rgb(255, 255, 255); stroke-opacity: 1; stroke-width: 1px;\"/><path class=\"ygrid crisp\" transform=\"translate(0,196.5)\" d=\"M50,0h600\" style=\"stroke: rgb(255, 255, 255); stroke-opacity: 1; stroke-width: 1px;\"/><path class=\"ygrid crisp\" transform=\"translate(0,138)\" d=\"M50,0h600\" style=\"stroke: rgb(255, 255, 255); stroke-opacity: 1; stroke-width: 1px;\"/><path class=\"ygrid crisp\" transform=\"translate(0,79.5)\" d=\"M50,0h600\" style=\"stroke: rgb(255, 255, 255); stroke-opacity: 1; stroke-width: 1px;\"/></g></g><g class=\"zerolinelayer\"><path class=\"yzl zl crisp\" transform=\"translate(0,313.5)\" d=\"M50,0h600\" style=\"stroke: rgb(255, 255, 255); stroke-opacity: 1; stroke-width: 2px;\"/></g><path class=\"xlines-below\"/><path class=\"ylines-below\"/><g class=\"overlines-below\"/><g class=\"xaxislayer-below\"/><g class=\"yaxislayer-below\"/><g class=\"overaxes-below\"/><g class=\"plot\" transform=\"translate(50,60)\" clip-path=\"url(#clipf92948xyplot)\"><g class=\"scatterlayer mlayer\"><g class=\"trace scatter trace7dda11\" style=\"stroke-miterlimit: 2; opacity: 1;\"><g class=\"fills\"/><g class=\"errorbars\"/><g class=\"lines\"><path class=\"js-line\" d=\"M0,370.5L600,370.5\" style=\"vector-effect: non-scaling-stroke; fill: none; stroke: rgb(128, 0, 128); stroke-opacity: 1; stroke-width: 4px; opacity: 1;\"/></g><g class=\"points\"/><g class=\"text\"/></g><g class=\"trace scatter trace95a3a6\" style=\"stroke-miterlimit: 2; opacity: 1;\"><g class=\"fills\"/><g class=\"errorbars\"/><g class=\"lines\"><path class=\"js-line\" d=\"M0,370.5L600,370.5\" style=\"vector-effect: non-scaling-stroke; fill: none; stroke: rgb(128, 0, 128); stroke-opacity: 1; stroke-width: 4px; opacity: 1;\"/></g><g class=\"points\"/><g class=\"text\"/></g><g class=\"trace scatter trace7d5774\" style=\"stroke-miterlimit: 2; opacity: 1;\"><g class=\"fills\"/><g class=\"errorbars\"/><g class=\"lines\"><path class=\"js-line\" d=\"M0,370.5L18.18,369.19L24.24,368.18L42.42,363.44L48.48,361.31L66.67,353.34L72.73,350.17L90.91,339.27L96.97,335.19L121.21,316.98L127.27,312L157.58,285.19L163.64,279.53L248.48,200.12L254.55,195L278.79,213.92L284.85,218.19L303.03,229.76L309.09,233.17L327.27,241.91L333.33,244.31L351.52,249.88L357.58,251.18L375.76,253.35L381.82,253.5L393.94,255.25L400,257.36L412.12,263.59L418.18,267.5L436.36,281.21L442.42,286.17L490.91,325.81L496.97,330.29L521.21,346.32L527.27,349.78L545.45,358.68L551.52,361.13L569.7,366.81L575.76,368.13L593.94,370.35L600,370.5\" style=\"vector-effect: non-scaling-stroke; fill: none; stroke: rgb(128, 0, 128); stroke-opacity: 1; stroke-width: 4px; opacity: 1;\"/></g><g class=\"points\"/><g class=\"text\"/></g><g class=\"trace scatter trace55f565\" style=\"stroke-miterlimit: 2; opacity: 1;\"><g class=\"fills\"/><g class=\"errorbars\"/><g class=\"lines\"><path class=\"js-line\" d=\"M0,370.5L18.18,369.19L24.24,368.18L42.42,363.44L48.48,361.31L66.67,353.34L72.73,350.17L90.91,339.27L96.97,335.19L121.21,316.98L127.27,312L157.58,285.19L163.64,279.53L248.48,200.12L254.55,195L278.79,213.92L284.85,218.19L303.03,229.76L309.09,233.17L327.27,241.91L333.33,244.31L351.52,249.88L357.58,251.18L375.76,253.35L381.82,253.5L393.94,255.25L400,257.36L412.12,263.59L418.18,267.5L436.36,281.21L442.42,286.17L490.91,325.81L496.97,330.29L521.21,346.32L527.27,349.78L545.45,358.68L551.52,361.13L569.7,366.81L575.76,368.13L593.94,370.35L600,370.5\" style=\"vector-effect: non-scaling-stroke; fill: none; stroke: rgb(128, 0, 128); stroke-opacity: 1; stroke-width: 4px; opacity: 1;\"/></g><g class=\"points\"/><g class=\"text\"/></g><g class=\"trace scatter trace12acf3\" style=\"stroke-miterlimit: 2; opacity: 1;\"><g class=\"fills\"/><g class=\"errorbars\"/><g class=\"lines\"><path class=\"js-line\" d=\"M0,19.5L18.18,20.81L24.24,21.82L42.42,26.56L48.48,28.69L66.67,36.66L72.73,39.83L90.91,50.73L96.97,54.81L121.21,73.02L127.27,78L157.58,104.81L163.64,110.47L248.48,189.88L254.55,195L278.79,176.08L284.85,171.81L303.03,160.24L309.09,156.83L327.27,148.09L333.33,145.69L351.52,140.12L357.58,138.82L375.76,136.65L381.82,136.5L393.94,134.75L400,132.64L412.12,126.41L418.18,122.5L436.36,108.79L442.42,103.83L490.91,64.19L496.97,59.71L521.21,43.68L527.27,40.22L545.45,31.32L551.52,28.87L569.7,23.19L575.76,21.87L593.94,19.65L600,19.5\" style=\"vector-effect: non-scaling-stroke; fill: none; stroke: rgb(128, 0, 128); stroke-opacity: 1; stroke-width: 4px; opacity: 1;\"/></g><g class=\"points\"/><g class=\"text\"/></g><g class=\"trace scatter trace888232\" style=\"stroke-miterlimit: 2; opacity: 1;\"><g class=\"fills\"/><g class=\"errorbars\"/><g class=\"lines\"><path class=\"js-line\" d=\"M0,19.5L18.18,20.81L24.24,21.82L42.42,26.56L48.48,28.69L66.67,36.66L72.73,39.83L90.91,50.73L96.97,54.81L121.21,73.02L127.27,78L157.58,104.81L163.64,110.47L248.48,189.88L254.55,195L278.79,176.08L284.85,171.81L303.03,160.24L309.09,156.83L327.27,148.09L333.33,145.69L351.52,140.12L357.58,138.82L375.76,136.65L381.82,136.5L393.94,134.75L400,132.64L412.12,126.41L418.18,122.5L436.36,108.79L442.42,103.83L490.91,64.19L496.97,59.71L521.21,43.68L527.27,40.22L545.45,31.32L551.52,28.87L569.7,23.19L575.76,21.87L593.94,19.65L600,19.5\" style=\"vector-effect: non-scaling-stroke; fill: none; stroke: rgb(128, 0, 128); stroke-opacity: 1; stroke-width: 4px; opacity: 1;\"/></g><g class=\"points\"/><g class=\"text\"/></g></g></g><g class=\"overplot\"/><path class=\"xlines-above crisp\" d=\"M45,452.5H655M45,57.5H655\" style=\"fill: none; stroke-width: 5px; stroke: rgb(0, 0, 0); stroke-opacity: 1;\"/><path class=\"ylines-above crisp\" d=\"M47.5,60V450M652.5,60V450\" style=\"fill: none; stroke-width: 5px; stroke: rgb(0, 0, 0); stroke-opacity: 1;\"/><g class=\"overlines-above\"/><g class=\"xaxislayer-above\"/><g class=\"yaxislayer-above\"><g class=\"ytick\"><text text-anchor=\"end\" x=\"42.6\" y=\"4.199999999999999\" transform=\"translate(0,430.5)\" style=\"font-family: 'Open Sans', verdana, arial, sans-serif; font-size: 12px; fill: rgb(42, 63, 95); fill-opacity: 1; white-space: pre; opacity: 1;\">−2</text></g><g class=\"ytick\"><text text-anchor=\"end\" x=\"42.6\" y=\"4.199999999999999\" style=\"font-family: 'Open Sans', verdana, arial, sans-serif; font-size: 12px; fill: rgb(42, 63, 95); fill-opacity: 1; white-space: pre; opacity: 1;\" transform=\"translate(0,372)\">−1</text></g><g class=\"ytick\"><text text-anchor=\"end\" x=\"42.6\" y=\"4.199999999999999\" style=\"font-family: 'Open Sans', verdana, arial, sans-serif; font-size: 12px; fill: rgb(42, 63, 95); fill-opacity: 1; white-space: pre; opacity: 1;\" transform=\"translate(0,313.5)\">0</text></g><g class=\"ytick\"><text text-anchor=\"end\" x=\"42.6\" y=\"4.199999999999999\" style=\"font-family: 'Open Sans', verdana, arial, sans-serif; font-size: 12px; fill: rgb(42, 63, 95); fill-opacity: 1; white-space: pre; opacity: 1;\" transform=\"translate(0,255)\">1</text></g><g class=\"ytick\"><text text-anchor=\"end\" x=\"42.6\" y=\"4.199999999999999\" style=\"font-family: 'Open Sans', verdana, arial, sans-serif; font-size: 12px; fill: rgb(42, 63, 95); fill-opacity: 1; white-space: pre; opacity: 1;\" transform=\"translate(0,196.5)\">2</text></g><g class=\"ytick\"><text text-anchor=\"end\" x=\"42.6\" y=\"4.199999999999999\" style=\"font-family: 'Open Sans', verdana, arial, sans-serif; font-size: 12px; fill: rgb(42, 63, 95); fill-opacity: 1; white-space: pre; opacity: 1;\" transform=\"translate(0,138)\">3</text></g><g class=\"ytick\"><text text-anchor=\"end\" x=\"42.6\" y=\"4.199999999999999\" style=\"font-family: 'Open Sans', verdana, arial, sans-serif; font-size: 12px; fill: rgb(42, 63, 95); fill-opacity: 1; white-space: pre; opacity: 1;\" transform=\"translate(0,79.5)\">4</text></g></g><g class=\"overaxes-above\"/></g></g><g class=\"polarlayer\"/><g class=\"ternarylayer\"/><g class=\"geolayer\"/><g class=\"funnelarealayer\"/><g class=\"pielayer\"/><g class=\"iciclelayer\"/><g class=\"treemaplayer\"/><g class=\"sunburstlayer\"/><g class=\"glimages\"/><defs id=\"topdefs-f92948\"><g class=\"clips\"/></defs><g class=\"layer-above\"><g class=\"imagelayer\"/><g class=\"shapelayer\"/></g><g class=\"infolayer\"><g class=\"g-gtitle\"><text class=\"gtitle\" x=\"35\" y=\"30\" text-anchor=\"start\" dy=\"0em\" style=\"font-family: 'Open Sans', verdana, arial, sans-serif; font-size: 17px; fill: rgb(42, 63, 95); opacity: 1; font-weight: normal; white-space: pre;\">test</text></g><g class=\"g-xtitle\"/><g class=\"g-ytitle\"/></g></svg>"
      ],
      "text/html": [
       "<div\n",
       "    class=\"webio-mountpoint\"\n",
       "    data-webio-mountpoint=\"2170572577788362118\"\n",
       ">\n",
       "    <script>\n",
       "    (function(){\n",
       "    // Some integrations (namely, IJulia/Jupyter) use an alternate render pathway than\n",
       "    // just putting the html on the page. If WebIO isn't defined, then it's pretty likely\n",
       "    // that we're in one of those situations and the integration just isn't installed\n",
       "    // correctly.\n",
       "    if (typeof window.WebIO === \"undefined\") {\n",
       "        document\n",
       "            .querySelector('[data-webio-mountpoint=\"2170572577788362118\"]')\n",
       "            .innerHTML = (\n",
       "                '<div style=\"padding: 1em; background-color: #f8d6da; border: 1px solid #f5c6cb; font-weight: bold;\">' +\n",
       "                '<p><strong>WebIO not detected.</strong></p>' +\n",
       "                '<p>Please read ' +\n",
       "                '<a href=\"https://juliagizmos.github.io/WebIO.jl/latest/troubleshooting/not-detected/\" target=\"_blank\">the troubleshooting guide</a> ' +\n",
       "                'for more information on how to resolve this issue.</p>' +\n",
       "                '<p><a href=\"https://juliagizmos.github.io/WebIO.jl/latest/troubleshooting/not-detected/\" target=\"_blank\">https://juliagizmos.github.io/WebIO.jl/latest/troubleshooting/not-detected/</a></p>' +\n",
       "                '</div>'\n",
       "            );\n",
       "        return;\n",
       "    }\n",
       "    WebIO.mount(\n",
       "        document.querySelector('[data-webio-mountpoint=\"2170572577788362118\"]'),\n",
       "        {\"props\":{},\"nodeType\":\"Scope\",\"type\":\"node\",\"instanceArgs\":{\"imports\":{\"data\":[{\"name\":\"Plotly\",\"type\":\"js\",\"url\":\"\\/assetserver\\/b267c3137400db01c304fe886fe6f707be7fdb37-plotly.min.js\"},{\"name\":null,\"type\":\"js\",\"url\":\"\\/assetserver\\/020f2e8a4619f2ae880fff9315e6547eef1aff0b-plotly_webio.bundle.js\"}],\"type\":\"async_block\"},\"id\":\"13374531528052713748\",\"handlers\":{\"_toImage\":[\"(function (options){return this.Plotly.toImage(this.plotElem,options).then((function (data){return WebIO.setval({\\\"name\\\":\\\"image\\\",\\\"scope\\\":\\\"13374531528052713748\\\",\\\"id\\\":\\\"115\\\",\\\"type\\\":\\\"observable\\\"},data)}))})\"],\"__get_gd_contents\":[\"(function (prop){prop==\\\"data\\\" ? (WebIO.setval({\\\"name\\\":\\\"__gd_contents\\\",\\\"scope\\\":\\\"13374531528052713748\\\",\\\"id\\\":\\\"116\\\",\\\"type\\\":\\\"observable\\\"},this.plotElem.data)) : undefined; return prop==\\\"layout\\\" ? (WebIO.setval({\\\"name\\\":\\\"__gd_contents\\\",\\\"scope\\\":\\\"13374531528052713748\\\",\\\"id\\\":\\\"116\\\",\\\"type\\\":\\\"observable\\\"},this.plotElem.layout)) : undefined})\"],\"_downloadImage\":[\"(function (options){return this.Plotly.downloadImage(this.plotElem,options)})\"],\"_commands\":[\"(function (args){var fn=args.shift(); var elem=this.plotElem; var Plotly=this.Plotly; args.unshift(elem); return Plotly[fn].apply(this,args)})\"]},\"systemjs_options\":null,\"mount_callbacks\":[\"function () {\\n    var handler = ((function (Plotly,PlotlyWebIO){PlotlyWebIO.init(WebIO); var gd=this.dom.querySelector(\\\"#plot-3a45c4ba-bbda-4396-aa6c-77541a911f2b\\\"); this.plotElem=gd; this.Plotly=Plotly; (window.Blink!==undefined) ? (gd.style.width=\\\"100%\\\", gd.style.height=\\\"100vh\\\", gd.style.marginLeft=\\\"0%\\\", gd.style.marginTop=\\\"0vh\\\") : undefined; window.onresize=(function (){return Plotly.Plots.resize(gd)}); Plotly.newPlot(gd,[{\\\"mode\\\":\\\"lines\\\",\\\"line\\\":{\\\"color\\\":\\\"purple\\\",\\\"width\\\":4},\\\"y\\\":[-2.000000000000001,-1.9999999999999998,-2.000000000000001,-2.000000000000001,-2.000000000000001,-1.9999999999999996,-2.000000000000001,-2.0000000000000013,-1.9999999999999993,-2.0000000000000004,-2.0000000000000004,-2.0000000000000004,-2.0000000000000013,-1.9999999999999987,-1.9999999999999996,-2.0000000000000004,-2.0000000000000004,-2.0000000000000004,-1.9999999999999998,-1.9999999999999991,-2.0,-1.9999999999999998,-2.0,-1.9999999999999998,-2.0,-2.0000000000000004,-2.0,-1.9999999999999998,-2.0,-2.0000000000000004,-1.9999999999999998,-1.9999999999999998,-1.999999999999999,-1.9999999999999998,-2.0,-2.000000000000001,-1.9999999999999996,-2.0000000000000004,-2.0,-2.0000000000000004,-2.0,-1.9999999999999998,-2.0,-2.0,-2.0,-2.0,-2.000000000000001,-2.0,-1.9999999999999996,-2.0,-2.0000000000000004,-2.0,-2.000000000000001,-1.9999999999999998,-1.9999999999999998,-2.0000000000000004,-2.0,-2.0,-1.9999999999999998,-1.9999999999999996,-2.0,-1.9999999999999998,-1.9999999999999993,-2.0,-2.0,-2.0000000000000004,-2.0,-2.0,-2.0,-2.0000000000000004,-1.9999999999999993,-2.0,-2.0,-2.0,-2.0000000000000004,-2.0,-1.9999999999999996,-2.0,-2.0000000000000004,-2.0000000000000004,-1.9999999999999998,-2.0,-2.0000000000000004,-2.0000000000000004,-2.0,-1.9999999999999993,-1.9999999999999998,-2.0000000000000004,-2.0,-2.0000000000000004,-2.0000000000000004,-1.9999999999999996,-1.9999999999999993,-1.9999999999999993,-2.0,-2.0000000000000004,-1.9999999999999996,-2.0,-1.9999999999999996,-2.000000000000001],\\\"type\\\":\\\"scatter\\\",\\\"x\\\":[1,2,3,4,5,6,7,8,9,10,11,12,13,14,15,16,17,18,19,20,21,22,23,24,25,26,27,28,29,30,31,32,33,34,35,36,37,38,39,40,41,42,43,44,45,46,47,48,49,50,51,52,53,54,55,56,57,58,59,60,61,62,63,64,65,66,67,68,69,70,71,72,73,74,75,76,77,78,79,80,81,82,83,84,85,86,87,88,89,90,91,92,93,94,95,96,97,98,99,100]},{\\\"mode\\\":\\\"lines\\\",\\\"line\\\":{\\\"color\\\":\\\"purple\\\",\\\"width\\\":4},\\\"y\\\":[-2.000000000000001,-1.9999999999999998,-2.000000000000001,-2.000000000000001,-2.000000000000001,-1.9999999999999996,-2.000000000000001,-2.0000000000000013,-1.9999999999999993,-2.0000000000000004,-2.0000000000000004,-2.0000000000000004,-2.0000000000000013,-1.9999999999999987,-1.9999999999999996,-2.0000000000000004,-2.0000000000000004,-2.0000000000000004,-1.9999999999999998,-1.9999999999999991,-2.0,-1.9999999999999998,-2.0,-1.9999999999999998,-2.0,-2.0000000000000004,-2.0,-1.9999999999999998,-2.0,-2.0000000000000004,-1.9999999999999998,-1.9999999999999998,-1.999999999999999,-1.9999999999999998,-2.0,-2.000000000000001,-1.9999999999999996,-2.0000000000000004,-2.0,-2.0000000000000004,-2.0,-1.9999999999999998,-2.0,-2.0,-2.0,-2.0,-2.000000000000001,-2.0,-1.9999999999999996,-2.0,-2.0000000000000004,-2.0,-2.000000000000001,-1.9999999999999998,-1.9999999999999998,-2.0000000000000004,-2.0,-2.0,-1.9999999999999998,-1.9999999999999996,-2.0,-1.9999999999999998,-1.9999999999999993,-2.0,-2.0,-2.0000000000000004,-2.0,-2.0,-2.0,-2.0000000000000004,-1.9999999999999993,-2.0,-2.0,-2.0,-2.0000000000000004,-2.0,-1.9999999999999996,-2.0,-2.0000000000000004,-2.0000000000000004,-1.9999999999999998,-2.0,-2.0000000000000004,-2.0000000000000004,-2.0,-1.9999999999999993,-1.9999999999999998,-2.0000000000000004,-2.0,-2.0000000000000004,-2.0000000000000004,-1.9999999999999996,-1.9999999999999993,-1.9999999999999993,-2.0,-2.0000000000000004,-1.9999999999999996,-2.0,-1.9999999999999996,-2.000000000000001],\\\"type\\\":\\\"scatter\\\",\\\"x\\\":[1,2,3,4,5,6,7,8,9,10,11,12,13,14,15,16,17,18,19,20,21,22,23,24,25,26,27,28,29,30,31,32,33,34,35,36,37,38,39,40,41,42,43,44,45,46,47,48,49,50,51,52,53,54,55,56,57,58,59,60,61,62,63,64,65,66,67,68,69,70,71,72,73,74,75,76,77,78,79,80,81,82,83,84,85,86,87,88,89,90,91,92,93,94,95,96,97,98,99,100]},{\\\"mode\\\":\\\"lines\\\",\\\"line\\\":{\\\"color\\\":\\\"purple\\\",\\\"width\\\":4},\\\"y\\\":[-2.0,-1.9975138424378456,-1.9900615507308033,-1.9776616524502568,-1.9603449756970879,-1.9381545724581557,-1.9111456115722825,-1.8793852415718164,-1.8429524237408155,-1.801937735804838,-1.7564431467404578,-1.7065817632643105,-1.6524775486319894,-1.5942650144458452,-1.5320888862379554,-1.4661037436596525,-1.3964736361721457,-1.323371675193719,-1.246979603717467,-1.1674873444695797,-1.08509252773152,-1.0,-0.9124213147063258,-0.8225742062612229,-0.7306820487327894,-0.6369733005033688,-0.5416809362860103,-0.44504186791262884,-0.34729635533386044,-0.2486874092949704,-0.149460187172849,-0.049861383476145896,0.04986138347614506,0.14946018717284854,0.2486874092949698,0.3472963553338598,0.44504186791262923,0.5416809362860099,0.6369733005033681,0.73068204873279,0.8225742062612234,0.9124213147063249,0.9999999999999989,0.9149074665413086,0.8325126444590724,0.7530203802912971,0.6766283043586889,0.6035263394244799,0.5338962285164406,0.467911083085024,0.4057349526209581,0.34752241680231033,0.2934182011850038,0.24355681739222507,0.19806222869729578,0.1570475418313984,0.1206147257823823,0.08885435828375882,0.06184540062415572,0.03965500133708327,0.022338329259077028,0.00993843637126074,0.00248615076532073,4.974244434897789e-15,-0.00758185807494248,-0.029936393460619493,-0.06597217388294335,-0.11410479402056839,-0.17250536125457538,-0.23931366121634942,-0.31278017396585867,-0.39133827186158215,-0.47362574353132647,-0.5584766652499197,-0.6448994523064305,-0.7320507939749685,-0.8192105171775805,-0.9057595283400723,-0.9911614132541947,-1.0749475281817755,-1.156705122664153,-1.2360679683807188,-1.312709003013808,-1.3863345689504705,-1.4566799033621212,-1.5235056059966359,-1.5865948697600265,-1.6457513066149387,-1.7007972387776804,-1.7515723543803583,-1.7979326493551764,-1.8397495947398692,-1.876909482076087,-1.9093129100082726,-1.9368743833128208,-1.9595220019530246,-1.9771972227914443,-1.9898546806261304,-1.997462058503746,-2.0],\\\"type\\\":\\\"scatter\\\",\\\"x\\\":[1,2,3,4,5,6,7,8,9,10,11,12,13,14,15,16,17,18,19,20,21,22,23,24,25,26,27,28,29,30,31,32,33,34,35,36,37,38,39,40,41,42,43,44,45,46,47,48,49,50,51,52,53,54,55,56,57,58,59,60,61,62,63,64,65,66,67,68,69,70,71,72,73,74,75,76,77,78,79,80,81,82,83,84,85,86,87,88,89,90,91,92,93,94,95,96,97,98,99,100]},{\\\"mode\\\":\\\"lines\\\",\\\"line\\\":{\\\"color\\\":\\\"purple\\\",\\\"width\\\":4},\\\"y\\\":[-2.0,-1.9975138424378456,-1.9900615507308033,-1.9776616524502568,-1.9603449756970879,-1.9381545724581557,-1.9111456115722825,-1.8793852415718164,-1.8429524237408155,-1.801937735804838,-1.7564431467404578,-1.7065817632643105,-1.6524775486319894,-1.5942650144458452,-1.5320888862379554,-1.4661037436596525,-1.3964736361721457,-1.323371675193719,-1.246979603717467,-1.1674873444695797,-1.08509252773152,-1.0,-0.9124213147063258,-0.8225742062612229,-0.7306820487327894,-0.6369733005033688,-0.5416809362860103,-0.44504186791262884,-0.34729635533386044,-0.2486874092949704,-0.149460187172849,-0.049861383476145896,0.04986138347614506,0.14946018717284854,0.2486874092949698,0.3472963553338598,0.44504186791262923,0.5416809362860099,0.6369733005033681,0.73068204873279,0.8225742062612234,0.9124213147063249,0.9999999999999989,0.9149074665413086,0.8325126444590724,0.7530203802912971,0.6766283043586889,0.6035263394244799,0.5338962285164406,0.467911083085024,0.4057349526209581,0.34752241680231033,0.2934182011850038,0.24355681739222507,0.19806222869729578,0.1570475418313984,0.1206147257823823,0.08885435828375882,0.06184540062415572,0.03965500133708327,0.022338329259077028,0.00993843637126074,0.00248615076532073,4.974244434897789e-15,-0.00758185807494248,-0.029936393460619493,-0.06597217388294335,-0.11410479402056839,-0.17250536125457538,-0.23931366121634942,-0.31278017396585867,-0.39133827186158215,-0.47362574353132647,-0.5584766652499197,-0.6448994523064305,-0.7320507939749685,-0.8192105171775805,-0.9057595283400723,-0.9911614132541947,-1.0749475281817755,-1.156705122664153,-1.2360679683807188,-1.312709003013808,-1.3863345689504705,-1.4566799033621212,-1.5235056059966359,-1.5865948697600265,-1.6457513066149387,-1.7007972387776804,-1.7515723543803583,-1.7979326493551764,-1.8397495947398692,-1.876909482076087,-1.9093129100082726,-1.9368743833128208,-1.9595220019530246,-1.9771972227914443,-1.9898546806261304,-1.997462058503746,-2.0],\\\"type\\\":\\\"scatter\\\",\\\"x\\\":[1,2,3,4,5,6,7,8,9,10,11,12,13,14,15,16,17,18,19,20,21,22,23,24,25,26,27,28,29,30,31,32,33,34,35,36,37,38,39,40,41,42,43,44,45,46,47,48,49,50,51,52,53,54,55,56,57,58,59,60,61,62,63,64,65,66,67,68,69,70,71,72,73,74,75,76,77,78,79,80,81,82,83,84,85,86,87,88,89,90,91,92,93,94,95,96,97,98,99,100]},{\\\"mode\\\":\\\"lines\\\",\\\"line\\\":{\\\"color\\\":\\\"purple\\\",\\\"width\\\":4},\\\"y\\\":[3.9999999999999996,3.9975138424378445,3.990061550730803,3.977661652450258,3.960344975697088,3.9381545724581555,3.9111456115722802,3.8793852415718173,3.8429524237408135,3.8019377358048385,3.756443146740457,3.706581763264311,3.65247754863199,3.5942650144458446,3.532088886237956,3.466103743659652,3.3964736361721464,3.323371675193719,3.2469796037174676,3.1674873444695795,3.0850925277315184,3.000000000000001,2.9124213147063256,2.8225742062612227,2.73068204873279,2.6369733005033695,2.5416809362860104,2.4450418679126287,2.3472963553338593,2.2486874092949707,2.149460187172849,2.0498613834761454,1.9501386165238541,1.8505398128271515,1.7513125907050298,1.65270364466614,1.5549581320873715,1.4583190637139904,1.3630266994966316,1.2693179512672101,1.1774257937387778,1.0875786852936749,1.0,1.0850925334586918,1.1674873555409282,1.2469796197087033,1.3233716956413113,1.3964736605755204,1.466103771483559,1.532088916914976,1.5942650473790425,1.6524775831976894,1.7065817988149967,1.7564431826077749,1.801937771302704,1.8429524581686016,1.8793852742176178,1.9111456417162411,1.938154599375844,1.9603449986629167,1.977661670740923,1.9900615636287387,1.997513849234679,1.9999999999999951,2.007581858074942,2.0299363934606203,2.0659721738829435,2.114104794020568,2.1725053612545757,2.23931366121635,2.3127801739658578,2.3913382718615823,2.473625743531327,2.55847666524992,2.644899452306431,2.732050793974969,2.8192105171775808,2.9057595283400732,2.991161413254195,3.0749475281817746,3.156705122664153,3.2360679683807203,3.312709003013809,3.386334568950469,3.45667990336212,3.523505605996636,3.586594869760027,3.6457513066149394,3.700797238777681,3.751572354380357,3.7979326493551753,3.8397495947398683,3.876909482076086,3.9093129100082726,3.936874383312821,3.959522001953025,3.977197222791444,3.989854680626129,3.9974620585037473,3.9999999999999996],\\\"type\\\":\\\"scatter\\\",\\\"x\\\":[1,2,3,4,5,6,7,8,9,10,11,12,13,14,15,16,17,18,19,20,21,22,23,24,25,26,27,28,29,30,31,32,33,34,35,36,37,38,39,40,41,42,43,44,45,46,47,48,49,50,51,52,53,54,55,56,57,58,59,60,61,62,63,64,65,66,67,68,69,70,71,72,73,74,75,76,77,78,79,80,81,82,83,84,85,86,87,88,89,90,91,92,93,94,95,96,97,98,99,100]},{\\\"mode\\\":\\\"lines\\\",\\\"line\\\":{\\\"color\\\":\\\"purple\\\",\\\"width\\\":4},\\\"y\\\":[3.9999999999999996,3.9975138424378445,3.990061550730803,3.977661652450258,3.960344975697088,3.9381545724581555,3.9111456115722802,3.8793852415718173,3.8429524237408135,3.8019377358048385,3.756443146740457,3.706581763264311,3.65247754863199,3.5942650144458446,3.532088886237956,3.466103743659652,3.3964736361721464,3.323371675193719,3.2469796037174676,3.1674873444695795,3.0850925277315184,3.000000000000001,2.9124213147063256,2.8225742062612227,2.73068204873279,2.6369733005033695,2.5416809362860104,2.4450418679126287,2.3472963553338593,2.2486874092949707,2.149460187172849,2.0498613834761454,1.9501386165238541,1.8505398128271515,1.7513125907050298,1.65270364466614,1.5549581320873715,1.4583190637139904,1.3630266994966316,1.2693179512672101,1.1774257937387778,1.0875786852936749,1.0,1.0850925334586918,1.1674873555409282,1.2469796197087033,1.3233716956413113,1.3964736605755204,1.466103771483559,1.532088916914976,1.5942650473790425,1.6524775831976894,1.7065817988149967,1.7564431826077749,1.801937771302704,1.8429524581686016,1.8793852742176178,1.9111456417162411,1.938154599375844,1.9603449986629167,1.977661670740923,1.9900615636287387,1.997513849234679,1.9999999999999951,2.007581858074942,2.0299363934606203,2.0659721738829435,2.114104794020568,2.1725053612545757,2.23931366121635,2.3127801739658578,2.3913382718615823,2.473625743531327,2.55847666524992,2.644899452306431,2.732050793974969,2.8192105171775808,2.9057595283400732,2.991161413254195,3.0749475281817746,3.156705122664153,3.2360679683807203,3.312709003013809,3.386334568950469,3.45667990336212,3.523505605996636,3.586594869760027,3.6457513066149394,3.700797238777681,3.751572354380357,3.7979326493551753,3.8397495947398683,3.876909482076086,3.9093129100082726,3.936874383312821,3.959522001953025,3.977197222791444,3.989854680626129,3.9974620585037473,3.9999999999999996],\\\"type\\\":\\\"scatter\\\",\\\"x\\\":[1,2,3,4,5,6,7,8,9,10,11,12,13,14,15,16,17,18,19,20,21,22,23,24,25,26,27,28,29,30,31,32,33,34,35,36,37,38,39,40,41,42,43,44,45,46,47,48,49,50,51,52,53,54,55,56,57,58,59,60,61,62,63,64,65,66,67,68,69,70,71,72,73,74,75,76,77,78,79,80,81,82,83,84,85,86,87,88,89,90,91,92,93,94,95,96,97,98,99,100]}],{\\\"showlegend\\\":false,\\\"xaxis\\\":{\\\"showgrid\\\":true,\\\"showline\\\":true,\\\"showticklabels\\\":false,\\\"linewidth\\\":5,\\\"mirror\\\":true,\\\"linecolor\\\":\\\"black\\\"},\\\"template\\\":{\\\"layout\\\":{\\\"coloraxis\\\":{\\\"colorbar\\\":{\\\"ticks\\\":\\\"\\\",\\\"outlinewidth\\\":0}},\\\"xaxis\\\":{\\\"gridcolor\\\":\\\"white\\\",\\\"zerolinewidth\\\":2,\\\"title\\\":{\\\"standoff\\\":15},\\\"ticks\\\":\\\"\\\",\\\"zerolinecolor\\\":\\\"white\\\",\\\"automargin\\\":true,\\\"linecolor\\\":\\\"white\\\"},\\\"hovermode\\\":\\\"closest\\\",\\\"paper_bgcolor\\\":\\\"white\\\",\\\"geo\\\":{\\\"showlakes\\\":true,\\\"showland\\\":true,\\\"landcolor\\\":\\\"#E5ECF6\\\",\\\"bgcolor\\\":\\\"white\\\",\\\"subunitcolor\\\":\\\"white\\\",\\\"lakecolor\\\":\\\"white\\\"},\\\"colorscale\\\":{\\\"sequential\\\":[[0.0,\\\"#0d0887\\\"],[0.1111111111111111,\\\"#46039f\\\"],[0.2222222222222222,\\\"#7201a8\\\"],[0.3333333333333333,\\\"#9c179e\\\"],[0.4444444444444444,\\\"#bd3786\\\"],[0.5555555555555556,\\\"#d8576b\\\"],[0.6666666666666666,\\\"#ed7953\\\"],[0.7777777777777778,\\\"#fb9f3a\\\"],[0.8888888888888888,\\\"#fdca26\\\"],[1.0,\\\"#f0f921\\\"]],\\\"diverging\\\":[[0,\\\"#8e0152\\\"],[0.1,\\\"#c51b7d\\\"],[0.2,\\\"#de77ae\\\"],[0.3,\\\"#f1b6da\\\"],[0.4,\\\"#fde0ef\\\"],[0.5,\\\"#f7f7f7\\\"],[0.6,\\\"#e6f5d0\\\"],[0.7,\\\"#b8e186\\\"],[0.8,\\\"#7fbc41\\\"],[0.9,\\\"#4d9221\\\"],[1,\\\"#276419\\\"]],\\\"sequentialminus\\\":[[0.0,\\\"#0d0887\\\"],[0.1111111111111111,\\\"#46039f\\\"],[0.2222222222222222,\\\"#7201a8\\\"],[0.3333333333333333,\\\"#9c179e\\\"],[0.4444444444444444,\\\"#bd3786\\\"],[0.5555555555555556,\\\"#d8576b\\\"],[0.6666666666666666,\\\"#ed7953\\\"],[0.7777777777777778,\\\"#fb9f3a\\\"],[0.8888888888888888,\\\"#fdca26\\\"],[1.0,\\\"#f0f921\\\"]]},\\\"yaxis\\\":{\\\"gridcolor\\\":\\\"white\\\",\\\"zerolinewidth\\\":2,\\\"title\\\":{\\\"standoff\\\":15},\\\"ticks\\\":\\\"\\\",\\\"zerolinecolor\\\":\\\"white\\\",\\\"automargin\\\":true,\\\"linecolor\\\":\\\"white\\\"},\\\"shapedefaults\\\":{\\\"line\\\":{\\\"color\\\":\\\"#2a3f5f\\\"}},\\\"hoverlabel\\\":{\\\"align\\\":\\\"left\\\"},\\\"mapbox\\\":{\\\"style\\\":\\\"light\\\"},\\\"polar\\\":{\\\"angularaxis\\\":{\\\"gridcolor\\\":\\\"white\\\",\\\"ticks\\\":\\\"\\\",\\\"linecolor\\\":\\\"white\\\"},\\\"bgcolor\\\":\\\"#E5ECF6\\\",\\\"radialaxis\\\":{\\\"gridcolor\\\":\\\"white\\\",\\\"ticks\\\":\\\"\\\",\\\"linecolor\\\":\\\"white\\\"}},\\\"autotypenumbers\\\":\\\"strict\\\",\\\"font\\\":{\\\"color\\\":\\\"#2a3f5f\\\"},\\\"ternary\\\":{\\\"baxis\\\":{\\\"gridcolor\\\":\\\"white\\\",\\\"ticks\\\":\\\"\\\",\\\"linecolor\\\":\\\"white\\\"},\\\"bgcolor\\\":\\\"#E5ECF6\\\",\\\"caxis\\\":{\\\"gridcolor\\\":\\\"white\\\",\\\"ticks\\\":\\\"\\\",\\\"linecolor\\\":\\\"white\\\"},\\\"aaxis\\\":{\\\"gridcolor\\\":\\\"white\\\",\\\"ticks\\\":\\\"\\\",\\\"linecolor\\\":\\\"white\\\"}},\\\"annotationdefaults\\\":{\\\"arrowhead\\\":0,\\\"arrowwidth\\\":1,\\\"arrowcolor\\\":\\\"#2a3f5f\\\"},\\\"plot_bgcolor\\\":\\\"#E5ECF6\\\",\\\"title\\\":{\\\"x\\\":0.05},\\\"scene\\\":{\\\"xaxis\\\":{\\\"gridcolor\\\":\\\"white\\\",\\\"gridwidth\\\":2,\\\"backgroundcolor\\\":\\\"#E5ECF6\\\",\\\"ticks\\\":\\\"\\\",\\\"showbackground\\\":true,\\\"zerolinecolor\\\":\\\"white\\\",\\\"linecolor\\\":\\\"white\\\"},\\\"zaxis\\\":{\\\"gridcolor\\\":\\\"white\\\",\\\"gridwidth\\\":2,\\\"backgroundcolor\\\":\\\"#E5ECF6\\\",\\\"ticks\\\":\\\"\\\",\\\"showbackground\\\":true,\\\"zerolinecolor\\\":\\\"white\\\",\\\"linecolor\\\":\\\"white\\\"},\\\"yaxis\\\":{\\\"gridcolor\\\":\\\"white\\\",\\\"gridwidth\\\":2,\\\"backgroundcolor\\\":\\\"#E5ECF6\\\",\\\"ticks\\\":\\\"\\\",\\\"showbackground\\\":true,\\\"zerolinecolor\\\":\\\"white\\\",\\\"linecolor\\\":\\\"white\\\"}},\\\"colorway\\\":[\\\"#636efa\\\",\\\"#EF553B\\\",\\\"#00cc96\\\",\\\"#ab63fa\\\",\\\"#FFA15A\\\",\\\"#19d3f3\\\",\\\"#FF6692\\\",\\\"#B6E880\\\",\\\"#FF97FF\\\",\\\"#FECB52\\\"]},\\\"data\\\":{\\\"barpolar\\\":[{\\\"type\\\":\\\"barpolar\\\",\\\"marker\\\":{\\\"line\\\":{\\\"color\\\":\\\"#E5ECF6\\\",\\\"width\\\":0.5}}}],\\\"carpet\\\":[{\\\"aaxis\\\":{\\\"gridcolor\\\":\\\"white\\\",\\\"endlinecolor\\\":\\\"#2a3f5f\\\",\\\"minorgridcolor\\\":\\\"white\\\",\\\"startlinecolor\\\":\\\"#2a3f5f\\\",\\\"linecolor\\\":\\\"white\\\"},\\\"type\\\":\\\"carpet\\\",\\\"baxis\\\":{\\\"gridcolor\\\":\\\"white\\\",\\\"endlinecolor\\\":\\\"#2a3f5f\\\",\\\"minorgridcolor\\\":\\\"white\\\",\\\"startlinecolor\\\":\\\"#2a3f5f\\\",\\\"linecolor\\\":\\\"white\\\"}}],\\\"scatterpolar\\\":[{\\\"type\\\":\\\"scatterpolar\\\",\\\"marker\\\":{\\\"colorbar\\\":{\\\"ticks\\\":\\\"\\\",\\\"outlinewidth\\\":0}}}],\\\"parcoords\\\":[{\\\"line\\\":{\\\"colorbar\\\":{\\\"ticks\\\":\\\"\\\",\\\"outlinewidth\\\":0}},\\\"type\\\":\\\"parcoords\\\"}],\\\"scatter\\\":[{\\\"type\\\":\\\"scatter\\\",\\\"marker\\\":{\\\"colorbar\\\":{\\\"ticks\\\":\\\"\\\",\\\"outlinewidth\\\":0}}}],\\\"histogram2dcontour\\\":[{\\\"colorbar\\\":{\\\"ticks\\\":\\\"\\\",\\\"outlinewidth\\\":0},\\\"type\\\":\\\"histogram2dcontour\\\",\\\"colorscale\\\":[[0.0,\\\"#0d0887\\\"],[0.1111111111111111,\\\"#46039f\\\"],[0.2222222222222222,\\\"#7201a8\\\"],[0.3333333333333333,\\\"#9c179e\\\"],[0.4444444444444444,\\\"#bd3786\\\"],[0.5555555555555556,\\\"#d8576b\\\"],[0.6666666666666666,\\\"#ed7953\\\"],[0.7777777777777778,\\\"#fb9f3a\\\"],[0.8888888888888888,\\\"#fdca26\\\"],[1.0,\\\"#f0f921\\\"]]}],\\\"contour\\\":[{\\\"colorbar\\\":{\\\"ticks\\\":\\\"\\\",\\\"outlinewidth\\\":0},\\\"type\\\":\\\"contour\\\",\\\"colorscale\\\":[[0.0,\\\"#0d0887\\\"],[0.1111111111111111,\\\"#46039f\\\"],[0.2222222222222222,\\\"#7201a8\\\"],[0.3333333333333333,\\\"#9c179e\\\"],[0.4444444444444444,\\\"#bd3786\\\"],[0.5555555555555556,\\\"#d8576b\\\"],[0.6666666666666666,\\\"#ed7953\\\"],[0.7777777777777778,\\\"#fb9f3a\\\"],[0.8888888888888888,\\\"#fdca26\\\"],[1.0,\\\"#f0f921\\\"]]}],\\\"scattercarpet\\\":[{\\\"type\\\":\\\"scattercarpet\\\",\\\"marker\\\":{\\\"colorbar\\\":{\\\"ticks\\\":\\\"\\\",\\\"outlinewidth\\\":0}}}],\\\"mesh3d\\\":[{\\\"colorbar\\\":{\\\"ticks\\\":\\\"\\\",\\\"outlinewidth\\\":0},\\\"type\\\":\\\"mesh3d\\\"}],\\\"surface\\\":[{\\\"colorbar\\\":{\\\"ticks\\\":\\\"\\\",\\\"outlinewidth\\\":0},\\\"type\\\":\\\"surface\\\",\\\"colorscale\\\":[[0.0,\\\"#0d0887\\\"],[0.1111111111111111,\\\"#46039f\\\"],[0.2222222222222222,\\\"#7201a8\\\"],[0.3333333333333333,\\\"#9c179e\\\"],[0.4444444444444444,\\\"#bd3786\\\"],[0.5555555555555556,\\\"#d8576b\\\"],[0.6666666666666666,\\\"#ed7953\\\"],[0.7777777777777778,\\\"#fb9f3a\\\"],[0.8888888888888888,\\\"#fdca26\\\"],[1.0,\\\"#f0f921\\\"]]}],\\\"scattermapbox\\\":[{\\\"type\\\":\\\"scattermapbox\\\",\\\"marker\\\":{\\\"colorbar\\\":{\\\"ticks\\\":\\\"\\\",\\\"outlinewidth\\\":0}}}],\\\"scattergeo\\\":[{\\\"type\\\":\\\"scattergeo\\\",\\\"marker\\\":{\\\"colorbar\\\":{\\\"ticks\\\":\\\"\\\",\\\"outlinewidth\\\":0}}}],\\\"histogram\\\":[{\\\"type\\\":\\\"histogram\\\",\\\"marker\\\":{\\\"colorbar\\\":{\\\"ticks\\\":\\\"\\\",\\\"outlinewidth\\\":0}}}],\\\"pie\\\":[{\\\"type\\\":\\\"pie\\\",\\\"automargin\\\":true}],\\\"choropleth\\\":[{\\\"colorbar\\\":{\\\"ticks\\\":\\\"\\\",\\\"outlinewidth\\\":0},\\\"type\\\":\\\"choropleth\\\"}],\\\"heatmapgl\\\":[{\\\"colorbar\\\":{\\\"ticks\\\":\\\"\\\",\\\"outlinewidth\\\":0},\\\"type\\\":\\\"heatmapgl\\\",\\\"colorscale\\\":[[0.0,\\\"#0d0887\\\"],[0.1111111111111111,\\\"#46039f\\\"],[0.2222222222222222,\\\"#7201a8\\\"],[0.3333333333333333,\\\"#9c179e\\\"],[0.4444444444444444,\\\"#bd3786\\\"],[0.5555555555555556,\\\"#d8576b\\\"],[0.6666666666666666,\\\"#ed7953\\\"],[0.7777777777777778,\\\"#fb9f3a\\\"],[0.8888888888888888,\\\"#fdca26\\\"],[1.0,\\\"#f0f921\\\"]]}],\\\"bar\\\":[{\\\"type\\\":\\\"bar\\\",\\\"error_y\\\":{\\\"color\\\":\\\"#2a3f5f\\\"},\\\"error_x\\\":{\\\"color\\\":\\\"#2a3f5f\\\"},\\\"marker\\\":{\\\"line\\\":{\\\"color\\\":\\\"#E5ECF6\\\",\\\"width\\\":0.5}}}],\\\"heatmap\\\":[{\\\"colorbar\\\":{\\\"ticks\\\":\\\"\\\",\\\"outlinewidth\\\":0},\\\"type\\\":\\\"heatmap\\\",\\\"colorscale\\\":[[0.0,\\\"#0d0887\\\"],[0.1111111111111111,\\\"#46039f\\\"],[0.2222222222222222,\\\"#7201a8\\\"],[0.3333333333333333,\\\"#9c179e\\\"],[0.4444444444444444,\\\"#bd3786\\\"],[0.5555555555555556,\\\"#d8576b\\\"],[0.6666666666666666,\\\"#ed7953\\\"],[0.7777777777777778,\\\"#fb9f3a\\\"],[0.8888888888888888,\\\"#fdca26\\\"],[1.0,\\\"#f0f921\\\"]]}],\\\"contourcarpet\\\":[{\\\"colorbar\\\":{\\\"ticks\\\":\\\"\\\",\\\"outlinewidth\\\":0},\\\"type\\\":\\\"contourcarpet\\\"}],\\\"table\\\":[{\\\"type\\\":\\\"table\\\",\\\"header\\\":{\\\"line\\\":{\\\"color\\\":\\\"white\\\"},\\\"fill\\\":{\\\"color\\\":\\\"#C8D4E3\\\"}},\\\"cells\\\":{\\\"line\\\":{\\\"color\\\":\\\"white\\\"},\\\"fill\\\":{\\\"color\\\":\\\"#EBF0F8\\\"}}}],\\\"scatter3d\\\":[{\\\"line\\\":{\\\"colorbar\\\":{\\\"ticks\\\":\\\"\\\",\\\"outlinewidth\\\":0}},\\\"type\\\":\\\"scatter3d\\\",\\\"marker\\\":{\\\"colorbar\\\":{\\\"ticks\\\":\\\"\\\",\\\"outlinewidth\\\":0}}}],\\\"scattergl\\\":[{\\\"type\\\":\\\"scattergl\\\",\\\"marker\\\":{\\\"colorbar\\\":{\\\"ticks\\\":\\\"\\\",\\\"outlinewidth\\\":0}}}],\\\"histogram2d\\\":[{\\\"colorbar\\\":{\\\"ticks\\\":\\\"\\\",\\\"outlinewidth\\\":0},\\\"type\\\":\\\"histogram2d\\\",\\\"colorscale\\\":[[0.0,\\\"#0d0887\\\"],[0.1111111111111111,\\\"#46039f\\\"],[0.2222222222222222,\\\"#7201a8\\\"],[0.3333333333333333,\\\"#9c179e\\\"],[0.4444444444444444,\\\"#bd3786\\\"],[0.5555555555555556,\\\"#d8576b\\\"],[0.6666666666666666,\\\"#ed7953\\\"],[0.7777777777777778,\\\"#fb9f3a\\\"],[0.8888888888888888,\\\"#fdca26\\\"],[1.0,\\\"#f0f921\\\"]]}],\\\"scatterternary\\\":[{\\\"type\\\":\\\"scatterternary\\\",\\\"marker\\\":{\\\"colorbar\\\":{\\\"ticks\\\":\\\"\\\",\\\"outlinewidth\\\":0}}}],\\\"scatterpolargl\\\":[{\\\"type\\\":\\\"scatterpolargl\\\",\\\"marker\\\":{\\\"colorbar\\\":{\\\"ticks\\\":\\\"\\\",\\\"outlinewidth\\\":0}}}]}},\\\"height\\\":510,\\\"margin\\\":{\\\"l\\\":50,\\\"b\\\":50,\\\"r\\\":50,\\\"t\\\":60},\\\"title\\\":\\\"test\\\",\\\"yaxis\\\":{\\\"showgrid\\\":true,\\\"showline\\\":true,\\\"showticklabels\\\":true,\\\"linewidth\\\":5,\\\"mirror\\\":true,\\\"linecolor\\\":\\\"black\\\"},\\\"plot_bgcolor\\\":\\\"rgba(0,0,0,0)\\\",\\\"width\\\":510},{\\\"showLink\\\":false,\\\"editable\\\":false,\\\"responsive\\\":true,\\\"staticPlot\\\":false,\\\"scrollZoom\\\":true}); gd.on(\\\"plotly_hover\\\",(function (data){var filtered_data=WebIO.PlotlyCommands.filterEventData(gd,data,\\\"hover\\\"); return !(filtered_data.isnil) ? (WebIO.setval({\\\"name\\\":\\\"hover\\\",\\\"scope\\\":\\\"13374531528052713748\\\",\\\"id\\\":\\\"111\\\",\\\"type\\\":\\\"observable\\\"},filtered_data.out)) : undefined})); gd.on(\\\"plotly_unhover\\\",(function (){return WebIO.setval({\\\"name\\\":\\\"hover\\\",\\\"scope\\\":\\\"13374531528052713748\\\",\\\"id\\\":\\\"111\\\",\\\"type\\\":\\\"observable\\\"},{})})); gd.on(\\\"plotly_selected\\\",(function (data){var filtered_data=WebIO.PlotlyCommands.filterEventData(gd,data,\\\"selected\\\"); return !(filtered_data.isnil) ? (WebIO.setval({\\\"name\\\":\\\"selected\\\",\\\"scope\\\":\\\"13374531528052713748\\\",\\\"id\\\":\\\"112\\\",\\\"type\\\":\\\"observable\\\"},filtered_data.out)) : undefined})); gd.on(\\\"plotly_deselect\\\",(function (){return WebIO.setval({\\\"name\\\":\\\"selected\\\",\\\"scope\\\":\\\"13374531528052713748\\\",\\\"id\\\":\\\"112\\\",\\\"type\\\":\\\"observable\\\"},{})})); gd.on(\\\"plotly_relayout\\\",(function (data){var filtered_data=WebIO.PlotlyCommands.filterEventData(gd,data,\\\"relayout\\\"); return !(filtered_data.isnil) ? (WebIO.setval({\\\"name\\\":\\\"relayout\\\",\\\"scope\\\":\\\"13374531528052713748\\\",\\\"id\\\":\\\"114\\\",\\\"type\\\":\\\"observable\\\"},filtered_data.out)) : undefined})); return gd.on(\\\"plotly_click\\\",(function (data){var filtered_data=WebIO.PlotlyCommands.filterEventData(gd,data,\\\"click\\\"); return !(filtered_data.isnil) ? (WebIO.setval({\\\"name\\\":\\\"click\\\",\\\"scope\\\":\\\"13374531528052713748\\\",\\\"id\\\":\\\"113\\\",\\\"type\\\":\\\"observable\\\"},filtered_data.out)) : undefined}))}));\\n    (WebIO.importBlock({\\\"data\\\":[{\\\"name\\\":\\\"Plotly\\\",\\\"type\\\":\\\"js\\\",\\\"url\\\":\\\"\\/assetserver\\/b267c3137400db01c304fe886fe6f707be7fdb37-plotly.min.js\\\"},{\\\"name\\\":null,\\\"type\\\":\\\"js\\\",\\\"url\\\":\\\"\\/assetserver\\/020f2e8a4619f2ae880fff9315e6547eef1aff0b-plotly_webio.bundle.js\\\"}],\\\"type\\\":\\\"async_block\\\"})).then((imports) => handler.apply(this, imports));\\n}\\n\"],\"observables\":{\"_toImage\":{\"sync\":false,\"id\":\"118\",\"value\":{}},\"hover\":{\"sync\":false,\"id\":\"111\",\"value\":{}},\"selected\":{\"sync\":false,\"id\":\"112\",\"value\":{}},\"__gd_contents\":{\"sync\":false,\"id\":\"116\",\"value\":{}},\"click\":{\"sync\":false,\"id\":\"113\",\"value\":{}},\"image\":{\"sync\":true,\"id\":\"115\",\"value\":\"\"},\"__get_gd_contents\":{\"sync\":false,\"id\":\"120\",\"value\":\"\"},\"_downloadImage\":{\"sync\":false,\"id\":\"119\",\"value\":{}},\"relayout\":{\"sync\":false,\"id\":\"114\",\"value\":{}},\"_commands\":{\"sync\":false,\"id\":\"117\",\"value\":[]}}},\"children\":[{\"props\":{\"id\":\"plot-3a45c4ba-bbda-4396-aa6c-77541a911f2b\"},\"nodeType\":\"DOM\",\"type\":\"node\",\"instanceArgs\":{\"namespace\":\"html\",\"tag\":\"div\"},\"children\":[]}]},\n",
       "        window,\n",
       "    );\n",
       "    })()\n",
       "    </script>\n",
       "</div>\n"
      ],
      "text/plain": [
       "data: [\n",
       "  \"scatter with fields line, mode, type, x, and y\",\n",
       "  \"scatter with fields line, mode, type, x, and y\",\n",
       "  \"scatter with fields line, mode, type, x, and y\",\n",
       "  \"scatter with fields line, mode, type, x, and y\",\n",
       "  \"scatter with fields line, mode, type, x, and y\",\n",
       "  \"scatter with fields line, mode, type, x, and y\"\n",
       "]\n",
       "\n",
       "layout: \"layout with fields height, margin, plot_bgcolor, showlegend, template, title, width, xaxis, and yaxis\"\n",
       "\n"
      ]
     },
     "metadata": {},
     "output_type": "display_data"
    }
   ],
   "source": [
    "let nps::Int = 100, t1Δ = 1.0, t2Δ = 1.0, t3Δ = 1.0, t1∇ = 1.0, t2∇ = 1.0, t3∇ = 1.0,\n",
    "    λI1Δ = 0.0, λI2Δ = 0.0, λI3Δ = 0.0, λI1∇ = 0.0, λI2∇ = 0.0, λI3∇ = 0.0,\n",
    "    λR1Δ = 0.0, λR2Δ = 0.0, λR3Δ = 0.0, λR1∇ = 0.0, λR2∇ = 0.0, λR3∇ = 0.0,\n",
    "    ϕ = 0.0, θ = 0.0\n",
    "\n",
    "    p::ParamsSOCModel = ParamsSOCModel(t1Δ, t2Δ, t3Δ, λI1Δ, λI2Δ, λI3Δ, λR1Δ, λR2Δ, λR3Δ,\n",
    "    t1∇, t2∇, t3∇, λI1∇, λI2∇, λI3∇, λR1∇, λR2∇, λR3∇, ϕ, θ)\n",
    "    println(\"t1Δ = \", p.t1Δ)\n",
    "    println(\"t2Δ = \", p.t2Δ)\n",
    "    println(\"t3Δ = \", p.t3Δ)\n",
    "    println(\"t1∇ = \", p.t1∇)\n",
    "    println(\"t2∇ = \", p.t2∇)\n",
    "    println(\"t3∇ = \", p.t3∇)\n",
    "    \n",
    "    kpath_nodes::Vector{SVector{2, Float64}} = [high_symmetry_points[\"Γ\"], \n",
    "                    high_symmetry_points[\"K\"], \n",
    "                    high_symmetry_points[\"M\"], \n",
    "                    high_symmetry_points[\"Γ\"]];\n",
    "    kpath_fbz::Vector{Vector{Float64}} = interpolate(kpath_nodes, nps);\n",
    "    kpath_fbz = [SVector{2, Float64}(v) for v ∈ kpath_fbz]\n",
    "    plot_SOC_6x6_kagome_bands(;p = p, seedname = \"test\", kpath = kpath_fbz, title = Nothing)\n",
    "end\n"
   ]
  }
 ],
 "metadata": {
  "kernelspec": {
   "display_name": "Julia 1.11.2",
   "language": "julia",
   "name": "julia-1.11"
  },
  "language_info": {
   "file_extension": ".jl",
   "mimetype": "application/julia",
   "name": "julia",
   "version": "1.11.2"
  }
 },
 "nbformat": 4,
 "nbformat_minor": 2
}
