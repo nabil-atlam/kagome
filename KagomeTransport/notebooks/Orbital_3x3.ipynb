{
 "cells": [
  {
   "cell_type": "markdown",
   "metadata": {},
   "source": [
    "### In this notebook, we explore the electronic band structure of the kagome tight-binding model in the nearest-neighbor limit.\n",
    "\n",
    "We investigate two main scenarios: \n",
    "1. $\\mathcal{C}_6$ is explicitly-broken \n",
    "2. $\\mathcal{C}_6$ is preserved\n",
    "\n",
    "\n",
    "\n"
   ]
  },
  {
   "cell_type": "code",
   "execution_count": 4,
   "metadata": {},
   "outputs": [],
   "source": [
    "using LinearAlgebra\n",
    "using Makie \n",
    "using CairoMakie \n",
    "using Brillouin\n",
    "using Printf\n",
    "using PlotlyJS\n",
    "using Symbolics\n",
    "using StaticArrays"
   ]
  },
  {
   "cell_type": "code",
   "execution_count": 5,
   "metadata": {},
   "outputs": [
    {
     "name": "stdout",
     "output_type": "stream",
     "text": [
      "--- Plotting the Wigner-Seitz cell in real space. \n",
      "\n",
      "--- Vertices of the real Wigner-Seitz cell (in reduced coordinates): \n",
      "  0.666667   0.333333 \n",
      "  0.333333  -0.333333 \n",
      " -0.333333  -0.666667 \n",
      " -0.666667  -0.333333 \n",
      " -0.333333   0.333333 \n",
      "  0.333333   0.666667 \n",
      "\n",
      "--- Plotting the Wigner-Seitz cell in reciprocal space. \n",
      "\n",
      "--- Vertices of the reciprocal space Wigner-Seitz cell (in reduced coordinates): \n",
      " -0.666667   0.333333 \n",
      " -0.333333   0.666667 \n",
      "  0.333333   0.333333 \n",
      "  0.666667  -0.333333 \n",
      "  0.333333  -0.666667 \n",
      " -0.333333  -0.333333 \n",
      "\n",
      "--- Vertices of the reciprocal space Wigner-Seitz cell (in cartesian coordinates): \n",
      "  2.094395   3.627599 \n",
      "  4.188790  -0.000000 \n",
      "  2.094395  -3.627599 \n",
      " -2.094395  -3.627599 \n",
      " -4.188790   0.000000 \n",
      " -2.094395   3.627599 \n",
      "\n"
     ]
    },
    {
     "data": {
      "application/vnd.plotly.v1+json": {
       "config": {
        "displaylogo": false,
        "editable": false,
        "responsive": true,
        "scrollZoom": true,
        "showLink": false,
        "staticPlot": false
       },
       "data": [
        {
         "hoverinfo": "text+x+y",
         "hovertext": "Cell",
         "line": {
          "color": "rgb(47,54,64)",
          "width": 3
         },
         "mode": "lines",
         "type": "scatter",
         "x": [
          -0.4999999999999999,
          0,
          0.4999999999999998,
          0.4999999999999999,
          0,
          -0.4999999999999998,
          -0.4999999999999999
         ],
         "y": [
          -0.2886751345948128,
          -0.5773502691896257,
          -0.288675134594813,
          0.2886751345948128,
          0.5773502691896257,
          0.288675134594813,
          -0.2886751345948128
         ]
        },
        {
         "hoverinfo": "text",
         "hovertext": "<b>v</b><sub>1</sub>",
         "line": {
          "color": "rgb(212,216,227)",
          "width": 5
         },
         "mode": "lines",
         "type": "scatter",
         "x": [
          0,
          -0.2375
         ],
         "y": [
          0,
          -0.41136206679760834
         ]
        },
        {
         "hoverinfo": "text",
         "hovertext": "<b>v</b><sub>2</sub>",
         "line": {
          "color": "rgb(212,216,227)",
          "width": 5
         },
         "mode": "lines",
         "type": "scatter",
         "x": [
          0,
          0.4749999999999998
         ],
         "y": [
          0,
          -1.0547118733938984e-16
         ]
        },
        {
         "hoverinfo": "text+x+y",
         "hovertext": "<b>v</b><sub>1</sub>",
         "line": {
          "color": "rgb(39,60,117)",
          "width": 6
         },
         "mode": "lines",
         "type": "scatter",
         "x": [
          -0.2625,
          -0.5
         ],
         "y": [
          -0.45466333698683026,
          -0.8660254037844386
         ]
        },
        {
         "hoverinfo": "text+x+y",
         "hovertext": "<b>v</b><sub>2</sub>",
         "line": {
          "color": "rgb(39,60,117)",
          "width": 6
         },
         "mode": "lines",
         "type": "scatter",
         "x": [
          0.5249999999999998,
          0.9999999999999999
         ],
         "y": [
          -1.1657341758564142e-16,
          -2.220446049250313e-16
         ]
        },
        {
         "hoverinfo": "text",
         "hovertext": "<b>x</b>",
         "line": {
          "color": "rgb(242,215,208)",
          "width": 5
         },
         "mode": "lines",
         "type": "scatter",
         "x": [
          0,
          0.4749999999999998
         ],
         "y": [
          0,
          0
         ]
        },
        {
         "hoverinfo": "text",
         "hovertext": "<b>y</b>",
         "line": {
          "color": "rgb(242,215,208)",
          "width": 5
         },
         "mode": "lines",
         "type": "scatter",
         "x": [
          0,
          0
         ],
         "y": [
          0,
          0.5523502691896257
         ]
        },
        {
         "hoverinfo": "text",
         "hovertext": "<b>x</b>",
         "line": {
          "color": "rgb(194,54,22)",
          "width": 6
         },
         "mode": "lines",
         "type": "scatter",
         "x": [
          0.5249999999999998,
          0.6999999999999998
         ],
         "y": [
          0,
          0
         ]
        },
        {
         "hoverinfo": "text",
         "hovertext": "<b>y</b>",
         "line": {
          "color": "rgb(194,54,22)",
          "width": 6
         },
         "mode": "lines",
         "type": "scatter",
         "x": [
          0,
          0
         ],
         "y": [
          0.6023502691896258,
          0.7773502691896257
         ]
        }
       ],
       "frames": [],
       "layout": {
        "annotations": [
         {
          "arrowcolor": "rgb(39,60,117)",
          "arrowhead": 2,
          "arrowsize": 0.5,
          "arrowwidth": 6,
          "ax": -0.475,
          "axref": "x",
          "ay": -0.8227241335952167,
          "ayref": "y",
          "showarrow": true,
          "x": -0.525,
          "xref": "ax",
          "y": -0.9093266739736605,
          "yref": "ay"
         },
         {
          "arrowcolor": "rgb(39,60,117)",
          "arrowhead": 2,
          "arrowsize": 0.5,
          "arrowwidth": 6,
          "ax": 0.9499999999999998,
          "axref": "x",
          "ay": -2.1094237467877973e-16,
          "ayref": "y",
          "showarrow": true,
          "x": 1.0499999999999998,
          "xref": "ax",
          "y": -2.331468351712829e-16,
          "yref": "ay"
         },
         {
          "arrowcolor": "rgb(194,54,22)",
          "arrowhead": 2,
          "arrowsize": 0.5,
          "arrowwidth": 6,
          "ax": 0.6499999999999998,
          "axref": "x",
          "ay": 0,
          "ayref": "y",
          "showarrow": true,
          "x": 0.7499999999999999,
          "xref": "ax",
          "y": 0,
          "yref": "ay"
         },
         {
          "arrowcolor": "rgb(194,54,22)",
          "arrowhead": 2,
          "arrowsize": 0.5,
          "arrowwidth": 6,
          "ax": 0,
          "axref": "x",
          "ay": 0.7273502691896256,
          "ayref": "y",
          "showarrow": true,
          "x": 0,
          "xref": "ax",
          "y": 0.8273502691896257,
          "yref": "ay"
         }
        ],
        "aspectmode": "data",
        "autosize": false,
        "hovermode": "closest",
        "margin": {
         "b": 50,
         "l": 50,
         "r": 50,
         "t": 60
        },
        "paper_bgcolor": "rgba(255, 255, 255, 1)",
        "plot_bgcolor": "rgba(255, 255, 255, 1)",
        "showlegend": false,
        "template": {
         "data": {
          "bar": [
           {
            "error_x": {
             "color": "#2a3f5f"
            },
            "error_y": {
             "color": "#2a3f5f"
            },
            "marker": {
             "line": {
              "color": "#E5ECF6",
              "width": 0.5
             }
            },
            "type": "bar"
           }
          ],
          "barpolar": [
           {
            "marker": {
             "line": {
              "color": "#E5ECF6",
              "width": 0.5
             }
            },
            "type": "barpolar"
           }
          ],
          "carpet": [
           {
            "aaxis": {
             "endlinecolor": "#2a3f5f",
             "gridcolor": "white",
             "linecolor": "white",
             "minorgridcolor": "white",
             "startlinecolor": "#2a3f5f"
            },
            "baxis": {
             "endlinecolor": "#2a3f5f",
             "gridcolor": "white",
             "linecolor": "white",
             "minorgridcolor": "white",
             "startlinecolor": "#2a3f5f"
            },
            "type": "carpet"
           }
          ],
          "choropleth": [
           {
            "colorbar": {
             "outlinewidth": 0,
             "ticks": ""
            },
            "type": "choropleth"
           }
          ],
          "contour": [
           {
            "colorbar": {
             "outlinewidth": 0,
             "ticks": ""
            },
            "colorscale": [
             [
              0,
              "#0d0887"
             ],
             [
              0.1111111111111111,
              "#46039f"
             ],
             [
              0.2222222222222222,
              "#7201a8"
             ],
             [
              0.3333333333333333,
              "#9c179e"
             ],
             [
              0.4444444444444444,
              "#bd3786"
             ],
             [
              0.5555555555555556,
              "#d8576b"
             ],
             [
              0.6666666666666666,
              "#ed7953"
             ],
             [
              0.7777777777777778,
              "#fb9f3a"
             ],
             [
              0.8888888888888888,
              "#fdca26"
             ],
             [
              1,
              "#f0f921"
             ]
            ],
            "type": "contour"
           }
          ],
          "contourcarpet": [
           {
            "colorbar": {
             "outlinewidth": 0,
             "ticks": ""
            },
            "type": "contourcarpet"
           }
          ],
          "heatmap": [
           {
            "colorbar": {
             "outlinewidth": 0,
             "ticks": ""
            },
            "colorscale": [
             [
              0,
              "#0d0887"
             ],
             [
              0.1111111111111111,
              "#46039f"
             ],
             [
              0.2222222222222222,
              "#7201a8"
             ],
             [
              0.3333333333333333,
              "#9c179e"
             ],
             [
              0.4444444444444444,
              "#bd3786"
             ],
             [
              0.5555555555555556,
              "#d8576b"
             ],
             [
              0.6666666666666666,
              "#ed7953"
             ],
             [
              0.7777777777777778,
              "#fb9f3a"
             ],
             [
              0.8888888888888888,
              "#fdca26"
             ],
             [
              1,
              "#f0f921"
             ]
            ],
            "type": "heatmap"
           }
          ],
          "heatmapgl": [
           {
            "colorbar": {
             "outlinewidth": 0,
             "ticks": ""
            },
            "colorscale": [
             [
              0,
              "#0d0887"
             ],
             [
              0.1111111111111111,
              "#46039f"
             ],
             [
              0.2222222222222222,
              "#7201a8"
             ],
             [
              0.3333333333333333,
              "#9c179e"
             ],
             [
              0.4444444444444444,
              "#bd3786"
             ],
             [
              0.5555555555555556,
              "#d8576b"
             ],
             [
              0.6666666666666666,
              "#ed7953"
             ],
             [
              0.7777777777777778,
              "#fb9f3a"
             ],
             [
              0.8888888888888888,
              "#fdca26"
             ],
             [
              1,
              "#f0f921"
             ]
            ],
            "type": "heatmapgl"
           }
          ],
          "histogram": [
           {
            "marker": {
             "colorbar": {
              "outlinewidth": 0,
              "ticks": ""
             }
            },
            "type": "histogram"
           }
          ],
          "histogram2d": [
           {
            "colorbar": {
             "outlinewidth": 0,
             "ticks": ""
            },
            "colorscale": [
             [
              0,
              "#0d0887"
             ],
             [
              0.1111111111111111,
              "#46039f"
             ],
             [
              0.2222222222222222,
              "#7201a8"
             ],
             [
              0.3333333333333333,
              "#9c179e"
             ],
             [
              0.4444444444444444,
              "#bd3786"
             ],
             [
              0.5555555555555556,
              "#d8576b"
             ],
             [
              0.6666666666666666,
              "#ed7953"
             ],
             [
              0.7777777777777778,
              "#fb9f3a"
             ],
             [
              0.8888888888888888,
              "#fdca26"
             ],
             [
              1,
              "#f0f921"
             ]
            ],
            "type": "histogram2d"
           }
          ],
          "histogram2dcontour": [
           {
            "colorbar": {
             "outlinewidth": 0,
             "ticks": ""
            },
            "colorscale": [
             [
              0,
              "#0d0887"
             ],
             [
              0.1111111111111111,
              "#46039f"
             ],
             [
              0.2222222222222222,
              "#7201a8"
             ],
             [
              0.3333333333333333,
              "#9c179e"
             ],
             [
              0.4444444444444444,
              "#bd3786"
             ],
             [
              0.5555555555555556,
              "#d8576b"
             ],
             [
              0.6666666666666666,
              "#ed7953"
             ],
             [
              0.7777777777777778,
              "#fb9f3a"
             ],
             [
              0.8888888888888888,
              "#fdca26"
             ],
             [
              1,
              "#f0f921"
             ]
            ],
            "type": "histogram2dcontour"
           }
          ],
          "mesh3d": [
           {
            "colorbar": {
             "outlinewidth": 0,
             "ticks": ""
            },
            "type": "mesh3d"
           }
          ],
          "parcoords": [
           {
            "line": {
             "colorbar": {
              "outlinewidth": 0,
              "ticks": ""
             }
            },
            "type": "parcoords"
           }
          ],
          "pie": [
           {
            "automargin": true,
            "type": "pie"
           }
          ],
          "scatter": [
           {
            "marker": {
             "colorbar": {
              "outlinewidth": 0,
              "ticks": ""
             }
            },
            "type": "scatter"
           }
          ],
          "scatter3d": [
           {
            "line": {
             "colorbar": {
              "outlinewidth": 0,
              "ticks": ""
             }
            },
            "marker": {
             "colorbar": {
              "outlinewidth": 0,
              "ticks": ""
             }
            },
            "type": "scatter3d"
           }
          ],
          "scattercarpet": [
           {
            "marker": {
             "colorbar": {
              "outlinewidth": 0,
              "ticks": ""
             }
            },
            "type": "scattercarpet"
           }
          ],
          "scattergeo": [
           {
            "marker": {
             "colorbar": {
              "outlinewidth": 0,
              "ticks": ""
             }
            },
            "type": "scattergeo"
           }
          ],
          "scattergl": [
           {
            "marker": {
             "colorbar": {
              "outlinewidth": 0,
              "ticks": ""
             }
            },
            "type": "scattergl"
           }
          ],
          "scattermapbox": [
           {
            "marker": {
             "colorbar": {
              "outlinewidth": 0,
              "ticks": ""
             }
            },
            "type": "scattermapbox"
           }
          ],
          "scatterpolar": [
           {
            "marker": {
             "colorbar": {
              "outlinewidth": 0,
              "ticks": ""
             }
            },
            "type": "scatterpolar"
           }
          ],
          "scatterpolargl": [
           {
            "marker": {
             "colorbar": {
              "outlinewidth": 0,
              "ticks": ""
             }
            },
            "type": "scatterpolargl"
           }
          ],
          "scatterternary": [
           {
            "marker": {
             "colorbar": {
              "outlinewidth": 0,
              "ticks": ""
             }
            },
            "type": "scatterternary"
           }
          ],
          "surface": [
           {
            "colorbar": {
             "outlinewidth": 0,
             "ticks": ""
            },
            "colorscale": [
             [
              0,
              "#0d0887"
             ],
             [
              0.1111111111111111,
              "#46039f"
             ],
             [
              0.2222222222222222,
              "#7201a8"
             ],
             [
              0.3333333333333333,
              "#9c179e"
             ],
             [
              0.4444444444444444,
              "#bd3786"
             ],
             [
              0.5555555555555556,
              "#d8576b"
             ],
             [
              0.6666666666666666,
              "#ed7953"
             ],
             [
              0.7777777777777778,
              "#fb9f3a"
             ],
             [
              0.8888888888888888,
              "#fdca26"
             ],
             [
              1,
              "#f0f921"
             ]
            ],
            "type": "surface"
           }
          ],
          "table": [
           {
            "cells": {
             "fill": {
              "color": "#EBF0F8"
             },
             "line": {
              "color": "white"
             }
            },
            "header": {
             "fill": {
              "color": "#C8D4E3"
             },
             "line": {
              "color": "white"
             }
            },
            "type": "table"
           }
          ]
         },
         "layout": {
          "annotationdefaults": {
           "arrowcolor": "#2a3f5f",
           "arrowhead": 0,
           "arrowwidth": 1
          },
          "autotypenumbers": "strict",
          "coloraxis": {
           "colorbar": {
            "outlinewidth": 0,
            "ticks": ""
           }
          },
          "colorscale": {
           "diverging": [
            [
             0,
             "#8e0152"
            ],
            [
             0.1,
             "#c51b7d"
            ],
            [
             0.2,
             "#de77ae"
            ],
            [
             0.3,
             "#f1b6da"
            ],
            [
             0.4,
             "#fde0ef"
            ],
            [
             0.5,
             "#f7f7f7"
            ],
            [
             0.6,
             "#e6f5d0"
            ],
            [
             0.7,
             "#b8e186"
            ],
            [
             0.8,
             "#7fbc41"
            ],
            [
             0.9,
             "#4d9221"
            ],
            [
             1,
             "#276419"
            ]
           ],
           "sequential": [
            [
             0,
             "#0d0887"
            ],
            [
             0.1111111111111111,
             "#46039f"
            ],
            [
             0.2222222222222222,
             "#7201a8"
            ],
            [
             0.3333333333333333,
             "#9c179e"
            ],
            [
             0.4444444444444444,
             "#bd3786"
            ],
            [
             0.5555555555555556,
             "#d8576b"
            ],
            [
             0.6666666666666666,
             "#ed7953"
            ],
            [
             0.7777777777777778,
             "#fb9f3a"
            ],
            [
             0.8888888888888888,
             "#fdca26"
            ],
            [
             1,
             "#f0f921"
            ]
           ],
           "sequentialminus": [
            [
             0,
             "#0d0887"
            ],
            [
             0.1111111111111111,
             "#46039f"
            ],
            [
             0.2222222222222222,
             "#7201a8"
            ],
            [
             0.3333333333333333,
             "#9c179e"
            ],
            [
             0.4444444444444444,
             "#bd3786"
            ],
            [
             0.5555555555555556,
             "#d8576b"
            ],
            [
             0.6666666666666666,
             "#ed7953"
            ],
            [
             0.7777777777777778,
             "#fb9f3a"
            ],
            [
             0.8888888888888888,
             "#fdca26"
            ],
            [
             1,
             "#f0f921"
            ]
           ]
          },
          "colorway": [
           "#636efa",
           "#EF553B",
           "#00cc96",
           "#ab63fa",
           "#FFA15A",
           "#19d3f3",
           "#FF6692",
           "#B6E880",
           "#FF97FF",
           "#FECB52"
          ],
          "font": {
           "color": "#2a3f5f"
          },
          "geo": {
           "bgcolor": "white",
           "lakecolor": "white",
           "landcolor": "#E5ECF6",
           "showlakes": true,
           "showland": true,
           "subunitcolor": "white"
          },
          "hoverlabel": {
           "align": "left"
          },
          "hovermode": "closest",
          "mapbox": {
           "style": "light"
          },
          "paper_bgcolor": "white",
          "plot_bgcolor": "#E5ECF6",
          "polar": {
           "angularaxis": {
            "gridcolor": "white",
            "linecolor": "white",
            "ticks": ""
           },
           "bgcolor": "#E5ECF6",
           "radialaxis": {
            "gridcolor": "white",
            "linecolor": "white",
            "ticks": ""
           }
          },
          "scene": {
           "xaxis": {
            "backgroundcolor": "#E5ECF6",
            "gridcolor": "white",
            "gridwidth": 2,
            "linecolor": "white",
            "showbackground": true,
            "ticks": "",
            "zerolinecolor": "white"
           },
           "yaxis": {
            "backgroundcolor": "#E5ECF6",
            "gridcolor": "white",
            "gridwidth": 2,
            "linecolor": "white",
            "showbackground": true,
            "ticks": "",
            "zerolinecolor": "white"
           },
           "zaxis": {
            "backgroundcolor": "#E5ECF6",
            "gridcolor": "white",
            "gridwidth": 2,
            "linecolor": "white",
            "showbackground": true,
            "ticks": "",
            "zerolinecolor": "white"
           }
          },
          "shapedefaults": {
           "line": {
            "color": "#2a3f5f"
           }
          },
          "ternary": {
           "aaxis": {
            "gridcolor": "white",
            "linecolor": "white",
            "ticks": ""
           },
           "baxis": {
            "gridcolor": "white",
            "linecolor": "white",
            "ticks": ""
           },
           "bgcolor": "#E5ECF6",
           "caxis": {
            "gridcolor": "white",
            "linecolor": "white",
            "ticks": ""
           }
          },
          "title": {
           "x": 0.05
          },
          "xaxis": {
           "automargin": true,
           "gridcolor": "white",
           "linecolor": "white",
           "ticks": "",
           "title": {
            "standoff": 15
           },
           "zerolinecolor": "white",
           "zerolinewidth": 2
          },
          "yaxis": {
           "automargin": true,
           "gridcolor": "white",
           "linecolor": "white",
           "ticks": "",
           "title": {
            "standoff": 15
           },
           "zerolinecolor": "white",
           "zerolinewidth": 2
          }
         }
        },
        "xaxis": {
         "range": [
          -1.0666666666666667,
          1.0666666666666667
         ],
         "showbackground": false,
         "showgrid": false,
         "tickvals": [],
         "title": {
          "text": ""
         },
         "zeroline": false
        },
        "yaxis": {
         "range": [
          -0.9326920704511052,
          0.9326920704511052
         ],
         "scaleanchor": "x",
         "scaleratio": 1,
         "showbackground": false,
         "showgrid": false,
         "tickvals": [],
         "title": {
          "text": ""
         },
         "zeroline": false
        }
       }
      },
      "image/png": "[encoded data removed]",
      "image/svg+xml": [
       "<svg class=\"main-svg\" xmlns=\"http://www.w3.org/2000/svg\" xmlns:xlink=\"http://www.w3.org/1999/xlink\" width=\"700\" height=\"500\" style=\"\" viewBox=\"0 0 700 500\"><rect x=\"0\" y=\"0\" width=\"700\" height=\"500\" style=\"fill: rgb(255, 255, 255); fill-opacity: 1;\"/><defs id=\"defs-756109\"><g class=\"clips\"><clipPath id=\"clip756109xyplot\" class=\"plotclip\"><rect width=\"600\" height=\"390\"/></clipPath><clipPath class=\"axesclip\" id=\"clip756109x\"><rect x=\"50\" y=\"0\" width=\"600\" height=\"500\"/></clipPath><clipPath class=\"axesclip\" id=\"clip756109y\"><rect x=\"0\" y=\"60\" width=\"700\" height=\"390\"/></clipPath><clipPath class=\"axesclip\" id=\"clip756109xy\"><rect x=\"50\" y=\"60\" width=\"600\" height=\"390\"/></clipPath></g><g class=\"gradients\"/><g class=\"patterns\"/></defs><g class=\"bglayer\"/><g class=\"layer-below\"><g class=\"imagelayer\"/><g class=\"shapelayer\"/></g><g class=\"cartesianlayer\"><g class=\"subplot xy\"><g class=\"layer-subplot\"><g class=\"shapelayer\"/><g class=\"imagelayer\"/></g><g class=\"gridlayer\"><g class=\"x\"/><g class=\"y\"/></g><g class=\"zerolinelayer\"/><path class=\"xlines-below\"/><path class=\"ylines-below\"/><g class=\"overlines-below\"/><g class=\"xaxislayer-below\"/><g class=\"yaxislayer-below\"/><g class=\"overaxes-below\"/><g class=\"plot\" transform=\"translate(50,60)\" clip-path=\"url(#clip756109xyplot)\"><g class=\"scatterlayer mlayer\"><g class=\"trace scatter trace30b787\" style=\"stroke-miterlimit: 2; opacity: 1;\"><g class=\"fills\"/><g class=\"errorbars\"/><g class=\"lines\"><path class=\"js-line\" d=\"M195.46,255.35L300,315.71L404.54,255.35L404.54,134.65L300,74.29L195.46,134.65L195.46,255.35\" style=\"vector-effect: non-scaling-stroke; fill: none; stroke: rgb(47, 54, 64); stroke-opacity: 1; stroke-width: 3px; opacity: 1;\"/></g><g class=\"points\"/><g class=\"text\"/></g><g class=\"trace scatter trace2743b1\" style=\"stroke-miterlimit: 2; opacity: 1;\"><g class=\"fills\"/><g class=\"errorbars\"/><g class=\"lines\"><path class=\"js-line\" d=\"M300,195L250.35,281\" style=\"vector-effect: non-scaling-stroke; fill: none; stroke: rgb(212, 216, 227); stroke-opacity: 1; stroke-width: 5px; opacity: 1;\"/></g><g class=\"points\"/><g class=\"text\"/></g><g class=\"trace scatter tracef10ff9\" style=\"stroke-miterlimit: 2; opacity: 1;\"><g class=\"fills\"/><g class=\"errorbars\"/><g class=\"lines\"><path class=\"js-line\" d=\"M300,195L399.31,195\" style=\"vector-effect: non-scaling-stroke; fill: none; stroke: rgb(212, 216, 227); stroke-opacity: 1; stroke-width: 5px; opacity: 1;\"/></g><g class=\"points\"/><g class=\"text\"/></g><g class=\"trace scatter traceb3b703\" style=\"stroke-miterlimit: 2; opacity: 1;\"><g class=\"fills\"/><g class=\"errorbars\"/><g class=\"lines\"><path class=\"js-line\" d=\"M245.12,290.06L195.46,376.06\" style=\"vector-effect: non-scaling-stroke; fill: none; stroke: rgb(39, 60, 117); stroke-opacity: 1; stroke-width: 6px; opacity: 1;\"/></g><g class=\"points\"/><g class=\"text\"/></g><g class=\"trace scatter traced931e9\" style=\"stroke-miterlimit: 2; opacity: 1;\"><g class=\"fills\"/><g class=\"errorbars\"/><g class=\"lines\"><path class=\"js-line\" d=\"M409.76,195L509.07,195\" style=\"vector-effect: non-scaling-stroke; fill: none; stroke: rgb(39, 60, 117); stroke-opacity: 1; stroke-width: 6px; opacity: 1;\"/></g><g class=\"points\"/><g class=\"text\"/></g><g class=\"trace scatter tracec870f2\" style=\"stroke-miterlimit: 2; opacity: 1;\"><g class=\"fills\"/><g class=\"errorbars\"/><g class=\"lines\"><path class=\"js-line\" d=\"M300,195L399.31,195\" style=\"vector-effect: non-scaling-stroke; fill: none; stroke: rgb(242, 215, 208); stroke-opacity: 1; stroke-width: 5px; opacity: 1;\"/></g><g class=\"points\"/><g class=\"text\"/></g><g class=\"trace scatter tracec7770f\" style=\"stroke-miterlimit: 2; opacity: 1;\"><g class=\"fills\"/><g class=\"errorbars\"/><g class=\"lines\"><path class=\"js-line\" d=\"M300,195L300,79.52\" style=\"vector-effect: non-scaling-stroke; fill: none; stroke: rgb(242, 215, 208); stroke-opacity: 1; stroke-width: 5px; opacity: 1;\"/></g><g class=\"points\"/><g class=\"text\"/></g><g class=\"trace scatter trace33fbae\" style=\"stroke-miterlimit: 2; opacity: 1;\"><g class=\"fills\"/><g class=\"errorbars\"/><g class=\"lines\"><path class=\"js-line\" d=\"M409.76,195L446.35,195\" style=\"vector-effect: non-scaling-stroke; fill: none; stroke: rgb(194, 54, 22); stroke-opacity: 1; stroke-width: 6px; opacity: 1;\"/></g><g class=\"points\"/><g class=\"text\"/></g><g class=\"trace scatter trace8a469d\" style=\"stroke-miterlimit: 2; opacity: 1;\"><g class=\"fills\"/><g class=\"errorbars\"/><g class=\"lines\"><path class=\"js-line\" d=\"M300,69.07L300,32.48\" style=\"vector-effect: non-scaling-stroke; fill: none; stroke: rgb(194, 54, 22); stroke-opacity: 1; stroke-width: 6px; opacity: 1;\"/></g><g class=\"points\"/><g class=\"text\"/></g></g></g><g class=\"overplot\"/><path class=\"xlines-above crisp\" d=\"M0,0\" style=\"fill: none;\"/><path class=\"ylines-above crisp\" d=\"M0,0\" style=\"fill: none;\"/><g class=\"overlines-above\"/><g class=\"xaxislayer-above\"/><g class=\"yaxislayer-above\"/><g class=\"overaxes-above\"/></g></g><g class=\"polarlayer\"/><g class=\"ternarylayer\"/><g class=\"geolayer\"/><g class=\"funnelarealayer\"/><g class=\"pielayer\"/><g class=\"iciclelayer\"/><g class=\"treemaplayer\"/><g class=\"sunburstlayer\"/><g class=\"glimages\"/><defs id=\"topdefs-756109\"><g class=\"clips\"/></defs><g class=\"layer-above\"><g class=\"imagelayer\"/><g class=\"shapelayer\"/></g><g class=\"infolayer\"><g class=\"g-gtitle\"/><g class=\"g-xtitle\"/><g class=\"g-ytitle\"/><g class=\"annotation\" data-index=\"0\" style=\"opacity: 1;\"><g class=\"annotation-text-g\" transform=\"rotate(0,250.69,427.01)\"><g class=\"cursor-pointer\" transform=\"translate(247,417)\"><rect class=\"bg\" x=\"0.5\" y=\"0.5\" width=\"6\" height=\"20\" style=\"stroke-width: 1px; stroke: rgb(0, 0, 0); stroke-opacity: 0; fill: rgb(0, 0, 0); fill-opacity: 0;\"/><text class=\"annotation-text\" text-anchor=\"middle\" x=\"3.5625\" y=\"15\" style=\"font-family: 'Open Sans', verdana, arial, sans-serif; font-size: 12px; fill: rgb(42, 63, 95); fill-opacity: 1; white-space: pre;\"> </text></g></g><g class=\"annotation-arrow-g\" style=\"opacity: 1;\"><path d=\"M247.69,432.20617224880385L240.24,445.11\" style=\"stroke-width: 6px; stroke: rgb(39, 60, 117); stroke-opacity: 1; stroke-dasharray: 0px, 0px, 11px, 14.9px;\"/><path d=\"M-3.7,-2.5V2.5L1.3,0Z\" transform=\"translate(242.19000244140625,441.73248291015625)rotate(119.99969619879586)scale(3)\" style=\"fill: rgb(39, 60, 117); stroke-width: 0;\"/></g></g><g class=\"annotation\" data-index=\"1\" style=\"opacity: 1;\"><g class=\"annotation-text-g\" transform=\"rotate(0,548.62,255)\"><g class=\"cursor-pointer\" transform=\"translate(545,245)\"><rect class=\"bg\" x=\"0.5\" y=\"0.5\" width=\"6\" height=\"20\" style=\"stroke-width: 1px; stroke: rgb(0, 0, 0); stroke-opacity: 0; fill: rgb(0, 0, 0); fill-opacity: 0;\"/><text class=\"annotation-text\" text-anchor=\"middle\" x=\"3.5625\" y=\"15\" style=\"font-family: 'Open Sans', verdana, arial, sans-serif; font-size: 12px; fill: rgb(42, 63, 95); fill-opacity: 1; white-space: pre;\"> </text></g></g><g class=\"annotation-arrow-g\" style=\"opacity: 1;\"><path d=\"M551.62,255L569.53,255\" style=\"stroke-width: 6px; stroke: rgb(39, 60, 117); stroke-opacity: 1; stroke-dasharray: 0px, 0px, 14.01px, 17.91px;\"/><path d=\"M-3.7,-2.5V2.5L1.3,0Z\" transform=\"translate(565.6300048828125,255)scale(3)\" style=\"fill: rgb(39, 60, 117); stroke-width: 0;\"/></g></g><g class=\"annotation\" data-index=\"2\" style=\"opacity: 1;\"><g class=\"annotation-text-g\" transform=\"rotate(0,485.9,255)\"><g class=\"cursor-pointer\" transform=\"translate(482,245)\"><rect class=\"bg\" x=\"0.5\" y=\"0.5\" width=\"6\" height=\"20\" style=\"stroke-width: 1px; stroke: rgb(0, 0, 0); stroke-opacity: 0; fill: rgb(0, 0, 0); fill-opacity: 0;\"/><text class=\"annotation-text\" text-anchor=\"middle\" x=\"3.5625\" y=\"15\" style=\"font-family: 'Open Sans', verdana, arial, sans-serif; font-size: 12px; fill: rgb(42, 63, 95); fill-opacity: 1; white-space: pre;\"> </text></g></g><g class=\"annotation-arrow-g\" style=\"opacity: 1;\"><path d=\"M488.9,255L506.8,255\" style=\"stroke-width: 6px; stroke: rgb(194, 54, 22); stroke-opacity: 1; stroke-dasharray: 0px, 0px, 14px, 17.9px;\"/><path d=\"M-3.7,-2.5V2.5L1.3,0Z\" transform=\"translate(502.8999938964844,255)scale(3)\" style=\"fill: rgb(194, 54, 22); stroke-width: 0;\"/></g></g><g class=\"annotation\" data-index=\"3\" style=\"opacity: 1;\"><g class=\"annotation-text-g\" transform=\"rotate(0,350,102.93)\"><g class=\"cursor-pointer\" transform=\"translate(347,92)\"><rect class=\"bg\" x=\"0.5\" y=\"0.5\" width=\"6\" height=\"20\" style=\"stroke-width: 1px; stroke: rgb(0, 0, 0); stroke-opacity: 0; fill: rgb(0, 0, 0); fill-opacity: 0;\"/><text class=\"annotation-text\" text-anchor=\"middle\" x=\"3.5625\" y=\"15\" style=\"font-family: 'Open Sans', verdana, arial, sans-serif; font-size: 12px; fill: rgb(42, 63, 95); fill-opacity: 1; white-space: pre;\"> </text></g></g><g class=\"annotation-arrow-g\" style=\"opacity: 1;\"><path d=\"M350,92.93L350,82.02\" style=\"stroke-width: 6px; stroke: rgb(194, 54, 22); stroke-opacity: 1; stroke-dasharray: 0px, 0px, 7.01px, 10.91px;\"/><path d=\"M-3.7,-2.5V2.5L1.3,0Z\" transform=\"translate(350,85.91999816894531)rotate(-90)scale(3)\" style=\"fill: rgb(194, 54, 22); stroke-width: 0;\"/></g></g></g></svg>"
      ],
      "text/html": [
       "<div\n",
       "    class=\"webio-mountpoint\"\n",
       "    data-webio-mountpoint=\"1717917870911065861\"\n",
       ">\n",
       "    <script>\n",
       "    (function(){\n",
       "    // Some integrations (namely, IJulia/Jupyter) use an alternate render pathway than\n",
       "    // just putting the html on the page. If WebIO isn't defined, then it's pretty likely\n",
       "    // that we're in one of those situations and the integration just isn't installed\n",
       "    // correctly.\n",
       "    if (typeof window.WebIO === \"undefined\") {\n",
       "        document\n",
       "            .querySelector('[data-webio-mountpoint=\"1717917870911065861\"]')\n",
       "            .innerHTML = (\n",
       "                '<div style=\"padding: 1em; background-color: #f8d6da; border: 1px solid #f5c6cb; font-weight: bold;\">' +\n",
       "                '<p><strong>WebIO not detected.</strong></p>' +\n",
       "                '<p>Please read ' +\n",
       "                '<a href=\"https://juliagizmos.github.io/WebIO.jl/latest/troubleshooting/not-detected/\" target=\"_blank\">the troubleshooting guide</a> ' +\n",
       "                'for more information on how to resolve this issue.</p>' +\n",
       "                '<p><a href=\"https://juliagizmos.github.io/WebIO.jl/latest/troubleshooting/not-detected/\" target=\"_blank\">https://juliagizmos.github.io/WebIO.jl/latest/troubleshooting/not-detected/</a></p>' +\n",
       "                '</div>'\n",
       "            );\n",
       "        return;\n",
       "    }\n",
       "    WebIO.mount(\n",
       "        document.querySelector('[data-webio-mountpoint=\"1717917870911065861\"]'),\n",
       "        {\"props\":{},\"nodeType\":\"Scope\",\"type\":\"node\",\"instanceArgs\":{\"imports\":{\"data\":[{\"name\":\"Plotly\",\"type\":\"js\",\"url\":\"\\/assetserver\\/b267c3137400db01c304fe886fe6f707be7fdb37-plotly.min.js\"},{\"name\":null,\"type\":\"js\",\"url\":\"\\/assetserver\\/020f2e8a4619f2ae880fff9315e6547eef1aff0b-plotly_webio.bundle.js\"}],\"type\":\"async_block\"},\"id\":\"3998747366764041265\",\"handlers\":{\"_toImage\":[\"(function (options){return this.Plotly.toImage(this.plotElem,options).then((function (data){return WebIO.setval({\\\"name\\\":\\\"image\\\",\\\"scope\\\":\\\"3998747366764041265\\\",\\\"id\\\":\\\"5\\\",\\\"type\\\":\\\"observable\\\"},data)}))})\"],\"__get_gd_contents\":[\"(function (prop){prop==\\\"data\\\" ? (WebIO.setval({\\\"name\\\":\\\"__gd_contents\\\",\\\"scope\\\":\\\"3998747366764041265\\\",\\\"id\\\":\\\"6\\\",\\\"type\\\":\\\"observable\\\"},this.plotElem.data)) : undefined; return prop==\\\"layout\\\" ? (WebIO.setval({\\\"name\\\":\\\"__gd_contents\\\",\\\"scope\\\":\\\"3998747366764041265\\\",\\\"id\\\":\\\"6\\\",\\\"type\\\":\\\"observable\\\"},this.plotElem.layout)) : undefined})\"],\"_downloadImage\":[\"(function (options){return this.Plotly.downloadImage(this.plotElem,options)})\"],\"_commands\":[\"(function (args){var fn=args.shift(); var elem=this.plotElem; var Plotly=this.Plotly; args.unshift(elem); return Plotly[fn].apply(this,args)})\"]},\"systemjs_options\":null,\"mount_callbacks\":[\"function () {\\n    var handler = ((function (Plotly,PlotlyWebIO){PlotlyWebIO.init(WebIO); var gd=this.dom.querySelector(\\\"#plot-3b410761-5ae7-4b79-b2ec-86f77be8b3ad\\\"); this.plotElem=gd; this.Plotly=Plotly; (window.Blink!==undefined) ? (gd.style.width=\\\"100%\\\", gd.style.height=\\\"100vh\\\", gd.style.marginLeft=\\\"0%\\\", gd.style.marginTop=\\\"0vh\\\") : undefined; window.onresize=(function (){return Plotly.Plots.resize(gd)}); Plotly.newPlot(gd,[{\\\"mode\\\":\\\"lines\\\",\\\"line\\\":{\\\"color\\\":\\\"rgb(47,54,64)\\\",\\\"width\\\":3},\\\"hovertext\\\":\\\"Cell\\\",\\\"y\\\":[-0.2886751345948128,-0.5773502691896257,-0.288675134594813,0.2886751345948128,0.5773502691896257,0.288675134594813,-0.2886751345948128],\\\"type\\\":\\\"scatter\\\",\\\"hoverinfo\\\":\\\"text+x+y\\\",\\\"x\\\":[-0.4999999999999999,0.0,0.4999999999999998,0.4999999999999999,0.0,-0.4999999999999998,-0.4999999999999999]},{\\\"mode\\\":\\\"lines\\\",\\\"line\\\":{\\\"color\\\":\\\"rgb(212,216,227)\\\",\\\"width\\\":5},\\\"hovertext\\\":\\\"<b>v<\\/b><sub>1<\\/sub>\\\",\\\"y\\\":[-0.0,-0.41136206679760834],\\\"type\\\":\\\"scatter\\\",\\\"hoverinfo\\\":\\\"text\\\",\\\"x\\\":[-0.0,-0.2375]},{\\\"mode\\\":\\\"lines\\\",\\\"line\\\":{\\\"color\\\":\\\"rgb(212,216,227)\\\",\\\"width\\\":5},\\\"hovertext\\\":\\\"<b>v<\\/b><sub>2<\\/sub>\\\",\\\"y\\\":[-0.0,-1.0547118733938984e-16],\\\"type\\\":\\\"scatter\\\",\\\"hoverinfo\\\":\\\"text\\\",\\\"x\\\":[0.0,0.4749999999999998]},{\\\"mode\\\":\\\"lines\\\",\\\"line\\\":{\\\"color\\\":\\\"rgb(39,60,117)\\\",\\\"width\\\":6},\\\"hovertext\\\":\\\"<b>v<\\/b><sub>1<\\/sub>\\\",\\\"y\\\":[-0.45466333698683026,-0.8660254037844386],\\\"type\\\":\\\"scatter\\\",\\\"hoverinfo\\\":\\\"text+x+y\\\",\\\"x\\\":[-0.2625,-0.5]},{\\\"mode\\\":\\\"lines\\\",\\\"line\\\":{\\\"color\\\":\\\"rgb(39,60,117)\\\",\\\"width\\\":6},\\\"hovertext\\\":\\\"<b>v<\\/b><sub>2<\\/sub>\\\",\\\"y\\\":[-1.1657341758564142e-16,-2.220446049250313e-16],\\\"type\\\":\\\"scatter\\\",\\\"hoverinfo\\\":\\\"text+x+y\\\",\\\"x\\\":[0.5249999999999998,0.9999999999999999]},{\\\"mode\\\":\\\"lines\\\",\\\"line\\\":{\\\"color\\\":\\\"rgb(242,215,208)\\\",\\\"width\\\":5},\\\"hovertext\\\":\\\"<b>x<\\/b>\\\",\\\"y\\\":[0.0,0.0],\\\"type\\\":\\\"scatter\\\",\\\"hoverinfo\\\":\\\"text\\\",\\\"x\\\":[0.0,0.4749999999999998]},{\\\"mode\\\":\\\"lines\\\",\\\"line\\\":{\\\"color\\\":\\\"rgb(242,215,208)\\\",\\\"width\\\":5},\\\"hovertext\\\":\\\"<b>y<\\/b>\\\",\\\"y\\\":[0.0,0.5523502691896257],\\\"type\\\":\\\"scatter\\\",\\\"hoverinfo\\\":\\\"text\\\",\\\"x\\\":[0.0,0.0]},{\\\"mode\\\":\\\"lines\\\",\\\"line\\\":{\\\"color\\\":\\\"rgb(194,54,22)\\\",\\\"width\\\":6},\\\"hovertext\\\":\\\"<b>x<\\/b>\\\",\\\"y\\\":[0.0,0.0],\\\"type\\\":\\\"scatter\\\",\\\"hoverinfo\\\":\\\"text\\\",\\\"x\\\":[0.5249999999999998,0.6999999999999998]},{\\\"mode\\\":\\\"lines\\\",\\\"line\\\":{\\\"color\\\":\\\"rgb(194,54,22)\\\",\\\"width\\\":6},\\\"hovertext\\\":\\\"<b>y<\\/b>\\\",\\\"y\\\":[0.6023502691896258,0.7773502691896257],\\\"type\\\":\\\"scatter\\\",\\\"hoverinfo\\\":\\\"text\\\",\\\"x\\\":[0.0,0.0]}],{\\\"showlegend\\\":false,\\\"xaxis\\\":{\\\"showgrid\\\":false,\\\"zeroline\\\":false,\\\"tickvals\\\":[],\\\"title\\\":{\\\"text\\\":\\\"\\\"},\\\"showbackground\\\":false,\\\"range\\\":[-1.0666666666666667,1.0666666666666667]},\\\"hovermode\\\":\\\"closest\\\",\\\"paper_bgcolor\\\":\\\"rgba(255, 255, 255, 1)\\\",\\\"template\\\":{\\\"layout\\\":{\\\"coloraxis\\\":{\\\"colorbar\\\":{\\\"ticks\\\":\\\"\\\",\\\"outlinewidth\\\":0}},\\\"xaxis\\\":{\\\"gridcolor\\\":\\\"white\\\",\\\"zerolinewidth\\\":2,\\\"title\\\":{\\\"standoff\\\":15},\\\"ticks\\\":\\\"\\\",\\\"zerolinecolor\\\":\\\"white\\\",\\\"automargin\\\":true,\\\"linecolor\\\":\\\"white\\\"},\\\"hovermode\\\":\\\"closest\\\",\\\"paper_bgcolor\\\":\\\"white\\\",\\\"geo\\\":{\\\"showlakes\\\":true,\\\"showland\\\":true,\\\"landcolor\\\":\\\"#E5ECF6\\\",\\\"bgcolor\\\":\\\"white\\\",\\\"subunitcolor\\\":\\\"white\\\",\\\"lakecolor\\\":\\\"white\\\"},\\\"colorscale\\\":{\\\"sequential\\\":[[0.0,\\\"#0d0887\\\"],[0.1111111111111111,\\\"#46039f\\\"],[0.2222222222222222,\\\"#7201a8\\\"],[0.3333333333333333,\\\"#9c179e\\\"],[0.4444444444444444,\\\"#bd3786\\\"],[0.5555555555555556,\\\"#d8576b\\\"],[0.6666666666666666,\\\"#ed7953\\\"],[0.7777777777777778,\\\"#fb9f3a\\\"],[0.8888888888888888,\\\"#fdca26\\\"],[1.0,\\\"#f0f921\\\"]],\\\"diverging\\\":[[0,\\\"#8e0152\\\"],[0.1,\\\"#c51b7d\\\"],[0.2,\\\"#de77ae\\\"],[0.3,\\\"#f1b6da\\\"],[0.4,\\\"#fde0ef\\\"],[0.5,\\\"#f7f7f7\\\"],[0.6,\\\"#e6f5d0\\\"],[0.7,\\\"#b8e186\\\"],[0.8,\\\"#7fbc41\\\"],[0.9,\\\"#4d9221\\\"],[1,\\\"#276419\\\"]],\\\"sequentialminus\\\":[[0.0,\\\"#0d0887\\\"],[0.1111111111111111,\\\"#46039f\\\"],[0.2222222222222222,\\\"#7201a8\\\"],[0.3333333333333333,\\\"#9c179e\\\"],[0.4444444444444444,\\\"#bd3786\\\"],[0.5555555555555556,\\\"#d8576b\\\"],[0.6666666666666666,\\\"#ed7953\\\"],[0.7777777777777778,\\\"#fb9f3a\\\"],[0.8888888888888888,\\\"#fdca26\\\"],[1.0,\\\"#f0f921\\\"]]},\\\"yaxis\\\":{\\\"gridcolor\\\":\\\"white\\\",\\\"zerolinewidth\\\":2,\\\"title\\\":{\\\"standoff\\\":15},\\\"ticks\\\":\\\"\\\",\\\"zerolinecolor\\\":\\\"white\\\",\\\"automargin\\\":true,\\\"linecolor\\\":\\\"white\\\"},\\\"shapedefaults\\\":{\\\"line\\\":{\\\"color\\\":\\\"#2a3f5f\\\"}},\\\"hoverlabel\\\":{\\\"align\\\":\\\"left\\\"},\\\"mapbox\\\":{\\\"style\\\":\\\"light\\\"},\\\"polar\\\":{\\\"angularaxis\\\":{\\\"gridcolor\\\":\\\"white\\\",\\\"ticks\\\":\\\"\\\",\\\"linecolor\\\":\\\"white\\\"},\\\"bgcolor\\\":\\\"#E5ECF6\\\",\\\"radialaxis\\\":{\\\"gridcolor\\\":\\\"white\\\",\\\"ticks\\\":\\\"\\\",\\\"linecolor\\\":\\\"white\\\"}},\\\"autotypenumbers\\\":\\\"strict\\\",\\\"font\\\":{\\\"color\\\":\\\"#2a3f5f\\\"},\\\"ternary\\\":{\\\"baxis\\\":{\\\"gridcolor\\\":\\\"white\\\",\\\"ticks\\\":\\\"\\\",\\\"linecolor\\\":\\\"white\\\"},\\\"bgcolor\\\":\\\"#E5ECF6\\\",\\\"caxis\\\":{\\\"gridcolor\\\":\\\"white\\\",\\\"ticks\\\":\\\"\\\",\\\"linecolor\\\":\\\"white\\\"},\\\"aaxis\\\":{\\\"gridcolor\\\":\\\"white\\\",\\\"ticks\\\":\\\"\\\",\\\"linecolor\\\":\\\"white\\\"}},\\\"annotationdefaults\\\":{\\\"arrowhead\\\":0,\\\"arrowwidth\\\":1,\\\"arrowcolor\\\":\\\"#2a3f5f\\\"},\\\"plot_bgcolor\\\":\\\"#E5ECF6\\\",\\\"title\\\":{\\\"x\\\":0.05},\\\"scene\\\":{\\\"xaxis\\\":{\\\"gridcolor\\\":\\\"white\\\",\\\"gridwidth\\\":2,\\\"backgroundcolor\\\":\\\"#E5ECF6\\\",\\\"ticks\\\":\\\"\\\",\\\"showbackground\\\":true,\\\"zerolinecolor\\\":\\\"white\\\",\\\"linecolor\\\":\\\"white\\\"},\\\"zaxis\\\":{\\\"gridcolor\\\":\\\"white\\\",\\\"gridwidth\\\":2,\\\"backgroundcolor\\\":\\\"#E5ECF6\\\",\\\"ticks\\\":\\\"\\\",\\\"showbackground\\\":true,\\\"zerolinecolor\\\":\\\"white\\\",\\\"linecolor\\\":\\\"white\\\"},\\\"yaxis\\\":{\\\"gridcolor\\\":\\\"white\\\",\\\"gridwidth\\\":2,\\\"backgroundcolor\\\":\\\"#E5ECF6\\\",\\\"ticks\\\":\\\"\\\",\\\"showbackground\\\":true,\\\"zerolinecolor\\\":\\\"white\\\",\\\"linecolor\\\":\\\"white\\\"}},\\\"colorway\\\":[\\\"#636efa\\\",\\\"#EF553B\\\",\\\"#00cc96\\\",\\\"#ab63fa\\\",\\\"#FFA15A\\\",\\\"#19d3f3\\\",\\\"#FF6692\\\",\\\"#B6E880\\\",\\\"#FF97FF\\\",\\\"#FECB52\\\"]},\\\"data\\\":{\\\"barpolar\\\":[{\\\"type\\\":\\\"barpolar\\\",\\\"marker\\\":{\\\"line\\\":{\\\"color\\\":\\\"#E5ECF6\\\",\\\"width\\\":0.5}}}],\\\"carpet\\\":[{\\\"aaxis\\\":{\\\"gridcolor\\\":\\\"white\\\",\\\"endlinecolor\\\":\\\"#2a3f5f\\\",\\\"minorgridcolor\\\":\\\"white\\\",\\\"startlinecolor\\\":\\\"#2a3f5f\\\",\\\"linecolor\\\":\\\"white\\\"},\\\"type\\\":\\\"carpet\\\",\\\"baxis\\\":{\\\"gridcolor\\\":\\\"white\\\",\\\"endlinecolor\\\":\\\"#2a3f5f\\\",\\\"minorgridcolor\\\":\\\"white\\\",\\\"startlinecolor\\\":\\\"#2a3f5f\\\",\\\"linecolor\\\":\\\"white\\\"}}],\\\"scatterpolar\\\":[{\\\"type\\\":\\\"scatterpolar\\\",\\\"marker\\\":{\\\"colorbar\\\":{\\\"ticks\\\":\\\"\\\",\\\"outlinewidth\\\":0}}}],\\\"parcoords\\\":[{\\\"line\\\":{\\\"colorbar\\\":{\\\"ticks\\\":\\\"\\\",\\\"outlinewidth\\\":0}},\\\"type\\\":\\\"parcoords\\\"}],\\\"scatter\\\":[{\\\"type\\\":\\\"scatter\\\",\\\"marker\\\":{\\\"colorbar\\\":{\\\"ticks\\\":\\\"\\\",\\\"outlinewidth\\\":0}}}],\\\"histogram2dcontour\\\":[{\\\"colorbar\\\":{\\\"ticks\\\":\\\"\\\",\\\"outlinewidth\\\":0},\\\"type\\\":\\\"histogram2dcontour\\\",\\\"colorscale\\\":[[0.0,\\\"#0d0887\\\"],[0.1111111111111111,\\\"#46039f\\\"],[0.2222222222222222,\\\"#7201a8\\\"],[0.3333333333333333,\\\"#9c179e\\\"],[0.4444444444444444,\\\"#bd3786\\\"],[0.5555555555555556,\\\"#d8576b\\\"],[0.6666666666666666,\\\"#ed7953\\\"],[0.7777777777777778,\\\"#fb9f3a\\\"],[0.8888888888888888,\\\"#fdca26\\\"],[1.0,\\\"#f0f921\\\"]]}],\\\"contour\\\":[{\\\"colorbar\\\":{\\\"ticks\\\":\\\"\\\",\\\"outlinewidth\\\":0},\\\"type\\\":\\\"contour\\\",\\\"colorscale\\\":[[0.0,\\\"#0d0887\\\"],[0.1111111111111111,\\\"#46039f\\\"],[0.2222222222222222,\\\"#7201a8\\\"],[0.3333333333333333,\\\"#9c179e\\\"],[0.4444444444444444,\\\"#bd3786\\\"],[0.5555555555555556,\\\"#d8576b\\\"],[0.6666666666666666,\\\"#ed7953\\\"],[0.7777777777777778,\\\"#fb9f3a\\\"],[0.8888888888888888,\\\"#fdca26\\\"],[1.0,\\\"#f0f921\\\"]]}],\\\"scattercarpet\\\":[{\\\"type\\\":\\\"scattercarpet\\\",\\\"marker\\\":{\\\"colorbar\\\":{\\\"ticks\\\":\\\"\\\",\\\"outlinewidth\\\":0}}}],\\\"mesh3d\\\":[{\\\"colorbar\\\":{\\\"ticks\\\":\\\"\\\",\\\"outlinewidth\\\":0},\\\"type\\\":\\\"mesh3d\\\"}],\\\"surface\\\":[{\\\"colorbar\\\":{\\\"ticks\\\":\\\"\\\",\\\"outlinewidth\\\":0},\\\"type\\\":\\\"surface\\\",\\\"colorscale\\\":[[0.0,\\\"#0d0887\\\"],[0.1111111111111111,\\\"#46039f\\\"],[0.2222222222222222,\\\"#7201a8\\\"],[0.3333333333333333,\\\"#9c179e\\\"],[0.4444444444444444,\\\"#bd3786\\\"],[0.5555555555555556,\\\"#d8576b\\\"],[0.6666666666666666,\\\"#ed7953\\\"],[0.7777777777777778,\\\"#fb9f3a\\\"],[0.8888888888888888,\\\"#fdca26\\\"],[1.0,\\\"#f0f921\\\"]]}],\\\"scattermapbox\\\":[{\\\"type\\\":\\\"scattermapbox\\\",\\\"marker\\\":{\\\"colorbar\\\":{\\\"ticks\\\":\\\"\\\",\\\"outlinewidth\\\":0}}}],\\\"scattergeo\\\":[{\\\"type\\\":\\\"scattergeo\\\",\\\"marker\\\":{\\\"colorbar\\\":{\\\"ticks\\\":\\\"\\\",\\\"outlinewidth\\\":0}}}],\\\"histogram\\\":[{\\\"type\\\":\\\"histogram\\\",\\\"marker\\\":{\\\"colorbar\\\":{\\\"ticks\\\":\\\"\\\",\\\"outlinewidth\\\":0}}}],\\\"pie\\\":[{\\\"type\\\":\\\"pie\\\",\\\"automargin\\\":true}],\\\"choropleth\\\":[{\\\"colorbar\\\":{\\\"ticks\\\":\\\"\\\",\\\"outlinewidth\\\":0},\\\"type\\\":\\\"choropleth\\\"}],\\\"heatmapgl\\\":[{\\\"colorbar\\\":{\\\"ticks\\\":\\\"\\\",\\\"outlinewidth\\\":0},\\\"type\\\":\\\"heatmapgl\\\",\\\"colorscale\\\":[[0.0,\\\"#0d0887\\\"],[0.1111111111111111,\\\"#46039f\\\"],[0.2222222222222222,\\\"#7201a8\\\"],[0.3333333333333333,\\\"#9c179e\\\"],[0.4444444444444444,\\\"#bd3786\\\"],[0.5555555555555556,\\\"#d8576b\\\"],[0.6666666666666666,\\\"#ed7953\\\"],[0.7777777777777778,\\\"#fb9f3a\\\"],[0.8888888888888888,\\\"#fdca26\\\"],[1.0,\\\"#f0f921\\\"]]}],\\\"bar\\\":[{\\\"type\\\":\\\"bar\\\",\\\"error_y\\\":{\\\"color\\\":\\\"#2a3f5f\\\"},\\\"error_x\\\":{\\\"color\\\":\\\"#2a3f5f\\\"},\\\"marker\\\":{\\\"line\\\":{\\\"color\\\":\\\"#E5ECF6\\\",\\\"width\\\":0.5}}}],\\\"heatmap\\\":[{\\\"colorbar\\\":{\\\"ticks\\\":\\\"\\\",\\\"outlinewidth\\\":0},\\\"type\\\":\\\"heatmap\\\",\\\"colorscale\\\":[[0.0,\\\"#0d0887\\\"],[0.1111111111111111,\\\"#46039f\\\"],[0.2222222222222222,\\\"#7201a8\\\"],[0.3333333333333333,\\\"#9c179e\\\"],[0.4444444444444444,\\\"#bd3786\\\"],[0.5555555555555556,\\\"#d8576b\\\"],[0.6666666666666666,\\\"#ed7953\\\"],[0.7777777777777778,\\\"#fb9f3a\\\"],[0.8888888888888888,\\\"#fdca26\\\"],[1.0,\\\"#f0f921\\\"]]}],\\\"contourcarpet\\\":[{\\\"colorbar\\\":{\\\"ticks\\\":\\\"\\\",\\\"outlinewidth\\\":0},\\\"type\\\":\\\"contourcarpet\\\"}],\\\"table\\\":[{\\\"type\\\":\\\"table\\\",\\\"header\\\":{\\\"line\\\":{\\\"color\\\":\\\"white\\\"},\\\"fill\\\":{\\\"color\\\":\\\"#C8D4E3\\\"}},\\\"cells\\\":{\\\"line\\\":{\\\"color\\\":\\\"white\\\"},\\\"fill\\\":{\\\"color\\\":\\\"#EBF0F8\\\"}}}],\\\"scatter3d\\\":[{\\\"line\\\":{\\\"colorbar\\\":{\\\"ticks\\\":\\\"\\\",\\\"outlinewidth\\\":0}},\\\"type\\\":\\\"scatter3d\\\",\\\"marker\\\":{\\\"colorbar\\\":{\\\"ticks\\\":\\\"\\\",\\\"outlinewidth\\\":0}}}],\\\"scattergl\\\":[{\\\"type\\\":\\\"scattergl\\\",\\\"marker\\\":{\\\"colorbar\\\":{\\\"ticks\\\":\\\"\\\",\\\"outlinewidth\\\":0}}}],\\\"histogram2d\\\":[{\\\"colorbar\\\":{\\\"ticks\\\":\\\"\\\",\\\"outlinewidth\\\":0},\\\"type\\\":\\\"histogram2d\\\",\\\"colorscale\\\":[[0.0,\\\"#0d0887\\\"],[0.1111111111111111,\\\"#46039f\\\"],[0.2222222222222222,\\\"#7201a8\\\"],[0.3333333333333333,\\\"#9c179e\\\"],[0.4444444444444444,\\\"#bd3786\\\"],[0.5555555555555556,\\\"#d8576b\\\"],[0.6666666666666666,\\\"#ed7953\\\"],[0.7777777777777778,\\\"#fb9f3a\\\"],[0.8888888888888888,\\\"#fdca26\\\"],[1.0,\\\"#f0f921\\\"]]}],\\\"scatterternary\\\":[{\\\"type\\\":\\\"scatterternary\\\",\\\"marker\\\":{\\\"colorbar\\\":{\\\"ticks\\\":\\\"\\\",\\\"outlinewidth\\\":0}}}],\\\"scatterpolargl\\\":[{\\\"type\\\":\\\"scatterpolargl\\\",\\\"marker\\\":{\\\"colorbar\\\":{\\\"ticks\\\":\\\"\\\",\\\"outlinewidth\\\":0}}}]}},\\\"yaxis\\\":{\\\"showgrid\\\":false,\\\"zeroline\\\":false,\\\"tickvals\\\":[],\\\"scaleanchor\\\":\\\"x\\\",\\\"scaleratio\\\":1,\\\"title\\\":{\\\"text\\\":\\\"\\\"},\\\"showbackground\\\":false,\\\"range\\\":[-0.9326920704511052,0.9326920704511052]},\\\"autosize\\\":false,\\\"annotations\\\":[{\\\"arrowcolor\\\":\\\"rgb(39,60,117)\\\",\\\"showarrow\\\":true,\\\"yref\\\":\\\"ay\\\",\\\"arrowsize\\\":0.5,\\\"arrowhead\\\":2,\\\"axref\\\":\\\"x\\\",\\\"y\\\":-0.9093266739736605,\\\"ax\\\":-0.475,\\\"ay\\\":-0.8227241335952167,\\\"ayref\\\":\\\"y\\\",\\\"arrowwidth\\\":6,\\\"xref\\\":\\\"ax\\\",\\\"x\\\":-0.525},{\\\"arrowcolor\\\":\\\"rgb(39,60,117)\\\",\\\"showarrow\\\":true,\\\"yref\\\":\\\"ay\\\",\\\"arrowsize\\\":0.5,\\\"arrowhead\\\":2,\\\"axref\\\":\\\"x\\\",\\\"y\\\":-2.331468351712829e-16,\\\"ax\\\":0.9499999999999998,\\\"ay\\\":-2.1094237467877973e-16,\\\"ayref\\\":\\\"y\\\",\\\"arrowwidth\\\":6,\\\"xref\\\":\\\"ax\\\",\\\"x\\\":1.0499999999999998},{\\\"arrowcolor\\\":\\\"rgb(194,54,22)\\\",\\\"showarrow\\\":true,\\\"yref\\\":\\\"ay\\\",\\\"arrowsize\\\":0.5,\\\"arrowhead\\\":2,\\\"axref\\\":\\\"x\\\",\\\"y\\\":0.0,\\\"ax\\\":0.6499999999999998,\\\"ay\\\":0.0,\\\"ayref\\\":\\\"y\\\",\\\"arrowwidth\\\":6,\\\"xref\\\":\\\"ax\\\",\\\"x\\\":0.7499999999999999},{\\\"arrowcolor\\\":\\\"rgb(194,54,22)\\\",\\\"showarrow\\\":true,\\\"yref\\\":\\\"ay\\\",\\\"arrowsize\\\":0.5,\\\"arrowhead\\\":2,\\\"axref\\\":\\\"x\\\",\\\"y\\\":0.8273502691896257,\\\"ax\\\":0.0,\\\"ay\\\":0.7273502691896256,\\\"ayref\\\":\\\"y\\\",\\\"arrowwidth\\\":6,\\\"xref\\\":\\\"ax\\\",\\\"x\\\":0.0}],\\\"plot_bgcolor\\\":\\\"rgba(255, 255, 255, 1)\\\",\\\"margin\\\":{\\\"l\\\":50,\\\"b\\\":50,\\\"r\\\":50,\\\"t\\\":60},\\\"aspectmode\\\":\\\"data\\\"},{\\\"displaylogo\\\":false,\\\"showLink\\\":false,\\\"editable\\\":false,\\\"responsive\\\":true,\\\"staticPlot\\\":false,\\\"scrollZoom\\\":true}); gd.on(\\\"plotly_hover\\\",(function (data){var filtered_data=WebIO.PlotlyCommands.filterEventData(gd,data,\\\"hover\\\"); return !(filtered_data.isnil) ? (WebIO.setval({\\\"name\\\":\\\"hover\\\",\\\"scope\\\":\\\"3998747366764041265\\\",\\\"id\\\":\\\"1\\\",\\\"type\\\":\\\"observable\\\"},filtered_data.out)) : undefined})); gd.on(\\\"plotly_unhover\\\",(function (){return WebIO.setval({\\\"name\\\":\\\"hover\\\",\\\"scope\\\":\\\"3998747366764041265\\\",\\\"id\\\":\\\"1\\\",\\\"type\\\":\\\"observable\\\"},{})})); gd.on(\\\"plotly_selected\\\",(function (data){var filtered_data=WebIO.PlotlyCommands.filterEventData(gd,data,\\\"selected\\\"); return !(filtered_data.isnil) ? (WebIO.setval({\\\"name\\\":\\\"selected\\\",\\\"scope\\\":\\\"3998747366764041265\\\",\\\"id\\\":\\\"2\\\",\\\"type\\\":\\\"observable\\\"},filtered_data.out)) : undefined})); gd.on(\\\"plotly_deselect\\\",(function (){return WebIO.setval({\\\"name\\\":\\\"selected\\\",\\\"scope\\\":\\\"3998747366764041265\\\",\\\"id\\\":\\\"2\\\",\\\"type\\\":\\\"observable\\\"},{})})); gd.on(\\\"plotly_relayout\\\",(function (data){var filtered_data=WebIO.PlotlyCommands.filterEventData(gd,data,\\\"relayout\\\"); return !(filtered_data.isnil) ? (WebIO.setval({\\\"name\\\":\\\"relayout\\\",\\\"scope\\\":\\\"3998747366764041265\\\",\\\"id\\\":\\\"4\\\",\\\"type\\\":\\\"observable\\\"},filtered_data.out)) : undefined})); return gd.on(\\\"plotly_click\\\",(function (data){var filtered_data=WebIO.PlotlyCommands.filterEventData(gd,data,\\\"click\\\"); return !(filtered_data.isnil) ? (WebIO.setval({\\\"name\\\":\\\"click\\\",\\\"scope\\\":\\\"3998747366764041265\\\",\\\"id\\\":\\\"3\\\",\\\"type\\\":\\\"observable\\\"},filtered_data.out)) : undefined}))}));\\n    (WebIO.importBlock({\\\"data\\\":[{\\\"name\\\":\\\"Plotly\\\",\\\"type\\\":\\\"js\\\",\\\"url\\\":\\\"\\/assetserver\\/b267c3137400db01c304fe886fe6f707be7fdb37-plotly.min.js\\\"},{\\\"name\\\":null,\\\"type\\\":\\\"js\\\",\\\"url\\\":\\\"\\/assetserver\\/020f2e8a4619f2ae880fff9315e6547eef1aff0b-plotly_webio.bundle.js\\\"}],\\\"type\\\":\\\"async_block\\\"})).then((imports) => handler.apply(this, imports));\\n}\\n\"],\"observables\":{\"_toImage\":{\"sync\":false,\"id\":\"8\",\"value\":{}},\"hover\":{\"sync\":false,\"id\":\"1\",\"value\":{}},\"selected\":{\"sync\":false,\"id\":\"2\",\"value\":{}},\"__gd_contents\":{\"sync\":false,\"id\":\"6\",\"value\":{}},\"click\":{\"sync\":false,\"id\":\"3\",\"value\":{}},\"image\":{\"sync\":true,\"id\":\"5\",\"value\":\"\"},\"__get_gd_contents\":{\"sync\":false,\"id\":\"10\",\"value\":\"\"},\"_downloadImage\":{\"sync\":false,\"id\":\"9\",\"value\":{}},\"relayout\":{\"sync\":false,\"id\":\"4\",\"value\":{}},\"_commands\":{\"sync\":false,\"id\":\"7\",\"value\":[]}}},\"children\":[{\"props\":{\"id\":\"plot-3b410761-5ae7-4b79-b2ec-86f77be8b3ad\"},\"nodeType\":\"DOM\",\"type\":\"node\",\"instanceArgs\":{\"namespace\":\"html\",\"tag\":\"div\"},\"children\":[]}]},\n",
       "        window,\n",
       "    );\n",
       "    })()\n",
       "    </script>\n",
       "</div>\n"
      ],
      "text/plain": [
       "data: [\n",
       "  \"scatter with fields hoverinfo, hovertext, line, mode, type, x, and y\",\n",
       "  \"scatter with fields hoverinfo, hovertext, line, mode, type, x, and y\",\n",
       "  \"scatter with fields hoverinfo, hovertext, line, mode, type, x, and y\",\n",
       "  \"scatter with fields hoverinfo, hovertext, line, mode, type, x, and y\",\n",
       "  \"scatter with fields hoverinfo, hovertext, line, mode, type, x, and y\",\n",
       "  \"scatter with fields hoverinfo, hovertext, line, mode, type, x, and y\",\n",
       "  \"scatter with fields hoverinfo, hovertext, line, mode, type, x, and y\",\n",
       "  \"scatter with fields hoverinfo, hovertext, line, mode, type, x, and y\",\n",
       "  \"scatter with fields hoverinfo, hovertext, line, mode, type, x, and y\"\n",
       "]\n",
       "\n",
       "layout: \"layout with fields annotations, aspectmode, autosize, hovermode, margin, paper_bgcolor, plot_bgcolor, showlegend, template, xaxis, and yaxis\"\n",
       "\n"
      ]
     },
     "metadata": {},
     "output_type": "display_data"
    },
    {
     "data": {
      "application/vnd.plotly.v1+json": {
       "config": {
        "displaylogo": false,
        "editable": false,
        "responsive": true,
        "scrollZoom": true,
        "showLink": false,
        "staticPlot": false
       },
       "data": [
        {
         "hoverinfo": "text+x+y",
         "hovertext": "Cell",
         "line": {
          "color": "rgb(47,54,64)",
          "width": 3
         },
         "mode": "lines",
         "type": "scatter",
         "x": [
          2.0943951023931953,
          4.1887902047863905,
          2.094395102393197,
          -2.0943951023931953,
          -4.1887902047863905,
          -2.094395102393197,
          2.0943951023931953
         ],
         "y": [
          -3.627598728468435,
          -8.881784197001252e-16,
          3.627598728468435,
          3.627598728468435,
          8.881784197001252e-16,
          -3.627598728468435,
          -3.627598728468435
         ]
        },
        {
         "hoverinfo": "text",
         "hovertext": "<b>v</b><sub>1</sub>",
         "line": {
          "color": "rgb(212,216,227)",
          "width": 5
         },
         "mode": "lines",
         "type": "scatter",
         "x": [
          0,
          -7.652142901648538e-16
         ],
         "y": [
          0,
          -3.446218792045013
         ]
        },
        {
         "hoverinfo": "text",
         "hovertext": "<b>v</b><sub>2</sub>",
         "line": {
          "color": "rgb(212,216,227)",
          "width": 5
         },
         "mode": "lines",
         "type": "scatter",
         "x": [
          0,
          2.984513020910303
         ],
         "y": [
          0,
          -1.723109396022507
         ]
        },
        {
         "hoverinfo": "text+x+y",
         "hovertext": "<b>v</b><sub>1</sub>",
         "line": {
          "color": "rgb(39,60,117)",
          "width": 6
         },
         "mode": "lines",
         "type": "scatter",
         "x": [
          -8.457631628137857e-16,
          -1.6109774529786396e-15
         ],
         "y": [
          -3.8089786648918564,
          -7.2551974569368705
         ]
        },
        {
         "hoverinfo": "text+x+y",
         "hovertext": "<b>v</b><sub>2</sub>",
         "line": {
          "color": "rgb(39,60,117)",
          "width": 6
         },
         "mode": "lines",
         "type": "scatter",
         "x": [
          3.2986722862692823,
          6.283185307179586
         ],
         "y": [
          -1.9044893324459287,
          -3.627598728468436
         ]
        },
        {
         "hoverinfo": "text",
         "hovertext": "<b>x</b>",
         "line": {
          "color": "rgb(242,215,208)",
          "width": 5
         },
         "mode": "lines",
         "type": "scatter",
         "x": [
          0,
          4.007410268362968
         ],
         "y": [
          0,
          0
         ]
        },
        {
         "hoverinfo": "text",
         "hovertext": "<b>y</b>",
         "line": {
          "color": "rgb(242,215,208)",
          "width": 5
         },
         "mode": "lines",
         "type": "scatter",
         "x": [
          0,
          0
         ],
         "y": [
          0,
          3.446218792045013
         ]
        },
        {
         "hoverinfo": "text",
         "hovertext": "<b>x</b>",
         "line": {
          "color": "rgb(194,54,22)",
          "width": 6
         },
         "mode": "lines",
         "type": "scatter",
         "x": [
          4.370170141209813,
          5.639829696173765
         ],
         "y": [
          0,
          0
         ]
        },
        {
         "hoverinfo": "text",
         "hovertext": "<b>y</b>",
         "line": {
          "color": "rgb(194,54,22)",
          "width": 6
         },
         "mode": "lines",
         "type": "scatter",
         "x": [
          0,
          0
         ],
         "y": [
          3.8089786648918564,
          5.078638219855809
         ]
        }
       ],
       "frames": [],
       "layout": {
        "annotations": [
         {
          "arrowcolor": "rgb(39,60,117)",
          "arrowhead": 2,
          "arrowsize": 0.5,
          "arrowwidth": 6,
          "ax": -1.5304285803297077e-15,
          "axref": "x",
          "ay": -6.892437584090027,
          "ayref": "y",
          "showarrow": true,
          "x": -1.6915263256275716e-15,
          "xref": "ax",
          "y": -7.617957329783714,
          "yref": "ay"
         },
         {
          "arrowcolor": "rgb(39,60,117)",
          "arrowhead": 2,
          "arrowsize": 0.5,
          "arrowwidth": 6,
          "ax": 5.969026041820607,
          "axref": "x",
          "ay": -3.4462187920450145,
          "ayref": "y",
          "showarrow": true,
          "x": 6.5973445725385655,
          "xref": "ax",
          "y": -3.8089786648918578,
          "yref": "ay"
         },
         {
          "arrowcolor": "rgb(194,54,22)",
          "arrowhead": 2,
          "arrowsize": 0.5,
          "arrowwidth": 6,
          "ax": 5.277069823326921,
          "axref": "x",
          "ay": 0,
          "ayref": "y",
          "showarrow": true,
          "x": 6.002589569020608,
          "xref": "ax",
          "y": 0,
          "yref": "ay"
         },
         {
          "arrowcolor": "rgb(194,54,22)",
          "arrowhead": 2,
          "arrowsize": 0.5,
          "arrowwidth": 6,
          "ax": 0,
          "axref": "x",
          "ay": 4.715878347008966,
          "ayref": "y",
          "showarrow": true,
          "x": 0,
          "xref": "ax",
          "y": 5.441398092702652,
          "yref": "ay"
         }
        ],
        "aspectmode": "data",
        "autosize": false,
        "hovermode": "closest",
        "margin": {
         "b": 50,
         "l": 50,
         "r": 50,
         "t": 60
        },
        "paper_bgcolor": "rgba(255, 255, 255, 1)",
        "plot_bgcolor": "rgba(255, 255, 255, 1)",
        "showlegend": false,
        "template": {
         "data": {
          "bar": [
           {
            "error_x": {
             "color": "#2a3f5f"
            },
            "error_y": {
             "color": "#2a3f5f"
            },
            "marker": {
             "line": {
              "color": "#E5ECF6",
              "width": 0.5
             }
            },
            "type": "bar"
           }
          ],
          "barpolar": [
           {
            "marker": {
             "line": {
              "color": "#E5ECF6",
              "width": 0.5
             }
            },
            "type": "barpolar"
           }
          ],
          "carpet": [
           {
            "aaxis": {
             "endlinecolor": "#2a3f5f",
             "gridcolor": "white",
             "linecolor": "white",
             "minorgridcolor": "white",
             "startlinecolor": "#2a3f5f"
            },
            "baxis": {
             "endlinecolor": "#2a3f5f",
             "gridcolor": "white",
             "linecolor": "white",
             "minorgridcolor": "white",
             "startlinecolor": "#2a3f5f"
            },
            "type": "carpet"
           }
          ],
          "choropleth": [
           {
            "colorbar": {
             "outlinewidth": 0,
             "ticks": ""
            },
            "type": "choropleth"
           }
          ],
          "contour": [
           {
            "colorbar": {
             "outlinewidth": 0,
             "ticks": ""
            },
            "colorscale": [
             [
              0,
              "#0d0887"
             ],
             [
              0.1111111111111111,
              "#46039f"
             ],
             [
              0.2222222222222222,
              "#7201a8"
             ],
             [
              0.3333333333333333,
              "#9c179e"
             ],
             [
              0.4444444444444444,
              "#bd3786"
             ],
             [
              0.5555555555555556,
              "#d8576b"
             ],
             [
              0.6666666666666666,
              "#ed7953"
             ],
             [
              0.7777777777777778,
              "#fb9f3a"
             ],
             [
              0.8888888888888888,
              "#fdca26"
             ],
             [
              1,
              "#f0f921"
             ]
            ],
            "type": "contour"
           }
          ],
          "contourcarpet": [
           {
            "colorbar": {
             "outlinewidth": 0,
             "ticks": ""
            },
            "type": "contourcarpet"
           }
          ],
          "heatmap": [
           {
            "colorbar": {
             "outlinewidth": 0,
             "ticks": ""
            },
            "colorscale": [
             [
              0,
              "#0d0887"
             ],
             [
              0.1111111111111111,
              "#46039f"
             ],
             [
              0.2222222222222222,
              "#7201a8"
             ],
             [
              0.3333333333333333,
              "#9c179e"
             ],
             [
              0.4444444444444444,
              "#bd3786"
             ],
             [
              0.5555555555555556,
              "#d8576b"
             ],
             [
              0.6666666666666666,
              "#ed7953"
             ],
             [
              0.7777777777777778,
              "#fb9f3a"
             ],
             [
              0.8888888888888888,
              "#fdca26"
             ],
             [
              1,
              "#f0f921"
             ]
            ],
            "type": "heatmap"
           }
          ],
          "heatmapgl": [
           {
            "colorbar": {
             "outlinewidth": 0,
             "ticks": ""
            },
            "colorscale": [
             [
              0,
              "#0d0887"
             ],
             [
              0.1111111111111111,
              "#46039f"
             ],
             [
              0.2222222222222222,
              "#7201a8"
             ],
             [
              0.3333333333333333,
              "#9c179e"
             ],
             [
              0.4444444444444444,
              "#bd3786"
             ],
             [
              0.5555555555555556,
              "#d8576b"
             ],
             [
              0.6666666666666666,
              "#ed7953"
             ],
             [
              0.7777777777777778,
              "#fb9f3a"
             ],
             [
              0.8888888888888888,
              "#fdca26"
             ],
             [
              1,
              "#f0f921"
             ]
            ],
            "type": "heatmapgl"
           }
          ],
          "histogram": [
           {
            "marker": {
             "colorbar": {
              "outlinewidth": 0,
              "ticks": ""
             }
            },
            "type": "histogram"
           }
          ],
          "histogram2d": [
           {
            "colorbar": {
             "outlinewidth": 0,
             "ticks": ""
            },
            "colorscale": [
             [
              0,
              "#0d0887"
             ],
             [
              0.1111111111111111,
              "#46039f"
             ],
             [
              0.2222222222222222,
              "#7201a8"
             ],
             [
              0.3333333333333333,
              "#9c179e"
             ],
             [
              0.4444444444444444,
              "#bd3786"
             ],
             [
              0.5555555555555556,
              "#d8576b"
             ],
             [
              0.6666666666666666,
              "#ed7953"
             ],
             [
              0.7777777777777778,
              "#fb9f3a"
             ],
             [
              0.8888888888888888,
              "#fdca26"
             ],
             [
              1,
              "#f0f921"
             ]
            ],
            "type": "histogram2d"
           }
          ],
          "histogram2dcontour": [
           {
            "colorbar": {
             "outlinewidth": 0,
             "ticks": ""
            },
            "colorscale": [
             [
              0,
              "#0d0887"
             ],
             [
              0.1111111111111111,
              "#46039f"
             ],
             [
              0.2222222222222222,
              "#7201a8"
             ],
             [
              0.3333333333333333,
              "#9c179e"
             ],
             [
              0.4444444444444444,
              "#bd3786"
             ],
             [
              0.5555555555555556,
              "#d8576b"
             ],
             [
              0.6666666666666666,
              "#ed7953"
             ],
             [
              0.7777777777777778,
              "#fb9f3a"
             ],
             [
              0.8888888888888888,
              "#fdca26"
             ],
             [
              1,
              "#f0f921"
             ]
            ],
            "type": "histogram2dcontour"
           }
          ],
          "mesh3d": [
           {
            "colorbar": {
             "outlinewidth": 0,
             "ticks": ""
            },
            "type": "mesh3d"
           }
          ],
          "parcoords": [
           {
            "line": {
             "colorbar": {
              "outlinewidth": 0,
              "ticks": ""
             }
            },
            "type": "parcoords"
           }
          ],
          "pie": [
           {
            "automargin": true,
            "type": "pie"
           }
          ],
          "scatter": [
           {
            "marker": {
             "colorbar": {
              "outlinewidth": 0,
              "ticks": ""
             }
            },
            "type": "scatter"
           }
          ],
          "scatter3d": [
           {
            "line": {
             "colorbar": {
              "outlinewidth": 0,
              "ticks": ""
             }
            },
            "marker": {
             "colorbar": {
              "outlinewidth": 0,
              "ticks": ""
             }
            },
            "type": "scatter3d"
           }
          ],
          "scattercarpet": [
           {
            "marker": {
             "colorbar": {
              "outlinewidth": 0,
              "ticks": ""
             }
            },
            "type": "scattercarpet"
           }
          ],
          "scattergeo": [
           {
            "marker": {
             "colorbar": {
              "outlinewidth": 0,
              "ticks": ""
             }
            },
            "type": "scattergeo"
           }
          ],
          "scattergl": [
           {
            "marker": {
             "colorbar": {
              "outlinewidth": 0,
              "ticks": ""
             }
            },
            "type": "scattergl"
           }
          ],
          "scattermapbox": [
           {
            "marker": {
             "colorbar": {
              "outlinewidth": 0,
              "ticks": ""
             }
            },
            "type": "scattermapbox"
           }
          ],
          "scatterpolar": [
           {
            "marker": {
             "colorbar": {
              "outlinewidth": 0,
              "ticks": ""
             }
            },
            "type": "scatterpolar"
           }
          ],
          "scatterpolargl": [
           {
            "marker": {
             "colorbar": {
              "outlinewidth": 0,
              "ticks": ""
             }
            },
            "type": "scatterpolargl"
           }
          ],
          "scatterternary": [
           {
            "marker": {
             "colorbar": {
              "outlinewidth": 0,
              "ticks": ""
             }
            },
            "type": "scatterternary"
           }
          ],
          "surface": [
           {
            "colorbar": {
             "outlinewidth": 0,
             "ticks": ""
            },
            "colorscale": [
             [
              0,
              "#0d0887"
             ],
             [
              0.1111111111111111,
              "#46039f"
             ],
             [
              0.2222222222222222,
              "#7201a8"
             ],
             [
              0.3333333333333333,
              "#9c179e"
             ],
             [
              0.4444444444444444,
              "#bd3786"
             ],
             [
              0.5555555555555556,
              "#d8576b"
             ],
             [
              0.6666666666666666,
              "#ed7953"
             ],
             [
              0.7777777777777778,
              "#fb9f3a"
             ],
             [
              0.8888888888888888,
              "#fdca26"
             ],
             [
              1,
              "#f0f921"
             ]
            ],
            "type": "surface"
           }
          ],
          "table": [
           {
            "cells": {
             "fill": {
              "color": "#EBF0F8"
             },
             "line": {
              "color": "white"
             }
            },
            "header": {
             "fill": {
              "color": "#C8D4E3"
             },
             "line": {
              "color": "white"
             }
            },
            "type": "table"
           }
          ]
         },
         "layout": {
          "annotationdefaults": {
           "arrowcolor": "#2a3f5f",
           "arrowhead": 0,
           "arrowwidth": 1
          },
          "autotypenumbers": "strict",
          "coloraxis": {
           "colorbar": {
            "outlinewidth": 0,
            "ticks": ""
           }
          },
          "colorscale": {
           "diverging": [
            [
             0,
             "#8e0152"
            ],
            [
             0.1,
             "#c51b7d"
            ],
            [
             0.2,
             "#de77ae"
            ],
            [
             0.3,
             "#f1b6da"
            ],
            [
             0.4,
             "#fde0ef"
            ],
            [
             0.5,
             "#f7f7f7"
            ],
            [
             0.6,
             "#e6f5d0"
            ],
            [
             0.7,
             "#b8e186"
            ],
            [
             0.8,
             "#7fbc41"
            ],
            [
             0.9,
             "#4d9221"
            ],
            [
             1,
             "#276419"
            ]
           ],
           "sequential": [
            [
             0,
             "#0d0887"
            ],
            [
             0.1111111111111111,
             "#46039f"
            ],
            [
             0.2222222222222222,
             "#7201a8"
            ],
            [
             0.3333333333333333,
             "#9c179e"
            ],
            [
             0.4444444444444444,
             "#bd3786"
            ],
            [
             0.5555555555555556,
             "#d8576b"
            ],
            [
             0.6666666666666666,
             "#ed7953"
            ],
            [
             0.7777777777777778,
             "#fb9f3a"
            ],
            [
             0.8888888888888888,
             "#fdca26"
            ],
            [
             1,
             "#f0f921"
            ]
           ],
           "sequentialminus": [
            [
             0,
             "#0d0887"
            ],
            [
             0.1111111111111111,
             "#46039f"
            ],
            [
             0.2222222222222222,
             "#7201a8"
            ],
            [
             0.3333333333333333,
             "#9c179e"
            ],
            [
             0.4444444444444444,
             "#bd3786"
            ],
            [
             0.5555555555555556,
             "#d8576b"
            ],
            [
             0.6666666666666666,
             "#ed7953"
            ],
            [
             0.7777777777777778,
             "#fb9f3a"
            ],
            [
             0.8888888888888888,
             "#fdca26"
            ],
            [
             1,
             "#f0f921"
            ]
           ]
          },
          "colorway": [
           "#636efa",
           "#EF553B",
           "#00cc96",
           "#ab63fa",
           "#FFA15A",
           "#19d3f3",
           "#FF6692",
           "#B6E880",
           "#FF97FF",
           "#FECB52"
          ],
          "font": {
           "color": "#2a3f5f"
          },
          "geo": {
           "bgcolor": "white",
           "lakecolor": "white",
           "landcolor": "#E5ECF6",
           "showlakes": true,
           "showland": true,
           "subunitcolor": "white"
          },
          "hoverlabel": {
           "align": "left"
          },
          "hovermode": "closest",
          "mapbox": {
           "style": "light"
          },
          "paper_bgcolor": "white",
          "plot_bgcolor": "#E5ECF6",
          "polar": {
           "angularaxis": {
            "gridcolor": "white",
            "linecolor": "white",
            "ticks": ""
           },
           "bgcolor": "#E5ECF6",
           "radialaxis": {
            "gridcolor": "white",
            "linecolor": "white",
            "ticks": ""
           }
          },
          "scene": {
           "xaxis": {
            "backgroundcolor": "#E5ECF6",
            "gridcolor": "white",
            "gridwidth": 2,
            "linecolor": "white",
            "showbackground": true,
            "ticks": "",
            "zerolinecolor": "white"
           },
           "yaxis": {
            "backgroundcolor": "#E5ECF6",
            "gridcolor": "white",
            "gridwidth": 2,
            "linecolor": "white",
            "showbackground": true,
            "ticks": "",
            "zerolinecolor": "white"
           },
           "zaxis": {
            "backgroundcolor": "#E5ECF6",
            "gridcolor": "white",
            "gridwidth": 2,
            "linecolor": "white",
            "showbackground": true,
            "ticks": "",
            "zerolinecolor": "white"
           }
          },
          "shapedefaults": {
           "line": {
            "color": "#2a3f5f"
           }
          },
          "ternary": {
           "aaxis": {
            "gridcolor": "white",
            "linecolor": "white",
            "ticks": ""
           },
           "baxis": {
            "gridcolor": "white",
            "linecolor": "white",
            "ticks": ""
           },
           "bgcolor": "#E5ECF6",
           "caxis": {
            "gridcolor": "white",
            "linecolor": "white",
            "ticks": ""
           }
          },
          "title": {
           "x": 0.05
          },
          "xaxis": {
           "automargin": true,
           "gridcolor": "white",
           "linecolor": "white",
           "ticks": "",
           "title": {
            "standoff": 15
           },
           "zerolinecolor": "white",
           "zerolinewidth": 2
          },
          "yaxis": {
           "automargin": true,
           "gridcolor": "white",
           "linecolor": "white",
           "ticks": "",
           "title": {
            "standoff": 15
           },
           "zerolinecolor": "white",
           "zerolinewidth": 2
          }
         }
        },
        "xaxis": {
         "range": [
          -6.766865137642045,
          6.766865137642045
         ],
         "showbackground": false,
         "showgrid": false,
         "tickvals": [],
         "title": {
          "text": ""
         },
         "zeroline": false
        },
        "yaxis": {
         "range": [
          -7.738877287399329,
          7.738877287399329
         ],
         "scaleanchor": "x",
         "scaleratio": 1,
         "showbackground": false,
         "showgrid": false,
         "tickvals": [],
         "title": {
          "text": ""
         },
         "zeroline": false
        }
       }
      },
      "image/png": "[encoded data removed]",
      "image/svg+xml": [
       "<svg class=\"main-svg\" xmlns=\"http://www.w3.org/2000/svg\" xmlns:xlink=\"http://www.w3.org/1999/xlink\" width=\"700\" height=\"500\" style=\"\" viewBox=\"0 0 700 500\"><rect x=\"0\" y=\"0\" width=\"700\" height=\"500\" style=\"fill: rgb(255, 255, 255); fill-opacity: 1;\"/><defs id=\"defs-bc2488\"><g class=\"clips\"><clipPath id=\"clipbc2488xyplot\" class=\"plotclip\"><rect width=\"600\" height=\"390\"/></clipPath><clipPath class=\"axesclip\" id=\"clipbc2488x\"><rect x=\"50\" y=\"0\" width=\"600\" height=\"500\"/></clipPath><clipPath class=\"axesclip\" id=\"clipbc2488y\"><rect x=\"0\" y=\"60\" width=\"700\" height=\"390\"/></clipPath><clipPath class=\"axesclip\" id=\"clipbc2488xy\"><rect x=\"50\" y=\"60\" width=\"600\" height=\"390\"/></clipPath></g><g class=\"gradients\"/><g class=\"patterns\"/></defs><g class=\"bglayer\"/><g class=\"layer-below\"><g class=\"imagelayer\"/><g class=\"shapelayer\"/></g><g class=\"cartesianlayer\"><g class=\"subplot xy\"><g class=\"layer-subplot\"><g class=\"shapelayer\"/><g class=\"imagelayer\"/></g><g class=\"gridlayer\"><g class=\"x\"/><g class=\"y\"/></g><g class=\"zerolinelayer\"/><path class=\"xlines-below\"/><path class=\"ylines-below\"/><g class=\"overlines-below\"/><g class=\"xaxislayer-below\"/><g class=\"yaxislayer-below\"/><g class=\"overaxes-below\"/><g class=\"plot\" transform=\"translate(50,60)\" clip-path=\"url(#clipbc2488xyplot)\"><g class=\"scatterlayer mlayer\"><g class=\"trace scatter tracecdd023\" style=\"stroke-miterlimit: 2; opacity: 1;\"><g class=\"fills\"/><g class=\"errorbars\"/><g class=\"lines\"><path class=\"js-line\" d=\"M352.77,286.41L405.55,195L352.77,103.59L247.23,103.59L194.45,195L247.23,286.41L352.77,286.41\" style=\"vector-effect: non-scaling-stroke; fill: none; stroke: rgb(47, 54, 64); stroke-opacity: 1; stroke-width: 3px; opacity: 1;\"/></g><g class=\"points\"/><g class=\"text\"/></g><g class=\"trace scatter trace760968\" style=\"stroke-miterlimit: 2; opacity: 1;\"><g class=\"fills\"/><g class=\"errorbars\"/><g class=\"lines\"><path class=\"js-line\" d=\"M300,195L300,281.84\" style=\"vector-effect: non-scaling-stroke; fill: none; stroke: rgb(212, 216, 227); stroke-opacity: 1; stroke-width: 5px; opacity: 1;\"/></g><g class=\"points\"/><g class=\"text\"/></g><g class=\"trace scatter trace758983\" style=\"stroke-miterlimit: 2; opacity: 1;\"><g class=\"fills\"/><g class=\"errorbars\"/><g class=\"lines\"><path class=\"js-line\" d=\"M300,195L375.2,238.42\" style=\"vector-effect: non-scaling-stroke; fill: none; stroke: rgb(212, 216, 227); stroke-opacity: 1; stroke-width: 5px; opacity: 1;\"/></g><g class=\"points\"/><g class=\"text\"/></g><g class=\"trace scatter traceec86e4\" style=\"stroke-miterlimit: 2; opacity: 1;\"><g class=\"fills\"/><g class=\"errorbars\"/><g class=\"lines\"><path class=\"js-line\" d=\"M300,290.98L300,377.81\" style=\"vector-effect: non-scaling-stroke; fill: none; stroke: rgb(39, 60, 117); stroke-opacity: 1; stroke-width: 6px; opacity: 1;\"/></g><g class=\"points\"/><g class=\"text\"/></g><g class=\"trace scatter trace6527dd\" style=\"stroke-miterlimit: 2; opacity: 1;\"><g class=\"fills\"/><g class=\"errorbars\"/><g class=\"lines\"><path class=\"js-line\" d=\"M383.12,242.99L458.32,286.41\" style=\"vector-effect: non-scaling-stroke; fill: none; stroke: rgb(39, 60, 117); stroke-opacity: 1; stroke-width: 6px; opacity: 1;\"/></g><g class=\"points\"/><g class=\"text\"/></g><g class=\"trace scatter tracee1e338\" style=\"stroke-miterlimit: 2; opacity: 1;\"><g class=\"fills\"/><g class=\"errorbars\"/><g class=\"lines\"><path class=\"js-line\" d=\"M300,195L400.98,195\" style=\"vector-effect: non-scaling-stroke; fill: none; stroke: rgb(242, 215, 208); stroke-opacity: 1; stroke-width: 5px; opacity: 1;\"/></g><g class=\"points\"/><g class=\"text\"/></g><g class=\"trace scatter trace7380d0\" style=\"stroke-miterlimit: 2; opacity: 1;\"><g class=\"fills\"/><g class=\"errorbars\"/><g class=\"lines\"><path class=\"js-line\" d=\"M300,195L300,108.16\" style=\"vector-effect: non-scaling-stroke; fill: none; stroke: rgb(242, 215, 208); stroke-opacity: 1; stroke-width: 5px; opacity: 1;\"/></g><g class=\"points\"/><g class=\"text\"/></g><g class=\"trace scatter tracee12ba0\" style=\"stroke-miterlimit: 2; opacity: 1;\"><g class=\"fills\"/><g class=\"errorbars\"/><g class=\"lines\"><path class=\"js-line\" d=\"M410.12,195L442.11,195\" style=\"vector-effect: non-scaling-stroke; fill: none; stroke: rgb(194, 54, 22); stroke-opacity: 1; stroke-width: 6px; opacity: 1;\"/></g><g class=\"points\"/><g class=\"text\"/></g><g class=\"trace scatter tracea7d260\" style=\"stroke-miterlimit: 2; opacity: 1;\"><g class=\"fills\"/><g class=\"errorbars\"/><g class=\"lines\"><path class=\"js-line\" d=\"M300,99.02L300,67.03\" style=\"vector-effect: non-scaling-stroke; fill: none; stroke: rgb(194, 54, 22); stroke-opacity: 1; stroke-width: 6px; opacity: 1;\"/></g><g class=\"points\"/><g class=\"text\"/></g></g></g><g class=\"overplot\"/><path class=\"xlines-above crisp\" d=\"M0,0\" style=\"fill: none;\"/><path class=\"ylines-above crisp\" d=\"M0,0\" style=\"fill: none;\"/><g class=\"overlines-above\"/><g class=\"xaxislayer-above\"/><g class=\"yaxislayer-above\"/><g class=\"overaxes-above\"/></g></g><g class=\"polarlayer\"/><g class=\"ternarylayer\"/><g class=\"geolayer\"/><g class=\"funnelarealayer\"/><g class=\"pielayer\"/><g class=\"iciclelayer\"/><g class=\"treemaplayer\"/><g class=\"sunburstlayer\"/><g class=\"glimages\"/><defs id=\"topdefs-bc2488\"><g class=\"clips\"/></defs><g class=\"layer-above\"><g class=\"imagelayer\"/><g class=\"shapelayer\"/></g><g class=\"infolayer\"><g class=\"g-gtitle\"/><g class=\"g-xtitle\"/><g class=\"g-ytitle\"/><g class=\"annotation\" data-index=\"0\" style=\"opacity: 1;\"><g class=\"annotation-text-g\" transform=\"rotate(0,350,428.67)\"><g class=\"cursor-pointer\" transform=\"translate(347,418)\"><rect class=\"bg\" x=\"0.5\" y=\"0.5\" width=\"6\" height=\"20\" style=\"stroke-width: 1px; stroke: rgb(0, 0, 0); stroke-opacity: 0; fill: rgb(0, 0, 0); fill-opacity: 0;\"/><text class=\"annotation-text\" text-anchor=\"middle\" x=\"3.5625\" y=\"15\" style=\"font-family: 'Open Sans', verdana, arial, sans-serif; font-size: 12px; fill: rgb(42, 63, 95); fill-opacity: 1; white-space: pre;\"> </text></g></g><g class=\"annotation-arrow-g\" style=\"opacity: 1;\"><path d=\"M350,438.67L350,446.95\" style=\"stroke-width: 6px; stroke: rgb(39, 60, 117); stroke-opacity: 1; stroke-dasharray: 0px, 0px, 4.38px, 8.28px;\"/><path d=\"M-3.7,-2.5V2.5L1.3,0Z\" transform=\"translate(350,443.0500183105469)rotate(90)scale(3)\" style=\"fill: rgb(39, 60, 117); stroke-width: 0;\"/></g></g><g class=\"annotation\" data-index=\"1\" style=\"opacity: 1;\"><g class=\"annotation-text-g\" transform=\"rotate(0,500.4,341.84)\"><g class=\"cursor-pointer\" transform=\"translate(497,331)\"><rect class=\"bg\" x=\"0.5\" y=\"0.5\" width=\"6\" height=\"20\" style=\"stroke-width: 1px; stroke: rgb(0, 0, 0); stroke-opacity: 0; fill: rgb(0, 0, 0); fill-opacity: 0;\"/><text class=\"annotation-text\" text-anchor=\"middle\" x=\"3.5625\" y=\"15\" style=\"font-family: 'Open Sans', verdana, arial, sans-serif; font-size: 12px; fill: rgb(42, 63, 95); fill-opacity: 1; white-space: pre;\"> </text></g></g><g class=\"annotation-arrow-g\" style=\"opacity: 1;\"><path d=\"M503.4,343.5710606060606L516.24,350.98\" style=\"stroke-width: 6px; stroke: rgb(39, 60, 117); stroke-opacity: 1; stroke-dasharray: 0px, 0px, 10.9242px, 14.8242px;\"/><path d=\"M-3.7,-2.5V2.5L1.3,0Z\" transform=\"translate(512.8619995117188,349.0308532714844)rotate(29.992124779489266)scale(3)\" style=\"fill: rgb(39, 60, 117); stroke-width: 0;\"/></g></g><g class=\"annotation\" data-index=\"2\" style=\"opacity: 1;\"><g class=\"annotation-text-g\" transform=\"rotate(0,482.97,255)\"><g class=\"cursor-pointer\" transform=\"translate(479,245)\"><rect class=\"bg\" x=\"0.5\" y=\"0.5\" width=\"6\" height=\"20\" style=\"stroke-width: 1px; stroke: rgb(0, 0, 0); stroke-opacity: 0; fill: rgb(0, 0, 0); fill-opacity: 0;\"/><text class=\"annotation-text\" text-anchor=\"middle\" x=\"3.5625\" y=\"15\" style=\"font-family: 'Open Sans', verdana, arial, sans-serif; font-size: 12px; fill: rgb(42, 63, 95); fill-opacity: 1; white-space: pre;\"> </text></g></g><g class=\"annotation-arrow-g\" style=\"opacity: 1;\"><path d=\"M485.97,255L501.25,255\" style=\"stroke-width: 6px; stroke: rgb(194, 54, 22); stroke-opacity: 1; stroke-dasharray: 0px, 0px, 11.38px, 15.28px;\"/><path d=\"M-3.7,-2.5V2.5L1.3,0Z\" transform=\"translate(497.3500061035156,255)scale(3)\" style=\"fill: rgb(194, 54, 22); stroke-width: 0;\"/></g></g><g class=\"annotation\" data-index=\"3\" style=\"opacity: 1;\"><g class=\"annotation-text-g\" transform=\"rotate(0,350,136.17000000000002)\"><g class=\"cursor-pointer\" transform=\"translate(347,126)\"><rect class=\"bg\" x=\"0.5\" y=\"0.5\" width=\"6\" height=\"20\" style=\"stroke-width: 1px; stroke: rgb(0, 0, 0); stroke-opacity: 0; fill: rgb(0, 0, 0); fill-opacity: 0;\"/><text class=\"annotation-text\" text-anchor=\"middle\" x=\"3.5625\" y=\"15\" style=\"font-family: 'Open Sans', verdana, arial, sans-serif; font-size: 12px; fill: rgb(42, 63, 95); fill-opacity: 1; white-space: pre;\"> </text></g></g><g class=\"annotation-arrow-g\" style=\"opacity: 1;\"><path d=\"M350,126.17000000000002L350,117.89\" style=\"stroke-width: 6px; stroke: rgb(194, 54, 22); stroke-opacity: 1; stroke-dasharray: 0px, 0px, 4.38px, 8.28px;\"/><path d=\"M-3.7,-2.5V2.5L1.3,0Z\" transform=\"translate(350,121.79000091552734)rotate(-90)scale(3)\" style=\"fill: rgb(194, 54, 22); stroke-width: 0;\"/></g></g></g></svg>"
      ],
      "text/html": [
       "<div\n",
       "    class=\"webio-mountpoint\"\n",
       "    data-webio-mountpoint=\"9621693477143470266\"\n",
       ">\n",
       "    <script>\n",
       "    (function(){\n",
       "    // Some integrations (namely, IJulia/Jupyter) use an alternate render pathway than\n",
       "    // just putting the html on the page. If WebIO isn't defined, then it's pretty likely\n",
       "    // that we're in one of those situations and the integration just isn't installed\n",
       "    // correctly.\n",
       "    if (typeof window.WebIO === \"undefined\") {\n",
       "        document\n",
       "            .querySelector('[data-webio-mountpoint=\"9621693477143470266\"]')\n",
       "            .innerHTML = (\n",
       "                '<div style=\"padding: 1em; background-color: #f8d6da; border: 1px solid #f5c6cb; font-weight: bold;\">' +\n",
       "                '<p><strong>WebIO not detected.</strong></p>' +\n",
       "                '<p>Please read ' +\n",
       "                '<a href=\"https://juliagizmos.github.io/WebIO.jl/latest/troubleshooting/not-detected/\" target=\"_blank\">the troubleshooting guide</a> ' +\n",
       "                'for more information on how to resolve this issue.</p>' +\n",
       "                '<p><a href=\"https://juliagizmos.github.io/WebIO.jl/latest/troubleshooting/not-detected/\" target=\"_blank\">https://juliagizmos.github.io/WebIO.jl/latest/troubleshooting/not-detected/</a></p>' +\n",
       "                '</div>'\n",
       "            );\n",
       "        return;\n",
       "    }\n",
       "    WebIO.mount(\n",
       "        document.querySelector('[data-webio-mountpoint=\"9621693477143470266\"]'),\n",
       "        {\"props\":{},\"nodeType\":\"Scope\",\"type\":\"node\",\"instanceArgs\":{\"imports\":{\"data\":[{\"name\":\"Plotly\",\"type\":\"js\",\"url\":\"\\/assetserver\\/b267c3137400db01c304fe886fe6f707be7fdb37-plotly.min.js\"},{\"name\":null,\"type\":\"js\",\"url\":\"\\/assetserver\\/020f2e8a4619f2ae880fff9315e6547eef1aff0b-plotly_webio.bundle.js\"}],\"type\":\"async_block\"},\"id\":\"8029072420319997982\",\"handlers\":{\"_toImage\":[\"(function (options){return this.Plotly.toImage(this.plotElem,options).then((function (data){return WebIO.setval({\\\"name\\\":\\\"image\\\",\\\"scope\\\":\\\"8029072420319997982\\\",\\\"id\\\":\\\"15\\\",\\\"type\\\":\\\"observable\\\"},data)}))})\"],\"__get_gd_contents\":[\"(function (prop){prop==\\\"data\\\" ? (WebIO.setval({\\\"name\\\":\\\"__gd_contents\\\",\\\"scope\\\":\\\"8029072420319997982\\\",\\\"id\\\":\\\"16\\\",\\\"type\\\":\\\"observable\\\"},this.plotElem.data)) : undefined; return prop==\\\"layout\\\" ? (WebIO.setval({\\\"name\\\":\\\"__gd_contents\\\",\\\"scope\\\":\\\"8029072420319997982\\\",\\\"id\\\":\\\"16\\\",\\\"type\\\":\\\"observable\\\"},this.plotElem.layout)) : undefined})\"],\"_downloadImage\":[\"(function (options){return this.Plotly.downloadImage(this.plotElem,options)})\"],\"_commands\":[\"(function (args){var fn=args.shift(); var elem=this.plotElem; var Plotly=this.Plotly; args.unshift(elem); return Plotly[fn].apply(this,args)})\"]},\"systemjs_options\":null,\"mount_callbacks\":[\"function () {\\n    var handler = ((function (Plotly,PlotlyWebIO){PlotlyWebIO.init(WebIO); var gd=this.dom.querySelector(\\\"#plot-79f801c1-7403-42eb-a8c2-16ac2eb8c84b\\\"); this.plotElem=gd; this.Plotly=Plotly; (window.Blink!==undefined) ? (gd.style.width=\\\"100%\\\", gd.style.height=\\\"100vh\\\", gd.style.marginLeft=\\\"0%\\\", gd.style.marginTop=\\\"0vh\\\") : undefined; window.onresize=(function (){return Plotly.Plots.resize(gd)}); Plotly.newPlot(gd,[{\\\"mode\\\":\\\"lines\\\",\\\"line\\\":{\\\"color\\\":\\\"rgb(47,54,64)\\\",\\\"width\\\":3},\\\"hovertext\\\":\\\"Cell\\\",\\\"y\\\":[-3.627598728468435,-8.881784197001252e-16,3.627598728468435,3.627598728468435,8.881784197001252e-16,-3.627598728468435,-3.627598728468435],\\\"type\\\":\\\"scatter\\\",\\\"hoverinfo\\\":\\\"text+x+y\\\",\\\"x\\\":[2.0943951023931953,4.1887902047863905,2.094395102393197,-2.0943951023931953,-4.1887902047863905,-2.094395102393197,2.0943951023931953]},{\\\"mode\\\":\\\"lines\\\",\\\"line\\\":{\\\"color\\\":\\\"rgb(212,216,227)\\\",\\\"width\\\":5},\\\"hovertext\\\":\\\"<b>v<\\/b><sub>1<\\/sub>\\\",\\\"y\\\":[-0.0,-3.446218792045013],\\\"type\\\":\\\"scatter\\\",\\\"hoverinfo\\\":\\\"text\\\",\\\"x\\\":[-0.0,-7.652142901648538e-16]},{\\\"mode\\\":\\\"lines\\\",\\\"line\\\":{\\\"color\\\":\\\"rgb(212,216,227)\\\",\\\"width\\\":5},\\\"hovertext\\\":\\\"<b>v<\\/b><sub>2<\\/sub>\\\",\\\"y\\\":[-0.0,-1.723109396022507],\\\"type\\\":\\\"scatter\\\",\\\"hoverinfo\\\":\\\"text\\\",\\\"x\\\":[0.0,2.984513020910303]},{\\\"mode\\\":\\\"lines\\\",\\\"line\\\":{\\\"color\\\":\\\"rgb(39,60,117)\\\",\\\"width\\\":6},\\\"hovertext\\\":\\\"<b>v<\\/b><sub>1<\\/sub>\\\",\\\"y\\\":[-3.8089786648918564,-7.2551974569368705],\\\"type\\\":\\\"scatter\\\",\\\"hoverinfo\\\":\\\"text+x+y\\\",\\\"x\\\":[-8.457631628137857e-16,-1.6109774529786396e-15]},{\\\"mode\\\":\\\"lines\\\",\\\"line\\\":{\\\"color\\\":\\\"rgb(39,60,117)\\\",\\\"width\\\":6},\\\"hovertext\\\":\\\"<b>v<\\/b><sub>2<\\/sub>\\\",\\\"y\\\":[-1.9044893324459287,-3.627598728468436],\\\"type\\\":\\\"scatter\\\",\\\"hoverinfo\\\":\\\"text+x+y\\\",\\\"x\\\":[3.2986722862692823,6.283185307179586]},{\\\"mode\\\":\\\"lines\\\",\\\"line\\\":{\\\"color\\\":\\\"rgb(242,215,208)\\\",\\\"width\\\":5},\\\"hovertext\\\":\\\"<b>x<\\/b>\\\",\\\"y\\\":[0.0,0.0],\\\"type\\\":\\\"scatter\\\",\\\"hoverinfo\\\":\\\"text\\\",\\\"x\\\":[0.0,4.007410268362968]},{\\\"mode\\\":\\\"lines\\\",\\\"line\\\":{\\\"color\\\":\\\"rgb(242,215,208)\\\",\\\"width\\\":5},\\\"hovertext\\\":\\\"<b>y<\\/b>\\\",\\\"y\\\":[0.0,3.446218792045013],\\\"type\\\":\\\"scatter\\\",\\\"hoverinfo\\\":\\\"text\\\",\\\"x\\\":[0.0,0.0]},{\\\"mode\\\":\\\"lines\\\",\\\"line\\\":{\\\"color\\\":\\\"rgb(194,54,22)\\\",\\\"width\\\":6},\\\"hovertext\\\":\\\"<b>x<\\/b>\\\",\\\"y\\\":[0.0,0.0],\\\"type\\\":\\\"scatter\\\",\\\"hoverinfo\\\":\\\"text\\\",\\\"x\\\":[4.370170141209813,5.639829696173765]},{\\\"mode\\\":\\\"lines\\\",\\\"line\\\":{\\\"color\\\":\\\"rgb(194,54,22)\\\",\\\"width\\\":6},\\\"hovertext\\\":\\\"<b>y<\\/b>\\\",\\\"y\\\":[3.8089786648918564,5.078638219855809],\\\"type\\\":\\\"scatter\\\",\\\"hoverinfo\\\":\\\"text\\\",\\\"x\\\":[0.0,0.0]}],{\\\"showlegend\\\":false,\\\"xaxis\\\":{\\\"showgrid\\\":false,\\\"zeroline\\\":false,\\\"tickvals\\\":[],\\\"title\\\":{\\\"text\\\":\\\"\\\"},\\\"showbackground\\\":false,\\\"range\\\":[-6.766865137642045,6.766865137642045]},\\\"hovermode\\\":\\\"closest\\\",\\\"paper_bgcolor\\\":\\\"rgba(255, 255, 255, 1)\\\",\\\"template\\\":{\\\"layout\\\":{\\\"coloraxis\\\":{\\\"colorbar\\\":{\\\"ticks\\\":\\\"\\\",\\\"outlinewidth\\\":0}},\\\"xaxis\\\":{\\\"gridcolor\\\":\\\"white\\\",\\\"zerolinewidth\\\":2,\\\"title\\\":{\\\"standoff\\\":15},\\\"ticks\\\":\\\"\\\",\\\"zerolinecolor\\\":\\\"white\\\",\\\"automargin\\\":true,\\\"linecolor\\\":\\\"white\\\"},\\\"hovermode\\\":\\\"closest\\\",\\\"paper_bgcolor\\\":\\\"white\\\",\\\"geo\\\":{\\\"showlakes\\\":true,\\\"showland\\\":true,\\\"landcolor\\\":\\\"#E5ECF6\\\",\\\"bgcolor\\\":\\\"white\\\",\\\"subunitcolor\\\":\\\"white\\\",\\\"lakecolor\\\":\\\"white\\\"},\\\"colorscale\\\":{\\\"sequential\\\":[[0.0,\\\"#0d0887\\\"],[0.1111111111111111,\\\"#46039f\\\"],[0.2222222222222222,\\\"#7201a8\\\"],[0.3333333333333333,\\\"#9c179e\\\"],[0.4444444444444444,\\\"#bd3786\\\"],[0.5555555555555556,\\\"#d8576b\\\"],[0.6666666666666666,\\\"#ed7953\\\"],[0.7777777777777778,\\\"#fb9f3a\\\"],[0.8888888888888888,\\\"#fdca26\\\"],[1.0,\\\"#f0f921\\\"]],\\\"diverging\\\":[[0,\\\"#8e0152\\\"],[0.1,\\\"#c51b7d\\\"],[0.2,\\\"#de77ae\\\"],[0.3,\\\"#f1b6da\\\"],[0.4,\\\"#fde0ef\\\"],[0.5,\\\"#f7f7f7\\\"],[0.6,\\\"#e6f5d0\\\"],[0.7,\\\"#b8e186\\\"],[0.8,\\\"#7fbc41\\\"],[0.9,\\\"#4d9221\\\"],[1,\\\"#276419\\\"]],\\\"sequentialminus\\\":[[0.0,\\\"#0d0887\\\"],[0.1111111111111111,\\\"#46039f\\\"],[0.2222222222222222,\\\"#7201a8\\\"],[0.3333333333333333,\\\"#9c179e\\\"],[0.4444444444444444,\\\"#bd3786\\\"],[0.5555555555555556,\\\"#d8576b\\\"],[0.6666666666666666,\\\"#ed7953\\\"],[0.7777777777777778,\\\"#fb9f3a\\\"],[0.8888888888888888,\\\"#fdca26\\\"],[1.0,\\\"#f0f921\\\"]]},\\\"yaxis\\\":{\\\"gridcolor\\\":\\\"white\\\",\\\"zerolinewidth\\\":2,\\\"title\\\":{\\\"standoff\\\":15},\\\"ticks\\\":\\\"\\\",\\\"zerolinecolor\\\":\\\"white\\\",\\\"automargin\\\":true,\\\"linecolor\\\":\\\"white\\\"},\\\"shapedefaults\\\":{\\\"line\\\":{\\\"color\\\":\\\"#2a3f5f\\\"}},\\\"hoverlabel\\\":{\\\"align\\\":\\\"left\\\"},\\\"mapbox\\\":{\\\"style\\\":\\\"light\\\"},\\\"polar\\\":{\\\"angularaxis\\\":{\\\"gridcolor\\\":\\\"white\\\",\\\"ticks\\\":\\\"\\\",\\\"linecolor\\\":\\\"white\\\"},\\\"bgcolor\\\":\\\"#E5ECF6\\\",\\\"radialaxis\\\":{\\\"gridcolor\\\":\\\"white\\\",\\\"ticks\\\":\\\"\\\",\\\"linecolor\\\":\\\"white\\\"}},\\\"autotypenumbers\\\":\\\"strict\\\",\\\"font\\\":{\\\"color\\\":\\\"#2a3f5f\\\"},\\\"ternary\\\":{\\\"baxis\\\":{\\\"gridcolor\\\":\\\"white\\\",\\\"ticks\\\":\\\"\\\",\\\"linecolor\\\":\\\"white\\\"},\\\"bgcolor\\\":\\\"#E5ECF6\\\",\\\"caxis\\\":{\\\"gridcolor\\\":\\\"white\\\",\\\"ticks\\\":\\\"\\\",\\\"linecolor\\\":\\\"white\\\"},\\\"aaxis\\\":{\\\"gridcolor\\\":\\\"white\\\",\\\"ticks\\\":\\\"\\\",\\\"linecolor\\\":\\\"white\\\"}},\\\"annotationdefaults\\\":{\\\"arrowhead\\\":0,\\\"arrowwidth\\\":1,\\\"arrowcolor\\\":\\\"#2a3f5f\\\"},\\\"plot_bgcolor\\\":\\\"#E5ECF6\\\",\\\"title\\\":{\\\"x\\\":0.05},\\\"scene\\\":{\\\"xaxis\\\":{\\\"gridcolor\\\":\\\"white\\\",\\\"gridwidth\\\":2,\\\"backgroundcolor\\\":\\\"#E5ECF6\\\",\\\"ticks\\\":\\\"\\\",\\\"showbackground\\\":true,\\\"zerolinecolor\\\":\\\"white\\\",\\\"linecolor\\\":\\\"white\\\"},\\\"zaxis\\\":{\\\"gridcolor\\\":\\\"white\\\",\\\"gridwidth\\\":2,\\\"backgroundcolor\\\":\\\"#E5ECF6\\\",\\\"ticks\\\":\\\"\\\",\\\"showbackground\\\":true,\\\"zerolinecolor\\\":\\\"white\\\",\\\"linecolor\\\":\\\"white\\\"},\\\"yaxis\\\":{\\\"gridcolor\\\":\\\"white\\\",\\\"gridwidth\\\":2,\\\"backgroundcolor\\\":\\\"#E5ECF6\\\",\\\"ticks\\\":\\\"\\\",\\\"showbackground\\\":true,\\\"zerolinecolor\\\":\\\"white\\\",\\\"linecolor\\\":\\\"white\\\"}},\\\"colorway\\\":[\\\"#636efa\\\",\\\"#EF553B\\\",\\\"#00cc96\\\",\\\"#ab63fa\\\",\\\"#FFA15A\\\",\\\"#19d3f3\\\",\\\"#FF6692\\\",\\\"#B6E880\\\",\\\"#FF97FF\\\",\\\"#FECB52\\\"]},\\\"data\\\":{\\\"barpolar\\\":[{\\\"type\\\":\\\"barpolar\\\",\\\"marker\\\":{\\\"line\\\":{\\\"color\\\":\\\"#E5ECF6\\\",\\\"width\\\":0.5}}}],\\\"carpet\\\":[{\\\"aaxis\\\":{\\\"gridcolor\\\":\\\"white\\\",\\\"endlinecolor\\\":\\\"#2a3f5f\\\",\\\"minorgridcolor\\\":\\\"white\\\",\\\"startlinecolor\\\":\\\"#2a3f5f\\\",\\\"linecolor\\\":\\\"white\\\"},\\\"type\\\":\\\"carpet\\\",\\\"baxis\\\":{\\\"gridcolor\\\":\\\"white\\\",\\\"endlinecolor\\\":\\\"#2a3f5f\\\",\\\"minorgridcolor\\\":\\\"white\\\",\\\"startlinecolor\\\":\\\"#2a3f5f\\\",\\\"linecolor\\\":\\\"white\\\"}}],\\\"scatterpolar\\\":[{\\\"type\\\":\\\"scatterpolar\\\",\\\"marker\\\":{\\\"colorbar\\\":{\\\"ticks\\\":\\\"\\\",\\\"outlinewidth\\\":0}}}],\\\"parcoords\\\":[{\\\"line\\\":{\\\"colorbar\\\":{\\\"ticks\\\":\\\"\\\",\\\"outlinewidth\\\":0}},\\\"type\\\":\\\"parcoords\\\"}],\\\"scatter\\\":[{\\\"type\\\":\\\"scatter\\\",\\\"marker\\\":{\\\"colorbar\\\":{\\\"ticks\\\":\\\"\\\",\\\"outlinewidth\\\":0}}}],\\\"histogram2dcontour\\\":[{\\\"colorbar\\\":{\\\"ticks\\\":\\\"\\\",\\\"outlinewidth\\\":0},\\\"type\\\":\\\"histogram2dcontour\\\",\\\"colorscale\\\":[[0.0,\\\"#0d0887\\\"],[0.1111111111111111,\\\"#46039f\\\"],[0.2222222222222222,\\\"#7201a8\\\"],[0.3333333333333333,\\\"#9c179e\\\"],[0.4444444444444444,\\\"#bd3786\\\"],[0.5555555555555556,\\\"#d8576b\\\"],[0.6666666666666666,\\\"#ed7953\\\"],[0.7777777777777778,\\\"#fb9f3a\\\"],[0.8888888888888888,\\\"#fdca26\\\"],[1.0,\\\"#f0f921\\\"]]}],\\\"contour\\\":[{\\\"colorbar\\\":{\\\"ticks\\\":\\\"\\\",\\\"outlinewidth\\\":0},\\\"type\\\":\\\"contour\\\",\\\"colorscale\\\":[[0.0,\\\"#0d0887\\\"],[0.1111111111111111,\\\"#46039f\\\"],[0.2222222222222222,\\\"#7201a8\\\"],[0.3333333333333333,\\\"#9c179e\\\"],[0.4444444444444444,\\\"#bd3786\\\"],[0.5555555555555556,\\\"#d8576b\\\"],[0.6666666666666666,\\\"#ed7953\\\"],[0.7777777777777778,\\\"#fb9f3a\\\"],[0.8888888888888888,\\\"#fdca26\\\"],[1.0,\\\"#f0f921\\\"]]}],\\\"scattercarpet\\\":[{\\\"type\\\":\\\"scattercarpet\\\",\\\"marker\\\":{\\\"colorbar\\\":{\\\"ticks\\\":\\\"\\\",\\\"outlinewidth\\\":0}}}],\\\"mesh3d\\\":[{\\\"colorbar\\\":{\\\"ticks\\\":\\\"\\\",\\\"outlinewidth\\\":0},\\\"type\\\":\\\"mesh3d\\\"}],\\\"surface\\\":[{\\\"colorbar\\\":{\\\"ticks\\\":\\\"\\\",\\\"outlinewidth\\\":0},\\\"type\\\":\\\"surface\\\",\\\"colorscale\\\":[[0.0,\\\"#0d0887\\\"],[0.1111111111111111,\\\"#46039f\\\"],[0.2222222222222222,\\\"#7201a8\\\"],[0.3333333333333333,\\\"#9c179e\\\"],[0.4444444444444444,\\\"#bd3786\\\"],[0.5555555555555556,\\\"#d8576b\\\"],[0.6666666666666666,\\\"#ed7953\\\"],[0.7777777777777778,\\\"#fb9f3a\\\"],[0.8888888888888888,\\\"#fdca26\\\"],[1.0,\\\"#f0f921\\\"]]}],\\\"scattermapbox\\\":[{\\\"type\\\":\\\"scattermapbox\\\",\\\"marker\\\":{\\\"colorbar\\\":{\\\"ticks\\\":\\\"\\\",\\\"outlinewidth\\\":0}}}],\\\"scattergeo\\\":[{\\\"type\\\":\\\"scattergeo\\\",\\\"marker\\\":{\\\"colorbar\\\":{\\\"ticks\\\":\\\"\\\",\\\"outlinewidth\\\":0}}}],\\\"histogram\\\":[{\\\"type\\\":\\\"histogram\\\",\\\"marker\\\":{\\\"colorbar\\\":{\\\"ticks\\\":\\\"\\\",\\\"outlinewidth\\\":0}}}],\\\"pie\\\":[{\\\"type\\\":\\\"pie\\\",\\\"automargin\\\":true}],\\\"choropleth\\\":[{\\\"colorbar\\\":{\\\"ticks\\\":\\\"\\\",\\\"outlinewidth\\\":0},\\\"type\\\":\\\"choropleth\\\"}],\\\"heatmapgl\\\":[{\\\"colorbar\\\":{\\\"ticks\\\":\\\"\\\",\\\"outlinewidth\\\":0},\\\"type\\\":\\\"heatmapgl\\\",\\\"colorscale\\\":[[0.0,\\\"#0d0887\\\"],[0.1111111111111111,\\\"#46039f\\\"],[0.2222222222222222,\\\"#7201a8\\\"],[0.3333333333333333,\\\"#9c179e\\\"],[0.4444444444444444,\\\"#bd3786\\\"],[0.5555555555555556,\\\"#d8576b\\\"],[0.6666666666666666,\\\"#ed7953\\\"],[0.7777777777777778,\\\"#fb9f3a\\\"],[0.8888888888888888,\\\"#fdca26\\\"],[1.0,\\\"#f0f921\\\"]]}],\\\"bar\\\":[{\\\"type\\\":\\\"bar\\\",\\\"error_y\\\":{\\\"color\\\":\\\"#2a3f5f\\\"},\\\"error_x\\\":{\\\"color\\\":\\\"#2a3f5f\\\"},\\\"marker\\\":{\\\"line\\\":{\\\"color\\\":\\\"#E5ECF6\\\",\\\"width\\\":0.5}}}],\\\"heatmap\\\":[{\\\"colorbar\\\":{\\\"ticks\\\":\\\"\\\",\\\"outlinewidth\\\":0},\\\"type\\\":\\\"heatmap\\\",\\\"colorscale\\\":[[0.0,\\\"#0d0887\\\"],[0.1111111111111111,\\\"#46039f\\\"],[0.2222222222222222,\\\"#7201a8\\\"],[0.3333333333333333,\\\"#9c179e\\\"],[0.4444444444444444,\\\"#bd3786\\\"],[0.5555555555555556,\\\"#d8576b\\\"],[0.6666666666666666,\\\"#ed7953\\\"],[0.7777777777777778,\\\"#fb9f3a\\\"],[0.8888888888888888,\\\"#fdca26\\\"],[1.0,\\\"#f0f921\\\"]]}],\\\"contourcarpet\\\":[{\\\"colorbar\\\":{\\\"ticks\\\":\\\"\\\",\\\"outlinewidth\\\":0},\\\"type\\\":\\\"contourcarpet\\\"}],\\\"table\\\":[{\\\"type\\\":\\\"table\\\",\\\"header\\\":{\\\"line\\\":{\\\"color\\\":\\\"white\\\"},\\\"fill\\\":{\\\"color\\\":\\\"#C8D4E3\\\"}},\\\"cells\\\":{\\\"line\\\":{\\\"color\\\":\\\"white\\\"},\\\"fill\\\":{\\\"color\\\":\\\"#EBF0F8\\\"}}}],\\\"scatter3d\\\":[{\\\"line\\\":{\\\"colorbar\\\":{\\\"ticks\\\":\\\"\\\",\\\"outlinewidth\\\":0}},\\\"type\\\":\\\"scatter3d\\\",\\\"marker\\\":{\\\"colorbar\\\":{\\\"ticks\\\":\\\"\\\",\\\"outlinewidth\\\":0}}}],\\\"scattergl\\\":[{\\\"type\\\":\\\"scattergl\\\",\\\"marker\\\":{\\\"colorbar\\\":{\\\"ticks\\\":\\\"\\\",\\\"outlinewidth\\\":0}}}],\\\"histogram2d\\\":[{\\\"colorbar\\\":{\\\"ticks\\\":\\\"\\\",\\\"outlinewidth\\\":0},\\\"type\\\":\\\"histogram2d\\\",\\\"colorscale\\\":[[0.0,\\\"#0d0887\\\"],[0.1111111111111111,\\\"#46039f\\\"],[0.2222222222222222,\\\"#7201a8\\\"],[0.3333333333333333,\\\"#9c179e\\\"],[0.4444444444444444,\\\"#bd3786\\\"],[0.5555555555555556,\\\"#d8576b\\\"],[0.6666666666666666,\\\"#ed7953\\\"],[0.7777777777777778,\\\"#fb9f3a\\\"],[0.8888888888888888,\\\"#fdca26\\\"],[1.0,\\\"#f0f921\\\"]]}],\\\"scatterternary\\\":[{\\\"type\\\":\\\"scatterternary\\\",\\\"marker\\\":{\\\"colorbar\\\":{\\\"ticks\\\":\\\"\\\",\\\"outlinewidth\\\":0}}}],\\\"scatterpolargl\\\":[{\\\"type\\\":\\\"scatterpolargl\\\",\\\"marker\\\":{\\\"colorbar\\\":{\\\"ticks\\\":\\\"\\\",\\\"outlinewidth\\\":0}}}]}},\\\"yaxis\\\":{\\\"showgrid\\\":false,\\\"zeroline\\\":false,\\\"tickvals\\\":[],\\\"scaleanchor\\\":\\\"x\\\",\\\"scaleratio\\\":1,\\\"title\\\":{\\\"text\\\":\\\"\\\"},\\\"showbackground\\\":false,\\\"range\\\":[-7.738877287399329,7.738877287399329]},\\\"autosize\\\":false,\\\"annotations\\\":[{\\\"arrowcolor\\\":\\\"rgb(39,60,117)\\\",\\\"showarrow\\\":true,\\\"yref\\\":\\\"ay\\\",\\\"arrowsize\\\":0.5,\\\"arrowhead\\\":2,\\\"axref\\\":\\\"x\\\",\\\"y\\\":-7.617957329783714,\\\"ax\\\":-1.5304285803297077e-15,\\\"ay\\\":-6.892437584090027,\\\"ayref\\\":\\\"y\\\",\\\"arrowwidth\\\":6,\\\"xref\\\":\\\"ax\\\",\\\"x\\\":-1.6915263256275716e-15},{\\\"arrowcolor\\\":\\\"rgb(39,60,117)\\\",\\\"showarrow\\\":true,\\\"yref\\\":\\\"ay\\\",\\\"arrowsize\\\":0.5,\\\"arrowhead\\\":2,\\\"axref\\\":\\\"x\\\",\\\"y\\\":-3.8089786648918578,\\\"ax\\\":5.969026041820607,\\\"ay\\\":-3.4462187920450145,\\\"ayref\\\":\\\"y\\\",\\\"arrowwidth\\\":6,\\\"xref\\\":\\\"ax\\\",\\\"x\\\":6.5973445725385655},{\\\"arrowcolor\\\":\\\"rgb(194,54,22)\\\",\\\"showarrow\\\":true,\\\"yref\\\":\\\"ay\\\",\\\"arrowsize\\\":0.5,\\\"arrowhead\\\":2,\\\"axref\\\":\\\"x\\\",\\\"y\\\":0.0,\\\"ax\\\":5.277069823326921,\\\"ay\\\":0.0,\\\"ayref\\\":\\\"y\\\",\\\"arrowwidth\\\":6,\\\"xref\\\":\\\"ax\\\",\\\"x\\\":6.002589569020608},{\\\"arrowcolor\\\":\\\"rgb(194,54,22)\\\",\\\"showarrow\\\":true,\\\"yref\\\":\\\"ay\\\",\\\"arrowsize\\\":0.5,\\\"arrowhead\\\":2,\\\"axref\\\":\\\"x\\\",\\\"y\\\":5.441398092702652,\\\"ax\\\":0.0,\\\"ay\\\":4.715878347008966,\\\"ayref\\\":\\\"y\\\",\\\"arrowwidth\\\":6,\\\"xref\\\":\\\"ax\\\",\\\"x\\\":0.0}],\\\"plot_bgcolor\\\":\\\"rgba(255, 255, 255, 1)\\\",\\\"margin\\\":{\\\"l\\\":50,\\\"b\\\":50,\\\"r\\\":50,\\\"t\\\":60},\\\"aspectmode\\\":\\\"data\\\"},{\\\"displaylogo\\\":false,\\\"showLink\\\":false,\\\"editable\\\":false,\\\"responsive\\\":true,\\\"staticPlot\\\":false,\\\"scrollZoom\\\":true}); gd.on(\\\"plotly_hover\\\",(function (data){var filtered_data=WebIO.PlotlyCommands.filterEventData(gd,data,\\\"hover\\\"); return !(filtered_data.isnil) ? (WebIO.setval({\\\"name\\\":\\\"hover\\\",\\\"scope\\\":\\\"8029072420319997982\\\",\\\"id\\\":\\\"11\\\",\\\"type\\\":\\\"observable\\\"},filtered_data.out)) : undefined})); gd.on(\\\"plotly_unhover\\\",(function (){return WebIO.setval({\\\"name\\\":\\\"hover\\\",\\\"scope\\\":\\\"8029072420319997982\\\",\\\"id\\\":\\\"11\\\",\\\"type\\\":\\\"observable\\\"},{})})); gd.on(\\\"plotly_selected\\\",(function (data){var filtered_data=WebIO.PlotlyCommands.filterEventData(gd,data,\\\"selected\\\"); return !(filtered_data.isnil) ? (WebIO.setval({\\\"name\\\":\\\"selected\\\",\\\"scope\\\":\\\"8029072420319997982\\\",\\\"id\\\":\\\"12\\\",\\\"type\\\":\\\"observable\\\"},filtered_data.out)) : undefined})); gd.on(\\\"plotly_deselect\\\",(function (){return WebIO.setval({\\\"name\\\":\\\"selected\\\",\\\"scope\\\":\\\"8029072420319997982\\\",\\\"id\\\":\\\"12\\\",\\\"type\\\":\\\"observable\\\"},{})})); gd.on(\\\"plotly_relayout\\\",(function (data){var filtered_data=WebIO.PlotlyCommands.filterEventData(gd,data,\\\"relayout\\\"); return !(filtered_data.isnil) ? (WebIO.setval({\\\"name\\\":\\\"relayout\\\",\\\"scope\\\":\\\"8029072420319997982\\\",\\\"id\\\":\\\"14\\\",\\\"type\\\":\\\"observable\\\"},filtered_data.out)) : undefined})); return gd.on(\\\"plotly_click\\\",(function (data){var filtered_data=WebIO.PlotlyCommands.filterEventData(gd,data,\\\"click\\\"); return !(filtered_data.isnil) ? (WebIO.setval({\\\"name\\\":\\\"click\\\",\\\"scope\\\":\\\"8029072420319997982\\\",\\\"id\\\":\\\"13\\\",\\\"type\\\":\\\"observable\\\"},filtered_data.out)) : undefined}))}));\\n    (WebIO.importBlock({\\\"data\\\":[{\\\"name\\\":\\\"Plotly\\\",\\\"type\\\":\\\"js\\\",\\\"url\\\":\\\"\\/assetserver\\/b267c3137400db01c304fe886fe6f707be7fdb37-plotly.min.js\\\"},{\\\"name\\\":null,\\\"type\\\":\\\"js\\\",\\\"url\\\":\\\"\\/assetserver\\/020f2e8a4619f2ae880fff9315e6547eef1aff0b-plotly_webio.bundle.js\\\"}],\\\"type\\\":\\\"async_block\\\"})).then((imports) => handler.apply(this, imports));\\n}\\n\"],\"observables\":{\"_toImage\":{\"sync\":false,\"id\":\"18\",\"value\":{}},\"hover\":{\"sync\":false,\"id\":\"11\",\"value\":{}},\"selected\":{\"sync\":false,\"id\":\"12\",\"value\":{}},\"__gd_contents\":{\"sync\":false,\"id\":\"16\",\"value\":{}},\"click\":{\"sync\":false,\"id\":\"13\",\"value\":{}},\"image\":{\"sync\":true,\"id\":\"15\",\"value\":\"\"},\"__get_gd_contents\":{\"sync\":false,\"id\":\"20\",\"value\":\"\"},\"_downloadImage\":{\"sync\":false,\"id\":\"19\",\"value\":{}},\"relayout\":{\"sync\":false,\"id\":\"14\",\"value\":{}},\"_commands\":{\"sync\":false,\"id\":\"17\",\"value\":[]}}},\"children\":[{\"props\":{\"id\":\"plot-79f801c1-7403-42eb-a8c2-16ac2eb8c84b\"},\"nodeType\":\"DOM\",\"type\":\"node\",\"instanceArgs\":{\"namespace\":\"html\",\"tag\":\"div\"},\"children\":[]}]},\n",
       "        window,\n",
       "    );\n",
       "    })()\n",
       "    </script>\n",
       "</div>\n"
      ],
      "text/plain": [
       "data: [\n",
       "  \"scatter with fields hoverinfo, hovertext, line, mode, type, x, and y\",\n",
       "  \"scatter with fields hoverinfo, hovertext, line, mode, type, x, and y\",\n",
       "  \"scatter with fields hoverinfo, hovertext, line, mode, type, x, and y\",\n",
       "  \"scatter with fields hoverinfo, hovertext, line, mode, type, x, and y\",\n",
       "  \"scatter with fields hoverinfo, hovertext, line, mode, type, x, and y\",\n",
       "  \"scatter with fields hoverinfo, hovertext, line, mode, type, x, and y\",\n",
       "  \"scatter with fields hoverinfo, hovertext, line, mode, type, x, and y\",\n",
       "  \"scatter with fields hoverinfo, hovertext, line, mode, type, x, and y\",\n",
       "  \"scatter with fields hoverinfo, hovertext, line, mode, type, x, and y\"\n",
       "]\n",
       "\n",
       "layout: \"layout with fields annotations, aspectmode, autosize, hovermode, margin, paper_bgcolor, plot_bgcolor, showlegend, template, xaxis, and yaxis\"\n",
       "\n"
      ]
     },
     "metadata": {},
     "output_type": "display_data"
    }
   ],
   "source": [
    "# Useful C_3 rotation\n",
    "global const C_3::Matrix{Float64} = [cos(2.0*pi/3.0) -sin(2.0*pi/3.0); sin(2.0*pi/3.0) cos(2.0*pi/3.0)]\n",
    "\n",
    "# Useful C_6 rotation\n",
    "global const C_6::Matrix{Float64} = [cos(pi/3.0) -sin(pi/3.0); sin(pi/3.0) cos(pi/3.0)]\n",
    "\n",
    "\n",
    "# Reciprocal and Direct Lattice   R1 and R2 are the basis vectors in the real space ! \n",
    "global const R1::Vector{Float64} = [-0.5, -0.5 * sqrt(3.0)]\n",
    "global const R2::Vector{Float64} = C_3 * R1\n",
    "global const R3::Vector{Float64} = C_3 * R2;\n",
    "\n",
    "# Now, the reciprocal lattice \n",
    "global const R::Matrix{Float64} = [R1 R2]';\n",
    "global const G::Matrix{Float64} = 2.0 * pi * inv(R');\n",
    "\n",
    "let\n",
    "    print(\"--- Plotting the Wigner-Seitz cell in real space. \\n\")\n",
    "    print(\"\\n\")\n",
    "\n",
    "    As = [R[i, :] for i ∈ 1 : size(R, 1)]\n",
    "    real_wignerseitz = wignerseitz(As)\n",
    "\n",
    "    vertices = real_wignerseitz.verts\n",
    "\n",
    "    print(\"--- Vertices of the real Wigner-Seitz cell (in reduced coordinates): \\n\")\n",
    "    for v ∈ vertices\n",
    "        @printf(\"%10f %10f \\n\", v[1], v[2])\n",
    "    end\n",
    "    print(\"\\n\")\n",
    "\n",
    "    pbzb = PlotlyJS.plot(real_wignerseitz)\n",
    "    display(pbzb)\n",
    "\n",
    "end\n",
    "\n",
    "let\n",
    "    print(\"--- Plotting the Wigner-Seitz cell in reciprocal space. \\n\")\n",
    "    print(\"\\n\")\n",
    "\n",
    "    G1 = G[1, :]; G2 = G[2, :]\n",
    "    Gs = [G[i, :] for i ∈ 1 : size(G, 1)]\n",
    "    recip_wignerseitz = wignerseitz(Gs)\n",
    "\n",
    "    vertices = recip_wignerseitz.verts\n",
    "\n",
    "    # Here, we want the cartesian coordinates of the corners (vertices of the FBZ). We also need the cartesian coordinates of the M point \n",
    "    global cart_v::Vector{Vector{Float64}} = similar(vertices)\n",
    "    for i ∈ 1:size(cart_v, 1)\n",
    "        red_v = vertices[i]\n",
    "        cart_v[i] = red_v[1] * G1 + red_v[2] * G2\n",
    "    end\n",
    "\n",
    "    print(\"--- Vertices of the reciprocal space Wigner-Seitz cell (in reduced coordinates): \\n\")\n",
    "    for v ∈ vertices\n",
    "        @printf(\"%10f %10f \\n\", v[1], v[2])\n",
    "    end\n",
    "    print(\"\\n\")\n",
    "\n",
    "    print(\"--- Vertices of the reciprocal space Wigner-Seitz cell (in cartesian coordinates): \\n\")\n",
    "    for v ∈ cart_v\n",
    "        @printf(\"%10f %10f \\n\", v[1], v[2])\n",
    "    end\n",
    "    print(\"\\n\")\n",
    "\n",
    "    pbzb = PlotlyJS.plot(recip_wignerseitz)\n",
    "    display(pbzb)\n",
    "\n",
    "end"
   ]
  },
  {
   "cell_type": "code",
   "execution_count": 6,
   "metadata": {},
   "outputs": [
    {
     "data": {
      "text/plain": [
       "Dict{String, SVector{2, Float64}} with 3 entries:\n",
       "  \"M\" => [3.14159, 1.8138]\n",
       "  \"Γ\" => [0.0, 0.0]\n",
       "  \"K\" => [4.18879, -8.88178e-16]"
      ]
     },
     "metadata": {},
     "output_type": "display_data"
    }
   ],
   "source": [
    "global const cK::SVector{2, Float64} = SVector{2, Float64}(cart_v[2])\n",
    "global const cK_I::SVector{2, Float64} = @SVector [2.094395, 3.627599]\n",
    "# Now, the K-Points \n",
    "global const high_symmetry_points = Dict{String, SVector{2, Float64}}(\n",
    "    \"K\"=> cK, \n",
    "    \"M\"=> (cK + cK_I) / 2.0,\n",
    "    \"Γ\"=> [0.0, 0.0] \n",
    ")\n"
   ]
  },
  {
   "cell_type": "code",
   "execution_count": 7,
   "metadata": {},
   "outputs": [],
   "source": [
    "struct Params\n",
    "\n",
    "    # we will use unicode characters to name the variables \n",
    "\n",
    "    # Parameters for the upright triangle \n",
    "    t1Δ::Float64\n",
    "    t2Δ::Float64\n",
    "    t3Δ::Float64\n",
    "    # Parameters for the inverted triangle \n",
    "    t1∇::Float64\n",
    "    t2∇::Float64\n",
    "    t3∇::Float64\n",
    "    \n",
    "\n",
    "end\n"
   ]
  },
  {
   "cell_type": "code",
   "execution_count": 40,
   "metadata": {},
   "outputs": [
    {
     "data": {
      "text/plain": [
       "EigensystemHamBreathingKagomeNoSOC (generic function with 1 method)"
      ]
     },
     "metadata": {},
     "output_type": "display_data"
    }
   ],
   "source": [
    "global const T1u  = @SArray ComplexF64[0.0 1.0 0.0; 0.0 0.0 0.0; 0.0 0.0 0.0]\n",
    "global const T2u  = @SArray ComplexF64[0.0 0.0 1.0; 0.0 0.0 0.0; 0.0 0.0 0.0]\n",
    "global const T3u  = @SArray ComplexF64[0.0 0.0 0.0; 0.0 0.0 1.0; 0.0 0.0 0.0];\n",
    "\n",
    "# Implement the Hamiltonian in Nagosa's paper without spin-orbit interaction or magnetism \n",
    "@inline function HamBreathingKagomeNoSOC(k::Vector{Float64}, p::Params)\n",
    "    kx::Float64 = k[1]; ky::Float64 = k[2] \n",
    "    Ham::SMatrix{3, 3, ComplexF64} = -SMatrix{3, 3, ComplexF64}((p.t1Δ + p.t1∇ * exp(im * (0.5 * kx + 0.5 * sqrt(3.0) * ky))) * T1u + (p.t2Δ + p.t2∇ * exp(-im * kx)) * T3u + \n",
    "    (p.t3Δ + p.t3∇ * exp(im * (-0.5 * kx + 0.5 * sqrt(3.0) * ky))) * T2u)\n",
    "    Hermitian(Ham + Ham')\n",
    "end\n",
    "\n",
    "@inline function HamBreathingKagomeNoSOC(k::SVector{2, Float64}, p::Params)\n",
    "    kx::Float64 = k[1]; ky::Float64 = k[2] \n",
    "    Ham::SMatrix{3, 3, ComplexF64} = -SMatrix{3, 3, ComplexF64}((p.t1Δ + p.t1∇ * exp(im * (0.5 * kx + 0.5 * sqrt(3.0) * ky))) * T1u + (p.t2Δ + p.t2∇ * exp(-im * kx)) * T3u + \n",
    "    (p.t3Δ + p.t3∇ * exp(im * (-0.5 * kx + 0.5 * sqrt(3.0) * ky))) * T2u)\n",
    "    Hermitian(Ham + Ham')\n",
    "end\n",
    "\n",
    "\n",
    "@inline function EvalsHamBreathingKagomeNoSOC(k::SVector{2, Float64}, p::Params)\n",
    "    kx::Float64 = k[1]; ky::Float64 = k[2] \n",
    "    Ham::SMatrix{3, 3, ComplexF64} = -SMatrix{3, 3, ComplexF64}((p.t1Δ + p.t1∇ * exp(im * (0.5 * kx + 0.5 * sqrt(3.0) * ky))) * T1u + (p.t2Δ + p.t2∇ * exp(-im * kx)) * T3u + \n",
    "    (p.t3Δ + p.t3∇ * exp(im * (-0.5 * kx + 0.5 * sqrt(3.0) * ky))) * T2u)\n",
    "    eigvals(Hermitian(Ham + Ham'))\n",
    "end\n",
    "\n",
    "@inline function EvalsHamBreathingKagomeNoSOC(k::Vector{Float64}, p::Params)\n",
    "    kx::Float64 = k[1]; ky::Float64 = k[2] \n",
    "    Ham::SMatrix{3, 3, ComplexF64} = -SMatrix{3, 3, ComplexF64}((p.t1Δ + p.t1∇ * exp(im * (0.5 * kx + 0.5 * sqrt(3.0) * ky))) * T1u + (p.t2Δ + p.t2∇ * exp(-im * kx)) * T3u + \n",
    "    (p.t3Δ + p.t3∇ * exp(im * (-0.5 * kx + 0.5 * sqrt(3.0) * ky))) * T2u)\n",
    "    eigvals(Hermitian(Ham + Ham'))\n",
    "end\n",
    "\n",
    "@inline function EigensystemHamBreathingKagomeNoSOC(k::Vector{Float64}, p::Params)\n",
    "    kx::Float64 = k[1]; ky::Float64 = k[2] \n",
    "    Ham::SMatrix{3, 3, ComplexF64} = -SMatrix{3, 3, ComplexF64}((p.t1Δ + p.t1∇ * exp(im * (0.5 * kx + 0.5 * sqrt(3.0) * ky))) * T1u + (p.t2Δ + p.t2∇ * exp(-im * kx)) * T3u + \n",
    "    (p.t3Δ + p.t3∇ * exp(im * (-0.5 * kx + 0.5 * sqrt(3.0) * ky))) * T2u)\n",
    "    eigen(Hermitian(Ham + Ham'))\n",
    "end\n"
   ]
  },
  {
   "cell_type": "markdown",
   "metadata": {},
   "source": [
    "Now, we plot the band structure in four cases. Let label the four models: $m_{111}$, $m^{b}_{111}$, $m_{122}$, and $m_{123}$. \n",
    "1. $m_{111}$: Here we choose $t^{\\Delta / \\nabla}_{i} = t$. This model possesses $\\mathcal{C}_6$ symmetry\n"
   ]
  },
  {
   "cell_type": "code",
   "execution_count": 51,
   "metadata": {},
   "outputs": [
    {
     "data": {
      "image/png": "[encoded data removed]",
      "text/html": [
       "<img width=700 height=600 style='object-fit: contain; height: auto;' src=\"data:image/png;base64, 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\"/>"
      ]
     },
     "metadata": {},
     "output_type": "display_data"
    }
   ],
   "source": [
    "let t_m111::Float64 = 1.0, \n",
    "        tb_m111_Δ::Float64 = 1.2, \n",
    "        tb_m11_∇::Float64 = 1.0\n",
    "\n",
    "\n",
    "    p_m111  = Params(t_m111, t_m111, t_m111, t_m111, t_m111, t_m111)\n",
    "    p_mb111 = Params(tb_m111_Δ, tb_m111_Δ, tb_m111_Δ, tb_m11_∇, tb_m11_∇, tb_m11_∇)\n",
    "\n",
    "    nps::Int64 = 100 \n",
    "\n",
    "    # k points \n",
    "    k_nodes::Vector{SVector{2, Float64}} = [high_symmetry_points[\"Γ\"], \n",
    "                    high_symmetry_points[\"K\"], \n",
    "                    high_symmetry_points[\"M\"], \n",
    "                    high_symmetry_points[\"Γ\"]];\n",
    "    kps::Vector{Vector{Float64}} = interpolate(k_nodes, nps);\n",
    "    kps = [SVector{2, Float64}(v) for v ∈ kps]\n",
    "\n",
    "    # calculation of the x values needed to construct the band structure \n",
    "    xs = Vector{Float64}(undef, nps)\n",
    "    xs[1] = 0.0 \n",
    "    ϵ::Float64 = 0.0 \n",
    "    for ik ∈ 2 : nps\n",
    "        ϵ += norm(kps[ik, :] - kps[ik - 1, :])\n",
    "        xs[ik] = ϵ\n",
    "    end\n",
    "\n",
    "    tick_labels = [L\"\\Gamma\", L\"K\", L\"M\", L\"\\Gamma\"]\n",
    "\n",
    "\n",
    "    eks_m111 = EvalsHamBreathingKagomeNoSOC.(kps, Ref(p_m111)); \n",
    "    eks_mb111 = EvalsHamBreathingKagomeNoSOC.(kps, Ref(p_mb111)); \n",
    "    K = high_symmetry_points[\"K\"]; M = high_symmetry_points[\"M\"]\n",
    "    Kpos        = norm(K); Mpos = norm(K) + norm(M - K);\n",
    "    tick_pos    = [0.0, Kpos, Mpos, xs[end]]\n",
    "\n",
    "    # Now, main plotting code \n",
    "    aspect_ratio = 1.0\n",
    "    f = Figure(size = (700, 600))\n",
    "    ax = Axis(f[1, 1],\n",
    "        aspect = aspect_ratio,\n",
    "        ylabel = L\"E \\ (\\text{eV})\",\n",
    "        yticklabelsize = 26.0,\n",
    "        xticklabelsize = 26.0,\n",
    "        ylabelsize = 26,\n",
    "        xlabelsize = 26,\n",
    "        spinewidth = 2,\n",
    "        limits = (xs[1], xs[end], nothing, nothing),\n",
    "        )\n",
    "    ax.xticks = (tick_pos, tick_labels)\n",
    "\n",
    "\n",
    "    # Line Plots \n",
    "    for i ∈ 1 : 3 \n",
    "        lines!(ax, xs, map(x -> x[i], eks_m111), color = :purple, linewidth = 2.5, label = \"Isotropic model\")\n",
    "        lines!(ax, xs, map(x -> x[i], eks_mb111), color = :red, linewidth = 2.5, linestyle = :dash, label = \"Breathing anisotropy\")\n",
    "    end\n",
    "\n",
    "    hideydecorations!(ax, grid = true, label = false, ticks = false, ticklabels = false)\n",
    "    hidexdecorations!(ax, grid = true, ticks = false, ticklabels = false)\n",
    "    vlines!(ax, [Kpos, Mpos], color = (0, 0, 1, 0.3), linewidth = 3, linestyle = :dash)\n",
    "\n",
    "    # create legends \n",
    "    axislegend(ax, merge = true, unique = true, labelsize = 24)\n",
    "    save(\"bands_weak_breathing_anisotropy.png\", f)\n",
    "    f\n",
    "\n",
    "end"
   ]
  },
  {
   "cell_type": "code",
   "execution_count": 2,
   "metadata": {},
   "outputs": [],
   "source": []
  }
 ],
 "metadata": {
  "kernelspec": {
   "display_name": "Julia 1.11.4",
   "language": "julia",
   "name": "julia-1.11"
  },
  "language_info": {
   "file_extension": ".jl",
   "mimetype": "application/julia",
   "name": "julia",
   "version": "1.11.4"
  }
 },
 "nbformat": 4,
 "nbformat_minor": 2
}
