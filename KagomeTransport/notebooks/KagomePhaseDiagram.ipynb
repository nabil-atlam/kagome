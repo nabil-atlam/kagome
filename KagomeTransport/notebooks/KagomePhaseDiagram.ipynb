{
 "cells": [
  {
   "cell_type": "code",
   "execution_count": 2,
   "metadata": {},
   "outputs": [],
   "source": [
    "using LinearAlgebra;\n",
    "using StaticArrays;\n",
    "using Makie\n",
    "using Makie:Point2f0\n",
    "using CairoMakie\n",
    "using Printf\n",
    "using Symbolics\n"
   ]
  },
  {
   "cell_type": "markdown",
   "metadata": {},
   "source": [
    "## Construction of the Hamiltonian ##"
   ]
  },
  {
   "cell_type": "code",
   "execution_count": 3,
   "metadata": {},
   "outputs": [],
   "source": [
    "# Here, we define the three vectors connecting nearest neighbor Kagome atoms \n",
    "\n",
    "# Useful C_3 rotation\n",
    "global const C_6::Matrix{Float64} = [cos(2.0*pi/3.0) -sin(2.0*pi/3.0); sin(2.0*pi/3.0) cos(2.0*pi/3.0)]\n",
    "global const A1::Vector{Float64} = [1.0, 0.0]\n",
    "global const A2::Vector{Float64} = C_6 * A1\n",
    "global const A3::Vector{Float64} = C_6 * A2; \n"
   ]
  }
 ],
 "metadata": {
  "kernelspec": {
   "display_name": "Julia 1.11.2",
   "language": "julia",
   "name": "julia-1.11"
  },
  "language_info": {
   "file_extension": ".jl",
   "mimetype": "application/julia",
   "name": "julia",
   "version": "1.11.2"
  }
 },
 "nbformat": 4,
 "nbformat_minor": 2
}
