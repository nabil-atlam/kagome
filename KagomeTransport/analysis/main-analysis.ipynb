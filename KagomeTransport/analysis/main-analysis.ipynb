{
 "cells": [
  {
   "cell_type": "markdown",
   "metadata": {},
   "source": [
    "# Main Analysis for the paper "
   ]
  },
  {
   "cell_type": "markdown",
   "metadata": {},
   "source": [
    "### Background: \n",
    "Kagome materials provide an exciting avenues for exploring the physics of correlated electrons and topological phenomena. Recently, a wide range of intriguing physical phenomena has been uncovered in a kagome systems, such as unconventional superconductivity, charge-density wave orders, and magnetism. The interest in kagome systems stems from their unique electronic band structure, which features Dirac cones, Van-Hove singularities, and flat bands. The interplay between nontrivial quantum geometry of the electronic bands and correlations offers the potential to realize novel phases of quantum matter. \n",
    "\n",
    "In recent years, significant research efforts have been devoted to studying the nonlinear transport phenomena driven by the quantum metric,\n",
    "which, together with the berry curvature, forms the real and imaginary components of the quantum geometric tensor, respectively. \n",
    "\n",
    "In this paper, we explore the impact of nontrivial quantum geometry on nonlinear transport in kagome materials. We demonstrate that \n",
    "the nontrivial geometry of the kagome bands influences the nonlinear transport properties in those systems. Specifically, we concentrate on \n",
    "$\\mathcal{P}\\mathcal{T}$ symmetric bilayer systems in which the berry curvature vanishes identically. \n",
    "\n",
    "\n",
    "### Model\n",
    "\n",
    "\\textbf{Monolayer kagome models with broken $C_3$ symmetry} We begin by presenting a model for the kagome lattice that explicitly breaks $C_3$ symmetry. This Symmetry breaking is crucial for realizing a nontrivial quantum-metric based nonlinear response in these systems. \n",
    "The lattice constants are defined as $\\mathbf{t}_1 = -\\begin{pmatrix}\\frac{1}{2} && \\frac{\\sqrt{3}}{2} \\end{pmatrix}$ and $\\mathbf{t}_2 = \\begin{pmatrix}1 && 0 \\end{pmatrix}$. Additionally, we denote $\\mathbf{t}_3 = \\mathbf{t}_1 - \\mathbf{t}_2$ and $k_i = \\mathbf{k}\\cdot \\mathbf{t}_i$. The hopping processes occur within corner-sharing upward triangles, $\\Delta$, and downward inverted triangles, $\\nabla$. The Hamiltonian is expressed as follows: \n",
    "\n",
    "$$\\mathcal{H}_{\\text{1 Layer}; 0} = - \\begin{pmatrix}\n",
    "        0 && t^{\\Delta}_{1} + t^{\\nabla}_{1}e^{-ik_1} && t^{\\Delta}_{3} + t^{\\nabla}_{3}e^{ik_3}\\\\\n",
    "        t^{\\Delta}_{1} + t^{\\nabla}_{1}e^{ik_1} && 0 && t^{\\Delta}_{2} + t^{\\nabla}_{2}e^{-ik_2}\\\\\n",
    "        t^{\\Delta}_{3} + t^{\\nabla}_{3}e^{-ik_3} && t^{\\Delta}_{2} + t^{\\nabla}_{2}e^{ik_2} && 0\n",
    "    \\end{pmatrix}$$\n",
    "\n",
    "To incorporate spin-orbit coupling, the hopping parameters $t^{\\Delta/ \\nabla}_{i}$ are replaced by $2 \\times 2$ matrices in spin space. Specifically, we substitute $t^{\\Delta/ \\nabla}_{i} \\rightarrow \\mathcal{M}^{\\Delta/ \\nabla}_{i} = t^{\\Delta/ \\nabla}_{i} + i \\ \\lambda^{\\Delta/ \\nabla}_{i} \\mathbf{\\sigma}\\cdot \\hat{\\mathbf{d}_i}$ where, $\\hat{\\mathbf{d}_i}$ are unit vectors, and $t^{\\Delta / \\nabla}_{i}$ and $\\lambda^{\\Delta / \\nabla}_{i}$ are nearest neighbor hopping amplitudes and spin-orbit coupling strengths respectively. The vectors $\\hat{\\mathbf{d}_i}$ are determined by the specific nature of the SOC and are chosen such that the spin component coupled to orbital motion is perpendicular to the direction of motion. For the kagome lattice, we have: \n",
    "\n",
    "\n",
    "\\begin{align}\n",
    "\\mathbf{\\hat{d}_1} &= \\cos \\theta \\begin{pmatrix}0 && 0 && 1 \\end{pmatrix} + \\sin \\theta \\begin{pmatrix}\\frac{\\sqrt{3}}{2} && -\\frac{1}{2} && 0 \\end{pmatrix} \\notag \\\\\n",
    "\\mathbf{\\hat{d}_2} &= \\cos \\theta \\begin{pmatrix}0 && 0 && 1 \\end{pmatrix} + \\sin \\theta \\begin{pmatrix}0 && 1 && 0 \\end{pmatrix} \\notag \\\\\n",
    "\\mathbf{\\hat{d}_3} &= \\cos \\theta \\begin{pmatrix}0 && 0 && 1 \\end{pmatrix} + \\sin \\theta \\begin{pmatrix}\\frac{-\\sqrt{3}}{2} && -\\frac{1}{2} && 0 \\end{pmatrix}\n",
    "\\end{align}\n",
    "\n",
    "Taking SOC into account, the Bloch Hamiltonian for a single layer takes the form of a $6 \\times 6$ matrix: \n",
    "\n",
    "\\resizebox{\\columnwidth}{!}{\n",
    "\\begin{equation}\n",
    "    \\mathcal{H}_{\\text{1 Layer}; \\text{SOC}} = \n",
    "    - \\begin{pmatrix}\n",
    "        0 && \\mathcal{M}^{\\Delta \\dagger}_{1} + \\mathcal{M}^{\\nabla \\dagger}_{1}e^{-ik_1} && \\mathcal{M}^{\\Delta}_{3} + \\mathcal{M}^{\\nabla}_{3}e^{ik_3}\\\\\n",
    "        \\mathcal{M}^{\\Delta}_{1} + \\mathcal{M}^{\\nabla}_{1}e^{ik_1} && 0 && \\mathcal{M}^{\\Delta \\dagger}_{2} + \\mathcal{M}^{\\nabla \\dagger}_{2}e^{-ik_2}\\\\\n",
    "        \\mathcal{M}^{\\Delta \\dagger}_{3} + \\mathcal{M}^{\\nabla \\dagger}_{3}e^{-ik_3} && \\mathcal{M}^{\\Delta}_{2} + \\mathcal{M}^{\\nabla}_{2}e^{ik_2} && 0\n",
    "        \\end{pmatrix}\n",
    "\\end{equation}\n",
    "}\n",
    "\n",
    "\\textbf{Monolayer kagome models with broken $C_3$ symmetry and $\\mathcal{P} \\mathcal{T}$-symmetry}:\n",
    "\n",
    "We now present a model for a bilayer system with preserved $\\mathcal{P} \\mathcal{T}$-symmetry while breaking both $\\mathcal{P}$ and $\\mathcal{T}$ individually. Let $\\tau_{\\alpha}$ be the Pauli matrices in layer space. We then modify the previous Hamiltonian by replacing $\\mathcal{M}^{\\Delta/ \\nabla}_{i}$ with $\\mathcal{N}^{\\Delta/ \\nabla}_{i} =  t^{\\Delta/ \\nabla}_{i} + i \\ \\lambda^{\\Delta/ \\nabla}_{i} \\tau_3 \\ \\mathbf{\\sigma}\\cdot \\hat{\\mathbf{d}_i}$. Consequently, the Hamiltonian of the bilayer system becomes a $12 \\times 12$ matrix: \n",
    "\n",
    "\\resizebox{\\columnwidth}{!}{\n",
    "\\begin{equation}\n",
    "    \\mathcal{H}_{\\text{2 Layers}; \\text{SOC}} = \n",
    "    - \\begin{pmatrix}\n",
    "        0 && \\mathcal{N}^{\\Delta \\dagger}_{1} + \\mathcal{N}^{\\nabla \\dagger}_{1}e^{-ik_1} && \\mathcal{N}^{\\Delta}_{3} + \\mathcal{N}^{\\nabla}_{3}e^{ik_3}\\\\\n",
    "        \\mathcal{N}^{\\Delta}_{1} + \\mathcal{N}^{\\nabla}_{1}e^{ik_1} && 0 && \\mathcal{N}^{\\Delta \\dagger}_{2} + \\mathcal{N}^{\\nabla \\dagger}_{2}e^{-ik_2}\\\\\n",
    "        \\mathcal{N}^{\\Delta \\dagger}_{3} + \\mathcal{N}^{\\nabla \\dagger}_{3}e^{-ik_3} && \\mathcal{N}^{\\Delta}_{2} + \\mathcal{N}^{\\nabla}_{2}e^{ik_2} && 0\n",
    "        \\end{pmatrix}\n",
    "\\end{equation}\n",
    "}\n"
   ]
  }
 ],
 "metadata": {
  "kernelspec": {
   "display_name": "Julia 1.11.2",
   "language": "julia",
   "name": "julia-1.11"
  },
  "language_info": {
   "file_extension": ".jl",
   "mimetype": "application/julia",
   "name": "julia",
   "version": "1.11.2"
  }
 },
 "nbformat": 4,
 "nbformat_minor": 2
}
